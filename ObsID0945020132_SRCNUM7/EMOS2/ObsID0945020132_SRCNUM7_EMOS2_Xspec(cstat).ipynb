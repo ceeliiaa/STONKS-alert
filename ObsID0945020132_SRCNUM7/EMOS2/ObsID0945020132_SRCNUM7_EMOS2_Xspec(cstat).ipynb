{
 "cells": [
  {
   "cell_type": "markdown",
   "id": "c521860a-0601-4bc3-b8cc-119c1d638a4c",
   "metadata": {},
   "source": [
    "# ObsID : 0945020132, SRCNUM : 7, Instru : EMOS2\n",
    "**Simbad :** Quasar (COMBO J0333017-275819)\n",
    "https://simbad.cds.unistra.fr/simbad/sim-id?Ident=%40651085&Name=COMBO%20J0333017-275819&submit=submit"
   ]
  },
  {
   "cell_type": "markdown",
   "id": "6696227c-efc8-4234-b61d-7bc42af11c55",
   "metadata": {},
   "source": [
    "## ESASky\n",
    "On ESASky, we observe optically that there are 2 very close sources, a blue one on which the EPIC cursor is placed and a yellow one. https://sky.esa.int/esasky/?target=53.2575%20-27.971638888888886&hips=XMM-Newton+EPIC+color&fov=1&projection=SIN&cooframe=J2000&sci=true&lang=fr\n",
    "\n",
    "**Source bleue :** (most likely source)\n",
    "\n",
    "``EPIC Stack``\n",
    "- Stack Catalogue name : 4XMMs J033301.7-275819\n",
    "- IAU name : 4XMM J033301.6-275818\n",
    "- RA : 03h 33m 01.706s\n",
    "- DEC : -27° 58' 19.02\"\n",
    "- Flux : 7.916E-14 ergs/cm^2/s\n",
    "\n",
    "``GAIA``\n",
    "- Designation : Gaia DR3 5057482939190327168\n",
    "- RA : 03h 33m 01.709s\n",
    "- DEC : -27° 58' 18.91\"\n",
    "- Parallax : 2.4442 mas\n",
    "- G (mag) : 20.5353\n",
    "\n",
    "**Source jaune :** (source la moins probable)\n",
    "\n",
    "``GLADE``\n",
    "- Numero : 1 689 423\n",
    "- RA : 03h 33m 01.008s\n",
    "- DEC : -27° 58' 08.72\"\n",
    "- DLC : 5124.4652 Mpc\n",
    "\n",
    "``2MASS``\n",
    "- Name : 03330155-2758115\n",
    "- RA : 03h 33m 01.555s\n",
    "- DEC : -27° 58' 11.52\"\n",
    "\n",
    "``GAIA``\n",
    "- Designation : Gaia DR3 5057482943486276480\n",
    "- RA : 03h 33m 01.560s\n",
    "- DEC : -27° 58' 11.49\"\n",
    "- Parallax : 1.469 mas\n",
    "- G (mag) : 16.1475"
   ]
  },
  {
   "cell_type": "code",
   "execution_count": 1,
   "id": "a601bb92-6ab6-4642-bab7-b8cb9c6656a1",
   "metadata": {},
   "outputs": [],
   "source": [
    "from xspec import *\n",
    "from stingray import Lightcurve\n",
    "from astropy.io import fits\n",
    "import matplotlib.pyplot as plt\n",
    "import matplotlib.image as mpimg\n",
    "import glob\n",
    "import numpy as np\n",
    "\n",
    "class color:\n",
    "   PURPLE = '\\033[95m'\n",
    "   CYAN = '\\033[96m'\n",
    "   DARKCYAN = '\\033[36m'\n",
    "   BLUE = '\\033[94m'\n",
    "   GREEN = '\\033[92m'\n",
    "   YELLOW = '\\033[93m'\n",
    "   RED = '\\033[91m'\n",
    "   BOLD = '\\033[1m'\n",
    "   UNDERLINE = '\\033[4m'\n",
    "   END = '\\033[0m'\n",
    "\n",
    "plt.rcParams['figure.figsize'] = [12,7]"
   ]
  },
  {
   "cell_type": "markdown",
   "id": "2d7f4c8e-12c1-4d3e-a364-9d7d96662e5a",
   "metadata": {},
   "source": [
    "### Redshift"
   ]
  },
  {
   "cell_type": "code",
   "execution_count": 3,
   "id": "0456c39e-4c72-4e83-928b-b1cb247a1144",
   "metadata": {},
   "outputs": [
    {
     "name": "stdout",
     "output_type": "stream",
     "text": [
      "Redshift : z = 1.196536318468692\n"
     ]
    }
   ],
   "source": [
    "def redshift(d_Mpc):\n",
    "    H0 = 70 # Hubble constant (km/s/Mpc)\n",
    "    c = 299792.458 # km/s\n",
    "    return H0*d_Mpc/c\n",
    "\n",
    "z = redshift(5124.4652)\n",
    "print(\"Redshift : z =\", z)"
   ]
  },
  {
   "cell_type": "markdown",
   "id": "2dab6cfc-31c3-49c4-ba98-e4fce308b1f7",
   "metadata": {},
   "source": [
    "## Fit statistic"
   ]
  },
  {
   "cell_type": "code",
   "execution_count": 4,
   "id": "331e8bbe-349e-4484-97bf-54ccf025d8b2",
   "metadata": {},
   "outputs": [
    {
     "name": "stdout",
     "output_type": "stream",
     "text": [
      "Default fit statistic is set to: C-Statistic\n",
      "   This will apply to all current and newly loaded spectra.\n",
      "Parameter delta values for fits will now be 0.0001 * parValue\n"
     ]
    }
   ],
   "source": [
    "Fit.statMethod = \"cstat\"\n",
    "Fit.nIterations = 100000\n",
    "Fit.delta = 1e-4\n",
    "Fit.criticalDelta = 1e-4"
   ]
  },
  {
   "cell_type": "markdown",
   "id": "b85634ff-4651-4d32-a174-f1d39885fed5",
   "metadata": {},
   "source": [
    "## Load files"
   ]
  },
  {
   "cell_type": "code",
   "execution_count": 5,
   "id": "25ca4d52-e55a-4c39-ad50-96131b633c98",
   "metadata": {},
   "outputs": [
    {
     "name": "stdout",
     "output_type": "stream",
     "text": [
      "***Warning: Detected response matrix energy bin value = 0 (or neg).\n",
      "     XSPEC will instead use small finite value (response file will not be altered).\n",
      "\n",
      "1 spectrum  in use\n",
      " \n",
      "Spectral Data File: ObsID0945020132_SRCNUM7_EMOS2_spectrum_grp_cstat.fits  Spectrum 1\n",
      "Net count rate (cts/s) for Spectrum:1  3.772e-03 +/- 8.480e-04 (65.5 % total)\n",
      " Assigned to Data Group 1 and Plot Group 1\n",
      "  Noticed Channels:  1-47\n",
      "  Telescope: XMM Instrument: EMOS2  Channel Type: PI\n",
      "  Exposure Time: 8682 sec\n",
      " Using fit statistic: cstat\n",
      " Using Background File                ObsID0945020132_SRCNUM7_EMOS2_background_spectrum.fits\n",
      "  Background Exposure Time: 8682 sec\n",
      " Using Response (RMF) File            ObsID0945020132_SRCNUM7_EMOS2.rmf for Source 1\n",
      " Using Auxiliary Response (ARF) File  ObsID0945020132_SRCNUM7_EMOS2.arf\n",
      "\n"
     ]
    }
   ],
   "source": [
    "AllData.clear()\n",
    "spec = Spectrum(glob.glob('ObsID*_SRCNUM*_E*_spectrum_grp_cstat.fits')[0])"
   ]
  },
  {
   "cell_type": "code",
   "execution_count": 3,
   "id": "cf5e484c-7eea-4ea4-b394-615a08f4c088",
   "metadata": {},
   "outputs": [
    {
     "name": "stdout",
     "output_type": "stream",
     "text": [
      "Number of counts = 32.748504000000004\n",
      "\n",
      "The low number of counts indicates that we should consider using cstat fit statistic instead of chi statistic.\n"
     ]
    }
   ],
   "source": [
    "n_cts = 8682*3.772e-03\n",
    "\n",
    "print(\"Number of counts =\",n_cts)\n",
    "\n",
    "if int(n_cts)<100:\n",
    "    print()\n",
    "    print(\"The low number of counts indicates that we should consider using cstat fit statistic instead of chi statistic.\")"
   ]
  },
  {
   "cell_type": "markdown",
   "id": "5a7f64d0-bd38-43a6-97c1-6aa24c4acf4f",
   "metadata": {},
   "source": [
    "## Plot spectrum"
   ]
  },
  {
   "cell_type": "code",
   "execution_count": 6,
   "id": "d896628f-3031-4e70-a298-378e023649f1",
   "metadata": {},
   "outputs": [
    {
     "name": "stdout",
     "output_type": "stream",
     "text": [
      "     3 channels (1-3) ignored in spectrum #     1\n",
      "      No channels ignored (no channels in specified range)\n",
      "\n"
     ]
    }
   ],
   "source": [
    "Plot.xAxis=\"keV\"\n",
    "Plot.device = \"/xs\"\n",
    "Plot.xLog=True\n",
    "Plot.yLog=True\n",
    "Plot.addCommand(\"Rescale Y 0.00000001 0.05\")\n",
    "Plot(\"data\")\n",
    "spec.ignore(\"**-0.2 12.0-**\")"
   ]
  },
  {
   "cell_type": "code",
   "execution_count": 5,
   "id": "9c969a35-f1e5-4704-ab87-c986550b4334",
   "metadata": {},
   "outputs": [
    {
     "data": {
      "text/plain": [
       "(-0.5, 856.5, 661.5, -0.5)"
      ]
     },
     "execution_count": 5,
     "metadata": {},
     "output_type": "execute_result"
    },
    {
     "data": {
      "image/png": "[encoded data removed]",
      "text/plain": [
       "<Figure size 1200x700 with 1 Axes>"
      ]
     },
     "metadata": {},
     "output_type": "display_data"
    }
   ],
   "source": [
    "img = plt.imread(glob.glob(\"ObsID*SRCNUM*E*Spectrum.png\")[0])\n",
    "plt.imshow(img)\n",
    "plt.axis('off')"
   ]
  },
  {
   "cell_type": "markdown",
   "id": "98519803-5052-4cb4-bfe7-7dad39416519",
   "metadata": {},
   "source": [
    "### Black body model\n",
    "**tbabs :**"
   ]
  },
  {
   "cell_type": "code",
   "execution_count": 7,
   "id": "966fd3d3-a5fa-45c3-ba1f-64213f98648b",
   "metadata": {},
   "outputs": [
    {
     "name": "stdout",
     "output_type": "stream",
     "text": [
      "\n",
      "========================================================================\n",
      "Model TBabs<1>*bbody<2> Source No.: 1   Active/On\n",
      "Model Model Component  Parameter  Unit     Value\n",
      " par  comp\n",
      "   1    1   TBabs      nH         10^22    1.00000      +/-  0.0          \n",
      "   2    2   bbody      kT         keV      3.00000      +/-  0.0          \n",
      "   3    2   bbody      norm                1.00000      +/-  0.0          \n",
      "________________________________________________________________________\n",
      "\n",
      "tbvabs Version 2.3\n",
      "Cosmic absorption with grains and H2, modified from\n",
      "Wilms, Allen, & McCray, 2000, ApJ 542, 914-924\n",
      "Questions: Joern Wilms\n",
      "joern.wilms@sternwarte.uni-erlangen.de\n",
      "joern.wilms@fau.de\n",
      "\n",
      "http://pulsar.sternwarte.uni-erlangen.de/wilms/research/tbabs/\n",
      "\n",
      "PLEASE NOTICE:\n",
      "To get the model described by the above paper\n",
      "you will also have to set the abundances:\n",
      "   abund wilm\n",
      "\n",
      "Note that this routine ignores the current cross section setting\n",
      "as it always HAS to use the Verner cross sections as a baseline.\n",
      "\n",
      "Fit statistic  : C-Statistic              8.412072e+06     using 44 bins.\n",
      "\n",
      "Test statistic : Chi-Squared              1.361245e+12     using 44 bins.\n",
      " Null hypothesis probability of 0.000000e+00 with 41 degrees of freedom\n",
      " Current data and model not fit yet.\n",
      "\n",
      "Fit statistic  : C-Statistic                495.8920     using 44 bins.\n",
      "\n",
      "Test statistic : Chi-Squared                7031.021     using 44 bins.\n",
      " Null hypothesis probability of 0.000e+00 with 41 degrees of freedom\n",
      " Current data and model not fit yet.\n",
      "                                   Parameters\n",
      "C-Statistic  |beta|/N    Lvl          1:nH          2:kT        3:norm\n",
      "66.5378      1.2521e+06   -3      0.418063       1.03782   2.37448e-06\n",
      "45.1721      4.10955e+06  -4     0.0827530       1.77749   1.14139e-06\n",
      "44.1843      638626        0     0.0162134       1.70422   1.10051e-06\n",
      "43.4813      686543        0    0.00272070       1.61938   1.06578e-06\n",
      "43.1118      671673        0    0.00126812       1.55908   1.02479e-06\n",
      "42.7508      690836        0   0.000581176       1.50035   9.85448e-07\n",
      "42.3445      696032        0   0.000232206       1.44467   9.64842e-07\n",
      "42.0356      630496        0   6.34475e-05       1.39686   9.37908e-07\n",
      "41.7781      609645        0   2.25216e-05       1.35423   9.09705e-07\n",
      "41.552       610998        0   2.63234e-06       1.31553   8.82538e-07\n",
      "41.3502      622813        0   2.12836e-07       1.28027   8.57359e-07\n",
      "41.1688      639510        0   6.55180e-08       1.24813   8.34488e-07\n",
      "41.0062      658047        0   2.95999e-08       1.21896   8.13958e-07\n",
      "40.8612      677025        0   1.20646e-08       1.19260   7.95675e-07\n",
      "40.7323      695563        0   3.49354e-09       1.16885   7.79471e-07\n",
      "40.6182      713160        0   1.39604e-09       1.14753   7.65157e-07\n",
      "40.5177      729639        0   3.68020e-10       1.12846   7.52545e-07\n",
      "40.4296      744886        0   1.15697e-10       1.11146   7.41446e-07\n",
      "40.3526      758962        0   5.37173e-11       1.09633   7.31681e-07\n",
      "40.285       771885        0   2.32372e-11       1.08287   7.23125e-07\n",
      "40.2251      783407        0   8.19905e-12       1.07087   7.15690e-07\n",
      "40.1736      792908        0   8.08706e-13       1.06034   7.09201e-07\n",
      "40.1725      794159        0   1.11179e-13       1.05653   7.03358e-07\n",
      "40.0429      826454        0   3.78594e-14       1.04087   7.06238e-07\n",
      "39.9791      699065        0   1.79646e-14       1.03420   7.10932e-07\n",
      "39.9284      610333        0   7.56665e-15       1.02833   7.14821e-07\n",
      "39.8318      534201        0   2.20949e-15       1.01185   7.15498e-07\n",
      "39.7789      415927       -1   9.91384e-16      0.994610   7.01105e-07\n",
      "39.5681      436796       -2   3.23661e-16      0.931089   6.89293e-07\n",
      "39.5301      82092.3      -3   1.22997e-16      0.902609   6.73146e-07\n",
      "39.53        25942.1       1   4.34265e-17      0.902541   6.73144e-07\n",
      "========================================\n",
      " Variances and Principal Axes\n",
      "                 1        2        3  \n",
      " 2.9915E-14| -0.0000  -0.0000   1.0000  \n",
      " 1.2002E-03| -0.9993  -0.0372  -0.0000  \n",
      " 3.3660E-02|  0.0372  -0.9993  -0.0000  \n",
      "----------------------------------------\n",
      "\n",
      "====================================\n",
      "  Covariance Matrix\n",
      "        1           2           3   \n",
      "   1.245e-03  -1.205e-03   1.714e-10\n",
      "  -1.205e-03   3.362e-02   2.477e-08\n",
      "   1.714e-10   2.477e-08   4.910e-14\n",
      "------------------------------------\n",
      "\n",
      "========================================================================\n",
      "Model TBabs<1>*bbody<2> Source No.: 1   Active/On\n",
      "Model Model Component  Parameter  Unit     Value\n",
      " par  comp\n",
      "   1    1   TBabs      nH         10^22    4.34265E-17  +/-  3.52851E-02  \n",
      "   2    2   bbody      kT         keV      0.902541     +/-  0.183344     \n",
      "   3    2   bbody      norm                6.73144E-07  +/-  2.21579E-07  \n",
      "________________________________________________________________________\n",
      "\n",
      "\n",
      "Fit statistic  : C-Statistic                 39.5300     using 44 bins.\n",
      "\n",
      "Test statistic : Chi-Squared                 27.9610     using 44 bins.\n",
      " Null hypothesis probability of 9.3983e-01 with 41 degrees of freedom\n",
      " Model Flux  1.43e-05 photons (5.6325e-14 ergs/cm^2/s) range (0.20000 - 12.000 keV)\n"
     ]
    }
   ],
   "source": [
    "AllModels.clear()\n",
    "mo = Model(\"tbabs*bbody\")\n",
    "mo.bbody.norm = 7.30863e-05\n",
    "Fit.perform()\n",
    "Plot.device = \"/xs\"\n",
    "Plot(\"data resid\")\n",
    "nH_bbody = mo.TBabs.nH.values[0]\n",
    "AllModels.calcFlux(\".2 12.0\")"
   ]
  },
  {
   "cell_type": "code",
   "execution_count": 7,
   "id": "221efcce-ba79-4fd2-af2d-84559b404525",
   "metadata": {},
   "outputs": [
    {
     "data": {
      "text/plain": [
       "(-0.5, 856.5, 661.5, -0.5)"
      ]
     },
     "execution_count": 7,
     "metadata": {},
     "output_type": "execute_result"
    },
    {
     "data": {
      "image/png": "[encoded data removed]",
      "text/plain": [
       "<Figure size 1200x700 with 1 Axes>"
      ]
     },
     "metadata": {},
     "output_type": "display_data"
    }
   ],
   "source": [
    "img = plt.imread(glob.glob(\"ObsID*SRCNUM*E*Spectrum_bbody.png\")[0])\n",
    "plt.imshow(img)\n",
    "plt.axis('off')"
   ]
  },
  {
   "cell_type": "markdown",
   "id": "2b2e963c-f17f-4268-85c9-2686e8e49fc5",
   "metadata": {},
   "source": [
    "**ztbabs :**"
   ]
  },
  {
   "cell_type": "code",
   "execution_count": 8,
   "id": "8144712b-a361-438d-af65-1ef4deeceaef",
   "metadata": {
    "scrolled": true
   },
   "outputs": [
    {
     "name": "stdout",
     "output_type": "stream",
     "text": [
      "\n",
      "========================================================================\n",
      "Model zTBabs<1>*bbody<2> Source No.: 1   Active/On\n",
      "Model Model Component  Parameter  Unit     Value\n",
      " par  comp\n",
      "   1    1   zTBabs     nH         10^22    1.00000      +/-  0.0          \n",
      "   2    1   zTBabs     Redshift            0.0          frozen\n",
      "   3    2   bbody      kT         keV      3.00000      +/-  0.0          \n",
      "   4    2   bbody      norm                1.00000      +/-  0.0          \n",
      "________________________________________________________________________\n",
      "\n",
      "\n",
      "Fit statistic  : C-Statistic              8.408019e+06     using 44 bins.\n",
      "\n",
      "Test statistic : Chi-Squared              1.360967e+12     using 44 bins.\n",
      " Null hypothesis probability of 0.000000e+00 with 41 degrees of freedom\n",
      " Current data and model not fit yet.\n",
      "\n",
      "Fit statistic  : C-Statistic              9.891273e+06     using 44 bins.\n",
      "\n",
      "Test statistic : Chi-Squared              1.560193e+12     using 44 bins.\n",
      " Null hypothesis probability of 0.000000e+00 with 41 degrees of freedom\n",
      " Current data and model not fit yet.\n",
      "\n",
      "Fit statistic  : C-Statistic                 68.4317     using 44 bins.\n",
      "\n",
      "Test statistic : Chi-Squared                137.4198     using 44 bins.\n",
      " Null hypothesis probability of 2.4565e-12 with 41 degrees of freedom\n",
      " Current data and model not fit yet.\n",
      "                                   Parameters\n",
      "C-Statistic  |beta|/N    Lvl          1:nH          3:kT        4:norm\n",
      "53.2744      807827       -1     0.0939933       3.39435   1.57996e-06\n",
      "51.2813      738080       -1    0.00290981       2.93001   1.43341e-06\n",
      "51.0006      847737       -1   0.000990222       2.73669   1.25858e-06\n",
      "50.435       986548       -1   9.23849e-05       2.52963   1.12207e-06\n",
      "49.63        1.12472e+06  -1   4.19493e-05       2.31372   1.00928e-06\n",
      "49.2892      1.26687e+06  -2   1.76753e-05       1.93780   7.07795e-07\n",
      "48.2466      1.98718e+06  -3   6.91614e-06       1.84747   7.23959e-07\n",
      "47.359       1.92054e+06  -4   2.25179e-06       1.75109   7.18802e-07\n",
      "46.5972      1.92052e+06  -5   2.01768e-07       1.66994   7.13077e-07\n",
      "45.9564      1.91904e+06  -6   8.71370e-08       1.60325   7.07818e-07\n",
      "45.4159      1.91531e+06  -7   3.49898e-08       1.54746   7.02485e-07\n",
      "44.9574      1.91318e+06  -8   1.09401e-08       1.50076   6.97626e-07\n",
      "44.5656      1.9112e+06   -9   5.33053e-09       1.46140   6.93327e-07\n",
      "44.2259      1.90916e+06 -10   4.82462e-11       1.42758   6.89404e-07\n",
      "43.8884      1.90769e+06 -11   8.97038e-12       1.39313   6.84166e-07\n",
      "42.8648      1.91239e+06 -12   9.64959e-13       1.28735   6.64157e-07\n",
      "42.3593      1.92427e+06 -13   4.78711e-13       1.31265   7.43852e-07\n",
      "42.171       1.41863e+06 -14   4.20187e-14       1.30420   7.55712e-07\n",
      "41.3398      1.31742e+06 -15   9.20634e-15       1.19245   7.13449e-07\n",
      "39.6233      1.26534e+06 -16   8.17718e-16      0.951892   6.89520e-07\n",
      "39.551       241726      -17     0.0100575      0.902096   6.86582e-07\n",
      "39.5353      121766        0    0.00149009      0.902638   6.84659e-07\n",
      "39.5327      99825.1       0   0.000425690      0.903085   6.82923e-07\n",
      "39.5318      77642.6       0   0.000158310      0.903441   6.81368e-07\n",
      "39.5314      57797.3       0   2.39247e-05      0.903717   6.79972e-07\n",
      "39.5313      40266.4       0   7.04883e-06      0.903922   6.78716e-07\n",
      "39.5313      24781.3       0   2.81236e-06      0.904068   6.77583e-07\n",
      "========================================\n",
      " Variances and Principal Axes\n",
      "                 1        3        4  \n",
      " 3.0320E-14| -0.0000  -0.0000   1.0000  \n",
      " 3.2405E-02| -0.0577  -0.9983  -0.0000  \n",
      " 3.5108E+00|  0.9983  -0.0577   0.0000  \n",
      "----------------------------------------\n",
      "\n",
      "====================================\n",
      "  Covariance Matrix\n",
      "        1           2           3   \n",
      "   3.499e+00  -2.004e-01   1.049e-07\n",
      "  -2.004e-01   4.399e-02   1.918e-08\n",
      "   1.049e-07   1.918e-08   5.299e-14\n",
      "------------------------------------\n",
      "\n",
      "========================================================================\n",
      "Model zTBabs<1>*bbody<2> Source No.: 1   Active/On\n",
      "Model Model Component  Parameter  Unit     Value\n",
      " par  comp\n",
      "   1    1   zTBabs     nH         10^22    2.81236E-06  +/-  1.87062      \n",
      "   2    1   zTBabs     Redshift            1.19654      frozen\n",
      "    kT         keV      0.904068     +/-  0.209733     \n",
      "   4    2   bbody      norm                6.77583E-07  +/-  2.30187E-07  \n",
      "________________________________________________________________________\n",
      "\n",
      "\n",
      "Fit statistic  : C-Statistic                 39.5313     using 44 bins.\n",
      "\n",
      "Test statistic : Chi-Squared                 28.1021     using 44 bins.\n",
      " Null hypothesis probability of 9.3738e-01 with 41 degrees of freedom\n",
      " Model Flux 1.437e-05 photons (5.6696e-14 ergs/cm^2/s) range (0.20000 - 12.000 keV)\n"
     ]
    }
   ],
   "source": [
    "AllModels.clear()\n",
    "moz = Model(\"ztbabs*bbody\")\n",
    "moz.zTBabs.Redshift = z\n",
    "moz.bbody.norm = 0.00001\n",
    "Fit.perform()\n",
    "Plot.device = \"/xs\"\n",
    "Plot(\"data resid\")\n",
    "nH_bbody_z = moz.zTBabs.nH.values[0]\n",
    "AllModels.calcFlux(\".2 12.0\")"
   ]
  },
  {
   "cell_type": "markdown",
   "id": "ff9fb499-d3ba-410c-b6c2-12f7d4ac82a0",
   "metadata": {},
   "source": [
    "### Bremsstrahlung model (Best fit)\n",
    "**tbabs :**"
   ]
  },
  {
   "cell_type": "code",
   "execution_count": 9,
   "id": "bc7143d1-4f88-480b-8906-a357c73c53fc",
   "metadata": {},
   "outputs": [
    {
     "name": "stdout",
     "output_type": "stream",
     "text": [
      "\n",
      "========================================================================\n",
      "Model TBabs<1>*bremss<2> Source No.: 1   Active/On\n",
      "Model Model Component  Parameter  Unit     Value\n",
      " par  comp\n",
      "   1    1   TBabs      nH         10^22    1.00000      +/-  0.0          \n",
      "   2    2   bremss     kT         keV      7.00000      +/-  0.0          \n",
      "   3    2   bremss     norm                1.00000      +/-  0.0          \n",
      "________________________________________________________________________\n",
      "\n",
      "\n",
      "Fit statistic  : C-Statistic              1.961014e+06     using 44 bins.\n",
      "\n",
      "Test statistic : Chi-Squared              4.479209e+10     using 44 bins.\n",
      " Null hypothesis probability of 0.000000e+00 with 41 degrees of freedom\n",
      " Current data and model not fit yet.\n",
      "                                   Parameters\n",
      "C-Statistic  |beta|/N    Lvl          1:nH          2:kT        3:norm\n",
      "578286       362503       -3      0.334037       199.349      0.329615\n",
      "400400       301524       -4      0.153882       12.7030      0.107339\n",
      "85703.5      628621       -5     0.0636586       199.192     0.0373947\n",
      "18459.6      385000       -6     0.0183532       199.314    0.00765601\n",
      "403.55       411001       -7    0.00547110       199.360   0.000237302\n",
      "115.444      361048       -8   0.000256752       199.362   9.14868e-05\n",
      "36.8258      281142       -9   6.05370e-05       199.363   1.82545e-05\n",
      "36.3265      48525       -10     0.0363948       199.025   2.12812e-05\n",
      "36.3205      19075.7     -11     0.0422678       183.667   2.09703e-05\n",
      "36.2928      18807.1       0     0.0407310       121.528   2.10909e-05\n",
      "36.2848      16421.9       0     0.0420803       174.467   2.09911e-05\n",
      "36.2732      14590.5       1     0.0419330       171.118   2.10023e-05\n",
      "36.2624      12913.2       1     0.0418046       167.483   2.10122e-05\n",
      "36.2529      11086.1       1     0.0416966       163.729   2.10207e-05\n",
      "36.2453      9178.26       1     0.0416093       160.088   2.10277e-05\n",
      "36.24        7296.29       1     0.0415422       156.789   2.10332e-05\n",
      "36.2365      5559.33       1     0.0414934       153.997   2.10374e-05\n",
      "36.2346      4061.93       1     0.0414603       151.839   2.10405e-05\n",
      "36.2336      2884.88       1     0.0414394       150.219   2.10427e-05\n",
      "36.2331      1990.57       1     0.0414276       149.062   2.10442e-05\n",
      "36.2329      1346.33       1     0.0414223       148.264   2.10452e-05\n",
      "36.2328      899.657       1     0.0414216       147.742   2.10459e-05\n",
      "36.2327      606.518       1     0.0414238       147.386   2.10464e-05\n",
      "========================================\n",
      " Variances and Principal Axes\n",
      "                 1        2        3  \n",
      " 2.5692E-11| -0.0000  -0.0000   1.0000  \n",
      " 1.6977E-02|  1.0000   0.0001   0.0000  \n",
      " 2.7263E+06| -0.0001   1.0000   0.0000  \n",
      "----------------------------------------\n",
      "\n",
      "====================================\n",
      "  Covariance Matrix\n",
      "        1           2           3   \n",
      "   3.292e-02  -2.085e+02  -7.866e-06\n",
      "  -2.085e+02   2.726e+06   1.090e-01\n",
      "  -7.866e-06   1.090e-01   4.398e-09\n",
      "------------------------------------\n",
      "\n",
      "========================================================================\n",
      "Model TBabs<1>*bremss<2> Source No.: 1   Active/On\n",
      "Model Model Component  Parameter  Unit     Value\n",
      " par  comp\n",
      "   1    1   TBabs      nH         10^22    4.14238E-02  +/-  0.181450     \n",
      "   2    2   bremss     kT         keV      147.386      +/-  1651.14      \n",
      "   3    2   bremss     norm                2.10464E-05  +/-  6.63147E-05  \n",
      "________________________________________________________________________\n",
      "\n",
      "\n",
      "Fit statistic  : C-Statistic                 36.2327     using 44 bins.\n",
      "\n",
      "Test statistic : Chi-Squared                 28.7083     using 44 bins.\n",
      " Null hypothesis probability of 9.2612e-01 with 41 degrees of freedom\n",
      " Model Flux 2.1302e-05 photons (9.6636e-14 ergs/cm^2/s) range (0.20000 - 12.000 keV)\n"
     ]
    }
   ],
   "source": [
    "AllModels.clear()\n",
    "mo = Model(\"tbabs*bremss\")\n",
    "Fit.perform()\n",
    "Plot.device = \"/xs\"\n",
    "Plot(\"data resid\")\n",
    "nH_bremss = mo.TBabs.nH.values[0]\n",
    "AllModels.calcFlux(\".2 12.0\")"
   ]
  },
  {
   "cell_type": "code",
   "execution_count": 11,
   "id": "39c05133-c518-4d32-bd76-030a288dd830",
   "metadata": {},
   "outputs": [
    {
     "data": {
      "text/plain": [
       "(-0.5, 854.5, 661.5, -0.5)"
      ]
     },
     "execution_count": 11,
     "metadata": {},
     "output_type": "execute_result"
    },
    {
     "data": {
      "image/png": "[encoded data removed]",
      "text/plain": [
       "<Figure size 1200x700 with 1 Axes>"
      ]
     },
     "metadata": {},
     "output_type": "display_data"
    }
   ],
   "source": [
    "img = plt.imread(glob.glob(\"ObsID*SRCNUM*E*Spectrum_bremss.png\")[0])\n",
    "plt.imshow(img)\n",
    "plt.axis('off')"
   ]
  },
  {
   "cell_type": "markdown",
   "id": "f6a48880-a21d-44ad-91bb-7dbc427ef868",
   "metadata": {},
   "source": [
    "**ztbabs :**"
   ]
  },
  {
   "cell_type": "code",
   "execution_count": 10,
   "id": "32a4542d-4c4d-4913-bcf6-204ec6c8b287",
   "metadata": {
    "scrolled": true
   },
   "outputs": [
    {
     "name": "stdout",
     "output_type": "stream",
     "text": [
      "\n",
      "========================================================================\n",
      "Model zTBabs<1>*bremss<2> Source No.: 1   Active/On\n",
      "Model Model Component  Parameter  Unit     Value\n",
      " par  comp\n",
      "   1    1   zTBabs     nH         10^22    1.00000      +/-  0.0          \n",
      "   2    1   zTBabs     Redshift            0.0          frozen\n",
      "   3    2   bremss     kT         keV      7.00000      +/-  0.0          \n",
      "   4    2   bremss     norm                1.00000      +/-  0.0          \n",
      "________________________________________________________________________\n",
      "\n",
      "\n",
      "Fit statistic  : C-Statistic              1.955547e+06     using 44 bins.\n",
      "\n",
      "Test statistic : Chi-Squared              4.465178e+10     using 44 bins.\n",
      " Null hypothesis probability of 0.000000e+00 with 41 degrees of freedom\n",
      " Current data and model not fit yet.\n",
      "\n",
      "Fit statistic  : C-Statistic              3.717194e+06     using 44 bins.\n",
      "\n",
      "Test statistic : Chi-Squared              1.436246e+11     using 44 bins.\n",
      " Null hypothesis probability of 0.000000e+00 with 41 degrees of freedom\n",
      " Current data and model not fit yet.\n",
      "\n",
      "Fit statistic  : C-Statistic                3367.210     using 44 bins.\n",
      "\n",
      "Test statistic : Chi-Squared                141968.2     using 44 bins.\n",
      " Null hypothesis probability of 0.0e+00 with 41 degrees of freedom\n",
      " Current data and model not fit yet.\n",
      "                                   Parameters\n",
      "C-Statistic  |beta|/N    Lvl          1:nH          3:kT        4:norm\n",
      "90.4354      604561       -3      0.336140       199.350   8.24179e-05\n",
      "43.7165      235741       -4     0.0262477       199.358   3.85560e-05\n",
      "39.3681      130453       -5      0.138416       199.048   1.39382e-05\n",
      "36.3231      133826       -2      0.192553       199.346   2.14261e-05\n",
      "36.2572      15720.6      -2      0.146921       199.359   2.27645e-05\n",
      "36.2568      2288.53      -1      0.151467       199.361   2.27679e-05\n",
      "36.2562      2065.63       0      0.153267       199.363   2.27153e-05\n",
      "36.2559      1376.3        0      0.153813       199.363   2.26811e-05\n",
      "36.2558      962.881       0      0.153819       199.363   2.26590e-05\n",
      "36.2558      714.318       0      0.153671       199.363   2.26434e-05\n",
      "========================================\n",
      " Variances and Principal Axes\n",
      "                 1        3        4  \n",
      " 2.9719E-11| -0.0000  -0.0000   1.0000  \n",
      " 3.6034E-01|  1.0000   0.0002   0.0000  \n",
      " 5.2003E+06| -0.0002   1.0000   0.0000  \n",
      "----------------------------------------\n",
      "\n",
      "====================================\n",
      "  Covariance Matrix\n",
      "        1           2           3   \n",
      "   5.510e-01  -9.958e+02  -3.217e-05\n",
      "  -9.958e+02   5.200e+06   1.774e-01\n",
      "  -3.217e-05   1.774e-01   6.093e-09\n",
      "------------------------------------\n",
      "\n",
      "========================================================================\n",
      "Model zTBabs<1>*bremss<2> Source No.: 1   Active/On\n",
      "Model Model Component  Parameter  Unit     Value\n",
      " par  comp\n",
      "   1    1   zTBabs     nH         10^22    0.153671     +/-  0.742307     \n",
      "   2    1   zTBabs     Redshift            1.19654      frozen\n",
      "   3    2   bremss     kT         keV      199.363      +/-  2280.42      \n",
      "   4    2   bremss     norm                2.26434E-05  +/-  7.80551E-05  \n",
      "________________________________________________________________________\n",
      "\n",
      "\n",
      "Fit statistic  : C-Statistic                 36.2558     using 44 bins.\n",
      "\n",
      "           29.0933     using 44 bins.\n",
      " Null hypothesis probability of 9.1829e-01 with 41 degrees of freedom\n",
      " Model Flux 2.1986e-05 photons (9.7264e-14 ergs/cm^2/s) range (0.20000 - 12.000 keV)\n"
     ]
    }
   ],
   "source": [
    "AllModels.clear()\n",
    "moz = Model(\"ztbabs*bremss\")\n",
    "moz.zTBabs.Redshift = z\n",
    "moz.bremss.norm = 0.001\n",
    "Fit.perform()\n",
    "Plot.device = \"/xs\"\n",
    "Plot(\"data resid\")\n",
    "nH_bremss_z = moz.zTBabs.nH.values[0]\n",
    "AllModels.calcFlux(\".2 12.0\")"
   ]
  },
  {
   "cell_type": "markdown",
   "id": "3edcca3a-8165-4c61-80ed-0b4b4087c8c3",
   "metadata": {},
   "source": [
    "### Apec model (Second best fit)\n",
    "**tbabs :**"
   ]
  },
  {
   "cell_type": "code",
   "execution_count": 11,
   "id": "44211b71-f33a-424d-95c1-78675d198471",
   "metadata": {
    "scrolled": true
   },
   "outputs": [
    {
     "name": "stdout",
     "output_type": "stream",
     "text": [
      "\n",
      "========================================================================\n",
      "Model TBabs<1>*apec<2> Source No.: 1   Active/On\n",
      "Model Model Component  Parameter  Unit     Value\n",
      " par  comp\n",
      "   1    1   TBabs      nH         10^22    1.00000      +/-  0.0          \n",
      "   2    2   apec       kT         keV      1.00000      +/-  0.0          \n",
      "   3    2   apec       Abundanc            1.00000      frozen\n",
      "   4    2   apec       Redshift            0.0          frozen\n",
      "   5    2   apec       norm                1.00000      +/-  0.0          \n",
      "________________________________________________________________________\n",
      "\n",
      "Reading APEC data from 3.0.9\n",
      "\n",
      "\n",
      "Fit statistic  : C-Statistic                703478.0     using 44 bins.\n",
      "\n",
      "Test statistic : Chi-Squared              9.665804e+09     using 44 bins.\n",
      " Null hypothesis probability of 0.000000e+00 with 41 degrees of freedom\n",
      " Current data and model not fit yet.\n",
      "                                   Parameters\n",
      "C-Statistic  |beta|/N    Lvl          1:nH          2:kT        5:norm\n",
      "437315       202940       -3      0.371719       34.3625      0.468731\n",
      "134554       165122       -4     0.0595005       61.8927      0.120063\n",
      "49956.2      190669       -5     0.0165422       63.3009     0.0420637\n",
      "7686.78      200523       -6    0.00579826       63.8010    0.00663721\n",
      "3675.11      201612       -7    0.00281284       63.9595    0.00328945\n",
      "116.465      200302       -8    0.00139318       63.9989   0.000191128\n",
      "115.118      135672       -4   0.000112211       63.9999   0.000189022\n",
      "102.889      135473       -3   4.02227e-05       64.0000   0.000173668\n",
      "99.4442      130311       -3   9.78209e-06       64.0000   0.000169225\n",
      "98.2396      128666       -3   2.57650e-06       64.0000   0.000167658\n",
      "97.7904      128066       -3   8.10593e-07       64.0000   0.000167073\n",
      "97.6188      127839       -3   3.72421e-07       64.0000   0.000166849\n",
      "97.5526      127751       -3   1.53966e-07       64.0000   0.000166762\n",
      "97.5271      127718       -3   4.48607e-08       64.0000   0.000166729\n",
      "97.5172      127705       -3   1.75961e-08       64.0000   0.000166716\n",
      "97.5134      127699       -3   3.96606e-09       64.0000   0.000166711\n",
      "97.5114      127698       -3   5.58813e-10       64.0000   0.000166709\n",
      "97.5075      127697       -3   1.32948e-10       64.0000   0.000166703\n",
      "51.7862      127695       -2   2.41219e-12       64.0000   9.69856e-05\n",
      "51.2395      84167.6      -2    0.00687487       64.0000   9.71732e-05\n",
      "49.9493      82198.7      -2    0.00971430       64.0000   9.50147e-05\n",
      "49.2857      79167.2      -2     0.0111993       64.0000   9.38602e-05\n",
      "48.9417      77532.6      -2     0.0120056       64.0000   9.32539e-05\n",
      "48.7618      76659.6      -2     0.0124318       64.0000   9.29335e-05\n",
      "48.6673      76196.3      -2     0.0126579       64.0000   9.27645e-05\n",
      "40.5314      113927       -3     0.0534059       64.0000   2.73931e-05\n",
      "36.3757      110704       -4     0.0744554       64.0000   4.67476e-05\n",
      "36.275       12046.6      -5     0.0538722       64.0000   4.87391e-05\n",
      "36.2749      333.639      -6     0.0534644       64.0000   4.88054e-05\n",
      "36.2749      0.20246       1     0.0534639       64.0000   4.88054e-05\n",
      "========================================\n",
      " Variances and Principal Axes\n",
      "                 1        2        5  \n",
      " 1.3834E-10| -0.0001  -0.0000   1.0000  \n",
      " 1.7933E-02|  1.0000   0.0001   0.0001  \n",
      " 7.7373E+05| -0.0001   1.0000   0.0000  \n",
      "----------------------------------------\n",
      "\n",
      "====================================\n",
      "  Covariance Matrix\n",
      "        1           2           3   \n",
      "   3.226e-02  -1.053e+02  -8.349e-06\n",
      "  -1.053e+02   7.737e+05   6.975e-02\n",
      "  -8.349e-06   6.975e-02   6.498e-09\n",
      "------------------------------------\n",
      "\n",
      "========================================================================\n",
      "Model TBabs<1>*apec<2> Source No.: 1   Active/On\n",
      "Model Model Component  Parameter  Unit     Value\n",
      " par  comp\n",
      "   1    1   TBabs      nH         10^22    5.34639E-02  +/-  0.179598     \n",
      "   2    2   apec       kT         keV      64.0000      +/-  879.618      \n",
      "   3    2   apec       Abundanc            1.00000      frozen\n",
      "   4    2   apec       Redshift            0.0          frozen\n",
      "   2   apec       norm                4.88054E-05  +/-  8.06106E-05  \n",
      "________________________________________________________________________\n",
      "\n",
      "\n",
      "Fit statistic  : C-Statistic                 36.2749     using 44 bins.\n",
      "\n",
      "Test statistic : Chi-Squared                 28.8054     using 44 bins.\n",
      " Null hypothesis probability of 9.2419e-01 with 41 degrees of freedom\n",
      " Model Flux 2.0651e-05 photons (9.2978e-14 ergs/cm^2/s) range (0.20000 - 12.000 keV)\n"
     ]
    }
   ],
   "source": [
    "AllModels.clear()\n",
    "mo = Model(\"tbabs*apec\")\n",
    "Fit.perform()\n",
    "Plot.device = \"/xs\"\n",
    "Plot(\"data resid\")\n",
    "nH_apec = mo.TBabs.nH.values[0]\n",
    "AllModels.calcFlux(\".2 12.0\")"
   ]
  },
  {
   "cell_type": "code",
   "execution_count": 15,
   "id": "b21809c2-31cf-47c0-a766-aec83c4428ad",
   "metadata": {},
   "outputs": [
    {
     "data": {
      "text/plain": [
       "(-0.5, 856.5, 659.5, -0.5)"
      ]
     },
     "execution_count": 15,
     "metadata": {},
     "output_type": "execute_result"
    },
    {
     "data": {
      "image/png": "[encoded data removed]",
      "text/plain": [
       "<Figure size 1200x700 with 1 Axes>"
      ]
     },
     "metadata": {},
     "output_type": "display_data"
    }
   ],
   "source": [
    "img = plt.imread(glob.glob(\"ObsID*SRCNUM*E*Spectrum_apec.png\")[0])\n",
    "plt.imshow(img)\n",
    "plt.axis('off')"
   ]
  },
  {
   "cell_type": "markdown",
   "id": "0a6aab0e-2429-4010-a785-3ba839408333",
   "metadata": {},
   "source": [
    "**ztbabs :**"
   ]
  },
  {
   "cell_type": "code",
   "execution_count": 12,
   "id": "9016168d-1f7c-420b-b309-716494316672",
   "metadata": {
    "scrolled": true
   },
   "outputs": [
    {
     "name": "stdout",
     "output_type": "stream",
     "text": [
      "\n",
      "========================================================================\n",
      "Model zTBabs<1>*apec<2> Source No.: 1   Active/On\n",
      "Model Model Component  Parameter  Unit     Value\n",
      " par  comp\n",
      "   1    1   zTBabs     nH         10^22    1.00000      +/-  0.0          \n",
      "   2    1   zTBabs     Redshift            0.0          frozen\n",
      "   3    2   apec       kT         keV      1.00000      +/-  0.0          \n",
      "   4    2   apec       Abundanc            1.00000      frozen\n",
      "   5    2   apec       Redshift            0.0          frozen\n",
      "   6    2   apec       norm                1.00000      +/-  0.0          \n",
      "________________________________________________________________________\n",
      "\n",
      "\n",
      "Fit statistic  : C-Statistic                694599.5     using 44 bins.\n",
      "\n",
      "Test statistic : Chi-Squared              9.266550e+09     using 44 bins.\n",
      " Null hypothesis probability of 0.000000e+00 with 41 degrees of freedom\n",
      " Current data and model not fit yet.\n",
      "\n",
      "Fit statistic  : C-Statistic              3.471516e+06     using 44 bins.\n",
      "\n",
      "Test statistic : Chi-Squared              6.949383e+11     using 44 bins.\n",
      " Null hypothesis probability of 0.000000e+00 with 41 degrees of freedom\n",
      " Current data and model not fit yet.\n",
      "\n",
      "Fit statistic  : C-Statistic                3227.545     using 44 bins.\n",
      "\n",
      "Test statistic : Chi-Squared                694293.9     using 44 bins.\n",
      " Null hypothesis probability of 0.0e+00 with 41 degrees of freedom\n",
      " Current data and model not fit yet.\n",
      "                                   Parameters\n",
      "C-Statistic  |beta|/N    Lvl          1:nH          3:kT        6:norm\n",
      "357.408      565056       -3      0.309552       28.5321   0.000399699\n",
      "110.103      191037       -4      0.126905       48.8352   0.000176970\n",
      "47.9319      137758       -5     0.0601564       61.0321   8.96755e-05\n",
      "38.7501      75285.4      -1      0.140049       62.6914   6.56003e-05\n",
      "37.2686      38797.1      -1      0.142843       63.6756   5.82919e-05\n",
      "36.9032      25610.4      -1      0.156245       63.8546   5.59145e-05\n",
      "36.7797      20465.9      -1      0.161438       63.9332   5.49536e-05\n",
      "36.7314      18314.2      -1      0.163382       63.9703   5.45410e-05\n",
      "36.711       17383.3      -1      0.164159       63.9883   5.43597e-05\n",
      "36.7022      16972.8      -1      0.164487       63.9972   5.42793e-05\n",
      "56.6983      16790.4      -1      0.164629       63.9988   5.42436e-0\n",
      "36.6966      16710.6      -1      0.164693       63.9997   5.42275e-05\n",
      "36.6958      16674.4      -1      0.164721       64.0000   5.42202e-05\n",
      "36.6955      16658.2      -1      0.164734       64.0000   5.42169e-05\n",
      "36.6953      16650.9      -1      0.164740       64.0000   5.42154e-05\n",
      "36.6952      16647.5      -1      0.164743       64.0000   5.42147e-05\n",
      "========================================\n",
      " Variances and Principal Axes\n",
      "                 1        3        6  \n",
      " 1.5951E-10| -0.0000  -0.0000   1.0000  \n",
      " 3.0139E-01|  1.0000   0.0005   0.0000  \n",
      " 5.7324E+05| -0.0005   1.0000   0.0000  \n",
      "----------------------------------------\n",
      "\n",
      "====================================\n",
      "  Covariance Matrix\n",
      "        1           2           3   \n",
      "   4.355e-01  -2.773e+02  -2.499e-05\n",
      "  -2.773e+02   5.732e+05   5.957e-02\n",
      "  -2.499e-05   5.957e-02   6.399e-09\n",
      "------------------------------------\n",
      "\n",
      "========================================================================\n",
      "Model zTBabs<1>*apec<2> Source No.: 1   Active/On\n",
      "Model Model Component  Parameter  Unit     Value\n",
      " par  comp\n",
      "   1    1   zTBabs     nH         10^22    0.164743     +/-  0.659953     \n",
      "   2    1   zTBabs     Redshift            1.19654      frozen\n",
      "   3    2   apec       kT         keV      64.0000      +/-  757.129      \n",
      "   4    2   apec       Abundanc            1.00000      frozen\n",
      "   5    2   apec       Redshift            0.0          frozen\n",
      "   6    2   apec       norm                5.42147E-05  +/-  7.99937E-05  \n",
      "________________________________________________________________________\n",
      "\n",
      "\n",
      "Fit statistic  : C-Statistic                 36.6952     using 44 bins.\n",
      "\n",
      "Test statistic : Chi-Squared                 35.0115     using 44 bins.\n",
      " Null hypothesis probability of 7.3301e-01 with 41 degrees of freedom\n",
      " Model Flux 2.5028e-05 photons (1.0517e-13 ergs/cm^2/s) range (0.20000 - 12.000 keV)\n"
     ]
    }
   ],
   "source": [
    "AllModels.clear()\n",
    "moz = Model(\"ztbabs*apec\")\n",
    "moz.zTBabs.Redshift = z\n",
    "moz.apec.norm = 0.001\n",
    "Fit.perform()\n",
    "Plot.device = \"/xs\"\n",
    "Plot(\"data resid\")\n",
    "nH_apec_z = moz.zTBabs.nH.values[0]\n",
    "AllModels.calcFlux(\".2 12.0\")"
   ]
  },
  {
   "cell_type": "markdown",
   "id": "9f19aeb6-3c27-44a9-8ad3-a2eb2777e421",
   "metadata": {},
   "source": [
    "### Powerlaw model\n",
    "**tbabs :**"
   ]
  },
  {
   "cell_type": "code",
   "execution_count": 13,
   "id": "fc843b1e-55d0-4f4e-b327-7099376aa318",
   "metadata": {
    "scrolled": true
   },
   "outputs": [
    {
     "name": "stdout",
     "output_type": "stream",
     "text": [
      "\n",
      "========================================================================\n",
      "Model TBabs<1>*powerlaw<2> Source No.: 1   Active/On\n",
      "Model Model Component  Parameter  Unit     Value\n",
      " par  comp\n",
      "   1    1   TBabs      nH         10^22    1.00000      +/-  0.0          \n",
      "   2    2   powerlaw   PhoIndex            1.00000      +/-  0.0          \n",
      "   3    2   powerlaw   norm                1.00000      +/-  0.0          \n",
      "________________________________________________________________________\n",
      "\n",
      "\n",
      "Fit statistic  : C-Statistic              4.800881e+06     using 44 bins.\n",
      "\n",
      "Test statistic : Chi-Squared              2.909324e+11     using 44 bins.\n",
      " Null hypothesis probability of 0.000000e+00 with 41 degrees of freedom\n",
      " Current data and model not fit yet.\n",
      "                                   Parameters\n",
      "C-Statistic  |beta|/N    Lvl          1:nH    2:PhoIndex        3:norm\n",
      "609198       1.2176e+06   -3      0.454871       8.82325      0.155796\n",
      "63.2541      965936       -4       5949.70       9.41298       1374.58\n",
      "63.2541      3.09958e-25  -5       1863.00       9.49030       498.157\n",
      "========================================\n",
      " Variances and Principal Axes\n",
      "                 1        2        3  \n",
      " 1.0000E+18| -0.0029  -1.0000   0.0003  \n",
      " 3.6731E+61|  0.9999  -0.0029  -0.0132  \n",
      " 3.4732E+67|  0.0132   0.0003   0.9999  \n",
      "----------------------------------------\n",
      "\n",
      "====================================\n",
      "  Covariance Matrix\n",
      "        1           2           3   \n",
      "   6.045e+63   1.166e+62   4.568e+65\n",
      "   1.166e+62   2.267e+60   8.872e+63\n",
      "   4.568e+65   8.872e+63   3.473e+67\n",
      "------------------------------------\n",
      "\n",
      "========================================================================\n",
      "Model TBabs<1>*powerlaw<2> Source No.: 1   Active/On\n",
      "Model Model Component  Parameter  Unit     Value\n",
      " par  comp\n",
      "   1    1   TBabs      nH         10^22    1863.00      +/-  7.77518E+31  \n",
      "   2    2   powerlaw   PhoIndex            9.49030      +/-  1.50568E+30  \n",
      "   3    2   powerlaw   norm                498.157      +/-  5.89285E+33  \n",
      "________________________________________________________________________\n",
      "\n",
      "\n",
      "Fit statistic  : C-Statistic                 63.2541     using 44 bins.\n",
      "\n",
      "Test statistic : Chi-Squared                 24.7442     using 44 bins.\n",
      " Null hypothesis probability of 9.7896e-01 with 41 degrees of freedom\n",
      " Model Flux 2.2253e-14 photons (4.1572e-22 ergs/cm^2/s) range (0.20000 - 12.000 keV)\n"
     ]
    }
   ],
   "source": [
    "AllModels.clear()\n",
    "mo = Model(\"tbabs*powerlaw\")\n",
    "Fit.perform()\n",
    "Plot.device = \"/xs\"\n",
    "Plot(\"data resid\")\n",
    "nH_powerlaw = mo.TBabs.nH.values[0]\n",
    "AllModels.calcFlux(\".2 12.0\")"
   ]
  },
  {
   "cell_type": "code",
   "execution_count": 19,
   "id": "7ac7a623-f809-4e00-838a-54f37c65690f",
   "metadata": {},
   "outputs": [
    {
     "data": {
      "text/plain": [
       "(-0.5, 855.5, 652.5, -0.5)"
      ]
     },
     "execution_count": 19,
     "metadata": {},
     "output_type": "execute_result"
    },
    {
     "data": {
      "image/png": "[encoded data removed]",
      "text/plain": [
       "<Figure size 1200x700 with 1 Axes>"
      ]
     },
     "metadata": {},
     "output_type": "display_data"
    }
   ],
   "source": [
    "img = plt.imread(glob.glob(\"ObsID*SRCNUM*E*Spectrum_powerlaw.png\")[0])\n",
    "plt.imshow(img)\n",
    "plt.axis('off')"
   ]
  },
  {
   "cell_type": "markdown",
   "id": "79875fea-3e23-49dc-98be-e73ba90cc073",
   "metadata": {},
   "source": [
    "## Column density nH\n",
    "### 3DNH-tool\n",
    "http://astro.uni-tuebingen.de/nh3d/nhtool\n",
    "\n",
    "**Sky coordinates (°) :** from ESASky\n",
    "\n",
    "- RA = 53.2571070°\n",
    "- Dec = -27.9719507°\n",
    "\n",
    "53.26 -27.97\n",
    "\n",
    "**Column density :** nH = 3*10^20 cm^-2"
   ]
  },
  {
   "cell_type": "code",
   "execution_count": 17,
   "id": "78e77eeb-40be-433e-b333-281dc4d38b32",
   "metadata": {},
   "outputs": [
    {
     "name": "stdout",
     "output_type": "stream",
     "text": [
      "The different models give a column density of :\n",
      "\n",
      "\u001b[1mbbody\u001b[0m\n",
      "(tbabs) : 434264.5713860058\n",
      "(ztbabs) : 2.8123598484174692e+16\n",
      "\n",
      "\u001b[1mbremss (Best fit)\u001b[0m\n",
      "(tbabs) : 4.142375303085041e+20\n",
      "(ztbabs) : 1.5367091268729955e+21\n",
      "\n",
      "\u001b[1mapec (Second best fit)\u001b[0m\n",
      "(tbabs) : 5.346388417627569e+20\n",
      "(ztbabs) : 1.647430332799651e+21\n",
      "\n",
      "\u001b[1mpowerlaw\u001b[0m\n",
      "(tbabs) : 1.8630033730198893e+25\n"
     ]
    }
   ],
   "source": [
    "print(\"The different models give a column density of :\")\n",
    "print()\n",
    "print(color.BOLD+\"bbody\"+color.END)\n",
    "print(f\"(tbabs) : {nH_bbody*10**22}\")\n",
    "print(f\"(ztbabs) : {nH_bbody_z*10**22}\")\n",
    "print()\n",
    "print(color.BOLD+\"bremss (Best fit)\"+color.END)\n",
    "print(f\"(tbabs) : {nH_bremss*10**22}\")\n",
    "print(f\"(ztbabs) : {nH_bremss_z*10**22}\")\n",
    "print()\n",
    "print(color.BOLD+\"apec (Second best fit)\"+color.END)\n",
    "print(f\"(tbabs) : {nH_apec*10**22}\")\n",
    "print(f\"(ztbabs) : {nH_apec_z*10**22}\")\n",
    "print()\n",
    "print(color.BOLD+\"powerlaw\"+color.END)\n",
    "print(f\"(tbabs) : {nH_powerlaw*10**22}\")"
   ]
  },
  {
   "cell_type": "markdown",
   "id": "c404b996-c273-4f68-a4b2-5b526c4027e0",
   "metadata": {},
   "source": [
    "## Flux\n",
    "### X-ray flux\n",
    "- X-ray flux of the best-fitting model ``Bremss`` with C-statistic = 36.2327 using 44 bins: **9.6636e-14 ergs/cm^2/s**.\n",
    "- X-ray flux of the second best-fitting model ``Apec`` with C-statistic = 36.2749 using 44 bins: **9.2978e-14 ergs/cm^2/s**."
   ]
  },
  {
   "cell_type": "code",
   "execution_count": 2,
   "id": "3211a169-f752-40cc-8d8e-9ee7b2070b37",
   "metadata": {},
   "outputs": [
    {
     "name": "stdout",
     "output_type": "stream",
     "text": [
      "\u001b[1mX-ray flux : \u001b[0m\n",
      "Bremss : F_x-ray = 9.6636e-14 ergs/cm^2/s\n"
     ]
    }
   ],
   "source": [
    "Flux = 9.6636e-14 # ergs/cm^2/s\n",
    "print(color.BOLD+\"X-ray flux : \"+color.END)\n",
    "print(f\"Bremss : F_x-ray = {Flux} ergs/cm^2/s\")"
   ]
  },
  {
   "cell_type": "markdown",
   "id": "a5139c52-6c73-4478-bad1-44162d098292",
   "metadata": {},
   "source": [
    "### Optical flux"
   ]
  },
  {
   "cell_type": "code",
   "execution_count": 3,
   "id": "1f0031f9-eae4-4a6b-82de-ce7c475f1678",
   "metadata": {},
   "outputs": [
    {
     "name": "stdout",
     "output_type": "stream",
     "text": [
      "\u001b[1mBlue source (GAIA)\u001b[0m\n",
      "Optical flux : F_blue = 6.413119006406851e-14 ergs/cm^2/s\n",
      "\n",
      "\u001b[1mYellow source (GAIA)\u001b[0m\n",
      "Optical flux : F_yellow = 3.649129695153657e-12 ergs/cm^2/s\n"
     ]
    }
   ],
   "source": [
    "def F_optical(mag):\n",
    "    F0 = 1.05*10**(-5) # GAIA zero point magnitude\n",
    "    return F0*10**(-0.4*mag)\n",
    "    \n",
    "G_blue = 20.5353\n",
    "G_yellow = 16.1475\n",
    "\n",
    "Flux_blue = F_optical(G_blue)\n",
    "Flux_yellow = F_optical(G_yellow)\n",
    "\n",
    "print(color.BOLD+\"Blue source (GAIA)\"+color.END)\n",
    "print(f\"Optical flux : F_blue = {Flux_blue} ergs/cm^2/s\")\n",
    "print()\n",
    "print(color.BOLD+\"Yellow source (GAIA)\"+color.END)\n",
    "print(f\"Optical flux : F_yellow = {Flux_yellow} ergs/cm^2/s\")"
   ]
  },
  {
   "cell_type": "markdown",
   "id": "eb988d7b-8b14-4ab0-b6e0-5e2a332539e0",
   "metadata": {},
   "source": [
    "### X-ray flux / Optical flux ratio"
   ]
  },
  {
   "cell_type": "code",
   "execution_count": 4,
   "id": "dadab18d-5c99-4cb1-9078-1f1fea093697",
   "metadata": {},
   "outputs": [
    {
     "name": "stdout",
     "output_type": "stream",
     "text": [
      "\u001b[1mBlue source (GAIA)\u001b[0m\n",
      "Ratio F_x-ray/F_blue = 1.5068486941137138\n",
      "\n",
      "\u001b[1mYellow source (GAIA)\u001b[0m\n",
      "Ratio F_x-ray/F_yellow = 0.026481930781561566\n"
     ]
    }
   ],
   "source": [
    "print(color.BOLD+\"Blue source (GAIA)\"+color.END)\n",
    "print(f\"Ratio F_x-ray/F_blue = {Flux/Flux_blue}\")\n",
    "print()\n",
    "print(color.BOLD+\"Yellow source (GAIA)\"+color.END)\n",
    "print(f\"Ratio F_x-ray/F_yellow = {Flux/Flux_yellow}\")"
   ]
  },
  {
   "cell_type": "markdown",
   "id": "f7dbab95-1fff-418e-83d5-106cfddc3306",
   "metadata": {},
   "source": [
    "## Luminosity"
   ]
  },
  {
   "cell_type": "code",
   "execution_count": 6,
   "id": "2faa50ec-ebb3-4b9f-935a-0d13dfd88069",
   "metadata": {},
   "outputs": [
    {
     "name": "stdout",
     "output_type": "stream",
     "text": [
      "\u001b[1mSource bleue (GAIA)\u001b[0m\n",
      "Distance : d = 1.2624580639882173e+21 cm\n",
      "Luminosity : L_x-ray = 1.935453450813901e+30 erg/s\n",
      "\n",
      "\u001b[1mSource jaune (GAIA)\u001b[0m\n",
      "Distance : d = 2.1005445881552078e+21 cm\n",
      "Luminosity : L_x-ray = 5.358122255264294e+30 erg/s\n",
      "\n",
      "\u001b[1mSource jaune (GLADE)\u001b[0m\n",
      "Distance : d = 1.581256226764e+28 cm\n",
      "Luminosity : L_x-ray = 3.036360314963455e+44 erg/s\n"
     ]
    }
   ],
   "source": [
    "\"\"\"GAIA\"\"\"\n",
    "\n",
    "P_mas = 2.4442 # Parallaxe en mas\n",
    "d_kpc = 1/P_mas # Distance en kpc\n",
    "d_cm = d_kpc*3.0857*10**21 # Distance en cm, avec 1 pc = 3.0857*10^18 cm\n",
    "\n",
    "# La source est supposée sphérique pour le calcul de la luminosité : L = 4*pi*F*D^2\n",
    "Luminosity = 4*np.pi*Flux*(d_cm)**2 # erg/s\n",
    "\n",
    "print(color.BOLD+\"Source bleue (GAIA)\"+color.END)\n",
    "print(f\"Distance : d = {d_cm} cm\")\n",
    "print(f\"Luminosity : L_x-ray = {Luminosity} erg/s\")\n",
    "print()\n",
    "\n",
    "\"\"\"GAIA\"\"\"\n",
    "\n",
    "P_mas = 1.469 # Parallaxe en mas\n",
    "d_kpc = 1/P_mas # Distance en kpc\n",
    "d_cm = d_kpc*3.0857*10**21 # Distance en cm, avec 1 pc = 3.0857*10^18 cm\n",
    "\n",
    "# La source est supposée sphérique pour le calcul de la luminosité : L = 4*pi*F*D^2\n",
    "Luminosity = 4*np.pi*Flux*(d_cm)**2 # erg/s\n",
    "\n",
    "print(color.BOLD+\"Source jaune (GAIA)\"+color.END)\n",
    "print(f\"Distance : d = {d_cm} cm\")\n",
    "print(f\"Luminosity : L_x-ray = {Luminosity} erg/s\")\n",
    "print()\n",
    "\n",
    "\"\"\"GLADE\"\"\"\n",
    "\n",
    "d_kpc = 5124465.2 # Distance en kpc\n",
    "d_cm = d_kpc*3.0857*10**21 # Distance en cm, avec 1 pc = 3.0857*10^18 cm\n",
    "\n",
    "# La source est supposée sphérique pour le calcul de la luminosité : L = 4*pi*F*D^2\n",
    "Luminosity = 4*np.pi*Flux*(d_cm)**2 # erg/s\n",
    "\n",
    "print(color.BOLD+\"Source jaune (GLADE)\"+color.END)\n",
    "print(f\"Distance : d = {d_cm} cm\")\n",
    "print(f\"Luminosity : L_x-ray = {Luminosity} erg/s\")"
   ]
  }
 ],
 "metadata": {
  "kernelspec": {
   "display_name": "Python 3 (ipykernel)",
   "language": "python",
   "name": "python3"
  },
  "language_info": {
   "codemirror_mode": {
    "name": "ipython",
    "version": 3
   },
   "file_extension": ".py",
   "mimetype": "text/x-python",
   "name": "python",
   "nbconvert_exporter": "python",
   "pygments_lexer": "ipython3",
   "version": "3.10.12"
  }
 },
 "nbformat": 4,
 "nbformat_minor": 5
}
