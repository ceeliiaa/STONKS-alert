{
 "cells": [
  {
   "cell_type": "markdown",
   "id": "c521860a-0601-4bc3-b8cc-119c1d638a4c",
   "metadata": {},
   "source": [
    "# ObsID : 0945020132, SRCNUM : 7, Instru : EPN\n",
    "**Simbad :** Quasar COMBO J0333017-275819 (https://simbad.cds.unistra.fr/simbad/sim-id?Ident=%40651085&Name=COMBO%20J0333017-275819&submit=submit)"
   ]
  },
  {
   "cell_type": "markdown",
   "id": "292a45ab-00e7-4f92-af45-55bcb654b168",
   "metadata": {},
   "source": [
    "## ESASky\n",
    "On ESASky, we observe optically that there are 2 very close sources, a blue one on which the EPIC cursor is placed and a yellow one (https://sky.esa.int/esasky/?target=53.2575%20-27.971638888888886&hips=XMM-Newton+EPIC+color&fov=1&projection=SIN&cooframe=J2000&sci=true&lang=fr).\n",
    "\n",
    "**Source bleue :** (most likely source)\n",
    "\n",
    "``EPIC Stack``\n",
    "- Stack Catalogue name : 4XMMs J033301.7-275819\n",
    "- IAU name : 4XMM J033301.6-275818\n",
    "- RA : 03h 33m 01.706s\n",
    "- DEC : -27° 58' 19.02\"\n",
    "- Flux : 7.916E-14 ergs/cm^2/s\n",
    "\n",
    "``GAIA``\n",
    "- Designation : Gaia DR3 5057482939190327168\n",
    "- RA : 03h 33m 01.709s\n",
    "- DEC : -27° 58' 18.91\"\n",
    "- Parallax : 2.4442 mas\n",
    "- G (mag) : 20.5353\n",
    "\n",
    "**Source jaune :** (source la moins probable)\n",
    "\n",
    "``GLADE``\n",
    "- Numero : 1 689 423\n",
    "- RA : 03h 33m 01.008s\n",
    "- DEC : -27° 58' 08.72\"\n",
    "- DLC : 5124.4652 Mpc\n",
    "\n",
    "``2MASS``\n",
    "- Name : 03330155-2758115\n",
    "- RA : 03h 33m 01.555s\n",
    "- DEC : -27° 58' 11.52\"\n",
    "\n",
    "``GAIA``\n",
    "- Designation : Gaia DR3 5057482943486276480\n",
    "- RA : 03h 33m 01.560s\n",
    "- DEC : -27° 58' 11.49\"\n",
    "- Parallax : 1.469 mas\n",
    "- Magnitude G (mag) : 16.1475"
   ]
  },
  {
   "cell_type": "code",
   "execution_count": 1,
   "id": "a601bb92-6ab6-4642-bab7-b8cb9c6656a1",
   "metadata": {},
   "outputs": [],
   "source": [
    "from xspec import *\n",
    "from stingray import Lightcurve\n",
    "from astropy.io import fits\n",
    "import matplotlib.pyplot as plt\n",
    "import matplotlib.image as mpimg\n",
    "import glob\n",
    "import numpy as np\n",
    "\n",
    "class color:\n",
    "   PURPLE = '\\033[95m'\n",
    "   CYAN = '\\033[96m'\n",
    "   DARKCYAN = '\\033[36m'\n",
    "   BLUE = '\\033[94m'\n",
    "   GREEN = '\\033[92m'\n",
    "   YELLOW = '\\033[93m'\n",
    "   RED = '\\033[91m'\n",
    "   BOLD = '\\033[1m'\n",
    "   UNDERLINE = '\\033[4m'\n",
    "   END = '\\033[0m'\n",
    "\n",
    "plt.rcParams['figure.figsize'] = [12,7]"
   ]
  },
  {
   "cell_type": "markdown",
   "id": "5bad0595-a731-4819-8380-048455869854",
   "metadata": {},
   "source": [
    "### Redshift"
   ]
  },
  {
   "cell_type": "code",
   "execution_count": 2,
   "id": "c421ca34-13ea-4fa1-9f10-63b8f9305a6d",
   "metadata": {},
   "outputs": [
    {
     "name": "stdout",
     "output_type": "stream",
     "text": [
      "Redshift : z = 1.196536318468692\n"
     ]
    }
   ],
   "source": [
    "def redshift(d_Mpc):\n",
    "    H0 = 70 # Hubble constant (km/s/Mpc)\n",
    "    c = 299792.458 # km/s\n",
    "    return H0*d_Mpc/c\n",
    "\n",
    "z = redshift(5124.4652)\n",
    "print(\"Redshift : z =\", z)"
   ]
  },
  {
   "cell_type": "markdown",
   "id": "b3dc5c86-d177-4dcd-8d2e-2142c2f296ab",
   "metadata": {},
   "source": [
    "## Fit statistic"
   ]
  },
  {
   "cell_type": "code",
   "execution_count": 5,
   "id": "3a19ca63-30cd-4948-860c-71340b8ff269",
   "metadata": {},
   "outputs": [
    {
     "name": "stdout",
     "output_type": "stream",
     "text": [
      "Default fit statistic is set to: Chi-Squared\n",
      "   This will apply to all current and newly loaded spectra.\n",
      "Parameter delta values for fits will now be 0.0001 * parValue\n"
     ]
    }
   ],
   "source": [
    "Fit.statMethod = \"chi\"\n",
    "Fit.nIterations = 100000\n",
    "Fit.delta = 1e-4\n",
    "Fit.criticalDelta = 1e-4"
   ]
  },
  {
   "cell_type": "markdown",
   "id": "d6fdec14-c231-4f5b-8ace-9aee2d89c3a0",
   "metadata": {},
   "source": [
    "## Load files"
   ]
  },
  {
   "cell_type": "code",
   "execution_count": 6,
   "id": "aa096770-de1d-4c1b-a75f-f2cf0163c753",
   "metadata": {},
   "outputs": [
    {
     "name": "stdout",
     "output_type": "stream",
     "text": [
      "Warning: RMF FILTER keyword (Medium) is not consistent with that in the ARF (Thin1)\n",
      "Warning: RMF FILTER keyword (Medium) is not consistent with that in spectrum (Thin1)\n",
      "\n",
      "1 spectrum  in use\n",
      " \n",
      "Spectral Data File: P0945020132PNS003SRSPEC0007.FTZ  Spectrum 1\n",
      "Net count rate (cts/s) for Spectrum:1  1.461e-02 +/- 1.885e-03 (53.9 % total)\n",
      " Assigned to Data Group 1 and Plot Group 1\n",
      "  Noticed Channels:  1-10\n",
      "  Telescope: XMM Instrument: EPN  Channel Type: PI\n",
      "  Exposure Time: 7890 sec\n",
      " Using fit statistic: chi\n",
      " Using Background File                P0945020132PNS003BGSPEC0007.FTZ\n",
      "  Background Exposure Time: 7890 sec\n",
      " Using Response (RMF) File            epn_e3_ff20_sdY3.rmf for Source 1\n",
      " Using Auxiliary Response (ARF) File  P0945020132PNS003SRCARF0007.FTZ\n",
      "\n"
     ]
    }
   ],
   "source": [
    "AllData.clear()\n",
    "spec = Spectrum(glob.glob(\"P*PNS*SRSPEC*.FTZ\")[0])"
   ]
  },
  {
   "cell_type": "code",
   "execution_count": 5,
   "id": "898c8dcd-55f3-490b-9ce1-7ffb138acd7d",
   "metadata": {},
   "outputs": [
    {
     "name": "stdout",
     "output_type": "stream",
     "text": [
      "Number of counts = 115.27289999999999\n"
     ]
    }
   ],
   "source": [
    "n_cts = 1.461e-02*7890\n",
    "\n",
    "print(\"Number of counts =\",n_cts)\n",
    "\n",
    "if int(n_cts)<100:\n",
    "    print()\n",
    "    print(\"The low number of counts indicates that we should consider using cstat fit statistic instead of chi statistic.\")"
   ]
  },
  {
   "cell_type": "markdown",
   "id": "b8e695d5-8cb7-49d9-9741-24a67fd44703",
   "metadata": {},
   "source": [
    "## Plot spectrum"
   ]
  },
  {
   "cell_type": "code",
   "execution_count": 7,
   "id": "25ca4d52-e55a-4c39-ad50-96131b633c98",
   "metadata": {},
   "outputs": [
    {
     "name": "stdout",
     "output_type": "stream",
     "text": [
      "      No channels ignored (no channels in specified range)\n",
      "     1 channels (10) ignored in spectrum #     1\n",
      "\n"
     ]
    }
   ],
   "source": [
    "Plot.xAxis=\"keV\"\n",
    "Plot.device = \"/xs\"\n",
    "Plot.xLog=True\n",
    "Plot.yLog=True\n",
    "Plot.addCommand(\"Rescale Y 0.00001 0.05\")\n",
    "Plot(\"data\")\n",
    "spec.ignore(\"**-0.2 12.0-**\")"
   ]
  },
  {
   "cell_type": "code",
   "execution_count": 5,
   "id": "9c969a35-f1e5-4704-ab87-c986550b4334",
   "metadata": {},
   "outputs": [
    {
     "data": {
      "text/plain": [
       "(-0.5, 859.5, 660.5, -0.5)"
      ]
     },
     "execution_count": 5,
     "metadata": {},
     "output_type": "execute_result"
    },
    {
     "data": {
      "image/png": "[encoded data removed]",
      "text/plain": [
       "<Figure size 1200x700 with 1 Axes>"
      ]
     },
     "metadata": {},
     "output_type": "display_data"
    }
   ],
   "source": [
    "img = plt.imread(glob.glob(\"ObsID*SRCNUM*E*Spectrum.png\")[0])\n",
    "plt.imshow(img)\n",
    "plt.axis('off')"
   ]
  },
  {
   "cell_type": "markdown",
   "id": "98519803-5052-4cb4-bfe7-7dad39416519",
   "metadata": {},
   "source": [
    "### Black body model\n",
    "**tbabs :**"
   ]
  },
  {
   "cell_type": "code",
   "execution_count": 8,
   "id": "966fd3d3-a5fa-45c3-ba1f-64213f98648b",
   "metadata": {
    "scrolled": true
   },
   "outputs": [
    {
     "name": "stdout",
     "output_type": "stream",
     "text": [
      "\n",
      "========================================================================\n",
      "Model TBabs<1>*bbody<2> Source No.: 1   Active/On\n",
      "Model Model Component  Parameter  Unit     Value\n",
      " par  comp\n",
      "   1    1   TBabs      nH         10^22    1.00000      +/-  0.0          \n",
      "   2    2   bbody      kT         keV      3.00000      +/-  0.0          \n",
      "   3    2   bbody      norm                1.00000      +/-  0.0          \n",
      "________________________________________________________________________\n",
      "\n",
      "tbvabs Version 2.3\n",
      "Cosmic absorption with grains and H2, modified from\n",
      "Wilms, Allen, & McCray, 2000, ApJ 542, 914-924\n",
      "Questions: Joern Wilms\n",
      "joern.wilms@sternwarte.uni-erlangen.de\n",
      "joern.wilms@fau.de\n",
      "\n",
      "http://pulsar.sternwarte.uni-erlangen.de/wilms/research/tbabs/\n",
      "\n",
      "PLEASE NOTICE:\n",
      "To get the model described by the above paper\n",
      "you will also have to set the abundances:\n",
      "   abund wilm\n",
      "\n",
      "Note that this routine ignores the current cross section setting\n",
      "as it always HAS to use the Verner cross sections as a baseline.\n",
      "\n",
      "Fit statistic  : Chi-Squared              9.965947e+11     using 9 bins.\n",
      "\n",
      "Test statistic : Chi-Squared              9.965947e+11     using 9 bins.\n",
      " Null hypothesis probability of 0.000000e+00 with 6 degrees of freedom\n",
      " Current data and model not fit yet.\n",
      "                                   Parameters\n",
      "Chi-Squared  |beta|/N    Lvl          1:nH          2:kT        3:norm\n",
      "62.1224      0.210985      0      0.295961       3.34438   1.05906e-06\n",
      "61.1849      279186        0     0.0667277       3.20864   1.12693e-06\n",
      "60.5506      352137        0     0.0271658       3.07220   1.19887e-06\n",
      "60.0498      360491        0     0.0121336       2.96073   1.25828e-06\n",
      "59.6559      349914        0    0.00597296       2.86989   1.30532e-06\n",
      "59.3224      329564        0   0.000660678       2.79473   1.34175e-06\n",
      "59.0702      307109        0   7.39587e-05       2.73078   1.36986e-06\n",
      "58.8636      280182        0   7.07287e-06       2.67590   1.39069e-06\n",
      "58.6894      253593        0   3.19931e-06       2.62794   1.40563e-06\n",
      "58.5396      228347        0   1.38421e-06       2.58525   1.41579e-06\n",
      "58.4084      204767        0   5.26239e-07       2.54671   1.42202e-06\n",
      "58.2912      182974        0   1.17836e-07       2.51141   1.42503e-06\n",
      "58.1848      162946        0   2.00896e-08       2.47875   1.42535e-06\n",
      "58.0865      144644        0   8.33854e-09       2.44819   1.42344e-06\n",
      "57.994       127948        0   2.66661e-09       2.41928   1.41966e-06\n",
      "57.9057      112716        0   1.29363e-09       2.39171   1.41431e-06\n",
      "57.8205      98813.6       0   6.27328e-10       2.36525   1.40764e-06\n",
      "57.7372      86138.6       0   3.03332e-10       2.33964   1.39985e-06\n",
      "57.6547      74529.2       0   1.45476e-10       2.31471   1.39113e-06\n",
      "57.5726      63851         0   6.84686e-11       2.29034   1.38162e-06\n",
      "57.49        54024.5       0   3.08893e-11       2.26637   1.37143e-06\n",
      "57.4064      44914.7       0   1.25240e-11       2.24270   1.36070e-06\n",
      "57.3213      36409.6       0   3.54301e-12       2.21925   1.34940e-06\n",
      "57.234       28527.4       0   1.35146e-12       2.19586   1.33786e-06\n",
      "57.1459      20821.6       0   3.10103e-13       2.17291   1.32535e-06\n",
      "57.0578      14741.3       0   5.40361e-14       2.15065   1.31155e-06\n",
      "56.9641      11224.8       0   2.30869e-14       2.12776   1.29794e-06\n",
      "56.6407      6896.88       0   2.29615e-15       2.03600   1.11100e-06\n",
      "55.7863      225109        0   1.38320e-16       1.86606   9.77518e-07\n",
      "47.6266      365502       -1   5.63340e-17      0.864294   2.77485e-07\n",
      "***Warning: Zero alpha-matrix diagonal element for parameter 1\n",
      " Parameter 1 is pegged at 5.6334e-17 due to zero or negative pivot element, likely\n",
      " caused by the fit being insensitive to the parameter.\n",
      "25.8825      1.22221e+07  -1   5.63340e-17      0.154822   3.57508e-07\n",
      "14.8095      7.21939e+06  -2   5.63340e-17      0.220756   3.01320e-07\n",
      "4.93879      1.49309e+07  -3   5.63340e-17      0.312980   4.29757e-07\n",
      "3.62427      7.99363e+06  -4   5.63340e-17      0.334426   5.11836e-07\n",
      "3.6185       485746       -5   5.63340e-17      0.335960   5.17579e-07\n",
      "3.61845      2381.94      -6   5.63340e-17      0.336205   5.17844e-07\n",
      "***Warning: Zero alpha-matrix diagonal element for parameter 1\n",
      " Parameter 1 is pegged at 5.6334e-17 due to zero or negative pivot element, likely\n",
      " caused by the fit being insensitive to the parameter.\n",
      "3.61845      7.42013      -3   5.63340e-17      0.336244   5.17882e-07\n",
      "==============================\n",
      " Variances and Principal Axes\n",
      "                 2        3  \n",
      " 4.3914E-15| -0.0000   1.0000  \n",
      " 1.6458E-03|  1.0000   0.0000  \n",
      "------------------------------\n",
      "\n",
      "========================\n",
      "  Covariance Matrix\n",
      "        1           2   \n",
      "   1.646e-03   1.633e-09\n",
      "   1.633e-09   6.011e-15\n",
      "------------------------\n",
      "\n",
      "========================================================================\n",
      "Model TBabs<1>*bbody<2> Source No.: 1   Active/On\n",
      "Model Model Component  Parameter  Unit     Value\n",
      " par  comp\n",
      "   1    1   TBabs      nH         10^22    5.63340E-17  +/-  -1.00000     \n",
      "   2    2   bbody      kT         keV      0.336244     +/-  4.05687E-02  \n",
      "   3    2   bbody      norm                5.17882E-07  +/-  7.75285E-08  \n",
      "________________________________________________________________________\n",
      "\n",
      "\n",
      "Fit statistic  : Chi-Squared                  3.6185     using 9 bins.\n",
      "\n",
      "Test statistic : Chi-Squared                  3.6185     using 9 bins.\n",
      " Null hypothesis probability of 7.2815e-01 with 6 degrees of freedom\n",
      " Model Flux 2.8026e-05 photons (4.3018e-14 ergs/cm^2/s) range (0.20000 - 12.000 keV)\n"
     ]
    }
   ],
   "source": [
    "AllModels.clear()\n",
    "mo = Model(\"tbabs*bbody\")\n",
    "Fit.perform()\n",
    "Plot.device = \"/xs\"\n",
    "Plot(\"data resid\")\n",
    "nH_bbody = mo.TBabs.nH.values[0]\n",
    "AllModels.calcFlux(\".2 12.0\")"
   ]
  },
  {
   "cell_type": "code",
   "execution_count": 5,
   "id": "6c48de73-4acc-4052-9c2b-705487b7395c",
   "metadata": {},
   "outputs": [
    {
     "data": {
      "text/plain": [
       "(-0.5, 859.5, 665.5, -0.5)"
      ]
     },
     "execution_count": 5,
     "metadata": {},
     "output_type": "execute_result"
    },
    {
     "data": {
      "image/png": "[encoded data removed]",
      "text/plain": [
       "<Figure size 1200x700 with 1 Axes>"
      ]
     },
     "metadata": {},
     "output_type": "display_data"
    }
   ],
   "source": [
    "img = plt.imread(glob.glob(\"ObsID*SRCNUM*E*Spectrum_bbody.png\")[0])\n",
    "plt.imshow(img)\n",
    "plt.axis('off')"
   ]
  },
  {
   "cell_type": "markdown",
   "id": "4f76abfe-42d6-4d00-8566-489a2f42bad2",
   "metadata": {},
   "source": [
    "**ztbabs :**"
   ]
  },
  {
   "cell_type": "code",
   "execution_count": 9,
   "id": "dd0d85d1-2517-4d37-b83f-9ede14275317",
   "metadata": {
    "scrolled": true
   },
   "outputs": [
    {
     "name": "stdout",
     "output_type": "stream",
     "text": [
      "\n",
      "========================================================================\n",
      "Model zTBabs<1>*bbody<2> Source No.: 1   Active/On\n",
      "Model Model Component  Parameter  Unit     Value\n",
      " par  comp\n",
      "   1    1   zTBabs     nH         10^22    1.00000      +/-  0.0          \n",
      "   2    1   zTBabs     Redshift            0.0          frozen\n",
      "   3    2   bbody      kT         keV      3.00000      +/-  0.0          \n",
      "   4    2   bbody      norm                1.00000      +/-  0.0          \n",
      "________________________________________________________________________\n",
      "\n",
      "\n",
      "Fit statistic  : Chi-Squared              9.963817e+11     using 9 bins.\n",
      "\n",
      "Test statistic : Chi-Squared              9.963817e+11     using 9 bins.\n",
      " Null hypothesis probability of 0.000000e+00 with 6 degrees of freedom\n",
      " Current data and model not fit yet.\n",
      "\n",
      "Fit statistic  : Chi-Squared              1.149657e+12     using 9 bins.\n",
      "\n",
      "Test statistic : Chi-Squared              1.149657e+12     using 9 bins.\n",
      " Null hypothesis probability of 0.000000e+00 with 6 degrees of freedom\n",
      " Current data and model not fit yet.\n",
      "                                   Parameters\n",
      "Chi-Squared  |beta|/N    Lvl          1:nH          3:kT        4:norm\n",
      "59.72        0.218801      0      0.487305       2.99687   1.95868e-06\n",
      "59.1503      38297.1       0    0.00474256       2.98597   1.94036e-06\n",
      "59.105       81590.7       0    0.00178893       2.96387   1.93433e-06\n",
      "59.0643      75621.7       0   0.000343653       2.94275   1.92699e-06\n",
      "59.0273      70134.7       0   0.000166320       2.92247   1.91850e-06\n",
      "58.9921      65116.8       0   7.90587e-05       2.90293   1.90900e-06\n",
      "58.9581      60652.1       0   3.60634e-05       2.88396   1.89865e-06\n",
      "58.925       56666.4       0   1.48567e-05       2.86550   1.88758e-06\n",
      "58.8926      53119         0   4.38772e-06       2.84745   1.87590e-06\n",
      "58.8605      49948.1       0   1.80177e-06       2.82971   1.86372e-06\n",
      "58.8287      47091.9       0   5.23548e-07       2.81223   1.85111e-06\n",
      "58.7969      44521.8       0   2.07486e-07       2.79496   1.83814e-06\n",
      "58.7651      42193.1       0   5.11234e-08       2.77783   1.82487e-06\n",
      "58.733       40061.6       0   1.24349e-08       2.76080   1.81135e-06\n",
      "58.7006      38095.7       0   2.86026e-09       2.74385   1.79762e-06\n",
      "58.6678      36280.6       0   4.89572e-10       2.72697   1.78373e-06\n",
      "58.6346      34585.2       0   1.95918e-10       2.71007   1.76973e-06\n",
      "58.6008      32950.3       0   5.06301e-11       2.69321   1.75557e-06\n",
      "58.5655      31441.5       0   1.40682e-11       2.67594   1.74196e-06\n",
      "58.5314      29339.2       0   5.35855e-12       2.65945   1.72722e-06\n",
      "58.496       28459.6       0   1.00609e-12       2.64262   1.71287e-06\n",
      "58.4586      27149.5       0   4.20120e-13       2.62527   1.69868e-06\n",
      "58.4175      25419.5       0   1.53031e-13       2.60668   1.68566e-06\n",
      "58.3804      22039.2       0   5.44701e-15       2.58995   1.66951e-06\n",
      "58.0255      22164.1       0   2.66100e-15       2.44425   1.52366e-06\n",
      "40.1522      34145.6      -1   6.03364e-16      0.979482   7.24366e-07\n",
      "29.3921      1.38026e+06  -2   1.42942e-16      0.161024   2.05591e-07\n",
      "***Warning: Zero alpha-matrix diagonal element for parameter 1\n",
      " Parameter 1 is pegged at 1.42942e-16 due to zero or negative pivot element, likely\n",
      " caused by the fit being insensitive to the parameter.\n",
      "11.231       2.30137e+07  -3   1.42942e-16      0.280146   3.14749e-07\n",
      "3.8089       2.01839e+07  -4   1.42942e-16      0.341341   4.94707e-07\n",
      "3.61862      3.14772e+06  -5   1.42942e-16      0.336806   5.18619e-07\n",
      "3.61846      20264.8      -6   1.42942e-16      0.336344   5.17980e-07\n",
      "3.61845      146.68       -7   1.42942e-16      0.336267   5.17905e-07\n",
      "***Warning: Zero alpha-matrix diagonal element for parameter 1\n",
      " Parameter 1 is pegged at 1.42942e-16 due to zero or negative pivot element, likely\n",
      " caused by the fit being insensitive to the parameter.\n",
      "3.61845      10.3405      -3   1.42942e-16      0.336254   5.17893e-07\n",
      "==============================\n",
      " Variances and Principal Axes\n",
      "                 3        4  \n",
      " 4.3924E-15| -0.0000   1.0000  \n",
      " 1.6458E-03|  1.0000   0.0000  \n",
      "------------------------------\n",
      "\n",
      "========================\n",
      "  Covariance Matrix\n",
      "        1           2   \n",
      "   1.646e-03   1.633e-09\n",
      "   1.633e-09   6.014e-15\n",
      "------------------------\n",
      "\n",
      "========================================================================\n",
      "Model zTBabs<1>*bbody<2> Source No.: 1   Active/On\n",
      "Model Model Component  Parameter  Unit     Value\n",
      " par  comp\n",
      "   1    1   zTBabs     nH         10^22    1.42942E-16  +/-  -1.00000     \n",
      "   2    1   zTBabs     Redshift            1.19654      frozen\n",
      "   3    2   bbody      kT         keV      0.336254     +/-  4.05687E-02  \n",
      "   4    2   bbody      norm                5.17893E-07  +/-  7.75468E-08  \n",
      "________________________________________________________________________\n",
      "\n",
      "\n",
      "Fit statistic  : Chi-Squared                  3.6185     using 9 bins.\n",
      "\n",
      "Test statistic : Chi-Squared                  3.6185     using 9 bins.\n",
      " Null hypothesis probability of 7.2815e-01 with 6 degrees of freedom\n",
      " Model Flux 2.8026e-05 photons (4.3019e-14 ergs/cm^2/s) range (0.20000 - 12.000 keV)\n"
     ]
    }
   ],
   "source": [
    "AllModels.clear()\n",
    "moz = Model(\"ztbabs*bbody\")\n",
    "moz.zTBabs.Redshift = z\n",
    "Fit.perform()\n",
    "Plot.device = \"/xs\"\n",
    "Plot(\"data resid\")\n",
    "nH_bbody_z = moz.zTBabs.nH.values[0]\n",
    "AllModels.calcFlux(\".2 12.0\")"
   ]
  },
  {
   "cell_type": "markdown",
   "id": "ff9fb499-d3ba-410c-b6c2-12f7d4ac82a0",
   "metadata": {},
   "source": [
    "### Bremsstrahlung model (Best fit)\n",
    "**tbabs :**"
   ]
  },
  {
   "cell_type": "code",
   "execution_count": 10,
   "id": "bc7143d1-4f88-480b-8906-a357c73c53fc",
   "metadata": {
    "scrolled": true
   },
   "outputs": [
    {
     "name": "stdout",
     "output_type": "stream",
     "text": [
      "\n",
      "========================================================================\n",
      "Model TBabs<1>*bremss<2> Source No.: 1   Active/On\n",
      "Model Model Component  Parameter  Unit     Value\n",
      " par  comp\n",
      "   1    1   TBabs      nH         10^22    1.00000      +/-  0.0          \n",
      "   2    2   bremss     kT         keV      7.00000      +/-  0.0          \n",
      "   3    2   bremss     norm                1.00000      +/-  0.0          \n",
      "________________________________________________________________________\n",
      "\n",
      "\n",
      "Fit statistic  : Chi-Squared              3.343943e+10     using 9 bins.\n",
      "\n",
      "Test statistic : Chi-Squared              3.343943e+10     using 9 bins.\n",
      " Null hypothesis probability of 0.000000e+00 with 6 degrees of freedom\n",
      " Current data and model not fit yet.\n",
      "                                   Parameters\n",
      "Chi-Squared  |beta|/N    Lvl          1:nH          2:kT        3:norm\n",
      "48.018       2.30273      -2      0.414603       26.9144   9.46822e-06\n",
      "40.5364      210047       -1     0.0180190       6.26848   4.19548e-06\n",
      "11.947       835044       -2     0.0746589       1.42395   1.85592e-05\n",
      "2.21073      267195       -3     0.0388674       2.12478   2.36062e-05\n",
      "2.09233      28383        -4     0.0535766       1.85512   2.51147e-05\n",
      "2.08188      6244.64      -5     0.0563916       1.86660   2.55384e-05\n",
      "2.08167      56.2333      -6     0.0572772       1.85489   2.56820e-05\n",
      "2.08165      23.6818      -7     0.0575090       1.85211   2.57189e-05\n",
      "========================================\n",
      " Variances and Principal Axes\n",
      "                 1        2        3  \n",
      " 1.0536E-11| -0.0001   0.0000   1.0000  \n",
      " 1.8027E-03|  0.9990   0.0445   0.0001  \n",
      " 1.4219E+00| -0.0445   0.9990  -0.0000  \n",
      "----------------------------------------\n",
      "\n",
      "====================================\n",
      "  Covariance Matrix\n",
      "        1           2           3   \n",
      "   4.615e-03  -6.314e-02   7.566e-07\n",
      "  -6.314e-02   1.419e+00  -1.291e-05\n",
      "   7.566e-07  -1.291e-05   1.464e-10\n",
      "------------------------------------\n",
      "\n",
      "========================================================================\n",
      "Model TBabs<1>*bremss<2> Source No.: 1   Active/On\n",
      "Model Model Component  Parameter  Unit     Value\n",
      " par  comp\n",
      "   1    1   TBabs      nH         10^22    5.75090E-02  +/-  6.79374E-02  \n",
      "   2    2   bremss     kT         keV      1.85211      +/-  1.19125      \n",
      "   3    2   bremss     norm                2.57189E-05  +/-  1.20992E-05  \n",
      "________________________________________________________________________\n",
      "\n",
      "\n",
      "Fit statistic  : Chi-Squared                  2.0817     using 9 bins.\n",
      "\n",
      "Test statistic : Chi-Squared                  2.0817     using 9 bins.\n",
      " Null hypothesis probability of 9.1204e-01 with 6 degrees of freedom\n",
      " Model Flux 3.1708e-05 photons (5.6136e-14 ergs/cm^2/s) range (0.20000 - 12.000 keV)\n"
     ]
    }
   ],
   "source": [
    "AllModels.clear()\n",
    "mo = Model(\"tbabs*bremss\")\n",
    "Fit.perform()\n",
    "Plot.device = \"/xs\"\n",
    "Plot(\"data resid\")\n",
    "nH_bremss = mo.TBabs.nH.values[0]\n",
    "AllModels.calcFlux(\".2 12.0\")"
   ]
  },
  {
   "cell_type": "code",
   "execution_count": 7,
   "id": "f00f133a-c83a-4c92-9f10-4b5f63f74b3e",
   "metadata": {},
   "outputs": [
    {
     "data": {
      "text/plain": [
       "(-0.5, 861.5, 661.5, -0.5)"
      ]
     },
     "execution_count": 7,
     "metadata": {},
     "output_type": "execute_result"
    },
    {
     "data": {
      "image/png": "[encoded data removed]",
      "text/plain": [
       "<Figure size 1200x700 with 1 Axes>"
      ]
     },
     "metadata": {},
     "output_type": "display_data"
    }
   ],
   "source": [
    "img = plt.imread(glob.glob(\"ObsID*SRCNUM*E*Spectrum_bremss.png\")[0])\n",
    "plt.imshow(img)\n",
    "plt.axis('off')"
   ]
  },
  {
   "cell_type": "markdown",
   "id": "6564caca-e9ea-4b1f-92ea-6195c61a6e56",
   "metadata": {},
   "source": [
    "**ztbabs :**"
   ]
  },
  {
   "cell_type": "code",
   "execution_count": 11,
   "id": "a43a4635-f896-46b2-b10f-92f6dbc894d5",
   "metadata": {
    "scrolled": true
   },
   "outputs": [
    {
     "name": "stdout",
     "output_type": "stream",
     "text": [
      "\n",
      "========================================================================\n",
      "Model zTBabs<1>*bremss<2> Source No.: 1   Active/On\n",
      "Model Model Component  Parameter  Unit     Value\n",
      " par  comp\n",
      "   1    1   zTBabs     nH         10^22    1.00000      +/-  0.0          \n",
      "   2    1   zTBabs     Redshift            0.0          frozen\n",
      "   3    2   bremss     kT         keV      7.00000      +/-  0.0          \n",
      "   4    2   bremss     norm                1.00000      +/-  0.0          \n",
      "________________________________________________________________________\n",
      "\n",
      "\n",
      "Fit statistic  : Chi-Squared              3.334062e+10     using 9 bins.\n",
      "\n",
      "Test statistic : Chi-Squared              3.334062e+10     using 9 bins.\n",
      " Null hypothesis probability of 0.000000e+00 with 6 degrees of freedom\n",
      " Current data and model not fit yet.\n",
      "\n",
      "Fit statistic  : Chi-Squared              9.790903e+10     using 9 bins.\n",
      "\n",
      "Test statistic : Chi-Squared              9.790903e+10     using 9 bins.\n",
      " Null hypothesis probability of 0.000000e+00 with 6 degrees of freedom\n",
      " Current data and model not fit yet.\n",
      "                                   Parameters\n",
      "Chi-Squared  |beta|/N    Lvl          1:nH          3:kT        4:norm\n",
      "6.44318      2.09891      -3      0.164158       3.00689   1.56551e-05\n",
      "3.09827      236856       -4      0.128252       1.78564   2.11388e-05\n",
      "2.60443      54911.1      -5     0.0965698       2.43040   1.95027e-05\n",
      "2.48777      40970.4      -6      0.123220       2.31343   2.09306e-05\n",
      "2.48722      2629.9       -7      0.129160       2.29009   2.11345e-05\n",
      "2.48676      26.4235      -8      0.126393       2.32461   2.10153e-05\n",
      "2.48673      84.2708      -9      0.126652       2.31946   2.10319e-05\n",
      "========================================\n",
      " Variances and Principal Axes\n",
      "                 1        3        4  \n",
      " 7.1019E-12| -0.0000   0.0000   1.0000  \n",
      " 2.5964E-02|  0.9948   0.1019   0.0000  \n",
      " 2.1162E+00| -0.1019   0.9948  -0.0000  \n",
      "----------------------------------------\n",
      "\n",
      "====================================\n",
      "  Covariance Matrix\n",
      "        1           2           3   \n",
      "   4.767e-02  -2.119e-01   1.227e-06\n",
      "  -2.119e-01   2.095e+00  -7.795e-06\n",
      "   1.227e-06  -7.795e-06   4.345e-11\n",
      "------------------------------------\n",
      "\n",
      "========================================================================\n",
      "Model zTBabs<1>*bremss<2> Source No.: 1   Active/On\n",
      "Model Model Component  Parameter  Unit     Value\n",
      " par  comp\n",
      "   1    1   zTBabs     nH         10^22    0.126652     +/-  0.218344     \n",
      "   2    1   zTBabs     Redshift            1.19654      frozen\n",
      "   3    2   bremss     kT         keV      2.31946      +/-  1.44725      \n",
      "   4    2   bremss     norm                2.10319E-05  +/-  6.59176E-06  \n",
      "________________________________________________________________________\n",
      "\n",
      "\n",
      "Fit statistic  : Chi-Squared                  2.4867     using 9 bins.\n",
      "\n",
      "Test statistic : Chi-Squared                  2.4867     using 9 bins.\n",
      " Null hypothesis probability of 8.6995e-01 with 6 degrees of freedom\n",
      " Model Flux 3.6675e-05 photons (6.0954e-14 ergs/cm^2/s) range (0.20000 - 12.000 keV)\n"
     ]
    }
   ],
   "source": [
    "AllModels.clear()\n",
    "moz = Model(\"ztbabs*bremss\")\n",
    "moz.zTBabs.Redshift = z\n",
    "Fit.perform()\n",
    "Plot.device = \"/xs\"\n",
    "Plot(\"data resid\")\n",
    "nH_bremss_z = moz.zTBabs.nH.values[0]\n",
    "AllModels.calcFlux(\".2 12.0\")"
   ]
  },
  {
   "cell_type": "markdown",
   "id": "3edcca3a-8165-4c61-80ed-0b4b4087c8c3",
   "metadata": {},
   "source": [
    "### Apec model (Best ztbabs fit)\n",
    "**tbabs :**"
   ]
  },
  {
   "cell_type": "code",
   "execution_count": 13,
   "id": "44211b71-f33a-424d-95c1-78675d198471",
   "metadata": {},
   "outputs": [
    {
     "name": "stdout",
     "output_type": "stream",
     "text": [
      "\n",
      "========================================================================\n",
      "Model TBabs<1>*apec<2> Source No.: 1   Active/On\n",
      "Model Model Component  Parameter  Unit     Value\n",
      " par  comp\n",
      "   1    1   TBabs      nH         10^22    1.00000      +/-  0.0          \n",
      "   2    2   apec       kT         keV      1.00000      +/-  0.0          \n",
      "   3    2   apec       Abundanc            1.00000      frozen\n",
      "   4    2   apec       Redshift            0.0          frozen\n",
      "   5    2   apec       norm                1.00000      +/-  0.0          \n",
      "________________________________________________________________________\n",
      "\n",
      "\n",
      "Fit statistic  : Chi-Squared              5.176106e+09     using 9 bins.\n",
      "\n",
      "Test statistic : Chi-Squared              5.176106e+09     using 9 bins.\n",
      " Null hypothesis probability of 0.000000e+00 with 6 degrees of freedom\n",
      " Current data and model not fit yet.\n",
      "                                   Parameters\n",
      "Chi-Squared  |beta|/N    Lvl          1:nH          2:kT        5:norm\n",
      "23.3401      2.45811      -1       1.07505      0.647373   0.000104858\n",
      "20.4344      32783.3      -2       1.00366      0.420681   0.000186624\n",
      "17.2614      15680.8      -2      0.990660      0.545722   0.000154099\n",
      "17.1431      7332.67      -2       1.03421      0.483789   0.000202773\n",
      "16.9708      4409.54      -2       1.01068      0.530264   0.000177226\n",
      "16.9462      1776.17      -2       1.02362      0.507280   0.000195677\n",
      "16.9455      671.351      -2       1.01547      0.523068   0.000185572\n",
      "16.9451      226.873      -2       1.02559      0.505492   0.000198176\n",
      "16.9449      376.88       -2       1.01628      0.521996   0.000186310\n",
      "16.9424      264.335      -1       1.01637      0.518595   0.000188341\n",
      "16.941       101.295      -1       1.01749      0.516062   0.000190066\n",
      "16.94        83.0145      -1       1.01877      0.514089   0.000191586\n",
      "16.9399      70.9029       0       1.01888      0.513917   0.000191733\n",
      "========================================\n",
      " Variances and Principal Axes\n",
      "                 1        2        5  \n",
      " 7.7010E-10| -0.0004   0.0005   1.0000  \n",
      " 1.1309E-02|  0.7783   0.6279   0.0000  \n",
      " 1.4293E-01| -0.6279   0.7783  -0.0006  \n",
      "----------------------------------------\n",
      "\n",
      "====================================\n",
      "  Covariance Matrix\n",
      "        1           2           3   \n",
      "   6.319e-02  -6.432e-02   5.755e-05\n",
      "  -6.432e-02   9.105e-02  -7.133e-05\n",
      "   5.755e-05  -7.133e-05   5.954e-08\n",
      "------------------------------------\n",
      "\n",
      "========================================================================\n",
      "Model TBabs<1>*apec<2> Source No.: 1   Active/On\n",
      "Model Model Component  Parameter  Unit     Value\n",
      " par  comp\n",
      "   1    1   TBabs      nH         10^22    1.01888      +/-  0.251385     \n",
      "   2    2   apec       kT         keV      0.513917     +/-  0.301739     \n",
      "   3    2   apec       Abundanc            1.00000      frozen\n",
      "   4    2   apec       Redshift            0.0          frozen\n",
      "   5    2   apec       norm                1.91733E-04  +/-  2.44011E-04  \n",
      "________________________________________________________________________\n",
      "\n",
      "\n",
      "Fit statistic  : Chi-Squared                 16.9399     using 9 bins.\n",
      "\n",
      "Test statistic : Chi-Squared                 16.9399     using 9 bins.\n",
      " Null hypothesis probability of 9.5066e-03 with 6 degrees of freedom\n",
      " Model Flux 1.6793e-05 photons (3.4415e-14 ergs/cm^2/s) range (0.20000 - 12.000 keV)\n"
     ]
    }
   ],
   "source": [
    "AllModels.clear()\n",
    "mo = Model(\"tbabs*apec\")\n",
    "Fit.perform()\n",
    "Plot.device = \"/xs\"\n",
    "Plot(\"data resid\")\n",
    "nH_apec = mo.TBabs.nH.values[0]\n",
    "AllModels.calcFlux(\".2 12.0\")"
   ]
  },
  {
   "cell_type": "code",
   "execution_count": 9,
   "id": "629f01ff-336d-445c-8328-31a864f052a1",
   "metadata": {},
   "outputs": [
    {
     "data": {
      "text/plain": [
       "(-0.5, 862.5, 662.5, -0.5)"
      ]
     },
     "execution_count": 9,
     "metadata": {},
     "output_type": "execute_result"
    },
    {
     "data": {
      "image/png": "[encoded data removed]",
      "text/plain": [
       "<Figure size 1200x700 with 1 Axes>"
      ]
     },
     "metadata": {},
     "output_type": "display_data"
    }
   ],
   "source": [
    "img = plt.imread(glob.glob(\"ObsID*SRCNUM*E*Spectrum_apec.png\")[0])\n",
    "plt.imshow(img)\n",
    "plt.axis('off')"
   ]
  },
  {
   "cell_type": "markdown",
   "id": "48e83f3d-e96b-419c-9fac-db37f6c25104",
   "metadata": {},
   "source": [
    "**ztbabs :**"
   ]
  },
  {
   "cell_type": "code",
   "execution_count": 14,
   "id": "57033c63-0ba6-45e2-a693-7cbe833e4be3",
   "metadata": {
    "scrolled": true
   },
   "outputs": [
    {
     "name": "stdout",
     "output_type": "stream",
     "text": [
      "\n",
      "========================================================================\n",
      "Model zTBabs<1>*apec<2> Source No.: 1   Active/On\n",
      "Model Model Component  Parameter  Unit     Value\n",
      " par  comp\n",
      "   1    1   zTBabs     nH         10^22    1.00000      +/-  0.0          \n",
      "   2    1   zTBabs     Redshift            0.0          frozen\n",
      "   3    2   apec       kT         keV      1.00000      +/-  0.0          \n",
      "   4    2   apec       Abundanc            1.00000      frozen\n",
      "   5    2   apec       Redshift            0.0          frozen\n",
      "   6    2   apec       norm                1.00000      +/-  0.0          \n",
      "________________________________________________________________________\n",
      "\n",
      "\n",
      "Fit statistic  : Chi-Squared              5.014496e+09     using 9 bins.\n",
      "\n",
      "Test statistic : Chi-Squared              5.014496e+09     using 9 bins.\n",
      " Null hypothesis probability of 0.000000e+00 with 6 degrees of freedom\n",
      " Current data and model not fit yet.\n",
      "\n",
      "Fit statistic  : Chi-Squared              2.653470e+11     using 9 bins.\n",
      "\n",
      "Test statistic : Chi-Squared              2.653470e+11     using 9 bins.\n",
      " Null hypothesis probability of 0.000000e+00 with 6 degrees of freedom\n",
      " Current data and model not fit yet.\n",
      "                                   Parameters\n",
      "Chi-Squared  |beta|/N    Lvl          1:nH          3:kT        6:norm\n",
      "30.6393      0.118941     -1      0.745580       1.02390   1.05446e-05\n",
      "27.6539      242.894      -1      0.115272       1.06407   8.62956e-06\n",
      "26.4248      64098.5       0     0.0323368       1.10945   8.55548e-06\n",
      "25.1251      157380       -1     0.0152268       1.40381   1.01200e-05\n",
      "2.91834      414972       -2    0.00274600       2.33776   3.10895e-05\n",
      "1.14255      94349.2      -3   0.000629931       2.60635   3.73065e-05\n",
      "1.13649      22407.2      -4   0.000179644       2.54752   3.70512e-05\n",
      "1.13392      21753.5      -5   6.86849e-05       2.57192   3.71755e-05\n",
      "1.13338      21850.3      -6   1.33632e-05       2.57152   3.71744e-05\n",
      "1.13333      21816.3      -7   6.45551e-06       2.57152   3.71744e-05\n",
      "========================================\n",
      " Variances and Principal Axes\n",
      "                 1        3        6  \n",
      " 2.3548E-11| -0.0000  -0.0000   1.0000  \n",
      " 2.6258E-02|  0.9996  -0.0277   0.0000  \n",
      " 8.3673E-01|  0.0277   0.9996   0.0000  \n",
      "----------------------------------------\n",
      "\n",
      "====================================\n",
      "  Covariance Matrix\n",
      "        1           2           3   \n",
      "   2.688e-02   2.246e-02   8.598e-07\n",
      "   2.246e-02   8.361e-01   5.367e-06\n",
      "   8.598e-07   5.367e-06   7.749e-11\n",
      "------------------------------------\n",
      "\n",
      "========================================================================\n",
      "Model zTBabs<1>*apec<2> Source No.: 1   Active/On\n",
      "Model Model Component  Parameter  Unit     Value\n",
      " par  comp\n",
      "   1    1   zTBabs     nH         10^22    6.45551E-06  +/-  0.163953     \n",
      "   2    1   zTBabs     Redshift            1.19654      frozen\n",
      "   3    2   apec       kT         keV      2.57152      +/-  0.914387     \n",
      "   4    2   apec       Abundanc            1.00000      frozen\n",
      "   5    2   apec       Redshift            0.0          frozen\n",
      "   6    2   apec       norm                3.71744E-05  +/-  8.80269E-06  \n",
      "________________________________________________________________________\n",
      "\n",
      "\n",
      "Fit statistic  : Chi-Squared                  1.1333     using 9 bins.\n",
      "\n",
      "Test statistic : Chi-Squared                  1.1333     using 9 bins.\n",
      " Null hypothesis probability of 9.8005e-01 with 6 degrees of freedom\n",
      " Model Flux 3.9686e-05 photons (6.412e-14 ergs/cm^2/s) range (0.20000 - 12.000 keV)\n"
     ]
    }
   ],
   "source": [
    "AllModels.clear()\n",
    "moz = Model(\"ztbabs*apec\")\n",
    "moz.zTBabs.Redshift = z\n",
    "Fit.perform()\n",
    "Plot.device = \"/xs\"\n",
    "Plot(\"data resid\")\n",
    "nH_apec_z = moz.zTBabs.nH.values[0]\n",
    "AllModels.calcFlux(\".2 12.0\")"
   ]
  },
  {
   "cell_type": "code",
   "execution_count": 27,
   "id": "9f90dc51-2683-4e63-8fef-76181bdd8c57",
   "metadata": {},
   "outputs": [
    {
     "data": {
      "text/plain": [
       "(-0.5, 861.5, 659.5, -0.5)"
      ]
     },
     "execution_count": 27,
     "metadata": {},
     "output_type": "execute_result"
    },
    {
     "data": {
      "image/png": "[encoded data removed]",
      "text/plain": [
       "<Figure size 1200x700 with 1 Axes>"
      ]
     },
     "metadata": {},
     "output_type": "display_data"
    }
   ],
   "source": [
    "img = plt.imread(glob.glob(\"ObsID*SRCNUM*E*Spectrum_apec_z.png\")[0])\n",
    "plt.imshow(img)\n",
    "plt.axis('off')"
   ]
  },
  {
   "cell_type": "markdown",
   "id": "9f19aeb6-3c27-44a9-8ad3-a2eb2777e421",
   "metadata": {},
   "source": [
    "### Powerlaw model\n",
    "**tbabs :**"
   ]
  },
  {
   "cell_type": "code",
   "execution_count": 15,
   "id": "fc843b1e-55d0-4f4e-b327-7099376aa318",
   "metadata": {},
   "outputs": [
    {
     "name": "stdout",
     "output_type": "stream",
     "text": [
      "\n",
      "========================================================================\n",
      "Model TBabs<1>*powerlaw<2> Source No.: 1   Active/On\n",
      "Model Model Component  Parameter  Unit     Value\n",
      " par  comp\n",
      "   1    1   TBabs      nH         10^22    1.00000      +/-  0.0          \n",
      "   2    2   powerlaw   PhoIndex            1.00000      +/-  0.0          \n",
      "   3    2   powerlaw   norm                1.00000      +/-  0.0          \n",
      "________________________________________________________________________\n",
      "\n",
      "\n",
      "Fit statistic  : Chi-Squared              2.233774e+11     using 9 bins.\n",
      "\n",
      "Test statistic : Chi-Squared              2.233774e+11     using 9 bins.\n",
      " Null hypothesis probability of 0.000000e+00 with 6 degrees of freedom\n",
      " Current data and model not fit yet.\n",
      "                                   Parameters\n",
      "Chi-Squared  |beta|/N    Lvl          1:nH    2:PhoIndex        3:norm\n",
      "46.7234      1.88599       0      0.367349       1.22879   5.54080e-06\n",
      "24.696       356549       -1     0.0409373       1.75302   6.15735e-06\n",
      "7.30299      795267       -2      0.181996       2.92212   1.82120e-05\n",
      "3.90714      211098       -3      0.100021       2.04108   2.02772e-05\n",
      "2.52799      98125        -4      0.145052       2.44681   2.22133e-05\n",
      "2.51728      4446.12      -5      0.155176       2.51402   2.29007e-05\n",
      "2.51694      304.54       -6      0.155818       2.51301   2.29655e-05\n",
      "2.51692      1.18562      -7      0.156305       2.51546   2.30054e-05\n",
      "========================================\n",
      " Variances and Principal Axes\n",
      "                 1        2        3  \n",
      " 8.4838E-12| -0.0001   0.0000   1.0000  \n",
      " 2.0740E-03|  0.9878  -0.1556   0.0001  \n",
      " 5.1455E-01|  0.1556   0.9878   0.0000  \n",
      "----------------------------------------\n",
      "\n",
      "====================================\n",
      "  Covariance Matrix\n",
      "   3    1           2        \n",
      "   1.448e-02   7.877e-02   1.178e-06\n",
      "   7.877e-02   5.021e-01   6.327e-06\n",
      "   1.178e-06   6.327e-06   1.043e-10\n",
      "------------------------------------\n",
      "\n",
      "========================================================================\n",
      "Model TBabs<1>*powerlaw<2> Source No.: 1   Active/On\n",
      "Model Model Component  Parameter  Unit     Value\n",
      " par  comp\n",
      "   1    1   TBabs      nH         10^22    0.156305     +/-  0.120342     \n",
      "   2    2   powerlaw   PhoIndex            2.51546      +/-  0.708617     \n",
      "   3    2   powerlaw   norm                2.30054E-05  +/-  1.02145E-05  \n",
      "________________________________________________________________________\n",
      "\n",
      "\n",
      "Fit statistic  : Chi-Squared                  2.5169     using 9 bins.\n",
      "\n",
      "Test statistic : Chi-Squared                  2.5169     using 9 bins.\n",
      " Null hypothesis probability of 8.6657e-01 with 6 degrees of freedom\n",
      " Model Flux 2.9989e-05 photons (6.4464e-14 ergs/cm^2/s) range (0.20000 - 12.000 keV)\n"
     ]
    }
   ],
   "source": [
    "AllModels.clear()\n",
    "mo = Model(\"tbabs*powerlaw\")\n",
    "Fit.perform()\n",
    "Plot.device = \"/xs\"\n",
    "Plot(\"data resid\")\n",
    "nH_powerlaw = mo.TBabs.nH.values[0]\n",
    "AllModels.calcFlux(\".2 12.0\")"
   ]
  },
  {
   "cell_type": "code",
   "execution_count": 11,
   "id": "85b08776-73cd-4f36-a843-c34effff4655",
   "metadata": {},
   "outputs": [
    {
     "data": {
      "text/plain": [
       "(-0.5, 861.5, 662.5, -0.5)"
      ]
     },
     "execution_count": 11,
     "metadata": {},
     "output_type": "execute_result"
    },
    {
     "data": {
      "image/png": "[encoded data removed]",
      "text/plain": [
       "<Figure size 1200x700 with 1 Axes>"
      ]
     },
     "metadata": {},
     "output_type": "display_data"
    }
   ],
   "source": [
    "img = plt.imread(glob.glob(\"ObsID*SRCNUM*E*Spectrum_powerlaw.png\")[0])\n",
    "plt.imshow(img)\n",
    "plt.axis('off')"
   ]
  },
  {
   "cell_type": "markdown",
   "id": "c238347b-7ccd-44b4-bfc5-ae198734ea95",
   "metadata": {},
   "source": [
    "**ztbabs :**"
   ]
  },
  {
   "cell_type": "code",
   "execution_count": 16,
   "id": "83a5ff9d-44cf-4bf9-9e9c-505757f4f974",
   "metadata": {
    "scrolled": true
   },
   "outputs": [
    {
     "name": "stdout",
     "output_type": "stream",
     "text": [
      "\n",
      "========================================================================\n",
      "Model zTBabs<1>*powerlaw<2> Source No.: 1   Active/On\n",
      "Model Model Component  Parameter  Unit     Value\n",
      " par  comp\n",
      "   1    1   zTBabs     nH         10^22    1.00000      +/-  0.0          \n",
      "   2    1   zTBabs     Redshift            0.0          frozen\n",
      "   3    2   powerlaw   PhoIndex            1.00000      +/-  0.0          \n",
      "   4    2   powerlaw   norm                1.00000      +/-  0.0          \n",
      "________________________________________________________________________\n",
      "\n",
      "\n",
      "Fit statistic  : Chi-Squared              2.230835e+11     using 9 bins.\n",
      "\n",
      "Test statistic : Chi-Squared              2.230835e+11     using 9 bins.\n",
      " Null hypothesis probability of 0.000000e+00 with 6 degrees of freedom\n",
      " Current data and model not fit yet.\n",
      "\n",
      "Fit statistic  : Chi-Squared              3.947103e+11     using 9 bins.\n",
      "\n",
      "Test statistic : Chi-Squared              3.947103e+11     using 9 bins.\n",
      " Null hypothesis probability of 0.000000e+00 with 6 degrees of freedom\n",
      " Current data and model not fit yet.\n",
      "                                   Parameters\n",
      "Chi-Squared  |beta|/N    Lvl          1:nH    3:PhoIndex        4:norm\n",
      "15.0149      5.12474      -3      0.485340       1.75181   1.06828e-05\n",
      "7.51799      403525       -4      0.233740       2.31692   1.67103e-05\n",
      "3.83404      268193       -5      0.165199       1.87601   1.45449e-05\n",
      "3.61881      31273.7      -6      0.273522       2.05410   1.54195e-05\n",
      "3.6111       816.784      -7      0.277052       2.03630   1.54752e-05\n",
      "3.61062      92.8517      -8      0.283373       2.04584   1.55426e-05\n",
      "3.6106       4.25217      -9      0.283361       2.04444   1.55439e-05\n",
      "========================================\n",
      " Variances and Principal Axes\n",
      "                 1        3        4  \n",
      " 3.9555E-12| -0.0000   0.0000   1.0000  \n",
      " 2.1005E-02|  0.8459  -0.5334   0.0000  \n",
      " 2.5793E-01|  0.5334   0.8459   0.0000  \n",
      "----------------------------------------\n",
      "\n",
      "====================================\n",
      "  Covariance Matrix\n",
      "        1           2           3   \n",
      "   8.840e-02   1.069e-01   9.839e-07\n",
      "   1.069e-01   1.905e-01   1.128e-06\n",
      "   9.839e-07   1.128e-06   1.497e-11\n",
      "------------------------------------\n",
      "\n",
      "========================================================================\n",
      "Model zTBabs<1>*powerlaw<2> Source No.: 1   Active/On\n",
      "Model Model Component  Parameter  Unit     Value\n",
      " par  comp\n",
      "   1    1   zTBabs     nH         10^22    0.283361     +/-  0.297329     \n",
      "   2    1   zTBabs     Redshift            1.19654      frozen\n",
      "   3    2   powerlaw   PhoIndex            2.04444      +/-  0.436499     \n",
      "   4    2   powerlaw   norm                1.55439E-05  +/-  3.86886E-06  \n",
      "________________________________________________________________________\n",
      "\n",
      "\n",
      "Fit statistic  : Chi-Squared                  3.6106     using 9 bins.\n",
      "\n",
      "Test statistic : Chi-Squared                  3.6106     using 9 bins.\n",
      " Null hypothesis probability of 7.2920e-01 with 6 degrees of freedom\n",
      " Model Flux  3.57e-05 photons (7.7173e-14 ergs/cm^2/s) range (0.20000 - 12.000 keV)\n"
     ]
    }
   ],
   "source": [
    "AllModels.clear()\n",
    "moz = Model(\"ztbabs*powerlaw\")\n",
    "moz.zTBabs.Redshift = z\n",
    "Fit.perform()\n",
    "Plot.device = \"/xs\"\n",
    "Plot(\"data resid\")\n",
    "nH_powerlaw_z = moz.zTBabs.nH.values[0]\n",
    "AllModels.calcFlux(\".2 12.0\")"
   ]
  },
  {
   "cell_type": "markdown",
   "id": "547fb5c8-0606-4d45-b84f-321b732f37da",
   "metadata": {},
   "source": [
    "### Black body + Powerlaw model\n",
    "**tbabs :**"
   ]
  },
  {
   "cell_type": "code",
   "execution_count": 17,
   "id": "cc98a04d-9a99-4863-97a3-e3b5543876a5",
   "metadata": {
    "scrolled": true
   },
   "outputs": [
    {
     "name": "stdout",
     "output_type": "stream",
     "text": [
      "\n",
      "========================================================================\n",
      "Model TBabs<1>(bbody<2> + powerlaw<3>) Source No.: 1   Active/On\n",
      "Model Model Component  Parameter  Unit     Value\n",
      " par  comp\n",
      "   1    1   TBabs      nH         10^22    1.00000      +/-  0.0          \n",
      "   2    2   bbody      kT         keV      3.00000      +/-  0.0          \n",
      "   3    2   bbody      norm                1.00000      +/-  0.0          \n",
      "   4    3   powerlaw   PhoIndex            1.00000      +/-  0.0          \n",
      "   5    3   powerlaw   norm                1.00000      +/-  0.0          \n",
      "________________________________________________________________________\n",
      "\n",
      "\n",
      "Fit statistic  : Chi-Squared              2.097826e+12     using 9 bins.\n",
      "\n",
      "Test statistic : Chi-Squared              2.097826e+12     using 9 bins.\n",
      " Null hypothesis probability of 0.000000e+00 with 4 degrees of freedom\n",
      " Current data and model not fit yet.\n",
      "                                   Parameters\n",
      "Chi-Squared  |beta|/N    Lvl          1:nH          2:kT        3:norm    4:PhoIndex        5:norm\n",
      "52.593       132513        0      0.148593       3.44776   8.91558e-07       1.55097   1.87725e-06\n",
      "6.19072      500832       -1     0.0405969       5.26115   2.68464e-07       2.10637   1.16807e-05\n",
      "4.90829      152607       -1     0.0393084       19.6745   2.86755e-08       1.70997   1.52704e-05\n",
      "3.68865      43374.1      -2     0.0685798       199.168   1.35314e-08       1.92205   1.72487e-05\n",
      "3.13686      33072.8      -3     0.0921817       199.338   3.62184e-09       2.07370   1.87688e-05\n",
      "3.08453      22798.5      -3     0.0983407       199.353   1.19478e-09       2.10368   1.92397e-05\n",
      "3.05566      23049.8      -4      0.100671       199.361   3.89317e-10       2.11642   1.94009e-05\n",
      "3.04701      22435.6      -3      0.101363       199.362   1.63208e-10       2.12017   1.94470e-05\n",
      "3.04602      22187.7      -4      0.101497       63.0238   2.43685e-11       2.12077   1.94563e-05\n",
      "3.04102      22159.3      -2      0.101815       198.855   9.72278e-13       2.12282   1.94795e-05\n",
      "2.99254      22103.7      -1      0.102617       199.349   2.07204e-13       2.13376   1.94873e-05\n",
      "2.98909      20075.9      -1      0.103020       199.360   9.87577e-15       2.13725   1.95473e-05\n",
      "2.92539      21048.8       0      0.103500       199.362   4.15973e-15       2.14975   1.94810e-05\n",
      "2.87528      17317         0      0.103928       199.363   1.21131e-15       2.16159   1.94358e-05\n",
      "2.7974       14525.1      -1      0.106728       199.363   2.00939e-16       2.18991   1.95384e-05\n",
      "2.64006      10772.4      -2      0.119594       199.363   2.37859e-17       2.28534   2.03197e-05\n",
      "***Warning: Zero alpha-matrix diagonal element for parameter 2\n",
      "***Warning: Zero alpha-matrix diagonal element for parameter 3\n",
      " Parameter 2 is pegged at 199.363 due to zero or negative pivot element, likely\n",
      " caused by the fit being insensitive to the parameter.\n",
      " Parameter 3 is pegged at 2.37859e-17 due to zero or negative pivot element, likely\n",
      " caused by the fit being insensitive to the parameter.\n",
      "2.52198      8010.85      -3      0.150125       199.363   2.37859e-17       2.49595   2.24052e-05\n",
      "2.51722      3464.4       -4      0.154246       199.363   2.37859e-17       2.50654   2.28324e-05\n",
      "2.51694      131.032      -5      0.155896       199.363   2.37859e-17       2.51390   2.29711e-05\n",
      "2.51692      14.2299      -6      0.156276       199.363   2.37859e-17       2.51526   2.30031e-05\n",
      "***Warning: Zero alpha-matrix diagonal element for parameter 2\n",
      "***Warning: Zero alpha-matrix diagonal element for parameter 3\n",
      " Parameter 2 is pegged at 199.363 due to zero or negative pivot element, likely\n",
      " caused by the fit being insensitive to the parameter.\n",
      " Parameter 3 is pegged at 2.37859e-17 due to zero or negative pivot element, likely\n",
      " caused by the fit being insensitive to the parameter.\n",
      "  2.51571   2.30124e-05   -3      0.156388       199.363   2.37859e-17     \n",
      "========================================\n",
      " Variances and Principal Axes\n",
      "                 1        4        5  \n",
      " 8.5116E-12| -0.0001   0.0000   1.0000  \n",
      " 2.0772E-03|  0.9878  -0.1556   0.0001  \n",
      " 5.1562E-01|  0.1556   0.9878   0.0000  \n",
      "----------------------------------------\n",
      "\n",
      "====================================\n",
      "  Covariance Matrix\n",
      "        1           2           3   \n",
      "   1.452e-02   7.895e-02   1.182e-06\n",
      "   7.895e-02   5.032e-01   6.349e-06\n",
      "   1.182e-06   6.349e-06   1.048e-10\n",
      "------------------------------------\n",
      "\n",
      "========================================================================\n",
      "Model TBabs<1>(bbody<2> + powerlaw<3>) Source No.: 1   Active/On\n",
      "Model Model Component  Parameter  Unit     Value\n",
      " par  comp\n",
      "   1    1   TBabs      nH         10^22    0.156388     +/-  0.120483     \n",
      "   2    2   bbody      kT         keV      199.363      +/-  -1.00000     \n",
      "   3    2   bbody      norm                2.37859E-17  +/-  -1.00000     \n",
      "   4    3   powerlaw   PhoIndex            2.51571      +/-  0.709353     \n",
      "   5    3   powerlaw   norm                2.30124E-05  +/-  1.02384E-05  \n",
      "________________________________________________________________________\n",
      "\n",
      "\n",
      "Fit statistic  : Chi-Squared                  2.5169     using 9 bins.\n",
      "\n",
      "Test statistic : Chi-Squared                  2.5169     using 9 bins.\n",
      " Null hypothesis probability of 6.4161e-01 with 4 degrees of freedom\n",
      " Model Flux 2.9987e-05 photons (6.4462e-14 ergs/cm^2/s) range (0.20000 - 12.000 keV)\n"
     ]
    }
   ],
   "source": [
    "AllModels.clear()\n",
    "mo = Model(\"tbabs*(bbody+powerlaw)\")\n",
    "Fit.perform()\n",
    "Plot.device = \"/xs\"\n",
    "Plot(\"data resid\")\n",
    "nH_bbodypowerlaw = mo.TBabs.nH.values[0]\n",
    "AllModels.calcFlux(\".2 12.0\")"
   ]
  },
  {
   "cell_type": "code",
   "execution_count": 7,
   "id": "829115e9-c867-4f01-aa41-5f9c01c3ff25",
   "metadata": {},
   "outputs": [
    {
     "data": {
      "text/plain": [
       "(-0.5, 856.5, 661.5, -0.5)"
      ]
     },
     "execution_count": 7,
     "metadata": {},
     "output_type": "execute_result"
    },
    {
     "data": {
      "image/png": "[encoded data removed]",
      "text/plain": [
       "<Figure size 1200x700 with 1 Axes>"
      ]
     },
     "metadata": {},
     "output_type": "display_data"
    }
   ],
   "source": [
    "img = plt.imread(glob.glob(\"ObsID*SRCNUM*E*Spectrum_bbodypowerlaw.png\")[0])\n",
    "plt.imshow(img)\n",
    "plt.axis('off')"
   ]
  },
  {
   "cell_type": "markdown",
   "id": "7603b8c7-4334-42e4-8a4d-64cc5a660d7f",
   "metadata": {},
   "source": [
    "**ztbabs :**"
   ]
  },
  {
   "cell_type": "code",
   "execution_count": 18,
   "id": "dc5aca31-c496-4365-87fa-a1ff1bd6de3d",
   "metadata": {
    "scrolled": true
   },
   "outputs": [
    {
     "name": "stdout",
     "output_type": "stream",
     "text": [
      "\n",
      "========================================================================\n",
      "Model zTBabs<1>(bbody<2> + powerlaw<3>) Source No.: 1   Active/On\n",
      "Model Model Component  Parameter  Unit     Value\n",
      " par  comp\n",
      "   1    1   zTBabs     nH         10^22    1.00000      +/-  0.0          \n",
      "   2    1   zTBabs     Redshift            0.0          frozen\n",
      "   3    2   bbody      kT         keV      3.00000      +/-  0.0          \n",
      "   4    2   bbody      norm                1.00000      +/-  0.0          \n",
      "   5    3   powerlaw   PhoIndex            1.00000      +/-  0.0          \n",
      "   6    3   powerlaw   norm                1.00000      +/-  0.0          \n",
      "________________________________________________________________________\n",
      "\n",
      "\n",
      "Fit statistic  : Chi-Squared              2.096879e+12     using 9 bins.\n",
      "\n",
      "Test statistic : Chi-Squared              2.096879e+12     using 9 bins.\n",
      " Null hypothesis probability of 0.000000e+00 with 4 degrees of freedom\n",
      " Current data and model not fit yet.\n",
      "\n",
      "Fit statistic  : Chi-Squared              2.676895e+12     using 9 bins.\n",
      "\n",
      "Test statistic : Chi-Squared              2.676895e+12     using 9 bins.\n",
      " Null hypothesis probability of 0.000000e+00 with 4 degrees of freedom\n",
      " Current data and model not fit yet.\n",
      "                                   Parameters\n",
      "Chi-Squared  |beta|/N    Lvl          1:nH          3:kT        4:norm    5:PhoIndex        6:norm\n",
      "24.4049      374415       -2      0.464226       4.50487   9.85657e-07       1.55296   7.71522e-06\n",
      "18.7516      321949       -3      0.182367       40.8018   1.26603e-05       1.25580   1.45918e-05\n",
      "5.10392      229496       -4      0.125660       199.251    0.00341216       1.72669   1.51318e-05\n",
      "5.02006      89131.1      -1      0.135292       199.353   0.000688878       1.69998   1.48352e-05\n",
      "5.01802      64703.6      -1      0.135574       199.359   1.48057e-05       1.69672   1.48066e-05\n",
      "4.56358      62840.6       0      0.139136       199.362   1.82249e-06       1.73671   1.46490e-05\n",
      "4.34181      46665.6       0      0.143415       199.363   3.18021e-07       1.76280   1.45782e-05\n",
      "4.22177      37594.8       0      0.147844       199.363   1.39039e-07       1.78041   1.45567e-05\n",
      "4.15041      32324.4       0      0.152171       199.363   5.24360e-08       1.79289   1.45629e-05\n",
      "4.10426      29197.8       0      0.156297       199.363   1.00921e-08       1.80224   1.45843e-05\n",
      "   27312.9       0      0.160189       199.363   4.88246e-09       1.80963   1.46135e-05\n",
      "4.04813      26153.2       0      0.163845       199.363   2.30855e-09       1.81576   1.46463e-05\n",
      "4.0293       25423.2       0      0.167270       199.363   1.03363e-09       1.82102   1.46802e-05\n",
      "4.01383      24947.2       0      0.170476       199.363   4.01075e-10       1.82566   1.47138e-05\n",
      "4.00068      24623.4       0      0.173474       199.363   8.69035e-11       1.82985   1.47462e-05\n",
      "3.9892       24392.3       0      0.176278       199.363   8.84197e-12       1.83367   1.47772e-05\n",
      "3.97957      24213.8       0      0.178907       199.363   3.95749e-12       1.83708   1.48069e-05\n",
      "3.9706       24092.5       0      0.181308       199.363   1.54522e-12       1.84032   1.48349e-05\n",
      "3.96031      24029.7       0      0.183730       199.363   3.35607e-13       1.84357   1.48567e-05\n",
      "3.95514      23596.8       0      0.185708       199.363   1.86605e-14       1.84584   1.48809e-05\n",
      "3.92222      23620.7       0      0.186132       199.363   9.76882e-16       1.85251   1.48560e-05\n",
      "3.88036      21808.2       0      0.189490       199.363   4.06703e-16       1.86264   1.48468e-05\n",
      "3.82433      18917.1       0      0.192564       199.363   1.24913e-16       1.87677   1.47997e-05\n",
      "3.79584      14121.9       0      0.195253       199.363   4.06362e-17       1.88566   1.47882e-05\n",
      "***Warning: Zero alpha-matrix diagonal element for parameter 3\n",
      "***Warning: Zero alpha-matrix diagonal element for parameter 4\n",
      " Parameter 3 is pegged at 199.363 due to zero or negative pivot element, likely\n",
      " caused by the fit being insensitive to the parameter.\n",
      " Parameter 4 is pegged at 4.06362e-17 due to zero or negative pivot element, likely\n",
      " caused by the fit being insensitive to the parameter.\n",
      "3.63423      19502        -1      0.236225       199.363   4.06362e-17       1.99528   1.49929e-05\n",
      "3.61236      1474.97      -2      0.273226       199.363   4.06362e-17       2.03990   1.54151e-05\n",
      "3.61069      674.543      -3      0.280786       199.363   4.06362e-17       2.04252   1.55138e-05\n",
      "3.6106       18.1497      -4      0.283212       199.363   4.06362e-17       2.04477   1.55417e-05\n",
      "3.6106       0.7827        1      0.283213       200.000   1.84335e-17       2.04475   1.55418e-05\n",
      "============================================================\n",
      " Variances and Principal Axes\n",
      "                 1        3        4        5        6  \n",
      " 1.1642E-12|  0.0000  -0.0000   0.0029  -1.0000   0.0000  \n",
      " 1.1642E-10|  0.0000   0.0000  -0.0000  -0.0000   1.0000  \n",
      " 1.1026E-01|  1.0000   0.0000   0.0000   0.0000   0.0000  \n",
      " 1.8276E+21|  0.0000  -0.0000  -1.0000  -0.0029  -0.0000  \n",
      " 1.0997E+58|  0.0000  -1.0000   0.0000   0.0000   0.0000  \n",
      "------------------------------------------------------------\n",
      "\n",
      "============================================================\n",
      "  Covariance Matrix\n",
      "        1           2           3           4           5   \n",
      "   1.103e-01   4.443e+20   1.433e+02   1.547e-01   1.148e-06\n",
      "  -1.294e+20   1.100e+58   2.242e+39  -5.928e+20  -3.478e+15\n",
      "   2.637e+01   2.242e+39   4.569e+20  -5.297e+00  -3.127e-04\n",
      "   1.547e-01   4.695e+20   2.112e+02   2.952e-01   1.487e-06\n",
      "   1.148e-06   7.038e+15   1.831e-03   1.487e-06   1.620e-11\n",
      "------------------------------------------------------------\n",
      "\n",
      "========================================================================\n",
      "Model zTBabs<1>(bbody<2> + powerlaw<3>) Source No.: 1   Active/On\n",
      "Model Model Component  Parameter  Unit     Value\n",
      " par  comp\n",
      "   1    1   zTBabs     nH         10^22    0.283213     +/-  0.332058     \n",
      "   2    1   zTBabs     Redshift            1.19654      frozen\n",
      "   3    2   bbody      kT         keV      200.000      +/-  1.04868E+29  \n",
      "   4    2   bbody      norm                1.84335E-17  +/-  2.13751E+10  \n",
      "   5    3   powerlaw   PhoIndex            2.04475      +/-  0.543333     \n",
      "   6    3   powerlaw   norm                1.55418E-05  +/-  4.02509E-06  \n",
      "________________________________________________________________________\n",
      "\n",
      "\n",
      "Fit statistic  : Chi-Squared                  3.6106     using 9 bins.\n",
      "\n",
      "Test statistic : Chi-Squared                  3.6106     using 9 bins.\n",
      " Null hypothesis probability of 4.6126e-01 with 4 degrees of freedom\n",
      " Model Flux 3.5706e-05 photons (7.7149e-14 ergs/cm^2/s) range (0.20000 - 12.000 keV)\n"
     ]
    }
   ],
   "source": [
    "AllModels.clear()\n",
    "moz = Model(\"ztbabs*(bbody+powerlaw)\")\n",
    "moz.zTBabs.Redshift = z\n",
    "Fit.perform()\n",
    "Plot.device = \"/xs\"\n",
    "Plot(\"data resid\")\n",
    "nH_bbodypowerlaw_z = moz.zTBabs.nH.values[0]\n",
    "AllModels.calcFlux(\".2 12.0\")"
   ]
  },
  {
   "cell_type": "markdown",
   "id": "d6179d4d-8142-4954-89ca-a6d3f9e7664b",
   "metadata": {},
   "source": [
    "### Bremss + Powerlaw model\n",
    "**tbabs :**"
   ]
  },
  {
   "cell_type": "code",
   "execution_count": 19,
   "id": "b75f89e3-801a-430c-bbd8-0baf42e36693",
   "metadata": {
    "scrolled": true
   },
   "outputs": [
    {
     "name": "stdout",
     "output_type": "stream",
     "text": [
      "\n",
      "========================================================================\n",
      "Model TBabs<1>(bremss<2> + powerlaw<3>) Source No.: 1   Active/On\n",
      "Model Model Component  Parameter  Unit     Value\n",
      " par  comp\n",
      "   1    1   TBabs      nH         10^22    1.00000      +/-  0.0          \n",
      "   2    2   bremss     kT         keV      7.00000      +/-  0.0          \n",
      "   3    2   bremss     norm                1.00000      +/-  0.0          \n",
      "   4    3   powerlaw   PhoIndex            1.00000      +/-  0.0          \n",
      "   5    3   powerlaw   norm                1.00000      +/-  0.0          \n",
      "________________________________________________________________________\n",
      "\n",
      "\n",
      "Fit statistic  : Chi-Squared              4.225664e+11     using 9 bins.\n",
      "\n",
      "Test statistic : Chi-Squared              4.225664e+11     using 9 bins.\n",
      " Null hypothesis probability of 0.000000e+00 with 4 degrees of freedom\n",
      " Current data and model not fit yet.\n",
      "                                   Parameters\n",
      "Chi-Squared  |beta|/N    Lvl          1:nH          2:kT        3:norm    4:PhoIndex        5:norm\n",
      "53.8612      38088.6      -1      0.399835       1.27925   1.11278e-09       1.01788   2.86405e-06\n",
      "75398   1.85907e-10       1.26294   2.52134e-060.03\n",
      "30.2123      474626        4      0.171955       198.399   2.81525e-05       1.26293   2.52144e-06\n",
      "30.2071      7794.06       3      0.171912       198.399   2.81525e-05       1.26318   2.52145e-06\n",
      "30.1554      7866.63       2      0.171486       198.397   2.81516e-05       1.26571   2.52158e-06\n",
      "29.643       8621.94       1      0.167268       198.386   2.81432e-05       1.29084   2.52300e-06\n",
      "24.9287      17375.6       0      0.129689       198.262   2.80727e-05       1.53022   2.55210e-06\n",
      "9.31822      94127.6       0     0.0622790       197.054   2.76980e-05       3.31577   3.48548e-06\n",
      "6.54358      169409       -1     0.0382415       197.196   2.08733e-05       2.32895   6.39033e-06\n",
      "4.80987      72731        -1     0.0444407       199.041   1.45803e-05       2.25011   9.74784e-06\n",
      "3.9757       16269.2      -1     0.0574974       199.301   9.53340e-06       2.20008   1.23697e-05\n",
      "3.39603      12203.7      -1     0.0710481       199.351   5.43376e-06       2.18829   1.46859e-05\n",
      "3.00798      8796.49      -1     0.0829441       199.359   2.05258e-06       2.17894   1.67225e-05\n",
      "2.89505      6800.74      -1     0.0927615       199.361   6.44021e-07       2.17128   1.84638e-05\n",
      "2.81465      23608.2       0     0.0945029       199.363   2.65771e-07       2.18352   1.85076e-05\n",
      "2.78324      15100.2       0     0.0959836       199.363   1.11735e-07       2.19207   1.85980e-05\n",
      "2.76509      12383.2       0     0.0973615       199.363   4.08924e-08       2.19902   1.87028e-05\n",
      "2.75198      11585.1       0     0.0986870       199.363   6.45026e-09       2.20527   1.88103e-05\n",
      "2.7424       11485.4       0     0.0999768       199.363   2.16549e-09       2.21120   1.89164e-05\n",
      "2.73332      11806.4       0      0.101241       199.363   1.06666e-12       2.21708   1.90186e-05\n",
      "2.72475      12075.8       0      0.102478       199.363   5.43998e-16       2.22290   1.91172e-05\n",
      "2.71591      12440.2       0      0.103704       199.363   2.64409e-16       2.22882   1.92091e-05\n",
      "2.70888      12255.2       0      0.104852       199.363   1.48552e-17       2.23430   1.93071e-05\n",
      "2.70542      9979.74       0      0.105949       199.363   8.14796e-08       2.24414   1.93815e-05\n",
      "2.69052      13412.4       0      0.107183       199.363   9.66365e-09       2.24832   1.94623e-05\n",
      "2.68354      12170.6       0      0.108296       199.363   9.52849e-10       2.25275   1.95510e-05\n",
      "2.67763      12245.2       0      0.109364       199.363   4.05377e-10       2.25743   1.96380e-05\n",
      "2.67189      12454.5       0      0.110402       199.363   1.29533e-10       2.26219   1.97220e-05\n",
      "2.66631      12628.6       0      0.111415       199.363   6.01832e-11       2.26697   1.98032e-05\n",
      "2.66089      12764.8       0      0.112405       200.000   2.53672e-11       2.27171   1.98819e-05\n",
      "2.6488       16075.9       0      0.113555       200.000   4.13213e-12       2.27930   1.99158e-05\n",
      "2.63994      14006.1       0      0.114595       200.000   1.61627e-12       2.28609   1.99641e-05\n",
      "2.63283      12830.6       0      0.115571       200.000   4.02369e-13       2.29216   2.00200e-05\n",
      "2.62678      12126         0      0.116505       200.000   1.06005e-13       2.29766   2.00797e-05\n",
      "2.62144      11688.6       0      0.117406       200.000   3.30749e-14       2.30273   2.01412e-05\n",
      "2.6166       11410.7       0      0.118280       200.000   1.50360e-14       2.30749   2.02034e-05\n",
      "2.61215      11228.7       0      0.119128       200.000   6.08432e-15       2.31201   2.02654e-05\n",
      "2.60805      11127.3       0      0.119952       200.000   1.61617e-15       2.31631   2.03271e-05\n",
      "2.60419      11054.5       0      0.120756       200.000   5.03558e-16       2.32046   2.03879e-05\n",
      "2.60094      11214.5       0      0.121523       200.000   2.15922e-16       2.32421   2.04509e-05\n",
      "2.59729      11107.2       0      0.122295       200.000   7.76921e-17       2.32824   2.05074e-05\n",
      "2.59232      10214.5       0      0.123100       200.000   2.06211e-17       2.33340   2.05488e-05\n",
      "2.58854      9762.64       0      0.123862       200.000   6.40707e-18       2.33760   2.05979e-05\n",
      "2.58709      11354.9       0      0.123996       200.000   2.95079e-18       2.33880   2.05906e-05\n",
      "2.57927      5221.76       0      0.124971       200.000   8.05289e-19       2.34872   2.05761e-05\n",
      "2.5782       1204.21       0      0.125850       200.000   7.54166e-08       2.35726   2.05790e-05\n",
      "2.57448      6033.5        0      0.126318       200.000   1.73599e-08       2.35716   2.06826e-05\n",
      "2.57318      6864.46       0      0.126848       200.000   2.09264e-09       2.35740   2.07709e-05\n",
      "2.57247      7972.98       0      0.127414       200.000   7.41474e-11       2.35838   2.08457e-05\n",
      "2.57154      8887.73       0      0.127995       200.000   8.39679e-12       2.36001   2.09104e-05\n",
      "2.57031      9507.66       0      0.128580       200.000   4.17790e-12       2.36209   2.09683e-05\n",
      "2.56887      9904.49       0      0.129160       200.000   2.03452e-12       2.36445   2.10215e-05\n",
      "2.56732      10154.5       0      0.129732       200.000   9.52608e-13       2.36698   2.10713e-05\n",
      "2.56571      10308.9       0      0.130294       200.000   4.08739e-13       2.36958   2.11185e-05\n",
      "2.56409      10401.5       0      0.130845       200.000   1.36043e-13       2.37223   2.11638e-05\n",
      "2.56248      10453.5       0      0.131384       200.000   6.77973e-14       2.37487   2.12075e-05\n",
      "2.56091      10478.5       0      0.131912       200.000   3.36815e-14       2.37749   2.12497e-05\n",
      "2.55938      10485.2       0      0.132429       200.000   1.66411e-14       2.38008   2.12908e-05\n",
      "2.55791      10483.7       0      0.132933       200.000   8.12903e-15       2.38262   2.13308e-05\n",
      "2.5565       10473.6       0      0.133426       200.000   3.87938e-15       2.38512   2.13697e-05\n",
      "2.55512      10451.3       0      0.133908       200.000   1.76086e-15       2.38757   2.14076e-05\n",
      "2.55377      10406.3       0      0.134380       200.000   7.08842e-16       2.39001   2.14443e-05\n",
      "2.55264      10452.4       0      0.134834       200.000   1.76412e-16       2.39227   2.14817e-05\n",
      "2.55131      10379.2       0      0.135289       200.000   4.65779e-17       2.39467   2.15158e-05\n",
      "2.54951      9980.89       0      0.135763       200.000   1.63023e-17       2.39735   2.15434e-05\n",
      "2.54819      10652.9       0      0.135868       200.000   3.98319e-18       2.39851   2.15328e-05\n",
      "2.54794      5117.85       0      0.135983       200.000   1.88354e-08       2.39987   2.15197e-05\n",
      "2.54678      9005.17       0      0.136335       200.000   2.05633e-09       2.40158   2.15671e-05\n",
      "2.54645      9331.26       0      0.136712       200.000   1.00113e-09       2.40310   2.16095e-05\n",
      "2.54594      9682.93       0      0.137099       200.000   4.67192e-10       2.40471   2.16475e-05\n",
      "2.54532      9888.15       0      0.137486       200.000   1.98335e-10       2.40641   2.16825e-05\n",
      "2.54463      10009.3       0      0.137867       200.000   6.33784e-11       2.40817   2.17156e-05\n",
      "2.54391      10079.3       0      0.138243       200.000   2.95756e-11       2.40996   2.17471e-05\n",
      "2.54318      10117.8       0      0.138610       200.000   1.26643e-11       2.41175   2.17775e-05\n",
      "2.54245      10135.4       0      0.138971       200.000   4.21121e-12       2.41354   2.18068e-05\n",
      "2.54173      10139.6       0      0.139323       200.000   2.09977e-12       2.41531   2.18353e-05\n",
      "2.54103      10135.3       0      0.139668       200.000   1.04534e-12       2.41705   2.18630e-05\n",
      "2.54036      10125.6       0      0.140005       200.000   5.18898e-13       2.41876   2.18900e-05\n",
      "2.5397       10112.3       0      0.140334       200.000   2.56101e-13       2.42044   2.19163e-05\n",
      "2.53908      10096.8       0      0.140656       200.000   1.24925e-13       2.42208   2.19420e-05\n",
      "2.53847      10079.9       0      0.140970       200.000   5.94561e-14       2.42369   2.19671e-05\n",
      "2.53789      10061.6       0      0.141278       200.000   2.67833e-14       2.42527   2.19916e-05\n",
      "2.53734      10046.1       0      0.141578       200.000   1.04651e-14       2.42680   2.20157e-05\n",
      "2.5368       10025.5       0      0.141872       200.000   2.32806e-15       2.42831   2.20390e-05\n",
      "2.53627      9996.08       0      0.142160       200.000   2.99942e-16       2.42980   2.20618e-05\n",
      "2.53576      9964.84       0      0.142438       200.000   4.74165e-17       2.43128   2.20840e-05\n",
      "2.53431      9328.22       0      0.142793       200.000   1.92382e-17       2.43321   2.20943e-05\n",
      "2.52362      6291.15      -1      0.145709       200.000   8.31925e-18       2.46075   2.21494e-05\n",
      "2.5236       5737.01       0      0.145733       200.000   3.39823e-18       2.46074   2.21522e-05\n",
      "2.52353      5288.8        0      0.145783   0.000100000   6.87145e-08       2.46151   2.21460e-05\n",
      "============================================================\n",
      " Variances and Principal Axes\n",
      "                 1        2        3        4        5  \n",
      " 1.5032E-11|  0.0000  -0.0000   0.6085  -0.0000   0.7936  \n",
      " 1.9899E-10|  0.0000  -0.0000   0.7936  -0.0000  -0.6085  \n",
      " 1.7494E-02|  1.0000   0.0000   0.0000   0.0000   0.0000  \n",
      " 1.2163E+00|  0.0000  -0.0000  -0.0000  -1.0000  -0.0000  \n",
      " 7.6012E+30|  0.0000  -1.0000  -0.0000   0.0000  -0.0000  \n",
      "------------------------------------------------------------\n",
      "\n",
      "============================================================\n",
      "  Covariance Matrix\n",
      "        1           2           3           4           5   \n",
      "   1.749e-02  -7.406e+12   1.112e-06   1.280e-01   9.648e-07\n",
      "  -7.406e+12   7.601e+30   6.012e+09  -6.645e+14   5.566e+09\n",
      "   1.112e-06   6.012e+09   3.374e-10   1.515e-05  -3.032e-11\n",
      "   1.280e-01  -6.645e+14   1.515e-05   1.274e+00   3.712e-06\n",
      "   9.648e-07   5.566e+09  -3.032e-11   3.712e-06   1.017e-10\n",
      "------------------------------------------------------------\n",
      "\n",
      "========================================================================\n",
      "Model TBabs<1>(bremss<2> + powerlaw<3>) Source No.: 1   Active/On\n",
      "Model Model Component  Parameter  Unit     Value\n",
      " par  comp\n",
      "   1    1   TBabs      nH         10^22    0.145783     +/-  0.132266     \n",
      "   2    2   bremss     kT         keV      1.00000E-04  +/-  2.75702E+15  \n",
      "   3    2   bremss     norm                6.87145E-08  +/-  1.83676E-05  \n",
      "   4    3   powerlaw   PhoIndex            2.46151      +/-  1.12890      \n",
      "   5    3   powerlaw   norm                2.21460E-05  +/-  1.00850E-05  \n",
      "________________________________________________________________________\n",
      "\n",
      "\n",
      "Fit statistic  : Chi-Squared                  2.5235     using 9 bins.\n",
      "\n",
      "Test statistic : Chi-Squared                  2.5235     using 9 bins.\n",
      " Null hypothesis probability of 6.4043e-01 with 4 degrees of freedom\n",
      " Model Flux 3.0353e-05 photons (6.576e-14 ergs/cm^2/s) range (0.20000 - 12.000 keV)\n"
     ]
    }
   ],
   "source": [
    "AllModels.clear()\n",
    "mo = Model(\"tbabs*(bremss+powerlaw)\")\n",
    "Fit.perform()\n",
    "Plot.device = \"/xs\"\n",
    "Plot(\"data resid\")\n",
    "nH_bremsspowerlaw = mo.TBabs.nH.values[0]\n",
    "AllModels.calcFlux(\".2 12.0\")"
   ]
  },
  {
   "cell_type": "code",
   "execution_count": 9,
   "id": "a0e2e964-0916-4c37-b2b9-4d1f69098aa8",
   "metadata": {},
   "outputs": [
    {
     "data": {
      "text/plain": [
       "(-0.5, 856.5, 661.5, -0.5)"
      ]
     },
     "execution_count": 9,
     "metadata": {},
     "output_type": "execute_result"
    },
    {
     "data": {
      "image/png": "[encoded data removed]",
      "text/plain": [
       "<Figure size 1200x700 with 1 Axes>"
      ]
     },
     "metadata": {},
     "output_type": "display_data"
    }
   ],
   "source": [
    "img = plt.imread(glob.glob(\"ObsID*SRCNUM*E*Spectrum_bremsspowerlaw.png\")[0])\n",
    "plt.imshow(img)\n",
    "plt.axis('off')"
   ]
  },
  {
   "cell_type": "markdown",
   "id": "b2b12cd0-6f77-426d-9377-fb6c1d8e92e4",
   "metadata": {},
   "source": [
    "**ztbabs :**"
   ]
  },
  {
   "cell_type": "code",
   "execution_count": 20,
   "id": "f2048d81-f91c-4e28-a64e-df44dd703b39",
   "metadata": {
    "scrolled": true
   },
   "outputs": [
    {
     "name": "stdout",
     "output_type": "stream",
     "text": [
      "\n",
      "========================================================================\n",
      "Model zTBabs<1>(bremss<2> + powerlaw<3>) Source No.: 1   Active/On\n",
      "Model Model Component  Parameter  Unit     Value\n",
      " par  comp\n",
      "   1    1   zTBabs     nH         10^22    1.00000      +/-  0.0          \n",
      "   2    1   zTBabs     Redshift            0.0          frozen\n",
      "   3    2   bremss     kT         keV      7.00000      +/-  0.0          \n",
      "   4    2   bremss     norm                1.00000      +/-  0.0          \n",
      "   5    3   powerlaw   PhoIndex            1.00000      +/-  0.0          \n",
      "   6    3   powerlaw   norm                1.00000      +/-  0.0          \n",
      "________________________________________________________________________\n",
      "\n",
      "\n",
      "Fit statistic  : Chi-Squared              4.218370e+11     using 9 bins.\n",
      "\n",
      "Test statistic : Chi-Squared              4.218370e+11     using 9 bins.\n",
      " Null hypothesis probability of 0.000000e+00 with 4 degrees of freedom\n",
      " Current data and model not fit yet.\n",
      "\n",
      "Fit statistic  : Chi-Squared              8.632378e+11     using 9 bins.\n",
      "\n",
      "Test statistic : Chi-Squared              8.632378e+11     using 9 bins.\n",
      " Null hypothesis probability of 0.000000e+00 with 4 degrees of freedom\n",
      " Current data and model not fit yet.\n",
      "                                   Parameters\n",
      "Chi-Squared  |beta|/N    Lvl          1:nH          3:kT        4:norm    5:PhoIndex        6:norm\n",
      "17.6931      87902.8      -3      0.347622       1.52537   6.67668e-06       1.07615   5.19692e-06\n",
      "4.88866      267738       -2     0.0243026       4.88837   1.05295e-05       1.64295   3.57579e-06\n",
      "3.89717      140064       -1     0.0800595       1.67329   1.25221e-05       1.56709   4.24660e-06\n",
      "2.88841      125005       -1      0.110767       2.61078   1.36071e-05       1.92020   3.97856e-06\n",
      "2.76371      36142.2      -1      0.121365       2.00276   1.51520e-05       1.73395   3.93777e-06\n",
      "2.6822       18273.4      -1      0.138262       2.33223   1.59286e-05       1.89861   3.41903e-06\n",
      "2.64552      3960.9       -1      0.137012       2.15813   1.68548e-05       1.79818   3.02552e-06\n",
      "2.61461      3568.46      -1      0.139469       2.25112   1.75322e-05       1.85196   2.51601e-06\n",
      "2.58748      3708.63      -1      0.134836       2.21495   1.82326e-05       1.78766   2.05413e-06\n",
      "2.56265      3426.22      -1      0.132665       2.26266   1.88289e-05       1.80356   1.57542e-06\n",
      "2.53975      3437.93      -1      0.127770       2.26978   1.94201e-05       1.74904   1.12245e-06\n",
      "2.51887      3300.15      -1      0.124964       2.31380   1.99491e-05       1.76443   6.79630e-07\n",
      "2.49996      3185.21      -1      0.120077       2.31934   2.04835e-05       1.62285   2.63622e-07\n",
      "2.49788      3010.16       0      0.120636       2.33153   2.05296e-05       1.73800   2.22838e-07\n",
      "2.49603      3017.34       0      0.120514       2.33662   2.05779e-05       1.65508   1.81306e-07\n",
      "2.49425      3018.74       0      0.120622       2.34410   2.06251e-05       1.77894   1.40757e-07\n",
      "2.49264      3018.39       0      0.120090       2.34467   2.06752e-05       1.54855   1.00145e-07\n",
      "2.4915       3212.47       0      0.120515       2.35700   2.07201e-05       2.18431   6.11829e-08\n",
      "2.49061      4476.21       0      0.120460       2.35699   2.07248e-05       1.86632   5.58987e-08\n",
      "2.4906       3166.64       0      0.119293       2.35185   2.07766e-05      0.776483   1.56373e-08\n",
      "============================================================\n",
      " Variances and Principal Axes\n",
      "                 1        3        4        5        6  \n",
      " 2.1445E-12| -0.0000   0.0000   0.5522   0.0000   0.8337  \n",
      " 8.0103E-10| -0.0001   0.0000  -0.8337  -0.0000   0.5522  \n",
      " 3.4565E-02|  0.9885   0.1513  -0.0001  -0.0032   0.0000  \n",
      " 7.2087E+00| -0.1514   0.9884   0.0000  -0.0129  -0.0000  \n",
      " 7.3701E+05|  0.0012   0.0132  -0.0000   0.9999   0.0000  \n",
      "------------------------------------------------------------\n",
      "\n",
      "============================================================\n",
      "  Covariance Matrix\n",
      "        1           2           3           4           5   \n",
      "   1.289e+00   1.077e+01  -6.539e-05   8.962e+02   3.991e-05\n",
      "   1.077e+01   1.357e+02  -4.849e-04   9.737e+03   2.229e-04\n",
      "  -6.539e-05  -4.849e-04   3.958e-09  -4.249e-02  -2.542e-09\n",
      "   8.962e+02   9.737e+03  -4.249e-02   7.369e+05   2.233e-02\n",
      "   3.991e-05   2.229e-04  -2.542e-09   2.233e-02   1.749e-09\n",
      "------------------------------------------------------------\n",
      "\n",
      "========================================================================\n",
      "Model zTBabs<1>(bremss<2> + powerlaw<3>) Source No.: 1   Active/On\n",
      "Model Model Component  Parameter  Unit     Value\n",
      " par  comp\n",
      "   1    1   zTBabs     nH         10^22    0.119293     +/-  1.13525      \n",
      "   2    1   zTBabs     Redshift            1.19654      frozen\n",
      "   3    2   bremss     kT         keV      2.35185      +/-  11.6498      \n",
      "   4    2   bremss     norm                2.07766E-05  +/-  6.29146E-05  \n",
      "   5    3   powerlaw   PhoIndex            0.776483     +/-  858.419      \n",
      "   6    3   powerlaw   norm                1.56373E-08  +/-  4.18255E-05  \n",
      "________________________________________________________________________\n",
      "\n",
      "\n",
      "Fit statistic  : Chi-Squared                  2.4906     using 9 bins.\n",
      "\n",
      "Test statistic : Chi-Squared                  2.4906     using 9 bins.\n",
      " Null hypothesis probability of 6.4632e-01 with 4 degrees of freedom\n",
      " Model Flux 3.6982e-05 photons (6.1556e-14 ergs/cm^2/s) range (0.20000 - 12.000 keV)\n"
     ]
    }
   ],
   "source": [
    "AllModels.clear()\n",
    "moz = Model(\"ztbabs*(bremss+powerlaw)\")\n",
    "moz.zTBabs.Redshift = z\n",
    "Fit.perform()\n",
    "Plot.device = \"/xs\"\n",
    "Plot(\"data resid\")\n",
    "nH_bremsspowerlaw_z = mo.TBabs.nH.values[0]\n",
    "AllModels.calcFlux(\".2 12.0\")"
   ]
  },
  {
   "cell_type": "markdown",
   "id": "ddb9d0cf-c88a-4ce6-88d7-81a8b19a109d",
   "metadata": {},
   "source": [
    "## Column density nH\n",
    "### 3DNH-tool\n",
    "http://astro.uni-tuebingen.de/nh3d/nhtool\n",
    "\n",
    "**Sky coordinates (°) :** from ESASky\n",
    "\n",
    "- RA = 53.2571070°\n",
    "- DEC = -27.9719507°\n",
    "\n",
    "53.26 -27.97\n",
    "\n",
    "**Column density :** nH = 3*10^20 cm^-2"
   ]
  },
  {
   "cell_type": "code",
   "execution_count": 22,
   "id": "80cd3ea3-1aaa-4a35-a40d-bc768aac9fb9",
   "metadata": {},
   "outputs": [
    {
     "name": "stdout",
     "output_type": "stream",
     "text": [
      "The different models give a column density of :\n",
      "\n",
      "\u001b[1mbbody\u001b[0m\n",
      "(tbabs) : 563340.3341978581\n",
      "(ztbabs) : 1429418.4808889094\n",
      "\n",
      "\u001b[1mbremss (Best fit)\u001b[0m\n",
      "(tbabs) : 5.750904400506071e+20\n",
      "(ztbabs) : 1.2665217596120202e+21\n",
      "\n",
      "\u001b[1mapec (Best ztbabs fit)\u001b[0m\n",
      "(tbabs) : 1.0188834778842866e+22\n",
      "(ztbabs) : 6.4555119141561416e+16\n",
      "\n",
      "\u001b[1mpowerlaw\u001b[0m\n",
      "(tbabs) : 1.5630508262041335e+21\n",
      "(ztbabs) : 2.8336103263338417e+21\n",
      "\n",
      "\u001b[1mbbody+powerlaw\u001b[0m\n",
      "(tbabs) : 1.5638787619957834e+21\n",
      "(ztbabs) : 2.832133912338269e+21\n"
     ]
    }
   ],
   "source": [
    "print(\"The different models give a column density of :\")\n",
    "print()\n",
    "print(color.BOLD+\"bbody\"+color.END)\n",
    "print(f\"(tbabs) : {nH_bbody*10**22}\")\n",
    "print(f\"(ztbabs) : {nH_bbody_z*10**22}\")\n",
    "print()\n",
    "print(color.BOLD+\"bremss (Best fit)\"+color.END)\n",
    "print(f\"(tbabs) : {nH_bremss*10**22}\")\n",
    "print(f\"(ztbabs) : {nH_bremss_z*10**22}\")\n",
    "print()\n",
    "print(color.BOLD+\"apec (Best ztbabs fit)\"+color.END)\n",
    "print(f\"(tbabs) : {nH_apec*10**22}\")\n",
    "print(f\"(ztbabs) : {nH_apec_z*10**22}\")\n",
    "print()\n",
    "print(color.BOLD+\"powerlaw\"+color.END)\n",
    "print(f\"(tbabs) : {nH_powerlaw*10**22}\")\n",
    "print(f\"(ztbabs) : {nH_powerlaw_z*10**22}\")\n",
    "print()\n",
    "print(color.BOLD+\"bbody+powerlaw\"+color.END)\n",
    "print(f\"(tbabs) : {nH_bbodypowerlaw*10**22}\")\n",
    "print(f\"(ztbabs) : {nH_bbodypowerlaw_z*10**22}\")"
   ]
  },
  {
   "cell_type": "markdown",
   "id": "c404b996-c273-4f68-a4b2-5b526c4027e0",
   "metadata": {},
   "source": [
    "## Flux\n",
    "### X-ray flux\n",
    "- X-ray flux of the best-fitting model ``Bremss`` with Chi-squared = 2.0817 using 9 bins: **5.6136e-14 ergs/cm^2/s**.\n",
    "- X-ray flux of the best-fitting ztbabs model ``Apec`` with Chi-squared = 1.1333 using 9 bins: **6.412e-14 ergs/cm^2/s**."
   ]
  },
  {
   "cell_type": "code",
   "execution_count": 2,
   "id": "3211a169-f752-40cc-8d8e-9ee7b2070b37",
   "metadata": {},
   "outputs": [
    {
     "name": "stdout",
     "output_type": "stream",
     "text": [
      "\u001b[1mX-ray flux : \u001b[0m\n",
      "Bremss : F_x-ray = 5.6136e-14 ergs/cm^2/s\n",
      "Apec : F_x-ray = 6.412e-14 ergs/cm^2/s\n"
     ]
    }
   ],
   "source": [
    "Flux_bremss = 5.6136e-14 # ergs/cm^2/s\n",
    "Flux_apec = 6.412e-14 # ergs/cm^2/s\n",
    "print(color.BOLD+\"X-ray flux : \"+color.END)\n",
    "print(f\"Bremss : F_x-ray = {Flux_bremss} ergs/cm^2/s\")\n",
    "print(f\"Apec : F_x-ray = {Flux_apec} ergs/cm^2/s\")"
   ]
  },
  {
   "cell_type": "markdown",
   "id": "2dfd4522-fc51-4827-8435-daeebd7b6ef8",
   "metadata": {},
   "source": [
    "### Optical flux"
   ]
  },
  {
   "cell_type": "code",
   "execution_count": 3,
   "id": "fd009229-0565-4394-8fd0-a7959e9ad336",
   "metadata": {},
   "outputs": [
    {
     "name": "stdout",
     "output_type": "stream",
     "text": [
      "\u001b[1mBlue source (GAIA)\u001b[0m\n",
      "Optical flux : F_blue = 6.413119006406851e-14 ergs/cm^2/s\n",
      "\n",
      "\u001b[1mYellow source (GAIA)\u001b[0m\n",
      "Optical flux : F_yellow = 3.649129695153657e-12 ergs/cm^2/s\n"
     ]
    }
   ],
   "source": [
    "def F_optical(mag):\n",
    "    F0 = 1.05*10**(-5) # GAIA zero point magnitude\n",
    "    return F0*10**(-0.4*mag)\n",
    "    \n",
    "G_blue = 20.5353\n",
    "G_yellow = 16.1475\n",
    "\n",
    "Flux_blue = F_optical(G_blue)\n",
    "Flux_yellow = F_optical(G_yellow)\n",
    "\n",
    "print(color.BOLD+\"Blue source (GAIA)\"+color.END)\n",
    "print(f\"Optical flux : F_blue = {Flux_blue} ergs/cm^2/s\")\n",
    "print()\n",
    "print(color.BOLD+\"Yellow source (GAIA)\"+color.END)\n",
    "print(f\"Optical flux : F_yellow = {Flux_yellow} ergs/cm^2/s\")"
   ]
  },
  {
   "cell_type": "markdown",
   "id": "0d038a37-2440-47e9-a689-b894915e06b2",
   "metadata": {},
   "source": [
    "### X-ray flux / Optical flux ratio"
   ]
  },
  {
   "cell_type": "code",
   "execution_count": 4,
   "id": "e0f98c5b-dd73-42cf-a211-c30c6d5f69df",
   "metadata": {},
   "outputs": [
    {
     "name": "stdout",
     "output_type": "stream",
     "text": [
      "\u001b[1mBlue source (GAIA)\u001b[0m\n",
      "Bremss : Ratio F_x-ray/F_blue = 0.8753307079428726 ergs/cm^2/s\n",
      "Apec : Ratio F_x-ray/F_blue = 0.9998255129203538 ergs/cm^2/s\n",
      "\n",
      "\u001b[1mYellow source (GAIA)\u001b[0m\n",
      "Bremss : Ratio F_x-ray/F_yellow = 0.015383394039009686 ergs/cm^2/s\n",
      "Apec : Ratio F_x-ray/F_yellow = 0.017571312985985837 ergs/cm^2/s\n"
     ]
    }
   ],
   "source": [
    "print(color.BOLD+\"Blue source (GAIA)\"+color.END)\n",
    "print(f\"Bremss : Ratio F_x-ray/F_blue = {Flux_bremss/Flux_blue} ergs/cm^2/s\")\n",
    "print(f\"Apec : Ratio F_x-ray/F_blue = {Flux_apec/Flux_blue} ergs/cm^2/s\")\n",
    "print()\n",
    "print(color.BOLD+\"Yellow source (GAIA)\"+color.END)\n",
    "print(f\"Bremss : Ratio F_x-ray/F_yellow = {Flux_bremss/Flux_yellow} ergs/cm^2/s\")\n",
    "print(f\"Apec : Ratio F_x-ray/F_yellow = {Flux_apec/Flux_yellow} ergs/cm^2/s\")"
   ]
  },
  {
   "cell_type": "markdown",
   "id": "f7dbab95-1fff-418e-83d5-106cfddc3306",
   "metadata": {},
   "source": [
    "## Luminosity"
   ]
  },
  {
   "cell_type": "code",
   "execution_count": 5,
   "id": "387f9055-a156-497c-a962-44877b816a64",
   "metadata": {},
   "outputs": [
    {
     "name": "stdout",
     "output_type": "stream",
     "text": [
      "\u001b[1mSource bleue (GAIA)\u001b[0m\n",
      "Distance : d = 1.2624580639882173e+21 cm\n",
      "Bremss : L_x-ray = 1.1243078657528162e+30 erg/s\n",
      "Apec : L_x-ray = 1.28421370158313e+30 erg/s\n",
      "\n",
      "\u001b[1mSource jaune (GAIA)\u001b[0m\n",
      "Distance : 2.1005445881552078e+21 cm\n",
      "Bremss : L_x-ray = 3.112541401977694e+30 erg/s\n",
      "Apec : L_x-ray = 3.555225785499674e+30 erg/s\n",
      "\n",
      "\u001b[1mSource jaune (GLADE)\u001b[0m\n",
      "Distance : 1.581256226764e+28 cm\n",
      "Bremss : L_x-ray = 1.7638263446416293e+44 erg/s\n",
      "Apec : L_x-ray = 2.014688350050258e+44 erg/s\n"
     ]
    }
   ],
   "source": [
    "\"\"\"GAIA\"\"\"\n",
    "\n",
    "P_mas = 2.4442 # Parallaxe en mas\n",
    "d_kpc = 1/P_mas # Distance en kpc\n",
    "d_cm = d_kpc*3.0857*10**21 # Distance en cm, avec 1 pc = 3.0857*10^18 cm\n",
    "\n",
    "# La source est supposée sphérique pour le calcul de la luminosité : L = 4*pi*F*D^2\n",
    "L_bremss = 4*np.pi*Flux_bremss*(d_cm)**2 # erg/s\n",
    "L_apec = 4*np.pi*Flux_apec*(d_cm)**2 # erg/s\n",
    "\n",
    "print(color.BOLD+\"Source bleue (GAIA)\"+color.END)\n",
    "print(f\"Distance : d = {d_cm} cm\")\n",
    "print(f\"Bremss : L_x-ray = {L_bremss} erg/s\")\n",
    "print(f\"Apec : L_x-ray = {L_apec} erg/s\")\n",
    "print()\n",
    "\n",
    "\"\"\"GAIA\"\"\"\n",
    "\n",
    "P_mas = 1.469 # Parallaxe en mas\n",
    "d_kpc = 1/P_mas # Distance en kpc\n",
    "d_cm = d_kpc*3.0857*10**21 # Distance en cm, avec 1 pc = 3.0857*10^18 cm\n",
    "\n",
    "# La source est supposée sphérique pour le calcul de la luminosité : L = 4*pi*F*D^2\n",
    "L_bremss = 4*np.pi*Flux_bremss*(d_cm)**2 # erg/s\n",
    "L_apec = 4*np.pi*Flux_apec*(d_cm)**2 # erg/s\n",
    "\n",
    "print(color.BOLD+\"Source jaune (GAIA)\"+color.END)\n",
    "print(f\"Distance : {d_cm} cm\")\n",
    "print(f\"Bremss : L_x-ray = {L_bremss} erg/s\")\n",
    "print(f\"Apec : L_x-ray = {L_apec} erg/s\")\n",
    "print()\n",
    "\n",
    "\"\"\"GLADE\"\"\"\n",
    "\n",
    "d_kpc = 5124465.2 # Distance en kpc\n",
    "d_cm = d_kpc*3.0857*10**21 # Distance en cm, avec 1 pc = 3.0857*10^18 cm\n",
    "\n",
    "# La source est supposée sphérique pour le calcul de la luminosité : L = 4*pi*F*D^2\n",
    "L_bremss = 4*np.pi*Flux_bremss*(d_cm)**2 # erg/s\n",
    "L_apec = 4*np.pi*Flux_apec*(d_cm)**2 # erg/s\n",
    "\n",
    "print(color.BOLD+\"Source jaune (GLADE)\"+color.END)\n",
    "print(f\"Distance : {d_cm} cm\")\n",
    "print(f\"Bremss : L_x-ray = {L_bremss} erg/s\")\n",
    "print(f\"Apec : L_x-ray = {L_apec} erg/s\")"
   ]
  }
 ],
 "metadata": {
  "kernelspec": {
   "display_name": "Python 3 (ipykernel)",
   "language": "python",
   "name": "python3"
  },
  "language_info": {
   "codemirror_mode": {
    "name": "ipython",
    "version": 3
   },
   "file_extension": ".py",
   "mimetype": "text/x-python",
   "name": "python",
   "nbconvert_exporter": "python",
   "pygments_lexer": "ipython3",
   "version": "3.10.12"
  }
 },
 "nbformat": 4,
 "nbformat_minor": 5
}
