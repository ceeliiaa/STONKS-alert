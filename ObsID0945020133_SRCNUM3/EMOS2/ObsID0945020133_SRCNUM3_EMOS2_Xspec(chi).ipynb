{
 "cells": [
  {
   "cell_type": "markdown",
   "id": "a09472f9-b7b4-4047-9978-0b5adf3b464f",
   "metadata": {},
   "source": [
    "# ObsID : 0945020133, SRCNUM : 3, Instru : EMOS2\n",
    "**Simbad :** Seyfert 1 Galaxy (2XMM J033204.0-273726) https://simbad.cds.unistra.fr/simbad/sim-id?Ident=%40645704&Name=2XMM%20J033204.0-273726&submit=submit"
   ]
  },
  {
   "cell_type": "markdown",
   "id": "42e14c1e-3aa0-47bc-8c05-1be516f4cf24",
   "metadata": {},
   "source": [
    "## ESASky\n",
    "On ESASky, the pointer for GLADE is slightly off the source, but no other sources seem to correspond to it in any wavelength. https://sky.esa.int/esasky/?target=53.01683333333333%20-27.62344444444444&hips=XMM-Newton+EPIC+color&fov=1&projection=SIN&cooframe=J2000&sci=true&lang=fr\n",
    "\n",
    "``EPIC Stack``\n",
    "\n",
    "- Stack Catalogue name : 4XMMs J033204.0-2737254XMM J033204.0-273725\n",
    "- RA : 03h 32m 04.042s\n",
    "- DEC : -27° 37' 25.23\"\n",
    "\n",
    "``GLADE``\n",
    "\n",
    "- No : 1 697 6000\n",
    "- RA : 3h 32m 04.416s\n",
    "- DEC : -27° 37' 39.40\"\n",
    "- Distance : 7173.0551 Mpc"
   ]
  },
  {
   "cell_type": "code",
   "execution_count": 1,
   "id": "311ae079-ccd8-41c3-aac4-08c99f67b431",
   "metadata": {},
   "outputs": [],
   "source": [
    "from xspec import *\n",
    "from stingray import Lightcurve\n",
    "from astropy.io import fits\n",
    "import matplotlib.pyplot as plt\n",
    "import matplotlib.image as mpimg\n",
    "import glob\n",
    "import numpy as np\n",
    "\n",
    "class color:\n",
    "   PURPLE = '\\033[95m'\n",
    "   CYAN = '\\033[96m'\n",
    "   DARKCYAN = '\\033[36m'\n",
    "   BLUE = '\\033[94m'\n",
    "   GREEN = '\\033[92m'\n",
    "   YELLOW = '\\033[93m'\n",
    "   RED = '\\033[91m'\n",
    "   BOLD = '\\033[1m'\n",
    "   UNDERLINE = '\\033[4m'\n",
    "   END = '\\033[0m'\n",
    "\n",
    "plt.rcParams['figure.figsize'] = [12,7]"
   ]
  },
  {
   "cell_type": "markdown",
   "id": "707789ad-5cec-475a-bb5e-8f8de87fbfc3",
   "metadata": {},
   "source": [
    "### Redshift"
   ]
  },
  {
   "cell_type": "code",
   "execution_count": 2,
   "id": "b8b13499-3b25-4136-b227-5afc3208923f",
   "metadata": {},
   "outputs": [
    {
     "name": "stdout",
     "output_type": "stream",
     "text": [
      "Redshift : z = 1.674871543966593\n"
     ]
    }
   ],
   "source": [
    "def redshift(d_Mpc):\n",
    "    H0 = 70 # Hubble constant (km/s/Mpc)\n",
    "    c = 299792.458 # km/s\n",
    "    return H0*d_Mpc/c\n",
    "\n",
    "z = redshift(7173.0551)\n",
    "print(\"Redshift : z =\", z)"
   ]
  },
  {
   "cell_type": "markdown",
   "id": "8ba211d1-6905-4d72-89a3-e93f87c8f576",
   "metadata": {},
   "source": [
    "## Fit statistic"
   ]
  },
  {
   "cell_type": "code",
   "execution_count": 3,
   "id": "72ad741d-9f3b-4b88-8006-e6fb773135fa",
   "metadata": {},
   "outputs": [
    {
     "name": "stdout",
     "output_type": "stream",
     "text": [
      "Default fit statistic is set to: Chi-Squared\n",
      "   This will apply to all current and newly loaded spectra.\n",
      "Parameter delta values for fits will now be 0.0001 * parValue\n"
     ]
    }
   ],
   "source": [
    "Fit.statMethod = \"chi\"\n",
    "Fit.nIterations = 100000\n",
    "Fit.delta = 1e-4\n",
    "Fit.criticalDelta = 1e-4"
   ]
  },
  {
   "cell_type": "markdown",
   "id": "39b7d9d2-7930-4892-81ba-8bd2db47e610",
   "metadata": {},
   "source": [
    "## Load files"
   ]
  },
  {
   "cell_type": "code",
   "execution_count": 4,
   "id": "cd0bcd6f-9565-4899-90b7-1e5d87e7050a",
   "metadata": {},
   "outputs": [
    {
     "name": "stdout",
     "output_type": "stream",
     "text": [
      "***Warning: Detected response matrix energy bin value = 0 (or neg).\n",
      "     XSPEC will instead use small finite value (response file will not be altered).\n",
      "\n",
      "1 spectrum  in use\n",
      " \n",
      "Spectral Data File: ObsID0945020133_SRCNUM3_EMOS2_spectrum_grp.fits  Spectrum 1\n",
      "Net count rate (cts/s) for Spectrum:1  4.408e-03 +/- 7.987e-04 (49.8 % total)\n",
      " Assigned to Data Group 1 and Plot Group 1\n",
      "  Noticed Channels:  1-5\n",
      "  Telescope: XMM Instrument: EMOS2  Channel Type: PI\n",
      "  Exposure Time: 1.56e+04 sec\n",
      " Using fit statistic: chi\n",
      " Using Background File                MOSbackground_spectrum.fits\n",
      "  Background Exposure Time: 1.56e+04 sec\n",
      " Using Response (RMF) File            MOS.rmf for Source 1\n",
      " Using Auxiliary Response (ARF) File  MOS.arf\n",
      "\n"
     ]
    }
   ],
   "source": [
    "AllData.clear()\n",
    "spec = Spectrum(glob.glob('ObsID*_SRCNUM*_E*_spectrum_grp.fits')[0])"
   ]
  },
  {
   "cell_type": "code",
   "execution_count": 1,
   "id": "f4729247-937f-48a4-88e2-e9b68435f0b3",
   "metadata": {},
   "outputs": [
    {
     "name": "stdout",
     "output_type": "stream",
     "text": [
      "Number of counts = 68.7648\n",
      "\n",
      "The low number of counts indicates that we should consider using cstat fit statistic instead of chi statistic.\n"
     ]
    }
   ],
   "source": [
    "n_cts = 1.56e+04*4.408e-03\n",
    "\n",
    "print(\"Number of counts =\",n_cts)\n",
    "\n",
    "if int(n_cts)<100:\n",
    "    print()\n",
    "    print(\"The low number of counts indicates that we should consider using cstat fit statistic instead of chi statistic.\")"
   ]
  },
  {
   "cell_type": "markdown",
   "id": "870eec10-27a5-4341-a01c-4a98ac400133",
   "metadata": {},
   "source": [
    "## Plot spectrum"
   ]
  },
  {
   "cell_type": "code",
   "execution_count": 5,
   "id": "37f98bf3-3d31-4c65-891f-3ea006da7786",
   "metadata": {},
   "outputs": [
    {
     "name": "stdout",
     "output_type": "stream",
     "text": [
      "     1 channels (1) ignored in spectrum #     1\n",
      "      No channels ignored (no channels in specified range)\n",
      "\n"
     ]
    }
   ],
   "source": [
    "Plot.xAxis=\"keV\"\n",
    "Plot.device = \"/xs\"\n",
    "Plot.xLog=True\n",
    "Plot.yLog=True\n",
    "Plot(\"data\")\n",
    "spec.ignore(\"**-0.2 12.0-**\")"
   ]
  },
  {
   "cell_type": "code",
   "execution_count": 5,
   "id": "27bf0415-368d-4476-8ef7-29af925b48ee",
   "metadata": {},
   "outputs": [
    {
     "data": {
      "text/plain": [
       "(-0.5, 859.5, 661.5, -0.5)"
      ]
     },
     "execution_count": 5,
     "metadata": {},
     "output_type": "execute_result"
    },
    {
     "data": {
      "image/png": "[encoded data removed]",
      "text/plain": [
       "<Figure size 1200x700 with 1 Axes>"
      ]
     },
     "metadata": {},
     "output_type": "display_data"
    }
   ],
   "source": [
    "img = plt.imread(glob.glob('ObsID*_SRCNUM*_E*_Spectrum.png')[0])\n",
    "plt.imshow(img)\n",
    "plt.axis('off')"
   ]
  },
  {
   "cell_type": "markdown",
   "id": "7eb1edda-21f0-4876-bdbc-8cb3e4a347dc",
   "metadata": {},
   "source": [
    "### Black body model (Best fit)\n",
    "**tbabs :**"
   ]
  },
  {
   "cell_type": "code",
   "execution_count": 6,
   "id": "25e94b4e-0bb6-439e-af07-e82ebf0faa48",
   "metadata": {
    "scrolled": true
   },
   "outputs": [
    {
     "name": "stdout",
     "output_type": "stream",
     "text": [
      "\n",
      "========================================================================\n",
      "Model TBabs<1>*bbody<2> Source No.: 1   Active/On\n",
      "Model Model Component  Parameter  Unit     Value\n",
      " par  comp\n",
      "   1    1   TBabs      nH         10^22    1.00000      +/-  0.0          \n",
      "   2    2   bbody      kT         keV      3.00000      +/-  0.0          \n",
      "   3    2   bbody      norm                1.00000      +/-  0.0          \n",
      "________________________________________________________________________\n",
      "\n",
      "tbvabs Version 2.3\n",
      "Cosmic absorption with grains and H2, modified from\n",
      "Wilms, Allen, & McCray, 2000, ApJ 542, 914-924\n",
      "Questions: Joern Wilms\n",
      "joern.wilms@sternwarte.uni-erlangen.de\n",
      "joern.wilms@fau.de\n",
      "\n",
      "http://pulsar.sternwarte.uni-erlangen.de/wilms/research/tbabs/\n",
      "\n",
      "PLEASE NOTICE:\n",
      "To get the model described by the above paper\n",
      "you will also have to set the abundances:\n",
      "   abund wilm\n",
      "\n",
      "Note that this routine ignores the current cross section setting\n",
      "as it always HAS to use the Verner cross sections as a baseline.\n",
      "\n",
      "Fit statistic  : Chi-Squared              3.287679e+11     using 4 bins.\n",
      "\n",
      "Test statistic : Chi-Squared              3.287679e+11     using 4 bins.\n",
      " Null hypothesis probability of 0.000000e+00 with 1 degrees of freedom\n",
      " Current data and model not fit yet.\n",
      "                                   Parameters\n",
      "Chi-Squared  |beta|/N    Lvl          1:nH          2:kT        3:norm\n",
      "24.125       0.219946      0      0.368782       2.99956   3.02049e-06\n",
      "23.2568      41616         0     0.0912955       2.98195   3.01464e-06\n",
      "22.9807      73062.6       0     0.0389716       2.95175   3.02897e-06\n",
      "22.8114      74199.9       0     0.0161256       2.92108   3.04350e-06\n",
      "22.6993      69999.8       0    0.00567926       2.89189   3.05492e-06\n",
      "22.619       63728.2       0   0.000767037       2.86473   3.06224e-06\n",
      "22.5666      56927.1       0   0.000180127       2.83958   3.06546e-06\n",
      "22.5222      49924.8       0   3.78776e-05       2.81638   3.06470e-06\n",
      "22.483       43617.8       0   3.24145e-06       2.79482   3.06058e-06\n",
      "22.4474      38014.2       0   1.12625e-06       2.77460   3.05365e-06\n",
      "22.4145      33049.5       0   9.02362e-08       2.75547   3.04434e-06\n",
      "22.3836      28653.5       0   2.66770e-08       2.73725   3.03306e-06\n",
      "22.3543      24759.6       0   1.10528e-08       2.71979   3.02010e-06\n",
      "22.3261      21311.4       0   3.36012e-09       2.70292   3.00575e-06\n",
      "22.2988      18237.8       0   1.46415e-09       2.68660   2.99022e-06\n",
      "22.2721      15510.5       0   5.28602e-10       2.67067   2.97371e-06\n",
      "22.2458      13064.3       0   6.65874e-11       2.65507   2.95636e-06\n",
      "22.2197      10865.8       0   9.50144e-12       2.63974   2.93831e-06\n",
      "22.1936      8881.32       0   2.42015e-12       2.62461   2.91973e-06\n",
      "22.1678      7055.06       0   6.93940e-13       2.60976   2.90030e-06\n",
      "22.1413      5519.5        0   2.54598e-13       2.59477   2.88109e-06\n",
      "22.1151      3848.68       0   4.53393e-14       2.58009   2.86056e-06\n",
      "22.0894      2621.29       0   2.19626e-14       2.56592   2.83867e-06\n",
      "22.0609      1959.73       0   6.58448e-15       2.55044   2.82094e-06\n",
      "22.0261      349.847       0   2.50351e-15       2.53172   2.80642e-06\n",
      "21.7315      5063.28       0   1.09403e-16       2.38778   2.60324e-06\n",
      "***Warning: Zero alpha-matrix diagonal element for parameter 1\n",
      " Parameter 1 is pegged at 1.09403e-16 due to zero or negative pivot element, likely\n",
      " caused by the fit being insensitive to the parameter.\n",
      "21.3176      25511         0   1.09403e-16       2.21758   2.40418e-06\n",
      "7.93242      68609.9      -1   1.09403e-16      0.891657   1.18414e-06\n",
      "4.80448      201792       -2   1.09403e-16      0.346240   4.24943e-07\n",
      "0.591601     6.41038e+06  -3   1.09403e-16      0.496437   6.78131e-07\n",
      "0.0530954    2.45327e+06  -4   1.09403e-16      0.482849   7.70946e-07\n",
      "0.0526539    44445.7      -5   1.09403e-16      0.484541   7.71113e-07\n",
      "0.0526537    60.2742      -6   1.09403e-16      0.484584   7.71167e-07\n",
      "***Warning: Zero alpha-matrix diagonal element for parameter 1\n",
      " Parameter 1 is pegged at 1.09403e-16 due to zero or negative pivot element, likely\n",
      " caused by the fit being insensitive to the parameter.\n",
      "0.0526537    1.30008      -3   1.09403e-16      0.484580   7.71163e-07\n",
      "==============================\n",
      " Variances and Principal Axes\n",
      "                 2        3  \n",
      " 2.1070E-14| -0.0000   1.0000  \n",
      " 1.0712E-02|  1.0000   0.0000  \n",
      "---------------------------\n",
      "\n",
      "========================\n",
      "  Covariance Matrix\n",
      "        1           2   \n",
      "   1.071e-02   1.287e-08\n",
      "   1.287e-08   3.653e-14\n",
      "------------------------\n",
      "\n",
      "========================================================================\n",
      "Model TBabs<1>*bbody<2> Source No.: 1   Active/On\n",
      "Model Model Component  Parameter  Unit     Value\n",
      " par  comp\n",
      "   1    1   TBabs      nH         10^22    1.09403E-16  +/-  -1.00000     \n",
      "   2    2   bbody      kT         keV      0.484580     +/-  0.103497     \n",
      "   3    2   bbody      norm                7.71163E-07  +/-  1.91128E-07  \n",
      "________________________________________________________________________\n",
      "\n",
      "\n",
      "Fit statistic  : Chi-Squared                  0.0527     using 4 bins.\n",
      "\n",
      "Test statistic : Chi-Squared                  0.0527     using 4 bins.\n",
      " Null hypothesis probability of 8.1851e-01 with 1 degrees of freedom\n",
      " Model Flux 2.9859e-05 photons (6.4411e-14 ergs/cm^2/s) range (0.20000 - 12.000 keV)\n"
     ]
    }
   ],
   "source": [
    "AllModels.clear()\n",
    "mo = Model(\"tbabs*bbody\")\n",
    "Fit.perform()\n",
    "Plot.device = \"/xs\"\n",
    "Plot(\"data resid\")\n",
    "plt.show()\n",
    "nH_bbody = mo.TBabs.nH.values[0]\n",
    "AllModels.calcFlux(\".2 12.0\")"
   ]
  },
  {
   "cell_type": "code",
   "execution_count": 7,
   "id": "f2d55c50-94dd-468d-bf08-69bca0b63260",
   "metadata": {},
   "outputs": [
    {
     "data": {
      "text/plain": [
       "(-0.5, 857.5, 656.5, -0.5)"
      ]
     },
     "execution_count": 7,
     "metadata": {},
     "output_type": "execute_result"
    },
    {
     "data": {
      "image/png": "[encoded data removed]",
      "text/plain": [
       "<Figure size 1200x700 with 1 Axes>"
      ]
     },
     "metadata": {},
     "output_type": "display_data"
    }
   ],
   "source": [
    "img = plt.imread(glob.glob('ObsID*_SRCNUM*_E*_Spectrum_bbody.png')[0])\n",
    "plt.imshow(img)\n",
    "plt.axis('off')"
   ]
  },
  {
   "cell_type": "markdown",
   "id": "045608d9-d001-46d2-90af-ee6ae98d9ea6",
   "metadata": {},
   "source": [
    "**ztbabs :**"
   ]
  },
  {
   "cell_type": "code",
   "execution_count": 7,
   "id": "eb482ce1-4ba1-4a47-b13c-7db84ce72d16",
   "metadata": {
    "scrolled": true
   },
   "outputs": [
    {
     "name": "stdout",
     "output_type": "stream",
     "text": [
      "\n",
      "========================================================================\n",
      "Model zTBabs<1>*bbody<2> Source No.: 1   Active/On\n",
      "Model Model Component  Parameter  Unit     Value\n",
      " par  comp\n",
      "   1    1   zTBabs     nH         10^22    1.00000      +/-  0.0          \n",
      "   2    1   zTBabs     Redshift            0.0          frozen\n",
      "   3    2   bbody      kT         keV      3.00000      +/-  0.0          \n",
      "   4    2   bbody      norm                1.00000      +/-  0.0          \n",
      "________________________________________________________________________\n",
      "\n",
      "\n",
      "Fit statistic  : Chi-Squared              3.286722e+11     using 4 bins.\n",
      "\n",
      "Test statistic : Chi-Squared              3.286722e+11     using 4 bins.\n",
      " Null hypothesis probability of 0.000000e+00 with 1 degrees of freedom\n",
      " Current data and model not fit yet.\n",
      "\n",
      "Fit statistic  : Chi-Squared              3.958034e+11     using 4 bins.\n",
      "\n",
      "Test statistic : Chi-Squared              3.958034e+11     using 4 bins.\n",
      " Null hypothesis probability of 0.000000e+00 with 1 degrees of freedom\n",
      " Current data and model not fit yet.\n",
      "                                   Parameters\n",
      "Chi-Squared  |beta|/N    Lvl          1:nH          3:kT        4:norm\n",
      "18.8171      0.185222     -3      0.168657      0.838134   2.84251e-07\n",
      "17.7459      4.74682e+06  -4     0.0686455      0.155911   4.59459e-07\n",
      "14.0498      209719       -2      0.865716      0.367005   2.29535e-07\n",
      "10.8766      8.45161e+06  -3     0.0873696      0.812543   5.90533e-07\n",
      "9.60149      3.12592e+06  -2    0.00837710      0.240707   5.11469e-07\n",
      "3.56927      532050       -1   0.000540313      0.377942   4.60614e-07\n",
      "2.39871      3.98071e+06  -2   0.000230863      0.562660   6.40664e-07\n",
      "0.107666     2.76812e+06  -3   6.13170e-05      0.486630   7.39599e-07\n",
      "0.0972677    534985       -1   3.00767e-05      0.495341   7.56783e-07\n",
      "0.0702563    417870        0   4.47542e-06      0.491823   7.63207e-07\n",
      "0.06151      257690        0   1.90958e-06      0.490064   7.66281e-07\n",
      "0.058274     178425        0   7.78839e-07      0.489154   7.67732e-07\n",
      "0.0569277    139239        0   2.51058e-07      0.488668   7.68397e-07\n",
      "0.056316     119937        0   1.23833e-07      0.488400   7.68685e-07\n",
      "0.056021     110483        0   6.14230e-08      0.488246   7.68798e-07\n",
      "0.0558721    105898        0   3.05293e-08      0.488155   7.68830e-07\n",
      "0.0557938    103699        0   1.51657e-08      0.488097   7.68829e-07\n",
      "========================================\n",
      " Variances and Principal Axes\n",
      "                 1        3        4  \n",
      " 2.1306E-14| -0.0000  -0.0000   1.0000  \n",
      " 1.1006E-02| -0.0524  -0.9986  -0.0000  \n",
      " 5.7115E+00|  0.9986  -0.0524   0.0000  \n",
      "----------------------------------------\n",
      "\n",
      "====================================\n",
      "  Covariance Matrix\n",
      "        1           2           3   \n",
      "   5.696e+00  -2.984e-01   2.215e-07\n",
      "  -2.984e-01   2.667e-02   1.653e-09\n",
      "   2.215e-07   1.653e-09   4.585e-14\n",
      "------------------------------------\n",
      "\n",
      "========================================================================\n",
      "Model zTBabs<1>*bbody<2> Source No.: 1   Active/On\n",
      "Model Model Component  Parameter  Unit     Value\n",
      " par  comp\n",
      "   1    1   zTBabs     nH         10^22    1.51657E-08  +/-  2.38660      \n",
      "   2    1   zTBabs     Redshift            1.67487      frozen\n",
      "   3    2   bbody      kT         keV      0.488097     +/-  0.163312     \n",
      "   4    2   bbody      norm                7.68829E-07  +/-  2.14133E-07  \n",
      "________________________________________________________________________\n",
      "\n",
      "\n",
      "Fit statistic  : Chi-Squared                  0.0558     using 4 bins.\n",
      "\n",
      "Test statistic : Chi-Squared                  0.0558     using 4 bins.\n",
      " Null hypothesis probability of 8.1327e-01 with 1 degrees of freedom\n",
      " Model Flux 2.9567e-05 photons (6.422e-14 ergs/cm^2/s) range (0.20000 - 12.000 keV)\n"
     ]
    }
   ],
   "source": [
    "AllModels.clear()\n",
    "moz = Model(\"ztbabs*bbody\")\n",
    "moz.zTBabs.Redshift = z\n",
    "Fit.perform()\n",
    "Plot.device = \"/xs\"\n",
    "Plot(\"data resid\")\n",
    "nH_bbody_z = moz.zTBabs.nH.values[0]\n",
    "AllModels.calcFlux(\".2 12.0\")"
   ]
  },
  {
   "cell_type": "markdown",
   "id": "b77a2e66-8412-4d85-a277-10782493ea2e",
   "metadata": {},
   "source": [
    "### Bremsstrahlung model\n",
    "**tbabs :**"
   ]
  },
  {
   "cell_type": "code",
   "execution_count": 8,
   "id": "3ed606fb-6f75-4369-b9c8-b5c95a0a9577",
   "metadata": {
    "scrolled": true
   },
   "outputs": [
    {
     "name": "stdout",
     "output_type": "stream",
     "text": [
      "\n",
      "========================================================================\n",
      "Model TBabs<1>*bremss<2> Source No.: 1   Active/On\n",
      "Model Model Component  Parameter  Unit     Value\n",
      " par  comp\n",
      "   1    1   TBabs      nH         10^22    1.00000      +/-  0.0          \n",
      "   2    2   bremss     kT         keV      7.00000      +/-  0.0          \n",
      "   3    2   bremss     norm                1.00000      +/-  0.0          \n",
      "________________________________________________________________________\n",
      "\n",
      "\n",
      "Fit statistic  : Chi-Squared              1.211833e+10     using 4 bins.\n",
      "\n",
      "Test statistic : Chi-Squared              1.211833e+10     using 4 bins.\n",
      " Null hypothesis probability of 0.000000e+00 with 1 degrees of freedom\n",
      " Current data and model not fit yet.\n",
      "                                   Parameters\n",
      "Chi-Squared  |beta|/N    Lvl          1:nH          2:kT        3:norm\n",
      "12.5234      1.53057      -3      0.296073       12.6825   1.34331e-05\n",
      "6.19196      135520       -1     0.0589699       1.76735   1.96104e-05\n",
      "0.807096     105616       -2      0.246349       2.51617   3.74850e-05\n",
      "0.3469       14928.5      -1      0.206234       1.90330   4.15816e-05\n",
      "0.25357      9891.68      -2      0.250844       1.66661   4.94152e-05\n",
      "0.227868     5162.61      -3      0.264370       1.62696   5.26817e-05\n",
      "0.227724     370.9        -4      0.265182       1.62612   5.28774e-05\n",
      "0.227724     0.877864     -5      0.265215       1.62615   5.28798e-05\n",
      "========================================\n",
      " Variances and Principal Axes\n",
      "                 1        2        3  \n",
      " 9.9682E-11| -0.0001   0.0000   1.0000  \n",
      " 2.4377E-02|  0.9901   0.1401   0.0001  \n",
      " 2.1142E+00| -0.1401   0.9901  -0.0000  \n",
      "----------------------------------------\n",
      "\n",
      "====================================\n",
      "  Covariance Matrix\n",
      "        1           2           3   \n",
      "   6.541e-02  -2.899e-01   1.187e-05\n",
      "  -2.899e-01   2.073e+00  -7.028e-05\n",
      "   1.187e-05  -7.028e-05   2.650e-09\n",
      "------------------------------------\n",
      "\n",
      "========================================================================\n",
      "Model TBabs<1>*bremss<2> Source No.: 1   Active/On\n",
      "Model Model Component  Parameter  Unit     Value\n",
      " par  comp\n",
      "   1    1   TBabs      nH         10^22    0.265215     +/-  0.255753     \n",
      "   2    2   bremss     kT         keV      1.62615      +/-  1.43986      \n",
      "   3    2   bremss     norm                5.28798E-05  +/-  5.14828E-05  \n",
      "________________________________________________________________________\n",
      "\n",
      "\n",
      "Fit statistic  : Chi-Squared                  0.2277     using 4 bins.\n",
      "\n",
      "Test statistic : Chi-Squared                  0.2277     using 4 bins.\n",
      " Null hypothesis probability of 6.3322e-01 with 1 degrees of freedom\n",
      " Model Flux 2.7653e-05 photons (6.8873e-14 ergs/cm^2/s) range (0.20000 - 12.000 keV)\n"
     ]
    }
   ],
   "source": [
    "AllModels.clear()\n",
    "mo = Model(\"tbabs*bremss\")\n",
    "Fit.perform()\n",
    "Plot.device = \"/xs\"\n",
    "Plot(\"data resid\")\n",
    "nH_bremss = mo.TBabs.nH.values[0]\n",
    "AllModels.calcFlux(\".2 12.0\")"
   ]
  },
  {
   "cell_type": "code",
   "execution_count": 11,
   "id": "4f360356-063b-4c14-8ea4-029f8abb6085",
   "metadata": {},
   "outputs": [
    {
     "data": {
      "text/plain": [
       "(-0.5, 857.5, 661.5, -0.5)"
      ]
     },
     "execution_count": 11,
     "metadata": {},
     "output_type": "execute_result"
    },
    {
     "data": {
      "image/png": "[encoded data removed]",
      "text/plain": [
       "<Figure size 1200x700 with 1 Axes>"
      ]
     },
     "metadata": {},
     "output_type": "display_data"
    }
   ],
   "source": [
    "img = plt.imread(glob.glob('ObsID*_SRCNUM*_E*_Spectrum_bremss.png')[0])\n",
    "plt.imshow(img)\n",
    "plt.axis('off')"
   ]
  },
  {
   "cell_type": "markdown",
   "id": "3507cb25-80b5-473e-86e0-30fb403008ed",
   "metadata": {},
   "source": [
    "**ztbabs :**"
   ]
  },
  {
   "cell_type": "code",
   "execution_count": 9,
   "id": "571c2212-afb9-4654-9dc9-fe4975353dae",
   "metadata": {
    "scrolled": true
   },
   "outputs": [
    {
     "name": "stdout",
     "output_type": "stream",
     "text": [
      "\n",
      "========================================================================\n",
      "Model zTBabs<1>*bremss<2> Source No.: 1   Active/On\n",
      "Model Model Component  Parameter  Unit     Value\n",
      " par  comp\n",
      "   1    1   zTBabs     nH         10^22    1.00000      +/-  0.0          \n",
      "   2    1   zTBabs     Redshift            0.0          frozen\n",
      "   3    2   bremss     kT         keV      7.00000      +/-  0.0          \n",
      "   4    2   bremss     norm                1.00000      +/-  0.0          \n",
      "________________________________________________________________________\n",
      "\n",
      "\n",
      "Fit statistic  : Chi-Squared              1.207829e+10     using 4 bins.\n",
      "\n",
      "Test statistic : Chi-Squared              1.207829e+10     using 4 bins.\n",
      " Null hypothesis probability of 0.000000e+00 with 1 degrees of freedom\n",
      " Current data and model not fit yet.\n",
      "\n",
      "Fit statistic  : Chi-Squared              4.122415e+10     using 4 bins.\n",
      "\n",
      "Test statistic : Chi-Squared              4.122415e+10     using 4 bins.\n",
      " Null hypothesis probability of 0.000000e+00 with 1 degrees of freedom\n",
      " Current data and model not fit yet.\n",
      "                                   Parameters\n",
      "Chi-Squared  |beta|/N    Lvl          1:nH          3:kT        4:norm\n",
      "1.13449      0.102175     -3       2.33201       3.09744   3.18071e-05\n",
      "0.614005     21791.2      -1       1.83469       1.91409   3.65257e-05\n",
      "0.271058     21534.8      -2       2.37593       1.84368   4.39035e-05\n",
      "0.263276     2745.14      -3       2.52512       1.75091   4.66194e-05\n",
      "0.262666     806.203      -4       2.52251       1.76456   4.65647e-05\n",
      "0.262664     6.36559      -5       2.52595       1.76189   4.66310e-05\n",
      "========================================\n",
      " Variances and Principal Axes\n",
      "                 1        3        4  \n",
      " 7.7402E-11| -0.0000   0.0000   1.0000  \n",
      " 8.6138E-01| -0.4582  -0.8888   0.0000  \n",
      " 8.3258E+00|  0.8888  -0.4582   0.0000  \n",
      "----------------------------------------\n",
      "\n",
      "====================================\n",
      "  Covariance Matrix\n",
      "   2           3   \n",
      "   6.759e+00  -3.040e+00   9.118e-05\n",
      "  -3.040e+00   2.429e+00  -5.841e-05\n",
      "   9.118e-05  -5.841e-05   1.593e-09\n",
      "------------------------------------\n",
      "\n",
      "========================================================================\n",
      "Model zTBabs<1>*bremss<2> Source No.: 1   Active/On\n",
      "Model Model Component  Parameter  Unit     Value\n",
      " par  comp\n",
      "   1    1   zTBabs     nH         10^22    2.52595      +/-  2.59972      \n",
      "   2    1   zTBabs     Redshift            1.67487      frozen\n",
      "   3    2   bremss     kT         keV      1.76189      +/-  1.55842      \n",
      "   4    2   bremss     norm                4.66310E-05  +/-  3.99093E-05  \n",
      "________________________________________________________________________\n",
      "\n",
      "\n",
      "Fit statistic  : Chi-Squared                  0.2627     using 4 bins.\n",
      "\n",
      "Test statistic : Chi-Squared                  0.2627     using 4 bins.\n",
      " Null hypothesis probability of 6.0830e-01 with 1 degrees of freedom\n",
      " Model Flux 2.6355e-05 photons (6.8829e-14 ergs/cm^2/s) range (0.20000 - 12.000 keV)\n"
     ]
    }
   ],
   "source": [
    "AllModels.clear()\n",
    "moz = Model(\"ztbabs*bremss\")\n",
    "moz.zTBabs.Redshift = z\n",
    "Fit.perform()\n",
    "Plot.device = \"/xs\"\n",
    "Plot(\"data resid\")\n",
    "nH_bremss_z = moz.zTBabs.nH.values[0]\n",
    "AllModels.calcFlux(\".2 12.0\")"
   ]
  },
  {
   "cell_type": "markdown",
   "id": "4d8ea665-d6a1-4113-beaf-fad108850b18",
   "metadata": {},
   "source": [
    "### Apec model\n",
    "**tbabs :**"
   ]
  },
  {
   "cell_type": "code",
   "execution_count": 10,
   "id": "4bd12dd8-e0eb-46e8-a057-f7eb723b3a94",
   "metadata": {
    "scrolled": true
   },
   "outputs": [
    {
     "name": "stdout",
     "output_type": "stream",
     "text": [
      "\n",
      "========================================================================\n",
      "Model TBabs<1>*apec<2> Source No.: 1   Active/On\n",
      "Model Model Component  Parameter  Unit     Value\n",
      " par  comp\n",
      "   1    1   TBabs      nH         10^22    1.00000      +/-  0.0          \n",
      "   2    2   apec       kT         keV      1.00000      +/-  0.0          \n",
      "   3    2   apec       Abundanc            1.00000      frozen\n",
      "   4    2   apec       Redshift            0.0          frozen\n",
      "   5    2   apec       norm                1.00000      +/-  0.0          \n",
      "________________________________________________________________________\n",
      "\n",
      "Reading APEC data from 3.0.9\n",
      "\n",
      "\n",
      "Fit statistic  : Chi-Squared              1.676045e+09     using 4 bins.\n",
      "\n",
      "Test statistic : Chi-Squared              1.676045e+09     using 4 bins.\n",
      " Null hypothesis probability of 0.000000e+00 with 1 degrees of freedom\n",
      " Current data and model not fit yet.\n",
      "                                   Parameters\n",
      "Chi-Squared  |beta|/N    Lvl          1:nH          2:kT        5:norm\n",
      "0.681478     0.330247     -1       1.05244      0.958966   0.000138225\n",
      "0.636324     945.877      -1       1.08382      0.926134   0.000147923\n",
      "0.61414      636.973      -1       1.10738      0.898241   0.000155980\n",
      "0.605849     597.243      -1       1.11805      0.894615   0.000159943\n",
      "0.602516     164.242      -1       1.12567      0.885784   0.000162937\n",
      "0.600549     120.328      -1       1.13104      0.877720   0.000165343\n",
      "0.599354     91.7438      -1       1.13503      0.871090   0.000167256\n",
      "0.598629     69.6262      -1       1.13807      0.865833   0.000168763\n",
      "0.598195     52.8038      -1       1.14041      0.861730   0.000169943\n",
      "0.598191     40.1522       1       1.14041      0.861777   0.000169944\n",
      "========================================\n",
      " Variances and Principal Axes\n",
      "                 1        2        5  \n",
      " 1.0449E-09| -0.0002   0.0002   1.0000  \n",
      " 5.0778E-02|  0.9319   0.3626   0.0002  \n",
      " 8.5482E-01| -0.3626   0.9319  -0.0002  \n",
      "----------------------------------------\n",
      "\n",
      "====================================\n",
      "  Covariance Matrix\n",
      "        1           2           3   \n",
      "   1.565e-01  -2.717e-01   7.978e-05\n",
      "  -2.717e-01   7.491e-01  -1.832e-04\n",
      "   7.978e-05  -1.832e-04   4.892e-08\n",
      "------------------------------------\n",
      "\n",
      "========================================================================\n",
      "Model TBabs<1>*apec<2> Source No.: 1   Active/On\n",
      "Model Model Component  Parameter  Unit     Value\n",
      " par  comp\n",
      "   1    1   TBabs      nH         10^22    1.14041      +/-  0.395601     \n",
      "   2    2   apec       kT         keV      0.861777     +/-  0.865502     \n",
      "   3    2   apec       Abundanc            1.00000      frozen\n",
      "   4    2   apec       Redshift            0.0          frozen\n",
      "   5    2   apec       norm                1.69944E-04  +/-  2.21177E-04  \n",
      "________________________________________________________________________\n",
      "\n",
      "\n",
      "Fit statistic  : Chi-Squared                  0.5982     using 4 bins.\n",
      "\n",
      "Test statistic : Chi-Squared                  0.5982     using 4 bins.\n",
      " Null hypothesis probability of 4.3927e-01 with 1 degrees of freedom\n",
      " Model Flux 2.2418e-05 photons (5.6145e-14 ergs/cm^2/s) range (0.20000 - 12.000 keV)\n"
     ]
    }
   ],
   "source": [
    "AllModels.clear()\n",
    "mo = Model(\"tbabs*apec\")\n",
    "Fit.perform()\n",
    "Plot.device = \"/xs\"\n",
    "Plot(\"data resid\")\n",
    "nH_apec = mo.TBabs.nH.values[0]\n",
    "AllModels.calcFlux(\".2 12.0\")"
   ]
  },
  {
   "cell_type": "code",
   "execution_count": 14,
   "id": "e3c38dd4-72e7-44cd-b2db-963368ff15b2",
   "metadata": {},
   "outputs": [
    {
     "data": {
      "text/plain": [
       "(-0.5, 855.5, 660.5, -0.5)"
      ]
     },
     "execution_count": 14,
     "metadata": {},
     "output_type": "execute_result"
    },
    {
     "data": {
      "image/png": "[encoded data removed]",
      "text/plain": [
       "<Figure size 1200x700 with 1 Axes>"
      ]
     },
     "metadata": {},
     "output_type": "display_data"
    }
   ],
   "source": [
    "img = plt.imread(glob.glob('ObsID*_SRCNUM*_E*_Spectrum_apec.png')[0])\n",
    "plt.imshow(img)\n",
    "plt.axis('off')"
   ]
  },
  {
   "cell_type": "markdown",
   "id": "cb75ae9b-873c-4b22-980e-a5e4af6c8ee5",
   "metadata": {},
   "source": [
    "**ztbabs :**"
   ]
  },
  {
   "cell_type": "code",
   "execution_count": 11,
   "id": "602433bb-f9ff-44e4-b16c-f1174c73bea9",
   "metadata": {
    "scrolled": true
   },
   "outputs": [
    {
     "name": "stdout",
     "output_type": "stream",
     "text": [
      "\n",
      "========================================================================\n",
      "Model zTBabs<1>*apec<2> Source No.: 1   Active/On\n",
      "Model Model Component  Parameter  Unit     Value\n",
      " par  comp\n",
      "   1    1   zTBabs     nH         10^22    1.00000      +/-  0.0          \n",
      "   2    1   zTBabs     Redshift            0.0          frozen\n",
      "   3    2   apec       kT         keV      1.00000      +/-  0.0          \n",
      "   4    2   apec       Abundanc            1.00000      frozen\n",
      "   5    2   apec       Redshift            0.0          frozen\n",
      "   6    2   apec       norm                1.00000      +/-  0.0          \n",
      "________________________________________________________________________\n",
      "\n",
      "\n",
      "Fit statistic  : Chi-Squared              1.634101e+09     using 4 bins.\n",
      "\n",
      "Test statistic : Chi-Squared              1.634101e+09     using 4 bins.\n",
      " Null hypothesis probability of 0.000000e+00 with 1 degrees of freedom\n",
      " Current data and model not fit yet.\n",
      "\n",
      "Fit statistic  : Chi-Squared              9.071530e+10     using 4 bins.\n",
      "\n",
      "Test statistic : Chi-Squared              9.071530e+10     using 4 bins.\n",
      " Null hypothesis probability of 0.000000e+00 with 1 degrees of freedom\n",
      " Current data and model not fit yet.\n",
      "                                   Parameters\n",
      "Chi-Squared  |beta|/N    Lvl          1:nH          3:kT        6:norm\n",
      "7.01666      3.4883       -2       4.83207       1.43567   3.49292e-05\n",
      "2.09374      61376        -1       5.19662       1.41591   6.02272e-05\n",
      "1.81863      7506.87      -1       6.18443       1.38381   6.88794e-05\n",
      "1.63183      3031.52      -1       7.14488       1.33485   7.55919e-05\n",
      "1.42684      1785.56      -1       8.31419       1.25886   8.26341e-05\n",
      "1.23483      2042.32      -1       9.44280       1.18418   9.06782e-05\n",
      "1.07449      2136.53      -1       10.4441       1.11571   9.95700e-05\n",
      "0.945093     2108.67      -1       11.3052       1.04949   0.000109379\n",
      "0.850694     2048.83      -1       11.9791      0.987512   0.000119893\n",
      "0.794614     1848.46      -1       12.4233      0.938265   0.000129950\n",
      "0.767795     1336.27      -1       12.6479      0.914071   0.000136974\n",
      "0.764312     473.343      -1       12.8338      0.892667   0.000142113\n",
      "0.760811     543.315      -2       12.8606      0.915775   0.000140953\n",
      "0.760125     40.8027       0       12.8620      0.908626   0.000141338\n",
      "0.759707     228.96       -1       12.8845      0.913564   0.000141570\n",
      "0.759416     19.6422       0       12.8846      0.912476   0.000141584\n",
      "0.759402     64.9475       0       12.8848      0.912621   0.000141595\n",
      "========================================\n",
      " Variances and Principal Axes\n",
      "                 1        3        6  \n",
      " 7.2993E-10| -0.0000   0.0001   1.0000  \n",
      " 3.3984E-01| -0.1642  -0.9864   0.0001  \n",
      " 2.7355E+01|  0.9864  -0.1642   0.0000  \n",
      "----------------------------------------\n",
      "\n",
      "====================================\n",
      "  Covariance Matrix\n",
      "        1           2           3   \n",
      "   2.663e+01  -4.375e+00   9.289e-04\n",
      "  -4.375e+00   1.068e+00  -1.944e-04\n",
      "   9.289e-04  -1.944e-04   3.813e-08\n",
      "------------------------------------\n",
      "\n",
      "========================================================================\n",
      "Model zTBabs<1>*apec<2> Source No.: 1   Active/On\n",
      "Model Model Component  Parameter  Unit     Value\n",
      " par  comp\n",
      "   1    1   zTBabs     nH         10^22    12.8848      +/-  5.16013      \n",
      "   2    1   zTBabs     Redshift            1.67487      frozen\n",
      "   3    2   apec       kT         keV      0.912621     +/-  1.03345      \n",
      "   4    2   apec       Abundanc            1.00000      frozen\n",
      "   5    2   apec       Redshift            0.0          frozen\n",
      "   6    2   apec       norm                1.41595E-04  +/-  1.95261E-04  \n",
      "________________________________________________________________________\n",
      "\n",
      "\n",
      "Fit statistic  : Chi-Squared                  0.7594     using 4 bins.\n",
      "\n",
      "Test statistic : Chi-Squared                  0.7594     using 4 bins.\n",
      " Null hypothesis probability of 3.8352e-01 with 1 degrees of freedom\n",
      " Model Flux 2.1972e-05 photons (5.5094e-14 ergs/cm^2/s) range (0.20000 - 12.000 keV)\n"
     ]
    }
   ],
   "source": [
    "AllModels.clear()\n",
    "moz = Model(\"ztbabs*apec\")\n",
    "moz.zTBabs.Redshift = z\n",
    "Fit.perform()\n",
    "Plot.device = \"/xs\"\n",
    "Plot(\"data resid\")\n",
    "nH_apec_z = moz.zTBabs.nH.values[0]\n",
    "AllModels.calcFlux(\".2 12.0\")"
   ]
  },
  {
   "cell_type": "markdown",
   "id": "746ccf61-8e54-4726-b463-b6a3d137905c",
   "metadata": {},
   "source": [
    "### Powerlaw model\n",
    "**tbabs :**"
   ]
  },
  {
   "cell_type": "code",
   "execution_count": 12,
   "id": "ecf8f29f-a8fc-4efc-9ce0-7059d934b811",
   "metadata": {
    "scrolled": true
   },
   "outputs": [
    {
     "name": "stdout",
     "output_type": "stream",
     "text": [
      "\n",
      "========================================================================\n",
      "Model TBabs<1>*powerlaw<2> Source No.: 1   Active/On\n",
      "Model Model Component  Parameter  Unit     Value\n",
      " par  comp\n",
      "   1    1   TBabs      nH         10^22    1.00000      +/-  0.0          \n",
      "   2    2   powerlaw   PhoIndex            1.00000      +/-  0.0          \n",
      "   3    2   powerlaw   norm                1.00000      +/-  0.0          \n",
      "________________________________________________________________________\n",
      "\n",
      "\n",
      "Fit statistic  : Chi-Squared              8.007179e+10     using 4 bins.\n",
      "\n",
      "Test statistic : Chi-Squared              8.007179e+10     using 4 bins.\n",
      " Null hypothesis probability of 0.000000e+00 with 1 degrees of freedom\n",
      " Current data and model not fit yet.\n",
      "                                   Parameters\n",
      "Chi-Squared  |beta|/N    Lvl          1:nH    2:PhoIndex        3:norm\n",
      "17.2748      1.59257      -1      0.492913       1.47394   7.58932e-06\n",
      "6.56112      188956       -2      0.223552       3.10102   2.30366e-05\n",
      "1.1211       77028.8       0      0.210861       2.20024   2.76899e-05\n",
      "0.790079     23865.4      -1      0.253391       2.31677   3.27109e-05\n",
      "0.550558     8462.4       -2      0.387390       2.74578   4.58129e-05\n",
      "0.427538     11693.7      -3      0.443525       2.90518   5.53092e-05\n",
      "0.420046     2655.3       -4      0.441613       2.88957   5.57657e-05\n",
      "0.420037     17.6247      -5      0.442659       2.89369   5.59258e-05\n",
      "========================================\n",
      " Variances and Principal Axes\n",
      "                 1        2        3  \n",
      " 1.1161E-10| -0.0001  -0.0000   1.0000  \n",
      " 2.4916E-02|  0.9650  -0.2622   0.0001  \n",
      " 1.6471E+00|  0.2622   0.9650   0.0000  \n",
      "----------------------------------------\n",
      "\n",
      "====================================\n",
      "  Covariance Matrix\n",
      "        1           2           3   \n",
      "   1.364e-01   4.104e-01   1.932e-05\n",
      " 6.366e-0501   1.536e+00  \n",
      "   1.932e-05   6.366e-05   2.949e-09\n",
      "------------------------------------\n",
      "\n",
      "========================================================================\n",
      "Model TBabs<1>*powerlaw<2> Source No.: 1   Active/On\n",
      "Model Model Component  Parameter  Unit     Value\n",
      " par  comp\n",
      "   1    1   TBabs      nH         10^22    0.442659     +/-  0.369331     \n",
      "   2    2   powerlaw   PhoIndex            2.89369      +/-  1.23920      \n",
      "   3    2   powerlaw   norm                5.59258E-05  +/-  5.43085E-05  \n",
      "________________________________________________________________________\n",
      "\n",
      "\n",
      "Fit statistic  : Chi-Squared                  0.4200     using 4 bins.\n",
      "\n",
      "Test statistic : Chi-Squared                  0.4200     using 4 bins.\n",
      " Null hypothesis probability of 5.1692e-01 with 1 degrees of freedom\n",
      " Model Flux 2.7741e-05 photons (7.787e-14 ergs/cm^2/s) range (0.20000 - 12.000 keV)\n"
     ]
    }
   ],
   "source": [
    "AllModels.clear()\n",
    "mo = Model(\"tbabs*powerlaw\")\n",
    "Fit.perform()\n",
    "Plot.device = \"/xs\"\n",
    "Plot(\"data resid\")\n",
    "nH_powerlaw = mo.TBabs.nH.values[0]\n",
    "AllModels.calcFlux(\".2 12.0\")"
   ]
  },
  {
   "cell_type": "code",
   "execution_count": 17,
   "id": "4f917501-7614-449b-b313-4ab6c7dd2aee",
   "metadata": {},
   "outputs": [
    {
     "data": {
      "text/plain": [
       "(-0.5, 854.5, 659.5, -0.5)"
      ]
     },
     "execution_count": 17,
     "metadata": {},
     "output_type": "execute_result"
    },
    {
     "data": {
      "image/png": "[encoded data removed]",
      "text/plain": [
       "<Figure size 1200x700 with 1 Axes>"
      ]
     },
     "metadata": {},
     "output_type": "display_data"
    }
   ],
   "source": [
    "img = plt.imread(glob.glob('ObsID*_SRCNUM*_E*_Spectrum_powerlaw.png')[0])\n",
    "plt.imshow(img)\n",
    "plt.axis('off')"
   ]
  },
  {
   "cell_type": "markdown",
   "id": "e4f8b9f7-6293-407e-84c2-71fbe588503c",
   "metadata": {},
   "source": [
    "**ztbabs :**"
   ]
  },
  {
   "cell_type": "code",
   "execution_count": 13,
   "id": "42fce05a-fe09-4ee9-a1d8-a0c4143c8ec5",
   "metadata": {
    "scrolled": true
   },
   "outputs": [
    {
     "name": "stdout",
     "output_type": "stream",
     "text": [
      "\n",
      "========================================================================\n",
      "Model zTBabs<1>*powerlaw<2> Source No.: 1   Active/On\n",
      "Model Model Component  Parameter  Unit     Value\n",
      " par  comp\n",
      "   1    1   zTBabs     nH         10^22    1.00000      +/-  0.0          \n",
      "   2    1   zTBabs     Redshift            0.0          frozen\n",
      "   3    2   powerlaw   PhoIndex            1.00000      +/-  0.0          \n",
      "   4    2   powerlaw   norm                1.00000      +/-  0.0          \n",
      "________________________________________________________________________\n",
      "\n",
      "\n",
      "Fit statistic  : Chi-Squared              7.995171e+10     using 4 bins.\n",
      "\n",
      "Test statistic : Chi-Squared              7.995171e+10     using 4 bins.\n",
      " Null hypothesis probability of 0.000000e+00 with 1 degrees of freedom\n",
      " Current data and model not fit yet.\n",
      "\n",
      "Fit statistic  : Chi-Squared              1.570093e+11     using 4 bins.\n",
      "\n",
      "Test statistic : Chi-Squared              1.570093e+11     using 4 bins.\n",
      " Null hypothesis probability of 0.000000e+00 with 1 degrees of freedom\n",
      " Current data and model not fit yet.\n",
      "                                   Parameters\n",
      "Chi-Squared  |beta|/N    Lvl          1:nH    3:PhoIndex        4:norm\n",
      "    2.23966      -3       3.03095       2.47053   2.67781e-05\n",
      "0.720615     67393.7      -4       4.41494       2.82137   4.48117e-05\n",
      "0.475398     17364        -5       4.04007       2.68891   4.52836e-05\n",
      "0.473588     1102.77      -6       4.13103       2.72606   4.61387e-05\n",
      "0.47356      24.9261      -7       4.11623       2.71979   4.59601e-05\n",
      "========================================\n",
      " Variances and Principal Axes\n",
      "                 1        3        4  \n",
      " 7.6583E-11| -0.0000  -0.0000   1.0000  \n",
      " 2.9028E-01|  0.2575  -0.9663  -0.0000  \n",
      " 1.4897E+01|  0.9663   0.2575   0.0000  \n",
      "----------------------------------------\n",
      "\n",
      "====================================\n",
      "  Covariance Matrix\n",
      "        1           2           3   \n",
      "   1.393e+01   3.634e+00   1.386e-04\n",
      "   3.634e+00   1.259e+00   4.096e-05\n",
      "   1.386e-04   4.096e-05   1.530e-09\n",
      "------------------------------------\n",
      "\n",
      "========================================================================\n",
      "Model zTBabs<1>*powerlaw<2> Source No.: 1   Active/On\n",
      "Model Model Component  Parameter  Unit     Value\n",
      " par  comp\n",
      "   1    1   zTBabs     nH         10^22    4.11623      +/-  3.73212      \n",
      "   2    1   zTBabs     Redshift            1.67487      frozen\n",
      "   3    2   powerlaw   PhoIndex            2.71979      +/-  1.12195      \n",
      "   4    2   powerlaw   norm                4.59601E-05  +/-  3.91109E-05  \n",
      "________________________________________________________________________\n",
      "\n",
      "\n",
      "Fit statistic  : Chi-Squared                  0.4736     using 4 bins.\n",
      "\n",
      "Test statistic : Chi-Squared                  0.4736     using 4 bins.\n",
      " Null hypothesis probability of 4.9135e-01 with 1 degrees of freedom\n",
      " Model Flux 2.6515e-05 photons (7.9169e-14 ergs/cm^2/s) range (0.20000 - 12.000 keV)\n"
     ]
    }
   ],
   "source": [
    "AllModels.clear()\n",
    "moz = Model(\"ztbabs*powerlaw\")\n",
    "moz.zTBabs.Redshift = z\n",
    "Fit.perform()\n",
    "Plot.device = \"/xs\"\n",
    "Plot(\"data resid\")\n",
    "nH_powerlaw_z = moz.zTBabs.nH.values[0]\n",
    "AllModels.calcFlux(\".2 12.0\")"
   ]
  },
  {
   "cell_type": "markdown",
   "id": "029c0413-fdeb-4b3f-87be-706e7157174e",
   "metadata": {},
   "source": [
    "## Column density nH\n",
    "### 3DNH-tool\n",
    "http://astro.uni-tuebingen.de/nh3d/nhtool\n",
    "\n",
    "**Sky coordinates (°) :** from ESASky\n",
    "\n",
    "- RA = 53.0168404°\n",
    "- Dec = -27.6236739°\n",
    "\n",
    "53.02 -27.62\n",
    "\n",
    "**Column density :** nH = 4*10^20 cm^-2"
   ]
  },
  {
   "cell_type": "code",
   "execution_count": 18,
   "id": "57dec971-6a02-4433-be43-a188254ce708",
   "metadata": {},
   "outputs": [
    {
     "name": "stdout",
     "output_type": "stream",
     "text": [
      "The different models give a column density of :\n",
      "\n",
      "\u001b[1mbbody (Best fit)\u001b[0m\n",
      "(tbabs) : 1094026.1654992874\n",
      "(ztbabs) : 151656927019490.22\n",
      "\n",
      "\u001b[1mbremss\u001b[0m\n",
      "(tbabs) : 2.652145123041557e+21\n",
      "(ztbabs) : 2.525945091652706e+22\n",
      "\n",
      "\u001b[1mapec\u001b[0m\n",
      "(tbabs) : 1.1404119060264165e+22\n",
      "(ztbabs) : 1.2884772729813538e+23\n",
      "\n",
      "\u001b[1mpowerlaw\u001b[0m\n",
      "(tbabs) : 4.426586915140128e+21\n",
      "(ztbabs) : 4.116230450867058e+22\n"
     ]
    }
   ],
   "source": [
    "print(\"The different models give a column density of :\")\n",
    "print()\n",
    "print(color.BOLD+\"bbody (Best fit)\"+color.END)\n",
    "print(f\"(tbabs) : {nH_bbody*10**22}\")\n",
    "print(f\"(ztbabs) : {nH_bbody_z*10**22}\")\n",
    "print()\n",
    "print(color.BOLD+\"bremss\"+color.END)\n",
    "print(f\"(tbabs) : {nH_bremss*10**22}\")\n",
    "print(f\"(ztbabs) : {nH_bremss_z*10**22}\")\n",
    "print()\n",
    "print(color.BOLD+\"apec\"+color.END)\n",
    "print(f\"(tbabs) : {nH_apec*10**22}\")\n",
    "print(f\"(ztbabs) : {nH_apec_z*10**22}\")\n",
    "print()\n",
    "print(color.BOLD+\"powerlaw\"+color.END)\n",
    "print(f\"(tbabs) : {nH_powerlaw*10**22}\")\n",
    "print(f\"(ztbabs) : {nH_powerlaw_z*10**22}\")"
   ]
  },
  {
   "cell_type": "markdown",
   "id": "1973f13c-7580-446c-b7fe-bf273fd37c5d",
   "metadata": {},
   "source": [
    "## Flux\n",
    "### X-ray flux\n",
    "- X-ray flux of the best-fitting model ``Black body`` with Chi-squared = 0.0527 using 4 bins: **6.4411e-14 ergs/cm^2/s**."
   ]
  },
  {
   "cell_type": "code",
   "execution_count": 2,
   "id": "4e93ef39-9046-44fe-a12f-a84de18a36e6",
   "metadata": {},
   "outputs": [
    {
     "name": "stdout",
     "output_type": "stream",
     "text": [
      "\u001b[1mX-ray flux : \u001b[0m\n",
      "Black body : F_x-ray = 6.4411e-14 ergs/cm^2/s\n"
     ]
    }
   ],
   "source": [
    "Flux = 6.4411e-14 # ergs/cm^2/s\n",
    "print(color.BOLD+\"X-ray flux : \"+color.END)\n",
    "print(f\"Black body : F_x-ray = {Flux} ergs/cm^2/s\")"
   ]
  },
  {
   "cell_type": "markdown",
   "id": "483a016e-e75e-439d-a464-93e95f40e225",
   "metadata": {},
   "source": [
    "### Optical flux\n",
    "No GAIA information, so we use the lower limit of 20.7 mag."
   ]
  },
  {
   "cell_type": "code",
   "execution_count": 3,
   "id": "de62252c-695a-41a3-bbf9-afcf6b8aaf73",
   "metadata": {},
   "outputs": [
    {
     "name": "stdout",
     "output_type": "stream",
     "text": [
      "\u001b[1mOptical flux (lower limit) : \u001b[0mF_optical = 5.510478332622621e-14 ergs/cm^2/s\n"
     ]
    }
   ],
   "source": [
    "def F_optical(mag):\n",
    "    F0 = 1.05*10**(-5) # GAIA zero point magnitude\n",
    "    return F0*10**(-0.4*mag)\n",
    "    \n",
    "G = 20.7\n",
    "\n",
    "F = F_optical(G)\n",
    "\n",
    "print(color.BOLD+\"Optical flux (lower limit) : \"+color.END+f\"F_optical = {F} ergs/cm^2/s\")"
   ]
  },
  {
   "cell_type": "markdown",
   "id": "c11fd629-b543-4d84-8ec3-c7d1d05a7a14",
   "metadata": {},
   "source": [
    "### X-ray flux / Optical flux ratio"
   ]
  },
  {
   "cell_type": "code",
   "execution_count": 4,
   "id": "a6c6b492-1dce-463e-9fa3-c15ff8db89b6",
   "metadata": {},
   "outputs": [
    {
     "name": "stdout",
     "output_type": "stream",
     "text": [
      "\u001b[1mX-ray flux / Optical flux ratio : \u001b[0mF_x-ray/F_optical = 1.1688821933783857\n"
     ]
    }
   ],
   "source": [
    "print(color.BOLD+\"X-ray flux / Optical flux ratio : \"+color.END+f\"F_x-ray/F_optical = {Flux/F}\")"
   ]
  },
  {
   "cell_type": "markdown",
   "id": "388041a8-282f-4e75-9a4b-c545ffe96238",
   "metadata": {},
   "source": [
    "## Luminosity"
   ]
  },
  {
   "cell_type": "code",
   "execution_count": 5,
   "id": "d586c000-4d0d-466d-b61a-9dae79785426",
   "metadata": {},
   "outputs": [
    {
     "name": "stdout",
     "output_type": "stream",
     "text": [
      "\u001b[1m(GLADE)\u001b[0m\n",
      "Distance : d = 2.213389612207e+28 cm\n",
      "Luminosity : L_x-ray = 3.965387567064812e+44 erg/s\n"
     ]
    }
   ],
   "source": [
    "\"\"\"GLADE\"\"\"\n",
    "\n",
    "d_kpc = 7173055.1 # Distance en kpc\n",
    "d_cm = d_kpc*3.0857*10**21 # Distance en cm, avec 1 pc = 3.0857*10^18 cm\n",
    "\n",
    "# La source est supposée sphérique pour le calcul de la luminosité : L = 4*pi*F*D^2\n",
    "Luminosity = 4*np.pi*Flux*(d_cm)**2 # erg/s\n",
    "\n",
    "print(color.BOLD+\"(GLADE)\"+color.END)\n",
    "print(f\"Distance : d = {d_cm} cm\")\n",
    "print(f\"Luminosity : L_x-ray = {Luminosity} erg/s\")"
   ]
  }
 ],
 "metadata": {
  "kernelspec": {
   "display_name": "Python 3 (ipykernel)",
   "language": "python",
   "name": "python3"
  },
  "language_info": {
   "codemirror_mode": {
    "name": "ipython",
    "version": 3
   },
   "file_extension": ".py",
   "mimetype": "text/x-python",
   "name": "python",
   "nbconvert_exporter": "python",
   "pygments_lexer": "ipython3",
   "version": "3.10.12"
  }
 },
 "nbformat": 4,
 "nbformat_minor": 5
}
