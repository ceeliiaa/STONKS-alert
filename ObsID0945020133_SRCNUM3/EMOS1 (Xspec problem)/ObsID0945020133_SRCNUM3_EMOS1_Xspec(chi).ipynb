{
 "cells": [
  {
   "cell_type": "markdown",
   "id": "a09472f9-b7b4-4047-9978-0b5adf3b464f",
   "metadata": {},
   "source": [
    "# ObsID : 0945020133, SRCNUM : 3, Instru : EMOS1\n",
    "**Simbad :** Seyfert 1 Galaxy (2XMM J033204.0-273726) https://simbad.cds.unistra.fr/simbad/sim-id?Ident=%40645704&Name=2XMM%20J033204.0-273726&submit=submit"
   ]
  },
  {
   "cell_type": "markdown",
   "id": "93f2af8c-b756-4f49-80b8-d319edbd21b1",
   "metadata": {},
   "source": [
    "## ESASky\n",
    "\n",
    "On ESASky, the pointer for GLADE is slightly off the source, but no other sources seem to correspond to it in any wavelength. https://sky.esa.int/esasky/?target=53.01683333333333%20-27.62344444444444&hips=XMM-Newton+EPIC+color&fov=1&projection=SIN&cooframe=J2000&sci=true&lang=fr\n",
    "\n",
    "``EPIC Stack``\n",
    "\n",
    "- Stack Catalogue name : 4XMMs J033204.0-2737254XMM J033204.0-273725\n",
    "- RA : 03h 32m 04.042s\n",
    "- DEC : -27° 37' 25.23\"\n",
    "\n",
    "``GLADE``\n",
    "\n",
    "- No : 1 697 6000\n",
    "- RA : 3h 32m 04.416s\n",
    "- DEC : -27° 37' 39.40\"\n",
    "- Distance : 7173.0551 Mpc"
   ]
  },
  {
   "cell_type": "code",
   "execution_count": 3,
   "id": "311ae079-ccd8-41c3-aac4-08c99f67b431",
   "metadata": {},
   "outputs": [],
   "source": [
    "from xspec import *\n",
    "from stingray import Lightcurve\n",
    "from astropy.io import fits\n",
    "import matplotlib.pyplot as plt\n",
    "import matplotlib.image as mpimg\n",
    "import glob\n",
    "import numpy as np\n",
    "\n",
    "class color:\n",
    "   PURPLE = '\\033[95m'\n",
    "   CYAN = '\\033[96m'\n",
    "   DARKCYAN = '\\033[36m'\n",
    "   BLUE = '\\033[94m'\n",
    "   GREEN = '\\033[92m'\n",
    "   YELLOW = '\\033[93m'\n",
    "   RED = '\\033[91m'\n",
    "   BOLD = '\\033[1m'\n",
    "   UNDERLINE = '\\033[4m'\n",
    "   END = '\\033[0m'\n",
    "\n",
    "plt.rcParams['figure.figsize'] = [12,7]"
   ]
  },
  {
   "cell_type": "markdown",
   "id": "2c0ef556-1fe0-4b11-84f3-f376e2f8a302",
   "metadata": {},
   "source": [
    "## Fit statistic"
   ]
  },
  {
   "cell_type": "code",
   "execution_count": 4,
   "id": "92592fb9-d579-48c4-911d-3051f644c5cd",
   "metadata": {},
   "outputs": [
    {
     "name": "stdout",
     "output_type": "stream",
     "text": [
      "Default fit statistic is set to: Chi-Squared\n",
      "   This will apply to all current and newly loaded spectra.\n",
      "Parameter delta values for fits will now be 0.0001 * parValue\n"
     ]
    }
   ],
   "source": [
    "Fit.statMethod = \"chi\"\n",
    "Fit.nIterations = 100000\n",
    "Fit.delta = 1e-4\n",
    "Fit.criticalDelta = 1e-4"
   ]
  },
  {
   "cell_type": "markdown",
   "id": "39b7d9d2-7930-4892-81ba-8bd2db47e610",
   "metadata": {},
   "source": [
    "## Load files"
   ]
  },
  {
   "cell_type": "code",
   "execution_count": 5,
   "id": "cd0bcd6f-9565-4899-90b7-1e5d87e7050a",
   "metadata": {},
   "outputs": [
    {
     "name": "stdout",
     "output_type": "stream",
     "text": [
      "***Warning: Detected response matrix energy bin value = 0 (or neg).\n",
      "     XSPEC will instead use small finite value (response file will not be altered).\n",
      "\n",
      "1 spectrum  in use\n",
      " \n",
      "Spectral Data File: ObsID0945020133_SRCNUM3_EMOS1_spectrum_grp.fits  Spectrum 1\n",
      "Net count rate (cts/s) for Spectrum:1  -2.708e+04 +/- 1.346e+03 (-252735421.0 % total)\n",
      " Assigned to Data Group 1 and Plot Group 1\n",
      "  Noticed Channels:  1-6\n",
      "  Telescope: XMM Instrument: EMOS1  Channel Type: PI\n",
      "  Exposure Time: 1.558e+04 sec\n",
      " Using fit statistic: chi\n",
      " Using Background File                MOSbackground_spectrum.fits\n",
      "  Background Exposure Time: 1.558e+04 sec\n",
      " Using Response (RMF) File            MOS.rmf for Source 1\n",
      " Using Auxiliary Response (ARF) File  MOS.arf\n",
      "\n"
     ]
    }
   ],
   "source": [
    "AllData.clear()\n",
    "spec = Spectrum(glob.glob('ObsID*_SRCNUM*_E*_spectrum_grp.fits')[0])"
   ]
  },
  {
   "cell_type": "markdown",
   "id": "02207463-a9da-4e00-877c-17fc8e64ae07",
   "metadata": {},
   "source": [
    "**The net count rate (cts/s) is negative. The background is too  bright.**"
   ]
  }
 ],
 "metadata": {
  "kernelspec": {
   "display_name": "Python 3 (ipykernel)",
   "language": "python",
   "name": "python3"
  },
  "language_info": {
   "codemirror_mode": {
    "name": "ipython",
    "version": 3
   },
   "file_extension": ".py",
   "mimetype": "text/x-python",
   "name": "python",
   "nbconvert_exporter": "python",
   "pygments_lexer": "ipython3",
   "version": "3.10.12"
  }
 },
 "nbformat": 4,
 "nbformat_minor": 5
}
