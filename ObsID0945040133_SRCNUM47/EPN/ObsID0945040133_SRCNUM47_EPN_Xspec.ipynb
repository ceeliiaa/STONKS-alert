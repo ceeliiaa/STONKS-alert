{
 "cells": [
  {
   "cell_type": "markdown",
   "id": "c521860a-0601-4bc3-b8cc-119c1d638a4c",
   "metadata": {},
   "source": [
    "# ObsID : 0945040133, SRCNUM : 47, Instru : EPN"
   ]
  },
  {
   "cell_type": "code",
   "execution_count": 1,
   "id": "a601bb92-6ab6-4642-bab7-b8cb9c6656a1",
   "metadata": {},
   "outputs": [
    {
     "name": "stdout",
     "output_type": "stream",
     "text": [
      "Default fit statistic is set to: Chi-Squared\n",
      "   This will apply to all current and newly loaded spectra.\n",
      "Parameter delta values for fits will now be 0.0001 * parValue\n"
     ]
    }
   ],
   "source": [
    "from xspec import *\n",
    "from stingray import Lightcurve\n",
    "from astropy.io import fits\n",
    "import matplotlib.pyplot as plt\n",
    "import matplotlib.image as mpimg\n",
    "import glob\n",
    "import numpy as np\n",
    "\n",
    "class color:\n",
    "   PURPLE = '\\033[95m'\n",
    "   CYAN = '\\033[96m'\n",
    "   DARKCYAN = '\\033[36m'\n",
    "   BLUE = '\\033[94m'\n",
    "   GREEN = '\\033[92m'\n",
    "   YELLOW = '\\033[93m'\n",
    "   RED = '\\033[91m'\n",
    "   BOLD = '\\033[1m'\n",
    "   UNDERLINE = '\\033[4m'\n",
    "   END = '\\033[0m'\n",
    "\n",
    "plt.rcParams['figure.figsize'] = [12,7]\n",
    "\n",
    "Fit.statMethod = \"chi\"\n",
    "Fit.nIterations = 100000\n",
    "Fit.delta = 1e-4\n",
    "Fit.criticalDelta = 1e-4"
   ]
  },
  {
   "cell_type": "markdown",
   "id": "b3bef4aa-73a9-461c-8ae3-51c5bfa0a578",
   "metadata": {},
   "source": [
    "## Load files\n",
    "Spectrum, Background, Response, Auxiliary response."
   ]
  },
  {
   "cell_type": "code",
   "execution_count": 2,
   "id": "edd8268e-eb42-436c-b895-c44b2c6335b7",
   "metadata": {},
   "outputs": [
    {
     "name": "stdout",
     "output_type": "stream",
     "text": [
      "\n",
      "1 spectrum  in use\n",
      " \n",
      "Spectral Data File: ObsID0945040133_SRCNUM47_EPN_spectrum_grp.fits  Spectrum 1\n"
     ]
    },
    {
     "data": {
      "text/plain": [
       "<xspec.spectrum.Spectrum at 0x7f51b41c5bd0>"
      ]
     },
     "execution_count": 2,
     "metadata": {},
     "output_type": "execute_result"
    },
    {
     "name": "stdout",
     "output_type": "stream",
     "text": [
      "Net count rate (cts/s) for Spectrum:1  2.224e-02 +/- 2.124e-03 (61.3 % total)\n",
      " Assigned to Data Group 1 and Plot Group 1\n",
      "  Noticed Channels:  1-8\n",
      "  Telescope: XMM Instrument: EPN  Channel Type: PI\n",
      "  Exposure Time: 1.009e+04 sec\n",
      " Using fit statistic: chi\n",
      " Using Background File                ObsID0945040133_SRCNUM47_EPN_background_spectrum.fits\n",
      "  Background Exposure Time: 1.009e+04 sec\n",
      " Using Response (RMF) File            ObsID0945040133_SRCNUM47_EPN.rmf for Source 1\n",
      " Using Auxiliary Response (ARF) File  ObsID0945040133_SRCNUM47_EPN.arf\n",
      "\n"
     ]
    }
   ],
   "source": [
    "Spectrum(glob.glob('ObsID*_SRCNUM*_E*_spectrum_grp.fits')[0])"
   ]
  },
  {
   "cell_type": "markdown",
   "id": "880eb92a-eaeb-4001-aa06-0eedfec69043",
   "metadata": {},
   "source": [
    "## Plot spectrum"
   ]
  },
  {
   "cell_type": "code",
   "execution_count": 3,
   "id": "4cc37457-f72a-4881-89d5-828fd66fd023",
   "metadata": {},
   "outputs": [],
   "source": [
    "Plot.xAxis=\"keV\"\n",
    "Plot.device = \"/xs\"\n",
    "Plot.xLog=True\n",
    "Plot.yLog=True\n",
    "Plot.addCommand(\"Rescale Y 0.00001 0.005\")\n",
    "Plot(\"data\")"
   ]
  },
  {
   "cell_type": "code",
   "execution_count": 6,
   "id": "9c969a35-f1e5-4704-ab87-c986550b4334",
   "metadata": {},
   "outputs": [
    {
     "data": {
      "text/plain": [
       "(-0.5, 860.5, 661.5, -0.5)"
      ]
     },
     "execution_count": 6,
     "metadata": {},
     "output_type": "execute_result"
    },
    {
     "data": {
      "image/png": "[encoded data removed]",
      "text/plain": [
       "<Figure size 1200x700 with 1 Axes>"
      ]
     },
     "metadata": {},
     "output_type": "display_data"
    }
   ],
   "source": [
    "img = plt.imread(glob.glob('ObsID*_SRCNUM*_E*_Spectrum.png')[0])\n",
    "plt.imshow(img)\n",
    "plt.axis('off')"
   ]
  },
  {
   "cell_type": "markdown",
   "id": "98519803-5052-4cb4-bfe7-7dad39416519",
   "metadata": {},
   "source": [
    "### Black body model"
   ]
  },
  {
   "cell_type": "code",
   "execution_count": 7,
   "id": "6c48de73-4acc-4052-9c2b-705487b7395c",
   "metadata": {},
   "outputs": [
    {
     "name": "stdout",
     "output_type": "stream",
     "text": [
      "\n",
      "========================================================================\n",
      "Model TBabs<1>*bbody<2> Source No.: 1   Active/On\n",
      "Model Model Component  Parameter  Unit     Value\n",
      " par  comp\n",
      "   1    1   TBabs      nH         10^22    1.00000      +/-  0.0          \n",
      "   2    2   bbody      kT         keV      3.00000      +/-  0.0          \n",
      "   3    2   bbody      norm                1.00000      +/-  0.0          \n",
      "________________________________________________________________________\n",
      "\n",
      "tbvabs Version 2.3\n",
      "Cosmic absorption with grains and H2, modified from\n",
      "Wilms, Allen, & McCray, 2000, ApJ 542, 914-924\n",
      "Questions: Joern Wilms\n",
      "joern.wilms@sternwarte.uni-erlangen.de\n",
      "joern.wilms@fau.de\n",
      "\n",
      "http://pulsar.sternwarte.uni-erlangen.de/wilms/research/tbabs/\n",
      "\n",
      "PLEASE NOTICE:\n",
      "To get the model described by the above paper\n",
      "you will also have to set the abundances:\n",
      "   abund wilm\n",
      "\n",
      "Note that this routine ignores the current cross section setting\n",
      "as it always HAS to use the Verner cross sections as a baseline.\n",
      "\n",
      "Fit statistic  : Chi-Squared              4.187620e+11     using 8 bins.\n",
      "\n",
      "Test statistic : Chi-Squared              4.187620e+11     using 8 bins.\n",
      " Null hypothesis probability of 0.000000e+00 with 5 degrees of freedom\n",
      " Current data and model not fit yet.\n",
      "                                   Parameters\n",
      "Chi-Squared  |beta|/N    Lvl          1:nH          2:kT        3:norm\n",
      "140.345      0.147755      0      0.314407       3.22068   1.79187e-06\n",
      "140.227      120897        0      0.124986       3.27389   1.63732e-06\n",
      "139.932      165676        0     0.0376184       3.19002   1.61345e-06\n",
      "139.638      187123        0    0.00138521       3.07651   1.60416e-06\n",
      "139.364      200103        0   0.000594668       2.97605   1.68509e-06\n",
      "139.156      184493        0   0.000250218       2.89857   1.74654e-06\n",
      "138.996      167826        0   9.56845e-05       2.83641   1.79346e-06\n",
      "138.871      151351        0   2.50085e-05       2.78502   1.82925e-06\n",
      "138.771      135699        0   8.61304e-06       2.74155   1.85627e-06\n",
      "138.691      121174        0   9.24661e-07       2.70402   1.87630e-06\n",
      "138.624      107897        0   1.44834e-08       2.67109   1.89066e-06\n",
      "138.568      95886.8       0   9.09988e-10       2.64180   1.90038e-06\n",
      "138.521      85111.9       0   9.50338e-11       2.61540   1.90628e-06\n",
      "138.48       75491.4       0   4.58434e-11       2.59133   1.90900e-06\n",
      "138.443      66936.1       0   2.19950e-11       2.56915   1.90908e-06\n",
      ".54851   1.90692e-06       0   1.04020e-11       2\n",
      "138.38       52653.1       0   4.74471e-12       2.52913   1.90295e-06\n",
      "138.352      46711.5       0   1.97230e-12       2.51074   1.89746e-06\n",
      "138.325      41432.4       0   5.81526e-13       2.49301   1.89102e-06\n",
      "138.301      36541.3       0   2.48059e-13       2.47664   1.88240e-06\n",
      "138.276      32872         0   7.27885e-14       2.45994   1.87367e-06\n",
      "138.254      28966.4       0   3.25393e-14       2.44477   1.86408e-06\n",
      "138.232      25969         0   2.35874e-15       2.43035   1.85261e-06\n",
      "138.003      24018.3       0   6.58088e-16       2.28738   1.73729e-06\n",
      "137.721      3383.34      -1   2.32958e-16       1.78406   7.59251e-07\n",
      "135.591      635372       -2   1.01632e-16      0.831078   2.09676e-07\n",
      "130.84       4.44338e+06  -3   5.83156e-18      0.325802   1.31232e-07\n",
      "***Warning: Zero alpha-matrix diagonal element for parameter 1\n",
      " Parameter 1 is pegged at 5.83156e-18 due to zero or negative pivot element, likely\n",
      " caused by the fit being insensitive to the parameter.\n",
      "126.743      1.52988e+07  -4   5.83156e-18      0.326208   2.65201e-07\n",
      "126.743      13107.4      -5   5.83156e-18      0.326275   2.65349e-07\n",
      "***Warning: Zero alpha-matrix diagonal element for parameter 1\n",
      " Parameter 1 is pegged at 5.83156e-18 due to zero or negative pivot element, likely\n",
      " caused by the fit being insensitive to the parameter.\n",
      "126.743      1.46211      -3   5.83156e-18      0.326317   2.65370e-07\n",
      "==============================\n",
      " Variances and Principal Axes\n",
      "                 2        3  \n",
      " 4.3833E-15| -0.0000   1.0000  \n",
      " 7.2147E-03|  1.0000   0.0000  \n",
      "------------------------------\n",
      "\n",
      "========================\n",
      "  Covariance Matrix\n",
      "        1           2   \n",
      "   7.215e-03   3.576e-09\n",
      "   3.576e-09   6.155e-15\n",
      "------------------------\n",
      "\n",
      "========================================================================\n",
      "Model TBabs<1>*bbody<2> Source No.: 1   Active/On\n",
      "Model Model Component  Parameter  Unit     Value\n",
      " par  comp\n",
      "   1    1   TBabs      nH         10^22    5.83156E-18  +/-  -1.00000     \n",
      "   2    2   bbody      kT         keV      0.326317     +/-  8.49396E-02  \n",
      "   3    2   bbody      norm                2.65370E-07  +/-  7.84562E-08  \n",
      "________________________________________________________________________\n",
      "\n",
      "\n",
      "Fit statistic  : Chi-Squared                126.7434     using 8 bins.\n",
      "\n",
      "Test statistic : Chi-Squared                126.7434     using 8 bins.\n",
      " Null hypothesis probability of 1.1681e-25 with 5 degrees of freedom\n"
     ]
    }
   ],
   "source": [
    "AllModels.clear()\n",
    "mo = Model(\"tbabs*bbody\")\n",
    "Fit.perform()\n",
    "Plot.device = \"/xs\"\n",
    "Plot(\"data resid\")"
   ]
  },
  {
   "cell_type": "code",
   "execution_count": 8,
   "id": "b812c488-a25f-452a-83e1-1ffb5945cd27",
   "metadata": {},
   "outputs": [
    {
     "data": {
      "text/plain": [
       "(-0.5, 860.5, 661.5, -0.5)"
      ]
     },
     "execution_count": 8,
     "metadata": {},
     "output_type": "execute_result"
    },
    {
     "data": {
      "image/png": "[encoded data removed]",
      "text/plain": [
       "<Figure size 1200x700 with 1 Axes>"
      ]
     },
     "metadata": {},
     "output_type": "display_data"
    }
   ],
   "source": [
    "img = plt.imread(glob.glob('ObsID*_SRCNUM*_E*_Spectrum_bbody.png')[0])\n",
    "plt.imshow(img)\n",
    "plt.axis('off')"
   ]
  },
  {
   "cell_type": "markdown",
   "id": "ff9fb499-d3ba-410c-b6c2-12f7d4ac82a0",
   "metadata": {},
   "source": [
    "### Bremsstrahlung model"
   ]
  },
  {
   "cell_type": "code",
   "execution_count": 9,
   "id": "f00f133a-c83a-4c92-9f10-4b5f63f74b3e",
   "metadata": {},
   "outputs": [
    {
     "name": "stdout",
     "output_type": "stream",
     "text": [
      "\n",
      "========================================================================\n",
      "Model TBabs<1>*bremss<2> Source No.: 1   Active/On\n",
      "Model Model Component  Parameter  Unit     Value\n",
      " par  comp\n",
      "   1    1   TBabs      nH         10^22    1.00000      +/-  0.0          \n",
      "   2    2   bremss     kT         keV      7.00000      +/-  0.0          \n",
      "   3    2   bremss     norm                1.00000      +/-  0.0          \n",
      "________________________________________________________________________\n",
      "\n",
      "\n",
      "Fit statistic  : Chi-Squared              2.103089e+10     using 8 bins.\n",
      "\n",
      "Test statistic : Chi-Squared              2.103089e+10     using 8 bins.\n",
      " Null hypothesis probability of 0.000000e+00 with 5 degrees of freedom\n",
      " Current data and model not fit yet.\n",
      "                                   Parameters\n",
      "Chi-Squared  |beta|/N    Lvl          1:nH          2:kT        3:norm\n",
      "128.82       0.591089     -3     0.0135077       35.6932   6.85215e-06\n",
      "123.431      230734       -2   0.000884176       197.918   3.08322e-05\n",
      "121.318      95489.7      -1   9.72305e-05       199.149   1.99981e-05\n",
      "121.199      48977.5       0   1.44182e-05       199.060   2.01681e-05\n",
      "121.144      47222.3       0   4.59075e-06       198.955   2.03304e-05\n",
      "121.101      45132.9       0   2.16956e-06       198.833   2.04798e-05\n",
      "121.064      43158.6       0   9.70803e-07       198.691   2.06167e-05\n",
      "121.031      41330.6       0   3.76464e-07       198.522   2.07420e-05\n",
      "121.002      39639.2       0   8.15134e-08       198.320   2.08565e-05\n",
      "120.976      38072.4       0   8.27392e-09       198.072   2.09610e-05\n",
      "120.953      36616.2       0   3.72467e-09       197.763   2.10562e-05\n",
      "120.931      35256         0   1.46309e-09       197.367   2.11426e-05\n",
      "120.911      33974.4       0   3.38439e-10       196.843   2.12208e-05\n",
      "120.891      32748         0   5.87494e-11       196.119   2.12909e-05\n",
      "120.87       31543.5       0   2.39708e-11       195.061   2.13532e-05\n",
      "120.847      30302.5       0   6.67780e-12       193.382   2.14072e-05\n",
      "120.815      28907.6       0   2.38306e-12       190.449   2.14518e-05\n",
      "120.763      27088.4       0   2.54373e-13       184.484   2.14841e-05\n",
      "120.665      24037         0   1.23542e-13       171.093   2.14955e-05\n",
      "120.582      17362.8       0   6.13423e-14       157.406   2.14636e-05\n",
      "120.541      10113.1       1   8.66809e-15       149.282   2.14686e-05\n",
      "120.511      4845.76       1   1.91751e-15       142.042   2.14701e-05\n",
      "120.496      318.64        1   4.96478e-16       136.901   2.14683e-05\n",
      "120.487      4147.15       1   1.17269e-16       133.091   2.14647e-05\n",
      "120.476      7149.94       0   3.27461e-17       127.536   2.13966e-05\n",
      "120.475      10735.2       1   1.01683e-17       126.161   2.13901e-05\n",
      "120.474      11850.3       1   2.46919e-18       125.346   2.13830e-05\n",
      "120.473      12467.4       1   1.17711e-18       124.859   2.13755e-05\n",
      "***Warning: Zero alpha-matrix diagonal element for parameter 1\n",
      " Parameter 1 is pegged at 1.17711e-18 due to zero or negative pivot element, likely\n",
      " caused by the fit being insensitive to the parameter.\n",
      "120.472      19170.7       1   1.17711e-18       124.128   2.13683e-05\n",
      "120.471      19990.5       1   1.17711e-18       123.688   2.13608e-05\n",
      "120.471      20404.1       1   1.17711e-18       123.367   2.13531e-05\n",
      "120.47       20651.1       1   1.17711e-18       123.127   2.13454e-05\n",
      "120.47       20783.5       0   1.17711e-18       114.988   2.12733e-05\n",
      "120.43       30935.7       0   1.17711e-18       97.3301   2.06308e-05\n",
      "119.779      43366.7      -1   1.17711e-18       41.3303   1.61360e-05\n",
      "119.301      38889.6      -1   1.17711e-18       18.0190   1.12642e-05\n",
      "116.893      123663        0   1.17711e-18       5.02364   1.13941e-05\n",
      "115.239      17386.2      -1   1.17711e-18       1.10525   1.12673e-05\n",
      "111.969      289671       -1   1.17711e-18      0.420416   1.86034e-05\n",
      "105.775      261125        0   1.17711e-18      0.421632   2.65009e-05\n",
      "103.465      129789        0   1.17711e-18      0.388612   3.13987e-05\n",
      "103.322      91228.8      -1   1.17711e-18      0.152419   5.45822e-05\n",
      "101.242      149350       -2   1.17711e-18     0.0472833   0.000434740\n",
      "37.8979      21512.9       0   1.17711e-18     0.0790993    0.00108756\n",
      "17.8958      28038.4      -1   1.17711e-18     0.0700078    0.00105200\n",
      "16.5273      969.416      -2   1.17711e-18     0.0600980    0.00133844\n",
      "15.9244      2893.14      -3   1.17711e-18     0.0577251    0.00154251\n",
      "15.9101      432.014      -4   1.17711e-18     0.0576776    0.00156171\n",
      "15.9101      0.907688     -5   1.17711e-18     0.0576752    0.00156189\n",
      "***Warning: Zero alpha-matrix diagonal element for parameter 1\n",
      " Parameter 1 is pegged at 1.17711e-18 due to zero or negative pivot element, likely\n",
      " caused by the fit being insensitive to the parameter.\n",
      "15.9101      0.00373029   -3   1.17711e-18     0.0576751    0.00156189\n",
      "==============================\n",
      " Variances and Principal Axes\n",
      "                 2        3  \n",
      " 1.9162E-08|  0.0571   0.9984  \n",
      " 7.2996E-05|  0.9984  -0.0571  \n",
      "------------------------------\n",
      "\n",
      "========================\n",
      "  Covariance Matrix\n",
      "        1           2   \n",
      "   7.276e-05  -4.160e-06\n",
      "  -4.160e-06   2.571e-07\n",
      "------------------------\n",
      "\n",
      "========================================================================\n",
      "Model TBabs<1>*bremss<2> Source No.: 1   Active/On\n",
      "Model Model Component  Parameter  Unit     Value\n",
      " par  comp\n",
      "   1    1   TBabs      nH         10^22    1.17711E-18  +/-  -1.00000     \n",
      "   2    2   bremss     kT         keV      5.76751E-02  +/-  8.52983E-03  \n",
      "   3    2   bremss     norm                1.56189E-03  +/-  5.07043E-04  \n",
      "________________________________________________________________________\n",
      "\n",
      "\n",
      "Fit statistic  : Chi-Squared                 15.9101     using 8 bins.\n",
      "\n",
      "Test statistic : Chi-Squared                 15.9101     using 8 bins.\n",
      " Null hypothesis probability of 7.1054e-03 with 5 degrees of freedom\n"
     ]
    }
   ],
   "source": [
    "AllModels.clear()\n",
    "mo = Model(\"tbabs*bremss\")\n",
    "Fit.perform()\n",
    "Plot.device = \"/xs\"\n",
    "Plot(\"data resid\")"
   ]
  },
  {
   "cell_type": "code",
   "execution_count": 10,
   "id": "5a01f0db-125c-4088-93f6-bd89994faa69",
   "metadata": {},
   "outputs": [
    {
     "data": {
      "text/plain": [
       "(-0.5, 860.5, 664.5, -0.5)"
      ]
     },
     "execution_count": 10,
     "metadata": {},
     "output_type": "execute_result"
    },
    {
     "data": {
      "image/png": "[encoded data removed]",
      "text/plain": [
       "<Figure size 1200x700 with 1 Axes>"
      ]
     },
     "metadata": {},
     "output_type": "display_data"
    }
   ],
   "source": [
    "img = plt.imread(glob.glob('ObsID*_SRCNUM*_E*_Spectrum_bremss.png')[0])\n",
    "plt.imshow(img)\n",
    "plt.axis('off')"
   ]
  },
  {
   "cell_type": "markdown",
   "id": "3edcca3a-8165-4c61-80ed-0b4b4087c8c3",
   "metadata": {},
   "source": [
    "### Apec model"
   ]
  },
  {
   "cell_type": "code",
   "execution_count": 11,
   "id": "629f01ff-336d-445c-8328-31a864f052a1",
   "metadata": {},
   "outputs": [
    {
     "name": "stdout",
     "output_type": "stream",
     "text": [
      "\n",
      "========================================================================\n",
      "Model TBabs<1>*apec<2> Source No.: 1   Active/On\n",
      "Model Model Component  Parameter  Unit     Value\n",
      " par  comp\n",
      "   1    1   TBabs      nH         10^22    1.00000      +/-  0.0          \n",
      "   2    2   apec       kT         keV      1.00000      +/-  0.0          \n",
      "   3    2   apec       Abundanc            1.00000      frozen\n",
      "   4    2   apec       Redshift            0.0          frozen\n",
      "   5    2   apec       norm                1.00000      +/-  0.0          \n",
      "________________________________________________________________________\n",
      "\n",
      "Reading APEC data from 3.0.9\n",
      "\n",
      "\n",
      "Fit statistic  : Chi-Squared              4.272347e+09     using 8 bins.\n",
      "\n",
      "Test statistic : Chi-Squared              4.272347e+09     using 8 bins.\n",
      " Null hypothesis probability of 0.000000e+00 with 5 degrees of freedom\n",
      " Current data and model not fit yet.\n",
      "                                   Parameters\n",
      "Chi-Squared  |beta|/N    Lvl          1:nH          2:kT        5:norm\n",
      "130.52       0.104372     -2      0.953848       1.02509   4.96760e-05\n",
      "130.514      210.338      -2      0.872037       1.12501   4.42880e-05\n",
      "130.493      1720.16      -2      0.760934       1.24404   3.99797e-05\n",
      "130.329      2550.28      -2      0.510200       1.53785   3.43533e-05\n",
      "129.088      2798.74      -2      0.163273       2.82069   2.53488e-05\n",
      "128.608      23414        -3     0.0614530       7.26001   2.03496e-05\n",
      "127.722      57171.8      -4    0.00927209       33.7711   2.04823e-05\n",
      "125.454      80228.1      -1   0.000666461       52.2323   2.43847e-05\n",
      "125.31       75778.2      -1   0.000229432       63.7019   2.58213e-05\n",
      "124.622      72332.4      -1   4.33493e-05       63.8615   2.72180e-05\n",
      "124.191      68547.4      -1   3.81554e-06       63.9949   2.82432e-05\n",
      "123.963      65471        -1   1.49687e-06       63.9993   2.88297e-05\n",
      "123.852      63636.5      -1   3.62964e-07       63.9997   2.91213e-05\n",
      "123.797      62724.3      -1   8.25500e-08       63.9999   2.92661e-05\n",
      "123.77       62270.4      -1   1.28071e-08       64.0000   2.93374e-05\n",
      "123.757      62046.4      -1   4.11086e-09       64.0000   2.93724e-05\n",
      "123.751      61936.3      -1   1.93941e-09       64.0000   2.93896e-05\n",
      "123.748      61882.4      -1   8.54316e-10       64.0000   2.93980e-05\n",
      "123.746      61855.9      -1   3.11927e-10       64.0000   2.94023e-05\n",
      "123.746      61842.7      -1   4.07719e-11       64.0000   2.94040e-05\n",
      "123.341      61837.1       0   5.82231e-12       58.1610   2.96168e-05\n",
      "122.273      60451.9       0   2.80594e-12       47.9569   3.08463e-05\n",
      "121.548      53894.3       0   1.22632e-13       41.5729   3.17855e-05\n",
      "121.006      48027.9       0   4.54262e-14       36.8542   3.25279e-05\n",
      "120.608      42602         0   9.43674e-15       33.3747   3.30986e-05\n",
      "120.314      37840.8       0   1.64542e-15       30.7381   3.35395e-05\n",
      "120.077      33737.7       0   7.08248e-16       28.5387   3.39017e-05\n",
      "119.898      29971.4       0   1.73977e-16       26.8030   3.41728e-05\n",
      "119.467      26804.1       0   6.43863e-17       21.2942   3.41476e-05\n",
      "119.378      19649.5      -1   3.00841e-17       13.4146   2.91815e-05\n",
      "119.118      35607.4       0   8.14126e-18       12.6269   2.98976e-05\n",
      "119.031      27536.5       0   4.91339e-19       11.3176   2.91903e-05\n",
      "***Warning: Zero alpha-matrix diagonal element for parameter 1\n",
      " Parameter 1 is pegged at 4.91339e-19 due to zero or negative pivot element, likely\n",
      " caused by the fit being insensitive to the parameter.\n",
      "118.085      43771.2       0   4.91339e-19       5.51835   2.96991e-05\n",
      "117.995      7003.96      -1   4.91339e-19       3.93226   2.77029e-05\n",
      "117.987      7770.53      -2   4.91339e-19       3.95552   2.72795e-05\n",
      "117.987      80.2286      -3   4.91339e-19       3.95213   2.72694e-05\n",
      "***Warning: Zero alpha-matrix diagonal element for parameter 1\n",
      " Parameter 1 is pegged at 4.91339e-19 due to zero or negative pivot element, likely\n",
      " caused by the fit being insensitive to the parameter.\n",
      "117.987      0.135697     -3   4.91339e-19       3.95211   2.72693e-05\n",
      "==============================\n",
      " Variances and Principal Axes\n",
      "                 2        5  \n",
      " 2.9962E-11| -0.0000   1.0000  \n",
      " 1.9799E+01|  1.0000   0.0000  \n",
      "------------------------------\n",
      "\n",
      "========================\n",
      "variance Matrix\n",
      "        1           2   \n",
      "   1.980e+01   3.098e-05\n",
      "   3.098e-05   7.843e-11\n",
      "------------------------\n",
      "\n",
      "========================================================================\n",
      "Model TBabs<1>*apec<2> Source No.: 1   Active/On\n",
      "Model Model Component  Parameter  Unit     Value\n",
      " par  comp\n",
      "   1    1   TBabs      nH         10^22    4.91339E-19  +/-  -1.00000     \n",
      "   2    2   apec       kT         keV      3.95211      +/-  4.44958      \n",
      "   3    2   apec       Abundanc            1.00000      frozen\n",
      "   4    2   apec       Redshift            0.0          frozen\n",
      "   5    2   apec       norm                2.72693E-05  +/-  8.85607E-06  \n",
      "________________________________________________________________________\n",
      "\n",
      "\n",
      "Fit statistic  : Chi-Squared                117.9875     using 8 bins.\n",
      "\n",
      "Test statistic : Chi-Squared                117.9875     using 8 bins.\n",
      " Null hypothesis probability of 8.3736e-24 with 5 degrees of freedom\n"
     ]
    }
   ],
   "source": [
    "AllModels.clear()\n",
    "mo = Model(\"tbabs*apec\")\n",
    "Fit.perform()\n",
    "Plot.device = \"/xs\"\n",
    "Plot(\"data resid\")"
   ]
  },
  {
   "cell_type": "code",
   "execution_count": 12,
   "id": "390919ae-47f5-49fe-9876-3bcf74b2d2fb",
   "metadata": {},
   "outputs": [
    {
     "data": {
      "text/plain": [
       "(-0.5, 857.5, 662.5, -0.5)"
      ]
     },
     "execution_count": 12,
     "metadata": {},
     "output_type": "execute_result"
    },
    {
     "data": {
      "image/png": "[encoded data removed]",
      "text/plain": [
       "<Figure size 1200x700 with 1 Axes>"
      ]
     },
     "metadata": {},
     "output_type": "display_data"
    }
   ],
   "source": [
    "img = plt.imread(glob.glob('ObsID*_SRCNUM*_E*_Spectrum_apec.png')[0])\n",
    "plt.imshow(img)\n",
    "plt.axis('off')"
   ]
  },
  {
   "cell_type": "markdown",
   "id": "9f19aeb6-3c27-44a9-8ad3-a2eb2777e421",
   "metadata": {},
   "source": [
    "### Powerlaw model"
   ]
  },
  {
   "cell_type": "code",
   "execution_count": 13,
   "id": "85b08776-73cd-4f36-a843-c34effff4655",
   "metadata": {},
   "outputs": [
    {
     "name": "stdout",
     "output_type": "stream",
     "text": [
      "\n",
      "========================================================================\n",
      "Model TBabs<1>*powerlaw<2> Source No.: 1   Active/On\n",
      "Model Model Component  Parameter  Unit     Value\n",
      " par  comp\n",
      "   1    1   TBabs      nH         10^22    1.00000      +/-  0.0          \n",
      "   2    2   powerlaw   PhoIndex            1.00000      +/-  0.0          \n",
      "   3    2   powerlaw   norm                1.00000      +/-  0.0          \n",
      "________________________________________________________________________\n",
      "\n",
      "\n",
      "Fit statistic  : Chi-Squared              1.139258e+11     using 8 bins.\n",
      "\n",
      "Test statistic : Chi-Squared              1.139258e+11     using 8 bins.\n",
      " Null hypothesis probability of 0.000000e+00 with 5 degrees of freedom\n",
      " Current data and model not fit yet.\n",
      "                                   Parameters\n",
      "Chi-Squared  |beta|/N    Lvl          1:nH    2:PhoIndex        3:norm\n",
      "136.11       0.753802     -1      0.375605       1.23770   3.75010e-06\n",
      "133.897      216573       -2      0.136391       1.20408   3.39798e-06\n",
      "131.69       313829       -3     0.0326759      0.847926   3.16047e-06\n",
      "129.119      355066        0     0.0130216      0.969519   3.72767e-06\n",
      "127.166      353995        0    0.00447943       1.07317   3.98873e-06\n",
      "125.767      387686        0   0.000410336       1.14212   4.02372e-06\n",
      "125.056      441367        0   0.000194357       1.19825   4.11861e-06\n",
      "123.53       453808        0   1.78237e-05       1.28970   4.38810e-06\n",
      "4.83728e-06  457902        0   2.23208e-06       1.44315   \n",
      "116.719      459684        0   9.71925e-07       1.65239   5.32804e-06\n",
      "110.147      475878        0   2.65059e-07       1.92275   5.76076e-06\n",
      "100.366      518779        0   9.74371e-08       2.22209   5.97664e-06\n",
      "88.7494      595073        0   2.41205e-08       2.48743   5.91285e-06\n",
      "77.6064      688914        0   6.56999e-09       2.69346   5.67531e-06\n",
      "68.0505      775214        0   1.64079e-09       2.84997   5.37603e-06\n",
      "60.2134      841834        0   5.85654e-11       2.97145   5.07120e-06\n",
      "53.8661      888427        0   2.36688e-11       3.06858   4.78290e-06\n",
      "48.7159      919029        0   1.05122e-11       3.14844   4.51833e-06\n",
      "44.5037      938010        0   1.11963e-13       3.21565   4.27857e-06\n",
      "41.0216      948827        0   4.54617e-14       3.27335   4.06228e-06\n",
      "38.1152      953843        0   1.75302e-14       3.32364   3.86731e-06\n",
      "35.6696      954963        0   5.49284e-15       3.36797   3.69158e-06\n",
      "33.5924      953546        0   2.31815e-16       3.40748   3.53248e-06\n",
      "31.8267      951036        0   7.44249e-17       3.44283   3.38817e-06\n",
      "30.2665      949983        0   3.71743e-17       3.47553   3.25486e-06\n",
      "28.7786      946760        0   1.82850e-17       3.50722   3.13468e-06\n",
      "27.6544      913848        0   6.77441e-19       3.53363   3.02411e-06\n",
      "***Warning: Zero alpha-matrix diagonal element for parameter 1\n",
      " Parameter 1 is pegged at 6.77441e-19 due to zero or negative pivot element, likely\n",
      " caused by the fit being insensitive to the parameter.\n",
      "19.9401      1.37948e+06  -1   6.77441e-19       3.75357   2.23746e-06\n",
      "17.5572      554443       -1   6.77441e-19       3.86423   1.85972e-06\n",
      "16.7978      127438       -2   6.77441e-19       4.09454   1.03976e-06\n",
      "14.4405      6.54744e+06  -3   6.77441e-19       4.25346   8.37028e-07\n",
      "14.4267      622194       -4   6.77441e-19       4.27093   8.12077e-07\n",
      "14.4266      28843.6      -5   6.77441e-19       4.27304   8.08629e-07\n",
      "***Warning: Zero alpha-matrix diagonal element for parameter 1\n",
      " Parameter 1 is pegged at 6.77441e-19 due to zero or negative pivot element, likely\n",
      " caused by the fit being insensitive to the parameter.\n",
      "14.4266      650.311      -3   6.77441e-19       4.27326   8.08245e-07\n",
      "==============================\n",
      " Variances and Principal Axes\n",
      "                 2        3  \n",
      " 5.0934E-15|  0.0000   1.0000  \n",
      " 6.7676E-02|  1.0000  -0.0000  \n",
      "------------------------------\n",
      "\n",
      "========================\n",
      "  Covariance Matrix\n",
      "        1           2   \n",
      "   6.768e-02  -1.197e-07\n",
      "  -1.197e-07   2.167e-13\n",
      "------------------------\n",
      "\n",
      "========================================================================\n",
      "Model TBabs<1>*powerlaw<2> Source No.: 1   Active/On\n",
      "Model Model Component  Parameter  Unit     Value\n",
      " par  comp\n",
      "   1    1   TBabs      nH         10^22    6.77441E-19  +/-  -1.00000     \n",
      "   2    2   powerlaw   PhoIndex            4.27326      +/-  0.260147     \n",
      "   3    2   powerlaw   norm                8.08245E-07  +/-  4.65497E-07  \n",
      "________________________________________________________________________\n",
      "\n",
      "\n",
      "Fit statistic  : Chi-Squared                 14.4266     using 8 bins.\n",
      "\n",
      "Test statistic : Chi-Squared                 14.4266     using 8 bins.\n",
      " Null hypothesis probability of 1.3115e-02 with 5 degrees of freedom\n"
     ]
    }
   ],
   "source": [
    "AllModels.clear()\n",
    "mo = Model(\"tbabs*powerlaw\")\n",
    "Fit.perform()\n",
    "Plot.device = \"/xs\"\n",
    "Plot(\"data resid\")"
   ]
  },
  {
   "cell_type": "code",
   "execution_count": 14,
   "id": "08ed2434-c41d-4349-9de0-d2e51a747b34",
   "metadata": {},
   "outputs": [
    {
     "data": {
      "text/plain": [
       "(-0.5, 859.5, 661.5, -0.5)"
      ]
     },
     "execution_count": 14,
     "metadata": {},
     "output_type": "execute_result"
    },
    {
     "data": {
      "image/png": "[encoded data removed]",
      "text/plain": [
       "<Figure size 1200x700 with 1 Axes>"
      ]
     },
     "metadata": {},
     "output_type": "display_data"
    }
   ],
   "source": [
    "img = plt.imread(glob.glob('ObsID*_SRCNUM*_E*_Spectrum_powerlaw.png')[0])\n",
    "plt.imshow(img)\n",
    "plt.axis('off')"
   ]
  },
  {
   "cell_type": "markdown",
   "id": "c404b996-c273-4f68-a4b2-5b526c4027e0",
   "metadata": {},
   "source": [
    "## Flux"
   ]
  },
  {
   "cell_type": "code",
   "execution_count": 15,
   "id": "7509b2e9-7ca8-4af4-a044-6e88fd3e45c6",
   "metadata": {},
   "outputs": [
    {
     "name": "stdout",
     "output_type": "stream",
     "text": [
      " Model Flux 4.7915e-05 photons (2.2106e-14 ergs/cm^2/s) range (0.20000 - 12.000 keV)\n"
     ]
    }
   ],
   "source": [
    "AllModels.calcFlux(\".2 12.0\")"
   ]
  },
  {
   "cell_type": "code",
   "execution_count": 16,
   "id": "188f0c9e-abca-407f-b959-8fd675cb4e61",
   "metadata": {},
   "outputs": [],
   "source": [
    "Flux = 2.2106e-14 # ergs/cm^2/s"
   ]
  },
  {
   "cell_type": "markdown",
   "id": "80ca441e-c01d-4098-909e-433bf8b19c1a",
   "metadata": {},
   "source": [
    "### ESASky\n",
    "\n",
    "``EPIC Stack``\n",
    "- Stack Catalogue name : 4XMMs J033634.1-283139\n",
    "- IAU name : 4XMM J033634.0-283139\n",
    "- RA : 03h 36m 34.127s\n",
    "- DEC : -28° 31' 39.07\""
   ]
  },
  {
   "cell_type": "markdown",
   "id": "a795f6f5-db41-4d8f-88db-605ec3106cbb",
   "metadata": {},
   "source": [
    "### Luminosité\n",
    "No distance or parallax is available on ESASky."
   ]
  }
 ],
 "metadata": {
  "kernelspec": {
   "display_name": "Python 3 (ipykernel)",
   "language": "python",
   "name": "python3"
  },
  "language_info": {
   "codemirror_mode": {
    "name": "ipython",
    "version": 3
   },
   "file_extension": ".py",
   "mimetype": "text/x-python",
   "name": "python",
   "nbconvert_exporter": "python",
   "pygments_lexer": "ipython3",
   "version": "3.10.12"
  }
 },
 "nbformat": 4,
 "nbformat_minor": 5
}
