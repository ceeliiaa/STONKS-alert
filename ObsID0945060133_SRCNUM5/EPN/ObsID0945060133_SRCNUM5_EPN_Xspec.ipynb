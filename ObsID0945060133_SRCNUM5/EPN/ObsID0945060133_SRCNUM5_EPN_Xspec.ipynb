{
 "cells": [
  {
   "cell_type": "markdown",
   "id": "a09472f9-b7b4-4047-9978-0b5adf3b464f",
   "metadata": {},
   "source": [
    "# ObsID : 0945060133, SRCNUM : 5, Instru : EPN\n",
    "Not on Simbad."
   ]
  },
  {
   "cell_type": "markdown",
   "id": "ee9befb7-bf2d-4e88-a03c-547580248cff",
   "metadata": {},
   "source": [
    "## ESASky\n",
    "EPIC Stack's pointer is not on the source location from XMM-Archive link. The closest pointer are far from the source. https://sky.esa.int/esasky/?target=53.59479166666666%20-28.90244444444444&hips=XMM-Newton+EPIC+color&fov=1&projection=SIN&cooframe=J2000&sci=true&lang=fr\n",
    "\n",
    "``GAIA``\n",
    "\n",
    "- Designation : Gaia DR3 5057101614813827200\n",
    "- RA : 53.5942754°\n",
    "- DEC : -28.9023933°\n",
    "- Parallax : 2.941 mas\n",
    "- G : 19.6951\n",
    "\n",
    "``2MASS``\n",
    "\n",
    "- Name : 03342264-2854082\n",
    "- RA : 53.5943410°\n",
    "- DEC : -28.9022880°"
   ]
  },
  {
   "cell_type": "code",
   "execution_count": 1,
   "id": "311ae079-ccd8-41c3-aac4-08c99f67b431",
   "metadata": {},
   "outputs": [
    {
     "name": "stdout",
     "output_type": "stream",
     "text": [
      "The history saving thread hit an unexpected error (OperationalError('attempt to write a readonly database')).History will not be written to the database.\n"
     ]
    }
   ],
   "source": [
    "from xspec import *\n",
    "from stingray import Lightcurve\n",
    "from astropy.io import fits\n",
    "import matplotlib.pyplot as plt\n",
    "import matplotlib.image as mpimg\n",
    "import glob\n",
    "import numpy as np\n",
    "\n",
    "class color:\n",
    "   PURPLE = '\\033[95m'\n",
    "   CYAN = '\\033[96m'\n",
    "   DARKCYAN = '\\033[36m'\n",
    "   BLUE = '\\033[94m'\n",
    "   GREEN = '\\033[92m'\n",
    "   YELLOW = '\\033[93m'\n",
    "   RED = '\\033[91m'\n",
    "   BOLD = '\\033[1m'\n",
    "   UNDERLINE = '\\033[4m'\n",
    "   END = '\\033[0m'\n",
    "\n",
    "plt.rcParams['figure.figsize'] = [12,7]"
   ]
  },
  {
   "cell_type": "markdown",
   "id": "e5eae72e-1db6-4cb9-ba31-b2747fcbe059",
   "metadata": {},
   "source": [
    "## Fit statistic"
   ]
  },
  {
   "cell_type": "code",
   "execution_count": 2,
   "id": "69840d8c-939c-4937-a2e6-39723c7cbd4c",
   "metadata": {},
   "outputs": [
    {
     "name": "stdout",
     "output_type": "stream",
     "text": [
      "Default fit statistic is set to: Chi-Squared\n",
      "   This will apply to all current and newly loaded spectra.\n",
      "Parameter delta values for fits will now be 0.0001 * parValue\n"
     ]
    }
   ],
   "source": [
    "Fit.statMethod = \"chi\"\n",
    "Fit.nIterations = 100000\n",
    "Fit.delta = 1e-4\n",
    "Fit.criticalDelta = 1e-4"
   ]
  },
  {
   "cell_type": "markdown",
   "id": "39b7d9d2-7930-4892-81ba-8bd2db47e610",
   "metadata": {},
   "source": [
    "## Load files"
   ]
  },
  {
   "cell_type": "code",
   "execution_count": 3,
   "id": "cd0bcd6f-9565-4899-90b7-1e5d87e7050a",
   "metadata": {},
   "outputs": [
    {
     "name": "stdout",
     "output_type": "stream",
     "text": [
      "Warning: RMF FILTER keyword (Medium) is not consistent with that in the ARF (Thin1)\n",
      "Warning: RMF FILTER keyword (Medium) is not consistent with that in spectrum (Thin1)\n",
      "\n",
      "1 spectrum  in use\n",
      " \n",
      "Spectral Data File: P0945060133PNS003SRSPEC0005.FTZ  Spectrum 1\n",
      "Net count rate (cts/s) for Spectrum:1  1.830e-02 +/- 1.435e-03 (86.6 % total)\n",
      " Assigned to Data Group 1 and Plot Group 1\n",
      "  Noticed Channels:  1-10\n",
      "  Telescope: XMM Instrument: EPN  Channel Type: PI\n",
      "  Exposure Time: 1.046e+04 sec\n",
      " Using fit statistic: chi\n",
      " Using Background File                P0945060133PNS003BGSPEC0005.FTZ\n",
      "  Background Exposure Time: 1.046e+04 sec\n",
      " Using Response (RMF) File            epn_e3_ff20_sdY7.rmf for Source 1\n",
      " Using Auxiliary Response (ARF) File  P0945060133PNS003SRCARF0005.FTZ\n",
      "\n"
     ]
    }
   ],
   "source": [
    "AllData.clear()\n",
    "spec = Spectrum(glob.glob(\"P*PNS*SRSPEC*.FTZ\")[0])"
   ]
  },
  {
   "cell_type": "code",
   "execution_count": 4,
   "id": "f2bac02c-abce-493d-9485-4861e680e17c",
   "metadata": {},
   "outputs": [
    {
     "name": "stdout",
     "output_type": "stream",
     "text": [
      "Number of counts = 191.418\n"
     ]
    }
   ],
   "source": [
    "n_cts = 1.830e-02*1.046e+04\n",
    "\n",
    "print(\"Number of counts =\",n_cts)\n",
    "\n",
    "if int(n_cts)<100:\n",
    "    print()\n",
    "    print(\"The low number of counts indicates that we should consider using cstat fit statistic instead of chi statistic.\")"
   ]
  },
  {
   "cell_type": "markdown",
   "id": "870eec10-27a5-4341-a01c-4a98ac400133",
   "metadata": {},
   "source": [
    "## Plot spectrum"
   ]
  },
  {
   "cell_type": "code",
   "execution_count": 5,
   "id": "37f98bf3-3d31-4c65-891f-3ea006da7786",
   "metadata": {},
   "outputs": [
    {
     "name": "stdout",
     "output_type": "stream",
     "text": [
      "      No channels ignored (no channels in specified range)\n",
      "      No channels ignored (no channels in specified range)\n",
      "\n"
     ]
    }
   ],
   "source": [
    "Plot.xAxis=\"keV\"\n",
    "Plot.device = \"/xs\"\n",
    "Plot.xLog=True\n",
    "Plot.yLog=True\n",
    "#Plot.addCommand(\"Rescale Y 0.00001 0.005\")\n",
    "Plot(\"data\")\n",
    "spec.ignore(\"**-0.2 12-**\")"
   ]
  },
  {
   "cell_type": "code",
   "execution_count": 6,
   "id": "27bf0415-368d-4476-8ef7-29af925b48ee",
   "metadata": {},
   "outputs": [
    {
     "data": {
      "text/plain": [
       "(-0.5, 854.5, 660.5, -0.5)"
      ]
     },
     "execution_count": 6,
     "metadata": {},
     "output_type": "execute_result"
    },
    {
     "data": {
      "image/png": "[encoded data removed]",
      "text/plain": [
       "<Figure size 1200x700 with 1 Axes>"
      ]
     },
     "metadata": {},
     "output_type": "display_data"
    }
   ],
   "source": [
    "img = plt.imread(glob.glob('ObsID*_SRCNUM*_E*_Spectrum.png')[0])\n",
    "plt.imshow(img)\n",
    "plt.axis('off')"
   ]
  },
  {
   "cell_type": "markdown",
   "id": "7eb1edda-21f0-4876-bdbc-8cb3e4a347dc",
   "metadata": {},
   "source": [
    "### Black body model"
   ]
  },
  {
   "cell_type": "code",
   "execution_count": 7,
   "id": "25e94b4e-0bb6-439e-af07-e82ebf0faa48",
   "metadata": {},
   "outputs": [
    {
     "name": "stdout",
     "output_type": "stream",
     "text": [
      "\n",
      "========================================================================\n",
      "Model TBabs<1>*bbody<2> Source No.: 1   Active/On\n",
      "Model Model Component  Parameter  Unit     Value\n",
      " par  comp\n",
      "   1    1   TBabs      nH         10^22    1.00000      +/-  0.0          \n",
      "   2    2   bbody      kT         keV      3.00000      +/-  0.0          \n",
      "   3    2   bbody      norm                1.00000      +/-  0.0          \n",
      "________________________________________________________________________\n",
      "\n",
      "tbvabs Version 2.3\n",
      "Cosmic absorption with grains and H2, modified from\n",
      "Wilms, Allen, & McCray, 2000, ApJ 542, 914-924\n",
      "Questions: Joern Wilms\n",
      "joern.wilms@sternwarte.uni-erlangen.de\n",
      "joern.wilms@fau.de\n",
      "\n",
      "http://pulsar.sternwarte.uni-erlangen.de/wilms/research/tbabs/\n",
      "\n",
      "PLEASE NOTICE:\n",
      "To get the model described by the above paper\n",
      "you will also have to set the abundances:\n",
      "   abund wilm\n",
      "\n",
      "Note that this routine ignores the current cross section setting\n",
      "as it always HAS to use the Verner cross sections as a baseline.\n",
      "\n",
      "Fit statistic  : Chi-Squared              4.325088e+12     using 10 bins.\n",
      "\n",
      "Test statistic : Chi-Squared              4.325088e+12     using 10 bins.\n",
      " Null hypothesis probability of 0.000000e+00 with 7 degrees of freedom\n",
      " Current data and model not fit yet.\n",
      "                                   Parameters\n",
      "Chi-Squared  |beta|/N    Lvl          1:nH          2:kT        3:norm\n",
      "146.895      0.664943      0      0.210206       3.16497   1.73841e-06\n",
      "144.174      850629        0     0.0204204       3.11113   1.77327e-06\n",
      "143.344      925133        0     0.0100875       3.05630   1.80713e-06\n",
      "142.637      840950        0   0.000638814       3.00902   1.83366e-06\n",
      "142.178      762772        0   9.33823e-05       2.96752   1.85428e-06\n",
      "141.812      679387        0   2.88710e-05       2.93126   1.86942e-06\n",
      "141.512      603786        0   1.34724e-05       2.89920   1.88006e-06\n",
      "141.26       536329        0   6.07170e-06       2.87045   1.88699e-06\n",
      "141.045      476447        0   2.49578e-06       2.84436   1.89083e-06\n",
      "140.859      423480        0   7.60376e-07       2.82044   1.89211e-06\n",
      "140.694      376779        0   3.37749e-07       2.79830   1.89125e-06\n",
      "140.545      335677        0   1.31287e-07       2.77761   1.88860e-06\n",
      "140.41       299537        0   3.01747e-08       2.75809   1.88444e-06\n",
      "140.283      267734        0   5.36491e-09       2.73954   1.87903e-06\n",
      "140.164      239750        0   2.31593e-09       2.72180   1.87254e-06\n",
      "140.051      215118        0   8.15018e-10       2.70469   1.86516e-06\n",
      "139.942      193338        0   7.52477e-11       2.68812   1.85702e-06\n",
      "139.835      174088        0   2.96370e-11       2.67196   1.84825e-06\n",
      "139.731      156905        0   7.08539e-12       2.65614   1.83895e-06\n",
      "139.627      141602        0   1.44720e-12       2.64056   1.82922e-06\n",
      "139.521      127651        0   9.61329e-14       2.62480   1.81982e-06\n",
      "139.406      112123        0   2.96486e-14       2.60808   1.81174e-06\n",
      "139.303      90041.5       0   8.98456e-15       2.59283   1.79967e-06\n",
      "139.163      82690.7       0   3.43757e-15       2.57308   1.79443e-06\n",
      "139.022      43067         0   1.55130e-15       2.55319   1.78880e-06\n",
      "138.083      2650.65       0   3.51476e-16       2.42910   1.67061e-06\n",
      "131.169      7530.31      -1   8.13168e-17       1.39984   5.14795e-07\n",
      "111.253      7.81991e+06  -2   1.76283e-17      0.107340   2.47020e-07\n",
      "***Warning: Zero alpha-matrix diagonal element for parameter 1\n",
      " Parameter 1 is pegged at 1.76283e-17 due to zero or negative pivot element, likely\n",
      " caused by the fit being insensitive to the parameter.\n",
      "101.118      2.72425e+07  -1   1.76283e-17      0.251976   1.38033e-07\n",
      "18.9862      1.02987e+08  -2   1.76283e-17      0.285607   5.41668e-07\n",
      "17.6859      3.39478e+06  -3   1.76283e-17      0.266587   5.47269e-07\n",
      "17.6528      466871       -4   1.76283e-17      0.263771   5.47814e-07\n",
      "17.6517      12845.6      -5   1.76283e-17      0.263245   5.47615e-07\n",
      "17.6516      365.193      -6   1.76283e-17      0.263147   5.47570e-07\n",
      "***Warning: Zero alpha-matrix diagonal element for parameter 1\n",
      " Parameter 1 is pegged at 1.76283e-17 due to zero or negative pivot element, likely\n",
      " caused by the fit being insensitive to the parameter.\n",
      "17.6516      8.13177      -3   1.76283e-17      0.263126   5.47559e-07\n",
      "==============================\n",
      " Variances and Principal Axes\n",
      "                 2        3  \n",
      " 1.9981E-15| -0.0000   1.0000  \n",
      " 2.9306E-04|  1.0000   0.0000  \n",
      "------------------------------\n",
      "\n",
      "========================\n",
      "  Covariance Matrix\n",
      "        1           2   \n",
      "   2.931e-04   1.401e-10\n",
      "   1.401e-10   2.065e-15\n",
      "------------------------\n",
      "\n",
      "========================================================================\n",
      "Model TBabs<1>*bbody<2> Source No.: 1   Active/On\n",
      "Model Model Component  Parameter  Unit     Value\n",
      " par  comp\n",
      "   1    1   TBabs      nH         10^22    1.76283E-17  +/-  -1.00000     \n",
      "   2    2   bbody      kT         keV      0.263126     +/-  1.71189E-02  \n",
      "   3    2   bbody      norm                5.47559E-07  +/-  4.54435E-08  \n",
      "________________________________________________________________________\n",
      "\n",
      "\n",
      "Fit statistic  : Chi-Squared                 17.6516     using 10 bins.\n",
      "\n",
      "Test statistic : Chi-Squared                 17.6516     using 10 bins.\n",
      " Null hypothesis probability of 1.3645e-02 with 7 degrees of freedom\n"
     ]
    }
   ],
   "source": [
    "AllModels.clear()\n",
    "mo = Model(\"tbabs*bbody\")\n",
    "Fit.perform()\n",
    "Plot.device = \"/xs\"\n",
    "Plot(\"data resid\")\n",
    "plt.show()\n",
    "nH_bbody = mo.TBabs.nH.values[0]"
   ]
  },
  {
   "cell_type": "code",
   "execution_count": 8,
   "id": "f2d55c50-94dd-468d-bf08-69bca0b63260",
   "metadata": {},
   "outputs": [
    {
     "data": {
      "text/plain": [
       "(-0.5, 855.5, 656.5, -0.5)"
      ]
     },
     "execution_count": 8,
     "metadata": {},
     "output_type": "execute_result"
    },
    {
     "data": {
      "image/png": "[encoded data removed]",
      "text/plain": [
       "<Figure size 1200x700 with 1 Axes>"
      ]
     },
     "metadata": {},
     "output_type": "display_data"
    }
   ],
   "source": [
    "img = plt.imread(glob.glob('ObsID*_SRCNUM*_E*_Spectrum_bbody.png')[0])\n",
    "plt.imshow(img)\n",
    "plt.axis('off')"
   ]
  },
  {
   "cell_type": "markdown",
   "id": "b77a2e66-8412-4d85-a277-10782493ea2e",
   "metadata": {},
   "source": [
    "### Bremsstrahlung model"
   ]
  },
  {
   "cell_type": "code",
   "execution_count": 9,
   "id": "3ed606fb-6f75-4369-b9c8-b5c95a0a9577",
   "metadata": {},
   "outputs": [
    {
     "name": "stdout",
     "output_type": "stream",
     "text": [
      "\n",
      "========================================================================\n",
      "Model TBabs<1>*bremss<2> Source No.: 1   Active/On\n",
      "Model Model Component  Parameter  Unit     Value\n",
      " par  comp\n",
      "   1    1   TBabs      nH         10^22    1.00000      +/-  0.0          \n",
      "   2    2   bremss     kT         keV      7.00000      +/-  0.0          \n",
      "   3    2   bremss     norm                1.00000      +/-  0.0          \n",
      "________________________________________________________________________\n",
      "\n",
      "\n",
      "Fit statistic  : Chi-Squared              1.006572e+11     using 10 bins.\n",
      "\n",
      "Test statistic : Chi-Squared              1.006572e+11     using 10 bins.\n",
      " Null hypothesis probability of 0.000000e+00 with 7 degrees of freedom\n",
      " Current data and model not fit yet.\n",
      "                                   Parameters\n",
      "Chi-Squared  |beta|/N    Lvl          1:nH          2:kT        3:norm\n",
      "88.8825      3.79055      -1     0.0753325       8.81332   7.82319e-06\n",
      "34.5637      1.27126e+06  -1     0.0146085       2.97524   1.37544e-05\n",
      "13.9293      857178       -2    0.00680716       2.32258   2.13150e-05\n",
      "13.4348      89851.6      -3     0.0245011       1.98735   2.45830e-05\n",
      "13.3303      36104.3      -4     0.0282626       1.85170   2.59607e-05\n",
      "13.2952      6835.09      -5     0.0321502       1.75486   2.69565e-05\n",
      "13.2718      4789.35      -6     0.0353982       1.67825   2.78585e-05\n",
      "13.2589      2759.37      -7     0.0376772       1.62695   2.85222e-05\n",
      "13.251       1438.08      -8     0.0395072       1.58815   2.90592e-05\n",
      "13.245       849.757      -9     0.0413753       1.55089   2.96054e-05\n",
      "13.2413      795.624     -10     0.0429205       1.52071   3.00758e-05\n",
      "13.24        542.619     -11     0.0435499       1.50747   3.02879e-05\n",
      "13.2391      117.654     -12     0.0440848       1.49749   3.04528e-05\n",
      "13.2386      74.7498     -13     0.0445031       1.48966   3.05836e-05\n",
      "13.2383      46.2216     -14     0.0448449       1.48335   3.06906e-05\n",
      "13.238       29.2021     -15     0.0451545       1.47774   3.07870e-05\n",
      "13.2379      24.9326     -16     0.0453367       1.47426   3.08462e-05\n",
      "13.2378      8.36253     -17     0.0455131       1.47112   3.09011e-05\n",
      "13.2375      7.65457     -18     0.0473806       1.44135   3.14487e-05\n",
      "13.2374      537.08      -19     0.0468502       1.44638   3.13354e-05\n",
      "13.2373      20.8747     -20     0.0467266       1.44938   3.12870e-05\n",
      "========================================\n",
      " Variances and Principal Axes\n",
      "                 1        2        3  \n",
      " 6.3568E-12| -0.0001   0.0000   1.0000  \n",
      " 5.4780E-04|  0.9979   0.0649   0.0001  \n",
      " 2.8971E-01| -0.0649   0.9979  -0.0000  \n",
      "----------------------------------------\n",
      "\n",
      "====================================\n",
      "  Covariance Matrix\n",
      "        1           2           3   \n",
      "   1.767e-03  -1.874e-02   4.309e-07\n",
      "  -1.874e-02   2.885e-01  -5.556e-06\n",
      "   4.309e-07  -5.556e-06   1.223e-10\n",
      "------------------------------------\n",
      "\n",
      "========================================================================\n",
      "Model TBabs<1>*bremss<2> Source No.: 1   Active/On\n",
      "Model Model Component  Parameter  Unit     Value\n",
      " par  comp\n",
      "   1    1   TBabs      nH         10^22    4.67266E-02  +/-  4.20345E-02  \n",
      "   2    2   bremss     kT         keV      1.44938      +/-  0.537113     \n",
      "   3    2   bremss     norm                3.12870E-05  +/-  1.10579E-05  \n",
      "________________________________________________________________________\n",
      "\n",
      "\n",
      "Fit statistic  : Chi-Squared                 13.2373     using 10 bins.\n",
      "\n",
      "Test statistic : Chi-Squared                 13.2373     using 10 bins.\n",
      " Null hypothesis probability of 6.6532e-02 with 7 degrees of freedom\n"
     ]
    }
   ],
   "source": [
    "AllModels.clear()\n",
    "mo = Model(\"tbabs*bremss\")\n",
    "Fit.perform()\n",
    "Plot.device = \"/xs\"\n",
    "Plot(\"data resid\")\n",
    "nH_bremss = mo.TBabs.nH.values[0]"
   ]
  },
  {
   "cell_type": "code",
   "execution_count": 10,
   "id": "4f360356-063b-4c14-8ea4-029f8abb6085",
   "metadata": {},
   "outputs": [
    {
     "data": {
      "text/plain": [
       "(-0.5, 859.5, 659.5, -0.5)"
      ]
     },
     "execution_count": 10,
     "metadata": {},
     "output_type": "execute_result"
    },
    {
     "data": {
      "image/png": "[encoded data removed]",
      "text/plain": [
       "<Figure size 1200x700 with 1 Axes>"
      ]
     },
     "metadata": {},
     "output_type": "display_data"
    }
   ],
   "source": [
    "img = plt.imread(glob.glob('ObsID*_SRCNUM*_E*_Spectrum_bremss.png')[0])\n",
    "plt.imshow(img)\n",
    "plt.axis('off')"
   ]
  },
  {
   "cell_type": "markdown",
   "id": "4d8ea665-d6a1-4113-beaf-fad108850b18",
   "metadata": {},
   "source": [
    "### Apec model"
   ]
  },
  {
   "cell_type": "code",
   "execution_count": 11,
   "id": "4bd12dd8-e0eb-46e8-a057-f7eb723b3a94",
   "metadata": {},
   "outputs": [
    {
     "name": "stdout",
     "output_type": "stream",
     "text": [
      "\n",
      "========================================================================\n",
      "Model TBabs<1>*apec<2> Source No.: 1   Active/On\n",
      "Model Model Component  Parameter  Unit     Value\n",
      " par  comp\n",
      "   1    1   TBabs      nH         10^22    1.00000      +/-  0.0          \n",
      "   2    2   apec       kT         keV      1.00000      +/-  0.0          \n",
      "   3    2   apec       Abundanc            1.00000      frozen\n",
      "   4    2   apec       Redshift            0.0          frozen\n",
      "   5    2   apec       norm                1.00000      +/-  0.0          \n",
      "________________________________________________________________________\n",
      "\n",
      "Reading APEC data from 3.0.9\n",
      "\n",
      "\n",
      "Fit statistic  : Chi-Squared              1.250090e+10     using 10 bins.\n",
      "\n",
      "Test statistic : Chi-Squared              1.250090e+10     using 10 bins.\n",
      " Null hypothesis probability of 0.000000e+00 with 7 degrees of freedom\n",
      " Current data and model not fit yet.\n",
      "                                   Parameters\n",
      "Chi-Squared  |beta|/N    Lvl          1:nH          2:kT        5:norm\n",
      "83.9494      8.96432      -1      0.973936      0.548025   9.13552e-05\n",
      "61.2151      93709        -2      0.430344      0.695532   4.19171e-05\n",
      "56.8576      186600       -3      0.652481      0.524647   6.93975e-05\n",
      "52.6146      98250.5      -2      0.667961      0.420621   0.000108229\n",
      "50.5288      42172.9      -2      0.602087      0.479510   8.35084e-05\n",
      "50.3203      17667.7      -1      0.602527      0.472933   8.80111e-05\n",
      "50.2801      2757.07      -1      0.605761      0.464752   9.10071e-05\n",
      "50.2789      1862.7       -2      0.626731      0.433178   0.000104659\n",
      "50.2321      7060.44      -2      0.612658      0.449492   9.71203e-05\n",
      "50.2285      1260.01      -2      0.621751      0.434966   0.000104139\n",
      "50.2243      1580.79      -2      0.613905      0.445026   9.89728e-05\n",
      "50.223       503.935      -2      0.619265      0.437146   0.000102967\n",
      "50.2221      569.281      -2      0.615080      0.442791   0.000100089\n",
      "50.2217      108.281      -2      0.618099      0.438524   0.000102278\n",
      "50.2214      208.222      -2      0.615843      0.441645   0.000100690\n",
      "50.2213      5.82442      -2      0.617512      0.439327   0.000101884\n",
      "50.2212      82.5647      -2      0.616288      0.441039   0.000101013\n",
      "========================================\n",
      " Variances and Principal Axes\n",
      "                 1        2        5  \n",
      " 8.8391E-11| -0.0003   0.0003   1.0000  \n",
      " 4.3152E-03| -0.7909  -0.6119  -0.0000  \n",
      " 4.0263E-02|  0.6119  -0.7909   0.0004  \n",
      "----------------------------------------\n",
      "\n",
      "====================================\n",
      "  Covariance Matrix\n",
      "        1           2           3   \n",
      "   1.777e-02  -1.740e-02   1.076e-05\n",
      "  -1.740e-02   2.680e-02  -1.358e-05\n",
      "   1.076e-05  -1.358e-05   7.553e-09\n",
      "------------------------------------\n",
      "\n",
      "========================================================================\n",
      "Model TBabs<1>*apec<2> Source No.: 1   Active/On\n",
      "Model Model Component  Parameter  Unit     Value\n",
      " par  comp\n",
      "   1    1   TBabs      nH         10^22    0.616288     +/-  0.133321     \n",
      "   2    2   apec       kT         keV      0.441039     +/-  0.163719     \n",
      "   3    2   apec       Abundanc            1.00000      frozen\n",
      "   4    2   apec       Redshift            0.0          frozen\n",
      "   5    2   apec       norm                1.01013E-04  +/-  8.69107E-05  \n",
      "________________________________________________________________________\n",
      "\n",
      "\n",
      "Fit statistic  : Chi-Squared                 50.2212     using 10 bins.\n",
      "\n",
      "Test statistic : Chi-Squared                 50.2212     using 10 bins.\n",
      " Null hypothesis probability of 1.3070e-08 with 7 degrees of freedom\n"
     ]
    }
   ],
   "source": [
    "AllModels.clear()\n",
    "mo = Model(\"tbabs*apec\")\n",
    "Fit.perform()\n",
    "Plot.device = \"/xs\"\n",
    "Plot(\"data resid\")\n",
    "nH_apec = mo.TBabs.nH.values[0]"
   ]
  },
  {
   "cell_type": "code",
   "execution_count": 12,
   "id": "e3c38dd4-72e7-44cd-b2db-963368ff15b2",
   "metadata": {},
   "outputs": [
    {
     "data": {
      "text/plain": [
       "(-0.5, 860.5, 659.5, -0.5)"
      ]
     },
     "execution_count": 12,
     "metadata": {},
     "output_type": "execute_result"
    },
    {
     "data": {
      "image/png": "[encoded data removed]",
      "text/plain": [
       "<Figure size 1200x700 with 1 Axes>"
      ]
     },
     "metadata": {},
     "output_type": "display_data"
    }
   ],
   "source": [
    "img = plt.imread(glob.glob('ObsID*_SRCNUM*_E*_Spectrum_apec.png')[0])\n",
    "plt.imshow(img)\n",
    "plt.axis('off')"
   ]
  },
  {
   "cell_type": "markdown",
   "id": "746ccf61-8e54-4726-b463-b6a3d137905c",
   "metadata": {},
   "source": [
    "### Powerlaw model"
   ]
  },
  {
   "cell_type": "code",
   "execution_count": 13,
   "id": "ecf8f29f-a8fc-4efc-9ce0-7059d934b811",
   "metadata": {},
   "outputs": [
    {
     "name": "stdout",
     "output_type": "stream",
     "text": [
      "\n",
      "========================================================================\n",
      "Model TBabs<1>*powerlaw<2> Source No.: 1   Active/On\n",
      "Model Model Component  Parameter  Unit     Value\n",
      " par  comp\n",
      "   1    1   TBabs      nH         10^22    1.00000      +/-  0.0          \n",
      "   2    2   powerlaw   PhoIndex            1.00000      +/-  0.0          \n",
      "   3    2   powerlaw   norm                1.00000      +/-  0.0          \n",
      "________________________________________________________________________\n",
      "\n",
      "\n",
      "Fit statistic  : Chi-Squared              7.868717e+11     using 10 bins.\n",
      "\n",
      "Test statistic : Chi-Squared              7.868717e+11     using 10 bins.\n",
      " Null hypothesis probability of 0.000000e+00 with 7 degrees of freedom\n",
      " Current data and model not fit yet.\n",
      "                                   Parameters\n",
      "Chi-Squared  |beta|/N    Lvl          1:nH    2:PhoIndex        3:norm\n",
      "108.225      4.09635      -1     0.0962372       1.12716   3.80248e-06\n",
      "51.9691      1.95455e+06  -2     0.0126874       1.66279   7.44572e-06\n",
      "18.7651      1.68154e+06  -3      0.141564       2.69841   1.91652e-05\n",
      "9.72693      499130       -4      0.145151       2.67305   2.54754e-05\n",
      "9.71562      6990.16      -5      0.139629       2.65221   2.50336e-05\n",
      "9.71526      171.217      -6      0.140166       2.65244   2.50881e-05\n",
      "9.71524      1.25219      -7      0.139912       2.65116   2.50643e-05\n",
      "========================================\n",
      " Variances and Principal Axes\n",
      "                 1        2        3  \n",
      " 3.9838E-12| -0.0001   0.0000   1.0000  \n",
      " 6.0196E-04|  0.9890  -0.1480   0.0001  \n",
      " 1.9325E-01|  0.1480   0.9890   0.0000  \n",
      "----------------------------------------\n",
      "\n",
      "====================================\n",
      "  Covariance Matrix\n",
      "        1           2           3   \n",
      "   4.822e-03   2.820e-02   4.497e-07\n",
      "   2.820e-02   1.890e-01   2.610e-06\n",
      "   4.497e-07   2.610e-06   4.594e-11\n",
      "------------------------------------\n",
      "\n",
      "========================================================================\n",
      "Model TBabs<1>*powerlaw<2> Source No.: 1   Active/On\n",
      "Model Model Component  Parameter  Unit     Value\n",
      " par  comp\n",
      "   1    1   TBabs      nH         10^22    0.139912     +/-  6.94371E-02  \n",
      "   2    2   powerlaw   PhoIndex            2.65116      +/-  0.434772     \n",
      "   3    2   powerlaw   norm                2.50643E-05  +/-  6.77777E-06  \n",
      "________________________________________________________________________\n",
      "\n",
      "\n",
      "Fit statistic  : Chi-Squared                  9.7152     using 10 bins.\n",
      "\n",
      "Test statistic : Chi-Squared                  9.7152     using 10 bins.\n",
      " Null hypothesis probability of 2.0529e-01 with 7 degrees of freedom\n"
     ]
    }
   ],
   "source": [
    "AllModels.clear()\n",
    "mo = Model(\"tbabs*powerlaw\")\n",
    "Fit.perform()\n",
    "Plot.device = \"/xs\"\n",
    "Plot(\"data resid\")\n",
    "nH_powerlaw = mo.TBabs.nH.values[0]"
   ]
  },
  {
   "cell_type": "code",
   "execution_count": 14,
   "id": "4f917501-7614-449b-b313-4ab6c7dd2aee",
   "metadata": {},
   "outputs": [
    {
     "data": {
      "text/plain": [
       "(-0.5, 855.5, 660.5, -0.5)"
      ]
     },
     "execution_count": 14,
     "metadata": {},
     "output_type": "execute_result"
    },
    {
     "data": {
      "image/png": "[encoded data removed]",
      "text/plain": [
       "<Figure size 1200x700 with 1 Axes>"
      ]
     },
     "metadata": {},
     "output_type": "display_data"
    }
   ],
   "source": [
    "img = plt.imread(glob.glob('ObsID*_SRCNUM*_E*_Spectrum_powerlaw.png')[0])\n",
    "plt.imshow(img)\n",
    "plt.axis('off')"
   ]
  },
  {
   "cell_type": "markdown",
   "id": "a416c19e-0b48-4a9d-b015-5d6c11af60f8",
   "metadata": {},
   "source": [
    "## Column density nH\n",
    "### 3DNH-tool\n",
    "http://astro.uni-tuebingen.de/nh3d/nhtool\n",
    "\n",
    "**Sky coordinates (°) :** (GAIA)\n",
    "\n",
    "- RA = 53.5942754°\n",
    "- Dec = -28.9023933°\n",
    "\n",
    "53.59 -28.90\n",
    "\n",
    "**Column density :** nH = 3*10^20 cm^-2"
   ]
  },
  {
   "cell_type": "code",
   "execution_count": 15,
   "id": "6c6c4d4a-bddb-4340-ad44-65d9f7bc30c0",
   "metadata": {},
   "outputs": [
    {
     "name": "stdout",
     "output_type": "stream",
     "text": [
      "The different models give a column density of :\n",
      "\n",
      "\u001b[1mbbody\u001b[0m\n",
      "(tbabs) : 176283.10561339612\n",
      "\n",
      "\u001b[1mbremss\u001b[0m\n",
      "(tbabs) : 4.672655939485924e+20\n",
      "\n",
      "\u001b[1mapec\u001b[0m\n",
      "(tbabs) : 6.162879208021014e+21\n",
      "\n",
      "\u001b[1mpowerlaw\u001b[0m\n",
      "(tbabs) : 1.3991180411493105e+21\n"
     ]
    }
   ],
   "source": [
    "print(\"The different models give a column density of :\")\n",
    "print()\n",
    "print(color.BOLD+\"bbody\"+color.END)\n",
    "print(f\"(tbabs) : {nH_bbody*10**22}\")\n",
    "print()\n",
    "print(color.BOLD+\"bremss\"+color.END)\n",
    "print(f\"(tbabs) : {nH_bremss*10**22}\")\n",
    "print()\n",
    "print(color.BOLD+\"apec\"+color.END)\n",
    "print(f\"(tbabs) : {nH_apec*10**22}\")\n",
    "print()\n",
    "print(color.BOLD+\"powerlaw\"+color.END)\n",
    "print(f\"(tbabs) : {nH_powerlaw*10**22}\")"
   ]
  },
  {
   "cell_type": "markdown",
   "id": "1973f13c-7580-446c-b7fe-bf273fd37c5d",
   "metadata": {},
   "source": [
    "## Flux\n",
    "### X-ray flux"
   ]
  },
  {
   "cell_type": "code",
   "execution_count": 16,
   "id": "f6ba1ee6-8282-4c45-8230-6603f9bfbae8",
   "metadata": {},
   "outputs": [
    {
     "name": "stdout",
     "output_type": "stream",
     "text": [
      " Model Flux 3.5959e-05 photons (6.7526e-14 ergs/cm^2/s) range (0.20000 - 12.000 keV)\n"
     ]
    }
   ],
   "source": [
    "AllModels.calcFlux(\".2 12.0\")"
   ]
  },
  {
   "cell_type": "code",
   "execution_count": 17,
   "id": "4e93ef39-9046-44fe-a12f-a84de18a36e6",
   "metadata": {},
   "outputs": [
    {
     "name": "stdout",
     "output_type": "stream",
     "text": [
      "\u001b[1mX-ray flux : \u001b[0mF_X = 6.7526e-14 ergs/cm^2/s\n"
     ]
    }
   ],
   "source": [
    "Flux = 6.7526e-14 # ergs/cm^2/s\n",
    "print(color.BOLD+\"X-ray flux : \"+color.END+f\"F_X = {Flux} ergs/cm^2/s\")"
   ]
  },
  {
   "cell_type": "markdown",
   "id": "c35f60c4-d6f3-4fa7-812a-b34bed342910",
   "metadata": {},
   "source": [
    "### Optical flux"
   ]
  },
  {
   "cell_type": "code",
   "execution_count": 18,
   "id": "f5fff1c1-b003-4884-9465-403837f11f4e",
   "metadata": {},
   "outputs": [
    {
     "name": "stdout",
     "output_type": "stream",
     "text": [
      "\u001b[1mOptical  flux : \u001b[0mF_opt = 1.390430542671063e-13 ergs/cm^2/s\n"
     ]
    }
   ],
   "source": [
    "def F_optical(mag):\n",
    "    F0 = 1.05*10**(-5) # GAIA zero point magnitude\n",
    "    return F0*10**(-0.4*mag)\n",
    "    \n",
    "G = 19.6951\n",
    "\n",
    "F = F_optical(G)\n",
    "\n",
    "print(color.BOLD+\"Optical  flux : \"+color.END+f\"F_opt = {F} ergs/cm^2/s\")"
   ]
  },
  {
   "cell_type": "markdown",
   "id": "e21356f8-c6cb-4ec5-97ac-514fca991518",
   "metadata": {},
   "source": [
    "### X-ray flux / Optical flux ratio"
   ]
  },
  {
   "cell_type": "code",
   "execution_count": 19,
   "id": "e5b46d21-be5f-401c-ad14-81bd23150bfc",
   "metadata": {},
   "outputs": [
    {
     "name": "stdout",
     "output_type": "stream",
     "text": [
      "\u001b[1mX-ray flux / Optical flux ratio : \u001b[0mF_x-ray/F_optical = 0.4856481350753438\n",
      "F_x-ray = 0.4856481350753438*F_optical\n"
     ]
    }
   ],
   "source": [
    "print(color.BOLD+\"X-ray flux / Optical flux ratio : \"+color.END+f\"F_x-ray/F_optical = {Flux/F}\")\n",
    "print(f\"F_x-ray = {Flux/F}*F_optical\")"
   ]
  },
  {
   "cell_type": "markdown",
   "id": "c8c6cc3c-5807-4c13-a57f-a4ce5da37435",
   "metadata": {},
   "source": [
    "### Luminosity"
   ]
  },
  {
   "cell_type": "code",
   "execution_count": 20,
   "id": "d586c000-4d0d-466d-b61a-9dae79785426",
   "metadata": {},
   "outputs": [
    {
     "name": "stdout",
     "output_type": "stream",
     "text": [
      "\u001b[1m(GAIA)\u001b[0m\n",
      "Distance : 1.0492009520571234e+21 cm\n",
      "Luminosité : 9.341104711651814e+29 erg/s\n"
     ]
    }
   ],
   "source": [
    "\"\"\"GAIA\"\"\"\n",
    "\n",
    "P_mas = 2.941 # Parallaxe en mas\n",
    "d_kpc = 1/P_mas # Distance en kpc\n",
    "d_cm = d_kpc*3.0857*10**21 # Distance en cm, avec 1 pc = 3.0857*10^18 cm\n",
    "\n",
    "# La source est supposée sphérique pour le calcul de la luminosité : L = 4*pi*F*D^2\n",
    "Luminosity = 4*np.pi*Flux*(d_cm)**2 # erg/s\n",
    "\n",
    "print(color.BOLD+\"(GAIA)\"+color.END)\n",
    "print(f\"Distance : {d_cm} cm\")\n",
    "print(f\"Luminosité : {Luminosity} erg/s\")"
   ]
  }
 ],
 "metadata": {
  "kernelspec": {
   "display_name": "Python 3 (ipykernel)",
   "language": "python",
   "name": "python3"
  },
  "language_info": {
   "codemirror_mode": {
    "name": "ipython",
    "version": 3
   },
   "file_extension": ".py",
   "mimetype": "text/x-python",
   "name": "python",
   "nbconvert_exporter": "python",
   "pygments_lexer": "ipython3",
   "version": "3.10.12"
  }
 },
 "nbformat": 4,
 "nbformat_minor": 5
}
