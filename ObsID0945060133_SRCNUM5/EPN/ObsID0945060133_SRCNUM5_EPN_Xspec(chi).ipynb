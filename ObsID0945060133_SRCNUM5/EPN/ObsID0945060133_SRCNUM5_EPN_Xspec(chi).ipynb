{
 "cells": [
  {
   "cell_type": "markdown",
   "id": "a09472f9-b7b4-4047-9978-0b5adf3b464f",
   "metadata": {},
   "source": [
    "# ObsID : 0945060133, SRCNUM : 5, Instru : EPN\n",
    "Not on Simbad."
   ]
  },
  {
   "cell_type": "markdown",
   "id": "ee9befb7-bf2d-4e88-a03c-547580248cff",
   "metadata": {},
   "source": [
    "## ESASky\n",
    "EPIC Stack's pointer is not on the source location from XMM-Archive link. The closest pointer are far from the source. https://sky.esa.int/esasky/?target=53.59479166666666%20-28.90244444444444&hips=XMM-Newton+EPIC+color&fov=1&projection=SIN&cooframe=J2000&sci=true&lang=fr\n",
    "\n",
    "``GAIA``\n",
    "\n",
    "- Designation : Gaia DR3 5057101614813827200\n",
    "- RA : 53.5942754°\n",
    "- DEC : -28.9023933°\n",
    "- Parallax : 2.941 mas\n",
    "- G : 19.6951\n",
    "\n",
    "``2MASS``\n",
    "\n",
    "- Name : 03342264-2854082\n",
    "- RA : 53.5943410°\n",
    "- DEC : -28.9022880°"
   ]
  },
  {
   "cell_type": "code",
   "execution_count": 1,
   "id": "311ae079-ccd8-41c3-aac4-08c99f67b431",
   "metadata": {},
   "outputs": [],
   "source": [
    "from xspec import *\n",
    "from stingray import Lightcurve\n",
    "from astropy.io import fits\n",
    "import matplotlib.pyplot as plt\n",
    "import matplotlib.image as mpimg\n",
    "import glob\n",
    "import numpy as np\n",
    "\n",
    "class color:\n",
    "   PURPLE = '\\033[95m'\n",
    "   CYAN = '\\033[96m'\n",
    "   DARKCYAN = '\\033[36m'\n",
    "   BLUE = '\\033[94m'\n",
    "   GREEN = '\\033[92m'\n",
    "   YELLOW = '\\033[93m'\n",
    "   RED = '\\033[91m'\n",
    "   BOLD = '\\033[1m'\n",
    "   UNDERLINE = '\\033[4m'\n",
    "   END = '\\033[0m'\n",
    "\n",
    "plt.rcParams['figure.figsize'] = [12,7]"
   ]
  },
  {
   "cell_type": "markdown",
   "id": "e5eae72e-1db6-4cb9-ba31-b2747fcbe059",
   "metadata": {},
   "source": [
    "## Fit statistic"
   ]
  },
  {
   "cell_type": "code",
   "execution_count": 2,
   "id": "69840d8c-939c-4937-a2e6-39723c7cbd4c",
   "metadata": {},
   "outputs": [
    {
     "name": "stdout",
     "output_type": "stream",
     "text": [
      "Default fit statistic is set to: Chi-Squared\n",
      "   This will apply to all current and newly loaded spectra.\n",
      "Parameter delta values for fits will now be 0.0001 * parValue\n"
     ]
    }
   ],
   "source": [
    "Fit.statMethod = \"chi\"\n",
    "Fit.nIterations = 100000\n",
    "Fit.delta = 1e-4\n",
    "Fit.criticalDelta = 1e-4"
   ]
  },
  {
   "cell_type": "markdown",
   "id": "39b7d9d2-7930-4892-81ba-8bd2db47e610",
   "metadata": {},
   "source": [
    "## Load files"
   ]
  },
  {
   "cell_type": "code",
   "execution_count": 3,
   "id": "cd0bcd6f-9565-4899-90b7-1e5d87e7050a",
   "metadata": {},
   "outputs": [
    {
     "name": "stdout",
     "output_type": "stream",
     "text": [
      "Warning: RMF FILTER keyword (Medium) is not consistent with that in the ARF (Thin1)\n",
      "Warning: RMF FILTER keyword (Medium) is not consistent with that in spectrum (Thin1)\n",
      "\n",
      "1 spectrum  in use\n",
      " \n",
      "Spectral Data File: P0945060133PNS003SRSPEC0005.FTZ  Spectrum 1\n",
      "Net count rate (cts/s) for Spectrum:1  1.830e-02 +/- 1.435e-03 (86.6 % total)\n",
      " Assigned to Data Group 1 and Plot Group 1\n",
      "  Noticed Channels:  1-10\n",
      "  Telescope: XMM Instrument: EPN  Channel Type: PI\n",
      "  Exposure Time: 1.046e+04 sec\n",
      " Using fit statistic: chi\n",
      " Using Background File                P0945060133PNS003BGSPEC0005.FTZ\n",
      "  Background Exposure Time: 1.046e+04 sec\n",
      " Using Response (RMF) File            epn_e3_ff20_sdY7.rmf for Source 1\n",
      " Using Auxiliary Response (ARF) File  P0945060133PNS003SRCARF0005.FTZ\n",
      "\n"
     ]
    }
   ],
   "source": [
    "AllData.clear()\n",
    "spec = Spectrum(glob.glob(\"P*PNS*SRSPEC*.FTZ\")[0])"
   ]
  },
  {
   "cell_type": "code",
   "execution_count": 4,
   "id": "f2bac02c-abce-493d-9485-4861e680e17c",
   "metadata": {},
   "outputs": [
    {
     "name": "stdout",
     "output_type": "stream",
     "text": [
      "Number of counts = 191.418\n"
     ]
    }
   ],
   "source": [
    "n_cts = 1.830e-02*1.046e+04\n",
    "\n",
    "print(\"Number of counts =\",n_cts)\n",
    "\n",
    "if int(n_cts)<100:\n",
    "    print()\n",
    "    print(\"The low number of counts indicates that we should consider using cstat fit statistic instead of chi statistic.\")"
   ]
  },
  {
   "cell_type": "markdown",
   "id": "870eec10-27a5-4341-a01c-4a98ac400133",
   "metadata": {},
   "source": [
    "## Plot spectrum"
   ]
  },
  {
   "cell_type": "code",
   "execution_count": 4,
   "id": "37f98bf3-3d31-4c65-891f-3ea006da7786",
   "metadata": {},
   "outputs": [
    {
     "name": "stdout",
     "output_type": "stream",
     "text": [
      "      No channels ignored (no channels in specified range)\n",
      "     1 channels (10) ignored in spectrum #     1\n",
      "\n"
     ]
    }
   ],
   "source": [
    "Plot.xAxis=\"keV\"\n",
    "Plot.device = \"/xs\"\n",
    "Plot.xLog=True\n",
    "Plot.yLog=True\n",
    "#Plot.addCommand(\"Rescale Y 0.00001 0.005\")\n",
    "Plot(\"data\")\n",
    "spec.ignore(\"**-0.2 12.0-**\")"
   ]
  },
  {
   "cell_type": "code",
   "execution_count": 6,
   "id": "27bf0415-368d-4476-8ef7-29af925b48ee",
   "metadata": {},
   "outputs": [
    {
     "data": {
      "text/plain": [
       "(-0.5, 854.5, 660.5, -0.5)"
      ]
     },
     "execution_count": 6,
     "metadata": {},
     "output_type": "execute_result"
    },
    {
     "data": {
      "image/png": "[encoded data removed]",
      "text/plain": [
       "<Figure size 1200x700 with 1 Axes>"
      ]
     },
     "metadata": {},
     "output_type": "display_data"
    }
   ],
   "source": [
    "img = plt.imread(glob.glob('ObsID*_SRCNUM*_E*_Spectrum.png')[0])\n",
    "plt.imshow(img)\n",
    "plt.axis('off')"
   ]
  },
  {
   "cell_type": "markdown",
   "id": "7eb1edda-21f0-4876-bdbc-8cb3e4a347dc",
   "metadata": {},
   "source": [
    "### Black body model"
   ]
  },
  {
   "cell_type": "code",
   "execution_count": 5,
   "id": "25e94b4e-0bb6-439e-af07-e82ebf0faa48",
   "metadata": {
    "scrolled": true
   },
   "outputs": [
    {
     "name": "stdout",
     "output_type": "stream",
     "text": [
      "\n",
      "========================================================================\n",
      "Model TBabs<1>*bbody<2> Source No.: 1   Active/On\n",
      "Model Model Component  Parameter  Unit     Value\n",
      " par  comp\n",
      "   1    1   TBabs      nH         10^22    1.00000      +/-  0.0          \n",
      "   2    2   bbody      kT         keV      3.00000      +/-  0.0          \n",
      "   3    2   bbody      norm                1.00000      +/-  0.0          \n",
      "________________________________________________________________________\n",
      "\n",
      "tbvabs Version 2.3\n",
      "Cosmic absorption with grains and H2, modified from\n",
      "Wilms, Allen, & McCray, 2000, ApJ 542, 914-924\n",
      "Questions: Joern Wilms\n",
      "joern.wilms@sternwarte.uni-erlangen.de\n",
      "joern.wilms@fau.de\n",
      "\n",
      "http://pulsar.sternwarte.uni-erlangen.de/wilms/research/tbabs/\n",
      "\n",
      "PLEASE NOTICE:\n",
      "To get the model described by the above paper\n",
      "you will also have to set the abundances:\n",
      "   abund wilm\n",
      "\n",
      "Note that this routine ignores the current cross section setting\n",
      "as it always HAS to use the Verner cross sections as a baseline.\n",
      "\n",
      "Fit statistic  : Chi-Squared              1.471941e+11     using 9 bins.\n",
      "\n",
      "Test statistic : Chi-Squared              1.471941e+11     using 9 bins.\n",
      " Null hypothesis probability of 0.000000e+00 with 6 degrees of freedom\n",
      " Current data and model not fit yet.\n",
      "                                   Parameters\n",
      "Chi-Squared  |beta|/N    Lvl          1:nH          2:kT        3:norm\n",
      "124.901      1.1194        0      0.520833       3.07037   1.25732e-05\n",
      "118.638      4034.41       0      0.187360       3.17745   1.12970e-05\n",
      "117.161      132941        0     0.0574800       3.30917   9.90412e-06\n",
      "113.038      317668        0   0.000377642       3.27055   1.01866e-05\n",
      "112.1        310754        0   0.000183223       3.23878   1.04227e-05\n",
      "111.405      278782        0   1.87332e-06       3.21330   1.06138e-05\n",
      "110.895      250365        0   5.34716e-07       3.19257   1.07689e-05\n",
      "110.513      225343        0   2.15240e-07       3.17552   1.08950e-05\n",
      "110.223      203570        0   6.15095e-08       3.16139   1.09975e-05\n",
      "110.002      184765        0   2.42789e-08       3.14954   1.10806e-05\n",
      "109.832      168585        0   6.14982e-09       3.13955   1.11478e-05\n",
      "109.7        154729        0   1.71639e-09       3.13106   1.12019e-05\n",
      "109.596      142896        0   6.28270e-10       3.12379   1.12452e-05\n",
      "109.514      132814        0   9.25760e-11       3.11752   1.12793e-05\n",
      "109.449      124245        0   2.64299e-11       3.11208   1.13059e-05\n",
      "109.396      116972        0   1.00491e-11       3.10732   1.13263e-05\n",
      "109.354      110812        0   2.03991e-12       3.10312   1.13414e-05\n",
      "109.319      105596        0   3.59760e-14       3.09940   1.13520e-05\n",
      "109.29       101199        0   3.56111e-16       3.09601   1.13596e-05\n",
      "109.041      97363.7       0   7.05148e-17       3.06234   1.14510e-05\n",
      "108.682      55284.8      -1   6.24849e-19       2.91391   1.04415e-05\n",
      "***Warning: Zero alpha-matrix diagonal element for parameter 1\n",
      " Parameter 1 is pegged at 6.24849e-19 due to zero or negative pivot element, likely\n",
      " caused by the fit being insensitive to the parameter.\n",
      "108.381      17535.5      -1   6.24849e-19       2.77259   9.31383e-06\n",
      "108.056      10531.3      -1   6.24849e-19       2.63555   8.19578e-06\n",
      "107.675      10265.5      -1   6.24849e-19       2.49410   7.14357e-06\n",
      "107.223      10132.5      -1   6.24849e-19       2.34754   6.15526e-06\n",
      "106.674      9163.27      -1   6.24849e-19       2.19483   5.22956e-06\n",
      "89.3137      5888.35      -2   6.24849e-19      0.727392   9.49720e-07\n",
      "72.3763      1.70985e+07  -1   6.24849e-19      0.417526   2.58287e-07\n",
      "19.0336      5.6754e+07   -2   6.24849e-19      0.208403   4.37060e-07\n",
      "6.98         1.78285e+07  -3   6.24849e-19      0.257675   5.22907e-07\n",
      "6.72243      5.34723e+06  -4   6.24849e-19      0.260545   5.45401e-07\n",
      "6.72202      27839.8      -5   6.24849e-19      0.260864   5.45665e-07\n",
      "6.72201      28.5515      -6   6.24849e-19      0.260909   5.45687e-07\n",
      "***Warning: Zero alpha-matrix diagonal element for parameter 1\n",
      " Parameter 1 is pegged at 6.24849e-19 due to zero or negative pivot element, likely\n",
      " caused by the fit being insensitive to the parameter.\n",
      "6.72201      6.48881      -3   6.24849e-19      0.260916   5.45691e-07\n",
      "==============================\n",
      " Variances and Principal Axes\n",
      "                 2        3  \n",
      " 1.9904E-15| -0.0000   1.0000  \n",
      " 2.8886E-04|  1.0000   0.0000  \n",
      "------------------------------\n",
      "\n",
      "========================\n",
      "  Covariance Matrix\n",
      "        1           2   \n",
      "   2.889e-04   1.389e-10\n",
      "   1.389e-10   2.057e-15\n",
      "------------------------\n",
      "\n",
      "========================================================================\n",
      "Model TBabs<1>*bbody<2> Source No.: 1   Active/On\n",
      "Model Model Component  Parameter  Unit     Value\n",
      " par  comp\n",
      "   1    1   TBabs      nH         10^22    6.24849E-19  +/-  -1.00000     \n",
      "   2    2   bbody      kT         keV      0.260916     +/-  1.69959E-02  \n",
      "   3    2   bbody      norm                5.45691E-07  +/-  4.53560E-08  \n",
      "________________________________________________________________________\n",
      "\n",
      "\n",
      "Fit statistic  : Chi-Squared                  6.7220     using 9 bins.\n",
      "\n",
      "Test statistic : Chi-Squared                  6.7220     using 9 bins.\n",
      " Null hypothesis probability of 3.4732e-01 with 6 degrees of freedom\n",
      " Model Flux 3.6685e-05 photons (4.4936e-14 ergs/cm^2/s) range (0.20000 - 12.000 keV)\n"
     ]
    }
   ],
   "source": [
    "AllModels.clear()\n",
    "mo = Model(\"tbabs*bbody\")\n",
    "Fit.perform()\n",
    "Plot.device = \"/xs\"\n",
    "Plot(\"data resid\")\n",
    "plt.show()\n",
    "nH_bbody = mo.TBabs.nH.values[0]\n",
    "AllModels.calcFlux(\".2 12.0\")"
   ]
  },
  {
   "cell_type": "code",
   "execution_count": 8,
   "id": "f2d55c50-94dd-468d-bf08-69bca0b63260",
   "metadata": {},
   "outputs": [
    {
     "data": {
      "text/plain": [
       "(-0.5, 855.5, 656.5, -0.5)"
      ]
     },
     "execution_count": 8,
     "metadata": {},
     "output_type": "execute_result"
    },
    {
     "data": {
      "image/png": "[encoded data removed]",
      "text/plain": [
       "<Figure size 1200x700 with 1 Axes>"
      ]
     },
     "metadata": {},
     "output_type": "display_data"
    }
   ],
   "source": [
    "img = plt.imread(glob.glob('ObsID*_SRCNUM*_E*_Spectrum_bbody.png')[0])\n",
    "plt.imshow(img)\n",
    "plt.axis('off')"
   ]
  },
  {
   "cell_type": "markdown",
   "id": "b77a2e66-8412-4d85-a277-10782493ea2e",
   "metadata": {},
   "source": [
    "### Bremsstrahlung model"
   ]
  },
  {
   "cell_type": "code",
   "execution_count": 6,
   "id": "3ed606fb-6f75-4369-b9c8-b5c95a0a9577",
   "metadata": {
    "scrolled": true
   },
   "outputs": [
    {
     "name": "stdout",
     "output_type": "stream",
     "text": [
      "\n",
      "========================================================================\n",
      "Model TBabs<1>*bremss<2> Source No.: 1   Active/On\n",
      "Model Model Component  Parameter  Unit     Value\n",
      " par  comp\n",
      "   1    1   TBabs      nH         10^22    1.00000      +/-  0.0          \n",
      "   2    2   bremss     kT         keV      7.00000      +/-  0.0          \n",
      "   3    2   bremss     norm                1.00000      +/-  0.0          \n",
      "________________________________________________________________________\n",
      "\n",
      "\n",
      "Fit statistic  : Chi-Squared              5.502165e+10     using 9 bins.\n",
      "\n",
      "Test statistic : Chi-Squared              5.502165e+10     using 9 bins.\n",
      " Null hypothesis probability of 0.000000e+00 with 6 degrees of freedom\n",
      " Current data and model not fit yet.\n",
      "                                   Parameters\n",
      "Chi-Squared  |beta|/N    Lvl          1:nH          2:kT        3:norm\n",
      "84.481       3.47419      -1      0.262246       3.14407   1.49255e-05\n",
      "20.4177      497655        0     0.0195361       2.13461   1.75770e-05\n",
      "11.2036      519692       -1     0.0198911       1.40769   2.45153e-05\n",
      "8.14119      194277       -1     0.0403572       1.35987   2.98442e-05\n",
      "7.29323      56709.2      -1     0.0523931       1.18858   3.40087e-05\n",
      "6.66344      52111.9      -1     0.0623922       1.10523   3.78844e-05\n",
      "6.27448      27638.5      -1     0.0705426       1.03720   4.12744e-05\n",
      "5.99821      19518.9      -1     0.0774418      0.985352   4.43645e-05\n",
      "5.79727      14210.7      -1     0.0833392      0.944502   4.71789e-05\n",
      "5.76212      10720.2      -2      0.108295      0.782582   5.90360e-05\n",
      "5.29181      46784.6      -3      0.128614      0.707509   7.32623e-05\n",
      "5.12791      21881.5      -4      0.129738      0.704760   7.64049e-05\n",
      "5.12789      229.472      -5      0.129673      0.704713   7.64165e-05\n",
      "========================================\n",
      " Variances and Principal Axes\n",
      "                 1        2        3  \n",
      " 3.8636E-11| -0.0003   0.0001   1.0000  \n",
      " 7.3733E-04|  0.9706   0.2406   0.0003  \n",
      " 5.5716E-02| -0.2406   0.9706  -0.0002  \n",
      "----------------------------------------\n",
      "\n",
      "====================================\n",
      "  Covariance Matrix\n",
      "        1           2           3   \n",
      "   3.921e-03  -1.284e-02   2.761e-06\n",
      "  -1.284e-02   5.253e-02  -1.028e-05\n",
      "   2.761e-06  -1.028e-05   2.130e-09\n",
      "------------------------------------\n",
      "\n",
      "========================================================================\n",
      "Model TBabs<1>*bremss<2> Source No.: 1   Active/On\n",
      "Model Model Component  Parameter  Unit     Value\n",
      " par  comp\n",
      "   1    1   TBabs      nH         10^22    0.129673     +/-  6.26173E-02  \n",
      "   2    2   bremss     kT         keV      0.704713     +/-  0.229199     \n",
      "   3    2   bremss     norm                7.64165E-05  +/-  4.61530E-05  \n",
      "________________________________________________________________________\n",
      "\n",
      "\n",
      "Fit statistic  : Chi-Squared                  5.1279     using 9 bins.\n",
      "\n",
      "Test statistic : Chi-Squared                  5.1279     using 9 bins.\n",
      " Null hypothesis probability of 5.2752e-01 with 6 degrees of freedom\n",
      " Model Flux 3.2638e-05 photons (4.6027e-14 ergs/cm^2/s) range (0.20000 - 12.000 keV)\n"
     ]
    }
   ],
   "source": [
    "AllModels.clear()\n",
    "mo = Model(\"tbabs*bremss\")\n",
    "Fit.perform()\n",
    "Plot.device = \"/xs\"\n",
    "Plot(\"data resid\")\n",
    "nH_bremss = mo.TBabs.nH.values[0]\n",
    "AllModels.calcFlux(\".2 12.0\")"
   ]
  },
  {
   "cell_type": "code",
   "execution_count": 10,
   "id": "4f360356-063b-4c14-8ea4-029f8abb6085",
   "metadata": {},
   "outputs": [
    {
     "data": {
      "text/plain": [
       "(-0.5, 859.5, 659.5, -0.5)"
      ]
     },
     "execution_count": 10,
     "metadata": {},
     "output_type": "execute_result"
    },
    {
     "data": {
      "image/png": "[encoded data removed]",
      "text/plain": [
       "<Figure size 1200x700 with 1 Axes>"
      ]
     },
     "metadata": {},
     "output_type": "display_data"
    }
   ],
   "source": [
    "img = plt.imread(glob.glob('ObsID*_SRCNUM*_E*_Spectrum_bremss.png')[0])\n",
    "plt.imshow(img)\n",
    "plt.axis('off')"
   ]
  },
  {
   "cell_type": "markdown",
   "id": "4d8ea665-d6a1-4113-beaf-fad108850b18",
   "metadata": {},
   "source": [
    "### Apec model"
   ]
  },
  {
   "cell_type": "code",
   "execution_count": 7,
   "id": "4bd12dd8-e0eb-46e8-a057-f7eb723b3a94",
   "metadata": {
    "scrolled": true
   },
   "outputs": [
    {
     "name": "stdout",
     "output_type": "stream",
     "text": [
      "\n",
      "========================================================================\n",
      "Model TBabs<1>*apec<2> Source No.: 1   Active/On\n",
      "Model Model Component  Parameter  Unit     Value\n",
      " par  comp\n",
      "   1    1   TBabs      nH         10^22    1.00000      +/-  0.0          \n",
      "   2    2   apec       kT         keV      1.00000      +/-  0.0          \n",
      "   3    2   apec       Abundanc            1.00000      frozen\n",
      "   4    2   apec       Redshift            0.0          frozen\n",
      "   5    2   apec       norm                1.00000      +/-  0.0          \n",
      "________________________________________________________________________\n",
      "\n",
      "Reading APEC data from 3.0.9\n",
      "\n",
      "\n",
      "Fit statistic  : Chi-Squared              1.239709e+10     using 9 bins.\n",
      "\n",
      "Test statistic : Chi-Squared              1.239709e+10     using 9 bins.\n",
      " Null hypothesis probability of 0.000000e+00 with 6 degrees of freedom\n",
      " Current data and model not fit yet.\n",
      "                                   Parameters\n",
      "Chi-Squared  |beta|/N    Lvl          1:nH          2:kT        5:norm\n",
      "65.9537      10.3675       0      0.952975      0.703175   8.11666e-05\n",
      "40.7904      79472.2      -1      0.690310      0.468109   0.000104788\n",
      "39.4552      28258.2      -2      0.642766      0.464484   0.000102047\n",
      "39.3092      1958.86      -2      0.641554      0.432436   0.000110188\n",
      "39.2861      4043.82      -3      0.612263      0.450410   9.58809e-05\n",
      "39.2674      4136.34      -2      0.627291      0.416474   0.000110592\n",
      "39.2149      6451.09      -2      0.609405      0.433058   0.000100784\n",
      "39.2038      1824.91      -2      0.616027      0.421274   0.000106872\n",
      "39.2008      1340.52      -2      0.611086      0.425306   0.000104303\n",
      "39.2001      51.3732      -2      0.612809      0.421419   0.000106145\n",
      "39.1997      152.647      -2      0.610548      0.423438   0.000104783\n",
      "39.1996      8.30124      -2      0.611399      0.421683   0.000105636\n",
      "39.1996      48.6589      -2      0.610384      0.422634   0.000105007\n",
      "========================================\n",
      " Variances and Principal Axes\n",
      "                 1        2        5  \n",
      " 9.5295E-11| -0.0003   0.0003   1.0000  \n",
      " 4.1414E-03| -0.7660  -0.6428  -0.0000  \n",
      " 3.8127E-02|  0.6428  -0.7660   0.0005  \n",
      "----------------------------------------\n",
      "\n",
      "====================================\n",
      "  Covariance Matrix\n",
      "        1           2           3   \n",
      "   1.818e-02  -1.673e-02   1.153e-05\n",
      "  -1.673e-02   2.409e-02  -1.360e-05\n",
      "   1.153e-05  -1.360e-05   8.434e-09\n",
      "------------------------------------\n",
      "\n",
      "========================================================================\n",
      "Model TBabs<1>*apec<2> Source No.: 1   Active/On\n",
      "Model Model Component  Parameter  Unit     Value\n",
      " par  comp\n",
      "   1    1   TBabs      nH         10^22    0.610384     +/-  0.134845     \n",
      "   2    2   apec       kT         keV      0.422634     +/-  0.155194     \n",
      "   3    2   apec       Abundanc            1.00000      frozen\n",
      "   4    2   apec       Redshift            0.0          frozen\n",
      "   5    2   apec       norm                1.05007E-04  +/-  9.18366E-05  \n",
      "________________________________________________________________________\n",
      "\n",
      "\n",
      "Fit statistic  : Chi-Squared                 39.1996     using 9 bins.\n",
      "\n",
      "Test statistic : Chi-Squared                 39.1996     using 9 bins.\n",
      " Null hypothesis probability of 6.5410e-07 with 6 degrees of freedom\n",
      " Model Flux 1.9617e-05 photons (3.1889e-14 ergs/cm^2/s) range (0.20000 - 12.000 keV)\n"
     ]
    }
   ],
   "source": [
    "AllModels.clear()\n",
    "mo = Model(\"tbabs*apec\")\n",
    "Fit.perform()\n",
    "Plot.device = \"/xs\"\n",
    "Plot(\"data resid\")\n",
    "nH_apec = mo.TBabs.nH.values[0]\n",
    "AllModels.calcFlux(\".2 12.0\")"
   ]
  },
  {
   "cell_type": "code",
   "execution_count": 12,
   "id": "e3c38dd4-72e7-44cd-b2db-963368ff15b2",
   "metadata": {},
   "outputs": [
    {
     "data": {
      "text/plain": [
       "(-0.5, 860.5, 659.5, -0.5)"
      ]
     },
     "execution_count": 12,
     "metadata": {},
     "output_type": "execute_result"
    },
    {
     "data": {
      "image/png": "[encoded data removed]",
      "text/plain": [
       "<Figure size 1200x700 with 1 Axes>"
      ]
     },
     "metadata": {},
     "output_type": "display_data"
    }
   ],
   "source": [
    "img = plt.imread(glob.glob('ObsID*_SRCNUM*_E*_Spectrum_apec.png')[0])\n",
    "plt.imshow(img)\n",
    "plt.axis('off')"
   ]
  },
  {
   "cell_type": "markdown",
   "id": "746ccf61-8e54-4726-b463-b6a3d137905c",
   "metadata": {},
   "source": [
    "### Powerlaw model (Third best fit)"
   ]
  },
  {
   "cell_type": "code",
   "execution_count": 8,
   "id": "ecf8f29f-a8fc-4efc-9ce0-7059d934b811",
   "metadata": {
    "scrolled": true
   },
   "outputs": [
    {
     "name": "stdout",
     "output_type": "stream",
     "text": [
      "\n",
      "========================================================================\n",
      "Model TBabs<1>*powerlaw<2> Source No.: 1   Active/On\n",
      "Model Model Component  Parameter  Unit     Value\n",
      " par  comp\n",
      "   1    1   TBabs      nH         10^22    1.00000      +/-  0.0          \n",
      "   2    2   powerlaw   PhoIndex            1.00000      +/-  0.0          \n",
      "   3    2   powerlaw   norm                1.00000      +/-  0.0          \n",
      "________________________________________________________________________\n",
      "\n",
      "\n",
      "Fit statistic  : Chi-Squared              1.934446e+11     using 9 bins.\n",
      "\n",
      "Test statistic : Chi-Squared              1.934446e+11     using 9 bins.\n",
      " Null hypothesis probability of 0.000000e+00 with 6 degrees of freedom\n",
      " Current data and model not fit yet.\n",
      "                                   Parameters\n",
      "Chi-Squared  |beta|/N    Lvl          1:nH    2:PhoIndex        3:norm\n",
      "116.577      2.96237      -1      0.477753       1.96222   8.41043e-06\n",
      "83.4158      624358       -1      0.102338       2.75113   5.91727e-06\n",
      "44.8647      1.70004e+06  -2      0.362475       3.66244   2.68291e-05\n",
      "6.94519      445393        0      0.266201       3.86328   3.54093e-05\n",
      "     3.65287   3.81020e-05-1      0.271341  \n",
      "5.05252      7479.39      -2      0.280498       3.69452   3.95357e-05\n",
      "5.04828      1269.55      -3      0.287328       3.74048   4.04490e-05\n",
      "5.0482       322.867      -4      0.288084       3.74628   4.05545e-05\n",
      "========================================\n",
      " Variances and Principal Axes\n",
      "                 1        2        3  \n",
      " 1.0821E-11| -0.0002   0.0000   1.0000  \n",
      " 8.6160E-04|  0.9895  -0.1442   0.0002  \n",
      " 6.5122E-01|  0.1442   0.9895   0.0000  \n",
      "----------------------------------------\n",
      "\n",
      "====================================\n",
      "  Covariance Matrix\n",
      "        1           2           3   \n",
      "   1.439e-02   9.282e-02   1.898e-06\n",
      "   9.282e-02   6.377e-01   1.205e-05\n",
      "   1.898e-06   1.205e-05   2.620e-10\n",
      "------------------------------------\n",
      "\n",
      "========================================================================\n",
      "Model TBabs<1>*powerlaw<2> Source No.: 1   Active/On\n",
      "Model Model Component  Parameter  Unit     Value\n",
      " par  comp\n",
      "   1    1   TBabs      nH         10^22    0.288084     +/-  0.119958     \n",
      "   2    2   powerlaw   PhoIndex            3.74628      +/-  0.798554     \n",
      "   3    2   powerlaw   norm                4.05545E-05  +/-  1.61877E-05  \n",
      "________________________________________________________________________\n",
      "\n",
      "\n",
      "Fit statistic  : Chi-Squared                  5.0482     using 9 bins.\n",
      "\n",
      "Test statistic : Chi-Squared                  5.0482     using 9 bins.\n",
      " Null hypothesis probability of 5.3765e-01 with 6 degrees of freedom\n",
      " Model Flux 3.2034e-05 photons (5.0042e-14 ergs/cm^2/s) range (0.20000 - 12.000 keV)\n"
     ]
    }
   ],
   "source": [
    "AllModels.clear()\n",
    "mo = Model(\"tbabs*powerlaw\")\n",
    "Fit.perform()\n",
    "Plot.device = \"/xs\"\n",
    "Plot(\"data resid\")\n",
    "nH_powerlaw = mo.TBabs.nH.values[0]\n",
    "AllModels.calcFlux(\".2 12.0\")"
   ]
  },
  {
   "cell_type": "code",
   "execution_count": 14,
   "id": "4f917501-7614-449b-b313-4ab6c7dd2aee",
   "metadata": {},
   "outputs": [
    {
     "data": {
      "text/plain": [
       "(-0.5, 855.5, 660.5, -0.5)"
      ]
     },
     "execution_count": 14,
     "metadata": {},
     "output_type": "execute_result"
    },
    {
     "data": {
      "image/png": "[encoded data removed]",
      "text/plain": [
       "<Figure size 1200x700 with 1 Axes>"
      ]
     },
     "metadata": {},
     "output_type": "display_data"
    }
   ],
   "source": [
    "img = plt.imread(glob.glob('ObsID*_SRCNUM*_E*_Spectrum_powerlaw.png')[0])\n",
    "plt.imshow(img)\n",
    "plt.axis('off')"
   ]
  },
  {
   "cell_type": "markdown",
   "id": "07cd7e61-426c-4dda-88e4-6921e581d06f",
   "metadata": {},
   "source": [
    "### Black body + Powerlaw model (Second best fit)"
   ]
  },
  {
   "cell_type": "code",
   "execution_count": 12,
   "id": "bc8f029a-9bfb-4f13-b839-89f1695f174a",
   "metadata": {
    "scrolled": true
   },
   "outputs": [
    {
     "name": "stdout",
     "output_type": "stream",
     "text": [
      "\n",
      "========================================================================\n",
      "Model TBabs<1>(bbody<2> + powerlaw<3>) Source No.: 1   Active/On\n",
      "Model Model Component  Parameter  Unit     Value\n",
      " par  comp\n",
      "   1    1   TBabs      nH         10^22    1.00000      +/-  0.0          \n",
      "   2    2   bbody      kT         keV      3.00000      +/-  0.0          \n",
      "   3    2   bbody      norm                1.00000      +/-  0.0          \n",
      "   4    3   powerlaw   PhoIndex            1.00000      +/-  0.0          \n",
      "   5    3   powerlaw   norm                1.00000      +/-  0.0          \n",
      "________________________________________________________________________\n",
      "\n",
      "\n",
      "Fit statistic  : Chi-Squared              6.733040e+11     using 9 bins.\n",
      "\n",
      "Test statistic : Chi-Squared              6.733040e+11     using 9 bins.\n",
      " Null hypothesis probability of 0.000000e+00 with 4 degrees of freedom\n",
      " Current data and model not fit yet.\n",
      "                                   Parameters\n",
      "Chi-Squared  |beta|/N    Lvl          1:nH          2:kT        3:norm    4:PhoIndex        5:norm\n",
      "116.426      44327.9      -2      0.335317       3.08845   1.00755e-05       3.52055   1.38570e-06\n",
      "112.968      465979        1      0.312908       3.08630   1.00923e-05       3.82478   1.72851e-06\n",
      "108.682      535866        1      0.292098       3.08428   1.01080e-05       4.09950   2.06570e-06\n",
      "66.4354      620182        0      0.155012       3.07651   1.01598e-05       5.73536   4.58028e-06\n",
      "56.075       980948        0      0.165400       3.03193   1.03879e-05       5.55374   4.58096e-06\n",
      "40.7112      19981.3      -1      0.190936       2.98010   9.53454e-06       4.58491   8.49682e-06\n",
      "21.0661      465932       -1      0.204824       3.12299   7.73768e-06       3.35655   1.90507e-05\n",
      "6.72389      251829       -2      0.283681       3.79334   5.53765e-06       3.70114   3.51897e-05\n",
      "4.47083      58367.3      -2      0.334217       4.20586   6.63155e-06       4.23873   4.29300e-05\n",
      "4.24694      9807.83      -2      0.371262       4.48222   8.69884e-06       4.48778   4.83498e-05\n",
      "4.1212       6108.25      -2      0.400519       4.65769   1.11879e-05       4.70793   5.26120e-05\n",
      "4.04799      3220.07      -2      0.423459       4.83056   1.35508e-05       4.87583   5.61891e-05\n",
      "4.00333      1967.96      -2      0.441523       4.99685   1.58609e-05       5.00711   5.91570e-05\n",
      "3.9755       1254.47      -2      0.455785       5.15883   1.81419e-05       5.11003   6.16019e-05\n",
      "3.95782      837.118      -2      0.467070       5.31720   2.04145e-05       5.19104   6.36027e-05\n",
      "3.94635      580.775      -2      0.476016       5.47207   2.26896e-05       5.25498   6.52319e-05\n",
      "3.93876      415.175      -2      0.483117       5.62431   2.49809e-05       5.30556   6.65531e-05\n",
      "3.93359      307.547      -2      0.488759       5.77454   2.73013e-05       5.34564   6.76212e-05\n",
      "3.92996      236.157      -2      0.493245       5.92311   2.96625e-05       5.37742   6.84825e-05\n",
      "3.92733      185.757      -2      0.496815       6.06969   3.20643e-05       5.40267   6.91758e-05\n",
      "3.92534      148.934      -2      0.499656       6.21495   3.45173e-05       5.42272   6.97329e-05\n",
      "3.92378      123.579      -2      0.501918       6.35915   3.70335e-05       5.43864   7.01800e-05\n",
      "3.9225       102.067      -2      0.503719       6.50272   3.96172e-05       5.45130   7.05386e-05\n",
      "3.92142      88.9095      -2      0.505153       6.64484   4.22645e-05       5.46136   7.08258e-05\n",
      "3.92047      76.3959      -2      0.506295       6.78639   4.49912e-05       5.46935   7.10559e-05\n",
      "3.91963      65.7185      -2      0.507205       6.92693   4.77901e-05       5.47570   7.12402e-05\n",
      " -2      0.507929       7.06691   5.06701e-05       5.48074   7.13877e-05\n",
      "3.91815      52.4889      -2      0.508505       7.20535   5.36221e-05       5.48475   7.15059e-05\n",
      "3.91748      44.7902      -2      0.508963       7.34418   5.66731e-05       5.48791   7.16004e-05\n",
      "3.91686      42.3433      -2      0.509328       7.48193   5.98089e-05       5.49041   7.16761e-05\n",
      "3.91626      37.5248      -2      0.509618       7.61900   6.30303e-05       5.49240   7.17368e-05\n",
      "3.9157       34.4512      -2      0.509847       7.75576   6.63484e-05       5.49396   7.17855e-05\n",
      "3.91516      32.3676      -2      0.510029       7.89235   6.97718e-05       5.49518   7.18244e-05\n",
      "3.91465      30.0539      -2      0.510174       8.02729   7.32650e-05       5.49615   7.18558e-05\n",
      "3.91416      27.3779      -2      0.510289       8.16245   7.68734e-05       5.49690   7.18810e-05\n",
      "3.91368      24.9844      -2      0.510379       8.29754   8.05901e-05       5.49748   7.19013e-05\n",
      "3.91322      23.6575      -2      0.510450       8.43197   8.44041e-05       5.49793   7.19176e-05\n",
      "3.91279      22.241       -2      0.510506       8.56518   8.83004e-05       5.49828   7.19309e-05\n",
      "3.91237      20.2784      -2      0.510550       8.69799   9.22989e-05       5.49854   7.19417e-05\n",
      "3.91196      18.9159      -2      0.510584       8.83140   9.64272e-05       5.49873   7.19504e-05\n",
      "3.91156      18.9202      -2      0.510610       8.96409   0.000100658       5.49887   7.19574e-05\n",
      "3.91118      17.8208      -2      0.510630       9.09597   0.000104985       5.49897   7.19632e-05\n",
      "3.91081      16.4026      -2      0.510645       9.22879   0.000109460       5.49903   7.19680e-05\n",
      "3.91046      15.8287      -2      0.510657       9.36010   0.000114009       5.49907   7.19719e-05\n",
      "3.91011      15.1874      -2      0.510665       9.49110   0.000118673       5.49910   7.19752e-05\n",
      "3.90978      14.2352      -2      0.510672       9.62170   0.000123445       5.49910   7.19780e-05\n",
      "3.90946      13.5017      -2      0.510676       9.75125   0.000128303       5.49910   7.19804e-05\n",
      "3.90914      13.0281      -2      0.510678       9.88251   0.000133349       5.49907   7.19823e-05\n",
      "3.90884      12.84        -2      0.510679       10.0128   0.000138489       5.49905   7.19839e-05\n",
      "3.90854      12.3163      -2      0.510681       10.1408   0.000143676       5.49903   7.19854e-05\n",
      "3.90826      11.2078      -2      0.510681       10.2699   0.000149024       5.49899   7.19868e-05\n",
      "3.90798      11.1339      -2      0.510680       10.3990   0.000154503       5.49895   7.19879e-05\n",
      "3.90771      11.004       -2      0.510678       10.5286   0.000160141       5.49890   7.19888e-05\n",
      "3.90744      10.3782      -2      0.510676       10.6567   0.000165847       5.49886   7.19896e-05\n",
      "3.90719      10.082       -2      0.510675       10.7842   0.000171660       5.49882   7.19905e-05\n",
      "3.90694      9.82654      -2      0.510672       10.9126   0.000177645       5.49878   7.19912e-05\n",
      "3.90669      9.78833      -2      0.510671       11.0393   0.000183699       5.49874   7.19919e-05\n",
      "3.90646      8.5846       -2      0.510669       11.1663   0.000189892       5.49869   7.19926e-05\n",
      "3.90623      8.30238      -2      0.510666       11.2932   0.000196215       5.49865   7.19932e-05\n",
      "3.906        8.48009      -2      0.510664       11.4192   0.000202642       5.49861   7.19937e-05\n",
      "3.90578      7.8321       -2      0.510661       11.5467   0.000209278       5.49856   7.19942e-05\n",
      "3.90557      7.82426      -2      0.510658       11.6730   0.000215992       5.49852   7.19946e-05\n",
      "3.90536      7.61155      -2      0.510656       11.7986   0.000222819       5.49848   7.19951e-05\n",
      "3.90516      7.2136       -2      0.510653       11.9255   0.000229847       5.49843   7.19955e-05\n",
      "3.90495      7.09013      -2      0.510650       12.0527   0.000237044       5.49839   7.19958e-05\n",
      "3.90476      7.16494      -2      0.510648       12.1782   0.000244294       5.49835   7.19962e-05\n",
      "3.90457      7.07663      -2      0.510644       12.3050   0.000251764       5.49830   7.19965e-05\n",
      "3.90438      6.93911      -2      0.510642       12.4304   0.000259305       5.49827   7.19968e-05\n",
      "3.9042       6.61527      -2      0.510641       12.5538   0.000266874       5.49824   7.19973e-05\n",
      "3.90402      6.21887      -2      0.510639       12.6775   0.000274606       5.49820   7.19978e-05\n",
      "3.90385      6.12865      -2      0.510636       12.8026   0.000282570       5.49816   7.19981e-05\n",
      "3.90368      5.86609      -2      0.510634       12.9275   0.000290670       5.49812   7.19984e-05\n",
      "3.90351      5.96687      -2      0.510631       13.0532   0.000298982       5.49808   7.19986e-05\n",
      "3.90335      5.90588      -2      0.510628       13.1787   0.000307444       5.49804   7.19988e-05\n",
      "3.90319      5.474        -2      0.510626       13.3032   0.000315992       5.49801   7.19990e-05\n",
      "3.90303      5.30497      -2      0.510624       13.4271   0.000324647       5.49798   7.19994e-05\n",
      "3.90288      5.34101      -2      0.510623       13.5487   0.000333308       5.49795   7.19998e-05\n",
      "3.90273      5.19117      -2      0.510620       13.6731   0.000342312       5.49792   7.20001e-05\n",
      "3.90258      5.23568      -2      0.510617       13.7983   0.000351535       5.49788   7.20002e-05\n",
      "3.90243      5.17626      -2      0.510615       13.9221   0.000360829       5.49785   7.20004e-05\n",
      "3.90229      4.85691      -2      0.510613       14.0452   0.000370224       5.49782   7.20007e-05\n",
      "3.90215      4.71191      -2      0.510610       14.1699   0.000379904       5.49778   7.20008e-05\n",
      "3.90201      4.89279      -2      0.510609       14.2930   0.000389633       5.49775   7.20011e-05\n",
      "3.90188      4.42386      -2      0.510606       14.4176   0.000399637       5.49772   7.20012e-05\n",
      "3.90175      4.49089      -2      0.510605       14.5391   0.000409571       5.49770   7.20015e-05\n",
      "3.90162      4.26249      -2      0.510602       14.6635   0.000419890       5.49766   7.20017e-05\n",
      "3.90149      4.44059      -2      0.510601       14.7844   0.000430110       5.49764   7.20020e-05\n",
      "3.90137      4.03431      -2      0.510599       14.9084   0.000440732       5.49761   7.20022e-05\n",
      "3.90125      4.4275       -2      0.510599       15.0271   0.000451090       5.49760   7.20025e-05\n",
      "3.90113      3.9685       -2      0.510597       15.1487   0.000461861       5.49757   7.20028e-05\n",
      "3.90101      3.62737      -2      0.510594       15.2738   0.000473088       5.49753   7.20029e-05\n",
      "3.90089      4.08162      -2      0.510594       15.3917   0.000483887       5.49752   7.20032e-05\n",
      "3.90078      3.52875      -2      0.510592       15.5126   0.000495088       5.49749   7.20035e-05\n",
      "3.90067      3.79348      -2      0.510590       15.6349   0.000506606       5.49746   7.20036e-05\n",
      "3.90056      3.53852      -2      0.510588       15.7578   0.000518347       5.49743   7.20037e-05\n",
      "3.90045      3.70813      -2      0.510587       15.8763   0.000529856       5.49742   7.20039e-05\n",
      "3.90035      3.71394      -2      0.510586       15.9969   0.000541741       5.49740   7.20042e-05\n",
      "3.90024      3.42131      -2      0.510584       16.1191   0.000553960       5.49737   7.20043e-05\n",
      "3.90014      3.39975      -2      0.510582       16.2393   0.000566161       5.49735   7.20044e-05\n",
      "3.90004      3.30824      -2      0.510580       16.3606   0.000578642       5.49732   7.20045e-05\n",
      "3.89993      3.28111      -2      0.510577       16.4849   0.000591618       5.49728   7.20045e-05\n",
      "3.89983      3.35628      -2      0.510576       16.6072   0.000604582       5.49726   7.20045e-05\n",
      "============================================================\n",
      " Variances and Principal Axes\n",
      "                 1        2        3        4        5  \n",
      " 3.9152E-11| -0.0003  -0.0000   0.0068   0.0000   1.0000  \n",
      " 7.1206E-08|  0.0026  -0.0001   1.0000  -0.0006  -0.0068  \n",
      " 1.5940E-03|  0.9907  -0.0000  -0.0026  -0.1359   0.0003  \n",
      " 4.5478E+00|  0.1359   0.0009   0.0002   0.9907   0.0000  \n",
      " 1.3301E+07| -0.0001   1.0000   0.0001  -0.0009  -0.0000  \n",
      "------------------------------------------------------------\n",
      "\n",
      "============================================================\n",
      "  Covariance Matrix\n",
      "        1           2           3           4           5   \n",
      "   2.221e-01  -1.348e+03  -1.414e-01   1.786e+00   3.736e-05\n",
      "  -1.348e+03   1.330e+07   1.397e+03  -1.158e+04  -2.004e-01\n",
      "  -1.414e-01   1.397e+03   1.467e-01  -1.216e+00  -2.102e-05\n",
      "   1.786e+00  -1.158e+04  -1.216e+00   1.455e+01   2.950e-04\n",
      "   3.736e-05  -2.004e-01  -2.102e-05   2.950e-04   6.491e-09\n",
      "------------------------------------------------------------\n",
      "\n",
      "========================================================================\n",
      "Model TBabs<1>(bbody<2> + powerlaw<3>) Source No.: 1   Active/On\n",
      "Model Model Component  Parameter  Unit     Value\n",
      " par  comp\n",
      "   1    1   TBabs      nH         10^22    0.510576     +/-  0.471285     \n",
      "   2    2   bbody      kT         keV      16.6072      +/-  3647.06      \n",
      "   3    2   bbody      norm                6.04582E-04  +/-  0.383027     \n",
      "   4    3   powerlaw   PhoIndex            5.49726      +/-  3.81473      \n",
      "   5    3   powerlaw   norm                7.20045E-05  +/-  8.05645E-05  \n",
      "________________________________________________________________________\n",
      "\n",
      "\n",
      "Fit statistic  : Chi-Squared                  3.8998     using 9 bins.\n",
      "\n",
      "Test statistic : Chi-Squared                  3.8998     using 9 bins.\n",
      " Null hypothesis probability of 4.1973e-01 with 4 degrees of freedom\n",
      " Model Flux 8.6112e-05 photons (7.6947e-13 ergs/cm^2/s) range (0.20000 - 12.000 keV)\n"
     ]
    }
   ],
   "source": [
    "AllModels.clear()\n",
    "mo = Model(\"tbabs*(bbody+powerlaw)\")\n",
    "Fit.perform()\n",
    "Plot.device = \"/xs\"\n",
    "Plot(\"data resid\")\n",
    "nH_bbodypowerlaw = mo.TBabs.nH.values[0]\n",
    "AllModels.calcFlux(\".2 12.0\")"
   ]
  },
  {
   "cell_type": "code",
   "execution_count": 16,
   "id": "ebf3c5c7-6da9-4d40-be22-9d0238cb9323",
   "metadata": {},
   "outputs": [
    {
     "data": {
      "text/plain": [
       "(-0.5, 854.5, 656.5, -0.5)"
      ]
     },
     "execution_count": 16,
     "metadata": {},
     "output_type": "execute_result"
    },
    {
     "data": {
      "image/png": "[encoded data removed]",
      "text/plain": [
       "<Figure size 1200x700 with 1 Axes>"
      ]
     },
     "metadata": {},
     "output_type": "display_data"
    }
   ],
   "source": [
    "img = plt.imread(glob.glob('ObsID*_SRCNUM*_E*_Spectrum_bbodypowerlaw.png')[0])\n",
    "plt.imshow(img)\n",
    "plt.axis('off')"
   ]
  },
  {
   "cell_type": "markdown",
   "id": "77706261-f650-4802-9c2b-6ebd04335915",
   "metadata": {},
   "source": [
    "### Bremss + Powerlaw model (Best fit)"
   ]
  },
  {
   "cell_type": "code",
   "execution_count": 14,
   "id": "bbe3c0b2-ffae-402e-8048-1401057db964",
   "metadata": {
    "scrolled": true
   },
   "outputs": [
    {
     "name": "stdout",
     "output_type": "stream",
     "text": [
      "\n",
      "========================================================================\n",
      "Model TBabs<1>(bremss<2> + powerlaw<3>) Source No.: 1   Active/On\n",
      "Model Model Component  Parameter  Unit     Value\n",
      " par  comp\n",
      "   1    1   TBabs      nH         10^22    1.00000      +/-  0.0          \n",
      "   2    2   bremss     kT         keV      7.00000      +/-  0.0          \n",
      "   3    2   bremss     norm                1.00000      +/-  0.0          \n",
      "   4    3   powerlaw   PhoIndex            1.00000      +/-  0.0          \n",
      "   5    3   powerlaw   norm                1.00000      +/-  0.0          \n",
      "________________________________________________________________________\n",
      "\n",
      "\n",
      "Fit statistic  : Chi-Squared              4.542152e+11     using 9 bins.\n",
      "\n",
      "Test statistic : Chi-Squared              4.542152e+11     using 9 bins.\n",
      " Null hypothesis probability of 0.000000e+00 with 4 degrees of freedom\n",
      " Current data and model not fit yet.\n",
      "                                   Parameters\n",
      "Chi-Squared  |beta|/N    Lvl          1:nH          2:kT        3:norm    4:PhoIndex        5:norm\n",
      "58.9783      14381.8      -1     0.0997991       2.44474   4.77084e-06       1.63079   6.25977e-06\n",
      "46.2523      794117       -1     0.0252795      0.223531   1.15321e-05       2.86528   9.88111e-06\n",
      "16.9709      113923       -2     0.0559787       1.28679   2.96474e-06       1.75834   1.54969e-05\n",
      "9.99837      60072.5      -1     0.0778454      0.504383   8.55085e-06       2.23928   1.60316e-05\n",
      "8.82447      125514       -1      0.109197       1.04332   1.79705e-05       2.40708   1.52670e-05\n",
      "6.58972      96859        -1      0.120560      0.701321   2.12456e-05       2.60831   1.53542e-05\n",
      "5.80434      54579.4      -1      0.134570      0.657477   2.90525e-05       2.66836   1.55004e-05\n",
      "5.4428       17787.7      -1      0.144385      0.609092   3.60045e-05       2.71363   1.54731e-05\n",
      "5.18663      12858.4      -1      0.151716      0.571137   4.29508e-05       2.73150   1.54030e-05\n",
      "4.97708      9078.38      -1      0.157229      0.539409   4.99087e-05       2.72985   1.52979e-05\n",
      "4.8149       6329.01      -1      0.161397      0.511043   5.70712e-05       2.71051   1.51721e-05\n",
      "4.67546      5782.81      -1      0.164815      0.488433   6.44579e-05       2.68345   1.49910e-05\n",
      "4.55452      4264.91      -1      0.167692      0.469932   7.19815e-05       2.65075   1.47524e-05\n",
      "4.44708      3128.91      -1      0.170174      0.454585   7.96274e-05       2.61328   1.44644e-05\n",
      "4.35131      2280.2       -1      0.172381      0.441704   8.73864e-05       2.57161   1.41339e-05\n",
      "4.26344      2314.37      -1      0.174354      0.431854   9.51980e-05       2.52783   1.37547e-05\n",
      "4.18241      1146.44      -1      0.176161      0.423216   0.000103007       2.47948   1.33413e-05\n",
      "4.10589      961.175      -1      0.177867      0.415763   0.000110870       2.42696   1.29018e-05\n",
      "4.03283      929.692      -1      0.179535      0.409334   0.000118789       2.37043   1.24383e-05\n",
      "3.96234      998.376      -1      0.181206      0.403788   0.000126758       2.30981   1.19523e-05\n",
      "3.89359      1116.52      -1      0.182908      0.398977   0.000134784       2.24478   1.14461e-05\n",
      "3.82535      1250.27      -1      0.184697      0.394546   0.000142962       2.17534   1.09312e-05\n",
      "3.75784      1255.71      -1      0.186560      0.390994   0.000151129       2.10044   1.03873e-05\n",
      "3.68994      1519.24      -1      0.188500      0.387864   0.000159351       2.01942   9.82574e-06\n",
      "3.62086      1635.78      -1      0.190544      0.385124   0.000167648       1.93159   9.24895e-06\n",
      "3.54991      1745.8       -1      0.192714      0.382742   0.000176021       1.83623   8.65799e-06\n",
      " -1      0.195024      0.380664   0.000184474       1.73252   8.05585e-06\n",
      "3.39973      1938.05      -1      0.197483      0.378839   0.000193004       1.61974   7.44668e-06\n",
      "3.31947      2002.55      -1      0.200097      0.377228   0.000201601       1.49732   6.83585e-06\n",
      "3.23542      2042.07      -1      0.202863      0.375779   0.000210254       1.36501   6.23074e-06\n",
      "3.14782      2044.13      -1      0.205767      0.374465   0.000218925       1.22293   5.63921e-06\n",
      "3.05732      2019.22      -1      0.208784      0.373246   0.000227571       1.07174   5.07026e-06\n",
      "2.96505      1964.2       -1      0.211877      0.372061   0.000236165      0.912882   4.53392e-06\n",
      "2.87258      1878.87      -1      0.215007      0.370883   0.000244663      0.748448   4.03804e-06\n",
      "2.78166      1796.75      -1      0.218129      0.369681   0.000253029      0.580980   3.58847e-06\n",
      "2.69404      1743.98      -1      0.221203      0.368440   0.000261229      0.413226   3.18800e-06\n",
      "2.61118      1750.22      -1      0.224192      0.367155   0.000269237      0.247811   2.83646e-06\n",
      "2.53413      1837.34      -1      0.227071      0.365829   0.000277034     0.0869783   2.53136e-06\n",
      "2.46346      2023.67      -1      0.229824      0.364462   0.000284619    -0.0675092   2.26873e-06\n",
      "2.39936      2278.34      -1      0.232442      0.363085   0.000291966     -0.214600   2.04341e-06\n",
      "2.34167      2639.45      -1      0.234920      0.361703   0.000299076     -0.353660   1.85037e-06\n",
      "2.29         3030.44      -1      0.237263      0.360322   0.000305960     -0.484472   1.68498e-06\n",
      "2.24387      3453.53      -1      0.239474      0.358961   0.000312615     -0.607117   1.54287e-06\n",
      "2.20277      3897.14      -1      0.241562      0.357623   0.000319046     -0.721897   1.42034e-06\n",
      "2.16612      4309         -1      0.243534      0.356308   0.000325273     -0.829172   1.31430e-06\n",
      "2.13345      4687.23      -1      0.245397      0.355034   0.000331288     -0.929472   1.22205e-06\n",
      "2.10429      5103.82      -1      0.247160      0.353793   0.000337109      -1.02322   1.14142e-06\n",
      "2.07823      5413.83      -1      0.248829      0.352597   0.000342727      -1.11097   1.07056e-06\n",
      "2.0549       5722.26      -1      0.250409      0.351443   0.000348156      -1.19317   1.00800e-06\n",
      "2.05112      6003.77      -2      0.260995      0.344062   0.000384163      -1.75415   5.87072e-07\n",
      "1.94221      314753       -2      0.267576      0.339081   0.000411389      -2.14411   4.48188e-07\n",
      "1.87331      325893       -1      0.268068      0.338739   0.000414379      -2.19746   4.57294e-07\n",
      "1.86519      105485       -1      0.268619      0.338177   0.000416958      -2.22466   4.53633e-07\n",
      "1.86153      60421.7      -1      0.269170      0.337645   0.000419505      -2.24606   4.47773e-07\n",
      "1.85872      50207.5      -1      0.269715      0.337144   0.000421987      -2.26536   4.41680e-07\n",
      "1.85623      48548        -1      0.270246      0.336663   0.000424403      -2.28347   4.35813e-07\n",
      "1.85396      49034        -1      0.270760      0.336204   0.000426743      -2.30065   4.30254e-07\n",
      "1.85186      50067.3      -1      0.271256      0.335759   0.000429018      -2.31699   4.25015e-07\n",
      "1.8499       51261.4      -1      0.271734      0.335330   0.000431228      -2.33256   4.20081e-07\n",
      "1.84809      52450.9      -1      0.272196      0.334918   0.000433367      -2.34740   4.15427e-07\n",
      "1.8464       53532.9      -1      0.272641      0.334520   0.000435440      -2.36155   4.11032e-07\n",
      "1.84483      54728.1      -1      0.273070      0.334137   0.000437449      -2.37507   4.06885e-07\n",
      "1.84336      55834.6      -1      0.273484      0.333767   0.000439399      -2.38797   4.02970e-07\n",
      "1.84199      56867.3      -1      0.273883      0.333411   0.000441288      -2.40030   3.99266e-07\n",
      "1.84071      57841.2      -1      0.274268      0.333067   0.000443119      -2.41209   3.95760e-07\n",
      "1.83951      58751.9      -1      0.274639      0.332735   0.000444895      -2.42336   3.92440e-07\n",
      "1.83839      59609.6      -1      0.274998      0.332415   0.000446616      -2.43415   3.89292e-07\n",
      "1.83734      60398.7      -1      0.275344      0.332104   0.000448291      -2.44449   3.86307e-07\n",
      "1.83636      61136.3      -1      0.275679      0.331806   0.000449910      -2.45439   3.83468e-07\n",
      "1.83544      61702.6      -1      0.276002      0.331516   0.000451484      -2.46388   3.80768e-07\n",
      "1.83457      62399.5      -1      0.276314      0.331237   0.000453008      -2.47298   3.78199e-07\n",
      "1.83376      62982.8      -1      0.276615      0.330969   0.000454483      -2.48172   3.75751e-07\n",
      "1.833        63510.8      -1      0.276906      0.330710   0.000455911      -2.49012   3.73418e-07\n",
      "1.83228      63987.6      -1      0.277187      0.330459   0.000457297      -2.49819   3.71192e-07\n",
      "1.83131      64419         0      0.277220      0.330452   0.000457442      -2.49940   3.72463e-07\n",
      "1.83095      42205.3       0      0.277252      0.330429   0.000457566      -2.49985   3.73197e-07\n",
      "1.83078      30887.9       0      0.277279      0.330402   0.000457689      -2.49994   3.73651e-07\n",
      "1.83068      24881.3       0      0.277304      0.330373   0.000457815      -2.49999   3.73958e-07\n",
      "1.8306       21103.5       0      0.277327      0.330344   0.000457944      -2.50000   3.74170e-07\n",
      "============================================================\n",
      " Variances and Principal Axes\n",
      "                 1        2        3        4        5  \n",
      " 1.4958E-14| -0.0000   0.0000   0.0005  -0.0000   1.0000  \n",
      " 1.6268E-09|  0.0021  -0.0030  -1.0000  -0.0000   0.0005  \n",
      " 7.5832E-04|  0.7131   0.7010  -0.0006   0.0033  -0.0000  \n",
      " 2.9949E-02|  0.7009  -0.7130   0.0037  -0.0181   0.0000  \n",
      " 5.0771E+02| -0.0103   0.0153  -0.0001  -0.9998  -0.0000  \n",
      "------------------------------------------------------------\n",
      "\n",
      "============================================================\n",
      "  Covariance Matrix\n",
      "        1           2           3           4           5   \n",
      "   6.928e-02  -9.474e-02   4.162e-04   5.243e+00   1.698e-06\n",
      "  -9.474e-02   1.342e-01  -5.811e-04  -7.757e+00  -2.508e-06\n",
      "   4.162e-04  -5.811e-04   2.534e-06   3.289e-02   1.064e-08\n",
      "   5.243e+00  -7.757e+00   3.289e-02   5.075e+02   1.631e-04\n",
      "   1.698e-06  -2.508e-06   1.064e-08   1.631e-04   5.243e-11\n",
      "------------------------------------------------------------\n",
      "\n",
      "========================================================================\n",
      "Model TBabs<1>(bremss<2> + powerlaw<3>) Source No.: 1   Active/On\n",
      "Model Model Component  Parameter  Unit     Value\n",
      " par  comp\n",
      "   1    1   TBabs      nH         10^22    0.277327     +/-  0.263209     \n",
      "   2    2   bremss     kT         keV      0.330344     +/-  0.366290     \n",
      "   3    2   bremss     norm                4.57944E-04  +/-  1.59170E-03  \n",
      "   4    3   powerlaw   PhoIndex            -2.50000     +/-  22.5286      \n",
      "   5    3   powerlaw   norm                3.74170E-07  +/-  7.24089E-06  \n",
      "________________________________________________________________________\n",
      "\n",
      "\n",
      "Fit statistic  : Chi-Squared                  1.8306     using 9 bins.\n",
      "\n",
      "Test statistic : Chi-Squared                  1.8306     using 9 bins.\n",
      " Null hypothesis probability of 7.6688e-01 with 4 degrees of freedom\n",
      " Model Flux 0.00066496 photons (9.5684e-12 ergs/cm^2/s) range (0.20000 - 12.000 keV)\n"
     ]
    }
   ],
   "source": [
    "AllModels.clear()\n",
    "mo = Model(\"tbabs*(bremss+powerlaw)\")\n",
    "Fit.perform()\n",
    "Plot.device = \"/xs\"\n",
    "Plot(\"data resid\")\n",
    "nH_bremsspowerlaw = mo.TBabs.nH.values[0]\n",
    "AllModels.calcFlux(\".2 12.0\")"
   ]
  },
  {
   "cell_type": "code",
   "execution_count": 15,
   "id": "3f12230e-9287-4fac-82b7-0fb832ba64d8",
   "metadata": {},
   "outputs": [
    {
     "data": {
      "text/plain": [
       "(-0.5, 856.5, 657.5, -0.5)"
      ]
     },
     "execution_count": 15,
     "metadata": {},
     "output_type": "execute_result"
    },
    {
     "data": {
      "image/png": "[encoded data removed]",
      "text/plain": [
       "<Figure size 1200x700 with 1 Axes>"
      ]
     },
     "metadata": {},
     "output_type": "display_data"
    }
   ],
   "source": [
    "img = plt.imread(glob.glob('ObsID*_SRCNUM*_E*_Spectrum_bremsspowerlaw.png')[0])\n",
    "plt.imshow(img)\n",
    "plt.axis('off')"
   ]
  },
  {
   "cell_type": "markdown",
   "id": "a416c19e-0b48-4a9d-b015-5d6c11af60f8",
   "metadata": {},
   "source": [
    "## Column density nH\n",
    "### 3DNH-tool\n",
    "http://astro.uni-tuebingen.de/nh3d/nhtool\n",
    "\n",
    "**Sky coordinates (°) :** (GAIA)\n",
    "\n",
    "- RA = 53.5942754°\n",
    "- Dec = -28.9023933°\n",
    "\n",
    "53.59 -28.90\n",
    "\n",
    "**Column density :** nH = 3*10^20 cm^-2"
   ]
  },
  {
   "cell_type": "code",
   "execution_count": 18,
   "id": "6c6c4d4a-bddb-4340-ad44-65d9f7bc30c0",
   "metadata": {},
   "outputs": [
    {
     "name": "stdout",
     "output_type": "stream",
     "text": [
      "The different models give a column density of :\n",
      "\n",
      "\u001b[1mbbody\u001b[0m\n",
      "(tbabs) : 6248.491576721242\n",
      "\n",
      "\u001b[1mbremss\u001b[0m\n",
      "(tbabs) : 1.2967325649972686e+21\n",
      "\n",
      "\u001b[1mapec\u001b[0m\n",
      "(tbabs) : 6.103839626408369e+21\n",
      "\n",
      "\u001b[1mpowerlaw (Third best fit)\u001b[0m\n",
      "(tbabs) : 2.8808350214521e+21\n",
      "\n",
      "\u001b[1mbbody+powerlaw (Second best fit)\u001b[0m\n",
      "(tbabs) : 2.8808350214521e+21\n",
      "\n",
      "\u001b[1mbremss+powerlaw (Best fit)\u001b[0m\n",
      "(tbabs) : 2.8808350214521e+21\n"
     ]
    }
   ],
   "source": [
    "print(\"The different models give a column density of :\")\n",
    "print()\n",
    "print(color.BOLD+\"bbody\"+color.END)\n",
    "print(f\"(tbabs) : {nH_bbody*10**22}\")\n",
    "print()\n",
    "print(color.BOLD+\"bremss\"+color.END)\n",
    "print(f\"(tbabs) : {nH_bremss*10**22}\")\n",
    "print()\n",
    "print(color.BOLD+\"apec\"+color.END)\n",
    "print(f\"(tbabs) : {nH_apec*10**22}\")\n",
    "print()\n",
    "print(color.BOLD+\"powerlaw (Third best fit)\"+color.END)\n",
    "print(f\"(tbabs) : {nH_powerlaw*10**22}\")\n",
    "print()\n",
    "print(color.BOLD+\"bbody+powerlaw (Second best fit)\"+color.END)\n",
    "print(f\"(tbabs) : {nH_powerlaw*10**22}\")\n",
    "print()\n",
    "print(color.BOLD+\"bremss+powerlaw (Best fit)\"+color.END)\n",
    "print(f\"(tbabs) : {nH_powerlaw*10**22}\")"
   ]
  },
  {
   "cell_type": "markdown",
   "id": "1973f13c-7580-446c-b7fe-bf273fd37c5d",
   "metadata": {},
   "source": [
    "## Flux\n",
    "### X-ray flux\n",
    "- X-ray flux of the best-fitting model ``Bremss + Powerlaw`` with Chi-squared = 1.8306 using 9 bins: **9.5684e-12 ergs/cm^2/s**.\n",
    "- X-ray flux of the second best-fitting model ``Black body + Powerlaw`` with Chi-squared = 3.8998 using 9 bins: **7.6947e-13 ergs/cm^2/s**.\n",
    "- X-ray flux of the third best-fitting model ``Powerlaw`` with Chi-squared = 5.0482 using 9 bins: **5.0042e-14 ergs/cm^2/s**.\n",
    "- X-ray flux of the fourth best-fitting model ``Bremss`` with Chi-squared = 5.1279 using 9 bins: **4.6027e-14 ergs/cm^2/s**."
   ]
  },
  {
   "cell_type": "code",
   "execution_count": 2,
   "id": "4e93ef39-9046-44fe-a12f-a84de18a36e6",
   "metadata": {},
   "outputs": [
    {
     "name": "stdout",
     "output_type": "stream",
     "text": [
      "\u001b[1mX-ray flux : \u001b[0m\n",
      "Bremss + Powerlaw : F_x-ray = 9.5684e-12 ergs/cm^2/s\n",
      "Black body + Powerlaw : F_x-ray = 7.6947e-13 ergs/cm^2/s\n",
      "Powerlaw : F_x-ray = 5.0042e-14 ergs/cm^2/s\n"
     ]
    }
   ],
   "source": [
    "Flux_bp = 9.5684e-12 # ergs/cm^2/s\n",
    "Flux_bbp = 7.6947e-13 # ergs/cm^2/s\n",
    "Flux_pow = 5.0042e-14 # ergs/cm^2/s\n",
    "print(color.BOLD+\"X-ray flux : \"+color.END)\n",
    "print(f\"Bremss + Powerlaw : F_x-ray = {Flux_bp} ergs/cm^2/s\")\n",
    "print(f\"Black body + Powerlaw : F_x-ray = {Flux_bbp} ergs/cm^2/s\")\n",
    "print(f\"Powerlaw : F_x-ray = {Flux_pow} ergs/cm^2/s\")"
   ]
  },
  {
   "cell_type": "markdown",
   "id": "c35f60c4-d6f3-4fa7-812a-b34bed342910",
   "metadata": {},
   "source": [
    "### Optical flux"
   ]
  },
  {
   "cell_type": "code",
   "execution_count": 20,
   "id": "f5fff1c1-b003-4884-9465-403837f11f4e",
   "metadata": {},
   "outputs": [
    {
     "name": "stdout",
     "output_type": "stream",
     "text": [
      "\u001b[1mOptical flux : \u001b[0mF_optical = 1.390430542671063e-13 ergs/cm^2/s\n"
     ]
    }
   ],
   "source": [
    "def F_optical(mag):\n",
    "    F0 = 1.05*10**(-5) # GAIA zero point magnitude\n",
    "    return F0*10**(-0.4*mag)\n",
    "    \n",
    "G = 19.6951\n",
    "\n",
    "F = F_optical(G)\n",
    "\n",
    "print(color.BOLD+\"Optical flux : \"+color.END+f\"F_optical = {F} ergs/cm^2/s\")"
   ]
  },
  {
   "cell_type": "markdown",
   "id": "e21356f8-c6cb-4ec5-97ac-514fca991518",
   "metadata": {},
   "source": [
    "### X-ray flux / Optical flux ratio"
   ]
  },
  {
   "cell_type": "code",
   "execution_count": 21,
   "id": "e5b46d21-be5f-401c-ad14-81bd23150bfc",
   "metadata": {},
   "outputs": [
    {
     "name": "stdout",
     "output_type": "stream",
     "text": [
      "\u001b[1mX-ray flux / Optical flux ratio : \u001b[0m\n",
      "Bremss + Powerlaw : F_x-ray/F_optical = 68.81609477319728 ergs/cm^2/s\n",
      "Black body + Powerlaw : F_x-ray/F_optical = 5.534041265533642 ergs/cm^2/s\n",
      "Powerlaw : F_x-ray/F_optical = 0.3599029111074305 ergs/cm^2/s\n"
     ]
    }
   ],
   "source": [
    "print(color.BOLD+\"X-ray flux / Optical flux ratio : \"+color.END)\n",
    "print(f\"Bremss + Powerlaw : F_x-ray/F_optical = {Flux_bp/F} ergs/cm^2/s\")\n",
    "print(f\"Black body + Powerlaw : F_x-ray/F_optical = {Flux_bbp/F} ergs/cm^2/s\")\n",
    "print(f\"Powerlaw : F_x-ray/F_optical = {Flux_pow/F} ergs/cm^2/s\")"
   ]
  },
  {
   "cell_type": "markdown",
   "id": "c8c6cc3c-5807-4c13-a57f-a4ce5da37435",
   "metadata": {},
   "source": [
    "## Luminosity"
   ]
  },
  {
   "cell_type": "code",
   "execution_count": 3,
   "id": "d586c000-4d0d-466d-b61a-9dae79785426",
   "metadata": {},
   "outputs": [
    {
     "name": "stdout",
     "output_type": "stream",
     "text": [
      "\u001b[1m(GAIA)\u001b[0m\n",
      "Distance : d = 1.0492009520571234e+21 cm\n",
      "\u001b[1mLuminosity : \u001b[0m\n",
      "Bremss + Powerlaw : L_x-ray = 1.3236298066369874e+32 ergs/cm^2/s\n",
      "Black body + Powerlaw : L_x-ray = 1.0644344167394367e+31 ergs/cm^2/s\n",
      "Powerlaw : L_x-ray = 6.922482628624234e+29 ergs/cm^2/s\n"
     ]
    }
   ],
   "source": [
    "\"\"\"GAIA\"\"\"\n",
    "\n",
    "P_mas = 2.941 # Parallaxe en mas\n",
    "d_kpc = 1/P_mas # Distance en kpc\n",
    "d_cm = d_kpc*3.0857*10**21 # Distance en cm, avec 1 pc = 3.0857*10^18 cm\n",
    "\n",
    "# La source est supposée sphérique pour le calcul de la luminosité : L = 4*pi*F*D^2\n",
    "Luminosity_bp = 4*np.pi*Flux_bp*(d_cm)**2 # erg/s\n",
    "Luminosity_bbp = 4*np.pi*Flux_bbp*(d_cm)**2 # erg/s\n",
    "Luminosity_pow = 4*np.pi*Flux_pow*(d_cm)**2 # erg/s\n",
    "\n",
    "print(color.BOLD+\"(GAIA)\"+color.END)\n",
    "print(f\"Distance : d = {d_cm} cm\")\n",
    "print(color.BOLD+\"Luminosity : \"+color.END)\n",
    "print(f\"Bremss + Powerlaw : L_x-ray = {Luminosity_bp} ergs/cm^2/s\")\n",
    "print(f\"Black body + Powerlaw : L_x-ray = {Luminosity_bbp} ergs/cm^2/s\")\n",
    "print(f\"Powerlaw : L_x-ray = {Luminosity_pow} ergs/cm^2/s\")"
   ]
  }
 ],
 "metadata": {
  "kernelspec": {
   "display_name": "Python 3 (ipykernel)",
   "language": "python",
   "name": "python3"
  },
  "language_info": {
   "codemirror_mode": {
    "name": "ipython",
    "version": 3
   },
   "file_extension": ".py",
   "mimetype": "text/x-python",
   "name": "python",
   "nbconvert_exporter": "python",
   "pygments_lexer": "ipython3",
   "version": "3.10.12"
  }
 },
 "nbformat": 4,
 "nbformat_minor": 5
}
