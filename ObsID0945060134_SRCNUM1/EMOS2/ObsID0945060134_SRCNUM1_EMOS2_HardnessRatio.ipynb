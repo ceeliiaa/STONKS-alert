{
 "cells": [
  {
   "cell_type": "markdown",
   "id": "875ef3d0-8dce-4ca6-a4e4-89fa8b3e9e5d",
   "metadata": {},
   "source": [
    "# ObsID : 0945060134, SRCNUM : 1, Instru : EMOS2\n",
    "Not on Simbad"
   ]
  },
  {
   "cell_type": "code",
   "execution_count": 1,
   "id": "c347f3de-6d6a-4d9a-ae04-daaa414cbd4b",
   "metadata": {},
   "outputs": [],
   "source": [
    "import numpy as np\n",
    "import matplotlib.pyplot as plt\n",
    "from scipy.optimize import curve_fit\n",
    "import glob\n",
    "from astropy.io import fits\n",
    "\n",
    "class color:\n",
    "   PURPLE = '\\033[95m'\n",
    "   CYAN = '\\033[96m'\n",
    "   DARKCYAN = '\\033[36m'\n",
    "   BLUE = '\\033[94m'\n",
    "   GREEN = '\\033[92m'\n",
    "   YELLOW = '\\033[93m'\n",
    "   RED = '\\033[91m'\n",
    "   BOLD = '\\033[1m'\n",
    "   UNDERLINE = '\\033[4m'\n",
    "   END = '\\033[0m'\n",
    "\n",
    "plt.rcParams['figure.figsize'] = [10,5]"
   ]
  },
  {
   "cell_type": "markdown",
   "id": "f85dbfee-1950-4be1-8200-3d427f187abe",
   "metadata": {},
   "source": [
    "## Events list"
   ]
  },
  {
   "cell_type": "code",
   "execution_count": 2,
   "id": "8b2c1e53-9b54-465d-b1fb-f0a5cd69023e",
   "metadata": {},
   "outputs": [
    {
     "name": "stdout",
     "output_type": "stream",
     "text": [
      "Filename: ObsID0945060134_SRCNUM1_EMOS2_source_events.fits\n",
      "No.    Name      Ver    Type      Cards   Dimensions   Format\n",
      "  0  PRIMARY       1 PrimaryHDU     161   ()      \n",
      "  1  EVENTS        1 BinTableHDU    228   10R x 12C   [D, I, I, I, I, J, J, I, I, J, B, B]   \n",
      "  2  OFFSETS       1 BinTableHDU     79   58R x 4C   [I, I, I, B]   \n",
      "  3  BADPIX01      1 BinTableHDU     75   634R x 5C   [I, I, I, I, I]   \n",
      "  4  BADPIX02      1 BinTableHDU     75   621R x 5C   [I, I, I, I, I]   \n",
      "  5  BADPIX03      1 BinTableHDU     75   612R x 5C   [I, I, I, I, I]   \n",
      "  6  BADPIX04      1 BinTableHDU     75   620R x 5C   [I, I, I, I, I]   \n",
      "  7  BADPIX05      1 BinTableHDU     75   1198R x 5C   [I, I, I, I, I]   \n",
      "  8  BADPIX06      1 BinTableHDU     75   618R x 5C   [I, I, I, I, I]   \n",
      "  9  EXPOSU07      1 BinTableHDU    153   3362R x 3C   [D, E, E]   \n",
      " 10  BADPIX07      1 BinTableHDU     75   622R x 5C   [I, I, I, I, I]   \n",
      " 11  CALINDEX      1 BinTableHDU     45   127R x 14C   [4A, 6A, 32A, I, 19A, 19A, 256A, 19A, J, 19A, 32A, 256A, 32A, 64A]   \n",
      " 12  STDGTI01      1 BinTableHDU     66   1R x 2C   [D, D]   \n",
      " 13  STDGTI02      1 BinTableHDU     66   1R x 2C   [D, D]   \n",
      " 14  STDGTI03      1 BinTableHDU     66   1R x 2C   [D, D]   \n",
      " 15  STDGTI04      1 BinTableHDU     66   1R x 2C   [D, D]   \n",
      " 16  STDGTI05      1 BinTableHDU     66   1R x 2C   [D, D]   \n",
      " 17  STDGTI06      1 BinTableHDU     66   1R x 2C   [D, D]   \n",
      " 18  STDGTI07      1 BinTableHDU     66   1R x 2C   [D, D]   \n",
      " 19  REG00105      1 BinTableHDU     24   1R x 5C   [16A, E, E, E, B]   \n"
     ]
    }
   ],
   "source": [
    "evt_names = glob.glob(\"*source_events.fits\")\n",
    "hdul = fits.open(evt_names[0])\n",
    "hdul.info()"
   ]
  },
  {
   "cell_type": "code",
   "execution_count": 3,
   "id": "e8b69d86-a033-49b4-b189-b2c73b2b21e3",
   "metadata": {},
   "outputs": [
    {
     "name": "stdout",
     "output_type": "stream",
     "text": [
      "ColDefs(\n",
      "    name = 'TIME'; format = 'D'; unit = 's'\n",
      "    name = 'RAWX'; format = 'I'; unit = 'PIXELS'\n",
      "    name = 'RAWY'; format = 'I'; unit = 'PIXELS'\n",
      "    name = 'DETX'; format = 'I'; unit = 'pixel'; coord_type = 'DETX_ANG'; coord_unit = 'deg'; coord_ref_point = 0; coord_ref_value = 0.0; coord_inc = 1.38888888888889e-05\n",
      "    name = 'DETY'; format = 'I'; unit = 'pixel'; coord_type = 'DETY_ANG'; coord_unit = 'deg'; coord_ref_point = 0; coord_ref_value = 0.0; coord_inc = 1.38888888888889e-05\n",
      "    name = 'X'; format = 'J'; unit = 'pixel'; null = -99999999; coord_type = 'RA---TAN'; coord_unit = 'deg'; coord_ref_point = 25921; coord_ref_value = 53.5004583333333; coord_inc = -1.38888888888889e-05\n",
      "    name = 'Y'; format = 'J'; unit = 'pixel'; null = -99999999; coord_type = 'DEC--TAN'; coord_unit = 'deg'; coord_ref_point = 25921; coord_ref_value = -28.794; coord_inc = 1.38888888888889e-05\n",
      "    name = 'PHA'; format = 'I'; unit = 'CHAN'\n",
      "    name = 'PI'; format = 'I'; unit = 'CHAN'\n",
      "    name = 'FLAG'; format = 'J'\n",
      "    name = 'PATTERN'; format = 'B'\n",
      "    name = 'CCDNR'; format = 'B'\n",
      ")\n"
     ]
    }
   ],
   "source": [
    "events = hdul[1].columns\n",
    "print(events)"
   ]
  },
  {
   "cell_type": "code",
   "execution_count": 4,
   "id": "a47dc995-3682-4e87-a1ca-df9f54c693a8",
   "metadata": {},
   "outputs": [
    {
     "name": "stdout",
     "output_type": "stream",
     "text": [
      "[ 6951 13938  4571  2398 10225   651  4220   375  4264  2036]\n"
     ]
    }
   ],
   "source": [
    "PI = hdul[1].data.field('PI')\n",
    "print(PI)"
   ]
  },
  {
   "cell_type": "markdown",
   "id": "4c83dc88-9003-44db-a712-8a7969575ae2",
   "metadata": {},
   "source": [
    "## Hardness ratio\n",
    "https://heasarc.gsfc.nasa.gov/w3browse/xmm-newton/xmmssc.html"
   ]
  },
  {
   "cell_type": "code",
   "execution_count": 5,
   "id": "aa571950-01df-4f9a-b676-c4944903988b",
   "metadata": {},
   "outputs": [],
   "source": [
    "band1 = np.sum((PI >= 200) & (PI < 5000)) # Soft\n",
    "band2 = np.sum((PI >= 500) & (PI < 1000)) # Soft\n",
    "band3 = np.sum((PI >= 1000) & (PI < 2000)) # Soft\n",
    "band4 = np.sum((PI >= 2000) & (PI <= 4500)) # Hard\n",
    "band5 = np.sum((PI >= 4500) & (PI <= 12000)) # Hard"
   ]
  },
  {
   "cell_type": "code",
   "execution_count": 6,
   "id": "d882854a-10df-437d-89c0-3993186e845f",
   "metadata": {},
   "outputs": [],
   "source": [
    "HR1 = (band2 - band1) / (band2 + band1) if (band2 + band1) != 0 else np.nan\n",
    "HR2 = (band3 - band2) / (band3 + band2) if (band3 + band2) != 0 else np.nan\n",
    "HR3 = (band4 - band3) / (band4 + band3) if (band4 + band3) != 0 else np.nan\n",
    "HR4 = (band5 - band4) / (band5 + band4) if (band5 + band4) != 0 else np.nan"
   ]
  },
  {
   "cell_type": "code",
   "execution_count": 7,
   "id": "896b35bc-c3c2-4cc7-908a-4805b4ad284e",
   "metadata": {},
   "outputs": [
    {
     "name": "stdout",
     "output_type": "stream",
     "text": [
      "\u001b[1mHardness ratio :\u001b[0m\n",
      "Between counts in the 0.5-1.0 keV and the 0.2-0.5 keV bands : HR1 = -0.75\n",
      "Between counts in the 0.5-1.0 keV and the 1.0-2.0 keV bands : HR2 = -1.0\n",
      "Between counts in the 2.0-4.5 keV and the 1.0-2.0 keV bands : HR3 = 1.0\n",
      "Between counts in the 4.5-12.0 keV and the 2.0-4.5 keV bands : HR4 = -0.14285714285714285\n"
     ]
    }
   ],
   "source": [
    "print(color.BOLD +'Hardness ratio :'+ color.END)\n",
    "print(f'Between counts in the 0.5-1.0 keV and the 0.2-0.5 keV bands : HR1 = {HR1}') \n",
    "print(f'Between counts in the 0.5-1.0 keV and the 1.0-2.0 keV bands : HR2 = {HR2}') \n",
    "print(f'Between counts in the 2.0-4.5 keV and the 1.0-2.0 keV bands : HR3 = {HR3}') \n",
    "print(f'Between counts in the 4.5-12.0 keV and the 2.0-4.5 keV bands : HR4 = {HR4}') "
   ]
  }
 ],
 "metadata": {
  "kernelspec": {
   "display_name": "Python 3 (ipykernel)",
   "language": "python",
   "name": "python3"
  },
  "language_info": {
   "codemirror_mode": {
    "name": "ipython",
    "version": 3
   },
   "file_extension": ".py",
   "mimetype": "text/x-python",
   "name": "python",
   "nbconvert_exporter": "python",
   "pygments_lexer": "ipython3",
   "version": "3.10.12"
  }
 },
 "nbformat": 4,
 "nbformat_minor": 5
}
