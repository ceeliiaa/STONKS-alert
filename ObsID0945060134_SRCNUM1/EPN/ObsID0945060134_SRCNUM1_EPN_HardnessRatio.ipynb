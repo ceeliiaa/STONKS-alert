{
 "cells": [
  {
   "cell_type": "markdown",
   "id": "875ef3d0-8dce-4ca6-a4e4-89fa8b3e9e5d",
   "metadata": {},
   "source": [
    "# ObsID : 0945060134, SRCNUM : 1, Instru : EPN\n",
    "Not on Simbad"
   ]
  },
  {
   "cell_type": "code",
   "execution_count": 2,
   "id": "c347f3de-6d6a-4d9a-ae04-daaa414cbd4b",
   "metadata": {},
   "outputs": [],
   "source": [
    "import numpy as np\n",
    "import matplotlib.pyplot as plt\n",
    "from scipy.optimize import curve_fit\n",
    "import glob\n",
    "from astropy.io import fits\n",
    "\n",
    "class color:\n",
    "   PURPLE = '\\033[95m'\n",
    "   CYAN = '\\033[96m'\n",
    "   DARKCYAN = '\\033[36m'\n",
    "   BLUE = '\\033[94m'\n",
    "   GREEN = '\\033[92m'\n",
    "   YELLOW = '\\033[93m'\n",
    "   RED = '\\033[91m'\n",
    "   BOLD = '\\033[1m'\n",
    "   UNDERLINE = '\\033[4m'\n",
    "   END = '\\033[0m'\n",
    "\n",
    "plt.rcParams['figure.figsize'] = [10,5]"
   ]
  },
  {
   "cell_type": "markdown",
   "id": "f85dbfee-1950-4be1-8200-3d427f187abe",
   "metadata": {},
   "source": [
    "## Events list"
   ]
  },
  {
   "cell_type": "code",
   "execution_count": 7,
   "id": "8b2c1e53-9b54-465d-b1fb-f0a5cd69023e",
   "metadata": {},
   "outputs": [
    {
     "name": "stdout",
     "output_type": "stream",
     "text": [
      "Filename: ObsID0945060134_SRCNUM1_EPN_source_events.fits\n",
      "No.    Name      Ver    Type      Cards   Dimensions   Format\n",
      "  0  PRIMARY       1 PrimaryHDU     626   ()      \n",
      "  1  EVENTS        1 BinTableHDU    304   180R x 15C   [D, I, I, I, I, J, J, I, I, J, B, I, B, B, D]   \n",
      "  2  OFFSETS       1 BinTableHDU    154   14R x 3C   [I, I, B]   \n",
      "  3  BADPIX01      1 BinTableHDU    150   74R x 5C   [I, I, I, I, I]   \n",
      "  4  DLIMAP01      1 BinTableHDU    341   200R x 3C   [J, J, E]   \n",
      "  5  HKAUX01       1 BinTableHDU    338   57817R x 2C   [D, E]   \n",
      "  6  BADPIX02      1 BinTableHDU    150   68R x 5C   [I, I, I, I, I]   \n",
      "  7  DLIMAP02      1 BinTableHDU    341   200R x 3C   [J, J, E]   \n",
      "  8  HKAUX02       1 BinTableHDU    338   57817R x 2C   [D, E]   \n",
      "  9  BADPIX03      1 BinTableHDU    150   65R x 5C   [I, I, I, I, I]   \n",
      " 10  DLIMAP03      1 BinTableHDU    341   200R x 3C   [J, J, E]   \n",
      " 11  HKAUX03       1 BinTableHDU    338   57817R x 2C   [D, E]   \n",
      " 12  BADPIX04      1 BinTableHDU    150   64R x 5C   [I, I, I, I, I]   \n",
      " 13  DLIMAP04      1 BinTableHDU    341   200R x 3C   [J, J, E]   \n",
      " 14  HKAUX04       1 BinTableHDU    338   58074R x 2C   [D, E]   \n",
      " 15  EXPOSU05      1 BinTableHDU    374   119235R x 2C   [D, E]   \n",
      " 16  BADPIX05      1 BinTableHDU    150   71R x 5C   [I, I, I, I, I]   \n",
      " 17  DLIMAP05      1 BinTableHDU    341   200R x 3C   [J, J, E]   \n",
      " 18  HKAUX05       1 BinTableHDU    338   58074R x 2C   [D, E]   \n",
      " 19  BADPIX06      1 BinTableHDU    150   67R x 5C   [I, I, I, I, I]   \n",
      " 20  DLIMAP06      1 BinTableHDU    341   200R x 3C   [J, J, E]   \n",
      " 21  HKAUX06       1 BinTableHDU    338   58074R x 2C   [D, E]   \n",
      " 22  BADPIX07      1 BinTableHDU    150   70R x 5C   [I, I, I, I, I]   \n",
      " 23  DLIMAP07      1 BinTableHDU    341   200R x 3C   [J, J, E]   \n",
      " 24  HKAUX07       1 BinTableHDU    338   57527R x 2C   [D, E]   \n",
      " 25  BADPIX08      1 BinTableHDU    150   76R x 5C   [I, I, I, I, I]   \n",
      " 26  DLIMAP08      1 BinTableHDU    341   200R x 3C   [J, J, E]   \n",
      " 27  HKAUX08       1 BinTableHDU    338   57527R x 2C   [D, E]   \n",
      " 28  BADPIX09      1 BinTableHDU    150   75R x 5C   [I, I, I, I, I]   \n",
      " 29  DLIMAP09      1 BinTableHDU    341   200R x 3C   [J, J, E]   \n",
      " 30  HKAUX09       1 BinTableHDU    338   57527R x 2C   [D, E]   \n",
      " 31  BADPIX10      1 BinTableHDU    150   84R x 5C   [I, I, I, I, I]   \n",
      " 32  DLIMAP10      1 BinTableHDU    341   200R x 3C   [J, J, E]   \n",
      " 33  HKAUX10       1 BinTableHDU    338   57057R x 2C   [D, E]   \n",
      " 34  BADPIX11      1 BinTableHDU    150   79R x 5C   [I, I, I, I, I]   \n",
      " 35  DLIMAP11      1 BinTableHDU    341   200R x 3C   [J, J, E]   \n",
      " 36  HKAUX11       1 BinTableHDU    338   57057R x 2C   [D, E]   \n",
      " 37  BADPIX12      1 BinTableHDU    150   69R x 5C   [I, I, I, I, I]   \n",
      " 38  DLIMAP12      1 BinTableHDU    341   200R x 3C   [J, J, E]   \n",
      " 39  HKAUX12       1 BinTableHDU    338   57057R x 2C   [D, E]   \n",
      " 40  CALINDEX      1 BinTableHDU     45   127R x 14C   [4A, 6A, 32A, I, 19A, 19A, 256A, 19A, J, 19A, 32A, 256A, 32A, 64A]   \n",
      " 41  STDGTI01      1 BinTableHDU    227   1R x 2C   [D, D]   \n",
      " 42  STDGTI02      1 BinTableHDU    227   1R x 2C   [D, D]   \n",
      " 43  STDGTI03      1 BinTableHDU    227   1R x 2C   [D, D]   \n",
      " 44  STDGTI04      1 BinTableHDU    227   1R x 2C   [D, D]   \n",
      " 45  STDGTI05      1 BinTableHDU    227   1R x 2C   [D, D]   \n",
      " 46  STDGTI06      1 BinTableHDU    227   1R x 2C   [D, D]   \n",
      " 47  STDGTI07      1 BinTableHDU    227   1R x 2C   [D, D]   \n",
      " 48  STDGTI08      1 BinTableHDU    227   1R x 2C   [D, D]   \n",
      " 49  STDGTI09      1 BinTableHDU    227   1R x 2C   [D, D]   \n",
      " 50  STDGTI10      1 BinTableHDU    227   1R x 2C   [D, D]   \n",
      " 51  STDGTI11      1 BinTableHDU    227   1R x 2C   [D, D]   \n",
      " 52  STDGTI12      1 BinTableHDU    227   1R x 2C   [D, D]   \n",
      " 53  REG00105      1 BinTableHDU     24   1R x 5C   [16A, E, E, E, B]   \n"
     ]
    }
   ],
   "source": [
    "evt_names = glob.glob(\"*source_events.fits\")\n",
    "hdul = fits.open(evt_names[0])\n",
    "hdul.info()"
   ]
  },
  {
   "cell_type": "code",
   "execution_count": 8,
   "id": "e8b69d86-a033-49b4-b189-b2c73b2b21e3",
   "metadata": {},
   "outputs": [
    {
     "name": "stdout",
     "output_type": "stream",
     "text": [
      "ColDefs(\n",
      "    name = 'TIME'; format = 'D'; unit = 's'\n",
      "    name = 'RAWX'; format = 'I'; unit = 'pixel'\n",
      "    name = 'RAWY'; format = 'I'; unit = 'pixel'\n",
      "    name = 'DETX'; format = 'I'; unit = '0.05 arcsec'; coord_ref_point = 0; coord_inc = 1.38888888888889e-05\n",
      "    name = 'DETY'; format = 'I'; unit = '0.05 arcsec'; coord_ref_point = 0; coord_inc = 1.38888888888889e-05\n",
      "    name = 'X'; format = 'J'; unit = '0.05 arcsec'; null = -99999999; coord_type = 'RA---TAN'; coord_unit = 'deg'; coord_ref_point = 25921; coord_ref_value = 53.5004583333333; coord_inc = -1.38888888888889e-05\n",
      "    name = 'Y'; format = 'J'; unit = '0.05 arcsec'; null = -99999999; coord_type = 'DEC--TAN'; coord_unit = 'deg'; coord_ref_point = 25921; coord_ref_value = -28.794; coord_inc = 1.38888888888889e-05\n",
      "    name = 'PHA'; format = 'I'; unit = 'channel'\n",
      "    name = 'PI'; format = 'I'; unit = 'eV'; null = -32768\n",
      "    name = 'FLAG'; format = 'J'\n",
      "    name = 'PATTERN'; format = 'B'; null = 13\n",
      "    name = 'PAT_ID'; format = 'I'; null = 32767\n",
      "    name = 'PAT_SEQ'; format = 'B'; null = 255\n",
      "    name = 'CCDNR'; format = 'B'\n",
      "    name = 'TIME_RAW'; format = 'D'; unit = 's'\n",
      ")\n"
     ]
    }
   ],
   "source": [
    "events = hdul[1].columns\n",
    "print(events)"
   ]
  },
  {
   "cell_type": "code",
   "execution_count": 10,
   "id": "a47dc995-3682-4e87-a1ca-df9f54c693a8",
   "metadata": {},
   "outputs": [
    {
     "name": "stdout",
     "output_type": "stream",
     "text": [
      "[ 1208 14827   241   171  8172  1727  7994  2660  7384   633  2411   229\n",
      "   153   155  8476   343  1735   635   196   249   233   274   256  7206\n",
      " 12004   355 19350  8110   235   173   196   243   315   350   207  4426\n",
      "  1653   345  3889   958  1540   198  9796 17721  8831   160   286   189\n",
      "  7354  1706 14652   229   225   178   157  9976   162  7509 11615   216\n",
      "   241  3650  1252   295   359   179   160  8691 10250   380   300  1460\n",
      "  3068  5098 13281   999  9521  2471  1775  5847   684 12659  2836  8380\n",
      "  4311 12345  5610   300  2942  5431 12032  2069  9791   837  3159  2318\n",
      "   356  7564  4452  4060  6945  4574  5473   388  6096  1373  6761 12211\n",
      "  2886  3269  6876  2192   756  6043   602  7706   351   425  1023  2157\n",
      "  1442   990  1003  2909  8784   730  3783   836   224  2698   224  6815\n",
      "  4197   499  6441  2416  4071  3664  1819  1478   536  8066  1817  6773\n",
      "  1311  3798   563   612   734   856  2840  1383  1588   888   411  2165\n",
      "   162  2077  1313  3982  7927  9414  2192  1002  2977 11289   159   930\n",
      " 10005   151   250   412   221  1004  5799  8649   231 13799 14596 10253]\n"
     ]
    }
   ],
   "source": [
    "PI = hdul[1].data.field('PI')\n",
    "print(PI)"
   ]
  },
  {
   "cell_type": "markdown",
   "id": "4c83dc88-9003-44db-a712-8a7969575ae2",
   "metadata": {},
   "source": [
    "## Hardness ratio\n",
    "https://heasarc.gsfc.nasa.gov/w3browse/xmm-newton/xmmssc.html"
   ]
  },
  {
   "cell_type": "code",
   "execution_count": 12,
   "id": "aa571950-01df-4f9a-b676-c4944903988b",
   "metadata": {},
   "outputs": [],
   "source": [
    "band1 = np.sum((PI >= 200) & (PI < 5000)) # Soft\n",
    "band2 = np.sum((PI >= 500) & (PI < 1000)) # Soft\n",
    "band3 = np.sum((PI >= 1000) & (PI < 2000)) # Soft\n",
    "band4 = np.sum((PI >= 2000) & (PI <= 4500)) # Hard\n",
    "band5 = np.sum((PI >= 4500) & (PI <= 12000)) # Hard"
   ]
  },
  {
   "cell_type": "code",
   "execution_count": 13,
   "id": "d882854a-10df-437d-89c0-3993186e845f",
   "metadata": {},
   "outputs": [],
   "source": [
    "HR1 = (band2 - band1) / (band2 + band1) if (band2 + band1) != 0 else np.nan\n",
    "HR2 = (band3 - band2) / (band3 + band2) if (band3 + band2) != 0 else np.nan\n",
    "HR3 = (band4 - band3) / (band4 + band3) if (band4 + band3) != 0 else np.nan\n",
    "HR4 = (band5 - band4) / (band5 + band4) if (band5 + band4) != 0 else np.nan"
   ]
  },
  {
   "cell_type": "code",
   "execution_count": 19,
   "id": "896b35bc-c3c2-4cc7-908a-4805b4ad284e",
   "metadata": {},
   "outputs": [
    {
     "name": "stdout",
     "output_type": "stream",
     "text": [
      "\u001b[1mHardness ratio :\u001b[0m\n",
      "Between counts in the 0.5-1.0 keV and the 0.2-0.5 keV bands : HR1 = -0.71875\n",
      "Between counts in the 0.5-1.0 keV and the 1.0-2.0 keV bands : HR2 = 0.1\n",
      "Between counts in the 2.0-4.5 keV and the 1.0-2.0 keV bands : HR3 = 0.2\n",
      "Between counts in the 4.5-12.0 keV and the 2.0-4.5 keV bands : HR4 = 0.12\n"
     ]
    }
   ],
   "source": [
    "print(color.BOLD +'Hardness ratio :'+ color.END)\n",
    "print(f'Between counts in the 0.5-1.0 keV and the 0.2-0.5 keV bands : HR1 = {HR1}') \n",
    "print(f'Between counts in the 0.5-1.0 keV and the 1.0-2.0 keV bands : HR2 = {HR2}') \n",
    "print(f'Between counts in the 2.0-4.5 keV and the 1.0-2.0 keV bands : HR3 = {HR3}') \n",
    "print(f'Between counts in the 4.5-12.0 keV and the 2.0-4.5 keV bands : HR4 = {HR4}') "
   ]
  }
 ],
 "metadata": {
  "kernelspec": {
   "display_name": "Python 3 (ipykernel)",
   "language": "python",
   "name": "python3"
  },
  "language_info": {
   "codemirror_mode": {
    "name": "ipython",
    "version": 3
   },
   "file_extension": ".py",
   "mimetype": "text/x-python",
   "name": "python",
   "nbconvert_exporter": "python",
   "pygments_lexer": "ipython3",
   "version": "3.10.12"
  }
 },
 "nbformat": 4,
 "nbformat_minor": 5
}
