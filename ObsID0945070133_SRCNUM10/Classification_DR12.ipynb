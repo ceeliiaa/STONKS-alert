{
 "cells": [
  {
   "cell_type": "code",
   "execution_count": 29,
   "id": "667ca409-3505-4609-93d9-47d4aebf10e7",
   "metadata": {},
   "outputs": [],
   "source": [
    "from astropy.io import fits\n",
    "import numpy as np"
   ]
  },
  {
   "cell_type": "code",
   "execution_count": 31,
   "id": "20952e55-307f-4142-9166-21cd51aab9cc",
   "metadata": {},
   "outputs": [
    {
     "data": {
      "text/plain": [
       "ColDefs(\n",
       "    name = 'SRCID'; format = 'K'; null = -9223372036854775808\n",
       "    name = 'IAUNAME'; format = '21A'\n",
       "    name = 'RA'; format = 'D'; unit = 'deg'\n",
       "    name = 'DEC'; format = 'D'; unit = 'deg'\n",
       "    name = 'SC_POSERR'; format = 'D'; unit = 'arcsec'\n",
       "    name = 'SC_EP_8_FLUX'; format = 'D'; unit = 'erg/cm**2/s'\n",
       "    name = 'RA_Opt'; format = 'D'; unit = 'deg'\n",
       "    name = 'DEC_Opt'; format = 'D'; unit = 'deg'\n",
       "    name = 'angdist_Opt'; format = 'D'; unit = 'arcsec'\n",
       "    name = 'Bmag'; format = 'D'\n",
       "    name = 'Rmag'; format = 'D'\n",
       "    name = 'p_single_Opt'; format = 'D'\n",
       "    name = 'p_any_Opt'; format = 'D'\n",
       "    name = 'Ref_Opt'; format = '9A'\n",
       "    name = 'RA_IR'; format = 'D'; unit = 'deg'\n",
       "    name = 'DEC_IR'; format = 'D'; unit = 'deg'\n",
       "    name = 'angdist_IR'; format = 'D'; unit = 'arcsec'\n",
       "    name = 'W1mag'; format = 'D'\n",
       "    name = 'W2mag'; format = 'D'\n",
       "    name = 'p_single_IR'; format = 'D'\n",
       "    name = 'p_any_IR'; format = 'D'\n",
       "    name = 'Ref_IR'; format = '7A'\n",
       "    name = 'l'; format = 'D'; unit = 'deg'\n",
       "    name = 'b'; format = 'D'; unit = 'deg'\n",
       "    name = 'RA_GLADE'; format = 'D'; unit = 'deg'\n",
       "    name = 'DEC_GLADE'; format = 'D'; unit = 'deg'\n",
       "    name = 'R1'; format = 'D'; unit = 'arcsec'\n",
       "    name = 'R2'; format = 'D'; unit = 'arcsec'\n",
       "    name = 'PA'; format = 'D'; unit = 'deg'\n",
       "    name = 'Dist'; format = 'D'; unit = 'Mpc'\n",
       "    name = 'spiral'; format = 'K'; null = -9223372036854775808\n",
       "    name = 'elliptical'; format = 'K'; null = -9223372036854775808\n",
       "    name = 'prob_sp'; format = 'D'\n",
       "    name = 'prob_el'; format = 'D'\n",
       "    name = 'isLTG'; format = 'L'\n",
       "    name = 'isETG'; format = 'L'\n",
       "    name = 'Separation_GLADE'; format = 'D'\n",
       "    name = 'SepToRadius'; format = 'D'\n",
       "    name = 'Lx_1'; format = 'D'; unit = 'erg/s'\n",
       "    name = 'logFxFb'; format = 'D'\n",
       "    name = 'logFxFr'; format = 'D'\n",
       "    name = 'logFxFw1'; format = 'D'\n",
       "    name = 'logFxFw2'; format = 'D'\n",
       "    name = 'GAIA_pm'; format = 'D'; unit = 'mas/yr'\n",
       "    name = 'GAIA_Dist'; format = 'D'; unit = 'pc'\n",
       "    name = 'Lx_2'; format = 'D'; unit = 'erg/s'\n",
       "    name = 'isAGN'; format = 'K'; null = -9223372036854775808\n",
       "    name = 'isStar'; format = 'K'; null = -9223372036854775808\n",
       "    name = 'isXRB'; format = 'K'; null = -9223372036854775808\n",
       "    name = 'isCV'; format = 'K'; null = -9223372036854775808\n",
       "    name = 'class'; format = 'D'\n",
       "    name = 'MASTER_ID'; format = 'D'\n",
       "    name = 'fratio'; format = 'D'\n",
       "    name = 'fratio_min'; format = 'D'\n",
       "    name = 'SC_HR1'; format = 'D'\n",
       "    name = 'SC_HR1_ERR'; format = 'D'\n",
       "    name = 'SC_HR2'; format = 'D'\n",
       "    name = 'SC_HR2_ERR'; format = 'D'\n",
       "    name = 'SC_HR3'; format = 'D'\n",
       "    name = 'SC_HR3_ERR'; format = 'D'\n",
       "    name = 'SC_HR4'; format = 'D'\n",
       "    name = 'SC_HR4_ERR'; format = 'D'\n",
       "    name = 'SC_EXTENT'; format = 'D'; unit = 'arcsec'\n",
       "    name = 'SC_EXT_ERR'; format = 'D'; unit = 'arcsec'\n",
       "    name = 'SC_EXT_ML'; format = 'D'\n",
       "    name = 'prediction_name'; format = '8A'\n",
       "    name = 'prediction'; format = 'K'; null = -9223372036854775808\n",
       "    name = 'alt'; format = '19A'\n",
       "    name = 'ClMargin'; format = 'D'\n",
       "    name = 'outlier'; format = 'D'\n",
       "    name = 'N_missing'; format = 'K'; null = -9223372036854775808\n",
       "    name = 'PbaC0'; format = 'D'\n",
       "    name = 'PbaC1'; format = 'D'\n",
       "    name = 'PbaC2'; format = 'D'\n",
       "    name = 'PbaC3'; format = 'D'\n",
       "    name = 'PbaC4'; format = 'D'\n",
       "    name = 'PbaC5'; format = 'D'\n",
       "    name = 'PbaC6'; format = 'D'\n",
       "    name = 'PbaC0_location'; format = 'D'\n",
       "    name = 'PbaC1_location'; format = 'D'\n",
       "    name = 'PbaC2_location'; format = 'D'\n",
       "    name = 'PbaC3_location'; format = 'D'\n",
       "    name = 'PbaC4_location'; format = 'D'\n",
       "    name = 'PbaC5_location'; format = 'D'\n",
       "    name = 'PbaC6_location'; format = 'D'\n",
       "    name = 'PbaC0_spectrum'; format = 'D'\n",
       "    name = 'PbaC1_spectrum'; format = 'D'\n",
       "    name = 'PbaC2_spectrum'; format = 'D'\n",
       "    name = 'PbaC3_spectrum'; format = 'D'\n",
       "    name = 'PbaC4_spectrum'; format = 'D'\n",
       "    name = 'PbaC5_spectrum'; format = 'D'\n",
       "    name = 'PbaC6_spectrum'; format = 'D'\n",
       "    name = 'PbaC0_multiwavelength'; format = 'D'\n",
       "    name = 'PbaC1_multiwavelength'; format = 'D'\n",
       "    name = 'PbaC2_multiwavelength'; format = 'D'\n",
       "    name = 'PbaC3_multiwavelength'; format = 'D'\n",
       "    name = 'PbaC4_multiwavelength'; format = 'D'\n",
       "    name = 'PbaC5_multiwavelength'; format = 'D'\n",
       "    name = 'PbaC6_multiwavelength'; format = 'D'\n",
       "    name = 'PbaC0_variability'; format = 'D'\n",
       "    name = 'PbaC1_variability'; format = 'D'\n",
       "    name = 'PbaC2_variability'; format = 'D'\n",
       "    name = 'PbaC3_variability'; format = 'D'\n",
       "    name = 'PbaC4_variability'; format = 'D'\n",
       "    name = 'PbaC5_variability'; format = 'D'\n",
       "    name = 'PbaC6_variability'; format = 'D'\n",
       ")"
      ]
     },
     "execution_count": 31,
     "metadata": {},
     "output_type": "execute_result"
    }
   ],
   "source": [
    "cat = fits.open(\"classification_DR12_with_input.fits\")\n",
    "cat[1].columns"
   ]
  },
  {
   "cell_type": "code",
   "execution_count": 32,
   "id": "045b1919-e965-41ff-8e33-95dd9e8f6d0a",
   "metadata": {},
   "outputs": [
    {
     "data": {
      "text/plain": [
       "(array([581861]),)"
      ]
     },
     "execution_count": 32,
     "metadata": {},
     "output_type": "execute_result"
    }
   ],
   "source": [
    "np.where(cat[1].data.field('IAUNAME')==\"4XMM J033329.9-271433\")"
   ]
  },
  {
   "cell_type": "code",
   "execution_count": 33,
   "id": "a19e0f83-6be1-4b26-a696-bb73350d921c",
   "metadata": {},
   "outputs": [
    {
     "data": {
      "text/plain": [
       "(208272206010040, '4XMM J033329.9-271433', 53.37480444968098, -27.24264225819851, 0.7489008903503418, 5.1585788795444586e-15, 53.37459112593, -27.24264448858, 0.6828268766403198, 18.941391, 16.455793, 0.9845693707466125, 0.9845693707466125, 'Gaia', 53.374575, -27.242634, 0.7349950075149536, 14.193999290466309, 14.193999290466309, 0.9940466284751892, 0.9940466284751892, '2MASS', 222.6771062261539, -54.12311047231576, nan, nan, nan, nan, nan, nan, -9223372036854775808, -9223372036854775808, nan, nan, False, False, nan, nan, nan, -1.3409135783325201, -2.335152778332519, -1.6598703384399416, -1.6598703384399416, 29.977, 478.954742, 1.4161875101853986e+29, 0, 0, 0, 0, nan, 485424.0, 2.2404917126248187, 1.0, 0.41149479150772095, 0.09491358697414398, -0.3416978716850281, 0.10129868239164352, -0.5800185799598694, 0.1608283966779709, -0.26184290647506714, 0.29543039202690125, 0.0, nan, -0.9056664109230042, 'star', 1, '', 0.7619, 8.621, 3, 0.0843, 0.8809, 0.006495, 0.028, 7.193e-05, 3.95e-05, 0.0001434, 0.002472, 0.6202, 0.02824, 0.3491, 1.1e-09, 6.463e-10, 3.566e-07, 0.002852, 0.9335, 0.0006195, 0.06082, 9.551e-06, 5.69e-06, 0.002216, 0.02929, 0.1309, 0.09279, 0.05901, 0.5199, 0.1678, 0.0002449, 0.2164, 0.2003, 0.102, 0.1569, 0.1673, 0.1524, 0.00467)"
      ]
     },
     "execution_count": 33,
     "metadata": {},
     "output_type": "execute_result"
    }
   ],
   "source": [
    "cat[1].data[581861]"
   ]
  },
  {
   "cell_type": "code",
   "execution_count": 36,
   "id": "53d45124-29b9-4a9c-a048-2479cc547e13",
   "metadata": {},
   "outputs": [
    {
     "name": "stdout",
     "output_type": "stream",
     "text": [
      "IAUNAME: 4XMM J033329.9-271433\n",
      "RA:  53.37480444968098 , DEC:  -27.24264225819851\n",
      "Type: nan\n"
     ]
    }
   ],
   "source": [
    "row = cat[1].data[581861]\n",
    "\n",
    "print(\"IAUNAME:\", row['IAUNAME'])\n",
    "print(\"RA: \", row['RA'], \", DEC: \", row['DEC'])\n",
    "print(\"Type:\", row['CLASS'])"
   ]
  }
 ],
 "metadata": {
  "kernelspec": {
   "display_name": "Python 3 (ipykernel)",
   "language": "python",
   "name": "python3"
  },
  "language_info": {
   "codemirror_mode": {
    "name": "ipython",
    "version": 3
   },
   "file_extension": ".py",
   "mimetype": "text/x-python",
   "name": "python",
   "nbconvert_exporter": "python",
   "pygments_lexer": "ipython3",
   "version": "3.10.12"
  }
 },
 "nbformat": 4,
 "nbformat_minor": 5
}
