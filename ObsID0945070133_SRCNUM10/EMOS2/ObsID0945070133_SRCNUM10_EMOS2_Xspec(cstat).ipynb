{
 "cells": [
  {
   "cell_type": "markdown",
   "id": "a09472f9-b7b4-4047-9978-0b5adf3b464f",
   "metadata": {},
   "source": [
    "# ObsID : 0945070133, SRCNUM : 10, Instru : EMOS2\n",
    "**Simbad :** Star *2MASS J03332989-2714334* (https://simbad.cds.unistra.fr/simbad/sim-id?Ident=%4013058032&Name=2MASS%20J03332989-2714334&submit=submit)"
   ]
  },
  {
   "cell_type": "markdown",
   "id": "ee9befb7-bf2d-4e88-a03c-547580248cff",
   "metadata": {},
   "source": [
    "## ESASky\n",
    "https://sky.esa.int/esasky/?target=53.37579166666667%20-27.242833333333333&hips=XMM-Newton+EPIC+color&fov=1&projection=SIN&cooframe=J2000&sci=true&lang=fr\n",
    "\n",
    "``EPIC Stack``\n",
    "- Stack Catalogue name : 4XMMs J033329.9-271434\n",
    "- IAU name : 4XMM J033329.9-271433\n",
    "- RA : 03h 33m 29.959s\n",
    "- DEC : -27° 14' 34.10\"\n",
    "\n",
    "``GAIA``\n",
    "- Designation : Gaia DR3 5060545834987968640\n",
    "- RA : 03h 33m 29.937s\n",
    "- DEC : -27° 14' 33.44\"\n",
    "- Parallax : 1.9836 mas\n",
    "- G : 17.5984\n",
    "\n",
    "``2MASS``\n",
    "- Name : 03332989-2714334\n",
    "- RA : 03h 33m 29.898s\n",
    "- DEC : -27° 14' 33.48\""
   ]
  },
  {
   "cell_type": "code",
   "execution_count": 3,
   "id": "311ae079-ccd8-41c3-aac4-08c99f67b431",
   "metadata": {},
   "outputs": [],
   "source": [
    "from xspec import *\n",
    "from stingray import Lightcurve\n",
    "from astropy.io import fits\n",
    "import matplotlib.pyplot as plt\n",
    "import matplotlib.image as mpimg\n",
    "import glob\n",
    "import numpy as np\n",
    "\n",
    "class color:\n",
    "   PURPLE = '\\033[95m'\n",
    "   CYAN = '\\033[96m'\n",
    "   DARKCYAN = '\\033[36m'\n",
    "   BLUE = '\\033[94m'\n",
    "   GREEN = '\\033[92m'\n",
    "   YELLOW = '\\033[93m'\n",
    "   RED = '\\033[91m'\n",
    "   BOLD = '\\033[1m'\n",
    "   UNDERLINE = '\\033[4m'\n",
    "   END = '\\033[0m'\n",
    "\n",
    "plt.rcParams['figure.figsize'] = [12,7]"
   ]
  },
  {
   "cell_type": "markdown",
   "id": "e5eae72e-1db6-4cb9-ba31-b2747fcbe059",
   "metadata": {},
   "source": [
    "## Fit statistic"
   ]
  },
  {
   "cell_type": "code",
   "execution_count": 2,
   "id": "69840d8c-939c-4937-a2e6-39723c7cbd4c",
   "metadata": {},
   "outputs": [
    {
     "name": "stdout",
     "output_type": "stream",
     "text": [
      "Default fit statistic is set to: C-Statistic\n",
      "   This will apply to all current and newly loaded spectra.\n",
      "Parameter delta values for fits will now be 0.0001 * parValue\n"
     ]
    }
   ],
   "source": [
    "Fit.statMethod = \"cstat\"\n",
    "Fit.nIterations = 100000\n",
    "Fit.delta = 1e-4\n",
    "Fit.criticalDelta = 1e-4"
   ]
  },
  {
   "cell_type": "markdown",
   "id": "39b7d9d2-7930-4892-81ba-8bd2db47e610",
   "metadata": {},
   "source": [
    "## Load files"
   ]
  },
  {
   "cell_type": "code",
   "execution_count": 3,
   "id": "cd0bcd6f-9565-4899-90b7-1e5d87e7050a",
   "metadata": {},
   "outputs": [
    {
     "name": "stdout",
     "output_type": "stream",
     "text": [
      "***Warning: Detected response matrix energy bin value = 0 (or neg).\n",
      "     XSPEC will instead use small finite value (response file will not be altered).\n",
      "\n",
      "1 spectrum  in use\n",
      " \n",
      "Spectral Data File: ObsID0945070133_SRCNUM10_EMOS2_spectrum_grp_cstat.fits  Spectrum 1\n",
      "Net count rate (cts/s) for Spectrum:1  2.515e-03 +/- 6.674e-04 (70.4 % total)\n",
      " Assigned to Data Group 1 and Plot Group 1\n",
      "  Noticed Channels:  1-31\n",
      "  Telescope: XMM Instrument: EMOS2  Channel Type: PI\n",
      "  Exposure Time: 8678 sec\n",
      " Using fit statistic: cstat\n",
      " Using Background File                ObsID0945070133_SRCNUM10_EMOS2_background_spectrum.fits\n",
      "  Background Exposure Time: 8679 sec\n",
      " Using Response (RMF) File            ObsID0945070133_SRCNUM10_EMOS2.rmf for Source 1\n",
      " Using Auxiliary Response (ARF) File  ObsID0945070133_SRCNUM10_EMOS2.arf\n",
      "\n"
     ]
    }
   ],
   "source": [
    "AllData.clear()\n",
    "spec = Spectrum(glob.glob('ObsID*_SRCNUM*_E*_spectrum_grp_cstat.fits')[0])"
   ]
  },
  {
   "cell_type": "code",
   "execution_count": 4,
   "id": "f2bac02c-abce-493d-9485-4861e680e17c",
   "metadata": {},
   "outputs": [
    {
     "name": "stdout",
     "output_type": "stream",
     "text": [
      "Number of counts = 21.82517\n",
      "\n",
      "The low number of counts indicates that we should consider using cstat fit statistic instead of chi statistic.\n"
     ]
    }
   ],
   "source": [
    "n_cts = 2.515e-03*8678\n",
    "\n",
    "print(\"Number of counts =\",n_cts)\n",
    "\n",
    "if int(n_cts)<100:\n",
    "    print()\n",
    "    print(\"The low number of counts indicates that we should consider using cstat fit statistic instead of chi statistic.\")"
   ]
  },
  {
   "cell_type": "markdown",
   "id": "870eec10-27a5-4341-a01c-4a98ac400133",
   "metadata": {},
   "source": [
    "## Plot spectrum"
   ]
  },
  {
   "cell_type": "code",
   "execution_count": 7,
   "id": "37f98bf3-3d31-4c65-891f-3ea006da7786",
   "metadata": {},
   "outputs": [
    {
     "name": "stdout",
     "output_type": "stream",
     "text": [
      "***Warning: Fit is not current.\n",
      "     3 channels (1-3) ignored in spectrum #     1\n",
      "      No channels ignored (no channels in specified range)\n",
      "\n",
      "Fit statistic  : C-Statistic                 62.2755     using 28 bins.\n",
      "\n",
      "Test statistic : Chi-Squared                 23.5138     using 28 bins.\n",
      " Null hypothesis probability of 5.4758e-01 with 25 degrees of freedom\n",
      " Current data and model not fit yet.\n",
      "\n"
     ]
    }
   ],
   "source": [
    "Plot.xAxis=\"keV\"\n",
    "Plot.device = \"/xs\"\n",
    "Plot.xLog=True\n",
    "Plot.yLog=True\n",
    "#Plot.addCommand(\"Rescale Y 0.000001 0.05\")\n",
    "Plot(\"data\")\n",
    "spec.ignore(\"**-0.2 12.0-**\")"
   ]
  },
  {
   "cell_type": "code",
   "execution_count": 6,
   "id": "27bf0415-368d-4476-8ef7-29af925b48ee",
   "metadata": {},
   "outputs": [
    {
     "data": {
      "text/plain": [
       "(-0.5, 855.5, 660.5, -0.5)"
      ]
     },
     "execution_count": 6,
     "metadata": {},
     "output_type": "execute_result"
    },
    {
     "data": {
      "image/png": "[encoded data removed]",
      "text/plain": [
       "<Figure size 1200x700 with 1 Axes>"
      ]
     },
     "metadata": {},
     "output_type": "display_data"
    }
   ],
   "source": [
    "img = plt.imread(glob.glob('ObsID*_SRCNUM*_E*_Spectrum2.png')[0])\n",
    "plt.imshow(img)\n",
    "plt.axis('off')"
   ]
  },
  {
   "cell_type": "markdown",
   "id": "7eb1edda-21f0-4876-bdbc-8cb3e4a347dc",
   "metadata": {},
   "source": [
    "### Black body model"
   ]
  },
  {
   "cell_type": "code",
   "execution_count": 5,
   "id": "25e94b4e-0bb6-439e-af07-e82ebf0faa48",
   "metadata": {
    "scrolled": true
   },
   "outputs": [
    {
     "name": "stdout",
     "output_type": "stream",
     "text": [
      "\n",
      "========================================================================\n",
      "Model TBabs<1>*bbody<2> Source No.: 1   Active/On\n",
      "Model Model Component  Parameter  Unit     Value\n",
      " par  comp\n",
      "   1    1   TBabs      nH         10^22    1.00000      +/-  0.0          \n",
      "   2    2   bbody      kT         keV      3.00000      +/-  0.0          \n",
      "   3    2   bbody      norm                1.00000      +/-  0.0          \n",
      "________________________________________________________________________\n",
      "\n",
      "tbvabs Version 2.3\n",
      "Cosmic absorption with grains and H2, modified from\n",
      "Wilms, Allen, & McCray, 2000, ApJ 542, 914-924\n",
      "Questions: Joern Wilms\n",
      "joern.wilms@sternwarte.uni-erlangen.de\n",
      "joern.wilms@fau.de\n",
      "\n",
      "http://pulsar.sternwarte.uni-erlangen.de/wilms/research/tbabs/\n",
      "\n",
      "PLEASE NOTICE:\n",
      "To get the model described by the above paper\n",
      "you will also have to set the abundances:\n",
      "   abund wilm\n",
      "\n",
      "Note that this routine ignores the current cross section setting\n",
      "as it always HAS to use the Verner cross sections as a baseline.\n",
      "\n",
      "Fit statistic  : C-Statistic              5.225900e+06     using 28 bins.\n",
      "\n",
      "Test statistic : Chi-Squared              1.643094e+12     using 28 bins.\n",
      " Null hypothesis probability of 0.000000e+00 with 25 degrees of freedom\n",
      " Current data and model not fit yet.\n",
      "                                   Parameters\n",
      "C-Statistic  |beta|/N    Lvl          1:nH          2:kT        3:norm\n",
      "62.2755      1.07364e+06  -3       36342.3     0.0974505      0.367862\n",
      "***Warning: Zero alpha-matrix diagonal element for parameter 1\n",
      "***Warning: Zero alpha-matrix diagonal element for parameter 2\n",
      "***Warning: Zero alpha-matrix diagonal element for parameter 3\n",
      " Parameter 1 is pegged at 36342.3 due to zero or negative pivot element, likely\n",
      " caused by the fit being insensitive to the parameter.\n",
      " Parameter 2 is pegged at 0.0974505 due to zero or negative pivot element, likely\n",
      " caused by the fit being insensitive to the parameter.\n",
      " Parameter 3 is pegged at 0.367862 due to zero or negative pivot element, likely\n",
      " caused by the fit being insensitive to the parameter.\n"
     ]
    },
    {
     "name": "stderr",
     "output_type": "stream",
     "text": [
      "\n",
      "***XSPEC Error:  No variable parameters for fit "
     ]
    },
    {
     "ename": "Exception",
     "evalue": "Error executing command: fit",
     "output_type": "error",
     "traceback": [
      "\u001b[0;31m---------------------------------------------------------------------------\u001b[0m",
      "\u001b[0;31mException\u001b[0m                                 Traceback (most recent call last)",
      "Cell \u001b[0;32mIn[5], line 3\u001b[0m\n\u001b[1;32m      1\u001b[0m AllModels\u001b[38;5;241m.\u001b[39mclear()\n\u001b[1;32m      2\u001b[0m mo \u001b[38;5;241m=\u001b[39m Model(\u001b[38;5;124m\"\u001b[39m\u001b[38;5;124mtbabs*bbody\u001b[39m\u001b[38;5;124m\"\u001b[39m)\n\u001b[0;32m----> 3\u001b[0m \u001b[43mFit\u001b[49m\u001b[38;5;241;43m.\u001b[39;49m\u001b[43mperform\u001b[49m\u001b[43m(\u001b[49m\u001b[43m)\u001b[49m\n\u001b[1;32m      4\u001b[0m Plot\u001b[38;5;241m.\u001b[39mdevice \u001b[38;5;241m=\u001b[39m \u001b[38;5;124m\"\u001b[39m\u001b[38;5;124m/xs\u001b[39m\u001b[38;5;124m\"\u001b[39m\n\u001b[1;32m      5\u001b[0m Plot(\u001b[38;5;124m\"\u001b[39m\u001b[38;5;124mdata resid\u001b[39m\u001b[38;5;124m\"\u001b[39m)\n",
      "File \u001b[0;32m/mnt/c/Users/acer/HEASoft/heasoft-6.34/x86_64-pc-linux-gnu-libc2.35/lib/python/xspec/fit.py:533\u001b[0m, in \u001b[0;36mFitManager.perform\u001b[0;34m(self)\u001b[0m\n\u001b[1;32m    530\u001b[0m \u001b[38;5;250m\u001b[39m\u001b[38;5;124;03m\"\"\"Perform a fit.\"\"\"\u001b[39;00m\n\u001b[1;32m    532\u001b[0m fitArgs \u001b[38;5;241m=\u001b[39m [\u001b[38;5;124m\"\u001b[39m\u001b[38;5;124mfit\u001b[39m\u001b[38;5;124m\"\u001b[39m]\n\u001b[0;32m--> 533\u001b[0m \u001b[43m_pyXspec\u001b[49m\u001b[38;5;241;43m.\u001b[39;49m\u001b[43mdoXspecCmd\u001b[49m\u001b[43m(\u001b[49m\u001b[43mfitArgs\u001b[49m\u001b[43m)\u001b[49m\n",
      "\u001b[0;31mException\u001b[0m: Error executing command: fit"
     ]
    }
   ],
   "source": [
    "AllModels.clear()\n",
    "mo = Model(\"tbabs*bbody\")\n",
    "Fit.perform()\n",
    "Plot.device = \"/xs\"\n",
    "Plot(\"data resid\")\n",
    "plt.show()\n",
    "nH_bbody = mo.TBabs.nH.values[0]\n",
    "AllModels.calcFlux(\".2 12.0\")"
   ]
  },
  {
   "cell_type": "markdown",
   "id": "b77a2e66-8412-4d85-a277-10782493ea2e",
   "metadata": {},
   "source": [
    "### Bremsstrahlung model"
   ]
  },
  {
   "cell_type": "code",
   "execution_count": 6,
   "id": "3ed606fb-6f75-4369-b9c8-b5c95a0a9577",
   "metadata": {
    "scrolled": true
   },
   "outputs": [
    {
     "name": "stdout",
     "output_type": "stream",
     "text": [
      "\n",
      "========================================================================\n",
      "Model TBabs<1>*bremss<2> Source No.: 1   Active/On\n",
      "Model Model Component  Parameter  Unit     Value\n",
      " par  comp\n",
      "   1    1   TBabs      nH         10^22    1.00000      +/-  0.0          \n",
      "   2    2   bremss     kT         keV      7.00000      +/-  0.0          \n",
      "   3    2   bremss     norm                1.00000      +/-  0.0          \n",
      "________________________________________________________________________\n",
      "\n",
      "\n",
      "Fit statistic  : C-Statistic              1.295366e+06     using 28 bins.\n",
      "\n",
      "Test statistic : Chi-Squared              5.065955e+10     using 28 bins.\n",
      " Null hypothesis probability of 0.000000e+00 with 25 degrees of freedom\n",
      " Current data and model not fit yet.\n",
      "                                   Parameters\n",
      "C-Statistic  |beta|/N    Lvl          1:nH          2:kT        3:norm\n",
      "68356.1      241216       -3      0.461942      0.614154      0.266546\n",
      "25469.4      59481        -4      0.226069       191.829     0.0200353\n",
      "232.368      214203       -5       58.4009       51.4246    0.00426392\n",
      "169.085      6851.12      -3       27.3965       198.515    0.00137093\n",
      "89.9945      14138.8      -4       11.1298       37.7793   0.000181430\n",
      "62.4292      37641.1      -5       100.006       2.59069   8.96957e-05\n",
      "62.2755      286.974      -6       37.8251     0.0143992   3.88241e-05\n",
      "***Warning: Zero alpha-matrix diagonal element for parameter 1\n",
      "***Warning: Zero alpha-matrix diagonal element for parameter 2\n",
      "***Warning: Zero alpha-matrix diagonal element for parameter 3\n",
      " Parameter 1 is pegged at 37.8251 due to zero or negative pivot element, likely\n",
      " caused by the fit being insensitive to the parameter.\n",
      " Parameter 2 is pegged at 0.0143992 due to zero or negative pivot element, likely\n",
      " caused by the fit being insensitive to the parameter.\n",
      " Parameter 3 is pegged at 3.88241e-05 due to zero or negative pivot element, likely\n",
      " caused by the fit being insensitive to the parameter.\n"
     ]
    },
    {
     "name": "stderr",
     "output_type": "stream",
     "text": [
      "\n",
      "***XSPEC Error:  No variable parameters for fit "
     ]
    },
    {
     "ename": "Exception",
     "evalue": "Error executing command: fit",
     "output_type": "error",
     "traceback": [
      "\u001b[0;31m---------------------------------------------------------------------------\u001b[0m",
      "\u001b[0;31mException\u001b[0m                                 Traceback (most recent call last)",
      "Cell \u001b[0;32mIn[6], line 3\u001b[0m\n\u001b[1;32m      1\u001b[0m AllModels\u001b[38;5;241m.\u001b[39mclear()\n\u001b[1;32m      2\u001b[0m mo \u001b[38;5;241m=\u001b[39m Model(\u001b[38;5;124m\"\u001b[39m\u001b[38;5;124mtbabs*bremss\u001b[39m\u001b[38;5;124m\"\u001b[39m)\n\u001b[0;32m----> 3\u001b[0m \u001b[43mFit\u001b[49m\u001b[38;5;241;43m.\u001b[39;49m\u001b[43mperform\u001b[49m\u001b[43m(\u001b[49m\u001b[43m)\u001b[49m\n\u001b[1;32m      4\u001b[0m Plot\u001b[38;5;241m.\u001b[39mdevice \u001b[38;5;241m=\u001b[39m \u001b[38;5;124m\"\u001b[39m\u001b[38;5;124m/xs\u001b[39m\u001b[38;5;124m\"\u001b[39m\n\u001b[1;32m      5\u001b[0m Plot(\u001b[38;5;124m\"\u001b[39m\u001b[38;5;124mdata resid\u001b[39m\u001b[38;5;124m\"\u001b[39m)\n",
      "File \u001b[0;32m/mnt/c/Users/acer/HEASoft/heasoft-6.34/x86_64-pc-linux-gnu-libc2.35/lib/python/xspec/fit.py:533\u001b[0m, in \u001b[0;36mFitManager.perform\u001b[0;34m(self)\u001b[0m\n\u001b[1;32m    530\u001b[0m \u001b[38;5;250m\u001b[39m\u001b[38;5;124;03m\"\"\"Perform a fit.\"\"\"\u001b[39;00m\n\u001b[1;32m    532\u001b[0m fitArgs \u001b[38;5;241m=\u001b[39m [\u001b[38;5;124m\"\u001b[39m\u001b[38;5;124mfit\u001b[39m\u001b[38;5;124m\"\u001b[39m]\n\u001b[0;32m--> 533\u001b[0m \u001b[43m_pyXspec\u001b[49m\u001b[38;5;241;43m.\u001b[39;49m\u001b[43mdoXspecCmd\u001b[49m\u001b[43m(\u001b[49m\u001b[43mfitArgs\u001b[49m\u001b[43m)\u001b[49m\n",
      "\u001b[0;31mException\u001b[0m: Error executing command: fit"
     ]
    }
   ],
   "source": [
    "AllModels.clear()\n",
    "mo = Model(\"tbabs*bremss\")\n",
    "Fit.perform()\n",
    "Plot.device = \"/xs\"\n",
    "Plot(\"data resid\")\n",
    "nH_bremss = mo.TBabs.nH.values[0]\n",
    "AllModels.calcFlux(\".2 12.0\")"
   ]
  },
  {
   "cell_type": "markdown",
   "id": "4d8ea665-d6a1-4113-beaf-fad108850b18",
   "metadata": {},
   "source": [
    "### Apec model"
   ]
  },
  {
   "cell_type": "code",
   "execution_count": 13,
   "id": "4bd12dd8-e0eb-46e8-a057-f7eb723b3a94",
   "metadata": {
    "scrolled": true
   },
   "outputs": [
    {
     "name": "stdout",
     "output_type": "stream",
     "text": [
      "\n",
      "========================================================================\n",
      "Model TBabs<1>*apec<2> Source No.: 1   Active/On\n",
      "Model Model Component  Parameter  Unit     Value\n",
      " par  comp\n",
      "   1    1   TBabs      nH         10^22    1.00000      +/-  0.0          \n",
      "   2    2   apec       kT         keV      1.00000      +/-  0.0          \n",
      "   3    2   apec       Abundanc            1.00000      frozen\n",
      "   4    2   apec       Redshift            0.0          frozen\n",
      "   5    2   apec       norm                1.00000      +/-  0.0          \n",
      "________________________________________________________________________\n",
      "\n",
      "\n",
      "Fit statistic  : C-Statistic                483758.8     using 28 bins.\n",
      "\n",
      "Test statistic : Chi-Squared              7.128972e+09     using 28 bins.\n",
      " Null hypothesis probability of 0.000000e+00 with 25 degrees of freedom\n",
      " Current data and model not fit yet.\n",
      "                                   Parameters\n",
      "C-Statistic  |beta|/N    Lvl          1:nH          2:kT        5:norm\n",
      "234215       139712       -3      0.164522       39.6744      0.321645\n",
      "240.284      129654       -4       172.251       5.61012      0.148398\n",
      "78.3529      205.813      -4       85.1955       2.63057    0.00640940\n",
      "58.3242      455.88       -5       6.11132       1.06065   0.000749298\n",
      "54.3006      2606.89      -2       6.00282       1.26426   0.000242235\n",
      "54.2456      56.599        0       5.85538       1.19507   0.000245229\n",
      "54.2262      121.497      -1       5.87666       1.10142   0.000275060\n",
      "54.2063      143.402      -1       6.15723       1.08398   0.000304486\n",
      "54.1903      78.0472      -1       6.38279       1.05354   0.000335721\n",
      "54.1646      69.1063      -1       6.64533      0.996749   0.000385408\n",
      "54.1321      112.939      -1       6.97883      0.960973   0.000445259\n",
      "54.1016      93.5398      -1       7.27805      0.926390   0.000512237\n",
      "54.0559      77.9357      -1       7.59775      0.867833   0.000616596\n",
      "53.9959      112.479      -1       8.00646      0.815449   0.000769805\n",
      "53.9229      112.118      -1       8.42683      0.766861   0.000979702\n",
      "53.8518      98.8695      -1       8.81660      0.734685    0.00121709\n",
      "53.7718      66.0128      -1       9.17858      0.686012    0.00157220\n",
      "53.6772      69.1504      -1       9.60980      0.646780    0.00207192\n",
      "53.5792      54.8201      -1       10.0403      0.609485    0.00276367\n",
      "53.4948      43.1011      -1       10.4653      0.589586    0.00348990\n",
      "53.4098      25.4701      -1       10.8061      0.558033    0.00452664\n",
      "53.3222      23.4314      -1       11.2154      0.534352    0.00586090\n",
      "53.2435      17.589       -1       11.6170      0.516889    0.00739160\n",
      "53.1657      12.2162      -1       11.9881      0.493378    0.00964748\n",
      "53.0917      10.004       -1       12.4063      0.477043     0.0123063\n",
      "53.0344      7.1147       -1       12.7992      0.466304     0.0150339\n",
      "52.9761      4.54741      -1       13.1182      0.450584     0.0187429\n",
      "52.9286      4.03279      -1       13.4887      0.441554     0.0225547\n",
      "52.8769      2.66623      -1       13.7879      0.428734     0.0276208\n",
      "52.8416      2.54201      -1       14.1477      0.422931     0.0323693\n",
      "52.8049      1.40377      -1       14.3987      0.413230     0.0381657\n",
      "52.7626      1.41969      -1       14.6847      0.402938     0.0462466\n",
      "52.7335      1.2363       -1       15.0223      0.397646     0.0536191\n",
      "52.7009      0.770394     -1       15.2654      0.389695     0.0626719\n",
      "52.6633      0.797191     -1       15.5415      0.381320     0.0750927\n",
      "52.6393      0.74128      -1       15.8678      0.377182     0.0859538\n",
      "52.6135      0.418062     -1       16.0908      0.370758     0.0988660\n",
      "52.579       0.426225     -1       16.3319      0.363918      0.115965\n",
      "52.5476      0.480023     -1       16.6316      0.356983      0.139800\n",
      "52.5254      0.242208     -1       16.9422      0.352589      0.159530\n",
      "52.4979      0.233829     -1       17.1694      0.346987      0.184197\n",
      "52.4651      0.266588     -1       17.4270      0.341161      0.217298\n",
      "52.445       0.417354     -1       17.7359      0.338007      0.246224\n",
      "52.4238      0.148119     -1       17.9393      0.333213      0.279750\n",
      "52.3964      0.147654     -1       18.1469      0.328081      0.322710\n",
      "1      0.197067     -1       18.3957      0.322872      0.380340\n",
      "52.3415      0.5035       -1       18.7112      0.320173      0.431424\n",
      "52.3208      0.120616     -1       18.9124      0.315873      0.489501\n",
      "52.2945      0.107845     -1       19.1081      0.311223      0.563060\n",
      "52.2597      0.167032     -1       19.3385      0.306503      0.660765\n",
      "52.2264      0.293863     -1       19.6259      0.301777      0.795963\n",
      "52.2045      0.0316395    -1       19.9342      0.298371      0.907511\n",
      "52.1777      0.117472     -1       20.1411      0.294245       1.04581\n",
      "52.1425      0.183952     -1       20.3646      0.289974       1.22815\n",
      "52.1062      0.333863     -1       20.6391      0.285697       1.47969\n",
      "52.0844      0.142499     -1       20.9570      0.282820       1.68790\n",
      "52.0588      0.135919     -1       21.1566      0.279141       1.93903\n",
      "52.0258      0.184525     -1       21.3594      0.275292       2.26501\n",
      "51.9856      0.329903     -1       21.6031      0.271437       2.70815\n",
      "51.9636      0.702511     -1       21.9370      0.269495       3.08412\n",
      "51.9425      0.172828     -1       22.1329      0.266412       3.50373\n",
      "51.9162      0.13448      -1       22.3034      0.263048       4.02557\n",
      "51.8823      0.223333     -1       22.4947      0.259642       4.70836\n",
      "51.8415      0.405505     -1       22.7297      0.256262       5.63781\n",
      "51.8206      0.774502     -1       23.0659      0.254663       6.39682\n",
      "51.8013      0.186356     -1       23.2552      0.252049       7.22768\n",
      "51.7778      0.123892     -1       23.4112      0.249171       8.24233\n",
      "51.7479      0.197753     -1       23.5803      0.246249       9.54608\n",
      "51.7089      0.358147     -1       23.7840      0.243346       11.2838\n",
      "51.6749      0.649528     -1       24.0402      0.240489       13.6922\n",
      "51.6575      0.324186     -1       24.3733      0.238726       15.3615\n",
      "51.6388      0.117593     -1       24.5404      0.236487       17.3013\n",
      "51.6158      0.128658     -1       24.6903      0.234114       19.6914\n",
      "51.5867      0.224014     -1       24.8578      0.231724       22.7578\n",
      "51.5489      0.408809     -1       25.0604      0.229355       26.8256\n",
      "51.5223      0.738254     -1       25.3140      0.227026       32.4247\n",
      "51.5076      0.917362     -1       25.6439      0.225590       35.8184\n",
      "51.4933      0.0537531    -1       25.7915      0.223837       39.7474\n",
      "51.4762      0.0510386    -1       25.9206      0.221976       44.4548\n",
      "51.4552      0.104083     -1       26.0610      0.220093       50.2947\n",
      "51.4288      0.213215     -1       26.2256      0.218217       57.7363\n",
      "51.3955      0.401943     -1       26.4249      0.216358       67.4885\n",
      "51.3811      1.51548      -1       26.7557      0.216162       74.1270\n",
      "51.3735      0.215278     -1       26.9227      0.215115       80.2146\n",
      "51.3655      0.0192684    -1       27.0272      0.213798       86.7422\n",
      "51.3563      0.0593427    -1       27.1178      0.212403       94.2001\n",
      "51.3455      0.0561546    -1       27.2123      0.210986       102.952\n",
      "51.3327      0.0336572    -1       27.3182      0.209564       113.401\n",
      "51.3173      0.00810641   -1       27.4398      0.208142       126.081\n",
      "51.2985      0.0770168    -1       27.5817      0.206723       141.748\n",
      "51.275       0.190063     -1       27.7496      0.205310       161.513\n",
      "51.2492      0.376903     -1       27.9510      0.203908       187.067\n",
      "51.2405      0.771149     -1       28.2630      0.203744       201.683\n",
      "51.2354      0.125649     -1       28.4040      0.202993       215.059\n",
      "51.2303      0.0594231    -1       28.4912      0.202050       229.084\n",
      "51.2245      0.103323     -1       28.5654      0.201047       244.665\n",
      "51.2179      0.11349      -1       28.6409      0.200024       262.382\n",
      "51.2102      0.112023     -1       28.7230      0.198993       282.794\n",
      "51.2014      0.102833     -1       28.8146      0.197958       306.577\n",
      "51.191       0.0846653    -1       28.9180      0.196919       334.613\n",
      "51.1787      0.0534525    -1       29.0359      0.195879       368.098\n",
      "51.1638      0.0024161    -1       29.1714      0.194836       408.691\n",
      "51.1456      0.0815696    -1       29.3289      0.193794       458.758\n",
      "51.1244      0.217338     -1       29.5142      0.192753       521.766\n",
      "51.117       1.11526      -1       29.8054      0.192824       556.277\n",
      "51.1139      0.159933     -1       29.9378      0.192360       585.415\n",
      "51.1109      0.0610745    -1       30.0127      0.191714       614.439\n",
      "51.1077      0.11733      -1       30.0705      0.191008       645.470\n",
      "51.1041      0.136739     -1       30.1256      0.190282       679.526\n",
      "51.1002      0.14596      -1       30.1831      0.189546       717.349\n",
      "51.0958      0.151522     -1       30.2451      0.188805       759.679\n",
      "51.0908      0.154984     -1       30.3128      0.188059       807.389\n",
      "51.0851      0.156281     -1       30.3874      0.187309       861.555\n",
      "51.0786      0.154567     -1       30.4699      0.186555       923.543\n",
      "51.0711      0.148329     -1       30.5617      0.185796       995.118\n",
      "51.0624      0.135187     -1       30.6645      0.185034       1078.59\n",
      "51.0521      0.111454     -1       30.7805      0.184268       1177.06\n",
      "51.0399      0.0713657    -1       30.9124      0.183499       1294.70\n",
      "51.0251      0.00586133   -1       31.0635      0.182728       1437.33\n",
      "51.0088      0.100329     -1       31.2385      0.181955       1613.23\n",
      "51.0036      0.820422     -1       31.5055      0.182052       1700.12\n",
      "51.0015      0.135434     -1       31.6228      0.181742       1771.92\n",
      "50.9997      0.0634415    -1       31.6869      0.181288       1841.47\n",
      "50.9977      0.119905     -1       31.7339      0.180784       1913.99\n",
      "50.9956      0.141239     -1       31.7767      0.180262       1991.74\n",
      "50.9933      0.152642     -1       31.8200      0.179731       2076.05\n",
      "50.9908      0.160988     -1       31.8657      0.179196       2168.05\n",
      "50.988       0.168371     -1       31.9145      0.178657       2268.92\n",
      "50.9849      0.175395     -1       31.9670      0.178114       2380.03\n",
      "50.9815      0.182133     -1       32.0237      0.177568       2503.01\n",
      "50.9777      0.188413     -1       32.0853      0.177018       2639.83\n",
      "50.9735      0.193885     -1       32.1523      0.176464       2792.93\n",
      "50.9687      0.198007     -1       32.2256      0.175907       2965.30\n",
      "50.9632      0.199963     -1       32.3062      0.175346       3160.73\n",
      "50.957       0.198546     -1       32.3950      0.174781       3384.01\n",
      "50.9498      0.191951     -1       32.4936      0.174212       3641.28\n",
      "50.9415      0.177463     -1       32.6036      0.173640       3940.57\n",
      "50.9317      0.150951     -1       32.7272      0.173064       4292.52\n",
      "50.9281      0.106045     -2       34.2919      0.167377       8330.34\n",
      "50.8784      10.5799      -1       33.9987      0.167126       8907.83\n",
      "50.8748      0.622156     -1       33.9897      0.166665       9340.60\n",
      "50.8714      0.236455     -1       34.0358      0.166224       9815.43\n",
      "50.8676      0.250063     -1       34.0978      0.165795       10348.9\n",
      "50.8634      0.247788     -1       34.1689      0.165367       10947.7\n",
      "50.8586      0.249316     -1       34.2476      0.164938       11622.2\n",
      "50.8532      0.250361     -1       34.3342      0.164507       12386.5\n",
      "50.8471      0.247977     -1       34.4297      0.164072       13259.0\n",
      "50.8402      0.239503     -2       35.6065      0.159770       23023.1\n",
      "50.8052      10.198       -2       35.8146      0.157452       30579.5\n",
      "50.7846      8.46681      -1       35.8021      0.157433       32583.4\n",
      "50.7821      0.492833     -1       35.8793      0.157176       34098.1\n",
      "50.7795      0.181879     -1       35.9457      0.156872       35656.3\n",
      "50.7767      0.247233     -1       36.0077      0.156553       37344.4\n",
      "50.7736      0.269405     -1       36.0711      0.156228       39197.3\n",
      "50.7702      0.282908     -1       36.1383      0.155900       41245.8\n",
      "50.7663      0.292993     -1       36.2107      0.155570       43523.7\n",
      "50.762       0.300766     -1       36.2892      0.155237       46071.1\n",
      "50.7582      0.349727     -1       36.3581      0.154967       48361.3\n",
      "50.7483      0.386532     -2       37.1905      0.152323       73121.3\n",
      "50.716       8.84615      -2       37.5577      0.151118       91444.3\n",
      "50.7111      3.80598      -2       37.7738      0.149052       114996.\n",
      "50.7106      6.28165      -2       38.1711      0.146997       154387.\n",
      "50.6851      13.1372      -1       38.1554      0.146984       165619.\n",
      "50.6827      0.058787     -1       38.2534      0.146835       172363.\n",
      "50.6802      0.267263     -1       38.3280      0.146655       179379.\n",
      "50.6775      0.354341     -1       38.3947      0.146462       186864.\n",
      "50.6746      0.398084     -1       38.4602      0.146263       194948.\n",
      "50.6715      0.424759     -1       38.5276      0.146061       203739.\n",
      "50.6621      0.444135     -2       39.3025      0.144076       297841.\n",
      "50.6343      8.81016      -2       39.5938      0.143279       357977.\n",
      "50.6307      2.18239      -2       39.7837      0.142156       413128.\n",
      "50.6268      2.51177      -2       39.9582      0.140914       485705.\n",
      "50.622       3.97879      -2       40.2026      0.139664       589788.\n",
      "50.6167      6.64843      -2       40.5410      0.138399       748139.\n",
      "50.6036      11.6975      -1       40.4943      0.138317       793878.\n",
      "50.6013      2.16533      -1       40.5993      0.138190       821814.\n",
      "50.5991      0.393518     -1       40.6705      0.138054       852651.\n",
      "50.5969      0.419129     -1       40.7346      0.137910       885480.\n",
      "50.5944      0.464106     -1       40.7979      0.137762       920724.\n",
      "50.5909      0.494091     -2       41.4944      0.136292   1.29392e+06\n",
      "50.5625      9.98131      -2       41.7474      0.135951   1.50346e+06\n",
      "50.5608      0.391395     -2       41.9477      0.135240   1.66546e+06\n",
      "50.5589      1.13501      -2       42.0411      0.134372   1.85321e+06\n",
      "50.5564      1.61922      -2       42.1751      0.133507   2.09537e+06\n",
      "50.5533      2.31408      -2       42.3402      0.132621   2.41392e+06\n",
      "50.5493      3.4685       -2       42.5529      0.131717   2.85028e+06\n",
      "50.5443      5.46839      -2       42.8358      0.130798   3.47814e+06\n",
      "50.5389      9.18202      -2       43.2279      0.129870   4.44017e+06\n",
      "50.5364      16.6514      -2       43.7978      0.128951   6.03725e+06\n",
      "50.5362      32.4378      -2       44.7646      0.127732   9.78012e+06\n",
      "50.4961      16.6759      -2       44.4965      0.126241   1.00109e+07\n",
      "50.4929      3.80515      -2       44.6719      0.125759   1.11606e+07\n",
      "50.4908      1.74136      -2       44.7988      0.125143   1.24896e+07\n",
      "50.4881      2.41518      -2       44.9623      0.124516   1.42123e+07\n",
      "50.4847      3.51113      -2       45.1669      0.123875   1.65133e+07\n",
      "50.4803      5.3397       -2       45.4314      0.123220   1.97170e+07\n",
      "50.4749      8.54545      -2       45.7841      0.122556   2.44115e+07\n",
      "50.4693      14.5375      -2       46.2724      0.121892   3.17425e+07\n",
      "50.448       26.5525      -2       46.9755      0.121246   4.41168e+07\n",
      "50.4432      5.5666       -2       46.9240      0.120619   4.54745e+07\n",
      "50.4426      0.550278     -2       46.9800      0.120260   4.80686e+07\n",
      "50.442       0.425858     -2       47.0369      0.119882   5.09874e+07\n",
      "50.4413      0.524979     -2       47.1011      0.119497   5.43511e+07\n",
      "50.4405      0.656132     -2       47.1740      0.119102   5.82693e+07\n",
      "50.4395      0.832314     -2       47.2576      0.118698   6.28917e+07\n",
      "50.4383      1.07372      -2       47.3545      0.118284   6.84254e+07\n",
      "50.4368      1.41219      -2       47.4681      0.117859   7.51642e+07\n",
      "50.4349      1.89936      -2       47.6034      0.117423   8.35376e+07\n",
      "50.4326      2.62183      -2       47.7670      0.116977   9.41941e+07\n",
      "50.4296      3.73064      -2       47.9687      0.116519   1.08150e+08\n",
      "50.4257      5.50048      -2       48.2230      0.116051   1.27072e+08\n",
      "50.4208      8.45431      -2       48.5518      0.115577   1.53824e+08\n",
      "50.4149      13.636       -2       48.9889      0.115100   1.93616e+08\n",
      "50.3989      23.2234      -2       49.5874      0.114633   2.56491e+08\n",
      "50.3969      3.76117      -2       49.6107      0.114308   2.62809e+08\n",
      "50.3967      0.171488     -2       49.6380      0.114073   2.72161e+08\n",
      "50.3965      0.158464     -2       49.6707      0.113836   2.82413e+08\n",
      "50.3962      0.183923     -2       49.7059      0.113594   2.93654e+08\n",
      "50.3959      0.215279     -2       49.7443      0.113348   3.06042e+08\n",
      "50.3956      0.253558     -2       49.7861      0.113098   3.19768e+08\n",
      "50.3952      0.300725     -2       49.8319      0.112842   3.35064e+08\n",
      "50.3948      0.359419     -2       49.8824      0.112581   3.52222e+08\n",
      "50.3943      0.433253     -2       49.9384      0.112314   3.71608e+08\n",
      "50.3937      0.52725      -2       50.0007      0.112042   3.93691e+08\n",
      "50.393       0.648505     -2       50.0707      0.111763   4.19076e+08\n",
      "50.3922      0.807233     -2       50.1498      0.111478   4.48561e+08\n",
      "50.3913      1.01843      -2       50.2400      0.111185   4.83217e+08\n",
      "50.3902      1.30459      -2       50.3438      0.110886   5.24503e+08\n",
      "50.3888      1.70032      -2       50.4646      0.110579   5.74465e+08\n",
      "50.3871      2.26018      -2       50.6070      0.110264   6.36033e+08\n",
      "50.3849      3.07286      -2       50.7771      0.109942   7.13528e+08\n",
      "50.3822      4.28686      -2       50.9836      0.109612   8.13533e+08\n",
      "50.3787      6.15934      -2       51.2387      0.109277   9.46438e+08\n",
      "50.3743      9.15087      -2       51.5601      0.108938   1.12930e+09\n",
      "50.3686      14.1133      -2       51.9734      0.108599   1.39131e+09\n",
      "50.3615      22.6638      -2       52.5158      0.108266   1.78468e+09\n",
      "50.3572      6.53057      -3       52.5607      0.107526   1.91749e+09\n",
      "50.3568      1.86344      -2       52.5779      0.107493   1.94792e+09\n",
      "50.3568      0.0259916    -2       52.5901      0.107426   1.97175e+09\n",
      "========================================\n",
      " Variances and Principal Axes\n",
      "                 1        2        5  \n",
      " 5.9824E-01| -0.0015   1.0000   0.0000  \n",
      " 5.9824E+01|  1.0000   0.0015  -0.0000  \n",
      " 7.1524E+22| -0.0000   0.0000  -1.0000  \n",
      "----------------------------------------\n",
      "\n",
      "====================================\n",
      "  Covariance Matrix\n",
      "        1           2           3   \n",
      "   1.488e+04  -9.620e+01   3.256e+13\n",
      "  -9.620e+01   6.255e-01  -2.115e+11\n",
      "   3.256e+13  -2.115e+11   7.152e+22\n",
      "------------------------------------\n",
      "\n",
      "========================================================================\n",
      "Model TBabs<1>*apec<2> Source No.: 1   Active/On\n",
      "Model Model Component  Parameter  Unit     Value\n",
      " par  comp\n",
      "   1    1   TBabs      nH         10^22    52.5901      +/-  121.988      \n",
      "   2    2   apec       kT         keV      0.107426     +/-  0.790905     \n",
      "   3    2   apec       Abundanc            1.00000      frozen\n",
      "   4    2   apec       Redshift            0.0          frozen\n",
      "   5    2   apec       norm                1.97175E+09  +/-  2.67439E+11  \n",
      "________________________________________________________________________\n",
      "\n",
      "\n",
      "Fit statistic  : C-Statistic                 50.3568     using 28 bins.\n",
      "\n",
      "Test statistic : Chi-Squared                 20.8726     using 28 bins.\n",
      " Null hypothesis probability of 6.9969e-01 with 25 degrees of freedom\n",
      " Model Flux 5.4767e-06 photons (2.4852e-14 ergs/cm^2/s) range (0.20000 - 12.000 keV)\n"
     ]
    }
   ],
   "source": [
    "AllModels.clear()\n",
    "mo = Model(\"tbabs*apec\")\n",
    "Fit.perform()\n",
    "Plot.device = \"/xs\"\n",
    "Plot(\"data resid\")\n",
    "nH_apec = mo.TBabs.nH.values[0]\n",
    "AllModels.calcFlux(\".2 12.0\")"
   ]
  },
  {
   "cell_type": "code",
   "execution_count": 9,
   "id": "6ca2fa1d-62e3-4cff-b34b-11ac555ebcdb",
   "metadata": {},
   "outputs": [
    {
     "data": {
      "text/plain": [
       "(-0.5, 856.5, 657.5, -0.5)"
      ]
     },
     "execution_count": 9,
     "metadata": {},
     "output_type": "execute_result"
    },
    {
     "data": {
      "image/png": "[encoded data removed]",
      "text/plain": [
       "<Figure size 1200x700 with 1 Axes>"
      ]
     },
     "metadata": {},
     "output_type": "display_data"
    }
   ],
   "source": [
    "img = plt.imread(glob.glob('ObsID*_SRCNUM*_E*_Spectrum_apec2.png')[0])\n",
    "plt.imshow(img)\n",
    "plt.axis('off')"
   ]
  },
  {
   "cell_type": "markdown",
   "id": "746ccf61-8e54-4726-b463-b6a3d137905c",
   "metadata": {},
   "source": [
    "### Powerlaw model"
   ]
  },
  {
   "cell_type": "code",
   "execution_count": 10,
   "id": "ecf8f29f-a8fc-4efc-9ce0-7059d934b811",
   "metadata": {
    "scrolled": true
   },
   "outputs": [
    {
     "name": "stdout",
     "output_type": "stream",
     "text": [
      "\n",
      "========================================================================\n",
      "Model TBabs<1>*powerlaw<2> Source No.: 1   Active/On\n",
      "Model Model Component  Parameter  Unit     Value\n",
      " par  comp\n",
      "   1    1   TBabs      nH         10^22    1.00000      +/-  0.0          \n",
      "   2    2   powerlaw   PhoIndex            1.00000      +/-  0.0          \n",
      "   3    2   powerlaw   norm                1.00000      +/-  0.0          \n",
      "________________________________________________________________________\n",
      "\n",
      "\n",
      "Fit statistic  : C-Statistic              3.100578e+06     using 28 bins.\n",
      "\n",
      "Test statistic : Chi-Squared              3.346067e+11     using 28 bins.\n",
      " Null hypothesis probability of 0.000000e+00 with 25 degrees of freedom\n",
      " Current data and model not fit yet.\n",
      "                                   Parameters\n",
      "C-Statistic  |beta|/N    Lvl          1:nH    2:PhoIndex        3:norm\n",
      "62.2755      777130       -3       56091.0       8.87296       150290.\n",
      "***Warning: Zero alpha-matrix diagonal element for parameter 1\n",
      "***Warning: Zero alpha-matrix diagonal element for parameter 2\n",
      "***Warning: Zero alpha-matrix diagonal element for parameter 3\n",
      " Parameter 1 is pegged at 56091 due to zero or negative pivot element, likely\n",
      " caused by the fit being insensitive to the parameter.\n",
      " Parameter 2 is pegged at 8.87296 due to zero or negative pivot element, likely\n",
      " caused by the fit being insensitive to the parameter.\n",
      " Parameter 3 is pegged at 150290 due to zero or negative pivot element, likely\n",
      " caused by the fit being insensitive to the parameter.\n"
     ]
    },
    {
     "name": "stderr",
     "output_type": "stream",
     "text": [
      "\n",
      "***XSPEC Error:  No variable parameters for fit "
     ]
    },
    {
     "ename": "Exception",
     "evalue": "Error executing command: fit",
     "output_type": "error",
     "traceback": [
      "\u001b[0;31m---------------------------------------------------------------------------\u001b[0m",
      "\u001b[0;31mException\u001b[0m                                 Traceback (most recent call last)",
      "Cell \u001b[0;32mIn[10], line 3\u001b[0m\n\u001b[1;32m      1\u001b[0m AllModels\u001b[38;5;241m.\u001b[39mclear()\n\u001b[1;32m      2\u001b[0m mo \u001b[38;5;241m=\u001b[39m Model(\u001b[38;5;124m\"\u001b[39m\u001b[38;5;124mtbabs*powerlaw\u001b[39m\u001b[38;5;124m\"\u001b[39m)\n\u001b[0;32m----> 3\u001b[0m \u001b[43mFit\u001b[49m\u001b[38;5;241;43m.\u001b[39;49m\u001b[43mperform\u001b[49m\u001b[43m(\u001b[49m\u001b[43m)\u001b[49m\n\u001b[1;32m      4\u001b[0m Plot\u001b[38;5;241m.\u001b[39mdevice \u001b[38;5;241m=\u001b[39m \u001b[38;5;124m\"\u001b[39m\u001b[38;5;124m/xs\u001b[39m\u001b[38;5;124m\"\u001b[39m\n\u001b[1;32m      5\u001b[0m Plot(\u001b[38;5;124m\"\u001b[39m\u001b[38;5;124mdata resid\u001b[39m\u001b[38;5;124m\"\u001b[39m)\n",
      "File \u001b[0;32m/mnt/c/Users/acer/HEASoft/heasoft-6.34/x86_64-pc-linux-gnu-libc2.35/lib/python/xspec/fit.py:533\u001b[0m, in \u001b[0;36mFitManager.perform\u001b[0;34m(self)\u001b[0m\n\u001b[1;32m    530\u001b[0m \u001b[38;5;250m\u001b[39m\u001b[38;5;124;03m\"\"\"Perform a fit.\"\"\"\u001b[39;00m\n\u001b[1;32m    532\u001b[0m fitArgs \u001b[38;5;241m=\u001b[39m [\u001b[38;5;124m\"\u001b[39m\u001b[38;5;124mfit\u001b[39m\u001b[38;5;124m\"\u001b[39m]\n\u001b[0;32m--> 533\u001b[0m \u001b[43m_pyXspec\u001b[49m\u001b[38;5;241;43m.\u001b[39;49m\u001b[43mdoXspecCmd\u001b[49m\u001b[43m(\u001b[49m\u001b[43mfitArgs\u001b[49m\u001b[43m)\u001b[49m\n",
      "\u001b[0;31mException\u001b[0m: Error executing command: fit"
     ]
    }
   ],
   "source": [
    "AllModels.clear()\n",
    "mo = Model(\"tbabs*powerlaw\")\n",
    "Fit.perform()\n",
    "Plot.device = \"/xs\"\n",
    "Plot(\"data resid\")\n",
    "nH_powerlaw = mo.TBabs.nH.values[0]\n",
    "AllModels.calcFlux(\".2 12.0\")"
   ]
  },
  {
   "cell_type": "markdown",
   "id": "a416c19e-0b48-4a9d-b015-5d6c11af60f8",
   "metadata": {},
   "source": [
    "## Column density nH\n",
    "### 3DNH-tool\n",
    "http://astro.uni-tuebingen.de/nh3d/nhtool\n",
    "\n",
    "**Sky coordinates (°) :** (GAIA)\n",
    "\n",
    "- RA = 53.3748310°\n",
    "- Dec = -27.2428069°\n",
    "\n",
    "53.37 -27.24\n",
    "\n",
    "**Column density :** nH = 2*10^20 cm^-2"
   ]
  },
  {
   "cell_type": "code",
   "execution_count": 12,
   "id": "c45820eb-f59b-4c5e-bc21-e7f3fa5aa773",
   "metadata": {},
   "outputs": [
    {
     "name": "stdout",
     "output_type": "stream",
     "text": [
      "The model give a column density of :\n",
      "\n",
      "\u001b[1mapec\u001b[0m\n",
      "(tbabs) : 5.2590052882762344e+23\n"
     ]
    }
   ],
   "source": [
    "print(\"The model give a column density of :\")\n",
    "print()\n",
    "print(color.BOLD+\"apec\"+color.END)\n",
    "print(f\"(tbabs) : {nH_apec*10**22}\")"
   ]
  },
  {
   "cell_type": "markdown",
   "id": "1973f13c-7580-446c-b7fe-bf273fd37c5d",
   "metadata": {},
   "source": [
    "## Flux\n",
    "### X-ray flux\n",
    "- X-ray flux of the best-fitting model ``Apec`` with C-statistic = 50.3568 using 28 bins: **2.4852e-14 ergs/cm^2/s**."
   ]
  },
  {
   "cell_type": "code",
   "execution_count": 4,
   "id": "4e93ef39-9046-44fe-a12f-a84de18a36e6",
   "metadata": {},
   "outputs": [
    {
     "name": "stdout",
     "output_type": "stream",
     "text": [
      "\u001b[1mX-ray flux : \u001b[0m\n",
      "Apec : F_x-ray = 2.4852e-14 ergs/cm^2/s\n"
     ]
    }
   ],
   "source": [
    "Flux = 2.4852e-14 # ergs/cm^2/s\n",
    "print(color.BOLD+\"X-ray flux : \"+color.END)\n",
    "print(f\"Apec : F_x-ray = {Flux} ergs/cm^2/s\")"
   ]
  },
  {
   "cell_type": "markdown",
   "id": "c35f60c4-d6f3-4fa7-812a-b34bed342910",
   "metadata": {},
   "source": [
    "### Optical flux"
   ]
  },
  {
   "cell_type": "code",
   "execution_count": 5,
   "id": "f5fff1c1-b003-4884-9465-403837f11f4e",
   "metadata": {},
   "outputs": [
    {
     "name": "stdout",
     "output_type": "stream",
     "text": [
      "\u001b[1mOptical flux : \u001b[0mF_optical = 9.590236099191845e-13 ergs/cm^2/s\n"
     ]
    }
   ],
   "source": [
    "def F_optical(mag):\n",
    "    F0 = 1.05*10**(-5) # GAIA zero point magnitude\n",
    "    return F0*10**(-0.4*mag)\n",
    "    \n",
    "G = 17.5984\n",
    "\n",
    "F = F_optical(G)\n",
    "\n",
    "print(color.BOLD+\"Optical flux : \"+color.END+f\"F_optical = {F} ergs/cm^2/s\")"
   ]
  },
  {
   "cell_type": "markdown",
   "id": "e21356f8-c6cb-4ec5-97ac-514fca991518",
   "metadata": {},
   "source": [
    "### X-ray flux / Optical flux ratio"
   ]
  },
  {
   "cell_type": "code",
   "execution_count": 6,
   "id": "e5b46d21-be5f-401c-ad14-81bd23150bfc",
   "metadata": {},
   "outputs": [
    {
     "name": "stdout",
     "output_type": "stream",
     "text": [
      "\u001b[1mX-ray flux / Optical flux ratio : \u001b[0mF_x-ray/F_optical = 0.025913856283573913\n"
     ]
    }
   ],
   "source": [
    "print(color.BOLD+\"X-ray flux / Optical flux ratio : \"+color.END+f\"F_x-ray/F_optical = {Flux/F}\")"
   ]
  },
  {
   "cell_type": "markdown",
   "id": "c8c6cc3c-5807-4c13-a57f-a4ce5da37435",
   "metadata": {},
   "source": [
    "## Luminosity"
   ]
  },
  {
   "cell_type": "code",
   "execution_count": 7,
   "id": "d586c000-4d0d-466d-b61a-9dae79785426",
   "metadata": {},
   "outputs": [
    {
     "name": "stdout",
     "output_type": "stream",
     "text": [
      "\u001b[1m(GAIA)\u001b[0m\n",
      "Distance : d = 1.5556059689453518e+21 cm\n",
      "\u001b[1mLuminosity : \u001b[0m\n",
      "Apec : L_x-ray = 7.557365222518324e+29 erg/s\n"
     ]
    }
   ],
   "source": [
    "\"\"\"GAIA\"\"\"\n",
    "\n",
    "P_mas = 1.9836 # Parallaxe en mas\n",
    "d_kpc = 1/P_mas # Distance en kpc\n",
    "d_cm = d_kpc*3.0857*10**21 # Distance en cm, avec 1 pc = 3.0857*10^18 cm\n",
    "\n",
    "# La source est supposée sphérique pour le calcul de la luminosité : L = 4*pi*F*D^2\n",
    "Luminosity = 4*np.pi*Flux*(d_cm)**2 # erg/s\n",
    "\n",
    "print(color.BOLD+\"(GAIA)\"+color.END)\n",
    "print(f\"Distance : d = {d_cm} cm\")\n",
    "print(color.BOLD+\"Luminosity : \"+color.END)\n",
    "print(f\"Apec : L_x-ray = {Luminosity} erg/s\")"
   ]
  }
 ],
 "metadata": {
  "kernelspec": {
   "display_name": "Python 3 (ipykernel)",
   "language": "python",
   "name": "python3"
  },
  "language_info": {
   "codemirror_mode": {
    "name": "ipython",
    "version": 3
   },
   "file_extension": ".py",
   "mimetype": "text/x-python",
   "name": "python",
   "nbconvert_exporter": "python",
   "pygments_lexer": "ipython3",
   "version": "3.10.12"
  }
 },
 "nbformat": 4,
 "nbformat_minor": 5
}
