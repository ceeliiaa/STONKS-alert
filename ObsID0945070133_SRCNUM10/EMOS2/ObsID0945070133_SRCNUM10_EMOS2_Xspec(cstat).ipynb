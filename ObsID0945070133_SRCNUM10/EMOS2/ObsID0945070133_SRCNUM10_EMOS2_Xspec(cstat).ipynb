{
 "cells": [
  {
   "cell_type": "markdown",
   "id": "a09472f9-b7b4-4047-9978-0b5adf3b464f",
   "metadata": {},
   "source": [
    "# ObsID : 0945070133, SRCNUM : 10, Instru : EMOS2\n",
    "**Simbad :** Star (2MASS J03332989-2714334) https://simbad.cds.unistra.fr/simbad/sim-id?Ident=%4013058032&Name=2MASS%20J03332989-2714334&submit=submit"
   ]
  },
  {
   "cell_type": "markdown",
   "id": "ee9befb7-bf2d-4e88-a03c-547580248cff",
   "metadata": {},
   "source": [
    "## ESASky\n",
    "https://sky.esa.int/esasky/?target=53.37579166666667%20-27.242833333333333&hips=XMM-Newton+EPIC+color&fov=1&projection=SIN&cooframe=J2000&sci=true&lang=fr\n",
    "\n",
    "``EPIC Stack``\n",
    "- Stack Catalogue name : 4XMMs J033329.9-271434\n",
    "- IAU name : 4XMM J033329.9-271433\n",
    "- RA : 03h 33m 29.959s\n",
    "- DEC : -27° 14' 34.10\"\n",
    "\n",
    "``GAIA``\n",
    "- Designation : Gaia DR3 5060545834987968640\n",
    "- RA : 03h 33m 29.937s\n",
    "- DEC : -27° 14' 33.44\"\n",
    "- Parallax : 1.9836 mas\n",
    "- G : 17.5984\n",
    "\n",
    "``2MASS``\n",
    "- Name : 03332989-2714334\n",
    "- RA : 03h 33m 29.898s\n",
    "- DEC : -27° 14' 33.48\""
   ]
  },
  {
   "cell_type": "code",
   "execution_count": 1,
   "id": "311ae079-ccd8-41c3-aac4-08c99f67b431",
   "metadata": {},
   "outputs": [],
   "source": [
    "from xspec import *\n",
    "from stingray import Lightcurve\n",
    "from astropy.io import fits\n",
    "import matplotlib.pyplot as plt\n",
    "import matplotlib.image as mpimg\n",
    "import glob\n",
    "import numpy as np\n",
    "\n",
    "class color:\n",
    "   PURPLE = '\\033[95m'\n",
    "   CYAN = '\\033[96m'\n",
    "   DARKCYAN = '\\033[36m'\n",
    "   BLUE = '\\033[94m'\n",
    "   GREEN = '\\033[92m'\n",
    "   YELLOW = '\\033[93m'\n",
    "   RED = '\\033[91m'\n",
    "   BOLD = '\\033[1m'\n",
    "   UNDERLINE = '\\033[4m'\n",
    "   END = '\\033[0m'\n",
    "\n",
    "plt.rcParams['figure.figsize'] = [12,7]"
   ]
  },
  {
   "cell_type": "markdown",
   "id": "e5eae72e-1db6-4cb9-ba31-b2747fcbe059",
   "metadata": {},
   "source": [
    "## Fit statistic"
   ]
  },
  {
   "cell_type": "code",
   "execution_count": 2,
   "id": "69840d8c-939c-4937-a2e6-39723c7cbd4c",
   "metadata": {},
   "outputs": [
    {
     "name": "stdout",
     "output_type": "stream",
     "text": [
      "Default fit statistic is set to: C-Statistic\n",
      "   This will apply to all current and newly loaded spectra.\n",
      "Parameter delta values for fits will now be 0.0001 * parValue\n"
     ]
    }
   ],
   "source": [
    "Fit.statMethod = \"cstat\"\n",
    "Fit.nIterations = 100000\n",
    "Fit.delta = 1e-4\n",
    "Fit.criticalDelta = 1e-4"
   ]
  },
  {
   "cell_type": "markdown",
   "id": "39b7d9d2-7930-4892-81ba-8bd2db47e610",
   "metadata": {},
   "source": [
    "## Load files"
   ]
  },
  {
   "cell_type": "code",
   "execution_count": 3,
   "id": "cd0bcd6f-9565-4899-90b7-1e5d87e7050a",
   "metadata": {},
   "outputs": [
    {
     "name": "stdout",
     "output_type": "stream",
     "text": [
      "***Warning: Detected response matrix energy bin value = 0 (or neg).\n",
      "     XSPEC will instead use small finite value (response file will not be altered).\n",
      "\n",
      "1 spectrum  in use\n",
      " \n",
      "Spectral Data File: ObsID0945070133_SRCNUM10_EMOS2_spectrum_grp_cstat.fits  Spectrum 1\n",
      "Net count rate (cts/s) for Spectrum:1  2.515e-03 +/- 6.674e-04 (70.4 % total)\n",
      " Assigned to Data Group 1 and Plot Group 1\n",
      "  Noticed Channels:  1-31\n",
      "  Telescope: XMM Instrument: EMOS2  Channel Type: PI\n",
      "  Exposure Time: 8678 sec\n",
      " Using fit statistic: cstat\n",
      " Using Background File                ObsID0945070133_SRCNUM10_EMOS2_background_spectrum.fits\n",
      "  Background Exposure Time: 8679 sec\n",
      " Using Response (RMF) File            ObsID0945070133_SRCNUM10_EMOS2.rmf for Source 1\n",
      " Using Auxiliary Response (ARF) File  ObsID0945070133_SRCNUM10_EMOS2.arf\n",
      "\n"
     ]
    }
   ],
   "source": [
    "AllData.clear()\n",
    "spec = Spectrum(glob.glob('ObsID*_SRCNUM*_E*_spectrum_grp_cstat.fits')[0])"
   ]
  },
  {
   "cell_type": "code",
   "execution_count": 4,
   "id": "f2bac02c-abce-493d-9485-4861e680e17c",
   "metadata": {},
   "outputs": [
    {
     "name": "stdout",
     "output_type": "stream",
     "text": [
      "Number of counts = 21.82517\n",
      "\n",
      "The low number of counts indicates that we should consider using cstat fit statistic instead of chi statistic.\n"
     ]
    }
   ],
   "source": [
    "n_cts = 2.515e-03*8678\n",
    "\n",
    "print(\"Number of counts =\",n_cts)\n",
    "\n",
    "if int(n_cts)<100:\n",
    "    print()\n",
    "    print(\"The low number of counts indicates that we should consider using cstat fit statistic instead of chi statistic.\")"
   ]
  },
  {
   "cell_type": "markdown",
   "id": "870eec10-27a5-4341-a01c-4a98ac400133",
   "metadata": {},
   "source": [
    "## Plot spectrum"
   ]
  },
  {
   "cell_type": "code",
   "execution_count": 5,
   "id": "37f98bf3-3d31-4c65-891f-3ea006da7786",
   "metadata": {},
   "outputs": [
    {
     "name": "stdout",
     "output_type": "stream",
     "text": [
      "     3 channels (1-3) ignored in spectrum #     1\n",
      "    20 channels (12,31) ignored in spectrum #     1\n",
      "\n"
     ]
    }
   ],
   "source": [
    "Plot.xAxis=\"keV\"\n",
    "Plot.device = \"/xs\"\n",
    "Plot.xLog=True\n",
    "Plot.yLog=True\n",
    "#Plot.addCommand(\"Rescale Y 0.000001 0.05\")\n",
    "Plot(\"data\")\n",
    "spec.ignore(\"**-0.2 12-**\")"
   ]
  },
  {
   "cell_type": "code",
   "execution_count": 6,
   "id": "27bf0415-368d-4476-8ef7-29af925b48ee",
   "metadata": {},
   "outputs": [
    {
     "data": {
      "text/plain": [
       "(-0.5, 855.5, 660.5, -0.5)"
      ]
     },
     "execution_count": 6,
     "metadata": {},
     "output_type": "execute_result"
    },
    {
     "data": {
      "image/png": "[encoded data removed]",
      "text/plain": [
       "<Figure size 1200x700 with 1 Axes>"
      ]
     },
     "metadata": {},
     "output_type": "display_data"
    }
   ],
   "source": [
    "img = plt.imread(glob.glob('ObsID*_SRCNUM*_E*_Spectrum2.png')[0])\n",
    "plt.imshow(img)\n",
    "plt.axis('off')"
   ]
  },
  {
   "cell_type": "markdown",
   "id": "7eb1edda-21f0-4876-bdbc-8cb3e4a347dc",
   "metadata": {},
   "source": [
    "### Black body model"
   ]
  },
  {
   "cell_type": "code",
   "execution_count": 7,
   "id": "25e94b4e-0bb6-439e-af07-e82ebf0faa48",
   "metadata": {
    "scrolled": true
   },
   "outputs": [
    {
     "name": "stdout",
     "output_type": "stream",
     "text": [
      "\n",
      "========================================================================\n",
      "Model TBabs<1>*bbody<2> Source No.: 1   Active/On\n",
      "Model Model Component  Parameter  Unit     Value\n",
      " par  comp\n",
      "   1    1   TBabs      nH         10^22    1.00000      +/-  0.0          \n",
      "   2    2   bbody      kT         keV      3.00000      +/-  0.0          \n",
      "   3    2   bbody      norm                1.00000      +/-  0.0          \n",
      "________________________________________________________________________\n",
      "\n",
      "tbvabs Version 2.3\n",
      "Cosmic absorption with grains and H2, modified from\n",
      "Wilms, Allen, & McCray, 2000, ApJ 542, 914-924\n",
      "Questions: Joern Wilms\n",
      "joern.wilms@sternwarte.uni-erlangen.de\n",
      "joern.wilms@fau.de\n",
      "\n",
      "http://pulsar.sternwarte.uni-erlangen.de/wilms/research/tbabs/\n",
      "\n",
      "PLEASE NOTICE:\n",
      "To get the model described by the above paper\n",
      "you will also have to set the abundances:\n",
      "   abund wilm\n",
      "\n",
      "Note that this routine ignores the current cross section setting\n",
      "as it always HAS to use the Verner cross sections as a baseline.\n",
      "\n",
      "Fit statistic  : C-Statistic                27403.70     using 8 bins.\n",
      "\n",
      "Test statistic : Chi-Squared              3.079868e+07     using 8 bins.\n",
      " Null hypothesis probability of 0.000000e+00 with 5 degrees of freedom\n",
      " Current data and model not fit yet.\n",
      "                                   Parameters\n",
      "C-Statistic  |beta|/N    Lvl          1:nH          2:kT        3:norm\n",
      "18.2348      7330.81      -3      0.417156       199.063      0.434015\n",
      "4.49479      0.160045     -4     0.0407334       38.2837      0.142061\n",
      "3.97328      1.15126      -1      0.291042       34.0897      0.188223\n",
      "3.96577      0.350069     -1      0.257946       34.3191      0.182740\n",
      "3.96489      0.059219     -1      0.272852       34.0857      0.184723\n",
      "3.96471      0.0224433    -1      0.266666       34.1163      0.182899\n",
      "3.96464      0.014652     -1      0.269400       34.0317      0.182578\n",
      "========================================\n",
      " Variances and Principal Axes\n",
      "                 1        2        3  \n",
      " 4.0923E-03| -0.3954  -0.0147   0.9184  \n",
      " 2.0710E+00|  0.9185  -0.0061   0.3954  \n",
      " 8.5091E+06| -0.0002   0.9999   0.0159  \n",
      "----------------------------------------\n",
      "\n",
      "====================================\n",
      "  Covariance Matrix\n",
      "        1           2           3   \n",
      "   2.238e+00  -2.041e+03  -3.164e+01\n",
      "  -2.041e+03   8.507e+06   1.350e+05\n",
      "  -3.164e+01   1.350e+05   2.143e+03\n",
      "------------------------------------\n",
      "\n",
      "========================================================================\n",
      "Model TBabs<1>*bbody<2> Source No.: 1   Active/On\n",
      "Model Model Component  Parameter  Unit     Value\n",
      " par  comp\n",
      "   1    1   TBabs      nH         10^22    0.269400     +/-  1.49585      \n",
      "   2    2   bbody      kT         keV      34.0317      +/-  2916.66      \n",
      "   3    2   bbody      norm                0.182578     +/-  46.2904      \n",
      "________________________________________________________________________\n",
      "\n",
      "\n",
      "Fit statistic  : C-Statistic                  3.9646     using 8 bins.\n",
      "\n",
      "Test statistic : Chi-Squared                  3.7141     using 8 bins.\n",
      " Null hypothesis probability of 5.9127e-01 with 5 degrees of freedom\n"
     ]
    }
   ],
   "source": [
    "AllModels.clear()\n",
    "mo = Model(\"tbabs*bbody\")\n",
    "Fit.perform()\n",
    "Plot.device = \"/xs\"\n",
    "Plot(\"data resid\")\n",
    "plt.show()\n",
    "nH_bbody = mo.TBabs.nH.values[0]"
   ]
  },
  {
   "cell_type": "code",
   "execution_count": 8,
   "id": "e04eaffd-c5db-46a3-8597-dc279e6a5f92",
   "metadata": {},
   "outputs": [
    {
     "data": {
      "text/plain": [
       "(-0.5, 850.5, 655.5, -0.5)"
      ]
     },
     "execution_count": 8,
     "metadata": {},
     "output_type": "execute_result"
    },
    {
     "data": {
      "image/png": "[encoded data removed]",
      "text/plain": [
       "<Figure size 1200x700 with 1 Axes>"
      ]
     },
     "metadata": {},
     "output_type": "display_data"
    }
   ],
   "source": [
    "img = plt.imread(glob.glob('ObsID*_SRCNUM*_E*_Spectrum_bbody2.png')[0])\n",
    "plt.imshow(img)\n",
    "plt.axis('off')"
   ]
  },
  {
   "cell_type": "markdown",
   "id": "b77a2e66-8412-4d85-a277-10782493ea2e",
   "metadata": {},
   "source": [
    "### Bremsstrahlung model"
   ]
  },
  {
   "cell_type": "code",
   "execution_count": 9,
   "id": "3ed606fb-6f75-4369-b9c8-b5c95a0a9577",
   "metadata": {},
   "outputs": [
    {
     "name": "stdout",
     "output_type": "stream",
     "text": [
      "\n",
      "========================================================================\n",
      "Model TBabs<1>*bremss<2> Source No.: 1   Active/On\n",
      "Model Model Component  Parameter  Unit     Value\n",
      " par  comp\n",
      "   1    1   TBabs      nH         10^22    1.00000      +/-  0.0          \n",
      "   2    2   bremss     kT         keV      7.00000      +/-  0.0          \n",
      "   3    2   bremss     norm                1.00000      +/-  0.0          \n",
      "________________________________________________________________________\n",
      "\n",
      "\n",
      "Fit statistic  : C-Statistic                31547.08     using 8 bins.\n",
      "\n",
      "Test statistic : Chi-Squared              3.768877e+07     using 8 bins.\n",
      " Null hypothesis probability of 0.000000e+00 with 5 degrees of freedom\n",
      " Current data and model not fit yet.\n",
      "                                   Parameters\n",
      "C-Statistic  |beta|/N    Lvl          1:nH          2:kT        3:norm\n",
      "18.5419      13298        -3       966.803       3.15593     0.0936389\n",
      "18.5275      3.04354e-06  -4       108.312       1.27332     0.0348610\n",
      "18.2134      0.0712517     2       66.9805       1.64323     0.0779923\n",
      "17.1222      0.703768      1       52.2116       1.94400      0.121186\n",
      "8.74941      1.90322       0       25.9421       2.80982      0.252584\n",
      "8.51478      1.2117        0       25.2229       2.61531      0.238563\n",
      "7.42098      0.288276     -1       16.6715       1.59578      0.188346\n",
      "7.36495      0.840943     -1       16.2459       1.50054      0.209027\n",
      "7.34         0.252135     -1       16.4855       1.44849      0.234129\n",
      "7.31586      0.202982     -1       16.6733       1.39520      0.261343\n",
      "7.29224      0.178385     -1       16.8591       1.34618      0.291398\n",
      "7.26919      0.158186     -1       17.0437       1.30170      0.324498\n",
      "7.24659      0.137475     -1       17.2237       1.26014      0.360912\n",
      "7.22435      0.121252     -1       17.4003       1.22123      0.401068\n",
      "7.20245      0.10775      -1       17.5754       1.18486      0.445369\n",
      "7.1809       0.0957887    -1       17.7498       1.15092      0.494160\n",
      "7.15976      0.0851176    -1       17.9242       1.11931      0.547720\n",
      "7.1389       0.075613     -1       18.0937       1.08926      0.606694\n",
      "6107      0.671566636     -1       18.2633       1.0\n",
      "7.09823      0.0604662    -1       18.4345       1.03482      0.742529\n",
      "7.07833      0.053703     -1       18.5986       1.00951      0.820594\n",
      "7.05873      0.0484824    -1       18.7644      0.985745      0.906308\n",
      "7.03941      0.0434076    -1       18.9285      0.963150       1.00034\n",
      "7.02042      0.0391699    -1       19.0927      0.941813       1.10329\n",
      "7.00171      0.0351129    -1       19.2548      0.921478       1.21598\n",
      "6.98332      0.0317473    -1       19.4163      0.902196       1.33914\n",
      "6.96525      0.0286102    -1       19.5767      0.883860       1.47359\n",
      "6.94746      0.0257246    -1       19.7353      0.866353       1.62033\n",
      "6.92999      0.0232555    -1       19.8930      0.849679       1.78028\n",
      "6.91279      0.0209436    -1       20.0487      0.833706       1.95466\n",
      "6.89589      0.0190516    -1       20.2039      0.818485       2.14446\n",
      "6.87933      0.0172975    -1       20.3589      0.804016       2.35041\n",
      "6.8635       0.0182326    -1       20.5227      0.790997       2.56936\n",
      "6.84798      0.0143062    -1       20.6726      0.778134       2.80459\n",
      "6.83225      0.011493     -1       20.8053      0.764752       3.06504\n",
      "6.81678      0.01084      -1       20.9505      0.752304       3.34948\n",
      "6.8016       0.010149     -1       21.0978      0.740471       3.65771\n",
      "6.7867       0.00911621   -1       21.2441      0.729121       3.99103\n",
      "6.7721       0.00815418   -1       21.3892      0.718226       4.35106\n",
      "6.75777      0.00715766   -1       21.5325      0.707728       4.73976\n",
      "6.74373      0.00645631   -1       21.6750      0.697651       5.15876\n",
      "6.72996      0.00584707   -1       21.8159      0.687946       5.61001\n",
      "6.71695      0.00969601   -1       21.9692      0.679399       6.08195\n",
      "6.7037       0.0102693    -1       22.0916      0.669975       6.59941\n",
      "6.6912       0.00706685   -1       22.2391      0.661949       7.14276\n",
      "6.67891      0.00421288   -1       22.3721      0.653867       7.72150\n",
      "6.66637      0.0138898    -1       22.4877      0.645274       8.35934\n",
      "6.65408      0.00791976   -1       22.6166      0.637292       9.04861\n",
      "6.64205      0.00708162   -1       22.7477      0.629657       9.78811\n",
      "6.63023      0.0083692    -1       22.8774      0.622257       10.5807\n",
      "6.61867      0.008229     -1       23.0068      0.615130       11.4284\n",
      "6.60733      0.0095784    -1       23.1343      0.608209       12.3350\n",
      "6.59622      0.00993671   -1       23.2611      0.601524       13.3030\n",
      "6.58533      0.0111785    -1       23.3862      0.595038       14.3364\n",
      "6.57497      0.00317096   -1       23.5202      0.589191       15.4130\n",
      "6.56451      0.0178974    -1       23.6328      0.582915       16.5780\n",
      "6.55426      0.0147996    -1       23.7520      0.576973       17.8229\n",
      "6.54433      0.0110947    -1       23.8756      0.571387       19.1356\n",
      "6.53445      0.016199     -1       23.9900      0.565748       20.5420\n",
      "6.52472      0.0175603    -1       24.1061      0.560301       22.0404\n",
      "6.51505      0.0177787    -1       24.2220      0.555024       23.6334\n",
      "6.50266      0.0948522    -1       24.2630      0.546836       25.6329\n",
      "6.488        0.0643375    -1       24.4412      0.542911       27.5811\n",
      "6.4767       0.0667785    -1       24.5584      0.537601       29.6215\n",
      "6.46512      0.0294937    -1       24.6662      0.532304       31.8483\n",
      "6.45358      0.0287796    -1       24.7743      0.527033       34.2729\n",
      "6.43888      0.181318     -1       24.7517      0.516761       37.7355\n",
      "6.42668      0.171239     -1       24.9845      0.513725       40.9461\n",
      "6.41578      0.0115349    -1       25.1459      0.509490       44.1999\n",
      "6.40513      0.0125823    -1       25.2784      0.504957       47.6313\n",
      "6.39613      0.0379604    -1       25.4468      0.501932       50.8999\n",
      "6.38567      0.0685403    -1       25.5246      0.496845       54.6666\n",
      "6.37539      0.032388     -1       25.6287      0.492259       58.7779\n",
      "6.36532      0.0263258    -1       25.7419      0.487904       63.1985\n",
      "6.35531      0.0246319    -1       25.8581      0.483702       67.9271\n",
      "6.34542      0.0249732    -1       25.9744      0.479609       72.9770\n",
      "6.33563      0.0259557    -1       26.0900      0.475609       78.3674\n",
      "6.32593      0.0271861    -1       26.2046      0.471687       84.1243\n",
      "6.31633      0.0273645    -1       26.3189      0.467864       90.2635\n",
      "6.30681      0.0293431    -1       26.4322      0.464113       96.8126\n",
      "6.29741      0.0303743    -1       26.5445      0.460433       103.802\n",
      "6.28809      0.0307772    -1       26.6567      0.456838       111.251\n",
      "6.27884      0.0320745    -1       26.7679      0.453309       119.195\n",
      "6.26975      0.0322195    -1       26.8786      0.449855       127.660\n",
      "6.26079      0.0188786    -1       26.9897      0.446567       136.648\n",
      "6.25195      0.0340803    -1       27.0992      0.443315       146.185\n",
      "6.24319      0.036712     -1       27.2070      0.440110       156.329\n",
      "6.23452      0.0376622    -1       27.3140      0.436962       167.119\n",
      "6.22628      0.0180351    -1       27.4320      0.434174       178.231\n",
      "6.21775      0.0558724    -1       27.5274      0.431025       190.314\n",
      "6.20954      0.0289831    -1       27.6368      0.428210       202.938\n",
      "6.20115      0.0548702    -1       27.7328      0.425187       216.594\n",
      "6.19283      0.0458398    -1       27.8334      0.422271       231.172\n",
      "6.18457      0.0443607    -1       27.9357      0.419427       246.688\n",
      "6.17638      0.0451282    -1       28.0383      0.416635       263.186\n",
      "6.16826      0.0451943    -1       28.1406      0.413893       280.722\n",
      "6.16019      0.0460214    -1       28.2428      0.411200       299.343\n",
      "6.1522       0.0461296    -1       28.3448      0.408560       319.102\n",
      "6.14427      0.0490956    -1       28.4457      0.405950       340.097\n",
      "6.13639      0.0489073    -1       28.5465      0.403387       362.378\n",
      "6.12858      0.0498674    -1       28.6468      0.400865       386.027\n",
      "6.12082      0.051194     -1       28.7466      0.398380       411.131\n",
      "6.11313      0.051612     -1       28.8461      0.395937       437.762\n",
      "6.10549      0.0528349    -1       28.9454      0.393533       466.000\n",
      "6.0979       0.0546814    -1       29.0437      0.391155       495.988\n",
      "6.09039      0.053084     -1       29.1426      0.388831       527.729\n",
      "6.08292      0.055818     -1       29.2405      0.386533       561.391\n",
      "6.0755       0.056245     -1       29.3380      0.384269       597.078\n",
      "6.06815      0.0566666    -1       29.4354      0.382044       634.871\n",
      "6.06085      0.0587793    -1       29.5321      0.379846       674.929\n",
      "6.05359      0.0595723    -1       29.6284      0.377679       717.382\n",
      "6.04639      0.0592143    -1       29.7248      0.375551       762.305\n",
      "6.03925      0.0614662    -1       29.8205      0.373448       809.880\n",
      "6.03215      0.061564     -1       29.9160      0.371378       860.240\n",
      "6.02511      0.0624866    -1       30.0111      0.369337       913.531\n",
      "6.01812      0.0630862    -1       30.1060      0.367328       969.905\n",
      "6.01118      0.0644949    -1       30.2005      0.365347       1029.51\n",
      "6.00429      0.0658535    -1       30.2943      0.363389       1092.60\n",
      "5.99745      0.0657793    -1       30.3882      0.361465       1159.26\n",
      "5.99065      0.0680876    -1       30.4814      0.359561       1229.78\n",
      "5.9839       0.0684875    -1       30.5743      0.357684       1304.34\n",
      "5.9772       0.0687828    -1       30.6670      0.355834       1383.11\n",
      "5.97054      0.0699246    -1       30.7593      0.354008       1466.38\n",
      "5.96392      0.0711558    -1       30.8512      0.352204       1554.38\n",
      "5.95736      0.0713807    -1       30.9431      0.350430       1647.27\n",
      "5.95084      0.07289      -1       31.0346      0.348678       1745.36\n",
      "5.94436      0.0740838    -1       31.1255      0.346946       1848.96\n",
      "5.93792      0.0751166    -1       31.2160      0.345235       1958.40\n",
      "5.93153      0.0757643    -1       31.3065      0.343548       2073.89\n",
      "5.92517      0.0777433    -1       31.3962      0.341875       2195.96\n",
      "5.91886      0.076979     -1       31.4862      0.340231       2324.69\n",
      "5.91259      0.0774856    -1       31.5759      0.338609       2460.46\n",
      "5.90636      0.0803571    -1       31.6650      0.337003       2603.76\n",
      "5.90016      0.0805354    -1       31.7539      0.335418       2754.89\n",
      "5.89401      0.0811298    -1       31.8426      0.333853       2914.26\n",
      "5.8879       0.0816403    -1       31.9310      0.332308       3082.28\n",
      "5.88184      0.0814622    -1       32.0193      0.330785       3259.26\n",
      "5.87581      0.083897     -1       32.1069      0.329276       3445.90\n",
      "5.86981      0.0849485    -1       32.1943      0.327785       3642.64\n",
      "5.86385      0.0858811    -1       32.2813      0.326312       3849.98\n",
      "5.85793      0.0861543    -1       32.3684      0.324859       4068.31\n",
      "5.85205      0.0880012    -1       32.4548      0.323418       4298.45\n",
      "5.8462       0.0874929    -1       32.5413      0.321999       4540.71\n",
      "5.8404       0.0892042    -1       32.6275      0.320598       4795.65\n",
      "5.83461      0.0920954    -1       32.7127      0.319203       5064.62\n",
      "5.82886      0.0916495    -1       32.7981      0.317826       5347.84\n",
      "5.82315      0.0911837    -1       32.8835      0.316468       5645.86\n",
      "5.81745      0.0942345    -1       32.9678      0.315115       5960.39\n",
      "5.81181      0.0922376    -1       33.0530      0.313789       6290.84\n",
      "5.8062       0.0944642    -1       33.1378      0.312477       6638.42\n",
      "5.80062      0.0959066    -1       33.2221      0.311177       7004.23\n",
      "5.79507      0.0958666    -1       33.3062      0.309893       7388.88\n",
      "5.78956      0.0965118    -1       33.3901      0.308625       7793.32\n",
      "5.78408      0.0987255    -1       33.4736      0.307367       8218.73\n",
      "5.77863      0.099341     -1       33.5567      0.306122       8666.26\n",
      "5.77321      0.099277     -1       33.6400      0.304895       9136.27\n",
      "5.76783      0.100743     -1       33.7227      0.303679       9630.53\n",
      "5.76248      0.100336     -1       33.8055      0.302479       10149.4\n",
      "5.75715      0.103765     -1       33.8875      0.301285       10695.4\n",
      "5.75186      0.103548     -1       33.9694      0.300106       11269.1\n",
      "5.74659      0.104489     -1       34.0512      0.298940       11871.8\n",
      "5.74136      0.105213     -1       34.1327      0.297786       12504.9\n",
      "5.73615      0.10642      -1       34.2139      0.296642       13170.1\n",
      "5.73097      0.105442     -1       34.2953      0.295515       13868.1\n",
      "5.72582      0.109196     -1       34.3759      0.294393       14601.7\n",
      "5.7207       0.109267     -1       34.4563      0.293283       15372.3\n",
      "5.7156       0.110291     -1       34.5366      0.292185       16181.5\n",
      "5.71054      0.108557     -1       34.6173      0.291104       17029.4\n",
      "5.70549      0.113896     -1       34.6968      0.290023       17921.2\n",
      "5.70048      0.109641     -1       34.7769      0.288963       18855.2\n",
      "5.69549      0.114304     -1       34.8561      0.287906       19837.0\n",
      "5.69052      0.11429      -1       34.9352      0.286859       20867.3\n",
      "5.68559      0.114736     -1       35.0144      0.285825       21947.9\n",
      "5.68067      0.116567     -1       35.0931      0.284800       23081.9\n",
      "5.67578      0.116446     -1       35.1719      0.283786       24271.0\n",
      "5.67092      0.120029     -1       35.2501      0.282778       25519.2\n",
      "5.66609      0.117485     -1       35.3289      0.281786       26825.7\n",
      "5.66127      0.121211     -1       35.4067      0.280798       28197.0\n",
      "5.65647      0.121859     -1       35.4842      0.279817       29636.6\n",
      "5.6517       0.120293     -1       35.5619      0.278848       31145.0\n",
      "5.64696      0.121455     -1       35.6393      0.277887       32726.7\n",
      "5.64223      0.12334      -1       35.7165      0.276934       34385.2\n",
      "5.63752      0.123174     -1       35.7934      0.275990       36124.2\n",
      "5.63284      0.121892     -1       35.8709      0.275060       37942.9\n",
      "5.62817      0.128727     -1       35.9472      0.274131       39852.2\n",
      "5.62352      0.12819      -1       36.0233      0.273209       41854.6\n",
      "5.61887      0.12986      -1       36.0993      0.272294       43954.9\n",
      "5.61423      0.132218     -1       36.1749      0.271383       46160.4\n",
      "5.60959      0.130532     -1       36.2505      0.270480       48474.0\n",
      "5.60496      0.132825     -1       36.3259      0.269581       50903.1\n",
      "5.60033      0.132904     -1       36.4014      0.268691       53451.1\n",
      "5.59573      0.130506     -1       36.4776      0.267814       56117.1\n",
      "5.59113      0.134478     -1       36.5529      0.266939       58915.1\n",
      "5.58651      0.139485     -1       36.6273      0.266062       61859.2\n",
      "5.5819       0.138804     -1       36.7020      0.265193       64949.8\n",
      "5.57731      0.136759     -1       36.7771      0.264333       68191.3\n",
      "5.57275      0.134441     -1       36.8532      0.263489       71578.3\n",
      "5.56819      0.141043     -1       36.9278      0.262641       75138.4\n",
      "5.56367      0.133528     -1       37.0040      0.261813       78852.7\n",
      "5.55914      0.14433      -1       37.0782      0.260978       82758.9\n",
      "5.55466      0.135803     -1       37.1539      0.260163       86834.7\n",
      "5.55017      0.144465     -1       37.2279      0.259343       91119.3\n",
      "5.54574      0.136262     -1       37.3036      0.258544       95583.8\n",
      "5.54129      0.147555     -1       37.3770      0.257735       100281.\n",
      "5.53688      0.142072     -1       37.4515      0.256940       105191.\n",
      "5.5325       0.142379     -1       37.5261      0.256155       110325.\n",
      "5.52814      0.146978     -1       37.6001      0.255374       115700.\n",
      "5.5238       0.144985     -1       37.6743      0.254601       121319.\n",
      "5.51949      0.144768     -1       37.7483      0.253836       127192.\n",
      "5.51521      0.145764     -1       37.8225      0.253081       133324.\n",
      "5.51095      0.150507     -1       37.8957      0.252327       139741.\n",
      "5.50674      0.141826     -1       37.9702      0.251591       146415.\n",
      "5.50252      0.153633     -1       38.0423      0.250847       153422.\n",
      "5.49833      0.152432     -1       38.1148      0.250112       160746.\n",
      "5.49415      0.152964     -1       38.1873      0.249383       168400.\n",
      "5.49001      0.151397     -1       38.2598      0.248662       176395.\n",
      "5.48591      0.145925     -1       38.3334      0.247959       184701.\n",
      "5.48181      0.157871     -1       38.4046      0.247246       193416.\n",
      "5.47772      0.156751     -1       38.4759      0.246540       202527.\n",
      "5.47367      0.155785     -1       38.5476      0.245842       212037.\n",
      "5.46963      0.157369     -1       38.6190      0.245149       221970.\n",
      "5.46561      0.158034     -1       38.6902      0.244462       232342.\n",
      "5.46162      0.158025     -1       38.7614      0.243781       243169.\n",
      "5.45765      0.159238     -1       38.8324      0.243106       254471.\n",
      "5.4537       0.159178     -1       38.9032      0.242436       266268.\n",
      "5.44977      0.160564     -1       38.9738      0.241772       278574.\n",
      "5.44586      0.162259     -1       39.0442      0.241112       291419.\n",
      "5.44197      0.162641     -1       39.1144      0.240458       304823.\n",
      "5.43811      0.161769     -1       39.1847      0.239811       318789.\n",
      "5.43425      0.165391     -1       39.2544      0.239166       333376.\n",
      "5.43042      0.165848     -1       39.3239      0.238526       348594.\n",
      "5.42661      0.164711     -1       39.3936      0.237894       364451.\n",
      "5.42282      0.167433     -1       39.4628      0.237264       381001.\n",
      "5.41904      0.168646     -1       39.5317      0.236638       398271.\n",
      "5.41529      0.165506     -1       39.6011      0.236021       416243.\n",
      "5.41159      0.159661     -1       39.6715      0.235419       434857.\n",
      "5.40787      0.176485     -1       39.7387      0.234803       454398.\n",
      "5.40416      0.171342     -1       39.8066      0.234195       474775.\n",
      "5.40047      0.175291     -1       39.8740      0.233589       496064.\n",
      "5.3968       0.171394     -1       39.9421      0.232991       518230.\n",
      "5.39318      0.160336     -1       40.0122      0.232414       541116.\n",
      "5.38955      0.181019     -1       40.0788      0.231821       565134.\n",
      "5.38593      0.17626      -1       40.1458      0.231235       590175.\n",
      "5.38233      0.178375     -1       40.2128      0.230653       616286.\n",
      "5.37878      0.16542      -1       40.2818      0.230091       643258.\n",
      "5.3752       0.184909     -1       40.3474      0.229513       671579.\n",
      "5.37165      0.180232     -1       40.4137      0.228942       701097.\n",
      "5.3681       0.180301     -1       40.4802      0.228377       731839.\n",
      "5.36458      0.178642     -1       40.5469      0.227817       763839.\n",
      "5.36107      0.18255      -1       40.6132      0.227260       797200.\n",
      "5.35758      0.181031     -1       40.6795      0.226707       831931.\n",
      "5.3541       0.183813     -1       40.7455      0.226157       868129.\n",
      "5.35063      0.184044     -1       40.8115      0.225611       905821.\n",
      "5.34718      0.18297      -1       40.8776      0.225070       945032.\n",
      "5.34374      0.187261     -1       40.9433      0.224532       985882.\n",
      "5.34033      0.18565      -1       41.0090      0.223998   1.02838e+06\n",
      "5.33696      0.172471     -1       41.0766      0.223482   1.07221e+06\n",
      "5.33357      0.194019     -1       41.1408      0.222952   1.11816e+06\n",
      "5.33019      0.189233     -1       41.2053      0.222427   1.16600e+06\n",
      "5.32684      0.18973      -1       41.2700      0.221906   1.21581e+06\n",
      "5.32349      0.189761     -1       41.3347      0.221390   1.26763e+06\n",
      "5.32015      0.191774     -1       41.3992      0.220875   1.32159e+06\n",
      "5.31683      0.192626     -1       41.4637      0.220365   1.37775e+06\n",
      "5.31352      0.192306     -1       41.5282      0.219859   1.43613e+06\n",
      "5.31023      0.191792     -1       41.5927      0.219357   1.49685e+06\n",
      "5.30695      0.195263     -1       41.6567      0.218856   1.56004e+06\n",
      "5.30369      0.194151     -1       41.7208      0.218360   1.62574e+06\n",
      "5.30044      0.196364     -1       41.7848      0.217867   1.69408e+06\n",
      "5.2972       0.196503     -1       41.8486      0.217377   1.76512e+06\n",
      "5.29398      0.197167     -1       41.9124      0.216891   1.83895e+06\n",
      "5.29076      0.198264     -1       41.9758      0.216407   1.91576e+06\n",
      "5.28756      0.198877     -1       42.0391      0.215926   1.99563e+06\n",
      "5.28438      0.196558     -1       42.1027      0.215450   2.07854e+06\n",
      "5.28121      0.20209      -1       42.1656      0.214975   2.16483e+06\n",
      "5.27805      0.201556     -1       42.2285      0.214503   2.25451e+06\n",
      "5.2749       0.201449     -1       42.2913      0.214034   2.34771e+06\n",
      "5.27177      0.202883     -1       42.3540      0.213568   2.44458e+06\n",
      "5.26864      0.204071     -1       42.4164      0.213104   2.54534e+06\n",
      "5.26553      0.204332     -1       42.4789      0.212644   2.64998e+06\n",
      "5.26243      0.204564     -1       42.5413      0.212187   2.75869e+06\n",
      "5.25935      0.205032     -1       42.6036      0.211734   2.87158e+06\n",
      "5.25628      0.206786     -1       42.6657      0.211282   2.98890e+06\n",
      "5.25322      0.206823     -1       42.7278      0.210834   3.11068e+06\n",
      "5.25017      0.208977     -1       42.7895      0.210388   3.23723e+06\n",
      "5.24713      0.21172      -1       42.8508      0.209943   3.36888e+06\n",
      "5.2441       0.209024     -1       42.9125      0.209502   3.50547e+06\n",
      "5.24109      0.209496     -1       42.9741      0.209065   3.64723e+06\n",
      "5.23809      0.211801     -1       43.0354      0.208629   3.79450e+06\n",
      "5.23511      0.20954      -1       43.0969      0.208199   3.94718e+06\n",
      "5.23213      0.214283     -1       43.1578      0.207768   4.10593e+06\n",
      "5.22917      0.213326     -1       43.2188      0.207341   4.27062e+06\n",
      "5.22627      0.192656     -1       43.2822      0.206932   4.43942e+06\n",
      "5.22333      0.22343      -1       43.3417      0.206508   4.61616e+06\n",
      "5.2204       0.220162     -1       43.4012      0.206086   4.79995e+06\n",
      "5.21749      0.217388     -1       43.4610      0.205667   4.99085e+06\n",
      "5.21463      0.199723     -1       43.5232      0.205265   5.18678e+06\n",
      "5.21173      0.226108     -1       43.5821      0.204850   5.39172e+06\n",
      "5.20885      0.22295      -1       43.6411      0.204437   5.60485e+06\n",
      "5.20598      0.219325     -1       43.7005      0.204029   5.82597e+06\n",
      "5.20312      0.22121      -1       43.7599      0.203623   6.05547e+06\n",
      "5.20027      0.220519     -1       43.8194      0.203220   6.29355e+06\n",
      "5.19743      0.221667     -1       43.8789      0.202819   6.54052e+06\n",
      "5.1946       0.221109     -1       43.9383      0.202421   6.79663e+06\n",
      "5.19178      0.225142     -1       43.9975      0.202025   7.06246e+06\n",
      "5.18897      0.224979     -1       44.0565      0.201630   7.33833e+06\n",
      "5.18618      0.22152      -1       44.1158      0.201240   7.62396e+06\n",
      "5.1834       0.226688     -1       44.1748      0.200851   7.92028e+06\n",
      "5.18062      0.225318     -1       44.2337      0.200464   8.22748e+06\n",
      "5.17786      0.227104     -1       44.2924      0.200079   8.54603e+06\n",
      "5.1751       0.228957     -1       44.3509      0.199696   8.87649e+06\n",
      "5.17236      0.227638     -1       44.4093      0.199315   9.21910e+06\n",
      "5.17201      0.208413     -2       45.0362      0.195641   1.26897e+07\n",
      "5.1485       8.61025      -2       45.3833      0.192324   1.73653e+07\n",
      "5.12855      8.77719      -2       46.1868      0.190082   2.39903e+07\n",
      "5.10278      9.0155       -2       45.9610      0.186024   3.19330e+07\n",
      "5.082        8.25738      -1       46.1042      0.186260   3.38171e+07\n",
      "5.07845      0.699962     -1       46.2825      0.186207   3.52772e+07\n",
      "5.07566      0.0418545    -1       46.4179      0.186050   3.66843e+07\n",
      "5.07313      0.0849658    -1       46.5226      0.185837   3.80876e+07\n",
      "5.07257      0.154705     -2       47.3437      0.183225   5.20680e+07\n",
      "5.04819      9.00376      -2       47.2097      0.179703   6.89006e+07\n",
      "5.04457      8.30654      -2       48.8641      0.179286   9.66556e+07\n",
      "5.02947      9.88668      -2       46.9530      0.173188   1.18990e+08\n",
      "5.00399      5.9335       -1       47.5001      0.173915   1.26975e+08\n",
      "4.99319      1.57609      -1       47.9120      0.174275   1.33675e+08\n",
      "4.9875       0.726144     -1       48.1991      0.174412   1.39804e+08\n",
      "4.98391      0.32411      -1       48.4018      0.174405   1.45607e+08\n",
      "4.98118      0.0905982    -1       48.5498      0.174307   1.51243e+08\n",
      "4.97882      0.0543295    -1       48.6622      0.174150   1.56828e+08\n",
      "4.97723      0.139027     -2       49.5158      0.172100   2.11924e+08\n",
      "4.95565      9.25933      -2       49.2647      0.168912   2.76144e+08\n",
      "4.95495      8.30222      -2       51.0074      0.168754   3.85172e+08\n",
      "4.94108      10.5599      -2       49.0375      0.163344   4.68033e+08\n",
      "4.91798      5.97407      -1       49.5781      0.164004   4.96783e+08\n",
      "4.9079       1.71137      -1       49.9851      0.164358   5.20652e+08\n",
      "4.90269      0.681988     -1       50.2589      0.164471   5.43453e+08\n",
      "4.89935      0.337288     -1       50.4550      0.164468   5.65119e+08\n",
      "4.8968       0.095149     -1       50.5996      0.164387   5.86200e+08\n",
      "4.89613      0.0535186    -2       51.6206      0.162910   7.90192e+08\n",
      "4.87576      9.83155      -2       51.0504      0.159708   1.00786e+09\n",
      "4.86264      8.10863      -1       51.2494      0.159910   1.06096e+09\n",
      "4.85917      0.80432      -1       51.4477      0.159927   1.10353e+09\n",
      "4.85663      0.152357     -1       51.5975      0.159865   1.14424e+09\n",
      "4.85576      0.0346268    -2       52.6446      0.158563   1.53660e+09\n",
      "4.83605      10.0261      -2       52.0284      0.155514   1.94613e+09\n",
      "4.82387      8.09102      -1       52.2319      0.155707   2.04622e+09\n",
      "4.82046      0.825012     -1       52.4309      0.155730   2.12678e+09\n",
      "4.81797      0.159181     -1       52.5808      0.155676   2.20412e+09\n",
      "4.81642      0.0218351    -2       53.6548      0.154603   2.93143e+09\n",
      "4.79885      9.66954      -2       52.9345      0.151592   3.68064e+09\n",
      "4.78736      7.95973      -1       53.1568      0.151793   3.86706e+09\n",
      "4.78381      0.867573     -1       53.3645      0.151828   4.01915e+09\n",
      "4.78129      0.225277     -1       53.5222      0.151793   4.16367e+09\n",
      "4.78007      0.00124623   -2       54.6047      0.150762   5.55108e+09\n",
      "4.76154      10.3762      -2       53.9369      0.148018   6.94735e+09\n",
      "4.75112      8.0063       -1       54.1410      0.148187   7.28642e+09\n",
      "12   7.56200e+0932802     -1       54.3361      0.1482\n",
      "4.74557      0.185981     -1       54.4845      0.148172   7.82583e+09\n",
      "4.74356      0.0126943    -2       55.5197      0.147198   1.03533e+10\n",
      "4.72637      10.2708      -2       54.9065      0.144635   1.29670e+10\n",
      "4.71635      8.33125      -1       55.0961      0.144784   1.35850e+10\n",
      "4.71337      0.825764     -1       55.2822      0.144801   1.40846e+10\n",
      "4.71315      0.17376      -2       56.5524      0.144187   1.87014e+10\n",
      "4.6971       10.5915      -2       55.5502      0.141333   2.30160e+10\n",
      "4.68668      7.74407      -1       55.8152      0.141542   2.41416e+10\n",
      "4.6827       1.07943      -1       56.0479      0.141614   2.50699e+10\n",
      "4.68005      0.37612      -1       56.2228      0.141616   2.59493e+10\n",
      "4.67883      0.113858     -2       57.4081      0.140974   3.42191e+10\n",
      "4.66237      10.6529      -2       56.5730      0.138490   4.19576e+10\n",
      "4.65369      7.63874      -1       56.7958      0.138646   4.38880e+10\n",
      "4.65049      0.908189     -1       56.9978      0.138686   4.54844e+10\n",
      "4.64822      0.266257     -1       57.1518      0.138669   4.70075e+10\n",
      "4.64616      0.0523816    -2       58.1766      0.137831   6.20147e+10\n",
      "4.62854      11.51        -2       57.6849      0.135832   7.67542e+10\n",
      "4.61109      8.17529      -2       59.2656      0.135721   1.03783e+11\n",
      "4.59739      9.54806      -2       58.0906      0.133129   1.24422e+11\n",
      "4.58904      6.35838      -1       58.3414      0.133235   1.30866e+11\n",
      "4.58538      1.19181      -1       58.5559      0.133313   1.35058e+11\n",
      "4.58346      0.510606     -2       60.0446      0.133375   1.73034e+11\n",
      "4.5698       9.44163      -2       58.8751      0.130900   2.06540e+11\n",
      "4.5619       6.86001      -1       59.1492      0.131077   2.15749e+11\n",
      "4.55866      0.364804     -1       59.3142      0.131040   2.23865e+11\n",
      "4.55685      0.845103     -2       60.8100      0.131140   2.85958e+11\n",
      "4.54261      9.72153      -2       59.6538      0.128785   3.40174e+11\n",
      "4.53524      6.85518      -1       59.9198      0.128949   3.54990e+11\n",
      "4.53467      0.167036     -2       61.6248      0.129253   4.55196e+11\n",
      "4.51975      10.2536      -2       60.2236      0.126789   5.34024e+11\n",
      "4.5128       6.03019      -1       60.4861      0.126948   5.53902e+11\n",
      "4.50912      1.22855      -1       60.7097      0.127032   5.71092e+11\n",
      "4.50747      0.631529     -2       62.2580      0.127224   7.25636e+11\n",
      "4.49155      10.2482      -2       61.0811      0.125043   8.55427e+11\n",
      "4.48593      6.27319      -1       61.3055      0.125169   8.85573e+11\n",
      "4.48524      1.04171      -2       63.0250      0.125530   1.12882e+12\n",
      "4.4706       8.33297      -1       62.6759      0.125056   1.18499e+12\n",
      "4.46652      4.39763      -1       62.5217      0.124660   1.22986e+12\n",
      "4.45783      0.0429306    -2       62.6444      0.123701   1.46947e+12\n",
      "4.44836      7.51222      -2       63.1410      0.123146   1.78558e+12\n",
      "4.43674      8.53545      -2       63.2262      0.122286   2.13200e+12\n",
      "4.42758      7.66431      -2       63.7272      0.121768   2.58250e+12\n",
      "4.41513      8.40984      -2       63.7971      0.120933   3.07168e+12\n",
      "4.40583      7.6778       -2       64.3168      0.120462   3.71044e+12\n",
      "4.3936       8.34911      -2       64.3693      0.119651   4.39344e+12\n",
      "4.38418      7.45688      -2       64.8858      0.119205   5.28774e+12\n",
      "4.37249      8.24843      -2       64.9425      0.118432   6.24012e+12\n",
      "4.36515      0.6232       -1       64.7386      0.117940   6.69386e+12\n",
      "4.36234      2.13654      -2       65.9049      0.117970   8.21189e+12\n",
      "4.34424      8.89954      -2       65.3188      0.116772   9.40084e+12\n",
      "4.33917      6.42853      -2       66.4357      0.116827   1.14790e+13\n",
      "4.32115      8.86969      -2       65.9183      0.115722   1.31228e+13\n",
      "4.31599      6.40488      -2       66.9355      0.115718   1.59222e+13\n",
      "4.29869      8.54021      -2       66.5215      0.114722   1.82120e+13\n",
      "4.2935       6.43759      -2       67.4179      0.114651   2.19195e+13\n",
      "4.27564      8.05264      -2       67.1127      0.113763   2.50855e+13\n",
      "4.26845      6.66099      -2       67.9105      0.113646   2.99680e+13\n",
      "4.25151      7.89953      -2       67.7158      0.112864   3.43356e+13\n",
      "4.24413      6.68733      -2       68.3955      0.112688   4.06782e+13\n",
      "4.22878      7.42358      -2       68.2988      0.112001   4.66031e+13\n",
      "4.21881      6.52173      -2       68.8655      0.111767   5.47747e+13\n",
      "4.20532      7.38894      -2       68.8903      0.111188   6.28431e+13\n",
      "4.19498      6.37634      -2       69.3293      0.110889   7.32284e+13\n",
      "4.18115      6.93326      -2       69.4474      0.110393   8.40636e+13\n",
      "4.17028      6.57711      -2       69.8205      0.110073   9.73504e+13\n",
      "4.15582      6.67907      -2       69.9863      0.109632   1.11535e+14\n",
      "4.14442      6.62888      -2       70.3253      0.109313   1.28502e+14\n",
      "4.12914      6.47301      -2       70.5118      0.108905   1.46894e+14\n",
      "4.1171       6.67403      -2       70.8397      0.108598   1.68669e+14\n",
      "4.10483      6.4495       -2       71.0419      0.108224   1.92124e+14\n",
      "4.09247      5.98914      -2       71.3126      0.107900   2.19080e+14\n",
      "4.07977      6.11862      -2       71.5439      0.107563   2.48995e+14\n",
      "4.06683      5.97527      -2       71.7962      0.107246   2.82860e+14\n",
      "4.05358      6.04429      -2       72.0395      0.106934   3.20634e+14\n",
      "4.04002      5.98205      -2       72.2875      0.106634   3.62868e+14\n",
      "4.02613      5.9551       -2       72.5333      0.106343   4.09880e+14\n",
      "4.01192      5.9145       -2       72.7798      0.106061   4.62238e+14\n",
      "4.00293      5.92094      -2       73.0269      0.105788   5.20440e+14\n",
      "3.96886      39.1809      -1       72.1616      0.104542   6.25051e+14\n",
      "3.95803      13.8129      -1       72.4844      0.104631   6.34954e+14\n",
      "3.9576       1.48434       0       72.5070      0.104640   6.36380e+14\n",
      "3.95719      1.38444       0       72.5294      0.104650   6.37778e+14\n",
      "3.95678      1.33094       0       72.5515      0.104659   6.39164e+14\n",
      "3.95639      1.29998       0       72.5733      0.104668   6.40539e+14\n",
      "3.94017      45.467       -1       71.8983      0.103505   7.75027e+14\n",
      "3.9276       11.5509      -1       72.3673      0.103688   7.93309e+14\n",
      "3.9245       2.03523      -1       72.7117      0.103852   8.14757e+14\n",
      "3.92382      1.53859       0       72.7412      0.103864   8.16620e+14\n",
      "3.92316      1.81867       0       72.7697      0.103877   8.18579e+14\n",
      "3.90958      47.5472      -1       72.1323      0.102736   9.96945e+14\n",
      "3.89913      11.7036      -1       72.6578      0.102951   1.02258e+15\n",
      "3.89391      1.49824      -1       73.0443      0.103136   1.05136e+15\n",
      "3.89264      1.9291       -1       73.3617      0.103284   1.07807e+15\n",
      "3.88733      1.22713      -1       73.6247      0.103399   1.10228e+15\n",
      "3.87195      52.3711      -1       72.8941      0.102214   1.34960e+15\n",
      "3.85525      16.7978      -1       73.3974      0.102397   1.37808e+15\n",
      "3.85204      2.1217       -1       73.7574      0.102569   1.41526e+15\n",
      "3.85127      1.64834       0       73.7886      0.102583   1.41843e+15\n",
      "3.85053      2.01201       0       73.8186      0.102596   1.42182e+15\n",
      "3.84982      2.07794       0       73.8478      0.102610   1.42525e+15\n",
      "3.83692      54.9889      -1       73.1606      0.101453   1.75443e+15\n",
      "3.81596      16.9485      -1       73.7190      0.101667   1.79523e+15\n",
      "3.80783      55.8101      -1       73.1445      0.100577   2.22167e+15\n",
      "3.78051      14.5079      -1       73.7970      0.100850   2.28581e+15\n",
      "3.77936      3.84671      -1       74.2862      0.101099   2.36151e+15\n",
      "3.77535      1.16142      -1       74.6925      0.101292   2.42689e+15\n",
      "3.77489      1.78096      -1       75.0283      0.101449   2.48732e+15\n",
      "3.77421      1.17396       0       75.0583      0.101461   2.49206e+15\n",
      "3.77357      1.83208       0       75.0864      0.101473   2.49747e+15\n",
      "3.77294      1.95942       0       75.1138      0.101486   2.50302e+15\n",
      "3.77234      1.96473       0       75.1407      0.101498   2.50858e+15\n",
      "3.77228      1.94203       0       75.1433      0.101499   2.50914e+15\n",
      "========================================\n",
      " Variances and Principal Axes\n",
      "                 1        2        3  \n",
      " 0.0000E+00|  0.0000   1.0000   0.0000  \n",
      " 1.0873E+03|  1.0000   0.0000  -0.0000  \n",
      " 1.3709E+35|  0.0000   0.0000   1.0000  \n",
      "----------------------------------------\n",
      "\n",
      "====================================\n",
      "  Covariance Matrix\n",
      "        1           2           3   \n",
      "   4.068e+04  -8.095e+01   7.368e+19\n",
      "  -8.095e+01   1.695e-01  -1.522e+17\n",
      "   7.368e+19  -1.522e+17   1.371e+35\n",
      "------------------------------------\n",
      "\n",
      "========================================================================\n",
      "Model TBabs<1>*bremss<2> Source No.: 1   Active/On\n",
      "Model Model Component  Parameter  Unit     Value\n",
      " par  comp\n",
      "   1    1   TBabs      nH         10^22    75.1433      +/-  201.697      \n",
      "   2    2   bremss     kT         keV      0.101499     +/-  0.411736     \n",
      "   3    2   bremss     norm                2.50914E+15  +/-  3.70261E+17  \n",
      "________________________________________________________________________\n",
      "\n",
      "\n",
      "Fit statistic  : C-Statistic                  3.7723     using 8 bins.\n",
      "\n",
      "Test statistic : Chi-Squared                  3.7328     using 8 bins.\n",
      " Null hypothesis probability of 5.8849e-01 with 5 degrees of freedom\n"
     ]
    }
   ],
   "source": [
    "AllModels.clear()\n",
    "mo = Model(\"tbabs*bremss\")\n",
    "Fit.perform()\n",
    "Plot.device = \"/xs\"\n",
    "Plot(\"data resid\")\n",
    "nH_bremss = mo.TBabs.nH.values[0]"
   ]
  },
  {
   "cell_type": "code",
   "execution_count": 10,
   "id": "36c699ef-2860-4416-8ce8-dd17a6c17ce0",
   "metadata": {},
   "outputs": [
    {
     "data": {
      "text/plain": [
       "(-0.5, 857.5, 656.5, -0.5)"
      ]
     },
     "execution_count": 10,
     "metadata": {},
     "output_type": "execute_result"
    },
    {
     "data": {
      "image/png": "[encoded data removed]",
      "text/plain": [
       "<Figure size 1200x700 with 1 Axes>"
      ]
     },
     "metadata": {},
     "output_type": "display_data"
    }
   ],
   "source": [
    "img = plt.imread(glob.glob('ObsID*_SRCNUM*_E*_Spectrum_bremss2.png')[0])\n",
    "plt.imshow(img)\n",
    "plt.axis('off')"
   ]
  },
  {
   "cell_type": "markdown",
   "id": "4d8ea665-d6a1-4113-beaf-fad108850b18",
   "metadata": {},
   "source": [
    "### Apec model"
   ]
  },
  {
   "cell_type": "code",
   "execution_count": 11,
   "id": "4bd12dd8-e0eb-46e8-a057-f7eb723b3a94",
   "metadata": {},
   "outputs": [
    {
     "name": "stdout",
     "output_type": "stream",
     "text": [
      "\n",
      "========================================================================\n",
      "Model TBabs<1>*apec<2> Source No.: 1   Active/On\n",
      "Model Model Component  Parameter  Unit     Value\n",
      " par  comp\n",
      "   1    1   TBabs      nH         10^22    1.00000      +/-  0.0          \n",
      "   2    2   apec       kT         keV      1.00000      +/-  0.0          \n",
      "   3    2   apec       Abundanc            1.00000      frozen\n",
      "   4    2   apec       Redshift            0.0          frozen\n",
      "   5    2   apec       norm                1.00000      +/-  0.0          \n",
      "________________________________________________________________________\n",
      "\n",
      "Reading APEC data from 3.0.9\n",
      "\n",
      "\n",
      "Fit statistic  : C-Statistic                93502.67     using 8 bins.\n",
      "\n",
      "Test statistic : Chi-Squared              4.037583e+08     using 8 bins.\n",
      " Null hypothesis probability of 0.000000e+00 with 5 degrees of freedom\n",
      " Current data and model not fit yet.\n",
      "                                   Parameters\n",
      "C-Statistic  |beta|/N    Lvl          1:nH          2:kT        5:norm\n",
      "18.5419      51906        -3       8414.29      0.338841       13835.0\n",
      "18.1684      2.79128e-37  29       3717.29       40.0834   7.87402e+12\n",
      "18.1684      0.000461594  28       3717.29       40.0834   7.87402e+12\n",
      "========================================\n",
      " Variances and Principal Axes\n",
      "                 1        2        5  \n",
      " 1.0000E+18|  1.0000   0.0000  -0.0000  \n",
      " 4.9518E+27|  0.0000  -1.0000   0.0000  \n",
      " 2.5511E+43|  0.0000   0.0000   1.0000  \n",
      "----------------------------------------\n",
      "\n",
      "====================================\n",
      "  Covariance Matrix\n",
      "        1           2           3   \n",
      "   7.918e+21   1.424e+21   4.494e+32\n",
      "   1.424e+21   2.563e+20   8.085e+31\n",
      "   4.494e+32   8.085e+31   2.551e+43\n",
      "------------------------------------\n",
      "\n",
      "========================================================================\n",
      "Model TBabs<1>*apec<2> Source No.: 1   Active/On\n",
      "Model Model Component  Parameter  Unit     Value\n",
      " par  comp\n",
      "   1    1   TBabs      nH         10^22    3717.29      +/-  8.89825E+10  \n",
      "   2    2   apec       kT         keV      40.0834      +/-  1.60086E+10  \n",
      "   3    2   apec       Abundanc            1.00000      frozen\n",
      "   4    2   apec       Redshift            0.0          frozen\n",
      "   5    2   apec       norm                7.87402E+12  +/-  5.05086E+21  \n",
      "________________________________________________________________________\n",
      "\n",
      "\n",
      "Fit statistic  : C-Statistic                 18.1684     using 8 bins.\n",
      "\n",
      "Test statistic : Chi-Squared                  6.0650     using 8 bins.\n",
      " Null hypothesis probability of 2.9995e-01 with 5 degrees of freedom\n"
     ]
    }
   ],
   "source": [
    "AllModels.clear()\n",
    "mo = Model(\"tbabs*apec\")\n",
    "Fit.perform()\n",
    "Plot.device = \"/xs\"\n",
    "Plot(\"data resid\")\n",
    "nH_apec = mo.TBabs.nH.values[0]"
   ]
  },
  {
   "cell_type": "code",
   "execution_count": 12,
   "id": "6ca2fa1d-62e3-4cff-b34b-11ac555ebcdb",
   "metadata": {},
   "outputs": [
    {
     "data": {
      "text/plain": [
       "(-0.5, 854.5, 656.5, -0.5)"
      ]
     },
     "execution_count": 12,
     "metadata": {},
     "output_type": "execute_result"
    },
    {
     "data": {
      "image/png": "[encoded data removed]",
      "text/plain": [
       "<Figure size 1200x700 with 1 Axes>"
      ]
     },
     "metadata": {},
     "output_type": "display_data"
    }
   ],
   "source": [
    "img = plt.imread(glob.glob('ObsID*_SRCNUM*_E*_Spectrum_apec2.png')[0])\n",
    "plt.imshow(img)\n",
    "plt.axis('off')"
   ]
  },
  {
   "cell_type": "markdown",
   "id": "746ccf61-8e54-4726-b463-b6a3d137905c",
   "metadata": {},
   "source": [
    "### Powerlaw model"
   ]
  },
  {
   "cell_type": "code",
   "execution_count": 13,
   "id": "ecf8f29f-a8fc-4efc-9ce0-7059d934b811",
   "metadata": {},
   "outputs": [
    {
     "name": "stdout",
     "output_type": "stream",
     "text": [
      "\n",
      "========================================================================\n",
      "Model TBabs<1>*powerlaw<2> Source No.: 1   Active/On\n",
      "Model Model Component  Parameter  Unit     Value\n",
      " par  comp\n",
      "   1    1   TBabs      nH         10^22    1.00000      +/-  0.0          \n",
      "   2    2   powerlaw   PhoIndex            1.00000      +/-  0.0          \n",
      "   3    2   powerlaw   norm                1.00000      +/-  0.0          \n",
      "________________________________________________________________________\n",
      "\n",
      "\n",
      "Fit statistic  : C-Statistic                47985.79     using 8 bins.\n",
      "\n",
      "Test statistic : Chi-Squared              8.500201e+07     using 8 bins.\n",
      " Null hypothesis probability of 0.000000e+00 with 5 degrees of freedom\n",
      " Current data and model not fit yet.\n",
      "                                   Parameters\n",
      "C-Statistic  |beta|/N    Lvl          1:nH    2:PhoIndex        3:norm\n",
      "18.5419      18173.6      -3       1372.85       6.42788       1200.76\n",
      "18.5419      3.66547e-08  -4       374.281       8.56222       554.567\n",
      "========================================\n",
      " Variances and Principal Axes\n",
      "                 1        2        3  \n",
      " 3.1892E+21| -0.0036  -1.0000   0.0003  \n",
      " 1.1627E+26|  0.9998  -0.0036  -0.0203  \n",
      " 2.6584E+37|  0.0203   0.0003   0.9998  \n",
      "----------------------------------------\n",
      "\n",
      "====================================\n",
      "  Covariance Matrix\n",
      "        1           2           3   \n",
      "   1.094e+34   1.477e+32   5.392e+35\n",
      "   1.477e+32   1.994e+30   7.279e+33\n",
      "   5.392e+35   7.279e+33   2.657e+37\n",
      "------------------------------------\n",
      "\n",
      "========================================================================\n",
      "Model TBabs<1>*powerlaw<2> Source No.: 1   Active/On\n",
      "Model Model Component  Parameter  Unit     Value\n",
      " par  comp\n",
      "   1    1   TBabs      nH         10^22    374.281      +/-  1.04598E+17  \n",
      "   2    2   powerlaw   PhoIndex            8.56222      +/-  1.41204E+15  \n",
      "   3    2   powerlaw   norm                554.567      +/-  5.15491E+18  \n",
      "________________________________________________________________________\n",
      "\n",
      "\n",
      "Fit statistic  : C-Statistic                 18.5419     using 8 bins.\n",
      "\n",
      "Test statistic : Chi-Squared                  6.1931     using 8 bins.\n",
      " Null hypothesis probability of 2.8788e-01 with 5 degrees of freedom\n"
     ]
    }
   ],
   "source": [
    "AllModels.clear()\n",
    "mo = Model(\"tbabs*powerlaw\")\n",
    "Fit.perform()\n",
    "Plot.device = \"/xs\"\n",
    "Plot(\"data resid\")\n",
    "nH_powerlaw = mo.TBabs.nH.values[0]"
   ]
  },
  {
   "cell_type": "code",
   "execution_count": 14,
   "id": "65fdf6a7-0c7e-4160-9fb0-49fa0d849d21",
   "metadata": {},
   "outputs": [
    {
     "data": {
      "text/plain": [
       "(-0.5, 855.5, 660.5, -0.5)"
      ]
     },
     "execution_count": 14,
     "metadata": {},
     "output_type": "execute_result"
    },
    {
     "data": {
      "image/png": "[encoded data removed]",
      "text/plain": [
       "<Figure size 1200x700 with 1 Axes>"
      ]
     },
     "metadata": {},
     "output_type": "display_data"
    }
   ],
   "source": [
    "img = plt.imread(glob.glob('ObsID*_SRCNUM*_E*_Spectrum_powerlaw2.png')[0])\n",
    "plt.imshow(img)\n",
    "plt.axis('off')"
   ]
  },
  {
   "cell_type": "markdown",
   "id": "a416c19e-0b48-4a9d-b015-5d6c11af60f8",
   "metadata": {},
   "source": [
    "## Column density nH\n",
    "### 3DNH-tool\n",
    "http://astro.uni-tuebingen.de/nh3d/nhtool\n",
    "\n",
    "**Sky coordinates (°) :** (GAIA)\n",
    "\n",
    "- RA = 53.3748310°\n",
    "- Dec = -27.2428069°\n",
    "\n",
    "53.37 -27.24\n",
    "\n",
    "**Column density :** nH = 2*10^20 cm^-2"
   ]
  },
  {
   "cell_type": "code",
   "execution_count": 15,
   "id": "c45820eb-f59b-4c5e-bc21-e7f3fa5aa773",
   "metadata": {},
   "outputs": [
    {
     "name": "stdout",
     "output_type": "stream",
     "text": [
      "The different models give a column density of :\n",
      "\n",
      "\u001b[1mbbody\u001b[0m\n",
      "(tbabs) : 2.6940048344002493e+21\n",
      "\n",
      "\u001b[1mbremss\u001b[0m\n",
      "(tbabs) : 7.514334151536877e+23\n",
      "\n",
      "\u001b[1mapec\u001b[0m\n",
      "(tbabs) : 3.717289227991986e+25\n",
      "\n",
      "\u001b[1mpowerlaw\u001b[0m\n",
      "(tbabs) : 3.7428072649316165e+24\n"
     ]
    }
   ],
   "source": [
    "print(\"The different models give a column density of :\")\n",
    "print()\n",
    "print(color.BOLD+\"bbody\"+color.END)\n",
    "print(f\"(tbabs) : {nH_bbody*10**22}\")\n",
    "print()\n",
    "print(color.BOLD+\"bremss\"+color.END)\n",
    "print(f\"(tbabs) : {nH_bremss*10**22}\")\n",
    "print()\n",
    "print(color.BOLD+\"apec\"+color.END)\n",
    "print(f\"(tbabs) : {nH_apec*10**22}\")\n",
    "print()\n",
    "print(color.BOLD+\"powerlaw\"+color.END)\n",
    "print(f\"(tbabs) : {nH_powerlaw*10**22}\")"
   ]
  },
  {
   "cell_type": "markdown",
   "id": "1973f13c-7580-446c-b7fe-bf273fd37c5d",
   "metadata": {},
   "source": [
    "## Flux\n",
    "### X-ray flux"
   ]
  },
  {
   "cell_type": "code",
   "execution_count": 16,
   "id": "f6ba1ee6-8282-4c45-8230-6603f9bfbae8",
   "metadata": {},
   "outputs": [
    {
     "name": "stdout",
     "output_type": "stream",
     "text": [
      " Model Flux 1.9492e-07 photons (2.4803e-15 ergs/cm^2/s) range (0.20000 - 12.000 keV)\n"
     ]
    }
   ],
   "source": [
    "AllModels.calcFlux(\".2 12.0\")"
   ]
  },
  {
   "cell_type": "code",
   "execution_count": 17,
   "id": "4e93ef39-9046-44fe-a12f-a84de18a36e6",
   "metadata": {},
   "outputs": [
    {
     "name": "stdout",
     "output_type": "stream",
     "text": [
      "\u001b[1mX-ray flux : \u001b[0mF_X = 2.4803e-15 ergs/cm^2/s\n"
     ]
    }
   ],
   "source": [
    "Flux = 2.4803e-15 # ergs/cm^2/s\n",
    "print(color.BOLD+\"X-ray flux : \"+color.END+f\"F_X = {Flux} ergs/cm^2/s\")"
   ]
  },
  {
   "cell_type": "markdown",
   "id": "c35f60c4-d6f3-4fa7-812a-b34bed342910",
   "metadata": {},
   "source": [
    "### Optical flux"
   ]
  },
  {
   "cell_type": "code",
   "execution_count": 18,
   "id": "f5fff1c1-b003-4884-9465-403837f11f4e",
   "metadata": {},
   "outputs": [
    {
     "name": "stdout",
     "output_type": "stream",
     "text": [
      "\u001b[1mOptical  flux : \u001b[0mF_opt = 9.590236099191845e-13 ergs/cm^2/s\n"
     ]
    }
   ],
   "source": [
    "def F_optical(mag):\n",
    "    F0 = 1.05*10**(-5) # GAIA zero point magnitude\n",
    "    return F0*10**(-0.4*mag)\n",
    "    \n",
    "G = 17.5984\n",
    "\n",
    "F = F_optical(G)\n",
    "\n",
    "print(color.BOLD+\"Optical  flux : \"+color.END+f\"F_opt = {F} ergs/cm^2/s\")"
   ]
  },
  {
   "cell_type": "markdown",
   "id": "e21356f8-c6cb-4ec5-97ac-514fca991518",
   "metadata": {},
   "source": [
    "### X-ray flux / Optical flux ratio"
   ]
  },
  {
   "cell_type": "code",
   "execution_count": 19,
   "id": "e5b46d21-be5f-401c-ad14-81bd23150bfc",
   "metadata": {},
   "outputs": [
    {
     "name": "stdout",
     "output_type": "stream",
     "text": [
      "\u001b[1mX-ray flux / Optical flux ratio : \u001b[0mF_x-ray/F_optical = 0.0025862762650952996\n",
      "F_x-ray = 0.0025862762650952996*F_optical\n"
     ]
    }
   ],
   "source": [
    "print(color.BOLD+\"X-ray flux / Optical flux ratio : \"+color.END+f\"F_x-ray/F_optical = {Flux/F}\")\n",
    "print(f\"F_x-ray = {Flux/F}*F_optical\")"
   ]
  },
  {
   "cell_type": "markdown",
   "id": "c8c6cc3c-5807-4c13-a57f-a4ce5da37435",
   "metadata": {},
   "source": [
    "## Luminosity"
   ]
  },
  {
   "cell_type": "code",
   "execution_count": 20,
   "id": "d586c000-4d0d-466d-b61a-9dae79785426",
   "metadata": {},
   "outputs": [
    {
     "name": "stdout",
     "output_type": "stream",
     "text": [
      "\u001b[1m(GAIA)\u001b[0m\n",
      "Distance : 1.5556059689453518e+21 cm\n",
      "Luminosité : 7.54246457484798e+28 erg/s\n"
     ]
    }
   ],
   "source": [
    "\"\"\"GAIA\"\"\"\n",
    "\n",
    "P_mas = 1.9836 # Parallaxe en mas\n",
    "d_kpc = 1/P_mas # Distance en kpc\n",
    "d_cm = d_kpc*3.0857*10**21 # Distance en cm, avec 1 pc = 3.0857*10^18 cm\n",
    "\n",
    "# La source est supposée sphérique pour le calcul de la luminosité : L = 4*pi*F*D^2\n",
    "Luminosity = 4*np.pi*Flux*(d_cm)**2 # erg/s\n",
    "\n",
    "print(color.BOLD+\"(GAIA)\"+color.END)\n",
    "print(f\"Distance : {d_cm} cm\")\n",
    "print(f\"Luminosité : {Luminosity} erg/s\")"
   ]
  }
 ],
 "metadata": {
  "kernelspec": {
   "display_name": "Python 3 (ipykernel)",
   "language": "python",
   "name": "python3"
  },
  "language_info": {
   "codemirror_mode": {
    "name": "ipython",
    "version": 3
   },
   "file_extension": ".py",
   "mimetype": "text/x-python",
   "name": "python",
   "nbconvert_exporter": "python",
   "pygments_lexer": "ipython3",
   "version": "3.10.12"
  }
 },
 "nbformat": 4,
 "nbformat_minor": 5
}
