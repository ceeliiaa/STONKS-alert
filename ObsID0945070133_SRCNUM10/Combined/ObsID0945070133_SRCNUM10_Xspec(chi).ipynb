{
 "cells": [
  {
   "cell_type": "markdown",
   "id": "a09472f9-b7b4-4047-9978-0b5adf3b464f",
   "metadata": {},
   "source": [
    "# ObsID : 0945070133, SRCNUM : 10, Instru : Combined\n",
    "**Simbad :** Star *2MASS J03332989-2714334* (https://simbad.cds.unistra.fr/simbad/sim-id?Ident=%4013058032&Name=2MASS%20J03332989-2714334&submit=submit)."
   ]
  },
  {
   "cell_type": "markdown",
   "id": "ee9befb7-bf2d-4e88-a03c-547580248cff",
   "metadata": {},
   "source": [
    "## ESASky\n",
    "https://sky.esa.int/esasky/?target=53.37579166666667%20-27.242833333333333&hips=XMM-Newton+EPIC+color&fov=1&projection=SIN&cooframe=J2000&sci=true&lang=fr\n",
    "\n",
    "``EPIC Stack``\n",
    "- Stack Catalogue name : 4XMMs J033329.9-271434\n",
    "- IAU name : 4XMM J033329.9-271433\n",
    "- RA : 03h 33m 29.959s\n",
    "- DEC : -27° 14' 34.10\"\n",
    "\n",
    "``GAIA``\n",
    "- Designation : Gaia DR3 5060545834987968640\n",
    "- RA : 03h 33m 29.937s\n",
    "- DEC : -27° 14' 33.44\"\n",
    "- Parallax : 1.9836 mas\n",
    "- G : 17.5984\n",
    "- G_BP - G_RP = 2.4856\n",
    "- Effective temperature: T_eff = 3500 K\n",
    "\n",
    "\n",
    "``2MASS``\n",
    "- Name : 03332989-2714334\n",
    "- RA : 03h 33m 29.898s\n",
    "- DEC : -27° 14' 33.48\""
   ]
  },
  {
   "cell_type": "code",
   "execution_count": 1,
   "id": "311ae079-ccd8-41c3-aac4-08c99f67b431",
   "metadata": {},
   "outputs": [],
   "source": [
    "from xspec import *\n",
    "from stingray import Lightcurve\n",
    "from astropy.io import fits\n",
    "import matplotlib.pyplot as plt\n",
    "import matplotlib.image as mpimg\n",
    "import glob\n",
    "import numpy as np\n",
    "\n",
    "class color:\n",
    "   PURPLE = '\\033[95m'\n",
    "   CYAN = '\\033[96m'\n",
    "   DARKCYAN = '\\033[36m'\n",
    "   BLUE = '\\033[94m'\n",
    "   GREEN = '\\033[92m'\n",
    "   YELLOW = '\\033[93m'\n",
    "   RED = '\\033[91m'\n",
    "   BOLD = '\\033[1m'\n",
    "   UNDERLINE = '\\033[4m'\n",
    "   END = '\\033[0m'\n",
    "\n",
    "plt.rcParams['figure.figsize'] = [12,7]"
   ]
  },
  {
   "cell_type": "markdown",
   "id": "e5eae72e-1db6-4cb9-ba31-b2747fcbe059",
   "metadata": {},
   "source": [
    "## Fit statistic"
   ]
  },
  {
   "cell_type": "code",
   "execution_count": 2,
   "id": "69840d8c-939c-4937-a2e6-39723c7cbd4c",
   "metadata": {},
   "outputs": [
    {
     "name": "stdout",
     "output_type": "stream",
     "text": [
      "Default fit statistic is set to: Chi-Squared\n",
      "   This will apply to all current and newly loaded spectra.\n",
      "Parameter delta values for fits will now be 0.0001 * parValue\n"
     ]
    }
   ],
   "source": [
    "Fit.statMethod = \"chi\"\n",
    "Fit.nIterations = 100000\n",
    "Fit.delta = 1e-4\n",
    "Fit.criticalDelta = 1e-4"
   ]
  },
  {
   "cell_type": "markdown",
   "id": "10232e74-01f0-44d2-9310-36508ccdca7d",
   "metadata": {},
   "source": [
    "The expected reduce Chi-squared value of a perfect fit is **≈ 1** with: ``reduce Chi-squared = Chi-squared/(n_bins-n_parameters)``."
   ]
  },
  {
   "cell_type": "markdown",
   "id": "39b7d9d2-7930-4892-81ba-8bd2db47e610",
   "metadata": {},
   "source": [
    "## Load files"
   ]
  },
  {
   "cell_type": "code",
   "execution_count": 3,
   "id": "cd0bcd6f-9565-4899-90b7-1e5d87e7050a",
   "metadata": {},
   "outputs": [
    {
     "name": "stdout",
     "output_type": "stream",
     "text": [
      "Warning: RMF FILTER keyword (UNDEFINED) is not consistent with that in spectrum (Thin1)\n",
      "\n",
      "1 spectrum  in use\n",
      " \n",
      "Spectral Data File: ObsID0945070133_SRCNUM10_source_spectrum_combined_grp_chi.fits  Spectrum 1\n",
      "Net count rate (cts/s) for Spectrum:1  1.162e-02 +/- 1.643e-03 (58.1 % total)\n",
      " Assigned to Data Group 1 and Plot Group 1\n",
      "  Noticed Channels:  1-7\n",
      "  Telescope: XMM Instrument: EPIC  Channel Type: PI\n",
      "  Exposure Time: 8255 sec\n",
      " Using fit statistic: chi\n",
      " Using Background File                ObsID0945070133_SRCNUM10_background_spectrum_combined.fits\n",
      "  Background Exposure Time: 8256 sec\n",
      " Using Response (RMF) File            ObsID0945070133_SRCNUM10_response_combined.rmf for Source 1\n",
      "\n"
     ]
    }
   ],
   "source": [
    "AllData.clear()\n",
    "spec = Spectrum(glob.glob('ObsID*_SRCNUM*spectrum_combined_grp_chi.fits')[0])"
   ]
  },
  {
   "cell_type": "code",
   "execution_count": 4,
   "id": "f2bac02c-abce-493d-9485-4861e680e17c",
   "metadata": {},
   "outputs": [
    {
     "name": "stdout",
     "output_type": "stream",
     "text": [
      "Number of counts = 95.9231 cts\n"
     ]
    }
   ],
   "source": [
    "print(f\"Number of counts = {1.162e-02*8255} cts\")"
   ]
  },
  {
   "cell_type": "markdown",
   "id": "7583d7ec-57e4-4f59-8116-f50fef1dd423",
   "metadata": {},
   "source": [
    "The number of counts is lower than 100 cts, indicating that the C statistic should be a better choice than Chi-squared as a fit statistic."
   ]
  },
  {
   "cell_type": "markdown",
   "id": "870eec10-27a5-4341-a01c-4a98ac400133",
   "metadata": {},
   "source": [
    "## Plot spectrum"
   ]
  },
  {
   "cell_type": "code",
   "execution_count": 5,
   "id": "37f98bf3-3d31-4c65-891f-3ea006da7786",
   "metadata": {},
   "outputs": [
    {
     "name": "stdout",
     "output_type": "stream",
     "text": [
      "     1 channels (1) ignored in spectrum #     1\n",
      "     1 channels (7) ignored in spectrum #     1\n",
      "\n"
     ]
    }
   ],
   "source": [
    "Plot.xAxis=\"keV\"\n",
    "Plot.device = \"/xs\"\n",
    "Plot.xLog=True\n",
    "Plot.yLog=True\n",
    "Plot.addCommand(\"Rescale Y 0.000001 0.05\")\n",
    "Plot(\"data\")\n",
    "spec.ignore(\"**-0.2 12.0-**\")"
   ]
  },
  {
   "cell_type": "code",
   "execution_count": 6,
   "id": "27bf0415-368d-4476-8ef7-29af925b48ee",
   "metadata": {},
   "outputs": [
    {
     "data": {
      "text/plain": [
       "(-0.5, 854.5, 656.5, -0.5)"
      ]
     },
     "execution_count": 6,
     "metadata": {},
     "output_type": "execute_result"
    },
    {
     "data": {
      "image/png": "[encoded data removed]",
      "text/plain": [
       "<Figure size 1200x700 with 1 Axes>"
      ]
     },
     "metadata": {},
     "output_type": "display_data"
    }
   ],
   "source": [
    "img = plt.imread(glob.glob('ObsID*_SRCNUM*_Spectrum.png')[0])\n",
    "plt.imshow(img)\n",
    "plt.axis('off')"
   ]
  },
  {
   "cell_type": "markdown",
   "id": "7eb1edda-21f0-4876-bdbc-8cb3e4a347dc",
   "metadata": {},
   "source": [
    "### Black body model\n",
    "There are 3 parameters in the ``tbabs*bbody`` model. Here, Chi-squared = 1.8143 using 5 bins, so the **reduce Chi-squared = 0.907**. The value is close to 1 meaning it is a good fit."
   ]
  },
  {
   "cell_type": "code",
   "execution_count": 7,
   "id": "25e94b4e-0bb6-439e-af07-e82ebf0faa48",
   "metadata": {
    "scrolled": true
   },
   "outputs": [
    {
     "name": "stdout",
     "output_type": "stream",
     "text": [
      "\n",
      "========================================================================\n",
      "Model TBabs<1>*bbody<2> Source No.: 1   Active/On\n",
      "Model Model Component  Parameter  Unit     Value\n",
      " par  comp\n",
      "   1    1   TBabs      nH         10^22    1.00000      +/-  0.0          \n",
      "   2    2   bbody      kT         keV      3.00000      +/-  0.0          \n",
      "   3    2   bbody      norm                1.00000      +/-  0.0          \n",
      "________________________________________________________________________\n",
      "\n",
      "tbvabs Version 2.3\n",
      "Cosmic absorption with grains and H2, modified from\n",
      "Wilms, Allen, & McCray, 2000, ApJ 542, 914-924\n",
      "Questions: Joern Wilms\n",
      "joern.wilms@sternwarte.uni-erlangen.de\n",
      "joern.wilms@fau.de\n",
      "\n",
      "http://pulsar.sternwarte.uni-erlangen.de/wilms/research/tbabs/\n",
      "\n",
      "PLEASE NOTICE:\n",
      "To get the model described by the above paper\n",
      "you will also have to set the abundances:\n",
      "   abund wilm\n",
      "\n",
      "Note that this routine ignores the current cross section setting\n",
      "as it always HAS to use the Verner cross sections as a baseline.\n",
      "\n",
      "Fit statistic  : Chi-Squared              2.506807e+12     using 5 bins.\n",
      "\n",
      "Test statistic : Chi-Squared              2.506807e+12     using 5 bins.\n",
      " Null hypothesis probability of 0.000000e+00 with 2 degrees of freedom\n",
      " Current data and model not fit yet.\n",
      "                                   Parameters\n",
      "Chi-Squared  |beta|/N    Lvl          1:nH          2:kT        3:norm\n",
      "56.6106      0.150424      0      0.144906       3.38325   4.71102e-07\n",
      "56.0852      435772        0     0.0710776       3.15695   5.13070e-07\n",
      "55.5356      494397        0     0.0188727       2.97434   5.47868e-07\n",
      "55.0955      542038        0    0.00937731       2.81973   5.77233e-07\n",
      "54.6923      544233        0    0.00180392       2.69282   5.99796e-07\n",
      "54.3464      536057        0   0.000236878       2.58484   6.17132e-07\n",
      "54.0369      513977        0   6.84873e-05       2.49130   6.29998e-07\n",
      "53.7502      485943        0   3.14580e-05       2.40841   6.39235e-07\n",
      "53.4786      455616        0   1.49235e-05       2.33334   6.45550e-07\n",
      "53.2165      424389        0   7.45773e-06       2.26426   6.49488e-07\n",
      "52.9587      393119        0   6.58010e-07       2.19971   6.51477e-07\n",
      "52.7007      362340        0   2.68468e-07       2.13865   6.51856e-07\n",
      "52.4384      332388        0   8.90832e-08       2.08025   6.50903e-07\n",
      "52.1679      303490        0   6.19005e-09       2.02389   6.48845e-07\n",
      "51.8855      275770        0   1.39060e-09       1.96908   6.45872e-07\n",
      "51.5876      249322        0   2.77411e-10       1.91543   6.42143e-07\n",
      "51.2703      224202        0   1.90205e-11       1.86265   6.37794e-07\n",
      "50.9304      200459        0   4.04231e-12       1.81057   6.32950e-07\n",
      "50.5639      178175        0   5.76745e-13       1.75902   6.27738e-07\n",
      "50.1623      157274        0   1.35396e-13       1.70734   6.22492e-07\n",
      "49.7262      135612        0   5.03858e-14       1.57411   4.38080e-07\n",
      "46.4023      1.46241e+06   0   4.78588e-15       1.26964   3.66257e-07\n",
      "27.5118      2.84556e+06   0   1.01335e-15      0.689473   3.62111e-07\n",
      "8.08379      4.02533e+06  -1      0.135821      0.188979   4.56923e-07\n",
      "4.1645       5.18719e+06  -1     0.0861502      0.229995   3.92336e-07\n",
      "2.53265      3.2809e+06   -1     0.0346905      0.263566   3.43740e-07\n",
      "2.4121       1.78226e+06  -1     0.0135744      0.289161   3.12017e-07\n",
      "1.84813      4.40582e+06   0    0.00102296      0.288612   3.18780e-07\n",
      "1.83644      1.10691e+06   0   0.000226688      0.290460   3.18647e-07\n",
      "1.83005      1.11221e+06   0   9.46832e-05      0.290329   3.19101e-07\n",
      "1.82603      996755        0   3.13583e-05      0.290224   3.19501e-07\n",
      "1.82326      905733        0   7.14030e-07      0.290139   3.19858e-07\n",
      "1.82153      829896        0   2.48109e-07      0.290068   3.20179e-07\n",
      "1.82009      767285        0   2.03123e-08      0.290009   3.20470e-07\n",
      "1.81889      710757        0   6.36240e-09      0.289960   3.20735e-07\n",
      "1.81789      659789        0   2.93916e-09      0.289919   3.20976e-07\n",
      "1.81705      613704        0   1.25624e-09      0.289886   3.21196e-07\n",
      "1.81634      572052        0   4.27582e-10      0.289860   3.21395e-07\n",
      "1.81574      534403        0   1.89703e-11      0.289839   3.21577e-07\n",
      "1.81523      500341        0   6.36190e-12      0.289824   3.21743e-07\n",
      "1.8148       469573        0   1.45249e-13      0.289811   3.21895e-07\n",
      "1.81438      441604        0   8.73321e-15      0.289791   3.22051e-07\n",
      "1.8143       412138        0   3.21256e-15      0.289821   3.22098e-07\n",
      "========================================\n",
      " Variances and Principal Axes\n",
      "                 1        2        3  \n",
      " 1.8645E-15| -0.0000  -0.0000   1.0000  \n",
      " 1.1722E-03| -0.3748  -0.9271  -0.0000  \n",
      " 2.6300E-03|  0.9271  -0.3748   0.0000  \n",
      "----------------------------------------\n",
      "\n",
      "====================================\n",
      "  Covariance Matrix\n",
      "        1           2           3   \n",
      "   2.425e-03  -5.065e-04   1.221e-09\n",
      "  -5.065e-04   1.377e-03   2.796e-10\n",
      "   1.221e-09   2.796e-10   2.703e-15\n",
      "------------------------------------\n",
      "\n",
      "========================================================================\n",
      "Model TBabs<1>*bbody<2> Source No.: 1   Active/On\n",
      "Model Model Component  Parameter  Unit     Value\n",
      " par  comp\n",
      "   1    1   TBabs      nH         10^22    3.21256E-15  +/-  4.92468E-02  \n",
      "   2    2   bbody      kT         keV      0.289821     +/-  3.71075E-02  \n",
      "   3    2   bbody      norm                3.22098E-07  +/-  5.19944E-08  \n",
      "________________________________________________________________________\n",
      "\n",
      "\n",
      "Fit statistic  : Chi-Squared                  1.8143     using 5 bins.\n",
      "\n",
      "Test statistic : Chi-Squared                  1.8143     using 5 bins.\n",
      " Null hypothesis probability of 4.0367e-01 with 2 degrees of freedom\n",
      " Model Flux 1.9832e-05 photons (2.6638e-14 ergs/cm^2/s) range (0.20000 - 12.000 keV)\n"
     ]
    }
   ],
   "source": [
    "AllModels.clear()\n",
    "mo = Model(\"tbabs*bbody\")\n",
    "Fit.perform()\n",
    "Plot.device = \"/xs\"\n",
    "Plot(\"data resid\")\n",
    "plt.show()\n",
    "nH_bbody = mo.TBabs.nH.values[0]\n",
    "AllModels.calcFlux(\".2 12.0\")"
   ]
  },
  {
   "cell_type": "code",
   "execution_count": 8,
   "id": "e04eaffd-c5db-46a3-8597-dc279e6a5f92",
   "metadata": {},
   "outputs": [
    {
     "data": {
      "text/plain": [
       "(-0.5, 852.5, 655.5, -0.5)"
      ]
     },
     "execution_count": 8,
     "metadata": {},
     "output_type": "execute_result"
    },
    {
     "data": {
      "image/png": "[encoded data removed]",
      "text/plain": [
       "<Figure size 1200x700 with 1 Axes>"
      ]
     },
     "metadata": {},
     "output_type": "display_data"
    }
   ],
   "source": [
    "img = plt.imread(glob.glob('ObsID*_SRCNUM*Spectrum_bbody.png')[0])\n",
    "plt.imshow(img)\n",
    "plt.axis('off')"
   ]
  },
  {
   "cell_type": "markdown",
   "id": "b77a2e66-8412-4d85-a277-10782493ea2e",
   "metadata": {},
   "source": [
    "### Bremsstrahlung model\n",
    "There are 3 parameters in the ``tbabs*bremss`` model. Here, Chi-squared = 1.1526 using 5 bins, so the **reduce Chi-squared = 0.5763**. The value is close to 1 meaning it is a good fit.\n",
    "\n",
    "Lowest Chi-Squared value."
   ]
  },
  {
   "cell_type": "code",
   "execution_count": 9,
   "id": "3ed606fb-6f75-4369-b9c8-b5c95a0a9577",
   "metadata": {
    "scrolled": true
   },
   "outputs": [
    {
     "name": "stdout",
     "output_type": "stream",
     "text": [
      "\n",
      "========================================================================\n",
      "Model TBabs<1>*bremss<2> Source No.: 1   Active/On\n",
      "Model Model Component  Parameter  Unit     Value\n",
      " par  comp\n",
      "   1    1   TBabs      nH         10^22    1.00000      +/-  0.0          \n",
      "   2    2   bremss     kT         keV      7.00000      +/-  0.0          \n",
      "   3    2   bremss     norm                1.00000      +/-  0.0          \n",
      "________________________________________________________________________\n",
      "\n",
      "\n",
      "Fit statistic  : Chi-Squared              7.546423e+10     using 5 bins.\n",
      "\n",
      "Test statistic : Chi-Squared              7.546423e+10     using 5 bins.\n",
      " Null hypothesis probability of 0.000000e+00 with 2 degrees of freedom\n",
      " Current data and model not fit yet.\n",
      "                                   Parameters\n",
      "Chi-Squared  |beta|/N    Lvl          1:nH          2:kT        3:norm\n",
      "35.9347      1.78433      -3     0.0888132       53.6102   5.88573e-06\n",
      "32.045       475602       -1     0.0343867       10.3821   4.02566e-06\n",
      "22.5514      861671       -2    0.00819711      0.972990   7.72211e-06\n",
      "3.49678      567607       -3     0.0802003       1.87781   1.73715e-05\n",
      "     1.01157   1.97471e-05-2     0.0508450  \n",
      "1.16607      114435       -3     0.0676315       1.17966   2.22597e-05\n",
      "1.15564      5378.57      -4     0.0749153       1.09535   2.40401e-05\n",
      "1.15264      5323.11      -5     0.0757158       1.09663   2.42611e-05\n",
      "1.15263      12.6083      -6     0.0758441       1.09592   2.42844e-05\n",
      "========================================\n",
      " Variances and Principal Axes\n",
      "                 1        2        3  \n",
      " 1.0311E-11| -0.0001   0.0000   1.0000  \n",
      " 2.4142E-03|  0.9929   0.1192   0.0001  \n",
      " 5.7807E-01| -0.1192   0.9929  -0.0000  \n",
      "----------------------------------------\n",
      "\n",
      "====================================\n",
      "  Covariance Matrix\n",
      "        1           2           3   \n",
      "   1.059e-02  -6.811e-02   2.040e-06\n",
      "  -6.811e-02   5.699e-01  -1.511e-05\n",
      "   2.040e-06  -1.511e-05   4.334e-10\n",
      "------------------------------------\n",
      "\n",
      "========================================================================\n",
      "Model TBabs<1>*bremss<2> Source No.: 1   Active/On\n",
      "Model Model Component  Parameter  Unit     Value\n",
      " par  comp\n",
      "   1    1   TBabs      nH         10^22    7.58441E-02  +/-  0.102899     \n",
      "   2    2   bremss     kT         keV      1.09592      +/-  0.754913     \n",
      "   3    2   bremss     norm                2.42844E-05  +/-  2.08193E-05  \n",
      "________________________________________________________________________\n",
      "\n",
      "\n",
      "Fit statistic  : Chi-Squared                  1.1526     using 5 bins.\n",
      "\n",
      "Test statistic : Chi-Squared                  1.1526     using 5 bins.\n",
      " Null hypothesis probability of 5.6196e-01 with 2 degrees of freedom\n",
      " Model Flux 2.0584e-05 photons (3.0605e-14 ergs/cm^2/s) range (0.20000 - 12.000 keV)\n",
      " Model Flux 1.9827e-05 photons (2.9e-14 ergs/cm^2/s) range (0.30000 - 3.5000 keV)\n"
     ]
    }
   ],
   "source": [
    "AllModels.clear()\n",
    "mo = Model(\"tbabs*bremss\")\n",
    "Fit.perform()\n",
    "Plot.device = \"/xs\"\n",
    "Plot(\"data resid\")\n",
    "nH_bremss = mo.TBabs.nH.values[0]\n",
    "AllModels.calcFlux(\".2 12.0\")\n",
    "AllModels.calcFlux(\".3 3.5\")"
   ]
  },
  {
   "cell_type": "code",
   "execution_count": 10,
   "id": "36c699ef-2860-4416-8ce8-dd17a6c17ce0",
   "metadata": {},
   "outputs": [
    {
     "data": {
      "text/plain": [
       "(-0.5, 851.5, 656.5, -0.5)"
      ]
     },
     "execution_count": 10,
     "metadata": {},
     "output_type": "execute_result"
    },
    {
     "data": {
      "image/png": "[encoded data removed]",
      "text/plain": [
       "<Figure size 1200x700 with 1 Axes>"
      ]
     },
     "metadata": {},
     "output_type": "display_data"
    }
   ],
   "source": [
    "img = plt.imread(glob.glob('ObsID*_SRCNUM*_Spectrum_bremss.png')[0])\n",
    "plt.imshow(img)\n",
    "plt.axis('off')"
   ]
  },
  {
   "cell_type": "markdown",
   "id": "4d8ea665-d6a1-4113-beaf-fad108850b18",
   "metadata": {},
   "source": [
    "### Apec model\n",
    "There are 4 parameters in the ``tbabs*apec`` model. Here, Chi-squared = 13.2760 using 5 bins, so the **reduce Chi-squared = 13.2760**. The value is far from 1 meaning it is a bad fit."
   ]
  },
  {
   "cell_type": "code",
   "execution_count": 11,
   "id": "4bd12dd8-e0eb-46e8-a057-f7eb723b3a94",
   "metadata": {
    "scrolled": true
   },
   "outputs": [
    {
     "name": "stdout",
     "output_type": "stream",
     "text": [
      "\n",
      "========================================================================\n",
      "Model TBabs<1>*apec<2> Source No.: 1   Active/On\n",
      "Model Model Component  Parameter  Unit     Value\n",
      " par  comp\n",
      "   1    1   TBabs      nH         10^22    1.00000      +/-  0.0          \n",
      "   2    2   apec       kT         keV      1.00000      +/-  0.0          \n",
      "   3    2   apec       Abundanc            1.00000      frozen\n",
      "   4    2   apec       Redshift            0.0          frozen\n",
      "   5    2   apec       norm                1.00000      +/-  0.0          \n",
      "________________________________________________________________________\n",
      "\n",
      "Reading APEC data from 3.0.9\n",
      "\n",
      "\n",
      "Fit statistic  : Chi-Squared              1.115648e+10     using 5 bins.\n",
      "\n",
      "Test statistic : Chi-Squared              1.115648e+10     using 5 bins.\n",
      " Null hypothesis probability of 0.000000e+00 with 2 degrees of freedom\n",
      " Current data and model not fit yet.\n",
      "                                   Parameters\n",
      "Chi-Squared  |beta|/N    Lvl          1:nH          2:kT        5:norm\n",
      "14.0164      5.58003      -3      0.688464      0.799605   3.76700e-05\n",
      "13.8049      15368.2      -4      0.738745      0.809171   4.34982e-05\n",
      "13.8015      2540.77      -5      0.759272      0.774195   4.69007e-05\n",
      "13.7837      1195.98      -6      0.773016      0.752866   4.92807e-05\n",
      "13.7424      1357.04      -1      0.776589      0.719361   5.13150e-05\n",
      "13.65        1971.27      -1      0.784980      0.673087   5.50475e-05\n",
      "13.5376      3747.97      -1      0.794658      0.630481   5.98078e-05\n",
      "13.4438      4187.63      -1      0.804166      0.598888   6.46803e-05\n",
      "13.3798      3329.27      -1      0.812895      0.577231   6.90230e-05\n",
      "13.3573      2182.43      -2      0.845877      0.510160   8.35219e-05\n",
      "13.2763      7200.16      -3      0.854800      0.504343   9.01433e-05\n",
      "13.276       368.766      -4      0.853405      0.507389   8.93493e-05\n",
      "13.276       11.3202      -5      0.854141      0.506385   8.97366e-05\n",
      "========================================\n",
      " Variances and Principal Axes\n",
      "                 1        2        5  \n",
      " 1.7758E-10| -0.0002   0.0002   1.0000  \n",
      " 1.4686E-02| -0.8547  -0.5190  -0.0001  \n",
      " 9.0721E-02|  0.5190  -0.8547   0.0003  \n",
      "----------------------------------------\n",
      "\n",
      "====================================\n",
      "  Covariance Matrix\n",
      "        1           2           3   \n",
      "   3.517e-02  -3.373e-02   1.500e-05\n",
      "  -3.373e-02   7.024e-02  -2.294e-05\n",
      "   1.500e-05  -2.294e-05   8.505e-09\n",
      "------------------------------------\n",
      "\n",
      "========================================================================\n",
      "Model TBabs<1>*apec<2> Source No.: 1   Active/On\n",
      "Model Model Component  Parameter  Unit     Value\n",
      " par  comp\n",
      "   1    1   TBabs      nH         10^22    0.854141     +/-  0.187538     \n",
      "   2    2   apec       kT         keV      0.506385     +/-  0.265022     \n",
      "   3    2   apec       Abundanc            1.00000      frozen\n",
      "   4    2   apec       Redshift            0.0          frozen\n",
      "   5    2   apec       norm                8.97366E-05  +/-  9.22247E-05  \n",
      "________________________________________________________________________\n",
      "\n",
      "\n",
      "Fit statistic  : Chi-Squared                 13.2760     using 5 bins.\n",
      "\n",
      "Test statistic : Chi-Squared                 13.2760     using 5 bins.\n",
      " Null hypothesis probability of 1.3096e-03 with 2 degrees of freedom\n",
      " Model Flux 1.1027e-05 photons (2.0979e-14 ergs/cm^2/s) range (0.20000 - 12.000 keV)\n"
     ]
    }
   ],
   "source": [
    "AllModels.clear()\n",
    "mo = Model(\"tbabs*apec\")\n",
    "Fit.perform()\n",
    "Plot.device = \"/xs\"\n",
    "Plot(\"data resid\")\n",
    "nH_apec = mo.TBabs.nH.values[0]\n",
    "AllModels.calcFlux(\".2 12.0\")"
   ]
  },
  {
   "cell_type": "code",
   "execution_count": 12,
   "id": "6ca2fa1d-62e3-4cff-b34b-11ac555ebcdb",
   "metadata": {},
   "outputs": [
    {
     "data": {
      "text/plain": [
       "(-0.5, 855.5, 657.5, -0.5)"
      ]
     },
     "execution_count": 12,
     "metadata": {},
     "output_type": "execute_result"
    },
    {
     "data": {
      "image/png": "[encoded data removed]",
      "text/plain": [
       "<Figure size 1200x700 with 1 Axes>"
      ]
     },
     "metadata": {},
     "output_type": "display_data"
    }
   ],
   "source": [
    "img = plt.imread(glob.glob('ObsID*_SRCNUM*_Spectrum_apec.png')[0])\n",
    "plt.imshow(img)\n",
    "plt.axis('off')"
   ]
  },
  {
   "cell_type": "markdown",
   "id": "746ccf61-8e54-4726-b463-b6a3d137905c",
   "metadata": {},
   "source": [
    "### Powerlaw model\n",
    "There are 3 parameters in the ``tbabs*powerlaw`` model. Here, Chi-squared = 1.1882 using 5 bins, so the **reduce Chi-squared = 0.5941**. The value is close to 1 meaning it is a good fit.\n",
    "\n",
    "Second lowest Chi-Squared value."
   ]
  },
  {
   "cell_type": "code",
   "execution_count": 13,
   "id": "ecf8f29f-a8fc-4efc-9ce0-7059d934b811",
   "metadata": {
    "scrolled": true
   },
   "outputs": [
    {
     "name": "stdout",
     "output_type": "stream",
     "text": [
      "\n",
      "========================================================================\n",
      "Model TBabs<1>*powerlaw<2> Source No.: 1   Active/On\n",
      "Model Model Component  Parameter  Unit     Value\n",
      " par  comp\n",
      "   1    1   TBabs      nH         10^22    1.00000      +/-  0.0          \n",
      "   2    2   powerlaw   PhoIndex            1.00000      +/-  0.0          \n",
      "   3    2   powerlaw   norm                1.00000      +/-  0.0          \n",
      "________________________________________________________________________\n",
      "\n",
      "\n",
      "Fit statistic  : Chi-Squared              5.130994e+11     using 5 bins.\n",
      "\n",
      "Test statistic : Chi-Squared              5.130994e+11     using 5 bins.\n",
      " Null hypothesis probability of 0.000000e+00 with 2 degrees of freedom\n",
      " Current data and model not fit yet.\n",
      "                                   Parameters\n",
      "Chi-Squared  |beta|/N    Lvl          1:nH    2:PhoIndex        3:norm\n",
      "44.6861      1.53202       0      0.371590       1.24221   3.08996e-06\n",
      "43.1663      496546       -1      0.156360       1.71105   2.18494e-06\n",
      "31.3241      1.02287e+06  -1     0.0169944       3.21853   7.95068e-06\n",
      "3.9665       1.65201e+06  -2     0.0238482       2.06927   1.04465e-05\n",
      "1.44996      266716       -3      0.146879       2.78986   1.42757e-05\n",
      "1.23264      39168.2      -4      0.213674       3.15598   1.80956e-05\n",
      "1.18843      26656.9      -5      0.223287       3.19767   1.91862e-05\n",
      "1.18824      1298.36      -6      0.224631       3.20402   1.92997e-05\n",
      "1.18824      15.0062      -7      0.224811       3.20483   1.93120e-05\n",
      "========================================\n",
      " Variances and Principal Axes\n",
      "                 1        2        3  \n",
      " 6.5291E-12| -0.0001   0.0000   1.0000  \n",
      " 2.7647E-03|  0.9883  -0.1522   0.0001  \n",
      " 1.3574E+00|  0.1522   0.9883   0.0000  \n",
      "----------------------------------------\n",
      "\n",
      "====================================\n",
      "  Covariance Matrix\n",
      "        1           2           3   \n",
      "   3.416e-02   2.038e-01   2.187e-06\n",
      "   2.038e-01   1.326e+00   1.287e-05\n",
      "   2.187e-06   1.287e-05   1.468e-10\n",
      "------------------------------------\n",
      "\n",
      "========================================================================\n",
      "Model TBabs<1>*powerlaw<2> Source No.: 1   Active/On\n",
      "Model Model Component  Parameter  Unit     Value\n",
      " par  comp\n",
      "   1    1   TBabs      nH         10^22    0.224811     +/-  0.184815     \n",
      "   2    2   powerlaw   PhoIndex            3.20483      +/-  1.15154      \n",
      "   3    2   powerlaw   norm                1.93120E-05  +/-  1.21166E-05  \n",
      "________________________________________________________________________\n",
      "\n",
      "\n",
      "Fit statistic  : Chi-Squared                  1.1882     using 5 bins.\n",
      "\n",
      "Test statistic : Chi-Squared                  1.1882     using 5 bins.\n",
      " Null hypothesis probability of 5.5205e-01 with 2 degrees of freedom\n",
      " Model Flux 1.9146e-05 photons (3.2879e-14 ergs/cm^2/s) range (0.20000 - 12.000 keV)\n",
      " Model Flux 1.8605e-05 photons (2.8515e-14 ergs/cm^2/s) range (0.30000 - 3.5000 keV)\n"
     ]
    }
   ],
   "source": [
    "AllModels.clear()\n",
    "mo = Model(\"tbabs*powerlaw\")\n",
    "Fit.perform()\n",
    "Plot.device = \"/xs\"\n",
    "Plot(\"data resid\")\n",
    "nH_powerlaw = mo.TBabs.nH.values[0]\n",
    "AllModels.calcFlux(\".2 12.0\")\n",
    "AllModels.calcFlux(\".3 3.5\")"
   ]
  },
  {
   "cell_type": "code",
   "execution_count": 14,
   "id": "65fdf6a7-0c7e-4160-9fb0-49fa0d849d21",
   "metadata": {},
   "outputs": [
    {
     "data": {
      "text/plain": [
       "(-0.5, 852.5, 655.5, -0.5)"
      ]
     },
     "execution_count": 14,
     "metadata": {},
     "output_type": "execute_result"
    },
    {
     "data": {
      "image/png": "[encoded data removed]",
      "text/plain": [
       "<Figure size 1200x700 with 1 Axes>"
      ]
     },
     "metadata": {},
     "output_type": "display_data"
    }
   ],
   "source": [
    "img = plt.imread(glob.glob('ObsID*_SRCNUM*_Spectrum_powerlaw.png')[0])\n",
    "plt.imshow(img)\n",
    "plt.axis('off')"
   ]
  },
  {
   "cell_type": "markdown",
   "id": "001e3768-5324-4dde-9846-4f7079b6ecf6",
   "metadata": {},
   "source": [
    "### Black body + Powerlaw model\n",
    "There are 5 parameters in the ``tbabs*(bbody+powerlaw)`` model. Here, Chi-squared = 1.1923 using 5 bins. The reduce Chi-squared cannot be calculated meaning the model has no statistical significance."
   ]
  },
  {
   "cell_type": "code",
   "execution_count": 15,
   "id": "ccb6e200-77d8-4f3f-9a38-4d8c24f666eb",
   "metadata": {
    "scrolled": true
   },
   "outputs": [
    {
     "name": "stdout",
     "output_type": "stream",
     "text": [
      "\n",
      "========================================================================\n",
      "Model TBabs<1>(bbody<2> + powerlaw<3>) Source No.: 1   Active/On\n",
      "Model Model Component  Parameter  Unit     Value\n",
      " par  comp\n",
      "   1    1   TBabs      nH         10^22    1.00000      +/-  0.0          \n",
      "   2    2   bbody      kT         keV      3.00000      +/-  0.0          \n",
      "   3    2   bbody      norm                1.00000      +/-  0.0          \n",
      "   4    3   powerlaw   PhoIndex            1.00000      +/-  0.0          \n",
      "   5    3   powerlaw   norm                1.00000      +/-  0.0          \n",
      "________________________________________________________________________\n",
      "\n",
      "\n",
      "Fit statistic  : Chi-Squared              5.118474e+12     using 5 bins.\n",
      "\n",
      "Test statistic : Chi-Squared              5.118474e+12     using 5 bins.\n",
      " Cannot calculate null hypothesis probability.\n",
      " Current data and model not fit yet.\n",
      "                                   Parameters\n",
      "Chi-Squared  |beta|/N    Lvl          1:nH          2:kT        3:norm    4:PhoIndex        5:norm\n",
      "47.2802      193356        0     0.0647961       3.50627   4.28599e-07       1.61948   1.03318e-06\n",
      "6.47493      878645       -1    0.00473436       5.75699   7.95467e-08       2.40533   7.42183e-06\n",
      "3.37853      8283.81      -2     0.0507667       73.8444   2.36415e-07       1.99850   1.07534e-05\n",
      "1.56584      44193.6      -2      0.125556       198.565   2.29497e-09       2.59338   1.34892e-05\n",
      "1.24738      14557.3      -3      0.198942       199.177   7.92348e-10       3.05792   1.72308e-05\n",
      "1.19235      17031.2      -4      0.213794       199.325   1.86703e-10       3.13249   1.86162e-05\n",
      "1.19226      347.128      -2      0.214868       199.355   3.10564e-11       3.13662   1.87309e-05\n",
      "============================================================\n",
      " Variances and Principal Axes\n",
      "                 1        2        3        4        5  \n",
      " 6.0820E-12| -0.0001  -0.0000   0.0000   0.0000   1.0000  \n",
      " 2.5358E-03|  0.9114  -0.0000   0.3836  -0.1487   0.0001  \n",
      " 4.4421E-03|  0.3844   0.0000  -0.9228  -0.0246   0.0000  \n",
      " 2.0434E+00|  0.1467  -0.0000   0.0348   0.9886   0.0000  \n",
      " 5.6675E+28| -0.0000   1.0000   0.0000  -0.0000  -0.0000  \n",
      "------------------------------------------------------------\n",
      "\n",
      "============================================================\n",
      "  Covariance Matrix\n",
      "        1           2           3           4           5   \n",
      "   1.623e-01  -8.094e+13  -2.264e+02   1.547e+00   5.114e-06\n",
      "  -8.094e+13   5.668e+28   1.585e+17  -8.764e+14  -1.608e+09\n",
      "  -2.264e+02   1.585e+17   4.433e+05  -2.451e+03  -4.498e-03\n",
      "   1.547e+00  -8.764e+14  -2.451e+03   1.555e+01   4.247e-05\n",
      "   5.114e-06  -1.608e+09  -4.498e-03   4.247e-05   2.222e-10\n",
      "------------------------------------------------------------\n",
      "\n",
      "========================================================================\n",
      "Model TBabs<1>(bbody<2> + powerlaw<3>) Source No.: 1   Active/On\n",
      "Model Model Component  Parameter  Unit     Value\n",
      " par  comp\n",
      "   1    1   TBabs      nH         10^22    0.214868     +/-  0.402865     \n",
      "   2    2   bbody      kT         keV      199.355      +/-  2.38066E+14  \n",
      "   3    2   bbody      norm                3.10564E-11  +/-  665.837      \n",
      "   4    3   powerlaw   PhoIndex            3.13662      +/-  3.94311      \n",
      "   5    3   powerlaw   norm                1.87309E-05  +/-  1.49066E-05  \n",
      "________________________________________________________________________\n",
      "\n",
      "\n",
      "Fit statistic  : Chi-Squared                  1.1923     using 5 bins.\n",
      "\n",
      "Test statistic : Chi-Squared                  1.1923     using 5 bins.\n",
      " Cannot calculate null hypothesis probability.\n",
      " Model Flux 1.9331e-05 photons (3.355e-14 ergs/cm^2/s) range (0.20000 - 12.000 keV)\n"
     ]
    },
    {
     "name": "stderr",
     "output_type": "stream",
     "text": [
      "GammQ: A <=  0\n",
      "GammQ: A <=  0\n"
     ]
    }
   ],
   "source": [
    "AllModels.clear()\n",
    "mo = Model(\"tbabs*(bbody+powerlaw)\")\n",
    "Fit.perform()\n",
    "Plot.device = \"/xs\"\n",
    "Plot(\"data resid\")\n",
    "nH_bbodypowerlaw = mo.TBabs.nH.values[0]\n",
    "AllModels.calcFlux(\".2 12.0\")"
   ]
  },
  {
   "cell_type": "code",
   "execution_count": 16,
   "id": "d0f0f2d3-6380-43c1-8374-cbf0dc2c1d37",
   "metadata": {},
   "outputs": [
    {
     "data": {
      "text/plain": [
       "(-0.5, 852.5, 654.5, -0.5)"
      ]
     },
     "execution_count": 16,
     "metadata": {},
     "output_type": "execute_result"
    },
    {
     "data": {
      "image/png": "[encoded data removed]",
      "text/plain": [
       "<Figure size 1200x700 with 1 Axes>"
      ]
     },
     "metadata": {},
     "output_type": "display_data"
    }
   ],
   "source": [
    "img = plt.imread(glob.glob('ObsID*_SRCNUM*_Spectrum_bbodypowerlaw.png')[0])\n",
    "plt.imshow(img)\n",
    "plt.axis('off')"
   ]
  },
  {
   "cell_type": "markdown",
   "id": "f842acc8-a9fd-4f50-a048-99b9b29307e5",
   "metadata": {},
   "source": [
    "### Bremss + Powerlaw model\n",
    "There are 5 parameters in the ``tbabs*(bremss+powerlaw)`` model. Here, Chi-squared = 0.2076 using 5 bins. The reduce Chi-squared cannot be calculated meaning the model has no statistical significance."
   ]
  },
  {
   "cell_type": "code",
   "execution_count": 17,
   "id": "d22c029c-1a58-4ac4-aa90-7f79953ede52",
   "metadata": {
    "scrolled": true
   },
   "outputs": [
    {
     "name": "stderr",
     "output_type": "stream",
     "text": [
      "GammQ: A <=  0\n",
      "GammQ: A <=  0\n"
     ]
    },
    {
     "name": "stdout",
     "output_type": "stream",
     "text": [
      "\n",
      "========================================================================\n",
      "Model TBabs<1>(bremss<2> + powerlaw<3>) Source No.: 1   Active/On\n",
      "Model Model Component  Parameter  Unit     Value\n",
      " par  comp\n",
      "   1    1   TBabs      nH         10^22    1.00000      +/-  0.0          \n",
      "   2    2   bremss     kT         keV      7.00000      +/-  0.0          \n",
      "   3    2   bremss     norm                1.00000      +/-  0.0          \n",
      "   4    3   powerlaw   PhoIndex            1.00000      +/-  0.0          \n",
      "   5    3   powerlaw   norm                1.00000      +/-  0.0          \n",
      "________________________________________________________________________\n",
      "\n",
      "\n",
      "Fit statistic  : Chi-Squared              9.624148e+11     using 5 bins.\n",
      "\n",
      "Test statistic : Chi-Squared              9.624148e+11     using 5 bins.\n",
      " Cannot calculate null hypothesis probability.\n",
      " Current data and model not fit yet.\n",
      "                                   Parameters\n",
      "Chi-Squared  |beta|/N    Lvl          1:nH          2:kT        3:norm    4:PhoIndex        5:norm\n",
      "48.7488      55917.1      -1      0.343187       2.47916   8.07426e-07      0.968413   1.23625e-06\n",
      "26.5556      525889       -1     0.0145377       1.09839   3.82831e-06       1.20213   1.22324e-06\n",
      "4.58285      863709       -2     0.0654553       2.67131   1.35554e-05       2.14785   1.56776e-06\n",
      "2.0098       28978.9      -1     0.0588081       1.43331   1.38785e-05       3.50510   1.96537e-06\n",
      "1.28555      42702.9      -2     0.0976580       1.18070   1.91394e-05       3.62538   1.82470e-06\n",
      "0.983897     48875.9      -2      0.146267       1.10417   2.41010e-05       4.63928   1.92620e-06\n",
      "0.902008     6873.34      -2      0.186652      0.941766   3.09052e-05       5.50645   1.58217e-06\n",
      "0.724497     47190.3      -2      0.223800      0.833200   3.99088e-05       6.46448   1.18516e-06\n",
      "0.554618     66878.7      -2      0.255881      0.751289   5.01865e-05       7.33160   9.06590e-07\n",
      "0.415938     70440.7      -2      0.283460      0.694247   6.09249e-05       8.02335   7.50214e-07\n",
      "0.328999     51863.5      -2      0.306710      0.652684   7.14528e-05       8.54892   6.60404e-07\n",
      "0.274609     34526.3      -2      0.326190      0.621564   8.14406e-05       8.95481   6.04782e-07\n",
      "0.263686     22368.9      -1      0.327834      0.620452   8.29898e-05       8.99190   6.00664e-07\n",
      "0.26032      1015.7       -1      0.329771      0.617456   8.40810e-05       9.01825   5.96436e-07\n",
      "0.257279     13820.3      -1      0.331609      0.614499   8.51198e-05       9.04443   5.94148e-07\n",
      "0.254097     21045.6      -1      0.333406      0.611696   8.61260e-05       9.07174   5.92871e-07\n",
      "0.25099      22715.6      -1      0.335186      0.609034   8.71089e-05       9.09888   5.91944e-07\n",
      "0.248        23393.7      -1      0.336945      0.606482   8.80757e-05       9.12545   5.91213e-07\n",
      "0.245136     23910.4      -1      0.338678      0.604017   8.90299e-05       9.15130   5.90638e-07\n",
      "0.24235      24442.5      -1      0.340388      0.601518   8.99997e-05       9.17637   5.90181e-07\n",
      "0.239746     25051.3      -1      0.342071      0.599251   9.09265e-05       9.20067   5.89917e-07\n",
      "0.237256     25787.5      -1      0.343715      0.597034   9.18406e-05       9.22409   5.89797e-07\n",
      "0.234878     26493        -1      0.345322      0.594877   9.27449e-05       9.24662   5.89809e-07\n",
      "0.232613     27206.6      -1      0.346895      0.592781   9.36369e-05       9.26828   5.89957e-07\n",
      "0.230452     27977.8      -1      0.348434      0.590739   9.45191e-05       9.28909   5.90243e-07\n",
      "0.228393     28771        -1      0.349940      0.588761   9.53884e-05       9.30907   5.90671e-07\n",
      "0.226431     29583.1      -1      0.351416      0.586840   9.62453e-05       9.32825   5.91241e-07\n",
      "0.224558     30409        -1      0.352860      0.584971   9.70912e-05       9.34665   5.91952e-07\n",
      "0.222771     31219.5      -1      0.354275      0.583158   9.79245e-05       9.36429   5.92801e-07\n",
      "0.221065     32018.8      -1      0.355661      0.581395   9.87465e-05       9.38121   5.93787e-07\n",
      "0.219436     32794.4      -1      0.357019      0.579682   9.95562e-05       9.39743   5.94907e-07\n",
      "0.217884     33547.1      -1      0.358350      0.578025   0.000100352       9.41297   5.96157e-07\n",
      "0.216364     34262.2      -1      0.359660      0.576299   0.000101169       9.42788   5.97508e-07\n",
      "0.214956     34968.6      -1      0.360951      0.574768   0.000101939       9.44221   5.99031e-07\n",
      "0.213595     35729.5      -1      0.362209      0.573260   0.000102696       9.45592   6.00676e-07\n",
      "0.212289     36308.4      -1      0.363440      0.571787   0.000103444       9.46905   6.02422e-07\n",
      "0.211039     36819.8      -1      0.364646      0.570351   0.000104181       9.48161   6.04264e-07\n",
      "0.20984      37287.8      -1      0.365828      0.568952   0.000104907       9.49363   6.06200e-07\n",
      "0.208286     37724.2       0      0.365716      0.568776   0.000104979       9.49676   6.08942e-07\n",
      "0.207832     19606.8       0      0.365745      0.568598   0.000105034       9.49888   6.10349e-07\n",
      "0.207667     11862.7       0      0.365831      0.568447   0.000105089       9.49971   6.11168e-07\n",
      "0.207573     9666.31       0      0.365932      0.568313   0.000105147       9.49990   6.11812e-07\n",
      "============================================================\n",
      " Variances and Principal Axes\n",
      "                 1        2        3        4        5  \n",
      " 5.6637E-14| -0.0000   0.0000   0.0044   0.0000   1.0000  \n",
      "0000  -0.0000  -0.0044  .0003   1.\n",
      " 1.4997E-02|  0.6973   0.7166  -0.0001   0.0131   0.0000  \n",
      " 4.1852E-01|  0.7160  -0.6973   0.0004   0.0327   0.0000  \n",
      " 6.0905E+04| -0.0326   0.0135  -0.0000   0.9994  -0.0000  \n",
      "------------------------------------------------------------\n",
      "\n",
      "============================================================\n",
      "  Covariance Matrix\n",
      "        1           2           3           4           5   \n",
      "   6.481e+01  -2.689e+01   1.806e-02  -1.982e+03   1.332e-03\n",
      "  -2.689e+01   1.124e+01  -7.528e-03   8.191e+02  -5.512e-04\n",
      "   1.806e-02  -7.528e-03   5.047e-06  -5.508e-01   3.704e-07\n",
      "  -1.982e+03   8.191e+02  -5.508e-01   6.083e+04  -4.083e-02\n",
      "   1.332e-03  -5.512e-04   3.704e-07  -4.083e-02   2.742e-08\n",
      "------------------------------------------------------------\n",
      "\n",
      "========================================================================\n",
      "Model TBabs<1>(bremss<2> + powerlaw<3>) Source No.: 1   Active/On\n",
      "Model Model Component  Parameter  Unit     Value\n",
      " par  comp\n",
      "      10^22    0.365932     +/-  8.05061      \n",
      "   2    2   bremss     kT         keV      0.568313     +/-  3.35298      \n",
      "   3    2   bremss     norm                1.05147E-04  +/-  2.24646E-03  \n",
      "   4    3   powerlaw   PhoIndex            9.49990      +/-  246.635      \n",
      "   5    3   powerlaw   norm                6.11812E-07  +/-  1.65594E-04  \n",
      "________________________________________________________________________\n",
      "\n",
      "\n",
      "Fit statistic  : Chi-Squared                  0.2076     using 5 bins.\n",
      "\n",
      "Test statistic : Chi-Squared                  0.2076     using 5 bins.\n",
      " Cannot calculate null hypothesis probability.\n",
      " Model Flux 1.936e-05 photons (2.7531e-14 ergs/cm^2/s) range (0.20000 - 12.000 keV)\n"
     ]
    }
   ],
   "source": [
    "AllModels.clear()\n",
    "mo = Model(\"tbabs*(bremss+powerlaw)\")\n",
    "Fit.perform()\n",
    "Plot.device = \"/xs\"\n",
    "Plot(\"data resid\")\n",
    "nH_bremsspowerlaw = mo.TBabs.nH.values[0]\n",
    "AllModels.calcFlux(\".2 12.0\")"
   ]
  },
  {
   "cell_type": "code",
   "execution_count": 18,
   "id": "0c7d013f-7bfd-4eda-8cca-2407f7d5ecbc",
   "metadata": {},
   "outputs": [
    {
     "data": {
      "text/plain": [
       "(-0.5, 854.5, 659.5, -0.5)"
      ]
     },
     "execution_count": 18,
     "metadata": {},
     "output_type": "execute_result"
    },
    {
     "data": {
      "image/png": "[encoded data removed]",
      "text/plain": [
       "<Figure size 1200x700 with 1 Axes>"
      ]
     },
     "metadata": {},
     "output_type": "display_data"
    }
   ],
   "source": [
    "img = plt.imread(glob.glob('ObsID*_SRCNUM*_Spectrum_bremsspowerlaw.png')[0])\n",
    "plt.imshow(img)\n",
    "plt.axis('off')"
   ]
  },
  {
   "cell_type": "markdown",
   "id": "a416c19e-0b48-4a9d-b015-5d6c11af60f8",
   "metadata": {},
   "source": [
    "## Column density nH\n",
    "### 3DNH-tool\n",
    "http://astro.uni-tuebingen.de/nh3d/nhtool\n",
    "\n",
    "**Sky coordinates (°) :** (GAIA)\n",
    "\n",
    "- RA = 53.3748310°\n",
    "- Dec = -27.2428069°\n",
    "\n",
    "53.37 -27.24\n",
    "\n",
    "**Column density :** nH = 2e+20 cm^-2"
   ]
  },
  {
   "cell_type": "code",
   "execution_count": 19,
   "id": "c45820eb-f59b-4c5e-bc21-e7f3fa5aa773",
   "metadata": {},
   "outputs": [
    {
     "name": "stdout",
     "output_type": "stream",
     "text": [
      "The different models give a column density of :\n",
      "\n",
      "\u001b[1mbbody\u001b[0m\n",
      "nH = 32125614.15501127 cm^-2\n",
      "\n",
      "\u001b[1mbremss (Best fit)\u001b[0m\n",
      "nH = 7.584405114501599e+20 cm^-2\n",
      "\n",
      "\u001b[1mapec\u001b[0m\n",
      "nH = 8.541413889610915e+21 cm^-2\n",
      "\n",
      "\u001b[1mpowerlaw (Second best fit)\u001b[0m\n",
      "nH = 2.248113714942615e+21 cm^-2\n",
      "\n",
      "\u001b[1mbbody+powerlaw\u001b[0m\n",
      "nH = 2.1486759626274513e+21 cm^-2\n",
      "\n",
      "\u001b[1mbremss+powerlaw\u001b[0m\n",
      "nH = 3.6593172584949204e+21 cm^-2\n"
     ]
    }
   ],
   "source": [
    "print(\"The different models give a column density of :\")\n",
    "print()\n",
    "print(color.BOLD+\"bbody\"+color.END)\n",
    "print(f\"nH = {nH_bbody*10**22} cm^-2\")\n",
    "print()\n",
    "print(color.BOLD+\"bremss (Best fit)\"+color.END)\n",
    "print(f\"nH = {nH_bremss*10**22} cm^-2\")\n",
    "print()\n",
    "print(color.BOLD+\"apec\"+color.END)\n",
    "print(f\"nH = {nH_apec*10**22} cm^-2\")\n",
    "print()\n",
    "print(color.BOLD+\"powerlaw (Second best fit)\"+color.END)\n",
    "print(f\"nH = {nH_powerlaw*10**22} cm^-2\")\n",
    "print()\n",
    "print(color.BOLD+\"bbody+powerlaw\"+color.END)\n",
    "print(f\"nH = {nH_bbodypowerlaw*10**22} cm^-2\")\n",
    "print()\n",
    "print(color.BOLD+\"bremss+powerlaw\"+color.END)\n",
    "print(f\"nH = {nH_bremsspowerlaw*10**22} cm^-2\")"
   ]
  },
  {
   "cell_type": "markdown",
   "id": "1973f13c-7580-446c-b7fe-bf273fd37c5d",
   "metadata": {},
   "source": [
    "## Flux\n",
    "### X-ray flux\n",
    "- X-ray flux of the best-fitting model ``Bremsstrahlung`` with Chi-squared = 1.1526 using 5 bins: **3.0605e-14 ergs/cm^2/s**.\n",
    "- X-ray flux of the second best-fitting model ``Powerlaw`` with Chi-squared = 1.1882 using 3 bins: **3.2879e-14 ergs/cm^2/s**."
   ]
  },
  {
   "cell_type": "code",
   "execution_count": 20,
   "id": "4e93ef39-9046-44fe-a12f-a84de18a36e6",
   "metadata": {},
   "outputs": [
    {
     "name": "stdout",
     "output_type": "stream",
     "text": [
      "\u001b[1mX-ray flux [0.2-12.0] keV : \u001b[0m\n",
      "Bremsstrahlung : F_x-ray = 3.0605e-14 ergs/cm^2/s\n",
      "Powerlaw : F_x-ray = 3.2879e-14 ergs/cm^2/s\n"
     ]
    }
   ],
   "source": [
    "Flux_bremss = 3.0605e-14 # ergs/cm^2/s\n",
    "Flux_pow = 3.2879e-14 # ergs/cm^2/s\n",
    "print(color.BOLD+\"X-ray flux [0.2-12.0] keV : \"+color.END)\n",
    "print(f\"Bremsstrahlung : F_x-ray = {Flux_bremss} ergs/cm^2/s\")\n",
    "print(f\"Powerlaw : F_x-ray = {Flux_pow} ergs/cm^2/s\")"
   ]
  },
  {
   "cell_type": "markdown",
   "id": "c35f60c4-d6f3-4fa7-812a-b34bed342910",
   "metadata": {},
   "source": [
    "### Optical flux"
   ]
  },
  {
   "cell_type": "code",
   "execution_count": 21,
   "id": "f5fff1c1-b003-4884-9465-403837f11f4e",
   "metadata": {},
   "outputs": [
    {
     "name": "stdout",
     "output_type": "stream",
     "text": [
      "\u001b[1mOptical flux : \u001b[0mF_optical = 9.590236099191845e-13 ergs/cm^2/s\n"
     ]
    }
   ],
   "source": [
    "def F_optical(mag):\n",
    "    F0 = 1.05*10**(-5) # GAIA zero point magnitude\n",
    "    return F0*10**(-0.4*mag)\n",
    "    \n",
    "G = 17.5984\n",
    "\n",
    "F = F_optical(G)\n",
    "\n",
    "print(color.BOLD+\"Optical flux : \"+color.END+f\"F_optical = {F} ergs/cm^2/s\")"
   ]
  },
  {
   "cell_type": "markdown",
   "id": "e21356f8-c6cb-4ec5-97ac-514fca991518",
   "metadata": {},
   "source": [
    "### X-ray flux / Optical flux ratio"
   ]
  },
  {
   "cell_type": "code",
   "execution_count": 22,
   "id": "e5b46d21-be5f-401c-ad14-81bd23150bfc",
   "metadata": {},
   "outputs": [
    {
     "name": "stdout",
     "output_type": "stream",
     "text": [
      "\u001b[1mX-ray Flux / Optical Flux ratio : \u001b[0m\n",
      "Bremsstrahlung : F_x-ray/F_optical = 0.03191266584414855\n",
      "Powerlaw : F_x-ray/F_optical = 0.03428382748863781\n"
     ]
    }
   ],
   "source": [
    "print(color.BOLD+\"X-ray Flux / Optical Flux ratio : \"+color.END)\n",
    "print(f\"Bremsstrahlung : F_x-ray/F_optical = {Flux_bremss/F}\")\n",
    "print(f\"Powerlaw : F_x-ray/F_optical = {Flux_pow/F}\")"
   ]
  },
  {
   "cell_type": "markdown",
   "id": "8e6f734e-eaef-4bda-8c91-8f5fcda7432d",
   "metadata": {},
   "source": [
    "### Maccacaro et al. paper: log(fx/fv)\n",
    "https://articles.adsabs.harvard.edu/pdf/1988ApJ...326..680M\n",
    "- fx : X-ray flux in the 0.3-3.5 keV band in ergs/cm^2/s.\n",
    "- mv : Visual magnitude."
   ]
  },
  {
   "cell_type": "code",
   "execution_count": 23,
   "id": "5d36261e-05c6-4371-8f0a-6a44825d02c3",
   "metadata": {},
   "outputs": [
    {
     "name": "stdout",
     "output_type": "stream",
     "text": [
      "\u001b[1mX-ray flux [0.3-3.5] keV : \u001b[0m\n",
      "Bremsstrahlung : fx = 2.9e-14 ergs/cm^2/s\n",
      "Powerlaw : fx = 2.8515e-14 ergs/cm^2/s\n",
      "\n",
      "\u001b[1mlog(fx/fv) : \u001b[0m\n",
      "Bremsstrahlung : log(fx/fv) = -1.128242002101044\n",
      "Powerlaw : log(fx/fv) = -1.1355666240788755\n"
     ]
    }
   ],
   "source": [
    "def logfxfv(fx,mv):\n",
    "    return np.log10(fx)+(mv/2.5)+5.37\n",
    "\n",
    "fx_bremss = 2.9e-14 # ergs/cm^2/s\n",
    "fx_pow = 2.8515e-14 # ergs/cm^2/s\n",
    "\n",
    "logfxfv_bremss = logfxfv(fx_bremss,G)\n",
    "logfxfv_pow = logfxfv(fx_pow,G)\n",
    "\n",
    "print(color.BOLD+\"X-ray flux [0.3-3.5] keV : \"+color.END)\n",
    "print(f\"Bremsstrahlung : fx = {fx_bremss} ergs/cm^2/s\")\n",
    "print(f\"Powerlaw : fx = {fx_pow} ergs/cm^2/s\")\n",
    "print()\n",
    "print(color.BOLD+\"log(fx/fv) : \"+color.END)\n",
    "print(f\"Bremsstrahlung : log(fx/fv) = {logfxfv_bremss}\")\n",
    "print(f\"Powerlaw : log(fx/fv) = {logfxfv_pow}\")"
   ]
  },
  {
   "cell_type": "markdown",
   "id": "c8c6cc3c-5807-4c13-a57f-a4ce5da37435",
   "metadata": {},
   "source": [
    "## Luminosity"
   ]
  },
  {
   "cell_type": "code",
   "execution_count": 24,
   "id": "d586c000-4d0d-466d-b61a-9dae79785426",
   "metadata": {},
   "outputs": [
    {
     "name": "stdout",
     "output_type": "stream",
     "text": [
      "\u001b[1m(GAIA)\u001b[0m\n",
      "Distance : d = 1.5556059689453518e+21 cm\n",
      "\u001b[1mLuminosity :\u001b[0m\n",
      "Bremsstrahlung : L_x-ray = 9.306822896956917e+29 erg/s\n",
      "Powerlaw : L_x-ray = 9.998334586801061e+29 erg/s\n"
     ]
    }
   ],
   "source": [
    "\"\"\"GAIA\"\"\"\n",
    "\n",
    "P_mas = 1.9836 # Parallaxe en mas\n",
    "d_kpc = 1/P_mas # Distance en kpc\n",
    "d_cm = d_kpc*3.0857*10**21 # Distance en cm, avec 1 pc = 3.0857*10^18 cm\n",
    "\n",
    "# La source est supposée sphérique pour le calcul de la luminosité : L = 4*pi*F*D^2\n",
    "Luminosity_bremss = 4*np.pi*Flux_bremss*(d_cm)**2 # erg/s\n",
    "Luminosity_pow = 4*np.pi*Flux_pow*(d_cm)**2 # erg/s\n",
    "\n",
    "print(color.BOLD+\"(GAIA)\"+color.END)\n",
    "print(f\"Distance : d = {d_cm} cm\")\n",
    "print(color.BOLD+\"Luminosity :\"+color.END)\n",
    "print(f\"Bremsstrahlung : L_x-ray = {Luminosity_bremss} erg/s\")\n",
    "print(f\"Powerlaw : L_x-ray = {Luminosity_pow} erg/s\")"
   ]
  }
 ],
 "metadata": {
  "kernelspec": {
   "display_name": "Python 3 (ipykernel)",
   "language": "python",
   "name": "python3"
  },
  "language_info": {
   "codemirror_mode": {
    "name": "ipython",
    "version": 3
   },
   "file_extension": ".py",
   "mimetype": "text/x-python",
   "name": "python",
   "nbconvert_exporter": "python",
   "pygments_lexer": "ipython3",
   "version": "3.10.12"
  }
 },
 "nbformat": 4,
 "nbformat_minor": 5
}
