{
 "cells": [
  {
   "cell_type": "markdown",
   "id": "a09472f9-b7b4-4047-9978-0b5adf3b464f",
   "metadata": {},
   "source": [
    "# ObsID : 0945070133, SRCNUM : 10, Instru : EPN\n",
    "**Simbad :** Star (2MASS J03332989-2714334) https://simbad.cds.unistra.fr/simbad/sim-id?Ident=%4013058032&Name=2MASS%20J03332989-2714334&submit=submit"
   ]
  },
  {
   "cell_type": "markdown",
   "id": "ee9befb7-bf2d-4e88-a03c-547580248cff",
   "metadata": {},
   "source": [
    "## ESASky\n",
    "https://sky.esa.int/esasky/?target=53.37579166666667%20-27.242833333333333&hips=XMM-Newton+EPIC+color&fov=1&projection=SIN&cooframe=J2000&sci=true&lang=fr\n",
    "\n",
    "``EPIC Stack``\n",
    "- Stack Catalogue name : 4XMMs J033329.9-271434\n",
    "- IAU name : 4XMM J033329.9-271433\n",
    "- RA : 03h 33m 29.959s\n",
    "- DEC : -27° 14' 34.10\"\n",
    "\n",
    "``GAIA``\n",
    "- Designation : Gaia DR3 5060545834987968640\n",
    "- RA : 03h 33m 29.937s\n",
    "- DEC : -27° 14' 33.44\"\n",
    "- Parallax : 1.9836 mas\n",
    "- G : 17.5984\n",
    "\n",
    "``2MASS``\n",
    "- Name : 03332989-2714334\n",
    "- RA : 03h 33m 29.898s\n",
    "- DEC : -27° 14' 33.48\""
   ]
  },
  {
   "cell_type": "code",
   "execution_count": 1,
   "id": "311ae079-ccd8-41c3-aac4-08c99f67b431",
   "metadata": {},
   "outputs": [],
   "source": [
    "from xspec import *\n",
    "from stingray import Lightcurve\n",
    "from astropy.io import fits\n",
    "import matplotlib.pyplot as plt\n",
    "import matplotlib.image as mpimg\n",
    "import glob\n",
    "import numpy as np\n",
    "\n",
    "class color:\n",
    "   PURPLE = '\\033[95m'\n",
    "   CYAN = '\\033[96m'\n",
    "   DARKCYAN = '\\033[36m'\n",
    "   BLUE = '\\033[94m'\n",
    "   GREEN = '\\033[92m'\n",
    "   YELLOW = '\\033[93m'\n",
    "   RED = '\\033[91m'\n",
    "   BOLD = '\\033[1m'\n",
    "   UNDERLINE = '\\033[4m'\n",
    "   END = '\\033[0m'\n",
    "\n",
    "plt.rcParams['figure.figsize'] = [12,7]"
   ]
  },
  {
   "cell_type": "markdown",
   "id": "e5eae72e-1db6-4cb9-ba31-b2747fcbe059",
   "metadata": {},
   "source": [
    "## Fit statistic"
   ]
  },
  {
   "cell_type": "code",
   "execution_count": 2,
   "id": "69840d8c-939c-4937-a2e6-39723c7cbd4c",
   "metadata": {},
   "outputs": [
    {
     "name": "stdout",
     "output_type": "stream",
     "text": [
      "Default fit statistic is set to: Chi-Squared\n",
      "   This will apply to all current and newly loaded spectra.\n",
      "Parameter delta values for fits will now be 0.0001 * parValue\n"
     ]
    }
   ],
   "source": [
    "Fit.statMethod = \"chi\"\n",
    "Fit.nIterations = 100000\n",
    "Fit.delta = 1e-4\n",
    "Fit.criticalDelta = 1e-4"
   ]
  },
  {
   "cell_type": "markdown",
   "id": "39b7d9d2-7930-4892-81ba-8bd2db47e610",
   "metadata": {},
   "source": [
    "## Load files"
   ]
  },
  {
   "cell_type": "code",
   "execution_count": 3,
   "id": "cd0bcd6f-9565-4899-90b7-1e5d87e7050a",
   "metadata": {},
   "outputs": [
    {
     "name": "stdout",
     "output_type": "stream",
     "text": [
      "\n",
      "1 spectrum  in use\n",
      " \n",
      "Spectral Data File: ObsID0945070133_SRCNUM10_EPN_spectrum_grp.fits  Spectrum 1\n",
      "Net count rate (cts/s) for Spectrum:1  9.166e-03 +/- 1.555e-03 (54.4 % total)\n",
      " Assigned to Data Group 1 and Plot Group 1\n",
      "  Noticed Channels:  1-5\n",
      "  Telescope: XMM Instrument: EPN  Channel Type: PI\n",
      "  Exposure Time: 7831 sec\n",
      " Using fit statistic: chi\n",
      " Using Background File                ObsID0945070133_SRCNUM10_EPN_background_spectrum.fits\n",
      "  Background Exposure Time: 7832 sec\n",
      " Using Response (RMF) File            ObsID0945070133_SRCNUM10_EPN.rmf for Source 1\n",
      " Using Auxiliary Response (ARF) File  ObsID0945070133_SRCNUM10_EPN.arf\n",
      "\n"
     ]
    }
   ],
   "source": [
    "AllData.clear()\n",
    "spec = Spectrum(glob.glob('ObsID*_SRCNUM*_E*_spectrum_grp.fits')[0])"
   ]
  },
  {
   "cell_type": "code",
   "execution_count": 4,
   "id": "f2bac02c-abce-493d-9485-4861e680e17c",
   "metadata": {},
   "outputs": [
    {
     "name": "stdout",
     "output_type": "stream",
     "text": [
      "Number of counts = 71.778946\n",
      "\n",
      "The low number of counts indicates that we should consider using cstat fit statistic instead of chi statistic.\n"
     ]
    }
   ],
   "source": [
    "n_cts = 9.166e-03*7831\n",
    "\n",
    "print(\"Number of counts =\",n_cts)\n",
    "\n",
    "if int(n_cts)<100:\n",
    "    print()\n",
    "    print(\"The low number of counts indicates that we should consider using cstat fit statistic instead of chi statistic.\")"
   ]
  },
  {
   "cell_type": "markdown",
   "id": "870eec10-27a5-4341-a01c-4a98ac400133",
   "metadata": {},
   "source": [
    "## Plot spectrum"
   ]
  },
  {
   "cell_type": "code",
   "execution_count": 6,
   "id": "37f98bf3-3d31-4c65-891f-3ea006da7786",
   "metadata": {},
   "outputs": [
    {
     "name": "stdout",
     "output_type": "stream",
     "text": [
      "     1 channels (1) ignored in spectrum #     1\n",
      "      No channels ignored (no channels in specified range)\n",
      "\n"
     ]
    }
   ],
   "source": [
    "Plot.xAxis=\"keV\"\n",
    "Plot.device = \"/xs\"\n",
    "Plot.xLog=True\n",
    "Plot.yLog=True\n",
    "Plot.addCommand(\"Rescale Y 0.000001 0.05\")\n",
    "Plot(\"data\")\n",
    "spec.ignore(\"**-0.2 12-**\")"
   ]
  },
  {
   "cell_type": "code",
   "execution_count": 7,
   "id": "27bf0415-368d-4476-8ef7-29af925b48ee",
   "metadata": {},
   "outputs": [
    {
     "data": {
      "text/plain": [
       "(-0.5, 860.5, 660.5, -0.5)"
      ]
     },
     "execution_count": 7,
     "metadata": {},
     "output_type": "execute_result"
    },
    {
     "data": {
      "image/png": "[encoded data removed]",
      "text/plain": [
       "<Figure size 1200x700 with 1 Axes>"
      ]
     },
     "metadata": {},
     "output_type": "display_data"
    }
   ],
   "source": [
    "img = plt.imread(glob.glob('ObsID*_SRCNUM*_E*_Spectrum.png')[0])\n",
    "plt.imshow(img)\n",
    "plt.axis('off')"
   ]
  },
  {
   "cell_type": "markdown",
   "id": "7eb1edda-21f0-4876-bdbc-8cb3e4a347dc",
   "metadata": {},
   "source": [
    "### Black body model"
   ]
  },
  {
   "cell_type": "code",
   "execution_count": 8,
   "id": "25e94b4e-0bb6-439e-af07-e82ebf0faa48",
   "metadata": {},
   "outputs": [
    {
     "name": "stdout",
     "output_type": "stream",
     "text": [
      "\n",
      "========================================================================\n",
      "Model TBabs<1>*bbody<2> Source No.: 1   Active/On\n",
      "Model Model Component  Parameter  Unit     Value\n",
      " par  comp\n",
      "   1    1   TBabs      nH         10^22    1.00000      +/-  0.0          \n",
      "   2    2   bbody      kT         keV      3.00000      +/-  0.0          \n",
      "   3    2   bbody      norm                1.00000      +/-  0.0          \n",
      "________________________________________________________________________\n",
      "\n",
      "tbvabs Version 2.3\n",
      "Cosmic absorption with grains and H2, modified from\n",
      "Wilms, Allen, & McCray, 2000, ApJ 542, 914-924\n",
      "Questions: Joern Wilms\n",
      "joern.wilms@sternwarte.uni-erlangen.de\n",
      "joern.wilms@fau.de\n",
      "\n",
      "http://pulsar.sternwarte.uni-erlangen.de/wilms/research/tbabs/\n",
      "\n",
      "PLEASE NOTICE:\n",
      "To get the model described by the above paper\n",
      "you will also have to set the abundances:\n",
      "   abund wilm\n",
      "\n",
      "Note that this routine ignores the current cross section setting\n",
      "as it always HAS to use the Verner cross sections as a baseline.\n",
      "\n",
      "Fit statistic  : Chi-Squared              1.571827e+12     using 4 bins.\n",
      "\n",
      "Test statistic : Chi-Squared              1.571827e+12     using 4 bins.\n",
      " Null hypothesis probability of 0.000000e+00 with 1 degrees of freedom\n",
      " Current data and model not fit yet.\n",
      "                                   Parameters\n",
      "Chi-Squared  |beta|/N    Lvl          1:nH          2:kT        3:norm\n",
      "39.3256      0.120686      0      0.270059       3.29344   5.77049e-07\n",
      "38.7758      263411        0     0.0587644       3.11789   6.13159e-07\n",
      "38.3636      345536        0     0.0209996       2.94468   6.50325e-07\n",
      "38.0072      367418        0    0.00669754       2.79960   6.80633e-07\n",
      "37.6974      369656        0   0.000952444       2.67770   7.04304e-07\n",
      "37.432       360184        0   0.000350456       2.57323   7.22291e-07\n",
      "37.1895      342161        0   8.97852e-05       2.48218   7.35461e-07\n",
      "36.964       321594        0   3.22775e-05       2.40109   7.44779e-07\n",
      "36.7497      299701        0   6.54313e-06       2.32747   7.50979e-07\n",
      "36.5423      277407        0   7.24677e-07       2.25960   7.54636e-07\n",
      "36.3379      255218        0   6.16087e-08       2.19610   7.56202e-07\n",
      "36.1339      233434        0   2.35989e-08       2.13619   7.56044e-07\n",
      "35.9271      212308        0   6.08442e-09       2.07904   7.54458e-07\n",
      "35.7156      191917        0   2.03518e-09       2.02418   7.51690e-07\n",
      "35.4969      172366        0   1.57820e-10       1.97112   7.47948e-07\n",
      "35.2688      153643        0   4.88425e-11       1.91954   7.43399e-07\n",
      "35.0298      135759        0   2.34993e-11       1.86926   7.38198e-07\n",
      "34.7781      118709        0   1.17486e-11       1.82009   7.32466e-07\n",
      "34.5129      102472        0   7.87446e-13       1.77201   7.26300e-07\n",
      "34.232       87131.6       0   1.47343e-13       1.72481   7.19811e-07\n",
      "33.9322      72478.7       0   6.83988e-14       1.67818   7.13289e-07\n",
      "33.6204      57269.8       0   1.12564e-14       1.63320   7.06465e-07\n",
      "33.2907      43763         0   2.92563e-15       1.58909   6.99927e-07\n",
      "30.8705      28642.8       0   6.53481e-16       1.33006   5.82399e-07\n",
      "25.6413      506704       -1   2.31778e-16      0.607149   1.50232e-07\n",
      "16.8123      1.24674e+07  -2   5.39335e-17      0.166806   1.17129e-07\n",
      "***Warning: Zero alpha-matrix diagonal element for parameter 1\n",
      " Parameter 1 is pegged at 5.39335e-17 due to zero or negative pivot element, likely\n",
      " caused by the fit being insensitive to the parameter.\n",
      "2.40541      3.70202e+07  -3   5.39335e-17      0.273581   2.55678e-07\n",
      "1.22943      9.24844e+06  -4   5.39335e-17      0.246434   2.90232e-07\n",
      "1.22889      207603       -5   5.39335e-17      0.245986   2.91005e-07\n",
      "1.22888      94.6441      -6   5.39335e-17      0.245891   2.90980e-07\n",
      "1.22888      21.5366       2   2.33609e-17      0.245891   2.90980e-07\n",
      "========================================\n",
      " Variances and Principal Axes\n",
      "                 1        2        3  \n",
      " 2.1479E-15| -0.0000  -0.0000   1.0000  \n",
      " 1.3989E-03| -0.0000  -1.0000  -0.0000  \n",
      " 6.5262E+06|  1.0000  -0.0000   0.0000  \n",
      "----------------------------------------\n",
      "\n",
      "====================================\n",
      "  Covariance Matrix\n",
      "        1           2           3   \n",
      "   6.526e+06  -8.427e+01   6.888e-05\n",
      "  -8.427e+01   2.487e-03  -5.160e-10\n",
      "   6.888e-05  -5.160e-10   2.975e-15\n",
      "------------------------------------\n",
      "\n",
      "========================================================================\n",
      "Model TBabs<1>*bbody<2> Source No.: 1   Active/On\n",
      "Model Model Component  Parameter  Unit     Value\n",
      " par  comp\n",
      "   1    1   TBabs      nH         10^22    2.33609E-17  +/-  2554.65      \n",
      "   2    2   bbody      kT         keV      0.245891     +/-  4.98708E-02  \n",
      "   3    2   bbody      norm                2.90980E-07  +/-  5.45394E-08  \n",
      "________________________________________________________________________\n",
      "\n",
      "\n",
      "Fit statistic  : Chi-Squared                  1.2289     using 4 bins.\n",
      "\n",
      "Test statistic : Chi-Squared                  1.2289     using 4 bins.\n",
      " Null hypothesis probability of 2.6763e-01 with 1 degrees of freedom\n"
     ]
    }
   ],
   "source": [
    "AllModels.clear()\n",
    "mo = Model(\"tbabs*bbody\")\n",
    "Fit.perform()\n",
    "Plot.device = \"/xs\"\n",
    "Plot(\"data resid\")\n",
    "plt.show()\n",
    "nH_bbody = mo.TBabs.nH.values[0]"
   ]
  },
  {
   "cell_type": "code",
   "execution_count": 9,
   "id": "e04eaffd-c5db-46a3-8597-dc279e6a5f92",
   "metadata": {},
   "outputs": [
    {
     "data": {
      "text/plain": [
       "(-0.5, 856.5, 656.5, -0.5)"
      ]
     },
     "execution_count": 9,
     "metadata": {},
     "output_type": "execute_result"
    },
    {
     "data": {
      "image/png": "[encoded data removed]",
      "text/plain": [
       "<Figure size 1200x700 with 1 Axes>"
      ]
     },
     "metadata": {},
     "output_type": "display_data"
    }
   ],
   "source": [
    "img = plt.imread(glob.glob('ObsID*_SRCNUM*_E*_Spectrum_bbody.png')[0])\n",
    "plt.imshow(img)\n",
    "plt.axis('off')"
   ]
  },
  {
   "cell_type": "markdown",
   "id": "b77a2e66-8412-4d85-a277-10782493ea2e",
   "metadata": {},
   "source": [
    "### Bremsstrahlung model"
   ]
  },
  {
   "cell_type": "code",
   "execution_count": 10,
   "id": "3ed606fb-6f75-4369-b9c8-b5c95a0a9577",
   "metadata": {},
   "outputs": [
    {
     "name": "stdout",
     "output_type": "stream",
     "text": [
      "\n",
      "========================================================================\n",
      "Model TBabs<1>*bremss<2> Source No.: 1   Active/On\n",
      "Model Model Component  Parameter  Unit     Value\n",
      " par  comp\n",
      "   1    1   TBabs      nH         10^22    1.00000      +/-  0.0          \n",
      "   2    2   bremss     kT         keV      7.00000      +/-  0.0          \n",
      "   3    2   bremss     norm                1.00000      +/-  0.0          \n",
      "________________________________________________________________________\n",
      "\n",
      "\n",
      "Fit statistic  : Chi-Squared              4.951182e+10     using 4 bins.\n",
      "\n",
      "Test statistic : Chi-Squared              4.951182e+10     using 4 bins.\n",
      " Null hypothesis probability of 0.000000e+00 with 1 degrees of freedom\n",
      " Current data and model not fit yet.\n",
      "                                   Parameters\n",
      "Chi-Squared  |beta|/N    Lvl          1:nH          2:kT        3:norm\n",
      "27.1681      0.99709      -2      0.145634       56.4461   5.79590e-06\n",
      "22.9477      291635       -1     0.0501179       9.79994   3.90388e-06\n",
      "16.2467      599430       -2     0.0136300       1.41715   5.70826e-06\n",
      "0.479561     550679       -3    0.00464133       1.12527   1.50370e-05\n",
      "0.0535275    77267        -4    0.00913581       1.22427   1.62277e-05\n",
      "0.0532436    1030.23      -5    0.00775565       1.23141   1.60934e-05\n",
      "0.053243     41.5286      -6    0.00770396       1.23221   1.60849e-05\n",
      "========================================\n",
      " Variances and Principal Axes\n",
      "                 1        2        3  \n",
      " 6.3805E-12| -0.0001   0.0000   1.0000  \n",
      " 2.9747E-03|  0.9964   0.0847   0.0001  \n",
      " 1.7973E+00| -0.0847   0.9964  -0.0000  \n",
      "----------------------------------------\n",
      "\n",
      "====================================\n",
      "  Covariance Matrix\n",
      "        1           2           3   \n",
      "   1.585e-02  -1.515e-01   2.220e-06\n",
      "  -1.515e-01   1.784e+00  -2.347e-05\n",
      "   2.220e-06  -2.347e-05   3.325e-10\n",
      "------------------------------------\n",
      "\n",
      "========================================================================\n",
      "Model TBabs<1>*bremss<2> Source No.: 1   Active/On\n",
      "Model Model Component  Parameter  Unit     Value\n",
      " par  comp\n",
      "   1    1   TBabs      nH         10^22    7.70396E-03  +/-  0.125899     \n",
      "   2    2   bremss     kT         keV      1.23221      +/-  1.33583      \n",
      "   3    2   bremss     norm                1.60849E-05  +/-  1.82341E-05  \n",
      "______________________________________________________\n",
      "\n",
      "\n",
      "Fit statistic  : Chi-Squared                  0.0532     using 4 bins.\n",
      "\n",
      "Test statistic : Chi-Squared                  0.0532     using 4 bins.\n",
      " Null hypothesis probability of 8.1751e-01 with 1 degrees of freedom\n"
     ]
    }
   ],
   "source": [
    "AllModels.clear()\n",
    "mo = Model(\"tbabs*bremss\")\n",
    "Fit.perform()\n",
    "Plot.device = \"/xs\"\n",
    "Plot(\"data resid\")\n",
    "nH_bremss = mo.TBabs.nH.values[0]"
   ]
  },
  {
   "cell_type": "code",
   "execution_count": 11,
   "id": "36c699ef-2860-4416-8ce8-dd17a6c17ce0",
   "metadata": {},
   "outputs": [
    {
     "data": {
      "text/plain": [
       "(-0.5, 852.5, 655.5, -0.5)"
      ]
     },
     "execution_count": 11,
     "metadata": {},
     "output_type": "execute_result"
    },
    {
     "data": {
      "image/png": "[encoded data removed]",
      "text/plain": [
       "<Figure size 1200x700 with 1 Axes>"
      ]
     },
     "metadata": {},
     "output_type": "display_data"
    }
   ],
   "source": [
    "img = plt.imread(glob.glob('ObsID*_SRCNUM*_E*_Spectrum_bremss.png')[0])\n",
    "plt.imshow(img)\n",
    "plt.axis('off')"
   ]
  },
  {
   "cell_type": "markdown",
   "id": "4d8ea665-d6a1-4113-beaf-fad108850b18",
   "metadata": {},
   "source": [
    "### Apec model"
   ]
  },
  {
   "cell_type": "code",
   "execution_count": 12,
   "id": "4bd12dd8-e0eb-46e8-a057-f7eb723b3a94",
   "metadata": {},
   "outputs": [
    {
     "name": "stdout",
     "output_type": "stream",
     "text": [
      "\n",
      "========================================================================\n",
      "Model TBabs<1>*apec<2> Source No.: 1   Active/On\n",
      "Model Model Component  Parameter  Unit     Value\n",
      " par  comp\n",
      "   1    1   TBabs      nH         10^22    1.00000      +/-  0.0          \n",
      "   2    2   apec       kT         keV      1.00000      +/-  0.0          \n",
      "   3    2   apec       Abundanc            1.00000      frozen\n",
      "   4    2   apec       Redshift            0.0          frozen\n",
      "   5    2   apec       norm                1.00000      +/-  0.0          \n",
      "________________________________________________________________________\n",
      "\n",
      "Reading APEC data from 3.0.9\n",
      "\n",
      "\n",
      "Fit statistic  : Chi-Squared              8.771208e+09     using 4 bins.\n",
      "\n",
      "Test statistic : Chi-Squared              8.771208e+09     using 4 bins.\n",
      " Null hypothesis probability of 0.000000e+00 with 1 degrees of freedom\n",
      " Current data and model not fit yet.\n",
      "                                   Parameters\n",
      "Chi-Squared  |beta|/N    Lvl          1:nH          2:kT        5:norm\n",
      "13.5058      3.0807       -3      0.724902      0.658219   3.53047e-05\n",
      "12.7183      36388.3      -1      0.699379      0.640390   4.03270e-05\n",
      "12.6774      1378.71      -1      0.705053      0.605000   4.29553e-05\n",
      "12.6472      2444.76      -1      0.711633      0.582095   4.55622e-05\n",
      "12.6231      1846.6       -1      0.719007      0.563273   4.81010e-05\n",
      "12.6032      1834.6       -1      0.726013      0.549201   5.05183e-05\n",
      "12.5866      1275.66      -1      0.732938      0.536627   5.28315e-05\n",
      "12.5724      1234.26      -1      0.739246      0.526143   5.50654e-05\n",
      "12.5604      945.163      -1      0.745255      0.516672   5.71994e-05\n",
      "12.5498      821          -1      0.750911      0.508241   5.92427e-05\n",
      "12.54        820.458      -1      0.755951      0.500233   6.13049e-05\n",
      "12.5317      674.305      -1      0.760800      0.493087   6.32707e-05\n",
      "12.5246      592.375      -1      0.765407      0.486733   6.51436e-05\n",
      "12.5179      522.73       -1      0.769764      0.481066   6.69225e-05\n",
      "12.5103      525.294      -1      0.773589      0.474174   6.89310e-05\n",
      "12.504       509.519      -1      0.777442      0.468278   7.08548e-05\n",
      "12.4985      451.709      -1      0.781237      0.463131   7.26830e-05\n",
      "12.4939      400.451      -1      0.784902      0.458590   7.44145e-05\n",
      "12.4911      355.938      -2      0.819575      0.417080   9.05349e-05\n",
      "12.4397      3820.56      -2      0.841759      0.394794   0.000106706\n",
      "12.4132      1823.04      -2      0.865147      0.371529   0.000125796\n",
      "12.3805      1720.05      -2      0.890250      0.347730   0.000151367\n",
      "12.3353      1834.68      -2      0.918107      0.322824   0.000188264\n",
      "12.2671      2022.26      -1      0.912305      0.317658   0.000198961\n",
      "12.2455      333.983      -1      0.912250      0.311880   0.000207443\n",
      "12.2286      284.051      -1      0.913456      0.307098   0.000215749\n",
      "12.21        246.416      -1      0.915520      0.303141   0.000223774\n",
      "12.1787      213.285      -1      0.916332      0.296623   0.000235391\n",
      "12.152       331.022      -1      0.917587      0.291205   0.000247240\n",
      "12.1258      290.654      -1      0.919494      0.286616   0.000258836\n",
      "12.0832      245.056      -1      0.919886      0.279855   0.000274383\n",
      "12.0454      349.235      -1      0.920278      0.274093   0.000290340\n",
      "12.0055      305.814      -1      0.921029      0.269124   0.000306035\n",
      "11.9477      246.426      -1      0.919704      0.262187   0.000326282\n",
      "11.8919      348.425      -1      0.917724      0.256155   0.000347109\n",
      "11.8132      298.314      -1      0.913299      0.248886   0.000371747\n",
      "11.7309      355.436      -1      0.907288      0.242258   0.000397155\n",
      "11.6145      314.166      -1      0.897469      0.234597   0.000425895\n",
      "11.4705      359.149      -1      0.884080      0.227240   0.000455482\n",
      "11.2465      320.57       -1      0.863859      0.218682   0.000487625\n",
      "10.9018      403.144      -1      0.835600      0.210024   0.000520299\n",
      "10.2853      336.853      -1      0.795068      0.199768   0.000553643\n",
      "9.18314      483.015      -1      0.739112      0.188368   0.000586936\n",
      "8.99745      622.452      -2      0.667940      0.149737   0.000980795\n",
      "6.50337      2407.74      -3      0.479847      0.185322   0.000213085\n",
      "6.46907      2171.08      -2      0.507463      0.172450   0.000306929\n",
      "6.15101      3247.38      -2      0.535174      0.167599   0.000418422\n",
      "6.08513      1153.33      -2      0.555197      0.162954   0.000525977\n",
      "6.01755      792.976      -2      0.572959      0.160515   0.000628606\n",
      "6.0048       226.014      -2      0.582012      0.158410   0.000697749\n",
      "5.99769      136.938      -2      0.589257      0.157027   0.000754287\n",
      "5.99426      71.8928      -2      0.594687      0.156073   0.000798078\n",
      "5.99265      37.8302      -2      0.598579      0.155423   0.000830366\n",
      "5.99193      19.5777      -2      0.601284      0.154987   0.000853221\n",
      "5.99161      10.0847      -2      0.603117      0.154698   0.000868900\n",
      "5.99148      5.2508       -2      0.604339      0.154508   0.000879417\n",
      "5.99142      2.8004       -2      0.605142      0.154385   0.000886360\n",
      "========================================\n",
      " Variances and Principal Axes\n",
      "                 1        2        5  \n",
      " 2.2308E-08| -0.0045   0.0264   0.9996  \n",
      " 3.9331E-04| -0.1844  -0.9825   0.0251  \n",
      " 2.9725E+03|  0.9828  -0.1842   0.0092  \n",
      "----------------------------------------\n",
      "\n",
      "====================================\n",
      "  Covariance Matrix\n",
      "        1           2           3   \n",
      "   2.871e+03  -5.381e+02   2.698e+01\n",
      "  -5.381e+02   1.009e+02  -5.056e+00\n",
      "   2.698e+01  -5.056e+00   2.534e-01\n",
      "------------------------------------\n",
      "\n",
      "========================================================================\n",
      "Model TBabs<1>*apec<2> Source No.: 1   Active/On\n",
      "Model Model Component  Parameter  Unit     Value\n",
      " par  comp\n",
      "   1    1   TBabs      nH         10^22    0.605142     +/-  53.5853      \n",
      "   2    2   apec       kT         keV      0.154385     +/-  10.0426      \n",
      "   3    2   apec       Abundanc            1.00000      frozen\n",
      "   4    2   apec       Redshift            0.0          frozen\n",
      "   5    2   apec       norm                8.86360E-04  +/-  0.503433     \n",
      "________________________________________________________________________\n",
      "\n",
      "\n",
      "Fit statistic  : Chi-Squared                  5.9914     using 4 bins.\n",
      "\n",
      "Test statistic : Chi-Squared                  5.9914     using 4 bins.\n",
      " Null hypothesis probability of 1.4376e-02 with 1 degrees of freedom\n"
     ]
    }
   ],
   "source": [
    "AllModels.clear()\n",
    "mo = Model(\"tbabs*apec\")\n",
    "Fit.perform()\n",
    "Plot.device = \"/xs\"\n",
    "Plot(\"data resid\")\n",
    "nH_apec = mo.TBabs.nH.values[0]"
   ]
  },
  {
   "cell_type": "code",
   "execution_count": 13,
   "id": "6ca2fa1d-62e3-4cff-b34b-11ac555ebcdb",
   "metadata": {},
   "outputs": [
    {
     "data": {
      "text/plain": [
       "(-0.5, 852.5, 655.5, -0.5)"
      ]
     },
     "execution_count": 13,
     "metadata": {},
     "output_type": "execute_result"
    },
    {
     "data": {
      "image/png": "[encoded data removed]",
      "text/plain": [
       "<Figure size 1200x700 with 1 Axes>"
      ]
     },
     "metadata": {},
     "output_type": "display_data"
    }
   ],
   "source": [
    "img = plt.imread(glob.glob('ObsID*_SRCNUM*_E*_Spectrum_apec.png')[0])\n",
    "plt.imshow(img)\n",
    "plt.axis('off')"
   ]
  },
  {
   "cell_type": "markdown",
   "id": "746ccf61-8e54-4726-b463-b6a3d137905c",
   "metadata": {},
   "source": [
    "### Powerlaw model"
   ]
  },
  {
   "cell_type": "code",
   "execution_count": 14,
   "id": "ecf8f29f-a8fc-4efc-9ce0-7059d934b811",
   "metadata": {},
   "outputs": [
    {
     "name": "stdout",
     "output_type": "stream",
     "text": [
      "\n",
      "========================================================================\n",
      "Model TBabs<1>*powerlaw<2> Source No.: 1   Active/On\n",
      "Model Model Component  Parameter  Unit     Value\n",
      " par  comp\n",
      "   1    1   TBabs      nH         10^22    1.00000      +/-  0.0          \n",
      "   2    2   powerlaw   PhoIndex            1.00000      +/-  0.0          \n",
      "   3    2   powerlaw   norm                1.00000      +/-  0.0          \n",
      "________________________________________________________________________\n",
      "\n",
      "\n",
      "Fit statistic  : Chi-Squared              3.229991e+11     using 4 bins.\n",
      "\n",
      "Test statistic : Chi-Squared              3.229991e+11     using 4 bins.\n",
      " Null hypothesis probability of 0.000000e+00 with 1 degrees of freedom\n",
      " Current data and model not fit yet.\n",
      "                                   Parameters\n",
      "Chi-Squared  |beta|/N    Lvl          1:nH    2:PhoIndex        3:norm\n",
      "23.8975      1.0893        0      0.133038       1.21511   3.59449e-06\n",
      "12.3695      486298       -1     0.0140349       1.78467   4.13894e-06\n",
      "1.62286      774048       -2     0.0467722       2.82750   9.12503e-06\n",
      "0.0184011    131847       -3     0.0944640       2.73856   1.12529e-05\n",
      "0.00339563   2529.57      -4      0.118255       2.87839   1.22389e-05\n",
      "0.00297406   3400.38      -5      0.119567       2.88702   1.23314e-05\n",
      "0.00297401   24.4328      -6      0.119599       2.88726   1.23330e-05\n",
      "========================================\n",
      " Variances and Principal Axes\n",
      "                 1        2        3  \n",
      " 3.7413E-12| -0.0001   0.0000   1.0000  \n",
      " 3.2569E-03|  0.9901  -0.1403   0.0001  \n",
      " 2.3560E+00|  0.1403   0.9901   0.0000  \n",
      "----------------------------------------\n",
      "\n",
      "====================================\n",
      "  Covariance Matrix\n",
      "        1           2           3   \n",
      "   4.955e-02   3.268e-01   2.077e-06\n",
      "   3.268e-01   2.310e+00   1.334e-05\n",
      "   2.077e-06   1.334e-05   9.158e-11\n",
      "------------------------------------\n",
      "\n",
      "========================================================================\n",
      "Model TBabs<1>*powerlaw<2> Source No.: 1   Active/On\n",
      "Model Model Component  Parameter  Unit     Value\n",
      " par  comp\n",
      "   1    1   TBabs      nH         10^22    0.119599     +/-  0.222604     \n",
      "    +/-  1.51976       PhoIndex            2.88726  \n",
      "   3    2   powerlaw   norm                1.23330E-05  +/-  9.56964E-06  \n",
      "________________________________________________________________________\n",
      "\n",
      "\n",
      "Fit statistic  : Chi-Squared                  0.0030     using 4 bins.\n",
      "\n",
      "Test statistic : Chi-Squared                  0.0030     using 4 bins.\n",
      " Null hypothesis probability of 9.5651e-01 with 1 degrees of freedom\n"
     ]
    }
   ],
   "source": [
    "AllModels.clear()\n",
    "mo = Model(\"tbabs*powerlaw\")\n",
    "Fit.perform()\n",
    "Plot.device = \"/xs\"\n",
    "Plot(\"data resid\")\n",
    "nH_powerlaw = mo.TBabs.nH.values[0]"
   ]
  },
  {
   "cell_type": "code",
   "execution_count": 15,
   "id": "65fdf6a7-0c7e-4160-9fb0-49fa0d849d21",
   "metadata": {},
   "outputs": [
    {
     "data": {
      "text/plain": [
       "(-0.5, 856.5, 660.5, -0.5)"
      ]
     },
     "execution_count": 15,
     "metadata": {},
     "output_type": "execute_result"
    },
    {
     "data": {
      "image/png": "[encoded data removed]",
      "text/plain": [
       "<Figure size 1200x700 with 1 Axes>"
      ]
     },
     "metadata": {},
     "output_type": "display_data"
    }
   ],
   "source": [
    "img = plt.imread(glob.glob('ObsID*_SRCNUM*_E*_Spectrum_powerlaw.png')[0])\n",
    "plt.imshow(img)\n",
    "plt.axis('off')"
   ]
  },
  {
   "cell_type": "markdown",
   "id": "a416c19e-0b48-4a9d-b015-5d6c11af60f8",
   "metadata": {},
   "source": [
    "## Column density nH\n",
    "### 3DNH-tool\n",
    "http://astro.uni-tuebingen.de/nh3d/nhtool\n",
    "\n",
    "**Sky coordinates (°) :** (GAIA)\n",
    "\n",
    "- RA = 53.3748310°\n",
    "- Dec = -27.2428069°\n",
    "\n",
    "53.37 -27.24\n",
    "\n",
    "**Column density :** nH = 2*10^20 cm^-2"
   ]
  },
  {
   "cell_type": "code",
   "execution_count": 16,
   "id": "c45820eb-f59b-4c5e-bc21-e7f3fa5aa773",
   "metadata": {},
   "outputs": [
    {
     "name": "stdout",
     "output_type": "stream",
     "text": [
      "The different models give a column density of :\n",
      "\n",
      "\u001b[1mbbody\u001b[0m\n",
      "(tbabs) : 233608.6082185304\n",
      "\n",
      "\u001b[1mbremss\u001b[0m\n",
      "(tbabs) : 7.70395565100991e+19\n",
      "\n",
      "\u001b[1mapec\u001b[0m\n",
      "(tbabs) : 6.051417351697478e+21\n",
      "\n",
      "\u001b[1mpowerlaw\u001b[0m\n",
      "(tbabs) : 1.1959941321347556e+21\n"
     ]
    }
   ],
   "source": [
    "print(\"The different models give a column density of :\")\n",
    "print()\n",
    "print(color.BOLD+\"bbody\"+color.END)\n",
    "print(f\"(tbabs) : {nH_bbody*10**22}\")\n",
    "print()\n",
    "print(color.BOLD+\"bremss\"+color.END)\n",
    "print(f\"(tbabs) : {nH_bremss*10**22}\")\n",
    "print()\n",
    "print(color.BOLD+\"apec\"+color.END)\n",
    "print(f\"(tbabs) : {nH_apec*10**22}\")\n",
    "print()\n",
    "print(color.BOLD+\"powerlaw\"+color.END)\n",
    "print(f\"(tbabs) : {nH_powerlaw*10**22}\")"
   ]
  },
  {
   "cell_type": "markdown",
   "id": "1973f13c-7580-446c-b7fe-bf273fd37c5d",
   "metadata": {},
   "source": [
    "## Flux\n",
    "### X-ray flux"
   ]
  },
  {
   "cell_type": "code",
   "execution_count": 17,
   "id": "f6ba1ee6-8282-4c45-8230-6603f9bfbae8",
   "metadata": {},
   "outputs": [
    {
     "name": "stdout",
     "output_type": "stream",
     "text": [
      " Model Flux 2.1238e-05 photons (3.2403e-14 ergs/cm^2/s) range (0.20000 - 12.000 keV)\n"
     ]
    }
   ],
   "source": [
    "AllModels.calcFlux(\".2 12.0\")"
   ]
  },
  {
   "cell_type": "code",
   "execution_count": 18,
   "id": "4e93ef39-9046-44fe-a12f-a84de18a36e6",
   "metadata": {},
   "outputs": [
    {
     "name": "stdout",
     "output_type": "stream",
     "text": [
      "\u001b[1mX-ray flux : \u001b[0mF_X = 3.2403e-14 ergs/cm^2/s\n"
     ]
    }
   ],
   "source": [
    "Flux = 3.2403e-14 # ergs/cm^2/s\n",
    "print(color.BOLD+\"X-ray flux : \"+color.END+f\"F_X = {Flux} ergs/cm^2/s\")"
   ]
  },
  {
   "cell_type": "markdown",
   "id": "c35f60c4-d6f3-4fa7-812a-b34bed342910",
   "metadata": {},
   "source": [
    "### Optical flux"
   ]
  },
  {
   "cell_type": "code",
   "execution_count": 19,
   "id": "f5fff1c1-b003-4884-9465-403837f11f4e",
   "metadata": {},
   "outputs": [
    {
     "name": "stdout",
     "output_type": "stream",
     "text": [
      "\u001b[1mOptical  flux : \u001b[0mF_opt = 9.590236099191845e-13 ergs/cm^2/s\n"
     ]
    }
   ],
   "source": [
    "def F_optical(mag):\n",
    "    F0 = 1.05*10**(-5) # GAIA zero point magnitude\n",
    "    return F0*10**(-0.4*mag)\n",
    "    \n",
    "G = 17.5984\n",
    "\n",
    "F = F_optical(G)\n",
    "\n",
    "print(color.BOLD+\"Optical  flux : \"+color.END+f\"F_opt = {F} ergs/cm^2/s\")"
   ]
  },
  {
   "cell_type": "markdown",
   "id": "e21356f8-c6cb-4ec5-97ac-514fca991518",
   "metadata": {},
   "source": [
    "### X-ray flux / Optical flux ratio"
   ]
  },
  {
   "cell_type": "code",
   "execution_count": 22,
   "id": "e5b46d21-be5f-401c-ad14-81bd23150bfc",
   "metadata": {},
   "outputs": [
    {
     "name": "stdout",
     "output_type": "stream",
     "text": [
      "\u001b[1mX-ray flux / Optical flux ratio : \u001b[0mF_x-ray/F_optical = 0.033787489343177435\n",
      "F_x-ray = 0.033787489343177435*F_optical\n"
     ]
    }
   ],
   "source": [
    "print(color.BOLD+\"X-ray flux / Optical flux ratio : \"+color.END+f\"F_x-ray/F_optical = {Flux/F}\")\n",
    "print(f\"F_x-ray = {Flux/F}*F_optical\")"
   ]
  },
  {
   "cell_type": "markdown",
   "id": "c8c6cc3c-5807-4c13-a57f-a4ce5da37435",
   "metadata": {},
   "source": [
    "## Luminosity"
   ]
  },
  {
   "cell_type": "code",
   "execution_count": 21,
   "id": "d586c000-4d0d-466d-b61a-9dae79785426",
   "metadata": {},
   "outputs": [
    {
     "name": "stdout",
     "output_type": "stream",
     "text": [
      "\u001b[1m(GAIA)\u001b[0m\n",
      "Distance : 1.5556059689453518e+21 cm\n",
      "Luminosité : 9.853585438003431e+29 erg/s\n"
     ]
    }
   ],
   "source": [
    "\"\"\"GAIA\"\"\"\n",
    "\n",
    "P_mas = 1.9836 # Parallaxe en mas\n",
    "d_kpc = 1/P_mas # Distance en kpc\n",
    "d_cm = d_kpc*3.0857*10**21 # Distance en cm, avec 1 pc = 3.0857*10^18 cm\n",
    "\n",
    "# La source est supposée sphérique pour le calcul de la luminosité : L = 4*pi*F*D^2\n",
    "Luminosity = 4*np.pi*Flux*(d_cm)**2 # erg/s\n",
    "\n",
    "print(color.BOLD+\"(GAIA)\"+color.END)\n",
    "print(f\"Distance : {d_cm} cm\")\n",
    "print(f\"Luminosité : {Luminosity} erg/s\")"
   ]
  }
 ],
 "metadata": {
  "kernelspec": {
   "display_name": "Python 3 (ipykernel)",
   "language": "python",
   "name": "python3"
  },
  "language_info": {
   "codemirror_mode": {
    "name": "ipython",
    "version": 3
   },
   "file_extension": ".py",
   "mimetype": "text/x-python",
   "name": "python",
   "nbconvert_exporter": "python",
   "pygments_lexer": "ipython3",
   "version": "3.10.12"
  }
 },
 "nbformat": 4,
 "nbformat_minor": 5
}
