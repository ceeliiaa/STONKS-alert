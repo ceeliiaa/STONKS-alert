{
 "cells": [
  {
   "cell_type": "markdown",
   "id": "a09472f9-b7b4-4047-9978-0b5adf3b464f",
   "metadata": {},
   "source": [
    "# ObsID : 0945070133, SRCNUM : 10, Instru : EPN\n",
    "**Simbad :** Star *2MASS J03332989-2714334* (https://simbad.cds.unistra.fr/simbad/sim-id?Ident=%4013058032&Name=2MASS%20J03332989-2714334&submit=submit)."
   ]
  },
  {
   "cell_type": "markdown",
   "id": "ee9befb7-bf2d-4e88-a03c-547580248cff",
   "metadata": {},
   "source": [
    "## ESASky\n",
    "https://sky.esa.int/esasky/?target=53.37579166666667%20-27.242833333333333&hips=XMM-Newton+EPIC+color&fov=1&projection=SIN&cooframe=J2000&sci=true&lang=fr\n",
    "\n",
    "``EPIC Stack``\n",
    "- Stack Catalogue name : 4XMMs J033329.9-271434\n",
    "- IAU name : 4XMM J033329.9-271433\n",
    "- RA : 03h 33m 29.959s\n",
    "- DEC : -27° 14' 34.10\"\n",
    "\n",
    "``GAIA``\n",
    "- Designation : Gaia DR3 5060545834987968640\n",
    "- RA : 03h 33m 29.937s\n",
    "- DEC : -27° 14' 33.44\"\n",
    "- Parallax : 1.9836 mas\n",
    "- G : 17.5984\n",
    "\n",
    "``2MASS``\n",
    "- Name : 03332989-2714334\n",
    "- RA : 03h 33m 29.898s\n",
    "- DEC : -27° 14' 33.48\""
   ]
  },
  {
   "cell_type": "code",
   "execution_count": 11,
   "id": "311ae079-ccd8-41c3-aac4-08c99f67b431",
   "metadata": {},
   "outputs": [],
   "source": [
    "from xspec import *\n",
    "from stingray import Lightcurve\n",
    "from astropy.io import fits\n",
    "import matplotlib.pyplot as plt\n",
    "import matplotlib.image as mpimg\n",
    "import glob\n",
    "import numpy as np\n",
    "\n",
    "class color:\n",
    "   PURPLE = '\\033[95m'\n",
    "   CYAN = '\\033[96m'\n",
    "   DARKCYAN = '\\033[36m'\n",
    "   BLUE = '\\033[94m'\n",
    "   GREEN = '\\033[92m'\n",
    "   YELLOW = '\\033[93m'\n",
    "   RED = '\\033[91m'\n",
    "   BOLD = '\\033[1m'\n",
    "   UNDERLINE = '\\033[4m'\n",
    "   END = '\\033[0m'\n",
    "\n",
    "plt.rcParams['figure.figsize'] = [12,7]"
   ]
  },
  {
   "cell_type": "markdown",
   "id": "e5eae72e-1db6-4cb9-ba31-b2747fcbe059",
   "metadata": {},
   "source": [
    "## Fit statistic"
   ]
  },
  {
   "cell_type": "code",
   "execution_count": 12,
   "id": "69840d8c-939c-4937-a2e6-39723c7cbd4c",
   "metadata": {},
   "outputs": [
    {
     "name": "stdout",
     "output_type": "stream",
     "text": [
      "Default fit statistic is set to: Chi-Squared\n",
      "   This will apply to all current and newly loaded spectra.\n",
      "Parameter delta values for fits will now be 0.0001 * parValue\n"
     ]
    }
   ],
   "source": [
    "Fit.statMethod = \"chi\"\n",
    "Fit.nIterations = 100000\n",
    "Fit.delta = 1e-4\n",
    "Fit.criticalDelta = 1e-4"
   ]
  },
  {
   "cell_type": "markdown",
   "id": "51262c57-7923-4961-aa72-d5cd5de4c1e6",
   "metadata": {},
   "source": [
    "The expected reduce Chi-squared value of a perfect fit is **≈ 1** with: ``reduce Chi-squared = Chi-squared/(n_bins-n_parameters)``."
   ]
  },
  {
   "cell_type": "markdown",
   "id": "39b7d9d2-7930-4892-81ba-8bd2db47e610",
   "metadata": {},
   "source": [
    "## Load files"
   ]
  },
  {
   "cell_type": "code",
   "execution_count": 13,
   "id": "cd0bcd6f-9565-4899-90b7-1e5d87e7050a",
   "metadata": {},
   "outputs": [
    {
     "name": "stdout",
     "output_type": "stream",
     "text": [
      "\n",
      "1 spectrum  in use\n",
      " \n",
      "Spectral Data File: ObsID0945070133_SRCNUM10_EPN_spectrum_grp.fits  Spectrum 1\n",
      "Net count rate (cts/s) for Spectrum:1  9.166e-03 +/- 1.555e-03 (54.4 % total)\n",
      " Assigned to Data Group 1 and Plot Group 1\n",
      "  Noticed Channels:  1-5\n",
      "  Telescope: XMM Instrument: EPN  Channel Type: PI\n",
      "  Exposure Time: 7831 sec\n",
      " Using fit statistic: chi\n",
      " Using Background File                ObsID0945070133_SRCNUM10_EPN_background_spectrum.fits\n",
      "  Background Exposure Time: 7832 sec\n",
      " Using Response (RMF) File            ObsID0945070133_SRCNUM10_EPN.rmf for Source 1\n",
      " Using Auxiliary Response (ARF) File  ObsID0945070133_SRCNUM10_EPN.arf\n",
      "\n",
      "\n",
      "Fit statistic  : Chi-Squared              1.571831e+12     using 5 bins.\n",
      "\n",
      "Test statistic : Chi-Squared              1.571831e+12     using 5 bins.\n",
      " Null hypothesis probability of 0.000000e+00 with 2 degrees of freedom\n",
      " Current data and model not fit yet.\n"
     ]
    }
   ],
   "source": [
    "AllData.clear()\n",
    "spec = Spectrum(glob.glob('ObsID*_SRCNUM*_E*_spectrum_grp.fits')[0])"
   ]
  },
  {
   "cell_type": "code",
   "execution_count": 14,
   "id": "f2bac02c-abce-493d-9485-4861e680e17c",
   "metadata": {},
   "outputs": [
    {
     "name": "stdout",
     "output_type": "stream",
     "text": [
      "Number of counts = 71.778946 cts\n"
     ]
    }
   ],
   "source": [
    "print(f\"Number of counts = {9.166e-03*7831} cts\")"
   ]
  },
  {
   "cell_type": "markdown",
   "id": "2202e569-a320-4d79-8ca6-f6da08e1b411",
   "metadata": {},
   "source": [
    "The number of counts is lower than 100 cts, indicating that the C statistic should be a better choice than Chi-squared as a fit statistic."
   ]
  },
  {
   "cell_type": "markdown",
   "id": "870eec10-27a5-4341-a01c-4a98ac400133",
   "metadata": {},
   "source": [
    "## Plot spectrum"
   ]
  },
  {
   "cell_type": "code",
   "execution_count": 15,
   "id": "37f98bf3-3d31-4c65-891f-3ea006da7786",
   "metadata": {},
   "outputs": [
    {
     "name": "stdout",
     "output_type": "stream",
     "text": [
      "***Warning: Fit is not current.\n",
      "     1 channels (1) ignored in spectrum #     1\n",
      "     1 channels (5) ignored in spectrum #     1\n",
      "\n",
      "Fit statistic  : Chi-Squared              6.939150e+10     using 3 bins.\n",
      "\n",
      "Test statistic : Chi-Squared              6.939150e+10     using 3 bins.\n",
      " Cannot calculate null hypothesis probability.\n",
      " Current data and model not fit yet.\n",
      "\n"
     ]
    },
    {
     "name": "stderr",
     "output_type": "stream",
     "text": [
      "GammQ: A <=  0\n"
     ]
    }
   ],
   "source": [
    "Plot.xAxis=\"keV\"\n",
    "Plot.device = \"/xs\"\n",
    "Plot.xLog=True\n",
    "Plot.yLog=True\n",
    "Plot.addCommand(\"Rescale Y 0.000001 0.05\")\n",
    "Plot(\"data\")\n",
    "spec.ignore(\"**-0.2 12.0-**\")"
   ]
  },
  {
   "cell_type": "code",
   "execution_count": 7,
   "id": "27bf0415-368d-4476-8ef7-29af925b48ee",
   "metadata": {},
   "outputs": [
    {
     "data": {
      "text/plain": [
       "(-0.5, 860.5, 660.5, -0.5)"
      ]
     },
     "execution_count": 7,
     "metadata": {},
     "output_type": "execute_result"
    },
    {
     "data": {
      "image/png": "[encoded data removed]",
      "text/plain": [
       "<Figure size 1200x700 with 1 Axes>"
      ]
     },
     "metadata": {},
     "output_type": "display_data"
    }
   ],
   "source": [
    "img = plt.imread(glob.glob('ObsID*_SRCNUM*_E*_Spectrum.png')[0])\n",
    "plt.imshow(img)\n",
    "plt.axis('off')"
   ]
  },
  {
   "cell_type": "markdown",
   "id": "7eb1edda-21f0-4876-bdbc-8cb3e4a347dc",
   "metadata": {},
   "source": [
    "### Black body model\n",
    "There are 3 parameters in the ``tbabs*bbody`` model. Here, Chi-squared = 25.8567 using 3 bins. The reduce Chi-squared cannot be calculated meaning the model has no statistical significance."
   ]
  },
  {
   "cell_type": "code",
   "execution_count": 16,
   "id": "25e94b4e-0bb6-439e-af07-e82ebf0faa48",
   "metadata": {
    "scrolled": true
   },
   "outputs": [
    {
     "name": "stdout",
     "output_type": "stream",
     "text": [
      "\n",
      "========================================================================\n",
      "Model TBabs<1>*bbody<2> Source No.: 1   Active/On\n",
      "Model Model Component  Parameter  Unit     Value\n",
      " par  comp\n",
      "   1    1   TBabs      nH         10^22    1.00000      +/-  0.0          \n",
      "   2    2   bbody      kT         keV      3.00000      +/-  0.0          \n",
      "   3    2   bbody      norm                1.00000      +/-  0.0          \n",
      "________________________________________________________________________\n",
      "\n",
      "\n",
      "Fit statistic  : Chi-Squared              6.939150e+10     using 3 bins.\n",
      "\n",
      "Test statistic : Chi-Squared              6.939150e+10     using 3 bins.\n",
      " Cannot calculate null hypothesis probability.\n",
      " Current data and model not fit yet.\n",
      "                                   Parameters\n",
      "Chi-Squared  |beta|/N    Lvl          1:nH          2:kT        3:norm\n",
      "30.683       0.175208     -1      0.251170       3.39341   7.36527e-06\n",
      "29.528       121773        0      0.115295       3.39871   7.25115e-06\n",
      "29.1401      136463        0     0.0452718       3.43871   6.92222e-06\n",
      "28.955       159695        0    0.00848300       3.46148   6.68856e-06\n",
      "28.0715      175976        0    0.00205837       3.38887   7.05143e-06\n",
      "27.4905      160878        0   0.000692450       3.33519   7.33678e-06\n",
      "27.0776      144813        0   8.71073e-05       3.29409   7.56460e-06\n",
      "26.7843      129657        0   1.83287e-05       3.26191   7.74828e-06\n",
      "26.5698      115840        0   2.40231e-06       3.23620   7.89736e-06\n",
      "26.4114      103539        0   5.32461e-07       3.21540   8.01888e-06\n",
      "26.2934      92736.3       0   8.85223e-08       3.19837   8.11817e-06\n",
      "26.2048      83332.5       0   3.53542e-08       3.18432   8.19941e-06\n",
      "26.1376      75200.8       0   9.69961e-09       3.17261   8.26586e-06\n",
      "26.0864      68202.7       0   3.47363e-09       3.16280   8.32015e-06\n",
      "26.0469      62205.1       0   4.36971e-10       3.15452   8.36438e-06\n",
      "26.0163      57080.7       0   6.51925e-11       3.14748   8.40028e-06\n",
      "25.9923      52713.3       0   1.95612e-11       3.14147   8.42926e-06\n",
      "25.9734      48997.1       0   8.39664e-12       3.13629   8.45253e-06\n",
      "25.9583      45833.9       0   2.86072e-12       3.13181   8.47093e-06\n",
      "25.9462      43156.2       0   1.47964e-13       3.12790   8.48539e-06\n",
      "25.9371      40877.2       0   4.82801e-14       3.12467   8.49514e-06\n",
      "25.929       39099.9       0   2.14763e-14       3.12165   8.50361e-06\n",
      "25.9221      37460.5       0   1.00417e-14       3.11887   8.51030e-06\n",
      "25.9158      36002.7       0   4.69691e-15       3.11620   8.51615e-06\n",
      "25.8986      34626.7       0   7.53597e-16       3.10997   8.54735e-06\n",
      "25.8567      30324.4       0   3.06564e-16       3.08585   8.60046e-06\n",
      "25.8567      17037.6      14   4.30111e-16       3.08585   8.60046e-06\n",
      "========================================\n",
      " Variances and Principal Axes\n",
      "            "
     ]
    },
    {
     "name": "stderr",
     "output_type": "stream",
     "text": [
      "GammQ: A <=  0\n",
      "GammQ: A <=  0\n"
     ]
    },
    {
     "name": "stdout",
     "output_type": "stream",
     "text": [
      "     1        2        3  \n",
      " 5.3945E-12| -0.0000  -0.0000   1.0000  \n",
      " 1.0598E+00|  0.9991  -0.0435   0.0000  \n",
      " 2.3257E+05|  0.0435   0.9991   0.0000  \n",
      "----------------------------------------\n",
      "\n",
      "====================================\n",
      "  Covariance Matrix\n",
      "        1           2           3   \n",
      "   4.407e+02   1.010e+04   8.028e-02\n",
      "   1.010e+04   2.321e+05   1.844e+00\n",
      "   8.028e-02   1.844e+00   1.465e-05\n",
      "------------------------------------\n",
      "\n",
      "========================================================================\n",
      "Model TBabs<1>*bbody<2> Source No.: 1   Active/On\n",
      "Model Model Component  Parameter  Unit     Value\n",
      " par  comp\n",
      "   1    1   TBabs      nH         10^22    4.30111E-16  +/-  20.9922      \n",
      "   2    2   bbody      kT         keV      3.08585      +/-  481.800      \n",
      "   3    2   bbody      norm                8.60046E-06  +/-  3.82816E-03  \n",
      "________________________________________________________________________\n",
      "\n",
      "\n",
      "Fit statistic  : Chi-Squared                 25.8567     using 3 bins.\n",
      "\n",
      "Test statistic : Chi-Squared                 25.8567     using 3 bins.\n",
      " Cannot calculate null hypothesis probability.\n",
      " Model Flux 4.2376e-05 photons (4.1523e-13 ergs/cm^2/s) range (0.20000 - 12.000 keV)\n"
     ]
    }
   ],
   "source": [
    "AllModels.clear()\n",
    "mo = Model(\"tbabs*bbody\")\n",
    "Fit.perform()\n",
    "Plot.device = \"/xs\"\n",
    "Plot(\"data resid\")\n",
    "plt.show()\n",
    "nH_bbody = mo.TBabs.nH.values[0]\n",
    "AllModels.calcFlux(\".2 12.0\")"
   ]
  },
  {
   "cell_type": "code",
   "execution_count": 8,
   "id": "e04eaffd-c5db-46a3-8597-dc279e6a5f92",
   "metadata": {},
   "outputs": [
    {
     "data": {
      "text/plain": [
       "(-0.5, 857.5, 661.5, -0.5)"
      ]
     },
     "execution_count": 8,
     "metadata": {},
     "output_type": "execute_result"
    },
    {
     "data": {
      "image/png": "[encoded data removed]",
      "text/plain": [
       "<Figure size 1200x700 with 1 Axes>"
      ]
     },
     "metadata": {},
     "output_type": "display_data"
    }
   ],
   "source": [
    "img = plt.imread(glob.glob('ObsID*_SRCNUM*_E*_Spectrum_bbody.png')[0])\n",
    "plt.imshow(img)\n",
    "plt.axis('off')"
   ]
  },
  {
   "cell_type": "markdown",
   "id": "b77a2e66-8412-4d85-a277-10782493ea2e",
   "metadata": {},
   "source": [
    "### Bremsstrahlung model\n",
    "There are 3 parameters in the ``tbabs*bremss`` model. Here, Chi-squared = 2e-09 using 3 bins. The reduce Chi-squared cannot be calculated meaning the model has no statistical significance."
   ]
  },
  {
   "cell_type": "code",
   "execution_count": 13,
   "id": "3ed606fb-6f75-4369-b9c8-b5c95a0a9577",
   "metadata": {
    "scrolled": true
   },
   "outputs": [
    {
     "name": "stdout",
     "output_type": "stream",
     "text": [
      "\n",
      "========================================================================\n",
      "Model TBabs<1>*bremss<2> Source No.: 1   Active/On\n",
      "Model Model Component  Parameter  Unit     Value\n",
      " par  comp\n",
      "   1    1   TBabs      nH         10^22    1.00000      +/-  0.0          \n",
      "   2    2   bremss     kT         keV      7.00000      +/-  0.0          \n",
      "   3    2   bremss     norm                1.00000      +/-  0.0          \n",
      "________________________________________________________________________\n",
      "\n",
      "\n",
      "Fit statistic  : Chi-Squared              3.307206e+10     using 3 bins.\n",
      "\n",
      "Test statistic : Chi-Squared              3.307206e+10     using 3 bins.\n",
      " Cannot calculate null hypothesis probability.\n",
      " Current data and model not fit yet.\n",
      "                                   Parameters\n",
      "Chi-Squared  |beta|/N    Lvl          1:nH          2:kT        3:norm\n",
      "27.639       0.782616     -3      0.293948       3.34107   5.47695e-06\n",
      "17.5144      309591       -1     0.0741581       1.60559   6.59193e-06\n",
      "1.53501      447076       -2    0.00661419       1.30488   1.25361e-05\n",
      "0.155225     167307       -3     0.0188657       1.05067   1.74157e-05\n",
      "1.28996e-05  43309.4      -4     0.0195145       1.09992   1.80776e-05\n",
      "1.69856e-09  4.04734      -5     0.0196263       1.09728   1.81125e-05\n",
      "========================================\n",
      " Variances and Principal Axes\n",
      "                 1        2        3  \n",
      " 8.0795E-12| -0.0001   0.0000   1.0000  \n",
      " 3.1155E-03|  0.9947   0.1033   0.0001  \n",
      " 1.5689E+00| -0.1033   0.9947  -0.0000  \n",
      "----------------------------------------\n",
      "\n",
      "====================================\n",
      "  Covariance Matrix\n",
      "        1           2           3   \n",
      "   1.982e-02  -1.609e-01   3.239e-06\n",
      "  -1.609e-01   1.552e+00  -2.866e-05\n",
      "   3.239e-06  -2.866e-05   5.601e-10\n",
      "------------------------------------\n",
      "\n",
      "========================================================================\n",
      "Model TBabs<1>*bremss<2> Source No.: 1   Active/On\n",
      "Model Model Component  Parameter  Unit     Value\n",
      " par  comp\n",
      "   1    1   TBabs      nH         10^22    1.96263E-02  +/-  0.140797     \n",
      "   2    2   bremss     kT         keV      1.09728      +/-  1.24586      \n",
      "   3    2   bremss     norm                1.81125E-05  +/-  2.36674E-05  \n",
      "________________________________________________________________________\n",
      "\n",
      "\n",
      "Fit statistic  : Chi-Squared                   2e-09     using 3 bins.\n",
      "\n",
      "Test statistic : Chi-Squared                   2e-09     using 3 bins.\n",
      " Cannot calculate null hypothesis probability.\n",
      " Model Flux 2.6672e-05 photons (3.044e-14 ergs/cm^2/s) range (0.20000 - 12.000 keV)\n"
     ]
    },
    {
     "name": "stderr",
     "output_type": "stream",
     "text": [
      "GammQ: A <=  0\n",
      "GammQ: A <=  0\n"
     ]
    }
   ],
   "source": [
    "AllModels.clear()\n",
    "mo = Model(\"tbabs*bremss\")\n",
    "Fit.perform()\n",
    "Plot.device = \"/xs\"\n",
    "Plot(\"data resid\")\n",
    "nH_bremss = mo.TBabs.nH.values[0]\n",
    "AllModels.calcFlux(\".2 12.0\")"
   ]
  },
  {
   "cell_type": "code",
   "execution_count": 10,
   "id": "36c699ef-2860-4416-8ce8-dd17a6c17ce0",
   "metadata": {},
   "outputs": [
    {
     "data": {
      "text/plain": [
       "(-0.5, 860.5, 657.5, -0.5)"
      ]
     },
     "execution_count": 10,
     "metadata": {},
     "output_type": "execute_result"
    },
    {
     "data": {
      "image/png": "[encoded data removed]",
      "text/plain": [
       "<Figure size 1200x700 with 1 Axes>"
      ]
     },
     "metadata": {},
     "output_type": "display_data"
    }
   ],
   "source": [
    "img = plt.imread(glob.glob('ObsID*_SRCNUM*_E*_Spectrum_bremss.png')[0])\n",
    "plt.imshow(img)\n",
    "plt.axis('off')"
   ]
  },
  {
   "cell_type": "markdown",
   "id": "4d8ea665-d6a1-4113-beaf-fad108850b18",
   "metadata": {},
   "source": [
    "### Apec model\n",
    "There are 4 parameters in the ``tbabs*apec`` model. Here, Chi-squared = 5.7898 using 3 bins. The reduce Chi-squared cannot be calculated meaning the model has no statistical significance."
   ]
  },
  {
   "cell_type": "code",
   "execution_count": 14,
   "id": "4bd12dd8-e0eb-46e8-a057-f7eb723b3a94",
   "metadata": {
    "scrolled": true
   },
   "outputs": [
    {
     "name": "stderr",
     "output_type": "stream",
     "text": [
      "GammQ: A <=  0\n",
      "GammQ: A <=  0\n"
     ]
    },
    {
     "name": "stdout",
     "output_type": "stream",
     "text": [
      "\n",
      "========================================================================\n",
      "Model TBabs<1>*apec<2> Source No.: 1   Active/On\n",
      "Model Model Component  Parameter  Unit     Value\n",
      " par  comp\n",
      "   1    1   TBabs      nH         10^22    1.00000      +/-  0.0          \n",
      "   2    2   apec       kT         keV      1.00000      +/-  0.0          \n",
      "   3    2   apec       Abundanc            1.00000      frozen\n",
      "   4    2   apec       Redshift            0.0          frozen\n",
      "   5    2   apec       norm                1.00000      +/-  0.0          \n",
      "________________________________________________________________________\n",
      "\n",
      "\n",
      "Fit statistic  : Chi-Squared              8.735343e+09     using 3 bins.\n",
      "\n",
      "Test statistic : Chi-Squared              8.735343e+09     using 3 bins.\n",
      " Cannot calculate null hypothesis probability.\n",
      " Current data and model not fit yet.\n",
      "                                   Parameters\n",
      "Chi-Squared  |beta|/N    Lvl          1:nH          2:kT        5:norm\n",
      "15.6729      3.10806       0      0.944841      0.647217   5.13444e-05\n",
      "12.4749      32832.7      -1      0.763938      0.551135   5.80999e-05\n",
      "12.3884      6149.04      -1      0.762968      0.517892   5.96130e-05\n",
      "12.3697      1277.76      -1      0.762355      0.502459   6.18631e-05\n",
      "12.3575      1005.12      -1      0.764213      0.491491   6.40452e-05\n",
      "12.348       681.88       -1      0.767487      0.482761   6.61245e-05\n",
      "12.3381      621.325      -1      0.771053      0.474287   6.83579e-05\n",
      "12.3299      597.872      -1      0.774983      0.467244   7.05160e-05\n",
      "12.3228      527.724      -1      0.779049      0.461223   7.25813e-05\n",
      "12.3164      466.178      -1      0.783092      0.455990   7.45500e-05\n",
      "12.3084      437.885      -1      0.786771      0.449421   7.68374e-05\n",
      "12.3016      472.169      -1      0.790564      0.443901   7.90454e-05\n",
      "12.2958      419.907      -1      0.794380      0.439121   8.11510e-05\n",
      "12.2909      372.58       -1      0.798119      0.434926   8.31523e-05\n",
      "12.2865      331.56       -2      0.834087      0.396660   0.000101907\n",
      "12.2398      3350.32      -2      0.862802      0.369400   0.000124942\n",
      "12.1922      2444.15      -2      0.889865      0.345833   0.000152332\n",
      "12.1393      1994.84      -2      0.918893      0.321122   0.000190497\n",
      "12.0671      2077.32      -1      0.912862      0.316080   0.000201460\n",
      "12.0455      330.021      -1      0.912811      0.310367   0.000210047\n",
      "12.0285      280.466      -1      0.914040      0.305656   0.000218443\n",
      "11.9942      242.688      -1      0.914538      0.298691   0.000230199\n",
      "11.9649      356.521      -1      0.915566      0.292869   0.000242261\n",
      "11.939       314.091      -1      0.917305      0.287924   0.000254146\n",
      "11.8944      268.975      -1      0.917699      0.280933   0.000269827\n",
      "11.8546      367.571      -1      0.918086      0.274949   0.000285965\n",
      "11.8143      322.377      -1      0.918818      0.269776   0.000301902\n",
      "11.7548      263.914      -1      0.917517      0.262693   0.000322278\n",
      "11.6977      361.602      -1      0.915532      0.256518   0.000343266\n",
      "11.6172      312.061      -1      0.911081      0.249136   0.000367991\n",
      "11.5328      365.859      -1      0.904992      0.242394   0.000393506\n",
      "11.4136      324.698      -1      0.895017      0.234629   0.000422297\n",
      "11.2653      368.346      -1      0.881363      0.227160   0.000451935\n",
      "11.0337      329.069      -1      0.860707      0.218483   0.000484075\n",
      "10.6747      414.439      -1      0.831778      0.209700   0.000516705\n",
      "10.0316      345.513      -1      0.790360      0.199313   0.000549935\n",
      "8.89053      491.871      -1      0.733616      0.187834   0.000583120\n",
      "  -2      0.664883      0.150213   0.000970236\n",
      "7.05441      2368.08      -3      0.494760      0.182517   0.000295218\n",
      "5.96507      7183.35      -2      0.529653      0.171144   0.000378587\n",
      "5.93991      998.932      -2      0.547995      0.163961   0.000486048\n",
      "5.83141      1158.88      -2      0.566747      0.161356   0.000591842\n",
      "5.80838      385.273      -2      0.577310      0.159277   0.000665070\n",
      "5.79899      166.311      -2      0.585761      0.157652   0.000727406\n",
      "5.79407      96.3977      -2      0.592135      0.156509   0.000777436\n",
      "5.7917       52.1548      -2      0.596773      0.155720   0.000815317\n",
      "5.79061      27.3455      -2      0.600040      0.155186   0.000842676\n",
      "5.79013      14.1147      -2      0.602280      0.154829   0.000861729\n",
      "5.78992      7.29845      -2      0.603784      0.154594   0.000874643\n",
      "5.78983      3.84043      -2      0.604780      0.154440   0.000883232\n",
      "========================================\n",
      " Variances and Principal Axes\n",
      "                 1        2        5  \n",
      " 2.2070E-08| -0.0044   0.0261   0.9996  \n",
      " 3.9661E-04| -0.1851  -0.9824   0.0249  \n",
      " 1.9322E+03|  0.9827  -0.1849   0.0092  \n",
      "----------------------------------------\n",
      "\n",
      "====================================\n",
      "  Covariance Matrix\n",
      "        1           2           3   \n",
      "   1.866e+03  -3.511e+02   1.745e+01\n",
      "  -3.511e+02   6.608e+01  -3.283e+00\n",
      "   1.745e+01  -3.283e+00   1.631e-01\n",
      "------------------------------------\n",
      "\n",
      "========================================================================\n",
      "Model TBabs<1>*apec<2> Source No.: 1   Active/On\n",
      "Model Model Component  Parameter  Unit     Value\n",
      " par  comp\n",
      "   1    1   TBabs      nH         10^22    0.604780     +/-  43.1963      \n",
      "   2    2   apec       kT         keV      0.154440     +/-  8.12893      \n",
      "   3    2   apec       Abundanc            1.00000      frozen\n",
      "   4    2   apec       Redshift            0.0          frozen\n",
      "   5    2   apec       norm                8.83232E-04  +/-  0.403893     \n",
      "__________________________________________________\n",
      "\n",
      "\n",
      "Fit statistic  : Chi-Squared                  5.7898     using 3 bins.\n",
      "\n",
      "Test statistic : Chi-Squared                  5.7898     using 3 bins.\n",
      " Cannot calculate null hypothesis probability.\n",
      " Model Flux 1.3526e-05 photons (1.5918e-14 ergs/cm^2/s) range (0.20000 - 12.000 keV)\n"
     ]
    }
   ],
   "source": [
    "AllModels.clear()\n",
    "mo = Model(\"tbabs*apec\")\n",
    "Fit.perform()\n",
    "Plot.device = \"/xs\"\n",
    "Plot(\"data resid\")\n",
    "nH_apec = mo.TBabs.nH.values[0]\n",
    "AllModels.calcFlux(\".2 12.0\")"
   ]
  },
  {
   "cell_type": "code",
   "execution_count": 15,
   "id": "6ca2fa1d-62e3-4cff-b34b-11ac555ebcdb",
   "metadata": {},
   "outputs": [
    {
     "data": {
      "text/plain": [
       "(-0.5, 854.5, 656.5, -0.5)"
      ]
     },
     "execution_count": 15,
     "metadata": {},
     "output_type": "execute_result"
    },
    {
     "data": {
      "image/png": "[encoded data removed]",
      "text/plain": [
       "<Figure size 1200x700 with 1 Axes>"
      ]
     },
     "metadata": {},
     "output_type": "display_data"
    }
   ],
   "source": [
    "img = plt.imread(glob.glob('ObsID*_SRCNUM*_E*_Spectrum_apec.png')[0])\n",
    "plt.imshow(img)\n",
    "plt.axis('off')"
   ]
  },
  {
   "cell_type": "markdown",
   "id": "746ccf61-8e54-4726-b463-b6a3d137905c",
   "metadata": {},
   "source": [
    "### Powerlaw model\n",
    "There are 3 parameters in the ``tbabs*powerlaw`` model. Here, Chi-squared = 1e-12 using 3 bins. The reduce Chi-squared cannot be calculated meaning the model has no statistical significance."
   ]
  },
  {
   "cell_type": "code",
   "execution_count": 16,
   "id": "ecf8f29f-a8fc-4efc-9ce0-7059d934b811",
   "metadata": {
    "scrolled": true
   },
   "outputs": [
    {
     "name": "stdout",
     "output_type": "stream",
     "text": [
      "\n",
      "========================================================================\n",
      "Model TBabs<1>*powerlaw<2> Source No.: 1   Active/On\n",
      "Model Model Component  Parameter  Unit     Value\n",
      " par  comp\n",
      "   1    1   TBabs      nH         10^22    1.00000      +/-  0.0          \n",
      "   2    2   powerlaw   PhoIndex            1.00000      +/-  0.0          \n",
      "   3    2   powerlaw   norm                1.00000      +/-  0.0          \n",
      "________________________________________________________________________\n",
      "\n",
      "\n",
      "Fit statistic  : Chi-Squared              1.092945e+11     using 3 bins.\n",
      "\n",
      "Test statistic : Chi-Squared              1.092945e+11     using 3 bins.\n",
      " Cannot calculate null hypothesis probability.\n",
      " Current data and model not fit yet.\n",
      "                                   Parameters\n",
      "Chi-Squared  |beta|/N    Lvl          1:nH    2:PhoIndex        3:norm\n",
      "13.6334      0.603635     -2      0.177739       5.51549   3.67903e-06\n",
      "7.6922       419013       -2      0.199206       2.26134   1.24472e-05\n",
      "2.03327      115604       -2     0.0890621       2.53551   8.92117e-06\n",
      "0.0213341    254209       -3      0.125570       2.96785   1.22438e-05\n",
      "4.60983e-06  20039.9      -4      0.126863       2.94071   1.26175e-05\n",
      "1.44302e-12  170.581      -5      0.127011       2.94246   1.26240e-05\n",
      "========================================\n",
      " Variances and Principal Axes\n",
      "                 1        2        3  \n",
      " 3.9373E-12| -0.0001   0.0000   1.0000  \n",
      " 3.3502E-03|  0.9904  -0.1381   0.0001  \n",
      " 3.4605E+00|  0.1381   0.9904   0.0000  \n",
      "----------------------------------------\n",
      "\n",
      "====================================\n",
      "  Covariance Matrix\n",
      "        1           2           3   \n",
      "   6.932e-02   4.730e-01   2.902e-06\n",
      "   4.730e-01   3.395e+00   1.940e-05\n",
      "   2.902e-06   1.940e-05   1.264e-10\n",
      "------------------------------------\n",
      "\n",
      "========================================================================\n",
      "Model TBabs<1>*powerlaw<2> Source No.: 1   Active/On\n",
      "Model Model Component  Parameter  Unit     Value\n",
      " par  comp\n",
      "   1    1   TBabs      nH         10^22    0.127011     +/-  0.263289     \n",
      "   2    2   powerlaw   PhoIndex            2.94246      +/-  1.84244      \n",
      "   3    2   powerlaw   norm                1.26240E-05  +/-  1.12446E-05  \n",
      "________________________________________________________________________\n",
      "\n",
      "\n",
      "Fit statistic  : Chi-Squared                   1e-12     using 3 bins.\n",
      "\n",
      "Test statistic : Chi-Squared                   1e-12     using 3 bins.\n",
      " Cannot calculate null hypothesis probability.\n",
      " Model Flux 2.0956e-05 photons (3.1794e-14 ergs/cm^2/s) range (0.20000 - 12.000 keV)\n"
     ]
    },
    {
     "name": "stderr",
     "output_type": "stream",
     "text": [
      "GammQ: A <=  0\n",
      "GammQ: A <=  0\n"
     ]
    }
   ],
   "source": [
    "AllModels.clear()\n",
    "mo = Model(\"tbabs*powerlaw\")\n",
    "Fit.perform()\n",
    "Plot.device = \"/xs\"\n",
    "Plot(\"data resid\")\n",
    "nH_powerlaw = mo.TBabs.nH.values[0]\n",
    "AllModels.calcFlux(\".2 12.0\")"
   ]
  },
  {
   "cell_type": "code",
   "execution_count": 17,
   "id": "65fdf6a7-0c7e-4160-9fb0-49fa0d849d21",
   "metadata": {},
   "outputs": [
    {
     "data": {
      "text/plain": [
       "(-0.5, 856.5, 659.5, -0.5)"
      ]
     },
     "execution_count": 17,
     "metadata": {},
     "output_type": "execute_result"
    },
    {
     "data": {
      "image/png": "[encoded data removed]",
      "text/plain": [
       "<Figure size 1200x700 with 1 Axes>"
      ]
     },
     "metadata": {},
     "output_type": "display_data"
    }
   ],
   "source": [
    "img = plt.imread(glob.glob('ObsID*_SRCNUM*_E*_Spectrum_powerlaw.png')[0])\n",
    "plt.imshow(img)\n",
    "plt.axis('off')"
   ]
  },
  {
   "cell_type": "markdown",
   "id": "a416c19e-0b48-4a9d-b015-5d6c11af60f8",
   "metadata": {},
   "source": [
    "## Column density nH\n",
    "### 3DNH-tool\n",
    "http://astro.uni-tuebingen.de/nh3d/nhtool\n",
    "\n",
    "**Sky coordinates (°) :** (GAIA)\n",
    "\n",
    "- RA = 53.3748310°\n",
    "- Dec = -27.2428069°\n",
    "\n",
    "53.37 -27.24\n",
    "\n",
    "**Column density :** nH = 2*10^20 cm^-2"
   ]
  },
  {
   "cell_type": "code",
   "execution_count": 18,
   "id": "c45820eb-f59b-4c5e-bc21-e7f3fa5aa773",
   "metadata": {},
   "outputs": [
    {
     "name": "stdout",
     "output_type": "stream",
     "text": [
      "The different models give a column density of :\n",
      "\n",
      "\u001b[1mbbody\u001b[0m\n",
      "(tbabs) : 4301110.9257605625\n",
      "\n",
      "\u001b[1mbremss (Second best fit)\u001b[0m\n",
      "(tbabs) : 1.9626264347164708e+20\n",
      "\n",
      "\u001b[1mapec\u001b[0m\n",
      "(tbabs) : 6.04779637546473e+21\n",
      "\n",
      "\u001b[1mpowerlaw (Best fit)\u001b[0m\n",
      "(tbabs) : 1.270114490312931e+21\n"
     ]
    }
   ],
   "source": [
    "print(\"The different models give a column density of :\")\n",
    "print()\n",
    "print(color.BOLD+\"bbody\"+color.END)\n",
    "print(f\"(tbabs) : {nH_bbody*10**22}\")\n",
    "print()\n",
    "print(color.BOLD+\"bremss (Second best fit)\"+color.END)\n",
    "print(f\"(tbabs) : {nH_bremss*10**22}\")\n",
    "print()\n",
    "print(color.BOLD+\"apec\"+color.END)\n",
    "print(f\"(tbabs) : {nH_apec*10**22}\")\n",
    "print()\n",
    "print(color.BOLD+\"powerlaw (Best fit)\"+color.END)\n",
    "print(f\"(tbabs) : {nH_powerlaw*10**22}\")"
   ]
  },
  {
   "cell_type": "markdown",
   "id": "1973f13c-7580-446c-b7fe-bf273fd37c5d",
   "metadata": {},
   "source": [
    "## Flux\n",
    "### X-ray flux\n",
    "- X-ray flux of the best-fitting model ``Powerlaw`` with Chi-squared = 1e-12 using 3 bins: **3.1794e-14 ergs/cm^2/s**.\n",
    "- X-ray flux of the second best-fitting model ``Bremss`` with Chi-squared = 2e-09 using 3 bins: **3.044e-14 ergs/cm^2/s**."
   ]
  },
  {
   "cell_type": "code",
   "execution_count": 2,
   "id": "4e93ef39-9046-44fe-a12f-a84de18a36e6",
   "metadata": {},
   "outputs": [
    {
     "name": "stdout",
     "output_type": "stream",
     "text": [
      "\u001b[1mX-ray flux : \u001b[0m\n",
      "Powerlaw : F_x-ray = 3.1794e-14 ergs/cm^2/s\n"
     ]
    }
   ],
   "source": [
    "Flux = 3.1794e-14 # ergs/cm^2/s\n",
    "print(color.BOLD+\"X-ray flux : \"+color.END)\n",
    "print(f\"Powerlaw : F_x-ray = {Flux} ergs/cm^2/s\")"
   ]
  },
  {
   "cell_type": "markdown",
   "id": "c35f60c4-d6f3-4fa7-812a-b34bed342910",
   "metadata": {},
   "source": [
    "### Optical flux"
   ]
  },
  {
   "cell_type": "code",
   "execution_count": 3,
   "id": "f5fff1c1-b003-4884-9465-403837f11f4e",
   "metadata": {},
   "outputs": [
    {
     "name": "stdout",
     "output_type": "stream",
     "text": [
      "\u001b[1mOptical flux : \u001b[0mF_optical = 9.590236099191845e-13 ergs/cm^2/s\n"
     ]
    }
   ],
   "source": [
    "def F_optical(mag):\n",
    "    F0 = 1.05*10**(-5) # GAIA zero point magnitude\n",
    "    return F0*10**(-0.4*mag)\n",
    "    \n",
    "G = 17.5984\n",
    "\n",
    "F = F_optical(G)\n",
    "\n",
    "print(color.BOLD+\"Optical flux : \"+color.END+f\"F_optical = {F} ergs/cm^2/s\")"
   ]
  },
  {
   "cell_type": "markdown",
   "id": "e21356f8-c6cb-4ec5-97ac-514fca991518",
   "metadata": {},
   "source": [
    "### X-ray flux / Optical flux ratio"
   ]
  },
  {
   "cell_type": "code",
   "execution_count": 4,
   "id": "e5b46d21-be5f-401c-ad14-81bd23150bfc",
   "metadata": {},
   "outputs": [
    {
     "name": "stdout",
     "output_type": "stream",
     "text": [
      "\u001b[1mX-ray flux / Optical flux ratio : \u001b[0mF_x-ray/F_optical = 0.03315246848060314\n"
     ]
    }
   ],
   "source": [
    "print(color.BOLD+\"X-ray flux / Optical flux ratio : \"+color.END+f\"F_x-ray/F_optical = {Flux/F}\")"
   ]
  },
  {
   "cell_type": "markdown",
   "id": "c8c6cc3c-5807-4c13-a57f-a4ce5da37435",
   "metadata": {},
   "source": [
    "## Luminosity"
   ]
  },
  {
   "cell_type": "code",
   "execution_count": 7,
   "id": "d586c000-4d0d-466d-b61a-9dae79785426",
   "metadata": {},
   "outputs": [
    {
     "name": "stdout",
     "output_type": "stream",
     "text": [
      "\u001b[1m(GAIA)\u001b[0m\n",
      "Distance : d = 1.5556059689453518e+21 cm\n",
      "\u001b[1mLuminosity :\u001b[0m\n",
      "Powerlaw : L_x-ray = 9.66839167410058e+29 erg/s\n"
     ]
    }
   ],
   "source": [
    "\"\"\"GAIA\"\"\"\n",
    "\n",
    "P_mas = 1.9836 # Parallaxe en mas\n",
    "d_kpc = 1/P_mas # Distance en kpc\n",
    "d_cm = d_kpc*3.0857*10**21 # Distance en cm, avec 1 pc = 3.0857*10^18 cm\n",
    "\n",
    "# La source est supposée sphérique pour le calcul de la luminosité : L = 4*pi*F*D^2\n",
    "Luminosity = 4*np.pi*Flux*(d_cm)**2 # erg/s\n",
    "\n",
    "print(color.BOLD+\"(GAIA)\"+color.END)\n",
    "print(f\"Distance : d = {d_cm} cm\")\n",
    "print(color.BOLD+\"Luminosity :\"+color.END)\n",
    "print(f\"Powerlaw : L_x-ray = {Luminosity} erg/s\")"
   ]
  }
 ],
 "metadata": {
  "kernelspec": {
   "display_name": "Python 3 (ipykernel)",
   "language": "python",
   "name": "python3"
  },
  "language_info": {
   "codemirror_mode": {
    "name": "ipython",
    "version": 3
   },
   "file_extension": ".py",
   "mimetype": "text/x-python",
   "name": "python",
   "nbconvert_exporter": "python",
   "pygments_lexer": "ipython3",
   "version": "3.10.12"
  }
 },
 "nbformat": 4,
 "nbformat_minor": 5
}
