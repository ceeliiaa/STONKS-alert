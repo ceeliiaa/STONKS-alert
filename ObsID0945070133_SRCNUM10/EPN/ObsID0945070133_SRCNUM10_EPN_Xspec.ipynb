{
 "cells": [
  {
   "cell_type": "markdown",
   "id": "c521860a-0601-4bc3-b8cc-119c1d638a4c",
   "metadata": {},
   "source": [
    "# ObsID : 0945070133, SRCNUM : 10, Instru : EPN\n",
    "**Simbad :** Star (2MASS J03332989-2714334) https://simbad.cds.unistra.fr/simbad/sim-id?Ident=%4013058032&Name=2MASS%20J03332989-2714334&submit=submit"
   ]
  },
  {
   "cell_type": "code",
   "execution_count": 1,
   "id": "a601bb92-6ab6-4642-bab7-b8cb9c6656a1",
   "metadata": {},
   "outputs": [
    {
     "name": "stdout",
     "output_type": "stream",
     "text": [
      "Default fit statistic is set to: Chi-Squared\n",
      "   This will apply to all current and newly loaded spectra.\n",
      "Parameter delta values for fits will now be 0.0001 * parValue\n"
     ]
    }
   ],
   "source": [
    "from xspec import *\n",
    "from stingray import Lightcurve\n",
    "from astropy.io import fits\n",
    "import matplotlib.pyplot as plt\n",
    "import matplotlib.image as mpimg\n",
    "import glob\n",
    "import numpy as np\n",
    "\n",
    "class color:\n",
    "   PURPLE = '\\033[95m'\n",
    "   CYAN = '\\033[96m'\n",
    "   DARKCYAN = '\\033[36m'\n",
    "   BLUE = '\\033[94m'\n",
    "   GREEN = '\\033[92m'\n",
    "   YELLOW = '\\033[93m'\n",
    "   RED = '\\033[91m'\n",
    "   BOLD = '\\033[1m'\n",
    "   UNDERLINE = '\\033[4m'\n",
    "   END = '\\033[0m'\n",
    "\n",
    "plt.rcParams['figure.figsize'] = [12,7]\n",
    "\n",
    "Fit.statMethod = \"chi\"\n",
    "Fit.nIterations = 100000\n",
    "Fit.delta = 1e-4\n",
    "Fit.criticalDelta = 1e-4"
   ]
  },
  {
   "cell_type": "markdown",
   "id": "b3bef4aa-73a9-461c-8ae3-51c5bfa0a578",
   "metadata": {},
   "source": [
    "## Load files\n",
    "Spectrum, Background, Response, Auxiliary response."
   ]
  },
  {
   "cell_type": "code",
   "execution_count": 2,
   "id": "edd8268e-eb42-436c-b895-c44b2c6335b7",
   "metadata": {},
   "outputs": [
    {
     "name": "stdout",
     "output_type": "stream",
     "text": [
      "\n",
      "1 spectrum  in use\n",
      " \n",
      "Spectral Data File: ObsID0945070133_SRCNUM10_EPN_spectrum_grp.fits  Spectrum 1\n"
     ]
    },
    {
     "data": {
      "text/plain": [
       "<xspec.spectrum.Spectrum at 0x7faee0325090>"
      ]
     },
     "execution_count": 2,
     "metadata": {},
     "output_type": "execute_result"
    },
    {
     "name": "stdout",
     "output_type": "stream",
     "text": [
      "Net count rate (cts/s) for Spectrum:1  9.166e-03 +/- 1.555e-03 (54.4 % total)\n",
      " Assigned to Data Group 1 and Plot Group 1\n",
      "  Noticed Channels:  1-5\n",
      "  Telescope: XMM Instrument: EPN  Channel Type: PI\n",
      "  Exposure Time: 7831 sec\n",
      " Using fit statistic: chi\n",
      " Using Background File                ObsID0945070133_SRCNUM10_EPN_background_spectrum.fits\n",
      "  Background Exposure Time: 7832 sec\n",
      " Using Response (RMF) File            ObsID0945070133_SRCNUM10_EPN.rmf for Source 1\n",
      " Using Auxiliary Response (ARF) File  ObsID0945070133_SRCNUM10_EPN.arf\n",
      "\n"
     ]
    }
   ],
   "source": [
    "Spectrum(glob.glob('ObsID*_SRCNUM*_E*_spectrum_grp.fits')[0])"
   ]
  },
  {
   "cell_type": "markdown",
   "id": "880eb92a-eaeb-4001-aa06-0eedfec69043",
   "metadata": {},
   "source": [
    "## Plot spectrum"
   ]
  },
  {
   "cell_type": "code",
   "execution_count": 3,
   "id": "4cc37457-f72a-4881-89d5-828fd66fd023",
   "metadata": {},
   "outputs": [],
   "source": [
    "Plot.xAxis=\"keV\"\n",
    "Plot.device = \"/xs\"\n",
    "Plot.xLog=True\n",
    "Plot.yLog=True\n",
    "Plot.addCommand(\"Rescale Y 0.00001 0.005\")\n",
    "Plot(\"data\")"
   ]
  },
  {
   "cell_type": "code",
   "execution_count": 4,
   "id": "9c969a35-f1e5-4704-ab87-c986550b4334",
   "metadata": {},
   "outputs": [
    {
     "data": {
      "text/plain": [
       "(-0.5, 861.5, 662.5, -0.5)"
      ]
     },
     "execution_count": 4,
     "metadata": {},
     "output_type": "execute_result"
    },
    {
     "data": {
      "image/png": "[encoded data removed]",
      "text/plain": [
       "<Figure size 1200x700 with 1 Axes>"
      ]
     },
     "metadata": {},
     "output_type": "display_data"
    }
   ],
   "source": [
    "img = plt.imread(glob.glob('ObsID*_SRCNUM*_E*_Spectrum.png')[0])\n",
    "plt.imshow(img)\n",
    "plt.axis('off')"
   ]
  },
  {
   "cell_type": "markdown",
   "id": "98519803-5052-4cb4-bfe7-7dad39416519",
   "metadata": {},
   "source": [
    "### Black body model"
   ]
  },
  {
   "cell_type": "code",
   "execution_count": 5,
   "id": "6c48de73-4acc-4052-9c2b-705487b7395c",
   "metadata": {},
   "outputs": [
    {
     "name": "stdout",
     "output_type": "stream",
     "text": [
      "\n",
      "========================================================================\n",
      "Model TBabs<1>*bbody<2> Source No.: 1   Active/On\n",
      "Model Model Component  Parameter  Unit     Value\n",
      " par  comp\n",
      "   1    1   TBabs      nH         10^22    1.00000      +/-  0.0          \n",
      "   2    2   bbody      kT         keV      3.00000      +/-  0.0          \n",
      "   3    2   bbody      norm                1.00000      +/-  0.0          \n",
      "________________________________________________________________________\n",
      "\n",
      "tbvabs Version 2.3\n",
      "Cosmic absorption with grains and H2, modified from\n",
      "Wilms, Allen, & McCray, 2000, ApJ 542, 914-924\n",
      "Questions: Joern Wilms\n",
      "joern.wilms@sternwarte.uni-erlangen.de\n",
      "joern.wilms@fau.de\n",
      "\n",
      "http://pulsar.sternwarte.uni-erlangen.de/wilms/research/tbabs/\n",
      "\n",
      "PLEASE NOTICE:\n",
      "To get the model described by the above paper\n",
      "you will also have to set the abundances:\n",
      "   abund wilm\n",
      "\n",
      "Note that this routine ignores the current cross section setting\n",
      "as it always HAS to use the Verner cross sections as a baseline.\n",
      "\n",
      "Fit statistic  : Chi-Squared              1.571831e+12     using 5 bins.\n",
      "\n",
      "Test statistic : Chi-Squared              1.571831e+12     using 5 bins.\n",
      " Null hypothesis probability of 0.000000e+00 with 2 degrees of freedom\n",
      " Current data and model not fit yet.\n",
      "                                   Parameters\n",
      "Chi-Squared  |beta|/N    Lvl          1:nH          2:kT        3:norm\n",
      "45.1514      0.12175       0      0.268655       3.29389   5.78413e-07\n",
      "     3.11773   6.14696e-07 0     0.0548124  \n",
      "44.1404      352664        0     0.0156757       2.94306   6.52226e-07\n",
      "43.7542      379640        0    0.00104033       2.79509   6.83320e-07\n",
      "43.4401      385783        0   0.000345621       2.66873   7.08352e-07\n",
      "43.1571      372123        0   5.65723e-05       2.56173   7.27091e-07\n",
      "42.8977      353675        0   2.55963e-05       2.46853   7.40872e-07\n",
      "42.6549      332318        0   1.19913e-05       2.38558   7.50652e-07\n",
      "42.4235      309622        0   5.92817e-06       2.31037   7.57207e-07\n",
      "42.1986      286412        0   4.64817e-07       2.24105   7.61137e-07\n",
      "41.9765      263231        0   1.54612e-07       2.17628   7.62915e-07\n",
      "41.7538      240409        0   1.28108e-08       2.11509   7.62915e-07\n",
      "41.5273      218180        0   4.66991e-09       2.05674   7.61447e-07\n",
      "41.2949      196670        0   9.17869e-10       2.00074   7.58766e-07\n",
      "41.0538      175993        0   5.09070e-11       1.94662   7.55084e-07\n",
      "40.8016      156163        0   7.58929e-13       1.89402   7.50581e-07\n",
      "40.5359      137171        0   1.74802e-14       1.84266   7.45629e-07\n",
      "40.2623      118243        0   3.05220e-15       1.74248   5.89913e-07\n",
      "2.71744      632519       -1   1.20098e-15      0.261656   2.51605e-07\n",
      "1.57991      8.13345e+06  -2    0.00970599      0.238264   2.97269e-07\n",
      "1.39765      1.54675e+06  -1   0.000493894      0.247870   2.81062e-07\n",
      "1.31036      2.4965e+06    0   6.89864e-05      0.246617   2.84920e-07\n",
      "1.28566      1.6107e+06    0   2.84609e-05      0.246023   2.86931e-07\n",
      "1.27503      1.20066e+06   0   1.01773e-05      0.245699   2.88028e-07\n",
      "1.27005      976912        0   1.55297e-06      0.245518   2.88627e-07\n",
      "1.2677       854540        0   5.09525e-07      0.245416   2.88954e-07\n",
      "1.26646      788567        0   2.53065e-07      0.245357   2.89134e-07\n",
      "1.2658       752197        0   1.26048e-07      0.245323   2.89233e-07\n",
      "1.26543      732076        0   6.28758e-08      0.245303   2.89287e-07\n",
      "1.26523      720985        0   3.13859e-08      0.245291   2.89316e-07\n",
      "1.26511      714796        0   1.56679e-08      0.245284   2.89332e-07\n",
      "1.26505      711389        0   7.81654e-09      0.245280   2.89341e-07\n",
      "========================================\n",
      " Variances and Principal Axes\n",
      "                 1        2        3  \n",
      " 1.9032E-15| -0.0000  -0.0000   1.0000  \n",
      " 3.4194E-04|  0.8889   0.4582   0.0000  \n",
      " 2.5055E-03| -0.4582   0.8889  -0.0000  \n",
      "----------------------------------------\n",
      "\n",
      "====================================\n",
      "  Covariance Matrix\n",
      "        1           2           3   \n",
      "   7.962e-04  -8.811e-04   1.128e-09\n",
      "  -8.811e-04   2.051e-03  -7.169e-10\n",
      "   1.128e-09  -7.169e-10   3.765e-15\n",
      "------------------------------------\n",
      "\n",
      "========================================================================\n",
      "Model TBabs<1>*bbody<2> Source No.: 1   Active/On\n",
      "Model Model Component  Parameter  Unit     Value\n",
      " par  comp\n",
      "   1    1   TBabs      nH         10^22    7.81654E-09  +/-  2.82161E-02  \n",
      "   2    2   bbody      kT         keV      0.245280     +/-  4.52909E-02  \n",
      "   3    2   bbody      norm                2.89341E-07  +/-  6.13568E-08  \n",
      "________________________________________________________________________\n",
      "\n",
      "\n",
      "Fit statistic  : Chi-Squared                  1.2650     using 5 bins.\n",
      "\n",
      "Test statistic : Chi-Squared                  1.2650     using 5 bins.\n",
      " Null hypothesis probability of 5.3125e-01 with 2 degrees of freedom\n"
     ]
    }
   ],
   "source": [
    "AllModels.clear()\n",
    "mo = Model(\"tbabs*bbody\")\n",
    "Fit.perform()\n",
    "Plot.device = \"/xs\"\n",
    "Plot(\"data resid\")"
   ]
  },
  {
   "cell_type": "code",
   "execution_count": 6,
   "id": "4126b402-b8e8-4e91-a044-24bfbab7723d",
   "metadata": {},
   "outputs": [
    {
     "data": {
      "text/plain": [
       "(-0.5, 860.5, 661.5, -0.5)"
      ]
     },
     "execution_count": 6,
     "metadata": {},
     "output_type": "execute_result"
    },
    {
     "data": {
      "image/png": "[encoded data removed]",
      "text/plain": [
       "<Figure size 1200x700 with 1 Axes>"
      ]
     },
     "metadata": {},
     "output_type": "display_data"
    }
   ],
   "source": [
    "img = plt.imread(glob.glob('ObsID*_SRCNUM*_E*_Spectrum_bbody.png')[0])\n",
    "plt.imshow(img)\n",
    "plt.axis('off')"
   ]
  },
  {
   "cell_type": "markdown",
   "id": "ff9fb499-d3ba-410c-b6c2-12f7d4ac82a0",
   "metadata": {},
   "source": [
    "### Bremsstrahlung model"
   ]
  },
  {
   "cell_type": "code",
   "execution_count": 7,
   "id": "f00f133a-c83a-4c92-9f10-4b5f63f74b3e",
   "metadata": {},
   "outputs": [
    {
     "name": "stdout",
     "output_type": "stream",
     "text": [
      "\n",
      "========================================================================\n",
      "Model TBabs<1>*bremss<2> Source No.: 1   Active/On\n",
      "Model Model Component  Parameter  Unit     Value\n",
      " par  comp\n",
      "   1    1   TBabs      nH         10^22    1.00000      +/-  0.0          \n",
      "   2    2   bremss     kT         keV      7.00000      +/-  0.0          \n",
      "   3    2   bremss     norm                1.00000      +/-  0.0          \n",
      "________________________________________________________________________\n",
      "\n",
      "\n",
      "Fit statistic  : Chi-Squared              4.951356e+10     using 5 bins.\n",
      "\n",
      "Test statistic : Chi-Squared              4.951356e+10     using 5 bins.\n",
      " Null hypothesis probability of 0.000000e+00 with 2 degrees of freedom\n",
      " Current data and model not fit yet.\n",
      "                                   Parameters\n",
      "Chi-Squared  |beta|/N    Lvl          1:nH          2:kT        3:norm\n",
      "32.4314      1.00917      -2      0.141588       56.7933   5.78272e-06\n",
      "28.927       308381       -1     0.0431660       19.3877   3.88373e-06\n",
      "26.2247      616127       -2   0.000157335       6.48703   2.86235e-06\n",
      "6.59618      983939       -3     0.0413206       3.17124   1.03725e-05\n",
      "3.83608      220188       -4    0.00567614       1.22342   1.36933e-05\n",
      "0.550543     51077.7      -5     0.0292879       1.03826   1.85738e-05\n",
      "0.161648     4600.88      -6     0.0460487      0.943317   2.20820e-05\n",
      "0.144954     9289.64      -7     0.0492966      0.931915   2.30213e-05\n",
      "0.144919     456.605      -8     0.0491229      0.933248   2.29901e-05\n",
      "========================================\n",
      " Variances and Principal Axes\n",
      "                 1        2        3  \n",
      " 1.1452E-11| -0.0001   0.0000   1.0000  \n",
      " 8.1639E-04|  0.9977   0.0680   0.0001  \n",
      " 2.9162E-01| -0.0680   0.9977  -0.0000  \n",
      "----------------------------------------\n",
      "\n",
      "====================================\n",
      "  Covariance Matrix\n",
      "        1           2           3   \n",
      "   2.161e-03  -1.972e-02   6.345e-07\n",
      "  -1.972e-02   2.903e-01  -7.590e-06\n",
      "   6.345e-07  -7.590e-06   2.271e-10\n",
      "------------------------------------\n",
      "\n",
      "========================================================================\n",
      "Model TBabs<1>*bremss<2> Source No.: 1   Active/On\n",
      "Model Model Component  Parameter  Unit     Value\n",
      " par  comp\n",
      "   1    1   TBabs      nH         10^22    4.91229E-02  +/-  4.64812E-02  \n",
      "   2    2   bremss     kT         keV      0.933248     +/-  0.538776     \n",
      "   3    2   bremss     norm                2.29901E-05  +/-  1.50702E-05  \n",
      "________________________________________________________________________\n",
      "\n",
      "\n",
      "Fit statistic  : Chi-Squared                  0.1449     using 5 bins.\n",
      "\n",
      "Test statistic : Chi-Squared                  0.1449     using 5 bins.\n",
      " Null hypothesis probability of 9.3010e-01 with 2 degrees of freedom\n"
     ]
    }
   ],
   "source": [
    "AllModels.clear()\n",
    "mo = Model(\"tbabs*bremss\")\n",
    "Fit.perform()\n",
    "Plot.device = \"/xs\"\n",
    "Plot(\"data resid\")"
   ]
  },
  {
   "cell_type": "code",
   "execution_count": 8,
   "id": "7e232b28-e230-4f0a-8940-b624173027c7",
   "metadata": {},
   "outputs": [
    {
     "data": {
      "text/plain": [
       "(-0.5, 859.5, 666.5, -0.5)"
      ]
     },
     "execution_count": 8,
     "metadata": {},
     "output_type": "execute_result"
    },
    {
     "data": {
      "image/png": "[encoded data removed]",
      "text/plain": [
       "<Figure size 1200x700 with 1 Axes>"
      ]
     },
     "metadata": {},
     "output_type": "display_data"
    }
   ],
   "source": [
    "img = plt.imread(glob.glob('ObsID*_SRCNUM*_E*_Spectrum_bremss.png')[0])\n",
    "plt.imshow(img)\n",
    "plt.axis('off')"
   ]
  },
  {
   "cell_type": "markdown",
   "id": "3edcca3a-8165-4c61-80ed-0b4b4087c8c3",
   "metadata": {},
   "source": [
    "### Apec model"
   ]
  },
  {
   "cell_type": "code",
   "execution_count": 10,
   "id": "629f01ff-336d-445c-8328-31a864f052a1",
   "metadata": {},
   "outputs": [
    {
     "name": "stdout",
     "output_type": "stream",
     "text": [
      "\n",
      "========================================================================\n",
      "Model TBabs<1>*apec<2> Source No.: 1   Active/On\n",
      "Model Model Component  Parameter  Unit     Value\n",
      " par  comp\n",
      "   1    1   TBabs      nH         10^22    1.00000      +/-  0.0          \n",
      "   2    2   apec       kT         keV      1.00000      +/-  0.0          \n",
      "   3    2   apec       Abundanc            1.00000      frozen\n",
      "   4    2   apec       Redshift            0.0          frozen\n",
      "   5    2   apec       norm                1.00000      +/-  0.0          \n",
      "________________________________________________________________________\n",
      "\n",
      "\n",
      "Fit statistic  : Chi-Squared              8.772155e+09     using 5 bins.\n",
      "\n",
      "Test statistic : Chi-Squared              8.772155e+09     using 5 bins.\n",
      " Null hypothesis probability of 0.000000e+00 with 2 degrees of freedom\n",
      " Current data and model not fit yet.\n",
      "                                   Parameters\n",
      "Chi-Squared  |beta|/N    Lvl          1:nH          2:kT        5:norm\n",
      "21.4222      3.13269      -3      0.801877      0.531684   4.24486e-05\n",
      "18.0117      50648.2      -2      0.772180      0.445738   6.97219e-05\n",
      "17.8859      9850.01      -2      0.810873      0.400457   9.28188e-05\n",
      "17.793       5763.44      -2      0.842393      0.369364   0.000117950\n",
      "17.7238      3364.74      -2      0.869621      0.345328   0.000145342\n",
      "17.6603      2279.48      -2      0.898891      0.319377   0.000183248\n",
      "17.5691      2381.42      -1      0.891200      0.313433   0.000194687\n",
      "17.54        389.592      -1      0.889661      0.306836   0.000203538\n",
      "17.5082      330.191      -1      0.889327      0.301450   0.000211994\n",
      "17.4588      281.061      -1      0.887465      0.293196   0.000224300\n",
      "17.4114      434.944      -1      0.885773      0.286364   0.000236701\n",
      "17.3348      366.521      -1      0.881995      0.277128   0.000253141\n",
      "17.2539      511.12       -1      0.877311      0.269171   0.000269868\n",
      "17.1283      426.56       -1      0.869027      0.258936   0.000291042\n",
      "16.9727      578.225      -1      0.857659      0.249746   0.000312471\n",
      "16.7269      475.525      -1      0.839597      0.238516   0.000337639\n",
      "16.2924      623.776      -1      0.810361      0.225680   0.000366160\n",
      "15.4399      788.442      -1      0.764340      0.211098   0.000396614\n",
      "13.6997      1041.02      -1      0.696457      0.195098   0.000427567\n",
      "12.7898      1377.93      -2      0.615799      0.150216   0.000741863\n",
      "9.02999      3652.25      -3      0.583413      0.149936   0.000969738\n",
      "9.00302      651.953      -3      0.609647      0.144538    0.00120599\n",
      "8.94124      370.999      -3      0.597812      0.148973    0.00102638\n",
      "8.93976      2.70846      -3      0.599324      0.147696    0.00107239\n",
      "8.93935      20.2635      -2      0.597625      0.148006    0.00105482\n",
      "8.93923      0.254068     -2      0.596631      0.148188    0.00104372\n",
      "95991      0.148307    0.00103655 0.5\n",
      "========================================\n",
      " Variances and Principal Axes\n",
      "                 1        2        5  \n",
      " 2.8983E-08| -0.0056   0.0305   0.9995  \n",
      " 4.4208E-04| -0.2143  -0.9764   0.0286  \n",
      " 7.5730E+00|  0.9768  -0.2140   0.0120  \n",
      "----------------------------------------\n",
      "\n",
      "====================================\n",
      "  Covariance Matrix\n",
      "        1           2           3   \n",
      "   7.225e+00  -1.583e+00   8.864e-02\n",
      "  -1.583e+00   3.473e-01  -1.944e-02\n",
      "   8.864e-02  -1.944e-02   1.088e-03\n",
      "------------------------------------\n",
      "\n",
      "========================================================================\n",
      "Model TBabs<1>*apec<2> Source No.: 1   Active/On\n",
      "Model Model Component  Parameter  Unit     Value\n",
      " par  comp\n",
      "   1    1   TBabs      nH         10^22    0.595991     +/-  2.68795      \n",
      "   2    2   apec       kT         keV      0.148307     +/-  0.589308     \n",
      "   3    2   apec       Abundanc            1.00000      frozen\n",
      "   frozen   apec       Redshift            0.0       \n",
      "   5    2   apec       norm                1.03655E-03  +/-  3.29851E-02  \n",
      "________________________________________________________________________\n",
      "\n",
      "\n",
      "Fit statistic  : Chi-Squared                  8.9392     using 5 bins.\n",
      "\n",
      "Test statistic : Chi-Squared                  8.9392     using 5 bins.\n",
      " Null hypothesis probability of 1.1452e-02 with 2 degrees of freedom\n"
     ]
    }
   ],
   "source": [
    "AllModels.clear()\n",
    "mo = Model(\"tbabs*apec\")\n",
    "Fit.perform()\n",
    "Plot.device = \"/xs\"\n",
    "Plot(\"data resid\")"
   ]
  },
  {
   "cell_type": "code",
   "execution_count": 11,
   "id": "9346ffe0-4746-4af3-bcb5-2476c11db9cd",
   "metadata": {},
   "outputs": [
    {
     "data": {
      "text/plain": [
       "(-0.5, 859.5, 661.5, -0.5)"
      ]
     },
     "execution_count": 11,
     "metadata": {},
     "output_type": "execute_result"
    },
    {
     "data": {
      "image/png": "[encoded data removed]",
      "text/plain": [
       "<Figure size 1200x700 with 1 Axes>"
      ]
     },
     "metadata": {},
     "output_type": "display_data"
    }
   ],
   "source": [
    "img = plt.imread(glob.glob('ObsID*_SRCNUM*_E*_Spectrum_apec.png')[0])\n",
    "plt.imshow(img)\n",
    "plt.axis('off')"
   ]
  },
  {
   "cell_type": "markdown",
   "id": "9f19aeb6-3c27-44a9-8ad3-a2eb2777e421",
   "metadata": {},
   "source": [
    "### Powerlaw model"
   ]
  },
  {
   "cell_type": "code",
   "execution_count": 12,
   "id": "85b08776-73cd-4f36-a843-c34effff4655",
   "metadata": {},
   "outputs": [
    {
     "name": "stdout",
     "output_type": "stream",
     "text": [
      "\n",
      "========================================================================\n",
      "Model TBabs<1>*powerlaw<2> Source No.: 1   Active/On\n",
      "Model Model Component  Parameter  Unit     Value\n",
      " par  comp\n",
      "   1    1   TBabs      nH         10^22    1.00000      +/-  0.0          \n",
      "   2    2   powerlaw   PhoIndex            1.00000      +/-  0.0          \n",
      "   3    2   powerlaw   norm                1.00000      +/-  0.0          \n",
      "________________________________________________________________________\n",
      "\n",
      "\n",
      "Fit statistic  : Chi-Squared              3.230047e+11     using 5 bins.\n",
      "\n",
      "Test statistic : Chi-Squared              3.230047e+11     using 5 bins.\n",
      " Null hypothesis probability of 0.000000e+00 with 2 degrees of freedom\n",
      " Current data and model not fit yet.\n",
      "                                   Parameters\n",
      "Chi-Squared  |beta|/N    Lvl          1:nH    2:PhoIndex        3:norm\n",
      "28.9245      1.1006        0      0.131689       1.21537   3.60987e-06\n",
      "12.8344      517311       -1    0.00774763       1.76572   3.97972e-06\n",
      "0.940988     881482       -2     0.0803896       2.89429   9.38119e-06\n",
      "0.0285609    38372.4      -3     0.0892361       2.65942   1.11400e-05\n",
      "0.0150824    1739.7       -4     0.0969643       2.74620   1.14143e-05\n",
      "0.0150398    93.4212      -5     0.0974440       2.74949   1.14359e-05\n",
      "========================================\n",
      " Variances and Principal Axes\n",
      "                 1        2        3  \n",
      " 2.8032E-12| -0.0001   0.0000   1.0000  \n",
      " 1.1714E-03|  0.9955  -0.0945   0.0001  \n",
      " 6.4069E-01|  0.0945   0.9955   0.0000  \n",
      "----------------------------------------\n",
      "\n",
      "====================================\n",
      "  Covariance Matrix\n",
      "        1           2           3   \n",
      "   6.879e-03   6.015e-02   2.804e-07\n",
      "   6.015e-02   6.350e-01   2.112e-06\n",
      "   2.804e-07   2.112e-06   1.528e-11\n",
      "------------------------------------\n",
      "\n",
      "========================================================================\n",
      "Model TBabs<1>*powerlaw<2> Source No.: 1   Active/On\n",
      "Model Model Component  Parameter  Unit     Value\n",
      " par  comp\n",
      "   1    1   TBabs      nH         10^22    9.74440E-02  +/-  8.29400E-02  \n",
      "   2    2   powerlaw   PhoIndex            2.74949      +/-  0.796858     \n",
      "   3    2   powerlaw   norm                1.14359E-05  +/-  3.90957E-06  \n",
      "________________________________________________________________________\n",
      "\n",
      "\n",
      "Fit statistic  : Chi-Squared                  0.0150     using 5 bins.\n",
      "\n",
      "Test statistic : Chi-Squared                  0.0150     using 5 bins.\n",
      " Null hypothesis probability of 9.9251e-01 with 2 degrees of freedom\n"
     ]
    }
   ],
   "source": [
    "AllModels.clear()\n",
    "mo = Model(\"tbabs*powerlaw\")\n",
    "Fit.perform()\n",
    "Plot.device = \"/xs\"\n",
    "Plot(\"data resid\")"
   ]
  },
  {
   "cell_type": "code",
   "execution_count": 13,
   "id": "36513f65-f99f-493c-bdde-5f9da3489b11",
   "metadata": {},
   "outputs": [
    {
     "data": {
      "text/plain": [
       "(-0.5, 860.5, 665.5, -0.5)"
      ]
     },
     "execution_count": 13,
     "metadata": {},
     "output_type": "execute_result"
    },
    {
     "data": {
      "image/png": "[encoded data removed]",
      "text/plain": [
       "<Figure size 1200x700 with 1 Axes>"
      ]
     },
     "metadata": {},
     "output_type": "display_data"
    }
   ],
   "source": [
    "img = plt.imread(glob.glob('ObsID*_SRCNUM*_E*_Spectrum_powerlaw.png')[0])\n",
    "plt.imshow(img)\n",
    "plt.axis('off')"
   ]
  },
  {
   "cell_type": "markdown",
   "id": "c404b996-c273-4f68-a4b2-5b526c4027e0",
   "metadata": {},
   "source": [
    "## Flux"
   ]
  },
  {
   "cell_type": "code",
   "execution_count": 14,
   "id": "7509b2e9-7ca8-4af4-a044-6e88fd3e45c6",
   "metadata": {},
   "outputs": [
    {
     "name": "stdout",
     "output_type": "stream",
     "text": [
      " Model Flux 2.2337e-05 photons (3.4033e-14 ergs/cm^2/s) range (0.20000 - 12.000 keV)\n"
     ]
    }
   ],
   "source": [
    "AllModels.calcFlux(\".2 12.0\")"
   ]
  },
  {
   "cell_type": "code",
   "execution_count": 15,
   "id": "188f0c9e-abca-407f-b959-8fd675cb4e61",
   "metadata": {},
   "outputs": [],
   "source": [
    "Flux = 3.4033e-14 # ergs/cm^2/s"
   ]
  },
  {
   "cell_type": "markdown",
   "id": "80ca441e-c01d-4098-909e-433bf8b19c1a",
   "metadata": {},
   "source": [
    "### ESASky\n",
    "\n",
    "https://sky.esa.int/esasky/?target=53.37579166666667%20-27.242833333333333&hips=XMM-Newton+EPIC+color&fov=1&projection=SIN&cooframe=J2000&sci=true&lang=fr\n",
    "\n",
    "``EPIC Stack``\n",
    "- Stack Catalogue name : 4XMMs J033329.9-271434\n",
    "- IAU name : 4XMM J033329.9-271433\n",
    "- RA : 03h 33m 29.959s\n",
    "- DEC : -27° 14' 34.10\"\n",
    "\n",
    "``GAIA``\n",
    "- Designation : Gaia DR3 5060545834987968640\n",
    "- RA : 03h 33m 29.937s\n",
    "- DEC : -27° 14' 33.44\"\n",
    "- Parallax : 1.9836 mas\n",
    "\n",
    "``2MASS``\n",
    "- Name : 03332989-2714334\n",
    "- RA : 03h 33m 29.898s\n",
    "- DEC : -27° 14' 33.48\""
   ]
  },
  {
   "cell_type": "markdown",
   "id": "a795f6f5-db41-4d8f-88db-605ec3106cbb",
   "metadata": {},
   "source": [
    "### Luminosity"
   ]
  },
  {
   "cell_type": "code",
   "execution_count": 17,
   "id": "0dafe495-5d3f-4157-89ae-cde23e0e6f1b",
   "metadata": {},
   "outputs": [
    {
     "name": "stdout",
     "output_type": "stream",
     "text": [
      "\u001b[1m(GAIA)\u001b[0m\n",
      "Distance : 1.5556059689453518e+21 cm\n",
      "Luminosité : 1.0349260044180192e+30 erg/s\n"
     ]
    }
   ],
   "source": [
    "\"\"\"GAIA\"\"\"\n",
    "\n",
    "P_mas = 1.9836 # Parallaxe en mas\n",
    "d_kpc = 1/P_mas # Distance en kpc\n",
    "d_cm = d_kpc*3.0857*10**21 # Distance en cm, avec 1 pc = 3.0857*10^18 cm\n",
    "\n",
    "# La source est supposée sphérique pour le calcul de la luminosité : L = 4*pi*F*D^2\n",
    "Luminosity = 4*np.pi*Flux*(d_cm)**2 # erg/s\n",
    "\n",
    "print(color.BOLD+\"(GAIA)\"+color.END)\n",
    "print(f\"Distance : {d_cm} cm\")\n",
    "print(f\"Luminosité : {Luminosity} erg/s\")"
   ]
  }
 ],
 "metadata": {
  "kernelspec": {
   "display_name": "Python [conda env:base] *",
   "language": "python",
   "name": "conda-base-py"
  },
  "language_info": {
   "codemirror_mode": {
    "name": "ipython",
    "version": 3
   },
   "file_extension": ".py",
   "mimetype": "text/x-python",
   "name": "python",
   "nbconvert_exporter": "python",
   "pygments_lexer": "ipython3",
   "version": "3.12.3"
  }
 },
 "nbformat": 4,
 "nbformat_minor": 5
}
