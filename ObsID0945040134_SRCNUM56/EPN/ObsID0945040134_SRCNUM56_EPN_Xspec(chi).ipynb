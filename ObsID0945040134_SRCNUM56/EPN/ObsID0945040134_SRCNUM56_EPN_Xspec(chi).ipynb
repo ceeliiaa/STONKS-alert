{
 "cells": [
  {
   "cell_type": "markdown",
   "id": "c521860a-0601-4bc3-b8cc-119c1d638a4c",
   "metadata": {},
   "source": [
    "# ObsID : 0945040134, SRCNUM : 56, Instru : EPN\n",
    "Not on Simbad."
   ]
  },
  {
   "cell_type": "markdown",
   "id": "cc3bc868-86f0-440a-936e-48aa229b4f04",
   "metadata": {},
   "source": [
    "## ESASky\n",
    "\n",
    "https://sky.esa.int/esasky/?target=54.213208333333334%20-28.330666666666666&hips=XMM-Newton+EPIC+color&fov=1&projection=SIN&cooframe=J2000&sci=true&lang=fr\n",
    "\n",
    "``EPIC Stack``\n",
    "- Stack Catalogue name : 4XMMs J033651.5-2819524\n",
    "- IAU name : XMM J033651.5-281952\n",
    "- RA : 03h 36m 51.547s\n",
    "- DEC : -28° 19' 52.59\""
   ]
  },
  {
   "cell_type": "code",
   "execution_count": 2,
   "id": "a601bb92-6ab6-4642-bab7-b8cb9c6656a1",
   "metadata": {},
   "outputs": [],
   "source": [
    "from xspec import *\n",
    "from stingray import Lightcurve\n",
    "from astropy.io import fits\n",
    "import matplotlib.pyplot as plt\n",
    "import matplotlib.image as mpimg\n",
    "import glob\n",
    "import numpy as np\n",
    "\n",
    "class color:\n",
    "   PURPLE = '\\033[95m'\n",
    "   CYAN = '\\033[96m'\n",
    "   DARKCYAN = '\\033[36m'\n",
    "   BLUE = '\\033[94m'\n",
    "   GREEN = '\\033[92m'\n",
    "   YELLOW = '\\033[93m'\n",
    "   RED = '\\033[91m'\n",
    "   BOLD = '\\033[1m'\n",
    "   UNDERLINE = '\\033[4m'\n",
    "   END = '\\033[0m'\n",
    "\n",
    "plt.rcParams['figure.figsize'] = [12,7]"
   ]
  },
  {
   "cell_type": "markdown",
   "id": "a9d902c3-06d7-442e-99d9-bb93b8d9364f",
   "metadata": {},
   "source": [
    "## Fit statistic"
   ]
  },
  {
   "cell_type": "code",
   "execution_count": 16,
   "id": "e78f5234-fa04-49be-b06a-7a66525ea63b",
   "metadata": {},
   "outputs": [
    {
     "name": "stdout",
     "output_type": "stream",
     "text": [
      "Default fit statistic is set to: Chi-Squared\n",
      "   This will apply to all current and newly loaded spectra.\n",
      "\n",
      "Fit statistic  : Chi-Squared                  5.6594     using 6 bins.\n",
      "\n",
      "Test statistic : Chi-Squared                  5.6594     using 6 bins.\n",
      " Null hypothesis probability of 1.2941e-01 with 3 degrees of freedom\n",
      " Current data and model not fit yet.\n",
      "Parameter delta values for fits will now be 0.0001 * parValue\n"
     ]
    }
   ],
   "source": [
    "Fit.statMethod = \"chi\"\n",
    "Fit.nIterations = 100000\n",
    "Fit.delta = 1e-4\n",
    "Fit.criticalDelta = 1e-4"
   ]
  },
  {
   "cell_type": "markdown",
   "id": "b3bef4aa-73a9-461c-8ae3-51c5bfa0a578",
   "metadata": {},
   "source": [
    "## Load files\n",
    "Spectrum, Background, Response, Auxiliary response."
   ]
  },
  {
   "cell_type": "code",
   "execution_count": 17,
   "id": "edd8268e-eb42-436c-b895-c44b2c6335b7",
   "metadata": {},
   "outputs": [
    {
     "name": "stdout",
     "output_type": "stream",
     "text": [
      "\n",
      "1 spectrum  in use\n",
      " \n",
      "Spectral Data File: ObsID0945040134_SRCNUM56_EPN_spectrum_grp.fits  Spectrum 1\n",
      "Net count rate (cts/s) for Spectrum:1  5.254e-03 +/- 2.183e-03 (25.9 % total)\n",
      " Assigned to Data Group 1 and Plot Group 1\n",
      "  Noticed Channels:  1-9\n",
      "  Telescope: XMM Instrument: EPN  Channel Type: PI\n",
      "  Exposure Time: 1.146e+04 sec\n",
      " Using fit statistic: chi\n",
      " Using Background File                ObsID0945040134_SRCNUM56_EPN_background_spectrum.fits\n",
      "  Background Exposure Time: 1.146e+04 sec\n",
      " Using Response (RMF) File            ObsID0945040134_SRCNUM56_EPN.rmf for Source 1\n",
      " Using Auxiliary Response (ARF) File  ObsID0945040134_SRCNUM56_EPN.arf\n",
      "\n",
      "\n",
      "Fit statistic  : Chi-Squared                  6.5501     using 9 bins.\n",
      "\n",
      "Test statistic : Chi-Squared                  6.5501     using 9 bins.\n",
      " Null hypothesis probability of 3.6446e-01 with 6 degrees of freedom\n",
      " Current data and model not fit yet.\n"
     ]
    }
   ],
   "source": [
    "AllData.clear()\n",
    "spec = Spectrum(glob.glob('ObsID*_SRCNUM*_E*_spectrum_grp.fits')[0])"
   ]
  },
  {
   "cell_type": "code",
   "execution_count": 4,
   "id": "858a1051-0cda-48ef-8c65-b1bb005f42c4",
   "metadata": {},
   "outputs": [
    {
     "name": "stdout",
     "output_type": "stream",
     "text": [
      "Number of counts = 60.21084\n",
      "\n",
      "The low number of counts indicates that we should consider using cstat fit statistic instead of chi statistic.\n"
     ]
    }
   ],
   "source": [
    "n_cts = 5.254e-03*1.146e+04\n",
    "\n",
    "print(\"Number of counts =\",n_cts)\n",
    "\n",
    "if int(n_cts)<100:\n",
    "    print()\n",
    "    print(\"The low number of counts indicates that we should consider using cstat fit statistic instead of chi statistic.\")"
   ]
  },
  {
   "cell_type": "markdown",
   "id": "880eb92a-eaeb-4001-aa06-0eedfec69043",
   "metadata": {},
   "source": [
    "## Plot spectrum"
   ]
  },
  {
   "cell_type": "code",
   "execution_count": 4,
   "id": "4cc37457-f72a-4881-89d5-828fd66fd023",
   "metadata": {},
   "outputs": [
    {
     "name": "stdout",
     "output_type": "stream",
     "text": [
      "     2 channels (1-2) ignored in spectrum #     1\n",
      "     1 channels (9) ignored in spectrum #     1\n",
      "\n"
     ]
    }
   ],
   "source": [
    "Plot.xAxis=\"keV\"\n",
    "Plot.device = \"/xs\"\n",
    "Plot.xLog=True\n",
    "Plot.yLog=True\n",
    "Plot.addCommand(\"Rescale Y 0.00001 0.01\")\n",
    "Plot(\"data\")\n",
    "spec.ignore(\"**-0.2 12.0-**\")"
   ]
  },
  {
   "cell_type": "code",
   "execution_count": 8,
   "id": "9c969a35-f1e5-4704-ab87-c986550b4334",
   "metadata": {},
   "outputs": [
    {
     "data": {
      "text/plain": [
       "(-0.5, 854.5, 659.5, -0.5)"
      ]
     },
     "execution_count": 8,
     "metadata": {},
     "output_type": "execute_result"
    },
    {
     "data": {
      "image/png": "[encoded data removed]",
      "text/plain": [
       "<Figure size 1200x700 with 1 Axes>"
      ]
     },
     "metadata": {},
     "output_type": "display_data"
    }
   ],
   "source": [
    "img = plt.imread(glob.glob('ObsID*_SRCNUM*_E*_Spectrum.png')[0])\n",
    "plt.imshow(img)\n",
    "plt.axis('off')"
   ]
  },
  {
   "cell_type": "markdown",
   "id": "98519803-5052-4cb4-bfe7-7dad39416519",
   "metadata": {},
   "source": [
    "### Black body model (Second best fit)"
   ]
  },
  {
   "cell_type": "code",
   "execution_count": 5,
   "id": "6c48de73-4acc-4052-9c2b-705487b7395c",
   "metadata": {
    "scrolled": true
   },
   "outputs": [
    {
     "name": "stdout",
     "output_type": "stream",
     "text": [
      "\n",
      "========================================================================\n",
      "Model TBabs<1>*bbody<2> Source No.: 1   Active/On\n",
      "Model Model Component  Parameter  Unit     Value\n",
      " par  comp\n",
      "   1    1   TBabs      nH         10^22    1.00000      +/-  0.0          \n",
      "   2    2   bbody      kT         keV      3.00000      +/-  0.0          \n",
      "   3    2   bbody      norm                1.00000      +/-  0.0          \n",
      "________________________________________________________________________\n",
      "\n",
      "tbvabs Version 2.3\n",
      "Cosmic absorption with grains and H2, modified from\n",
      "Wilms, Allen, & McCray, 2000, ApJ 542, 914-924\n",
      "Questions: Joern Wilms\n",
      "joern.wilms@sternwarte.uni-erlangen.de\n",
      "joern.wilms@fau.de\n",
      "\n",
      "http://pulsar.sternwarte.uni-erlangen.de/wilms/research/tbabs/\n",
      "\n",
      "PLEASE NOTICE:\n",
      "To get the model described by the above paper\n",
      "you will also have to set the abundances:\n",
      "   abund wilm\n",
      "\n",
      "Note that this routine ignores the current cross section setting\n",
      "as it always HAS to use the Verner cross sections as a baseline.\n",
      "\n",
      "Fit statistic  : Chi-Squared              1.602519e+11     using 6 bins.\n",
      "\n",
      "Test statistic : Chi-Squared              1.602519e+11     using 6 bins.\n",
      " Null hypothesis probability of 0.000000e+00 with 3 degrees of freedom\n",
      " Current data and model not fit yet.\n",
      "                                   Parameters\n",
      "Chi-Squared  |beta|/N    Lvl          1:nH          2:kT        3:norm\n",
      "6.5598       0.0962693    -2     0.0477899       4.26674   9.32435e-06\n",
      "5.94939      47316.5      -3     0.0182377       3.10257   6.02178e-06\n",
      "5.92787      10129.1      -4    0.00290227       2.83714   4.91457e-06\n",
      "5.91273      16557.5      -5    0.00105846       2.70187   4.53861e-06\n",
      "5.91009      7373.04      -6   0.000402196       2.65060   4.38020e-06\n",
      "5.90924      5560.09      -7   0.000119604       2.62914   4.31387e-06\n",
      "5.90892      4871.19      -8   5.37656e-05       2.61950   4.28390e-06\n",
      "5.9088       4607.56      -9   2.17225e-05       2.61569   4.27202e-06\n",
      "5.90874      4509.58     -10   5.93093e-06       2.61351   4.26515e-06\n",
      "========================================\n",
      " Variances and Principal Axes\n",
      "                 1        2        3  \n",
      " 2.7000E-12| -0.0000  -0.0000   1.0000  \n",
      " 4.5838E-01|  0.9863   0.1648   0.0000  \n",
      " 9.7790E+00| -0.1648   0.9863   0.0000  \n",
      "----------------------------------------\n",
      "\n",
      "====================================\n",
      "  Covariance Matrix\n",
      "        1           2           3   \n",
      "   7.114e-01  -1.515e+00  -4.284e-06\n",
      "  -1.515e+00   9.526e+00   3.024e-05\n",
      "  -4.284e-06   3.024e-05   9.930e-11\n",
      "------------------------------------\n",
      "\n",
      "========================================================================\n",
      "Model TBabs<1>*bbody<2> Source No.: 1   Active/On\n",
      "Model Model Component  Parameter  Unit     Value\n",
      " par  comp\n",
      "   1    1   TBabs      nH         10^22    5.93093E-06  +/-  0.843441     \n",
      "   2    2   bbody      kT         keV      2.61351      +/-  3.08642      \n",
      "   3    2   bbody      norm                4.26515E-06  +/-  9.96471E-06  \n",
      "________________________________________________________________________\n",
      "\n",
      "\n",
      "Fit statistic  : Chi-Squared                  5.9087     using 6 bins.\n",
      "\n",
      "Test statistic : Chi-Squared                  5.9087     using 6 bins.\n",
      " Null hypothesis probability of 1.1614e-01 with 3 degrees of freedom\n",
      " Model Flux 2.724e-05 photons (2.4896e-13 ergs/cm^2/s) range (0.20000 - 12.000 keV)\n"
     ]
    }
   ],
   "source": [
    "AllModels.clear()\n",
    "mo = Model(\"tbabs*bbody\")\n",
    "Fit.perform()\n",
    "Plot.device = \"/xs\"\n",
    "Plot(\"data resid\")\n",
    "nH_bbody = mo.TBabs.nH.values[0]\n",
    "AllModels.calcFlux(\".2 12.0\")"
   ]
  },
  {
   "cell_type": "code",
   "execution_count": 10,
   "id": "b812c488-a25f-452a-83e1-1ffb5945cd27",
   "metadata": {},
   "outputs": [
    {
     "data": {
      "text/plain": [
       "(-0.5, 857.5, 656.5, -0.5)"
      ]
     },
     "execution_count": 10,
     "metadata": {},
     "output_type": "execute_result"
    },
    {
     "data": {
      "image/png": "[encoded data removed]",
      "text/plain": [
       "<Figure size 1200x700 with 1 Axes>"
      ]
     },
     "metadata": {},
     "output_type": "display_data"
    }
   ],
   "source": [
    "img = plt.imread(glob.glob('ObsID*_SRCNUM*_E*_Spectrum_bbody.png')[0])\n",
    "plt.imshow(img)\n",
    "plt.axis('off')"
   ]
  },
  {
   "cell_type": "markdown",
   "id": "ff9fb499-d3ba-410c-b6c2-12f7d4ac82a0",
   "metadata": {},
   "source": [
    "### Bremsstrahlung model"
   ]
  },
  {
   "cell_type": "code",
   "execution_count": 6,
   "id": "f00f133a-c83a-4c92-9f10-4b5f63f74b3e",
   "metadata": {
    "scrolled": true
   },
   "outputs": [
    {
     "name": "stdout",
     "output_type": "stream",
     "text": [
      "\n",
      "========================================================================\n",
      "Model TBabs<1>*bremss<2> Source No.: 1   Active/On\n",
      "Model Model Component  Parameter  Unit     Value\n",
      " par  comp\n",
      "   1    1   TBabs      nH         10^22    1.00000      +/-  0.0          \n",
      "   2    2   bremss     kT         keV      7.00000      +/-  0.0          \n",
      "   3    2   bremss     norm                1.00000      +/-  0.0          \n",
      "________________________________________________________________________\n",
      "\n",
      "\n",
      "Fit statistic  : Chi-Squared              8.618407e+09     using 6 bins.\n",
      "\n",
      "Test statistic : Chi-Squared              8.618407e+09     using 6 bins.\n",
      " Null hypothesis probability of 0.000000e+00 with 3 degrees of freedom\n",
      " Current data and model not fit yet.\n",
      "                                   Parameters\n",
      "Chi-Squared  |beta|/N    Lvl          1:nH          2:kT        3:norm\n",
      "6.712        0.0652606     0       1.03419       11.1773   2.50759e-05\n",
      "6.51688      3024.84       0      0.968981       27.0128   2.49945e-05\n",
      "6.45236      7922.15      -1      0.609176       195.948   3.44304e-05\n",
      "6.43739      4932.44       0      0.617851       194.507   3.47257e-05\n",
      "6.42223      4654.1        0      0.626438       191.827   3.50065e-05\n",
      "6.4052       4298.48       0      0.635047       185.658   3.52677e-05\n",
      "6.38427      3689.25       0      0.644011       166.699   3.54930e-05\n",
      "6.37564      1946.16       0      0.654649       149.371   3.56185e-05\n",
      "6.3335       260.739       0      0.731624       124.770   3.63929e-05\n",
      "6.27651      1587.36      -1      0.877667       198.095   4.02762e-05\n",
      "6.2379       3678.36      -1      0.918772       198.823   4.49138e-05\n",
      "6.23651      750.92        0      0.929843       198.981   4.49533e-05\n",
      "6.23595      563.829       0      0.936983       199.094   4.50222e-05\n",
      "6.23572      492.634       0      0.941797       199.183   4.50969e-05\n",
      "6.23563      475.581       0      0.945196       199.257   4.51671e-05\n",
      "========================================\n",
      " Variances and Principal Axes\n",
      "                 1        2        3  \n",
      " 3.0461E-10| -0.0000  -0.0000   1.0000  \n",
      " 1.0658E+00|  1.0000   0.0002   0.0000  \n",
      " 4.9341E+07| -0.0002   1.0000   0.0000  \n",
      "----------------------------------------\n",
      "\n",
      "====================================\n",
      "  Covariance Matrix\n",
      "        1           2           3   \n",
      "   3.421e+00  -1.078e+04  -6.640e-04\n",
      "  -1.078e+04   4.934e+07   3.123e+00\n",
      "  -6.640e-04   3.123e+00   1.983e-07\n",
      "------------------------------------\n",
      "\n",
      "========================================================================\n",
      "Model TBabs<1>*bremss<2> Source No.: 1   Active/On\n",
      "Model Model Component  Parameter  Unit     Value\n",
      " par  comp\n",
      "   1    1   TBabs      nH         10^22    0.945196     +/-  1.84962      \n",
      "   2    2   bremss     kT         keV      199.257      +/-  7024.32      \n",
      "   3    2   bremss     norm                4.51671E-05  +/-  4.45266E-04  \n",
      "________________________________________________________________________\n",
      "\n",
      "\n",
      "Fit statistic  : Chi-Squared                  6.2356     using 6 bins.\n",
      "\n",
      "Test statistic : Chi-Squared                  6.2356     using 6 bins.\n",
      " Null hypothesis probability of 1.0069e-01 with 3 degrees of freedom\n",
      " Model Flux 2.0812e-05 photons (1.5907e-13 ergs/cm^2/s) range (0.20000 - 12.000 keV)\n"
     ]
    }
   ],
   "source": [
    "AllModels.clear()\n",
    "mo = Model(\"tbabs*bremss\")\n",
    "Fit.perform()\n",
    "Plot.device = \"/xs\"\n",
    "Plot(\"data resid\")\n",
    "nH_bremss = mo.TBabs.nH.values[0]\n",
    "AllModels.calcFlux(\".2 12.0\")"
   ]
  },
  {
   "cell_type": "code",
   "execution_count": 12,
   "id": "5a01f0db-125c-4088-93f6-bd89994faa69",
   "metadata": {},
   "outputs": [
    {
     "data": {
      "text/plain": [
       "(-0.5, 856.5, 659.5, -0.5)"
      ]
     },
     "execution_count": 12,
     "metadata": {},
     "output_type": "execute_result"
    },
    {
     "data": {
      "image/png": "[encoded data removed]",
      "text/plain": [
       "<Figure size 1200x700 with 1 Axes>"
      ]
     },
     "metadata": {},
     "output_type": "display_data"
    }
   ],
   "source": [
    "img = plt.imread(glob.glob('ObsID*_SRCNUM*_E*_Spectrum_bremss.png')[0])\n",
    "plt.imshow(img)\n",
    "plt.axis('off')"
   ]
  },
  {
   "cell_type": "markdown",
   "id": "3edcca3a-8165-4c61-80ed-0b4b4087c8c3",
   "metadata": {},
   "source": [
    "### Apec model"
   ]
  },
  {
   "cell_type": "code",
   "execution_count": 7,
   "id": "629f01ff-336d-445c-8328-31a864f052a1",
   "metadata": {
    "scrolled": true
   },
   "outputs": [
    {
     "name": "stdout",
     "output_type": "stream",
     "text": [
      "\n",
      "========================================================================\n",
      "Model TBabs<1>*apec<2> Source No.: 1   Active/On\n",
      "Model Model Component  Parameter  Unit     Value\n",
      " par  comp\n",
      "   1    1   TBabs      nH         10^22    1.00000      +/-  0.0          \n",
      "   2    2   apec       kT         keV      1.00000      +/-  0.0          \n",
      "   3    2   apec       Abundanc            1.00000      frozen\n",
      "   4    2   apec       Redshift            0.0          frozen\n",
      "   5    2   apec       norm                1.00000      +/-  0.0          \n",
      "________________________________________________________________________\n",
      "\n",
      "Reading APEC data from 3.0.9\n",
      "\n",
      "\n",
      "Fit statistic  : Chi-Squared              2.166560e+09     using 6 bins.\n",
      "\n",
      "Test statistic : Chi-Squared              2.166560e+09     using 6 bins.\n",
      " Null hypothesis probability of 0.000000e+00 with 3 degrees of freedom\n",
      " Current data and model not fit yet.\n",
      "                                   Parameters\n",
      "Chi-Squared  |beta|/N    Lvl          1:nH          2:kT        5:norm\n",
      "9.37658      0.67873      -1       1.04833       2.17629   3.45872e-05\n",
      "7.67863      10428.9      -1      0.434371       9.26626   3.97931e-05\n",
      "7.32465      4122.26      -1      0.331567       54.7788   5.73735e-05\n",
      "0.653502       49.4662   7.32588e-05\n",
      "6.37766      1022.88      -1      0.832901       58.4909   9.33737e-05\n",
      "6.32968      1600.12       0      0.878409       63.2968   9.32031e-05\n",
      "6.32197      513.913       0      0.904921       63.7450   9.39858e-05\n",
      "6.31859      391.128       0      0.923396       63.9652   9.48093e-05\n",
      "6.31731      389.554       0      0.936954       63.9934   9.55619e-05\n",
      "6.31684      438.618       0      0.947414       63.9970   9.61998e-05\n",
      "6.31675      492.28        0      0.955662       63.9996   9.67287e-05\n",
      "========================================\n",
      " Variances and Principal Axes\n",
      "                 1        2        5  \n",
      " 1.3708E-09| -0.0000  -0.0000   1.0000  \n",
      " 1.0193E+00|  1.0000   0.0009   0.0000  \n",
      " 3.0288E+06| -0.0009   1.0000   0.0000  \n",
      "----------------------------------------\n",
      "\n",
      "====================================\n",
      "  Covariance Matrix\n",
      "        1           2           3   \n",
      "   3.286e+00  -2.620e+03  -5.647e-04\n",
      "  -2.620e+03   3.029e+06   6.979e-01\n",
      "  -5.647e-04   6.979e-01   1.637e-07\n",
      "------------------------------------\n",
      "\n",
      "========================================================================\n",
      "Model TBabs<1>*apec<2> Source No.: 1   Active/On\n",
      "Model Model Component  Parameter  Unit     Value\n",
      " par  comp\n",
      "   1    1   TBabs      nH         10^22    0.955662     +/-  1.81269      \n",
      "   2    2   apec       kT         keV      63.9996      +/-  1740.34      \n",
      "   3    2   apec       Abundanc            1.00000      frozen\n",
      "   4    2   apec       Redshift            0.0          frozen\n",
      "   5    2   apec       norm                9.67287E-05  +/-  4.04547E-04  \n",
      "________________________________________________________________________\n",
      "\n",
      "\n",
      "Fit statistic  : Chi-Squared                  6.3168     using 6 bins.\n",
      "\n",
      "Test statistic : Chi-Squared                  6.3168     using 6 bins.\n",
      " Null hypothesis probability of 9.7176e-02 with 3 degrees of freedom\n",
      " Model Flux 2.0356e-05 photons (1.5108e-13 ergs/cm^2/s) range (0.20000 - 12.000 keV)\n"
     ]
    }
   ],
   "source": [
    "AllModels.clear()\n",
    "mo = Model(\"tbabs*apec\")\n",
    "Fit.perform()\n",
    "Plot.device = \"/xs\"\n",
    "Plot(\"data resid\")\n",
    "nH_apec = mo.TBabs.nH.values[0]\n",
    "AllModels.calcFlux(\".2 12.0\")"
   ]
  },
  {
   "cell_type": "code",
   "execution_count": 14,
   "id": "390919ae-47f5-49fe-9876-3bcf74b2d2fb",
   "metadata": {},
   "outputs": [
    {
     "data": {
      "text/plain": [
       "(-0.5, 860.5, 659.5, -0.5)"
      ]
     },
     "execution_count": 14,
     "metadata": {},
     "output_type": "execute_result"
    },
    {
     "data": {
      "image/png": "[encoded data removed]",
      "text/plain": [
       "<Figure size 1200x700 with 1 Axes>"
      ]
     },
     "metadata": {},
     "output_type": "display_data"
    }
   ],
   "source": [
    "img = plt.imread(glob.glob('ObsID*_SRCNUM*_E*_Spectrum_apec.png')[0])\n",
    "plt.imshow(img)\n",
    "plt.axis('off')"
   ]
  },
  {
   "cell_type": "markdown",
   "id": "9f19aeb6-3c27-44a9-8ad3-a2eb2777e421",
   "metadata": {},
   "source": [
    "### Powerlaw model (Third best fit)"
   ]
  },
  {
   "cell_type": "code",
   "execution_count": 8,
   "id": "85b08776-73cd-4f36-a843-c34effff4655",
   "metadata": {
    "scrolled": true
   },
   "outputs": [
    {
     "name": "stdout",
     "output_type": "stream",
     "text": [
      "\n",
      "========================================================================\n",
      "Model TBabs<1>*powerlaw<2> Source No.: 1   Active/On\n",
      "Model Model Component  Parameter  Unit     Value\n",
      " par  comp\n",
      "   1    1   TBabs      nH         10^22    1.00000      +/-  0.0          \n",
      "   2    2   powerlaw   PhoIndex            1.00000      +/-  0.0          \n",
      "   3    2   powerlaw   norm                1.00000      +/-  0.0          \n",
      "________________________________________________________________________\n",
      "\n",
      "\n",
      "Fit statistic  : Chi-Squared              4.560990e+10     using 6 bins.\n",
      "\n",
      "Test statistic : Chi-Squared              4.560990e+10     using 6 bins.\n",
      " Null hypothesis probability of 0.000000e+00 with 3 degrees of freedom\n",
      " Current data and model not fit yet.\n",
      "                                   Parameters\n",
      "Chi-Squared  |beta|/N    Lvl          1:nH    2:PhoIndex        3:norm\n",
      "5.87481      0.103721     -2      0.439086      0.140686   4.54571e-06\n",
      "5.7465       89481.2      -2     0.0947800     0.0472241   3.07677e-06\n",
      "5.66956      22595.5      -3      0.332280      0.205678   4.05488e-06\n",
      "5.66433      16968.6      -4      0.216803      0.105419   3.55659e-06\n",
      "5.66103      3895.61      -5      0.310700      0.168104   3.95354e-06\n",
      "5.66         2652.25      -2      0.249011      0.131448   3.72792e-06\n",
      "5.6594       379.258      -3      0.290778      0.152607   3.87352e-06\n",
      "5.65937      302.036      -4      0.252891      0.124906   3.70279e-06\n",
      "========================================\n",
      " Variances and Principal Axes\n",
      "                 1        2        3  \n",
      " 2.1082E-12| -0.0000  -0.0000   1.0000  \n",
      " 3.1818E-01|  0.7370  -0.6759  -0.0000  \n",
      " 2.9299E+00|  0.6759   0.7370   0.0000  \n",
      "----------------------------------------\n",
      "\n",
      "====================================\n",
      "ovariance Matrix\n",
      "        1           2           3   \n",
      "   1.511e+00   1.301e+00   7.800e-06\n",
      "   1.301e+00   1.737e+00   9.588e-06\n",
      "   7.800e-06   9.588e-06   5.575e-11\n",
      "------------------------------------\n",
      "\n",
      "========================================================================\n",
      "Model TBabs<1>*powerlaw<2> Source No.: 1   Active/On\n",
      "Model Model Component  Parameter  Unit     Value\n",
      " par  comp\n",
      "   1    1   TBabs      nH         10^22    0.252891     +/-  1.22937      \n",
      "   2    2   powerlaw   PhoIndex            0.124906     +/-  1.31785      \n",
      "   3    2   powerlaw   norm                3.70279E-06  +/-  7.46666E-06  \n",
      "________________________________________________________________________\n",
      "\n",
      "\n",
      "Fit statistic  : Chi-Squared                  5.6594     using 6 bins.\n",
      "\n",
      "Test statistic : Chi-Squared                  5.6594     using 6 bins.\n",
      " Null hypothesis probability of 1.2941e-01 with 3 degrees of freedom\n",
      " Model Flux 3.238e-05 photons (3.2721e-13 ergs/cm^2/s) range (0.20000 - 12.000 keV)\n"
     ]
    }
   ],
   "source": [
    "AllModels.clear()\n",
    "mo = Model(\"tbabs*powerlaw\")\n",
    "Fit.perform()\n",
    "Plot.device = \"/xs\"\n",
    "Plot(\"data resid\")\n",
    "nH_powerlaw = mo.TBabs.nH.values[0]\n",
    "AllModels.calcFlux(\".2 12.0\")"
   ]
  },
  {
   "cell_type": "code",
   "execution_count": 16,
   "id": "08ed2434-c41d-4349-9de0-d2e51a747b34",
   "metadata": {},
   "outputs": [
    {
     "data": {
      "text/plain": [
       "(-0.5, 856.5, 657.5, -0.5)"
      ]
     },
     "execution_count": 16,
     "metadata": {},
     "output_type": "execute_result"
    },
    {
     "data": {
      "image/png": "[encoded data removed]",
      "text/plain": [
       "<Figure size 1200x700 with 1 Axes>"
      ]
     },
     "metadata": {},
     "output_type": "display_data"
    }
   ],
   "source": [
    "img = plt.imread(glob.glob('ObsID*_SRCNUM*_E*_Spectrum_powerlaw.png')[0])\n",
    "plt.imshow(img)\n",
    "plt.axis('off')"
   ]
  },
  {
   "cell_type": "markdown",
   "id": "f4a11ab1-9f11-44d3-9d4a-017f779d8071",
   "metadata": {},
   "source": [
    "### Black body + Powerlaw model (Second best fit)"
   ]
  },
  {
   "cell_type": "code",
   "execution_count": 22,
   "id": "86ebc20f-48c5-4114-8ed4-977dec12aa1c",
   "metadata": {
    "scrolled": true
   },
   "outputs": [
    {
     "name": "stdout",
     "output_type": "stream",
     "text": [
      "\n",
      "========================================================================\n",
      "Model TBabs<1>(bbody<2> + powerlaw<3>) Source No.: 1   Active/On\n",
      "Model Model Component  Parameter  Unit     Value\n",
      " par  comp\n",
      "   1    1   TBabs      nH         10^22    1.00000      +/-  0.0          \n",
      "   2    2   bbody      kT         keV      3.00000      +/-  0.0          \n",
      "   3    2   bbody      norm                1.00000      +/-  0.0          \n",
      "   4    3   powerlaw   PhoIndex            1.00000      +/-  0.0          \n",
      "   5    3   powerlaw   norm                1.00000      +/-  0.0          \n",
      "________________________________________________________________________\n",
      "\n",
      "\n",
      "Fit statistic  : Chi-Squared              3.595000e+11     using 9 bins.\n",
      "\n",
      "Test statistic : Chi-Squared              3.595000e+11     using 9 bins.\n",
      " Null hypothesis probability of 0.000000e+00 with 4 degrees of freedom\n",
      " Current data and model not fit yet.\n",
      "                                   Parameters\n",
      "Chi-Squared  |beta|/N    Lvl          1:nH          2:kT        3:norm    4:PhoIndex        5:norm\n",
      "6.76539      6773.98      -1      0.382165       3.42841   5.27626e-06       1.04424   2.99519e-06\n",
      "6.60016      26486.9      -1      0.386432       3.74230   6.06884e-06      0.983920   4.37986e-06\n",
      "6.56007      1487.79      -1      0.436037       4.06941   7.06403e-06       1.04928   5.03107e-06\n",
      "6.51743      2999.62      -1      0.459808       4.32023   8.56097e-06       1.19553   5.54651e-06\n",
      "6.46438      3001.23      -1      0.506674       4.50796   1.03252e-05       1.43006   6.37393e-06\n",
      "6.39855      2711.4       -1      0.579796       4.66425   1.21630e-05       1.76645   7.90906e-06\n",
      "6.32034      2814.37      -1      0.690439       4.81529   1.39423e-05       2.18493   1.07537e-05\n",
      "6.23158      3067.93      -1      0.830642       4.96835   1.56646e-05       2.63884   1.56564e-05\n",
      "6.13515      2895.2       -1      0.984477       5.12063   1.73833e-05       3.08999   2.34644e-05\n",
      "6.03694      2388.77      -1       1.13931       5.26869   1.91198e-05       3.52172   3.50651e-05\n",
      "   1835.79      -1       1.28955       5.41189   2.08695e-05       3.92604   5.13473e-05\n",
      "5.85716      1383.59      -1       1.43250       5.54943   2.26230e-05       4.30189   7.31671e-05\n",
      "5.78039      1048.21      -1       1.56752       5.68117   2.43720e-05       4.65012   0.000101357\n",
      "5.71254      808.169      -1       1.69459       5.80725   2.61116e-05       4.97301   0.000136733\n",
      "5.65276      636.871      -1       1.81409       5.92791   2.78380e-05       5.27288   0.000180093\n",
      "5.60006      513.523      -1       1.92650       6.04329   2.95483e-05       5.55208   0.000232218\n",
      "5.55348      421.631      -1       2.03237       6.15360   3.12390e-05       5.81274   0.000293865\n",
      "5.51217      352.056      -1       2.13222       6.25946   3.29125e-05       6.05674   0.000365765\n",
      "5.47539      298.671      -1       2.22654       6.36068   3.45643e-05       6.28580   0.000448618\n",
      "5.44251      254.795      -1       2.31579       6.45808   3.61960e-05       6.50135   0.000543096\n",
      "5.413        221.703      -1       2.40038       6.55164   3.78079e-05       6.70471   0.000649834\n",
      "5.38643      193.804      -1       2.48069       6.64161   3.93978e-05       6.89701   0.000769436\n",
      "5.3624       171.277      -1       2.55707       6.72834   4.09692e-05       7.07923   0.000902472\n",
      "5.34061      151.882      -1       2.62982       6.81197   4.25195e-05       7.25226    0.00104948\n",
      "5.32078      135.992      -1       2.69921       6.89259   4.40492e-05       7.41687    0.00121095\n",
      "5.30268      121.972      -1       2.76549       6.97063   4.55598e-05       7.57374    0.00138737\n",
      "5.28612      110.721      -1       2.82889       7.04604   4.70510e-05       7.72348    0.00157916\n",
      "5.27092      100.477      -1       2.88961       7.11903   4.85228e-05       7.86663    0.00178673\n",
      "5.25693      91.7104      -1       2.94783       7.18973   4.99758e-05       8.00368    0.00201045\n",
      "5.24403      83.9116      -1       3.00372       7.25844   5.14130e-05       8.13506    0.00225064\n",
      "5.23211      77.2404      -1       3.05743       7.32496   5.28302e-05       8.26116    0.00250762\n",
      "5.22107      70.9808      -1       3.10910       7.38969   5.42308e-05       8.38234    0.00278167\n",
      "5.21082      65.9585      -1       3.15885       7.45268   5.56161e-05       8.49891    0.00307302\n",
      "5.20885      61.341       -2       3.57297       7.92072   6.61108e-05       9.28166    0.00559402\n",
      "5.18355      274.286      -2       3.80868       8.30214   7.61568e-05       9.47452    0.00987532\n",
      "5.14867      51.2924       0       3.82903       8.30601   7.63084e-05       9.49104    0.00962952\n",
      "5.13997      14.7246       0       3.83543       8.30981   7.64594e-05       9.49723    0.00950468\n",
      "5.13712      6.96602       0       3.83579       8.31411   7.65959e-05       9.49988    0.00943138\n",
      "5.13611      5.71999       0       3.83364       8.31882   7.67224e-05       9.49995    0.00938045\n",
      "5.1355       6.16712       0       3.83065       8.32378   7.68434e-05       9.49999    0.00933829\n",
      "5.13507      6.1078        0       3.82732       8.32881   7.69618e-05       9.50000    0.00930089\n",
      "5.13472      5.97042       0       3.82389       8.33387   7.70789e-05       9.50000    0.00926633\n",
      "5.13441      5.77077       0       3.82048       8.33895   7.71956e-05       9.50000    0.00923370\n",
      "5.13413      5.50543       0       3.81714       8.34407   7.73127e-05       9.50000    0.00920257\n",
      "5.13387      5.15588       0       3.81389       8.34918   7.74299e-05       9.50000    0.00917269\n",
      "5.13362      4.87781       0       3.81074       8.35427   7.75472e-05       9.50000    0.00914393\n",
      "5.13338      4.63319       0       3.80769       8.35934   7.76644e-05       9.50000    0.00911623\n",
      "5.13316      4.42557       0       3.80473       8.36442   7.77819e-05       9.50000    0.00908952\n",
      "5.13295      4.1658        0       3.80188       8.36947   7.78994e-05       9.50000    0.00906376\n",
      "5.13274      3.96264       0       3.79912       8.37453   7.80171e-05       9.50000    0.00903891\n",
      "5.13254      3.75384       0       3.79645       8.37958   7.81349e-05       9.50000    0.00901495\n",
      "5.13235      3.53978       0       3.79387       8.38460   7.82527e-05       9.50000    0.00899182\n",
      "5.13217      3.37287       0       3.79138       8.38964   7.83708e-05       9.50000    0.00896952\n",
      "5.132        3.16048       0       3.78897       8.39466   7.84890e-05       9.50000    0.00894800\n",
      "5.13183      3.01138       0       3.78665       8.39966   7.86072e-05       9.50000    0.00892724\n",
      "5.13167      2.85378       0       3.78440       8.40466   7.87255e-05       9.50000    0.00890722\n",
      "5.13152      2.70984       0       3.78223       8.40968   7.88442e-05       9.50000    0.00888790\n",
      "5.13137      2.53551       0       3.78013       8.41467   7.89630e-05       9.50000    0.00886926\n",
      "5.13122      2.42416       0       3.77810       8.41967   7.90820e-05       9.50000    0.00885128\n",
      "5.13108      2.28093       0       3.77615       8.42468   7.92014e-05       9.50000    0.00883394\n",
      "5.13095      2.15002       0       3.77426       8.42964   7.93207e-05       9.50000    0.00881721\n",
      "5.13082      2.08458       0       3.77243       8.43459   7.94396e-05       9.50000    0.00880107\n",
      "5.1307       2.02645       0       3.77067       8.43956   7.95589e-05       9.50000    0.00878550\n",
      "5.13058      1.92845       0       3.76896       8.44450   7.96783e-05       9.50000    0.00877048\n",
      "5.13046      1.87112       0       3.76732       8.44946   7.97979e-05       9.50000    0.00875599\n",
      "5.13035      1.80508       0       3.76573       8.45440   7.99176e-05       9.50000    0.00874201\n",
      "5.13024      1.76409       0       3.76419       8.45937   8.00377e-05       9.50000    0.00872853\n",
      "5.13013      1.72115       0       3.76271       8.46428   8.01576e-05       9.50000    0.00871552\n",
      "5.13003      1.70196       0       3.76128       8.46921   8.02776e-05       9.50000    0.00870297\n",
      "5.12993      1.68418       0       3.75990       8.47414   8.03978e-05       9.50000    0.00869087\n",
      "5.12983      1.67453       0       3.75857       8.47906   8.05182e-05       9.50000    0.00867919\n",
      "============================================================\n",
      " Variances and Principal Axes\n",
      "                 1        2        3        4        5  \n",
      " 1.2323E-09|  0.0000   0.0000  -1.0000   0.0000  -0.0004  \n",
      " 2.2929E-05| -0.0078  -0.0000  -0.0004  -0.0039   1.0000  \n",
      " 7.5400E+00|  0.9226  -0.0036   0.0000  -0.3856   0.0057  \n",
      " 2.0381E+02|  0.3744   0.2478   0.0000   0.8935   0.0064  \n",
      " 1.5289E+03| -0.0923   0.9688   0.0000  -0.2300  -0.0016  \n",
      "------------------------------------------------------------\n",
      "\n",
      "============================================================\n",
      "  Covariance Matrix\n",
      "        1           2           3           4           5   \n",
      "   4.801e+01  -1.179e+02  -2.747e-03   9.796e+01   7.491e-01\n",
      "  -1.179e+02   1.448e+03   3.568e-02  -2.956e+02  -2.034e+00\n",
      "  -2.747e-03   3.568e-02   8.813e-07  -6.943e-03  -4.760e-05\n",
      "   9.796e+01  -2.956e+02  -6.943e-03   2.447e+02   1.701e+00\n",
      "   7.491e-01  -2.034e+00  -4.760e-05   1.701e+00   1.237e-02\n",
      "------------------------------------------------------------\n",
      "\n",
      "========================================================================\n",
      "Model TBabs<1>(bbody<2> + powerlaw<3>) Source No.: 1   Active/On\n",
      "Model Model Component  Parameter  Unit     Value\n",
      " par  comp\n",
      "   1    1   TBabs      nH         10^22    3.75857      +/-  6.92897      \n",
      "   2    2   bbody      kT         keV      8.47906      +/-  38.0465      \n",
      "   3    2   bbody      norm                8.05182E-05  +/-  9.38757E-04  \n",
      "   4    3   powerlaw   PhoIndex            9.50000      +/-  15.6439      \n",
      "   5    3   powerlaw   norm                8.67919E-03  +/-  0.111242     \n",
      "________________________________________________________________________\n",
      "\n",
      "\n",
      "Fit statistic  : Chi-Squared                  5.1298     using 9 bins.\n",
      "\n",
      "Test statistic : Chi-Squared                  5.1298     using 9 bins.\n",
      " Null hypothesis probability of 2.7423e-01 with 4 degrees of freedom\n",
      " Model Flux 4.4913e-05 photons (5.2381e-13 ergs/cm^2/s) range (0.20000 - 12.000 keV)\n"
     ]
    }
   ],
   "source": [
    "AllModels.clear()\n",
    "mo = Model(\"tbabs*(bbody+powerlaw)\")\n",
    "Fit.perform()\n",
    "Plot.device = \"/xs\"\n",
    "Plot(\"data resid\")\n",
    "nH_bbodypowerlaw = mo.TBabs.nH.values[0]\n",
    "AllModels.calcFlux(\".2 12.0\")"
   ]
  },
  {
   "cell_type": "code",
   "execution_count": 23,
   "id": "7c7f1a3a-a70b-480b-be10-a0acf8bcca1a",
   "metadata": {},
   "outputs": [
    {
     "data": {
      "text/plain": [
       "(-0.5, 851.5, 661.5, -0.5)"
      ]
     },
     "execution_count": 23,
     "metadata": {},
     "output_type": "execute_result"
    },
    {
     "data": {
      "image/png": "[encoded data removed]",
      "text/plain": [
       "<Figure size 1200x700 with 1 Axes>"
      ]
     },
     "metadata": {},
     "output_type": "display_data"
    }
   ],
   "source": [
    "img = plt.imread(glob.glob('ObsID*_SRCNUM*_E*_Spectrum_bbodypowerlaw.png')[0])\n",
    "plt.imshow(img)\n",
    "plt.axis('off')"
   ]
  },
  {
   "cell_type": "markdown",
   "id": "1be7fe77-b619-4085-b773-617685c5fbb0",
   "metadata": {},
   "source": [
    "### Bremss + Powerlaw model (Best fit)"
   ]
  },
  {
   "cell_type": "code",
   "execution_count": 24,
   "id": "c4b243c8-7842-4eb6-b68d-b5ff0449aea1",
   "metadata": {
    "scrolled": true
   },
   "outputs": [
    {
     "name": "stdout",
     "output_type": "stream",
     "text": [
      "\n",
      "========================================================================\n",
      "Model TBabs<1>(bremss<2> + powerlaw<3>) Source No.: 1   Active/On\n",
      "Model Model Component  Parameter  Unit     Value\n",
      " par  comp\n",
      "   1    1   TBabs      nH         10^22    1.00000      +/-  0.0          \n",
      "   2    2   bremss     kT         keV      7.00000      +/-  0.0          \n",
      "   3    2   bremss     norm                1.00000      +/-  0.0          \n",
      "   4    3   powerlaw   PhoIndex            1.00000      +/-  0.0          \n",
      "   5    3   powerlaw   norm                1.00000      +/-  0.0          \n",
      "________________________________________________________________________\n",
      "\n",
      "\n",
      "Fit statistic  : Chi-Squared              9.226234e+10     using 9 bins.\n",
      "\n",
      "Test statistic : Chi-Squared              9.226234e+10     using 9 bins.\n",
      " Null hypothesis probability of 0.000000e+00 with 4 degrees of freedom\n",
      " Current data and model not fit yet.\n",
      "                                   Parameters\n",
      "Chi-Squared  |beta|/N    Lvl          1:nH          2:kT        3:norm    4:PhoIndex        5:norm\n",
      "7.22757      2877.92       0      0.979382       8.53261   7.03969e-06      0.922351   8.45977e-06\n",
      "6.99793      2351.89      -1      0.462895       26.2471   2.22781e-06      0.630610   7.18193e-06\n",
      "6.56537      24786.4      -2      0.356309       6.00714   1.15600e-07      0.162504   3.94050e-06\n",
      "6.54676      11048.2       0      0.335295       1.38768   3.79727e-07      0.144464   3.97100e-06\n",
      "6.54452      3317.62      -1      0.488370       7.49644   3.39495e-06     0.0820666   3.51243e-06\n",
      "6.4993       21339.6       0      0.484579       3.01407   3.20309e-06     0.0676756   3.48257e-06\n",
      "6.49066      9629.57      -1      0.520056       1.47991   7.48590e-06    -0.0191430   3.38586e-06\n",
      "6.42627      52890.1      -1      0.697523      0.752388   1.48561e-05    -0.0669050   2.85019e-06\n",
      "6.22772      21711.8      -1       1.15466       1.13680   4.16840e-05     -0.177914   2.40435e-06\n",
      "6.22706      27628.3      -1      0.836193      0.554400   5.06769e-05     -0.287947   2.11576e-06\n",
      "5.92925      14614.1      -1       1.41195      0.793645   0.000105198     -0.377131   1.82495e-06\n",
      "5.78341      28107.5      -1       1.10902      0.561619   0.000124120     -0.463800   1.60432e-06\n",
      "5.61618      4563.63      -1       1.39744      0.585387   0.000190026     -0.544746   1.40248e-06\n",
      "5.53923      149.585      -1       1.39954      0.528172   0.000248199     -0.619574   1.25306e-06\n",
      "5.46887      4103.22      -1       1.50422      0.508081   0.000324442     -0.684577   1.13560e-06\n",
      "5.41688      1239         -1       1.56256      0.484182   0.000405653     -0.739899   1.04407e-06\n",
      "5.37455      138.171      -1       1.62386      0.465347   0.000496921     -0.786831   9.71614e-07\n",
      "5.34011      898.843      -1       1.67886      0.448975   0.000597166     -0.826618   9.13755e-07\n",
      "5.31195      1488.38      -1       1.73024      0.435607   0.000705016     -0.860471   8.66871e-07\n",
      "5.28846      2012.38      -1       1.77584      0.423317   0.000821504     -0.889167   8.28954e-07\n",
      "5.26848      2171.88      -1       1.81894      0.412413   0.000947295     -0.913464   7.98096e-07\n",
      "5.25131      2188.91      -1       1.85943      0.402642    0.00108221     -0.934001   7.72913e-07\n",
      "5.23639      2105.26      -1       1.89752      0.393794    0.00122637     -0.951305   7.52359e-07\n",
      "5.22328      1946.22      -1       1.93352      0.385742    0.00137984     -0.965822   7.35608e-07\n",
      "5.21161      1739.28      -1       1.96765      0.378367    0.00154281     -0.977930   7.22019e-07\n",
      "5.20107      1503.21      -1       1.99992      0.371493    0.00171623     -0.987932   7.11105e-07\n",
      "5.19152      1233.57      -1       2.03107      0.365195    0.00189974     -0.996118   7.02424e-07\n",
      "5.18268      996.922      -1       2.06033      0.359148    0.00209587      -1.00268   6.95707e-07\n",
      "8   6.90581e-076.363      -1       2.08940      0.353690    0.00230199      -1.0078\n",
      "5.16708      506.212      -1       2.11695      0.348522    0.00251917      -1.01187   6.86858e-07\n",
      "5.16006      287.326      -1       2.14340      0.343636    0.00274841      -1.01480   6.84350e-07\n",
      "5.15347      78.9506      -1       2.16899      0.339017    0.00299023      -1.01681   6.82897e-07\n",
      "5.14723      111.484      -1       2.19379      0.334642    0.00324513      -1.01800   6.82362e-07\n",
      "5.14132      280.385      -1       2.21784      0.330479    0.00351372      -1.01848   6.82632e-07\n",
      "5.13571      434.672      -1       2.24126      0.326519    0.00379637      -1.01834   6.83605e-07\n",
      "5.13032      572.387      -1       2.26406      0.322747    0.00409364      -1.01766   6.85194e-07\n",
      "5.12519      685.173      -1       2.28627      0.319133    0.00440608      -1.01649   6.87329e-07\n",
      "5.12026      793.66       -1       2.30798      0.315681    0.00473415      -1.01492   6.89941e-07\n",
      "5.11552      884.446      -1       2.32917      0.312371    0.00507853      -1.01298   6.92976e-07\n",
      "5.11087      958.839      -1       2.34936      0.309065    0.00544563      -1.01070   6.96431e-07\n",
      "5.10645      1050.45      -1       2.37026      0.306052    0.00582629      -1.00816   7.00183e-07\n",
      "5.10219      1084.49      -1       2.39035      0.303122    0.00622386      -1.00539   7.04223e-07\n",
      "5.09808      1129.85      -1       2.40989      0.300291    0.00664004      -1.00241   7.08520e-07\n",
      "5.09409      1165.05      -1       2.42901      0.297558    0.00707552     -0.999262   7.13044e-07\n",
      "5.09022      1193.58      -1       2.44777      0.294916    0.00753106     -0.995959   7.17770e-07\n",
      "5.08647      1216.31      -1       2.46619      0.292363    0.00800736     -0.992528   7.22673e-07\n",
      "5.08282      1231.04      -1       2.48429      0.289890    0.00850512     -0.988988   7.27734e-07\n",
      "5.07927      1245.1       -1       2.50210      0.287497    0.00902509     -0.985357   7.32933e-07\n",
      "5.07582      1252.48      -1       2.51961      0.285176    0.00956802     -0.981650   7.38253e-07\n",
      "5.07227      1255.78      -1       2.53530      0.282641     0.0101635     -0.977801   7.43795e-07\n",
      "5.06899      1315.23      -1       2.55385      0.280552     0.0107636     -0.973960   7.49355e-07\n",
      "5.06581      1260.4       -1       2.57126      0.278463     0.0113832     -0.970086   7.54986e-07\n",
      "5.06271      1252.9       -1       2.58798      0.276416     0.0120277     -0.966182   7.60682e-07\n",
      "5.05969      1242.1       -1       2.60432      0.274419     0.0126984     -0.962258   7.66435e-07\n",
      "5.05658      1231.83      -1       2.61901      0.272251     0.0134288     -0.958256   7.72331e-07\n",
      "5.05368      1263.75      -1       2.63608      0.270425     0.0141653     -0.954295   7.78211e-07\n",
      "5.05088      1214.22      -1       2.65227      0.268605     0.0149250     -0.950337   7.84118e-07\n",
      "5.04813      1197.47      -1       2.66788      0.266817     0.0157135     -0.946383   7.90051e-07\n",
      "5.04545      1182.72      -1       2.68315      0.265069     0.0165324     -0.942439   7.96003e-07\n",
      "5.04284      1166.42      -1       2.69816      0.263363     0.0173831     -0.938506   8.01973e-07\n",
      "5.04028      1148.72      -1       2.71297      0.261696     0.0182663     -0.934590   8.07956e-07\n",
      "5.03778      1132.72      -1       2.72759      0.260069     0.0191831     -0.930693   8.13949e-07\n",
      "5.03534      1115.96      -1       2.74205      0.258481     0.0201343     -0.926817   8.19947e-07\n",
      "5.03295      1098.15      -1       2.75634      0.256930     0.0211208     -0.922965   8.25947e-07\n",
      "5.03062      1080.21      -1       2.77048      0.255416     0.0221430     -0.919138   8.31947e-07\n",
      "5.02833      1063.32      -1       2.78444      0.253935     0.0232025     -0.915337   8.37944e-07\n",
      "5.0261       1045.75      -1       2.79828      0.252490     0.0242995     -0.911565   8.43936e-07\n",
      "5.02392      1028.61      -1       2.81195      0.251076     0.0254349     -0.907823   8.49919e-07\n",
      "5.02179      1011.24      -1       2.82547      0.249694     0.0266100     -0.904110   8.55892e-07\n",
      "5.0197       993.356      -1       2.83887      0.248342     0.0278250     -0.900429   8.61854e-07\n",
      "5.01766      976.572      -1       2.85210      0.247020     0.0290814     -0.896779   8.67802e-07\n",
      "5.01565      959.603      -1       2.86520      0.245725     0.0303800     -0.893161   8.73736e-07\n",
      "5.0137       942.646      -1       2.87817      0.244459     0.0317210     -0.889577   8.79654e-07\n",
      "5.01177      925.777      -1       2.89099      0.243217     0.0331064     -0.886024   8.85555e-07\n",
      "5.01         910.452      -1       2.90498      0.242132     0.0344727     -0.882545   8.91389e-07\n",
      "5.00815      881.37       -1       2.91653      0.240905     0.0359353     -0.879066   8.97223e-07\n",
      "5.00634      874.416      -1       2.92845      0.239721     0.0374514     -0.875621   9.03043e-07\n",
      "5.00457      860.639      -1       2.94052      0.238568     0.0390177     -0.872209   9.08848e-07\n",
      "5.00283      846.321      -1       2.95260      0.237442     0.0406333     -0.868831   9.14635e-07\n",
      "5.00112      831.78       -1       2.96461      0.236337     0.0422995     -0.865484   9.20403e-07\n",
      "4.99945      818.39       -1       2.97654      0.235256     0.0440167     -0.862169   9.26151e-07\n",
      "4.99781      804.079      -1       2.98836      0.234194     0.0457860     -0.858886   9.31879e-07\n",
      "4.99627      790.906      -1       3.00112      0.233248     0.0475391     -0.855663   9.37551e-07\n",
      "4.99468      768.781      -1       3.01195      0.232200     0.0494015     -0.852447   9.43213e-07\n",
      "4.99313      761.056      -1       3.02304      0.231183     0.0513263     -0.849262   9.48858e-07\n",
      "4.99271      749.569      -2       3.12939      0.221841     0.0695664     -0.824634   9.93757e-07\n",
      "4.98227      4492.19      -2       3.22190      0.214004     0.0963566     -0.800130   1.04067e-06\n",
      "4.9687       4391.34      -2       3.31516      0.207584      0.131169     -0.776634   1.08784e-06\n",
      "4.95714      3682.31      -2       3.39724      0.201852      0.174550     -0.754201   1.13451e-06\n",
      "4.94748      3071.28      -2       3.47614      0.196790      0.227978     -0.733029   1.18039e-06\n",
      "4.93918      2581.54      -2       3.54957      0.192229      0.292925     -0.713033   1.22531e-06\n",
      "4.93199      2188.06      -2       3.61925      0.188105      0.371082     -0.694160   1.26923e-06\n",
      "4.92565      1874.27      -2       3.68522      0.184345      0.464269     -0.676310   1.31216e-06\n",
      "4.91998      1621         -2       3.74801      0.180902      0.574454     -0.659393   1.35415e-06\n",
      "4.9149       1410.44      -2       3.80784      0.177727      0.703803     -0.643317   1.39527e-06\n",
      "4.91029      1237.84      -2       3.86510      0.174797      0.854420     -0.628015   1.43554e-06\n",
      "4.90611      1090.7       -2       3.91983      0.172072       1.02877     -0.613412   1.47502e-06\n",
      "4.90226      970.269      -2       3.97237      0.169529       1.22960     -0.599445   1.51377e-06\n",
      "4.89875      863.652      -2       4.02290      0.167152       1.45926     -0.586070   1.55182e-06\n",
      "4.89551      777.33       -2       4.07149      0.164922       1.72084     -0.573234   1.58921e-06\n",
      "4.89249      702.797      -2       4.11833      0.162827       2.01747     -0.560895   1.62598e-06\n",
      "4.8897       635.756      -2       4.16355      0.160851       2.35216     -0.549018   1.66217e-06\n",
      "4.88709      579.165      -2       4.20723      0.158987       2.72831     -0.537570   1.69779e-06\n",
      "4.88466      528.051      -2       4.24947      0.157223       3.14921     -0.526523   1.73287e-06\n",
      "4.88238      483.245      -2       4.29034      0.155549       3.61886     -0.515848   1.76744e-06\n",
      "4.88025      443.46       -2       4.32997      0.153958       4.14093     -0.505524   1.80151e-06\n",
      "4.87823      409.805      -2       4.36841      0.152446       4.71943     -0.495529   1.83512e-06\n",
      "4.87634      377.343      -2       4.40571      0.151004       5.35826     -0.485844   1.86827e-06\n",
      "4.87456      350.051      -2       4.44196      0.149631       6.06109     -0.476454   1.90096e-06\n",
      "4.87287      324.306      -2       4.47712      0.148315       6.83344     -0.467340   1.93323e-06\n",
      "4.87127      302.136      -2       4.51136      0.147056       7.68023     -0.458485   1.96510e-06\n",
      "4.86976      281.474      -2       4.54476      0.145853       8.60401     -0.449882   1.99655e-06\n",
      "4.86833      263.302      -2       4.57716      0.144695       9.61260     -0.441509   2.02763e-06\n",
      "4.86696      246.669      -2       4.60884      0.143585       10.7097     -0.433360   2.05834e-06\n",
      "4.86567      230.886      -2       4.63971      0.142517       11.9006     -0.425422   2.08870e-06\n",
      "4.86443      216.892      -2       4.66983      0.141491       13.1902     -0.417686   2.11870e-06\n",
      "4.86325      203.762      -2       4.69922      0.140501       14.5845     -0.410143   2.14836e-06\n",
      "4.86213      192.159      -2       4.72793      0.139547       16.0894     -0.402783   2.17768e-06\n",
      "4.86106      181.716      -2       4.75599      0.138628       17.7101     -0.395601   2.20669e-06\n",
      "4.86003      171.246      -2       4.78341      0.137741       19.4513     -0.388588   2.23537e-06\n",
      "4.85905      162.187      -2       4.81020      0.136882       21.3210     -0.381738   2.26374e-06\n",
      "4.85811      153.717      -2       4.83642      0.136054       23.3246     -0.375043   2.29181e-06\n",
      "4.85781      145.045      -2       4.86207      0.135251       25.4680     -0.368497   2.31958e-06\n",
      "4.85696      68.9446      -2       4.88579      0.134421       27.7769     -0.362453   2.34542e-06\n",
      "4.8561       126.264      -2       4.91028      0.133644       30.2828     -0.356418   2.37169e-06\n",
      "4.85526      123.86       -2       4.93454      0.132895       32.9590     -0.350404   2.39815e-06\n",
      "4.85446      119.88       -2       4.95834      0.132170       35.8105     -0.344443   2.42462e-06\n",
      "4.85369      114.939      -2       4.98166      0.131467       38.8449     -0.338559   2.45101e-06\n",
      "4.85295      110.426      -2       5.00453      0.130784       42.0707     -0.332766   2.47726e-06\n",
      "4.85223      105.734      -2       5.02698      0.130121       45.4945     -0.327070   2.50332e-06\n",
      "4.85154      101.147      -2       5.04899      0.129477       49.1252     -0.321475   2.52918e-06\n",
      "4.85088      96.9766      -2       5.07061      0.128851       52.9690     -0.315981   2.55483e-06\n",
      "4.85025      92.9997      -2       5.09181      0.128243       57.0349     -0.310589   2.58025e-06\n",
      "4.84963      88.9643      -2       5.11265      0.127651       61.3291     -0.305295   2.60544e-06\n",
      "4.84904      85.5742      -2       5.13309      0.127076       65.8601     -0.300100   2.63040e-06\n",
      "4.84847      82.1027      -2       5.15318      0.126516       70.6351     -0.295000   2.65513e-06\n",
      "4.84792      78.5441      -2       5.17291      0.125971       75.6595     -0.289993   2.67963e-06\n",
      "4.84739      75.5595      -2       5.19229      0.125440       80.9423     -0.285077   2.70389e-06\n",
      "4.84687      72.4654      -2       5.21131      0.124922       86.4949     -0.280250   2.72793e-06\n",
      "4.84638      69.6362      -2       5.23002      0.124417       92.3228     -0.275510   2.75174e-06\n",
      "4.8459       67.1728      -2       5.24841      0.123925       98.4353     -0.270852   2.77534e-06\n",
      "4.84544      64.705       -2       5.26652      0.123446       104.834     -0.266277   2.79871e-06\n",
      "4.84499      62.2586      -2       5.28426      0.122977       111.541     -0.261779   2.82188e-06\n",
      "4.84455      59.905       -2       5.30178      0.122520       118.550     -0.257358   2.84483e-06\n",
      "4.84413      57.7871      -2       5.31897      0.122073       125.880     -0.253011   2.86757e-06\n",
      "4.84373      55.7475      -2       5.33590      0.121637       133.539     -0.248736   2.89012e-06\n",
      "4.84333      53.8105      -2       5.35257      0.121210       141.534     -0.244531   2.91247e-06\n",
      "4.84295      52.0424      -2       5.36900      0.120793       149.868     -0.240393   2.93462e-06\n",
      "4.84258      50.2331      -2       5.38514      0.120385       158.558     -0.236320   2.95659e-06\n",
      "4.84222      48.5602      -2       5.40106      0.119986       167.607     -0.232312   2.97837e-06\n",
      "4.84187      46.9759      -2       5.41673      0.119595       177.029     -0.228366   2.99996e-06\n",
      "4.84154      45.6291      -2       5.43217      0.119212       186.832     -0.224481   3.02137e-06\n",
      "4.84121      44.1593      -2       5.44739      0.118837       197.023     -0.220654   3.04261e-06\n",
      "4.84089      42.7536      -2       5.46239      0.118470       207.609     -0.216884   3.06367e-06\n",
      "4.84058      41.4308      -2       5.47715      0.118110       218.608     -0.213170   3.08456e-06\n",
      "4.84027      40.231       -2       5.49173      0.117758       230.021     -0.209510   3.10529e-06\n",
      "4.83998      38.9394      -2       5.50610      0.117412       241.862     -0.205902   3.12585e-06\n",
      "4.8397       37.8899      -2       5.52026      0.117073       254.141     -0.202346   3.14625e-06\n",
      "4.83942      36.7762      -2       5.53424      0.116740       266.871     -0.198840   3.16649e-06\n",
      "4.83915      35.742       -2       5.54804      0.116414       280.046     -0.195382   3.18658e-06\n",
      ".738       -2       5.56164      0.116094       293.691     -0.191971   3.20651e-06\n",
      "4.83862      33.8117      -2       5.57505      0.115779       307.821     -0.188607   3.22630e-06\n",
      "4.83837      32.9194      -2       5.58832      0.115470       322.425     -0.185288   3.24594e-06\n",
      "4.83813      32.0973      -2       5.60140      0.115167       337.525     -0.182012   3.26543e-06\n",
      "4.83789      31.1432      -2       5.61430      0.114868       353.144     -0.178779   3.28478e-06\n",
      "4.83766      30.3281      -2       5.62707      0.114576       369.254     -0.175588   3.30400e-06\n",
      "4.83743      29.5199      -2       5.63965      0.114288       385.890     -0.172439   3.32307e-06\n",
      "4.83721      28.896       -2       5.65209      0.114006       403.054     -0.169330   3.34200e-06\n",
      "4.837        28.094       -2       5.66436      0.113728       420.759     -0.166260   3.36080e-06\n",
      "4.83679      27.4401      -2       5.67648      0.113454       439.026     -0.163229   3.37946e-06\n",
      "4.83658      26.7274      -2       5.68847      0.113186       457.837     -0.160236   3.39799e-06\n",
      "4.83638      26.1178      -2       5.70030      0.112922       477.221     -0.157279   3.41639e-06\n",
      "4.83618      25.4737      -2       5.71200      0.112662       497.158     -0.154360   3.43466e-06\n",
      "4.83599      24.8559      -2       5.72352      0.112406       517.719     -0.151475   3.45279e-06\n",
      "4.83581      24.3023      -2       5.73494      0.112154       538.875     -0.148626   3.47081e-06\n",
      "4.83562      23.7315      -2       5.74623      0.111907       560.639     -0.145810   3.48870e-06\n",
      "4.83544      23.1486      -2       5.75738      0.111663       583.023     -0.143026   3.50647e-06\n",
      "4.83527      22.6477      -2       5.76842      0.111423       606.022     -0.140276   3.52413e-06\n",
      "4.8351       22.1643      -2       5.77931      0.111186       629.664     -0.137557   3.54166e-06\n",
      "4.83493      21.6486      -2       5.79009      0.110953       653.957     -0.134869   3.55908e-06\n",
      "4.83477      21.156       -2       5.80075      0.110724       678.903     -0.132211   3.57639e-06\n",
      "4.83461      20.6818      -2       5.81130      0.110498       704.504     -0.129584   3.59358e-06\n",
      "4.83445      20.2904      -2       5.82170      0.110274       730.843     -0.126985   3.61065e-06\n",
      "4.8343       19.8233      -2       5.83204      0.110055       757.824     -0.124415   3.62763e-06\n",
      "4.83415      19.3915      -2       5.84227      0.109839       785.450     -0.121873   3.64450e-06\n",
      "4.834        19.0203      -2       5.85234      0.109626       813.810     -0.119360   3.66124e-06\n",
      "4.83386      18.6163      -2       5.86231      0.109416       842.898     -0.116874   3.67788e-06\n",
      "4.83372      18.2503      -2       5.87219      0.109209       872.706     -0.114415   3.69442e-06\n",
      "4.83358      17.8979      -2       5.88198      0.109005       903.223     -0.111981   3.71085e-06\n",
      "4.83344      17.5212      -2       5.89165      0.108803       934.481     -0.109574   3.72718e-06\n",
      "4.83331      17.1967      -2       5.90121      0.108605       966.499     -0.107192   3.74340e-06\n",
      "4.83318      16.8343      -2       5.91069      0.108409       999.257     -0.104836   3.75953e-06\n",
      "4.83305      16.5475      -2       5.92006      0.108215       1032.79     -0.102503   3.77555e-06\n",
      "4.83293      16.2136      -2       5.92934      0.108024       1067.13     -0.100195   3.79147e-06\n",
      "4.83281      15.9014      -2       5.93854      0.107836       1102.22    -0.0979100   3.80730e-06\n",
      "4.83269      15.5868      -2       5.94763      0.107651       1138.12    -0.0956482   3.82303e-06\n",
      "4.83257      15.3086      -2       5.95664      0.107467       1174.81    -0.0934092   3.83866e-06\n",
      "4.83245      15.0719      -2       5.96556      0.107287       1212.30    -0.0911926   3.85421e-06\n",
      "4.83234      14.743       -2       5.97439      0.107108       1250.62    -0.0889981   3.86965e-06\n",
      "4.83223      14.4901      -2       5.98314      0.106932       1289.75    -0.0868256   3.88500e-06\n",
      "4.83212      14.2387      -2       5.99179      0.106758       1329.73    -0.0846744   3.90026e-06\n",
      "4.83202      13.9446      -2       6.00037      0.106586       1370.53    -0.0825445   3.91543e-06\n",
      "4.83191      13.7113      -2       6.00886      0.106417       1412.18    -0.0804353   3.93051e-06\n",
      "4.83181      13.4847      -2       6.01727      0.106250       1454.64    -0.0783469   3.94549e-06\n",
      "4.83171      13.2283      -2       6.02558      0.106084       1498.05    -0.0762787   3.96038e-06\n",
      "4.83161      12.9834      -2       6.03384      0.105921       1542.30    -0.0742304   3.97519e-06\n",
      "============================================================\n",
      " Variances and Principal Axes\n",
      "                 1        2        3        4        5  \n",
      " 2.8279E-12| -0.0000   0.0000   0.0000  -0.0000   1.0000  \n",
      " 1.6870E-05| -0.0068   1.0000   0.0000   0.0002  -0.0000  \n",
      " 2.9821E+00|  0.0886   0.0008   0.0000  -0.9961  -0.0000  \n",
      " 1.7644E+01|  0.9960   0.0068  -0.0002   0.0886   0.0000  \n",
      " 6.2831E+09| -0.0002   0.0000  -1.0000  -0.0000  -0.0000  \n",
      "------------------------------------------------------------\n",
      "\n",
      "============================================================\n",
      "  Covariance Matrix\n",
      "        1           2           3           4           5   \n",
      "   2.070e+02  -4.094e+00   1.091e+06   2.872e+01   2.263e-04\n",
      "  -4.094e+00   9.451e-02  -2.426e+04  -6.016e-01  -4.706e-06\n",
      "   1.091e+06  -2.426e+04   6.283e+09   1.579e+05   1.238e+00\n",
      "   2.872e+01  -6.016e-01   1.579e+05   7.067e+00   5.117e-05\n",
      "   2.263e-04  -4.706e-06   1.238e+00   5.117e-05   3.771e-10\n",
      "------------------------------------------------------------\n",
      "\n",
      "========================================================================\n",
      "Model TBabs<1>(bremss<2> + powerlaw<3>) Source No.: 1   Active/On\n",
      "Model Model Component  Parameter  Unit     Value\n",
      " par  comp\n",
      "   1    1   TBabs      nH         10^22    6.03384      +/-  14.3871      \n",
      "   2    2   bremss     kT         keV      0.105921     +/-  0.307419     \n",
      "   3    2   bremss     norm                1542.30      +/-  7.92659E+04  \n",
      "   4    3   powerlaw   PhoIndex            -7.42304E-02 +/-  2.65834      \n",
      "   5    3   powerlaw   norm                3.97519E-06  +/-  1.94200E-05  \n",
      "________________________________________________________________________\n",
      "\n",
      "\n",
      "Fit statistic  : Chi-Squared                  4.8316     using 9 bins.\n",
      "\n",
      "Test statistic : Chi-Squared                  4.8316     using 9 bins.\n",
      " Null hypothesis probability of 3.0502e-01 with 4 degrees of freedom\n",
      " Model Flux 4.0313e-05 photons (4.5735e-13 ergs/cm^2/s) range (0.20000 - 12.000 keV)\n"
     ]
    }
   ],
   "source": [
    "AllModels.clear()\n",
    "mo = Model(\"tbabs*(bremss+powerlaw)\")\n",
    "Fit.perform()\n",
    "Plot.device = \"/xs\"\n",
    "Plot(\"data resid\")\n",
    "nH_bremsspowerlaw = mo.TBabs.nH.values[0]\n",
    "AllModels.calcFlux(\".2 12.0\")"
   ]
  },
  {
   "cell_type": "code",
   "execution_count": 21,
   "id": "1962ecad-89cd-4e80-ac06-46d175b42060",
   "metadata": {},
   "outputs": [
    {
     "data": {
      "text/plain": [
       "(-0.5, 854.5, 660.5, -0.5)"
      ]
     },
     "execution_count": 21,
     "metadata": {},
     "output_type": "execute_result"
    },
    {
     "data": {
      "image/png": "[encoded data removed]",
      "text/plain": [
       "<Figure size 1200x700 with 1 Axes>"
      ]
     },
     "metadata": {},
     "output_type": "display_data"
    }
   ],
   "source": [
    "img = plt.imread(glob.glob('ObsID*_SRCNUM*_E*_Spectrum_bremsspowerlaw.png')[0])\n",
    "plt.imshow(img)\n",
    "plt.axis('off')"
   ]
  },
  {
   "cell_type": "markdown",
   "id": "abd5dfb3-2e64-45ce-865e-141440473fc0",
   "metadata": {},
   "source": [
    "## Column density nH\n",
    "### 3DNH-tool\n",
    "http://astro.uni-tuebingen.de/nh3d/nhtool\n",
    "\n",
    "**Sky coordinates (°) :**\n",
    "\n",
    "- RA = 54.2147805°\n",
    "- Dec: -28.3312739°\n",
    "\n",
    "54.21 -28.33\n",
    "\n",
    "**Column density :** nH = 1*10^20 cm^-2"
   ]
  },
  {
   "cell_type": "code",
   "execution_count": 25,
   "id": "56fba14f-8577-469e-a60d-2c426e2bd02f",
   "metadata": {},
   "outputs": [
    {
     "name": "stdout",
     "output_type": "stream",
     "text": [
      "The different models give a column density of :\n",
      "\n",
      "\u001b[1mbbody\u001b[0m\n",
      "(tbabs) : 5.9309311006620584e+16\n",
      "\n",
      "\u001b[1mbremss\u001b[0m\n",
      "(tbabs) : 9.451957647773253e+21\n",
      "\n",
      "\u001b[1mapec\u001b[0m\n",
      "(tbabs) : 9.556619032555147e+21\n",
      "\n",
      "\u001b[1mpowerlaw (Third best fit)\u001b[0m\n",
      "(tbabs) : 2.5289059797597023e+21\n",
      "\n",
      "\u001b[1mbbody+powerlaw (Second best fit)\u001b[0m\n",
      "(tbabs) : 3.758567456391212e+22\n",
      "\n",
      "\u001b[1mbremss+powerlaw (Best fit)\u001b[0m\n",
      "(tbabs) : 6.03384063617913e+22\n"
     ]
    }
   ],
   "source": [
    "print(\"The different models give a column density of :\")\n",
    "print()\n",
    "print(color.BOLD+\"bbody\"+color.END)\n",
    "print(f\"(tbabs) : {nH_bbody*10**22}\")\n",
    "print()\n",
    "print(color.BOLD+\"bremss\"+color.END)\n",
    "print(f\"(tbabs) : {nH_bremss*10**22}\")\n",
    "print()\n",
    "print(color.BOLD+\"apec\"+color.END)\n",
    "print(f\"(tbabs) : {nH_apec*10**22}\")\n",
    "print()\n",
    "print(color.BOLD+\"powerlaw (Third best fit)\"+color.END)\n",
    "print(f\"(tbabs) : {nH_powerlaw*10**22}\")\n",
    "print()\n",
    "print(color.BOLD+\"bbody+powerlaw (Second best fit)\"+color.END)\n",
    "print(f\"(tbabs) : {nH_bbodypowerlaw*10**22}\")\n",
    "print()\n",
    "print(color.BOLD+\"bremss+powerlaw (Best fit)\"+color.END)\n",
    "print(f\"(tbabs) : {nH_bremsspowerlaw*10**22}\")"
   ]
  },
  {
   "cell_type": "markdown",
   "id": "c404b996-c273-4f68-a4b2-5b526c4027e0",
   "metadata": {},
   "source": [
    "## Flux\n",
    "### X-ray flux\n",
    "- X-ray flux of the best-fitting model ``Bremss + Powerlaw`` with Chi-squared = 4.8316 using 6 bins: **4.5735e-13 ergs/cm^2/s**.\n",
    "- X-ray flux of the second best-fitting model ``Black body + Powerlaw`` with Chi-squared = 5.1298 using 6 bins: **5.2381e-13 ergs/cm^2/s**.\n",
    "- X-ray flux of the third best-fitting model ``Powerlaw`` with Chi-squared = 5.9087 using 6 bins: **3.2721e-13 ergs/cm^2/s**."
   ]
  },
  {
   "cell_type": "code",
   "execution_count": 3,
   "id": "188f0c9e-abca-407f-b959-8fd675cb4e61",
   "metadata": {},
   "outputs": [
    {
     "name": "stdout",
     "output_type": "stream",
     "text": [
      "\u001b[1mX-ray flux : \u001b[0m\n",
      "Bremss + Powerlaw : F_x-ray = 4.5735e-13 ergs/cm^2/s\n",
      "Black body + Powerlaw : F_x-ray = 4.5735e-13 ergs/cm^2/s\n",
      "Powerlaw : F_x-ray = 3.2721e-13 ergs/cm^2/s\n"
     ]
    }
   ],
   "source": [
    "Flux_bp = 4.5735e-13 # ergs/cm^2/s\n",
    "Flux_bbp = 5.2381e-13 # ergs/cm^2/s\n",
    "Flux_pow = 3.2721e-13 # ergs/cm^2/s\n",
    "print(color.BOLD+\"X-ray flux : \"+color.END)\n",
    "print(f\"Bremss + Powerlaw : F_x-ray = {Flux_bp} ergs/cm^2/s\")\n",
    "print(f\"Black body + Powerlaw : F_x-ray = {Flux_bp} ergs/cm^2/s\")\n",
    "print(f\"Powerlaw : F_x-ray = {Flux_pow} ergs/cm^2/s\")"
   ]
  },
  {
   "cell_type": "markdown",
   "id": "c6fa0064-19e6-4d67-ba95-47509d05907c",
   "metadata": {},
   "source": [
    "### Optical flux\n",
    "No GAIA information, so we use the lower limit of 20.7 mag."
   ]
  },
  {
   "cell_type": "code",
   "execution_count": 4,
   "id": "98f73629-527f-4af0-9060-56f081400204",
   "metadata": {},
   "outputs": [
    {
     "name": "stdout",
     "output_type": "stream",
     "text": [
      "\u001b[1mOptical flux (lower limit) : \u001b[0mF_opt = 5.510478332622621e-14 ergs/cm^2/s\n"
     ]
    }
   ],
   "source": [
    "def F_optical(mag):\n",
    "    F0 = 1.05*10**(-5) # GAIA zero point magnitude\n",
    "    return F0*10**(-0.4*mag)\n",
    "    \n",
    "G = 20.7\n",
    "\n",
    "F = F_optical(G)\n",
    "\n",
    "print(color.BOLD+\"Optical flux (lower limit) : \"+color.END+f\"F_opt = {F} ergs/cm^2/s\")"
   ]
  },
  {
   "cell_type": "markdown",
   "id": "c9ca84e1-fcef-4163-9532-021d1115726c",
   "metadata": {},
   "source": [
    "### X-ray flux / Optical flux ratio"
   ]
  },
  {
   "cell_type": "code",
   "execution_count": 5,
   "id": "bfab798f-8c49-40b2-9ad0-a132b8d481a2",
   "metadata": {},
   "outputs": [
    {
     "name": "stdout",
     "output_type": "stream",
     "text": [
      "\u001b[1mX-ray Flux / Optical Flux ratio : \u001b[0m\n",
      "Bremsstrahlung + Powerlaw : F_x-ray/F_optical = 8.2996424700999\n",
      "Black body + Powerlaw : F_x-ray/F_optical = 9.505708368345969\n",
      "Powerlaw : F_x-ray/F_optical = 5.937960014521458\n"
     ]
    }
   ],
   "source": [
    "print(color.BOLD+\"X-ray Flux / Optical Flux ratio : \"+color.END)\n",
    "print(f\"Bremsstrahlung + Powerlaw : F_x-ray/F_optical = {Flux_bp/F}\")\n",
    "print(f\"Black body + Powerlaw : F_x-ray/F_optical = {Flux_bbp/F}\")\n",
    "print(f\"Powerlaw : F_x-ray/F_optical = {Flux_pow/F}\")"
   ]
  },
  {
   "cell_type": "markdown",
   "id": "a795f6f5-db41-4d8f-88db-605ec3106cbb",
   "metadata": {},
   "source": [
    "## Luminosity\n",
    "No distance or parallax data is available on ESASky."
   ]
  },
  {
   "cell_type": "code",
   "execution_count": 4,
   "id": "777e6a6b-df92-4fc6-9d64-f4997f73f0a9",
   "metadata": {},
   "outputs": [
    {
     "name": "stdout",
     "output_type": "stream",
     "text": [
      "\u001b[1mLuminosity of a galactic source with d = [1 pc - 30 kpc] :\u001b[0m\n",
      "Bremss + Powerlaw : L_x-ray = [5.4722502335188275e+25, 5.472250233518827e+31] erg/s\n",
      "Black body + Powerlaw : L_x-ray = [5.4722502335188275e+25, 5.472250233518827e+31] erg/s\n",
      "Powerlaw : L_x-ray = [3.915108776450629e+25, 3.915108776450629e+31] erg/s\n",
      "\n",
      "\u001b[1mLuminosity of an extragalactic source with d = [1 Mpc - 10 Gpc] :\u001b[0m\n",
      "Bremss + Powerlaw : L_x-ray = [5.472250233518827e+37, 5.4722502335188275e+45] erg/s\n",
      "Black body + Powerlaw : L_x-ray = [5.472250233518827e+37, 5.4722502335188275e+45] erg/s\n",
      "Powerlaw : L_x-ray = [3.9151087764506295e+37, 3.9151087764506295e+45] erg/s\n"
     ]
    }
   ],
   "source": [
    "# For a star in the milky way : d=[1 pc - 30 kpc]\n",
    "d_pc = 1 # Distance en pc\n",
    "d_kpc = 30 # Distance en kpc\n",
    "\n",
    "d1_cm = d_pc*3.0857*10**18 # Distance en cm, avec 1 pc = 3.0857*10^18 cm\n",
    "d2_cm = d_pc*3.0857*10**21 # Distance en cm, avec 1 pc = 3.0857*10^18 cm\n",
    "\n",
    "# La source est supposée sphérique pour le calcul de la luminosité : L = 4*pi*F*D^2\n",
    "L1_bp = 4*np.pi*Flux_bp*(d1_cm)**2 # erg/s\n",
    "L2_bp = 4*np.pi*Flux_bp*(d2_cm)**2 # erg/s\n",
    "L1_bbp = 4*np.pi*Flux_bbp*(d1_cm)**2 # erg/s\n",
    "L2_bbp = 4*np.pi*Flux_bbp*(d2_cm)**2 # erg/s\n",
    "L1_pow = 4*np.pi*Flux_pow*(d1_cm)**2 # erg/s\n",
    "L2_pow = 4*np.pi*Flux_pow*(d2_cm)**2 # erg/s\n",
    "\n",
    "print(color.BOLD+\"Luminosity of a galactic source with d = [1 pc - 30 kpc] :\"+color.END)\n",
    "print(f\"Bremss + Powerlaw : L_x-ray = [{L1_bp}, {L2_bp}] erg/s\")\n",
    "print(f\"Black body + Powerlaw : L_x-ray = [{L1_bp}, {L2_bp}] erg/s\")\n",
    "print(f\"Powerlaw : L_x-ray = [{L1_pow}, {L2_pow}] erg/s\")\n",
    "print()\n",
    "\n",
    "# For a galaxy : d=[1 Mpc - 10 Gpc]\n",
    "d_Mpc = 1 # Distance en Mpc\n",
    "d_Gpc = 10 # Distance en Gpc\n",
    "\n",
    "d1_cm = d_Mpc*3.0857*10**24 # Distance en cm, avec 1 pc = 3.0857*10^18 cm\n",
    "d2_cm = d_Gpc*3.0857*10**27 # Distance en cm, avec 1 pc = 3.0857*10^18 cm\n",
    "\n",
    "# La source est supposée sphérique pour le calcul de la luminosité : L = 4*pi*F*D^2\n",
    "L1_bp = 4*np.pi*Flux_bp*(d1_cm)**2 # erg/s\n",
    "L2_bp = 4*np.pi*Flux_bp*(d2_cm)**2 # erg/s\n",
    "L1_bbp = 4*np.pi*Flux_bbp*(d1_cm)**2 # erg/s\n",
    "L2_bbp = 4*np.pi*Flux_bbp*(d2_cm)**2 # erg/s\n",
    "L1_pow = 4*np.pi*Flux_pow*(d1_cm)**2 # erg/s\n",
    "L2_pow = 4*np.pi*Flux_pow*(d2_cm)**2 # erg/s\n",
    "\n",
    "print(color.BOLD+\"Luminosity of an extragalactic source with d = [1 Mpc - 10 Gpc] :\"+color.END)\n",
    "print(f\"Bremss + Powerlaw : L_x-ray = [{L1_bp}, {L2_bp}] erg/s\")\n",
    "print(f\"Black body + Powerlaw : L_x-ray = [{L1_bp}, {L2_bp}] erg/s\")\n",
    "print(f\"Powerlaw : L_x-ray = [{L1_pow}, {L2_pow}] erg/s\")"
   ]
  },
  {
   "cell_type": "code",
   "execution_count": null,
   "id": "250d44b2-55ca-4638-8b97-10a22b06eeca",
   "metadata": {},
   "outputs": [],
   "source": [
    "D_pc = np.arange(1, 10**10, 1000)\n",
    "\n",
    "d_cm = D_pc*3.0857*10**18 # Distance en cm, avec 1 pc = 3.0857*10^18 cm\n",
    "\n",
    "# La source est supposée sphérique pour le calcul de la luminosité : L = 4*pi*F*D^2\n",
    "L_bp = 4*np.pi*Flux_bp*(d_cm)**2 # erg/s\n",
    "L_bbp = 4*np.pi*Flux_bp*(d_cm)**2 # erg/s\n",
    "L_pow = 4*np.pi*Flux_pow*(d_cm)**2 # erg/s\n",
    "\n",
    "plt.figure(figsize=[10,5])\n",
    "plt.plot(L_bp,D_pc, lw=1, color='firebrick', label=\"Bremss + Powerlaw\")\n",
    "plt.plot(L_bbp,D_pc, lw=1, color='palevioletred', label=\"Black body + Powerlaw\")\n",
    "plt.plot(L_pow,D_pc, lw=1, color='steelblue', label=\"Powerlaw\")\n",
    "plt.legend(loc='best')\n",
    "plt.xlabel(\"Luminosity (erg/s)\")\n",
    "plt.ylabel(\"Distance (pc)\")\n",
    "plt.xscale(\"log\")\n",
    "plt.yscale(\"log\")\n",
    "plt.grid()"
   ]
  }
 ],
 "metadata": {
  "kernelspec": {
   "display_name": "Python 3 (ipykernel)",
   "language": "python",
   "name": "python3"
  },
  "language_info": {
   "codemirror_mode": {
    "name": "ipython",
    "version": 3
   },
   "file_extension": ".py",
   "mimetype": "text/x-python",
   "name": "python",
   "nbconvert_exporter": "python",
   "pygments_lexer": "ipython3",
   "version": "3.10.12"
  }
 },
 "nbformat": 4,
 "nbformat_minor": 5
}
