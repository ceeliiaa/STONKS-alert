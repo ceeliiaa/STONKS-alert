{
 "cells": [
  {
   "cell_type": "markdown",
   "id": "c521860a-0601-4bc3-b8cc-119c1d638a4c",
   "metadata": {},
   "source": [
    "# ObsID : 0945040139, SRCNUM : 14, Instru : EPN\n",
    "**Simbad :** SuperNova ([CBP2015] cdfs1 r 20120813 162A) https://simbad.cds.unistra.fr/simbad/sim-id?Ident=%4012362450&Name=%5bCBP2015%5d%20cdfs1%20r%2020120813%20162A&submit=submit"
   ]
  },
  {
   "cell_type": "markdown",
   "id": "3532c745-03f5-4751-9009-9b1fb2223059",
   "metadata": {},
   "source": [
    "## ESASky\n",
    "There are two EPIC Stack pointers on two extremely close sources: one green and one blue. Additionally, GAIA's pointer is near the blue source. Changing the wavelength does not reveal any other sources. https://sky.esa.int/esasky/?target=53.854416666666665%20-27.61488888888889&hips=DSS2+color&fov=1&projection=SIN&cooframe=J2000&sci=true&lang=fr\n",
    "\n",
    "**Green source**\n",
    "\n",
    "``EPIC Stack``\n",
    "- Stack Catalogue name : 4XMMs J033524.9-273655\n",
    "- IAU name : 4XMM J033524.9-273655\n",
    "- RA : 03h 35m 24.952s\n",
    "- DEC : -27° 36' 55.67\"\n",
    "\n",
    "**Blue source**\n",
    "\n",
    "``EPIC Stack``\n",
    "- Stack Catalogue name : 4XMMs J033523.4-273644\n",
    "- IAU name : 4XMM J033523.3-273644\n",
    "- RA : 03h 35m 23.398s\n",
    "- DEC : -27° 36' 44.79\"\n",
    "\n",
    "``GAIA``\n",
    "- Designation : Gaia DR3 5081491054756743936\n",
    "- RA : 03h 35m 22.569s\n",
    "- DEC : -27° 36' 43.28\"\n",
    "- G : 21.303\n",
    "\n",
    "or\n",
    "\n",
    "- Designation : Gaia DR3 5081491089116647296\n",
    "- RA : 03h 35m 26.006s\n",
    "- DEC : -27° 36' 33.23\"\n",
    "- Parallax : 0.3275\n",
    "- G : 20.012"
   ]
  },
  {
   "cell_type": "code",
   "execution_count": 2,
   "id": "a601bb92-6ab6-4642-bab7-b8cb9c6656a1",
   "metadata": {},
   "outputs": [],
   "source": [
    "from xspec import *\n",
    "from stingray import Lightcurve\n",
    "from astropy.io import fits\n",
    "import matplotlib.pyplot as plt\n",
    "import matplotlib.image as mpimg\n",
    "import glob\n",
    "import numpy as np\n",
    "\n",
    "class color:\n",
    "   PURPLE = '\\033[95m'\n",
    "   CYAN = '\\033[96m'\n",
    "   DARKCYAN = '\\033[36m'\n",
    "   BLUE = '\\033[94m'\n",
    "   GREEN = '\\033[92m'\n",
    "   YELLOW = '\\033[93m'\n",
    "   RED = '\\033[91m'\n",
    "   BOLD = '\\033[1m'\n",
    "   UNDERLINE = '\\033[4m'\n",
    "   END = '\\033[0m'\n",
    "\n",
    "plt.rcParams['figure.figsize'] = [12,7]"
   ]
  },
  {
   "cell_type": "markdown",
   "id": "b566c226-5ce8-4092-96ad-487b51153488",
   "metadata": {},
   "source": [
    "## Fit statistic"
   ]
  },
  {
   "cell_type": "code",
   "execution_count": 2,
   "id": "5cfa3614-64da-4f89-80c0-c4784f9579d0",
   "metadata": {},
   "outputs": [
    {
     "name": "stdout",
     "output_type": "stream",
     "text": [
      "Default fit statistic is set to: Chi-Squared\n",
      "   This will apply to all current and newly loaded spectra.\n",
      "Parameter delta values for fits will now be 0.0001 * parValue\n"
     ]
    }
   ],
   "source": [
    "Fit.statMethod = \"chi\"\n",
    "Fit.nIterations = 100000\n",
    "Fit.delta = 1e-4\n",
    "Fit.criticalDelta = 1e-4"
   ]
  },
  {
   "cell_type": "markdown",
   "id": "b3bef4aa-73a9-461c-8ae3-51c5bfa0a578",
   "metadata": {},
   "source": [
    "## Load files\n",
    "Spectrum, Background, Response, Auxiliary response."
   ]
  },
  {
   "cell_type": "code",
   "execution_count": 3,
   "id": "edd8268e-eb42-436c-b895-c44b2c6335b7",
   "metadata": {},
   "outputs": [
    {
     "name": "stdout",
     "output_type": "stream",
     "text": [
      "\n",
      "1 spectrum  in use\n",
      " \n",
      "Spectral Data File: ObsID0945040139_SRCNUM14_EPN_spectrum_grp.fits  Spectrum 1\n",
      "Net count rate (cts/s) for Spectrum:1  2.799e-02 +/- 2.597e-03 (82.2 % total)\n",
      " Assigned to Data Group 1 and Plot Group 1\n",
      "  Noticed Channels:  1-5\n",
      "  Telescope: XMM Instrument: EPN  Channel Type: PI\n",
      "  Exposure Time: 5170 sec\n",
      " Using fit statistic: chi\n",
      " Using Background File                ObsID0945040139_SRCNUM14_EPN_background_spectrum.fits\n",
      "  Background Exposure Time: 5170 sec\n",
      " Using Response (RMF) File            ObsID0945040139_SRCNUM14_EPN.rmf for Source 1\n",
      " Using Auxiliary Response (ARF) File  ObsID0945040139_SRCNUM14_EPN.arf\n",
      "\n"
     ]
    }
   ],
   "source": [
    "AllData.clear()\n",
    "spec = Spectrum(glob.glob('ObsID*_SRCNUM*_E*_spectrum_grp.fits')[0])"
   ]
  },
  {
   "cell_type": "code",
   "execution_count": 4,
   "id": "5e39c4f3-ceee-44e4-bd4c-f69541c6cfcf",
   "metadata": {},
   "outputs": [
    {
     "name": "stdout",
     "output_type": "stream",
     "text": [
      "Number of counts = 144.7083\n"
     ]
    }
   ],
   "source": [
    "n_cts = 2.799e-02*5170\n",
    "\n",
    "print(\"Number of counts =\",n_cts)\n",
    "\n",
    "if int(n_cts)<100:\n",
    "    print()\n",
    "    print(\"The low number of counts indicates that we should consider using cstat fit statistic instead of chi statistic.\")"
   ]
  },
  {
   "cell_type": "markdown",
   "id": "880eb92a-eaeb-4001-aa06-0eedfec69043",
   "metadata": {},
   "source": [
    "## Plot spectrum"
   ]
  },
  {
   "cell_type": "code",
   "execution_count": 5,
   "id": "4cc37457-f72a-4881-89d5-828fd66fd023",
   "metadata": {},
   "outputs": [
    {
     "name": "stdout",
     "output_type": "stream",
     "text": [
      "     1 channels (1) ignored in spectrum #     1\n",
      "      No channels ignored (no channels in specified range)\n",
      "\n"
     ]
    }
   ],
   "source": [
    "Plot.xAxis=\"keV\"\n",
    "Plot.device = \"/xs\"\n",
    "Plot.xLog=True\n",
    "Plot.yLog=True\n",
    "#Plot.addCommand(\"Rescale Y 0.00001 0.005\")\n",
    "Plot(\"data\")\n",
    "spec.ignore(\"**-0.2 12-**\")"
   ]
  },
  {
   "cell_type": "code",
   "execution_count": 6,
   "id": "9c969a35-f1e5-4704-ab87-c986550b4334",
   "metadata": {},
   "outputs": [
    {
     "data": {
      "text/plain": [
       "(-0.5, 852.5, 654.5, -0.5)"
      ]
     },
     "execution_count": 6,
     "metadata": {},
     "output_type": "execute_result"
    },
    {
     "data": {
      "image/png": "[encoded data removed]",
      "text/plain": [
       "<Figure size 1200x700 with 1 Axes>"
      ]
     },
     "metadata": {},
     "output_type": "display_data"
    }
   ],
   "source": [
    "img = plt.imread(glob.glob('ObsID*_SRCNUM*_E*_Spectrum.png')[0])\n",
    "plt.imshow(img)\n",
    "plt.axis('off')"
   ]
  },
  {
   "cell_type": "markdown",
   "id": "98519803-5052-4cb4-bfe7-7dad39416519",
   "metadata": {},
   "source": [
    "### Black body model"
   ]
  },
  {
   "cell_type": "code",
   "execution_count": 7,
   "id": "6c48de73-4acc-4052-9c2b-705487b7395c",
   "metadata": {},
   "outputs": [
    {
     "name": "stdout",
     "output_type": "stream",
     "text": [
      "\n",
      "========================================================================\n",
      "Model TBabs<1>*bbody<2> Source No.: 1   Active/On\n",
      "Model Model Component  Parameter  Unit     Value\n",
      " par  comp\n",
      "   1    1   TBabs      nH         10^22    1.00000      +/-  0.0          \n",
      "   2    2   bbody      kT         keV      3.00000      +/-  0.0          \n",
      "   3    2   bbody      norm                1.00000      +/-  0.0          \n",
      "________________________________________________________________________\n",
      "\n",
      "tbvabs Version 2.3\n",
      "Cosmic absorption with grains and H2, modified from\n",
      "Wilms, Allen, & McCray, 2000, ApJ 542, 914-924\n",
      "Questions: Joern Wilms\n",
      "joern.wilms@sternwarte.uni-erlangen.de\n",
      "joern.wilms@fau.de\n",
      "\n",
      "http://pulsar.sternwarte.uni-erlangen.de/wilms/research/tbabs/\n",
      "\n",
      "PLEASE NOTICE:\n",
      "To get the model described by the above paper\n",
      "you will also have to set the abundances:\n",
      "   abund wilm\n",
      "\n",
      "Note that this routine ignores the current cross section setting\n",
      "as it always HAS to use the Verner cross sections as a baseline.\n",
      "\n",
      "Fit statistic  : Chi-Squared              8.788548e+10     using 4 bins.\n",
      "\n",
      "Test statistic : Chi-Squared              8.788548e+10     using 4 bins.\n",
      " Null hypothesis probability of 0.000000e+00 with 1 degrees of freedom\n",
      " Current data and model not fit yet.\n",
      "                                   Parameters\n",
      "Chi-Squared  |beta|/N    Lvl          1:nH          2:kT        3:norm\n",
      "50.5142      0.178872      0      0.492425       3.06010   1.45232e-05\n",
      "48.7362      17145.5       0     0.0791004       3.15700   1.33920e-05\n",
      "47.6327      74849.2       0    0.00389909       3.13799   1.35197e-05\n",
      "47.4729      71348.9       0    0.00183184       3.12045   1.36291e-05\n",
      "47.3599      63408.5       0   0.000833854       3.10551   1.37163e-05\n",
      "47.2776      56486.1       0   0.000348782       3.09269   1.37849e-05\n",
      "47.2161      50510.3       0   0.000111816       3.08160   1.38382e-05\n",
      "47.17        45385.5       0   5.37072e-05       3.07194   1.38786e-05\n",
      "47.1339      41006.7       0   2.51161e-05       3.06346   1.39085e-05\n",
      "47.1051      37282.8       0   1.10129e-05       3.05594   1.39294e-05\n",
      "47.0818      34121.7       0   4.04176e-06       3.04922   1.39430e-05\n",
      "47.0627      31440.1       0   5.89955e-07       3.04316   1.39504e-05\n",
      "47.0467      29170.1       0   1.62044e-07       3.03765   1.39526e-05\n",
      "47.0333      27249.8       0   5.58211e-08       3.03261   1.39506e-05\n",
      "47.0217      25627         0   3.03169e-09       3.02794   1.39449e-05\n",
      "47.0117      24255.9       0   1.39061e-09       3.02359   1.39362e-05\n",
      "47.0029      23099.5       0   5.73769e-10       3.01951   1.39250e-05\n",
      "46.995       22125.4       0   1.66931e-10       3.01565   1.39117e-05\n",
      "46.9879      21302.7       0   6.55300e-11       3.01197   1.38966e-05\n",
      "46.9814      20608.5       0   1.50098e-11       3.00845   1.38800e-05\n",
      "46.9753      20025.7       0   2.38611e-12       3.00505   1.38623e-05\n",
      "46.9696      19526         0   8.11180e-13       3.00174   1.38437e-05\n",
      "46.9647      19092         0   3.05297e-14       2.99864   1.38230e-05\n",
      "46.9611      18821.2       0   8.15408e-15       2.99591   1.37981e-05\n",
      "46.9579      18851.6       0   2.93206e-15       2.99326   1.37711e-05\n",
      "46.9459      18993.5       0   1.08624e-15       2.98806   1.37710e-05\n",
      "46.9293      17106.7       0   4.41564e-16       2.98119   1.37881e-05\n",
      "46.8607      13861.1       0   1.65269e-16       2.94046   1.36896e-05\n",
      "46.5227      2274.22      -1   7.66267e-17       2.71273   1.15166e-05\n",
      "46.5077      14364.3       0   2.89770e-17       2.70641   1.15218e-05\n",
      "46.4199      10971.7       0   5.16982e-18       2.65842   1.14016e-05\n",
      "45.7693      6023.22      -1   1.86259e-18       2.34603   8.89345e-06\n",
      "***Warning: Zero alpha-matrix diagonal element for parameter 1\n",
      " Parameter 1 is pegged at 1.86259e-18 due to zero or negative pivot element, likely\n",
      " caused by the fit being insensitive to the parameter.\n",
      "41.0576      18129.7      -2   1.86259e-18      0.850212   3.66917e-06\n",
      "38.7029      3.48848e+06  -3   1.86259e-18      0.464877   6.83844e-07\n",
      "25.515       8.42338e+06  -4   1.86259e-18      0.474967   1.48167e-06\n",
      "25.5075      178526       -5   1.86259e-18      0.472432   1.49100e-06\n",
      "25.5074      695.146      -6   1.86259e-18      0.471772   1.48882e-06\n",
      "***Warning: Zero alpha-matrix diagonal element for parameter 1\n",
      " Parameter 1 is pegged at 1.86259e-18 due to zero or negative pivot element, likely\n",
      " caused by the fit being insensitive to the parameter.\n",
      "25.5074      25.5943      -3   1.86259e-18      0.471590   1.48825e-06\n",
      "==============================\n",
      " Variances and Principal Axes\n",
      "                 2        3  \n",
      " 4.7876E-14| -0.0000   1.0000  \n",
      " 6.0136E-03|  1.0000   0.0000  \n",
      "------------------------------\n",
      "\n",
      "========================\n",
      "  Covariance Matrix\n",
      "        1           2   \n",
      "   6.014e-03   1.917e-08\n",
      "   1.917e-08   1.090e-13\n",
      "------------------------\n",
      "\n",
      "========================================================================\n",
      "Model TBabs<1>*bbody<2> Source No.: 1   Active/On\n",
      "Model Model Component  Parameter  Unit     Value\n",
      " par  comp\n",
      "   1    1   TBabs      nH         10^22    1.86259E-18  +/-  -1.00000     \n",
      "   2    2   bbody      kT         keV      0.471590     +/-  7.75474E-02  \n",
      "25E-06  +/-  3.30108E-07  m                1.488\n",
      "________________________________________________________________________\n",
      "\n",
      "\n",
      "Fit statistic  : Chi-Squared                 25.5074     using 4 bins.\n",
      "\n",
      "Test statistic : Chi-Squared                 25.5074     using 4 bins.\n",
      " Null hypothesis probability of 4.4069e-07 with 1 degrees of freedom\n"
     ]
    }
   ],
   "source": [
    "AllModels.clear()\n",
    "mo = Model(\"tbabs*bbody\")\n",
    "Fit.perform()\n",
    "Plot.device = \"/xs\"\n",
    "Plot(\"data resid\")\n",
    "nH_bbody = mo.TBabs.nH.values[0]"
   ]
  },
  {
   "cell_type": "code",
   "execution_count": 8,
   "id": "b812c488-a25f-452a-83e1-1ffb5945cd27",
   "metadata": {},
   "outputs": [
    {
     "data": {
      "text/plain": [
       "(-0.5, 856.5, 659.5, -0.5)"
      ]
     },
     "execution_count": 8,
     "metadata": {},
     "output_type": "execute_result"
    },
    {
     "data": {
      "image/png": "[encoded data removed]",
      "text/plain": [
       "<Figure size 1200x700 with 1 Axes>"
      ]
     },
     "metadata": {},
     "output_type": "display_data"
    }
   ],
   "source": [
    "img = plt.imread(glob.glob('ObsID*_SRCNUM*_E*_Spectrum_bbody.png')[0])\n",
    "plt.imshow(img)\n",
    "plt.axis('off')"
   ]
  },
  {
   "cell_type": "markdown",
   "id": "ff9fb499-d3ba-410c-b6c2-12f7d4ac82a0",
   "metadata": {},
   "source": [
    "### Bremsstrahlung model"
   ]
  },
  {
   "cell_type": "code",
   "execution_count": 9,
   "id": "f00f133a-c83a-4c92-9f10-4b5f63f74b3e",
   "metadata": {},
   "outputs": [
    {
     "name": "stdout",
     "output_type": "stream",
     "text": [
      "\n",
      "========================================================================\n",
      "Model TBabs<1>*bremss<2> Source No.: 1   Active/On\n",
      "Model Model Component  Parameter  Unit     Value\n",
      " par  comp\n",
      "   1    1   TBabs      nH         10^22    1.00000      +/-  0.0          \n",
      "   2    2   bremss     kT         keV      7.00000      +/-  0.0          \n",
      "   3    2   bremss     norm                1.00000      +/-  0.0          \n",
      "________________________________________________________________________\n",
      "\n",
      "\n",
      "Fit statistic  : Chi-Squared              4.090146e+09     using 4 bins.\n",
      "\n",
      "Test statistic : Chi-Squared              4.090146e+09     using 4 bins.\n",
      " Null hypothesis probability of 0.000000e+00 with 1 degrees of freedom\n",
      " Current data and model not fit yet.\n",
      "                                   Parameters\n",
      "Chi-Squared  |beta|/N    Lvl          1:nH          2:kT        3:norm\n",
      "25.3786      1.53001      -2     0.0237493       2.37264   6.05702e-05\n",
      "23.7545      127742       -2    0.00950527       6.52358   2.65739e-05\n",
      "19.4749      157305        0    0.00332972       9.14308   3.13497e-05\n",
      "17.6786      108125        0    0.00111426       9.76046   3.41554e-05\n",
      "17.0056      77999.3       0   0.000184472       10.6894   3.58080e-05\n",
      "16.7708      62642.8       0   7.63966e-05       11.6487   3.68780e-05\n",
      "16.6593      54753.5       0   2.36749e-05       12.5263   3.76402e-05\n",
      "16.6099      50072.7       0   1.06133e-05       13.3346   3.82128e-05\n",
      "16.4299      47230.3       0   1.56744e-06       12.6856   3.85471e-05\n",
      "16.2984      41328.1       0   5.05445e-07       12.1641   3.88306e-05\n",
      "16.2014      36292.6       0   2.44213e-09       11.7430   3.90718e-05\n",
      "16.1293      31998.4       0   5.67046e-10       11.4003   3.92778e-05\n",
      "16.0765      28334.3       0   1.16374e-10       11.1362   3.94550e-05\n",
      "16.0354      25271.3       0   7.56396e-12       10.9045   3.96072e-05\n",
      "16.0041      22586.4       0   9.67965e-13       10.7131   3.97383e-05\n",
      "15.98        20287.9       0   1.70792e-13       10.5539   3.98515e-05\n",
      "15.9616      18314.7       0   7.18417e-14       10.4225   3.99494e-05\n",
      "15.947       16626.6       0   2.58004e-14       10.3121   4.00354e-05\n",
      "15.9354      15160.2       0   4.65721e-15       10.2181   4.01116e-05\n",
      "15.9263      13872.7       0   1.68124e-15       10.1341   4.01752e-05\n",
      "15.9195      12766.8       0   1.00796e-16       10.0772   4.02327e-05\n",
      "15.9112      11857.8       0   2.37892e-17       9.99353   4.03032e-05\n",
      "***Warning: Zero alpha-matrix diagonal element for parameter 1\n",
      " Parameter 1 is pegged at 2.37892e-17 due to zero or negative pivot element, likely\n",
      " caused by the fit being insensitive to the parameter.\n",
      "15.8809      16005.1       0   2.37892e-17       9.47273   4.06677e-05\n",
      "15.876       6035.32      -1   2.37892e-17       9.22187   4.08915e-05\n",
      "15.876       376.788      -2   2.37892e-17       9.19889   4.09033e-05\n",
      "***Warning: Zero alpha-matrix diagonal element for parameter 1\n",
      " Parameter 1 is pegged at 2.37892e-17 due to zero or negative pivot element, likely\n",
      " caused by the fit being insensitive to the parameter.\n",
      "15.876       2.04194       0   2.37892e-17       9.19782   4.09031e-05\n",
      "==============================\n",
      " Variances and Principal Axes\n",
      "                 2        3  \n",
      " 2.9914E-11| -0.0000   1.0000  \n",
      " 1.1600E+02|  1.0000   0.0000  \n",
      "------------------------------\n",
      "\n",
      "========================\n",
      "  Covariance Matrix\n",
      "        1           2   \n",
      "   1.160e+02   5.397e-05\n",
      "   5.397e-05   5.502e-11\n",
      "------------------------\n",
      "\n",
      "========================================================================\n",
      "Model TBabs<1>*bremss<2> Source No.: 1   Active/On\n",
      "Model Model Component  Parameter  Unit     Value\n",
      " par  comp\n",
      "   1    1   TBabs      nH         10^22    2.37892E-17  +/-  -1.00000     \n",
      "   2    2   bremss     kT         keV      9.19782      +/-  10.7703      \n",
      "   3    2   bremss     norm                4.09031E-05  +/-  7.41786E-06  \n",
      "________________________________________________________________________\n",
      "\n",
      "\n",
      "Fit statistic  : Chi-Squared                 15.8760     using 4 bins.\n",
      "\n",
      "Test statistic : Chi-Squared                 15.8760     using 4 bins.\n",
      " Null hypothesis probability of 6.7632e-05 with 1 degrees of freedom\n"
     ]
    }
   ],
   "source": [
    "AllModels.clear()\n",
    "mo = Model(\"tbabs*bremss\")\n",
    "Fit.perform()\n",
    "Plot.device = \"/xs\"\n",
    "Plot(\"data resid\")\n",
    "nH_bremss = mo.TBabs.nH.values[0]"
   ]
  },
  {
   "cell_type": "code",
   "execution_count": 10,
   "id": "5a01f0db-125c-4088-93f6-bd89994faa69",
   "metadata": {},
   "outputs": [
    {
     "data": {
      "text/plain": [
       "(-0.5, 856.5, 657.5, -0.5)"
      ]
     },
     "execution_count": 10,
     "metadata": {},
     "output_type": "execute_result"
    },
    {
     "data": {
      "image/png": "[encoded data removed]",
      "text/plain": [
       "<Figure size 1200x700 with 1 Axes>"
      ]
     },
     "metadata": {},
     "output_type": "display_data"
    }
   ],
   "source": [
    "img = plt.imread(glob.glob('ObsID*_SRCNUM*_E*_Spectrum_bremss.png')[0])\n",
    "plt.imshow(img)\n",
    "plt.axis('off')"
   ]
  },
  {
   "cell_type": "markdown",
   "id": "3edcca3a-8165-4c61-80ed-0b4b4087c8c3",
   "metadata": {},
   "source": [
    "### Apec model"
   ]
  },
  {
   "cell_type": "code",
   "execution_count": 11,
   "id": "629f01ff-336d-445c-8328-31a864f052a1",
   "metadata": {},
   "outputs": [
    {
     "name": "stdout",
     "output_type": "stream",
     "text": [
      "\n",
      "========================================================================\n",
      "Model TBabs<1>*apec<2> Source No.: 1   Active/On\n",
      "Model Model Component  Parameter  Unit     Value\n",
      " par  comp\n",
      "   1    1   TBabs      nH         10^22    1.00000      +/-  0.0          \n",
      "   2    2   apec       kT         keV      1.00000      +/-  0.0          \n",
      "   3    2   apec       Abundanc            1.00000      frozen\n",
      "   4    2   apec       Redshift            0.0          frozen\n",
      "   5    2   apec       norm                1.00000      +/-  0.0          \n",
      "________________________________________________________________________\n",
      "\n",
      "Reading APEC data from 3.0.9\n",
      "\n",
      "\n",
      "Fit statistic  : Chi-Squared              6.581311e+08     using 4 bins.\n",
      "\n",
      "Test statistic : Chi-Squared              6.581311e+08     using 4 bins.\n",
      " Null hypothesis probability of 0.000000e+00 with 1 degrees of freedom\n",
      " Current data and model not fit yet.\n",
      "                                   Parameters\n",
      "Chi-Squared  |beta|/N    Lvl          1:nH          2:kT        5:norm\n",
      "34.5262      2.28813      -2       1.08776       1.13890   0.000271418\n",
      "34.4823      1401.27      -2       1.13329       1.09680   0.000294530\n",
      "34.4747      209.52       -2       1.17513       1.05363   0.000310673\n",
      "34.4643      354.2        -2       1.23642      0.984764   0.000340782\n",
      "34.4533      596.708      -2       1.29417      0.912478   0.000381988\n",
      "34.4299      732.529      -2       1.34217      0.825693   0.000444145\n",
      "34.4047      666.725      -2       1.37276      0.770044   0.000501799\n",
      "34.3895      433.356      -2       1.39187      0.726567   0.000554043\n",
      "34.3805      289.587      -2       1.40404      0.695813   0.000597877\n",
      "34.3762      164.546      -2       1.41209      0.677040   0.000629404\n",
      "34.3751      59.8741      -2       1.41679      0.667737   0.000646725\n",
      "34.3745      16.0505      -2       1.42100      0.659235   0.000661870\n",
      "34.374       12.5961      -2       1.42471      0.651945   0.000675408\n",
      "34.3737      9.90581      -2       1.42798      0.645701   0.000687446\n",
      "34.3737      8.33874      -1       1.42818      0.646041   0.000687456\n",
      "========================================\n",
      " Variances and Principal Axes\n",
      "                 1        2        5  \n",
      " 1.2636E-08| -0.0010   0.0015   1.0000  \n",
      " 3.2683E-02|  0.8861   0.4635   0.0002  \n",
      " 7.3904E+04| -0.4635   0.8861  -0.0018  \n",
      "----------------------------------------\n",
      "\n",
      "====================================\n",
      "  Covariance Matrix\n",
      "        1           2           3   \n",
      "   1.588e+04  -3.035e+04   6.014e+01\n",
      "  -3.035e+04   5.803e+04  -1.150e+02\n",
      "   6.014e+01  -1.150e+02   2.278e-01\n",
      "------------------------------------\n",
      "\n",
      "========================================================================\n",
      "Model TBabs<1>*apec<2> Source No.: 1   Active/On\n",
      "Model Model Component  Parameter  Unit     Value\n",
      " par  comp\n",
      "   1    1   TBabs      nH         10^22    1.42818      +/-  125.999      \n",
      "   2    2   apec       kT         keV      0.646041     +/-  240.890      \n",
      "   3    2   apec       Abundanc            1.00000      frozen\n",
      "   4    2   apec       Redshift            0.0          frozen\n",
      "   5    2   apec       norm                6.87456E-04  +/-  0.477280     \n",
      "________________________________________________________________________\n",
      "\n",
      "\n",
      "Fit statistic  : Chi-Squared                 34.3737     using 4 bins.\n",
      "\n",
      "Test statistic : Chi-Squared                 34.3737     using 4 bins.\n",
      " Null hypothesis probability of 4.5483e-09 with 1 degrees of freedom\n"
     ]
    }
   ],
   "source": [
    "AllModels.clear()\n",
    "mo = Model(\"tbabs*apec\")\n",
    "Fit.perform()\n",
    "Plot.device = \"/xs\"\n",
    "Plot(\"data resid\")\n",
    "nH_apec = mo.TBabs.nH.values[0]"
   ]
  },
  {
   "cell_type": "code",
   "execution_count": 12,
   "id": "390919ae-47f5-49fe-9876-3bcf74b2d2fb",
   "metadata": {},
   "outputs": [
    {
     "data": {
      "text/plain": [
       "(-0.5, 859.5, 655.5, -0.5)"
      ]
     },
     "execution_count": 12,
     "metadata": {},
     "output_type": "execute_result"
    },
    {
     "data": {
      "image/png": "[encoded data removed]",
      "text/plain": [
       "<Figure size 1200x700 with 1 Axes>"
      ]
     },
     "metadata": {},
     "output_type": "display_data"
    }
   ],
   "source": [
    "img = plt.imread(glob.glob('ObsID*_SRCNUM*_E*_Spectrum_apec.png')[0])\n",
    "plt.imshow(img)\n",
    "plt.axis('off')"
   ]
  },
  {
   "cell_type": "markdown",
   "id": "9f19aeb6-3c27-44a9-8ad3-a2eb2777e421",
   "metadata": {},
   "source": [
    "### Powerlaw model"
   ]
  },
  {
   "cell_type": "code",
   "execution_count": 13,
   "id": "85b08776-73cd-4f36-a843-c34effff4655",
   "metadata": {},
   "outputs": [
    {
     "name": "stdout",
     "output_type": "stream",
     "text": [
      "\n",
      "========================================================================\n",
      "Model TBabs<1>*powerlaw<2> Source No.: 1   Active/On\n",
      "Model Model Component  Parameter  Unit     Value\n",
      " par  comp\n",
      "   1    1   TBabs      nH         10^22    1.00000      +/-  0.0          \n",
      "   2    2   powerlaw   PhoIndex            1.00000      +/-  0.0          \n",
      "   3    2   powerlaw   norm                1.00000      +/-  0.0          \n",
      "________________________________________________________________________\n",
      "\n",
      "\n",
      "Fit statistic  : Chi-Squared              2.612887e+10     using 4 bins.\n",
      "\n",
      "Test statistic : Chi-Squared              2.612887e+10     using 4 bins.\n",
      " Null hypothesis probability of 0.000000e+00 with 1 degrees of freedom\n",
      " Current data and model not fit yet.\n",
      "                                   Parameters\n",
      "Chi-Squared  |beta|/N    Lvl          1:nH    2:PhoIndex        3:norm\n",
      "40.7348      1.1229       -1      0.235174       1.46117   2.07916e-05\n",
      "29.3302      164738       -1     0.0774995       1.13460   2.05650e-05\n",
      "24.3319      151337       -1    0.00702786       1.02552   1.80321e-05\n",
      "21.3555      189344        0    0.00195154       1.07926   1.99568e-05\n",
      "19.5225      150924        0   7.95351e-05       1.13802   2.13628e-05\n",
      "18.389       127508        0   3.28615e-05       1.19205   2.24482e-05\n",
      "17.5487      111328        0   1.31427e-05       1.23861   2.33088e-05\n",
      "16.9384      98602.3       0   4.58235e-06       1.27702   2.39792e-05\n",
      "16.5028      88458.3       0   7.68230e-07       1.30769   2.44908e-05\n",
      "16.1955      80462.3       0   3.33193e-07       1.33161   2.48743e-05\n",
      "15.9796      74279.9       0   1.30598e-07       1.34992   2.51578e-05\n",
      "15.8279      69587.3       0   3.46394e-08       1.36375   2.53650e-05\n",
      "15.7212      66082.9       0   1.16052e-08       1.37408   2.55154e-05\n",
      "15.6458      63498.6       0   4.30332e-10       1.38174   2.56241e-05\n",
      "15.5924      61610.3       0   8.87788e-11       1.38738   2.57023e-05\n",
      "15.5544      60239.2       0   4.76202e-12       1.39151   2.57586e-05\n",
      "15.5273      59247.4       0   2.16732e-12       1.39460   2.57982e-05\n",
      "15.5088      58559         0   8.75745e-13       1.39661   2.58271e-05\n",
      "15.494       58031.8       0   2.37523e-13       1.39833   2.58490e-05\n",
      "15.4854      57647.2       0   7.85965e-14       1.39936   2.58617e-05\n",
      "15.3902      57425.9       0   1.87736e-14       1.40773   2.60451e-05\n",
      "15.3285      53706.7       0   5.58507e-15       1.41302   2.61749e-05\n",
      "15.256       51009.1       0   7.93651e-16       1.41992   2.63301e-05\n",
      "15.1907      47799.9       0   1.31551e-16       1.42710   2.64682e-05\n",
      "15.0546      44979.7       0   4.88121e-17       1.43295   2.69527e-05\n",
      "15.0156      33909.1       0   2.06101e-17       1.43862   2.70464e-05\n",
      "14.8965      32006.7       0   8.59147e-18       1.45432   2.74440e-05\n",
      "14.8424      23382.5       0   3.99836e-18       1.46366   2.76424e-05\n",
      "14.8175      19070.9       0   1.50045e-18       1.46875   2.77348e-05\n",
      "***Warning: Zero alpha-matrix diagonal element for parameter 1\n",
      " Parameter 1 is pegged at 1.50045e-18 due to zero or negative pivot element, likely\n",
      " caused by the fit being insensitive to the parameter.\n",
      "14.6533      25597.6      -1   1.50045e-18       1.53405   2.84287e-05\n",
      "14.6394      1795.19      -2   1.50045e-18       1.55691   2.84569e-05\n",
      "14.6383      83.4882      -3   1.50045e-18       1.56351   2.84446e-05\n",
      "14.6382      8.03157      -4   1.50045e-18       1.56538   2.84412e-05\n",
      "***Warning: Zero alpha-matrix diagonal element for parameter 1\n",
      " Parameter 1 is pegged at 1.50045e-18 due to zero or negative pivot element, likely\n",
      " caused by the fit being insensitive to the parameter.\n",
      "14.6382      0.615437     -3   1.50045e-18       1.56590   2.84403e-05\n",
      "==============================\n",
      " Variances and Principal Axes\n",
      "                 2        3  \n",
      " 1.4150E-11|  0.0000   1.0000  \n",
      " 5.0109E-02|  1.0000  -0.0000  \n",
      "------------------------------\n",
      "\n",
      "========================\n",
      "  Covariance Matrix\n",
      "        1           2   \n",
      "   5.011e-02  -8.536e-08\n",
      "  -8.536e-08   1.429e-11\n",
      "------------------------\n",
      "\n",
      "========================================================================\n",
      "Model TBabs<1>*powerlaw<2> Source No.: 1   Active/On\n",
      "Model Model Component  Parameter  Unit     Value\n",
      " par  comp\n",
      "   1    1   TBabs      nH         10^22    1.50045E-18  +/-  -1.00000     \n",
      "   2    2   powerlaw   PhoIndex            1.56590      +/-  0.223849     \n",
      "   3    2   powerlaw   norm                2.84403E-05  +/-  3.78087E-06  \n",
      "________________________________________________________________________\n",
      "\n",
      "\n",
      "Fit statistic  : Chi-Squared                 14.6382     using 4 bins.\n",
      "\n",
      "Test statistic : Chi-Squared                 14.6382     using 4 bins.\n",
      " Null hypothesis probability of 1.3025e-04 with 1 degrees of freedom\n"
     ]
    }
   ],
   "source": [
    "AllModels.clear()\n",
    "mo = Model(\"tbabs*powerlaw\")\n",
    "Fit.perform()\n",
    "Plot.device = \"/xs\"\n",
    "Plot(\"data resid\")\n",
    "nH_powerlaw = mo.TBabs.nH.values[0]"
   ]
  },
  {
   "cell_type": "code",
   "execution_count": 14,
   "id": "08ed2434-c41d-4349-9de0-d2e51a747b34",
   "metadata": {},
   "outputs": [
    {
     "data": {
      "text/plain": [
       "(-0.5, 856.5, 662.5, -0.5)"
      ]
     },
     "execution_count": 14,
     "metadata": {},
     "output_type": "execute_result"
    },
    {
     "data": {
      "image/png": "[encoded data removed]",
      "text/plain": [
       "<Figure size 1200x700 with 1 Axes>"
      ]
     },
     "metadata": {},
     "output_type": "display_data"
    }
   ],
   "source": [
    "img = plt.imread(glob.glob('ObsID*_SRCNUM*_E*_Spectrum_powerlaw.png')[0])\n",
    "plt.imshow(img)\n",
    "plt.axis('off')"
   ]
  },
  {
   "cell_type": "markdown",
   "id": "b54c6f9a-31c0-49e0-b6ae-e8b7750b000f",
   "metadata": {},
   "source": [
    "### Bremsstrahlung + Powerlaw model"
   ]
  },
  {
   "cell_type": "code",
   "execution_count": 15,
   "id": "aff0b569-2e17-425a-ae59-e862079bc8e7",
   "metadata": {},
   "outputs": [
    {
     "name": "stdout",
     "output_type": "stream",
     "text": [
      "\n",
      "========================================================================\n",
      "Model TBabs<1>(bremss<2> + powerlaw<3>) Source No.: 1   Active/On\n",
      "Model Model Component  Parameter  Unit     Value\n",
      " par  comp\n",
      "   1    1   TBabs      nH         10^22    1.00000      +/-  0.0          \n",
      "   2    2   bremss     kT         keV      7.00000      +/-  0.0          \n",
      "   3    2   bremss     norm                1.00000      +/-  0.0          \n",
      "   4    3   powerlaw   PhoIndex            1.00000      +/-  0.0          \n",
      "   5    3   powerlaw   norm                1.00000      +/-  0.0          \n",
      "________________________________________________________________________\n",
      "\n",
      "Ill-formed Fit problem - number of variable parameters exceeds number of bins\n"
     ]
    },
    {
     "name": "stderr",
     "output_type": "stream",
     "text": [
      "***Warning: Ill-formed Fit problem - number of variable parameters exceeds number of bins\n"
     ]
    },
    {
     "ename": "Exception",
     "evalue": "Error executing command: fit",
     "output_type": "error",
     "traceback": [
      "\u001b[0;31m---------------------------------------------------------------------------\u001b[0m",
      "\u001b[0;31mException\u001b[0m                                 Traceback (most recent call last)",
      "Cell \u001b[0;32mIn[15], line 3\u001b[0m\n\u001b[1;32m      1\u001b[0m AllModels\u001b[38;5;241m.\u001b[39mclear()\n\u001b[1;32m      2\u001b[0m mo \u001b[38;5;241m=\u001b[39m Model(\u001b[38;5;124m\"\u001b[39m\u001b[38;5;124mtbabs*(bremss+powerlaw)\u001b[39m\u001b[38;5;124m\"\u001b[39m)\n\u001b[0;32m----> 3\u001b[0m \u001b[43mFit\u001b[49m\u001b[38;5;241;43m.\u001b[39;49m\u001b[43mperform\u001b[49m\u001b[43m(\u001b[49m\u001b[43m)\u001b[49m\n\u001b[1;32m      4\u001b[0m Plot\u001b[38;5;241m.\u001b[39mdevice \u001b[38;5;241m=\u001b[39m \u001b[38;5;124m\"\u001b[39m\u001b[38;5;124m/xs\u001b[39m\u001b[38;5;124m\"\u001b[39m\n\u001b[1;32m      5\u001b[0m Plot(\u001b[38;5;124m\"\u001b[39m\u001b[38;5;124mdata resid\u001b[39m\u001b[38;5;124m\"\u001b[39m)\n",
      "File \u001b[0;32m/mnt/c/Users/acer/HEASoft/heasoft-6.34/x86_64-pc-linux-gnu-libc2.35/lib/python/xspec/fit.py:533\u001b[0m, in \u001b[0;36mFitManager.perform\u001b[0;34m(self)\u001b[0m\n\u001b[1;32m    530\u001b[0m \u001b[38;5;250m\u001b[39m\u001b[38;5;124;03m\"\"\"Perform a fit.\"\"\"\u001b[39;00m\n\u001b[1;32m    532\u001b[0m fitArgs \u001b[38;5;241m=\u001b[39m [\u001b[38;5;124m\"\u001b[39m\u001b[38;5;124mfit\u001b[39m\u001b[38;5;124m\"\u001b[39m]\n\u001b[0;32m--> 533\u001b[0m \u001b[43m_pyXspec\u001b[49m\u001b[38;5;241;43m.\u001b[39;49m\u001b[43mdoXspecCmd\u001b[49m\u001b[43m(\u001b[49m\u001b[43mfitArgs\u001b[49m\u001b[43m)\u001b[49m\n",
      "\u001b[0;31mException\u001b[0m: Error executing command: fit"
     ]
    }
   ],
   "source": [
    "AllModels.clear()\n",
    "mo = Model(\"tbabs*(bremss+powerlaw)\")\n",
    "Fit.perform()\n",
    "Plot.device = \"/xs\"\n",
    "Plot(\"data resid\")\n",
    "nH_bremsspowerlaw = mo.TBabs.nH.values[0]"
   ]
  },
  {
   "cell_type": "markdown",
   "id": "12c8083a-833c-411a-9192-3eaea4781171",
   "metadata": {},
   "source": [
    "## Column density nH\n",
    "### 3DNH-tool\n",
    "http://astro.uni-tuebingen.de/nh3d/nhtool\n",
    "\n",
    "**Sky coordinates (°) :**\n",
    "\n",
    "- RA = 53.8539672°\n",
    "- Dec: -27.6154637°\n",
    "\n",
    "53.85 -27.62\n",
    "\n",
    "**Column density :** nH = 1*10^20 cm^-2"
   ]
  },
  {
   "cell_type": "code",
   "execution_count": 17,
   "id": "2468bf2c-d7aa-4002-b559-f72e46f4de36",
   "metadata": {},
   "outputs": [
    {
     "name": "stdout",
     "output_type": "stream",
     "text": [
      "The different models give a column density of :\n",
      "\n",
      "\u001b[1mbbody\u001b[0m\n",
      "(tbabs) : 18625.86965477254\n",
      "\n",
      "\u001b[1mbremss\u001b[0m\n",
      "(tbabs) : 237891.8207829017\n",
      "\n",
      "\u001b[1mapec\u001b[0m\n",
      "(tbabs) : 1.4281780221112524e+22\n",
      "\n",
      "\u001b[1mpowerlaw\u001b[0m\n",
      "(tbabs) : 15004.493250512978\n"
     ]
    }
   ],
   "source": [
    "print(\"The different models give a column density of :\")\n",
    "print()\n",
    "print(color.BOLD+\"bbody\"+color.END)\n",
    "print(f\"(tbabs) : {nH_bbody*10**22}\")\n",
    "print()\n",
    "print(color.BOLD+\"bremss\"+color.END)\n",
    "print(f\"(tbabs) : {nH_bremss*10**22}\")\n",
    "print()\n",
    "print(color.BOLD+\"apec\"+color.END)\n",
    "print(f\"(tbabs) : {nH_apec*10**22}\")\n",
    "print()\n",
    "print(color.BOLD+\"powerlaw\"+color.END)\n",
    "print(f\"(tbabs) : {nH_powerlaw*10**22}\")"
   ]
  },
  {
   "cell_type": "markdown",
   "id": "c404b996-c273-4f68-a4b2-5b526c4027e0",
   "metadata": {},
   "source": [
    "## Flux\n",
    "### X-ray flux"
   ]
  },
  {
   "cell_type": "code",
   "execution_count": 16,
   "id": "7509b2e9-7ca8-4af4-a044-6e88fd3e45c6",
   "metadata": {},
   "outputs": [
    {
     "name": "stdout",
     "output_type": "stream",
     "text": [
      " Model Flux    2.4803 photons (1.9282e-08 ergs/cm^2/s) range (0.20000 - 12.000 keV)\n"
     ]
    }
   ],
   "source": [
    "AllModels.calcFlux(\".2 12.0\")"
   ]
  },
  {
   "cell_type": "code",
   "execution_count": 3,
   "id": "188f0c9e-abca-407f-b959-8fd675cb4e61",
   "metadata": {},
   "outputs": [
    {
     "name": "stdout",
     "output_type": "stream",
     "text": [
      "\u001b[1mX-ray flux : \u001b[0mF_X = 1.9282e-08 ergs/cm^2/s\n"
     ]
    }
   ],
   "source": [
    "Flux = 1.9282e-08 # ergs/cm^2/s\n",
    "print(color.BOLD+\"X-ray flux : \"+color.END+f\"F_X = {Flux} ergs/cm^2/s\")"
   ]
  },
  {
   "cell_type": "markdown",
   "id": "e1a4f2c6-90dd-4936-8e18-afed522c96fb",
   "metadata": {},
   "source": [
    "### Optical flux\n",
    "No GAIA information, so we use the lower limit of 20.7 mag."
   ]
  },
  {
   "cell_type": "code",
   "execution_count": 23,
   "id": "47a0b805-d7cc-4925-bdc0-ae1e00262cf9",
   "metadata": {},
   "outputs": [
    {
     "name": "stdout",
     "output_type": "stream",
     "text": [
      "\u001b[1mOptical  flux : \u001b[0mF1_opt = 3.162199743232763e-14 ergs/cm^2/s\n",
      "\u001b[1mOptical  flux : \u001b[0mF2_opt = 1.038458867272116e-13 ergs/cm^2/s\n"
     ]
    }
   ],
   "source": [
    "def F_optical(mag):\n",
    "    F0 = 1.05*10**(-5) # GAIA zero point magnitude\n",
    "    return F0*10**(-0.4*mag)\n",
    "    \n",
    "G1 =  21.303\n",
    "G2 = 20.012\n",
    "\n",
    "F1 = F_optical(G1)\n",
    "F2 = F_optical(G2)\n",
    "\n",
    "print(color.BOLD+\"Optical  flux : \"+color.END+f\"F1_opt = {F1} ergs/cm^2/s\")\n",
    "print(color.BOLD+\"Optical  flux : \"+color.END+f\"F2_opt = {F2} ergs/cm^2/s\")"
   ]
  },
  {
   "cell_type": "markdown",
   "id": "ce49dbf8-5648-41b9-be47-40f59846019b",
   "metadata": {},
   "source": [
    "### X-ray flux / Optical flux ratio"
   ]
  },
  {
   "cell_type": "code",
   "execution_count": 24,
   "id": "dc346955-5cb0-4f41-a099-0ce130c1e2f2",
   "metadata": {},
   "outputs": [
    {
     "name": "stdout",
     "output_type": "stream",
     "text": [
      "\u001b[1mX-ray flux / Optical flux ratio : \u001b[0mF_x-ray/F1_optical = 609765.402747384\n",
      "F_x-ray = 609765.402747384*F1_optical\n",
      "\u001b[1mX-ray flux / Optical flux ratio : \u001b[0mF_x-ray/F2_optical = 185678.99613251968\n",
      "F_x-ray = 185678.99613251968*F2_optical\n"
     ]
    }
   ],
   "source": [
    "print(color.BOLD+\"X-ray flux / Optical flux ratio : \"+color.END+f\"F_x-ray/F1_optical = {Flux/F1}\")\n",
    "print(f\"F_x-ray = {Flux/F1}*F1_optical\")\n",
    "print(color.BOLD+\"X-ray flux / Optical flux ratio : \"+color.END+f\"F_x-ray/F2_optical = {Flux/F2}\")\n",
    "print(f\"F_x-ray = {Flux/F2}*F2_optical\")"
   ]
  },
  {
   "cell_type": "markdown",
   "id": "a795f6f5-db41-4d8f-88db-605ec3106cbb",
   "metadata": {},
   "source": [
    "## Luminosity\n",
    "The parallax is available for the blue source and for only one of the GAIA's designations."
   ]
  },
  {
   "cell_type": "code",
   "execution_count": 6,
   "id": "9c8bfa04-80cf-49e7-a734-3abd793debf7",
   "metadata": {},
   "outputs": [
    {
     "name": "stdout",
     "output_type": "stream",
     "text": [
      "\u001b[1m(GAIA)\u001b[0m\n",
      "Distance : 9.421984732824428e+21 cm\n",
      "Luminosité : 2.1510313247082485e+37 erg/s\n"
     ]
    }
   ],
   "source": [
    "\"\"\"GAIA\"\"\"\n",
    "P_mas = 0.3275\n",
    "d_kpc = 1/P_mas\n",
    "d_cm = d_kpc*3.0857*10**21 # Distance en cm, avec 1 pc = 3.0857*10^18 cm\n",
    "\n",
    "# La source est supposée sphérique pour le calcul de la luminosité : L = 4*pi*F*D^2\n",
    "Luminosity = 4*np.pi*Flux*(d_cm)**2 # erg/s\n",
    "\n",
    "print(color.BOLD+\"(GAIA)\"+color.END)\n",
    "print(f\"Distance : {d_cm} cm\")\n",
    "print(f\"Luminosité : {Luminosity} erg/s\")"
   ]
  }
 ],
 "metadata": {
  "kernelspec": {
   "display_name": "Python 3 (ipykernel)",
   "language": "python",
   "name": "python3"
  },
  "language_info": {
   "codemirror_mode": {
    "name": "ipython",
    "version": 3
   },
   "file_extension": ".py",
   "mimetype": "text/x-python",
   "name": "python",
   "nbconvert_exporter": "python",
   "pygments_lexer": "ipython3",
   "version": "3.10.12"
  }
 },
 "nbformat": 4,
 "nbformat_minor": 5
}
