{
 "cells": [
  {
   "cell_type": "markdown",
   "id": "c521860a-0601-4bc3-b8cc-119c1d638a4c",
   "metadata": {},
   "source": [
    "# ObsID : 0945040139, SRCNUM : 14, Instru : EPN\n",
    "**Simbad :** SuperNova ([CBP2015] cdfs1 r 20120813 162A) https://simbad.cds.unistra.fr/simbad/sim-id?Ident=%4012362450&Name=%5bCBP2015%5d%20cdfs1%20r%2020120813%20162A&submit=submit"
   ]
  },
  {
   "cell_type": "code",
   "execution_count": 1,
   "id": "a601bb92-6ab6-4642-bab7-b8cb9c6656a1",
   "metadata": {},
   "outputs": [
    {
     "name": "stdout",
     "output_type": "stream",
     "text": [
      "Default fit statistic is set to: Chi-Squared\n",
      "   This will apply to all current and newly loaded spectra.\n",
      "Parameter delta values for fits will now be 0.0001 * parValue\n"
     ]
    }
   ],
   "source": [
    "from xspec import *\n",
    "from stingray import Lightcurve\n",
    "from astropy.io import fits\n",
    "import matplotlib.pyplot as plt\n",
    "import matplotlib.image as mpimg\n",
    "import glob\n",
    "import numpy as np\n",
    "\n",
    "class color:\n",
    "   PURPLE = '\\033[95m'\n",
    "   CYAN = '\\033[96m'\n",
    "   DARKCYAN = '\\033[36m'\n",
    "   BLUE = '\\033[94m'\n",
    "   GREEN = '\\033[92m'\n",
    "   YELLOW = '\\033[93m'\n",
    "   RED = '\\033[91m'\n",
    "   BOLD = '\\033[1m'\n",
    "   UNDERLINE = '\\033[4m'\n",
    "   END = '\\033[0m'\n",
    "\n",
    "plt.rcParams['figure.figsize'] = [12,7]\n",
    "\n",
    "Fit.statMethod = \"chi\"\n",
    "Fit.nIterations = 100000\n",
    "Fit.delta = 1e-4\n",
    "Fit.criticalDelta = 1e-4"
   ]
  },
  {
   "cell_type": "markdown",
   "id": "b3bef4aa-73a9-461c-8ae3-51c5bfa0a578",
   "metadata": {},
   "source": [
    "## Load files\n",
    "Spectrum, Background, Response, Auxiliary response."
   ]
  },
  {
   "cell_type": "code",
   "execution_count": 2,
   "id": "edd8268e-eb42-436c-b895-c44b2c6335b7",
   "metadata": {},
   "outputs": [
    {
     "name": "stdout",
     "output_type": "stream",
     "text": [
      "\n",
      "1 spectrum  in use\n",
      " \n",
      "Spectral Data File: ObsID0945040139_SRCNUM14_EPN_spectrum_grp.fits  Spectrum 1\n",
      "Net count rate (cts/s) for Spectrum:1  2.799e-02 +/- 2.597e-03 (82.2 % total)\n"
     ]
    },
    {
     "data": {
      "text/plain": [
       "<xspec.spectrum.Spectrum at 0x7fce84310b50>"
      ]
     },
     "execution_count": 2,
     "metadata": {},
     "output_type": "execute_result"
    },
    {
     "name": "stdout",
     "output_type": "stream",
     "text": [
      " Assigned to Data Group 1 and Plot Group 1\n",
      "  Noticed Channels:  1-5\n",
      "  Telescope: XMM Instrument: EPN  Channel Type: PI\n",
      "  Exposure Time: 5170 sec\n",
      " Using fit statistic: chi\n",
      " Using Background File                ObsID0945040139_SRCNUM14_EPN_background_spectrum.fits\n",
      "  Background Exposure Time: 5170 sec\n",
      " Using Response (RMF) File            ObsID0945040139_SRCNUM14_EPN.rmf for Source 1\n",
      " Using Auxiliary Response (ARF) File  ObsID0945040139_SRCNUM14_EPN.arf\n",
      "\n"
     ]
    }
   ],
   "source": [
    "Spectrum(glob.glob('ObsID*_SRCNUM*_E*_spectrum_grp.fits')[0])"
   ]
  },
  {
   "cell_type": "markdown",
   "id": "880eb92a-eaeb-4001-aa06-0eedfec69043",
   "metadata": {},
   "source": [
    "## Plot spectrum"
   ]
  },
  {
   "cell_type": "code",
   "execution_count": 3,
   "id": "4cc37457-f72a-4881-89d5-828fd66fd023",
   "metadata": {},
   "outputs": [],
   "source": [
    "Plot.xAxis=\"keV\"\n",
    "Plot.device = \"/xs\"\n",
    "Plot.xLog=True\n",
    "Plot.yLog=True\n",
    "Plot.addCommand(\"Rescale Y 0.00001 0.005\")\n",
    "Plot(\"data\")"
   ]
  },
  {
   "cell_type": "code",
   "execution_count": 4,
   "id": "9c969a35-f1e5-4704-ab87-c986550b4334",
   "metadata": {},
   "outputs": [
    {
     "data": {
      "text/plain": [
       "(-0.5, 862.5, 661.5, -0.5)"
      ]
     },
     "execution_count": 4,
     "metadata": {},
     "output_type": "execute_result"
    },
    {
     "data": {
      "image/png": "[encoded data removed]",
      "text/plain": [
       "<Figure size 1200x700 with 1 Axes>"
      ]
     },
     "metadata": {},
     "output_type": "display_data"
    }
   ],
   "source": [
    "img = plt.imread(glob.glob('ObsID*_SRCNUM*_E*_Spectrum.png')[0])\n",
    "plt.imshow(img)\n",
    "plt.axis('off')"
   ]
  },
  {
   "cell_type": "markdown",
   "id": "98519803-5052-4cb4-bfe7-7dad39416519",
   "metadata": {},
   "source": [
    "### Black body model"
   ]
  },
  {
   "cell_type": "code",
   "execution_count": 5,
   "id": "6c48de73-4acc-4052-9c2b-705487b7395c",
   "metadata": {},
   "outputs": [
    {
     "name": "stdout",
     "output_type": "stream",
     "text": [
      "\n",
      "========================================================================\n",
      "Model TBabs<1>*bbody<2> Source No.: 1   Active/On\n",
      "Model Model Component  Parameter  Unit     Value\n",
      " par  comp\n",
      "   1    1   TBabs      nH         10^22    1.00000      +/-  0.0          \n",
      "   2    2   bbody      kT         keV      3.00000      +/-  0.0          \n",
      "   3    2   bbody      norm                1.00000      +/-  0.0          \n",
      "________________________________________________________________________\n",
      "\n",
      "tbvabs Version 2.3\n",
      "Cosmic absorption with grains and H2, modified from\n",
      "Wilms, Allen, & McCray, 2000, ApJ 542, 914-924\n",
      "Questions: Joern Wilms\n",
      "joern.wilms@sternwarte.uni-erlangen.de\n",
      "joern.wilms@fau.de\n",
      "\n",
      "http://pulsar.sternwarte.uni-erlangen.de/wilms/research/tbabs/\n",
      "\n",
      "PLEASE NOTICE:\n",
      "To get the model described by the above paper\n",
      "you will also have to set the abundances:\n",
      "   abund wilm\n",
      "\n",
      "Note that this routine ignores the current cross section setting\n",
      "as it always HAS to use the Verner cross sections as a baseline.\n",
      "\n",
      "Fit statistic  : Chi-Squared              8.788550e+10     using 5 bins.\n",
      "\n",
      "Test statistic : Chi-Squared              8.788550e+10     using 5 bins.\n",
      " Null hypothesis probability of 0.000000e+00 with 2 degrees of freedom\n",
      " Current data and model not fit yet.\n",
      "                                   Parameters\n",
      "Chi-Squared  |beta|/N    Lvl          1:nH          2:kT        3:norm\n",
      "96.1847      0.181407      0      0.486592       3.06063   1.45257e-05\n",
      "     3.15889   1.33765e-05 0     0.0677806  \n",
      "93.609       77416.4       0     0.0285873       3.13932   1.35069e-05\n",
      "93.1797      71540.2       0    0.00978838       3.12230   1.36128e-05\n",
      "92.9026      65701         0   0.000434931       3.10766   1.36966e-05\n",
      "92.8204      60185.5       0   0.000137240       3.09518   1.37603e-05\n",
      "92.7595      54544.6       0   6.39840e-05       3.08439   1.38091e-05\n",
      "92.7119      49723.8       0   2.79265e-05       3.07497   1.38455e-05\n",
      "92.6741      45624.2       0   1.01418e-05       3.06668   1.38718e-05\n",
      "92.6435      42144.5       0   1.35319e-06       3.05930   1.38897e-05\n",
      "92.6186      39193.3       0   2.65612e-07       3.05268   1.39006e-05\n",
      "92.5979      36693.2       0   1.30841e-07       3.04669   1.39057e-05\n",
      "92.5805      34578.8       0   6.39535e-08       3.04122   1.39059e-05\n",
      "92.5658      32794         0   3.07218e-08       3.03620   1.39019e-05\n",
      "92.553       31288.4       0   1.41965e-08       3.03153   1.38946e-05\n",
      "92.5419      30018.2       0   5.97268e-09       3.02717   1.38844e-05\n",
      "92.5321      28950         0   1.87756e-09       3.02306   1.38718e-05\n",
      "92.5233      28049.3       0   8.57468e-10       3.01916   1.38573e-05\n",
      "92.5154      27292.1       0   3.49008e-10       3.01544   1.38410e-05\n",
      "92.5081      26657.8       0   9.54664e-11       3.01186   1.38233e-05\n",
      "92.5014      26125.5       0   3.22473e-11       3.00841   1.38044e-05\n",
      "92.4952      25681.3       0   7.04447e-13       3.00506   1.37846e-05\n",
      "92.4901      25307.5       0   2.17623e-13       3.00196   1.37621e-05\n",
      "92.4815      25129.7       0   8.65168e-14       2.99805   1.37482e-05\n",
      "92.478       24316.1       0   2.45746e-14       2.99536   1.37218e-05\n",
      "92.4744      24435.5       1   1.13622e-14       2.99426   1.37266e-05\n",
      "92.453       23852.6       0   1.70537e-15       2.98700   1.37458e-05\n",
      "92.4322      20456.4       0   4.52206e-16       2.97941   1.37678e-05\n",
      "92.4246      16760.1       0   1.54328e-16       2.97549   1.37527e-05\n",
      "92.3397      15931.4       0   5.72560e-17       2.92886   1.36700e-05\n",
      "91.853       1256.99      -1   2.38928e-17       2.63694   1.10963e-05\n",
      "91.0944      6787.91      -1   3.82465e-18       2.30192   8.61605e-06\n",
      "***Warning: Zero alpha-matrix diagonal element for parameter 1\n",
      " Parameter 1 is pegged at 3.82465e-18 due to zero or negative pivot element, likely\n",
      " caused by the fit being insensitive to the parameter.\n",
      "82.3634      25022.8      -2   3.82465e-18      0.723887   3.23008e-06\n",
      "71.9992      4.24177e+06  -3   3.82465e-18      0.492913   1.15607e-06\n",
      "67.6508      4.31723e+06  -4   3.82465e-18      0.431496   1.46057e-06\n",
      "67.5882      594349       -5   3.82465e-18      0.427201   1.39866e-06\n",
      "67.5866      7318.06      -6   3.82465e-18      0.424959   1.39199e-06\n",
      "67.5861      348.582      -7   3.82465e-18      0.423833   1.38837e-06\n",
      "67.586       119.889      -8   3.82465e-18      0.423261   1.38654e-06\n",
      "67.586       31.2727      -9   3.82465e-18      0.422963   1.38558e-06\n",
      "***Warning: Zero alpha-matrix diagonal element for parameter 1\n",
      " Parameter 1 is pegged at 3.82465e-18 due to zero or negative pivot element, likely\n",
      " caused by the fit being insensitive to the parameter.\n",
      "67.586       3.17535      -3   3.82465e-18      0.422812   1.38510e-06\n",
      "==============================\n",
      " Variances and Principal Axes\n",
      "                 2        3  \n",
      " 3.8435E-14| -0.0000   1.0000  \n",
      " 4.5705E-03|  1.0000   0.0000  \n",
      "------------------------------\n",
      "\n",
      "========================\n",
      "  Covariance Matrix\n",
      "        1           2   \n",
      "   4.571e-03   1.472e-08\n",
      "   1.472e-08   8.586e-14\n",
      "------------------------\n",
      "\n",
      "========================================================================\n",
      "Model TBabs<1>*bbody<2> Source No.: 1   Active/On\n",
      "Model Model Component  Parameter  Unit     Value\n",
      " par  comp\n",
      "   1    1   TBabs      nH         10^22    3.82465E-18  +/-  -1.00000     \n",
      "   2    2   bbody      kT         keV      0.422812     +/-  6.76055E-02  \n",
      "   3    2   bbody      norm                1.38510E-06  +/-  2.93015E-07  \n",
      "________________________________________________________________________\n",
      "\n",
      "\n",
      "Fit statistic  : Chi-Squared                 67.5860     using 5 bins.\n",
      "\n",
      "Test statistic : Chi-Squared                 67.5860     using 5 bins.\n",
      " Null hypothesis probability of 2.1081e-15 with 2 degrees of freedom\n"
     ]
    }
   ],
   "source": [
    "AllModels.clear()\n",
    "mo = Model(\"tbabs*bbody\")\n",
    "Fit.perform()\n",
    "Plot.device = \"/xs\"\n",
    "Plot(\"data resid\")"
   ]
  },
  {
   "cell_type": "code",
   "execution_count": 6,
   "id": "b812c488-a25f-452a-83e1-1ffb5945cd27",
   "metadata": {},
   "outputs": [
    {
     "data": {
      "text/plain": [
       "(-0.5, 860.5, 659.5, -0.5)"
      ]
     },
     "execution_count": 6,
     "metadata": {},
     "output_type": "execute_result"
    },
    {
     "data": {
      "image/png": "[encoded data removed]",
      "text/plain": [
       "<Figure size 1200x700 with 1 Axes>"
      ]
     },
     "metadata": {},
     "output_type": "display_data"
    }
   ],
   "source": [
    "img = plt.imread(glob.glob('ObsID*_SRCNUM*_E*_Spectrum_bbody.png')[0])\n",
    "plt.imshow(img)\n",
    "plt.axis('off')"
   ]
  },
  {
   "cell_type": "markdown",
   "id": "ff9fb499-d3ba-410c-b6c2-12f7d4ac82a0",
   "metadata": {},
   "source": [
    "### bremsstrahlung model"
   ]
  },
  {
   "cell_type": "code",
   "execution_count": 7,
   "id": "f00f133a-c83a-4c92-9f10-4b5f63f74b3e",
   "metadata": {},
   "outputs": [
    {
     "name": "stdout",
     "output_type": "stream",
     "text": [
      "\n",
      "========================================================================\n",
      "Model TBabs<1>*bremss<2> Source No.: 1   Active/On\n",
      "Model Model Component  Parameter  Unit     Value\n",
      " par  comp\n",
      "   1    1   TBabs      nH         10^22    1.00000      +/-  0.0          \n",
      "   2    2   bremss     kT         keV      7.00000      +/-  0.0          \n",
      "   3    2   bremss     norm                1.00000      +/-  0.0          \n",
      "________________________________________________________________________\n",
      "\n",
      "\n",
      "Fit statistic  : Chi-Squared              4.090158e+09     using 5 bins.\n",
      "\n",
      "Test statistic : Chi-Squared              4.090158e+09     using 5 bins.\n",
      " Null hypothesis probability of 0.000000e+00 with 2 degrees of freedom\n",
      " Current data and model not fit yet.\n",
      "                                   Parameters\n",
      "Chi-Squared  |beta|/N    Lvl          1:nH          2:kT        3:norm\n",
      "59.3868      1.54473      -2     0.0282097       2.16280   6.30277e-05\n",
      "49.776       93994.4       0     0.0100176       2.03533   5.45589e-05\n",
      "45.5143      50093.2       0    0.00458985       2.03063   4.80391e-05\n",
      "43.5802      5951.26       0    0.00177187       2.16770   4.39724e-05\n",
      "42.6028      41496.6       0   0.000497548       2.42522   4.16434e-05\n",
      "42.5403      60669.8       0   0.000248104       2.78023   4.06176e-05\n",
      "42.397       66102         0   1.07998e-05       3.18408   4.00240e-05\n",
      "42.2112      68294.8       0   1.09546e-06       3.16679   4.04401e-05\n",
      "42.0656      63433.2       0   5.03794e-07       3.14611   4.08214e-05\n",
      "41.9405      59023.5       0   2.13111e-07       3.12424   4.11708e-05\n",
      "41.8321      55028.4       0   7.01025e-08       3.10111   4.14915e-05\n",
      "41.7377      51413.7       0   3.48845e-08       3.07668   4.17863e-05\n",
      "41.6549      48146.6       0   1.57439e-10       3.05169   4.20575e-05\n",
      "41.5818      45188.5       0   2.35611e-11       3.02591   4.23075e-05\n",
      "41.5171      42515.3       0   7.03150e-12       3.00017   4.25383e-05\n",
      "41.46        40091.4       0   2.94663e-12       2.97625   4.27514e-05\n",
      "41.4082      37868.8       0   9.25926e-13       2.95021   4.29488e-05\n",
      "41.3615      35885.3       0   4.26021e-13       2.92415   4.31319e-05\n",
      "41.3191      34090.9       0   1.78305e-13       2.89830   4.33023e-05\n",
      "41.2806      32462.5       0   5.60469e-14       2.87282   4.34606e-05\n",
      "41.2453      30990.4       0   2.55700e-14       2.84771   4.36085e-05\n",
      "41.2131      29651.3       0   1.09169e-14       2.82230   4.37437e-05\n",
      "41.1832      28486.4       0   3.60640e-15       2.79953   4.38759e-05\n",
      "41.1557      27323.1       0   1.77520e-15       2.77352   4.39912e-05\n",
      "41.1294      26436.7       0   8.40735e-16       2.74579   4.40977e-05\n",
      "41.1019      25707         0   2.97038e-16       2.72015   4.42212e-05\n",
      "41.0757      24754.5       0   1.11697e-16       2.69991   4.43531e-05\n",
      "41.0546      23604.6       0   2.85174e-17       2.68347   4.44632e-05\n",
      "***Warning: Zero alpha-matrix diagonal element for parameter 1\n",
      " Parameter 1 is pegged at 2.85174e-17 due to zero or negative pivot element, likely\n",
      " caused by the fit being insensitive to the parameter.\n",
      "40.8361      33953.7       0   2.85174e-17       2.44161   4.56249e-05\n",
      "-055674      22274.7      -1   2.85174e-17       2.04409   4.75964e\n",
      "40.4303      10384.4      -2   2.85174e-17       1.79463   4.91837e-05\n",
      "40.3374      4035.05      -3   2.85174e-17       1.61842   5.04639e-05\n",
      "40.2668      2675         -4   2.85174e-17       1.48522   5.16425e-05\n",
      "40.2045      1936.78      -5   2.85174e-17       1.37544   5.27866e-05\n",
      "40.1293      1685.45      -6   2.85174e-17       1.27596   5.40068e-05\n",
      "40.0154      2587.8       -7   2.85174e-17       1.15782   5.58687e-05\n",
      "39.8793      2963.65      -8   2.85174e-17       1.04808   5.80459e-05\n",
      "39.6937      3390.67      -9   2.85174e-17      0.934121   6.08904e-05\n",
      "39.4554      4546.31     -10   2.85174e-17      0.828186   6.44011e-05\n",
      "39.1258      5454.66     -11   2.85174e-17      0.723554   6.89990e-05\n",
      "38.6862      7006.88     -12   2.85174e-17      0.623709   7.50911e-05\n",
      "38.0665      8606.69     -13   2.85174e-17      0.533280   8.30146e-05\n",
      "37.5302      9333.55     -14   2.85174e-17      0.459718   9.26769e-05\n",
      "37.0631      9222.44     -15   2.85174e-17      0.404132   0.000103355\n",
      "36.6815      9396.35     -16   2.85174e-17      0.362905   0.000115334\n",
      "36.4483      5577.99     -17   2.85174e-17      0.334484   0.000125791\n",
      "36.3133      3199.51     -18   2.85174e-17      0.314774   0.000134438\n",
      "36.2374      1760.22     -19   2.85174e-17      0.300916   0.000141332\n",
      "36.1958      943.955     -20   2.85174e-17      0.291169   0.000146636\n",
      "36.173       504.887     -21   2.85174e-17      0.284203   0.000150680\n",
      "36.1605      267.905     -22   2.85174e-17      0.279225   0.000153710\n",
      "36.1532      141.142     -23   2.85174e-17      0.275274   0.000156190\n",
      "36.1498      86.3278     -24   2.85174e-17      0.272800   0.000157800\n",
      "36.148       36.7067     -25   2.85174e-17      0.271022   0.000158969\n",
      "36.1465      19.8709     -26   2.85174e-17      0.268779   0.000160450\n",
      "36.1462      36.5968     -27   2.85174e-17      0.268063   0.000160954\n",
      "36.146       3.03364     -28   2.85174e-17      0.267560   0.000161296\n",
      "36.1459      1.50787     -29   2.85174e-17      0.267209   0.000161536\n",
      "36.1459      34.879        4   2.81136e-18      0.267209   0.000161536\n",
      "========================================\n",
      " Variances and Principal Axes\n",
      "                 1        2        3  \n",
      " 3.2060E-10| -0.0011   0.0007   1.0000  \n",
      " 1.6897E-04|  0.9819   0.1894   0.0009  \n",
      " 8.5824E-03| -0.1894   0.9819  -0.0009  \n",
      "----------------------------------------\n",
      "\n",
      "====================================\n",
      "  Covariance Matrix\n",
      "        1           2           3   \n",
      "   4.708e-04  -1.565e-03   1.584e-06\n",
      "  -1.565e-03   8.280e-03  -7.366e-06\n",
      "   1.584e-06  -7.366e-06   7.085e-09\n",
      "------------------------------------\n",
      "\n",
      "========================================================================\n",
      "Model TBabs<1>*bremss<2> Source No.: 1   Active/On\n",
      "Model Model Component  Parameter  Unit     Value\n",
      " par  comp\n",
      "   1    1   TBabs      nH         10^22    2.81136E-18  +/-  2.16987E-02  \n",
      "   2    2   bremss     kT         keV      0.267209     +/-  9.09972E-02  \n",
      "   3    2   bremss     norm                1.61536E-04  +/-  8.41702E-05  \n",
      "________________________________________________________________________\n",
      "\n",
      "\n",
      "Fit statistic  : Chi-Squared                 36.1459     using 5 bins.\n",
      "\n",
      "Test statistic : Chi-Squared                 36.1459     using 5 bins.\n",
      " Null hypothesis probability of 1.4158e-08 with 2 degrees of freedom\n"
     ]
    }
   ],
   "source": [
    "AllModels.clear()\n",
    "mo = Model(\"tbabs*bremss\")\n",
    "Fit.perform()\n",
    "Plot.device = \"/xs\"\n",
    "Plot(\"data resid\")"
   ]
  },
  {
   "cell_type": "code",
   "execution_count": 8,
   "id": "5a01f0db-125c-4088-93f6-bd89994faa69",
   "metadata": {},
   "outputs": [
    {
     "data": {
      "text/plain": [
       "(-0.5, 861.5, 661.5, -0.5)"
      ]
     },
     "execution_count": 8,
     "metadata": {},
     "output_type": "execute_result"
    },
    {
     "data": {
      "image/png": "[encoded data removed]",
      "text/plain": [
       "<Figure size 1200x700 with 1 Axes>"
      ]
     },
     "metadata": {},
     "output_type": "display_data"
    }
   ],
   "source": [
    "img = plt.imread(glob.glob('ObsID*_SRCNUM*_E*_Spectrum_bremss.png')[0])\n",
    "plt.imshow(img)\n",
    "plt.axis('off')"
   ]
  },
  {
   "cell_type": "markdown",
   "id": "3edcca3a-8165-4c61-80ed-0b4b4087c8c3",
   "metadata": {},
   "source": [
    "### Apec model"
   ]
  },
  {
   "cell_type": "code",
   "execution_count": 9,
   "id": "629f01ff-336d-445c-8328-31a864f052a1",
   "metadata": {},
   "outputs": [
    {
     "name": "stdout",
     "output_type": "stream",
     "text": [
      "\n",
      "========================================================================\n",
      "Model TBabs<1>*apec<2> Source No.: 1   Active/On\n",
      "Model Model Component  Parameter  Unit     Value\n",
      " par  comp\n",
      "   1    1   TBabs      nH         10^22    1.00000      +/-  0.0          \n",
      "   2    2   apec       kT         keV      1.00000      +/-  0.0          \n",
      "   3    2   apec       Abundanc            1.00000      frozen\n",
      "   4    2   apec       Redshift            0.0          frozen\n",
      "   5    2   apec       norm                1.00000      +/-  0.0          \n",
      "________________________________________________________________________\n",
      "\n",
      "Reading APEC data from 3.0.9\n",
      "\n",
      "\n",
      "Fit statistic  : Chi-Squared              6.581377e+08     using 5 bins.\n",
      "\n",
      "Test statistic : Chi-Squared              6.581377e+08     using 5 bins.\n",
      " Null hypothesis probability of 0.000000e+00 with 2 degrees of freedom\n",
      " Current data and model not fit yet.\n",
      "                                   Parameters\n",
      "Chi-Squared  |beta|/N    Lvl          1:nH          2:kT        5:norm\n",
      "79.9769      2.28091      -2       1.09975       1.12209   0.000277254\n",
      "79.9388      1186.04      -2       1.15548       1.07229   0.000303214\n",
      "79.9273      355.165      -2       1.23809      0.981164   0.000341213\n",
      "79.9189      807.228      -2       1.30322      0.899910   0.000389131\n",
      "79.8837      980.653      -2       1.34977      0.812724   0.000455763\n",
      "79.8473      746.189      -2       1.37214      0.758902   0.000514276\n",
      "79.8359      304.789      -2       1.38783      0.724862   0.000558418\n",
      "79.8322      132.736      -2       1.39697      0.705826   0.000586823\n",
      "79.8303      50.6188      -2       1.40452      0.689720   0.000610962\n",
      "79.8295      35.1735      -2       1.41086      0.676844   0.000631655\n",
      "79.8293      34.7651      -2       1.41278      0.673310   0.000638754\n",
      "79.8292      3.95242      -2       1.41441      0.669919   0.000644545\n",
      "========================================\n",
      " Variances and Principal Axes\n",
      "                 1        2        5  \n",
      " 1.0825E-08| -0.0009   0.0012   1.0000  \n",
      " 3.3149E-02|  0.9017   0.4323   0.0003  \n",
      " 5.5521E+03| -0.4323   0.9017  -0.0015  \n",
      "----------------------------------------\n",
      "\n",
      "====================================\n",
      "  Covariance Matrix\n",
      "        1           2           3   \n",
      "   1.038e+03  -2.164e+03   3.648e+00\n",
      "  -2.164e+03   4.515e+03  -7.609e+00\n",
      "   3.648e+00  -7.609e+00   1.282e-02\n",
      "------------------------------------\n",
      "\n",
      "========================================================================\n",
      "Model TBabs<1>*apec<2> Source No.: 1   Active/On\n",
      "Model Model Component  Parameter  Unit     Value\n",
      " par  comp\n",
      "   1    1   TBabs      nH         10^22    1.41441      +/-  32.2116      \n",
      "   2    2   apec       kT         keV      0.669919     +/-  67.1906      \n",
      "   3    2   apec       Abundanc            1.00000      frozen\n",
      "   4    2   apec       Redshift            0.0          frozen\n",
      "   5    2   apec       norm                6.44545E-04  +/-  0.113244     \n",
      "________________________________________________________________________\n",
      "\n",
      "\n",
      "Fit statistic  : Chi-Squared                 79.8292     using 5 bins.\n",
      "\n",
      "Test statistic : Chi-Squared                 79.8292     using 5 bins.\n",
      " Null hypothesis probability of 4.6272e-18 with 2 degrees of freedom\n"
     ]
    }
   ],
   "source": [
    "AllModels.clear()\n",
    "mo = Model(\"tbabs*apec\")\n",
    "Fit.perform()\n",
    "Plot.device = \"/xs\"\n",
    "Plot(\"data resid\")"
   ]
  },
  {
   "cell_type": "code",
   "execution_count": 11,
   "id": "390919ae-47f5-49fe-9876-3bcf74b2d2fb",
   "metadata": {},
   "outputs": [
    {
     "data": {
      "text/plain": [
       "(-0.5, 859.5, 662.5, -0.5)"
      ]
     },
     "execution_count": 11,
     "metadata": {},
     "output_type": "execute_result"
    },
    {
     "data": {
      "image/png": "[encoded data removed]",
      "text/plain": [
       "<Figure size 1200x700 with 1 Axes>"
      ]
     },
     "metadata": {},
     "output_type": "display_data"
    }
   ],
   "source": [
    "img = plt.imread(glob.glob('ObsID*_SRCNUM*_E*_Spectrum_apec.png')[0])\n",
    "plt.imshow(img)\n",
    "plt.axis('off')"
   ]
  },
  {
   "cell_type": "markdown",
   "id": "9f19aeb6-3c27-44a9-8ad3-a2eb2777e421",
   "metadata": {},
   "source": [
    "### Powerlaw model"
   ]
  },
  {
   "cell_type": "code",
   "execution_count": 12,
   "id": "85b08776-73cd-4f36-a843-c34effff4655",
   "metadata": {},
   "outputs": [
    {
     "name": "stdout",
     "output_type": "stream",
     "text": [
      "\n",
      "========================================================================\n",
      "Model TBabs<1>*powerlaw<2> Source No.: 1   Active/On\n",
      "Model Model Component  Parameter  Unit     Value\n",
      " par  comp\n",
      "   1    1   TBabs      nH         10^22    1.00000      +/-  0.0          \n",
      "   2    2   powerlaw   PhoIndex            1.00000      +/-  0.0          \n",
      "   3    2   powerlaw   norm                1.00000      +/-  0.0          \n",
      "________________________________________________________________________\n",
      "\n",
      "\n",
      "Fit statistic  : Chi-Squared              2.612891e+10     using 5 bins.\n",
      "\n",
      "Test statistic : Chi-Squared              2.612891e+10     using 5 bins.\n",
      " Null hypothesis probability of 0.000000e+00 with 2 degrees of freedom\n",
      " Current data and model not fit yet.\n",
      "                                   Parameters\n",
      "Chi-Squared  |beta|/N    Lvl          1:nH    2:PhoIndex        3:norm\n",
      "85.8495      1.13526      -1      0.230568       1.46545   2.08205e-05\n",
      "73.5036      168658       -1     0.0609689       1.08598   1.88691e-05\n",
      "63.0462      190969        0     0.0184989       1.14580   2.09961e-05\n",
      "55.4287      183715        0    0.00469985       1.22623   2.20965e-05\n",
      "48.8074      196835        0   0.000363324       1.32646   2.34155e-05\n",
      "42.9123      199650        0   0.000153011       1.46584   2.55787e-05\n",
      "38.0012      171531        0   3.54588e-05       1.59163   2.71759e-05\n",
      "34.5756      143504        0   1.77173e-05       1.69352   2.81241e-05\n",
      "32.2933      119070        0   5.20118e-06       1.77095   2.85383e-05\n",
      "30.7653      101614        0   3.80657e-07       1.83028   2.86257e-05\n",
      "29.7026      90258.2       0   1.32001e-07       1.87697   2.85323e-05\n",
      "28.9194      83380.7       0   2.44117e-08       1.91488   2.83484e-05\n",
      "28.3152      79425         0   4.44411e-10       1.94654   2.81256e-05\n",
      "27.8317      77228.2       0   1.03926e-10       1.97358   2.78912e-05\n",
      "27.4335      76051.7       0   2.54143e-11       1.99709   2.76592e-05\n",
      "27.0986      75452.7       0   7.11616e-12       2.01779   2.74365e-05\n",
      "26.8122      75175.2       0   2.81609e-12       2.03622   2.72258e-05\n",
      "26.5643      75075         0   7.81802e-13       2.05275   2.70282e-05\n",
      "26.3471      75070.5       0   2.97755e-13       2.06766   2.68443e-05\n",
      "26.1557      75088.3       0   6.64489e-14       2.08119   2.66732e-05\n",
      "25.983       75120.8       0   1.07974e-14       2.09365   2.65142e-05\n",
      "25.8326      75080.9       0   4.29896e-15       2.10554   2.63371e-05\n",
      "25.7004      75911.6       0   9.97795e-16       2.11505   2.62255e-05\n",
      "25.6246      75345.3       0   2.15847e-16       2.12304   2.60583e-05\n",
      "25.4609      77688.2       0   2.01384e-17       2.13203   2.60454e-05\n",
      "25.2819      73384.1       0   8.77879e-18       2.14237   2.60216e-05\n",
      "25.1601      68601.3       0   1.96604e-18       2.15077   2.59532e-05\n",
      "***Warning: Zero alpha-matrix diagonal element for parameter 1\n",
      " Parameter 1 is pegged at 1.96604e-18 due to zero or negative pivot element, likely\n",
      " caused by the fit being insensitive to the parameter.\n",
      "23.4796      99808        -1   1.96604e-18       2.29654   2.51793e-05\n",
      "22.9237      10982.2      -2   1.96604e-18       2.39885   2.30533e-05\n",
      "22.7676      3324.39      -3   1.96604e-18       2.45581   2.19635e-05\n",
      "22.7328      1340.89      -4   1.96604e-18       2.48307   2.14352e-05\n",
      "22.7256      389.294      -5   1.96604e-18       2.49554   2.11911e-05\n",
      "22.7241      91.0916      -6   1.96604e-18       2.50115   2.10806e-05\n",
      "22.7238      19.4344      -7   1.96604e-18       2.50364   2.10313e-05\n",
      "  3.96008      -8   1.96604e-18       2.50475   2.10093e-05\n",
      "***Warning: Zero alpha-matrix diagonal element for parameter 1\n",
      " Parameter 1 is pegged at 1.96604e-18 due to zero or negative pivot element, likely\n",
      " caused by the fit being insensitive to the parameter.\n",
      "22.7237      0.789643     -3   1.96604e-18       2.50524   2.09996e-05\n",
      "==============================\n",
      " Variances and Principal Axes\n",
      "                 2        3  \n",
      " 4.6554E-12|  0.0000   1.0000  \n",
      " 3.1349E-02|  1.0000  -0.0000  \n",
      "------------------------------\n",
      "\n",
      "========================\n",
      "  Covariance Matrix\n",
      "        1           2   \n",
      "   3.135e-02  -6.221e-07\n",
      "  -6.221e-07   1.700e-11\n",
      "------------------------\n",
      "\n",
      "========================================================================\n",
      "Model TBabs<1>*powerlaw<2> Source No.: 1   Active/On\n",
      "Model Model Component  Parameter  Unit     Value\n",
      " par  comp\n",
      "   1    1   TBabs      nH         10^22    1.96604E-18  +/-  -1.00000     \n",
      "   2    2   powerlaw   PhoIndex            2.50524      +/-  0.177056     \n",
      "   3    2   powerlaw   norm                2.09996E-05  +/-  4.12318E-06  \n",
      "________________________________________________________________________\n",
      "\n",
      "\n",
      "Fit statistic  : Chi-Squared                 22.7237     using 5 bins.\n",
      "\n",
      "Test statistic : Chi-Squared                 22.7237     using 5 bins.\n",
      " Null hypothesis probability of 1.1631e-05 with 2 degrees of freedom\n"
     ]
    }
   ],
   "source": [
    "AllModels.clear()\n",
    "mo = Model(\"tbabs*powerlaw\")\n",
    "Fit.perform()\n",
    "Plot.device = \"/xs\"\n",
    "Plot(\"data resid\")"
   ]
  },
  {
   "cell_type": "code",
   "execution_count": 13,
   "id": "08ed2434-c41d-4349-9de0-d2e51a747b34",
   "metadata": {},
   "outputs": [
    {
     "data": {
      "text/plain": [
       "(-0.5, 862.5, 665.5, -0.5)"
      ]
     },
     "execution_count": 13,
     "metadata": {},
     "output_type": "execute_result"
    },
    {
     "data": {
      "image/png": "[encoded data removed]",
      "text/plain": [
       "<Figure size 1200x700 with 1 Axes>"
      ]
     },
     "metadata": {},
     "output_type": "display_data"
    }
   ],
   "source": [
    "img = plt.imread(glob.glob('ObsID*_SRCNUM*_E*_Spectrum_powerlaw.png')[0])\n",
    "plt.imshow(img)\n",
    "plt.axis('off')"
   ]
  },
  {
   "cell_type": "markdown",
   "id": "c404b996-c273-4f68-a4b2-5b526c4027e0",
   "metadata": {},
   "source": [
    "## Flux"
   ]
  },
  {
   "cell_type": "code",
   "execution_count": 14,
   "id": "7509b2e9-7ca8-4af4-a044-6e88fd3e45c6",
   "metadata": {},
   "outputs": [
    {
     "name": "stdout",
     "output_type": "stream",
     "text": [
      " Model Flux 0.00015697 photons (1.3119e-13 ergs/cm^2/s) range (0.20000 - 12.000 keV)\n"
     ]
    }
   ],
   "source": [
    "AllModels.calcFlux(\".2 12.0\")"
   ]
  },
  {
   "cell_type": "code",
   "execution_count": 15,
   "id": "188f0c9e-abca-407f-b959-8fd675cb4e61",
   "metadata": {},
   "outputs": [],
   "source": [
    "Flux = 1.3119e-13 # ergs/cm^2/s"
   ]
  },
  {
   "cell_type": "markdown",
   "id": "80ca441e-c01d-4098-909e-433bf8b19c1a",
   "metadata": {},
   "source": [
    "### ESASky\n",
    "There are two EPIC Stack pointers on two extremely close sources: one green and one blue. Additionally, GAIA's pointer is near the blue source. Changing the wavelength does not reveal any other sources. https://sky.esa.int/esasky/?target=53.854416666666665%20-27.61488888888889&hips=DSS2+color&fov=1&projection=SIN&cooframe=J2000&sci=true&lang=fr\n",
    "\n",
    "**Green source**\n",
    "\n",
    "``EPIC Stack``\n",
    "- Stack Catalogue name : 4XMMs J033524.9-273655\n",
    "- IAU name : 4XMM J033524.9-273655\n",
    "- RA : 03h 35m 24.952s\n",
    "- DEC : -27° 36' 55.67\"\n",
    "\n",
    "**Blue source**\n",
    "\n",
    "``EPIC Stack``\n",
    "- Stack Catalogue name : 4XMMs J033523.4-273644\n",
    "- IAU name : 4XMM J033523.3-273644\n",
    "- RA : 03h 35m 23.398s\n",
    "- DEC : -27° 36' 44.79\"\n",
    "\n",
    "``GAIA``\n",
    "- Designation : Gaia DR3 5081491054756743936\n",
    "- RA : 03h 35m 22.569s\n",
    "- DEC : -27° 36' 43.28\""
   ]
  },
  {
   "cell_type": "markdown",
   "id": "a795f6f5-db41-4d8f-88db-605ec3106cbb",
   "metadata": {},
   "source": [
    "### Luminosity\n",
    "No distance or parallax is available on ESASky."
   ]
  }
 ],
 "metadata": {
  "kernelspec": {
   "display_name": "Python [conda env:base] *",
   "language": "python",
   "name": "conda-base-py"
  },
  "language_info": {
   "codemirror_mode": {
    "name": "ipython",
    "version": 3
   },
   "file_extension": ".py",
   "mimetype": "text/x-python",
   "name": "python",
   "nbconvert_exporter": "python",
   "pygments_lexer": "ipython3",
   "version": "3.12.3"
  }
 },
 "nbformat": 4,
 "nbformat_minor": 5
}
