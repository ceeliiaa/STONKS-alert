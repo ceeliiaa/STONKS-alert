{
 "cells": [
  {
   "cell_type": "markdown",
   "id": "a09472f9-b7b4-4047-9978-0b5adf3b464f",
   "metadata": {},
   "source": [
    "# ObsID : 0945020136, SRCNUM : 4, Instru : EMOS1\n",
    "**Simbad :** Galaxy (2dFGRS TGS322Z047) https://simbad.cds.unistra.fr/simbad/sim-id?Ident=%404738151&Name=2dFGRS%20TGS322Z047&submit=submit"
   ]
  },
  {
   "cell_type": "markdown",
   "id": "886747e8-8e90-4fb7-9dd9-6515ec828b1d",
   "metadata": {},
   "source": [
    "## ESASky\n",
    "\n",
    "https://sky.esa.int/esasky/?target=52.97008333333333%20-28.304833333333328&hips=XMM-Newton+EPIC+color&fov=1&projection=SIN&cooframe=J2000&sci=true&lang=fr\n",
    "\n",
    "``EPIC Stack``\n",
    "\n",
    "- Stack Catalogue name : 4XMMs J033152.7-281818\n",
    "- IAU name : 4XMM J033152.7-281818\n",
    "- RA : 03h 31m 52.751s\n",
    "- DEC : -28° 18' 18.16\"\n",
    "\n",
    "``GAIA``\n",
    "\n",
    "- Designation : Gaia DR3 5057378691743871360\n",
    "- RA : 03h 31m 52.742s\n",
    "- DEC : -28° 18' 18.52\"\n",
    "- Parallax : -0.7065 mas\n",
    "- Magnitude G (mag) : 19.6328\n",
    "\n",
    "``GLADE``\n",
    "\n",
    "- No : 2 124 866\n",
    "- RA : 03h 31m 52.754s\n",
    "- DEC : -28° 18' 18.08\"\n",
    "- Distance : 289.8972 Mpc\n",
    "\n",
    "``2MASS``\n",
    "\n",
    "- Name : 03315275-2818185\n",
    "- RA : 03h 31m 52.751s\n",
    "- DEC : -28° 18' 18.57\""
   ]
  },
  {
   "cell_type": "code",
   "execution_count": 1,
   "id": "311ae079-ccd8-41c3-aac4-08c99f67b431",
   "metadata": {},
   "outputs": [
    {
     "name": "stdout",
     "output_type": "stream",
     "text": [
      "Default fit statistic is set to: Chi-Squared\n",
      "   This will apply to all current and newly loaded spectra.\n",
      "Parameter delta values for fits will now be 0.0001 * parValue\n"
     ]
    }
   ],
   "source": [
    "from xspec import *\n",
    "from stingray import Lightcurve\n",
    "from astropy.io import fits\n",
    "import matplotlib.pyplot as plt\n",
    "import matplotlib.image as mpimg\n",
    "import glob\n",
    "import numpy as np\n",
    "\n",
    "class color:\n",
    "   PURPLE = '\\033[95m'\n",
    "   CYAN = '\\033[96m'\n",
    "   DARKCYAN = '\\033[36m'\n",
    "   BLUE = '\\033[94m'\n",
    "   GREEN = '\\033[92m'\n",
    "   YELLOW = '\\033[93m'\n",
    "   RED = '\\033[91m'\n",
    "   BOLD = '\\033[1m'\n",
    "   UNDERLINE = '\\033[4m'\n",
    "   END = '\\033[0m'\n",
    "\n",
    "plt.rcParams['figure.figsize'] = [12,7]\n",
    "\n",
    "Fit.statMethod = \"chi\"\n",
    "Fit.nIterations = 100000\n",
    "Fit.delta = 1e-4\n",
    "Fit.criticalDelta = 1e-4"
   ]
  },
  {
   "cell_type": "markdown",
   "id": "37151cf8-ce37-4a30-b526-db09562274ba",
   "metadata": {},
   "source": [
    "### Redshift"
   ]
  },
  {
   "cell_type": "code",
   "execution_count": 2,
   "id": "1afc8cec-e750-4678-8d60-f892ecbd6e9a",
   "metadata": {},
   "outputs": [
    {
     "name": "stdout",
     "output_type": "stream",
     "text": [
      "Redshift : z = 0.06768950805293442\n"
     ]
    }
   ],
   "source": [
    "def redshift(d_Mpc):\n",
    "    H0 = 70 # Hubble constant (km/s/Mpc)\n",
    "    c = 299792.458 # km/s\n",
    "    return H0*d_Mpc/c\n",
    "\n",
    "z = redshift(289.8972)\n",
    "print(\"Redshift : z =\", z)"
   ]
  },
  {
   "cell_type": "markdown",
   "id": "39b7d9d2-7930-4892-81ba-8bd2db47e610",
   "metadata": {},
   "source": [
    "## Load files"
   ]
  },
  {
   "cell_type": "code",
   "execution_count": 3,
   "id": "cd0bcd6f-9565-4899-90b7-1e5d87e7050a",
   "metadata": {},
   "outputs": [
    {
     "name": "stdout",
     "output_type": "stream",
     "text": [
      "***Warning: Detected response matrix energy bin value = 0 (or neg).\n",
      "     XSPEC will instead use small finite value (response file will not be altered).\n",
      "\n",
      "1 spectrum  in use\n",
      " \n",
      "Spectral Data File: ObsID0945020136_SRCNUM4_EMOS1_spectrum_grp.fits  Spectrum 1\n",
      "Net count rate (cts/s) for Spectrum:1  6.826e-03 +/- 1.295e-03 (64.0 % total)\n",
      " Assigned to Data Group 1 and Plot Group 1\n",
      "  Noticed Channels:  1-3\n",
      "  Telescope: XMM Instrument: EMOS1  Channel Type: PI\n",
      "  Exposure Time: 7689 sec\n",
      " Using fit statistic: chi\n",
      " Using Background File                ObsID0945020136_SRCNUM4_EMOS1_background_spectrum.fits\n",
      "  Background Exposure Time: 7686 sec\n",
      " Using Response (RMF) File            ObsID0945020136_SRCNUM4_EMOS1.rmf for Source 1\n",
      " Using Auxiliary Response (ARF) File  ObsID0945020136_SRCNUM4_EMOS1.arf\n",
      "\n"
     ]
    },
    {
     "data": {
      "text/plain": [
       "<xspec.spectrum.Spectrum at 0x7fd7ac3c8c40>"
      ]
     },
     "execution_count": 3,
     "metadata": {},
     "output_type": "execute_result"
    }
   ],
   "source": [
    "Spectrum(glob.glob('ObsID*_SRCNUM*_E*_spectrum_grp.fits')[0])"
   ]
  },
  {
   "cell_type": "code",
   "execution_count": 4,
   "id": "59b8c11f-d597-48f2-be46-6134b17bdb8a",
   "metadata": {},
   "outputs": [
    {
     "name": "stdout",
     "output_type": "stream",
     "text": [
      "Number of counts = 52.485113999999996\n",
      "\n",
      "The low number of counts indicates that we should consider using cstat fit statistic instead of chi statistic.\n"
     ]
    }
   ],
   "source": [
    "n_cts = 6.826e-03*7689\n",
    "\n",
    "print(\"Number of counts =\",n_cts)\n",
    "\n",
    "if int(n_cts)<100:\n",
    "    print()\n",
    "    print(\"The low number of counts indicates that we should consider using cstat fit statistic instead of chi statistic.\")"
   ]
  },
  {
   "cell_type": "markdown",
   "id": "870eec10-27a5-4341-a01c-4a98ac400133",
   "metadata": {},
   "source": [
    "## Plot spectrum"
   ]
  },
  {
   "cell_type": "code",
   "execution_count": 5,
   "id": "37f98bf3-3d31-4c65-891f-3ea006da7786",
   "metadata": {},
   "outputs": [],
   "source": [
    "Plot.xAxis=\"keV\"\n",
    "Plot.device = \"/xs\"\n",
    "Plot.xLog=True\n",
    "Plot.yLog=True\n",
    "#Plot.addCommand(\"Rescale Y 0.00001 0.005\")\n",
    "Plot(\"data\")"
   ]
  },
  {
   "cell_type": "code",
   "execution_count": 6,
   "id": "27bf0415-368d-4476-8ef7-29af925b48ee",
   "metadata": {},
   "outputs": [
    {
     "data": {
      "text/plain": [
       "(-0.5, 859.5, 665.5, -0.5)"
      ]
     },
     "execution_count": 6,
     "metadata": {},
     "output_type": "execute_result"
    },
    {
     "data": {
      "image/png": "[encoded data removed]",
      "text/plain": [
       "<Figure size 1200x700 with 1 Axes>"
      ]
     },
     "metadata": {},
     "output_type": "display_data"
    }
   ],
   "source": [
    "img = plt.imread(glob.glob('ObsID*_SRCNUM*_E*_Spectrum.png')[0])\n",
    "plt.imshow(img)\n",
    "plt.axis('off')"
   ]
  },
  {
   "cell_type": "markdown",
   "id": "7eb1edda-21f0-4876-bdbc-8cb3e4a347dc",
   "metadata": {},
   "source": [
    "### Black body model\n",
    "**tbabs :**"
   ]
  },
  {
   "cell_type": "code",
   "execution_count": 6,
   "id": "25e94b4e-0bb6-439e-af07-e82ebf0faa48",
   "metadata": {},
   "outputs": [
    {
     "name": "stdout",
     "output_type": "stream",
     "text": [
      "\n",
      "========================================================================\n",
      "Model TBabs<1>*bbody<2> Source No.: 1   Active/On\n",
      "Model Model Component  Parameter  Unit     Value\n",
      " par  comp\n",
      "   1    1   TBabs      nH         10^22    1.00000      +/-  0.0          \n",
      "   2    2   bbody      kT         keV      3.00000      +/-  0.0          \n",
      "   3    2   bbody      norm                1.00000      +/-  0.0          \n",
      "________________________________________________________________________\n",
      "\n",
      "tbvabs Version 2.3\n",
      "Cosmic absorption with grains and H2, modified from\n",
      "Wilms, Allen, & McCray, 2000, ApJ 542, 914-924\n",
      "Questions: Joern Wilms\n",
      "joern.wilms@sternwarte.uni-erlangen.de\n",
      "joern.wilms@fau.de\n",
      "\n",
      "http://pulsar.sternwarte.uni-erlangen.de/wilms/research/tbabs/\n",
      "\n",
      "PLEASE NOTICE:\n",
      "To get the model described by the above paper\n",
      "you will also have to set the abundances:\n",
      "   abund wilm\n",
      "\n",
      "Note that this routine ignores the current cross section setting\n",
      "as it always HAS to use the Verner cross sections as a baseline.\n",
      "\n",
      "Fit statistic  : Chi-Squared              1.041547e+11     using 3 bins.\n",
      "\n",
      "Test statistic : Chi-Squared              1.041547e+11     using 3 bins.\n",
      " Cannot calculate null hypothesis probability.\n",
      " Current data and model not fit yet.\n",
      "                                   Parameters\n",
      "Chi-Squared  |beta|/N    Lvl          1:nH          2:kT        3:norm\n",
      "17.2781      0.305647      0      0.104719       3.14915   9.11455e-06\n",
      "17.0775      85712.7       0     0.0196978       3.14829   8.70904e-06\n",
      "16.701       104181        0    0.00341814       3.07986   8.67090e-06\n",
      "16.4485      97253.5       0   1.43389e-05       3.01661   8.59555e-06\n",
      "16.3062      90279.1       0   2.17429e-06       2.96463   8.45154e-06\n",
      "16.2151      87106.8       0   7.09667e-07       2.91953   8.26518e-06\n",
      "16.1406      86988.6       0   3.52364e-07       2.87657   8.06363e-06\n",
      "16.07        88151.7       0   2.15499e-09       2.83396   7.85692e-06\n",
      "15.9986      89874.3       0   8.12625e-10       2.79101   7.64872e-06\n",
      "15.9241      91878.1       0   1.54098e-10       2.74739   7.44043e-06\n",
      "15.8456      94041.9       0   7.33919e-11       2.70297   7.23242e-06\n",
      "15.7624      96342.1       0   3.38799e-11       2.65766   7.02468e-06\n",
      "15.6736      98778.5       0   1.45559e-11       2.61136   6.81751e-06\n",
      "15.5804      101330        0   5.12340e-12       2.56419   6.60965e-06\n",
      "15.4662      104163        0   4.91708e-13       2.51423   6.41192e-06\n",
      "15.4122      105765        0   2.09637e-13       2.47267   6.18308e-06\n",
      "15.2463      113575        0   7.20904e-14       2.41377   5.99026e-06\n",
      "14.9696      112903        0   1.34402e-14       2.34106   5.85622e-06\n",
      "14.8394      100032        0   3.08356e-15       2.31902   5.90167e-06\n",
      "14.4106      85127         0   3.80318e-16       2.21182   5.84220e-06\n",
      "12.5646      37936.1      -1   1.71718e-16       1.67338   3.52161e-06\n",
      "5.60714      210501       -1   5.89186e-17      0.823116   1.47523e-06\n",
      "0.676794     1.45617e+06   0   4.67113e-18      0.656907   1.72429e-06\n",
      "***Warning: Zero alpha-matrix diagonal element for parameter 1\n",
      " Parameter 1 is pegged at 4.67113e-18 due to zero or negative pivot element, likely\n",
      " caused by the fit being insensitive to the parameter.\n",
      "0.431225     707172       -1   4.67113e-18      0.641713   1.84328e-06\n",
      "0.429404     37366.1      -2   4.67113e-18      0.645837   1.86259e-06\n",
      "0.429399     1198.64      -3   4.67113e-18      0.645552   1.86210e-06\n",
      "***Warning: Zero alpha-matrix diagonal element for parameter 1\n",
      " Parameter 1 is pegged at 4.67113e-18 due to zero or negative pivot element, likely\n",
      " caused by the fit being insensitive to the parameter.\n",
      "0.429399     2.86022      -3   4.67113e-18      0.645581   1.86218e-06\n",
      "==============================\n",
      " Variances and Principal Axes\n",
      "                 2        3  \n",
      " 1.1492E-13| -0.0000   1.0000  \n",
      " 1.3894E-02|  1.0000   0.0000  \n",
      "------------------------------\n",
      "\n",
      "========================\n",
      "  Covariance Matrix\n",
      "        1           2   \n",
      "   1.389e-02   3.722e-08\n",
      "   3.722e-08   2.146e-13\n",
      "------------------------\n",
      "\n",
      "========================================================================\n",
      "Model TBabs<1>*bbody<2> Source No.: 1   Active/On\n",
      "Model Model Component  Parameter  Unit     Value\n",
      " par  comp\n",
      "   1    1   TBabs      nH         10^22    4.67113E-18  +/-  -1.00000     \n",
      "   2    2   bbody      kT         keV      0.645581     +/-  0.117875     \n",
      "   3    2   bbody      norm                1.86218E-06  +/-  4.63299E-07  \n",
      "________________________________________________________________________\n",
      "\n",
      "\n",
      "Fit statistic  : Chi-Squared                  0.4294     using 3 bins.\n",
      "\n",
      "Test statistic : Chi-Squared                  0.4294     using 3 bins.\n",
      " Cannot calculate null hypothesis probability.\n"
     ]
    },
    {
     "name": "stderr",
     "output_type": "stream",
     "text": [
      "GammQ: A <=  0\n",
      "GammQ: A <=  0\n"
     ]
    }
   ],
   "source": [
    "AllModels.clear()\n",
    "mo = Model(\"tbabs*bbody\")\n",
    "Fit.perform()\n",
    "Plot.device = \"/xs\"\n",
    "Plot(\"data resid\")\n",
    "plt.show()\n",
    "nH_bbody = mo.TBabs.nH.values[0]"
   ]
  },
  {
   "cell_type": "code",
   "execution_count": 6,
   "id": "f2d55c50-94dd-468d-bf08-69bca0b63260",
   "metadata": {},
   "outputs": [
    {
     "data": {
      "text/plain": [
       "(-0.5, 852.5, 660.5, -0.5)"
      ]
     },
     "execution_count": 6,
     "metadata": {},
     "output_type": "execute_result"
    },
    {
     "data": {
      "image/png": "[encoded data removed]",
      "text/plain": [
       "<Figure size 1200x700 with 1 Axes>"
      ]
     },
     "metadata": {},
     "output_type": "display_data"
    }
   ],
   "source": [
    "img = plt.imread(glob.glob('ObsID*_SRCNUM*_E*_Spectrum_bbody.png')[0])\n",
    "plt.imshow(img)\n",
    "plt.axis('off')"
   ]
  },
  {
   "cell_type": "markdown",
   "id": "6c1cd75e-8156-48af-bcf7-14a875cb8ff0",
   "metadata": {},
   "source": [
    "**ztbabs :**"
   ]
  },
  {
   "cell_type": "code",
   "execution_count": 7,
   "id": "dde4995e-24e2-40cd-802e-6229c0c97699",
   "metadata": {},
   "outputs": [
    {
     "name": "stdout",
     "output_type": "stream",
     "text": [
      "\n",
      "========================================================================\n",
      "Model zTBabs<1>*bbody<2> Source No.: 1   Active/On\n",
      "Model Model Component  Parameter  Unit     Value\n",
      " par  comp\n"
     ]
    },
    {
     "name": "stderr",
     "output_type": "stream",
     "text": [
      "GammQ: A <=  0\n",
      "GammQ: A <=  0\n",
      "GammQ: A <=  0\n"
     ]
    },
    {
     "name": "stdout",
     "output_type": "stream",
     "text": [
      "   1    1   zTBabs     nH         10^22    1.00000      +/-  0.0          \n",
      "   2    1   zTBabs     Redshift            0.0          frozen\n",
      "   3    2   bbody      kT         keV      3.00000      +/-  0.0          \n",
      "   4    2   bbody      norm                1.00000      +/-  0.0          \n",
      "________________________________________________________________________\n",
      "\n",
      "\n",
      "Fit statistic  : Chi-Squared              1.041154e+11     using 3 bins.\n",
      "\n",
      "Test statistic : Chi-Squared              1.041154e+11     using 3 bins.\n",
      " Cannot calculate null hypothesis probability.\n",
      " Current data and model not fit yet.\n",
      "\n",
      "Fit statistic  : Chi-Squared              1.075664e+11     using 3 bins.\n",
      "\n",
      "Test statistic : Chi-Squared              1.075664e+11     using 3 bins.\n",
      " Cannot calculate null hypothesis probability.\n",
      " Current data and model not fit yet.\n",
      "                                   Parameters\n",
      "Chi-Squared  |beta|/N    Lvl          1:nH          3:kT        4:norm\n",
      "18.4384      0.303309      0      0.475227       3.15078   9.04444e-06\n",
      "18.2379      78722.9       0      0.164446       3.21706   8.29078e-06\n",
      "17.5788      118659        0     0.0343429       3.16624   8.17857e-06\n",
      "16.8719      124058        0     0.0127670       3.06081   8.32716e-06\n",
      "16.4925      107606        0    0.00429960       2.98514   8.31651e-06\n",
      "16.2743      96739.3       0   0.000609180       2.92583   8.21072e-06\n",
      "16.1399      90887.9       0   0.000183430       2.87490   8.05360e-06\n",
      "16.0454      88304.2       0   8.10561e-05       2.82905   7.86479e-06\n",
      "15.964       88310.5       0   3.11960e-05       2.78478   7.66327e-06\n",
      "15.8855      89519.8       0   6.81467e-06       2.74070   7.45718e-06\n",
      "15.8053      91300.2       0   8.46982e-07       2.69612   7.24970e-06\n",
      "15.7213      93369.8       0   1.16792e-07       2.65082   7.04201e-06\n",
      "15.6318      95635         0   2.75206e-08       2.60451   6.83455e-06\n",
      "15.5364      98018.6       0   5.72088e-09       2.55716   6.62743e-06\n",
      "15.4339      100536        0   4.05065e-10       2.50866   6.42071e-06\n",
      "15.3236      103177        0   8.15617e-11       2.45889   6.21423e-06\n",
      "15.2034      105952        0   2.93752e-12       2.40765   6.00849e-06\n",
      "15.0781      108784        0   5.74267e-13       2.35527   5.79788e-06\n",
      "14.9383      112477        0   2.84168e-13       2.30104   5.58992e-06\n",
      "14.7694      116033        0   1.56804e-14       2.24302   5.38845e-06\n",
      "14.5647      118075       -1   4.17182e-15       1.83366   3.24924e-06\n",
      "3.39302      375548       -1   1.35069e-15      0.760527   1.56059e-06\n",
      "2.17499      1.23283e+06  -2     0.0537187      0.490447   1.74330e-06\n",
      "0.0783917    780802       -3      0.110890      0.572383   1.91843e-06\n",
      "0.000993086  12650.6      -4      0.183395      0.559810   2.02312e-06\n",
      "2.00037e-07  3469.34      -5      0.192956      0.558542   2.03614e-06\n",
      "4.13993e-13  44.0808      -6      0.193098      0.558522   2.03633e-06\n",
      "========================================\n",
      " Variances and Principal Axes\n",
      "                 1        3        4  \n",
      " 1.3547E-13| -0.0000  -0.0000   1.0000  \n",
      " 9.6335E-03| -0.3241  -0.9460  -0.0000  \n",
      " 1.6221E-01|  0.9460  -0.3241   0.0000  \n",
      "----------------------------------------\n",
      "\n",
      "====================================\n",
      "  Covariance Matrix\n",
      "        1           2           3   \n",
      "   1.462e-01  -4.678e-02   1.597e-07\n",
      "  -4.678e-02   2.566e-02  -2.797e-08\n",
      "   1.597e-07  -2.797e-08   3.599e-13\n",
      "------------------------------------\n",
      "\n",
      "========================================================================\n",
      "Model zTBabs<1>*bbody<2> Source No.: 1   Active/On\n",
      "Model Model Component  Parameter  Unit     Value\n",
      " par  comp\n",
      "   1    1   zTBabs     nH         10^22    0.193098     +/-  0.382343     \n",
      "   2    1   zTBabs     Redshift            6.76895E-02  frozen\n",
      "   3    2   bbody      kT         keV      0.558522     +/-  0.160189     \n",
      "   4    2   bbody      norm                2.03633E-06  +/-  5.99896E-07  \n",
      "________________________________________________________________________\n",
      "\n",
      "\n",
      "Fit statistic  : Chi-Squared                   4e-13     using 3 bins.\n",
      "\n",
      "Test statistic : Chi-Squared                   4e-13     using 3 bins.\n",
      " Cannot calculate null hypothesis probability.\n"
     ]
    }
   ],
   "source": [
    "AllModels.clear()\n",
    "moz = Model(\"ztbabs*bbody\")\n",
    "moz.zTBabs.Redshift = z\n",
    "Fit.perform()\n",
    "Plot.device = \"/xs\"\n",
    "Plot(\"data resid\")\n",
    "nH_bbody_z = moz.zTBabs.nH.values[0]"
   ]
  },
  {
   "cell_type": "code",
   "execution_count": 8,
   "id": "47f39116-7678-49b5-b0d3-3e1c8f77bdd5",
   "metadata": {},
   "outputs": [
    {
     "data": {
      "text/plain": [
       "(-0.5, 855.5, 657.5, -0.5)"
      ]
     },
     "execution_count": 8,
     "metadata": {},
     "output_type": "execute_result"
    },
    {
     "data": {
      "image/png": "[encoded data removed]",
      "text/plain": [
       "<Figure size 1200x700 with 1 Axes>"
      ]
     },
     "metadata": {},
     "output_type": "display_data"
    }
   ],
   "source": [
    "img = plt.imread(glob.glob(\"ObsID*SRCNUM*E*Spectrum_bbody_z.png\")[0])\n",
    "plt.imshow(img)\n",
    "plt.axis('off')"
   ]
  },
  {
   "cell_type": "markdown",
   "id": "b77a2e66-8412-4d85-a277-10782493ea2e",
   "metadata": {},
   "source": [
    "### Bremsstrahlung model\n",
    "**tbabs :**"
   ]
  },
  {
   "cell_type": "code",
   "execution_count": 10,
   "id": "3ed606fb-6f75-4369-b9c8-b5c95a0a9577",
   "metadata": {},
   "outputs": [
    {
     "name": "stdout",
     "output_type": "stream",
     "text": [
      "\n",
      "========================================================================\n",
      "Model TBabs<1>*bremss<2> Source No.: 1   Active/On\n",
      "Model Model Component  Parameter  Unit     Value\n",
      " par  comp\n",
      "   1    1   TBabs      nH         10^22    1.00000      +/-  0.0          \n",
      "   2    2   bremss     kT         keV      7.00000      +/-  0.0          \n",
      "   3    2   bremss     norm                1.00000      +/-  0.0          \n",
      "________________________________________________________________________\n",
      "\n",
      "\n",
      "Fit statistic  : Chi-Squared              3.847113e+09     using 3 bins.\n",
      "\n",
      "Test statistic : Chi-Squared              3.847113e+09     using 3 bins.\n",
      " Cannot calculate null hypothesis probability.\n",
      " Current data and model not fit yet.\n",
      "                                   Parameters\n",
      "Chi-Squared  |beta|/N    Lvl          1:nH          2:kT        3:norm\n",
      "3.70346      1.41812      -2      0.229264       4.32572   4.22488e-05\n",
      "2.15188      50251.9      -2      0.486167       1.99468   8.60366e-05\n",
      "0.00164251   23078.7      -3      0.508952       1.99874   0.000118861\n",
      "1.69546e-07  492.662      -4      0.506205       1.98345   0.000119873\n",
      "3.6715e-15   4.67064      -5      0.506263       1.98349   0.000119885\n",
      "========================================\n",
      " Variances and Principal Axes\n",
      "                 1        2        3  \n",
      " 4.6961E-10| -0.0001   0.0000   1.0000  \n",
      " 5.3764E-02|  0.9829   0.1841   0.0001  \n",
      " 2.8475E+00| -0.1841   0.9829  -0.0001  \n",
      "----------------------------------------\n",
      "\n",
      "====================="
     ]
    },
    {
     "name": "stderr",
     "output_type": "stream",
     "text": [
      "GammQ: A <=  0\n",
      "GammQ: A <=  0\n"
     ]
    },
    {
     "name": "stdout",
     "output_type": "stream",
     "text": [
      "===============\n",
      "  Covariance Matrix\n",
      "        1           2           3   \n",
      "   1.485e-01  -5.056e-01   3.915e-05\n",
      "  -5.056e-01   2.753e+00  -1.774e-04\n",
      "   3.915e-05  -1.774e-04   1.268e-08\n",
      "------------------------------------\n",
      "\n",
      "========================================================================\n",
      "Model TBabs<1>*bremss<2> Source No.: 1   Active/On\n",
      "Model Model Component  Parameter  Unit     Value\n",
      " par  comp\n",
      "   1    1   TBabs      nH         10^22    0.506263     +/-  0.385315     \n",
      "   2    2   bremss     kT         keV      1.98349      +/-  1.65915      \n",
      "   3    2   bremss     norm                1.19885E-04  +/-  1.12610E-04  \n",
      "________________________________________________________________________\n",
      "\n",
      "\n",
      "Fit statistic  : Chi-Squared                   4e-15     using 3 bins.\n",
      "\n",
      "Test statistic : Chi-Squared                   4e-15     using 3 bins.\n",
      " Cannot calculate null hypothesis probability.\n"
     ]
    }
   ],
   "source": [
    "AllModels.clear()\n",
    "mo = Model(\"tbabs*bremss\")\n",
    "Fit.perform()\n",
    "Plot.device = \"/xs\"\n",
    "Plot(\"data resid\")\n",
    "nH_bremss = mo.TBabs.nH.values[0]"
   ]
  },
  {
   "cell_type": "code",
   "execution_count": 8,
   "id": "4f360356-063b-4c14-8ea4-029f8abb6085",
   "metadata": {},
   "outputs": [
    {
     "data": {
      "text/plain": [
       "(-0.5, 857.5, 662.5, -0.5)"
      ]
     },
     "execution_count": 8,
     "metadata": {},
     "output_type": "execute_result"
    },
    {
     "data": {
      "image/png": "[encoded data removed]",
      "text/plain": [
       "<Figure size 1200x700 with 1 Axes>"
      ]
     },
     "metadata": {},
     "output_type": "display_data"
    }
   ],
   "source": [
    "img = plt.imread(glob.glob('ObsID*_SRCNUM*_E*_Spectrum_bremss.png')[0])\n",
    "plt.imshow(img)\n",
    "plt.axis('off')"
   ]
  },
  {
   "cell_type": "markdown",
   "id": "fab1d7f8-5770-41e4-a865-678fbbcca963",
   "metadata": {},
   "source": [
    "**ztbabs :**"
   ]
  },
  {
   "cell_type": "code",
   "execution_count": 11,
   "id": "f7736b0d-88bc-4dfe-97cb-e49c37dab810",
   "metadata": {},
   "outputs": [
    {
     "name": "stdout",
     "output_type": "stream",
     "text": [
      "\n",
      "========================================================================\n",
      "Model zTBabs<1>*bremss<2> Source No.: 1   Active/On\n",
      "Model Model Component  Parameter  Unit     Value\n",
      " par  comp\n",
      "   1    1   zTBabs     nH         10^22    1.00000      +/-  0.0          \n",
      "   2    1   zTBabs     Redshift            0.0          frozen\n",
      "   3    2   bremss     kT         keV      7.00000      +/-  0.0          \n",
      "   4    2   bremss     norm                1.00000      +/-  0.0          \n",
      "________________________________________________________________________\n",
      "\n",
      "\n",
      "Fit statistic  : Chi-Squared              3.835141e+09     using 3 bins.\n",
      "\n",
      "Test statistic : Chi-Squared              3.835141e+09     using 3 bins.\n",
      " Cannot calculate null hypothesis probability.\n",
      " Current data and model not fit yet.\n",
      "\n",
      "Fit statistic  : Chi-Squared              4.300662e+09     using 3 bins.\n",
      "\n",
      "Test statistic : Chi-Squared              4.300662e+09     using 3 bins.\n",
      " Cannot calculate null hypothesis probability.\n",
      " Current data and model not fit yet.\n",
      "                                   Parameters\n",
      "Chi-Squared  |beta|/N    Lvl          1:nH          3:kT        4:norm\n",
      "4.23589      1.29605      -3      0.213284       6.58364   3.65051e-05\n",
      "3.00528      58782.2      -4      0.628796       2.16663   8.04436e-05\n",
      "0.0350271    26952.9      -5      0.531811       1.96197   0.000115605\n",
      "5.5614e-05   376.384      -6      0.567760       2.01611   0.000116642\n",
      "6.63104e-09  18.4353      -7      0.570757       2.01038   0."
     ]
    },
    {
     "name": "stderr",
     "output_type": "stream",
     "text": [
      "GammQ: A <=  0\n",
      "GammQ: A <=  0\n",
      "GammQ: A <=  0\n"
     ]
    },
    {
     "name": "stdout",
     "output_type": "stream",
     "text": [
      "000117142\n",
      "========================================\n",
      " Variances and Principal Axes\n",
      "                 1        3        4  \n",
      " 4.4439E-10| -0.0001   0.0000   1.0000  \n",
      " 7.2412E-02|  0.9779   0.2088   0.0001  \n",
      " 3.0473E+00| -0.2088   0.9779  -0.0001  \n",
      "----------------------------------------\n",
      "\n",
      "====================================\n",
      "  Covariance Matrix\n",
      "        1           2           3   \n",
      "   2.022e-01  -6.076e-01   4.429e-05\n",
      "  -6.076e-01   2.918e+00  -1.770e-04\n",
      "   4.429e-05  -1.770e-04   1.191e-08\n",
      "------------------------------------\n",
      "\n",
      "========================================================================\n",
      "Model zTBabs<1>*bremss<2> Source No.: 1   Active/On\n",
      "Model Model Component  Parameter  Unit     Value\n",
      " par  comp\n",
      "   1    1   zTBabs     nH         10^22    0.570757     +/-  0.449621     \n",
      "   2    1   zTBabs     Redshift            6.76895E-02  frozen\n",
      "   3    2   bremss     kT         keV      2.01038      +/-  1.70809      \n",
      "   4    2   bremss     norm                1.17142E-04  +/-  1.09125E-04  \n",
      "________________________________________________________________________\n",
      "\n",
      "\n",
      "Fit statistic  : Chi-Squared                   7e-09     using 3 bins.\n",
      "\n",
      "Test statistic : Chi-Squared                   7e-09     using 3 bins.\n",
      " Cannot calculate null hypothesis probability.\n"
     ]
    }
   ],
   "source": [
    "AllModels.clear()\n",
    "moz = Model(\"ztbabs*bremss\")\n",
    "moz.zTBabs.Redshift = z\n",
    "Fit.perform()\n",
    "Plot.device = \"/xs\"\n",
    "Plot(\"data resid\")\n",
    "nH_bremss_z = moz.zTBabs.nH.values[0]"
   ]
  },
  {
   "cell_type": "code",
   "execution_count": 12,
   "id": "2fd9d33a-2c85-45ea-8cd4-79f694ee9f29",
   "metadata": {},
   "outputs": [
    {
     "data": {
      "text/plain": [
       "(-0.5, 856.5, 657.5, -0.5)"
      ]
     },
     "execution_count": 12,
     "metadata": {},
     "output_type": "execute_result"
    },
    {
     "data": {
      "image/png": "[encoded data removed]",
      "text/plain": [
       "<Figure size 1200x700 with 1 Axes>"
      ]
     },
     "metadata": {},
     "output_type": "display_data"
    }
   ],
   "source": [
    "img = plt.imread(glob.glob(\"ObsID*SRCNUM*E*Spectrum_bremss_z.png\")[0])\n",
    "plt.imshow(img)\n",
    "plt.axis('off')"
   ]
  },
  {
   "cell_type": "markdown",
   "id": "4d8ea665-d6a1-4113-beaf-fad108850b18",
   "metadata": {},
   "source": [
    "### Apec model\n",
    "**tbabs :**"
   ]
  },
  {
   "cell_type": "code",
   "execution_count": 13,
   "id": "4bd12dd8-e0eb-46e8-a057-f7eb723b3a94",
   "metadata": {},
   "outputs": [
    {
     "name": "stdout",
     "output_type": "stream",
     "text": [
      "\n",
      "========================================================================\n",
      "Model TBabs<1>*apec<2> Source No.: 1   Active/On\n",
      "Model Model Component  Parameter  Unit     Value\n",
      " par  comp\n",
      "   1    1   TBabs      nH         10^22    1.00000      +/-  0.0          \n",
      "   2    2   apec       kT         keV      1.00000      +/-  0.0          \n",
      "   3    2   apec       Abundanc            1.00000      frozen\n",
      "   4    2   apec       Redshift            0.0          frozen\n",
      "   5    2   apec       norm                1.00000      +/-  0.0          \n",
      "________________________________________________________________________\n",
      "\n",
      "Reading APEC data from 3.0.9\n",
      "\n",
      "\n",
      "Fit statistic  : Chi-Squared              4.685624e+08     using 3 bins.\n",
      "\n",
      "Test statistic : Chi-Squared              4.685624e+08     using 3 bins.\n",
      " Cannot calculate null hypothesis probability.\n",
      " Current data and model not fit yet.\n",
      "                                   Parameters\n",
      "Chi-Squared  |beta|/N    Lvl          1:nH          2:kT        5:norm\n",
      "1.29462      2.86751      -1       1.05169       1.45021   0.000233941\n",
      "0.00357067   7092.18      -2       1.07062       1.47244   0.000298507\n",
      "5.13155e-05  217.274      -3       1.11057       1.42464   0.000308436\n",
      "2.98285e-10  14.8897      -4       1.11239       1.42497   0.000309091\n",
      "========================================\n",
      " Variances and Principal Axes\n",
      "                 1        2        5  \n",
      " 3.1115E-09| -0.0003  -0.0001   1.0000  \n",
      " 5.1431E-02| -0.7013  -0.7129  -0.0002  \n",
      " 1.7397E+00|  0.7129  -0.7013   0.0002  \n",
      "----------------------------------------\n",
      "\n",
      "====================================\n",
      "  Covariance Matrix\n",
      "        1           2           3   \n",
      "   9.095e-01  -8.440e-01   2.003e-04\n",
      "  -8.440e-01   8.817e-01  -1.802e-04\n",
      "   2.003e-04  -1.802e-04   4.753e-08\n",
      "------------------------------------\n",
      "\n",
      "========================================================================\n",
      "Model TBabs<1>*apec<2> Source No.: 1   Active/On\n",
      "Model Model Component  Parameter  Unit     Value\n",
      " par  comp\n",
      "   1    1   TBabs      nH         10^22    1.11239      +/-  0.953654     \n",
      "   2    2   apec       kT         keV      1.42497      +/-  0.938978     \n",
      "   3    2   apec       Abundanc            1.00000      frozen\n",
      "   4    2   apec       Redshift            0.0          frozen\n",
      "   5    2   apec       norm                3.09091E-04  +/-  2.18014E-04  \n",
      "________________________________________________________________________\n",
      "\n",
      "\n",
      "Fit statistic  : Chi-Squared                   3e-10     using 3 bins.\n",
      "\n",
      "Test statistic : Chi-Squared                   3e-10     using 3 bins.\n",
      " Cannot calculate null hypothesis probability.\n"
     ]
    },
    {
     "name": "stderr",
     "output_type": "stream",
     "text": [
      "GammQ: A <=  0\n",
      "GammQ: A <=  0\n"
     ]
    }
   ],
   "source": [
    "AllModels.clear()\n",
    "mo = Model(\"tbabs*apec\")\n",
    "Fit.perform()\n",
    "Plot.device = \"/xs\"\n",
    "Plot(\"data resid\")\n",
    "nH_apec = moz.zTBabs.nH.values[0]"
   ]
  },
  {
   "cell_type": "code",
   "execution_count": 10,
   "id": "e3c38dd4-72e7-44cd-b2db-963368ff15b2",
   "metadata": {},
   "outputs": [
    {
     "data": {
      "text/plain": [
       "(-0.5, 856.5, 660.5, -0.5)"
      ]
     },
     "execution_count": 10,
     "metadata": {},
     "output_type": "execute_result"
    },
    {
     "data": {
      "image/png": "[encoded data removed]",
      "text/plain": [
       "<Figure size 1200x700 with 1 Axes>"
      ]
     },
     "metadata": {},
     "output_type": "display_data"
    }
   ],
   "source": [
    "img = plt.imread(glob.glob('ObsID*_SRCNUM*_E*_Spectrum_apec.png')[0])\n",
    "plt.imshow(img)\n",
    "plt.axis('off')"
   ]
  },
  {
   "cell_type": "markdown",
   "id": "c09d690f-6711-4446-aa73-5b6656ed0932",
   "metadata": {},
   "source": [
    "**ztbabs :**"
   ]
  },
  {
   "cell_type": "code",
   "execution_count": 14,
   "id": "bd1085e1-40b0-4e9f-bafc-7eb8851abcc7",
   "metadata": {},
   "outputs": [
    {
     "name": "stdout",
     "output_type": "stream",
     "text": [
      "\n",
      "========================================================================\n",
      "Model zTBabs<1>*apec<2> Source No.: 1   Active/On\n",
      "Model Model Component  Parameter  Unit     Value\n",
      " par  comp\n",
      "   1    1   zTBabs     nH         10^22    1.00000      +/-  0.0          \n",
      "   2    1   zTBabs     Redshift            0.0          frozen\n",
      "   3    2   apec       kT         keV      1.00000      +/-  0.0          \n",
      "   4    2   apec       Abundanc            1.00000      frozen\n",
      "   5    2   apec       Redshift            0.0          frozen\n",
      "   6    2   apec       norm                1.00000      +/-  0.0          \n",
      "________________________________________________________________________\n",
      "\n",
      "\n",
      "Fit statistic  : Chi-Squared              4.561034e+08     using 3 bins.\n",
      "\n",
      "Test statistic : Chi-Squared              4.561034e+08     using 3 bins.\n",
      " Cannot calculate null hypothesis probability.\n",
      " Current data and model not fit yet.\n",
      "\n",
      "Fit statistic  : Chi-Squared              7.288502e+08     using 3 bins.\n",
      "\n",
      "Test statistic : Chi-Squared              7.288502e+08     using 3 bins.\n"
     ]
    },
    {
     "name": "stderr",
     "output_type": "stream",
     "text": [
      "GammQ: A <=  0\n",
      "GammQ: A <=  0\n"
     ]
    },
    {
     "name": "stdout",
     "output_type": "stream",
     "text": [
      " Cannot calculate null hypothesis probability.\n",
      " Current data and model not fit yet.\n",
      "                                   Parameters\n",
      "Chi-Squared  |beta|/N    Lvl          1:nH          3:kT        6:norm\n",
      "5.23853      3.3834       -2      0.893098       1.87857   0.000142810\n",
      "5.21184      17222.4      -3       1.60491      0.802315   0.000303277\n",
      "5.01213      7456.51      -2       1.61596       1.41425   0.000232039\n",
      "1.86864      10246.3      -3      0.961005       1.50942   0.000284440\n",
      "0.0414913    8862.83      -4       1.20118       1.46767   0.000293664\n",
      "0.000290031  744.947      -5       1.31314       1.41198   0.000309963\n",
      "3.08648e-09  22.5007      -6       1.31912       1.41221   0.000311588\n",
      "1.7535e-17   0.242665     -7       1.31916       1.41218   0.000311598\n",
      "========================================\n",
      " Variances and Principal Axes\n",
      "                 1        3        6  \n",
      " 3.1726E-09| -0.0002  -0.0001   1.0000  \n",
      " 6.0544E-02| -0.6395  -0.7688  -0.0002  \n",
      " 2.0146E+00|  0.7688  -0.6395   0.0001  \n",
      "----------------------------------------\n",
      "\n",
      "====================================\n",
      "  Covariance Matrix\n",
      "        1           2           3   \n",
      "   1.216e+00  -9.607e-01   2.324e-04\n",
      "  -9.607e-01   8.596e-01  -1.782e-04\n",
      "   2.324e-04  -1.782e-04   4.791e-08\n",
      "------------------------------------\n",
      "\n",
      "========================================================================\n",
      "Model zTBabs<1>*apec<2> Source No.: 1   Active/On\n",
      "Model Model Component  Parameter  Unit     Value\n",
      " par  comp\n",
      "   1    1   zTBabs     nH         10^22    1.31916      +/-  1.10253      \n",
      "   2    1   zTBabs     Redshift            6.76895E-02  frozen\n",
      "   3    2   apec       kT         keV      1.41218      +/-  0.927138     \n",
      "   4    2   apec       Abundanc            1.00000      frozen\n",
      "   5    2   apec       Redshift            0.0          frozen\n",
      "   6    2   apec       norm                3.11598E-04  +/-  2.18890E-04  \n",
      "________________________________________________________________________\n",
      "\n",
      "\n",
      "Fit statistic  : Chi-Squared                   2e-17     using 3 bins.\n",
      "\n",
      "Test statistic : Chi-Squared                   2e-17     using 3 bins.\n",
      " Cannot calculate null hypothesis probability.\n"
     ]
    },
    {
     "name": "stderr",
     "output_type": "stream",
     "text": [
      "GammQ: A <=  0\n"
     ]
    }
   ],
   "source": [
    "AllModels.clear()\n",
    "moz = Model(\"ztbabs*apec\")\n",
    "moz.zTBabs.Redshift = z\n",
    "Fit.perform()\n",
    "Plot.device = \"/xs\"\n",
    "Plot(\"data resid\")\n",
    "nH_apec_z = moz.zTBabs.nH.values[0]"
   ]
  },
  {
   "cell_type": "code",
   "execution_count": 15,
   "id": "05400274-c632-4bce-ae54-7c58f9dfbd52",
   "metadata": {},
   "outputs": [
    {
     "data": {
      "text/plain": [
       "(-0.5, 856.5, 660.5, -0.5)"
      ]
     },
     "execution_count": 15,
     "metadata": {},
     "output_type": "execute_result"
    },
    {
     "data": {
      "image/png": "[encoded data removed]",
      "text/plain": [
       "<Figure size 1200x700 with 1 Axes>"
      ]
     },
     "metadata": {},
     "output_type": "display_data"
    }
   ],
   "source": [
    "img = plt.imread(glob.glob('ObsID*_SRCNUM*_E*_Spectrum_apec_z.png')[0])\n",
    "plt.imshow(img)\n",
    "plt.axis('off')"
   ]
  },
  {
   "cell_type": "markdown",
   "id": "746ccf61-8e54-4726-b463-b6a3d137905c",
   "metadata": {},
   "source": [
    "### Powerlaw model\n",
    "**tbabs :**"
   ]
  },
  {
   "cell_type": "code",
   "execution_count": 16,
   "id": "ecf8f29f-a8fc-4efc-9ce0-7059d934b811",
   "metadata": {},
   "outputs": [
    {
     "name": "stdout",
     "output_type": "stream",
     "text": [
      "\n",
      "========================================================================\n",
      "Model TBabs<1>*powerlaw<2> Source No.: 1   Active/On\n",
      "Model Model Component  Parameter  Unit     Value\n",
      " par  comp\n",
      "   1    1   TBabs      nH         10^22    1.00000      +/-  0.0          \n",
      "   2    2   powerlaw   PhoIndex            1.00000      +/-  0.0          \n",
      "   3    2   powerlaw   norm                1.00000      +/-  0.0          \n",
      "________________________________________________________________________\n",
      "\n",
      "\n",
      "Fit statistic  : Chi-Squared              2.632655e+10     using 3 bins.\n",
      "\n",
      "Test statistic : Chi-Squared              2.632655e+10     using 3 bins.\n",
      " Cannot calculate null hypothesis probability.\n",
      " Current data and model not fit yet.\n",
      "                                   Parameters\n",
      "Chi-Squared  |beta|/N    Lvl          1:nH    2:PhoIndex        3:norm\n",
      "9.1377       1.60811      -2      0.142489       1.26868   1.55337e-05\n",
      "2.45545      150279       -1      0.138800       1.46604   3.07299e-05\n",
      "2.14914      28677.5      -2      0.459685       2.29121   6.33343e-05\n",
      "0.934927     29823.9      -3      0.718375       2.79115   0.000119759\n",
      "0.0036377    12268.3      -4      0.689010       2.71545   0.000136773\n",
      "1.35999e-07  802.413      -5      0.694417       2.72930   0.000137085\n",
      "7.61428e-16  4.4275       -6      0.694488       2.72948   0.000137100\n",
      "========================================\n",
      " Variances and Principal Axes\n",
      "                 1        2        3  \n",
      " 6.1400E-10| -0.0001  -0.0001   1.0000  \n",
      " 4.9923E-02|  0.9165  -0.4001   0.0001  \n",
      " 1.4003E+00|  0.4001   0.9165   0.0001  \n",
      "----------------------------------------\n",
      "\n",
      "====================================\n",
      "  Covariance Matrix\n",
      "        1           2           3   \n",
      "   2.661e-01   4.952e-01   7.239e-05\n",
      "   4.952e-01   1.184e+00   1.543e-04\n",
      "   7.239e-05   1.543e-04   2.177e-08\n",
      "------------------------------------\n",
      "\n",
      "========================================================================\n",
      "Model TBabs<1>*powerlaw<2> Source No.: 1   Active/On\n",
      "Model Model Component  Parameter  Unit     Value\n",
      " par  comp\n",
      "   1    1   TBabs      nH         10^22    0.694488     +/-  0.515846     \n",
      "   2    2   powerlaw   PhoIndex            2.72948      +/-  1.08817      \n",
      "   3    2   powerlaw   norm                1.37100E-04  +/-  1.47535E-04  \n",
      "________________________________________________________________________\n",
      "\n",
      "\n",
      "Fit statistic  : Chi-Squared                   8e-16     using 3 bins.\n",
      "\n",
      "Test statistic : Chi-Squared                   8e-16     using 3 bins.\n",
      " Cannot calculate null hypothesis probability.\n"
     ]
    },
    {
     "name": "stderr",
     "output_type": "stream",
     "text": [
      "GammQ: A <=  0\n",
      "GammQ: A <=  0\n"
     ]
    }
   ],
   "source": [
    "AllModels.clear()\n",
    "mo = Model(\"tbabs*powerlaw\")\n",
    "Fit.perform()\n",
    "Plot.device = \"/xs\"\n",
    "Plot(\"data resid\")\n",
    "nH_powerlaw = mo.TBabs.nH.values[0]"
   ]
  },
  {
   "cell_type": "code",
   "execution_count": 12,
   "id": "4f917501-7614-449b-b313-4ab6c7dd2aee",
   "metadata": {},
   "outputs": [
    {
     "data": {
      "text/plain": [
       "(-0.5, 859.5, 664.5, -0.5)"
      ]
     },
     "execution_count": 12,
     "metadata": {},
     "output_type": "execute_result"
    },
    {
     "data": {
      "image/png": "[encoded data removed]",
      "text/plain": [
       "<Figure size 1200x700 with 1 Axes>"
      ]
     },
     "metadata": {},
     "output_type": "display_data"
    }
   ],
   "source": [
    "img = plt.imread(glob.glob('ObsID*_SRCNUM*_E*_Spectrum_powerlaw.png')[0])\n",
    "plt.imshow(img)\n",
    "plt.axis('off')"
   ]
  },
  {
   "cell_type": "markdown",
   "id": "9c81fa04-aa9f-4aa6-96d2-517f3ee7334c",
   "metadata": {},
   "source": [
    "**ztbabs :**"
   ]
  },
  {
   "cell_type": "code",
   "execution_count": 17,
   "id": "2929a30f-c784-42ee-99a1-157307ca20d9",
   "metadata": {},
   "outputs": [
    {
     "name": "stdout",
     "output_type": "stream",
     "text": [
      "\n",
      "========================================================================\n",
      "Model zTBabs<1>*powerlaw<2> Source No.: 1   Active/On\n",
      "Model Model Component  Parameter  Unit     Value\n",
      " par  comp\n",
      "   1    1   zTBabs     nH         10^22    1.00000      +/-  0.0          \n",
      "   2    1   zTBabs     Redshift            0.0          frozen\n",
      "   3    2   powerlaw   PhoIndex            1.00000      +/-  0.0          \n",
      "   4    2   powerlaw   norm                1.00000      +/-  0.0          \n",
      "________________________________________________________________________\n",
      "\n",
      "\n",
      "Fit statistic  : Chi-Squared              2.628779e+10     using 3 bins.\n",
      "\n",
      "Test statistic : Chi-Squared              2.628779e+10     using 3 bins.\n",
      " Cannot calculate null hypothesis probability.\n",
      " Current data and model not fit yet.\n",
      "\n",
      "Fit statistic  : Chi-Squared              2.818119e+10     using 3 bins.\n",
      "\n",
      "Test statistic : Chi-Squared              2.818119e+10     using 3 bins.\n",
      " Cannot calculate null hypothesis probability.\n",
      " Current data and model not fit yet.\n",
      "                                   Parameters\n",
      "Chi-Squared  |beta|/N    Lvl          1:nH    3:PhoIndex        4:norm\n",
      "7.24696      1.66533      -2      0.195531       1.30289   1.87450e-05\n",
      "2.18381      121414       -1      0.171092       1.53018   3.32390e-05\n",
      "1.63711      22365.1      -2      0.512834       2.28304   6.50854e-05\n",
      "0.672042     25986.3      -3      0.793176       2.74257   0.000116358\n",
      "0.000644654  11055.6      -4      0.781373       2.70202   0.000132883\n",
      "5.3049e-09   338.626      -5      0.783370       2.70856   0.000132995\n",
      "4.35492e-18  0.825999     -6      0.783382       2.70860   0.000132998\n",
      "========================================\n",
      " Variances and Principal Axes\n",
      "                 1        3        4  \n",
      " 5.7797E-10| -0.0001  -0.0001   1.0000  \n",
      " 6.5737E-02|  0.8871  -0.4615   0.0001  \n",
      " 1.5022E+00|  0.4615   0.8871   0.0001  \n",
      "----------------------------------------\n",
      "\n",
      "====================================\n",
      "  Covariance Matrix\n",
      "        1           2           3   \n",
      "   3.717e-01   5.881e-01   8.358e-05\n",
      "   5.881e-01   1.196e+00   1.515e-04\n",
      "   8.358e-05   1.515e-04   2.077e-08\n",
      "------------------------------------\n",
      "\n",
      "=========================================="
     ]
    },
    {
     "name": "stderr",
     "output_type": "stream",
     "text": [
      "GammQ: A <=  0\n",
      "GammQ: A <=  0\n",
      "GammQ: A <=  0\n"
     ]
    },
    {
     "name": "stdout",
     "output_type": "stream",
     "text": [
      "==============================\n",
      "Model zTBabs<1>*powerlaw<2> Source No.: 1   Active/On\n",
      "Model Model Component  Parameter  Unit     Value\n",
      " par  comp\n",
      "   1    1   zTBabs     nH         10^22    0.783382     +/-  0.609641     \n",
      "   2    1   zTBabs     Redshift            6.76895E-02  frozen\n",
      "   3    2   powerlaw   PhoIndex            2.70860      +/-  1.09374      \n",
      "   4    2   powerlaw   norm                1.32998E-04  +/-  1.44114E-04  \n",
      "________________________________________________________________________\n",
      "\n",
      "\n",
      "Fit statistic  : Chi-Squared                   4e-18     using 3 bins.\n",
      "\n",
      "Test statistic : Chi-Squared                   4e-18     using 3 bins.\n",
      " Cannot calculate null hypothesis probability.\n"
     ]
    }
   ],
   "source": [
    "AllModels.clear()\n",
    "moz = Model(\"ztbabs*powerlaw\")\n",
    "moz.zTBabs.Redshift = z\n",
    "Fit.perform()\n",
    "Plot.device = \"/xs\"\n",
    "Plot(\"data resid\")\n",
    "nH_powerlaw_z = moz.zTBabs.nH.values[0]"
   ]
  },
  {
   "cell_type": "code",
   "execution_count": 18,
   "id": "b43ebe94-0467-4369-bec5-4f8772abc9a4",
   "metadata": {},
   "outputs": [
    {
     "data": {
      "text/plain": [
       "(-0.5, 856.5, 661.5, -0.5)"
      ]
     },
     "execution_count": 18,
     "metadata": {},
     "output_type": "execute_result"
    },
    {
     "data": {
      "image/png": "[encoded data removed]",
      "text/plain": [
       "<Figure size 1200x700 with 1 Axes>"
      ]
     },
     "metadata": {},
     "output_type": "display_data"
    }
   ],
   "source": [
    "img = plt.imread(glob.glob('ObsID*_SRCNUM*_E*_Spectrum_powerlaw_z.png')[0])\n",
    "plt.imshow(img)\n",
    "plt.axis('off')"
   ]
  },
  {
   "cell_type": "markdown",
   "id": "47e81948-54fe-4e77-9266-afb65b0e11c6",
   "metadata": {},
   "source": [
    "## Column density nH\n",
    "### 3DNH-tool\n",
    "http://astro.uni-tuebingen.de/nh3d/nhtool\n",
    "\n",
    "**Sky coordinates (°) :** from ESASky\n",
    "\n",
    "- RA = 52.9697976°\n",
    "- Dec = -28.3050451°\n",
    "\n",
    "53.97 -28.31\n",
    "\n",
    "**Column density :** nH = 3*10^20 cm^-2"
   ]
  },
  {
   "cell_type": "code",
   "execution_count": 19,
   "id": "61d5a4c2-c969-40b9-9a45-23bf3ca5c942",
   "metadata": {},
   "outputs": [
    {
     "name": "stdout",
     "output_type": "stream",
     "text": [
      "The different models give a column density of :\n",
      "\n",
      "\u001b[1mbbody\u001b[0m\n",
      "(tbabs) : 46711.32901335448\n",
      "(ztbabs) : 1.9309822373952115e+21\n",
      "\n",
      "\u001b[1mbremss\u001b[0m\n",
      "(tbabs) : 5.0626322194986e+21\n",
      "(ztbabs) : 5.707565870732718e+21\n",
      "\n",
      "\u001b[1mapec\u001b[0m\n",
      "(tbabs) : 1.11239145673521e+22\n",
      "(ztbabs) : 1.3191627507442085e+22\n"
     ]
    }
   ],
   "source": [
    "print(\"The different models give a column density of :\")\n",
    "print()\n",
    "print(color.BOLD+\"bbody\"+color.END)\n",
    "print(f\"(tbabs) : {nH_bbody*10**22}\")\n",
    "print(f\"(ztbabs) : {nH_bbody_z*10**22}\")\n",
    "print()\n",
    "print(color.BOLD+\"bremss\"+color.END)\n",
    "print(f\"(tbabs) : {nH_bremss*10**22}\")\n",
    "print(f\"(ztbabs) : {nH_bremss_z*10**22}\")\n",
    "print()\n",
    "print(color.BOLD+\"apec\"+color.END)\n",
    "print(f\"(tbabs) : {nH_apec*10**22}\")\n",
    "print(f\"(ztbabs) : {nH_apec_z*10**22}\")"
   ]
  },
  {
   "cell_type": "markdown",
   "id": "1973f13c-7580-446c-b7fe-bf273fd37c5d",
   "metadata": {},
   "source": [
    "## Flux\n",
    "### X-ray flux"
   ]
  },
  {
   "cell_type": "code",
   "execution_count": 20,
   "id": "f6ba1ee6-8282-4c45-8230-6603f9bfbae8",
   "metadata": {},
   "outputs": [
    {
     "name": "stdout",
     "output_type": "stream",
     "text": [
      " Model Flux 4.9404e-05 photons (1.8358e-13 ergs/cm^2/s) range (0.20000 - 12.000 keV)\n"
     ]
    }
   ],
   "source": [
    "AllModels.calcFlux(\".2 12.0\")"
   ]
  },
  {
   "cell_type": "code",
   "execution_count": 21,
   "id": "4e93ef39-9046-44fe-a12f-a84de18a36e6",
   "metadata": {},
   "outputs": [
    {
     "name": "stdout",
     "output_type": "stream",
     "text": [
      "\u001b[1mX-ray  flux : \u001b[0mF_X = 1.8358e-13 ergs/cm^2/s\n"
     ]
    }
   ],
   "source": [
    "Flux = 1.8358e-13 # ergs/cm^2/s\n",
    "print(color.BOLD+\"X-ray  flux : \"+color.END+f\"F_X = {Flux} ergs/cm^2/s\")"
   ]
  },
  {
   "cell_type": "markdown",
   "id": "37ba6c3e-3fae-421a-b4d6-b49f3773dc3b",
   "metadata": {},
   "source": [
    "### Optical flux"
   ]
  },
  {
   "cell_type": "code",
   "execution_count": 23,
   "id": "0067e9f5-c33a-425c-87d6-ac83cea1fe60",
   "metadata": {},
   "outputs": [
    {
     "name": "stdout",
     "output_type": "stream",
     "text": [
      "\u001b[1mOptical  flux : \u001b[0mF_opt = 1.4725474536744745e-13 ergs/cm^2/s\n"
     ]
    }
   ],
   "source": [
    "def F_optical(mag):\n",
    "    F0 = 1.05*10**(-5) # GAIA zero point magnitude\n",
    "    return F0*10**(-0.4*mag)\n",
    "    \n",
    "G = 19.6328\n",
    "\n",
    "F = F_optical(G)\n",
    "\n",
    "print(color.BOLD+\"Optical  flux : \"+color.END+f\"F_opt = {F} ergs/cm^2/s\")"
   ]
  },
  {
   "cell_type": "markdown",
   "id": "29466066-562d-40f4-9753-38aa262da9c4",
   "metadata": {},
   "source": [
    "### X-ray flux / Optical flux ratio"
   ]
  },
  {
   "cell_type": "code",
   "execution_count": 24,
   "id": "bc8045fe-32dc-474c-8c87-90f1854acb5e",
   "metadata": {},
   "outputs": [
    {
     "name": "stdout",
     "output_type": "stream",
     "text": [
      "\u001b[1mX-ray flux / Optical flux ratio : \u001b[0mF_x-ray/F_optical = 1.2466830834001954\n",
      "F_x-ray = 1.2466830834001954*F_optical\n"
     ]
    }
   ],
   "source": [
    "print(color.BOLD+\"X-ray flux / Optical flux ratio : \"+color.END+f\"F_x-ray/F_optical = {Flux/F}\")\n",
    "print(f\"F_x-ray = {Flux/F}*F_optical\")"
   ]
  },
  {
   "cell_type": "markdown",
   "id": "5aa0902c-31d6-4699-925c-e74a5cc0a0c4",
   "metadata": {},
   "source": [
    "## Luminosity"
   ]
  },
  {
   "cell_type": "code",
   "execution_count": 25,
   "id": "d586c000-4d0d-466d-b61a-9dae79785426",
   "metadata": {},
   "outputs": [
    {
     "name": "stdout",
     "output_type": "stream",
     "text": [
      "\u001b[1m(GAIA)\u001b[0m\n",
      "Distance : 4.3675866949752303e+21 cm\n",
      "Luminosité : 4.400664888311916e+31 erg/s\n",
      "\n",
      "\u001b[1m(GLADE)\u001b[0m\n",
      "Distance : 8.945357900400001e+26 cm\n",
      "Luminosité : 1.8459956443278067e+42 erg/s\n"
     ]
    }
   ],
   "source": [
    "\"\"\"GAIA\"\"\"\n",
    "\n",
    "P_mas = 0.7065 # Parallaxe en mas\n",
    "d_kpc = 1/P_mas # Distance en kpc\n",
    "d_cm = d_kpc*3.0857*10**21 # Distance en cm, avec 1 pc = 3.0857*10^18 cm\n",
    "\n",
    "# La source est supposée sphérique pour le calcul de la luminosité : L = 4*pi*F*D^2\n",
    "Luminosity = 4*np.pi*Flux*(d_cm)**2 # erg/s\n",
    "\n",
    "print(color.BOLD+\"(GAIA)\"+color.END)\n",
    "print(f\"Distance : {d_cm} cm\")\n",
    "print(f\"Luminosité : {Luminosity} erg/s\")\n",
    "print()\n",
    "\n",
    "\"\"\"GLADE\"\"\"\n",
    "\n",
    "d_kpc = 289897.2 # Distance en kpc\n",
    "d_cm = d_kpc*3.0857*10**21 # Distance en cm, avec 1 pc = 3.0857*10^18 cm\n",
    "\n",
    "# La source est supposée sphérique pour le calcul de la luminosité : L = 4*pi*F*D^2\n",
    "Luminosity = 4*np.pi*Flux*(d_cm)**2 # erg/s\n",
    "\n",
    "print(color.BOLD+\"(GLADE)\"+color.END)\n",
    "print(f\"Distance : {d_cm} cm\")\n",
    "print(f\"Luminosité : {Luminosity} erg/s\")"
   ]
  }
 ],
 "metadata": {
  "kernelspec": {
   "display_name": "Python 3 (ipykernel)",
   "language": "python",
   "name": "python3"
  },
  "language_info": {
   "codemirror_mode": {
    "name": "ipython",
    "version": 3
   },
   "file_extension": ".py",
   "mimetype": "text/x-python",
   "name": "python",
   "nbconvert_exporter": "python",
   "pygments_lexer": "ipython3",
   "version": "3.10.12"
  }
 },
 "nbformat": 4,
 "nbformat_minor": 5
}
