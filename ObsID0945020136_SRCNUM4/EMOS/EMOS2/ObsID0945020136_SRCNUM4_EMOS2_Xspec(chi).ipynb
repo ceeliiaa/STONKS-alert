{
 "cells": [
  {
   "cell_type": "markdown",
   "id": "a09472f9-b7b4-4047-9978-0b5adf3b464f",
   "metadata": {},
   "source": [
    "# ObsID : 0945020136, SRCNUM : 4, Instru : EMOS2\n",
    "**Simbad :** Galaxy (2dFGRS TGS322Z047) https://simbad.cds.unistra.fr/simbad/sim-id?Ident=%404738151&Name=2dFGRS%20TGS322Z047&submit=submit"
   ]
  },
  {
   "cell_type": "code",
   "execution_count": 1,
   "id": "311ae079-ccd8-41c3-aac4-08c99f67b431",
   "metadata": {},
   "outputs": [
    {
     "name": "stdout",
     "output_type": "stream",
     "text": [
      "Default fit statistic is set to: Chi-Squared\n",
      "   This will apply to all current and newly loaded spectra.\n",
      "Parameter delta values for fits will now be 0.0001 * parValue\n"
     ]
    }
   ],
   "source": [
    "from xspec import *\n",
    "from stingray import Lightcurve\n",
    "from astropy.io import fits\n",
    "import matplotlib.pyplot as plt\n",
    "import matplotlib.image as mpimg\n",
    "import glob\n",
    "import numpy as np\n",
    "\n",
    "class color:\n",
    "   PURPLE = '\\033[95m'\n",
    "   CYAN = '\\033[96m'\n",
    "   DARKCYAN = '\\033[36m'\n",
    "   BLUE = '\\033[94m'\n",
    "   GREEN = '\\033[92m'\n",
    "   YELLOW = '\\033[93m'\n",
    "   RED = '\\033[91m'\n",
    "   BOLD = '\\033[1m'\n",
    "   UNDERLINE = '\\033[4m'\n",
    "   END = '\\033[0m'\n",
    "\n",
    "plt.rcParams['figure.figsize'] = [12,7]\n",
    "\n",
    "Fit.statMethod = \"chi\"\n",
    "Fit.nIterations = 100000\n",
    "Fit.delta = 1e-4\n",
    "Fit.criticalDelta = 1e-4"
   ]
  },
  {
   "cell_type": "markdown",
   "id": "39b7d9d2-7930-4892-81ba-8bd2db47e610",
   "metadata": {},
   "source": [
    "## Load files"
   ]
  },
  {
   "cell_type": "code",
   "execution_count": 21,
   "id": "cd0bcd6f-9565-4899-90b7-1e5d87e7050a",
   "metadata": {},
   "outputs": [
    {
     "name": "stdout",
     "output_type": "stream",
     "text": [
      "\n",
      "2 spectra  in use\n",
      " \n",
      "Spectral Data File: ObsID0945020136_SRCNUM4_EMOS2_spectrum_grp.fits  Spectrum 2\n",
      "Net count rate (cts/s) for Spectrum:2  7.295e-03 +/- 1.203e-03 (71.9 % total)\n",
      " Assigned to Data Group 1 and Plot Group 2\n",
      "  Noticed Channels:  1-3\n",
      "  Telescope: XMM Instrument: EMOS2  Channel Type: PI\n",
      "  Exposure Time: 7690 sec\n",
      " Using fit statistic: chi\n",
      " Using Background File                ObsID0945020136_SRCNUM4_EMOS2_background_spectrum.fits\n",
      "  Background Exposure Time: 7690 sec\n",
      " Using Response (RMF) File            ObsID0945020136_SRCNUM4_EMOS2.rmf for Source 1\n",
      " Using Auxiliary Response (ARF) File  ObsID0945020136_SRCNUM4_EMOS2.arf\n",
      "\n",
      "\n",
      "Fit statistic  : Chi-Squared                   7e-16     using 3 bins, spectrum 1.\n",
      "                 Chi-Squared                   7e-16     using 3 bins, spectrum 2.\n",
      "Total fit statistic                            1e-15     with 3 d.o.f.\n",
      "\n",
      "Test statistic : Chi-Squared                   1e-15     using 6 bins.\n",
      " Null hypothesis probability of 1.0e+00 with 3 degrees of freedom\n",
      " Current data and model not fit yet.\n"
     ]
    }
   ],
   "source": [
    "spec = Spectrum(glob.glob('ObsID*_SRCNUM*_E*_spectrum_grp.fits')[0])"
   ]
  },
  {
   "cell_type": "code",
   "execution_count": 19,
   "id": "79e35545-ec8c-4613-8030-43eaee88fd91",
   "metadata": {},
   "outputs": [
    {
     "name": "stdout",
     "output_type": "stream",
     "text": [
      "Number of counts : 56.09855\n"
     ]
    }
   ],
   "source": [
    "print(\"Number of counts :\", 7.295e-03*7690)"
   ]
  },
  {
   "cell_type": "markdown",
   "id": "870eec10-27a5-4341-a01c-4a98ac400133",
   "metadata": {},
   "source": [
    "## Plot spectrum"
   ]
  },
  {
   "cell_type": "code",
   "execution_count": 22,
   "id": "37f98bf3-3d31-4c65-891f-3ea006da7786",
   "metadata": {},
   "outputs": [
    {
     "name": "stdout",
     "output_type": "stream",
     "text": [
      "***Warning: Fit is not current.\n",
      "     1 channels (1) ignored in spectrum #     2\n",
      "      No channels ignored (no channels in specified range)\n",
      "\n",
      "Fit statistic  : Chi-Squared                   7e-16     using 3 bins, spectrum 1.\n",
      "                 Chi-Squared                   6e-16     using 2 bins, spectrum 2.\n",
      "Total fit statistic                            1e-15     with 2 d.o.f.\n",
      "\n",
      "Test statistic : Chi-Squared                   1e-15     using 5 bins.\n",
      " Null hypothesis probability of 1.0e+00 with 2 degrees of freedom\n",
      " Current data and model not fit yet.\n",
      "\n"
     ]
    }
   ],
   "source": [
    "Plot.xAxis=\"keV\"\n",
    "Plot.device = \"/xs\"\n",
    "Plot.xLog=True\n",
    "Plot.yLog=True\n",
    "#Plot.addCommand(\"Rescale Y 0.00001 0.005\")\n",
    "Plot(\"data\")\n",
    "spec.ignore(\"**-0.2 12-**\")"
   ]
  },
  {
   "cell_type": "code",
   "execution_count": 4,
   "id": "27bf0415-368d-4476-8ef7-29af925b48ee",
   "metadata": {},
   "outputs": [
    {
     "data": {
      "text/plain": [
       "(-0.5, 855.5, 656.5, -0.5)"
      ]
     },
     "execution_count": 4,
     "metadata": {},
     "output_type": "execute_result"
    },
    {
     "data": {
      "image/png": "[encoded data removed]",
      "text/plain": [
       "<Figure size 1200x700 with 1 Axes>"
      ]
     },
     "metadata": {},
     "output_type": "display_data"
    }
   ],
   "source": [
    "img = plt.imread(glob.glob('ObsID*_SRCNUM*_E*_Spectrum.png')[0])\n",
    "plt.imshow(img)\n",
    "plt.axis('off')"
   ]
  },
  {
   "cell_type": "markdown",
   "id": "7eb1edda-21f0-4876-bdbc-8cb3e4a347dc",
   "metadata": {},
   "source": [
    "### Black body model"
   ]
  },
  {
   "cell_type": "code",
   "execution_count": 5,
   "id": "25e94b4e-0bb6-439e-af07-e82ebf0faa48",
   "metadata": {},
   "outputs": [
    {
     "name": "stdout",
     "output_type": "stream",
     "text": [
      "\n",
      "========================================================================\n",
      "Model TBabs<1>*bbody<2> Source No.: 1   Active/On\n",
      "Model Model Component  Parameter  Unit     Value\n",
      " par  comp\n",
      "   1    1   TBabs      nH         10^22    1.00000      +/-  0.0          \n",
      "   2    2   bbody      kT         keV      3.00000      +/-  0.0          \n",
      "   3    2   bbody      norm                1.00000      +/-  0.0          \n",
      "________________________________________________________________________\n",
      "\n",
      "tbvabs Version 2.3\n",
      "Cosmic absorption with grains and H2, modified from\n",
      "Wilms, Allen, & McCray, 2000, ApJ 542, 914-924\n",
      "Questions: Joern Wilms\n",
      "joern.wilms@sternwarte.uni-erlangen.de\n",
      "joern.wilms@fau.de\n",
      "\n",
      "http://pulsar.sternwarte.uni-erlangen.de/wilms/research/tbabs/\n",
      "\n",
      "PLEASE NOTICE:\n",
      "To get the model described by the above paper\n",
      "you will also have to set the abundances:\n",
      "   abund wilm\n",
      "\n",
      "Note that this routine ignores the current cross section setting\n",
      "as it always HAS to use the Verner cross sections as a baseline.\n",
      "\n",
      "Fit statistic  : Chi-Squared              1.044025e+11     using 3 bins.\n",
      "\n",
      "Test statistic : Chi-Squared              1.044025e+11     using 3 bins.\n",
      " Cannot calculate null hypothesis probability.\n",
      " Current data and model not fit yet.\n",
      "                                   Parameters\n",
      "Chi-Squared  |beta|/N    Lvl          1:nH          2:kT        3:norm\n",
      "16.9461      0.496669      0      0.287729       3.09748   1.18764e-05\n",
      "16.4223      74705.8       0      0.132576       3.11499   1.13001e-05\n",
      "15.8962      104285        0     0.0641967       3.08542   1.10673e-05\n",
      "15.1807      110921        0    0.00577049       3.03867   1.09395e-05\n",
      "14.7702      110498        0   0.000196282       2.97777   1.08822e-05\n",
      "14.5574      99521.6       0   3.94552e-05       2.92921   1.07285e-05\n",
      "14.4243      94160.8       0   1.77294e-06       2.88805   1.05181e-05\n",
      "14.3175      93147.3       0   6.23955e-07       2.84937   1.02872e-05\n",
      "14.2179      93938.1       0   6.04323e-08       2.81131   1.00494e-05\n",
      "14.1183      95493         0   2.58337e-08       2.77317   9.80992e-06\n",
      "14.016       97400.3       0   8.83754e-09       2.73472   9.57068e-06\n",
      "13.9091      99507.5       0   4.91805e-10       2.69574   9.33238e-06\n",
      "13.7972      101729        0   2.35869e-10       2.65622   9.09527e-06\n",
      "13.6792      104057        0   1.10378e-10       2.61604   8.85955e-06\n",
      "13.5552      106457        0   4.89215e-11       2.57523   8.62482e-06\n",
      "13.4253      108983        0   1.88562e-11       2.53383   8.39088e-06\n",
      "13.288       111693        0   4.18128e-12       2.49176   8.15856e-06\n",
      "13.1346      114510        0   5.83276e-13       2.44839   7.93341e-06\n",
      "13.1083      116630        0   1.71626e-13       2.41461   7.63177e-06\n",
      "12.9676      131693        0   6.29941e-14       2.37178   7.39407e-06\n",
      "12.6443      137413        0   9.91851e-15       2.31512   7.24535e-06\n",
      "12.468       126549        0   2.88128e-15       2.26934   7.01143e-06\n",
      "9.54213      131389       -1   7.43022e-16       1.74193   4.86167e-06\n",
      "5.46841      172559       -1   3.67161e-16       1.25649   3.17609e-06\n",
      "2.07155      397083       -2   4.53734e-18      0.870064   2.23377e-06\n",
      "2.05767      491445       -1   8.93008e-19      0.921388   2.44515e-06\n",
      "***Warning: Zero alpha-matrix diagonal element for parameter 1\n",
      " Parameter 1 is pegged at 8.93008e-19 due to zero or negative pivot element, likely\n",
      " caused by the fit being insensitive to the parameter.\n",
      "1.68008      524425       -2   8.93008e-19      0.853804   2.44911e-06\n",
      "1.67935      28880.6      -3   8.93008e-19      0.851913   2.43331e-06\n",
      "1.67934      42.7628      -4   8.93008e-19      0.851618   2.43237e-06\n",
      "***Warning: Zero alpha-matrix diagonal element for parameter 1\n",
      " Parameter 1 is pegged at 8.93008e-19 due to zero or negative pivot element, likely\n",
      " caused by the fit being insensitive to the parameter.\n",
      "1.67934      1.25049      -3   8.93008e-19      0.851581   2.43225e-06\n",
      "==============================\n",
      " Variances and Principal Axes\n",
      "                 2        3  \n",
      " 1.6666E-13| -0.0000   1.0000  \n",
      " 2.4004E-02|  1.0000   0.0000  \n",
      "------------------------------\n",
      "\n",
      "========================\n",
      "  Covariance Matrix\n",
      "        1           2   \n",
      "   2.400e-02   7.749e-08\n",
      "   7.749e-08   4.168e-13\n",
      "------------------------\n",
      "\n",
      "========================================================================\n",
      "Model TBabs<1>*bbody<2> Source No.: 1   Active/On\n",
      "Model Model Component  Parameter  Unit     Value\n",
      " par  comp\n",
      "   1    1   TBabs      nH         10^22    8.93008E-19  +/-  -1.00000     \n",
      "   2    2   bbody      kT         keV      0.851581     +/-  0.154933     \n",
      "   3    2   bbody      norm                2.43225E-06  +/-  6.45625E-07  \n",
      "________________________________________________________________________\n",
      "\n",
      "\n",
      "Fit statistic  : Chi-Squared                  1.6793     using 3 bins.\n",
      "\n",
      "Test statistic : Chi-Squared                  1.6793     using 3 bins.\n",
      " Cannot calculate null hypothesis probability.\n"
     ]
    },
    {
     "name": "stderr",
     "output_type": "stream",
     "text": [
      "GammQ: A <=  0\n",
      "GammQ: A <=  0\n"
     ]
    }
   ],
   "source": [
    "AllModels.clear()\n",
    "mo = Model(\"tbabs*bbody\")\n",
    "Fit.perform()\n",
    "Plot.device = \"/xs\"\n",
    "Plot(\"data resid\")\n",
    "plt.show()"
   ]
  },
  {
   "cell_type": "code",
   "execution_count": 6,
   "id": "f2d55c50-94dd-468d-bf08-69bca0b63260",
   "metadata": {},
   "outputs": [
    {
     "data": {
      "text/plain": [
       "(-0.5, 856.5, 656.5, -0.5)"
      ]
     },
     "execution_count": 6,
     "metadata": {},
     "output_type": "execute_result"
    },
    {
     "data": {
      "image/png": "[encoded data removed]",
      "text/plain": [
       "<Figure size 1200x700 with 1 Axes>"
      ]
     },
     "metadata": {},
     "output_type": "display_data"
    }
   ],
   "source": [
    "img = plt.imread(glob.glob('ObsID*_SRCNUM*_E*_Spectrum_bbody.png')[0])\n",
    "plt.imshow(img)\n",
    "plt.axis('off')"
   ]
  },
  {
   "cell_type": "markdown",
   "id": "b77a2e66-8412-4d85-a277-10782493ea2e",
   "metadata": {},
   "source": [
    "### Bremsstrahlung model"
   ]
  },
  {
   "cell_type": "code",
   "execution_count": 7,
   "id": "3ed606fb-6f75-4369-b9c8-b5c95a0a9577",
   "metadata": {},
   "outputs": [
    {
     "name": "stdout",
     "output_type": "stream",
     "text": [
      "\n",
      "========================================================================\n",
      "Model TBabs<1>*bremss<2> Source No.: 1   Active/On\n",
      "Model Model Component  Parameter  Unit     Value\n",
      " par  comp\n",
      "   1    1   TBabs      nH         10^22    1.00000      +/-  0.0          \n",
      "   2    2   bremss     kT         keV      7.00000      +/-  0.0          \n",
      "   3    2   bremss     norm                1.00000      +/-  0.0          \n",
      "________________________________________________________________________\n",
      "\n",
      "\n",
      "Fit statistic  : Chi-Squared              4.117834e+09     using 3 bins.\n",
      "\n",
      "Test statistic : Chi-Squared              4.117834e+09     using 3 bins.\n",
      " Cannot calculate null hypothesis probability.\n",
      " Current data and model not fit yet.\n",
      "                                   Parameters\n",
      "Chi-Squared  |beta|/N    Lvl          1:nH          2:kT        3:norm\n",
      "2.0691       0.871452     -1      0.392959       8.43842   6.36504e-05\n",
      "0.547037     4277.01      -1      0.114601       15.9199   5.05787e-05\n",
      "0.393385     9055.3       -2     0.0584139       43.9824   5.80142e-05\n",
      "0.146184     1766.92      -3     0.0565927       198.141   8.47328e-05\n",
      "0.109934     4154.23      -2     0.0774078       198.999   9.40757e-05\n",
      "0.0700461    5624.47      -1     0.0804752       199.193   9.31155e-05\n",
      "0.059755     3491.23      -1     0.0810602       199.300   9.26563e-05\n",
      "0.056177     2661.01      -1     0.0811310       199.338   9.24317e-05\n",
      "0.0546545    2301.92      -1     0.0811211       199.355   9.23184e-05\n",
      "0.0539464    2130.57      -1     0.0811100       199.362   9.22616e-05\n",
      "0.0536146    2045.95      -1     0.0811014       199.363   9.22332e-05\n",
      "0.0534452    2004.98      -1     0.0810965       199.363   9.22184e-05\n",
      "0.0533494    1983.73      -1     0.0810956       199.363   9.22102e-05\n",
      "========================================\n",
      " Variances and Principal Axes\n",
      "                 1        2        3  \n",
      " 2.2249E-10| -0.0001  -0.0000   1.0000  \n",
      " 1.0063E-02|  1.0000   0.0001   0.0001  \n",
      " 6.1194E+06| -0.0001   1.0000   0.0000  \n",
      "----------------------------------------\n",
      "\n",
      "====================================\n",
      "  Covariance Matrix\n",
      "        1           2           3   \n",
      "   2.959e-02  -3.457e+02  -4.577e-05\n",
      "  -3.457e+02   6.119e+06   8.333e-01\n",
      "  -4.577e-05   8.333e-01   1.139e-07\n",
      "------------------------------------\n",
      "\n",
      "========================================================================\n",
      "Model TBabs<1>*bremss<2> Source No.: 1   Active/On\n",
      "Model Model Component  Parameter  Unit     Value\n",
      " par  comp\n",
      "   1    1   TBabs      nH         10^22    8.10956E-02  +/-  0.172019     \n",
      "   2    2   bremss     kT         keV      199.363      +/-  2473.74      \n",
      "   3    2   bremss     norm                9.22102E-05  +/-  3.37447E-04  \n",
      "________________________________________________________________________\n",
      "\n",
      "\n",
      "Fit statistic  : Chi-Squared                  0.0533     using 3 bins.\n",
      "\n",
      "Test statistic : Chi-Squared                  0.0533     using 3 bins.\n",
      " Cannot calculate null hypothesis probability.\n"
     ]
    },
    {
     "name": "stderr",
     "output_type": "stream",
     "text": [
      "GammQ: A <=  0\n",
      "GammQ: A <=  0\n"
     ]
    }
   ],
   "source": [
    "AllModels.clear()\n",
    "mo = Model(\"tbabs*bremss\")\n",
    "Fit.perform()\n",
    "Plot.device = \"/xs\"\n",
    "Plot(\"data resid\")"
   ]
  },
  {
   "cell_type": "code",
   "execution_count": 8,
   "id": "4f360356-063b-4c14-8ea4-029f8abb6085",
   "metadata": {},
   "outputs": [
    {
     "data": {
      "text/plain": [
       "(-0.5, 859.5, 661.5, -0.5)"
      ]
     },
     "execution_count": 8,
     "metadata": {},
     "output_type": "execute_result"
    },
    {
     "data": {
      "image/png": "[encoded data removed]",
      "text/plain": [
       "<Figure size 1200x700 with 1 Axes>"
      ]
     },
     "metadata": {},
     "output_type": "display_data"
    }
   ],
   "source": [
    "img = plt.imread(glob.glob('ObsID*_SRCNUM*_E*_Spectrum_bremss.png')[0])\n",
    "plt.imshow(img)\n",
    "plt.axis('off')"
   ]
  },
  {
   "cell_type": "markdown",
   "id": "4d8ea665-d6a1-4113-beaf-fad108850b18",
   "metadata": {},
   "source": [
    "### Apec model"
   ]
  },
  {
   "cell_type": "code",
   "execution_count": 9,
   "id": "4bd12dd8-e0eb-46e8-a057-f7eb723b3a94",
   "metadata": {},
   "outputs": [
    {
     "name": "stdout",
     "output_type": "stream",
     "text": [
      "\n",
      "========================================================================\n",
      "Model TBabs<1>*apec<2> Source No.: 1   Active/On\n",
      "Model Model Component  Parameter  Unit     Value\n",
      " par  comp\n",
      "   1    1   TBabs      nH         10^22    1.00000      +/-  0.0          \n",
      "   2    2   apec       kT         keV      1.00000      +/-  0.0          \n",
      "   3    2   apec       Abundanc            1.00000      frozen\n",
      "   4    2   apec       Redshift            0.0          frozen\n",
      "   5    2   apec       norm                1.00000      +/-  0.0          \n",
      "________________________________________________________________________\n",
      "\n",
      "Reading APEC data from 3.0.9\n",
      "\n",
      "\n",
      "Fit statistic  : Chi-Squared              6.041075e+08     using 3 bins.\n",
      "\n",
      "Test statistic : Chi-Squared              6.041075e+08     using 3 bins.\n",
      " Cannot calculate null hypothesis probability.\n",
      " Current data and model not fit yet.\n",
      "                                   Parameters\n",
      "Chi-Squared  |beta|/N    Lvl          1:nH          2:kT        5:norm\n",
      "7.32079      1.29997      -3      0.445316       4.31008   0.000110151\n",
      "1.32248      25368.3      -1      0.180763       9.12073   0.000126791\n",
      "0.472007     11256.6      -2     0.0871101       25.6905   0.000143187\n",
      "0.214538     5232.15      -2     0.0712991       63.0863   0.000190821\n",
      "0.138003     2214.65      -1     0.0879606       63.9949   0.000195098\n",
      "0.117604     1640.93       0     0.0917275       63.9975   0.000194186\n",
      "0.111038     965.284       0     0.0938857       63.9999   0.000193755\n",
      "0.108779     619.005       0     0.0951185       64.0000   0.000193570\n",
      "0.107928     444.821       0     0.0958319       64.0000   0.000193505\n",
      "0.107583     358.898       0     0.0962542       64.0000   0.000193496\n",
      "0.107439     318.074       0     0.0965121       64.0000   0.000193510\n",
      "0.107379     299.952       0     0.0966754       64.0000   0.000193533\n",
      "========================================\n",
      " Variances and Principal Axes\n",
      "                 1        2        5  \n",
      " 1.0007E-09| -0.0003  -0.0000   1.0000  \n",
      " 1.1383E-02|  1.0000   0.0002   0.0003  \n",
      " 7.6714E+05| -0.0002   1.0000   0.0000  \n",
      "----------------------------------------\n",
      "\n",
      "====================================\n",
      "  Covariance Matrix\n",
      "        1           2           3   \n",
      "   2.882e-02  -1.157e+02  -3.828e-05\n",
      "  -1.157e+02   7.671e+05   2.739e-01\n",
      "  -3.828e-05   2.739e-01   9.962e-08\n",
      "------------------------------------\n",
      "\n",
      "========================================================================\n",
      "Model TBabs<1>*apec<2> Source No.: 1   Active/On\n",
      "Model Model Component  Parameter  Unit     Value\n",
      " par  comp\n",
      "   1    1   TBabs      nH         10^22    9.66754E-02  +/-  0.169767     \n",
      "   2    2   apec       kT         keV      64.0000      +/-  875.867      \n",
      "   3    2   apec       Abundanc            1.00000      frozen\n",
      "   4    2   apec       Redshift            0.0          frozen\n",
      "   5    2   apec       norm                1.93533E-04  +/-  3.15620E-04  \n",
      "________________________________________________________________________\n",
      "\n",
      "\n",
      "Fit statistic  : Chi-Squared                  0.1074     using 3 bins.\n",
      "\n",
      "Test statistic : Chi-Squared                  0.1074     using 3 bins.\n",
      " Cannot calculate null hypothesis probability.\n"
     ]
    },
    {
     "name": "stderr",
     "output_type": "stream",
     "text": [
      "GammQ: A <=  0\n",
      "GammQ: A <=  0\n"
     ]
    }
   ],
   "source": [
    "AllModels.clear()\n",
    "mo = Model(\"tbabs*apec\")\n",
    "Fit.perform()\n",
    "Plot.device = \"/xs\"\n",
    "Plot(\"data resid\")"
   ]
  },
  {
   "cell_type": "code",
   "execution_count": 10,
   "id": "e3c38dd4-72e7-44cd-b2db-963368ff15b2",
   "metadata": {},
   "outputs": [
    {
     "data": {
      "text/plain": [
       "(-0.5, 860.5, 662.5, -0.5)"
      ]
     },
     "execution_count": 10,
     "metadata": {},
     "output_type": "execute_result"
    },
    {
     "data": {
      "image/png": "[encoded data removed]",
      "text/plain": [
       "<Figure size 1200x700 with 1 Axes>"
      ]
     },
     "metadata": {},
     "output_type": "display_data"
    }
   ],
   "source": [
    "img = plt.imread(glob.glob('ObsID*_SRCNUM*_E*_Spectrum_apec.png')[0])\n",
    "plt.imshow(img)\n",
    "plt.axis('off')"
   ]
  },
  {
   "cell_type": "markdown",
   "id": "746ccf61-8e54-4726-b463-b6a3d137905c",
   "metadata": {},
   "source": [
    "### Powerlaw model"
   ]
  },
  {
   "cell_type": "code",
   "execution_count": 11,
   "id": "ecf8f29f-a8fc-4efc-9ce0-7059d934b811",
   "metadata": {},
   "outputs": [
    {
     "name": "stdout",
     "output_type": "stream",
     "text": [
      "\n",
      "========================================================================\n",
      "Model TBabs<1>*powerlaw<2> Source No.: 1   Active/On\n",
      "Model Model Component  Parameter  Unit     Value\n",
      " par  comp\n",
      "   1    1   TBabs      nH         10^22    1.00000      +/-  0.0          \n",
      "   2    2   powerlaw   PhoIndex            1.00000      +/-  0.0          \n",
      "   3    2   powerlaw   norm                1.00000      +/-  0.0          \n",
      "________________________________________________________________________\n",
      "\n",
      "\n",
      "Fit statistic  : Chi-Squared              2.591654e+10     using 3 bins.\n",
      "\n",
      "Test statistic : Chi-Squared              2.591654e+10     using 3 bins.\n",
      " Cannot calculate null hypothesis probability.\n",
      " Current data and model not fit yet.\n",
      "                                   Parameters\n",
      "Chi-Squared  |beta|/N    Lvl          1:nH    2:PhoIndex        3:norm\n",
      "8.79236      1.70719      -2      0.419115      0.587770   1.55656e-05\n",
      "4.75221      64573.1      -1     0.0883413      0.698173   1.42276e-05\n",
      "0.532284     155655       -2     0.0388012       1.00335   2.13947e-05\n",
      "0.00401432   59501.5      -3     0.0517124       1.08753   2.58143e-05\n",
      "7.83024e-08  4702.77      -4     0.0517540       1.08220   2.59881e-05\n",
      "6.59012e-16  15.6976      -5     0.0517604       1.08227   2.59887e-05\n",
      "========================================\n",
      " Variances and Principal Axes\n",
      "                 1        2        3  \n",
      " 1.8164E-11| -0.0000  -0.0000   1.0000  \n",
      " 7.3732E-03|  0.9612  -0.2760   0.0000  \n",
      " 3.6083E-01|  0.2760   0.9612   0.0000  \n",
      "----------------------------------------\n",
      "\n",
      "====================================\n",
      "  Covariance Matrix\n",
      "        1           2           3   \n",
      "   3.430e-02   9.377e-02   2.884e-06\n",
      "   9.377e-02   3.339e-01   9.148e-06\n",
      "   2.884e-06   9.148e-06   2.813e-10\n",
      "------------------------------------\n",
      "\n",
      "========================================================================\n",
      "Model TBabs<1>*powerlaw<2> Source No.: 1   Active/On\n",
      "Model Model Component  Parameter  Unit     Value\n",
      " par  comp\n",
      "   1    1   TBabs      nH         10^22    5.17604E-02  +/-  0.185205     \n",
      "   2    2   powerlaw   PhoIndex            1.08227      +/-  0.577842     \n",
      "   3    2   powerlaw   norm                2.59887E-05  +/-  1.67709E-05  \n",
      "________________________________________________________________________\n",
      "\n",
      "\n",
      "Fit statistic  : Chi-Squared                   7e-16     using 3 bins.\n",
      "\n",
      "Test statistic : Chi-Squared                   7e-16     using 3 bins.\n",
      " Cannot calculate null hypothesis probability.\n"
     ]
    },
    {
     "name": "stderr",
     "output_type": "stream",
     "text": [
      "GammQ: A <=  0\n",
      "GammQ: A <=  0\n"
     ]
    }
   ],
   "source": [
    "AllModels.clear()\n",
    "mo = Model(\"tbabs*powerlaw\")\n",
    "Fit.perform()\n",
    "Plot.device = \"/xs\"\n",
    "Plot(\"data resid\")"
   ]
  },
  {
   "cell_type": "code",
   "execution_count": 12,
   "id": "4f917501-7614-449b-b313-4ab6c7dd2aee",
   "metadata": {},
   "outputs": [
    {
     "data": {
      "text/plain": [
       "(-0.5, 857.5, 664.5, -0.5)"
      ]
     },
     "execution_count": 12,
     "metadata": {},
     "output_type": "execute_result"
    },
    {
     "data": {
      "image/png": "[encoded data removed]",
      "text/plain": [
       "<Figure size 1200x700 with 1 Axes>"
      ]
     },
     "metadata": {},
     "output_type": "display_data"
    }
   ],
   "source": [
    "img = plt.imread(glob.glob('ObsID*_SRCNUM*_E*_Spectrum_powerlaw.png')[0])\n",
    "plt.imshow(img)\n",
    "plt.axis('off')"
   ]
  },
  {
   "cell_type": "markdown",
   "id": "ccedc18b-2d1e-4c77-ab21-4a83b5e6846c",
   "metadata": {},
   "source": [
    "### ESASky\n",
    "\n",
    "https://sky.esa.int/esasky/?target=52.97008333333333%20-28.304833333333328&hips=XMM-Newton+EPIC+color&fov=1&projection=SIN&cooframe=J2000&sci=true&lang=fr\n",
    "\n",
    "``EPIC Stack``\n",
    "\n",
    "- Stack Catalogue name : 4XMMs J033152.7-281818\n",
    "- IAU name : 4XMM J033152.7-281818\n",
    "- RA : 03h 31m 52.751s\n",
    "- DEC : -28° 18' 18.16\"\n",
    "\n",
    "``GAIA``\n",
    "\n",
    "- Designation : Gaia DR3 5057378691743871360\n",
    "- RA : 03h 31m 52.742s\n",
    "- DEC : -28° 18' 18.52\"\n",
    "- Parallax : -0.7065 mas\n",
    "\n",
    "``GLADE``\n",
    "\n",
    "- No : 2 124 866\n",
    "- RA : 03h 31m 52.754s\n",
    "- DEC : -28° 18' 18.08\"\n",
    "- Distance : 289.8972 Mpc\n",
    "\n",
    "``2MASS``\n",
    "\n",
    "- Name : 03315275-2818185\n",
    "- RA : 03h 31m 52.751s\n",
    "- DEC : -28° 18' 18.57\""
   ]
  },
  {
   "cell_type": "markdown",
   "id": "f13c3453-025d-4edc-a5e8-a6f85e3ffe91",
   "metadata": {},
   "source": [
    "## Column density nH\n",
    "### 3DNH-tool\n",
    "http://astro.uni-tuebingen.de/nh3d/nhtool\n",
    "\n",
    "**Sky coordinates (°) :** from ESASky\n",
    "\n",
    "- RA = 52.9697976°\n",
    "- Dec = -28.3050451°\n",
    "\n",
    "53.97 -28.31\n",
    "\n",
    "**Column density :** nH = 3*10^20 cm^-2\n",
    "\n",
    "The different models give a column density of :\n",
    "\n",
    "- bbdoy : nH = 8.93008*10^3\n",
    "- bremss : nH = 8.10956*10^20\n",
    "- apec : nH = 9.66754*10^20\n",
    "- powerlaw : nH = 5.17604*10^20\n",
    "\n",
    "powerlaw is the closest one."
   ]
  },
  {
   "cell_type": "markdown",
   "id": "1973f13c-7580-446c-b7fe-bf273fd37c5d",
   "metadata": {},
   "source": [
    "## Flux\n",
    "### X-ray flux"
   ]
  },
  {
   "cell_type": "code",
   "execution_count": 15,
   "id": "f6ba1ee6-8282-4c45-8230-6603f9bfbae8",
   "metadata": {},
   "outputs": [
    {
     "name": "stdout",
     "output_type": "stream",
     "text": [
      "\u001b[1mX-ray  flux : \u001b[0mF_X = 4.1653e-13 ergs/cm^2/s\n",
      " Model Flux 7.9005e-05 photons (4.1653e-13 ergs/cm^2/s) range (0.20000 - 12.000 keV)\n"
     ]
    }
   ],
   "source": [
    "AllModels.calcFlux(\".2 12.0\")"
   ]
  },
  {
   "cell_type": "code",
   "execution_count": 16,
   "id": "4e93ef39-9046-44fe-a12f-a84de18a36e6",
   "metadata": {},
   "outputs": [
    {
     "name": "stdout",
     "output_type": "stream",
     "text": [
      "\u001b[1mX-ray  flux : \u001b[0mF_X = 4.1653e-13 ergs/cm^2/s\n"
     ]
    }
   ],
   "source": [
    "Flux = 4.1653e-13 # ergs/cm^2/s\n",
    "print(color.BOLD+\"X-ray  flux : \"+color.END+f\"F_X = {Flux} ergs/cm^2/s\")"
   ]
  },
  {
   "cell_type": "markdown",
   "id": "9249b6a8-2958-4a36-86d1-d2d9145a0294",
   "metadata": {},
   "source": [
    "### Optical flux"
   ]
  },
  {
   "cell_type": "code",
   "execution_count": 17,
   "id": "e07cdf8a-5548-4bec-be4b-0ca978aecf00",
   "metadata": {},
   "outputs": [
    {
     "name": "stdout",
     "output_type": "stream",
     "text": [
      "\u001b[1mOptical  flux : \u001b[0mF_opt = 3.506065365891605e-14 ergs/cm^2/s\n"
     ]
    }
   ],
   "source": [
    "def F_optical(mag):\n",
    "    F0 = 2.5*10**(-6) # Flux de référence en ergs/cm^2/s correspondant à une magnitude nulle dans la bande concernée, ici G.\n",
    "    return F0*10**(-0.4*mag)\n",
    "    \n",
    "G = 19.6328\n",
    "\n",
    "F = F_optical(G)\n",
    "\n",
    "print(color.BOLD+\"Optical  flux : \"+color.END+f\"F_opt = {F} ergs/cm^2/s\")"
   ]
  },
  {
   "cell_type": "markdown",
   "id": "63207a87-ac00-41c7-b905-755d48ae74dd",
   "metadata": {},
   "source": [
    "### X-ray flux / Optical flux ratio"
   ]
  },
  {
   "cell_type": "code",
   "execution_count": 18,
   "id": "06005a07-8561-42f2-a2d8-ceb4289f29e8",
   "metadata": {},
   "outputs": [
    {
     "name": "stdout",
     "output_type": "stream",
     "text": [
      "\u001b[1mX-ray flux / Optical flux ratio : \u001b[0mF_x-ray/F_optical = 11.880269091733688\n",
      "F_x-ray = 11.880269091733688*F_optical\n"
     ]
    }
   ],
   "source": [
    "print(color.BOLD+\"X-ray flux / Optical flux ratio : \"+color.END+f\"F_x-ray/F_optical = {Flux/F}\")\n",
    "print(f\"F_x-ray = {Flux/F}*F_optical\")"
   ]
  },
  {
   "cell_type": "markdown",
   "id": "d8d89259-a160-413b-bcf0-cb8a6dc32b93",
   "metadata": {},
   "source": [
    "## Luminosity"
   ]
  },
  {
   "cell_type": "code",
   "execution_count": 16,
   "id": "d586c000-4d0d-466d-b61a-9dae79785426",
   "metadata": {},
   "outputs": [
    {
     "name": "stdout",
     "output_type": "stream",
     "text": [
      "\u001b[1m(GAIA)\u001b[0m\n",
      "Distance : 4.3675866949752303e+21 cm\n",
      "Luminosity : 9.984796524286754e+31 erg/s\n",
      "\n",
      "\u001b[1m(GLADE)\u001b[0m\n",
      "Distance : 8.945357900400001e+26 cm\n",
      "Luminosity : 4.1884331938765736e+42 erg/s\n"
     ]
    }
   ],
   "source": [
    "\"\"\"GAIA\"\"\"\n",
    "\n",
    "P_mas = 0.7065 # Parallaxe en mas\n",
    "d_kpc = 1/P_mas # Distance en kpc\n",
    "d_cm = d_kpc*3.0857*10**21 # Distance en cm, avec 1 pc = 3.0857*10^18 cm\n",
    "\n",
    "# La source est supposée sphérique pour le calcul de la luminosité : L = 4*pi*F*D^2\n",
    "Luminosity = 4*np.pi*Flux*(d_cm)**2 # erg/s\n",
    "\n",
    "print(color.BOLD+\"(GAIA)\"+color.END)\n",
    "print(f\"Distance : {d_cm} cm\")\n",
    "print(f\"Luminosity : {Luminosity} erg/s\")\n",
    "print()\n",
    "\n",
    "\"\"\"GLADE\"\"\"\n",
    "\n",
    "d_kpc = 289897.2 # Distance en kpc\n",
    "d_cm = d_kpc*3.0857*10**21 # Distance en cm, avec 1 pc = 3.0857*10^18 cm\n",
    "\n",
    "# La source est supposée sphérique pour le calcul de la luminosité : L = 4*pi*F*D^2\n",
    "Luminosity = 4*np.pi*Flux*(d_cm)**2 # erg/s\n",
    "\n",
    "print(color.BOLD+\"(GLADE)\"+color.END)\n",
    "print(f\"Distance : {d_cm} cm\")\n",
    "print(f\"Luminosity : {Luminosity} erg/s\")"
   ]
  }
 ],
 "metadata": {
  "kernelspec": {
   "display_name": "Python 3 (ipykernel)",
   "language": "python",
   "name": "python3"
  },
  "language_info": {
   "codemirror_mode": {
    "name": "ipython",
    "version": 3
   },
   "file_extension": ".py",
   "mimetype": "text/x-python",
   "name": "python",
   "nbconvert_exporter": "python",
   "pygments_lexer": "ipython3",
   "version": "3.10.12"
  }
 },
 "nbformat": 4,
 "nbformat_minor": 5
}
