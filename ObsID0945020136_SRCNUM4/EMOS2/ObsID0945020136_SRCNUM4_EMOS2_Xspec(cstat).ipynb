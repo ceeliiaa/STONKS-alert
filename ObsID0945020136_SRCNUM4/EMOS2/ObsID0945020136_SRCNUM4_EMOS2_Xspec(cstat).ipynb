{
 "cells": [
  {
   "cell_type": "markdown",
   "id": "a09472f9-b7b4-4047-9978-0b5adf3b464f",
   "metadata": {},
   "source": [
    "# ObsID : 0945020136, SRCNUM : 4, Instru : EMOS2\n",
    "**Simbad :** Galaxy (2dFGRS TGS322Z047) https://simbad.cds.unistra.fr/simbad/sim-id?Ident=%404738151&Name=2dFGRS%20TGS322Z047&submit=submit"
   ]
  },
  {
   "cell_type": "markdown",
   "id": "587630fc-4fc0-4e8d-bf04-0493666bade4",
   "metadata": {},
   "source": [
    "## ESASky\n",
    "\n",
    "https://sky.esa.int/esasky/?target=52.97008333333333%20-28.304833333333328&hips=XMM-Newton+EPIC+color&fov=1&projection=SIN&cooframe=J2000&sci=true&lang=fr\n",
    "\n",
    "``EPIC Stack``\n",
    "\n",
    "- Stack Catalogue name : 4XMMs J033152.7-281818\n",
    "- IAU name : 4XMM J033152.7-281818\n",
    "- RA : 03h 31m 52.751s\n",
    "- DEC : -28° 18' 18.16\"\n",
    "\n",
    "``GAIA``\n",
    "\n",
    "- Designation : Gaia DR3 5057378691743871360\n",
    "- RA : 03h 31m 52.742s\n",
    "- DEC : -28° 18' 18.52\"\n",
    "- Parallax : -0.7065 mas\n",
    "- Magnitude G (mag) : 19.6328\n",
    "\n",
    "``GLADE``\n",
    "\n",
    "- No : 2 124 866\n",
    "- RA : 03h 31m 52.754s\n",
    "- DEC : -28° 18' 18.08\"\n",
    "- Distance : 289.8972 Mpc\n",
    "\n",
    "``2MASS``\n",
    "\n",
    "- Name : 03315275-2818185\n",
    "- RA : 03h 31m 52.751s\n",
    "- DEC : -28° 18' 18.57\""
   ]
  },
  {
   "cell_type": "code",
   "execution_count": 1,
   "id": "311ae079-ccd8-41c3-aac4-08c99f67b431",
   "metadata": {},
   "outputs": [],
   "source": [
    "from xspec import *\n",
    "from stingray import Lightcurve\n",
    "from astropy.io import fits\n",
    "import matplotlib.pyplot as plt\n",
    "import matplotlib.image as mpimg\n",
    "import glob\n",
    "import numpy as np\n",
    "\n",
    "class color:\n",
    "   PURPLE = '\\033[95m'\n",
    "   CYAN = '\\033[96m'\n",
    "   DARKCYAN = '\\033[36m'\n",
    "   BLUE = '\\033[94m'\n",
    "   GREEN = '\\033[92m'\n",
    "   YELLOW = '\\033[93m'\n",
    "   RED = '\\033[91m'\n",
    "   BOLD = '\\033[1m'\n",
    "   UNDERLINE = '\\033[4m'\n",
    "   END = '\\033[0m'\n",
    "\n",
    "plt.rcParams['figure.figsize'] = [12,7]"
   ]
  },
  {
   "cell_type": "markdown",
   "id": "b59a5a8e-9c26-4a75-827d-56d6e6a9a27d",
   "metadata": {},
   "source": [
    "### Redshift"
   ]
  },
  {
   "cell_type": "code",
   "execution_count": 2,
   "id": "40f1462b-6eef-4a8e-8015-c775117d5a48",
   "metadata": {},
   "outputs": [
    {
     "name": "stdout",
     "output_type": "stream",
     "text": [
      "Redshift : z = 0.06768950805293442\n"
     ]
    }
   ],
   "source": [
    "def redshift(d_Mpc):\n",
    "    H0 = 70 # Hubble constant (km/s/Mpc)\n",
    "    c = 299792.458 # km/s\n",
    "    return H0*d_Mpc/c\n",
    "\n",
    "z = redshift(289.8972)\n",
    "print(\"Redshift : z =\", z)"
   ]
  },
  {
   "cell_type": "markdown",
   "id": "526b6e7b-751d-49b0-b46a-19f1f3b834ef",
   "metadata": {},
   "source": [
    "## Fit statistic"
   ]
  },
  {
   "cell_type": "code",
   "execution_count": 3,
   "id": "1a625ec5-ba1a-4a40-a28a-33b2d34c0935",
   "metadata": {},
   "outputs": [
    {
     "name": "stdout",
     "output_type": "stream",
     "text": [
      "Default fit statistic is set to: C-Statistic\n",
      "   This will apply to all current and newly loaded spectra.\n",
      "Parameter delta values for fits will now be 0.0001 * parValue\n"
     ]
    }
   ],
   "source": [
    "Fit.statMethod = \"cstat\"\n",
    "Fit.nIterations = 100000\n",
    "Fit.delta = 1e-4\n",
    "Fit.criticalDelta = 1e-4"
   ]
  },
  {
   "cell_type": "markdown",
   "id": "39b7d9d2-7930-4892-81ba-8bd2db47e610",
   "metadata": {},
   "source": [
    "## Load files"
   ]
  },
  {
   "cell_type": "code",
   "execution_count": 4,
   "id": "cd0bcd6f-9565-4899-90b7-1e5d87e7050a",
   "metadata": {},
   "outputs": [
    {
     "name": "stdout",
     "output_type": "stream",
     "text": [
      "***Warning: Detected response matrix energy bin value = 0 (or neg).\n",
      "     XSPEC will instead use small finite value (response file will not be altered).\n",
      "\n",
      "1 spectrum  in use\n",
      " \n",
      "Spectral Data File: ObsID0945020136_SRCNUM4_EMOS2_spectrum_grp_cstat.fits  Spectrum 1\n",
      "Net count rate (cts/s) for Spectrum:1  7.295e-03 +/- 1.203e-03 (71.9 % total)\n",
      " Assigned to Data Group 1 and Plot Group 1\n",
      "  Noticed Channels:  1-75\n",
      "  Telescope: XMM Instrument: EMOS2  Channel Type: PI\n",
      "  Exposure Time: 7690 sec\n",
      " Using fit statistic: cstat\n",
      " Using Background File                ObsID0945020136_SRCNUM4_EMOS2_background_spectrum.fits\n",
      "  Background Exposure Time: 7690 sec\n",
      " Using Response (RMF) File            ObsID0945020136_SRCNUM4_EMOS2.rmf for Source 1\n",
      " Using Auxiliary Response (ARF) File  ObsID0945020136_SRCNUM4_EMOS2.arf\n",
      "\n"
     ]
    }
   ],
   "source": [
    "AllData.clear()\n",
    "spec = Spectrum(glob.glob('ObsID*_SRCNUM*_E*_spectrum_grp_cstat.fits')[0])"
   ]
  },
  {
   "cell_type": "code",
   "execution_count": 4,
   "id": "59b8c11f-d597-48f2-be46-6134b17bdb8a",
   "metadata": {},
   "outputs": [
    {
     "name": "stdout",
     "output_type": "stream",
     "text": [
      "Number of counts = 56.09855\n",
      "\n",
      "The low number of counts indicates that we should consider using cstat fit statistic instead of chi statistic.\n"
     ]
    }
   ],
   "source": [
    "n_cts = 7.295e-03*7690\n",
    "\n",
    "print(\"Number of counts =\",n_cts)\n",
    "\n",
    "if int(n_cts)<100:\n",
    "    print()\n",
    "    print(\"The low number of counts indicates that we should consider using cstat fit statistic instead of chi statistic.\")"
   ]
  },
  {
   "cell_type": "markdown",
   "id": "870eec10-27a5-4341-a01c-4a98ac400133",
   "metadata": {},
   "source": [
    "## Plot spectrum"
   ]
  },
  {
   "cell_type": "code",
   "execution_count": 5,
   "id": "37f98bf3-3d31-4c65-891f-3ea006da7786",
   "metadata": {},
   "outputs": [
    {
     "name": "stdout",
     "output_type": "stream",
     "text": [
      "     5 channels (1-5) ignored in spectrum #     1\n",
      "      No channels ignored (no channels in specified range)\n",
      "\n"
     ]
    }
   ],
   "source": [
    "Plot.xAxis=\"keV\"\n",
    "Plot.device = \"/xs\"\n",
    "Plot.xLog=True\n",
    "Plot.yLog=True\n",
    "Plot.addCommand(\"Rescale Y 0.00001 0.05\")\n",
    "Plot(\"data\")\n",
    "spec.ignore(\"**-0.2 12.0-**\")"
   ]
  },
  {
   "cell_type": "code",
   "execution_count": 6,
   "id": "27bf0415-368d-4476-8ef7-29af925b48ee",
   "metadata": {},
   "outputs": [
    {
     "data": {
      "text/plain": [
       "(-0.5, 854.5, 661.5, -0.5)"
      ]
     },
     "execution_count": 6,
     "metadata": {},
     "output_type": "execute_result"
    },
    {
     "data": {
      "image/png": "[encoded data removed]",
      "text/plain": [
       "<Figure size 1200x700 with 1 Axes>"
      ]
     },
     "metadata": {},
     "output_type": "display_data"
    }
   ],
   "source": [
    "img = plt.imread(glob.glob('ObsID*_SRCNUM*_E*_Spectrum2.png')[0])\n",
    "plt.imshow(img)\n",
    "plt.axis('off')"
   ]
  },
  {
   "cell_type": "markdown",
   "id": "7eb1edda-21f0-4876-bdbc-8cb3e4a347dc",
   "metadata": {},
   "source": [
    "### Black body model\n",
    "**tbabs :**"
   ]
  },
  {
   "cell_type": "code",
   "execution_count": 6,
   "id": "25e94b4e-0bb6-439e-af07-e82ebf0faa48",
   "metadata": {
    "scrolled": true
   },
   "outputs": [
    {
     "name": "stdout",
     "output_type": "stream",
     "text": [
      "\n",
      "========================================================================\n",
      "Model TBabs<1>*bbody<2> Source No.: 1   Active/On\n",
      "Model Model Component  Parameter  Unit     Value\n",
      " par  comp\n",
      "   1    1   TBabs      nH         10^22    1.00000      +/-  0.0          \n",
      "   2    2   bbody      kT         keV      3.00000      +/-  0.0          \n",
      "   3    2   bbody      norm                1.00000      +/-  0.0          \n",
      "________________________________________________________________________\n",
      "\n",
      "tbvabs Version 2.3\n",
      "Cosmic absorption with grains and H2, modified from\n",
      "Wilms, Allen, & McCray, 2000, ApJ 542, 914-924\n",
      "Questions: Joern Wilms\n",
      "joern.wilms@sternwarte.uni-erlangen.de\n",
      "joern.wilms@fau.de\n",
      "\n",
      "http://pulsar.sternwarte.uni-erlangen.de/wilms/research/tbabs/\n",
      "\n",
      "PLEASE NOTICE:\n",
      "To get the model described by the above paper\n",
      "you will also have to set the abundances:\n",
      "   abund wilm\n",
      "\n",
      "Note that this routine ignores the current cross section setting\n",
      "as it always HAS to use the Verner cross sections as a baseline.\n",
      "\n",
      "Fit statistic  : C-Statistic              4.191653e+06     using 70 bins.\n",
      "\n",
      "Test statistic : Chi-Squared              1.944045e+11     using 70 bins.\n",
      " Null hypothesis probability of 0.000000e+00 with 67 degrees of freedom\n",
      " Current data and model not fit yet.\n",
      "                                   Parameters\n",
      "C-Statistic  |beta|/N    Lvl          1:nH          2:kT        3:norm\n",
      "110.033      861522       -1      0.484702       199.244      0.476874\n",
      "109.581      3.77636       0      0.232811       199.261      0.462977\n",
      "109.132      4.11178       0      0.114412       199.259      0.463621\n",
      "108.257      4.2411        0    0.00704083       199.238      0.479951\n",
      "107.164      4.26244       0    0.00157597       199.178      0.523627\n",
      "106.442      3.96279       0   0.000323146       199.132      0.555078\n",
      "105.731      3.73579       0   2.44202e-05       199.081      0.588322\n",
      "105.045      3.51995       0   6.58657e-06       199.025      0.622699\n",
      "104.392      3.32044       0   2.32400e-06       198.964      0.657634\n",
      "103.779      3.13968       0   2.84213e-07       198.899      0.692552\n",
      "103.211      2.97861       0   3.97610e-08       198.830      0.727004\n",
      "102.694      2.83686       0   1.04041e-08       198.758      0.760330\n",
      "102.226      2.7144        0   3.33336e-09       198.684      0.792275\n",
      "102.122      2.60396       0   4.55157e-10       198.665      0.799614\n",
      "102.031      2.57762       0   9.73930e-11       198.647      0.806116\n",
      "101.627      2.55341       0   3.41088e-11       198.571      0.836311\n",
      "101.254      2.44093       0   3.19344e-12       198.491      0.866058\n",
      "100.91       2.34667       0   1.14627e-12       198.405      0.895419\n",
      "100.804      2.23015       0   3.89262e-13       198.374      0.904889\n",
      "100.46       2.13835       0   9.51945e-14       198.265      0.937270\n",
      "100.339      2.09916       0   8.66760e-15       198.219      0.949331\n",
      "99.8452      2.22544      -1   2.06576e-15       197.966       1.00241\n",
      "99.0591      1.72785      -2   7.46405e-16       195.690       1.08067\n",
      "98.3299      1.0166       -2   3.41960e-16       181.629       1.12095\n",
      "98.3175      2.17756       0   1.70438e-16       182.444       1.11768\n",
      "98.3153      0.0911027     0   7.40695e-17       183.615       1.11056\n",
      "***Warning: Zero alpha-matrix diagonal element for parameter 1\n",
      " Parameter 1 is pegged at 7.40695e-17 due to zero or negative pivot element, likely\n",
      " caused by the fit being insensitive to the parameter.\n",
      "98.3153      0.0615939     0   7.40695e-17       182.497       1.11305\n",
      "***Warning: Zero alpha-matrix diagonal element for parameter 1\n",
      " Parameter 1 is pegged at 7.40695e-17 due to zero or negative pivot element, likely\n",
      " caused by the fit being insensitive to the parameter.\n",
      "98.3137      0.0849727    -1   7.40695e-17       181.905       1.09902\n",
      "98.3132      0.0641403     0   7.40695e-17       182.447       1.09517\n",
      "98.3129      0.0258778     0   7.40695e-17       182.324       1.09548\n",
      "98.3128      0.00913882    0   7.40695e-17       182.250       1.09558\n",
      "***Warning: Zero alpha-matrix diagonal element for parameter 1\n",
      " Parameter 1 is pegged at 7.40695e-17 due to zero or negative pivot element, likely\n",
      " caused by the fit being insensitive to the parameter.\n",
      "98.3128      0.000308633   0   7.40695e-17       182.204       1.09556\n",
      "==============================\n",
      " Variances and Principal Axes\n",
      "                 2        3  \n",
      " 7.5481E-02| -0.0180   0.9998  \n",
      " 1.0046E+08|  0.9998   0.0180  \n",
      "------------------------------\n",
      "\n",
      "========================\n",
      "  Covariance Matrix\n",
      "        1           2   \n",
      "   1.004e+08   1.804e+06\n",
      "   1.804e+06   3.240e+04\n",
      "------------------------\n",
      "\n",
      "========================================================================\n",
      "Model TBabs<1>*bbody<2> Source No.: 1   Active/On\n",
      "Model Model Component  Parameter  Unit     Value\n",
      " par  comp\n",
      "   1    1   TBabs      nH         10^22    7.40695E-17  +/-  -1.00000     \n",
      "   2    2   bbody      kT         keV      182.204      +/-  1.00212E+04  \n",
      "   3    2   bbody      norm                1.09556      +/-  180.004      \n",
      "________________________________________________________________________\n",
      "\n",
      "\n",
      "Fit statistic  : C-Statistic                 98.3128     using 70 bins.\n",
      "\n",
      "0.6697     using 70 bins.red                 6\n",
      " Null hypothesis probability of 6.9392e-01 with 67 degrees of freedom\n",
      " Model Flux 0.00010269 photons (1.313e-12 ergs/cm^2/s) range (0.20000 - 12.000 keV)\n"
     ]
    }
   ],
   "source": [
    "AllModels.clear()\n",
    "mo = Model(\"tbabs*bbody\")\n",
    "Fit.perform()\n",
    "Plot.device = \"/xs\"\n",
    "Plot(\"data resid\")\n",
    "plt.show()\n",
    "nH_bbody = mo.TBabs.nH.values[0]\n",
    "AllModels.calcFlux(\".2 12.0\")"
   ]
  },
  {
   "cell_type": "code",
   "execution_count": 7,
   "id": "f2d55c50-94dd-468d-bf08-69bca0b63260",
   "metadata": {},
   "outputs": [
    {
     "data": {
      "text/plain": [
       "(-0.5, 855.5, 656.5, -0.5)"
      ]
     },
     "execution_count": 7,
     "metadata": {},
     "output_type": "execute_result"
    },
    {
     "data": {
      "image/png": "[encoded data removed]",
      "text/plain": [
       "<Figure size 1200x700 with 1 Axes>"
      ]
     },
     "metadata": {},
     "output_type": "display_data"
    }
   ],
   "source": [
    "img = plt.imread(glob.glob('ObsID*_SRCNUM*_E*_Spectrum_bbody2.png')[0])\n",
    "plt.imshow(img)\n",
    "plt.axis('off')"
   ]
  },
  {
   "cell_type": "markdown",
   "id": "de2fef7f-b645-418e-a7b1-6952cc8bd8b8",
   "metadata": {},
   "source": [
    "**ztbabs :**"
   ]
  },
  {
   "cell_type": "code",
   "execution_count": 9,
   "id": "93475b32-8871-4e4b-8e38-f6cc6c9d4e3d",
   "metadata": {
    "scrolled": true
   },
   "outputs": [
    {
     "name": "stdout",
     "output_type": "stream",
     "text": [
      "\n",
      "========================================================================\n",
      "Model zTBabs<1>*bbody<2> Source No.: 1   Active/On\n",
      "Model Model Component  Parameter  Unit     Value\n",
      " par  comp\n",
      "   1    1   zTBabs     nH         10^22    1.00000      +/-  0.0          \n",
      "   2    1   zTBabs     Redshift            0.0          frozen\n",
      "   3    2   bbody      kT         keV      3.00000      +/-  0.0          \n",
      "   4    2   bbody      norm                1.00000      +/-  0.0          \n",
      "________________________________________________________________________\n",
      "\n",
      "\n",
      "Fit statistic  : C-Statistic              4.189407e+06     using 70 bins.\n",
      "\n",
      "Test statistic : Chi-Squared              1.943528e+11     using 70 bins.\n",
      " Null hypothesis probability of 0.000000e+00 with 67 degrees of freedom\n",
      " Current data and model not fit yet.\n",
      "\n",
      "Fit statistic  : C-Statistic              4.296785e+06     using 70 bins.\n",
      "\n",
      "Test statistic : Chi-Squared              1.999421e+11     using 70 bins.\n",
      " Null hypothesis probability of 0.000000e+00 with 67 degrees of freedom\n",
      " Current data and model not fit yet.\n",
      "                                   Parameters\n",
      "C-Statistic  |beta|/N    Lvl          1:nH          3:kT        4:norm\n",
      "109.85       883214       -1      0.456588       199.200      0.472258\n",
      "109.257      3.87979       0      0.158211       199.215      0.461574\n",
      "108.47       4.21816       0     0.0264240       199.196      0.474078\n",
      "107.439      4.26612       0     0.0129076       199.135      0.513567\n",
      "106.288      3.99365       0   0.000536636       199.054      0.561589\n",
      "105.539      3.66263       0   0.000188915       198.989      0.597104\n",
      "104.818      3.43279       0   2.34961e-05       198.918      0.633772\n",
      "104.134      3.2212        0   3.80442e-06       198.839      0.671038\n",
      "103.496      3.02936       0   1.45646e-06       198.753      0.708287\n",
      "102.909      2.85829       0   3.34393e-07       198.661      0.744794\n",
      "102.378      2.70843       0   6.55681e-08       198.563      0.779945\n",
      "101.905      2.57912       0   9.61016e-10       198.461      0.813327\n",
      "101.506      2.44586       0   3.66451e-10       198.363      0.843386\n",
      "101.138      2.32799       0   7.63970e-11       198.259      0.872979\n",
      "100.828      2.22082       0   2.99527e-11       198.156      0.899639\n",
      "100.546      2.1225        0   6.87037e-12       198.048      0.925528\n",
      "100.288      2.03422       0   1.30945e-12       197.933      0.950721\n",
      "100.052      1.92979       0   3.93045e-14       197.810      0.975276\n",
      "99.5668      1.91806       0   1.74374e-14       197.470       1.03114\n",
      "99.3473      1.5659       -1   6.00076e-15       197.199       1.05847\n",
      "99.2754      3.56705      -2   2.15589e-15       196.112       1.05192\n",
      "98.462       1.37301      -1   2.45212e-16       192.060       1.16396\n",
      "***Warning: Zero alpha-matrix diagonal element for parameter 1\n",
      " Parameter 1 is pegged at 2.45212e-16 due to zero or negative pivot element, likely\n",
      " caused by the fit being insensitive to the parameter.\n",
      "98.3302      0.616596     -1   2.45212e-16       186.421       1.20652\n",
      "98.3182      0.194405     -1   2.45212e-16       187.267       1.17995\n",
      "98.3171      0.045662      0   2.45212e-16       186.760       1.18213\n",
      "98.317       0.0210683     0   2.45212e-16       186.719       1.18014\n",
      "98.3169      0.0141379     0   2.45212e-16       186.570       1.17839\n",
      "***Warning: Zero alpha-matrix diagonal element for parameter 1\n",
      " Parameter 1 is pegged at 2.45212e-16 due to zero or negative pivot element, likely\n",
      " caused by the fit being insensitive to the parameter.\n",
      "98.3168      0.0202255     0   2.45212e-16       186.552       1.17656\n",
      "98.3168      0.0117367     0   2.45212e-16       186.470       1.17526\n",
      "***Warning: Zero alpha-matrix diagonal element for parameter 1\n",
      " Parameter 1 is pegged at 2.45212e-16 due to zero or negative pivot element, likely\n",
      " caused by the fit being insensitive to the parameter.\n",
      "98.3167      0.0131904     0   2.45212e-16       186.362       1.17376\n",
      "==============================\n",
      " Variances and Principal Axes\n",
      "                 3        4  \n",
      " 8.6816E-02| -0.0188   0.9998  \n",
      " 9.3214E+07|  0.9998   0.0188  \n",
      "------------------------------\n",
      "\n",
      "========================\n",
      "  Covariance Matrix\n",
      "        1           2   \n",
      "   9.318e+07   1.756e+06\n",
      "   1.756e+06   3.309e+04\n",
      "------------------------\n",
      "\n",
      "========================================================================\n",
      "Model zTBabs<1>*bbody<2> Source No.: 1   Active/On\n",
      "Model Model Component  Parameter  Unit     Value\n",
      " par  comp\n",
      "   1    1   zTBabs     nH         10^22    2.45212E-16  +/-  -1.00000     \n",
      "   2    1   zTBabs     Redshift            6.76895E-02  frozen\n",
      "   3    2   bbody      kT         keV      186.362      +/-  9653.05      \n",
      "   4    2   bbody      norm                1.17376      +/-  181.898      \n",
      "________________________________________________________________________\n",
      "\n",
      "\n",
      "Fit statistic  : C-Statistic                 98.3167     using 70 bins.\n",
      "\n",
      "Test statistic : Chi-Squared                 60.7400     using 70 bins.\n",
      " Null hypothesis probability of 6.9164e-01 with 67 degrees of freedom\n",
      " Model Flux 0.00010287 photons (1.3154e-12 ergs/cm^2/s) range (0.20000 - 12.000 keV)\n"
     ]
    }
   ],
   "source": [
    "AllModels.clear()\n",
    "moz = Model(\"ztbabs*bbody\")\n",
    "moz.zTBabs.Redshift = z\n",
    "Fit.perform()\n",
    "Plot.device = \"/xs\"\n",
    "Plot(\"data resid\")\n",
    "nH_bbody_z = moz.zTBabs.nH.values[0]\n",
    "AllModels.calcFlux(\".2 12.0\")"
   ]
  },
  {
   "cell_type": "markdown",
   "id": "b77a2e66-8412-4d85-a277-10782493ea2e",
   "metadata": {},
   "source": [
    "### Bremsstrahlung model (Best fit)\n",
    "**tbabs :**"
   ]
  },
  {
   "cell_type": "code",
   "execution_count": 10,
   "id": "3ed606fb-6f75-4369-b9c8-b5c95a0a9577",
   "metadata": {
    "scrolled": true
   },
   "outputs": [
    {
     "name": "stdout",
     "output_type": "stream",
     "text": [
      "\n",
      "========================================================================\n",
      "Model TBabs<1>*bremss<2> Source No.: 1   Active/On\n",
      "Model Model Component  Parameter  Unit     Value\n",
      " par  comp\n",
      "   1    1   TBabs      nH         10^22    1.00000      +/-  0.0          \n",
      "   2    2   bremss     kT         keV      7.00000      +/-  0.0          \n",
      "   3    2   bremss     norm                1.00000      +/-  0.0          \n",
      "________________________________________________________________________\n",
      "\n",
      "\n",
      "Fit statistic  : C-Statistic              1.038901e+06     using 70 bins.\n",
      "\n",
      "Test statistic : Chi-Squared              8.423841e+09     using 70 bins.\n",
      " Null hypothesis probability of 0.000000e+00 with 67 degrees of freedom\n",
      " Current data and model not fit yet.\n",
      "                                   Parameters\n",
      "C-Statistic  |beta|/N    Lvl          1:nH          2:kT        3:norm\n",
      "213967       193873       -3      0.424798       196.888      0.245289\n",
      "139509       148052       -3     0.0102344       199.313      0.105468\n",
      "15694.6      225069       -2       2.50777       199.341     0.0380600\n",
      "11933.8      70755.9      -3       1.06216       6.11258     0.0128177\n",
      "5142.6       161596       -4      0.115906       198.861    0.00496533\n",
      "1585.97      187028       -2     0.0211886       199.338    0.00153516\n",
      "198.724      202697       -2    0.00773603       199.359   0.000295979\n",
      "71.1458      148303       -2     0.0381534       199.362   4.72708e-05\n",
      "65.6192      81724.5      -3     0.0494460       199.363   9.37054e-05\n",
      "65.4334      23481        -2     0.0526733       199.363   9.27619e-05\n",
      "65.3623      21445.3      -2     0.0530842       199.363   9.22525e-05\n",
      "64.7602      20616.1      -1     0.0573136       199.363   8.64795e-05\n",
      "64.6143      11179        -1     0.0578471       199.363   8.38530e-05\n",
      "64.5713      6886.82      -1     0.0579214       199.363   8.26428e-05\n",
      "64.5558      4862.99      -1     0.0579115       199.363   8.20510e-05\n",
      "64.5495      3862.81      -1     0.0578927       199.363   8.17555e-05\n",
      "64.5466      3361.24      -1     0.0578793       199.363   8.16065e-05\n",
      "64.5452      3107.81      -1     0.0578714       199.363   8.15310e-05\n",
      "64.5446      2979.26      -1     0.0578671       199.363   8.14926e-05\n",
      "9.363   8.14731e-051      -1     0.0578648       19\n",
      "64.5441      2880.66      -1     0.0578636       199.363   8.14631e-05\n",
      "64.544       2863.73      -1     0.0578630       199.363   8.14581e-05\n",
      "========================================\n",
      " Variances and Principal Axes\n",
      "                 1        2        3  \n",
      " 1.9319E-10| -0.0001  -0.0000   1.0000  \n",
      " 8.8490E-03|  1.0000   0.0000   0.0001  \n",
      " 4.2792E+06| -0.0000   1.0000   0.0000  \n",
      "----------------------------------------\n",
      "\n",
      "====================================\n",
      "  Covariance Matrix\n",
      "        1           2           3   \n",
      "   1.946e-02  -2.131e+02  -2.488e-05\n",
      "  -2.131e+02   4.279e+06   5.182e-01\n",
      "  -2.488e-05   5.182e-01   6.304e-08\n",
      "------------------------------------\n",
      "\n",
      "========================================================================\n",
      "Model TBabs<1>*bremss<2> Source No.: 1   Active/On\n",
      "Model Model Component  Parameter  Unit     Value\n",
      " par  comp\n",
      "   1    1   TBabs      nH         10^22    5.78630E-02  +/-  0.139499     \n",
      "   2    2   bremss     kT         keV      199.363      +/-  2068.62      \n",
      "   3    2   bremss     norm                8.14581E-05  +/-  2.51074E-04  \n",
      "________________________________________________________________________\n",
      "\n",
      "\n",
      "Fit statistic  : C-Statistic                 64.5440     using 70 bins.\n",
      "\n",
      "Test statistic : Chi-Squared                 57.9886     using 70 bins.\n",
      " Null hypothesis probability of 7.7580e-01 with 67 degrees of freedom\n",
      " Model Flux 7.108e-05 photons (3.4273e-13 ergs/cm^2/s) range (0.20000 - 12.000 keV)\n"
     ]
    }
   ],
   "source": [
    "AllModels.clear()\n",
    "mo = Model(\"tbabs*bremss\")\n",
    "Fit.perform()\n",
    "Plot.device = \"/xs\"\n",
    "Plot(\"data resid\")\n",
    "nH_bremss = mo.TBabs.nH.values[0]\n",
    "AllModels.calcFlux(\".2 12.0\")"
   ]
  },
  {
   "cell_type": "code",
   "execution_count": 11,
   "id": "4f360356-063b-4c14-8ea4-029f8abb6085",
   "metadata": {},
   "outputs": [
    {
     "data": {
      "text/plain": [
       "(-0.5, 855.5, 657.5, -0.5)"
      ]
     },
     "execution_count": 11,
     "metadata": {},
     "output_type": "execute_result"
    },
    {
     "data": {
      "image/png": "[encoded data removed]",
      "text/plain": [
       "<Figure size 1200x700 with 1 Axes>"
      ]
     },
     "metadata": {},
     "output_type": "display_data"
    }
   ],
   "source": [
    "img = plt.imread(glob.glob('ObsID*_SRCNUM*_E*_Spectrum_bremss2.png')[0])\n",
    "plt.imshow(img)\n",
    "plt.axis('off')"
   ]
  },
  {
   "cell_type": "markdown",
   "id": "4ef32de0-e1e0-4fe2-a527-79492fae911a",
   "metadata": {},
   "source": [
    "**ztbabs :**"
   ]
  },
  {
   "cell_type": "code",
   "execution_count": 12,
   "id": "60856302-e0bc-47af-b8cd-97a4d24fbf31",
   "metadata": {
    "scrolled": true
   },
   "outputs": [
    {
     "name": "stdout",
     "output_type": "stream",
     "text": [
      "\n",
      "========================================================================\n",
      "Model zTBabs<1>*bremss<2> Source No.: 1   Active/On\n",
      "Model Model Component  Parameter  Unit     Value\n",
      " par  comp\n",
      "   1    1   zTBabs     nH         10^22    1.00000      +/-  0.0          \n",
      "   2    1   zTBabs     Redshift            0.0          frozen\n",
      "   3    2   bremss     kT         keV      7.00000      +/-  0.0          \n",
      "   4    2   bremss     norm                1.00000      +/-  0.0          \n",
      "________________________________________________________________________\n",
      "\n",
      "\n",
      "Fit statistic  : C-Statistic              1.035836e+06     using 70 bins.\n",
      "\n",
      "Test statistic : Chi-Squared              8.392321e+09     using 70 bins.\n",
      " Null hypothesis probability of 0.000000e+00 with 67 degrees of freedom\n",
      " Current data and model not fit yet.\n",
      "\n",
      "Fit statistic  : C-Statistic              1.121990e+06     using 70 bins.\n",
      "\n",
      "Test statistic : Chi-Squared              9.600820e+09     using 70 bins.\n",
      " Null hypothesis probability of 0.000000e+00 with 67 degrees of freedom\n",
      " Current data and model not fit yet.\n",
      "                                   Parameters\n",
      "C-Statistic  |beta|/N    Lvl          1:nH          3:kT        4:norm\n",
      "183875       206865       -3      0.356556       198.379      0.194042\n",
      "106466       160140       -2     0.0823353       199.202     0.0884305\n",
      "44864.8      203374       -2     0.0392709       199.311     0.0356697\n",
      "6558.73      213291       -2    0.00680671       199.349    0.00534192\n",
      "114.859      219074       -2      0.159989       199.359   7.14381e-06\n",
      "96.22        239753       -3     0.0612687       62.4916   0.000125584\n",
      "74.2638      128132       -4     0.0247520       199.313   0.000121419\n",
      "68.8833      62940.7      -2     0.0446938       199.342   0.000107970\n",
      "67.6539      44129.5      -2     0.0463606       199.362   0.000103222\n",
      "66.452       38056.4      -2     0.0460328       199.363   9.73409e-05\n",
      "66.1208      30436.7      -2     0.0474215       199.363   9.56249e-05\n",
      "66.0494      27817.7      -2     0.0506706       199.363   9.55969e-05\n",
      "65.9919      27152.8      -2     0.0508960       199.363   9.52686e-05\n",
      "65.9756      26654.2      -2     0.0509739       199.363   9.51755e-05\n",
      "64.9425      26509.9      -1     0.0566579       199.363   8.73392e-05\n",
      "64.7184      13901.1      -1     0.0572744       199.363   8.41011e-05\n",
      "64.6517      8668.54      -1     0.0574121       199.363   8.26171e-05\n",
      "64.6276      6178.13      -1     0.0574241       199.363   8.18982e-05\n",
      "64.6177      4952.8       -1     0.0574126       199.363   8.15411e-05\n",
      "64.6132      4340.01      -1     0.0574016       199.363   8.13616e-05\n",
      "64.6111      4030.97      -1     0.0573945       199.363   8.12707e-05\n",
      "64.61        3874.43      -1     0.0573905       199.363   8.12246e-05\n",
      "64.6095      3794.95      -1     0.0573883       199.363   8.12012e-05\n",
      "64.6092      3754.54      -1     0.0573872       199.363   8.11893e-05\n",
      "64.6091      3733.99      -1     0.0573866       199.363   8.11832e-05\n",
      "64.609       3723.54      -1     0.0573863       199.363   8.11802e-05\n",
      "========================================\n",
      " Variances and Principal Axes\n",
      "                 1        3        4  \n",
      " 1.9141E-10| -0.0001  -0.0000   1.0000  \n",
      " 1.0037E-02|  1.0000   0.0001   0.0001  \n",
      " 4.0612E+06| -0.0001   1.0000   0.0000  \n",
      "----------------------------------------\n",
      "\n",
      "====================================\n",
      "  Covariance Matrix\n",
      "        1           2           3   \n",
      "   2.104e-02  -2.114e+02  -2.465e-05\n",
      "  -2.114e+02   4.061e+06   4.915e-01\n",
      "  -2.465e-05   4.915e-01   5.976e-08\n",
      "------------------------------------\n",
      "\n",
      "========================================================================\n",
      "Model zTBabs<1>*bremss<2> Source No.: 1   Active/On\n",
      "Model Model Component  Parameter  Unit     Value\n",
      " par  comp\n",
      "   1    1   zTBabs     nH         10^22    5.73863E-02  +/-  0.145060     \n",
      "   2    1   zTBabs     Redshift            6.76895E-02  frozen\n",
      "   3    2   bremss     kT         keV      199.363      +/-  2015.25      \n",
      "   4    2   bremss     norm                8.11802E-05  +/-  2.44458E-04  \n",
      "________________________________________________________________________\n",
      "\n",
      "\n",
      "Fit statistic  : C-Statistic                 64.6090     using 70 bins.\n",
      "\n",
      "Test statistic : Chi-Squared                 58.3895     using 70 bins.\n",
      " Null hypothesis probability of 7.6425e-01 with 67 degrees of freedom\n",
      " Model Flux 7.2641e-05 photons (3.4317e-13 ergs/cm^2/s) range (0.20000 - 12.000 keV)\n"
     ]
    }
   ],
   "source": [
    "AllModels.clear()\n",
    "moz = Model(\"ztbabs*bremss\")\n",
    "moz.zTBabs.Redshift = z\n",
    "Fit.perform()\n",
    "Plot.device = \"/xs\"\n",
    "Plot(\"data resid\")\n",
    "nH_bremss_z = moz.zTBabs.nH.values[0]\n",
    "AllModels.calcFlux(\".2 12.0\")"
   ]
  },
  {
   "cell_type": "markdown",
   "id": "4d8ea665-d6a1-4113-beaf-fad108850b18",
   "metadata": {},
   "source": [
    "### Apec model\n",
    "**tbabs :**"
   ]
  },
  {
   "cell_type": "code",
   "execution_count": 13,
   "id": "4bd12dd8-e0eb-46e8-a057-f7eb723b3a94",
   "metadata": {
    "scrolled": true
   },
   "outputs": [
    {
     "name": "stdout",
     "output_type": "stream",
     "text": [
      "\n",
      "========================================================================\n",
      "Model TBabs<1>*apec<2> Source No.: 1   Active/On\n",
      "Model Model Component  Parameter  Unit     Value\n",
      " par  comp\n",
      "   1    1   TBabs      nH         10^22    1.00000      +/-  0.0          \n",
      "   2    2   apec       kT         keV      1.00000      +/-  0.0          \n",
      "   3    2   apec       Abundanc            1.00000      frozen\n",
      "   4    2   apec       Redshift            0.0          frozen\n",
      "   5    2   apec       norm                1.00000      +/-  0.0          \n",
      "________________________________________________________________________\n",
      "\n",
      "Reading APEC data from 3.0.9\n",
      "\n",
      "\n",
      "Fit statistic  : C-Statistic                391180.2     using 70 bins.\n",
      "\n",
      "Test statistic : Chi-Squared              1.584806e+09     using 70 bins.\n",
      " Null hypothesis probability of 0.000000e+00 with 67 degrees of freedom\n",
      " Current data and model not fit yet.\n",
      "                                   Parameters\n",
      "C-Statistic  |beta|/N    Lvl          1:nH          2:kT        5:norm\n",
      "125.469      113512       -3       677.314       40.7742      0.485667\n",
      "125.449      0.00703354   -4       8849.25       1.71455       39.2787\n",
      "125.449      1.36824e-30  -5       1873.65     0.0700109       3.89842\n",
      "========================================\n",
      " Variances and Principal Axes\n",
      "                 1        2        5  \n",
      " 1.0000E+18| -0.0022   1.0000   0.0080  \n",
      " 1.2947E+71| -0.5689  -0.0078   0.8224  \n",
      " 7.2938E+73|  0.8224  -0.0027   0.5689  \n",
      "----------------------------------------\n",
      "\n",
      "====================================\n",
      "  Covariance Matrix\n",
      "        1           2           3   \n",
      "   4.937e+73  -1.603e+71   3.406e+73\n",
      "  -1.603e+71   5.327e+68  -1.121e+71\n",
      "   3.406e+73  -1.121e+71   2.369e+73\n",
      "------------------------------------\n",
      "\n",
      "========================================================================\n",
      "Model TBabs<1>*apec<2> Source No.: 1   Active/On\n",
      "Model Model Component  Parameter  Unit     Value\n",
      " par  comp\n",
      "   1    1   TBabs      nH         10^22    1873.65      +/-  7.02673E+36  \n",
      "   2    2   apec       kT         keV      7.00109E-02  +/-  2.30810E+34  \n",
      "   3    2   apec       Abundanc            1.00000      frozen\n",
      "   4    2   apec       Redshift            0.0          frozen\n",
      "   5    2   apec       norm                3.89842      +/-  4.86747E+36  \n",
      "________________________________________________________________________\n",
      "\n",
      "\n",
      "Fit statistic  : C-Statistic                125.4487     using 70 bins.\n",
      "\n",
      "Test statistic : Chi-Squared                 50.4681     using 70 bins.\n",
      " Null hypothesis probability of 9.3412e-01 with 67 degrees of freedom\n",
      " Model Flux 3.8862e-78 photons (2.5719e-86 ergs/cm^2/s) range (0.20000 - 12.000 keV)\n"
     ]
    }
   ],
   "source": [
    "AllModels.clear()\n",
    "mo = Model(\"tbabs*apec\")\n",
    "Fit.perform()\n",
    "Plot.device = \"/xs\"\n",
    "Plot(\"data resid\")\n",
    "nH_apec = moz.zTBabs.nH.values[0]\n",
    "AllModels.calcFlux(\".2 12.0\")"
   ]
  },
  {
   "cell_type": "code",
   "execution_count": 14,
   "id": "25bba1cc-a299-43db-9727-9d9d84bd9e57",
   "metadata": {},
   "outputs": [
    {
     "data": {
      "text/plain": [
       "(-0.5, 854.5, 655.5, -0.5)"
      ]
     },
     "execution_count": 14,
     "metadata": {},
     "output_type": "execute_result"
    },
    {
     "data": {
      "image/png": "[encoded data removed]",
      "text/plain": [
       "<Figure size 1200x700 with 1 Axes>"
      ]
     },
     "metadata": {},
     "output_type": "display_data"
    }
   ],
   "source": [
    "img = plt.imread(glob.glob('ObsID*_SRCNUM*_E*_Spectrum_apec2.png')[0])\n",
    "plt.imshow(img)\n",
    "plt.axis('off')"
   ]
  },
  {
   "cell_type": "markdown",
   "id": "746ccf61-8e54-4726-b463-b6a3d137905c",
   "metadata": {},
   "source": [
    "### Powerlaw model"
   ]
  },
  {
   "cell_type": "code",
   "execution_count": 16,
   "id": "9bea1501-e19f-416d-82d0-92e5836e2484",
   "metadata": {
    "scrolled": true
   },
   "outputs": [
    {
     "name": "stdout",
     "output_type": "stream",
     "text": [
      "\n",
      "========================================================================\n",
      "Model TBabs<1>*powerlaw<2> Source No.: 1   Active/On\n",
      "Model Model Component  Parameter  Unit     Value\n",
      " par  comp\n",
      "   1    1   TBabs      nH         10^22    1.00000      +/-  0.0          \n",
      "   2    2   powerlaw   PhoIndex            1.00000      +/-  0.0          \n",
      "   3    2   powerlaw   norm                1.00000      +/-  0.0          \n",
      "________________________________________________________________________\n",
      "\n",
      "\n",
      "Fit statistic  : C-Statistic              2.486290e+06     using 70 bins.\n",
      "\n",
      "Test statistic : Chi-Squared              5.037308e+10     using 70 bins.\n",
      " Null hypothesis probability of 0.000000e+00 with 67 degrees of freedom\n",
      " Current data and model not fit yet.\n",
      "                                   Parameters\n",
      "C-Statistic  |beta|/N    Lvl          1:nH    2:PhoIndex        3:norm\n",
      "634613       623322       -2      0.167198       8.75679     0.0398766\n",
      "125.449      2.80856e+06  -3       10513.2       9.36179       992.810\n",
      "125.449      5.99299e-40  -4       2551.85       9.43852       416.670\n",
      "========================================\n",
      " Variances and Principal Axes\n",
      "                 1        2        3  \n",
      " 1.0000E+18| -0.0029  -1.0000   0.0004  \n",
      " 2.2856E+90|  0.9998  -0.0029  -0.0176  \n",
      " 1.5423E+99|  0.0176   0.0004   0.9998  \n",
      "----------------------------------------\n",
      "\n",
      "====================================\n",
      "  Covariance Matrix\n",
      "        1           2           3   \n",
      "   4.794e+95   9.664e+93   2.719e+97\n",
      "   9.664e+93   1.948e+92   5.481e+95\n",
      "   2.719e+97   5.481e+95   1.542e+99\n",
      "------------------------------------\n",
      "\n",
      "========================================================================\n",
      "Model TBabs<1>*powerlaw<2> Source No.: 1   Active/On\n",
      "Model Model Component  Parameter  Unit     Value\n",
      " par  comp\n",
      "   1    1   TBabs      nH         10^22    2551.85      +/-  6.92418E+47  \n",
      "   2    2   powerlaw   PhoIndex            9.43852      +/-  1.39575E+46  \n",
      "   3    2   powerlaw   norm                416.670      +/-  3.92659E+49  \n",
      "________________________________________________________________________\n",
      "\n",
      "\n",
      "Fit statistic  : C-Statistic                125.4487     using 70 bins.\n",
      "\n",
      "Test statistic : Chi-Squared                 50.4681     using 70 bins.\n",
      " Null hypothesis probability of 9.3412e-01 with 67 degrees of freedom\n",
      " Model Flux 1.1681e-16 photons (2.2001e-24 ergs/cm^2/s) range (0.20000 - 12.000 keV)\n"
     ]
    }
   ],
   "source": [
    "AllModels.clear()\n",
    "mo = Model(\"tbabs*powerlaw\")\n",
    "Fit.perform()\n",
    "Plot.device = \"/xs\"\n",
    "Plot(\"data resid\")\n",
    "nH_powerlaw = mo.TBabs.nH.values[0]\n",
    "AllModels.calcFlux(\".2 12.0\")"
   ]
  },
  {
   "cell_type": "code",
   "execution_count": 17,
   "id": "4ade0a17-4890-470c-b7ad-125241545834",
   "metadata": {},
   "outputs": [
    {
     "data": {
      "text/plain": [
       "(-0.5, 854.5, 655.5, -0.5)"
      ]
     },
     "execution_count": 17,
     "metadata": {},
     "output_type": "execute_result"
    },
    {
     "data": {
      "image/png": "[encoded data removed]",
      "text/plain": [
       "<Figure size 1200x700 with 1 Axes>"
      ]
     },
     "metadata": {},
     "output_type": "display_data"
    }
   ],
   "source": [
    "img = plt.imread(glob.glob('ObsID*_SRCNUM*_E*_Spectrum_powerlaw2.png')[0])\n",
    "plt.imshow(img)\n",
    "plt.axis('off')"
   ]
  },
  {
   "cell_type": "markdown",
   "id": "1aa865ca-f0d3-4c65-b23e-47e9b0f666b5",
   "metadata": {},
   "source": [
    "**ztbabs :**"
   ]
  },
  {
   "cell_type": "code",
   "execution_count": 18,
   "id": "6785d897-98f4-4abe-b339-4ec8f7ade205",
   "metadata": {
    "scrolled": true
   },
   "outputs": [
    {
     "name": "stdout",
     "output_type": "stream",
     "text": [
      "\n",
      "========================================================================\n",
      "Model zTBabs<1>*powerlaw<2> Source No.: 1   Active/On\n",
      "Model Model Component  Parameter  Unit     Value\n",
      " par  comp\n",
      "   1    1   zTBabs     nH         10^22    1.00000      +/-  0.0          \n",
      "   2    1   zTBabs     Redshift            0.0          frozen\n",
      "   3    2   powerlaw   PhoIndex            1.00000      +/-  0.0          \n",
      "   4    2   powerlaw   norm                1.00000      +/-  0.0          \n",
      "________________________________________________________________________\n",
      "\n",
      "\n",
      "Fit statistic  : C-Statistic              2.481615e+06     using 70 bins.\n",
      "\n",
      "Test statistic : Chi-Squared              5.028520e+10     using 70 bins.\n",
      " Null hypothesis probability of 0.000000e+00 with 67 degrees of freedom\n",
      " Current data and model not fit yet.\n",
      "\n",
      "Fit statistic  : C-Statistic              2.628031e+06     using 70 bins.\n",
      "\n",
      "Test statistic : Chi-Squared              5.440219e+10     using 70 bins.\n",
      " Null hypothesis probability of 0.000000e+00 with 67 degrees of freedom\n",
      " Current data and model not fit yet.\n",
      "                                   Parameters\n",
      "C-Statistic  |beta|/N    Lvl          1:nH    3:PhoIndex        4:norm\n",
      "314657       647348       -3      0.437360       5.80801      0.371822\n",
      "143.884      247019       -4       845.179      -1.22160      0.180213\n",
      "125.449      21.6902      -5       19287.0       4.57297       109.307\n",
      "125.449      8.689e-53    -6       5207.73       9.32817       52.6589\n",
      "***Warning: LevMarq::invertCorrelationMatrix: \n",
      "            Negative diagonal element for parameter 1\n",
      "***Warning: LevMarq::invertCorrelationMatrix: \n",
      "            Negative diagonal element for parameter 3\n",
      "***Warning: LevMarq::invertCorrelationMatrix: \n",
      "            Negative diagonal element for parameter 4\n",
      "========================================\n",
      " Variances and Principal Axes\n",
      "                 1        3        4  \n",
      " 1.0000E+18|  0.1888   0.0032   0.9820  \n",
      " 1.6313E+111| -0.0024  -1.0000   0.0037  \n",
      " 2.5336E+116|  0.9820  -0.0030  -0.1888  \n",
      "----------------------------------------\n",
      "\n",
      "===================\n",
      "  Covariance Matrix\n",
      "        1           2           3   \n",
      " -4.524e+122 -7.598e+120 -2.353e+123\n",
      " -7.598e+120 -1.276e+119 -3.951e+121\n",
      " -2.353e+123 -3.951e+121 -1.223e+124\n",
      "------------------------------------\n",
      "\n",
      "========================================================================\n",
      "Model zTBabs<1>*powerlaw<2> Source No.: 1   Active/On\n",
      "Model Model Component  Parameter  Unit     Value\n",
      " par  comp\n",
      "   1    1   zTBabs     nH         10^22    5207.73      +/-  -1.00000     \n",
      "   2    1   zTBabs     Redshift            6.76895E-02  frozen\n",
      "   3    2   powerlaw   PhoIndex            9.32817      +/-  -1.00000     \n",
      "   4    2   powerlaw   norm                52.6589      +/-  -1.00000     \n",
      "________________________________________________________________________\n",
      "\n",
      "\n",
      "Fit statistic  : C-Statistic                125.4487     using 70 bins.\n",
      "\n",
      "Test statistic : Chi-Squared                 50.4681     using 70 bins.\n",
      " Null hypothesis probability of 9.3412e-01 with 67 degrees of freedom\n",
      " Model Flux 4.135e-23 photons (7.8562e-31 ergs/cm^2/s) range (0.20000 - 12.000 keV)\n"
     ]
    }
   ],
   "source": [
    "AllModels.clear()\n",
    "moz = Model(\"ztbabs*powerlaw\")\n",
    "moz.zTBabs.Redshift = z\n",
    "Fit.perform()\n",
    "Plot.device = \"/xs\"\n",
    "Plot(\"data resid\")\n",
    "nH_powerlaw_z = moz.zTBabs.nH.values[0]\n",
    "AllModels.calcFlux(\".2 12.0\")"
   ]
  },
  {
   "cell_type": "markdown",
   "id": "47e81948-54fe-4e77-9266-afb65b0e11c6",
   "metadata": {},
   "source": [
    "## Column density nH\n",
    "### 3DNH-tool\n",
    "http://astro.uni-tuebingen.de/nh3d/nhtool\n",
    "\n",
    "**Sky coordinates (°) :** from ESASky\n",
    "\n",
    "- RA = 52.9697976°\n",
    "- Dec = -28.3050451°\n",
    "\n",
    "53.97 -28.31\n",
    "\n",
    "**Column density :** nH = 3*10^20 cm^-2"
   ]
  },
  {
   "cell_type": "code",
   "execution_count": 25,
   "id": "13b222fc-2f22-4ed6-8d52-515f2c604534",
   "metadata": {},
   "outputs": [
    {
     "name": "stdout",
     "output_type": "stream",
     "text": [
      "The different models give a column density of :\n",
      "\n",
      "\u001b[1mbbody\u001b[0m\n",
      "(tbabs) : 740694.6406079002\n",
      "(ztbabs) : 2452118.2846069885\n",
      "\n",
      "\u001b[1mbremss (Best fit)\u001b[0m\n",
      "(tbabs) : 5.7862999882303314e+20\n",
      "(ztbabs) : 5.7386264463775354e+20\n",
      "\n",
      "\u001b[1mapec\u001b[0m\n",
      "(tbabs) : 1.8736476786043821e+25\n",
      "\n",
      "\u001b[1mpowerlaw\u001b[0m\n",
      "(tbabs) : 2.5518488321104433e+25\n",
      "(ztbabs) : 5.2077331958072685e+25\n"
     ]
    }
   ],
   "source": [
    "print(\"The different models give a column density of :\")\n",
    "print()\n",
    "print(color.BOLD+\"bbody\"+color.END)\n",
    "print(f\"(tbabs) : {nH_bbody*10**22}\")\n",
    "print(f\"(ztbabs) : {nH_bbody_z*10**22}\")\n",
    "print()\n",
    "print(color.BOLD+\"bremss (Best fit)\"+color.END)\n",
    "print(f\"(tbabs) : {nH_bremss*10**22}\")\n",
    "print(f\"(ztbabs) : {nH_bremss_z*10**22}\")\n",
    "print()\n",
    "print(color.BOLD+\"apec\"+color.END)\n",
    "print(f\"(tbabs) : {nH_apec*10**22}\")\n",
    "print()\n",
    "print(color.BOLD+\"powerlaw\"+color.END)\n",
    "print(f\"(tbabs) : {nH_powerlaw*10**22}\")\n",
    "print(f\"(ztbabs) : {nH_powerlaw_z*10**22}\")"
   ]
  },
  {
   "cell_type": "markdown",
   "id": "1973f13c-7580-446c-b7fe-bf273fd37c5d",
   "metadata": {},
   "source": [
    "## Flux\n",
    "### X-ray flux\n",
    "- X-ray flux of the best-fitting model ``Bremss`` with C-statistic = 64.5440 using 70 bins: **3.4273e-13 ergs/cm^2/s**."
   ]
  },
  {
   "cell_type": "code",
   "execution_count": 3,
   "id": "4e93ef39-9046-44fe-a12f-a84de18a36e6",
   "metadata": {},
   "outputs": [
    {
     "name": "stdout",
     "output_type": "stream",
     "text": [
      "\u001b[1mX-ray flux : \u001b[0m\n",
      "Bremss : F_x-ray = 3.4273e-13 ergs/cm^2/s\n"
     ]
    }
   ],
   "source": [
    "Flux = 3.4273e-13 # ergs/cm^2/s\n",
    "print(color.BOLD+\"X-ray flux : \"+color.END)\n",
    "print(f\"Bremss : F_x-ray = {Flux} ergs/cm^2/s\")"
   ]
  },
  {
   "cell_type": "markdown",
   "id": "37ba6c3e-3fae-421a-b4d6-b49f3773dc3b",
   "metadata": {},
   "source": [
    "### Optical flux"
   ]
  },
  {
   "cell_type": "code",
   "execution_count": 4,
   "id": "0067e9f5-c33a-425c-87d6-ac83cea1fe60",
   "metadata": {},
   "outputs": [
    {
     "name": "stdout",
     "output_type": "stream",
     "text": [
      "\u001b[1mOptical flux : \u001b[0mF_optical = 1.4725474536744745e-13 ergs/cm^2/s\n"
     ]
    }
   ],
   "source": [
    "def F_optical(mag):\n",
    "    F0 = 1.05*10**(-5) # GAIA zero point magnitude\n",
    "    return F0*10**(-0.4*mag)\n",
    "    \n",
    "G = 19.6328\n",
    "\n",
    "F = F_optical(G)\n",
    "\n",
    "print(color.BOLD+\"Optical flux : \"+color.END+f\"F_optical = {F} ergs/cm^2/s\")"
   ]
  },
  {
   "cell_type": "markdown",
   "id": "29466066-562d-40f4-9753-38aa262da9c4",
   "metadata": {},
   "source": [
    "### X-ray flux / Optical flux ratio"
   ]
  },
  {
   "cell_type": "code",
   "execution_count": 5,
   "id": "bc8045fe-32dc-474c-8c87-90f1854acb5e",
   "metadata": {},
   "outputs": [
    {
     "name": "stdout",
     "output_type": "stream",
     "text": [
      "\u001b[1mX-ray flux / Optical flux ratio : \u001b[0mF_x-ray/F_optical = 2.327463194104744\n"
     ]
    }
   ],
   "source": [
    "print(color.BOLD+\"X-ray flux / Optical flux ratio : \"+color.END+f\"F_x-ray/F_optical = {Flux/F}\")"
   ]
  },
  {
   "cell_type": "markdown",
   "id": "5aa0902c-31d6-4699-925c-e74a5cc0a0c4",
   "metadata": {},
   "source": [
    "## Luminosity"
   ]
  },
  {
   "cell_type": "code",
   "execution_count": 6,
   "id": "d586c000-4d0d-466d-b61a-9dae79785426",
   "metadata": {},
   "outputs": [
    {
     "name": "stdout",
     "output_type": "stream",
     "text": [
      "\u001b[1m(GAIA)\u001b[0m\n",
      "Distance : d = 4.3675866949752303e+21 cm\n",
      "Luminosity : L_x-ray = 8.215709103230977e+31 erg/s\n",
      "\n",
      "\u001b[1m(GLADE)\u001b[0m\n",
      "Distance : d = 8.945357900400001e+26 cm\n",
      "Luminosity : L_x-ray = 3.446334498204974e+42 erg/s\n"
     ]
    }
   ],
   "source": [
    "\"\"\"GAIA\"\"\"\n",
    "\n",
    "P_mas = 0.7065 # Parallaxe en mas\n",
    "d_kpc = 1/P_mas # Distance en kpc\n",
    "d_cm = d_kpc*3.0857*10**21 # Distance en cm, avec 1 pc = 3.0857*10^18 cm\n",
    "\n",
    "# La source est supposée sphérique pour le calcul de la luminosité : L = 4*pi*F*D^2\n",
    "Luminosity = 4*np.pi*Flux*(d_cm)**2 # erg/s\n",
    "\n",
    "print(color.BOLD+\"(GAIA)\"+color.END)\n",
    "print(f\"Distance : d = {d_cm} cm\")\n",
    "print(f\"Luminosity : L_x-ray = {Luminosity} erg/s\")\n",
    "print()\n",
    "\n",
    "\"\"\"GLADE\"\"\"\n",
    "\n",
    "d_kpc = 289897.2 # Distance en kpc\n",
    "d_cm = d_kpc*3.0857*10**21 # Distance en cm, avec 1 pc = 3.0857*10^18 cm\n",
    "\n",
    "# La source est supposée sphérique pour le calcul de la luminosité : L = 4*pi*F*D^2\n",
    "Luminosity = 4*np.pi*Flux*(d_cm)**2 # erg/s\n",
    "\n",
    "print(color.BOLD+\"(GLADE)\"+color.END)\n",
    "print(f\"Distance : d = {d_cm} cm\")\n",
    "print(f\"Luminosity : L_x-ray = {Luminosity} erg/s\")"
   ]
  }
 ],
 "metadata": {
  "kernelspec": {
   "display_name": "Python 3 (ipykernel)",
   "language": "python",
   "name": "python3"
  },
  "language_info": {
   "codemirror_mode": {
    "name": "ipython",
    "version": 3
   },
   "file_extension": ".py",
   "mimetype": "text/x-python",
   "name": "python",
   "nbconvert_exporter": "python",
   "pygments_lexer": "ipython3",
   "version": "3.10.12"
  }
 },
 "nbformat": 4,
 "nbformat_minor": 5
}
