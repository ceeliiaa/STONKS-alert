{
 "cells": [
  {
   "cell_type": "markdown",
   "id": "c521860a-0601-4bc3-b8cc-119c1d638a4c",
   "metadata": {},
   "source": [
    "# ObsID : 0827211301, SRCNUM : 20, Instru : EPN\n",
    "Not on Simbad. Previous observation of the source ObsID : 0945020137, SRCNUM : 21"
   ]
  },
  {
   "cell_type": "code",
   "execution_count": 1,
   "id": "a601bb92-6ab6-4642-bab7-b8cb9c6656a1",
   "metadata": {},
   "outputs": [
    {
     "name": "stdout",
     "output_type": "stream",
     "text": [
      "Default fit statistic is set to: Chi-Squared\n",
      "   This will apply to all current and newly loaded spectra.\n",
      "Parameter delta values for fits will now be 0.0001 * parValue\n"
     ]
    }
   ],
   "source": [
    "from xspec import *\n",
    "from stingray import Lightcurve\n",
    "from astropy.io import fits\n",
    "import matplotlib.pyplot as plt\n",
    "import matplotlib.image as mpimg\n",
    "import glob\n",
    "import numpy as np\n",
    "\n",
    "class color:\n",
    "   PURPLE = '\\033[95m'\n",
    "   CYAN = '\\033[96m'\n",
    "   DARKCYAN = '\\033[36m'\n",
    "   BLUE = '\\033[94m'\n",
    "   GREEN = '\\033[92m'\n",
    "   YELLOW = '\\033[93m'\n",
    "   RED = '\\033[91m'\n",
    "   BOLD = '\\033[1m'\n",
    "   UNDERLINE = '\\033[4m'\n",
    "   END = '\\033[0m'\n",
    "\n",
    "plt.rcParams['figure.figsize'] = [12,7]\n",
    "\n",
    "Fit.statMethod = \"chi\"\n",
    "Fit.nIterations = 100000\n",
    "Fit.delta = 1e-4\n",
    "Fit.criticalDelta = 1e-4"
   ]
  },
  {
   "cell_type": "markdown",
   "id": "8f2f1aeb-1864-49a0-829d-2750908728ad",
   "metadata": {},
   "source": [
    "## Load files"
   ]
  },
  {
   "cell_type": "code",
   "execution_count": 4,
   "id": "72a4a4e1-aef8-45f2-b490-078fb08972e1",
   "metadata": {},
   "outputs": [
    {
     "name": "stdout",
     "output_type": "stream",
     "text": [
      "Warning: RMF FILTER keyword (Medium) is not consistent with that in spectrum (Thin1)\n",
      "\n",
      "1 spectrum  in use\n",
      " \n",
      "Spectral Data File: P0827211301PNS003SRSPEC0014.FTZ  Spectrum 1\n",
      "Net count rate (cts/s) for Spectrum:1  3.725e-03 +/- 6.245e-04 (38.3 % total)\n",
      " Assigned to Data Group 1 and Plot Group 1\n",
      "  Noticed Channels:  1-12\n",
      "  Telescope: XMM Instrument: EPN  Channel Type: PI\n",
      "  Exposure Time: 2.522e+04 sec\n",
      " Using fit statistic: chi\n",
      " Using Background File                P0827211301PNS003BGSPEC0014.FTZ\n",
      "  Background Exposure Time: 2.522e+04 sec\n",
      " Using Response (RMF) File            epn_e3_ff20_sdY4.rmf for Source 1\n",
      " Using Auxiliary Response (ARF) File  P0827211301PNS003SRCARF0014.FTZ\n",
      "\n"
     ]
    }
   ],
   "source": [
    "AllData.clear()\n",
    "spec_fnames = glob.glob('P*PNS*SRSPEC*.FTZ')\n",
    "spec = Spectrum(spec_fnames[0])"
   ]
  },
  {
   "cell_type": "code",
   "execution_count": 32,
   "id": "e8b8d8e0-a908-4032-968a-7750e40f0792",
   "metadata": {},
   "outputs": [
    {
     "name": "stdout",
     "output_type": "stream",
     "text": [
      "Number of counts = 93.9445\n",
      "\n",
      "The low number of counts indicates that we should consider using cstat fit statistic instead of chi statistic.\n"
     ]
    }
   ],
   "source": [
    "n_cts = 2.522e+04*3.725e-03\n",
    "\n",
    "print(\"Number of counts =\",n_cts)\n",
    "\n",
    "if int(n_cts)<100:\n",
    "    print()\n",
    "    print(\"The low number of counts indicates that we should consider using cstat fit statistic instead of chi statistic.\")"
   ]
  },
  {
   "cell_type": "markdown",
   "id": "5a5cfd28-18cf-4ac9-ad72-63ea479deb64",
   "metadata": {},
   "source": [
    "## Plot spectrum"
   ]
  },
  {
   "cell_type": "code",
   "execution_count": 9,
   "id": "d01348a0-0619-4d54-93c3-8b24088801b6",
   "metadata": {},
   "outputs": [
    {
     "name": "stdout",
     "output_type": "stream",
     "text": [
      "      No channels ignored (no channels in specified range)\n",
      "     1 channels (12-12) ignored in spectrum #     1\n",
      "\n"
     ]
    }
   ],
   "source": [
    "Plot.xAxis=\"keV\"\n",
    "Plot.device = \"/xs\"\n",
    "Plot.xLog=True\n",
    "Plot.yLog=True\n",
    "Plot.addCommand(\"Rescale Y 0.00001 0.005\")\n",
    "Plot(\"data\")\n",
    "spec.ignore(\"**-0.2 12-**\")"
   ]
  },
  {
   "cell_type": "code",
   "execution_count": 7,
   "id": "9c969a35-f1e5-4704-ab87-c986550b4334",
   "metadata": {},
   "outputs": [
    {
     "data": {
      "text/plain": [
       "(-0.5, 856.5, 661.5, -0.5)"
      ]
     },
     "execution_count": 7,
     "metadata": {},
     "output_type": "execute_result"
    },
    {
     "data": {
      "image/png": "[encoded data removed]",
      "text/plain": [
       "<Figure size 1200x700 with 1 Axes>"
      ]
     },
     "metadata": {},
     "output_type": "display_data"
    }
   ],
   "source": [
    "img = plt.imread(glob.glob('*Spectrum.png')[0])\n",
    "plt.imshow(img)\n",
    "plt.axis('off')"
   ]
  },
  {
   "cell_type": "markdown",
   "id": "98519803-5052-4cb4-bfe7-7dad39416519",
   "metadata": {},
   "source": [
    "### Black body model"
   ]
  },
  {
   "cell_type": "code",
   "execution_count": 10,
   "id": "49ed0cb7-f11c-42b4-80d5-e8329eb1c007",
   "metadata": {},
   "outputs": [
    {
     "name": "stdout",
     "output_type": "stream",
     "text": [
      "\n",
      "========================================================================\n",
      "Model TBabs<1>*bbody<2> Source No.: 1   Active/On\n",
      "Model Model Component  Parameter  Unit     Value\n",
      " par  comp\n",
      "   1    1   TBabs      nH         10^22    1.00000      +/-  0.0          \n",
      "   2    2   bbody      kT         keV      3.00000      +/-  0.0          \n",
      "   3    2   bbody      norm                1.00000      +/-  0.0          \n",
      "________________________________________________________________________\n",
      "\n",
      "tbvabs Version 2.3\n",
      "Cosmic absorption with grains and H2, modified from\n",
      "Wilms, Allen, & McCray, 2000, ApJ 542, 914-924\n",
      "Questions: Joern Wilms\n",
      "joern.wilms@sternwarte.uni-erlangen.de\n",
      "joern.wilms@fau.de\n",
      "\n",
      "http://pulsar.sternwarte.uni-erlangen.de/wilms/research/tbabs/\n",
      "\n",
      "PLEASE NOTICE:\n",
      "To get the model described by the above paper\n",
      "you will also have to set the abundances:\n",
      "   abund wilm\n",
      "\n",
      "Note that this routine ignores the current cross section setting\n",
      "as it always HAS to use the Verner cross sections as a baseline.\n",
      "\n",
      "Fit statistic  : Chi-Squared              4.785540e+11     using 9 bins.\n",
      "\n",
      "Test statistic : Chi-Squared              4.785540e+11     using 9 bins.\n",
      " Null hypothesis probability of 0.000000e+00 with 6 degrees of freedom\n",
      " Current data and model not fit yet.\n",
      "                                   Parameters\n",
      "Chi-Squared  |beta|/N    Lvl          1:nH          2:kT        3:norm\n",
      "19.5619      0.0726448    -1      0.165926       3.56301   3.81481e-06\n",
      "19.3042      84091.3       0     0.0468494       3.67025   3.73943e-06\n",
      "19.2398      120261        0     0.0164928       3.72893   3.77509e-06\n",
      "19.1682      128713        0    0.00150183       3.76483   3.85791e-06\n",
      "19.1474      128345        0   0.000587201       3.79378   3.95114e-06\n",
      "19.1378      124399        0   0.000131958       3.82447   4.03864e-06\n",
      "19.1337      121219        0   1.81699e-05       3.85566   4.12378e-06\n",
      "19.1319      118396        0   3.91963e-06       3.88693   4.20791e-06\n",
      "19.131       115798        0   3.47438e-07       3.91811   4.29174e-06\n",
      "19.1304      113356        0   1.23512e-07       3.94903   4.37555e-06\n",
      "19.13        111025        0   1.12115e-08       3.97963   4.45950e-06\n",
      "19.1297      108785        0   4.17178e-09       4.00998   4.54360e-06\n",
      "19.1295      106632        0   6.41557e-10       4.04001   4.62790e-06\n",
      "19.1293      104555        0   1.98997e-10       4.06975   4.71235e-06\n",
      "18.9746      102553        0   4.03902e-11       4.02293   4.84300e-06\n",
      "18.8638      90629.9       0   3.66839e-12       3.98632   4.94890e-06\n",
      "18.7835      80078.2       0   1.52539e-12       3.95716   5.03558e-06\n",
      "18.7247      70833.6       0   4.72060e-13       3.93360   5.10719e-06\n",
      "18.6801      62779.9       0   6.24883e-14       3.91382   5.16808e-06\n",
      "18.6504      55610.4       0   1.47534e-14       3.89933   5.21350e-06\n",
      "18.6232      50088.1       0   4.81029e-15       3.88465   5.25998e-06\n",
      "18.6031      44266.5       0   1.57522e-15       3.87253   5.29854e-06\n",
      "18.5505      39296.3       0   5.82007e-17       3.82956   5.43511e-06\n",
      "***Warning: Zero alpha-matrix diagonal element for parameter 1\n",
      " Parameter 1 is pegged at 5.82007e-17 due to zero or negative pivot element, likely\n",
      " caused by the fit being insensitive to the parameter.\n",
      "18.5275      30769.5      -1   5.82007e-17       3.73560   5.40594e-06\n",
      "18.513       1314.29      -2   5.82007e-17       3.45009   4.43505e-06\n",
      "18.5014      9613.46      -3   5.82007e-17       3.10043   3.45567e-06\n",
      "18.4963      20125.7      -4   5.82007e-17       2.97640   3.21646e-06\n",
      "18.4959      1240.19      -5   5.82007e-17       2.92820   3.10486e-06\n",
      "18.4958      487.435      -6   5.82007e-17       2.90683   3.05626e-06\n",
      "***Warning: Zero alpha-matrix diagonal element for parameter 1\n",
      " Parameter 1 is pegged at 5.82007e-17 due to zero or negative pivot element, likely\n",
      " caused by the fit being insensitive to the parameter.\n",
      "18.4958      104.76       -3   5.82007e-17       2.89850   3.03733e-06\n",
      "==============================\n",
      " Variances and Principal Axes\n",
      "                 2        3  \n",
      " 1.3067E-12| -0.0000   1.0000  \n",
      " 7.6844E+00|  1.0000   0.0000  \n",
      "------------------------------\n",
      "\n",
      "========================\n",
      "  Covariance Matrix\n",
      "        1           2   \n",
      "   7.684e+00   1.775e-05\n",
      "   1.775e-05   4.229e-11\n",
      "------------------------\n",
      "\n",
      "========================================================================\n",
      "Model TBabs<1>*bbody<2> Source No.: 1   Active/On\n",
      "Model Model Component  Parameter  Unit     Value\n",
      " par  comp\n",
      "   1    1   TBabs      nH         10^22    5.82007E-17  +/-  -1.00000     \n",
      "   2    2   bbody      kT         keV      2.89850      +/-  2.77208      \n",
      "   3    2   bbody      norm                3.03733E-06  +/-  6.50327E-06  \n",
      "________________________________________________________________________\n",
      "\n",
      "\n",
      "Fit statistic  : Chi-Squared                 18.4958     using 9 bins.\n",
      "\n",
      "Test statistic : Chi-Squared                 18.4958     using 9 bins.\n",
      " Null hypothesis probability of 5.1056e-03 with 6 degrees of freedom\n"
     ]
    }
   ],
   "source": [
    "AllModels.clear()\n",
    "mo = Model(\"tbabs*bbody\")\n",
    "Fit.perform()\n",
    "Plot.device = \"/xs\"\n",
    "Plot(\"data resid\")"
   ]
  },
  {
   "cell_type": "markdown",
   "id": "21c6a684-5b1d-4f21-a859-c31ca47357a5",
   "metadata": {},
   "source": [
    "**Mauvaise qualité d’ajustement :**\n",
    "- Statistique de chi2 élevée :  χ^2=45.4 pour 9 degrés de liberté, ce qui donne un réduit de χ^2=45.4/9=5.04\n",
    "    - Un bon ajustement aurait un χ^2 proche de 1. Ici, la valeur est trop élevée, ce qui signifie que le modèle ne correspond pas bien aux données.\n",
    "- Paramètre N_H pegged (bloqué à 4.94e-17) : La colonne densité (absorption interstellaire) est bloquée à une valeur extrêmement basse.\n",
    "Problème : Cela signifie que Xspec trouve que l'absorption n’a aucun effet sur les données, ce qui est suspect.\n",
    "- Paramètres avec des erreurs anormalement grandes :\n",
    "    - Température 𝑘_𝑇=3.11 keV avec une incertitude de ±2.78 keV. Cela indique que la température est mal contrainte.\n",
    "    - Normalisation norm=3.75×10^−6 avec une grande erreur relative. Indique aussi un mauvais ajustement."
   ]
  },
  {
   "cell_type": "code",
   "execution_count": 11,
   "id": "6c48de73-4acc-4052-9c2b-705487b7395c",
   "metadata": {},
   "outputs": [
    {
     "data": {
      "text/plain": [
       "(-0.5, 859.5, 662.5, -0.5)"
      ]
     },
     "execution_count": 11,
     "metadata": {},
     "output_type": "execute_result"
    },
    {
     "data": {
      "image/png": "[encoded data removed]",
      "text/plain": [
       "<Figure size 1200x700 with 1 Axes>"
      ]
     },
     "metadata": {},
     "output_type": "display_data"
    }
   ],
   "source": [
    "img = plt.imread(glob.glob('*Spectrum_bbody.png')[0])\n",
    "plt.imshow(img)\n",
    "plt.axis('off')"
   ]
  },
  {
   "cell_type": "markdown",
   "id": "ff9fb499-d3ba-410c-b6c2-12f7d4ac82a0",
   "metadata": {},
   "source": [
    "### Bremsstrahlung model"
   ]
  },
  {
   "cell_type": "code",
   "execution_count": 12,
   "id": "09338589-f5aa-4577-b30d-aa02823fa176",
   "metadata": {},
   "outputs": [
    {
     "name": "stdout",
     "output_type": "stream",
     "text": [
      "\n",
      "========================================================================\n",
      "Model TBabs<1>*bremss<2> Source No.: 1   Active/On\n",
      "Model Model Component  Parameter  Unit     Value\n",
      " par  comp\n",
      "   1    1   TBabs      nH         10^22    1.00000      +/-  0.0          \n",
      "   2    2   bremss     kT         keV      7.00000      +/-  0.0          \n",
      "   3    2   bremss     norm                1.00000      +/-  0.0          \n",
      "________________________________________________________________________\n",
      "\n",
      "\n",
      "Fit statistic  : Chi-Squared              3.914792e+10     using 9 bins.\n",
      "\n",
      "Test statistic : Chi-Squared              3.914792e+10     using 9 bins.\n",
      " Null hypothesis probability of 0.000000e+00 with 6 degrees of freedom\n",
      " Current data and model not fit yet.\n",
      "                                   Parameters\n",
      "Chi-Squared  |beta|/N    Lvl          1:nH          2:kT        3:norm\n",
      "21.9509      0.471551     -2     0.0168942       198.157   2.18794e-06\n",
      "11.9378      260838       -2    0.00386181       199.200   1.14751e-05\n",
      "10.7861      85770.8      -2    0.00162282       199.293   1.52922e-05\n",
      "10.7591      9596.68       0   0.000459856       199.283   1.53067e-05\n",
      "10.7521      8857.66       0   0.000174839       199.274   1.53184e-05\n",
      "10.7484      8509.28       0   3.32730e-05       199.266   1.53287e-05\n",
      "10.7475      8243.58       0   1.56524e-05       199.257   1.53380e-05\n",
      "10.7469      8047.08       0   6.86206e-06       199.249   1.53464e-05\n",
      "10.7464      7870.01       0   2.47531e-06       199.240   1.53542e-05\n",
      "10.7461      7708.72       0   2.85737e-07       199.232   1.53613e-05\n",
      "10.7457      7561.19       0   1.24652e-08       199.224   1.53678e-05\n",
      "10.7455      7426.17       0   3.93751e-09       199.215   1.53738e-05\n",
      "10.7452      7302.02       0   1.80834e-09       199.207   1.53793e-05\n",
      "10.745       7187.78       0   7.45064e-10       199.199   1.53843e-05\n",
      "10.7448      7083.2        0   2.14002e-10       199.191   1.53889e-05\n",
      "10.7446      6986.81       0   8.13488e-11       199.182   1.53931e-05\n",
      "10.7444      6897.9        0   1.51041e-11       199.174   1.53970e-05\n",
      "10.7443      6815.94       0   6.83901e-12       199.166   1.54006e-05\n",
      "99.158   1.54039e-05       0   2.71446e-12       1\n",
      "10.744       6669.76       0   6.75635e-13       199.149   1.54071e-05\n",
      "10.7439      6601.03       0   1.38134e-13       199.141   1.54087e-05\n",
      "========================================\n",
      " Variances and Principal Axes\n",
      "                 1        2        3  \n",
      " 1.6610E-11| -0.0000  -0.0000   1.0000  \n",
      " 1.8610E-02|  1.0000   0.0000   0.0000  \n",
      " 2.8031E+07| -0.0000   1.0000   0.0000  \n",
      "----------------------------------------\n",
      "\n",
      "====================================\n",
      "  Covariance Matrix\n",
      "        1           2           3   \n",
      "   6.199e-02  -1.103e+03  -2.546e-05\n",
      "  -1.103e+03   2.803e+07   6.624e-01\n",
      "  -2.546e-05   6.624e-01   1.569e-08\n",
      "------------------------------------\n",
      "\n",
      "========================================================================\n",
      "Model TBabs<1>*bremss<2> Source No.: 1   Active/On\n",
      "Model Model Component  Parameter  Unit     Value\n",
      " par  comp\n",
      "   1    1   TBabs      nH         10^22    1.38134E-13  +/-  0.248974     \n",
      "   2    2   bremss     kT         keV      199.141      +/-  5294.42      \n",
      "   3    2   bremss     norm                1.54087E-05  +/-  1.25260E-04  \n",
      "________________________________________________________________________\n",
      "\n",
      "\n",
      "Fit statistic  : Chi-Squared                 10.7439     using 9 bins.\n",
      "\n",
      "Test statistic : Chi-Squared                 10.7439     using 9 bins.\n",
      " Null hypothesis probability of 9.6621e-02 with 6 degrees of freedom\n"
     ]
    }
   ],
   "source": [
    "AllModels.clear()\n",
    "mo = Model(\"tbabs*bremss\")\n",
    "Fit.perform()\n",
    "Plot.device = \"/xs\"\n",
    "Plot(\"data resid\")"
   ]
  },
  {
   "cell_type": "code",
   "execution_count": 13,
   "id": "f00f133a-c83a-4c92-9f10-4b5f63f74b3e",
   "metadata": {},
   "outputs": [
    {
     "data": {
      "text/plain": [
       "(-0.5, 857.5, 662.5, -0.5)"
      ]
     },
     "execution_count": 13,
     "metadata": {},
     "output_type": "execute_result"
    },
    {
     "data": {
      "image/png": "[encoded data removed]",
      "text/plain": [
       "<Figure size 1200x700 with 1 Axes>"
      ]
     },
     "metadata": {},
     "output_type": "display_data"
    }
   ],
   "source": [
    "img = plt.imread(glob.glob('*Spectrum_bremss.png')[0])\n",
    "plt.imshow(img)\n",
    "plt.axis('off')"
   ]
  },
  {
   "cell_type": "markdown",
   "id": "3edcca3a-8165-4c61-80ed-0b4b4087c8c3",
   "metadata": {},
   "source": [
    "### Apec model"
   ]
  },
  {
   "cell_type": "code",
   "execution_count": 14,
   "id": "0009a8fa-e23b-4d59-93ae-d1769293d343",
   "metadata": {},
   "outputs": [
    {
     "name": "stdout",
     "output_type": "stream",
     "text": [
      "\n",
      "========================================================================\n",
      "Model TBabs<1>*apec<2> Source No.: 1   Active/On\n",
      "Model Model Component  Parameter  Unit     Value\n",
      " par  comp\n",
      "   1    1   TBabs      nH         10^22    1.00000      +/-  0.0          \n",
      "   2    2   apec       kT         keV      1.00000      +/-  0.0          \n",
      "   3    2   apec       Abundanc            1.00000      frozen\n",
      "   4    2   apec       Redshift            0.0          frozen\n",
      "   5    2   apec       norm                1.00000      +/-  0.0          \n",
      "________________________________________________________________________\n",
      "\n",
      "Reading APEC data from 3.0.9\n",
      "\n",
      "\n",
      "Fit statistic  : Chi-Squared              8.933408e+09     using 9 bins.\n",
      "\n",
      "Test statistic : Chi-Squared              8.933408e+09     using 9 bins.\n",
      " Null hypothesis probability of 0.000000e+00 with 6 degrees of freedom\n",
      " Current data and model not fit yet.\n",
      "                                   Parameters\n",
      "Chi-Squared  |beta|/N    Lvl          1:nH          2:kT        5:norm\n",
      "13.4264      2.49594      -1      0.872542      0.429512   3.68684e-05\n",
      "7.35883      39621.1       0      0.711876      0.484988   4.91929e-05\n",
      "7.18957      7024.92      -1      0.699775      0.440430   5.00800e-05\n",
      "7.15039      2095.42      -1      0.697823      0.419074   5.34672e-05\n",
      "7.12366      1413.2       -1      0.704073      0.405350   5.71339e-05\n",
      "7.1028       1189.04      -1      0.712242      0.396474   6.06410e-05\n",
      "7.08134      901.99       -1      0.720158      0.387019   6.43731e-05\n",
      "7.06265      870.246      -1      0.728195      0.377681   6.84220e-05\n",
      "7.0469       951.208      -1      0.736079      0.371962   7.20631e-05\n",
      "7.0314       623.471      -1      0.743100      0.365211   7.58276e-05\n",
      "7.0186       598.088      -1      0.749939      0.358343   7.98537e-05\n",
      "7.00876      651.628      -1      0.756647      0.354806   8.31803e-05\n",
      "6.99939      397.067      -1      0.762258      0.350227   8.65530e-05\n",
      "6.98964      382.07       -1      0.767546      0.345412   9.01192e-05\n",
      "6.98108      377.139      -1      0.772857      0.340577   9.39106e-05\n",
      "6.97535      396.527      -1      0.778174      0.338279   9.68757e-05\n",
      "6.96993      245.61       -1      0.782475      0.335195   9.98554e-05\n",
      "6.96429      237.656      -1      0.786450      0.331890   0.000102975\n",
      "6.95838      236.523      -1      0.790402      0.328524   0.000106264\n",
      "6.95219      235.812      -1      0.794441      0.325150   0.000109738\n",
      "6.94692      234.98       -1      0.798609      0.321789   0.000113412\n",
      "6.93776      243.055      -2      0.827970      0.299810   0.000139186\n",
      "6.90528      1570.78      -2      0.853311      0.285149   0.000169762\n",
      "6.87991      1051.67      -2      0.873612      0.273501   0.000201354\n",
      "6.86523      679.947      -2      0.897460      0.260791   0.000243651\n",
      "6.84377      697.07       -2      0.916539      0.250588   0.000290052\n",
      "6.82549      486.513      -2      0.932237      0.241815   0.000339407\n",
      "6.80991      363.978      -2      0.946134      0.234320   0.000392071\n",
      "6.79543      273.048      -2      0.961693      0.226532   0.000459283\n",
      "6.7799       269.763      -2      0.973116      0.219616   0.000531813\n",
      "6.76397      218.688      -2      0.986890      0.212913   0.000623609\n",
      "6.74967      186.019      -2      0.994856      0.206922   0.000716910\n",
      "6.73426      155.592      -2       1.00520      0.201493   0.000830248\n",
      "6.72381      108.004      -2       1.01007      0.196952   0.000931970\n",
      "6.71404      86.805       -2       1.01599      0.192977    0.00104500\n",
      "6.7055       74.9166      -2       1.02218      0.189572    0.00116687\n",
      "6.7021       4.51326      -2       1.02371      0.186911    0.00124733\n",
      "6.69889      26.1894      -2       1.02607      0.184808    0.00132975\n",
      "6.69637      20.5087      -2       1.02838      0.183066    0.00140738\n",
      "6.69434      15.3788      -3       1.03602      0.177579    0.00166628\n",
      "6.69372      21.3515      -4       1.03517      0.177545    0.00167288\n",
      "6.69372      0.0312279    -5       1.03516      0.177553    0.00167242\n",
      "========================================\n",
      " Variances and Principal Axes\n",
      "                 1        2        5  \n",
      " 1.4734E-07| -0.0053   0.0468   0.9989  \n",
      " 1.0398E-02| -0.2750  -0.9604   0.0435  \n",
      " 5.4627E-02|  0.9614  -0.2745   0.0179  \n",
      "----------------------------------------\n",
      "\n",
      "====================================\n",
      "  Covariance Matrix\n",
      "        1           2           3   \n",
      "   5.128e-02  -1.167e-02   8.180e-04\n",
      "  -1.167e-02   1.371e-02  -7.037e-04\n",
      "   8.180e-04  -7.037e-04   3.743e-05\n",
      "------------------------------------\n",
      "\n",
      "========================================================================\n",
      "Model TBabs<1>*apec<2> Source No.: 1   Active/On\n",
      "Model Model Component  Parameter  Unit     Value\n",
      " par  comp\n",
      "   1    1   TBabs      nH         10^22    1.03516      +/-  0.226451     \n",
      "   2    2   apec       kT         keV      0.177553     +/-  0.117082     \n",
      "   3    2   apec       Abundanc            1.00000      frozen\n",
      "   4    2   apec       Redshift            0.0          frozen\n",
      "   5    2   apec       norm                1.67242E-03  +/-  6.11810E-03  \n",
      "________________________________________________________________________\n",
      "\n",
      "\n",
      "Fit statistic  : Chi-Squared                  6.6937     using 9 bins.\n",
      "\n",
      "Test statistic : Chi-Squared                  6.6937     using 9 bins.\n",
      " Null hypothesis probability of 3.5010e-01 with 6 degrees of freedom\n"
     ]
    }
   ],
   "source": [
    "AllModels.clear()\n",
    "mo = Model(\"tbabs*apec\")\n",
    "Fit.perform()\n",
    "Plot.device = \"/xs\"\n",
    "Plot(\"data resid\")"
   ]
  },
  {
   "cell_type": "code",
   "execution_count": 15,
   "id": "629f01ff-336d-445c-8328-31a864f052a1",
   "metadata": {},
   "outputs": [
    {
     "data": {
      "text/plain": [
       "(-0.5, 856.5, 661.5, -0.5)"
      ]
     },
     "execution_count": 15,
     "metadata": {},
     "output_type": "execute_result"
    },
    {
     "data": {
      "image/png": "[encoded data removed]",
      "text/plain": [
       "<Figure size 1200x700 with 1 Axes>"
      ]
     },
     "metadata": {},
     "output_type": "display_data"
    }
   ],
   "source": [
    "img = plt.imread(glob.glob('*Spectrum_apec.png')[0])\n",
    "plt.imshow(img)\n",
    "plt.axis('off')"
   ]
  },
  {
   "cell_type": "markdown",
   "id": "9f19aeb6-3c27-44a9-8ad3-a2eb2777e421",
   "metadata": {},
   "source": [
    "### Powerlaw model"
   ]
  },
  {
   "cell_type": "code",
   "execution_count": 16,
   "id": "9cd152dd-7c21-47a8-97ea-589cb8bacc72",
   "metadata": {},
   "outputs": [
    {
     "name": "stdout",
     "output_type": "stream",
     "text": [
      "\n",
      "========================================================================\n",
      "Model TBabs<1>*powerlaw<2> Source No.: 1   Active/On\n",
      "Model Model Component  Parameter  Unit     Value\n",
      " par  comp\n",
      "   1    1   TBabs      nH         10^22    1.00000      +/-  0.0          \n",
      "   2    2   powerlaw   PhoIndex            1.00000      +/-  0.0          \n",
      "   3    2   powerlaw   norm                1.00000      +/-  0.0          \n",
      "________________________________________________________________________\n",
      "\n",
      "\n",
      "Fit statistic  : Chi-Squared              1.805330e+11     using 9 bins.\n",
      "\n",
      "Test statistic : Chi-Squared              1.805330e+11     using 9 bins.\n",
      " Null hypothesis probability of 0.000000e+00 with 6 degrees of freedom\n",
      " Current data and model not fit yet.\n",
      "                                   Parameters\n",
      "Chi-Squared  |beta|/N    Lvl          1:nH    2:PhoIndex        3:norm\n",
      "20.0878      0.332027     -1      0.471880      0.292804   1.69176e-06\n",
      "19.9925      242166       -1     0.0195918     -0.574652   4.10408e-07\n",
      "19.0884      1.51783e+06   0    0.00923922     -0.677105   4.74477e-07\n",
      "18.906       1.10428e+06   0   0.000861502     -0.697275   4.88914e-07\n",
      "18.8584      985895        0   0.000368233     -0.703514   4.94430e-07\n",
      "18.842       937637        0   0.000125437     -0.705313   4.96505e-07\n",
      "18.8356      920871        0   4.74872e-06     -0.705649   4.97447e-07\n",
      "18.8328      914776        0   9.86773e-07     -0.705480   4.98006e-07\n",
      "18.8312      912257        0   4.74501e-08     -0.705134   4.98426e-07\n",
      "18.8299      911072        0   1.81216e-08     -0.704726   4.98800e-07\n",
      "18.8287      910339        0   3.46806e-09     -0.704295   4.99162e-07\n",
      "18.8276      909754        0   1.63766e-09     -0.703853   4.99520e-07\n",
      "18.8265      909221        0   7.23114e-10     -0.703412   4.99883e-07\n",
      "18.8254      908660        0   2.66130e-10     -0.702963   5.00244e-07\n",
      "18.8244      908144        0   3.78141e-11     -0.702475   5.00587e-07\n",
      "18.8223      907845        0   9.28968e-12     -0.702011   5.01137e-07\n",
      "18.7493      906353        0   4.11674e-12     -0.708368   5.13111e-07\n",
      "18.694       819195        0   1.59713e-12     -0.712789   5.23563e-07\n",
      "18.6514      744834        0   3.89515e-13     -0.715672   5.32764e-07\n",
      "18.617       681867        0   1.32853e-13     -0.717530   5.41114e-07\n",
      "18.5889      626998        0   9.50377e-16     -0.718437   5.48692e-07\n",
      "18.4514      580043        0   1.89351e-16     -0.703658   5.97079e-07\n",
      "***Warning: Zero alpha-matrix diagonal element for parameter 1\n",
      "arameter 1 is pegged at 1.89351e-16 due to zero or negative pivot element, likely\n",
      " caused by the fit being insensitive to the parameter.\n",
      "17.7072      565120       -1   1.89351e-16     -0.403510   8.90451e-07\n",
      "15.4772      601931       -2   1.89351e-16      0.380005   1.93163e-06\n",
      "10.6572      625162       -3   1.89351e-16       1.35024   4.29357e-06\n",
      "8.93988      290630       -4   1.89351e-16       1.91454   5.92334e-06\n",
      "8.90605      7114.92      -5   1.89351e-16       2.01859   5.89149e-06\n",
      "8.90517      1130.1       -6   1.89351e-16       2.03631   5.88287e-06\n",
      "8.90516      32.1048      -7   1.89351e-16       2.03841   5.88220e-06\n",
      "***Warning: Zero alpha-matrix diagonal element for parameter 1\n",
      " Parameter 1 is pegged at 1.89351e-16 due to zero or negative pivot element, likely\n",
      " caused by the fit being insensitive to the parameter.\n",
      "8.90516      0.457455     -3   1.89351e-16       2.03864   5.88214e-06\n",
      "==============================\n",
      " Variances and Principal Axes\n",
      "                 2        3  \n",
      " 2.0669E-12|  0.0000   1.0000  \n",
      " 4.1257E-01|  1.0000  -0.0000  \n",
      "------------------------------\n",
      "\n",
      "========================\n",
      "  Covariance Matrix\n",
      "        1           2   \n",
      "   4.126e-01  -1.066e-07\n",
      "  -1.066e-07   2.094e-12\n",
      "------------------------\n",
      "\n",
      "========================================================================\n",
      "Model TBabs<1>*powerlaw<2> Source No.: 1   Active/On\n",
      "Model Model Component  Parameter  Unit     Value\n",
      " par  comp\n",
      "   1    1   TBabs      nH         10^22    1.89351E-16  +/-  -1.00000     \n",
      "   2    2   powerlaw   PhoIndex            2.03864      +/-  0.642315     \n",
      "   3    2   powerlaw   norm                5.88214E-06  +/-  1.44721E-06  \n",
      "________________________________________________________________________\n",
      "\n",
      "\n",
      "Fit statistic  : Chi-Squared                  8.9052     using 9 bins.\n",
      "\n",
      "Test statistic : Chi-Squared                  8.9052     using 9 bins.\n",
      " Null hypothesis probability of 1.7898e-01 with 6 degrees of freedom\n"
     ]
    }
   ],
   "source": [
    "AllModels.clear()\n",
    "mo = Model(\"tbabs*powerlaw\")\n",
    "Fit.perform()\n",
    "Plot.device = \"/xs\"\n",
    "Plot(\"data resid\")"
   ]
  },
  {
   "cell_type": "code",
   "execution_count": 17,
   "id": "85b08776-73cd-4f36-a843-c34effff4655",
   "metadata": {},
   "outputs": [
    {
     "data": {
      "text/plain": [
       "(-0.5, 855.5, 664.5, -0.5)"
      ]
     },
     "execution_count": 17,
     "metadata": {},
     "output_type": "execute_result"
    },
    {
     "data": {
      "image/png": "[encoded data removed]",
      "text/plain": [
       "<Figure size 1200x700 with 1 Axes>"
      ]
     },
     "metadata": {},
     "output_type": "display_data"
    }
   ],
   "source": [
    "img = plt.imread(glob.glob('*Spectrum_powerlaw.png')[0])\n",
    "plt.imshow(img)\n",
    "plt.axis('off')"
   ]
  },
  {
   "cell_type": "markdown",
   "id": "53a2d0c7-1b07-4537-80e7-f4fa9d03b1f1",
   "metadata": {},
   "source": [
    "### Black body + Powerlaw model"
   ]
  },
  {
   "cell_type": "code",
   "execution_count": 18,
   "id": "b5f818d3-3734-4178-9f10-315e86805988",
   "metadata": {},
   "outputs": [
    {
     "name": "stdout",
     "output_type": "stream",
     "text": [
      "\n",
      "========================================================================\n",
      "Model TBabs<1>(bbody<2> + powerlaw<3>) Source No.: 1   Active/On\n",
      "Model Model Component  Parameter  Unit     Value\n",
      " par  comp\n",
      "   1    1   TBabs      nH         10^22    1.00000      +/-  0.0          \n",
      "   2    2   bbody      kT         keV      3.00000      +/-  0.0          \n",
      "   3    2   bbody      norm                1.00000      +/-  0.0          \n",
      "   4    3   powerlaw   PhoIndex            1.00000      +/-  0.0          \n",
      "   5    3   powerlaw   norm                1.00000      +/-  0.0          \n",
      "________________________________________________________________________\n",
      "\n",
      "\n",
      "Fit statistic  : Chi-Squared              1.169778e+12     using 9 bins.\n",
      "\n",
      "Test statistic : Chi-Squared              1.169778e+12     using 9 bins.\n",
      " Null hypothesis probability of 0.000000e+00 with 4 degrees of freedom\n",
      " Current data and model not fit yet.\n",
      "                                   Parameters\n",
      "Chi-Squared  |beta|/N    Lvl          1:nH          2:kT        3:norm    4:PhoIndex        5:norm\n",
      "18.7742      9085.08      -1      0.177116       3.12925   4.37387e-06       1.73777   6.82992e-07\n",
      "15.5995      180293        0     0.0490449       3.16324   4.27559e-06       2.70888   9.75532e-07\n",
      "11.3809      326211        0     0.0244670       3.31925   3.91709e-06       5.66723   2.41300e-06\n",
      "8.03291      438768       -1     0.0417188       3.58623   4.21869e-06       4.34730   3.15362e-06\n",
      "6.85558      43837.2      -1     0.0535943       4.03453   4.84647e-06       2.79828   5.09656e-06\n",
      "6.17071      54816.3      -1      0.105743       4.51127   5.90126e-06       3.43541   6.41487e-06\n",
      "5.8343       17358.4      -1      0.152193       4.98410   7.29411e-06       3.49761   7.86790e-06\n",
      "5.51324      16839.3      -1      0.203392       5.35534   9.01989e-06       3.83636   9.36249e-06\n",
      "5.22585      12897        -1      0.252070       5.70900   1.08140e-05       4.06953   1.11441e-05\n",
      "4.9594       10674.7      -1      0.300268       6.02959   1.27096e-05       4.33365   1.31489e-05\n",
      "4.71607      8544.76      -1      0.346972       6.32957   1.46608e-05       4.58025   1.54160e-05\n",
      "4.49366      6934.23      -1      0.392288       6.60924   1.66669e-05       4.82408   1.79407e-05\n",
      "36053       6.87123   1.87140e-05       5.05981   2.07305e-05\n",
      "4.10702      4590         -1      0.478243       7.11716   2.07935e-05       5.28848   2.37862e-05\n",
      "3.93984      3761.51      -1      0.518844       7.34848   2.28956e-05       5.50957   2.71086e-05\n",
      "3.78809      3099.59      -1      0.557874       7.56707   2.50146e-05       5.72308   3.06964e-05\n",
      "3.65033      2569.94      -1      0.595369       7.77355   2.71419e-05       5.92911   3.45473e-05\n",
      "3.52519      2143.55      -1      0.631375       7.96896   2.92712e-05       6.12776   3.86583e-05\n",
      "3.41141      1798.9       -1      0.665948       8.15421   3.13973e-05       6.31925   4.30254e-05\n",
      "3.30783      1518.7       -1      0.699151       8.33010   3.35139e-05       6.50380   4.76442e-05\n",
      "3.21338      1290.18      -1      0.731043       8.49773   3.56219e-05       6.68166   5.25097e-05\n",
      "3.20461      1102.56      -2      0.981296       9.71352   5.11045e-05       8.17003   9.10850e-05\n",
      "2.90077      5833.52      -2       1.17804       10.5705   6.75369e-05       9.15277   0.000161355\n",
      "2.85286      3348.09      -2       1.32794       11.1665   8.18554e-05       9.40670   0.000260974\n",
      "2.39716      1652.38      -1       1.31657       11.1821   8.39166e-05       9.47822   0.000288440\n",
      "2.3681       297.16        0       1.31295       11.2038   8.37587e-05       9.49080   0.000288343\n",
      "2.3548       160.059       0       1.31064       11.2165   8.37890e-05       9.49649   0.000287308\n",
      "2.34651      113.586       0       1.30879       11.2258   8.38907e-05       9.49919   0.000286022\n",
      "2.34074      97.7654       0       1.30714       11.2339   8.40194e-05       9.49985   0.000284700\n",
      "2.33588      92.7293       0       1.30559       11.2415   8.41574e-05       9.49993   0.000283407\n",
      "2.33138      91.3073       0       1.30411       11.2489   8.42988e-05       9.49997   0.000282159\n",
      "2.32718      91.0121       0       1.30269       11.2563   8.44422e-05       9.49999   0.000280960\n",
      "2.32324      91.1149       0       1.30132       11.2637   8.45860e-05       9.49999   0.000279810\n",
      "2.31954      91.4821       0       1.30001       11.2710   8.47303e-05       9.50000   0.000278706\n",
      "2.31606      91.8808       0       1.29874       11.2783   8.48750e-05       9.50000   0.000277648\n",
      "2.31278      92.328        0       1.29753       11.2857   8.50203e-05       9.50000   0.000276633\n",
      "2.3097       92.7853       0       1.29635       11.2930   8.51659e-05       9.50000   0.000275658\n",
      "2.30679      93.2718       0       1.29523       11.3003   8.53114e-05       9.50000   0.000274723\n",
      "2.30405      93.7881       0       1.29414       11.3076   8.54575e-05       9.50000   0.000273826\n",
      "2.30147      94.2469       0       1.29310       11.3149   8.56042e-05       9.50000   0.000272964\n",
      "2.29903      94.7128       0       1.29209       11.3222   8.57509e-05       9.50000   0.000272137\n",
      "2.29673      95.2025       0       1.29112       11.3294   8.58974e-05       9.50000   0.000271343\n",
      "2.29455      95.6888       0       1.29019       11.3366   8.60442e-05       9.50000   0.000270580\n",
      "2.2925       96.1421       0       1.28929       11.3439   8.61917e-05       9.50000   0.000269847\n",
      "2.29056      96.5507       0       1.28843       11.3512   8.63391e-05       9.50000   0.000269143\n",
      "2.28872      96.9946       0       1.28759       11.3584   8.64865e-05       9.50000   0.000268467\n",
      "2.28698      97.4051       0       1.28679       11.3656   8.66343e-05       9.50000   0.000267817\n",
      "2.28534      97.7925       0       1.28602       11.3728   8.67822e-05       9.50000   0.000267193\n",
      "2.28378      98.1624       0       1.28528       11.3800   8.69306e-05       9.50000   0.000266593\n",
      "2.28231      98.5122       0       1.28456       11.3873   8.70790e-05       9.50000   0.000266016\n",
      "2.28091      98.8511       0       1.28387       11.3945   8.72278e-05       9.50000   0.000265461\n",
      "2.27958      99.1673       0       1.28321       11.4017   8.73766e-05       9.50000   0.000264928\n",
      "2.27832      99.482        0       1.28257       11.4088   8.75254e-05       9.50000   0.000264415\n",
      "2.27713      99.7827       0       1.28195       11.4160   8.76741e-05       9.50000   0.000263922\n",
      "2.276        100.075       0       1.28136       11.4231   8.78232e-05       9.50000   0.000263448\n",
      "2.27492      100.327       0       1.28079       11.4303   8.79730e-05       9.50000   0.000262992\n",
      "2.27389      100.553       0       1.28024       11.4375   8.81231e-05       9.50000   0.000262554\n",
      "2.27292      100.78        0       1.27971       11.4447   8.82729e-05       9.50000   0.000262132\n",
      "2.27199      101.022       0       1.27920       11.4518   8.84227e-05       9.50000   0.000261726\n",
      "2.27111      101.238       0       1.27870       11.4590   8.85730e-05       9.50000   0.000261336\n",
      "2.27027      101.427       0       1.27823       11.4661   8.87232e-05       9.50000   0.000260960\n",
      "2.26947      101.618       0       1.27777       11.4732   8.88736e-05       9.50000   0.000260599\n",
      "2.26871      101.795       0       1.27733       11.4803   8.90238e-05       9.50000   0.000260251\n",
      "2.26798      101.978       0       1.27691       11.4874   8.91745e-05       9.50000   0.000259917\n",
      "2.26729      102.119       0       1.27650       11.4945   8.93252e-05       9.50000   0.000259595\n",
      "2.26662      102.271       0       1.27611       11.5017   8.94762e-05       9.50000   0.000259285\n",
      "2.26599      102.407       0       1.27573       11.5088   8.96273e-05       9.50000   0.000258987\n",
      "2.26539      102.536       0       1.27536       11.5158   8.97784e-05       9.50000   0.000258700\n",
      "2.26481      102.666       0       1.27501       11.5229   8.99297e-05       9.50000   0.000258423\n",
      "2.26425      102.779       0       1.27467       11.5300   9.00812e-05       9.50000   0.000258157\n",
      "2.26373      102.884       0       1.27435       11.5371   9.02327e-05       9.50000   0.000257901\n",
      "2.26322      102.992       0       1.27403       11.5442   9.03843e-05       9.50000   0.000257655\n",
      "2.26273      103.09        0       1.27373       11.5512   9.05360e-05       9.50000   0.000257418\n",
      "2.26227      103.182       0       1.27344       11.5583   9.06877e-05       9.50000   0.000257189\n",
      "2.26182      103.268       0       1.27316       11.5654   9.08401e-05       9.50000   0.000256969\n",
      "2.2614       103.333       0       1.27288       11.5724   9.09923e-05       9.50000   0.000256757\n",
      "2.26099      103.416       0       1.27262       11.5795   9.11445e-05       9.50000   0.000256553\n",
      "2.26059      103.491       0       1.27237       11.5865   9.12970e-05       9.50000   0.000256357\n",
      "2.26021      103.55        0       1.27213       11.5936   9.14496e-05       9.50000   0.000256168\n",
      "2.25985      103.614       0       1.27190       11.6006   9.16022e-05       9.50000   0.000255986\n",
      "2.2595       103.677       0       1.27167       11.6076   9.17546e-05       9.50000   0.000255811\n",
      "2.25916      103.738       0       1.27145       11.6146   9.19068e-05       9.50000   0.000255642\n",
      "2.25884      103.796       0       1.27124       11.6215   9.20591e-05       9.50000   0.000255479\n",
      "2.25853      103.846       0       1.27104       11.6285   9.22117e-05       9.50000   0.000255323\n",
      "2.25823      103.886       0       1.27085       11.6356   9.23647e-05       9.50000   0.000255172\n",
      "2.25794      103.919       0       1.27066       11.6426   9.25180e-05       9.50000   0.000255026\n",
      "2.25766      103.952       0       1.27048       11.6496   9.26713e-05       9.50000   0.000254887\n",
      "2.25739      103.993       0       1.27031       11.6565   9.28242e-05       9.50000   0.000254752\n",
      "2.25713      104.037       0       1.27014       11.6635   9.29773e-05       9.50000   0.000254622\n",
      "2.25688      104.068       0       1.26998       11.6705   9.31308e-05       9.50000   0.000254497\n",
      "2.25664      104.09        0       1.26982       11.6775   9.32845e-05       9.50000   0.000254376\n",
      "2.25641      104.115       0       1.26967       11.6844   9.34380e-05       9.50000   0.000254260\n",
      "2.25618      104.148       0       1.26953       11.6914   9.35921e-05       9.50000   0.000254149\n",
      "2.25597      104.163       0       1.26939       11.6983   9.37456e-05       9.50000   0.000254041\n",
      "2.25575      104.195       0       1.26925       11.7053   9.38996e-05       9.50000   0.000253937\n",
      "2.25555      104.211       0       1.26912       11.7122   9.40534e-05       9.50000   0.000253838\n",
      "2.25535      104.233       0       1.26900       11.7192   9.42075e-05       9.50000   0.000253741\n",
      "2.25516      104.247       0       1.26888       11.7261   9.43617e-05       9.50000   0.000253649\n",
      "2.25497      104.263       0       1.26876       11.7330   9.45155e-05       9.50000   0.000253559\n",
      "2.25479      104.29        0       1.26865       11.7399   9.46696e-05       9.50000   0.000253473\n",
      "2.25462      104.3         0       1.26854       11.7468   9.48236e-05       9.50000   0.000253390\n",
      "2.25445      104.315       0       1.26844       11.7537   9.49780e-05       9.50000   0.000253311\n",
      "2.25428      104.321       0       1.26834       11.7607   9.51327e-05       9.50000   0.000253234\n",
      "2.25413      104.328       0       1.26824       11.7676   9.52875e-05       9.50000   0.000253160\n",
      "2.25397      104.338       0       1.26815       11.7745   9.54421e-05       9.50000   0.000253088\n",
      "2.25382      104.348       0       1.26806       11.7814   9.55970e-05       9.50000   0.000253020\n",
      "2.25367      104.354       0       1.26797       11.7883   9.57519e-05       9.50000   0.000252953\n",
      "2.25353      104.361       0       1.26789       11.7952   9.59069e-05       9.50000   0.000252889\n",
      "2.25339      104.368       0       1.26781       11.8021   9.60622e-05       9.50000   0.000252828\n",
      "2.25325      104.37        0       1.26773       11.8089   9.62172e-05       9.50000   0.000252769\n",
      "2.25312      104.38        0       1.26766       11.8158   9.63727e-05       9.50000   0.000252712\n",
      "2.25299      104.378       0       1.26758       11.8227   9.65283e-05       9.50000   0.000252657\n",
      "2.25287      104.382       0       1.26752       11.8296   9.66838e-05       9.50000   0.000252604\n",
      "2.25274      104.386       0       1.26745       11.8365   9.68395e-05       9.50000   0.000252553\n",
      "2.25263      104.387       0       1.26738       11.8433   9.69953e-05       9.50000   0.000252504\n",
      "2.25251      104.391       0       1.26732       11.8502   9.71512e-05       9.50000   0.000252456\n",
      "2.25239      104.39        0       1.26726       11.8570   9.73070e-05       9.50000   0.000252411\n",
      "2.25228      104.393       0       1.26720       11.8639   9.74635e-05       9.50000   0.000252367\n",
      "2.25217      104.384       0       1.26715       11.8708   9.76199e-05       9.50000   0.000252324\n",
      "2.25207      104.386       0       1.26710       11.8776   9.77761e-05       9.50000   0.000252284\n",
      "2.25196      104.392       0       1.26704       11.8844   9.79320e-05       9.50000   0.000252244\n",
      "2.25186      104.397       0       1.26699       11.8913   9.80881e-05       9.50000   0.000252206\n",
      "2.25176      104.394       0       1.26695       11.8981   9.82443e-05       9.50000   0.000252170\n",
      "============================================================\n",
      " Variances and Principal Axes\n",
      "                 1        2        3        4        5  \n",
      " 2.1308E-09| -0.0001  -0.0000   0.9969  -0.0000   0.0791  \n",
      " 3.5658E-09|  0.0008  -0.0000   0.0791  -0.0000  -0.9969  \n",
      " 4.0963E-02|  0.9868  -0.0003  -0.0000  -0.1620   0.0008  \n",
      " 5.5344E+01|  0.1619   0.0414   0.0000   0.9859   0.0001  \n",
      " 7.3524E+03| -0.0064   0.9991   0.0000  -0.0409  -0.0000  \n",
      "------------------------------------------------------------\n",
      "\n",
      "============================================================\n",
      "  Covariance Matrix\n",
      "        1           2           3           4           5   \n",
      "   1.794e+00  -4.688e+01  -1.049e-03   1.076e+01   1.242e-03\n",
      "  -4.688e+01   7.340e+03   1.669e-01  -2.981e+02  -3.180e-02\n",
      "  -1.049e-03   1.669e-01   3.799e-06  -6.672e-03  -7.115e-07\n",
      "   1.076e+01  -2.981e+02  -6.672e-03   6.609e+01   7.422e-03\n",
      "   1.242e-03  -3.180e-02  -7.115e-07   7.422e-03   8.633e-07\n",
      "------------------------------------------------------------\n",
      "\n",
      "========================================================================\n",
      "Model TBabs<1>(bbody<2> + powerlaw<3>) Source No.: 1   Active/On\n",
      "Model Model Component  Parameter  Unit     Value\n",
      " par  comp\n",
      "   1    1   TBabs      nH         10^22    1.26695      +/-  1.33935      \n",
      "   2    2   bbody      kT         keV      11.8981      +/-  85.6733      \n",
      "   3    2   bbody      norm                9.82443E-05  +/-  1.94919E-03  \n",
      "   4    3   powerlaw   PhoIndex            9.50000      +/-  8.12949      \n",
      "   5    3   powerlaw   norm                2.52170E-04  +/-  9.29124E-04  \n",
      "________________________________________________________________________\n",
      "\n",
      "\n",
      "Fit statistic  : Chi-Squared                  2.2518     using 9 bins.\n",
      "\n",
      "Test statistic : Chi-Squared                  2.2518     using 9 bins.\n",
      " Null hypothesis probability of 6.8956e-01 with 4 degrees of freedom\n"
     ]
    }
   ],
   "source": [
    "AllModels.clear()\n",
    "mo = Model(\"tbabs*(bbody+powerlaw)\")\n",
    "Fit.perform()\n",
    "Plot.device = \"/xs\"\n",
    "Plot(\"data resid\")"
   ]
  },
  {
   "cell_type": "code",
   "execution_count": 19,
   "id": "42798d4b-a4ec-430a-829b-4b3bbebe2108",
   "metadata": {},
   "outputs": [
    {
     "data": {
      "text/plain": [
       "(-0.5, 857.5, 664.5, -0.5)"
      ]
     },
     "execution_count": 19,
     "metadata": {},
     "output_type": "execute_result"
    },
    {
     "data": {
      "image/png": "[encoded data removed]",
      "text/plain": [
       "<Figure size 1200x700 with 1 Axes>"
      ]
     },
     "metadata": {},
     "output_type": "display_data"
    }
   ],
   "source": [
    "img = plt.imread(glob.glob('*Spectrum_bbodypowerlaw.png')[0])\n",
    "plt.imshow(img)\n",
    "plt.axis('off')"
   ]
  },
  {
   "cell_type": "markdown",
   "id": "029e9c69-ffe3-4d4f-a620-0f8fecab99ce",
   "metadata": {},
   "source": [
    "### Bremsstrahlung + Powerlaw model"
   ]
  },
  {
   "cell_type": "code",
   "execution_count": 20,
   "id": "34c04b22-8d99-42d7-8469-458a725f1a78",
   "metadata": {},
   "outputs": [
    {
     "name": "stdout",
     "output_type": "stream",
     "text": [
      "\n",
      "========================================================================\n",
      "Model TBabs<1>(bremss<2> + powerlaw<3>) Source No.: 1   Active/On\n",
      "Model Model Component  Parameter  Unit     Value\n",
      " par  comp\n",
      "   1    1   TBabs      nH         10^22    1.00000      +/-  0.0          \n",
      "   2    2   bremss     kT         keV      7.00000      +/-  0.0          \n",
      "   3    2   bremss     norm                1.00000      +/-  0.0          \n",
      "   4    3   powerlaw   PhoIndex            1.00000      +/-  0.0          \n",
      "   5    3   powerlaw   norm                1.00000      +/-  0.0          \n",
      "________________________________________________________________________\n",
      "\n",
      "\n",
      "Fit statistic  : Chi-Squared              3.824052e+11     using 9 bins.\n",
      "\n",
      "Test statistic : Chi-Squared              3.824052e+11     using 9 bins.\n",
      " Null hypothesis probability of 0.000000e+00 with 4 degrees of freedom\n",
      " Current data and model not fit yet.\n",
      "                                   Parameters\n",
      "Chi-Squared  |beta|/N    Lvl          1:nH          2:kT        3:norm    4:PhoIndex        5:norm\n",
      "17.3441      5872.32      -3     0.0212033       198.965   1.33480e-06       7.06134   4.56850e-07\n",
      "9.82227      866853       -1     0.0120516       2.22889   6.98185e-06       5.74016   6.56319e-07\n",
      "8.92665      197499       -2    0.00560270       1.57980   5.74395e-06      0.235168   1.47634e-06\n",
      "8.49502      73569.6       0   0.000938200      0.988277   6.31083e-06      0.169099   1.36823e-06\n",
      "7.52362      83855        -1   0.000409703      0.670795   1.06926e-05     -0.369653   5.36431e-07\n",
      "5.25604      419687       -1     0.0477649      0.844481   1.51692e-05      -1.08166   2.23605e-07\n",
      "4.74155      522403       -1     0.0659561      0.713398   1.88154e-05      -1.35801   1.86199e-07\n",
      "4.47981      21676.8      -1     0.0940805      0.676050   2.31811e-05      -1.43852   1.60856e-07\n",
      "4.29191      21280.1      -1      0.117745      0.626805   2.79445e-05      -1.50145   1.45828e-07\n",
      "4.12629      11437.3      -1      0.140381      0.588007   3.33463e-05      -1.54545   1.35973e-07\n",
      "3.98172      4382.46      -1      0.161491      0.554287   3.93863e-05      -1.57633   1.29418e-07\n",
      "3.84678      3242.75      -1      0.181342      0.525586   4.60756e-05      -1.59774   1.25085e-07\n",
      "3.73636      2744.97      -1      0.200184      0.502149   5.32742e-05      -1.61246   1.22202e-07\n",
      "3.63742      2732.85      -1      0.217483      0.480880   6.11308e-05      -1.62195   1.20452e-07\n",
      "3.54768      4889.19      -1      0.233807      0.462064   6.96696e-05      -1.62739   1.19544e-07\n",
      "3.46674      7154.17      -1      0.249278      0.445286   7.89088e-05      -1.62973   1.19272e-07\n",
      "3.39351      10055.9      -1      0.263766      0.431207   8.87501e-05      -1.62997   1.19405e-07\n",
      "3.32695      10006.1      -1      0.277384      0.418075   9.92500e-05      -1.62843   1.19916e-07\n",
      "3.26546      11437.3      -1      0.290373      0.406128   0.000110483      -1.62547   1.20721e-07\n",
      "3.20853      12421.6      -1      0.302802      0.395220   0.000122462      -1.62145   1.21752e-07\n",
      "3.15564      13083.4      -1      0.314718      0.385230   0.000135201      -1.61663   1.22958e-07\n",
      "3.10643      13421.2      -1      0.326161      0.376021   0.000148719      -1.61122   1.24297e-07\n",
      "3.06067      13606.9      -1      0.337157      0.367591   0.000162971      -1.60544   1.25724e-07\n",
      "3.01796      13519        -1      0.347718      0.359758   0.000178000      -1.59939   1.27223e-07\n",
      "2.97772      13385.5      -1      0.357898      0.352400   0.000193925      -1.59309   1.28793e-07\n",
      "2.94014      13162.3      -1      0.367753      0.345641   0.000210591      -1.58675   1.30381e-07\n",
      "2.90457      12788.6      -1      0.377256      0.339214   0.000228204      -1.58031   1.32011e-07\n",
      "2.87101      12483.5      -1      0.386493      0.333211   0.000246707      -1.57386   1.33655e-07\n",
      "2.83934      12088.3      -1      0.395451      0.327579   0.000266094      -1.56747   1.35302e-07\n",
      "2.80939      11663.4      -1      0.404141      0.322278   0.000286378      -1.56115   1.36944e-07\n",
      "2.781        11235.5      -1      0.412575      0.317278   0.000307575      -1.55493   1.38577e-07\n",
      "2.75408      10800.8      -1      0.420770      0.312551   0.000329696      -1.54883   1.40197e-07\n",
      "2.7285       10387.6      -1      0.428737      0.308073   0.000352762      -1.54284   1.41802e-07\n",
      "2.70418      9990.37      -1      0.436490      0.303827   0.000376786      -1.53698   1.43389e-07\n",
      "2.68113      9581.7       -1      0.444010      0.299809   0.000401656      -1.53127   1.44948e-07\n",
      "2.65905      9251.38      -1      0.451362      0.295966   0.000427635      -1.52567   1.46496e-07\n",
      "2.638        8846.92      -1      0.458535      0.292306   0.000454596      -1.52021   1.48020e-07\n",
      "2.61791      8495.83      -1      0.465532      0.288816   0.000482557      -1.51487   1.49522e-07\n",
      "2.5988       8156.54      -1      0.472327      0.285490   0.000511398      -1.50969   1.50995e-07\n",
      "2.58045      7899.82      -1      0.478998      0.282304   0.000541394      -1.50461   1.52450e-07\n",
      "2.56291      7537.87      -1      0.485515      0.279252   0.000572404      -1.49967   1.53881e-07\n",
      "2.54613      7254.94      -1      0.491880      0.276330   0.000604439      -1.49485   1.55288e-07\n",
      "2.53005      6968.65      -1      0.498102      0.273526   0.000637509      -1.49015   1.56671e-07\n",
      "2.51466      6701.6       -1      0.504186      0.270835   0.000671606      -1.48557   1.58030e-07\n",
      "2.4999       6464.97      -1      0.510137      0.268251   0.000706747      -1.48110   1.59366e-07\n",
      "2.48575      6213.07      -1      0.515959      0.265767   0.000742925      -1.47675   1.60678e-07\n",
      "2.47216      5983.23      -1      0.521658      0.263377   0.000780141      -1.47251   1.61967e-07\n",
      "2.45913      5773.22      -1      0.527238      0.261075   0.000818403      -1.46837   1.63234e-07\n",
      "2.4466       5567.59      -1      0.532703      0.258857   0.000857703      -1.46434   1.64478e-07\n",
      "2.43456      5382.76      -1      0.538055      0.256717   0.000898067      -1.46041   1.65700e-07\n",
      "2.42298      5196.08      -1      0.543301      0.254654   0.000939469      -1.45657   1.66902e-07\n",
      "2.41184      5017.39      -1      0.548443      0.252660   0.000981920      -1.45282   1.68082e-07\n",
      "2.40111      4849.63      -1      0.553482      0.250731    0.00102545      -1.44916   1.69243e-07\n",
      "2.39076      4702.56      -1      0.558427      0.248867    0.00107004      -1.44559   1.70384e-07\n",
      "2.38079      4541.98      -1      0.563280      0.247062    0.00111569      -1.44210   1.71506e-07\n",
      "2.37118      4406.49      -1      0.568042      0.245314    0.00116242      -1.43869   1.72610e-07\n",
      "0    0.00121021      -1.43535   1.73695e-07     0.24362\n",
      "2.35294      4138.58      -1      0.577307      0.241980    0.00125905      -1.43209   1.74763e-07\n",
      "2.34434      4008.28      -1      0.581769      0.240390    0.00130860      -1.42892   1.75805e-07\n",
      "2.33597      3974.55      -1      0.586208      0.238849    0.00135964      -1.42580   1.76840e-07\n",
      "2.32787      3783.79      -1      0.590564      0.237347    0.00141172      -1.42275   1.77858e-07\n",
      "2.32003      3677.13      -1      0.594845      0.235888    0.00146487      -1.41976   1.78860e-07\n",
      "2.31245      3569.59      -1      0.599051      0.234469    0.00151911      -1.41683   1.79846e-07\n",
      "2.3051       3477.73      -1      0.603188      0.233088    0.00157444      -1.41396   1.80817e-07\n",
      "2.29797      3382.8       -1      0.607258      0.231745    0.00163085      -1.41115   1.81774e-07\n",
      "2.29761      3290.01      -2      0.643827      0.219073    0.00216255      -1.37963   1.92280e-07\n",
      "2.23667      31858.6      -2      0.676160      0.210364    0.00286068      -1.36092   1.99396e-07\n",
      "2.18483      22409.7      -2      0.703802      0.203094    0.00367226      -1.34370   2.05986e-07\n",
      "2.14584      17249.9      -2      0.728553      0.196980    0.00458866      -1.32869   2.11904e-07\n",
      "2.11628      13288.3      -2      0.750862      0.191734    0.00560645      -1.31534   2.17296e-07\n",
      "2.09306      10513.5      -2      0.771100      0.187189    0.00672131      -1.30343   2.22220e-07\n",
      "2.07446      8467.16      -2      0.789531      0.183215    0.00792711      -1.29271   2.26738e-07\n",
      "2.0601       6915.95      -2      0.806953      0.179478    0.00927018      -1.28189   2.31363e-07\n",
      "2.0463       6343.64      -2      0.822569      0.176463     0.0106509      -1.27380   2.34930e-07\n",
      "2.03601      4644.31      -2      0.836711      0.173708     0.0120872      -1.26588   2.38438e-07\n",
      "2.02737      3981.15      -2      0.849756      0.171240     0.0135808      -1.25863   2.41694e-07\n",
      "2.02011      3368.08      -2      0.861807      0.169013     0.0151225      -1.25200   2.44713e-07\n",
      "2.01395      2888.73      -2      0.872969      0.167001     0.0167040      -1.24592   2.47513e-07\n",
      "2.00885      2498.62      -2      0.883774      0.165206     0.0183118      -1.24042   2.50078e-07\n",
      "2.0043       2189.23      -2      0.893456      0.163535     0.0199571      -1.23523   2.52513e-07\n",
      "2.00027      1923.06      -2      0.901950      0.161991     0.0216153      -1.23037   2.54812e-07\n",
      "1.99692      1652.46      -2      0.910267      0.160601     0.0232780      -1.22599   2.56907e-07\n",
      "1.994        1457.16      -2      0.918035      0.159325     0.0249435      -1.22191   2.58872e-07\n",
      "1.99147      1295         -2      0.925293      0.158152     0.0266062      -1.21812   2.60711e-07\n",
      "1.98926      1147.59      -2      0.932080      0.157068     0.0282602      -1.21460   2.62432e-07\n",
      "1.98733      1030.12      -2      0.938430      0.156068     0.0299007      -1.21132   2.64043e-07\n",
      "1.98564      919.823      -2      0.944381      0.155142     0.0315233      -1.20826   2.65555e-07\n",
      "1.98416      826.425      -2      0.949948      0.154283     0.0331237      -1.20540   2.66974e-07\n",
      "1.98286      746.39       -2      0.955181      0.153486     0.0346986      -1.20274   2.68306e-07\n",
      "1.98171      673.59       -2      0.960085      0.152745     0.0362448      -1.20024   2.69558e-07\n",
      "1.9807       611.732      -2      0.964689      0.152055     0.0377591      -1.19791   2.70734e-07\n",
      "1.97981      556.164      -2      0.969018      0.151412     0.0392402      -1.19572   2.71840e-07\n",
      "1.97894      505.919      -2      0.973632      0.150741     0.0408491      -1.19345   2.72995e-07\n",
      "1.97824      542.553      -2      0.977374      0.150187     0.0422606      -1.19153   2.73976e-07\n",
      "1.97756      416.796      -2      0.981477      0.149594     0.0438073      -1.18950   2.75012e-07\n",
      "1.97696      458.496      -2      0.985294      0.149042     0.0453246      -1.18759   2.75996e-07\n",
      "1.97648      420.998      -2      0.988382      0.148597     0.0466075      -1.18603   2.76801e-07\n",
      "1.97607      318.115      -2      0.991326      0.148179     0.0478422      -1.18457   2.77554e-07\n",
      "1.9757       293.325      -2      0.994102      0.147786     0.0490360      -1.18320   2.78266e-07\n",
      "1.97532      269.749      -2      0.997204      0.147342     0.0504042      -1.18165   2.79067e-07\n",
      "1.97503      314.989      -2      0.999651      0.147004     0.0515171      -1.18045   2.79694e-07\n",
      "1.97478      229.999      -2       1.00196      0.146683     0.0525833      -1.17932   2.80286e-07\n",
      "1.97455      212.093      -2       1.00413      0.146380     0.0536100      -1.17824   2.80846e-07\n",
      "1.97435      197.564      -2       1.00619      0.146096     0.0545987      -1.17724   2.81375e-07\n",
      "1.97417      182.749      -2       1.00813      0.145827     0.0555499      -1.17628   2.81875e-07\n",
      "1.97401      169.891      -2       1.00997      0.145575     0.0564629      -1.17538   2.82347e-07\n",
      "1.97401      159.004      -3       1.02242      0.143830     0.0627968      -1.16852   2.85883e-07\n",
      "============================================================\n",
      " Variances and Principal Axes\n",
      "                 1        2        3        4        5  \n",
      " 1.6891E-14| -0.0000   0.0000   0.0000  -0.0000   1.0000  \n",
      " 2.5265E-05|  0.0631  -0.9235  -0.3784  -0.0004   0.0000  \n",
      " 5.2160E-03| -0.4522  -0.3644   0.8140  -0.0072   0.0000  \n",
      " 1.0108E+00|  0.8332  -0.1110   0.4100  -0.3541  -0.0000  \n",
      " 2.7145E+00|  0.3120  -0.0452   0.1614   0.9352   0.0000  \n",
      "------------------------------------------------------------\n",
      "\n",
      "============================================================\n",
      "  Covariance Matrix\n",
      "        1           2           3           4           5   \n",
      "   9.670e-01  -1.309e-01   4.801e-01   4.938e-01   2.547e-07\n",
      "  -1.309e-01   1.871e-02  -6.734e-02  -7.505e-02  -3.851e-08\n",
      "   4.801e-01  -6.734e-02   2.441e-01   2.629e-01   1.352e-07\n",
      "   4.938e-01  -7.505e-02   2.629e-01   2.501e+00   1.182e-06\n",
      "   2.547e-07  -3.851e-08   1.352e-07   1.182e-06   5.762e-13\n",
      "------------------------------------------------------------\n",
      "\n",
      "========================================================================\n",
      "Model TBabs<1>(bremss<2> + powerlaw<3>) Source No.: 1   Active/On\n",
      "Model Model Component  Parameter  Unit     Value\n",
      " par  comp\n",
      "   1    1   TBabs      nH         10^22    1.02242      +/-  0.983384     \n",
      "   2    2   bremss     kT         keV      0.143830     +/-  0.136800     \n",
      "   3    2   bremss     norm                6.27968E-02  +/-  0.494056     \n",
      "   4    3   powerlaw   PhoIndex            -1.16852     +/-  1.58137      \n",
      "   5    3   powerlaw   norm                2.85883E-07  +/-  7.59061E-07  \n",
      "________________________________________________________________________\n",
      "\n",
      "\n",
      "Fit statistic  : Chi-Squared                  1.9740     using 9 bins.\n",
      "\n",
      "Test statistic : Chi-Squared                  1.9740     using 9 bins.\n",
      " Null hypothesis probability of 7.4054e-01 with 4 degrees of freedom\n"
     ]
    }
   ],
   "source": [
    "AllModels.clear()\n",
    "mo = Model(\"tbabs*(bremss+powerlaw)\")\n",
    "Fit.perform()\n",
    "Plot.device = \"/xs\"\n",
    "Plot(\"data resid\")"
   ]
  },
  {
   "cell_type": "code",
   "execution_count": 21,
   "id": "197601ae-93c4-499d-b627-069d489ba513",
   "metadata": {},
   "outputs": [
    {
     "data": {
      "text/plain": [
       "(-0.5, 859.5, 660.5, -0.5)"
      ]
     },
     "execution_count": 21,
     "metadata": {},
     "output_type": "execute_result"
    },
    {
     "data": {
      "image/png": "[encoded data removed]",
      "text/plain": [
       "<Figure size 1200x700 with 1 Axes>"
      ]
     },
     "metadata": {},
     "output_type": "display_data"
    }
   ],
   "source": [
    "img = plt.imread(glob.glob('*Spectrum_bremsspowerlaw.png')[0])\n",
    "plt.imshow(img)\n",
    "plt.axis('off')"
   ]
  },
  {
   "cell_type": "markdown",
   "id": "be385fd1-fd3e-4c16-9312-26289cf0d137",
   "metadata": {},
   "source": [
    "### Apec + Apec"
   ]
  },
  {
   "cell_type": "code",
   "execution_count": 22,
   "id": "f07dd870-a779-4579-82f9-2c214c5ec726",
   "metadata": {},
   "outputs": [
    {
     "name": "stdout",
     "output_type": "stream",
     "text": [
      "\n",
      "========================================================================\n",
      "Model TBabs<1>(apec<2> + apec<3>) Source No.: 1   Active/On\n",
      "Model Model Component  Parameter  Unit     Value\n",
      " par  comp\n",
      "   1    1   TBabs      nH         10^22    1.00000      +/-  0.0          \n",
      "   2    2   apec       kT         keV      1.00000      +/-  0.0          \n",
      "   3    2   apec       Abundanc            1.00000      frozen\n",
      "   4    2   apec       Redshift            0.0          frozen\n",
      "   5    2   apec       norm                1.00000      +/-  0.0          \n",
      "   6    3   apec       kT         keV      1.00000      +/-  0.0          \n",
      "   7    3   apec       Abundanc            1.00000      frozen\n",
      "   8    3   apec       Redshift            0.0          frozen\n",
      "   9    3   apec       norm                1.00000      +/-  0.0          \n",
      "________________________________________________________________________\n",
      "\n",
      "\n",
      "Fit statistic  : Chi-Squared              3.573488e+10     using 9 bins.\n",
      "\n",
      "Test statistic : Chi-Squared              3.573488e+10     using 9 bins.\n",
      " Null hypothesis probability of 0.000000e+00 with 4 degrees of freedom\n",
      " Current data and model not fit yet.\n",
      "                                   Parameters\n",
      "Chi-Squared  |beta|/N    Lvl          1:nH          2:kT        5:norm          6:kT        9:norm\n",
      "13.2027      1.35221       0      0.984453      0.796412   1.74679e-05      0.796412   1.74679e-05\n",
      "9.30936      15539.6       0      0.828833      0.594270   1.97054e-05      0.594270   1.97054e-05\n",
      "7.2363       18479.9      -1      0.657350      0.450495   2.14274e-05      0.450495   2.14274e-05\n",
      "7.19501      1552.5       -1      0.675820      0.434818   2.37579e-05      0.434818   2.37579e-05\n",
      "7.15279      1400         -1      0.691754      0.414103   2.65433e-05      0.414103   2.65433e-05\n",
      "7.11122      1614.82      -1      0.707240      0.394326   2.97931e-05      0.394326   2.97931e-05\n",
      "85      1605.03      -1      0.722013      0.379815   3.31297e-05      0.379815   3.31297e-05\n",
      "7.04583      1141.83      -1      0.735210      0.369655   3.61871e-05      0.369655   3.61871e-05\n",
      "7.02211      727.803      -1      0.747184      0.357824   3.95494e-05      0.357824   3.95494e-05\n",
      "7.00423      776.224      -1      0.758009      0.351242   4.24258e-05      0.351242   4.24258e-05\n",
      "6.98718      433.413      -1      0.767523      0.342985   4.55257e-05      0.342985   4.55257e-05\n",
      "6.97712      434.28       -1      0.776068      0.338704   4.79769e-05      0.338704   4.79769e-05\n",
      "6.96748      250.484      -1      0.783214      0.333009   5.06018e-05      0.333009   5.06018e-05\n",
      "6.95707      257.415      -1      0.790223      0.327061   5.34895e-05      0.327061   5.34895e-05\n",
      "6.94741      260.896      -1      0.797497      0.321122   5.66644e-05      0.321122   5.66644e-05\n",
      "6.94081      271.04       -1      0.804146      0.317864   5.91683e-05      0.317864   5.91683e-05\n",
      "6.9343       156.736      -1      0.809914      0.313754   6.18257e-05      0.313754   6.18257e-05\n",
      "6.92729      160.474      -1      0.815616      0.309465   6.47179e-05      0.309465   6.47179e-05\n",
      "6.92002      163.343      -1      0.821526      0.305148   6.78665e-05      0.305148   6.78665e-05\n",
      "6.91564      165.255      -1      0.826987      0.302757   7.03023e-05      0.302757   7.03023e-05\n",
      "6.91133      100.326      -1      0.831626      0.299731   7.28714e-05      0.299731   7.28714e-05\n",
      "6.9067       103.06       -1      0.836148      0.296543   7.56386e-05      0.296543   7.56386e-05\n",
      "6.90171      105.317      -1      0.840798      0.293307   7.86206e-05      0.293307   7.86206e-05\n",
      "6.89634      106.744      -1      0.845656      0.290058   8.18371e-05      0.290058   8.18371e-05\n",
      "6.89147      107.813      -1      0.850757      0.286808   8.53105e-05      0.286808   8.53105e-05\n",
      "6.8881       106.397      -1      0.855305      0.284815   8.80316e-05      0.284815   8.80316e-05\n",
      "6.8847       69.4501      -1      0.859279      0.282428   9.08912e-05      0.282428   9.08912e-05\n",
      "6.88106      70.964       -1      0.863179      0.279935   9.39487e-05      0.279935   9.39487e-05\n",
      "6.87717      72.3191      -1      0.867182      0.277405   9.72203e-05      0.277405   9.72203e-05\n",
      "6.873        73.261       -1      0.871350      0.274862   0.000100724      0.274862   0.000100724\n",
      "6.86862      74.0281      -1      0.875709      0.272312   0.000104482      0.272312   0.000104482\n",
      "6.86593      74.1223      -1      0.879741      0.270719   0.000107455      0.270719   0.000107455\n",
      "6.86324      49.2101      -1      0.883173      0.268802   0.000110559      0.268802   0.000110559\n",
      "6.86039      50.1749      -1      0.886488      0.266790   0.000113854      0.266790   0.000113854\n",
      "6.85736      51.0785      -1      0.889860      0.264745   0.000117356      0.264745   0.000117356\n",
      "6.85413      51.718       -1      0.893351      0.262685   0.000121081      0.262685   0.000121081\n",
      "6.85069      52.25        -1      0.896987      0.260618   0.000125048      0.260618   0.000125048\n",
      "6.84702      52.7287      -1      0.900780      0.258546   0.000129278      0.258546   0.000129278\n",
      "6.84343      53.1674      -1      0.904740      0.256472   0.000133792      0.256472   0.000133792\n",
      "6.84088      50.8903      -1      0.908240      0.254954   0.000137552      0.254954   0.000137552\n",
      "6.83827      38.4449      -1      0.911336      0.253248   0.000141480      0.253248   0.000141480\n",
      "6.83552      38.9537      -1      0.914362      0.251486   0.000145637      0.251486   0.000145637\n",
      "6.8326       39.4479      -1      0.917446      0.249704   0.000150041      0.249704   0.000150041\n",
      "6.8295       39.8091      -1      0.920637      0.247914   0.000154712      0.247914   0.000154712\n",
      "6.82622      40.1084      -1      0.923954      0.246122   0.000159671      0.246122   0.000159671\n",
      "6.82273      40.3712      -1      0.927409      0.244330   0.000164942      0.244330   0.000164942\n",
      "6.81917      40.6034      -1      0.931011      0.242539   0.000170549      0.242539   0.000170549\n",
      "6.8166       39.3384      -1      0.934227      0.241139   0.000175381      0.241139   0.000175381\n",
      "6.81398      30.744       -1      0.937038      0.239594   0.000180410      0.239594   0.000180410\n",
      "6.81123      30.9613      -1      0.939756      0.238006   0.000185712      0.238006   0.000185712\n",
      "6.80833      31.2166      -1      0.942511      0.236405   0.000191312      0.236405   0.000191312\n",
      "6.80527      31.3915      -1      0.945350      0.234801   0.000197236      0.234801   0.000197236\n",
      "6.80205      31.5219      -1      0.948295      0.233199   0.000203506      0.233199   0.000203506\n",
      "6.79865      31.6219      -1      0.951358      0.231602   0.000210149      0.231602   0.000210149\n",
      "6.79507      31.6949      -1      0.954545      0.230012   0.000217193      0.230012   0.000217193\n",
      "6.79164      31.7398      -1      0.957863      0.228430   0.000224667      0.228430   0.000224667\n",
      "6.78897      26.5593      -1      0.960580      0.227071   0.000231179      0.227071   0.000231179\n",
      "6.78621      24.5325      -1      0.963016      0.225645   0.000237973      0.225645   0.000237973\n",
      "6.78333      24.5661      -1      0.965392      0.224201   0.000245112      0.224201   0.000245112\n",
      "6.78032      24.5899      -1      0.967800      0.222755   0.000252626      0.222755   0.000252626\n",
      "6.77718      24.5757      -1      0.970278      0.221316   0.000260544      0.221316   0.000260544\n",
      "6.77389      24.5325      -1      0.972843      0.219886   0.000268891      0.219886   0.000268891\n",
      "6.77046      24.4635      -1      0.975503      0.218469   0.000277697      0.218469   0.000277697\n",
      "6.76688      24.3688      -1      0.978264      0.217065   0.000286988      0.217065   0.000286988\n",
      "6.76351      24.2466      -1      0.981130      0.215676   0.000296796      0.215676   0.000296796\n",
      "6.76092      17.4952      -1      0.983384      0.214452   0.000305224      0.214452   0.000305224\n",
      "6.75826      18.3843      -1      0.985341      0.213194   0.000313974      0.213194   0.000313974\n",
      "6.75552      18.2601      -1      0.987209      0.211929   0.000323087      0.211929   0.000323087\n",
      "6.75271      18.1075      -1      0.989076      0.210673   0.000332597      0.210673   0.000332597\n",
      "6.74981      17.9391      -1      0.990977      0.209430   0.000342527      0.209430   0.000342527\n",
      "6.74683      17.7526      -1      0.992929      0.208203   0.000352900      0.208203   0.000352900\n",
      "6.74377      17.5467      -1      0.994939      0.206996   0.000363732      0.206996   0.000363732\n",
      "6.74063      17.3204      -1      0.997011      0.205808   0.000375040      0.205808   0.000375040\n",
      "6.73742      17.0728      -1      0.999146      0.204642   0.000386842      0.204642   0.000386842\n",
      "6.73467      16.8028      -1       1.00134      0.203498   0.000399149      0.203498   0.000399149\n",
      "6.73262      6.65326      -1       1.00300      0.202502   0.000409009      0.202502   0.000409009\n",
      "6.73057      11.6754      -1       1.00435      0.201507   0.000419195      0.201507   0.000419195\n",
      "6.7285       11.526       -1       1.00559      0.200518   0.000429630      0.200518   0.000429630\n",
      "6.72642      11.2836      -1       1.00679      0.199543   0.000440338      0.199543   0.000440338\n",
      "6.72434      11.0415      -1       1.00800      0.198586   0.000451327      0.198586   0.000451327\n",
      "6.72225      10.7948      -1       1.00921      0.197650   0.000462600      0.197650   0.000462600\n",
      "6.72019      10.5407      -2       1.01938      0.190082   0.000556391      0.190082   0.000556391\n",
      "6.70467      125.887      -2       1.02428      0.185752   0.000637175      0.185752   0.000637175\n",
      "6.69755      65.1682      -2       1.02858      0.182571   0.000709353      0.182571   0.000709353\n",
      "6.69479      38.3877      -3       1.03752      0.176639   0.000858466      0.176639   0.000858466\n",
      "6.69372      22.0584      -4       1.03527      0.177476   0.000837829      0.177476   0.000837829\n",
      "6.69372      1.77487      -5       1.03517      0.177551   0.000836270      0.177551   0.000836270\n",
      "***Warning: LevMarq::invertCorrelationMatrix: \n",
      "            Negative diagonal element for parameter 2\n",
      "***Warning: LevMarq::invertCorrelationMatrix: \n",
      "            Negative diagonal element for parameter 6\n",
      "============================================================\n",
      " Variances and Principal Axes\n",
      "                 1        2        5        6        9  \n",
      " 5.1329E-04|  0.0000  -0.6203  -0.3367   0.5756   0.4130  \n",
      " 5.1329E-04| -0.0000  -0.4625  -0.5725  -0.5487  -0.3966  \n",
      " 5.1329E-02|  1.0000   0.0000  -0.0000   0.0000  -0.0000  \n",
      " 5.9097E+09|  0.0000  -0.4338   0.5100  -0.5372   0.5129  \n",
      " 3.4065E+10|  0.0000   0.4617  -0.5467  -0.2811   0.6395  \n",
      "------------------------------------------------------------\n",
      "\n",
      "============================================================\n",
      "  Covariance Matrix\n",
      "        1           2           3           4           5   \n",
      "   5.133e-02   5.899e+00  -2.284e-03  -5.922e+00   3.103e-03\n",
      "   3.637e+00  -2.562e+10  -1.805e+10   2.562e+10   1.805e+10\n",
      "  -8.716e-04  -2.930e+10   1.741e+07   2.930e+10  -1.741e+07\n",
      "  -3.660e+00   2.562e+10   1.805e+10  -2.562e+10  -1.805e+10\n",
      "   1.690e-03   2.930e+10  -1.741e+07  -2.930e+10   1.741e+07\n",
      "------------------------------------------------------------\n",
      "\n",
      "========================================================================\n",
      "Model TBabs<1>(apec<2> + apec<3>) Source No.: 1   Active/On\n",
      "Model Model Component  Parameter  Unit     Value\n",
      " par  comp\n",
      "   1    1   TBabs      nH         10^22    1.03517      +/-  0.226558     \n",
      "   2    2   apec       kT         keV      0.177551     +/-  -1.00000     \n",
      "   3    2   apec       Abundanc            1.00000      frozen\n",
      "   4    2   apec       Redshift            0.0          frozen\n",
      "   5    2   apec       norm                8.36270E-04  +/-  4173.00      \n",
      "   6    3   apec       kT         keV      0.177551     +/-  -1.00000     \n",
      "   7    3   apec       Abundanc            1.00000      frozen\n",
      "   8    3   apec       Redshift            0.0          frozen\n",
      "   9    3   apec       norm                8.36270E-04  +/-  4173.00      \n",
      "________________________________________________________________________\n",
      "\n",
      "\n",
      "Fit statistic  : Chi-Squared                  6.6937     using 9 bins.\n",
      "\n",
      "Test statistic : Chi-Squared                  6.6937     using 9 bins.\n",
      " Null hypothesis probability of 1.5299e-01 with 4 degrees of freedom\n"
     ]
    }
   ],
   "source": [
    "AllModels.clear()\n",
    "mo = Model(\"tbabs*(apec+apec)\")\n",
    "Fit.perform()\n",
    "Plot.device = \"/xs\"\n",
    "Plot(\"data resid\")"
   ]
  },
  {
   "cell_type": "code",
   "execution_count": 23,
   "id": "4a94627b-4b9c-4f75-a6e3-048bd365392c",
   "metadata": {},
   "outputs": [
    {
     "data": {
      "text/plain": [
       "(-0.5, 857.5, 661.5, -0.5)"
      ]
     },
     "execution_count": 23,
     "metadata": {},
     "output_type": "execute_result"
    },
    {
     "data": {
      "image/png": "[encoded data removed]",
      "text/plain": [
       "<Figure size 1200x700 with 1 Axes>"
      ]
     },
     "metadata": {},
     "output_type": "display_data"
    }
   ],
   "source": [
    "img = plt.imread(glob.glob('*Spectrum_apecapec.png')[0])\n",
    "plt.imshow(img)\n",
    "plt.axis('off')"
   ]
  },
  {
   "cell_type": "markdown",
   "id": "d610bc76-36a4-495a-a1b5-3151d0be239c",
   "metadata": {},
   "source": [
    "## ESASky\n",
    "\n",
    "https://sky.esa.int/esasky/?target=52.73769389063616%20-28.634488186049&hips=GALEX+GR6%2F7+AIS+color&fov=0.182241278518&projection=SIN&cooframe=J2000&sci=true&lang=fr\n",
    "\n",
    "``EPIC Stack``\n",
    "- Stack Catalogue name : 4XMMs J033057.0-283804\n",
    "- IAU name : 4XMM J033056.9-283804\n",
    "- RA : 03h 30m 57.047s\n",
    "- DEC : -28° 38' 04.16\""
   ]
  },
  {
   "cell_type": "markdown",
   "id": "36c84055-7548-4b35-bf35-a57a5c988ffe",
   "metadata": {},
   "source": [
    "## Column density nH\n",
    "### 3DNH-tool\n",
    "http://astro.uni-tuebingen.de/nh3d/nhtool\n",
    "\n",
    "**Sky coordinates (°) :**\n",
    "\n",
    "- RA = 52.7376939°\n",
    "- DEC = -28.6344882°\n",
    "\n",
    "52.74 -28.63\n",
    "\n",
    "**Column density :** nH = 2*10^20 cm^-2\n",
    "\n",
    "The different models give a column density of :\n",
    "- bbody : nH = 5.82007*10^5\n",
    "- bremss : nH = 1.38134*10^9\n",
    "- apec : nH = 1.03516*10^22\n",
    "- powerlaw : nH = 1.89351*10^6\n",
    "- bbody+powerlaw : nH = 1.26695*10^22\n",
    "- bremss+powerlaw : nH = 1.02242*10^22\n",
    "- apec+apec : nH = 1.03517*10^22\n",
    "\n",
    "None of the values correspond to 3DNH-tool one."
   ]
  },
  {
   "cell_type": "markdown",
   "id": "f23cfead-da2e-4d4f-aae5-61d8c90f5066",
   "metadata": {},
   "source": [
    "## Flux\n",
    "### X-ray flux"
   ]
  },
  {
   "cell_type": "code",
   "execution_count": 24,
   "id": "3f836461-4a1e-4651-8772-b92c8ea44af8",
   "metadata": {},
   "outputs": [
    {
     "name": "stdout",
     "output_type": "stream",
     "text": [
      " Model Flux 7.6696e-06 photons (1.1898e-14 ergs/cm^2/s) range (0.20000 - 12.000 keV)\n"
     ]
    }
   ],
   "source": [
    "AllModels.calcFlux(\".2 12.0\")"
   ]
  },
  {
   "cell_type": "code",
   "execution_count": 27,
   "id": "46a261ad-4d67-49ca-9a58-b3e393b1aa48",
   "metadata": {},
   "outputs": [
    {
     "name": "stdout",
     "output_type": "stream",
     "text": [
      "\u001b[1mX-ray flux : \u001b[0mF_X = 1.1898e-14 ergs/cm^2/s\n"
     ]
    }
   ],
   "source": [
    "Flux = 1.1898e-14 # ergs/cm^2/s\n",
    "print(color.BOLD+\"X-ray flux : \"+color.END+f\"F_X = {Flux} ergs/cm^2/s\")"
   ]
  },
  {
   "cell_type": "markdown",
   "id": "cb0f51ab-e08d-4f66-a084-975e1f5ca329",
   "metadata": {},
   "source": [
    "### Optical flux\n",
    "No GAIA information, so we use the lower limit of 20.7 mag."
   ]
  },
  {
   "cell_type": "code",
   "execution_count": 30,
   "id": "34ec6400-0b45-434d-bf92-53cd8c65992f",
   "metadata": {},
   "outputs": [
    {
     "name": "stdout",
     "output_type": "stream",
     "text": [
      "\u001b[1mOptical  flux : \u001b[0mF_opt = 5.510478332622621e-14 ergs/cm^2/s\n"
     ]
    }
   ],
   "source": [
    "def F_optical(mag):\n",
    "    F0 = 1.05*10**(-5) # GAIA zero point magnitude\n",
    "    return F0*10**(-0.4*mag)\n",
    "\n",
    "G = 20.7\n",
    "\n",
    "F = F_optical(G)\n",
    "\n",
    "print(color.BOLD+\"Optical  flux : \"+color.END+f\"F_opt = {F} ergs/cm^2/s\")"
   ]
  },
  {
   "cell_type": "markdown",
   "id": "783c798c-158a-4c4f-8393-0d64af891abf",
   "metadata": {},
   "source": [
    "### X-ray flux / Optical flux ratio"
   ]
  },
  {
   "cell_type": "code",
   "execution_count": 31,
   "id": "e619da98-fa88-4879-9091-2977cbfcae06",
   "metadata": {},
   "outputs": [
    {
     "name": "stdout",
     "output_type": "stream",
     "text": [
      "\u001b[1mX-ray flux / Optical flux ratio : \u001b[0mF_x-ray/F_optical = 0.21591592021263503\n",
      "F_x-ray = 0.21591592021263503*F_optical\n"
     ]
    }
   ],
   "source": [
    "print(color.BOLD+\"X-ray flux / Optical flux ratio : \"+color.END+f\"F_x-ray/F_optical = {Flux/F}\")\n",
    "print(f\"F_x-ray = {Flux/F}*F_optical\")"
   ]
  },
  {
   "cell_type": "markdown",
   "id": "9cce4ed6-9030-4ebf-962f-3f944f47785e",
   "metadata": {},
   "source": [
    "## Luminosity\n",
    "No distance available."
   ]
  },
  {
   "cell_type": "code",
   "execution_count": 14,
   "id": "8b133568-bf85-45d3-b342-5bb9a0bb7e44",
   "metadata": {},
   "outputs": [
    {
     "name": "stdout",
     "output_type": "stream",
     "text": [
      "\u001b[1mFor a star in the milky way? with d=[1 pc - 30 kpc] :\u001b[0m\n",
      "Luminosity : [4.5442350851385494e+24, 4.5442350851385484e+30] erg/s\n"
     ]
    }
   ],
   "source": [
    "# For a star in the milky way : d=[1 pc - 30 kpc]\n",
    "d_pc = 1 # Distance en pc\n",
    "d_kpc = 30 # Distance en kpc\n",
    "\n",
    "d1_cm = d_pc*3.0857*10**18 # Distance en cm, avec 1 pc = 3.0857*10^18 cm\n",
    "d2_cm = d_pc*3.0857*10**21 # Distance en cm, avec 1 pc = 3.0857*10^18 cm\n",
    "\n",
    "# La source est supposée sphérique pour le calcul de la luminosité : L = 4*pi*F*D^2\n",
    "L1 = 4*np.pi*Flux*(d1_cm)**2 # erg/s\n",
    "L2 = 4*np.pi*Flux*(d2_cm)**2 # erg/s\n",
    "\n",
    "\n",
    "print(color.BOLD+\"For a star in the milky way? with d=[1 pc - 30 kpc] :\"+color.END)\n",
    "print(f\"Luminosity : [{L1}, {L2}] erg/s\")"
   ]
  },
  {
   "cell_type": "code",
   "execution_count": 15,
   "id": "61a73827-8394-4520-b6b3-bf75a302c991",
   "metadata": {},
   "outputs": [
    {
     "name": "stdout",
     "output_type": "stream",
     "text": [
      "\u001b[1mFor a galaxy? with d=[1 Mpc - 10 Gpc] :\u001b[0m\n",
      "Luminosity : [4.5442350851385495e+36, 4.54423508513855e+44] erg/s\n"
     ]
    }
   ],
   "source": [
    "# For a galaxy : d=[1 Mpc - 10 Gpc]\n",
    "d_Mpc = 1 # Distance en Mpc\n",
    "d_Gpc = 10 # Distance en Gpc\n",
    "\n",
    "d1_cm = d_Mpc*3.0857*10**24 # Distance en cm, avec 1 pc = 3.0857*10^18 cm\n",
    "d2_cm = d_Gpc*3.0857*10**27 # Distance en cm, avec 1 pc = 3.0857*10^18 cm\n",
    "\n",
    "# La source est supposée sphérique pour le calcul de la luminosité : L = 4*pi*F*D^2\n",
    "L1 = 4*np.pi*Flux*(d1_cm)**2 # erg/s\n",
    "L2 = 4*np.pi*Flux*(d2_cm)**2 # erg/s\n",
    "\n",
    "\n",
    "print(color.BOLD+\"For a galaxy? with d=[1 Mpc - 10 Gpc] :\"+color.END)\n",
    "print(f\"Luminosity : [{L1}, {L2}] erg/s\")"
   ]
  },
  {
   "cell_type": "code",
   "execution_count": 16,
   "id": "91792d12-bdcc-4d40-bde6-02b3d3e73924",
   "metadata": {},
   "outputs": [
    {
     "data": {
      "image/png": "[encoded data removed]",
      "text/plain": [
       "<Figure size 1000x500 with 1 Axes>"
      ]
     },
     "metadata": {},
     "output_type": "display_data"
    }
   ],
   "source": [
    "D_pc = np.arange(1, 10**10, 1000)\n",
    "\n",
    "d_cm = D_pc*3.0857*10**18 # Distance en cm, avec 1 pc = 3.0857*10^18 cm\n",
    "\n",
    "# La source est supposée sphérique pour le calcul de la luminosité : L = 4*pi*F*D^2\n",
    "L = 4*np.pi*Flux*(d_cm)**2 # erg/s\n",
    "\n",
    "plt.figure(figsize=[10,5])\n",
    "plt.plot(L,D_pc)\n",
    "plt.xlabel(\"Luminosity (erg/s)\")\n",
    "plt.ylabel(\"Distance (pc)\")\n",
    "plt.xscale(\"log\")\n",
    "plt.yscale(\"log\")\n",
    "plt.grid()"
   ]
  }
 ],
 "metadata": {
  "kernelspec": {
   "display_name": "Python 3 (ipykernel)",
   "language": "python",
   "name": "python3"
  },
  "language_info": {
   "codemirror_mode": {
    "name": "ipython",
    "version": 3
   },
   "file_extension": ".py",
   "mimetype": "text/x-python",
   "name": "python",
   "nbconvert_exporter": "python",
   "pygments_lexer": "ipython3",
   "version": "3.10.12"
  }
 },
 "nbformat": 4,
 "nbformat_minor": 5
}
