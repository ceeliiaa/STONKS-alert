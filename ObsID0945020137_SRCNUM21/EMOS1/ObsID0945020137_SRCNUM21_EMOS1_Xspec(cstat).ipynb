{
 "cells": [
  {
   "cell_type": "markdown",
   "id": "a09472f9-b7b4-4047-9978-0b5adf3b464f",
   "metadata": {},
   "source": [
    "# ObsID : 0945020137, SRCNUM : 21, Instru : EMOS1\n",
    "Not on Simbad"
   ]
  },
  {
   "cell_type": "code",
   "execution_count": 25,
   "id": "311ae079-ccd8-41c3-aac4-08c99f67b431",
   "metadata": {},
   "outputs": [
    {
     "name": "stdout",
     "output_type": "stream",
     "text": [
      "Default fit statistic is set to: C-Statistic\n",
      "   This will apply to all current and newly loaded spectra.\n",
      "\n",
      "Fit statistic  : C-Statistic                  8.4587     using 6 bins, spectrum 1.\n",
      "                 C-Statistic                  8.4587     using 6 bins, spectrum 2.\n",
      "Total fit statistic                          16.9175     with 9 d.o.f.\n",
      "\n",
      "Test statistic : Chi-Squared                 14.0526     using 12 bins.\n",
      " Null hypothesis probability of 1.2047e-01 with 9 degrees of freedom\n",
      " Current data and model not fit yet.\n",
      "Parameter delta values for fits will now be 0.0001 * parValue\n"
     ]
    }
   ],
   "source": [
    "from xspec import *\n",
    "from stingray import Lightcurve\n",
    "from astropy.io import fits\n",
    "import matplotlib.pyplot as plt\n",
    "import matplotlib.image as mpimg\n",
    "import glob\n",
    "import numpy as np\n",
    "\n",
    "class color:\n",
    "   PURPLE = '\\033[95m'\n",
    "   CYAN = '\\033[96m'\n",
    "   DARKCYAN = '\\033[36m'\n",
    "   BLUE = '\\033[94m'\n",
    "   GREEN = '\\033[92m'\n",
    "   YELLOW = '\\033[93m'\n",
    "   RED = '\\033[91m'\n",
    "   BOLD = '\\033[1m'\n",
    "   UNDERLINE = '\\033[4m'\n",
    "   END = '\\033[0m'\n",
    "\n",
    "plt.rcParams['figure.figsize'] = [12,7]\n",
    "\n",
    "Fit.statMethod = \"cstat\"\n",
    "Fit.nIterations = 100000\n",
    "Fit.delta = 1e-4\n",
    "Fit.criticalDelta = 1e-4"
   ]
  },
  {
   "cell_type": "markdown",
   "id": "39b7d9d2-7930-4892-81ba-8bd2db47e610",
   "metadata": {},
   "source": [
    "## Load files"
   ]
  },
  {
   "cell_type": "code",
   "execution_count": 26,
   "id": "cd0bcd6f-9565-4899-90b7-1e5d87e7050a",
   "metadata": {},
   "outputs": [
    {
     "name": "stdout",
     "output_type": "stream",
     "text": [
      "\n",
      "3 spectra  in use\n",
      " \n",
      "Spectral Data File: ObsID0945020137_SRCNUM21_EMOS1_spectrum_grp_cstat.fits  Spectrum 3\n",
      "Net count rate (cts/s) for Spectrum:3  1.387e-03 +/- 4.972e-04 (35.5 % total)\n",
      " Assigned to Data Group 1 and Plot Group 3\n",
      "  Noticed Channels:  1-67\n",
      "  Telescope: XMM Instrument: EMOS1  Channel Type: PI\n",
      "  Exposure Time: 1.818e+04 sec\n",
      " Using fit statistic: cstat\n",
      " Using Background File                ObsID0945020137_SRCNUM21_EMOS1_background_spectrum.fits\n",
      "  Background Exposure Time: 1.818e+04 sec\n",
      " Using Response (RMF) File            ObsID0945020137_SRCNUM21_EMOS1.rmf for Source 1\n",
      " Using Auxiliary Response (ARF) File  ObsID0945020137_SRCNUM21_EMOS1.arf\n",
      "\n",
      "\n",
      "Fit statistic  : C-Statistic                  8.4587     using 6 bins, spectrum 1.\n",
      "                 C-Statistic                  8.4587     using 6 bins, spectrum 2.\n",
      "                 C-Statistic                 79.6823     using 67 bins, spectrum 3.\n",
      "Total fit statistic                          96.5998     with 76 d.o.f.\n",
      "\n",
      "Test statistic : Chi-Squared                 51.6872     using 79 bins.\n",
      " Null hypothesis probability of 9.8528e-01 with 76 degrees of freedom\n",
      " Current data and model not fit yet.\n"
     ]
    }
   ],
   "source": [
    "spec = Spectrum(glob.glob(\"ObsID*SRCNUM*E*spectrum_grp_cstat.fits\")[0])"
   ]
  },
  {
   "cell_type": "code",
   "execution_count": 4,
   "id": "9968bb77-9938-43b4-9215-e5bff3f5d8da",
   "metadata": {},
   "outputs": [
    {
     "name": "stdout",
     "output_type": "stream",
     "text": [
      "Number of counts : 25.21566\n"
     ]
    }
   ],
   "source": [
    "print(\"Number of counts :\", 1.387e-03*1.818e+04)"
   ]
  },
  {
   "cell_type": "markdown",
   "id": "870eec10-27a5-4341-a01c-4a98ac400133",
   "metadata": {},
   "source": [
    "## Plot spectrum"
   ]
  },
  {
   "cell_type": "code",
   "execution_count": 28,
   "id": "37f98bf3-3d31-4c65-891f-3ea006da7786",
   "metadata": {},
   "outputs": [
    {
     "name": "stdout",
     "output_type": "stream",
     "text": [
      "***Warning: Fit is not current.\n",
      "     5 channels (1-5) ignored in spectrum #     3\n",
      "    56 channels (12,67) ignored in spectrum #     3\n",
      "\n",
      "Fit statistic  : C-Statistic                  8.4587     using 6 bins, spectrum 1.\n",
      "                 C-Statistic                  8.4587     using 6 bins, spectrum 2.\n",
      "                 C-Statistic                  8.4587     using 6 bins, spectrum 3.\n",
      "Total fit statistic                          25.3762     with 15 d.o.f.\n",
      "\n",
      "Test statistic : Chi-Squared                 21.0788     using 18 bins.\n",
      " Null hypothesis probability of 1.3433e-01 with 15 degrees of freedom\n",
      " Current data and model not fit yet.\n",
      "\n"
     ]
    }
   ],
   "source": [
    "Plot.xAxis=\"keV\"\n",
    "Plot.device = \"/xs\"\n",
    "Plot.xLog=True\n",
    "Plot.yLog=True\n",
    "#Plot.addCommand(\"Rescale Y 0.00001 0.05\")\n",
    "Plot(\"data\")\n",
    "spec.ignore(\"**-0.2 12-**\")"
   ]
  },
  {
   "cell_type": "code",
   "execution_count": 16,
   "id": "27bf0415-368d-4476-8ef7-29af925b48ee",
   "metadata": {},
   "outputs": [
    {
     "data": {
      "text/plain": [
       "(-0.5, 852.5, 660.5, -0.5)"
      ]
     },
     "execution_count": 16,
     "metadata": {},
     "output_type": "execute_result"
    },
    {
     "data": {
      "image/png": "[encoded data removed]",
      "text/plain": [
       "<Figure size 1200x700 with 1 Axes>"
      ]
     },
     "metadata": {},
     "output_type": "display_data"
    }
   ],
   "source": [
    "img = plt.imread(glob.glob(\"ObsID*SRCNUM*E*Spectrum2.png\")[0])\n",
    "plt.imshow(img)\n",
    "plt.axis('off')"
   ]
  },
  {
   "cell_type": "markdown",
   "id": "7eb1edda-21f0-4876-bdbc-8cb3e4a347dc",
   "metadata": {},
   "source": [
    "### Black body model"
   ]
  },
  {
   "cell_type": "code",
   "execution_count": 29,
   "id": "25e94b4e-0bb6-439e-af07-e82ebf0faa48",
   "metadata": {},
   "outputs": [
    {
     "name": "stdout",
     "output_type": "stream",
     "text": [
      "\n",
      "========================================================================\n",
      "Model TBabs<1>*bbody<2> Source No.: 1   Active/On\n",
      "Model Model Component  Parameter  Unit     Value\n",
      " par  comp\n",
      "   1    1   TBabs      nH         10^22    1.00000      +/-  0.0          \n",
      "   2    2   bbody      kT         keV      3.00000      +/-  0.0          \n",
      "   3    2   bbody      norm                1.00000      +/-  0.0          \n",
      "________________________________________________________________________\n",
      "\n",
      "\n",
      "Fit statistic  : C-Statistic                32346.46     using 6 bins, spectrum 1.\n",
      "                 C-Statistic                32346.46     using 6 bins, spectrum 2.\n",
      "                 C-Statistic                32346.46     using 6 bins, spectrum 3.\n",
      "Total fit statistic                         97039.38     with 15 d.o.f.\n",
      "\n",
      "Test statistic : Chi-Squared              1.855780e+08     using 18 bins.\n",
      " Null hypothesis probability of 0.000000e+00 with 15 degrees of freedom\n",
      " Current data and model not fit yet.\n",
      "                                   Parameters\n",
      "C-Statistic  |beta|/N    Lvl          1:nH          2:kT        3:norm\n",
      "25.3837      20840.3      -3      0.489653       196.956      0.118648\n",
      "      0.00994864   -4     0.0353389       199.296     0.0306858\n",
      "25.3737      0.00507024   -5    0.00420900       81.3644    0.00444856\n",
      "25.3505      0.107437      0    0.00197574       47.7618    0.00973799\n",
      "25.3479      0.309201      0   0.000659537       46.7815     0.0102684\n",
      "25.346       0.300153      0   0.000121599       46.0227     0.0107096\n",
      "25.3446      0.285258      0   4.70551e-06       45.4181     0.0110704\n",
      "25.3436      0.268315      0   1.39083e-06       44.9371     0.0113623\n",
      "25.3428      0.251863      0   6.20905e-07       44.5435     0.0115979\n",
      "25.3422      0.236776      0   2.58397e-07       44.2238     0.0117885\n",
      "25.3417      0.223343      0   8.58669e-08       43.9544     0.0119425\n",
      "25.3413      0.211448      0   3.06706e-09       43.7309     0.0120668\n",
      "25.341       0.20115       0   5.66223e-10       43.5372     0.0121663\n",
      "25.3408      0.192163      0   2.62429e-10       43.3769     0.0122458\n",
      "25.3406      0.184578      0   1.14055e-10       43.2455     0.0123092\n",
      "25.3404      0.178279      0   4.12881e-11       43.1241     0.0123586\n",
      "25.3403      0.172728      0   5.53674e-12       43.0130     0.0123960\n",
      "25.3402      0.167755      0   1.14179e-12       42.9180     0.0124241\n",
      "25.3401      0.1626        0   7.04528e-14       42.8300     0.0124478\n",
      "========================================\n",
      " Variances and Principal Axes\n",
      "                 1        2        3  \n",
      " 6.0226E-03| -0.0601  -0.0009   0.9982  \n",
      " 5.0469E+02|  0.9982   0.0003   0.0601  \n",
      " 6.1046E+10| -0.0004   1.0000   0.0008  \n",
      "----------------------------------------\n",
      "\n",
      "====================================\n",
      "  Covariance Matrix\n",
      "        1           2           3   \n",
      "   8.421e+03  -2.199e+07  -1.842e+04\n",
      "  -2.199e+07   6.105e+10   5.122e+07\n",
      "  -1.842e+04   5.122e+07   4.298e+04\n",
      "------------------------------------\n",
      "\n",
      "========================================================================\n",
      "Model TBabs<1>*bbody<2> Source No.: 1   Active/On\n",
      "Model Model Component  Parameter  Unit     Value\n",
      " par  comp\n",
      "   1    1   TBabs      nH         10^22    7.04528E-14  +/-  91.7675      \n",
      "   2    2   bbody      kT         keV      42.8300      +/-  2.47076E+05  \n",
      "   3    2   bbody      norm                1.24478E-02  +/-  207.325      \n",
      "________________________________________________________________________\n",
      "\n",
      "\n",
      "Fit statistic  : C-Statistic                  8.4467     using 6 bins, spectrum 1.\n",
      "                 C-Statistic                  8.4467     using 6 bins, spectrum 2.\n",
      "                 C-Statistic                  8.4467     using 6 bins, spectrum 3.\n",
      "Total fit statistic                          25.3401     with 15 d.o.f.\n",
      "\n",
      "Test statistic : Chi-Squared                 22.1589     using 18 bins.\n",
      " Null hypothesis probability of 1.0370e-01 with 15 degrees of freedom\n"
     ]
    }
   ],
   "source": [
    "AllModels.clear()\n",
    "mo = Model(\"tbabs*bbody\")\n",
    "Fit.perform()\n",
    "Plot.device = \"/xs\"\n",
    "Plot(\"data resid\")\n",
    "plt.show()"
   ]
  },
  {
   "cell_type": "code",
   "execution_count": 18,
   "id": "f2d55c50-94dd-468d-bf08-69bca0b63260",
   "metadata": {},
   "outputs": [
    {
     "data": {
      "text/plain": [
       "(-0.5, 854.5, 656.5, -0.5)"
      ]
     },
     "execution_count": 18,
     "metadata": {},
     "output_type": "execute_result"
    },
    {
     "data": {
      "image/png": "[encoded data removed]",
      "text/plain": [
       "<Figure size 1200x700 with 1 Axes>"
      ]
     },
     "metadata": {},
     "output_type": "display_data"
    }
   ],
   "source": [
    "img = plt.imread(glob.glob(\"ObsID*SRCNUM*E*Spectrum_bbody2.png\")[0])\n",
    "plt.imshow(img)\n",
    "plt.axis('off')"
   ]
  },
  {
   "cell_type": "markdown",
   "id": "b77a2e66-8412-4d85-a277-10782493ea2e",
   "metadata": {},
   "source": [
    "### Bremsstrahlung model"
   ]
  },
  {
   "cell_type": "code",
   "execution_count": 30,
   "id": "3ed606fb-6f75-4369-b9c8-b5c95a0a9577",
   "metadata": {},
   "outputs": [
    {
     "name": "stdout",
     "output_type": "stream",
     "text": [
      "\n",
      "========================================================================\n",
      "Model TBabs<1>*bremss<2> Source No.: 1   Active/On\n",
      "Model Model Component  Parameter  Unit     Value\n",
      " par  comp\n",
      "   1    1   TBabs      nH         10^22    1.00000      +/-  0.0          \n",
      "   2    2   bremss     kT         keV      7.00000      +/-  0.0          \n",
      "   3    2   bremss     norm                1.00000      +/-  0.0          \n",
      "________________________________________________________________________\n",
      "\n",
      "\n",
      "Fit statistic  : C-Statistic                12493.75     using 6 bins, spectrum 1.\n",
      "                 C-Statistic                12493.75     using 6 bins, spectrum 2.\n",
      "                 C-Statistic                12493.75     using 6 bins, spectrum 3.\n",
      "Total fit statistic                         37481.24     with 15 d.o.f.\n",
      "\n",
      "Test statistic : Chi-Squared              2.595873e+07     using 18 bins.\n",
      " Null hypothesis probability of 0.000000e+00 with 15 degrees of freedom\n",
      " Current data and model not fit yet.\n",
      "                                   Parameters\n",
      "C-Statistic  |beta|/N    Lvl          1:nH          2:kT        3:norm\n",
      "31975.4      7439.4       -3      0.238525       199.054      0.337702\n",
      "29006.7      36194.2      -4     0.0420242       76.5039     0.0401771\n",
      "25.3885      135403       -5       303.316       7.11502     0.0198197\n",
      "25.3773      0.0992984    -6       117.838      0.336097       105.930\n",
      "25.376       0.00428164   -5       21.0083      0.166143       41.6674\n",
      "25.3612      0.00856076    2       17.5267      0.182334       94.8956\n",
      "25.3277      0.162478      1       16.4186      0.189512       137.755\n",
      "25.0853      0.464672      0       14.1946      0.206665       273.099\n",
      "25.0676      0.707701      0       14.5309      0.209224       296.380\n",
      "25.0377      0.520917     -1       17.8542      0.225561       450.342\n",
      "25.0234      0.466755     -1       15.9264      0.209892       545.379\n",
      "25.0105      0.200331     -1       17.6970      0.216236       738.841\n",
      "25.0023      0.226521     -1       17.0633      0.208548       898.647\n",
      "24.9966      0.147819     -1       17.7615      0.208615       1146.85\n",
      "24.9911      0.12739      -1       17.6995      0.204456       1407.31\n",
      "24.9862      0.118126     -1       18.0224      0.202546       1750.55\n",
      "24.9814      0.115186     -1       18.1485      0.199694       2150.18\n",
      "24.9767      0.114174     -1       18.3650      0.197456       2640.58\n",
      "24.9721      0.110092     -1       18.5314      0.195058       3225.18\n",
      "24.9677      0.109386     -1       18.7168      0.192864       3929.79\n",
      "24.9633      0.106802     -1       18.8882      0.190689       4772.52\n",
      "24.959       0.106189     -1       19.0624      0.188616       5781.11\n",
      "24.9547      0.106004     -1       19.2326      0.186614       6981.62\n",
      "24.9506      0.103944     -1       19.3996      0.184675       8408.83\n",
      "24.9465      0.105185     -1       19.5677      0.182838       10092.5\n",
      "24.9425      0.096762     -1       19.7239      0.180987       12091.4\n",
      "24.9386      0.103284     -1       19.8899      0.179275       14445.4\n",
      "24.9347      0.0931807    -1       20.0399      0.177520       17232.8\n",
      "24.9309      0.0994986    -1       20.2001      0.175881       20522.2\n",
      "24.9271      0.0958229    -1       20.3518      0.174255       24389.8\n",
      "24.9234      0.0974029    -1       20.5058      0.172698       28927.7\n",
      "24.9197      0.096413     -1       20.6567      0.171187       34228.7\n",
      "24.9161      0.0916836    -1       20.8039      0.169701       40427.1\n",
      "24.9125      0.092085     -1       20.9509      0.168262       47665.1\n",
      "24.909       0.091735     -1       21.0959      0.166861       56096.7\n",
      "24.9056      0.0904747    -1       21.2394      0.165499       65898.8\n",
      "24.9022      0.0889605    -1       21.3808      0.164170       77281.4\n",
      "24.8988      0.088902     -1       21.5217      0.162885       90454.1\n",
      "24.8955      0.0849421    -1       21.6592      0.161620       105700.\n",
      "24.8923      0.0845396    -1       21.7959      0.160390       123333.\n",
      "24.8891      0.0837005    -1       21.9313      0.159189       143685.\n",
      "24.8859      0.0825056    -1       22.0649      0.158016       167155.\n",
      "24.8828      0.0820025    -1       22.1982      0.156878       194130.\n",
      "24.8797      0.0783154    -1       22.3282      0.155755       225166.\n",
      "24.8766      0.0793229    -1       22.4589      0.154668       260753.\n",
      "24.8737      0.0821539    -1       22.5904      0.153630       301204.\n",
      "24.8707      0.0705649    -1       22.7126      0.152572       347669.\n",
      "24.8678      0.0730214    -1       22.8384      0.151552       400929.\n",
      "24.8649      0.0756385    -1       22.9643      0.150567       461555.\n",
      "24.8621      0.0685227    -1       23.0853      0.149582       530837.\n",
      "24.8593      0.0724894    -1       23.2087      0.148636       609642.\n",
      "24.8565      0.0674355    -1       23.3286      0.147699       699279.\n",
      "24.8537      0.0670549    -1       23.4482      0.146785       801162.\n",
      "24.851       0.0653892    -1       23.5662      0.145886       916908.\n",
      "24.8483      0.0645836    -1       23.6836      0.145007   1.04820e+06\n",
      "24.8455      0.0325664    -1       23.7823      0.144012   1.20355e+06\n",
      "24.8427      0.0557286    -1       23.8945      0.143045   1.38737e+06\n",
      "24.84        0.131341     -1       24.0449      0.142336   1.58625e+06\n",
      "24.8371      0.0181519    -1       24.1105      0.141176   1.83379e+06\n",
      "24.8344      0.17662      -1       24.2861      0.140578   2.09776e+06\n",
      "24.8318      0.079872     -1       24.4011      0.139815   2.38410e+06\n",
      "24.8293      0.0570933    -1       24.5110      0.139049   2.70540e+06\n",
      "24.8268      0.0536918    -1       24.6197      0.138292   3.06732e+06\n",
      "24.8243      0.0534109    -1       24.7276      0.137549   3.47488e+06\n",
      "24.8219      0.0506601    -1       24.8343      0.136814   3.93419e+06\n",
      "24.8194      0.0503868    -1       24.9408      0.136092   4.45136e+06\n",
      "24.8163      0.0488062    -1       25.0467      0.135381   5.03309e+06\n",
      "24.8139      0.208693     -1       25.1427      0.134589   5.66302e+06\n",
      "24.8115      0.0315674    -1       25.2449      0.133880   6.39978e+06\n",
      "24.8091      0.0476758    -1       25.3493      0.133191   7.23272e+06\n",
      "24.8067      0.0518421    -1       25.4552      0.132521   8.16732e+06\n",
      "24.8043      0.0519399    -1       25.5605      0.131865   9.21330e+06\n",
      "24.802       0.0447682    -1       25.6624      0.131206   1.03905e+07\n",
      "24.7996      0.0500082    -1       25.7669      0.130570   1.17065e+07\n",
      "24.7973      0.046763     -1       25.8695      0.129941   1.31779e+07\n",
      "24.7951      0.0452983    -1       25.9715      0.129323   1.48216e+07\n",
      "24.7928      0.0428346    -1       26.0725      0.128713   1.66575e+07\n",
      "24.7905      0.0385151    -1       26.1709      0.128102   1.87192e+07\n",
      "24.7883      0.0450555    -1       26.2724      0.127514   2.10141e+07\n",
      "24.7861      0.0407431    -1       26.3714      0.126929   2.35736e+07\n",
      "24.7839      0.0400594    -1       26.4703      0.126356   2.64233e+07\n",
      "24.7817      0.0377505    -1       26.5677      0.125787   2.96010e+07\n",
      "24.7796      0.0370168    -1       26.6649      0.125228   3.31396e+07\n",
      "24.7774      0.0265838    -1       26.7583      0.124659   3.71155e+07\n",
      "24.7753      0.0451242    -1       26.8586      0.124127   4.15045e+07\n",
      "24.7731      0.0231598    -1       26.9501      0.123570   4.64365e+07\n",
      "24.7711      0.0456437    -1       27.0501      0.123056   5.18649e+07\n",
      "24.769       0.0341022    -1       27.1454      0.122539   5.78676e+07\n",
      "24.7669      0.0172717    -1       27.2344      0.122003   6.46184e+07\n",
      "24.7648      0.0401184    -1       27.3317      0.121505   7.20546e+07\n",
      "24.7628      0.0323158    -1       27.4259      0.121010   8.02583e+07\n",
      "24.7608      0.0275381    -1       27.5183      0.120519   8.93286e+07\n",
      "24.7588      0.0246604    -1       27.6094      0.120032   9.93748e+07\n",
      "24.7568      0.0242621    -1       27.7002      0.119552   1.10491e+08\n",
      "24.7549      0.0238985    -1       27.7907      0.119080   1.22777e+08\n",
      "24.7529      0.0231322    -1       27.8811      0.118614   1.36332e+08\n",
      "24.751       0.020157     -1       27.9700      0.118152   1.51315e+08\n",
      "24.749       0.0209714    -1       28.0592      0.117699   1.67837e+08\n",
      "24.7471      0.0162947    -1       28.1468      0.117247   1.86101e+08\n",
      "24.7452      0.018779     -1       28.2351      0.116804   2.06223e+08\n",
      "24.7433      0.0175507    -1       28.3230      0.116368   2.28370e+08\n",
      "24.7413      0.034554     -1       28.3948      0.115863   2.54006e+08\n",
      "24.7395      0.0640453    -1       28.4970      0.115471   2.81350e+08\n",
      "24.7376      0.0232262    -1       28.5868      0.115058   3.11126e+08\n",
      "24.7358      0.0138314    -1       28.6729      0.114643   3.43827e+08\n",
      "24.7338      0.0525605    -1       28.7395      0.114147   3.82052e+08\n",
      "24.732       0.0681123    -1       28.8421      0.113776   4.22563e+08\n",
      "24.7302      0.0198583    -1       28.9310      0.113382   4.66602e+08\n",
      "24.7284      0.0125402    -1       29.0165      0.112988   5.14774e+08\n",
      "24.7266      0.00807413   -1       29.1005      0.112596   5.67591e+08\n",
      "24.7249      0.00330561   -1       29.1828      0.112205   6.25664e+08\n",
      "24.7231      0.00875853   -1       29.2663      0.111823   6.89217e+08\n",
      "24.7213      0.00407871   -1       29.3486      0.111444   7.58829e+08\n",
      "24.7196      0.00322157   -1       29.4306      0.111070   8.35089e+08\n",
      "24.7179      0.000665938  -1       29.5117      0.110698   9.18642e+08\n",
      "24.7162      0.00159814   -1       29.5928      0.110332   1.01007e+09\n",
      "24.7144      0.00109101   -1       29.6736      0.109970   1.11010e+09\n",
      "24.7128      0.00108426   -1       29.7540      0.109612   1.21943e+09\n",
      "24.711       0.00741739   -1       29.8325      0.109252   1.33951e+09\n",
      "24.7091      0.161679     -1       29.8716      0.108729   1.49065e+09\n",
      "24.7073      0.143353     -1       29.9896      0.108453   1.64191e+09\n",
      "24.7057      0.0314999    -1       30.0818      0.108134   1.80264e+09\n",
      "24.704       0.0037314    -1       30.1643      0.107801   1.97687e+09\n",
      "24.7024      0.00125983   -1       30.2444      0.107471   2.16607e+09\n",
      "24.7007      0.00515408   -1       30.3228      0.107142   2.37199e+09\n",
      "24.6991      0.00688003   -1       30.4008      0.106817   2.59589e+09\n",
      "24.6975      0.0124654    -1       30.4772      0.106493   2.84022e+09\n",
      "24.6959      0.0104366    -1       30.5538      0.106173   3.10628e+09\n",
      "24.6943      0.0127889    -1       30.6299      0.105855   3.39609e+09\n",
      "24.6927      0.0117339    -1       30.7061      0.105543   3.71129e+09\n",
      "24.6911      0.0131396    -1       30.7819      0.105233   4.05399e+09\n",
      "24.6895      0.014582     -1       30.8572      0.104926   4.42681e+09\n",
      "24.6879      0.0154552    -1       30.9320      0.104621   4.83259e+09\n",
      "24.6863      0.0144823    -1       31.0070      0.104321   5.27349e+09\n",
      "24.6847      0.0145866    -1       31.0819      0.104024   5.75196e+09\n",
      "24.6832      0.0167446    -1       31.1563      0.103730   6.27158e+09\n",
      "24.6809      0.485932     -1       31.1278      0.103052   7.06663e+09\n",
      "24.6792      0.379579     -1       31.2881      0.102903   7.77432e+09\n",
      "24.6776      0.0872079    -1       31.3975      0.102675   8.49198e+09\n",
      "24.6761      0.0122174    -1       31.4835      0.102414   9.25294e+09\n",
      "24.6746      0.00496338   -1       31.5621      0.102146   1.00689e+10\n",
      "24.6722      0.64952      -1       31.5041      0.101392   1.14292e+10\n",
      "24.6704      0.517224     -1       31.6870      0.101296   1.25742e+10\n",
      "24.6689      0.114677     -1       31.8046      0.101096   1.37174e+10\n",
      "24.6673      0.019752     -1       31.8935      0.100856   1.49204e+10\n",
      "24.6658      0.00298445   -1       31.9725      0.100606   1.62077e+10\n",
      "24.6643      0.0231783    -1       32.0455      0.100349   1.75937e+10\n",
      "24.6628      0.0162897    -1       32.1187      0.100098   1.90848e+10\n",
      "24.6613      0.0301763    -1       32.1889     0.0998435   2.06941e+10\n",
      "24.6597      0.0231214    -1       32.2598     0.0995937   2.24326e+10\n",
      "24.6583      0.02357      -1       32.3306     0.0993462   2.43113e+10\n",
      "24.6567      0.0288873    -1       32.4007     0.0991013   2.63297e+10\n",
      "24.6553      0.0249703    -1       32.4709     0.0988589   2.85109e+10\n",
      "24.6537      0.0321117    -1       32.5399     0.0986176   3.08577e+10\n",
      "24.6522      0.0270748    -1       32.6094     0.0983785   3.33964e+10\n",
      "24.6507      0.0282503    -1       32.6788     0.0981441   3.61166e+10\n",
      "24.6492      0.0257134    -1       32.7483     0.0979115   3.90544e+10\n",
      "24.6476      0.0336155    -1       32.8167     0.0976800   4.22090e+10\n",
      "24.6462      0.023603     -1       32.8860     0.0974524   4.56119e+10\n",
      "24.6446      0.0338306    -1       32.9541     0.0972255   4.92637e+10\n",
      "24.6432      0.0191542    -1       33.0240     0.0970053   5.31872e+10\n",
      "24.6418      0.0355278    -1       33.0916     0.0967834   5.73967e+10\n",
      "24.6401      0.0355445    -1       33.1586     0.0965638   6.19090e+10\n",
      "24.6387      0.0267782    -1       33.2264     0.0963465   6.67854e+10\n",
      "24.637       0.0330425    -1       33.2939     0.0961323   7.19954e+10\n",
      "24.6341      2.22709      -1       32.9792     0.0946951   8.75946e+10\n",
      "24.6307      1.85082      -1       33.3423     0.0949046   9.76240e+10\n",
      "24.6291      0.452475     -1       33.5454     0.0948756   1.06395e+11\n",
      "24.6266      2.54949      -1       33.2217     0.0933460   1.32433e+11\n",
      "24.6219      2.35559      -1       33.6557     0.0936534   1.48545e+11\n",
      "24.62        0.629441     -1       33.8960     0.0936791   1.62208e+11\n",
      "24.6184      0.219031     -1       34.0435     0.0935907   1.75357e+11\n",
      "24.6173      0.0774054    -1       34.1471     0.0934500   1.88788e+11\n",
      "24.6148      3.60887      -1       33.6572     0.0915769   2.41618e+11\n",
      "24.6084      3.02786      -1       34.1475     0.0919644   2.72510e+11\n",
      "24.6067      0.829481     -1       34.4240     0.0920456   2.97730e+11\n",
      "24.6049      0.265079     -1       34.5878     0.0919892   3.21416e+11\n",
      "24.6039      0.118716     -1       34.7013     0.0918767   3.45312e+11\n",
      "24.6024      0.000871461  -1       34.7848     0.0917296   3.69887e+11\n",
      "24.6009      0.00907877   -1       34.8575     0.0915722   3.95814e+11\n",
      "24.5994      0.0155273    -1       34.9259     0.0914131   4.23137e+11\n",
      "24.5979      0.0252291    -1       34.9911     0.0912523   4.52093e+11\n",
      "24.5964      0.0266015    -1       35.0552     0.0910924   4.82764e+11\n",
      "24.5948      0.0323512    -1       35.1178     0.0909317   5.15401e+11\n",
      "24.5933      0.0263765    -1       35.1807     0.0907744   5.49953e+11\n",
      "24.5918      0.0313381    -1       35.2428     0.0906172   5.86669e+11\n",
      "24.5903      0.028784     -1       35.3048     0.0904617   6.25650e+11\n",
      "24.5887      0.0262836    -1       35.3670     0.0903086   6.66951e+11\n",
      "24.5871      0.0272476    -1       35.4289     0.0901569   7.10757e+11\n",
      "24.5856      0.0301659    -1       35.4902     0.0900051   7.57346e+11\n",
      "24.584       0.0212366    -1       35.5525     0.0898576   8.06565e+11\n",
      "24.5824      0.0251285    -1       35.6142     0.0897106   8.58756e+11\n",
      "24.5808      0.0236122    -1       35.6758     0.0895650   9.14070e+11\n",
      "24.5792      0.0228702    -1       35.7373     0.0894208   9.72700e+11\n",
      "24.5776      0.0162473    -1       35.7995     0.0892800   1.03458e+12\n",
      "24.5759      0.0149628    -1       35.8618     0.0891414   1.09993e+12\n",
      "24.5743      0.0190064    -1       35.9234     0.0890029   1.16916e+12\n",
      "24.5742      0.0163504    -2       36.5593     0.0875872   1.88865e+12\n",
      "========================================\n",
      " Variances and Principal Axes\n",
      "                 1        2        3  \n",
      " 0.0000E+00|  0.0000   1.0000   0.0000  \n",
      " 1.9754E+04|  1.0000   0.0000  -0.0000  \n",
      " 9.6728E+29|  0.0000  -0.0000   1.0000  \n",
      "----------------------------------------\n",
      "\n",
      "====================================\n",
      "iance Matrix\n",
      "        1           2           3   \n",
      "   2.738e+05  -1.204e+03   4.957e+17\n",
      "  -1.204e+03   5.998e+00  -2.402e+15\n",
      "   4.957e+17  -2.402e+15   9.673e+29\n",
      "------------------------------------\n",
      "\n",
      "========================================================================\n",
      "Model TBabs<1>*bremss<2> Source No.: 1   Active/On\n",
      "Model Model Component  Parameter  Unit     Value\n",
      " par  comp\n",
      "   1    1   TBabs      nH         10^22    36.5593      +/-  523.211      \n",
      "   2    2   bremss     kT         keV      8.75872E-02  +/-  2.44905      \n",
      "   3    2   bremss     norm                1.88865E+12  +/-  9.83502E+14  \n",
      "________________________________________________________________________\n",
      "\n",
      "\n",
      "Fit statistic  : C-Statistic                  8.1914     using 6 bins, spectrum 1.\n",
      "                 C-Statistic                  8.1914     using 6 bins, spectrum 2.\n",
      "                 C-Statistic                  8.1914     using 6 bins, spectrum 3.\n",
      "Total fit statistic                          24.5742     with 15 d.o.f.\n",
      "\n",
      "Test statistic : Chi-Squared                 24.7174     using 18 bins.\n",
      " Null hypothesis probability of 5.3870e-02 with 15 degrees of freedom\n"
     ]
    }
   ],
   "source": [
    "AllModels.clear()\n",
    "mo = Model(\"tbabs*bremss\")\n",
    "Fit.perform()\n",
    "Plot.device = \"/xs\"\n",
    "Plot(\"data resid\")"
   ]
  },
  {
   "cell_type": "code",
   "execution_count": 20,
   "id": "4f360356-063b-4c14-8ea4-029f8abb6085",
   "metadata": {},
   "outputs": [
    {
     "data": {
      "text/plain": [
       "(-0.5, 856.5, 654.5, -0.5)"
      ]
     },
     "execution_count": 20,
     "metadata": {},
     "output_type": "execute_result"
    },
    {
     "data": {
      "image/png": "[encoded data removed]",
      "text/plain": [
       "<Figure size 1200x700 with 1 Axes>"
      ]
     },
     "metadata": {},
     "output_type": "display_data"
    }
   ],
   "source": [
    "img = plt.imread(glob.glob(\"ObsID*SRCNUM*E*Spectrum_bremss2.png\")[0])\n",
    "plt.imshow(img)\n",
    "plt.axis('off')"
   ]
  },
  {
   "cell_type": "markdown",
   "id": "4d8ea665-d6a1-4113-beaf-fad108850b18",
   "metadata": {},
   "source": [
    "### Apec model"
   ]
  },
  {
   "cell_type": "code",
   "execution_count": 31,
   "id": "4bd12dd8-e0eb-46e8-a057-f7eb723b3a94",
   "metadata": {},
   "outputs": [
    {
     "name": "stdout",
     "output_type": "stream",
     "text": [
      "\n",
      "========================================================================\n",
      "Model TBabs<1>*apec<2> Source No.: 1   Active/On\n",
      "Model Model Component  Parameter  Unit     Value\n",
      " par  comp\n",
      "   1    1   TBabs      nH         10^22    1.00000      +/-  0.0          \n",
      "   2    2   apec       kT         keV      1.00000      +/-  0.0          \n",
      "   3    2   apec       Abundanc            1.00000      frozen\n",
      "   4    2   apec       Redshift            0.0          frozen\n",
      "   5    2   apec       norm                1.00000      +/-  0.0          \n",
      "________________________________________________________________________\n",
      "\n",
      "\n",
      "Fit statistic  : C-Statistic                5225.902     using 6 bins, spectrum 1.\n",
      "                 C-Statistic                5225.902     using 6 bins, spectrum 2.\n",
      "                 C-Statistic                5225.902     using 6 bins, spectrum 3.\n",
      "Total fit statistic                         15677.71     with 15 d.o.f.\n",
      "\n",
      "Test statistic : Chi-Squared              4.867807e+06     using 18 bins.\n",
      " Null hypothesis probability of 0.000000e+00 with 15 degrees of freedom\n",
      " Current data and model not fit yet.\n",
      "                                   Parameters\n",
      "C-Statistic  |beta|/N    Lvl          1:nH          2:kT        5:norm\n",
      "25.3763      4811.65      -3       399.816      0.463909       129.272\n",
      "25.3762      0.000377123  -4       38.9199     0.0952524       24.4668\n",
      "25.3762      2.65718e-08  -5       8.05385     0.0193735       12.1774\n",
      "========================================\n",
      " Variances and Principal Axes\n",
      "                 1        2        5  \n",
      " 7.6864E+13| -0.0020   1.0000   0.0002  \n",
      " 3.7810E+22|  0.9996   0.0020  -0.0298  \n",
      " 8.7549E+26| -0.0298   0.0002  -0.9996  \n",
      "----------------------------------------\n",
      "\n",
      "====================================\n",
      "  Covariance Matrix\n",
      "        1           2           3   \n",
      "   8.159e+23  -4.738e+21   2.609e+25\n",
      "  -4.738e+21   2.994e+19  -1.614e+23\n",
      "   2.609e+25  -1.614e+23   8.747e+26\n",
      "------------------------------------\n",
      "\n",
      "========================================================================\n",
      "Model TBabs<1>*apec<2> Source No.: 1   Active/On\n",
      "Model Model Component  Parameter  Unit     Value\n",
      " par  comp\n",
      "   1    1   TBabs      nH         10^22    8.05385      +/-  9.03287E+11  \n",
      "   2    2   apec       kT         keV      1.93735E-02  +/-  5.47170E+09  \n",
      "   3    2   apec       Abundanc            1.00000      frozen\n",
      "   4    2   apec       Redshift            0.0          frozen\n",
      "   5    2   apec       norm                12.1774      +/-  2.95754E+13  \n",
      "________________________________________________________________________\n",
      "\n",
      "\n",
      "Fit statistic  : C-Statistic                  8.4587     using 6 bins, spectrum 1.\n",
      "                 C-Statistic                  8.4587     using 6 bins, spectrum 2.\n",
      "                 C-Statistic                  8.4587     using 6 bins, spectrum 3.\n",
      "Total fit statistic                          25.3762     with 15 d.o.f.\n",
      "\n",
      "Test statistic : Chi-Squared                 21.0788     using 18 bins.\n",
      " Null hypothesis probability of 1.3433e-01 with 15 degrees of freedom\n"
     ]
    }
   ],
   "source": [
    "AllModels.clear()\n",
    "mo = Model(\"tbabs*apec\")\n",
    "Fit.perform()\n",
    "Plot.device = \"/xs\"\n",
    "Plot(\"data resid\")"
   ]
  },
  {
   "cell_type": "code",
   "execution_count": 32,
   "id": "e3c38dd4-72e7-44cd-b2db-963368ff15b2",
   "metadata": {},
   "outputs": [
    {
     "data": {
      "text/plain": [
       "(-0.5, 856.5, 656.5, -0.5)"
      ]
     },
     "execution_count": 32,
     "metadata": {},
     "output_type": "execute_result"
    },
    {
     "data": {
      "image/png": "[encoded data removed]",
      "text/plain": [
       "<Figure size 1200x700 with 1 Axes>"
      ]
     },
     "metadata": {},
     "output_type": "display_data"
    }
   ],
   "source": [
    "img = plt.imread(glob.glob(\"ObsID*SRCNUM*E*Spectrum_apec2.png\")[0])\n",
    "plt.imshow(img)\n",
    "plt.axis('off')"
   ]
  },
  {
   "cell_type": "markdown",
   "id": "746ccf61-8e54-4726-b463-b6a3d137905c",
   "metadata": {},
   "source": [
    "### Powerlaw model"
   ]
  },
  {
   "cell_type": "code",
   "execution_count": 33,
   "id": "ecf8f29f-a8fc-4efc-9ce0-7059d934b811",
   "metadata": {},
   "outputs": [
    {
     "name": "stdout",
     "output_type": "stream",
     "text": [
      "\n",
      "========================================================================\n",
      "Model TBabs<1>*powerlaw<2> Source No.: 1   Active/On\n",
      "Model Model Component  Parameter  Unit     Value\n",
      " par  comp\n",
      "   1    1   TBabs      nH         10^22    1.00000      +/-  0.0          \n",
      "   2    2   powerlaw   PhoIndex            1.00000      +/-  0.0          \n",
      "   3    2   powerlaw   norm                1.00000      +/-  0.0          \n",
      "________________________________________________________________________\n",
      "\n",
      "\n",
      "Fit statistic  : C-Statistic                26082.22     using 6 bins, spectrum 1.\n",
      "                 C-Statistic                26082.22     using 6 bins, spectrum 2.\n",
      "                 C-Statistic                26082.22     using 6 bins, spectrum 3.\n",
      "Total fit statistic                         78246.66     with 15 d.o.f.\n",
      "\n",
      "Test statistic : Chi-Squared              1.145175e+08     using 18 bins.\n",
      " Null hypothesis probability of 0.000000e+00 with 15 degrees of freedom\n",
      " Current data and model not fit yet.\n",
      "                                   Parameters\n",
      "C-Statistic  |beta|/N    Lvl          1:nH    2:PhoIndex        3:norm\n",
      "25.3762      18377.2       0       852.452       6.96694      0.459267\n",
      "25.3762      2.27059e-09  -1       222.069       9.00534      0.127295\n",
      "========================================\n",
      " Variances and Principal Axes\n",
      "                 1        2        3  \n",
      " 2.2264E+19| -0.0043  -0.6920   0.7219  \n",
      " 4.5402E+21|  0.0215  -0.7218  -0.6917  \n",
      " 1.2565E+36|  0.9998   0.0126   0.0180  \n",
      "----------------------------------------\n",
      "\n",
      "====================================\n",
      "  Covariance Matrix\n",
      "        1           2           3   \n",
      "   1.256e+36   1.579e+34   2.260e+34\n",
      "   1.579e+34   1.985e+32   2.841e+32\n",
      "   2.260e+34   2.841e+32   4.067e+32\n",
      "------------------------------------\n",
      "\n",
      "========================================================================\n",
      "Model TBabs<1>*powerlaw<2> Source No.: 1   Active/On\n",
      "Model Model Component  Parameter  Unit     Value\n",
      " par  comp\n",
      "   1    1   TBabs      nH         10^22    222.069      +/-  1.12067E+18  \n",
      "   2    2   powerlaw   PhoIndex            9.00534      +/-  1.40892E+16  \n",
      "   3    2   powerlaw   norm                0.127295     +/-  2.01670E+16  \n",
      "________________________________________________________________________\n",
      "\n",
      "\n",
      "Fit statistic  : C-Statistic                  8.4587     using 6 bins, spectrum 1.\n",
      "                 C-Statistic                  8.4587     using 6 bins, spectrum 2.\n",
      "                 C-Statistic                  8.4587     using 6 bins, spectrum 3.\n",
      "Total fit statistic                          25.3762     with 15 d.o.f.\n",
      "\n",
      "Test statistic : Chi-Squared                 21.0788     using 18 bins.\n",
      " Null hypothesis probability of 1.3433e-01 with 15 degrees of freedom\n"
     ]
    }
   ],
   "source": [
    "AllModels.clear()\n",
    "mo = Model(\"tbabs*powerlaw\")\n",
    "Fit.perform()\n",
    "Plot.device = \"/xs\"\n",
    "Plot(\"data resid\")"
   ]
  },
  {
   "cell_type": "code",
   "execution_count": 36,
   "id": "4f917501-7614-449b-b313-4ab6c7dd2aee",
   "metadata": {},
   "outputs": [
    {
     "data": {
      "text/plain": [
       "(-0.5, 857.5, 666.5, -0.5)"
      ]
     },
     "execution_count": 36,
     "metadata": {},
     "output_type": "execute_result"
    },
    {
     "data": {
      "image/png": "[encoded data removed]",
      "text/plain": [
       "<Figure size 1200x700 with 1 Axes>"
      ]
     },
     "metadata": {},
     "output_type": "display_data"
    }
   ],
   "source": [
    "img = plt.imread(glob.glob(\"ObsID*SRCNUM*E*Spectrum_powerlaw2.png\")[0])\n",
    "plt.imshow(img)\n",
    "plt.axis('off')"
   ]
  },
  {
   "cell_type": "markdown",
   "id": "ccedc18b-2d1e-4c77-ab21-4a83b5e6846c",
   "metadata": {},
   "source": [
    "## ESASky\n",
    "Aucune distance n'est diponible sur ESASky. https://sky.esa.int/esasky/?target=52.73766666666666%20-28.63463888888889&hips=XMM-Newton+EPIC+color&fov=1&projection=SIN&cooframe=J2000&sci=true&lang=fr\n",
    "\n",
    "``EPIC Stack``\n",
    "\n",
    "- Stack Catalogue name : 4XMMs J033057.0-283804\n",
    "- RA : 03h 30m 57.047s\n",
    "- DEC : -28° 38' 04.16\""
   ]
  },
  {
   "cell_type": "markdown",
   "id": "fb8fe3b4-3ee7-443c-8438-29dc2d5e005c",
   "metadata": {},
   "source": [
    "## Column density nH\n",
    "### 3DNH-tool\n",
    "http://astro.uni-tuebingen.de/nh3d/nhtool\n",
    "\n",
    "**Sky coordinates (°) :** from ESASky\n",
    "\n",
    "- RA = 52.7376939°\n",
    "- Dec = -28.6344882°\n",
    "\n",
    "52.74 -28.63\n",
    "\n",
    "**Column density :** nH = 3*10^20 cm^-2 ?\n",
    "\n",
    "The different models give a column density of :\n",
    "\n",
    "- bbody : nH = 7.04528*10^8\n",
    "- bremss : nH = 36.5593*10^22\n",
    "- apec : nH = 8.05385*10^22\n",
    "- powerlaw : nH = 222.069*10^22\n",
    "\n",
    "No value corresponds."
   ]
  },
  {
   "cell_type": "markdown",
   "id": "1973f13c-7580-446c-b7fe-bf273fd37c5d",
   "metadata": {},
   "source": [
    "## Flux"
   ]
  },
  {
   "cell_type": "code",
   "execution_count": 37,
   "id": "f6ba1ee6-8282-4c45-8230-6603f9bfbae8",
   "metadata": {},
   "outputs": [
    {
     "name": "stdout",
     "output_type": "stream",
     "text": [
      "Spectrum Number: 1, 2, 3\n",
      "Data Group Number: 1\n",
      " Model Flux 2.4003e-10 photons (2.6211e-18 ergs/cm^2/s) range (0.20000 - 12.000 keV)\n"
     ]
    }
   ],
   "source": [
    "AllModels.calcFlux(\".2 12.0\")"
   ]
  },
  {
   "cell_type": "code",
   "execution_count": 38,
   "id": "4e93ef39-9046-44fe-a12f-a84de18a36e6",
   "metadata": {},
   "outputs": [],
   "source": [
    "Flux = 2.6211e-18 # ergs/cm^2/s"
   ]
  },
  {
   "cell_type": "markdown",
   "id": "b5ecea67-2965-4afa-bccc-748582205ed4",
   "metadata": {},
   "source": [
    "## Luminosity\n",
    "No distance available on ESASky."
   ]
  },
  {
   "cell_type": "code",
   "execution_count": 39,
   "id": "d63afe49-4148-44e0-9356-19b617997e6d",
   "metadata": {},
   "outputs": [
    {
     "name": "stdout",
     "output_type": "stream",
     "text": [
      "\u001b[1mFor a star in the milky way? with d=[1 pc - 30 kpc] :\u001b[0m\n",
      "Luminosity : [3.136179094145884e+20, 3.136179094145883e+26] erg/s\n"
     ]
    }
   ],
   "source": [
    "# For a star in the milky way : d=[1 pc - 30 kpc]\n",
    "d_pc = 1 # Distance en pc\n",
    "d_kpc = 30 # Distance en kpc\n",
    "\n",
    "d1_cm = d_pc*3.0857*10**18 # Distance en cm, avec 1 pc = 3.0857*10^18 cm\n",
    "d2_cm = d_pc*3.0857*10**21 # Distance en cm, avec 1 pc = 3.0857*10^18 cm\n",
    "\n",
    "# La source est supposée sphérique pour le calcul de la luminosité : L = 4*pi*F*D^2\n",
    "L1 = 4*np.pi*Flux*(d1_cm)**2 # erg/s\n",
    "L2 = 4*np.pi*Flux*(d2_cm)**2 # erg/s\n",
    "\n",
    "print(color.BOLD+\"For a star in the milky way? with d=[1 pc - 30 kpc] :\"+color.END)\n",
    "print(f\"Luminosity : [{L1}, {L2}] erg/s\")"
   ]
  },
  {
   "cell_type": "code",
   "execution_count": 40,
   "id": "15e86ae9-fdaa-4d12-8198-84997eb3738c",
   "metadata": {},
   "outputs": [
    {
     "name": "stdout",
     "output_type": "stream",
     "text": [
      "\u001b[1mFor a galaxy? with d=[1 Mpc - 10 Gpc] :\u001b[0m\n",
      "Luminosity : [3.1361790941458835e+32, 3.136179094145884e+40] erg/s\n"
     ]
    }
   ],
   "source": [
    "# For a galaxy : d=[1 Mpc - 10 Gpc]\n",
    "d_Mpc = 1 # Distance en Mpc\n",
    "d_Gpc = 10 # Distance en Gpc\n",
    "\n",
    "d1_cm = d_Mpc*3.0857*10**24 # Distance en cm, avec 1 pc = 3.0857*10^18 cm\n",
    "d2_cm = d_Gpc*3.0857*10**27 # Distance en cm, avec 1 pc = 3.0857*10^18 cm\n",
    "\n",
    "# La source est supposée sphérique pour le calcul de la luminosité : L = 4*pi*F*D^2\n",
    "L1 = 4*np.pi*Flux*(d1_cm)**2 # erg/s\n",
    "L2 = 4*np.pi*Flux*(d2_cm)**2 # erg/s\n",
    "\n",
    "\n",
    "print(color.BOLD+\"For a galaxy? with d=[1 Mpc - 10 Gpc] :\"+color.END)\n",
    "print(f\"Luminosity : [{L1}, {L2}] erg/s\")"
   ]
  },
  {
   "cell_type": "code",
   "execution_count": 41,
   "id": "4fc3e711-9425-4f73-9984-e288fa2b1955",
   "metadata": {},
   "outputs": [
    {
     "data": {
      "image/png": "[encoded data removed]",
      "text/plain": [
       "<Figure size 1000x500 with 1 Axes>"
      ]
     },
     "metadata": {},
     "output_type": "display_data"
    }
   ],
   "source": [
    "D_pc = np.arange(1, 10**10, 1000)\n",
    "\n",
    "d_cm = D_pc*3.0857*10**18 # Distance en cm, avec 1 pc = 3.0857*10^18 cm\n",
    "\n",
    "# La source est supposée sphérique pour le calcul de la luminosité : L = 4*pi*F*D^2\n",
    "L = 4*np.pi*Flux*(d_cm)**2 # erg/s\n",
    "\n",
    "plt.figure(figsize=[10,5])\n",
    "plt.plot(L,D_pc)\n",
    "plt.xlabel(\"Luminosity (erg/s)\")\n",
    "plt.ylabel(\"Distance (pc)\")\n",
    "plt.xscale(\"log\")\n",
    "plt.yscale(\"log\")\n",
    "plt.grid()"
   ]
  }
 ],
 "metadata": {
  "kernelspec": {
   "display_name": "Python 3 (ipykernel)",
   "language": "python",
   "name": "python3"
  },
  "language_info": {
   "codemirror_mode": {
    "name": "ipython",
    "version": 3
   },
   "file_extension": ".py",
   "mimetype": "text/x-python",
   "name": "python",
   "nbconvert_exporter": "python",
   "pygments_lexer": "ipython3",
   "version": "3.10.12"
  }
 },
 "nbformat": 4,
 "nbformat_minor": 5
}
