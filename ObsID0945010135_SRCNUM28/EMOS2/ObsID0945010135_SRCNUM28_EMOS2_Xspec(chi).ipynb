{
 "cells": [
  {
   "cell_type": "markdown",
   "id": "a09472f9-b7b4-4047-9978-0b5adf3b464f",
   "metadata": {},
   "source": [
    "# ObsID : 0945010135, SRCNUM : 28, Instru : EMOS2\n",
    "**Simbad :** Active Galaxy Nucleus ([NAA2006] C761) https://simbad.cds.unistra.fr/simbad/sim-id?Ident=%405450903&Name=%5bNAA2006%5d%20C761&submit=submit"
   ]
  },
  {
   "cell_type": "code",
   "execution_count": 7,
   "id": "311ae079-ccd8-41c3-aac4-08c99f67b431",
   "metadata": {},
   "outputs": [
    {
     "data": {
      "text/plain": [
       "'\\nplt.rcParams[\\'figure.figsize\\'] = [12,7]\\n\\nFit.statMethod = \"chi\"\\nFit.nIterations = 100000\\nFit.delta = 1e-4\\nFit.criticalDelta = 1e-4\\n'"
      ]
     },
     "execution_count": 7,
     "metadata": {},
     "output_type": "execute_result"
    }
   ],
   "source": [
    "from xspec import *\n",
    "from stingray import Lightcurve\n",
    "from astropy.io import fits\n",
    "import matplotlib.pyplot as plt\n",
    "import matplotlib.image as mpimg\n",
    "import glob\n",
    "import numpy as np\n",
    "\n",
    "class color:\n",
    "   PURPLE = '\\033[95m'\n",
    "   CYAN = '\\033[96m'\n",
    "   DARKCYAN = '\\033[36m'\n",
    "   BLUE = '\\033[94m'\n",
    "   GREEN = '\\033[92m'\n",
    "   YELLOW = '\\033[93m'\n",
    "   RED = '\\033[91m'\n",
    "   BOLD = '\\033[1m'\n",
    "   UNDERLINE = '\\033[4m'\n",
    "   END = '\\033[0m'\n",
    "\n",
    "plt.rcParams['figure.figsize'] = [12,7]\n",
    "\n",
    "Fit.statMethod = \"chi\"\n",
    "Fit.nIterations = 100000\n",
    "Fit.delta = 1e-4\n",
    "Fit.criticalDelta = 1e-4"
   ]
  },
  {
   "cell_type": "markdown",
   "id": "39b7d9d2-7930-4892-81ba-8bd2db47e610",
   "metadata": {},
   "source": [
    "## Load files"
   ]
  },
  {
   "cell_type": "code",
   "execution_count": 8,
   "id": "cd0bcd6f-9565-4899-90b7-1e5d87e7050a",
   "metadata": {},
   "outputs": [
    {
     "name": "stdout",
     "output_type": "stream",
     "text": [
      "\n",
      "2 spectra  in use\n",
      " \n",
      "Spectral Data File: ObsID0945010135_SRCNUM28_EMOS2_spectrum_grp.fits  Spectrum 2\n",
      "Net count rate (cts/s) for Spectrum:2  1.863e-03 +/- 5.959e-04 (49.1 % total)\n"
     ]
    },
    {
     "data": {
      "text/plain": [
       "<xspec.spectrum.Spectrum at 0x7ff20c2f1ab0>"
      ]
     },
     "execution_count": 8,
     "metadata": {},
     "output_type": "execute_result"
    },
    {
     "name": "stdout",
     "output_type": "stream",
     "text": [
      " Assigned to Data Group 1 and Plot Group 2\n",
      "  Noticed Channels:  1\n",
      "  Telescope: XMM Instrument: EMOS2  Channel Type: PI\n",
      "  Exposure Time: 1.133e+04 sec\n",
      " Using fit statistic: chi\n",
      " Using Background File                MOSbackground_spectrum.fits\n",
      "  Background Exposure Time: 1.133e+04 sec\n",
      " Using Response (RMF) File            MOS.rmf for Source 1\n",
      " Using Auxiliary Response (ARF) File  MOS.arf\n",
      "\n"
     ]
    }
   ],
   "source": [
    "Spectrum(glob.glob('ObsID*_SRCNUM*_E*_spectrum_grp.fits')[0])"
   ]
  },
  {
   "cell_type": "code",
   "execution_count": 5,
   "id": "2f602984-b3dc-4834-9b4e-3f4fbcc9892c",
   "metadata": {},
   "outputs": [
    {
     "name": "stdout",
     "output_type": "stream",
     "text": [
      "Number of coutnts : 21.10779\n"
     ]
    }
   ],
   "source": [
    "print(f\"Number of coutnts : {1.133e+04*1.863e-03}\")"
   ]
  },
  {
   "cell_type": "markdown",
   "id": "3d609ed3-998d-4925-985d-67dd4252e47f",
   "metadata": {},
   "source": [
    "The low number of counts indicates that we should use cstat instead of chi statistics."
   ]
  },
  {
   "cell_type": "markdown",
   "id": "870eec10-27a5-4341-a01c-4a98ac400133",
   "metadata": {},
   "source": [
    "## Plot spectrum"
   ]
  },
  {
   "cell_type": "code",
   "execution_count": 3,
   "id": "37f98bf3-3d31-4c65-891f-3ea006da7786",
   "metadata": {},
   "outputs": [],
   "source": [
    "Plot.xAxis=\"keV\"\n",
    "Plot.device = \"/xs\"\n",
    "Plot.xLog=True\n",
    "Plot.yLog=True\n",
    "#Plot.addCommand(\"Rescale Y 0.00001 0.005\")\n",
    "Plot(\"data\")"
   ]
  },
  {
   "cell_type": "code",
   "execution_count": 32,
   "id": "27bf0415-368d-4476-8ef7-29af925b48ee",
   "metadata": {},
   "outputs": [
    {
     "data": {
      "text/plain": [
       "(-0.5, 861.5, 664.5, -0.5)"
      ]
     },
     "execution_count": 32,
     "metadata": {},
     "output_type": "execute_result"
    },
    {
     "data": {
      "image/png": "[encoded data removed]",
      "text/plain": [
       "<Figure size 1200x700 with 1 Axes>"
      ]
     },
     "metadata": {},
     "output_type": "display_data"
    }
   ],
   "source": [
    "img = plt.imread(glob.glob('ObsID*_SRCNUM*_E*_Spectrum.png')[0])\n",
    "plt.imshow(img)\n",
    "plt.axis('off')"
   ]
  },
  {
   "cell_type": "markdown",
   "id": "7eb1edda-21f0-4876-bdbc-8cb3e4a347dc",
   "metadata": {},
   "source": [
    "### Black body model"
   ]
  },
  {
   "cell_type": "code",
   "execution_count": 17,
   "id": "25e94b4e-0bb6-439e-af07-e82ebf0faa48",
   "metadata": {},
   "outputs": [
    {
     "name": "stdout",
     "output_type": "stream",
     "text": [
      "\n",
      "========================================================================\n",
      "Model TBabs<1>*bbody<2> Source No.: 1   Active/On\n",
      "Model Model Component  Parameter  Unit     Value\n",
      " par  comp\n",
      "   1    1   TBabs      nH         10^22    1.00000      +/-  0.0          \n",
      "   2    2   bbody      kT         keV      3.00000      +/-  0.0          \n",
      "   3    2   bbody      norm                1.00000      +/-  0.0          \n",
      "________________________________________________________________________\n",
      "\n",
      "tbvabs Version 2.3\n",
      "Cosmic absorption with grains and H2, modified from\n",
      "Wilms, Allen, & McCray, 2000, ApJ 542, 914-924\n",
      "Questions: Joern Wilms\n",
      "joern.wilms@sternwarte.uni-erlangen.de\n",
      "joern.wilms@fau.de\n",
      "\n",
      "http://pulsar.sternwarte.uni-erlangen.de/wilms/research/tbabs/\n",
      "\n",
      "PLEASE NOTICE:\n",
      "To get the model described by the above paper\n",
      "you will also have to set the abundances:\n",
      "   abund wilm\n",
      "\n",
      "Note that this routine ignores the current cross section setting\n",
      "as it always HAS to use the Verner cross sections as a baseline.\n",
      "\n",
      "Fit statistic  : Chi-Squared              1.597141e+11     using 1 bins, spectrum 1.\n",
      "                 Chi-Squared              1.597141e+11     using 1 bins, spectrum 2.\n",
      "                 Chi-Squared              1.597141e+11     using 1 bins, spectrum 3.\n",
      "                 Chi-Squared              1.597141e+11     using 1 bins, spectrum 4.\n",
      "Total fit statistic                       6.388562e+11     with 1 d.o.f.\n",
      "\n",
      "Test statistic : Chi-Squared              6.388562e+11     using 4 bins.\n",
      " Null hypothesis probability of 0.000000e+00 with 1 degrees of freedom\n",
      " Current data and model not fit yet.\n",
      "                                   Parameters\n",
      "Chi-Squared  |beta|/N    Lvl          1:nH          2:kT        3:norm\n",
      "0            5.8169e-10   -3       1.00000       3.00000   7.82153e-06\n",
      "========================================\n",
      " Variances and Principal Axes\n",
      "                 1        2        3  \n",
      " 5.3671E+13| -0.1120  -0.9937   0.0000  \n",
      " 0.0000E+00|  0.0000   0.0000   1.0000  \n",
      " 5.3671E+15|  0.9937  -0.1120   0.0000  \n",
      "----------------------------------------\n",
      "\n",
      "====================================\n",
      "  Covariance Matrix\n",
      "        1           2           3   \n",
      "   5.300e+15  -5.972e+14   3.284e+09\n",
      "  -5.972e+14   6.728e+13  -3.700e+08\n",
      "   3.284e+09  -3.700e+08   2.035e+03\n",
      "------------------------------------\n",
      "\n",
      "========================================================================\n",
      "Model TBabs<1>*bbody<2> Source No.: 1   Active/On\n",
      "Model Model Component  Parameter  Unit     Value\n",
      " par  comp\n",
      "   1    1   TBabs      nH         10^22    1.000000     +/-  7.28002E+07  \n",
      "   2    2   bbody      kT         keV      3.00000      +/-  8.20266E+06  \n",
      "   3    2   bbody      norm                7.82153E-06  +/-  45.1107      \n",
      "________________________________________________________________________\n",
      "\n",
      "\n",
      "Fit statistic  : Chi-Squared                     0.0     using 1 bins, spectrum 1.\n",
      "                 Chi-Squared                     0.0     using 1 bins, spectrum 2.\n",
      "                 Chi-Squared                     0.0     using 1 bins, spectrum 3.\n",
      "                 Chi-Squared                     0.0     using 1 bins, spectrum 4.\n",
      "Total fit statistic                              0.0     with 1 d.o.f.\n",
      "\n",
      "Test statistic : Chi-Squared                     0.0     using 4 bins.\n",
      " Null hypothesis probability of 1.0e+00 with 1 degrees of freedom\n"
     ]
    }
   ],
   "source": [
    "AllModels.clear()\n",
    "mo = Model(\"tbabs*bbody\")\n",
    "Fit.perform()\n",
    "Plot.device = \"/xs\"\n",
    "Plot(\"data resid\")\n",
    "plt.show()"
   ]
  },
  {
   "cell_type": "code",
   "execution_count": 33,
   "id": "f2d55c50-94dd-468d-bf08-69bca0b63260",
   "metadata": {},
   "outputs": [
    {
     "data": {
      "text/plain": [
       "(-0.5, 859.5, 664.5, -0.5)"
      ]
     },
     "execution_count": 33,
     "metadata": {},
     "output_type": "execute_result"
    },
    {
     "data": {
      "image/png": "[encoded data removed]",
      "text/plain": [
       "<Figure size 1200x700 with 1 Axes>"
      ]
     },
     "metadata": {},
     "output_type": "display_data"
    }
   ],
   "source": [
    "img = plt.imread(glob.glob('ObsID*_SRCNUM*_E*_Spectrum_bbody.png')[0])\n",
    "plt.imshow(img)\n",
    "plt.axis('off')"
   ]
  },
  {
   "cell_type": "markdown",
   "id": "b77a2e66-8412-4d85-a277-10782493ea2e",
   "metadata": {},
   "source": [
    "### bremsstrahlung model"
   ]
  },
  {
   "cell_type": "code",
   "execution_count": 19,
   "id": "3ed606fb-6f75-4369-b9c8-b5c95a0a9577",
   "metadata": {},
   "outputs": [
    {
     "name": "stdout",
     "output_type": "stream",
     "text": [
      "\n",
      "========================================================================\n",
      "Model TBabs<1>*bremss<2> Source No.: 1   Active/On\n",
      "Model Model Component  Parameter  Unit     Value\n",
      " par  comp\n",
      "   1    1   TBabs      nH         10^22    1.00000      +/-  0.0          \n",
      "   2    2   bremss     kT         keV      7.00000      +/-  0.0          \n",
      "   3    2   bremss     norm                1.00000      +/-  0.0          \n",
      "________________________________________________________________________\n",
      "\n",
      "\n",
      "Fit statistic  : Chi-Squared              9.832485e+09     using 1 bins, spectrum 1.\n",
      "                 Chi-Squared              9.832485e+09     using 1 bins, spectrum 2.\n",
      "                 Chi-Squared              9.832485e+09     using 1 bins, spectrum 3.\n",
      "                 Chi-Squared              9.832485e+09     using 1 bins, spectrum 4.\n",
      "Total fit statistic                       3.932994e+10     with 1 d.o.f.\n",
      "\n",
      "Test statistic : Chi-Squared              3.932994e+10     using 4 bins.\n",
      " Null hypothesis probability of 0.000000e+00 with 1 degrees of freedom\n",
      " Current data and model not fit yet.\n",
      "                                   Parameters\n",
      "Chi-Squared  |beta|/N    Lvl          1:nH          2:kT        3:norm\n",
      "2.11852e-30  2.40553e-10  -3       1.00000       7.00000   3.15226e-05\n",
      "========================================\n",
      " Variances and Principal Axes\n",
      "                 1        2        3  \n",
      " 6.7483E+12| -0.0000   0.0000   1.0000  \n",
      " 6.7483E+14|  0.9993  -0.0379   0.0000  \n",
      " 2.7246E+17|  0.0379   0.9993  -0.0000  \n",
      "----------------------------------------\n",
      "\n",
      "====================================\n",
      "  Covariance Matrix\n",
      "        1           2           3   \n",
      "   1.066e+15   1.030e+16   8.395e+09\n",
      "   1.030e+16   2.721e+17  -5.940e+10\n",
      "   8.395e+09  -5.940e+10   1.806e+05\n",
      "------------------------------------\n",
      "\n",
      "========================================================================\n",
      "Model TBabs<1>*bremss<2> Source No.: 1   Active/On\n",
      "Model Model Component  Parameter  Unit     Value\n",
      " par  comp\n",
      "   1    1   TBabs      nH         10^22    1.000000     +/-  3.26492E+07  \n",
      "   2    2   bremss     kT         keV      7.00000      +/-  5.21604E+08  \n",
      "   3    2   bremss     norm                3.15226E-05  +/-  424.980      \n",
      "________________________________________________________________________\n",
      "\n",
      "\n",
      "Fit statistic  : Chi-Squared                   5e-31     using 1 bins, spectrum 1.\n",
      "                 Chi-Squared                   5e-31     using 1 bins, spectrum 2.\n",
      "                 Chi-Squared                   5e-31     using 1 bins, spectrum 3.\n",
      "                 Chi-Squared                   5e-31     using 1 bins, spectrum 4.\n",
      "Total fit statistic                            2e-30     with 1 d.o.f.\n",
      "\n",
      "Test statistic : Chi-Squared                   2e-30     using 4 bins.\n",
      " Null hypothesis probability of 1.0e+00 with 1 degrees of freedom\n"
     ]
    }
   ],
   "source": [
    "AllModels.clear()\n",
    "mo = Model(\"tbabs*bremss\")\n",
    "Fit.perform()\n",
    "Plot.device = \"/xs\"\n",
    "Plot(\"data resid\")"
   ]
  },
  {
   "cell_type": "code",
   "execution_count": 34,
   "id": "4f360356-063b-4c14-8ea4-029f8abb6085",
   "metadata": {},
   "outputs": [
    {
     "data": {
      "text/plain": [
       "(-0.5, 861.5, 664.5, -0.5)"
      ]
     },
     "execution_count": 34,
     "metadata": {},
     "output_type": "execute_result"
    },
    {
     "data": {
      "image/png": "[encoded data removed]",
      "text/plain": [
       "<Figure size 1200x700 with 1 Axes>"
      ]
     },
     "metadata": {},
     "output_type": "display_data"
    }
   ],
   "source": [
    "img = plt.imread(glob.glob('ObsID*_SRCNUM*_E*_Spectrum_bremss.png')[0])\n",
    "plt.imshow(img)\n",
    "plt.axis('off')"
   ]
  },
  {
   "cell_type": "markdown",
   "id": "4d8ea665-d6a1-4113-beaf-fad108850b18",
   "metadata": {},
   "source": [
    "### Apec model"
   ]
  },
  {
   "cell_type": "code",
   "execution_count": 21,
   "id": "4bd12dd8-e0eb-46e8-a057-f7eb723b3a94",
   "metadata": {},
   "outputs": [
    {
     "name": "stdout",
     "output_type": "stream",
     "text": [
      "\n",
      "========================================================================\n",
      "Model TBabs<1>*apec<2> Source No.: 1   Active/On\n",
      "Model Model Component  Parameter  Unit     Value\n",
      " par  comp\n",
      "   1    1   TBabs      nH         10^22    1.00000      +/-  0.0          \n",
      "   2    2   apec       kT         keV      1.00000      +/-  0.0          \n",
      "   3    2   apec       Abundanc            1.00000      frozen\n",
      "   4    2   apec       Redshift            0.0          frozen\n",
      "   5    2   apec       norm                1.00000      +/-  0.0          \n",
      "________________________________________________________________________\n",
      "\n",
      "Reading APEC data from 3.0.9\n",
      "\n",
      "\n",
      "Fit statistic  : Chi-Squared              1.393186e+09     using 1 bins, spectrum 1.\n",
      "                 Chi-Squared              1.393186e+09     using 1 bins, spectrum 2.\n",
      "                 Chi-Squared              1.393186e+09     using 1 bins, spectrum 3.\n",
      "                 Chi-Squared              1.393186e+09     using 1 bins, spectrum 4.\n",
      "Total fit statistic                       5.572743e+09     with 1 d.o.f.\n",
      "\n",
      "Test statistic : Chi-Squared              5.572743e+09     using 4 bins.\n",
      " Null hypothesis probability of 0.000000e+00 with 1 degrees of freedom\n",
      " Current data and model not fit yet.\n",
      "                                   Parameters\n",
      "Chi-Squared  |beta|/N    Lvl          1:nH          2:kT        5:norm\n",
      "1.32408e-29  3.62215e-10  -3       1.00000       1.00000   8.37387e-05\n",
      "***Warning: LevMarq::invertCorrelationMatrix: \n",
      "            Negative diagonal element for parameter 2\n",
      "========================================\n",
      " Variances and Principal Axes\n",
      "                 1        2        5  \n",
      " 6.0978E+03|  0.3261   0.9453  -0.0000  \n",
      " 6.0978E+05| -0.0001   0.0000   1.0000  \n",
      " 1.3115E+14|  0.9453  -0.3261   0.0001  \n",
      "----------------------------------------\n",
      "\n",
      "====================================\n",
      "  Covariance Matrix\n",
      "        1           2           3   \n",
      "   3.548e+13  -1.322e+14   8.136e+09\n",
      "  -2.774e+14  -6.730e+14  -1.110e+10\n",
      "   1.260e+10   5.549e+09   1.275e+06\n",
      "------------------------------------\n",
      "\n",
      "========================================================================\n",
      "Model TBabs<1>*apec<2> Source No.: 1   Active/On\n",
      "Model Model Component  Parameter  Unit     Value\n",
      " par  comp\n",
      "   1    1   TBabs      nH         10^22    1.00000      +/-  5.95614E+06  \n",
      "   2    2   apec       kT         keV      1.000000     +/-  -1.00000     \n",
      "   3    2   apec       Abundanc            1.00000      frozen\n",
      "   4    2   apec       Redshift            0.0          frozen\n",
      "   5    2   apec       norm                8.37387E-05  +/-  1128.95      \n",
      "________________________________________________________________________\n",
      "\n",
      "\n",
      "Fit statistic  : Chi-Squared                   3e-30     using 1 bins, spectrum 1.\n",
      "                 Chi-Squared                   3e-30     using 1 bins, spectrum 2.\n",
      "                 Chi-Squared                   3e-30     using 1 bins, spectrum 3.\n",
      "                 Chi-Squared                   3e-30     using 1 bins, spectrum 4.\n",
      "Total fit statistic                            1e-29     with 1 d.o.f.\n",
      "\n",
      "Test statistic : Chi-Squared                   1e-29     using 4 bins.\n",
      " Null hypothesis probability of 1.0e+00 with 1 degrees of freedom\n"
     ]
    }
   ],
   "source": [
    "AllModels.clear()\n",
    "mo = Model(\"tbabs*apec\")\n",
    "Fit.perform()\n",
    "Plot.device = \"/xs\"\n",
    "Plot(\"data resid\")"
   ]
  },
  {
   "cell_type": "code",
   "execution_count": 35,
   "id": "e3c38dd4-72e7-44cd-b2db-963368ff15b2",
   "metadata": {},
   "outputs": [
    {
     "data": {
      "text/plain": [
       "(-0.5, 861.5, 661.5, -0.5)"
      ]
     },
     "execution_count": 35,
     "metadata": {},
     "output_type": "execute_result"
    },
    {
     "data": {
      "image/png": "[encoded data removed]",
      "text/plain": [
       "<Figure size 1200x700 with 1 Axes>"
      ]
     },
     "metadata": {},
     "output_type": "display_data"
    }
   ],
   "source": [
    "img = plt.imread(glob.glob('ObsID*_SRCNUM*_E*_Spectrum_apec.png')[0])\n",
    "plt.imshow(img)\n",
    "plt.axis('off')"
   ]
  },
  {
   "cell_type": "markdown",
   "id": "746ccf61-8e54-4726-b463-b6a3d137905c",
   "metadata": {},
   "source": [
    "### Powerlaw model"
   ]
  },
  {
   "cell_type": "code",
   "execution_count": 23,
   "id": "ecf8f29f-a8fc-4efc-9ce0-7059d934b811",
   "metadata": {},
   "outputs": [
    {
     "name": "stdout",
     "output_type": "stream",
     "text": [
      "\n",
      "========================================================================\n",
      "Model TBabs<1>*powerlaw<2> Source No.: 1   Active/On\n",
      "Model Model Component  Parameter  Unit     Value\n",
      " par  comp\n",
      "   1    1   TBabs      nH         10^22    1.00000      +/-  0.0          \n",
      "   2    2   powerlaw   PhoIndex            1.00000      +/-  0.0          \n",
      "   3    2   powerlaw   norm                1.00000      +/-  0.0          \n",
      "________________________________________________________________________\n",
      "\n",
      "\n",
      "Fit statistic  : Chi-Squared              5.624192e+10     using 1 bins, spectrum 1.\n",
      "                 Chi-Squared              5.624192e+10     using 1 bins, spectrum 2.\n",
      "                 Chi-Squared              5.624192e+10     using 1 bins, spectrum 3.\n",
      "                 Chi-Squared              5.624192e+10     using 1 bins, spectrum 4.\n",
      "Total fit statistic                       2.249677e+11     with 1 d.o.f.\n",
      "\n",
      "Test statistic : Chi-Squared              2.249677e+11     using 4 bins.\n",
      " Null hypothesis probability of 0.000000e+00 with 1 degrees of freedom\n",
      " Current data and model not fit yet.\n",
      "                                   Parameters\n",
      "Chi-Squared  |beta|/N    Lvl          1:nH    2:PhoIndex        3:norm\n",
      "8.95076e-29  3.68198e-09  -3       1.00000       1.00000   1.31805e-05\n",
      "***Warning: LevMarq::invertCorrelationMatrix: \n",
      "            Negative diagonal element for parameter 2\n",
      "***Warning: LevMarq::invertCorrelationMatrix: \n",
      "            Negative diagonal element for parameter 3\n",
      "========================================\n",
      " Variances and Principal Axes\n",
      "                 1        2        3  \n",
      " 5.3515E+12| -0.1514  -0.9885  -0.0000  \n",
      " 5.3515E+12| -0.0000  -0.0000   1.0000  \n",
      " 5.3515E+14|  0.9885  -0.1514   0.0000  \n",
      "----------------------------------------\n",
      "\n",
      "====================================\n",
      "  Covariance Matrix\n",
      "        1           2           3   \n",
      "   5.217e+14  -8.752e+13   1.228e+09\n",
      "  -8.752e+13  -3.618e+13  -9.195e+08\n",
      "   1.228e+09  -9.195e+08  -7.120e+03\n",
      "------------------------------------\n",
      "\n",
      "========================================================================\n",
      "Model TBabs<1>*powerlaw<2> Source No.: 1   Active/On\n",
      "Model Model Component  Parameter  Unit     Value\n",
      " par  comp\n",
      "   1    1   TBabs      nH         10^22    1.000000     +/-  2.28416E+07  \n",
      "   2    2   powerlaw   PhoIndex            1.000000     +/-  -1.00000     \n",
      "   3    2   powerlaw   norm                1.31805E-05  +/-  -1.00000     \n",
      "________________________________________________________________________\n",
      "\n",
      "\n",
      "Fit statistic  : Chi-Squared                   2e-29     using 1 bins, spectrum 1.\n",
      "                 Chi-Squared                   2e-29     using 1 bins, spectrum 2.\n",
      "                 Chi-Squared                   2e-29     using 1 bins, spectrum 3.\n",
      "                 Chi-Squared                   2e-29     using 1 bins, spectrum 4.\n",
      "Total fit statistic                            9e-29     with 1 d.o.f.\n",
      "\n",
      "Test statistic : Chi-Squared                   9e-29     using 4 bins.\n",
      " Null hypothesis probability of 1.0e+00 with 1 degrees of freedom\n"
     ]
    }
   ],
   "source": [
    "AllModels.clear()\n",
    "mo = Model(\"tbabs*powerlaw\")\n",
    "Fit.perform()\n",
    "Plot.device = \"/xs\"\n",
    "Plot(\"data resid\")"
   ]
  },
  {
   "cell_type": "code",
   "execution_count": 36,
   "id": "4f917501-7614-449b-b313-4ab6c7dd2aee",
   "metadata": {},
   "outputs": [
    {
     "data": {
      "text/plain": [
       "(-0.5, 859.5, 661.5, -0.5)"
      ]
     },
     "execution_count": 36,
     "metadata": {},
     "output_type": "execute_result"
    },
    {
     "data": {
      "image/png": "[encoded data removed]",
      "text/plain": [
       "<Figure size 1200x700 with 1 Axes>"
      ]
     },
     "metadata": {},
     "output_type": "display_data"
    }
   ],
   "source": [
    "img = plt.imread(glob.glob('ObsID*_SRCNUM*_E*_Spectrum_powerlaw.png')[0])\n",
    "plt.imshow(img)\n",
    "plt.axis('off')"
   ]
  },
  {
   "cell_type": "markdown",
   "id": "1973f13c-7580-446c-b7fe-bf273fd37c5d",
   "metadata": {},
   "source": [
    "## Flux"
   ]
  },
  {
   "cell_type": "code",
   "execution_count": 25,
   "id": "f6ba1ee6-8282-4c45-8230-6603f9bfbae8",
   "metadata": {},
   "outputs": [
    {
     "name": "stdout",
     "output_type": "stream",
     "text": [
      "Spectrum Number: 1, 2, 3, 4\n",
      "Data Group Number: 1\n",
      " Model Flux 2.499e-05 photons (2.0908e-13 ergs/cm^2/s) range (0.20000 - 12.000 keV)\n"
     ]
    }
   ],
   "source": [
    "AllModels.calcFlux(\".2 12.0\")"
   ]
  },
  {
   "cell_type": "code",
   "execution_count": 5,
   "id": "4e93ef39-9046-44fe-a12f-a84de18a36e6",
   "metadata": {},
   "outputs": [],
   "source": [
    "Flux = 2.0908e-13 # ergs/cm^2/s"
   ]
  },
  {
   "cell_type": "markdown",
   "id": "ccedc18b-2d1e-4c77-ab21-4a83b5e6846c",
   "metadata": {},
   "source": [
    "### ESASky\n",
    "\n",
    "On ESASky, we observe 2 close sources a purple source and a green source. EPIC points to the system but GAIA has two pointers. https://sky.esa.int/esasky/?target=53.891302510636216%20-27.553110412917224&hips=XMM-Newton+EPIC+color&fov=0.091958931009&projection=SIN&cooframe=J2000&sci=true&lang=fr\n",
    "\n",
    "``EPIC Stack``\n",
    "\n",
    "- Stack Catalogue name : 4XMMs J033533.9-2733114XMM J033533.8-273311\n",
    "- RA : 03h 35m 33.913s\n",
    "- DEC : -27° 33' 11.20\"\n",
    "\n",
    "``2MASS``\n",
    "\n",
    "- Name : 03353351-2733085\n",
    "- RA : 03h 35m 33.519s\n",
    "- DEC : -27° 33' 08.52\"\n",
    "\n",
    "``GAIA``\n",
    "\n",
    "**Purple source :**\n",
    "- Name : Gaia DR3 5081491845029366656\n",
    "- RA : 03h 35m 33.912s\n",
    "- DEC : -27° 33' 10.84\"\n",
    "- Parallax : -0.111 mas\n",
    "\n",
    "**Green source :**\n",
    "- Name : Gaia DR3 5081491845030888576\n",
    "- RA : 03h 35m 33.506s\n",
    "- DEC : -27° 33' 08.81\"\n",
    "- Parallax : 1.3353 mas"
   ]
  },
  {
   "cell_type": "markdown",
   "id": "7111df1f-2e8e-44ce-8395-de542672fd0e",
   "metadata": {},
   "source": [
    "### Luminosity"
   ]
  },
  {
   "cell_type": "code",
   "execution_count": 11,
   "id": "1835908c-16ac-4ea6-b7ee-042a15dc5bf1",
   "metadata": {},
   "outputs": [
    {
     "name": "stdout",
     "output_type": "stream",
     "text": [
      "\u001b[1mPurple source (GAIA)\u001b[0m\n",
      "Distance : 2.77990990990991e+22 cm\n",
      "Luminosity : 2.0304102580133548e+33 erg/s\n",
      "\n",
      "\u001b[1mGreen source (GAIA)\u001b[0m\n",
      "Distance : 2.3108664719538683e+21 cm\n",
      "Luminosity : 1.4030464797619726e+31 erg/s\n"
     ]
    }
   ],
   "source": [
    "\"\"\"GAIA purple source\"\"\"\n",
    "\n",
    "P_mas = 0.111 # Parallaxe en mas\n",
    "d_kpc = 1/P_mas # Distance en kpc\n",
    "d_cm = d_kpc*3.0857*10**21 # Distance en cm, avec 1 pc = 3.0857*10^18 cm\n",
    "\n",
    "# La source est supposée sphérique pour le calcul de la luminosité : L = 4*pi*F*D^2\n",
    "Luminosity = 4*np.pi*Flux*(d_cm)**2 # erg/s\n",
    "\n",
    "print(color.BOLD+\"Purple source (GAIA)\"+color.END)\n",
    "print(f\"Distance : {d_cm} cm\")\n",
    "print(f\"Luminosity : {Luminosity} erg/s\")\n",
    "\n",
    "\"\"\"GAIA green source\"\"\"\n",
    "\n",
    "P_mas = 1.3353 # Parallaxe en mas\n",
    "d_kpc = 1/P_mas # Distance en kpc\n",
    "d_cm = d_kpc*3.0857*10**21 # Distance en cm, avec 1 pc = 3.0857*10^18 cm\n",
    "\n",
    "# La source est supposée sphérique pour le calcul de la luminosité : L = 4*pi*F*D^2\n",
    "Luminosity = 4*np.pi*Flux*(d_cm)**2 # erg/s\n",
    "print()\n",
    "print(color.BOLD+\"Green source (GAIA)\"+color.END)\n",
    "print(f\"Distance : {d_cm} cm\")\n",
    "print(f\"Luminosity : {Luminosity} erg/s\")"
   ]
  }
 ],
 "metadata": {
  "kernelspec": {
   "display_name": "Python 3 (ipykernel)",
   "language": "python",
   "name": "python3"
  },
  "language_info": {
   "codemirror_mode": {
    "name": "ipython",
    "version": 3
   },
   "file_extension": ".py",
   "mimetype": "text/x-python",
   "name": "python",
   "nbconvert_exporter": "python",
   "pygments_lexer": "ipython3",
   "version": "3.10.12"
  }
 },
 "nbformat": 4,
 "nbformat_minor": 5
}
