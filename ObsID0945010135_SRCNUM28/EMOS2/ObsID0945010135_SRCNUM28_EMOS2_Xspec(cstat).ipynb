{
 "cells": [
  {
   "cell_type": "markdown",
   "id": "a09472f9-b7b4-4047-9978-0b5adf3b464f",
   "metadata": {},
   "source": [
    "# ObsID : 0945010135, SRCNUM : 28, Instru : EMOS2\n",
    "**Simbad :** Active Galaxy Nucleus ([NAA2006] C761) https://simbad.cds.unistra.fr/simbad/sim-id?Ident=%405450903&Name=%5bNAA2006%5d%20C761&submit=submit"
   ]
  },
  {
   "cell_type": "code",
   "execution_count": 35,
   "id": "311ae079-ccd8-41c3-aac4-08c99f67b431",
   "metadata": {},
   "outputs": [
    {
     "name": "stdout",
     "output_type": "stream",
     "text": [
      "Default fit statistic is set to: C-Statistic\n",
      "   This will apply to all current and newly loaded spectra.\n",
      "\n",
      "Fit statistic  : C-Statistic                59297.34     using 10 bins.\n",
      "\n",
      "Test statistic : Chi-Squared              1.258080e+08     using 10 bins.\n",
      " Null hypothesis probability of 0.000000e+00 with 5 degrees of freedom\n",
      " Current data and model not fit yet.\n",
      "Parameter delta values for fits will now be 0.0001 * parValue\n"
     ]
    }
   ],
   "source": [
    "from xspec import *\n",
    "from stingray import Lightcurve\n",
    "from astropy.io import fits\n",
    "import matplotlib.pyplot as plt\n",
    "import matplotlib.image as mpimg\n",
    "import glob\n",
    "import numpy as np\n",
    "\n",
    "class color:\n",
    "   PURPLE = '\\033[95m'\n",
    "   CYAN = '\\033[96m'\n",
    "   DARKCYAN = '\\033[36m'\n",
    "   BLUE = '\\033[94m'\n",
    "   GREEN = '\\033[92m'\n",
    "   YELLOW = '\\033[93m'\n",
    "   RED = '\\033[91m'\n",
    "   BOLD = '\\033[1m'\n",
    "   UNDERLINE = '\\033[4m'\n",
    "   END = '\\033[0m'\n",
    "\n",
    "plt.rcParams['figure.figsize'] = [12,7]\n",
    "\n",
    "Fit.statMethod = \"cstat\"\n",
    "Fit.nIterations = 100000\n",
    "Fit.delta = 1e-4\n",
    "Fit.criticalDelta = 1e-4"
   ]
  },
  {
   "cell_type": "markdown",
   "id": "39b7d9d2-7930-4892-81ba-8bd2db47e610",
   "metadata": {},
   "source": [
    "## Load files"
   ]
  },
  {
   "cell_type": "code",
   "execution_count": 2,
   "id": "cd0bcd6f-9565-4899-90b7-1e5d87e7050a",
   "metadata": {},
   "outputs": [
    {
     "name": "stdout",
     "output_type": "stream",
     "text": [
      "***Warning: Detected response matrix energy bin value = 0 (or neg).\n",
      "     XSPEC will instead use small finite value (response file will not be altered).\n",
      "\n",
      "1 spectrum  in use\n",
      " \n",
      "Spectral Data File: ObsID0945010135_SRCNUM28_EMOS2_spectrum_grp_cstat.fits  Spectrum 1\n",
      "Net count rate (cts/s) for Spectrum:1  1.863e-03 +/- 5.959e-04 (49.1 % total)\n",
      " Assigned to Data Group 1 and Plot Group 1\n",
      "  Noticed Channels:  1-42\n",
      "  Telescope: XMM Instrument: EMOS2  Channel Type: PI\n",
      "  Exposure Time: 1.133e+04 sec\n",
      " Using fit statistic: cstat\n",
      " Using Background File                MOSbackground_spectrum.fits\n",
      "  Background Exposure Time: 1.133e+04 sec\n",
      " Using Response (RMF) File            MOS.rmf for Source 1\n",
      " Using Auxiliary Response (ARF) File  MOS.arf\n",
      "\n"
     ]
    }
   ],
   "source": [
    "#AllData.clear()\n",
    "spec = Spectrum(glob.glob('ObsID*_SRCNUM*_E*_spectrum_grp_cstat.fits')[0])"
   ]
  },
  {
   "cell_type": "code",
   "execution_count": 7,
   "id": "2f602984-b3dc-4834-9b4e-3f4fbcc9892c",
   "metadata": {},
   "outputs": [
    {
     "name": "stdout",
     "output_type": "stream",
     "text": [
      "Number of counts = 21.10779\n",
      "\n",
      "The low number of counts indicates that we should consider using cstat fit statistic instead of chi statistic.\n"
     ]
    }
   ],
   "source": [
    "n_cts = 1.133e+04*1.863e-03\n",
    "\n",
    "print(\"Number of counts =\",n_cts)\n",
    "\n",
    "if int(n_cts)<100:\n",
    "    print()\n",
    "    print(\"The low number of counts indicates that we should consider using cstat fit statistic instead of chi statistic.\")"
   ]
  },
  {
   "cell_type": "markdown",
   "id": "870eec10-27a5-4341-a01c-4a98ac400133",
   "metadata": {},
   "source": [
    "## Plot spectrum"
   ]
  },
  {
   "cell_type": "code",
   "execution_count": 3,
   "id": "37f98bf3-3d31-4c65-891f-3ea006da7786",
   "metadata": {},
   "outputs": [
    {
     "name": "stdout",
     "output_type": "stream",
     "text": [
      "     1 channels (1) ignored in spectrum #     1\n",
      "    31 channels (12,42) ignored in spectrum #     1\n",
      "\n"
     ]
    }
   ],
   "source": [
    "Plot.xAxis=\"keV\"\n",
    "Plot.device = \"/xs\"\n",
    "Plot.xLog=True\n",
    "Plot.yLog=True\n",
    "Plot.addCommand(\"Rescale Y 0.00001 0.05\")\n",
    "Plot(\"data\")\n",
    "spec.ignore(\"**-0.2 12-**\")"
   ]
  },
  {
   "cell_type": "code",
   "execution_count": 4,
   "id": "27bf0415-368d-4476-8ef7-29af925b48ee",
   "metadata": {},
   "outputs": [
    {
     "data": {
      "text/plain": [
       "(-0.5, 860.5, 661.5, -0.5)"
      ]
     },
     "execution_count": 4,
     "metadata": {},
     "output_type": "execute_result"
    },
    {
     "data": {
      "image/png": "[encoded data removed]",
      "text/plain": [
       "<Figure size 1200x700 with 1 Axes>"
      ]
     },
     "metadata": {},
     "output_type": "display_data"
    }
   ],
   "source": [
    "img = plt.imread(glob.glob('ObsID*_SRCNUM*_E*_Spectrum2.png')[0])\n",
    "plt.imshow(img)\n",
    "plt.axis('off')"
   ]
  },
  {
   "cell_type": "markdown",
   "id": "7eb1edda-21f0-4876-bdbc-8cb3e4a347dc",
   "metadata": {},
   "source": [
    "### Black body model"
   ]
  },
  {
   "cell_type": "code",
   "execution_count": 18,
   "id": "25e94b4e-0bb6-439e-af07-e82ebf0faa48",
   "metadata": {},
   "outputs": [
    {
     "name": "stdout",
     "output_type": "stream",
     "text": [
      "\n",
      "========================================================================\n",
      "Model TBabs<1>*bbody<2> Source No.: 1   Active/On\n",
      "Model Model Component  Parameter  Unit     Value\n",
      " par  comp\n",
      "   1    1   TBabs      nH         10^22    1.00000      +/-  0.0          \n",
      "   2    2   bbody      kT         keV      3.00000      +/-  0.0          \n",
      "   3    2   bbody      norm                1.00000      +/-  0.0          \n",
      "________________________________________________________________________\n",
      "\n",
      "\n",
      "Fit statistic  : C-Statistic                24828.25     using 10 bins.\n",
      "\n",
      "Test statistic : Chi-Squared              2.313805e+07     using 10 bins.\n",
      " Null hypothesis probability of 0.000000e+00 with 7 degrees of freedom\n",
      " Current data and model not fit yet.\n",
      "\n",
      "Fit statistic  : C-Statistic                194.2840     using 10 bins.\n",
      "\n",
      "Test statistic : Chi-Squared                2249.801     using 10 bins.\n",
      " Null hypothesis probability of 0.000e+00 with 7 degrees of freedom\n",
      " Current data and model not fit yet.\n",
      "                                   Parameters\n",
      "C-Statistic  |beta|/N    Lvl          1:nH          2:kT        3:norm\n",
      "5.85754      3841.57      -3      0.269228       46.3449      0.200868\n",
      "5.27544      1.46962      -4      0.311924       42.0657      0.287836\n",
      "5.26866      0.175565     -4      0.210564       52.3784      0.448177\n",
      "5.26622      0.0413443    -2      0.284778       50.4909      0.494689\n",
      "5.26575      0.0104607    -3      0.231217       51.4079      0.457536\n",
      "5.26526      0.0176231    -2      0.271113       50.4646      0.476609\n",
      "5.26519      0.00490931   -3      0.241466       51.1539      0.461836\n",
      "========================================\n",
      " Variances and Principal Axes\n",
      "                 1        2        3  \n",
      " 4.1803E-02|  0.7557   0.0185  -0.6547  \n",
      " 3.1400E+00|  0.6550  -0.0210   0.7554  \n",
      " 9.4370E+07| -0.0002   0.9996   0.0279  \n",
      "----------------------------------------\n",
      "\n",
      "====================================\n",
      "  Covariance Matrix\n",
      "        1           2           3   \n",
      "   6.038e+00  -2.098e+04  -5.845e+02\n",
      "  -2.098e+04   9.430e+07   2.634e+06\n",
      "  -5.845e+02   2.634e+06   7.360e+04\n",
      "------------------------------------\n",
      "\n",
      "========================================================================\n",
      "Model TBabs<1>*bbody<2> Source No.: 1   Active/On\n",
      "Model Model Component  Parameter  Unit     Value\n",
      " par  comp\n",
      "   1    1   TBabs      nH         10^22    0.241466     +/-  2.45725      \n",
      "   2    2   bbody      kT         keV      51.1539      +/-  9710.61      \n",
      "   3    2   bbody      norm                0.461836     +/-  271.287      \n",
      "________________________________________________________________________\n",
      "\n",
      "\n",
      "Fit statistic  : C-Statistic                  5.2652     using 10 bins.\n",
      "\n",
      "Test statistic : Chi-Squared                  4.2469     using 10 bins.\n",
      " Null hypothesis probability of 7.5094e-01 with 7 degrees of freedom\n"
     ]
    }
   ],
   "source": [
    "AllModels.clear()\n",
    "mo = Model(\"tbabs*bbody\")\n",
    "mo.bbody.norm = 0.01\n",
    "Fit.perform()\n",
    "Plot.device = \"/xs\"\n",
    "Plot(\"data resid\")\n",
    "plt.show()"
   ]
  },
  {
   "cell_type": "code",
   "execution_count": 17,
   "id": "f2d55c50-94dd-468d-bf08-69bca0b63260",
   "metadata": {},
   "outputs": [
    {
     "data": {
      "text/plain": [
       "(-0.5, 859.5, 660.5, -0.5)"
      ]
     },
     "execution_count": 17,
     "metadata": {},
     "output_type": "execute_result"
    },
    {
     "data": {
      "image/png": "[encoded data removed]",
      "text/plain": [
       "<Figure size 1200x700 with 1 Axes>"
      ]
     },
     "metadata": {},
     "output_type": "display_data"
    }
   ],
   "source": [
    "img = plt.imread(glob.glob('ObsID*_SRCNUM*_E*_Spectrum_bbody2.png')[0])\n",
    "plt.imshow(img)\n",
    "plt.axis('off')"
   ]
  },
  {
   "cell_type": "markdown",
   "id": "b77a2e66-8412-4d85-a277-10782493ea2e",
   "metadata": {},
   "source": [
    "### Bremsstrahlung model"
   ]
  },
  {
   "cell_type": "code",
   "execution_count": 21,
   "id": "3ed606fb-6f75-4369-b9c8-b5c95a0a9577",
   "metadata": {},
   "outputs": [
    {
     "name": "stdout",
     "output_type": "stream",
     "text": [
      "\n",
      "========================================================================\n",
      "Model TBabs<1>*bremss<2> Source No.: 1   Active/On\n",
      "Model Model Component  Parameter  Unit     Value\n",
      " par  comp\n",
      "   1    1   TBabs      nH         10^22    1.00000      +/-  0.0          \n",
      "   2    2   bremss     kT         keV      7.00000      +/-  0.0          \n",
      "   3    2   bremss     norm                1.00000      +/-  0.0          \n",
      "________________________________________________________________________\n",
      "\n",
      "\n",
      "Fit statistic  : C-Statistic                21135.85     using 10 bins.\n",
      "\n",
      "Test statistic : Chi-Squared              1.704639e+07     using 10 bins.\n",
      " Null hypothesis probability of 0.000000e+00 with 7 degrees of freedom\n",
      " Current data and model not fit yet.\n",
      "\n",
      "Fit statistic  : C-Statistic                  8.2387     using 10 bins.\n",
      "\n",
      "Test statistic : Chi-Squared                 12.9670     using 10 bins.\n",
      " Null hypothesis probability of 7.2917e-02 with 7 degrees of freedom\n",
      " Current data and model not fit yet.\n",
      "                                   Parameters\n",
      "C-Statistic  |beta|/N    Lvl          1:nH          2:kT        3:norm\n",
      "6.65748      1437.79      -3       3.14702       2.17190    0.00407525\n",
      "5.78261      23.0171      -3       1.54274       26.2855   0.000909063\n",
      "5.25436      144.299      -1       1.04674       42.6457   0.000688893\n",
      "5.21427      131.005      -2      0.939648       54.2703   0.000507911\n",
      "5.21319      32.4144      -2      0.961509       31.0637   0.000487149\n",
      "5.21208      38.4935      -2      0.980570       13.3769   0.000433464\n",
      "5.20818      61.8474      -1      0.994927       10.7294   0.000421158\n",
      "5.20455      4.05363      -1       1.01053       6.16189   0.000414259\n",
      "5.20379      18.0742       0       1.01176       5.28513   0.000416255\n",
      "5.20203      12.9606      -1       1.03023       4.02762   0.000437215\n",
      "5.19987      29.7855      -1       1.04474       3.90569   0.000459665\n",
      "5.19842      10.9608      -1       1.05821       3.51265   0.000480753\n",
      "5.19706      13.0268      -1       1.07035       3.25132   0.000502128\n",
      "5.19583      10.6528      -1       1.08155       3.02542   0.000523433\n",
      "5.19422      9.72544      -1       1.09231       2.77327   0.000547229\n",
      "5.19203      10.9401      -1       1.10385       2.46897   0.000578086\n",
      "5.19019      15.1474      -1       1.11651       2.32296   0.000609414\n",
      "5.1884       10.778       -1       1.12869       2.19241   0.000640822\n",
      "5.18645      9.3863       -1       1.14048       2.06224   0.000674404\n",
      "5.18467      9.38632      -1       1.15224       1.95214   0.000709740\n",
      "5.18289      8.63375      -1       1.16382       1.85460   0.000746586\n",
      "5.18113      8.00198      -1       1.17522       1.76465   0.000785423\n",
      "5.17941      8.03147      -1       1.18637       1.68947   0.000825757\n",
      "5.17773      6.97755      -1       1.19732       1.61989   0.000867560\n",
      "5.17609      6.52209      -1       1.20805       1.55831   0.000910582\n",
      "5.17445      5.94642      -1       1.21854       1.49827   0.000955985\n",
      "5.17282      5.78523      -1       1.22897       1.44329    0.00100367\n",
      "5.17121      5.48474      -1       1.23934       1.39323    0.00105337\n",
      "5.16963      5.11498      -1       1.24960       1.34634    0.00110540\n",
      "5.16811      4.97021      -1       1.25968       1.30618    0.00115865\n",
      "5.16661      4.41912      -1       1.26948       1.26681    0.00121428\n",
      "5.16513      4.23029      -1       1.27917       1.23032    0.00127207\n",
      "5.16368      3.96975      -1       1.28875       1.19613    0.00133210\n",
      "5.16223      3.74365      -1       1.29820       1.16346    0.00139494\n",
      "5.1608       3.56442      -1       1.30760       1.13309    0.00146017\n",
      "5.15939      3.36155      -1       1.31690       1.10441    0.00152800\n",
      "5.15799      3.17604      -1       1.32610       1.07713    0.00159870\n",
      "5.15661      3.01764      -1       1.33523       1.05133    0.00167232\n",
      "5.15524      2.85354      -1       1.34429       1.02691    0.00174884\n",
      "5.15388      2.71055      -1       1.35326       1.00335    0.00182896\n",
      "5.15253      2.58528      -1       1.36221      0.981421    0.00191181\n",
      "5.15119      2.436        -1       1.37106      0.960151    0.00199842\n",
      "5.14985      2.32905      -1       1.37986      0.939746    0.00208894\n",
      "5.14854      2.22758      -1       1.38864      0.920546    0.00218282\n",
      "5.14722      2.10235      -1       1.39734      0.901895    0.00228097\n",
      "5.1459       2.01645      -1       1.40601      0.883867    0.00238384\n",
      "5.14456      1.92817      -1       1.41468      0.866492    0.00249159\n",
      "5.1432       1.8468       -1       1.42336      0.849480    0.00260524\n",
      "5.14181      1.7869       -1       1.43208      0.833050    0.00272484\n",
      "5.1404       1.71843      -1       1.44084      0.816983    0.00285127\n",
      "5.13897      1.66354      -1       1.44969      0.801520    0.00298437\n",
      "5.13753      1.59597      -1       1.45859      0.786731    0.00312378\n",
      "5.13609      1.52001      -1       1.46750      0.772304    0.00327056\n",
      "5.13464      1.46395      -1       1.47646      0.758413    0.00342468\n",
      "5.13319      1.39896      -1       1.48545      0.745071    0.00358604\n",
      "5.13171      1.33305      -1       1.49441      0.731510    0.00375885\n",
      "5.13027      1.31134      -1       1.50357      0.719455    0.00393575\n",
      "5.12883      1.20652      -1       1.51260      0.707533    0.00412078\n",
      "5.12739      1.15161      -1       1.52159      0.695980    0.00431433\n",
      "5.12595      1.09799      -1       1.53056      0.684800    0.00451673\n",
      "5.12452      1.04856      -1       1.53953      0.673987    0.00472840\n",
      "5.12309      0.999177     -1       1.54847      0.663465    0.00495029\n",
      "5.12166      0.953027     -1       1.55743      0.653335    0.00518199\n",
      "5.12024      0.907259     -1       1.56638      0.643546    0.00542388\n",
      "5.11882      0.862925     -1       1.57530      0.633997    0.00567728\n",
      "5.1174       0.823397     -1       1.58423      0.624730    0.00594241\n",
      "5.11598      0.786831     -1       1.59315      0.615753    0.00621964\n",
      "5.11456      0.750405     -1       1.60207      0.607029    0.00650972\n",
      "5.11315      0.715086     -1       1.61099      0.598543    0.00681323\n",
      "5.11173      0.683205     -1       1.61991      0.590308    0.00713063\n",
      "5.11032      0.65173      -1       1.62882      0.582317    0.00746229\n",
      "5.10892      0.620834     -1       1.63773      0.574529    0.00780929\n",
      "5.10751      0.592774     -1       1.64663      0.566952    0.00817224\n",
      "5.10611      0.565476     -1       1.65553      0.559561    0.00855203\n",
      "5.10471      0.540932     -1       1.66444      0.552429    0.00894802\n",
      "5.10331      0.513519     -1       1.67332      0.545442    0.00936237\n",
      "5.10171      0.491448     -1       1.68220      0.538660    0.00979524\n",
      "5.10037      0.330442     -1       1.69172      0.532480     0.0102338\n",
      "5.09904      0.429687     -1       1.70057      0.526292     0.0106968\n",
      "5.0977       0.415387     -1       1.70928      0.520191     0.0111800\n",
      "5.09637      0.397062     -1       1.71794      0.514209     0.0116847\n",
      "5.09506      0.378634     -1       1.72657      0.508361     0.0122114\n",
      "5.09376      0.362638     -1       1.73520      0.502660     0.0127608\n",
      "5.09247      0.346067     -1       1.74381      0.497135     0.0133320\n",
      "5.0912       0.329012     -1       1.75238      0.491747     0.0139266\n",
      "5.08993      0.312677     -1       1.76092      0.486511     0.0145440\n",
      "5.08867      0.297494     -1       1.76941      0.481403     0.0151858\n",
      "5.08738      0.283379     -1       1.77786      0.476402     0.0158543\n",
      "5.08606      0.270622     -1       1.78629      0.471468     0.0165533\n",
      "5.08472      0.260187     -1       1.79473      0.466598     0.0172863\n",
      "5.08337      0.250315     -1       1.80319      0.461787     0.0180563\n",
      "5.08201      0.241385     -1       1.81170      0.457020     0.0188673\n",
      "5.08035      0.233964     -1       1.81975      0.449279     0.0199553\n",
      "5.07898      0.327474     -1       1.83028      0.446140     0.0208758\n",
      "5.07771      0.210977     -1       1.83956      0.442197     0.0218103\n",
      "5.07646      0.198377     -1       1.84827      0.438134     0.0227782\n",
      "5.07524      0.188652     -1       1.85676      0.434092     0.0237828\n",
      "5.07403      0.179705     -1       1.86514      0.430130     0.0248246\n",
      "5.07285      0.170753     -1       1.87345      0.426272     0.0259029\n",
      "5.07168      0.161772     -1       1.88169      0.422508     0.0270188\n",
      "5.07054      0.153644     -1       1.88986      0.418845     0.0281720\n",
      "5.0694       0.145614     -1       1.89795      0.415273     0.0293640\n",
      "5.06828      0.138096     -1       1.90597      0.411780     0.0305969\n",
      "5.06717      0.131335     -1       1.91392      0.408361     0.0318724\n",
      "5.06606      0.125226     -1       1.92181      0.405016     0.0331927\n",
      "5.06504      0.119267     -1       1.92973      0.402277     0.0344578\n",
      "5.06393      0.105275     -1       1.93708      0.398870     0.0358617\n",
      "5.0628       0.108911     -1       1.94466      0.395629     0.0373286\n",
      "5.06166      0.104946     -1       1.95233      0.392467     0.0388579\n",
      "5.06054      0.100833     -1       1.96003      0.389362     0.0404511\n",
      "5.05943      0.0968955    -1       1.96776      0.386304     0.0421116\n",
      "5.05833      0.0932067    -1       1.97550      0.383313     0.0438365\n",
      "5.05724      0.0891166    -1       1.98323      0.380382     0.0456262\n",
      "5.05616      0.0853222    -1       1.99095      0.377501     0.0474840\n",
      "5.05508      0.0818447    -1       1.99864      0.374673     0.0494118\n",
      "5.054        0.0782603    -1       2.00631      0.371893     0.0514118\n",
      "5.05294      0.0750784    -1       2.01396      0.369159     0.0534872\n",
      "5.05188      0.0720373    -1       2.02158      0.366475     0.0556395\n",
      "5.05082      0.0689238    -1       2.02919      0.363835     0.0578721\n",
      "5.04977      0.0660621    -1       2.03677      0.361238     0.0601885\n",
      "5.04873      0.0632923    -1       2.04433      0.358686     0.0625897\n",
      "5.04769      0.0606815    -1       2.05187      0.356175     0.0650794\n",
      "5.04666      0.0582165    -1       2.05938      0.353703     0.0676614\n",
      "5.04563      0.0558528    -1       2.06688      0.351276     0.0703362\n",
      "5.04461      0.0535486    -1       2.07435      0.348884     0.0731107\n",
      "5.0436       0.0513498    -1       2.08180      0.346532     0.0759854\n",
      "5.04259      0.0492651    -1       2.08923      0.344214     0.0789650\n",
      "5.04159      0.0474127    -1       2.09663      0.341936     0.0820524\n",
      "5.04059      0.045462     -1       2.10402      0.339693     0.0852506\n",
      "5.0396       0.0436493    -1       2.11138      0.337482     0.0885653\n",
      "5.03861      0.041975     -1       2.11873      0.335305     0.0919997\n",
      "5.03763      0.040336     -1       2.12605      0.333166     0.0955532\n",
      "5.03665      0.038751     -1       2.13335      0.331055     0.0992358\n",
      "5.03568      0.0372599    -1       2.14063      0.328980      0.103047\n",
      "5.0347       0.0361839    -1       2.14784      0.326832      0.107070\n",
      "5.03374      0.0352621    -1       2.15520      0.324860      0.111162\n",
      "5.03279      0.0331448    -1       2.16246      0.322887      0.115393\n",
      "5.03184      0.031936     -1       2.16967      0.320932      0.119775\n",
      "5.0309       0.0307923    -1       2.17684      0.319005      0.124309\n",
      "5.02994      0.0302083    -1       2.18394      0.317006      0.129095\n",
      "5.02899      0.0295596    -1       2.19114      0.315073      0.134062\n",
      "5.02806      0.0279784    -1       2.19844      0.313279      0.139102\n",
      "5.02714      0.0265314    -1       2.20560      0.311480      0.144299\n",
      "5.02623      0.0256679    -1       2.21269      0.309695      0.149674\n",
      "5.02532      0.0248127    -1       2.21974      0.307934      0.155227\n",
      "5.02442      0.0240119    -1       2.22676      0.306195      0.160969\n",
      "5.02353      0.0232747    -1       2.23375      0.304477      0.166908\n",
      "5.02264      0.0225052    -1       2.24072      0.302787      0.173041\n",
      "5.02175      0.0218462    -1       2.24767      0.301117      0.179382\n",
      "5.02087      0.0211686    -1       2.25460      0.299473      0.185930\n",
      "5.02         0.0206096    -1       2.26150      0.297847      0.192702\n",
      "5.01913      0.0200047    -1       2.26838      0.296246      0.199694\n",
      "5.01826      0.0194775    -1       2.27524      0.294666      0.206918\n",
      "5.01741      0.0189946    -1       2.28208      0.293105      0.214382\n",
      "5.01655      0.0185139    -1       2.28889      0.291565      0.222093\n",
      "5.0157       0.018072     -1       2.29569      0.290046      0.230052\n",
      "5.01486      0.0176655    -1       2.30247      0.288548      0.238270\n",
      "5.01402      0.0173597    -1       2.30922      0.287066      0.246761\n",
      "5.01318      0.0170454    -1       2.31595      0.285600      0.255539\n",
      "5.01235      0.0166555    -1       2.32268      0.284155      0.264598\n",
      "5.01152      0.0164206    -1       2.32937      0.282724      0.273960\n",
      "5.0107       0.016112     -1       2.33606      0.281314      0.283625\n",
      "5.00988      0.0158297    -1       2.34273      0.279922      0.293596\n",
      "5.00907      0.0157179    -1       2.34937      0.278542      0.303900\n",
      "5.00826      0.0153409    -1       2.35600      0.277184      0.314530\n",
      "5.00745      0.0153209    -1       2.36261      0.275838      0.325509\n",
      "5.00665      0.0150507    -1       2.36920      0.274511      0.336833\n",
      "5.00585      0.0149387    -1       2.37578      0.273198      0.348524\n",
      "5.00506      0.0147741    -1       2.38233      0.271901      0.360588\n",
      "5.00427      0.0147596    -1       2.38887      0.270618      0.373037\n",
      "5.00349      0.0144847    -1       2.39540      0.269352      0.385875\n",
      "5.00271      0.01447      -1       2.40190      0.268101      0.399115\n",
      "5.00193      0.0143194    -1       2.40838      0.266865      0.412768\n",
      "5.00192      0.0143157    -2       2.47329      0.254478      0.551763\n",
      "========================================\n",
      " Variances and Principal Axes\n",
      "                 1        2        3  \n",
      " 1.8154E-03| -0.1359   0.9791   0.1511  \n",
      " 3.5934E-01|  0.8963   0.1865  -0.4024  \n",
      " 1.2330E+03| -0.4222   0.0807  -0.9029  \n",
      "----------------------------------------\n",
      "\n",
      "====================================\n",
      "  Covariance Matrix\n",
      "        1           2           3   \n",
      "   2.201e+02  -4.197e+01   4.699e+02\n",
      "  -4.197e+01   8.053e+00  -8.992e+01\n",
      "   4.699e+02  -8.992e+01   1.005e+03\n",
      "------------------------------------\n",
      "\n",
      "========================================================================\n",
      "Model TBabs<1>*bremss<2> Source No.: 1   Active/On\n",
      "Model Model Component  Parameter  Unit     Value\n",
      " par  comp\n",
      "   1    1   TBabs      nH         10^22    2.47329      +/-  14.8350      \n",
      "   2    2   bremss     kT         keV      0.254478     +/-  2.83785      \n",
      "   3    2   bremss     norm                0.551763     +/-  31.7058      \n",
      "________________________________________________________________________\n",
      "\n",
      "\n",
      "Fit statistic  : C-Statistic                  5.0019     using 10 bins.\n",
      "\n",
      "Test statistic : Chi-Squared                  3.1915     using 10 bins.\n",
      " Null hypothesis probability of 8.6674e-01 with 7 degrees of freedom\n"
     ]
    }
   ],
   "source": [
    "AllModels.clear()\n",
    "mo = Model(\"tbabs*bremss\")\n",
    "mo.bremss.norm = 0.001\n",
    "Fit.perform()\n",
    "Plot.device = \"/xs\"\n",
    "Plot(\"data resid\")"
   ]
  },
  {
   "cell_type": "code",
   "execution_count": 22,
   "id": "4f360356-063b-4c14-8ea4-029f8abb6085",
   "metadata": {},
   "outputs": [
    {
     "data": {
      "text/plain": [
       "(-0.5, 860.5, 660.5, -0.5)"
      ]
     },
     "execution_count": 22,
     "metadata": {},
     "output_type": "execute_result"
    },
    {
     "data": {
      "image/png": "[encoded data removed]",
      "text/plain": [
       "<Figure size 1200x700 with 1 Axes>"
      ]
     },
     "metadata": {},
     "output_type": "display_data"
    }
   ],
   "source": [
    "img = plt.imread(glob.glob('ObsID*_SRCNUM*_E*_Spectrum_bremss2.png')[0])\n",
    "plt.imshow(img)\n",
    "plt.axis('off')"
   ]
  },
  {
   "cell_type": "markdown",
   "id": "4d8ea665-d6a1-4113-beaf-fad108850b18",
   "metadata": {},
   "source": [
    "### Apec model"
   ]
  },
  {
   "cell_type": "code",
   "execution_count": 23,
   "id": "4bd12dd8-e0eb-46e8-a057-f7eb723b3a94",
   "metadata": {},
   "outputs": [
    {
     "name": "stdout",
     "output_type": "stream",
     "text": [
      "\n",
      "========================================================================\n",
      "Model TBabs<1>*apec<2> Source No.: 1   Active/On\n",
      "Model Model Component  Parameter  Unit     Value\n",
      " par  comp\n",
      "   1    1   TBabs      nH         10^22    1.00000      +/-  0.0          \n",
      "   2    2   apec       kT         keV      1.00000      +/-  0.0          \n",
      "   3    2   apec       Abundanc            1.00000      frozen\n",
      "   4    2   apec       Redshift            0.0          frozen\n",
      "   5    2   apec       norm                1.00000      +/-  0.0          \n",
      "________________________________________________________________________\n",
      "\n",
      "\n",
      "Fit statistic  : C-Statistic                42292.95     using 10 bins.\n",
      "\n",
      "Test statistic : Chi-Squared              1.014695e+08     using 10 bins.\n",
      " Null hypothesis probability of 0.000000e+00 with 7 degrees of freedom\n",
      " Current data and model not fit yet.\n",
      "                                   Parameters\n",
      "C-Statistic  |beta|/N    Lvl          1:nH          2:kT        5:norm\n",
      "18186.4      29654.3      -3      0.192841       46.4521      0.249380\n",
      "16708.7      19059.9      -2     0.0313982       57.8568      0.101664\n",
      "4291.66      33093.8      -2     0.0126286       62.2213     0.0239269\n",
      "1274         30959.7      -2    0.00559859       63.3820    0.00707666\n",
      "216.985      31645.8      -2    0.00189201       63.7383    0.00138427\n",
      "76.0327      30588.3      -2   0.000646541       63.8816   0.000583788\n",
      "7.72279      27960.6      -2   0.000223067       63.9432   9.39589e-05\n",
      "6.10934      10747.4      -1     0.0281946       63.9761   7.43984e-05\n",
      "5.80223      3734.44      -2      0.106541       63.9923   0.000109057\n",
      "5.46953      1970.81      -2      0.252204       51.3922   0.000151280\n",
      "5.42076      200.162      -2      0.362678       46.8152   0.000219705\n",
      "5.37624      241.165      -2      0.450025       55.9938   0.000354349\n",
      "5.30824      56.6332      -3      0.704728       32.8225   0.000610489\n",
      "5.27419      124.059      -3       1.07218       58.4729    0.00230578\n",
      "5.24735      47.8076      -1       1.00544       61.9478    0.00202036\n",
      "5.22753      49.0405      -1      0.980873       63.1780    0.00186414\n",
      "5.21866      37.4172      -1      0.967509       63.6194    0.00177427\n",
      "5.21424      28.9145      -1      0.959543       63.9591    0.00171939\n",
      "5.21226      22.6676      -1      0.954478       63.9935    0.00168519\n",
      "5.21114      18.9738      -1      0.951296       63.9971    0.00166296\n",
      "5.2105       16.3584      -1      0.949233       63.9994    0.00164835\n",
      "5.21012      14.551       -1      0.947870       63.9998    0.00163871\n",
      "5.20989      13.333       -1      0.946964       63.9999    0.00163230\n",
      "5.20974      12.5147      -1      0.946359       64.0000    0.00162803\n",
      "5.20965      11.9665      -1      0.945954       64.0000    0.00162519\n",
      "========================================\n",
      " Variances and Principal Axes\n",
      "                 1        2        5  \n",
      " 1.1499E-06| -0.0038  -0.0000   1.0000  \n",
      " 9.3507E-01|  1.0000   0.0001   0.0038  \n",
      " 4.5257E+08| -0.0001   1.0000   0.0000  \n",
      "----------------------------------------\n",
      "\n",
      "====================================\n",
      "  Covariance Matrix\n",
      "        1           2           3   \n",
      "   8.664e+00  -5.914e+04  -1.843e-01\n",
      "  -5.914e+04   4.526e+08   1.437e+03\n",
      "  -1.843e-01   1.437e+03   4.580e-03\n",
      "------------------------------------\n",
      "\n",
      "========================================================================\n",
      "Model TBabs<1>*apec<2> Source No.: 1   Active/On\n",
      "Model Model Component  Parameter  Unit     Value\n",
      " par  comp\n",
      "   1    1   TBabs      nH         10^22    0.945954     +/-  2.94339      \n",
      "   2    2   apec       kT         keV      64.0000      +/-  2.12738E+04  \n",
      "   3    2   apec       Abundanc            1.00000      frozen\n",
      "   4    2   apec       Redshift            0.0          frozen\n",
      "   5    2   apec       norm                1.62519E-03  +/-  6.76782E-02  \n",
      "________________________________________________________________________\n",
      "\n",
      "\n",
      "Fit statistic  : C-Statistic                  5.2097     using 10 bins.\n",
      "\n",
      "Test statistic : Chi-Squared                  3.8265     using 10 bins.\n",
      " Null hypothesis probability of 7.9953e-01 with 7 degrees of freedom\n"
     ]
    }
   ],
   "source": [
    "AllModels.clear()\n",
    "mo = Model(\"tbabs*apec\")\n",
    "Fit.perform()\n",
    "Plot.device = \"/xs\"\n",
    "Plot(\"data resid\")"
   ]
  },
  {
   "cell_type": "code",
   "execution_count": 24,
   "id": "e3c38dd4-72e7-44cd-b2db-963368ff15b2",
   "metadata": {},
   "outputs": [
    {
     "data": {
      "text/plain": [
       "(-0.5, 857.5, 660.5, -0.5)"
      ]
     },
     "execution_count": 24,
     "metadata": {},
     "output_type": "execute_result"
    },
    {
     "data": {
      "image/png": "[encoded data removed]",
      "text/plain": [
       "<Figure size 1200x700 with 1 Axes>"
      ]
     },
     "metadata": {},
     "output_type": "display_data"
    }
   ],
   "source": [
    "img = plt.imread(glob.glob('ObsID*_SRCNUM*_E*_Spectrum_apec2.png')[0])\n",
    "plt.imshow(img)\n",
    "plt.axis('off')"
   ]
  },
  {
   "cell_type": "markdown",
   "id": "746ccf61-8e54-4726-b463-b6a3d137905c",
   "metadata": {},
   "source": [
    "### Powerlaw model"
   ]
  },
  {
   "cell_type": "code",
   "execution_count": 25,
   "id": "ecf8f29f-a8fc-4efc-9ce0-7059d934b811",
   "metadata": {},
   "outputs": [
    {
     "name": "stdout",
     "output_type": "stream",
     "text": [
      "\n",
      "========================================================================\n",
      "Model TBabs<1>*powerlaw<2> Source No.: 1   Active/On\n",
      "Model Model Component  Parameter  Unit     Value\n",
      " par  comp\n",
      "   1    1   TBabs      nH         10^22    1.00000      +/-  0.0          \n",
      "   2    2   powerlaw   PhoIndex            1.00000      +/-  0.0          \n",
      "   3    2   powerlaw   norm                1.00000      +/-  0.0          \n",
      "________________________________________________________________________\n",
      "\n",
      "\n",
      "Fit statistic  : C-Statistic                34333.82     using 10 bins.\n",
      "\n",
      "Test statistic : Chi-Squared              4.289725e+07     using 10 bins.\n",
      " Null hypothesis probability of 0.000000e+00 with 7 degrees of freedom\n",
      " Current data and model not fit yet.\n",
      "                                   Parameters\n",
      "C-Statistic  |beta|/N    Lvl          1:nH    2:PhoIndex        3:norm\n",
      "44.2396      11741.6      -2       511.648      -2.22989      0.491075\n",
      "6.97522      30.4628      -3       88.6464       1.14558      0.221830\n",
      "6.21333      2.91805      -2       82.1517       1.35959      0.162982\n",
      "6.2012       0.196696     -2       68.9333       1.47358      0.149013\n",
      "6.19068      0.0665792    -2       56.2533       1.61200      0.131054\n",
      "6.17063      0.086409     -2       42.3734       1.78138      0.110524\n",
      "6.06114      0.19797      -2       18.7055       2.11544     0.0703739\n",
      "5.73689      4.35058      -1       15.6135       2.36621     0.0558741\n",
      "  0.0553877  0.561686     -1       14.8693       2.46021   \n",
      "5.72136      0.0668058    -2       15.1831       2.77355     0.0791955\n",
      "5.70744      0.737449     -1       15.2543       2.77166     0.0853433\n",
      "5.70558      0.0989189    -1       15.4055       2.79236     0.0898243\n",
      "5.70389      0.0620291    -1       15.4822       2.81989     0.0940694\n",
      "5.70221      0.0529577    -1       15.5467       2.84854     0.0984223\n",
      "5.70053      0.0494593    -1       15.6090       2.87734      0.102952\n",
      "5.69887      0.047002     -1       15.6708       2.90614      0.107677\n",
      "5.69721      0.0448116    -1       15.7324       2.93489      0.112608\n",
      "5.69555      0.0427514    -1       15.7939       2.96360      0.117754\n",
      "5.69391      0.040794     -1       15.8553       2.99227      0.123124\n",
      "5.69227      0.0389307    -1       15.9166       3.02088      0.128727\n",
      "5.69064      0.0371562    -1       15.9777       3.04945      0.134573\n",
      "5.68901      0.0354661    -1       16.0388       3.07798      0.140671\n",
      "4703339      0.0338563    -1       16.0997       3.10646      0.1\n",
      "5.68578      0.0323227    -1       16.1606       3.13488      0.153668\n",
      "5.68418      0.0308619    -1       16.2213       3.16327      0.160588\n",
      "5.68258      0.0294701    -1       16.2819       3.19160      0.167804\n",
      "5.68099      0.0281441    -1       16.3424       3.21989      0.175328\n",
      "5.6794       0.0268806    -1       16.4028       3.24813      0.183173\n",
      "5.67782      0.0256767    -1       16.4631       3.27632      0.191352\n",
      "5.67625      0.0245296    -1       16.5232       3.30446      0.199877\n",
      "5.67469      0.0234363    -1       16.5833       3.33256      0.208764\n",
      "5.67313      0.0223945    -1       16.6432       3.36060      0.218025\n",
      "5.67157      0.0214016    -1       16.7030       3.38860      0.227677\n",
      "5.67003      0.0204552    -1       16.7628       3.41655      0.237734\n",
      "5.66849      0.0195532    -1       16.8224       3.44445      0.248213\n",
      "5.66696      0.0186934    -1       16.8818       3.47231      0.259130\n",
      "5.66543      0.0178739    -1       16.9412       3.50011      0.270502\n",
      "5.66391      0.0170926    -1       17.0005       3.52787      0.282348\n",
      "5.6624       0.0163479    -1       17.0596       3.55557      0.294686\n",
      "5.66089      0.015638     -1       17.1187       3.58323      0.307535\n",
      "5.65939      0.0149611    -1       17.1776       3.61084      0.320915\n",
      "5.6579       0.0143159    -1       17.2364       3.63840      0.334847\n",
      "5.65641      0.0137008    -1       17.2951       3.66591      0.349352\n",
      "5.65493      0.0131143    -1       17.3537       3.69337      0.364453\n",
      "5.65346      0.0125552    -1       17.4121       3.72078      0.380171\n",
      "5.65199      0.0120222    -1       17.4705       3.74814      0.396532\n",
      "5.65053      0.0115141    -1       17.5287       3.77546      0.413560\n",
      "5.64907      0.0110296    -1       17.5869       3.80272      0.431280\n",
      "5.64907      0.0105678    -2       18.3233       4.06361      0.615265\n",
      "========================================\n",
      " Variances and Principal Axes\n",
      "                 1        2        3  \n",
      " 5.9492E-02| -0.0570  -0.4616   0.8853  \n",
      " 1.1590E+02|  0.3270  -0.8464  -0.4203  \n",
      " 2.0597E+04|  0.9433   0.2655   0.1992  \n",
      "----------------------------------------\n",
      "\n",
      "====================================\n",
      "  Covariance Matrix\n",
      "        1           2           3   \n",
      "   1.834e+04   5.127e+03   3.855e+03\n",
      "   5.127e+03   1.535e+03   1.131e+03\n",
      "   3.855e+03   1.131e+03   8.380e+02\n",
      "------------------------------------\n",
      "\n",
      "========================================================================\n",
      "Model TBabs<1>*powerlaw<2> Source No.: 1   Active/On\n",
      "Model Model Component  Parameter  Unit     Value\n",
      " par  comp\n",
      "   1    1   TBabs      nH         10^22    18.3233      +/-  135.425      \n",
      "   2    2   powerlaw   PhoIndex            4.06361      +/-  39.1820      \n",
      "   3    2   powerlaw   norm                0.615265     +/-  28.9487      \n",
      "________________________________________________________________________\n",
      "\n",
      "\n",
      "Fit statistic  : C-Statistic                  5.6491     using 10 bins.\n",
      "\n",
      "Test statistic : Chi-Squared                  4.7688     using 10 bins.\n",
      " Null hypothesis probability of 6.8815e-01 with 7 degrees of freedom\n"
     ]
    }
   ],
   "source": [
    "AllModels.clear()\n",
    "mo = Model(\"tbabs*powerlaw\")\n",
    "Fit.perform()\n",
    "Plot.device = \"/xs\"\n",
    "Plot(\"data resid\")"
   ]
  },
  {
   "cell_type": "code",
   "execution_count": 26,
   "id": "4f917501-7614-449b-b313-4ab6c7dd2aee",
   "metadata": {},
   "outputs": [
    {
     "data": {
      "text/plain": [
       "(-0.5, 857.5, 661.5, -0.5)"
      ]
     },
     "execution_count": 26,
     "metadata": {},
     "output_type": "execute_result"
    },
    {
     "data": {
      "image/png": "[encoded data removed]",
      "text/plain": [
       "<Figure size 1200x700 with 1 Axes>"
      ]
     },
     "metadata": {},
     "output_type": "display_data"
    }
   ],
   "source": [
    "img = plt.imread(glob.glob('ObsID*_SRCNUM*_E*_Spectrum_powerlaw2.png')[0])\n",
    "plt.imshow(img)\n",
    "plt.axis('off')"
   ]
  },
  {
   "cell_type": "markdown",
   "id": "ccedc18b-2d1e-4c77-ab21-4a83b5e6846c",
   "metadata": {},
   "source": [
    "## ESASky\n",
    "\n",
    "On ESASky, we observe 2 close sources a purple source and a green source. EPIC points to the system but GAIA has two pointers. https://sky.esa.int/esasky/?target=53.891302510636216%20-27.553110412917224&hips=XMM-Newton+EPIC+color&fov=0.091958931009&projection=SIN&cooframe=J2000&sci=true&lang=fr\n",
    "\n",
    "``EPIC Stack``\n",
    "\n",
    "- Stack Catalogue name : 4XMMs J033533.9-273311\n",
    "- IAU name : 4XMM J033533.8-273311\n",
    "- RA : 03h 35m 33.913s\n",
    "- DEC : -27° 33' 11.20\"\n",
    "\n",
    "``2MASS``\n",
    "\n",
    "- Name : 03353351-2733085\n",
    "- RA : 03h 35m 33.519s\n",
    "- DEC : -27° 33' 08.52\"\n",
    "\n",
    "``GAIA``\n",
    "\n",
    "**Purple source :**\n",
    "- Name : Gaia DR3 5081491845029366656\n",
    "- RA : 03h 35m 33.912s\n",
    "- DEC : -27° 33' 10.84\"\n",
    "- Parallax : -0.111 mas\n",
    "- G (mag) : 19.5084\n",
    "\n",
    "**Green source :**\n",
    "- Name : Gaia DR3 5081491845030888576\n",
    "- RA : 03h 35m 33.506s\n",
    "- DEC : -27° 33' 08.81\"\n",
    "- Parallax : 1.3353 mas\n",
    "- G (mag) : 15.1748"
   ]
  },
  {
   "cell_type": "markdown",
   "id": "75de10b2-7bb6-4d50-972e-566a5ca09757",
   "metadata": {},
   "source": [
    "## Column density nH\n",
    "### 3DNH-tool\n",
    "http://astro.uni-tuebingen.de/nh3d/nhtool\n",
    "\n",
    "**Sky coordinates (°) :** from ESASky\n",
    "- RA = 53.8913025°\n",
    "- DEC = -27.5531104°\n",
    "\n",
    "53.89 -27.55\n",
    "\n",
    "**Column density :** nH = 4*10^20 cm^-2\n",
    "\n",
    "The different models give a column density of :\n",
    "\n",
    "- bbody : nH = 2.41466*10^21\n",
    "- bremss : nH = 2.47329*10^22\n",
    "- apec : nH = 9.45954*10^21\n",
    "- powerlaw : nH = 18.3233*10^22\n",
    "\n",
    "None of the values correspond to 3DNH-tool one."
   ]
  },
  {
   "cell_type": "markdown",
   "id": "1973f13c-7580-446c-b7fe-bf273fd37c5d",
   "metadata": {},
   "source": [
    "## Flux\n",
    "### X-ray flux"
   ]
  },
  {
   "cell_type": "code",
   "execution_count": 27,
   "id": "f6ba1ee6-8282-4c45-8230-6603f9bfbae8",
   "metadata": {},
   "outputs": [
    {
     "name": "stdout",
     "output_type": "stream",
     "text": [
      " Model Flux 0.0021744 photons (1.7581e-11 ergs/cm^2/s) range (0.20000 - 12.000 keV)\n"
     ]
    }
   ],
   "source": [
    "AllModels.calcFlux(\".2 12.0\")"
   ]
  },
  {
   "cell_type": "code",
   "execution_count": 36,
   "id": "4e93ef39-9046-44fe-a12f-a84de18a36e6",
   "metadata": {},
   "outputs": [
    {
     "name": "stdout",
     "output_type": "stream",
     "text": [
      "\u001b[1mX-ray flux : \u001b[0mF_X = 1.7581e-11 ergs/cm^2/s\n"
     ]
    }
   ],
   "source": [
    "Flux = 1.7581e-11 # ergs/cm^2/s\n",
    "print(color.BOLD+\"X-ray flux : \"+color.END+f\"F_X = {Flux} ergs/cm^2/s\")"
   ]
  },
  {
   "cell_type": "markdown",
   "id": "b6c04b6e-354b-405e-a89b-9ec5a7bfd392",
   "metadata": {},
   "source": [
    "### Optical flux"
   ]
  },
  {
   "cell_type": "code",
   "execution_count": 37,
   "id": "397fd341-715f-4edb-be2c-524fc7631a46",
   "metadata": {},
   "outputs": [
    {
     "name": "stdout",
     "output_type": "stream",
     "text": [
      "\u001b[1mPurple source (GAIA)\u001b[0m\n",
      "Optical flux : 1.6513126165894818e-13 ergs/cm^2/s\n",
      "\n",
      "\u001b[1mGreen source (GAIA)\u001b[0m\n",
      "Optical flux : 8.938595799676644e-12 ergs/cm^2/s\n"
     ]
    }
   ],
   "source": [
    "def F_optical(mag):\n",
    "    F0 = 1.05*10**(-5) # GAIA zero point magnitude\n",
    "    return F0*10**(-0.4*mag)\n",
    "    \n",
    "G_purp = 19.5084\n",
    "G_green = 15.1748\n",
    "\n",
    "Flux_purp = F_optical(G_purp)\n",
    "Flux_green = F_optical(G_green)\n",
    "\n",
    "print(color.BOLD+\"Purple source (GAIA)\"+color.END)\n",
    "print(f\"Optical flux : {Flux_purp} ergs/cm^2/s\")\n",
    "print()\n",
    "print(color.BOLD+\"Green source (GAIA)\"+color.END)\n",
    "print(f\"Optical flux : {Flux_green} ergs/cm^2/s\")"
   ]
  },
  {
   "cell_type": "markdown",
   "id": "b4862022-8c14-4a97-a40d-c1d6ec1ef4b7",
   "metadata": {},
   "source": [
    "### Ratio F_x-ray/F_optical"
   ]
  },
  {
   "cell_type": "code",
   "execution_count": 38,
   "id": "6d80cdaf-2c6f-4a9d-bd06-db6e6ccd4963",
   "metadata": {},
   "outputs": [
    {
     "name": "stdout",
     "output_type": "stream",
     "text": [
      "\u001b[1mPurple source (GAIA)\u001b[0m\n",
      "Ratio F_x-ray/F_optical = 106.46681811412974\n",
      "\n",
      "\u001b[1mGreen source (GAIA)\u001b[0m\n",
      "Ratio F_x-ray/F_optical = 1.9668637439267584\n"
     ]
    }
   ],
   "source": [
    "print(color.BOLD+\"Purple source (GAIA)\"+color.END)\n",
    "print(f\"Ratio F_x-ray/F_optical = {Flux/Flux_purp}\")\n",
    "print()\n",
    "print(color.BOLD+\"Green source (GAIA)\"+color.END)\n",
    "print(f\"Ratio F_x-ray/F_optical = {Flux/Flux_green}\")"
   ]
  },
  {
   "cell_type": "markdown",
   "id": "7111df1f-2e8e-44ce-8395-de542672fd0e",
   "metadata": {},
   "source": [
    "## Luminosity"
   ]
  },
  {
   "cell_type": "code",
   "execution_count": 39,
   "id": "1835908c-16ac-4ea6-b7ee-042a15dc5bf1",
   "metadata": {},
   "outputs": [
    {
     "name": "stdout",
     "output_type": "stream",
     "text": [
      "\u001b[1mPurple source (GAIA)\u001b[0m\n",
      "Distance : 2.77990990990991e+22 cm\n",
      "Luminosity : 1.707319817588138e+35 erg/s\n",
      "\n",
      "\u001b[1mGreen source (GAIA)\u001b[0m\n",
      "Distance : 2.3108664719538683e+21 cm\n",
      "Luminosity : 1.1797857356368492e+33 erg/s\n"
     ]
    }
   ],
   "source": [
    "\"\"\"GAIA purple source\"\"\"\n",
    "\n",
    "P_mas = 0.111 # Parallaxe en mas\n",
    "d_kpc = 1/P_mas # Distance en kpc\n",
    "d_cm = d_kpc*3.0857*10**21 # Distance en cm, avec 1 pc = 3.0857*10^18 cm\n",
    "\n",
    "# La source est supposée sphérique pour le calcul de la luminosité : L = 4*pi*F*D^2\n",
    "Luminosity = 4*np.pi*Flux*(d_cm)**2 # erg/s\n",
    "\n",
    "print(color.BOLD+\"Purple source (GAIA)\"+color.END)\n",
    "print(f\"Distance : {d_cm} cm\")\n",
    "print(f\"Luminosity : {Luminosity} erg/s\")\n",
    "\n",
    "\"\"\"GAIA green source\"\"\"\n",
    "\n",
    "P_mas = 1.3353 # Parallaxe en mas\n",
    "d_kpc = 1/P_mas # Distance en kpc\n",
    "d_cm = d_kpc*3.0857*10**21 # Distance en cm, avec 1 pc = 3.0857*10^18 cm\n",
    "\n",
    "# La source est supposée sphérique pour le calcul de la luminosité : L = 4*pi*F*D^2\n",
    "Luminosity = 4*np.pi*Flux*(d_cm)**2 # erg/s\n",
    "print()\n",
    "print(color.BOLD+\"Green source (GAIA)\"+color.END)\n",
    "print(f\"Distance : {d_cm} cm\")\n",
    "print(f\"Luminosity : {Luminosity} erg/s\")"
   ]
  }
 ],
 "metadata": {
  "kernelspec": {
   "display_name": "Python 3 (ipykernel)",
   "language": "python",
   "name": "python3"
  },
  "language_info": {
   "codemirror_mode": {
    "name": "ipython",
    "version": 3
   },
   "file_extension": ".py",
   "mimetype": "text/x-python",
   "name": "python",
   "nbconvert_exporter": "python",
   "pygments_lexer": "ipython3",
   "version": "3.10.12"
  }
 },
 "nbformat": 4,
 "nbformat_minor": 5
}
