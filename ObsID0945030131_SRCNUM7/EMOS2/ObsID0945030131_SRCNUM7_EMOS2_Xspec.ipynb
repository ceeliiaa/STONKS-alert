{
 "cells": [
  {
   "cell_type": "markdown",
   "id": "c521860a-0601-4bc3-b8cc-119c1d638a4c",
   "metadata": {},
   "source": [
    "# ObsID : 0945030131, SRCNUM : 7, Instru : EMOS2\n",
    "Not on Simbad"
   ]
  },
  {
   "cell_type": "code",
   "execution_count": 1,
   "id": "a601bb92-6ab6-4642-bab7-b8cb9c6656a1",
   "metadata": {},
   "outputs": [
    {
     "name": "stdout",
     "output_type": "stream",
     "text": [
      "Default fit statistic is set to: Chi-Squared\n",
      "   This will apply to all current and newly loaded spectra.\n",
      "Parameter delta values for fits will now be 0.0001 * parValue\n"
     ]
    }
   ],
   "source": [
    "from xspec import *\n",
    "from stingray import Lightcurve\n",
    "from astropy.io import fits\n",
    "import matplotlib.pyplot as plt\n",
    "import matplotlib.image as mpimg\n",
    "import glob\n",
    "import numpy as np\n",
    "\n",
    "class color:\n",
    "   PURPLE = '\\033[95m'\n",
    "   CYAN = '\\033[96m'\n",
    "   DARKCYAN = '\\033[36m'\n",
    "   BLUE = '\\033[94m'\n",
    "   GREEN = '\\033[92m'\n",
    "   YELLOW = '\\033[93m'\n",
    "   RED = '\\033[91m'\n",
    "   BOLD = '\\033[1m'\n",
    "   UNDERLINE = '\\033[4m'\n",
    "   END = '\\033[0m'\n",
    "\n",
    "plt.rcParams['figure.figsize'] = [12,7]\n",
    "\n",
    "Fit.statMethod = \"chi\"\n",
    "Fit.nIterations = 100000\n",
    "Fit.delta = 1e-4\n",
    "Fit.criticalDelta = 1e-4"
   ]
  },
  {
   "cell_type": "markdown",
   "id": "b3bef4aa-73a9-461c-8ae3-51c5bfa0a578",
   "metadata": {},
   "source": [
    "## Load files\n",
    "Spectrum, Background, Response, Auxiliary response."
   ]
  },
  {
   "cell_type": "code",
   "execution_count": 2,
   "id": "edd8268e-eb42-436c-b895-c44b2c6335b7",
   "metadata": {},
   "outputs": [
    {
     "name": "stdout",
     "output_type": "stream",
     "text": [
      "***Warning: Detected response matrix energy bin value = 0 (or neg).\n",
      "     XSPEC will instead use small finite value (response file will not be altered).\n",
      "\n",
      "1 spectrum  in use\n",
      " \n",
      "Spectral Data File: ObsID0945030131_SRCNUM7_EMOS2_spectrum_grp.fits  Spectrum 1\n",
      "Net count rate (cts/s) for Spectrum:1  4.787e-03 +/- 6.825e-04 (77.9 % total)\n",
      " Assigned to Data Group 1 and Plot Group 1\n",
      "  Noticed Channels:  1-3\n",
      "  Telescope: XMM Instrument: EMOS2  Channel Type: PI\n",
      "  Exposure Time: 1.4e+04 sec\n",
      " Using fit statistic: chi\n",
      " Using Background File                ObsID0945030131_SRCNUM7_EMOS2_background_spectrum.fits\n",
      "  Background Exposure Time: 1.398e+04 sec\n",
      " Using Response (RMF) File            ObsID0945030131_SRCNUM7_EMOS2.rmf for Source 1\n",
      " Using Auxiliary Response (ARF) File  ObsID0945030131_SRCNUM7_EMOS2.arf\n",
      "\n"
     ]
    },
    {
     "data": {
      "text/plain": [
       "<xspec.spectrum.Spectrum at 0x7f427c30f5b0>"
      ]
     },
     "execution_count": 2,
     "metadata": {},
     "output_type": "execute_result"
    }
   ],
   "source": [
    "Spectrum(glob.glob('ObsID*_SRCNUM*_E*_spectrum_grp.fits')[0])"
   ]
  },
  {
   "cell_type": "markdown",
   "id": "880eb92a-eaeb-4001-aa06-0eedfec69043",
   "metadata": {},
   "source": [
    "## Plot spectrum"
   ]
  },
  {
   "cell_type": "code",
   "execution_count": 3,
   "id": "4cc37457-f72a-4881-89d5-828fd66fd023",
   "metadata": {},
   "outputs": [],
   "source": [
    "Plot.xAxis=\"keV\"\n",
    "Plot.device = \"/xs\"\n",
    "Plot.xLog=True\n",
    "Plot.yLog=True\n",
    "Plot.addCommand(\"Rescale Y 0.00001 0.005\")\n",
    "Plot(\"data\")"
   ]
  },
  {
   "cell_type": "code",
   "execution_count": 4,
   "id": "9c969a35-f1e5-4704-ab87-c986550b4334",
   "metadata": {},
   "outputs": [
    {
     "data": {
      "text/plain": [
       "(-0.5, 856.5, 661.5, -0.5)"
      ]
     },
     "execution_count": 4,
     "metadata": {},
     "output_type": "execute_result"
    },
    {
     "data": {
      "image/png": "[encoded data removed]",
      "text/plain": [
       "<Figure size 1200x700 with 1 Axes>"
      ]
     },
     "metadata": {},
     "output_type": "display_data"
    }
   ],
   "source": [
    "img = plt.imread(glob.glob('ObsID*_SRCNUM*_E*_Spectrum.png')[0])\n",
    "plt.imshow(img)\n",
    "plt.axis('off')"
   ]
  },
  {
   "cell_type": "markdown",
   "id": "98519803-5052-4cb4-bfe7-7dad39416519",
   "metadata": {},
   "source": [
    "### Black body model"
   ]
  },
  {
   "cell_type": "code",
   "execution_count": 5,
   "id": "6c48de73-4acc-4052-9c2b-705487b7395c",
   "metadata": {},
   "outputs": [
    {
     "name": "stdout",
     "output_type": "stream",
     "text": [
      "\n",
      "========================================================================\n",
      "Model TBabs<1>*bbody<2> Source No.: 1   Active/On\n",
      "Model Model Component  Parameter  Unit     Value\n",
      " par  comp\n",
      "   1    1   TBabs      nH         10^22    1.00000      +/-  0.0          \n",
      "   2    2   bbody      kT         keV      3.00000      +/-  0.0          \n",
      "   3    2   bbody      norm                1.00000      +/-  0.0          \n",
      "________________________________________________________________________\n",
      "\n",
      "tbvabs Version 2.3\n",
      "Cosmic absorption with grains and H2, modified from\n",
      "Wilms, Allen, & McCray, 2000, ApJ 542, 914-924\n",
      "Questions: Joern Wilms\n",
      "joern.wilms@sternwarte.uni-erlangen.de\n",
      "joern.wilms@fau.de\n",
      "\n",
      "http://pulsar.sternwarte.uni-erlangen.de/wilms/research/tbabs/\n",
      "\n",
      "PLEASE NOTICE:\n",
      "To get the model described by the above paper\n",
      "you will also have to set the abundances:\n",
      "   abund wilm\n",
      "\n",
      "Note that this routine ignores the current cross section setting\n",
      "as it always HAS to use the Verner cross sections as a baseline.\n",
      "\n",
      "Fit statistic  : Chi-Squared              4.278281e+11     using 3 bins.\n",
      "\n",
      "Test statistic : Chi-Squared              4.278281e+11     using 3 bins.\n",
      " Cannot calculate null hypothesis probability.\n",
      " Current data and model not fit yet.\n",
      "                                   Parameters\n",
      "Chi-Squared  |beta|/N    Lvl          1:nH          2:kT        3:norm\n",
      "34.7596      0.155023      0      0.433417       3.06693   5.61700e-06\n",
      "34.5439      41062.7       0      0.183516       3.18354   5.07782e-06\n",
      "33.7969      169277        0     0.0699339       3.16151   5.14275e-06\n",
      "33.3017      155296        0     0.0145870       3.14380   5.19157e-06\n",
      "33.1053      143952        0    0.00145626       3.12859   5.23083e-06\n",
      "33.0292      131757        0   0.000675178       3.11542   5.26288e-06\n",
      "32.972       119940        0   0.000295028       3.10411   5.28840e-06\n",
      "32.9281      109763        0   0.000109089       3.09435   5.30845e-06\n",
      "32.8938      101050        0   1.77911e-05       3.08585   5.32396e-06\n",
      "32.867       93613.7       0   6.55019e-06       3.07840   5.33566e-06\n",
      "32.8455      87279.4       0   1.00003e-06       3.07183   5.34419e-06\n",
      "32.828       81906.4       0   3.13594e-07       3.06598   5.35007e-06\n",
      "32.8136      77353.3       0   1.43519e-07       3.06073   5.35373e-06\n",
      "32.8016      73497.3       0   5.91277e-08       3.05597   5.35553e-06\n",
      "32.7915      70235.3       0   1.72048e-08       3.05162   5.35578e-06\n",
      "32.783       67480.5       0   6.78177e-09       3.04763   5.35472e-06\n",
      "32.7757      65157.9       0   1.59484e-09       3.04393   5.35256e-06\n",
      "32.7694      63200.4       0   3.03226e-10       3.04047   5.34948e-06\n",
      "32.7639      61551.9       0   1.42322e-10       3.03721   5.34563e-06\n",
      "32.759       60165.4       0   6.21064e-11       3.03412   5.34113e-06\n",
      "32.7547      59001.6       0   2.21242e-11       3.03118   5.33608e-06\n",
      "32.7508      58029.7       0   2.19459e-12       3.02836   5.33057e-06\n",
      "32.7472      57215.8       0   9.47006e-13       3.02564   5.32468e-06\n",
      "32.7438      56539         0   2.77528e-13       3.02296   5.31869e-06\n",
      "32.7401      55902         0   9.38540e-14       3.02019   5.31315e-06\n",
      "32.7367      55119.8       0   3.91388e-14       3.01751   5.3069"
     ]
    },
    {
     "name": "stderr",
     "output_type": "stream",
     "text": [
      "GammQ: A <=  0\n",
      "GammQ: A <=  0\n"
     ]
    },
    {
     "name": "stdout",
     "output_type": "stream",
     "text": [
      "2e-06\n",
      "32.7337      54525.1       0   2.86242e-15       3.01492   5.30039e-06\n",
      "32.722       54043.4       0   1.04493e-15       3.00950   5.30414e-06\n",
      "32.7045      49656.2       0   1.24125e-16       2.99431   5.26698e-06\n",
      "32.5086      46485.1      -1   3.55528e-17       2.79833   4.67832e-06\n",
      "29.4369      28009.5      -2   6.23753e-18       1.03261   1.58917e-06\n",
      "22.685       2.94743e+06  -3   2.83682e-18      0.171102   7.64491e-07\n",
      "***Warning: Zero alpha-matrix diagonal element for parameter 1\n",
      " Parameter 1 is pegged at 2.83682e-18 due to zero or negative pivot element, likely\n",
      " caused by the fit being insensitive to the parameter.\n",
      "6.09901      1.02324e+07  -4   2.83682e-18      0.245129   6.00995e-07\n",
      "0.905228     4.98881e+06  -5   2.83682e-18      0.315438   7.48082e-07\n",
      "0.636815     1.82283e+06  -6   2.83682e-18      0.328232   8.03389e-07\n",
      "0.635428     56757.1      -7   2.83682e-18      0.329633   8.05953e-07\n",
      "0.635405     538.922      -8   2.83682e-18      0.329827   8.06119e-07\n",
      "***Warning: Zero alpha-matrix diagonal element for parameter 1\n",
      " Parameter 1 is pegged at 2.83682e-18 due to zero or negative pivot element, likely\n",
      " caused by the fit being insensitive to the parameter.\n",
      "0.635405     17.2652      -3   2.83682e-18      0.329854   8.06141e-07\n",
      "==============================\n",
      " Variances and Principal Axes\n",
      "                 2        3  \n",
      " 1.2984E-14| -0.0000   1.0000  \n",
      " 1.8459E-03|  1.0000   0.0000  \n",
      "------------------------------\n",
      "\n",
      "========================\n",
      "  Covariance Matrix\n",
      "        1           2   \n",
      "   1.846e-03   1.447e-09\n",
      "   1.447e-09   1.412e-14\n",
      "------------------------\n",
      "\n",
      "========================================================================\n",
      "Model TBabs<1>*bbody<2> Source No.: 1   Active/On\n",
      "Model Model Component  Parameter  Unit     Value\n",
      " par  comp\n",
      "   1    1   TBabs      nH         10^22    2.83682E-18  +/-  -1.00000     \n",
      "   2    2   bbody      kT         keV      0.329854     +/-  4.29641E-02  \n",
      "   3    2   bbody      norm                8.06141E-07  +/-  1.18819E-07  \n",
      "________________________________________________________________________\n",
      "\n",
      "\n",
      "Fit statistic  : Chi-Squared                  0.6354     using 3 bins.\n",
      "\n",
      "Test statistic : Chi-Squared                  0.6354     using 3 bins.\n",
      " Cannot calculate null hypothesis probability.\n"
     ]
    }
   ],
   "source": [
    "AllModels.clear()\n",
    "mo = Model(\"tbabs*bbody\")\n",
    "Fit.perform()\n",
    "Plot.device = \"/xs\"\n",
    "Plot(\"data resid\")"
   ]
  },
  {
   "cell_type": "code",
   "execution_count": 6,
   "id": "b812c488-a25f-452a-83e1-1ffb5945cd27",
   "metadata": {},
   "outputs": [
    {
     "data": {
      "text/plain": [
       "(-0.5, 856.5, 660.5, -0.5)"
      ]
     },
     "execution_count": 6,
     "metadata": {},
     "output_type": "execute_result"
    },
    {
     "data": {
      "image/png": "[encoded data removed]",
      "text/plain": [
       "<Figure size 1200x700 with 1 Axes>"
      ]
     },
     "metadata": {},
     "output_type": "display_data"
    }
   ],
   "source": [
    "img = plt.imread(glob.glob('ObsID*_SRCNUM*_E*_Spectrum_bbody.png')[0])\n",
    "plt.imshow(img)\n",
    "plt.axis('off')"
   ]
  },
  {
   "cell_type": "markdown",
   "id": "ff9fb499-d3ba-410c-b6c2-12f7d4ac82a0",
   "metadata": {},
   "source": [
    "### Bremsstrahlung model"
   ]
  },
  {
   "cell_type": "code",
   "execution_count": 7,
   "id": "f00f133a-c83a-4c92-9f10-4b5f63f74b3e",
   "metadata": {},
   "outputs": [
    {
     "name": "stdout",
     "output_type": "stream",
     "text": [
      "\n",
      "========================================================================\n",
      "Model TBabs<1>*bremss<2> Source No.: 1   Active/On\n",
      "Model Model Component  Parameter  Unit     Value\n",
      " par  comp\n",
      "   1    1   TBabs      nH         10^22    1.00000      +/-  0.0          \n",
      "   2    2   bremss     kT         keV      7.00000      +/-  0.0          \n",
      "   3    2   bremss     norm                1.00000      +/-  0.0          \n",
      "________________________________________________________________________\n",
      "\n",
      "\n",
      "Fit statistic  : Chi-Squared              2.160822e+10     using 3 bins.\n",
      "\n",
      "Test statistic : Chi-Squared              2.160822e+10     using 3 bins.\n",
      " Cannot calculate null hypothesis probability.\n",
      " Current data and model not fit yet.\n",
      "                                   Parameters\n",
      "Chi-Squared  |beta|/N    Lvl          1:nH          2:kT        3:norm\n",
      "16.0627      1.27943      -2     0.0202340       3.41836   1.25614e-05\n",
      "10.0406      322987       -3      0.117982       1.01528   4.00859e-05\n",
      "0.768398     103692       -4     0.0489758       1.43780   4.80096e-05\n",
      "0.0153802    39668.5      -5     0.0751527       1.30323   5.13145e-05\n",
      "1.50347e-05  546.088      -6     0.0824644       1.29007   5.28840e-"
     ]
    },
    {
     "name": "stderr",
     "output_type": "stream",
     "text": [
      "GammQ: A <=  0\n",
      "GammQ: A <=  0\n"
     ]
    },
    {
     "name": "stdout",
     "output_type": "stream",
     "text": [
      "05\n",
      "4.36764e-10  47.6298      -7     0.0827254       1.28937   5.29580e-05\n",
      "========================================\n",
      " Variances and Principal Axes\n",
      "                 1        2        3  \n",
      " 5.5196E-11| -0.0002   0.0000   1.0000  \n",
      " 2.6341E-03|  0.9946   0.1039   0.0002  \n",
      " 7.8376E-01| -0.1039   0.9946  -0.0000  \n",
      "----------------------------------------\n",
      "\n",
      "====================================\n",
      "  Covariance Matrix\n",
      "        1           2           3   \n",
      "   1.107e-02  -8.071e-02   4.326e-06\n",
      "  -8.071e-02   7.753e-01  -3.712e-05\n",
      "   4.326e-06  -3.712e-05   1.912e-09\n",
      "------------------------------------\n",
      "\n",
      "========================================================================\n",
      "Model TBabs<1>*bremss<2> Source No.: 1   Active/On\n",
      "Model Model Component  Parameter  Unit     Value\n",
      " par  comp\n",
      "   1    1   TBabs      nH         10^22    8.27254E-02  +/-  0.105191     \n",
      "   2    2   bremss     kT         keV      1.28937      +/-  0.880528     \n",
      "   3    2   bremss     norm                5.29580E-05  +/-  4.37290E-05  \n",
      "________________________________________________________________________\n",
      "\n",
      "\n",
      "Fit statistic  : Chi-Squared                   4e-10     using 3 bins.\n",
      "\n",
      "Test statistic : Chi-Squared                   4e-10     using 3 bins.\n",
      " Cannot calculate null hypothesis probability.\n"
     ]
    }
   ],
   "source": [
    "AllModels.clear()\n",
    "mo = Model(\"tbabs*bremss\")\n",
    "Fit.perform()\n",
    "Plot.device = \"/xs\"\n",
    "Plot(\"data resid\")"
   ]
  },
  {
   "cell_type": "code",
   "execution_count": 8,
   "id": "5a01f0db-125c-4088-93f6-bd89994faa69",
   "metadata": {},
   "outputs": [
    {
     "data": {
      "text/plain": [
       "(-0.5, 857.5, 665.5, -0.5)"
      ]
     },
     "execution_count": 8,
     "metadata": {},
     "output_type": "execute_result"
    },
    {
     "data": {
      "image/png": "[encoded data removed]",
      "text/plain": [
       "<Figure size 1200x700 with 1 Axes>"
      ]
     },
     "metadata": {},
     "output_type": "display_data"
    }
   ],
   "source": [
    "img = plt.imread(glob.glob('ObsID*_SRCNUM*_E*_Spectrum_bremss.png')[0])\n",
    "plt.imshow(img)\n",
    "plt.axis('off')"
   ]
  },
  {
   "cell_type": "markdown",
   "id": "3edcca3a-8165-4c61-80ed-0b4b4087c8c3",
   "metadata": {},
   "source": [
    "### Apec model"
   ]
  },
  {
   "cell_type": "code",
   "execution_count": 9,
   "id": "629f01ff-336d-445c-8328-31a864f052a1",
   "metadata": {},
   "outputs": [
    {
     "name": "stdout",
     "output_type": "stream",
     "text": [
      "\n",
      "========================================================================\n",
      "Model TBabs<1>*apec<2> Source No.: 1   Active/On\n",
      "Model Model Component  Parameter  Unit     Value\n",
      " par  comp\n",
      "   1    1   TBabs      nH         10^22    1.00000      +/-  0.0          \n",
      "   2    2   apec       kT         keV      1.00000      +/-  0.0          \n",
      "   3    2   apec       Abundanc            1.00000      frozen\n",
      "   4    2   apec       Redshift            0.0          frozen\n",
      "   5    2   apec       norm                1.00000      +/-  0.0          \n",
      "________________________________________________________________________\n",
      "\n",
      "Reading APEC data from 3.0.9\n",
      "\n",
      "\n",
      "Fit statistic  : Chi-Squared              2.183809e+09     using 3 bins.\n",
      "\n",
      "Test statistic : Chi-Squared              2.183809e+09     using 3 bins.\n",
      " Cannot calculate null hypothesis probability.\n",
      " Current data and model not fit yet.\n",
      "                                   Parameters\n",
      "Chi-Squared  |beta|/N    Lvl          1:nH          2:kT        5:norm\n",
      "12.173       2.14478      -1       1.04335      0.678292   0.000154361\n",
      "6.85278      17747.1      -1      0.869372      0.564603   0.000197071\n",
      "6.54094      1494.48      -2      0.747028      0.596493   0.000139651\n",
      "6.12812      4687.87      -1      0.719297      0.536439   0.000153505\n",
      "6.04293      2215.15      -1      0.696518      0.545117   0.000146800\n",
      "6.02103      307.365      -1      0.683177      0.527151   0.000147531\n",
      "5.98717      197.17       -1      0.669951      0.536448   0.000140713\n",
      "5.96612      315.551      -1      0.659490      0.542409   0.000135429\n",
      "5.96041      305.105      -1      0.650649      0.546837   0.000131275\n",
      "5.95973      266.517      -1      0.645056      0.529467   0.000133809\n",
      "5.9421       383.664      -1      0.638132      0.539689   0.000129366\n",
      "5.93964      265.749      -1      0.632901      0.545974   0.000125964\n",
      "5.93467      240.076       0      0.631605      0.542241   0.000126134\n",
      "5.93336      178.469       0      0.630861      0.543281   0.000125971\n",
      "5.93332      151.348       0      0.630387      0.543959   0.000125725\n",
      "========================================\n",
      " Variances and Principal Axes\n",
      "                 1        2        5  \n",
      " 3.5370E-10| -0.0003   0.0003   1.0000  \n",
      " 1.8209E-02|  0.7778   0.6285   0.0001  \n",
      " 2.3865E+01| -0.6285   0.7778  -0.0004  \n",
      "----------------------------------------\n",
      "\n",
      "====================================\n",
      "  Covariance Matrix\n",
      "        1           2           3   \n",
      "   9.438e+00  -1.166e+01   6.119e-03\n",
      "  -1.166e+01   1.445e+01  -7.571e-03\n",
      "   6.119e-03  -7.571e-03   3.971e-06\n",
      "------------------------------------\n",
      "\n",
      "========================================================================\n",
      "Model TBabs<1>*apec<2> Source No.: 1   Active/On\n",
      "Model Model Component  Parameter  Unit     Value\n",
      " par  comp\n",
      "   1    1   TBabs      nH         10^22    0.630387     +/-  3.07221      \n",
      "   2    2   apec       kT         keV      0.543959     +/-  3.80068      \n",
      "   3    2   apec       Abundanc            1.00000      frozen\n",
      "   4    2   apec       Redshift            0.0          frozen\n",
      "   5    2   apec       norm                1.25725E-04  +/-  1.99270E-03  \n",
      "________________________________________________________________________\n",
      "\n",
      "\n",
      "Fit statistic  : Chi-Squared                  5.9333     using 3 bins.\n",
      "\n",
      "Test statistic : Chi-Squared                  5.9333     using 3 bins.\n",
      " Cannot calculate null hypothesis probability.\n"
     ]
    },
    {
     "name": "stderr",
     "output_type": "stream",
     "text": [
      "GammQ: A <=  0\n",
      "GammQ: A <=  0\n"
     ]
    }
   ],
   "source": [
    "AllModels.clear()\n",
    "mo = Model(\"tbabs*apec\")\n",
    "Fit.perform()\n",
    "Plot.device = \"/xs\"\n",
    "Plot(\"data resid\")"
   ]
  },
  {
   "cell_type": "code",
   "execution_count": 10,
   "id": "390919ae-47f5-49fe-9876-3bcf74b2d2fb",
   "metadata": {},
   "outputs": [
    {
     "data": {
      "text/plain": [
       "(-0.5, 862.5, 665.5, -0.5)"
      ]
     },
     "execution_count": 10,
     "metadata": {},
     "output_type": "execute_result"
    },
    {
     "data": {
      "image/png": "[encoded data removed]",
      "text/plain": [
       "<Figure size 1200x700 with 1 Axes>"
      ]
     },
     "metadata": {},
     "output_type": "display_data"
    }
   ],
   "source": [
    "img = plt.imread(glob.glob('ObsID*_SRCNUM*_E*_Spectrum_apec.png')[0])\n",
    "plt.imshow(img)\n",
    "plt.axis('off')"
   ]
  },
  {
   "cell_type": "markdown",
   "id": "9f19aeb6-3c27-44a9-8ad3-a2eb2777e421",
   "metadata": {},
   "source": [
    "### Powerlaw model"
   ]
  },
  {
   "cell_type": "code",
   "execution_count": 11,
   "id": "85b08776-73cd-4f36-a843-c34effff4655",
   "metadata": {},
   "outputs": [
    {
     "name": "stdout",
     "output_type": "stream",
     "text": [
      "\n",
      "========================================================================\n",
      "Model TBabs<1>*powerlaw<2> Source No.: 1   Active/On\n",
      "Model Model Component  Parameter  Unit     Value\n",
      " par  comp\n",
      "   1    1   TBabs      nH         10^22    1.00000      +/-  0.0          \n",
      "   2    2   powerlaw   PhoIndex            1.00000      +/-  0.0          \n",
      "   3    2   powerlaw   norm                1.00000      +/-  0.0          \n",
      "________________________________________________________________________\n",
      "\n",
      "\n",
      "Fit statistic  : Chi-Squared              1.348018e+11     using 3 bins.\n",
      "\n",
      "Test statistic : Chi-Squared              1.348018e+11     using 3 bins.\n",
      " Cannot calculate null hypothesis probability.\n",
      " Current data and model not fit yet.\n",
      "                                   Parameters\n",
      "Chi-Squared  |beta|/N    Lvl          1:nH    2:PhoIndex        3:norm\n",
      "28.0604      0.930556      0      0.452284       1.12647   1.06136e-05\n",
      "26.3156      97509        -1      0.132665       1.64119   7.74982e-06\n",
      "5.49562      406006       -1     0.0492512       2.06248   1.61162e-05\n",
      "1.08337      213758       -2      0.152689       2.77859   3.11072e-05\n",
      "0.0514809    62045.5      -3      0.206737       2.95767   4.19313e-05\n",
      "1.71713e-07  12414.8      -4      0.206590       2.96086   4.33032e-05\n",
      "6.03769e-15  1.48151      -5      0.206616       2.96087   4.33065e-05\n",
      "========================================\n",
      " Variances and Principal Axes\n",
      "                 1        2        3  \n",
      " 3.6997E-11| -0.0001  -0.0000   1.0000  \n",
      " 3.3937E-03|  0.9847  -0.1743   0.0001  \n",
      " 1.0241E+00|  0.1743   0.9847   0.0000  \n",
      "----------------------------------------\n",
      "\n",
      "====================================\n",
      "  Covariance Matrix\n",
      "        1           2           3   \n",
      "   3.440e-02   1.752e-01   5.198e-06\n",
      "   1.752e-01   9.931e-01   2.686e-05\n",
      "   5.198e-06   2.686e-05   8.238e-10\n",
      "------------------------------------\n",
      "\n",
      "========================================================================\n",
      "Model TBabs<1>*powerlaw<2> Source No.: 1   Active/On\n",
      "Model Model Component  Parameter  Unit     Value\n",
      " par  comp\n",
      "   1    1   TBabs      nH         10^22    0.206616     +/-  0.185478     \n",
      "   2    2   powerlaw   PhoIndex            2.96087      +/-  0.996541     \n",
      "   3    2   powerlaw   norm                4.33065E-05  +/-  2.87017E-05  \n",
      "________________________________________________________________________\n",
      "\n",
      "\n",
      "Fit statistic  : Chi-Squared                   6e-15     using 3 bins.\n",
      "\n",
      "Test statistic : Chi-Squared                   6e-15     using 3 bins.\n",
      " Cannot"
     ]
    },
    {
     "name": "stderr",
     "output_type": "stream",
     "text": [
      "GammQ: A <=  0\n",
      "GammQ: A <=  0\n"
     ]
    },
    {
     "name": "stdout",
     "output_type": "stream",
     "text": [
      " calculate null hypothesis probability.\n"
     ]
    }
   ],
   "source": [
    "AllModels.clear()\n",
    "mo = Model(\"tbabs*powerlaw\")\n",
    "Fit.perform()\n",
    "Plot.device = \"/xs\"\n",
    "Plot(\"data resid\")"
   ]
  },
  {
   "cell_type": "code",
   "execution_count": 12,
   "id": "08ed2434-c41d-4349-9de0-d2e51a747b34",
   "metadata": {},
   "outputs": [
    {
     "data": {
      "text/plain": [
       "(-0.5, 860.5, 666.5, -0.5)"
      ]
     },
     "execution_count": 12,
     "metadata": {},
     "output_type": "execute_result"
    },
    {
     "data": {
      "image/png": "[encoded data removed]",
      "text/plain": [
       "<Figure size 1200x700 with 1 Axes>"
      ]
     },
     "metadata": {},
     "output_type": "display_data"
    }
   ],
   "source": [
    "img = plt.imread(glob.glob('ObsID*_SRCNUM*_E*_Spectrum_powerlaw.png')[0])\n",
    "plt.imshow(img)\n",
    "plt.axis('off')"
   ]
  },
  {
   "cell_type": "markdown",
   "id": "c404b996-c273-4f68-a4b2-5b526c4027e0",
   "metadata": {},
   "source": [
    "## Flux"
   ]
  },
  {
   "cell_type": "code",
   "execution_count": 13,
   "id": "7509b2e9-7ca8-4af4-a044-6e88fd3e45c6",
   "metadata": {},
   "outputs": [
    {
     "name": "stdout",
     "output_type": "stream",
     "text": [
      " Model Flux 4.5643e-05 photons (8.4987e-14 ergs/cm^2/s) range (0.20000 - 12.000 keV)\n"
     ]
    }
   ],
   "source": [
    "AllModels.calcFlux(\".2 12.0\")"
   ]
  },
  {
   "cell_type": "code",
   "execution_count": 14,
   "id": "188f0c9e-abca-407f-b959-8fd675cb4e61",
   "metadata": {},
   "outputs": [],
   "source": [
    "Flux = 8.4987e-14 # ergs/cm^2/s"
   ]
  },
  {
   "cell_type": "markdown",
   "id": "80ca441e-c01d-4098-909e-433bf8b19c1a",
   "metadata": {},
   "source": [
    "### ESASky\n",
    "There are two EPIC Stack pointers on two extremely close sources: one light green/blue and one blue. https://sky.esa.int/esasky/?target=52.38566666666666%20-28.617833333333333&hips=XMM-Newton+EPIC+color&fov=1&projection=SIN&cooframe=J2000&sci=true&lang=fr\n",
    "\n",
    "**Green source**\n",
    "\n",
    "``EPIC Stack``\n",
    "- Stack Catalogue name : 4XMMs J032932.2-283705\n",
    "- IAU name : 4XMM J032932.3-283705\n",
    "- RA : 03h 29m 32.247s\n",
    "- DEC : -28° 37' 05.84\"\n",
    "\n",
    "**Blue source**\n",
    "\n",
    "``EPIC Stack``\n",
    "- Stack Catalogue name : 4XMMs J032933.0-283717\n",
    "- IAU name : 4XMM J032933.1-283720\n",
    "- RA : 03h 29m 33.006s\n",
    "- DEC : -28° 37' 17.85\"\""
   ]
  },
  {
   "cell_type": "markdown",
   "id": "a795f6f5-db41-4d8f-88db-605ec3106cbb",
   "metadata": {},
   "source": [
    "### Luminosity\n",
    "No distance or parallax is available on ESASky."
   ]
  }
 ],
 "metadata": {
  "kernelspec": {
   "display_name": "Python [conda env:base] *",
   "language": "python",
   "name": "conda-base-py"
  },
  "language_info": {
   "codemirror_mode": {
    "name": "ipython",
    "version": 3
   },
   "file_extension": ".py",
   "mimetype": "text/x-python",
   "name": "python",
   "nbconvert_exporter": "python",
   "pygments_lexer": "ipython3",
   "version": "3.12.3"
  }
 },
 "nbformat": 4,
 "nbformat_minor": 5
}
