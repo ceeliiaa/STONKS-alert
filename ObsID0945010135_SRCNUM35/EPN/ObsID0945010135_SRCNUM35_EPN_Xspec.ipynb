{
 "cells": [
  {
   "cell_type": "markdown",
   "id": "a09472f9-b7b4-4047-9978-0b5adf3b464f",
   "metadata": {},
   "source": [
    "# ObsID : 0945010135, SRCNUM : 35, Instru : EPN\n",
    "Not on Simbad."
   ]
  },
  {
   "cell_type": "markdown",
   "id": "b2938a57-e480-44f2-beb4-62ccb751f8f8",
   "metadata": {},
   "source": [
    "## ESASky\n",
    "https://sky.esa.int/esasky/?target=53.64433333333333%20-27.827944444444444&hips=XMM-Newton+EPIC+color&fov=1&projection=SIN&cooframe=J2000&sci=true&lang=fr\n",
    "\n",
    "``EPIC Stack``\n",
    "\n",
    "- Stack Catalogue name : 4XMMs J033434.6-274942\n",
    "- RA : 03h 34m 34.643s\n",
    "- DEC : -27° 49' 42.15\""
   ]
  },
  {
   "cell_type": "code",
   "execution_count": 1,
   "id": "311ae079-ccd8-41c3-aac4-08c99f67b431",
   "metadata": {},
   "outputs": [],
   "source": [
    "from xspec import *\n",
    "from stingray import Lightcurve\n",
    "from astropy.io import fits\n",
    "import matplotlib.pyplot as plt\n",
    "import matplotlib.image as mpimg\n",
    "import glob\n",
    "import numpy as np\n",
    "\n",
    "class color:\n",
    "   PURPLE = '\\033[95m'\n",
    "   CYAN = '\\033[96m'\n",
    "   DARKCYAN = '\\033[36m'\n",
    "   BLUE = '\\033[94m'\n",
    "   GREEN = '\\033[92m'\n",
    "   YELLOW = '\\033[93m'\n",
    "   RED = '\\033[91m'\n",
    "   BOLD = '\\033[1m'\n",
    "   UNDERLINE = '\\033[4m'\n",
    "   END = '\\033[0m'\n",
    "\n",
    "plt.rcParams['figure.figsize'] = [12,7]"
   ]
  },
  {
   "cell_type": "markdown",
   "id": "c18e609e-b179-485c-8611-5e1494a09e80",
   "metadata": {},
   "source": [
    "## Fit statistic"
   ]
  },
  {
   "cell_type": "code",
   "execution_count": 2,
   "id": "be45bf2f-0586-4dce-b20a-42d7f1eb0645",
   "metadata": {},
   "outputs": [
    {
     "name": "stdout",
     "output_type": "stream",
     "text": [
      "Default fit statistic is set to: Chi-Squared\n",
      "   This will apply to all current and newly loaded spectra.\n",
      "Parameter delta values for fits will now be 0.0001 * parValue\n"
     ]
    }
   ],
   "source": [
    "Fit.statMethod = \"chi\"\n",
    "Fit.nIterations = 100000\n",
    "Fit.delta = 1e-4\n",
    "Fit.criticalDelta = 1e-4"
   ]
  },
  {
   "cell_type": "markdown",
   "id": "39b7d9d2-7930-4892-81ba-8bd2db47e610",
   "metadata": {},
   "source": [
    "## Load files"
   ]
  },
  {
   "cell_type": "code",
   "execution_count": 3,
   "id": "cd0bcd6f-9565-4899-90b7-1e5d87e7050a",
   "metadata": {},
   "outputs": [
    {
     "name": "stdout",
     "output_type": "stream",
     "text": [
      "\n",
      "1 spectrum  in use\n",
      " \n",
      "Spectral Data File: ObsID0945010135_SRCNUM35_EPN_spectrum_grp.fits  Spectrum 1\n",
      "Net count rate (cts/s) for Spectrum:1  2.869e-02 +/- 2.080e-03 (74.5 % total)\n",
      " Assigned to Data Group 1 and Plot Group 1\n",
      "  Noticed Channels:  1-7\n",
      "  Telescope: XMM Instrument: EPN  Channel Type: PI\n",
      "  Exposure Time: 1.026e+04 sec\n",
      " Using fit statistic: chi\n",
      " Using Background File                PNbackground_spectrum.fits\n",
      "  Background Exposure Time: 1.026e+04 sec\n",
      " Using Response (RMF) File            PN.rmf for Source 1\n",
      " Using Auxiliary Response (ARF) File  PN.arf\n",
      "\n"
     ]
    }
   ],
   "source": [
    "AllData.clear()\n",
    "spec = Spectrum(glob.glob('ObsID*_SRCNUM*_E*_spectrum_grp.fits')[0])"
   ]
  },
  {
   "cell_type": "code",
   "execution_count": 1,
   "id": "a692d9bb-6677-4db5-ac6e-0cb6a8d40dbd",
   "metadata": {},
   "outputs": [
    {
     "name": "stdout",
     "output_type": "stream",
     "text": [
      "Number of counts = 294.3594\n"
     ]
    }
   ],
   "source": [
    "n_cts = 2.869e-02*1.026e+04\n",
    "\n",
    "print(\"Number of counts =\",n_cts)\n",
    "\n",
    "if int(n_cts)<100:\n",
    "    print()\n",
    "    print(\"The low number of counts indicates that we should consider using cstat fit statistic instead of chi statistic.\")"
   ]
  },
  {
   "cell_type": "markdown",
   "id": "870eec10-27a5-4341-a01c-4a98ac400133",
   "metadata": {},
   "source": [
    "## Plot spectrum"
   ]
  },
  {
   "cell_type": "code",
   "execution_count": 4,
   "id": "37f98bf3-3d31-4c65-891f-3ea006da7786",
   "metadata": {},
   "outputs": [
    {
     "name": "stdout",
     "output_type": "stream",
     "text": [
      "     2 channels (1-2) ignored in spectrum #     1\n",
      "     1 channels (7) ignored in spectrum #     1\n",
      "\n"
     ]
    }
   ],
   "source": [
    "Plot.xAxis=\"keV\"\n",
    "Plot.device = \"/xs\"\n",
    "Plot.xLog=True\n",
    "Plot.yLog=True\n",
    "Plot.addCommand(\"Rescale Y 0.00001 0.05\")\n",
    "Plot(\"data\")\n",
    "spec.ignore(\"**-0.2 12.0-**\")"
   ]
  },
  {
   "cell_type": "code",
   "execution_count": 7,
   "id": "27bf0415-368d-4476-8ef7-29af925b48ee",
   "metadata": {},
   "outputs": [
    {
     "data": {
      "text/plain": [
       "(-0.5, 859.5, 661.5, -0.5)"
      ]
     },
     "execution_count": 7,
     "metadata": {},
     "output_type": "execute_result"
    },
    {
     "data": {
      "image/png": "[encoded data removed]",
      "text/plain": [
       "<Figure size 1200x700 with 1 Axes>"
      ]
     },
     "metadata": {},
     "output_type": "display_data"
    }
   ],
   "source": [
    "img = plt.imread(glob.glob('ObsID*_SRCNUM*_E*_Spectrum.png')[0])\n",
    "plt.imshow(img)\n",
    "plt.axis('off')"
   ]
  },
  {
   "cell_type": "markdown",
   "id": "7eb1edda-21f0-4876-bdbc-8cb3e4a347dc",
   "metadata": {},
   "source": [
    "### Black body model"
   ]
  },
  {
   "cell_type": "code",
   "execution_count": 5,
   "id": "25e94b4e-0bb6-439e-af07-e82ebf0faa48",
   "metadata": {},
   "outputs": [
    {
     "name": "stdout",
     "output_type": "stream",
     "text": [
      "\n",
      "========================================================================\n",
      "Model TBabs<1>*bbody<2> Source No.: 1   Active/On\n",
      "Model Model Component  Parameter  Unit     Value\n",
      " par  comp\n",
      "   1    1   TBabs      nH         10^22    1.00000      +/-  0.0          \n",
      "   2    2   bbody      kT         keV      3.00000      +/-  0.0          \n",
      "   3    2   bbody      norm                1.00000      +/-  0.0          \n",
      "________________________________________________________________________\n",
      "\n",
      "tbvabs Version 2.3\n",
      "Cosmic absorption with grains and H2, modified from\n",
      "Wilms, Allen, & McCray, 2000, ApJ 542, 914-924\n",
      "Questions: Joern Wilms\n",
      "joern.wilms@sternwarte.uni-erlangen.de\n",
      "joern.wilms@fau.de\n",
      "\n",
      "http://pulsar.sternwarte.uni-erlangen.de/wilms/research/tbabs/\n",
      "\n",
      "PLEASE NOTICE:\n",
      "To get the model described by the above paper\n",
      "you will also have to set the abundances:\n",
      "   abund wilm\n",
      "\n",
      "Note that this routine ignores the current cross section setting\n",
      "as it always HAS to use the Verner cross sections as a baseline.\n",
      "\n",
      "Fit statistic  : Chi-Squared              3.387836e+11     using 4 bins.\n",
      "\n",
      "Test statistic : Chi-Squared              3.387836e+11     using 4 bins.\n",
      " Null hypothesis probability of 0.000000e+00 with 1 degrees of freedom\n",
      " Current data and model not fit yet.\n",
      "                                   Parameters\n",
      "Chi-Squared  |beta|/N    Lvl          1:nH          2:kT        3:norm\n",
      "75.8486      0.0571824     0      0.469116       3.03617   4.31913e-06\n",
      "75.5348      10396.9       0      0.173589       3.09035   4.11313e-06\n",
      "75.22        17243.2       0     0.0214072       3.13365   3.95041e-06\n",
      "75.1469      50786.8       0    0.00676932       3.12548   3.97002e-06\n",
      "75.1205      45199.1       0    0.00307403       3.11877   3.98523e-06\n",
      "75.1045      40515.6       0    0.00123812       3.11312   3.99731e-06\n",
      "75.0945      36570.1       0   0.000327505       3.10830   4.00689e-06\n",
      "75.0889      33244.4       0   0.000101743       3.10416   4.01442e-06\n",
      "75.0851      30438.7       0   4.57864e-05       3.10058   4.02028e-06\n",
      "75.0822      28072.6       0   1.80212e-05       3.09745   4.02477e-06\n",
      "75.0799      26080.5       0   4.22838e-06       3.09469   4.02810e-06\n",
      "053e-07       3.09226   4.03048e-06\n",
      "75.0766      22995.6       0   3.72373e-07       3.09008   4.03205e-06\n",
      "75.0754      21811.4       0   1.59870e-07       3.08812   4.03295e-06\n",
      "75.0744      20816         0   5.39697e-08       3.08635   4.03329e-06\n",
      "75.0735      19980.8       0   1.16782e-09       3.08473   4.03316e-06\n",
      "75.0728      19280.6       0   3.44689e-10       3.08323   4.03264e-06\n",
      "75.0722      18692.4       0   1.39333e-10       3.08185   4.03179e-06\n",
      "75.0717      18199.7       0   3.68588e-11       3.08055   4.03066e-06\n",
      "75.0712      17787.7       0   1.12633e-11       3.07932   4.02930e-06\n",
      "75.0708      17442.1       0   4.89280e-12       3.07818   4.02768e-06\n",
      "75.0704      17172         0   1.67391e-12       3.07704   4.02605e-06\n",
      "75.0701      16907.5       0   1.21735e-13       3.07601   4.02408e-06\n",
      "75.0699      16737.9       0   1.68517e-14       3.07501   4.02204e-06\n",
      "75.0692      16592.3       0   3.75191e-15       3.07355   4.02179e-06\n",
      "75.0674      15969.8       0   4.36715e-16       3.07040   4.02645e-06\n",
      "75.0605      13813.7       0   1.19066e-16       3.05060   4.03308e-06\n",
      "75.0442      3417.61      -1   4.96342e-17       2.96115   3.77940e-06\n",
      "***Warning: Zero alpha-matrix diagonal element for parameter 1\n",
      " Parameter 1 is pegged at 4.96342e-17 due to zero or negative pivot element, likely\n",
      " caused by the fit being insensitive to the parameter.\n",
      "75.0253      1101.65      -1   4.96342e-17       2.86253   3.51396e-06\n",
      "75.0048      4643.59      -1   4.96342e-17       2.76476   3.24682e-06\n",
      "74.9819      5152.9       -1   4.96342e-17       2.66404   2.98680e-06\n",
      "74.9561      5666.57      -1   4.96342e-17       2.56013   2.73418e-06\n",
      "74.9266      6133.22      -1   4.96342e-17       2.45244   2.48894e-06\n",
      "74.8926      6665.71      -1   4.96342e-17       2.34051   2.25116e-06\n",
      "74.853       7198.94      -1   4.96342e-17       2.22364   2.02083e-06\n",
      "74.8059      7623.97      -1   4.96342e-17       2.10094   1.79804e-06\n",
      "74.749       7922.88      -1   4.96342e-17       1.97153   1.58300e-06\n",
      "74.6788      7430.18      -1   4.96342e-17       1.83417   1.37633e-06\n",
      "74.5901      5838.79      -1   4.96342e-17       1.68735   1.17869e-06\n",
      "74.4755      1874.94      -1   4.96342e-17       1.52988   9.91821e-07\n",
      "74.3261      6903.13      -1   4.96342e-17       1.36170   8.19149e-07\n",
      "74.1391      23982.3      -1   4.96342e-17       1.18796   6.67902e-07\n",
      "73.944       50170.3      -1   4.96342e-17       1.02680   5.50941e-07\n",
      "73.7727      58082.5      -2   4.96342e-17      0.785869   3.85196e-07\n",
      "73.7496      562428       -3   4.96342e-17      0.791447   4.08538e-07\n",
      "73.7496      5376.31      -4   4.96342e-17      0.792281   4.09220e-07\n",
      "***Warning: Zero alpha-matrix diagonal element for parameter 1\n",
      " Parameter 1 is pegged at 4.96342e-17 due to zero or negative pivot element, likely\n",
      " caused by the fit being insensitive to the parameter.\n",
      "73.7496      7.14034      -3   4.96342e-17      0.792427   4.09305e-07\n",
      "==============================\n",
      " Variances and Principal Axes\n",
      "                 2        3  \n",
      " 1.8378E-14| -0.0000   1.0000  \n",
      " 1.3183E-01|  1.0000   0.0000  \n",
      "------------------------------\n",
      "\n",
      "========================\n",
      "  Covariance Matrix\n",
      "        1           2   \n",
      "   1.318e-01   7.673e-08\n",
      "   7.673e-08   6.304e-14\n",
      "------------------------\n",
      "\n",
      "========================================================================\n",
      "Model TBabs<1>*bbody<2> Source No.: 1   Active/On\n",
      "Model Model Component  Parameter  Unit     Value\n",
      " par  comp\n",
      "   1    1   TBabs      nH         10^22    4.96342E-17  +/-  -1.00000     \n",
      "   2    2   bbody      kT         keV      0.792427     +/-  0.363089     \n",
      "   3    2   bbody      norm                4.09305E-07  +/-  2.51080E-07  \n",
      "________________________________________________________________________\n",
      "\n",
      "\n",
      "Fit statistic  : Chi-Squared                 73.7496     using 4 bins.\n",
      "\n",
      "Test statistic : Chi-Squared                 73.7496     using 4 bins.\n",
      " Null hypothesis probability of 8.8682e-18 with 1 degrees of freedom\n"
     ]
    }
   ],
   "source": [
    "AllModels.clear()\n",
    "mo = Model(\"tbabs*bbody\")\n",
    "Fit.perform()\n",
    "Plot.device = \"/xs\"\n",
    "Plot(\"data resid\")\n",
    "plt.show()\n",
    "nH_bbody = mo.TBabs.nH.values[0]"
   ]
  },
  {
   "cell_type": "code",
   "execution_count": 6,
   "id": "f2d55c50-94dd-468d-bf08-69bca0b63260",
   "metadata": {},
   "outputs": [
    {
     "data": {
      "text/plain": [
       "(-0.5, 861.5, 662.5, -0.5)"
      ]
     },
     "execution_count": 6,
     "metadata": {},
     "output_type": "execute_result"
    },
    {
     "data": {
      "image/png": "[encoded data removed]",
      "text/plain": [
       "<Figure size 1200x700 with 1 Axes>"
      ]
     },
     "metadata": {},
     "output_type": "display_data"
    }
   ],
   "source": [
    "img = plt.imread(glob.glob('ObsID*_SRCNUM*_E*_Spectrum_bbody.png')[0])\n",
    "plt.imshow(img)\n",
    "plt.axis('off')"
   ]
  },
  {
   "cell_type": "markdown",
   "id": "b77a2e66-8412-4d85-a277-10782493ea2e",
   "metadata": {},
   "source": [
    "### Bremsstrahlung model"
   ]
  },
  {
   "cell_type": "code",
   "execution_count": 6,
   "id": "3ed606fb-6f75-4369-b9c8-b5c95a0a9577",
   "metadata": {},
   "outputs": [
    {
     "name": "stdout",
     "output_type": "stream",
     "text": [
      "\n",
      "========================================================================\n",
      "Model TBabs<1>*bremss<2> Source No.: 1   Active/On\n",
      "Model Model Component  Parameter  Unit     Value\n",
      " par  comp\n",
      "   1    1   TBabs      nH         10^22    1.00000      +/-  0.0          \n",
      "   2    2   bremss     kT         keV      7.00000      +/-  0.0          \n",
      "   3    2   bremss     norm                1.00000      +/-  0.0          \n",
      "________________________________________________________________________\n",
      "\n",
      "\n",
      "Fit statistic  : Chi-Squared              2.770480e+10     using 4 bins.\n",
      "\n",
      "Test statistic : Chi-Squared              2.770480e+10     using 4 bins.\n",
      " Null hypothesis probability of 0.000000e+00 with 1 degrees of freedom\n",
      " Current data and model not fit yet.\n",
      "                                   Parameters\n",
      "Chi-Squared  |beta|/N    Lvl          1:nH          2:kT        3:norm\n",
      "74.6407      0.158132     -2      0.486286       5.31238   1.40351e-05\n",
      "74.5762      7295.32      -1      0.418457       8.08763   1.15407e-05\n",
      "74.2139      12545.1      -1      0.164819       26.8767   8.62648e-06\n",
      "71.5708      55070        -1    0.00584286       193.635   1.13204e-05\n",
      "71.3967      71347         0   0.000663197       197.664   1.11159e-05\n",
      "71.1998      77347.9       0   0.000201946       193.777   1.14190e-05\n",
      "70.3127      71577.4       0   9.22906e-05       95.5823   1.16899e-05\n",
      "70.3014      22559.9       0   1.98027e-05       94.8546   1.17082e-05\n",
      "70.295       21428.1       0   1.80399e-06       94.2313   1.17228e-05\n",
      "70.2908      20471.7       0   6.85617e-07       93.6922   1.17344e-05\n",
      "70.2873      19663.6       0   1.29187e-07       93.2258   1.17435e-05\n",
      "70.2846      18984.4       0   5.99215e-08       92.8189   1.17504e-05\n",
      "70.2822      18413.1       0   2.54102e-08       92.4578   1.17557e-05\n",
      "70.2804      17929.8       0   8.20528e-09       92.1425   1.17594e-05\n",
      "70.2788      17527.5       0   3.91474e-09       91.8586   1.17619e-05\n",
      "70.2775      17187.1       0   1.77397e-09       91.6040   1.17634e-05\n",
      "70.2764      16902         0   7.05476e-10       91.3727   1.17640e-05\n",
      "70.2754      16662.2       0   1.72027e-10       91.1638   1.17638e-05\n",
      "70.2746      16463.3       0   3.88335e-11       90.9694   1.17630e-05\n",
      "70.2739      16294.8       0   5.56862e-12       90.7859   1.17617e-05\n",
      "70.2733      16151.1       0   1.42537e-12       90.6142   1.17600e-05\n",
      "70.2728      16029.3       0   3.83206e-13       90.4578   1.17580e-05\n",
      "70.2723      15931.6       0   1.24914e-13       90.2960   1.17560e-05\n",
      "70.2716      15827.4       0   6.22671e-14       90.1143   1.17548e-05\n",
      "70.2714      15680.2       0   3.09372e-14       89.9861   1.17517e-05\n",
      "70.2703      15640.3       1   1.01549e-14       89.8306   1.17565e-05\n",
      "70.2671      15352.8       0   4.45497e-15       89.2971   1.17672e-05\n",
      "70.2661      14517.2       1   2.17676e-15       89.1568   1.17715e-05\n",
      "70.2652      14256.8       1   5.87332e-16       89.0130   1.17759e-05\n",
      "70.2622      13988.1       0   2.89685e-16       88.5101   1.17880e-05\n",
      "70.2622      13136.7      14   3.19215e-16       88.5101   1.17880e-05\n",
      "========================================\n",
      " Variances and Principal Axes\n",
      "                 1        2        3  \n",
      " 1.1907E-11| -0.0001  -0.0000   1.0000  \n",
      " 4.0842E-03|  1.0000   0.0001   0.0001  \n",
      " 3.2325E+06| -0.0001   1.0000   0.0000  \n",
      "----------------------------------------\n",
      "\n",
      "====================================\n",
      "  Covariance Matrix\n",
      "        1           2           3   \n",
      "   1.385e-02  -1.777e+02  -5.881e-06\n",
      "  -1.777e+02   3.233e+06   1.124e-01\n",
      "  -5.881e-06   1.124e-01   3.939e-09\n",
      "------------------------------------\n",
      "\n",
      "========================================================================\n",
      "Model TBabs<1>*bremss<2> Source No.: 1   Active/On\n",
      "Model Model Component  Parameter  Unit     Value\n",
      " par  comp\n",
      "   1    1   TBabs      nH         10^22    3.19215E-16  +/-  0.117681     \n",
      "   2    2   bremss     kT         keV      88.5101      +/-  1797.92      \n",
      "   3    2   bremss     norm                1.17880E-05  +/-  6.27648E-05  \n",
      "________________________________________________________________________\n",
      "\n",
      "\n",
      "Fit statistic  : Chi-Squared                 70.2622     using 4 bins.\n",
      "\n",
      "    using 4 bins.Chi-Squared                 70.2622 \n",
      " Null hypothesis probability of 5.1923e-17 with 1 degrees of freedom\n"
     ]
    }
   ],
   "source": [
    "AllModels.clear()\n",
    "mo = Model(\"tbabs*bremss\")\n",
    "Fit.perform()\n",
    "Plot.device = \"/xs\"\n",
    "Plot(\"data resid\")\n",
    "nH_bremss = mo.TBabs.nH.values[0]"
   ]
  },
  {
   "cell_type": "code",
   "execution_count": 13,
   "id": "4f360356-063b-4c14-8ea4-029f8abb6085",
   "metadata": {},
   "outputs": [
    {
     "data": {
      "text/plain": [
       "(-0.5, 861.5, 666.5, -0.5)"
      ]
     },
     "execution_count": 13,
     "metadata": {},
     "output_type": "execute_result"
    },
    {
     "data": {
      "image/png": "[encoded data removed]",
      "text/plain": [
       "<Figure size 1200x700 with 1 Axes>"
      ]
     },
     "metadata": {},
     "output_type": "display_data"
    }
   ],
   "source": [
    "img = plt.imread(glob.glob('ObsID*_SRCNUM*_E*_Spectrum_bremss.png')[0])\n",
    "plt.imshow(img)\n",
    "plt.axis('off')"
   ]
  },
  {
   "cell_type": "markdown",
   "id": "4d8ea665-d6a1-4113-beaf-fad108850b18",
   "metadata": {},
   "source": [
    "### Apec model"
   ]
  },
  {
   "cell_type": "code",
   "execution_count": 7,
   "id": "4bd12dd8-e0eb-46e8-a057-f7eb723b3a94",
   "metadata": {},
   "outputs": [
    {
     "name": "stdout",
     "output_type": "stream",
     "text": [
      "\n",
      "========================================================================\n",
      "Model TBabs<1>*apec<2> Source No.: 1   Active/On\n",
      "Model Model Component  Parameter  Unit     Value\n",
      " par  comp\n",
      "   1    1   TBabs      nH         10^22    1.00000      +/-  0.0          \n",
      "   2    2   apec       kT         keV      1.00000      +/-  0.0          \n",
      "   3    2   apec       Abundanc            1.00000      frozen\n",
      "   4    2   apec       Redshift            0.0          frozen\n",
      "   5    2   apec       norm                1.00000      +/-  0.0          \n",
      "________________________________________________________________________\n",
      "\n",
      "Reading APEC data from 3.0.9\n",
      "\n",
      "\n",
      "Fit statistic  : Chi-Squared              4.933503e+09     using 4 bins.\n",
      "\n",
      "Test statistic : Chi-Squared              4.933503e+09     using 4 bins.\n",
      " Null hypothesis probability of 0.000000e+00 with 1 degrees of freedom\n",
      " Current data and model not fit yet.\n",
      "                                   Parameters\n",
      "Chi-Squared  |beta|/N    Lvl          1:nH          2:kT        5:norm\n",
      "75.2924      0.993597     -2       1.25283       2.05528   4.57056e-05\n",
      "74.7931      11047        -2      0.905239       2.68722   4.99874e-05\n",
      "74.7627      2463.46      -1      0.894534       3.03117   4.72024e-05\n",
      "74.7553      272.069      -1      0.850781       3.36283   4.52711e-05\n",
      "74.7446      117.563      -1      0.792658       3.80267   4.30737e-05\n",
      "73.4216      89.8701      -2     0.0500750       10.2994   1.54014e-05\n",
      "71.2505      46170.8      -3   0.000867680       49.2609   3.81299e-05\n",
      "70.3007      39082.9      -1   0.000364194       57.5511   2.92373e-05\n",
      "70.2775      8378.65       0   8.22619e-05       57.3079   2.92707e-05\n",
      "70.2697      8081.03       0   1.20571e-05       57.1026   2.92978e-05\n",
      "70.2666      7829.42       0   3.31341e-06       56.9276   2.93199e-05\n",
      "70.2644      7617.2        0   1.13441e-06       56.7775   2.93380e-05\n",
      "70.2627      7438.6        0   4.78269e-08       56.6483   2.93526e-05\n",
      "70.2613      7288.37       0   1.39475e-08       56.5367   2.93644e-05\n",
      "70.2602      7162.03       0   5.49362e-09       56.4397   2.93739e-05\n",
      "70.2593      7055.82       0   1.27345e-09       56.3550   2.93813e-05\n",
      "70.2585      6966.58       0   2.19815e-10       56.2808   2.93870e-05\n",
      "70.2578      6891.61       0   8.82517e-11       56.2153   2.93913e-05\n",
      "70.2573      6828.7        0   2.25390e-11       56.1571   2.93944e-05\n",
      "70.2568      6775.87       0   6.12278e-12       56.1051   2.93964e-05\n",
      "70.2564      6731.72       0   2.03058e-12       56.0574   2.93978e-05\n",
      "70.2561      6693.37       0   1.00461e-12       56.0165   2.93981e-05\n",
      "831e-13       55.9749   2.93985e-05\n",
      "70.2555      6634.97       0   2.41795e-13       55.9366   2.93984e-05\n",
      "70.2554      6609.39       0   1.15374e-13       55.9035   2.93974e-05\n",
      "70.2551      6591.42       0   5.01797e-14       55.8684   2.93972e-05\n",
      "70.2551      6568.72       0   1.68781e-14       55.8489   2.93947e-05\n",
      "========================================\n",
      " Variances and Principal Axes\n",
      "                 1        2        5  \n",
      " 7.5488E-11| -0.0001  -0.0000   1.0000  \n",
      " 1.0576E-02|  1.0000   0.0001   0.0001  \n",
      " 1.4994E+06| -0.0001   1.0000   0.0000  \n",
      "----------------------------------------\n",
      "\n",
      "====================================\n",
      "  Covariance Matrix\n",
      "        1           2           3   \n",
      "   2.712e-02  -1.575e+02  -2.328e-05\n",
      "  -1.575e+02   1.499e+06   2.299e-01\n",
      "  -2.328e-05   2.299e-01   3.541e-08\n",
      "------------------------------------\n",
      "\n",
      "========================================================================\n",
      "Model TBabs<1>*apec<2> Source No.: 1   Active/On\n",
      "Model Model Component  Parameter  Unit     Value\n",
      " par  comp\n",
      "   1    1   TBabs      nH         10^22    1.68781E-14  +/-  0.164687     \n",
      "   2    2   apec       kT         keV      55.8489      +/-  1224.49      \n",
      "   3    2   apec       Abundanc            1.00000      frozen\n",
      "   4    2   apec       Redshift            0.0          frozen\n",
      "   5    2   apec       norm                2.93947E-05  +/-  1.88165E-04  \n",
      "________________________________________________________________________\n",
      "\n",
      "\n",
      "Fit statistic  : Chi-Squared                 70.2551     using 4 bins.\n",
      "\n",
      "Test statistic : Chi-Squared                 70.2551     using 4 bins.\n",
      " Null hypothesis probability of 5.2111e-17 with 1 degrees of freedom\n"
     ]
    }
   ],
   "source": [
    "AllModels.clear()\n",
    "mo = Model(\"tbabs*apec\")\n",
    "Fit.perform()\n",
    "Plot.device = \"/xs\"\n",
    "Plot(\"data resid\")\n",
    "nH_apec = mo.TBabs.nH.values[0]"
   ]
  },
  {
   "cell_type": "code",
   "execution_count": 9,
   "id": "e3c38dd4-72e7-44cd-b2db-963368ff15b2",
   "metadata": {},
   "outputs": [
    {
     "data": {
      "text/plain": [
       "(-0.5, 860.5, 661.5, -0.5)"
      ]
     },
     "execution_count": 9,
     "metadata": {},
     "output_type": "execute_result"
    },
    {
     "data": {
      "image/png": "[encoded data removed]",
      "text/plain": [
       "<Figure size 1200x700 with 1 Axes>"
      ]
     },
     "metadata": {},
     "output_type": "display_data"
    }
   ],
   "source": [
    "img = plt.imread(glob.glob('ObsID*_SRCNUM*_E*_Spectrum_apec.png')[0])\n",
    "plt.imshow(img)\n",
    "plt.axis('off')"
   ]
  },
  {
   "cell_type": "markdown",
   "id": "746ccf61-8e54-4726-b463-b6a3d137905c",
   "metadata": {},
   "source": [
    "### Powerlaw model"
   ]
  },
  {
   "cell_type": "code",
   "execution_count": 12,
   "id": "ecf8f29f-a8fc-4efc-9ce0-7059d934b811",
   "metadata": {},
   "outputs": [
    {
     "name": "stdout",
     "output_type": "stream",
     "text": [
      "\n",
      "========================================================================\n",
      "Model TBabs<1>*powerlaw<2> Source No.: 1   Active/On\n",
      "Model Model Component  Parameter  Unit     Value\n",
      " par  comp\n",
      "   1    1   TBabs      nH         10^22    1.00000      +/-  0.0          \n",
      "   2    2   powerlaw   PhoIndex            1.00000      +/-  0.0          \n",
      "   3    2   powerlaw   norm                1.00000      +/-  0.0          \n",
      "________________________________________________________________________\n",
      "\n",
      "\n",
      "Fit statistic  : Chi-Squared              1.465598e+11     using 4 bins.\n",
      "\n",
      "Test statistic : Chi-Squared              1.465598e+11     using 4 bins.\n",
      " Null hypothesis probability of 0.000000e+00 with 1 degrees of freedom\n",
      " Current data and model not fit yet.\n",
      "                                   Parameters\n",
      "Chi-Squared  |beta|/N    Lvl          1:nH    2:PhoIndex        3:norm\n",
      "74.7349      0.188598     -3      0.366202       1.12943   5.33907e-06\n",
      "73.2683      76937.6      -1     0.0940532      0.945878   4.76764e-06\n",
      "70.9885      7833.56       0    0.00282373      0.973819   4.49037e-06\n",
      "70.7866      13277         0   0.000271903      0.997721   4.48259e-06\n",
      "     1.02264   4.47958e-06 0   0.000110394  \n",
      "70.637       36301.4       0   2.95256e-05       1.04767   4.48135e-06\n",
      "70.5685      45746         0   9.33898e-06       1.07293   4.48743e-06\n",
      "70.4999      53943.9       0   4.31279e-06       1.09854   4.49738e-06\n",
      "70.4295      61076.9       0   1.81543e-06       1.12464   4.51081e-06\n",
      "70.3562      67304.8       0   5.77084e-07       1.15140   4.52738e-06\n",
      "70.2792      72763.8       0   2.70646e-07       1.17898   4.54679e-06\n",
      "70.1977      77569.4       0   1.19262e-07       1.20756   4.56877e-06\n",
      "70.1107      81820.4       0   4.46114e-08       1.23734   4.59308e-06\n",
      "70.0171      85600.8       0   7.86531e-09       1.26853   4.61949e-06\n",
      "69.9158      88982.3       0   3.35160e-09       1.30138   4.64780e-06\n",
      "69.8053      92025.6       0   1.13810e-09       1.33616   4.67784e-06\n",
      "69.684       94781.4       0   5.48051e-11       1.37318   4.70940e-06\n",
      "69.5497      97290.8       0   2.17474e-11       1.41279   4.74229e-06\n",
      "69.3999      99585         0   5.64632e-12       1.45538   4.77632e-06\n",
      "69.2313      101684        0   1.73390e-12       1.50140   4.81122e-06\n",
      "69.04        103596        0   7.88406e-13       1.55129   4.84676e-06\n",
      "68.8215      105303        0   3.33660e-13       1.60550   4.88264e-06\n",
      "68.5714      106764        0   1.09433e-13       1.66426   4.91798e-06\n",
      "68.2881      107970        0   4.86547e-14       1.72700   4.95173e-06\n",
      "67.9591      108844        0   2.12908e-14       1.79534   4.98413e-06\n",
      "67.6538      109276        0   3.99125e-15       1.98441   4.33064e-06\n",
      "67.0378      226763        0   4.42875e-16       2.17373   3.98913e-06\n",
      "63.652       299250        0   1.92490e-16       2.71596   3.44671e-06\n",
      "60.9115      453039        0   3.86360e-17       2.95690   3.47289e-06\n",
      "59.3899      435859       -1   1.60491e-17       3.20744   2.95211e-06\n",
      "***Warning: Zero alpha-matrix diagonal element for parameter 1\n",
      " Parameter 1 is pegged at 1.60491e-17 due to zero or negative pivot element, likely\n",
      " caused by the fit being insensitive to the parameter.\n",
      "44.0262      923582       -1   1.60491e-17       4.63385   1.67818e-06\n",
      "30.3356      17900.8      -2   1.60491e-17       6.57249   2.07738e-07\n",
      "21.5835      2.66633e+07  -1   1.60491e-17       7.12975   1.60697e-07\n",
      "13.9536      3.65882e+06  -2   1.60491e-17       8.44799   3.89616e-08\n",
      "12.6686      1.20222e+08  -1   1.60491e-17       8.50797   3.25351e-08\n",
      "12.198       5.8907e+06   -1   1.60491e-17       8.61103   2.85743e-08\n",
      "11.7809      1.40543e+06  -1   1.60491e-17       8.70845   2.53725e-08\n",
      "11.4167      2.49391e+06  -1   1.60491e-17       8.79867   2.27098e-08\n",
      "11.0968      3.5839e+06   -1   1.60491e-17       8.88254   2.04719e-08\n",
      "10.8146      4.64718e+06  -1   1.60491e-17       8.96076   1.85730e-08\n",
      "10.6159      5.67836e+06  -1   1.60491e-17       9.02160   1.69479e-08\n",
      "10.5181      2.59262e+07  -1   1.60491e-17       9.06971   1.56423e-08\n",
      "10.3739      7.07059e+07  -1   1.60491e-17       9.12045   1.46187e-08\n",
      "10.2319      8.40368e+07  -1   1.60491e-17       9.16881   1.37344e-08\n",
      "10.1053      9.24663e+07  -1   1.60491e-17       9.21393   1.29541e-08\n",
      "9.99469      1.01339e+08  -1   1.60491e-17       9.25581   1.22624e-08\n",
      "9.89841      1.11458e+08  -1   1.60491e-17       9.29461   1.16486e-08\n",
      "9.81459      1.22713e+08  -1   1.60491e-17       9.33053   1.11032e-08\n",
      "9.74154      1.34838e+08  -1   1.60491e-17       9.36378   1.06178e-08\n",
      "9.67771      1.4756e+08   -1   1.60491e-17       9.39456   1.01850e-08\n",
      "9.62178      1.60634e+08  -1   1.60491e-17       9.42307   9.79825e-09\n",
      "9.57258      1.73852e+08  -1   1.60491e-17       9.44948   9.45192e-09\n",
      "9.52911      1.87036e+08  -1   1.60491e-17       9.47396   9.14101e-09\n",
      "9.49051      2.00045e+08  -1   1.60491e-17       9.49667   8.86118e-09\n",
      "9.36127      2.12765e+08   0   1.60491e-17       9.49999   8.99481e-09\n",
      "9.32333      1.41166e+08   0   1.60491e-17       9.50000   9.07052e-09\n",
      "9.30349      1.09129e+08   0   1.60491e-17       9.50000   9.12084e-09\n",
      "9.29268      8.78382e+07   0   1.60491e-17       9.50000   9.15430e-09\n",
      "9.28654      7.36885e+07   0   1.60491e-17       9.50000   9.17655e-09\n",
      "9.28292      6.42796e+07   0   1.60491e-17       9.50000   9.19135e-09\n",
      "9.28072      5.80229e+07   0   1.60491e-17       9.50000   9.20119e-09\n",
      "9.27935      5.38624e+07   0   1.60491e-17       9.50000   9.20773e-09\n",
      "9.27848      5.10956e+07   0   1.60491e-17       9.50000   9.21208e-09\n",
      "9.27791      4.92558e+07   0   1.60491e-17       9.50000   9.21498e-09\n",
      "9.27755      4.80322e+07   0   1.60491e-17       9.50000   9.21690e-09\n",
      "9.27731      4.72186e+07   0   1.60491e-17       9.50000   9.21818e-09\n",
      "9.27715      4.66775e+07   0   1.60491e-17       9.50000   9.21903e-09\n",
      "9.27704      4.63177e+07   0   1.60491e-17       9.50000   9.21960e-09\n",
      "9.27697      4.60784e+07   0   1.60491e-17       9.50000   9.21997e-09\n",
      "***Warning: Zero alpha-matrix diagonal element for parameter 1\n",
      " Parameter 1 is pegged at 1.60491e-17 due to zero or negative pivot element, likely\n",
      " caused by the fit being insensitive to the parameter.\n",
      "9.27693      4.59193e+07   0   1.60491e-17       9.50000   9.22022e-09\n",
      "==============================\n",
      " Variances and Principal Axes\n",
      "                 2        3  \n",
      " 1.1824E-18|  0.0000   1.0000  \n",
      " 1.0765E+00|  1.0000  -0.0000  \n",
      "------------------------------\n",
      "\n",
      "========================\n",
      "  Covariance Matrix\n",
      "        1           2   \n",
      "   1.077e+00  -1.297e-08\n",
      "  -1.297e-08   1.575e-16\n",
      "------------------------\n",
      "\n",
      "========================================================================\n",
      "Model TBabs<1>*powerlaw<2> Source No.: 1   Active/On\n",
      "Model Model Component  Parameter  Unit     Value\n",
      " par  comp\n",
      "   1    1   TBabs      nH         10^22    1.60491E-17  +/-  -1.00000     \n",
      "   2    2   powerlaw   PhoIndex            9.50000      +/-  1.03756      \n",
      "   3    2   powerlaw   norm                9.22022E-09  +/-  1.25479E-08  \n",
      "________________________________________________________________________\n",
      "\n",
      "\n",
      "Fit statistic  : Chi-Squared                  9.2769     using 4 bins.\n",
      "\n",
      "Test statistic : Chi-Squared                  9.2769     using 4 bins.\n",
      " Null hypothesis probability of 2.3206e-03 with 1 degrees of freedom\n"
     ]
    }
   ],
   "source": [
    "AllModels.clear()\n",
    "mo = Model(\"tbabs*powerlaw\")\n",
    "Fit.perform()\n",
    "Plot.device = \"/xs\"\n",
    "Plot(\"data resid\")\n",
    "nH_powerlaw = mo.TBabs.nH.values[0]"
   ]
  },
  {
   "cell_type": "code",
   "execution_count": 11,
   "id": "4f917501-7614-449b-b313-4ab6c7dd2aee",
   "metadata": {},
   "outputs": [
    {
     "data": {
      "text/plain": [
       "(-0.5, 860.5, 664.5, -0.5)"
      ]
     },
     "execution_count": 11,
     "metadata": {},
     "output_type": "execute_result"
    },
    {
     "data": {
      "image/png": "[encoded data removed]",
      "text/plain": [
       "<Figure size 1200x700 with 1 Axes>"
      ]
     },
     "metadata": {},
     "output_type": "display_data"
    }
   ],
   "source": [
    "img = plt.imread(glob.glob('ObsID*_SRCNUM*_E*_Spectrum_powerlaw.png')[0])\n",
    "plt.imshow(img)\n",
    "plt.axis('off')"
   ]
  },
  {
   "cell_type": "markdown",
   "id": "bdeed0de-2cc5-4307-a140-caa8911a1d44",
   "metadata": {},
   "source": [
    "### Black body + Powerlaw model\n",
    "X-ray binaries"
   ]
  },
  {
   "cell_type": "code",
   "execution_count": 9,
   "id": "bebe7bda-95de-4af7-93e2-4fbd50546cb0",
   "metadata": {},
   "outputs": [
    {
     "name": "stdout",
     "output_type": "stream",
     "text": [
      "\n",
      "========================================================================\n",
      "Model TBabs<1>(bbody<2> + powerlaw<3>) Source No.: 1   Active/On\n",
      "Model Model Component  Parameter  Unit     Value\n",
      " par  comp\n",
      "   1    1   TBabs      nH         10^22    1.00000      +/-  0.0          \n",
      "   2    2   bbody      kT         keV      3.00000      +/-  0.0          \n",
      "   3    2   bbody      norm                1.00000      +/-  0.0          \n",
      "   4    3   powerlaw   PhoIndex            1.00000      +/-  0.0          \n",
      "   5    3   powerlaw   norm                1.00000      +/-  0.0          \n",
      "________________________________________________________________________\n",
      "\n",
      "Ill-formed Fit problem - number of variable parameters exceeds number of bins\n"
     ]
    },
    {
     "name": "stderr",
     "output_type": "stream",
     "text": [
      "***Warning: Ill-formed Fit problem - number of variable parameters exceeds number of bins\n"
     ]
    },
    {
     "ename": "Exception",
     "evalue": "Error executing command: fit",
     "output_type": "error",
     "traceback": [
      "\u001b[0;31m---------------------------------------------------------------------------\u001b[0m",
      "\u001b[0;31mException\u001b[0m                                 Traceback (most recent call last)",
      "Cell \u001b[0;32mIn[9], line 3\u001b[0m\n\u001b[1;32m      1\u001b[0m AllModels\u001b[38;5;241m.\u001b[39mclear()\n\u001b[1;32m      2\u001b[0m mo \u001b[38;5;241m=\u001b[39m Model(\u001b[38;5;124m\"\u001b[39m\u001b[38;5;124mtbabs*(bbody+powerlaw)\u001b[39m\u001b[38;5;124m\"\u001b[39m)\n\u001b[0;32m----> 3\u001b[0m \u001b[43mFit\u001b[49m\u001b[38;5;241;43m.\u001b[39;49m\u001b[43mperform\u001b[49m\u001b[43m(\u001b[49m\u001b[43m)\u001b[49m\n\u001b[1;32m      4\u001b[0m Plot\u001b[38;5;241m.\u001b[39mdevice \u001b[38;5;241m=\u001b[39m \u001b[38;5;124m\"\u001b[39m\u001b[38;5;124m/xs\u001b[39m\u001b[38;5;124m\"\u001b[39m\n\u001b[1;32m      5\u001b[0m Plot(\u001b[38;5;124m\"\u001b[39m\u001b[38;5;124mdata resid\u001b[39m\u001b[38;5;124m\"\u001b[39m)\n",
      "File \u001b[0;32m/mnt/c/Users/acer/HEASoft/heasoft-6.34/x86_64-pc-linux-gnu-libc2.35/lib/python/xspec/fit.py:533\u001b[0m, in \u001b[0;36mFitManager.perform\u001b[0;34m(self)\u001b[0m\n\u001b[1;32m    530\u001b[0m \u001b[38;5;250m\u001b[39m\u001b[38;5;124;03m\"\"\"Perform a fit.\"\"\"\u001b[39;00m\n\u001b[1;32m    532\u001b[0m fitArgs \u001b[38;5;241m=\u001b[39m [\u001b[38;5;124m\"\u001b[39m\u001b[38;5;124mfit\u001b[39m\u001b[38;5;124m\"\u001b[39m]\n\u001b[0;32m--> 533\u001b[0m \u001b[43m_pyXspec\u001b[49m\u001b[38;5;241;43m.\u001b[39;49m\u001b[43mdoXspecCmd\u001b[49m\u001b[43m(\u001b[49m\u001b[43mfitArgs\u001b[49m\u001b[43m)\u001b[49m\n",
      "\u001b[0;31mException\u001b[0m: Error executing command: fit"
     ]
    }
   ],
   "source": [
    "AllModels.clear()\n",
    "mo = Model(\"tbabs*(bbody+powerlaw)\")\n",
    "Fit.perform()\n",
    "Plot.device = \"/xs\"\n",
    "Plot(\"data resid\")\n",
    "nH_bbodypowerlaw = mo.TBabs.nH.values[0]"
   ]
  },
  {
   "cell_type": "raw",
   "id": "eea80a68-9510-4c1b-a018-7b0f5dc3b261",
   "metadata": {},
   "source": [
    "img = plt.imread(glob.glob('ObsID*_SRCNUM*_E*_Spectrum_bbodypowerlaw.png')[0])\n",
    "plt.imshow(img)\n",
    "plt.axis('off')"
   ]
  },
  {
   "cell_type": "markdown",
   "id": "5b38a7a6-0660-4f63-83f5-8f536d22ade4",
   "metadata": {},
   "source": [
    "### Bremsstrahlung + Powerlaw model (Best fit)\n",
    "Cataclismic variables"
   ]
  },
  {
   "cell_type": "code",
   "execution_count": 10,
   "id": "f1dda8dd-24f9-43fc-b5e9-fe80b7d5a405",
   "metadata": {},
   "outputs": [
    {
     "name": "stdout",
     "output_type": "stream",
     "text": [
      "\n",
      "========================================================================\n",
      "Model TBabs<1>(bremss<2> + powerlaw<3>) Source No.: 1   Active/On\n",
      "Model Model Component  Parameter  Unit     Value\n",
      " par  comp\n",
      "   1    1   TBabs      nH         10^22    1.00000      +/-  0.0          \n",
      "   2    2   bremss     kT         keV      7.00000      +/-  0.0          \n",
      "   3    2   bremss     norm                1.00000      +/-  0.0          \n",
      "   4    3   powerlaw   PhoIndex            1.00000      +/-  0.0          \n",
      "   5    3   powerlaw   norm                1.00000      +/-  0.0          \n",
      "________________________________________________________________________\n",
      "\n",
      "Ill-formed Fit problem - number of variable parameters exceeds number of bins\n"
     ]
    },
    {
     "name": "stderr",
     "output_type": "stream",
     "text": [
      "***Warning: Ill-formed Fit problem - number of variable parameters exceeds number of bins\n"
     ]
    },
    {
     "ename": "Exception",
     "evalue": "Error executing command: fit",
     "output_type": "error",
     "traceback": [
      "\u001b[0;31m---------------------------------------------------------------------------\u001b[0m",
      "\u001b[0;31mException\u001b[0m                                 Traceback (most recent call last)",
      "Cell \u001b[0;32mIn[10], line 3\u001b[0m\n\u001b[1;32m      1\u001b[0m AllModels\u001b[38;5;241m.\u001b[39mclear()\n\u001b[1;32m      2\u001b[0m mo \u001b[38;5;241m=\u001b[39m Model(\u001b[38;5;124m\"\u001b[39m\u001b[38;5;124mtbabs*(bremss+powerlaw)\u001b[39m\u001b[38;5;124m\"\u001b[39m)\n\u001b[0;32m----> 3\u001b[0m \u001b[43mFit\u001b[49m\u001b[38;5;241;43m.\u001b[39;49m\u001b[43mperform\u001b[49m\u001b[43m(\u001b[49m\u001b[43m)\u001b[49m\n\u001b[1;32m      4\u001b[0m Plot\u001b[38;5;241m.\u001b[39mdevice \u001b[38;5;241m=\u001b[39m \u001b[38;5;124m\"\u001b[39m\u001b[38;5;124m/xs\u001b[39m\u001b[38;5;124m\"\u001b[39m\n\u001b[1;32m      5\u001b[0m Plot(\u001b[38;5;124m\"\u001b[39m\u001b[38;5;124mdata resid\u001b[39m\u001b[38;5;124m\"\u001b[39m)\n",
      "File \u001b[0;32m/mnt/c/Users/acer/HEASoft/heasoft-6.34/x86_64-pc-linux-gnu-libc2.35/lib/python/xspec/fit.py:533\u001b[0m, in \u001b[0;36mFitManager.perform\u001b[0;34m(self)\u001b[0m\n\u001b[1;32m    530\u001b[0m \u001b[38;5;250m\u001b[39m\u001b[38;5;124;03m\"\"\"Perform a fit.\"\"\"\u001b[39;00m\n\u001b[1;32m    532\u001b[0m fitArgs \u001b[38;5;241m=\u001b[39m [\u001b[38;5;124m\"\u001b[39m\u001b[38;5;124mfit\u001b[39m\u001b[38;5;124m\"\u001b[39m]\n\u001b[0;32m--> 533\u001b[0m \u001b[43m_pyXspec\u001b[49m\u001b[38;5;241;43m.\u001b[39;49m\u001b[43mdoXspecCmd\u001b[49m\u001b[43m(\u001b[49m\u001b[43mfitArgs\u001b[49m\u001b[43m)\u001b[49m\n",
      "\u001b[0;31mException\u001b[0m: Error executing command: fit"
     ]
    }
   ],
   "source": [
    "AllModels.clear()\n",
    "mo = Model(\"tbabs*(bremss+powerlaw)\")\n",
    "Fit.perform()\n",
    "Plot.device = \"/xs\"\n",
    "Plot(\"data resid\")\n",
    "nH_bremsspowerlaw = mo.TBabs.nH.values[0]"
   ]
  },
  {
   "cell_type": "raw",
   "id": "3b886727-832d-40dd-bc10-8255cc48da8c",
   "metadata": {},
   "source": [
    "img = plt.imread(glob.glob('ObsID*_SRCNUM*_E*_Spectrum_bbodypowerlaw.png')[0])\n",
    "plt.imshow(img)\n",
    "plt.axis('off')"
   ]
  },
  {
   "cell_type": "markdown",
   "id": "bb670d30-6008-4b39-8d6d-ca4544745633",
   "metadata": {},
   "source": [
    "### Apec + Apec model"
   ]
  },
  {
   "cell_type": "code",
   "execution_count": 11,
   "id": "9095b6f3-79b9-4936-a8a7-485d46deb2cb",
   "metadata": {},
   "outputs": [
    {
     "name": "stdout",
     "output_type": "stream",
     "text": [
      "\n",
      "========================================================================\n",
      "Model TBabs<1>(apec<2> + apec<3>) Source No.: 1   Active/On\n",
      "Model Model Component  Parameter  Unit     Value\n",
      " par  comp\n",
      "   1    1   TBabs      nH         10^22    1.00000      +/-  0.0          \n",
      "   2    2   apec       kT         keV      1.00000      +/-  0.0          \n",
      "   3    2   apec       Abundanc            1.00000      frozen\n",
      "   4    2   apec       Redshift            0.0          frozen\n",
      "   5    2   apec       norm                1.00000      +/-  0.0          \n",
      "   6    3   apec       kT         keV      1.00000      +/-  0.0          \n",
      "   7    3   apec       Abundanc            1.00000      frozen\n",
      "   8    3   apec       Redshift            0.0          frozen\n",
      "   9    3   apec       norm                1.00000      +/-  0.0          \n",
      "________________________________________________________________________\n",
      "\n",
      "Ill-formed Fit problem - number of variable parameters exceeds number of bins\n"
     ]
    },
    {
     "name": "stderr",
     "output_type": "stream",
     "text": [
      "***Warning: Ill-formed Fit problem - number of variable parameters exceeds number of bins\n"
     ]
    },
    {
     "ename": "Exception",
     "evalue": "Error executing command: fit",
     "output_type": "error",
     "traceback": [
      "\u001b[0;31m---------------------------------------------------------------------------\u001b[0m",
      "\u001b[0;31mException\u001b[0m                                 Traceback (most recent call last)",
      "Cell \u001b[0;32mIn[11], line 3\u001b[0m\n\u001b[1;32m      1\u001b[0m AllModels\u001b[38;5;241m.\u001b[39mclear()\n\u001b[1;32m      2\u001b[0m mo \u001b[38;5;241m=\u001b[39m Model(\u001b[38;5;124m\"\u001b[39m\u001b[38;5;124mtbabs*(apec+apec)\u001b[39m\u001b[38;5;124m\"\u001b[39m)\n\u001b[0;32m----> 3\u001b[0m \u001b[43mFit\u001b[49m\u001b[38;5;241;43m.\u001b[39;49m\u001b[43mperform\u001b[49m\u001b[43m(\u001b[49m\u001b[43m)\u001b[49m\n\u001b[1;32m      4\u001b[0m Plot\u001b[38;5;241m.\u001b[39mdevice \u001b[38;5;241m=\u001b[39m \u001b[38;5;124m\"\u001b[39m\u001b[38;5;124m/xs\u001b[39m\u001b[38;5;124m\"\u001b[39m\n\u001b[1;32m      5\u001b[0m Plot(\u001b[38;5;124m\"\u001b[39m\u001b[38;5;124mdata resid\u001b[39m\u001b[38;5;124m\"\u001b[39m)\n",
      "File \u001b[0;32m/mnt/c/Users/acer/HEASoft/heasoft-6.34/x86_64-pc-linux-gnu-libc2.35/lib/python/xspec/fit.py:533\u001b[0m, in \u001b[0;36mFitManager.perform\u001b[0;34m(self)\u001b[0m\n\u001b[1;32m    530\u001b[0m \u001b[38;5;250m\u001b[39m\u001b[38;5;124;03m\"\"\"Perform a fit.\"\"\"\u001b[39;00m\n\u001b[1;32m    532\u001b[0m fitArgs \u001b[38;5;241m=\u001b[39m [\u001b[38;5;124m\"\u001b[39m\u001b[38;5;124mfit\u001b[39m\u001b[38;5;124m\"\u001b[39m]\n\u001b[0;32m--> 533\u001b[0m \u001b[43m_pyXspec\u001b[49m\u001b[38;5;241;43m.\u001b[39;49m\u001b[43mdoXspecCmd\u001b[49m\u001b[43m(\u001b[49m\u001b[43mfitArgs\u001b[49m\u001b[43m)\u001b[49m\n",
      "\u001b[0;31mException\u001b[0m: Error executing command: fit"
     ]
    }
   ],
   "source": [
    "AllModels.clear()\n",
    "mo = Model(\"tbabs*(apec+apec)\")\n",
    "Fit.perform()\n",
    "Plot.device = \"/xs\"\n",
    "Plot(\"data resid\")\n",
    "nH_apecapec = mo.TBabs.nH.values[0]"
   ]
  },
  {
   "cell_type": "raw",
   "id": "bf0e018e-cd1b-4c2b-b22f-376f15354a2a",
   "metadata": {},
   "source": [
    "img = plt.imread(glob.glob('ObsID*_SRCNUM*_E*_Spectrum_apecapec.png')[0])\n",
    "plt.imshow(img)\n",
    "plt.axis('off')"
   ]
  },
  {
   "cell_type": "markdown",
   "id": "4e937efd-6eb0-4a7e-bfef-7fee27d95808",
   "metadata": {},
   "source": [
    "## Column density nH\n",
    "### 3DNH-tool\n",
    "http://astro.uni-tuebingen.de/nh3d/nhtool\n",
    "\n",
    "**Sky coordinates (°) :**\n",
    "\n",
    "- RA = 53.6443467°\n",
    "- DEC = -27.8283748°\n",
    "\n",
    "53.64 -27.83\n",
    "\n",
    "**Column density :** nH = 2*10^20 cm^-2"
   ]
  },
  {
   "cell_type": "code",
   "execution_count": 14,
   "id": "65baf2fa-885c-4e1a-a1bf-1911d913c501",
   "metadata": {},
   "outputs": [
    {
     "name": "stdout",
     "output_type": "stream",
     "text": [
      "The different models give a column density of :\n",
      "\n",
      "\u001b[1mbbody\u001b[0m\n",
      "(tbabs) : 496341.5247689146\n",
      "\n",
      "\u001b[1mbremss\u001b[0m\n",
      "(tbabs) : 3192145.071481762\n",
      "\n",
      "\u001b[1mapec\u001b[0m\n",
      "(tbabs) : 168780529.65236008\n",
      "\n",
      "\u001b[1mpowerlaw\u001b[0m\n",
      "(tbabs) : 160490.65032522508\n"
     ]
    }
   ],
   "source": [
    "print(\"The different models give a column density of :\")\n",
    "print()\n",
    "print(color.BOLD+\"bbody\"+color.END)\n",
    "print(f\"(tbabs) : {nH_bbody*10**22}\")\n",
    "print()\n",
    "print(color.BOLD+\"bremss\"+color.END)\n",
    "print(f\"(tbabs) : {nH_bremss*10**22}\")\n",
    "print()\n",
    "print(color.BOLD+\"apec\"+color.END)\n",
    "print(f\"(tbabs) : {nH_apec*10**22}\")\n",
    "print()\n",
    "print(color.BOLD+\"powerlaw\"+color.END)\n",
    "print(f\"(tbabs) : {nH_powerlaw*10**22}\")"
   ]
  },
  {
   "cell_type": "markdown",
   "id": "1973f13c-7580-446c-b7fe-bf273fd37c5d",
   "metadata": {},
   "source": [
    "## Flux\n",
    "### X-ray flux"
   ]
  },
  {
   "cell_type": "code",
   "execution_count": 15,
   "id": "f6ba1ee6-8282-4c45-8230-6603f9bfbae8",
   "metadata": {},
   "outputs": [
    {
     "name": "stdout",
     "output_type": "stream",
     "text": [
      " Model Flux 0.00094747 photons (3.4409e-13 ergs/cm^2/s) range (0.20000 - 12.000 keV)\n"
     ]
    }
   ],
   "source": [
    "AllModels.calcFlux(\".2 12.0\")"
   ]
  },
  {
   "cell_type": "code",
   "execution_count": 16,
   "id": "4e93ef39-9046-44fe-a12f-a84de18a36e6",
   "metadata": {},
   "outputs": [
    {
     "name": "stdout",
     "output_type": "stream",
     "text": [
      "\u001b[1mX-ray flux : \u001b[0mF_X = 3.4409e-13 ergs/cm^2/s\n"
     ]
    }
   ],
   "source": [
    "Flux = 3.4409e-13 # ergs/cm^2/s\n",
    "print(color.BOLD+\"X-ray flux : \"+color.END+f\"F_X = {Flux} ergs/cm^2/s\")"
   ]
  },
  {
   "cell_type": "markdown",
   "id": "d440b926-cb45-47fb-80c4-b37ecede4bbc",
   "metadata": {},
   "source": [
    "### Optical flux\n",
    "No GAIA information, so we use the lower limit of 20.7 mag."
   ]
  },
  {
   "cell_type": "code",
   "execution_count": 17,
   "id": "73d72f2e-7f73-4a0d-b9bf-d9a873af4ee6",
   "metadata": {},
   "outputs": [
    {
     "name": "stdout",
     "output_type": "stream",
     "text": [
      "\u001b[1mOptical  flux : \u001b[0mF_opt = 5.510478332622621e-14 ergs/cm^2/s\n"
     ]
    }
   ],
   "source": [
    "def F_optical(mag):\n",
    "    F0 = 1.05*10**(-5) # GAIA zero point magnitude\n",
    "    return F0*10**(-0.4*mag)\n",
    "    \n",
    "G = 20.7\n",
    "\n",
    "F = F_optical(G)\n",
    "\n",
    "print(color.BOLD+\"Optical  flux : \"+color.END+f\"F_opt = {F} ergs/cm^2/s\")"
   ]
  },
  {
   "cell_type": "markdown",
   "id": "bb102cf8-1439-47c3-b4ba-808713e63eb0",
   "metadata": {},
   "source": [
    "### Ratio F_x-ray/F_optical"
   ]
  },
  {
   "cell_type": "code",
   "execution_count": 18,
   "id": "3dd509ae-fd2f-43b6-9803-376aafb0812f",
   "metadata": {},
   "outputs": [
    {
     "name": "stdout",
     "output_type": "stream",
     "text": [
      "\u001b[1mX-ray flux / Optical flux ratio : \u001b[0mF_x-ray/F_optical = 6.244285508990216\n",
      "F_x-ray = 6.244285508990216*F_optical\n"
     ]
    }
   ],
   "source": [
    "print(color.BOLD+\"X-ray flux / Optical flux ratio : \"+color.END+f\"F_x-ray/F_optical = {Flux/F}\")\n",
    "print(f\"F_x-ray = {Flux/F}*F_optical\")"
   ]
  },
  {
   "cell_type": "markdown",
   "id": "af33ab12-db80-4911-9ffd-7e15a1d8d139",
   "metadata": {},
   "source": [
    "## Luminosity\n",
    "No distance available on ESASky."
   ]
  },
  {
   "cell_type": "code",
   "execution_count": 19,
   "id": "ed044f4c-4f3f-4002-b362-10e3a928ddea",
   "metadata": {},
   "outputs": [
    {
     "name": "stdout",
     "output_type": "stream",
     "text": [
      "\u001b[1mFor a star in the milky way? with d=[1 pc - 30 kpc] :\u001b[0m\n",
      "Luminosity : [4.117080098068204e+25, 4.1170800980682035e+31] erg/s\n",
      "\u001b[1mFor a galaxy? with d=[1 Mpc - 10 Gpc] :\u001b[0m\n",
      "Luminosity : [4.1170800980682046e+37, 4.1170800980682047e+45] erg/s\n"
     ]
    }
   ],
   "source": [
    "# For a star in the milky way : d=[1 pc - 30 kpc]\n",
    "d_pc = 1 # Distance en pc\n",
    "d_kpc = 30 # Distance en kpc\n",
    "\n",
    "d1_cm = d_pc*3.0857*10**18 # Distance en cm, avec 1 pc = 3.0857*10^18 cm\n",
    "d2_cm = d_pc*3.0857*10**21 # Distance en cm, avec 1 pc = 3.0857*10^18 cm\n",
    "\n",
    "# La source est supposée sphérique pour le calcul de la luminosité : L = 4*pi*F*D^2\n",
    "L1 = 4*np.pi*Flux*(d1_cm)**2 # erg/s\n",
    "L2 = 4*np.pi*Flux*(d2_cm)**2 # erg/s\n",
    "\n",
    "print(color.BOLD+\"For a star in the milky way? with d=[1 pc - 30 kpc] :\"+color.END)\n",
    "print(f\"Luminosity : [{L1}, {L2}] erg/s\")\n",
    "\n",
    "# For a galaxy : d=[1 Mpc - 10 Gpc]\n",
    "d_Mpc = 1 # Distance en Mpc\n",
    "d_Gpc = 10 # Distance en Gpc\n",
    "\n",
    "d1_cm = d_Mpc*3.0857*10**24 # Distance en cm, avec 1 pc = 3.0857*10^18 cm\n",
    "d2_cm = d_Gpc*3.0857*10**27 # Distance en cm, avec 1 pc = 3.0857*10^18 cm\n",
    "\n",
    "# La source est supposée sphérique pour le calcul de la luminosité : L = 4*pi*F*D^2\n",
    "L1 = 4*np.pi*Flux*(d1_cm)**2 # erg/s\n",
    "L2 = 4*np.pi*Flux*(d2_cm)**2 # erg/s\n",
    "\n",
    "\n",
    "print(color.BOLD+\"For a galaxy? with d=[1 Mpc - 10 Gpc] :\"+color.END)\n",
    "print(f\"Luminosity : [{L1}, {L2}] erg/s\")"
   ]
  },
  {
   "cell_type": "code",
   "execution_count": 20,
   "id": "c798ddce-0150-4fd2-b2b4-6286a3a2ac96",
   "metadata": {},
   "outputs": [
    {
     "data": {
      "image/png": "[encoded data removed]",
      "text/plain": [
       "<Figure size 1000x500 with 1 Axes>"
      ]
     },
     "metadata": {},
     "output_type": "display_data"
    }
   ],
   "source": [
    "D_pc = np.arange(1, 10**10, 1000)\n",
    "\n",
    "d_cm = D_pc*3.0857*10**18 # Distance en cm, avec 1 pc = 3.0857*10^18 cm\n",
    "\n",
    "# La source est supposée sphérique pour le calcul de la luminosité : L = 4*pi*F*D^2\n",
    "L = 4*np.pi*Flux*(d_cm)**2 # erg/s\n",
    "\n",
    "plt.figure(figsize=[10,5])\n",
    "plt.plot(L,D_pc)\n",
    "plt.xlabel(\"Luminosity (erg/s)\")\n",
    "plt.ylabel(\"Distance (pc)\")\n",
    "plt.xscale(\"log\")\n",
    "plt.yscale(\"log\")\n",
    "plt.grid()"
   ]
  }
 ],
 "metadata": {
  "kernelspec": {
   "display_name": "Python 3 (ipykernel)",
   "language": "python",
   "name": "python3"
  },
  "language_info": {
   "codemirror_mode": {
    "name": "ipython",
    "version": 3
   },
   "file_extension": ".py",
   "mimetype": "text/x-python",
   "name": "python",
   "nbconvert_exporter": "python",
   "pygments_lexer": "ipython3",
   "version": "3.10.12"
  }
 },
 "nbformat": 4,
 "nbformat_minor": 5
}
