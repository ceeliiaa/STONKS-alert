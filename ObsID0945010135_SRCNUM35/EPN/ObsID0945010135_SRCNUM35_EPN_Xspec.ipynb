{
 "cells": [
  {
   "cell_type": "markdown",
   "id": "a09472f9-b7b4-4047-9978-0b5adf3b464f",
   "metadata": {},
   "source": [
    "# ObsID : 0945010135, SRCNUM : 35, Instru : EPN\n",
    "Not on Simbad."
   ]
  },
  {
   "cell_type": "code",
   "execution_count": 3,
   "id": "311ae079-ccd8-41c3-aac4-08c99f67b431",
   "metadata": {},
   "outputs": [
    {
     "name": "stdout",
     "output_type": "stream",
     "text": [
      "Default fit statistic is set to: Chi-Squared\n",
      "   This will apply to all current and newly loaded spectra.\n",
      "Parameter delta values for fits will now be 0.0001 * parValue\n"
     ]
    }
   ],
   "source": [
    "from xspec import *\n",
    "from stingray import Lightcurve\n",
    "from astropy.io import fits\n",
    "import matplotlib.pyplot as plt\n",
    "import matplotlib.image as mpimg\n",
    "import glob\n",
    "import numpy as np\n",
    "\n",
    "class color:\n",
    "   PURPLE = '\\033[95m'\n",
    "   CYAN = '\\033[96m'\n",
    "   DARKCYAN = '\\033[36m'\n",
    "   BLUE = '\\033[94m'\n",
    "   GREEN = '\\033[92m'\n",
    "   YELLOW = '\\033[93m'\n",
    "   RED = '\\033[91m'\n",
    "   BOLD = '\\033[1m'\n",
    "   UNDERLINE = '\\033[4m'\n",
    "   END = '\\033[0m'\n",
    "\n",
    "plt.rcParams['figure.figsize'] = [12,7]\n",
    "\n",
    "Fit.statMethod = \"chi\"\n",
    "Fit.nIterations = 100000\n",
    "Fit.delta = 1e-4\n",
    "Fit.criticalDelta = 1e-4"
   ]
  },
  {
   "cell_type": "markdown",
   "id": "39b7d9d2-7930-4892-81ba-8bd2db47e610",
   "metadata": {},
   "source": [
    "## Load files"
   ]
  },
  {
   "cell_type": "code",
   "execution_count": 7,
   "id": "cd0bcd6f-9565-4899-90b7-1e5d87e7050a",
   "metadata": {},
   "outputs": [
    {
     "name": "stdout",
     "output_type": "stream",
     "text": [
      "\n",
      "1 spectrum  in use\n",
      " \n",
      "Spectral Data File: ObsID0945010135_SRCNUM35_EPN_spectrum_grp.fits  Spectrum 1\n"
     ]
    },
    {
     "data": {
      "text/plain": [
       "<xspec.spectrum.Spectrum at 0x7f040b4ce230>"
      ]
     },
     "execution_count": 7,
     "metadata": {},
     "output_type": "execute_result"
    },
    {
     "name": "stdout",
     "output_type": "stream",
     "text": [
      "Net count rate (cts/s) for Spectrum:1  2.869e-02 +/- 2.080e-03 (74.5 % total)\n",
      " Assigned to Data Group 1 and Plot Group 1\n",
      "  Noticed Channels:  1-7\n",
      "  Telescope: XMM Instrument: EPN  Channel Type: PI\n",
      "  Exposure Time: 1.026e+04 sec\n",
      " Using fit statistic: chi\n",
      " Using Background File                PNbackground_spectrum.fits\n",
      "  Background Exposure Time: 1.026e+04 sec\n",
      " Using Response (RMF) File            PN.rmf for Source 1\n",
      " Using Auxiliary Response (ARF) File  PN.arf\n",
      "\n"
     ]
    }
   ],
   "source": [
    "Spectrum(glob.glob('ObsID*_SRCNUM*_E*_spectrum_grp.fits')[0])"
   ]
  },
  {
   "cell_type": "markdown",
   "id": "870eec10-27a5-4341-a01c-4a98ac400133",
   "metadata": {},
   "source": [
    "## Plot spectrum"
   ]
  },
  {
   "cell_type": "code",
   "execution_count": 8,
   "id": "37f98bf3-3d31-4c65-891f-3ea006da7786",
   "metadata": {},
   "outputs": [],
   "source": [
    "Plot.xAxis=\"keV\"\n",
    "Plot.device = \"/xs\"\n",
    "Plot.xLog=True\n",
    "Plot.yLog=True\n",
    "Plot.addCommand(\"Rescale Y 0.00001 0.005\")\n",
    "Plot(\"data\")"
   ]
  },
  {
   "cell_type": "code",
   "execution_count": 9,
   "id": "27bf0415-368d-4476-8ef7-29af925b48ee",
   "metadata": {},
   "outputs": [
    {
     "data": {
      "text/plain": [
       "(-0.5, 860.5, 665.5, -0.5)"
      ]
     },
     "execution_count": 9,
     "metadata": {},
     "output_type": "execute_result"
    },
    {
     "data": {
      "image/png": "[encoded data removed]",
      "text/plain": [
       "<Figure size 1200x700 with 1 Axes>"
      ]
     },
     "metadata": {},
     "output_type": "display_data"
    }
   ],
   "source": [
    "img = plt.imread(glob.glob('ObsID*_SRCNUM*_E*_Spectrum.png')[0])\n",
    "plt.imshow(img)\n",
    "plt.axis('off')"
   ]
  },
  {
   "cell_type": "markdown",
   "id": "7eb1edda-21f0-4876-bdbc-8cb3e4a347dc",
   "metadata": {},
   "source": [
    "### Black body model"
   ]
  },
  {
   "cell_type": "code",
   "execution_count": 10,
   "id": "25e94b4e-0bb6-439e-af07-e82ebf0faa48",
   "metadata": {},
   "outputs": [
    {
     "name": "stdout",
     "output_type": "stream",
     "text": [
      "\n",
      "========================================================================\n",
      "Model TBabs<1>*bbody<2> Source No.: 1   Active/On\n",
      "Model Model Component  Parameter  Unit     Value\n",
      " par  comp\n",
      "   1    1   TBabs      nH         10^22    1.00000      +/-  0.0          \n",
      "   2    2   bbody      kT         keV      3.00000      +/-  0.0          \n",
      "   3    2   bbody      norm                1.00000      +/-  0.0          \n",
      "________________________________________________________________________\n",
      "\n",
      "tbvabs Version 2.3\n",
      "Cosmic absorption with grains and H2, modified from\n",
      "Wilms, Allen, & McCray, 2000, ApJ 542, 914-924\n",
      "Questions: Joern Wilms\n",
      "joern.wilms@sternwarte.uni-erlangen.de\n",
      "joern.wilms@fau.de\n",
      "\n",
      "http://pulsar.sternwarte.uni-erlangen.de/wilms/research/tbabs/\n",
      "\n",
      "PLEASE NOTICE:\n",
      "To get the model described by the above paper\n",
      "you will also have to set the abundances:\n",
      "   abund wilm\n",
      "\n",
      "Note that this routine ignores the current cross section setting\n",
      "as it always HAS to use the Verner cross sections as a baseline.\n",
      "\n",
      "Fit statistic  : Chi-Squared              4.037726e+11     using 7 bins.\n",
      "\n",
      "Test statistic : Chi-Squared              4.037726e+11     using 7 bins.\n",
      " Null hypothesis probability of 0.000000e+00 with 4 degrees of freedom\n",
      " Current data and model not fit yet.\n",
      "                                   Parameters\n",
      "Chi-Squared  |beta|/N    Lvl          1:nH          2:kT        3:norm\n",
      "224.198      0.0862157     0      0.277027       3.03114   4.03311e-06\n",
      "223.942      12922.1       0      0.110324       3.08399   3.81184e-06\n",
      "223.705      37616.8       0     0.0167039       3.11868   3.66117e-06\n",
      "223.608      76968.5       0    0.00544748       3.10570   3.68649e-06\n",
      "223.565      69329.2       0    0.00235604       3.09528   3.70519e-06\n",
      "223.537      62629.3       0   0.000759640       3.08665   3.71928e-06\n",
      "223.522      57035.8       0   0.000349120       3.07945   3.72962e-06\n",
      "223.511      52357.4       0   0.000142718       3.07328   3.73721e-06\n",
      "223.503      48468.1       0   3.93916e-05       3.06793   3.74263e-06\n",
      "223.496      45233.8       0   1.36082e-05       3.06324   3.74632e-06\n",
      "223.491      42531         0   7.84286e-07       3.05905   3.74863e-06\n",
      "223.487      40260.3       0   3.85550e-07       3.05527   3.74982e-06\n",
      "223.484      38351.5       0   1.87171e-07       3.05184   3.75008e-06\n",
      "223.481      36747.6       0   8.84003e-08       3.04869   3.74956e-06\n",
      "223.479      35400.8       0   3.91931e-08       3.04579   3.74839e-06\n",
      "223.476      34270.8       0   1.46654e-08       3.04308   3.74668e-06\n",
      "223.475      33324.4       0   2.43400e-09       3.04054   3.74452e-06\n",
      "223.473      32532.5       0   9.08563e-10       3.03814   3.74198e-06\n",
      "223.472      31871.5       0   1.47345e-10       3.03586   3.73912e-06\n",
      "223.47       31320.9       0   5.23116e-11       3.03367   3.73601e-06\n",
      "223.469      30856.7       0   4.92093e-12       3.03157   3.73265e-06\n",
      "223.468      30483.3       0   1.96715e-12       3.02954   3.72913e-06\n",
      "223.467      30168.7       0   5.10917e-13       3.02760   3.72536e-06\n",
      "223.466      29939.3       0   1.39286e-13       3.02586   3.72106e-06\n",
      "223.465      29909.1       1   6.24171e-14       3.02501   3.72238e-06\n",
      "223.464      29251.3       0   1.19408e-14       3.02271   3.71963e-06\n",
      "223.463      28659.6       0   2.14093e-15       3.02048   3.71610e-06\n",
      "223.462      28244.9       1   1.04076e-15       3.01966   3.71733e-06\n",
      "223.456      27614.6       0   4.35751e-16       3.01390   3.72362e-06\n",
      "223.441      23600.6       0   1.36450e-16       2.98780   3.70945e-06\n",
      "223.374      13033.1      -1   4.46353e-17       2.81692   3.30135e-06\n",
      "223.33       5651.41      -1   6.78851e-18       2.69500   2.96418e-06\n",
      "***Warning: Zero alpha-matrix diagonal element for parameter 1\n",
      " Parameter 1 is pegged at 6.78851e-18 due to zero or negative pivot element, likely\n",
      " caused by the fit being insensitive to the parameter.\n",
      "223.256      27922.8      -1   6.78851e-18       2.51893   2.63443e-06\n",
      "223.195      6512.33      -1   6.78851e-18       2.37052   2.32346e-06\n",
      "223.134      6081         -1   6.78851e-18       2.23081   2.05579e-06\n",
      "223.075      6857.23      -1   6.78851e-18       2.09883   1.82326e-06\n",
      "223.045      7971.31      -2   6.78851e-18       1.54458   8.63329e-07\n",
      "222.414      748324       -3   6.78851e-18      0.850522   3.72228e-07\n",
      "221.962      2.05061e+06  -4   6.78851e-18      0.732381   4.00583e-07\n",
      "221.955      298151       -5   6.78851e-18      0.722578   3.85536e-07\n",
      "221.955      6110.99      -6   6.78851e-18      0.718691   3.83470e-07\n",
      "1.955      182.287      -7   6.78851e-18      0.717191   3.82610e-07\n",
      "***Warning: Zero alpha-matrix diagonal element for parameter 1\n",
      " Parameter 1 is pegged at 6.78851e-18 due to zero or negative pivot element, likely\n",
      " caused by the fit being insensitive to the parameter.\n",
      "221.955      19.7201      -3   6.78851e-18      0.716614   3.82278e-07\n",
      "==============================\n",
      " Variances and Principal Axes\n",
      "                 2        3  \n",
      " 1.4750E-14| -0.0000   1.0000  \n",
      " 8.1063E-02|  1.0000   0.0000  \n",
      "------------------------------\n",
      "\n",
      "========================\n",
      "  Covariance Matrix\n",
      "        1           2   \n",
      "   8.106e-02   4.676e-08\n",
      "   4.676e-08   4.173e-14\n",
      "------------------------\n",
      "\n",
      "========================================================================\n",
      "Model TBabs<1>*bbody<2> Source No.: 1   Active/On\n",
      "Model Model Component  Parameter  Unit     Value\n",
      " par  comp\n",
      "   1    1   TBabs      nH         10^22    6.78851E-18  +/-  -1.00000     \n",
      "   2    2   bbody      kT         keV      0.716614     +/-  0.284716     \n",
      "   3    2   bbody      norm                3.82278E-07  +/-  2.04274E-07  \n",
      "________________________________________________________________________\n",
      "\n",
      "\n",
      "Fit statistic  : Chi-Squared                221.9551     using 7 bins.\n",
      "\n",
      "Test statistic : Chi-Squared                221.9551     using 7 bins.\n",
      " Null hypothesis probability of 7.1154e-47 with 4 degrees of freedom\n"
     ]
    }
   ],
   "source": [
    "AllModels.clear()\n",
    "mo = Model(\"tbabs*bbody\")\n",
    "Fit.perform()\n",
    "Plot.device = \"/xs\"\n",
    "Plot(\"data resid\")\n",
    "plt.show()"
   ]
  },
  {
   "cell_type": "code",
   "execution_count": 11,
   "id": "f2d55c50-94dd-468d-bf08-69bca0b63260",
   "metadata": {},
   "outputs": [
    {
     "data": {
      "text/plain": [
       "(-0.5, 857.5, 659.5, -0.5)"
      ]
     },
     "execution_count": 11,
     "metadata": {},
     "output_type": "execute_result"
    },
    {
     "data": {
      "image/png": "[encoded data removed]",
      "text/plain": [
       "<Figure size 1200x700 with 1 Axes>"
      ]
     },
     "metadata": {},
     "output_type": "display_data"
    }
   ],
   "source": [
    "img = plt.imread(glob.glob('ObsID*_SRCNUM*_E*_Spectrum_bbody.png')[0])\n",
    "plt.imshow(img)\n",
    "plt.axis('off')"
   ]
  },
  {
   "cell_type": "markdown",
   "id": "b77a2e66-8412-4d85-a277-10782493ea2e",
   "metadata": {},
   "source": [
    "### Bremsstrahlung model"
   ]
  },
  {
   "cell_type": "code",
   "execution_count": 12,
   "id": "3ed606fb-6f75-4369-b9c8-b5c95a0a9577",
   "metadata": {},
   "outputs": [
    {
     "name": "stdout",
     "output_type": "stream",
     "text": [
      "\n",
      "========================================================================\n",
      "Model TBabs<1>*bremss<2> Source No.: 1   Active/On\n",
      "Model Model Component  Parameter  Unit     Value\n",
      " par  comp\n",
      "   1    1   TBabs      nH         10^22    1.00000      +/-  0.0          \n",
      "   2    2   bremss     kT         keV      7.00000      +/-  0.0          \n",
      "   3    2   bremss     norm                1.00000      +/-  0.0          \n",
      "________________________________________________________________________\n",
      "\n",
      "\n",
      "Fit statistic  : Chi-Squared              2.788838e+10     using 7 bins.\n",
      "\n",
      "Test statistic : Chi-Squared              2.788838e+10     using 7 bins.\n",
      " Null hypothesis probability of 0.000000e+00 with 4 degrees of freedom\n",
      " Current data and model not fit yet.\n",
      "                                   Parameters\n",
      "Chi-Squared  |beta|/N    Lvl          1:nH          2:kT        3:norm\n",
      "223.313      0.152842     -1      0.595298       8.29790   1.40723e-05\n",
      "223.139      23.3027      -1      0.338794       20.8042   1.06239e-05\n",
      "218.635      36591.5      -2     0.0138849       196.953   2.64607e-05\n",
      "215.777      128816       -1    0.00688564       199.293   1.29402e-05\n",
      "214.648      100473        0    0.00299562       199.131   1.32589e-05\n",
      "213.822      104549        0    0.00109756       198.878   1.35764e-05\n",
      "213.206      105551        0   0.000244786       198.418   1.38986e-05\n",
      "212.877      104224        0   7.80545e-05       197.251   1.42388e-05\n",
      "212.546      99196.1       0   3.68470e-06       191.161   1.45628e-05\n",
      "210.855      92593.7       0   1.54359e-06       93.2863   1.48527e-05\n",
      "210.846      31733.3       0   7.55590e-07       92.4550   1.48326e-05\n",
      "210.838      31353.8       0   3.62572e-07       91.6519   1.48113e-05\n",
      "210.831      31030.6       0   1.66467e-07       90.8761   1.47889e-05\n",
      "210.824      30761.1       0   6.85855e-08       90.1185   1.47654e-05\n",
      "210.818      30532.8       0   1.97212e-08       89.3878   1.47411e-05\n",
      "210.812      30352.4       0   7.52185e-09       88.6670   1.47161e-05\n",
      "210.806      30198.1       0   1.42994e-09       87.9626   1.46905e-05\n",
      "210.8        30075.3       0   6.69343e-10       87.2676   1.46644e-05\n",
      "210.795      29974.2       0   2.89465e-10       86.5798   1.46378e-05\n",
      "210.79       29890.1       0   9.97278e-11       85.8996   1.46108e-05\n",
      "210.784      29822.3       0   4.95330e-12       85.2305   1.45835e-05\n",
      "210.779      29773.7       0   1.99485e-12       84.5716   1.45558e-05\n",
      "210.774      29744.2       0   5.18063e-13       83.9144   1.45279e-05\n",
      "210.769      29721.9       0   1.47767e-13       83.2469   1.45002e-05\n",
      "210.763      29673.3       0   5.48550e-14       82.5602   1.44741e-05\n",
      "210.76       29549.3       0   9.52188e-15       81.9770   1.44422e-05\n",
      "210.75       29726.4       0   3.62556e-15       81.1562   1.44230e-05\n",
      "210.741      29207.9       0   5.91942e-16       80.3244   1.44028e-05\n",
      "210.738      28693.9       0   2.56961e-16       79.7781   1.43689e-05\n",
      "210.695      28968.6       0   8.80277e-17       77.5063   1.44186e-05\n",
      "210.69       24273.2       0   4.30100e-17       74.1342   1.41090e-05\n",
      "210.661      28936.1       0   1.95871e-17       69.8535   1.38456e-05\n",
      "210.612      30819.5       0   9.71439e-18       67.6239   1.38978e-05\n",
      "210.612      25516.7      14   1.09319e-17       67.6239   1.38978e-05\n",
      "========================================\n",
      " Variances and Principal Axes\n",
      "                 1        2        3  \n",
      " 1.0091E-11| -0.0035  -0.0000   1.0000  \n",
      " 1.4522E-06|  1.0000   0.0000   0.0035  \n",
      " 6.2509E+05| -0.0000   1.0000   0.0000  \n",
      "----------------------------------------\n",
      "\n",
      "====================================\n",
      "  Covariance Matrix\n",
      "        1           2           3   \n",
      "   3.924e-06  -1.243e+00  -5.690e-08\n",
      "  -1.243e+00   6.251e+05   3.120e-02\n",
      "  -5.690e-08   3.120e-02   1.585e-09\n",
      "------------------------------------\n",
      "\n",
      "========================================================================\n",
      "Model TBabs<1>*bremss<2> Source No.: 1   Active/On\n",
      "Model Model Component  Parameter  Unit     Value\n",
      " par  comp\n",
      "   1    1   TBabs      nH         10^22    1.09319E-17  +/-  1.98092E-03  \n",
      "   2    2   bremss     kT         keV      67.6239      +/-  790.623      \n",
      "   3    2   bremss     norm                1.38978E-05  +/-  3.98170E-05  \n",
      "________________________________________________________________________\n",
      "\n",
      "\n",
      "Fit statistic  : Chi-Squared                210.6118     using 7 bins.\n",
      "\n",
      "Test statistic : Chi-Squared                210.6118     using 7 bins.\n",
      " Null hypothesis probability of 1.9623e-44 with 4 degrees of freedom\n"
     ]
    }
   ],
   "source": [
    "AllModels.clear()\n",
    "mo = Model(\"tbabs*bremss\")\n",
    "Fit.perform()\n",
    "Plot.device = \"/xs\"\n",
    "Plot(\"data resid\")"
   ]
  },
  {
   "cell_type": "code",
   "execution_count": 13,
   "id": "4f360356-063b-4c14-8ea4-029f8abb6085",
   "metadata": {},
   "outputs": [
    {
     "data": {
      "text/plain": [
       "(-0.5, 861.5, 666.5, -0.5)"
      ]
     },
     "execution_count": 13,
     "metadata": {},
     "output_type": "execute_result"
    },
    {
     "data": {
      "image/png": "[encoded data removed]",
      "text/plain": [
       "<Figure size 1200x700 with 1 Axes>"
      ]
     },
     "metadata": {},
     "output_type": "display_data"
    }
   ],
   "source": [
    "img = plt.imread(glob.glob('ObsID*_SRCNUM*_E*_Spectrum_bremss.png')[0])\n",
    "plt.imshow(img)\n",
    "plt.axis('off')"
   ]
  },
  {
   "cell_type": "markdown",
   "id": "4d8ea665-d6a1-4113-beaf-fad108850b18",
   "metadata": {},
   "source": [
    "### Apec model"
   ]
  },
  {
   "cell_type": "code",
   "execution_count": 14,
   "id": "4bd12dd8-e0eb-46e8-a057-f7eb723b3a94",
   "metadata": {},
   "outputs": [
    {
     "name": "stdout",
     "output_type": "stream",
     "text": [
      "\n",
      "========================================================================\n",
      "Model TBabs<1>*apec<2> Source No.: 1   Active/On\n",
      "Model Model Component  Parameter  Unit     Value\n",
      " par  comp\n",
      "   1    1   TBabs      nH         10^22    1.00000      +/-  0.0          \n",
      "   2    2   apec       kT         keV      1.00000      +/-  0.0          \n",
      "   3    2   apec       Abundanc            1.00000      frozen\n",
      "   4    2   apec       Redshift            0.0          frozen\n",
      "   5    2   apec       norm                1.00000      +/-  0.0          \n",
      "________________________________________________________________________\n",
      "\n",
      "Reading APEC data from 3.0.9\n",
      "\n",
      "\n",
      "Fit statistic  : Chi-Squared              4.933537e+09     using 7 bins.\n",
      "\n",
      "Test statistic : Chi-Squared              4.933537e+09     using 7 bins.\n",
      " Null hypothesis probability of 0.000000e+00 with 4 degrees of freedom\n",
      " Current data and model not fit yet.\n",
      "                                   Parameters\n",
      "Chi-Squared  |beta|/N    Lvl          1:nH          2:kT        5:norm\n",
      "224.093      1.0005       -2       1.26479       2.01815   4.69064e-05\n",
      "220.807      10969        -2     0.0550406       4.42262   2.33844e-05\n",
      "216.707      32438.6       0     0.0206167       9.89158   1.98793e-05\n",
      "216.458      40671.2       0    0.00339764       25.7915   1.68236e-05\n",
      "216.043      98288.9      -1    0.00128908       45.6244   1.93838e-05\n",
      "214.196      88172.5       0   0.000192522       34.9540   2.04877e-05\n",
      "212.888      85246.1       0   1.74673e-05       27.3333   2.14405e-05\n",
      "211.954      78464.9       0   2.45662e-07       22.1587   2.22015e-05\n",
      "211.282      70788.6       0   7.51794e-09       18.6850   2.27944e-05\n",
      "210.779      63585.7       0   6.98785e-10       16.1949   2.32594e-05\n",
      "210.402      57102.9       0   3.01824e-10       14.3699   2.36259e-05\n",
      "210.108      51383.2       0   1.14608e-10       12.9867   2.39159e-05\n",
      "210.021      44387.5       0   2.56633e-11       12.7820   2.41392e-05\n",
      "209.868      41639.7       0   3.81992e-12       11.9881   2.43179e-05\n",
      "209.754      38004.3       0   1.17329e-12       11.3713   2.44591e-05\n",
      "209.67       34945.8       0   5.28999e-13       10.8964   2.45697e-05\n",
      "209.6        32425.6       0   2.13315e-13       10.4792   2.46560e-05\n",
      "209.551      30181.5       0   5.86610e-14       10.1707   2.47214e-05\n",
      "209.51       28443         0   1.91368e-14       9.91731   2.47893e-05\n",
      "209.486      26798.1       0   7.99162e-16       9.74748   2.48200e-05\n",
      "209.448      25828.5       0   1.17448e-16       9.49430   2.48844e-05\n",
      "209.388      24132.5       0   1.23400e-17       9.10183   2.50423e-05\n",
      "***Warning: Zero alpha-matrix diagonal element for parameter 1\n",
      " Parameter 1 is pegged at 1.234e-17 due to zero or negative pivot element, likely\n",
      " caused by the fit being insensitive to the parameter.\n",
      "209.258      31203.6       0   1.23400e-17       7.77455   2.56870e-05\n",
      "209.247      9734.59      -1   1.23400e-17       7.86378   2.62758e-05\n",
      "209.246      984.959      -2   1.23400e-17       8.13083   2.64980e-05\n",
      "209.246      58.9279       0   1.23400e-17       8.13238   2.65003e-05\n",
      "***Warning: Zero alpha-matrix diagonal element for parameter 1\n",
      " Parameter 1 is pegged at 1.234e-17 due to zero or negative pivot element, likely\n",
      " caused by the fit being insensitive to the parameter.\n",
      "209.246      37.2242       0   1.23400e-17       8.13415   2.65020e-05\n",
      "==============================\n",
      " Variances and Principal Axes\n",
      "                 2        5  \n",
      " 3.1033E-11| -0.0000   1.0000  \n",
      " 2.1006E+02|  1.0000   0.0000  \n",
      "------------------------------\n",
      "\n",
      "========================\n",
      "  Covariance Matrix\n",
      "        1           2   \n",
      "   2.101e+02   1.307e-04\n",
      "   1.307e-04   1.123e-10\n",
      "------------------------\n",
      "\n",
      "========================================================================\n",
      "Model TBabs<1>*apec<2> Source No.: 1   Active/On\n",
      "Model Model Component  Parameter  Unit     Value\n",
      " par  comp\n",
      "   1    1   TBabs      nH         10^22    1.23400E-17  +/-  -1.00000     \n",
      "   2    2   apec       kT         keV      8.13415      +/-  14.4934      \n",
      "   3    2   apec       Abundanc            1.00000      frozen\n",
      "   4    2   apec       Redshift            0.0          frozen\n",
      "   5    2   apec       norm                2.65020E-05  +/-  1.05973E-05  \n",
      "________________________________________________________________________\n",
      "\n",
      "\n",
      "Fit statistic  : Chi-Squared                209.2461     using 7 bins.\n",
      "\n",
      "Test statistic : Chi-Squared                209.2461     using 7 bins.\n",
      " Null hypothesis probability of 3.8595e-44 with 4 degrees of freedom\n"
     ]
    }
   ],
   "source": [
    "AllModels.clear()\n",
    "mo = Model(\"tbabs*apec\")\n",
    "Fit.perform()\n",
    "Plot.device = \"/xs\"\n",
    "Plot(\"data resid\")"
   ]
  },
  {
   "cell_type": "code",
   "execution_count": 15,
   "id": "e3c38dd4-72e7-44cd-b2db-963368ff15b2",
   "metadata": {},
   "outputs": [
    {
     "data": {
      "text/plain": [
       "(-0.5, 860.5, 661.5, -0.5)"
      ]
     },
     "execution_count": 15,
     "metadata": {},
     "output_type": "execute_result"
    },
    {
     "data": {
      "image/png": "[encoded data removed]",
      "text/plain": [
       "<Figure size 1200x700 with 1 Axes>"
      ]
     },
     "metadata": {},
     "output_type": "display_data"
    }
   ],
   "source": [
    "img = plt.imread(glob.glob('ObsID*_SRCNUM*_E*_Spectrum_apec.png')[0])\n",
    "plt.imshow(img)\n",
    "plt.axis('off')"
   ]
  },
  {
   "cell_type": "markdown",
   "id": "746ccf61-8e54-4726-b463-b6a3d137905c",
   "metadata": {},
   "source": [
    "### Powerlaw model"
   ]
  },
  {
   "cell_type": "code",
   "execution_count": 16,
   "id": "ecf8f29f-a8fc-4efc-9ce0-7059d934b811",
   "metadata": {},
   "outputs": [
    {
     "name": "stdout",
     "output_type": "stream",
     "text": [
      "\n",
      "========================================================================\n",
      "Model TBabs<1>*powerlaw<2> Source No.: 1   Active/On\n",
      "Model Model Component  Parameter  Unit     Value\n",
      " par  comp\n",
      "   1    1   TBabs      nH         10^22    1.00000      +/-  0.0          \n",
      "   2    2   powerlaw   PhoIndex            1.00000      +/-  0.0          \n",
      "   3    2   powerlaw   norm                1.00000      +/-  0.0          \n",
      "________________________________________________________________________\n",
      "\n",
      "\n",
      "Fit statistic  : Chi-Squared              1.520314e+11     using 7 bins.\n",
      "\n",
      "Test statistic : Chi-Squared              1.520314e+11     using 7 bins.\n",
      " Null hypothesis probability of 0.000000e+00 with 4 degrees of freedom\n",
      " Current data and model not fit yet.\n",
      "                                   Parameters\n",
      "Chi-Squared  |beta|/N    Lvl          1:nH    2:PhoIndex        3:norm\n",
      "222.385      0.173949     -3     0.0408376      0.119055   1.90411e-06\n",
      "221.784      233203        0    0.00715100      0.147859   1.84444e-06\n",
      "221.548      343702        0    0.00252700      0.150064   1.87959e-06\n",
      "221.43       335768        0    0.00125955      0.154744   1.91155e-06\n",
      "221.338      325267        0   0.000598048      0.160737   1.94115e-06\n",
      "221.263      316492        0   0.000255150      0.167702   1.96880e-06\n",
      "221.199      309382        0   7.98509e-05      0.175387   1.99504e-06\n",
      "221.144      303649        0   3.56575e-05      0.183615   2.02039e-06\n",
      "221.09       298786        0   1.37014e-05      0.192239   2.04534e-06\n",
      "221.037      294733        0   2.81898e-06      0.201209   2.07007e-06\n",
      "220.984      291346        0   1.25139e-07      0.210493   2.09472e-06\n",
      "220.931      288501        0   4.18548e-08      0.220066   2.11939e-06\n",
      "220.877      286115        0   6.66627e-10      0.229912   2.14418e-06\n",
      "220.823      284126        0   3.00673e-11      0.240026   2.16915e-06\n",
      "220.767      282475        0   1.04042e-11      0.250400   2.19437e-06\n",
      "220.71       281113        0   6.69172e-13      0.261006   2.21994e-06\n",
      "220.652      279946        0   7.26264e-14      0.271824   2.24601e-06\n",
      "220.593      278874        0   3.49254e-14      0.282975   2.27228e-06\n",
      "220.531      278181        0   1.46963e-14      0.293716   2.29980e-06\n",
      "220.459      276553        0   2.23484e-15      0.303636   2.33479e-06\n",
      "220.39       270697        0   9.75352e-16      0.316960   2.36438e-06\n",
      "220.316      271166        0   4.22347e-16      0.320047   2.40795e-06\n",
      "220.018      254644        0   1.07691e-17      0.353797   2.56551e-06\n",
      "216.371      221797       -1   3.44616e-18      0.830510   3.85765e-06\n",
      "***Warning: Zero alpha-matrix diagonal element for parameter 1\n",
      " Parameter 1 is pegged at 3.44616e-18 due to zero or negative pivot element, likely\n",
      " caused by the fit being insensitive to the parameter.\n",
      "174.291      359615       -2   3.44616e-18       2.18137   7.55894e-06\n",
      "75.5205      749107        0   3.44616e-18       3.18576   7.21339e-06\n",
      "59.7278      443377       -1   3.44616e-18       3.47231   4.47555e-06\n",
      "55.3353      1.14474e+06  -2   3.44616e-18       3.72575   2.95514e-06\n",
      "54.8745      1.4499e+06   -3   3.44616e-18       3.72780   3.10268e-06\n",
      "54.8745      4002.08      -4   3.44616e-18       3.72709   3.10632e-06\n",
      "***Warning: Zero alpha-matrix diagonal element for parameter 1\n",
      " Parameter 1 is pegged at 3.44616e-18 due to zero or negative pivot element, likely\n",
      " caused by the fit being insensitive to the parameter.\n",
      "54.8745      18.5867      -3   3.44616e-18       3.72720   3.10572e-06\n",
      "==============================\n",
      " Variances and Principal Axes\n",
      "                 2        3  \n",
      " 5.4514E-14|  0.0000   1.0000  \n",
      " 2.0811E-02|  1.0000  -0.0000  \n",
      "------------------------------\n",
      "\n",
      "========================\n",
      "  Covariance Matrix\n",
      "        1           2   \n",
      "   2.081e-02  -1.193e-07\n",
      "  -1.193e-07   7.384e-13\n",
      "------------------------\n",
      "\n",
      "========================================================================\n",
      "Model TBabs<1>*powerlaw<2> Source No.: 1   Active/On\n",
      "Model Model Component  Parameter  Unit     Value\n",
      " par  comp\n",
      "   1    1   TBabs      nH         10^22    3.44616E-18  +/-  -1.00000     \n",
      "   2    2   powerlaw   PhoIndex            3.72720      +/-  0.144260     \n",
      "   3    2   powerlaw   norm                3.10572E-06  +/-  8.59293E-07  \n",
      "________________________________________________________________________\n",
      "\n",
      "\n",
      "Fit statistic  : Chi-Squared                 54.8745     using 7 bins.\n",
      "\n",
      "Test statistic : Chi-Squared                 54.8745     using 7 bins.\n",
      " Null hypothesis probability of 3.4518e-11 with 4 degrees of freedom\n"
     ]
    }
   ],
   "source": [
    "AllModels.clear()\n",
    "mo = Model(\"tbabs*powerlaw\")\n",
    "Fit.perform()\n",
    "Plot.device = \"/xs\"\n",
    "Plot(\"data resid\")"
   ]
  },
  {
   "cell_type": "code",
   "execution_count": 17,
   "id": "4f917501-7614-449b-b313-4ab6c7dd2aee",
   "metadata": {},
   "outputs": [
    {
     "data": {
      "text/plain": [
       "(-0.5, 852.5, 661.5, -0.5)"
      ]
     },
     "execution_count": 17,
     "metadata": {},
     "output_type": "execute_result"
    },
    {
     "data": {
      "image/png": "[encoded data removed]",
      "text/plain": [
       "<Figure size 1200x700 with 1 Axes>"
      ]
     },
     "metadata": {},
     "output_type": "display_data"
    }
   ],
   "source": [
    "img = plt.imread(glob.glob('ObsID*_SRCNUM*_E*_Spectrum_powerlaw.png')[0])\n",
    "plt.imshow(img)\n",
    "plt.axis('off')"
   ]
  },
  {
   "cell_type": "markdown",
   "id": "1973f13c-7580-446c-b7fe-bf273fd37c5d",
   "metadata": {},
   "source": [
    "## Flux"
   ]
  },
  {
   "cell_type": "code",
   "execution_count": 18,
   "id": "f6ba1ee6-8282-4c45-8230-6603f9bfbae8",
   "metadata": {},
   "outputs": [
    {
     "name": "stdout",
     "output_type": "stream",
     "text": [
      " Model Flux 9.1763e-05 photons (4.6391e-14 ergs/cm^2/s) range (0.20000 - 12.000 keV)\n"
     ]
    }
   ],
   "source": [
    "AllModels.calcFlux(\".2 12.0\")"
   ]
  },
  {
   "cell_type": "code",
   "execution_count": 19,
   "id": "4e93ef39-9046-44fe-a12f-a84de18a36e6",
   "metadata": {},
   "outputs": [],
   "source": [
    "Flux = 4.6391e-14 # ergs/cm^2/s"
   ]
  },
  {
   "cell_type": "markdown",
   "id": "ccedc18b-2d1e-4c77-ab21-4a83b5e6846c",
   "metadata": {},
   "source": [
    "### ESASky\n",
    "No distance available on ESASky. https://sky.esa.int/esasky/?target=53.64433333333333%20-27.827944444444444&hips=XMM-Newton+EPIC+color&fov=1&projection=SIN&cooframe=J2000&sci=true&lang=fr\n",
    "\n",
    "``EPIC Stack``\n",
    "\n",
    "- Stack Catalogue name : 4XMMs J033434.6-274942\n",
    "- RA : 03h 34m 34.643s\n",
    "- DEC : -27° 49' 42.15\""
   ]
  }
 ],
 "metadata": {
  "kernelspec": {
   "display_name": "Python 3 (ipykernel)",
   "language": "python",
   "name": "python3"
  },
  "language_info": {
   "codemirror_mode": {
    "name": "ipython",
    "version": 3
   },
   "file_extension": ".py",
   "mimetype": "text/x-python",
   "name": "python",
   "nbconvert_exporter": "python",
   "pygments_lexer": "ipython3",
   "version": "3.10.12"
  }
 },
 "nbformat": 4,
 "nbformat_minor": 5
}
