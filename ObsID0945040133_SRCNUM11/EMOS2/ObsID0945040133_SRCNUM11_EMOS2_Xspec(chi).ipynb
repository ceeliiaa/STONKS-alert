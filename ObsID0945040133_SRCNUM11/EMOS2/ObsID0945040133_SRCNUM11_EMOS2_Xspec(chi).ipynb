{
 "cells": [
  {
   "cell_type": "markdown",
   "id": "c521860a-0601-4bc3-b8cc-119c1d638a4c",
   "metadata": {},
   "source": [
    "# ObsID : 0945040133, SRCNUM : 11, Instru : EMOS2\n",
    "Not on Simbad."
   ]
  },
  {
   "cell_type": "markdown",
   "id": "1192f2d6-5f1f-45a7-a0fb-6457440642bf",
   "metadata": {},
   "source": [
    "## ESASky\n",
    "\n",
    "https://sky.esa.int/esasky/?target=54.38275000000001%20-28.289333333333335&hips=XMM-Newton+EPIC+color&fov=1&projection=SIN&cooframe=J2000&sci=true&lang=fr\n",
    "\n",
    "``EPIC Stack``\n",
    "- Stack Catalogue name : 4XMMs J033731.8-281722\n",
    "- IAU name : 4XMM J033731.8-281721\n",
    "- RA : 03h 37m 31.839s\n",
    "- DEC : -28° 17' 22.01\""
   ]
  },
  {
   "cell_type": "code",
   "execution_count": 1,
   "id": "a601bb92-6ab6-4642-bab7-b8cb9c6656a1",
   "metadata": {},
   "outputs": [],
   "source": [
    "from xspec import *\n",
    "from stingray import Lightcurve\n",
    "from astropy.io import fits\n",
    "import matplotlib.pyplot as plt\n",
    "import matplotlib.image as mpimg\n",
    "import glob\n",
    "import numpy as np\n",
    "\n",
    "class color:\n",
    "   PURPLE = '\\033[95m'\n",
    "   CYAN = '\\033[96m'\n",
    "   DARKCYAN = '\\033[36m'\n",
    "   BLUE = '\\033[94m'\n",
    "   GREEN = '\\033[92m'\n",
    "   YELLOW = '\\033[93m'\n",
    "   RED = '\\033[91m'\n",
    "   BOLD = '\\033[1m'\n",
    "   UNDERLINE = '\\033[4m'\n",
    "   END = '\\033[0m'\n",
    "\n",
    "plt.rcParams['figure.figsize'] = [12,7]"
   ]
  },
  {
   "cell_type": "markdown",
   "id": "05308fe6-9295-444b-b2b9-c9c366d818c0",
   "metadata": {},
   "source": [
    "## Fit statisic"
   ]
  },
  {
   "cell_type": "code",
   "execution_count": null,
   "id": "ee067b65-556d-41fc-8b02-083a98b2f384",
   "metadata": {},
   "outputs": [],
   "source": [
    "Fit.statMethod = \"chi\"\n",
    "Fit.nIterations = 100000\n",
    "Fit.delta = 1e-4\n",
    "Fit.criticalDelta = 1e-4"
   ]
  },
  {
   "cell_type": "markdown",
   "id": "b3bef4aa-73a9-461c-8ae3-51c5bfa0a578",
   "metadata": {},
   "source": [
    "## Load files\n",
    "Spectrum, Background, Response, Auxiliary response."
   ]
  },
  {
   "cell_type": "code",
   "execution_count": 2,
   "id": "edd8268e-eb42-436c-b895-c44b2c6335b7",
   "metadata": {},
   "outputs": [
    {
     "name": "stdout",
     "output_type": "stream",
     "text": [
      "***Warning: Detected response matrix energy bin value = 0 (or neg).\n",
      "     XSPEC will instead use small finite value (response file will not be altered).\n",
      "\n",
      "1 spectrum  in use\n",
      " \n",
      "Spectral Data File: ObsID0945040133_SRCNUM11_EMOS2_spectrum_grp.fits  Spectrum 1\n",
      "Net count rate (cts/s) for Spectrum:1  3.490e-03 +/- 6.686e-04 (74.8 % total)\n",
      " Assigned to Data Group 1 and Plot Group 1\n",
      "  Noticed Channels:  1-2\n",
      "  Telescope: XMM Instrument: EMOS2  Channel Type: PI\n",
      "  Exposure Time: 1.114e+04 sec\n",
      " Using fit statistic: chi\n",
      " Using Background File                ObsID0945040133_SRCNUM11_EMOS2_background_spectrum.fits\n",
      "  Background Exposure Time: 1.114e+04 sec\n",
      " Using Response (RMF) File            ObsID0945040133_SRCNUM11_EMOS2.rmf for Source 1\n",
      " Using Auxiliary Response (ARF) File  ObsID0945040133_SRCNUM11_EMOS2.arf\n",
      "\n"
     ]
    }
   ],
   "source": [
    "AllData.clear()\n",
    "spec = Spectrum(glob.glob('ObsID*_SRCNUM*_E*_spectrum_grp.fits')[0])"
   ]
  },
  {
   "cell_type": "code",
   "execution_count": 3,
   "id": "206addac-4b87-43eb-8a73-7c375326ed9f",
   "metadata": {},
   "outputs": [
    {
     "name": "stdout",
     "output_type": "stream",
     "text": [
      "Number of counts = 38.8786\n",
      "\n",
      "The low number of counts indicates that we should consider using cstat fit statistic instead of chi statistic.\n"
     ]
    }
   ],
   "source": [
    "n_cts = 3.490e-03*1.114e+04\n",
    "\n",
    "print(\"Number of counts =\",n_cts)\n",
    "\n",
    "if int(n_cts)<100:\n",
    "    print()\n",
    "    print(\"The low number of counts indicates that we should consider using cstat fit statistic instead of chi statistic.\")"
   ]
  },
  {
   "cell_type": "markdown",
   "id": "880eb92a-eaeb-4001-aa06-0eedfec69043",
   "metadata": {},
   "source": [
    "## Plot spectrum"
   ]
  },
  {
   "cell_type": "code",
   "execution_count": 4,
   "id": "4cc37457-f72a-4881-89d5-828fd66fd023",
   "metadata": {},
   "outputs": [
    {
     "name": "stdout",
     "output_type": "stream",
     "text": [
      "     1 channels (1) ignored in spectrum #     1\n",
      "      No channels ignored (no channels in specified range)\n",
      "\n"
     ]
    }
   ],
   "source": [
    "Plot.xAxis=\"keV\"\n",
    "Plot.device = \"/xs\"\n",
    "Plot.xLog=True\n",
    "Plot.yLog=True\n",
    "Plot(\"data\")\n",
    "spec.ignore(\"**-0.2 12-**\")"
   ]
  },
  {
   "cell_type": "code",
   "execution_count": 4,
   "id": "9c969a35-f1e5-4704-ab87-c986550b4334",
   "metadata": {},
   "outputs": [
    {
     "data": {
      "text/plain": [
       "(-0.5, 862.5, 660.5, -0.5)"
      ]
     },
     "execution_count": 4,
     "metadata": {},
     "output_type": "execute_result"
    },
    {
     "data": {
      "image/png": "[encoded data removed]",
      "text/plain": [
       "<Figure size 1200x700 with 1 Axes>"
      ]
     },
     "metadata": {},
     "output_type": "display_data"
    }
   ],
   "source": [
    "img = plt.imread(glob.glob('ObsID*_SRCNUM*_E*_Spectrum.png')[0])\n",
    "plt.imshow(img)\n",
    "plt.axis('off')"
   ]
  },
  {
   "cell_type": "markdown",
   "id": "98519803-5052-4cb4-bfe7-7dad39416519",
   "metadata": {},
   "source": [
    "### Black body model"
   ]
  },
  {
   "cell_type": "code",
   "execution_count": 5,
   "id": "6c48de73-4acc-4052-9c2b-705487b7395c",
   "metadata": {},
   "outputs": [
    {
     "name": "stdout",
     "output_type": "stream",
     "text": [
      "\n",
      "========================================================================\n",
      "Model TBabs<1>*bbody<2> Source No.: 1   Active/On\n",
      "Model Model Component  Parameter  Unit     Value\n",
      " par  comp\n",
      "   1    1   TBabs      nH         10^22    1.00000      +/-  0.0          \n",
      "   2    2   bbody      kT         keV      3.00000      +/-  0.0          \n",
      "   3    2   bbody      norm                1.00000      +/-  0.0          \n",
      "________________________________________________________________________\n",
      "\n",
      "tbvabs Version 2.3\n",
      "Cosmic absorption with grains and H2, modified from\n",
      "Wilms, Allen, & McCray, 2000, ApJ 542, 914-924\n",
      "Questions: Joern Wilms\n",
      "joern.wilms@sternwarte.uni-erlangen.de\n",
      "joern.wilms@fau.de\n",
      "\n",
      "http://pulsar.sternwarte.uni-erlangen.de/wilms/research/tbabs/\n",
      "\n",
      "PLEASE NOTICE:\n",
      "To get the model described by the above paper\n",
      "you will also have to set the abundances:\n",
      "   abund wilm\n",
      "\n",
      "Note that this routine ignores the current cross section setting\n",
      "as it always HAS to use the Verner cross sections as a baseline.\n",
      "Ill-formed Fit problem - number of variable parameters exceeds number of bins\n"
     ]
    },
    {
     "name": "stderr",
     "output_type": "stream",
     "text": [
      "***Warning: Ill-formed Fit problem - number of variable parameters exceeds number of bins\n"
     ]
    },
    {
     "ename": "Exception",
     "evalue": "Error executing command: fit",
     "output_type": "error",
     "traceback": [
      "\u001b[0;31m---------------------------------------------------------------------------\u001b[0m",
      "\u001b[0;31mException\u001b[0m                                 Traceback (most recent call last)",
      "Cell \u001b[0;32mIn[5], line 3\u001b[0m\n\u001b[1;32m      1\u001b[0m AllModels\u001b[38;5;241m.\u001b[39mclear()\n\u001b[1;32m      2\u001b[0m mo \u001b[38;5;241m=\u001b[39m Model(\u001b[38;5;124m\"\u001b[39m\u001b[38;5;124mtbabs*bbody\u001b[39m\u001b[38;5;124m\"\u001b[39m)\n\u001b[0;32m----> 3\u001b[0m \u001b[43mFit\u001b[49m\u001b[38;5;241;43m.\u001b[39;49m\u001b[43mperform\u001b[49m\u001b[43m(\u001b[49m\u001b[43m)\u001b[49m\n\u001b[1;32m      4\u001b[0m Plot\u001b[38;5;241m.\u001b[39mdevice \u001b[38;5;241m=\u001b[39m \u001b[38;5;124m\"\u001b[39m\u001b[38;5;124m/xs\u001b[39m\u001b[38;5;124m\"\u001b[39m\n\u001b[1;32m      5\u001b[0m Plot(\u001b[38;5;124m\"\u001b[39m\u001b[38;5;124mdata resid\u001b[39m\u001b[38;5;124m\"\u001b[39m)\n",
      "File \u001b[0;32m/mnt/c/Users/acer/HEASoft/heasoft-6.34/x86_64-pc-linux-gnu-libc2.35/lib/python/xspec/fit.py:533\u001b[0m, in \u001b[0;36mFitManager.perform\u001b[0;34m(self)\u001b[0m\n\u001b[1;32m    530\u001b[0m \u001b[38;5;250m\u001b[39m\u001b[38;5;124;03m\"\"\"Perform a fit.\"\"\"\u001b[39;00m\n\u001b[1;32m    532\u001b[0m fitArgs \u001b[38;5;241m=\u001b[39m [\u001b[38;5;124m\"\u001b[39m\u001b[38;5;124mfit\u001b[39m\u001b[38;5;124m\"\u001b[39m]\n\u001b[0;32m--> 533\u001b[0m \u001b[43m_pyXspec\u001b[49m\u001b[38;5;241;43m.\u001b[39;49m\u001b[43mdoXspecCmd\u001b[49m\u001b[43m(\u001b[49m\u001b[43mfitArgs\u001b[49m\u001b[43m)\u001b[49m\n",
      "\u001b[0;31mException\u001b[0m: Error executing command: fit"
     ]
    }
   ],
   "source": [
    "AllModels.clear()\n",
    "mo = Model(\"tbabs*bbody\")\n",
    "Fit.perform()\n",
    "Plot.device = \"/xs\"\n",
    "Plot(\"data resid\")"
   ]
  },
  {
   "cell_type": "markdown",
   "id": "ff9fb499-d3ba-410c-b6c2-12f7d4ac82a0",
   "metadata": {},
   "source": [
    "### Bremsstrahlung model"
   ]
  },
  {
   "cell_type": "code",
   "execution_count": 6,
   "id": "f00f133a-c83a-4c92-9f10-4b5f63f74b3e",
   "metadata": {},
   "outputs": [
    {
     "name": "stdout",
     "output_type": "stream",
     "text": [
      "\n",
      "========================================================================\n",
      "Model TBabs<1>*bremss<2> Source No.: 1   Active/On\n",
      "Model Model Component  Parameter  Unit     Value\n",
      " par  comp\n",
      "   1    1   TBabs      nH         10^22    1.00000      +/-  0.0          \n",
      "   2    2   bremss     kT         keV      7.00000      +/-  0.0          \n",
      "   3    2   bremss     norm                1.00000      +/-  0.0          \n",
      "________________________________________________________________________\n",
      "\n",
      "Ill-formed Fit problem - number of variable parameters exceeds number of bins\n"
     ]
    },
    {
     "name": "stderr",
     "output_type": "stream",
     "text": [
      "***Warning: Ill-formed Fit problem - number of variable parameters exceeds number of bins\n"
     ]
    },
    {
     "ename": "Exception",
     "evalue": "Error executing command: fit",
     "output_type": "error",
     "traceback": [
      "\u001b[0;31m---------------------------------------------------------------------------\u001b[0m",
      "\u001b[0;31mException\u001b[0m                                 Traceback (most recent call last)",
      "Cell \u001b[0;32mIn[6], line 3\u001b[0m\n\u001b[1;32m      1\u001b[0m AllModels\u001b[38;5;241m.\u001b[39mclear()\n\u001b[1;32m      2\u001b[0m mo \u001b[38;5;241m=\u001b[39m Model(\u001b[38;5;124m\"\u001b[39m\u001b[38;5;124mtbabs*bremss\u001b[39m\u001b[38;5;124m\"\u001b[39m)\n\u001b[0;32m----> 3\u001b[0m \u001b[43mFit\u001b[49m\u001b[38;5;241;43m.\u001b[39;49m\u001b[43mperform\u001b[49m\u001b[43m(\u001b[49m\u001b[43m)\u001b[49m\n\u001b[1;32m      4\u001b[0m Plot\u001b[38;5;241m.\u001b[39mdevice \u001b[38;5;241m=\u001b[39m \u001b[38;5;124m\"\u001b[39m\u001b[38;5;124m/xs\u001b[39m\u001b[38;5;124m\"\u001b[39m\n\u001b[1;32m      5\u001b[0m Plot(\u001b[38;5;124m\"\u001b[39m\u001b[38;5;124mdata resid\u001b[39m\u001b[38;5;124m\"\u001b[39m)\n",
      "File \u001b[0;32m/mnt/c/Users/acer/HEASoft/heasoft-6.34/x86_64-pc-linux-gnu-libc2.35/lib/python/xspec/fit.py:533\u001b[0m, in \u001b[0;36mFitManager.perform\u001b[0;34m(self)\u001b[0m\n\u001b[1;32m    530\u001b[0m \u001b[38;5;250m\u001b[39m\u001b[38;5;124;03m\"\"\"Perform a fit.\"\"\"\u001b[39;00m\n\u001b[1;32m    532\u001b[0m fitArgs \u001b[38;5;241m=\u001b[39m [\u001b[38;5;124m\"\u001b[39m\u001b[38;5;124mfit\u001b[39m\u001b[38;5;124m\"\u001b[39m]\n\u001b[0;32m--> 533\u001b[0m \u001b[43m_pyXspec\u001b[49m\u001b[38;5;241;43m.\u001b[39;49m\u001b[43mdoXspecCmd\u001b[49m\u001b[43m(\u001b[49m\u001b[43mfitArgs\u001b[49m\u001b[43m)\u001b[49m\n",
      "\u001b[0;31mException\u001b[0m: Error executing command: fit"
     ]
    }
   ],
   "source": [
    "AllModels.clear()\n",
    "mo = Model(\"tbabs*bremss\")\n",
    "Fit.perform()\n",
    "Plot.device = \"/xs\"\n",
    "Plot(\"data resid\")"
   ]
  },
  {
   "cell_type": "markdown",
   "id": "3edcca3a-8165-4c61-80ed-0b4b4087c8c3",
   "metadata": {},
   "source": [
    "### Apec model"
   ]
  },
  {
   "cell_type": "code",
   "execution_count": 7,
   "id": "629f01ff-336d-445c-8328-31a864f052a1",
   "metadata": {},
   "outputs": [
    {
     "name": "stdout",
     "output_type": "stream",
     "text": [
      "\n",
      "========================================================================\n",
      "Model TBabs<1>*apec<2> Source No.: 1   Active/On\n",
      "Model Model Component  Parameter  Unit     Value\n",
      " par  comp\n",
      "   1    1   TBabs      nH         10^22    1.00000      +/-  0.0          \n",
      "   2    2   apec       kT         keV      1.00000      +/-  0.0          \n",
      "   3    2   apec       Abundanc            1.00000      frozen\n",
      "   4    2   apec       Redshift            0.0          frozen\n",
      "   5    2   apec       norm                1.00000      +/-  0.0          \n",
      "________________________________________________________________________\n",
      "\n",
      "Reading APEC data from 3.0.9\n",
      "\n",
      "Ill-formed Fit problem - number of variable parameters exceeds number of bins\n"
     ]
    },
    {
     "name": "stderr",
     "output_type": "stream",
     "text": [
      "***Warning: Ill-formed Fit problem - number of variable parameters exceeds number of bins\n"
     ]
    },
    {
     "ename": "Exception",
     "evalue": "Error executing command: fit",
     "output_type": "error",
     "traceback": [
      "\u001b[0;31m---------------------------------------------------------------------------\u001b[0m",
      "\u001b[0;31mException\u001b[0m                                 Traceback (most recent call last)",
      "Cell \u001b[0;32mIn[7], line 3\u001b[0m\n\u001b[1;32m      1\u001b[0m AllModels\u001b[38;5;241m.\u001b[39mclear()\n\u001b[1;32m      2\u001b[0m mo \u001b[38;5;241m=\u001b[39m Model(\u001b[38;5;124m\"\u001b[39m\u001b[38;5;124mtbabs*apec\u001b[39m\u001b[38;5;124m\"\u001b[39m)\n\u001b[0;32m----> 3\u001b[0m \u001b[43mFit\u001b[49m\u001b[38;5;241;43m.\u001b[39;49m\u001b[43mperform\u001b[49m\u001b[43m(\u001b[49m\u001b[43m)\u001b[49m\n\u001b[1;32m      4\u001b[0m Plot\u001b[38;5;241m.\u001b[39mdevice \u001b[38;5;241m=\u001b[39m \u001b[38;5;124m\"\u001b[39m\u001b[38;5;124m/xs\u001b[39m\u001b[38;5;124m\"\u001b[39m\n\u001b[1;32m      5\u001b[0m Plot(\u001b[38;5;124m\"\u001b[39m\u001b[38;5;124mdata resid\u001b[39m\u001b[38;5;124m\"\u001b[39m)\n",
      "File \u001b[0;32m/mnt/c/Users/acer/HEASoft/heasoft-6.34/x86_64-pc-linux-gnu-libc2.35/lib/python/xspec/fit.py:533\u001b[0m, in \u001b[0;36mFitManager.perform\u001b[0;34m(self)\u001b[0m\n\u001b[1;32m    530\u001b[0m \u001b[38;5;250m\u001b[39m\u001b[38;5;124;03m\"\"\"Perform a fit.\"\"\"\u001b[39;00m\n\u001b[1;32m    532\u001b[0m fitArgs \u001b[38;5;241m=\u001b[39m [\u001b[38;5;124m\"\u001b[39m\u001b[38;5;124mfit\u001b[39m\u001b[38;5;124m\"\u001b[39m]\n\u001b[0;32m--> 533\u001b[0m \u001b[43m_pyXspec\u001b[49m\u001b[38;5;241;43m.\u001b[39;49m\u001b[43mdoXspecCmd\u001b[49m\u001b[43m(\u001b[49m\u001b[43mfitArgs\u001b[49m\u001b[43m)\u001b[49m\n",
      "\u001b[0;31mException\u001b[0m: Error executing command: fit"
     ]
    }
   ],
   "source": [
    "AllModels.clear()\n",
    "mo = Model(\"tbabs*apec\")\n",
    "Fit.perform()\n",
    "Plot.device = \"/xs\"\n",
    "Plot(\"data resid\")"
   ]
  },
  {
   "cell_type": "markdown",
   "id": "9f19aeb6-3c27-44a9-8ad3-a2eb2777e421",
   "metadata": {},
   "source": [
    "### Powerlaw model"
   ]
  },
  {
   "cell_type": "code",
   "execution_count": 8,
   "id": "85b08776-73cd-4f36-a843-c34effff4655",
   "metadata": {},
   "outputs": [
    {
     "name": "stdout",
     "output_type": "stream",
     "text": [
      "\n",
      "========================================================================\n",
      "Model TBabs<1>*powerlaw<2> Source No.: 1   Active/On\n",
      "Model Model Component  Parameter  Unit     Value\n",
      " par  comp\n",
      "   1    1   TBabs      nH         10^22    1.00000      +/-  0.0          \n",
      "   2    2   powerlaw   PhoIndex            1.00000      +/-  0.0          \n",
      "   3    2   powerlaw   norm                1.00000      +/-  0.0          \n",
      "________________________________________________________________________\n",
      "\n",
      "Ill-formed Fit problem - number of variable parameters exceeds number of bins\n"
     ]
    },
    {
     "name": "stderr",
     "output_type": "stream",
     "text": [
      "***Warning: Ill-formed Fit problem - number of variable parameters exceeds number of bins\n"
     ]
    },
    {
     "ename": "Exception",
     "evalue": "Error executing command: fit",
     "output_type": "error",
     "traceback": [
      "\u001b[0;31m---------------------------------------------------------------------------\u001b[0m",
      "\u001b[0;31mException\u001b[0m                                 Traceback (most recent call last)",
      "Cell \u001b[0;32mIn[8], line 3\u001b[0m\n\u001b[1;32m      1\u001b[0m AllModels\u001b[38;5;241m.\u001b[39mclear()\n\u001b[1;32m      2\u001b[0m mo \u001b[38;5;241m=\u001b[39m Model(\u001b[38;5;124m\"\u001b[39m\u001b[38;5;124mtbabs*powerlaw\u001b[39m\u001b[38;5;124m\"\u001b[39m)\n\u001b[0;32m----> 3\u001b[0m \u001b[43mFit\u001b[49m\u001b[38;5;241;43m.\u001b[39;49m\u001b[43mperform\u001b[49m\u001b[43m(\u001b[49m\u001b[43m)\u001b[49m\n\u001b[1;32m      4\u001b[0m Plot\u001b[38;5;241m.\u001b[39mdevice \u001b[38;5;241m=\u001b[39m \u001b[38;5;124m\"\u001b[39m\u001b[38;5;124m/xs\u001b[39m\u001b[38;5;124m\"\u001b[39m\n\u001b[1;32m      5\u001b[0m Plot(\u001b[38;5;124m\"\u001b[39m\u001b[38;5;124mdata resid\u001b[39m\u001b[38;5;124m\"\u001b[39m)\n",
      "File \u001b[0;32m/mnt/c/Users/acer/HEASoft/heasoft-6.34/x86_64-pc-linux-gnu-libc2.35/lib/python/xspec/fit.py:533\u001b[0m, in \u001b[0;36mFitManager.perform\u001b[0;34m(self)\u001b[0m\n\u001b[1;32m    530\u001b[0m \u001b[38;5;250m\u001b[39m\u001b[38;5;124;03m\"\"\"Perform a fit.\"\"\"\u001b[39;00m\n\u001b[1;32m    532\u001b[0m fitArgs \u001b[38;5;241m=\u001b[39m [\u001b[38;5;124m\"\u001b[39m\u001b[38;5;124mfit\u001b[39m\u001b[38;5;124m\"\u001b[39m]\n\u001b[0;32m--> 533\u001b[0m \u001b[43m_pyXspec\u001b[49m\u001b[38;5;241;43m.\u001b[39;49m\u001b[43mdoXspecCmd\u001b[49m\u001b[43m(\u001b[49m\u001b[43mfitArgs\u001b[49m\u001b[43m)\u001b[49m\n",
      "\u001b[0;31mException\u001b[0m: Error executing command: fit"
     ]
    }
   ],
   "source": [
    "AllModels.clear()\n",
    "mo = Model(\"tbabs*powerlaw\")\n",
    "Fit.perform()\n",
    "Plot.device = \"/xs\"\n",
    "Plot(\"data resid\")"
   ]
  }
 ],
 "metadata": {
  "kernelspec": {
   "display_name": "Python 3 (ipykernel)",
   "language": "python",
   "name": "python3"
  },
  "language_info": {
   "codemirror_mode": {
    "name": "ipython",
    "version": 3
   },
   "file_extension": ".py",
   "mimetype": "text/x-python",
   "name": "python",
   "nbconvert_exporter": "python",
   "pygments_lexer": "ipython3",
   "version": "3.10.12"
  }
 },
 "nbformat": 4,
 "nbformat_minor": 5
}
