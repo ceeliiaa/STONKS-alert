{
 "cells": [
  {
   "cell_type": "markdown",
   "id": "c521860a-0601-4bc3-b8cc-119c1d638a4c",
   "metadata": {},
   "source": [
    "# ObsID : 0945040133, SRCNUM : 11, Instru : EPN\n",
    "Not on Simbad"
   ]
  },
  {
   "cell_type": "code",
   "execution_count": 1,
   "id": "a601bb92-6ab6-4642-bab7-b8cb9c6656a1",
   "metadata": {},
   "outputs": [
    {
     "name": "stdout",
     "output_type": "stream",
     "text": [
      "Default fit statistic is set to: Chi-Squared\n",
      "   This will apply to all current and newly loaded spectra.\n",
      "Parameter delta values for fits will now be 0.0001 * parValue\n"
     ]
    }
   ],
   "source": [
    "from xspec import *\n",
    "from stingray import Lightcurve\n",
    "from astropy.io import fits\n",
    "import matplotlib.pyplot as plt\n",
    "import matplotlib.image as mpimg\n",
    "import glob\n",
    "import numpy as np\n",
    "\n",
    "class color:\n",
    "   PURPLE = '\\033[95m'\n",
    "   CYAN = '\\033[96m'\n",
    "   DARKCYAN = '\\033[36m'\n",
    "   BLUE = '\\033[94m'\n",
    "   GREEN = '\\033[92m'\n",
    "   YELLOW = '\\033[93m'\n",
    "   RED = '\\033[91m'\n",
    "   BOLD = '\\033[1m'\n",
    "   UNDERLINE = '\\033[4m'\n",
    "   END = '\\033[0m'\n",
    "\n",
    "plt.rcParams['figure.figsize'] = [12,7]\n",
    "\n",
    "Fit.statMethod = \"chi\"\n",
    "Fit.nIterations = 100000\n",
    "Fit.delta = 1e-4\n",
    "Fit.criticalDelta = 1e-4"
   ]
  },
  {
   "cell_type": "markdown",
   "id": "b3bef4aa-73a9-461c-8ae3-51c5bfa0a578",
   "metadata": {},
   "source": [
    "## Load files\n",
    "Spectrum, Background, Response, Auxiliary response."
   ]
  },
  {
   "cell_type": "code",
   "execution_count": 2,
   "id": "edd8268e-eb42-436c-b895-c44b2c6335b7",
   "metadata": {},
   "outputs": [
    {
     "name": "stdout",
     "output_type": "stream",
     "text": [
      "\n",
      "1 spectrum  in use\n",
      " \n",
      "Spectral Data File: ObsID0945040133_SRCNUM11_EPN_spectrum_grp.fits  Spectrum 1\n",
      "Net count rate (cts/s) for Spectrum:1  8.409e-03 +/- 9.121e-04 (100.0 % total)\n"
     ]
    },
    {
     "data": {
      "text/plain": [
       "<xspec.spectrum.Spectrum at 0x7f264d7d1b40>"
      ]
     },
     "execution_count": 2,
     "metadata": {},
     "output_type": "execute_result"
    },
    {
     "name": "stdout",
     "output_type": "stream",
     "text": [
      " Assigned to Data Group 1 and Plot Group 1\n",
      "  Noticed Channels:  1-3\n",
      "  Telescope: XMM Instrument: EPN  Channel Type: PI\n",
      "  Exposure Time: 1.011e+04 sec\n",
      " Using fit statistic: chi\n",
      " Using Background File                ObsID0945040133_SRCNUM11_EPN_background_spectrum.fits\n",
      "  Background Exposure Time: 1.011e+04 sec\n",
      " Using Response (RMF) File            ObsID0945040133_SRCNUM11_EPN.rmf for Source 1\n",
      " Using Auxiliary Response (ARF) File  ObsID0945040133_SRCNUM11_EPN.arf\n",
      "\n"
     ]
    }
   ],
   "source": [
    "Spectrum(glob.glob('ObsID*_SRCNUM*_E*_spectrum_grp.fits')[0])"
   ]
  },
  {
   "cell_type": "markdown",
   "id": "880eb92a-eaeb-4001-aa06-0eedfec69043",
   "metadata": {},
   "source": [
    "## Plot spectrum"
   ]
  },
  {
   "cell_type": "code",
   "execution_count": 3,
   "id": "4cc37457-f72a-4881-89d5-828fd66fd023",
   "metadata": {},
   "outputs": [],
   "source": [
    "Plot.xAxis=\"keV\"\n",
    "Plot.device = \"/xs\"\n",
    "Plot.xLog=True\n",
    "Plot.yLog=True\n",
    "Plot.addCommand(\"Rescale Y 0.00001 0.005\")\n",
    "Plot(\"data\")"
   ]
  },
  {
   "cell_type": "code",
   "execution_count": 4,
   "id": "9c969a35-f1e5-4704-ab87-c986550b4334",
   "metadata": {},
   "outputs": [
    {
     "data": {
      "text/plain": [
       "(-0.5, 857.5, 661.5, -0.5)"
      ]
     },
     "execution_count": 4,
     "metadata": {},
     "output_type": "execute_result"
    },
    {
     "data": {
      "image/png": "[encoded data removed]",
      "text/plain": [
       "<Figure size 1200x700 with 1 Axes>"
      ]
     },
     "metadata": {},
     "output_type": "display_data"
    }
   ],
   "source": [
    "img = plt.imread(glob.glob('ObsID*_SRCNUM*_E*_Spectrum.png')[0])\n",
    "plt.imshow(img)\n",
    "plt.axis('off')"
   ]
  },
  {
   "cell_type": "markdown",
   "id": "98519803-5052-4cb4-bfe7-7dad39416519",
   "metadata": {},
   "source": [
    "### Black body model"
   ]
  },
  {
   "cell_type": "code",
   "execution_count": 5,
   "id": "6c48de73-4acc-4052-9c2b-705487b7395c",
   "metadata": {},
   "outputs": [
    {
     "name": "stdout",
     "output_type": "stream",
     "text": [
      "\n",
      "========================================================================\n",
      "Model TBabs<1>*bbody<2> Source No.: 1   Active/On\n",
      "Model Model Component  Parameter  Unit     Value\n",
      " par  comp\n",
      "   1    1   TBabs      nH         10^22    1.00000      +/-  0.0          \n",
      "   2    2   bbody      kT         keV      3.00000      +/-  0.0          \n",
      "   3    2   bbody      norm                1.00000      +/-  0.0          \n",
      "________________________________________________________________________\n",
      "\n",
      "tbvabs Version 2.3\n",
      "Cosmic absorption with grains and H2, modified from\n",
      "Wilms, Allen, & McCray, 2000, ApJ 542, 914-924\n",
      "Questions: Joern Wilms\n",
      "joern.wilms@sternwarte.uni-erlangen.de\n",
      "joern.wilms@fau.de\n",
      "\n",
      "http://pulsar.sternwarte.uni-erlangen.de/wilms/research/tbabs/\n",
      "\n",
      "PLEASE NOTICE:\n",
      "To get the model described by the above paper\n",
      "you will also have to set the abundances:\n",
      "   abund wilm\n",
      "\n",
      "Note that this routine ignores the current cross section setting\n",
      "as it always HAS to use the Verner cross sections as a baseline.\n",
      "\n",
      "Fit statistic  : Chi-Squared              7.711327e+11     using 3 bins.\n",
      "\n",
      "Test statistic : Chi-Squared              7.711327e+11     using 3 bins.\n",
      " Cannot calculate null hypothesis probability.\n",
      " Current data and model not fit yet.\n",
      "                                   Parameters\n",
      "Chi-Squared  |beta|/N    Lvl          1:nH          2:kT        3:norm\n",
      "44.3098      0.338946      0      0.140439       3.07929   6.50314e-06\n",
      "43.8102      125531        0     0.0275696       3.15000   6.08470e-06\n",
      "43.0932      318274        0    0.00803345       3.12475   6.15903e-06\n",
      "42.7284      282554        0    0.00353764       3.10319   6.21964e-06\n",
      "42.477       247766        0    0.00140272       3.08487   6.26827e-06\n",
      "42.2989      217030        0   0.000377513       3.06921   6.30689e-06\n",
      "42.1754      190269        0   0.000129420       3.05573   6.33718e-06\n",
      "42.0819      167085        0   8.37324e-06       3.04404   6.36049e-06\n",
      "42.0113      147246        0   9.58255e-07       3.03381   6.37800e-06\n",
      "41.9558      130307        0   4.62171e-08       3.02481   6.39066e-06\n",
      "41.9114      115916        0   1.81014e-08       3.01681   6.39930e-06\n",
      "41.8754      103710        0   4.20505e-09       3.00963   6.40460e-06\n",
      "41.8457      93360         0   7.65120e-10       3.00314   6.40709e-06\n",
      "41.8207      84598         0   3.38763e-10       2.99722   6.40725e-06\n",
      "41.7995      77185.4       0   1.27107e-10       2.99177   6.40547e-06\n",
      "41.781       70909.5       0   2.19084e-11       2.98670   6.40206e-06\n",
      "41.7648      65592.2       0   8.84105e-12       2.98198   6.39728e-06\n",
      "41.7502      61112.1       0   2.31603e-12       2.97749   6.39146e-06\n",
      "41.7368      57253.2       0   6.85880e-13       2.97320   6.38485e-06\n",
      "41.7264      53876.4       0   2.94827e-13       2.96950   6.37563e-06\n",
      "41.7133      52130.8       0   9.07352e-14       2.96522   6.36903e-06\n",
      "41.7021      48727.8       0   4.31577e-14       2.96132   6.36080e-06\n",
      "41.6881      46355.7       0   2.09158e-14       2.95678   6.35539e-06\n",
      "41.6707      42150.7       0   8.86462e-15       2.95137   6.35382e-06\n",
      "41.654       35387.8       0   3.18470e-15       2.94595   6.35233e-06\n",
      "41.6433      28507.3       0   1.07241e-15       2.94189   6.34262e-06\n",
      "41.5524      26321.5       0   4.61997e-16       2.90667   6.26223e-06\n",
      "41.5413      5370.41       0   1.90274e-16       2.90228   6.25630e-06\n",
      "41.4493      1163.76       0   6.69057e-17       2.86446   6.16186e-06\n",
      "40.6215      19680.6      -1   9.36779e-19       2.57960   4.99732e-06\n",
      "***Warning: Zero alpha-matrix diagonal element for parameter 1\n",
      " Parameter 1 is pegged at 9.36779e-19 due to zero or negative pivot element, likely\n",
      " caused by the fit being insensitive to the parameter.\n",
      "33.7721      71795.7      -2   9.36779e-19       1.05172   2.37570e-06\n",
      "24.5756      6.79697e+06  -3   9.36779e-19      0.630345   7.11098e-07\n",
      "16.9686      1.06121e+07  -4   9.36779e-19      0.668954   1.11346e-06\n",
      "16.9309      637901       -5   9.36779e-19      0.661916   1.12513e-06\n",
      "16.9308      5951.75      -6   9.36779e-19      0.661209   1.12361e-06\n",
      "***Warning: Zero alpha-matrix diagonal element for parameter 1\n",
      " Parameter 1 is pegged at 9.36779e-19 due to zero or negative pivot element, likely\n",
      " caused by the fit being insensitive to the parameter.\n",
      "16.9308      32.8365      -3   9.36779e-19      0.661118   1.12345e-06\n",
      "==============================\n",
      " Variances and Principal Axes\n",
      "                 2        3  \n",
      " 1.8547E-14| -0.0000   1.0000  \n",
      " 7.7243E-03|  1.0000   0.0000  \n",
      "------------------------------\n",
      "\n",
      "========================\n",
      "  Covariance Matrix\n",
      "        1           2   \n",
      "   7.724e-03   1.413e-08\n",
      "   1.413e-08   4.441e-14\n",
      "------------------------\n",
      "\n",
      "========================================================================\n",
      "Model TBabs<1>*bbody<2> Source No.: 1   Active/On\n",
      "Model Model Component  Parameter  Unit     Value\n",
      " par  comp\n",
      "   1    1   TBabs      nH         10^22    9.36779E-19  +/-  -1.00000     \n",
      "   2    2   bbody      kT         keV      0.661118     +/-  8.78881E-02  \n",
      "   3    2   bbody      norm                1.12345E-06  +/-  2.10743E-07  \n",
      "________________________________________________________________________\n",
      "\n",
      "\n",
      "Fit statistic  : Chi-Squared                 16.9308     using 3 bins.\n",
      "\n",
      "Test statistic : Chi-Squared                 16.9308     using 3 bins.\n",
      " Cannot calculate null hypothesis probability.\n"
     ]
    },
    {
     "name": "stderr",
     "output_type": "stream",
     "text": [
      "GammQ: A <=  0\n",
      "GammQ: A <=  0\n"
     ]
    }
   ],
   "source": [
    "AllModels.clear()\n",
    "mo = Model(\"tbabs*bbody\")\n",
    "Fit.perform()\n",
    "Plot.device = \"/xs\"\n",
    "Plot(\"data resid\")"
   ]
  },
  {
   "cell_type": "code",
   "execution_count": 6,
   "id": "b812c488-a25f-452a-83e1-1ffb5945cd27",
   "metadata": {},
   "outputs": [
    {
     "data": {
      "text/plain": [
       "(-0.5, 856.5, 661.5, -0.5)"
      ]
     },
     "execution_count": 6,
     "metadata": {},
     "output_type": "execute_result"
    },
    {
     "data": {
      "image/png": "[encoded data removed]",
      "text/plain": [
       "<Figure size 1200x700 with 1 Axes>"
      ]
     },
     "metadata": {},
     "output_type": "display_data"
    }
   ],
   "source": [
    "img = plt.imread(glob.glob('ObsID*_SRCNUM*_E*_Spectrum_bbody.png')[0])\n",
    "plt.imshow(img)\n",
    "plt.axis('off')"
   ]
  },
  {
   "cell_type": "markdown",
   "id": "ff9fb499-d3ba-410c-b6c2-12f7d4ac82a0",
   "metadata": {},
   "source": [
    "### bremsstrahlung model"
   ]
  },
  {
   "cell_type": "code",
   "execution_count": 7,
   "id": "f00f133a-c83a-4c92-9f10-4b5f63f74b3e",
   "metadata": {},
   "outputs": [
    {
     "name": "stdout",
     "output_type": "stream",
     "text": [
      "\n",
      "========================================================================\n",
      "Model TBabs<1>*bremss<2> Source No.: 1   Active/On\n",
      "Model Model Component  Parameter  Unit     Value\n",
      " par  comp\n",
      "   1    1   TBabs      nH         10^22    1.00000      +/-  0.0          \n",
      "   2    2   bremss     kT         keV      7.00000      +/-  0.0          \n",
      "   3    2   bremss     norm                1.00000      +/-  0.0          \n",
      "________________________________________________________________________\n",
      "\n",
      "\n",
      "Fit statistic  : Chi-Squared              2.278465e+10     using 3 bins.\n",
      "\n",
      "Test statistic : Chi-Squared              2.278465e+10     using 3 bins.\n",
      " Cannot calculate null hypothesis probability.\n",
      " Current data and model not fit yet.\n",
      "                                   Parameters\n",
      "Chi-Squared  |beta|/N    Lvl          1:nH          2:kT        3:norm\n",
      "26.0587      2.48376      -3      0.310072       3.14540   3.06476e-05\n",
      "17.3583      138655       -1      0.135344       5.66130   2.56927e-05\n",
      "14.5839      73544.8       0     0.0981218       7.87839   2.55835e-05\n",
      "12.4382      21116        -1    0.00872146       25.6893   1.72406e-05\n",
      "5.9048       328052       -2    0.00149512       198.205   3.44137e-05\n",
      "3.66715      117544       -1   0.000563622       197.819   3.79210e-05\n",
      "3.06168      60483.1      -1   0.000258818       198.691   3.97211e-05\n",
      "2.82561      31929.8      -1   1.22316e-05       199.197   4.06755e-05\n",
      "2.78604      16276.7      -1   5.89305e-06       199.345   4.11833e-05\n",
      "2.77481      8395.92      -1   2.77780e-06       199.361   4.14463e-05\n",
      "2.77158      4253.91      -1   1.23395e-06       199.363   4.15830e-05\n",
      "2.77063      2095.67      -1   4.65537e-07       199.363   4.16517e-05\n",
      "2.77034      1009.68      -1   8.22430e-08       199.363   4.16811e-05\n",
      "2.77028      546.321      -1   3.43784e-08       199.363   4.16972e-05\n",
      "========================================\n",
      " Variances and Principal Axes\n",
      "                 1        2        3  \n",
      " 2.1163E-11| -0.0005  -0.0000   1.0000  \n",
      " 3.4464E-05|  1.0000   0.0000   0.0005  \n",
      " 1.2390E+06| -0.0000   1.0000   0.0000  \n",
      "----------------------------------------\n",
      "\n",
      "====================================\n",
      "  Covariance Matrix\n",
      "        1           2           3   \n",
      "   6.457e-05  -6.107e+00  -3.821e-07\n",
      "  -6.107e+00   1.239e+06   8.068e-02\n",
      "  -3.821e-07   8.068e-02   5.281e-09\n",
      "------------------------------------\n",
      "\n",
      "========================================================================\n",
      "Model TBabs<1>*bremss<2> Source No.: 1   Active/On\n",
      "Model Model Component  Parameter  Unit     Value\n",
      " par  comp\n",
      "   1    1   TBabs      nH         10^22    3.43784E-08  +/-  8.03545E-03  \n",
      "   2    2   bremss     kT         keV      199.363      +/-  1113.11      \n",
      "   3    2   bremss     norm                4.16972E-05  +/-  7.26713E-05  \n",
      "________________________________________________________________________\n",
      "\n",
      "\n",
      "Fit statistic  : Chi-Squared                  2.7703     using 3 bins.\n",
      "\n",
      "Test statistic : Chi-Squared                  2.7703     using 3 bins.\n",
      " Cannot calculate null hypothesis probability.\n"
     ]
    },
    {
     "name": "stderr",
     "output_type": "stream",
     "text": [
      "GammQ: A <=  0\n",
      "GammQ: A <=  0\n"
     ]
    }
   ],
   "source": [
    "AllModels.clear()\n",
    "mo = Model(\"tbabs*bremss\")\n",
    "Fit.perform()\n",
    "Plot.device = \"/xs\"\n",
    "Plot(\"data resid\")"
   ]
  },
  {
   "cell_type": "code",
   "execution_count": 8,
   "id": "5a01f0db-125c-4088-93f6-bd89994faa69",
   "metadata": {},
   "outputs": [
    {
     "data": {
      "text/plain": [
       "(-0.5, 856.5, 662.5, -0.5)"
      ]
     },
     "execution_count": 8,
     "metadata": {},
     "output_type": "execute_result"
    },
    {
     "data": {
      "image/png": "[encoded data removed]",
      "text/plain": [
       "<Figure size 1200x700 with 1 Axes>"
      ]
     },
     "metadata": {},
     "output_type": "display_data"
    }
   ],
   "source": [
    "img = plt.imread(glob.glob('ObsID*_SRCNUM*_E*_Spectrum_bremss.png')[0])\n",
    "plt.imshow(img)\n",
    "plt.axis('off')"
   ]
  },
  {
   "cell_type": "markdown",
   "id": "3edcca3a-8165-4c61-80ed-0b4b4087c8c3",
   "metadata": {},
   "source": [
    "### Apec model"
   ]
  },
  {
   "cell_type": "code",
   "execution_count": 12,
   "id": "629f01ff-336d-445c-8328-31a864f052a1",
   "metadata": {},
   "outputs": [
    {
     "name": "stdout",
     "output_type": "stream",
     "text": [
      "\n",
      "========================================================================\n",
      "Model TBabs<1>*apec<2> Source No.: 1   Active/On\n",
      "Model Model Component  Parameter  Unit     Value\n",
      " par  comp\n"
     ]
    },
    {
     "name": "stderr",
     "output_type": "stream",
     "text": [
      "GammQ: A <=  0\n",
      "GammQ: A <=  0\n"
     ]
    },
    {
     "name": "stdout",
     "output_type": "stream",
     "text": [
      "   1    1   TBabs      nH         10^22    1.00000      +/-  0.0          \n",
      "   2    2   apec       kT         keV      1.00000      +/-  0.0          \n",
      "   3    2   apec       Abundanc            1.00000      frozen\n",
      "   4    2   apec       Redshift            0.0          frozen\n",
      "   5    2   apec       norm                1.00000      +/-  0.0          \n",
      "________________________________________________________________________\n",
      "\n",
      "\n",
      "Fit statistic  : Chi-Squared              3.452309e+09     using 3 bins.\n",
      "\n",
      "Test statistic : Chi-Squared              3.452309e+09     using 3 bins.\n",
      " Cannot calculate null hypothesis probability.\n",
      " Current data and model not fit yet.\n",
      "                                   Parameters\n",
      "Chi-Squared  |beta|/N    Lvl          1:nH          2:kT        5:norm\n",
      "31.4713      5.90082      -3       1.86360      0.823168   0.000305783\n",
      "24.3267      15080.6      -3       1.68983      0.892835   0.000391064\n",
      "23.9363      4126.28      -2       1.74862      0.864111   0.000399961\n",
      "23.9342      83.2187      -2       1.76567      0.845468   0.000414921\n",
      "23.9332      158.705      -2       1.76950      0.838587   0.000421704\n",
      "23.9328      16.7049      -2       1.77350      0.831370   0.000427689\n",
      "23.9324      14.4627      -2       1.77723      0.824745   0.000433327\n",
      "23.9321      12.7595      -2       1.78073      0.818663   0.000438634\n",
      "23.9319      11.2836      -2       1.78399      0.813073   0.000443626\n",
      "23.9319      11.8779      -1       1.78413      0.813760   0.000443352\n",
      "========================================\n",
      " Variances and Principal Axes\n",
      "                 1        2        5  \n",
      " 3.2244E-09| -0.0004   0.0007   1.0000  \n",
      " 3.6836E-02|  0.8696   0.4937   0.0000  \n",
      " 9.7605E+04| -0.4937   0.8696  -0.0008  \n",
      "----------------------------------------\n",
      "\n",
      "====================================\n",
      "  Covariance Matrix\n",
      "        1           2           3   \n",
      "   2.379e+04  -4.191e+04   3.906e+01\n",
      "  -4.191e+04   7.381e+04  -6.880e+01\n",
      "   3.906e+01  -6.880e+01   6.412e-02\n",
      "------------------------------------\n",
      "\n",
      "========================================================================\n",
      "Model TBabs<1>*apec<2> Source No.: 1   Active/On\n",
      "Model Model Component  Parameter  Unit     Value\n",
      " par  comp\n",
      "   1    1   TBabs      nH         10^22    1.78413      +/-  154.251      \n",
      "   2    2   apec       kT         keV      0.813760     +/-  271.683      \n",
      "   3    2   apec       Abundanc            1.00000      frozen\n",
      "   4    2   apec       Redshift            0.0          frozen\n",
      "   5    2   apec       norm                4.43352E-04  +/-  0.253226     \n",
      "________________________________________________________________________\n",
      "\n",
      "\n",
      "Fit statistic  : Chi-Squared                 23.9319     using 3 bins.\n",
      "\n",
      "Test statistic : Chi-Squared                 23.9319     using 3 bins.\n",
      " Cannot calculate null hypothesis probability.\n"
     ]
    }
   ],
   "source": [
    "AllModels.clear()\n",
    "mo = Model(\"tbabs*apec\")\n",
    "Fit.perform()\n",
    "Plot.device = \"/xs\"\n",
    "Plot(\"data resid\")"
   ]
  },
  {
   "cell_type": "code",
   "execution_count": 11,
   "id": "390919ae-47f5-49fe-9876-3bcf74b2d2fb",
   "metadata": {},
   "outputs": [
    {
     "data": {
      "text/plain": [
       "(-0.5, 856.5, 665.5, -0.5)"
      ]
     },
     "execution_count": 11,
     "metadata": {},
     "output_type": "execute_result"
    },
    {
     "data": {
      "image/png": "[encoded data removed]",
      "text/plain": [
       "<Figure size 1200x700 with 1 Axes>"
      ]
     },
     "metadata": {},
     "output_type": "display_data"
    }
   ],
   "source": [
    "img = plt.imread(glob.glob('ObsID*_SRCNUM*_E*_Spectrum_apec.png')[0])\n",
    "plt.imshow(img)\n",
    "plt.axis('off')"
   ]
  },
  {
   "cell_type": "markdown",
   "id": "9f19aeb6-3c27-44a9-8ad3-a2eb2777e421",
   "metadata": {},
   "source": [
    "### Powerlaw model"
   ]
  },
  {
   "cell_type": "code",
   "execution_count": 13,
   "id": "85b08776-73cd-4f36-a843-c34effff4655",
   "metadata": {},
   "outputs": [
    {
     "name": "stdout",
     "output_type": "stream",
     "text": [
      "\n",
      "========================================================================\n",
      "Model TBabs<1>*powerlaw<2> Source No.: 1   Active/On\n",
      "Model Model Component  Parameter  Unit     Value\n",
      " par  comp\n",
      "   1    1   TBabs      nH         10^22    1.00000      +/-  0.0          \n",
      "   2    2   powerlaw   PhoIndex            1.00000      +/-  0.0          \n",
      "   3    2   powerlaw   norm                1.00000      +/-  0.0          \n",
      "________________________________________________________________________\n",
      "\n",
      "\n",
      "Fit statistic  : Chi-Squared              1.751433e+11     using 3 bins.\n",
      "\n",
      "Test statistic : Chi-Squared              1.751433e+11     using 3 bins.\n",
      " Cannot calculate null hypothesis probability.\n",
      " Current data and model not fit yet.\n",
      "                                   Parameters\n",
      "Chi-Squared  |beta|/N    Lvl          1:nH    2:PhoIndex        3:norm\n",
      "25.6589      2.11862      -3      0.192881       1.44663   1.37741e-05\n",
      "11.5604      364795       -1     0.0329035       1.05149   1.14912e-05\n",
      "8.99782      259474       -1    0.00143467      0.915719   9.58741e-06\n",
      "7.413        397302       -1   7.67714e-05      0.911594   1.01013e-05\n",
      "6.5201       291274       -1   2.82688e-05      0.935626   1.04826e-05\n",
      "6.13419      248530       -1   7.20096e-06      0.948864   1.06427e-05\n",
      "5.96178      234653       -1   2.27766e-06      0.955243   1.07156e-05\n",
      "5.88613      228731       -1   1.08135e-06      0.958147   1.07479e-05\n",
      "5.85302      226202       -1   4.90387e-07      0.959435   1.07620e-05\n",
      "5.83846      225115       -1   1.96490e-07      0.960002   1.07682e-05\n",
      "5.83204      224638       -1   4.98920e-08      0.960253   1.07709e-05\n",
      "5.82922      224428       -1   1.32816e-08      0.960363   1.07722e-05\n",
      "5.82799      224334       -1   4.13315e-09      0.960412   1.07727e-05\n",
      "5.82745      224294       -1   1.84647e-09      0.960433   1.07729e-05\n",
      "5.82722      224277       -1   7.03230e-10      0.960442   1.07730e-05\n",
      "5.82713      224269       -1   1.31628e-10      0.960446   1.07731e-05\n",
      "========================================\n",
      " Variances and Principal Axes\n",
      "                 1        2        3  \n",
      " 1.7944E-12| -0.0001  -0.0000   1.0000  \n",
      " 9.3205E-05|  0.9990  -0.0440   0.0001  \n",
      " 5.7614E-02|  0.0440   0.9990   0.0000  \n",
      "----------------------------------------\n",
      "\n",
      "====================================\n",
      "  Covariance Matrix\n",
      "        1           2           3   \n",
      "   2.043e-04   2.526e-03   2.681e-08\n",
      "   2.526e-03   5.750e-02   4.766e-07\n",
      "   2.681e-08   4.766e-07   6.115e-12\n",
      "-----------------------------------"
     ]
    },
    {
     "name": "stderr",
     "output_type": "stream",
     "text": [
      "GammQ: A <=  0\n",
      "GammQ: A <=  0\n"
     ]
    },
    {
     "name": "stdout",
     "output_type": "stream",
     "text": [
      "-\n",
      "\n",
      "========================================================================\n",
      "Model TBabs<1>*powerlaw<2> Source No.: 1   Active/On\n",
      "Model Model Component  Parameter  Unit     Value\n",
      " par  comp\n",
      "   1    1   TBabs      nH         10^22    1.31628E-10  +/-  1.42938E-02  \n",
      "   2    2   powerlaw   PhoIndex            0.960446     +/-  0.239797     \n",
      "   3    2   powerlaw   norm                1.07731E-05  +/-  2.47280E-06  \n",
      "________________________________________________________________________\n",
      "\n",
      "\n",
      "Fit statistic  : Chi-Squared                  5.8271     using 3 bins.\n",
      "\n",
      "Test statistic : Chi-Squared                  5.8271     using 3 bins.\n",
      " Cannot calculate null hypothesis probability.\n"
     ]
    }
   ],
   "source": [
    "AllModels.clear()\n",
    "mo = Model(\"tbabs*powerlaw\")\n",
    "Fit.perform()\n",
    "Plot.device = \"/xs\"\n",
    "Plot(\"data resid\")"
   ]
  },
  {
   "cell_type": "code",
   "execution_count": 14,
   "id": "08ed2434-c41d-4349-9de0-d2e51a747b34",
   "metadata": {},
   "outputs": [
    {
     "data": {
      "text/plain": [
       "(-0.5, 861.5, 657.5, -0.5)"
      ]
     },
     "execution_count": 14,
     "metadata": {},
     "output_type": "execute_result"
    },
    {
     "data": {
      "image/png": "[encoded data removed]",
      "text/plain": [
       "<Figure size 1200x700 with 1 Axes>"
      ]
     },
     "metadata": {},
     "output_type": "display_data"
    }
   ],
   "source": [
    "img = plt.imread(glob.glob('ObsID*_SRCNUM*_E*_Spectrum_powerlaw.png')[0])\n",
    "plt.imshow(img)\n",
    "plt.axis('off')"
   ]
  },
  {
   "cell_type": "markdown",
   "id": "c404b996-c273-4f68-a4b2-5b526c4027e0",
   "metadata": {},
   "source": [
    "## Flux"
   ]
  },
  {
   "cell_type": "code",
   "execution_count": 15,
   "id": "7509b2e9-7ca8-4af4-a044-6e88fd3e45c6",
   "metadata": {},
   "outputs": [
    {
     "name": "stdout",
     "output_type": "stream",
     "text": [
      " Model Flux 4.4928e-05 photons (2.1671e-13 ergs/cm^2/s) range (0.20000 - 12.000 keV)\n"
     ]
    }
   ],
   "source": [
    "AllModels.calcFlux(\".2 12.0\")"
   ]
  },
  {
   "cell_type": "code",
   "execution_count": 16,
   "id": "188f0c9e-abca-407f-b959-8fd675cb4e61",
   "metadata": {},
   "outputs": [],
   "source": [
    "Flux = 2.1671e-13 # ergs/cm^2/s"
   ]
  },
  {
   "cell_type": "markdown",
   "id": "80ca441e-c01d-4098-909e-433bf8b19c1a",
   "metadata": {},
   "source": [
    "### ESASky\n",
    "\n",
    "https://sky.esa.int/esasky/?target=54.38275000000001%20-28.289333333333335&hips=XMM-Newton+EPIC+color&fov=1&projection=SIN&cooframe=J2000&sci=true&lang=fr\n",
    "\n",
    "``EPIC Stack``\n",
    "- Stack Catalogue name : 4XMMs J033731.8-281722\n",
    "- IAU name : 4XMM J033731.8-281721\n",
    "- RA : 03h 37m 31.839s\n",
    "- DEC : -28° 17' 22.01\""
   ]
  },
  {
   "cell_type": "markdown",
   "id": "a795f6f5-db41-4d8f-88db-605ec3106cbb",
   "metadata": {},
   "source": [
    "### Luminosity\n",
    "No distance or parallax is available on ESASky."
   ]
  }
 ],
 "metadata": {
  "kernelspec": {
   "display_name": "Python [conda env:base] *",
   "language": "python",
   "name": "conda-base-py"
  },
  "language_info": {
   "codemirror_mode": {
    "name": "ipython",
    "version": 3
   },
   "file_extension": ".py",
   "mimetype": "text/x-python",
   "name": "python",
   "nbconvert_exporter": "python",
   "pygments_lexer": "ipython3",
   "version": "3.12.3"
  }
 },
 "nbformat": 4,
 "nbformat_minor": 5
}
