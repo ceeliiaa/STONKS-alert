{
 "cells": [
  {
   "cell_type": "markdown",
   "id": "a09472f9-b7b4-4047-9978-0b5adf3b464f",
   "metadata": {},
   "source": [
    "# ObsID : 0945070132, SRCNUM : 1, Instru : EMOS1\n",
    "**Simbad :** Gamma-ray Source (4FGL J0333.4-2705) https://simbad.cds.unistra.fr/simbad/sim-id?Ident=%4016018930&Name=4FGL%20J0333.4-2705&submit=submit"
   ]
  },
  {
   "cell_type": "code",
   "execution_count": 1,
   "id": "311ae079-ccd8-41c3-aac4-08c99f67b431",
   "metadata": {},
   "outputs": [
    {
     "name": "stdout",
     "output_type": "stream",
     "text": [
      "Default fit statistic is set to: Chi-Squared\n",
      "   This will apply to all current and newly loaded spectra.\n",
      "Parameter delta values for fits will now be 0.0001 * parValue\n"
     ]
    }
   ],
   "source": [
    "from xspec import *\n",
    "from stingray import Lightcurve\n",
    "from astropy.io import fits\n",
    "import matplotlib.pyplot as plt\n",
    "import matplotlib.image as mpimg\n",
    "import glob\n",
    "import numpy as np\n",
    "\n",
    "class color:\n",
    "   PURPLE = '\\033[95m'\n",
    "   CYAN = '\\033[96m'\n",
    "   DARKCYAN = '\\033[36m'\n",
    "   BLUE = '\\033[94m'\n",
    "   GREEN = '\\033[92m'\n",
    "   YELLOW = '\\033[93m'\n",
    "   RED = '\\033[91m'\n",
    "   BOLD = '\\033[1m'\n",
    "   UNDERLINE = '\\033[4m'\n",
    "   END = '\\033[0m'\n",
    "\n",
    "plt.rcParams['figure.figsize'] = [12,7]\n",
    "\n",
    "Fit.statMethod = \"chi\"\n",
    "Fit.nIterations = 100000\n",
    "Fit.delta = 1e-4\n",
    "Fit.criticalDelta = 1e-4"
   ]
  },
  {
   "cell_type": "markdown",
   "id": "39b7d9d2-7930-4892-81ba-8bd2db47e610",
   "metadata": {},
   "source": [
    "## Load files"
   ]
  },
  {
   "cell_type": "code",
   "execution_count": 3,
   "id": "cd0bcd6f-9565-4899-90b7-1e5d87e7050a",
   "metadata": {},
   "outputs": [
    {
     "name": "stdout",
     "output_type": "stream",
     "text": [
      "\n",
      "*** Error processing response data - file skipped\n",
      "\n",
      "1 spectrum  in use\n",
      " \n",
      "Spectral Data File: P0945070132M1S001SRSPEC0001.FTZ  Spectrum 1\n",
      "Net count rate (cts/s) for Spectrum:1  2.285e-02 +/- 1.330e-03 (91.2 % total)\n",
      " Assigned to Data Group 1 and Plot Group 1\n",
      "  Noticed Channels:  1-17\n",
      "  Telescope: XMM Instrument: EMOS1  Channel Type: PI\n",
      "  Exposure Time: 1.425e+04 sec\n",
      " Using fit statistic: chi\n",
      " Using Background File                P0945070132M1S001BGSPEC0001.FTZ\n",
      "  Background Exposure Time: 1.425e+04 sec\n",
      " No response loaded.\n",
      "\n",
      "***Warning!  One or more spectra are missing responses,\n",
      "               and are not suitable for fit.\n"
     ]
    },
    {
     "name": "stderr",
     "output_type": "stream",
     "text": [
      "\n",
      "***XSPEC Error: Response and spectrum have different number of"
     ]
    },
    {
     "data": {
      "text/plain": [
       "<xspec.spectrum.Spectrum at 0x7f7282d6bfd0>"
      ]
     },
     "execution_count": 3,
     "metadata": {},
     "output_type": "execute_result"
    },
    {
     "name": "stderr",
     "output_type": "stream",
     "text": [
      " channels (800 vs. 2400, respectively)\n"
     ]
    }
   ],
   "source": [
    "Spectrum(glob.glob(\"P*M1*SRSPEC*.FTZ\")[0])"
   ]
  },
  {
   "cell_type": "markdown",
   "id": "870eec10-27a5-4341-a01c-4a98ac400133",
   "metadata": {},
   "source": [
    "## Plot spectrum"
   ]
  },
  {
   "cell_type": "code",
   "execution_count": 5,
   "id": "37f98bf3-3d31-4c65-891f-3ea006da7786",
   "metadata": {},
   "outputs": [
    {
     "name": "stderr",
     "output_type": "stream",
     "text": [
      "\n",
      "***XSPEC Error: No energies defined for spectrum 1, but plot requested on energy/wavelength axis.\n",
      " Plot Group 1 will not be constructed \n",
      "\n"
     ]
    },
    {
     "ename": "Exception",
     "evalue": "",
     "output_type": "error",
     "traceback": [
      "\u001b[0;31m---------------------------------------------------------------------------\u001b[0m",
      "\u001b[0;31mException\u001b[0m                                 Traceback (most recent call last)",
      "Cell \u001b[0;32mIn[5], line 6\u001b[0m\n\u001b[1;32m      4\u001b[0m Plot\u001b[38;5;241m.\u001b[39myLog\u001b[38;5;241m=\u001b[39m\u001b[38;5;28;01mTrue\u001b[39;00m\n\u001b[1;32m      5\u001b[0m Plot\u001b[38;5;241m.\u001b[39maddCommand(\u001b[38;5;124m\"\u001b[39m\u001b[38;5;124mRescale Y 0.00001 0.005\u001b[39m\u001b[38;5;124m\"\u001b[39m)\n\u001b[0;32m----> 6\u001b[0m \u001b[43mPlot\u001b[49m\u001b[43m(\u001b[49m\u001b[38;5;124;43m\"\u001b[39;49m\u001b[38;5;124;43mdata\u001b[39;49m\u001b[38;5;124;43m\"\u001b[39;49m\u001b[43m)\u001b[49m\n",
      "File \u001b[0;32m/mnt/c/Users/acer/HEASoft/heasoft-6.34/x86_64-pc-linux-gnu-libc2.35/lib/python/xspec/plot.py:119\u001b[0m, in \u001b[0;36mPlotManager.__call__\u001b[0;34m(self, *panes)\u001b[0m\n\u001b[1;32m    117\u001b[0m     os\u001b[38;5;241m.\u001b[39mremove(tmpFile)\n\u001b[1;32m    118\u001b[0m \u001b[38;5;28;01melse\u001b[39;00m:\n\u001b[0;32m--> 119\u001b[0m     \u001b[43m_pyXspec\u001b[49m\u001b[38;5;241;43m.\u001b[39;49m\u001b[43mdoPlot\u001b[49m\u001b[43m(\u001b[49m\u001b[43mplotArgs\u001b[49m\u001b[43m)\u001b[49m\n",
      "\u001b[0;31mException\u001b[0m: "
     ]
    }
   ],
   "source": [
    "Plot.xAxis=\"keV\"\n",
    "Plot.device = \"/xs\"\n",
    "Plot.xLog=True\n",
    "Plot.yLog=True\n",
    "Plot.addCommand(\"Rescale Y 0.00001 0.005\")\n",
    "Plot(\"data\")"
   ]
  },
  {
   "cell_type": "code",
   "execution_count": 4,
   "id": "27bf0415-368d-4476-8ef7-29af925b48ee",
   "metadata": {},
   "outputs": [
    {
     "ename": "IndexError",
     "evalue": "list index out of range",
     "output_type": "error",
     "traceback": [
      "\u001b[0;31m---------------------------------------------------------------------------\u001b[0m",
      "\u001b[0;31mIndexError\u001b[0m                                Traceback (most recent call last)",
      "Cell \u001b[0;32mIn[4], line 1\u001b[0m\n\u001b[0;32m----> 1\u001b[0m img \u001b[38;5;241m=\u001b[39m plt\u001b[38;5;241m.\u001b[39mimread(\u001b[43mglob\u001b[49m\u001b[38;5;241;43m.\u001b[39;49m\u001b[43mglob\u001b[49m\u001b[43m(\u001b[49m\u001b[38;5;124;43m'\u001b[39;49m\u001b[38;5;124;43mObsID*_SRCNUM*_E*_Spectrum.png\u001b[39;49m\u001b[38;5;124;43m'\u001b[39;49m\u001b[43m)\u001b[49m\u001b[43m[\u001b[49m\u001b[38;5;241;43m0\u001b[39;49m\u001b[43m]\u001b[49m)\n\u001b[1;32m      2\u001b[0m plt\u001b[38;5;241m.\u001b[39mimshow(img)\n\u001b[1;32m      3\u001b[0m plt\u001b[38;5;241m.\u001b[39maxis(\u001b[38;5;124m'\u001b[39m\u001b[38;5;124moff\u001b[39m\u001b[38;5;124m'\u001b[39m)\n",
      "\u001b[0;31mIndexError\u001b[0m: list index out of range"
     ]
    }
   ],
   "source": [
    "img = plt.imread(glob.glob('ObsID*_SRCNUM*_E*_Spectrum.png')[0])\n",
    "plt.imshow(img)\n",
    "plt.axis('off')"
   ]
  },
  {
   "cell_type": "markdown",
   "id": "7eb1edda-21f0-4876-bdbc-8cb3e4a347dc",
   "metadata": {},
   "source": [
    "### Black body model"
   ]
  },
  {
   "cell_type": "code",
   "execution_count": 6,
   "id": "25e94b4e-0bb6-439e-af07-e82ebf0faa48",
   "metadata": {},
   "outputs": [
    {
     "name": "stdout",
     "output_type": "stream",
     "text": [
      "\n",
      "========================================================================\n",
      "Model TBabs<1>*bbody<2> Source No.: 1   Active/On\n",
      "Model Model Component  Parameter  Unit     Value\n",
      " par  comp\n",
      "   1    1   TBabs      nH         10^22    1.00000      +/-  0.0          \n",
      "   2    2   bbody      kT         keV      3.00000      +/-  0.0          \n",
      "   3    2   bbody      norm                1.00000      +/-  0.0          \n",
      "________________________________________________________________________\n",
      "\n",
      "tbvabs Version 2.3\n",
      "Cosmic absorption with grains and H2, modified from\n",
      "Wilms, Allen, & McCray, 2000, ApJ 542, 914-924\n",
      "Questions: Joern Wilms\n",
      "joern.wilms@sternwarte.uni-erlangen.de\n",
      "joern.wilms@fau.de\n",
      "\n",
      "http://pulsar.sternwarte.uni-erlangen.de/wilms/research/tbabs/\n",
      "\n",
      "PLEASE NOTICE:\n",
      "To get the model described by the above paper\n",
      "you will also have to set the abundances:\n",
      "   abund wilm\n",
      "\n",
      "Note that this routine ignores the current cross section setting\n",
      "as it always HAS to use the Verner cross sections as a baseline.\n",
      "\n",
      "Fit statistic  : Chi-Squared              1.025290e+11     using 17 bins.\n",
      "\n",
      "Test statistic : Chi-Squared              1.025290e+11     using 17 bins.\n",
      " Null hypothesis probability of 0.000000e+00 with 14 degrees of freedom\n",
      " Current data and model not fit yet.\n",
      "                                   Parameters\n",
      "Chi-Squared  |beta|/N    Lvl          1:nH          2:kT        3:norm\n",
      "144.138      2.6569       -2   0.000423493       5.61590   9.36406e-05\n",
      "136.317      116006       -1   9.27144e-05       6.10433   0.000129688\n",
      "133.486      73211.4      -1   1.71471e-05       6.59248   0.000164220\n",
      "131.855      54635.1      -1   7.84793e-06       7.05934   0.000200172\n",
      "130.706      43520.4      -1   3.19872e-06       7.50379   0.000238147\n",
      "129.84       35860.5      -1   8.64492e-07       7.92921   0.000278259\n",
      "129.165      30249.6      -1   2.77527e-07       8.33868   0.000320552\n",
      "128.615      25974.6      -1   1.29824e-07       8.73361   0.000365019\n",
      "128.159      22608        -1   5.54829e-08       9.11595   0.000411669\n",
      "127.78       19896.1      -1   1.80722e-08       9.48736   0.000460454\n",
      "127.458      17681.6      -1   8.65961e-09       9.84913   0.000511420\n",
      ".92444e-09       10.2022   0.000564523\n",
      "126.945      14289.9      -1   1.54260e-09       10.5472   0.000619787\n",
      "126.737      12966.9      -1   3.45143e-10       10.8851   0.000677216\n",
      "126.555      11829.5      -1   4.40401e-11       11.2167   0.000736816\n",
      "126.387      10843.8      -1   6.32240e-12       11.5419   0.000798635\n",
      "126.279      9976.01      -1   1.44565e-12       11.8640   0.000862330\n",
      "125.706      9242.3       -1   2.96145e-13       12.1495   0.000931095\n",
      "125.489      8275.55      -1   1.21300e-14       12.4515    0.00100013\n",
      "122.331      7630.61      -1   2.16400e-15       12.5204    0.00110164\n",
      "120.377      4661.73      -2   3.52739e-16       13.3113    0.00142177\n",
      "120.074      1246.15      -2   1.73616e-16       14.0162    0.00168008\n",
      "119.946      436.716      -2   3.46719e-17       14.7014    0.00192962\n",
      "***Warning: Zero alpha-matrix diagonal element for parameter 1\n",
      " Parameter 1 is pegged at 3.46719e-17 due to zero or negative pivot element, likely\n",
      " caused by the fit being insensitive to the parameter.\n",
      "119.85       419.358      -2   3.46719e-17       15.3124    0.00217372\n",
      "119.776      233.468      -2   3.46719e-17       15.8933    0.00241869\n",
      "119.716      168.232      -2   3.46719e-17       16.4401    0.00266456\n",
      "119.665      128.695      -2   3.46719e-17       16.9591    0.00291253\n",
      "119.621      100.952      -2   3.46719e-17       17.4549    0.00316310\n",
      "119.584      80.5836      -2   3.46719e-17       17.9267    0.00341418\n",
      "119.551      66.4099      -2   3.46719e-17       18.3809    0.00366789\n",
      "119.523      56.0687      -2   3.46719e-17       18.8181    0.00392403\n",
      "119.497      45.7099      -2   3.46719e-17       19.2419    0.00418276\n",
      "119.475      39.8106      -2   3.46719e-17       19.6449    0.00443957\n",
      "119.455      33.2875      -2   3.46719e-17       20.0311    0.00469526\n",
      "119.437      28.0061      -2   3.46719e-17       20.4083    0.00495375\n",
      "119.421      24.9851      -2   3.46719e-17       20.7697    0.00521061\n",
      "119.406      21.1962      -2   3.46719e-17       21.1179    0.00546602\n",
      "119.393      18.6934      -2   3.46719e-17       21.4611    0.00572561\n",
      "119.38       16.7917      -2   3.46719e-17       21.7916    0.00598355\n",
      "119.369      14.6542      -2   3.46719e-17       22.1169    0.00624433\n",
      "119.359      13.6581      -2   3.46719e-17       22.4317    0.00650431\n",
      "119.349      11.8679      -2   3.46719e-17       22.7343    0.00676068\n",
      "119.341      10.7749      -2   3.46719e-17       23.0282    0.00701613\n",
      "119.333      9.63155      -2   3.46719e-17       23.3168    0.00727301\n",
      "119.325      8.86289      -2   3.46719e-17       23.5943    0.00752591\n",
      "119.318      7.9255       -2   3.46719e-17       23.8768    0.00778903\n",
      "119.311      7.556        -2   3.46719e-17       24.1450    0.00804468\n",
      "119.305      6.86003      -2   3.46719e-17       24.4066    0.00829954\n",
      "119.299      6.12406      -2   3.46719e-17       24.6637    0.00855493\n",
      "119.294      5.63523      -2   3.46719e-17       24.9185    0.00881294\n",
      "119.289      5.49038      -2   3.46719e-17       25.1629    0.00906556\n",
      "119.284      4.95004      -2   3.46719e-17       25.4013    0.00931657\n",
      "119.28       4.55182      -2   3.46719e-17       25.6422    0.00957451\n",
      "119.278      4.46044      -3   3.46719e-17       27.5873     0.0116788\n",
      "119.249      89.1791      -3   3.46719e-17       29.2759     0.0139102\n",
      "119.224      62.4261      -3   3.46719e-17       30.7171     0.0160577\n",
      "119.21       36.3524      -3   3.46719e-17       31.9177     0.0180050\n",
      "119.202      20.6369      -3   3.46719e-17       33.1873     0.0201784\n",
      "119.194      17.5398      -3   3.46719e-17       34.3113     0.0222630\n",
      "119.189      12.0889      -3   3.46719e-17       35.2540     0.0241249\n",
      "119.186      7.48809      -3   3.46719e-17       36.2613     0.0261942\n",
      "119.183      7.05833      -3   3.46719e-17       37.0272     0.0278726\n",
      "119.18       3.93563      -3   3.46719e-17       37.7495     0.0295015\n",
      "119.179      3.01693      -3   3.46719e-17       38.4826     0.0312109\n",
      "119.177      2.82044      -3   3.46719e-17       39.2666     0.0331069\n",
      "119.176      2.87801      -3   3.46719e-17       39.7836     0.0344226\n",
      "119.175      1.31923      -3   3.46719e-17       40.1508     0.0353732\n",
      "119.174      0.605308     -3   3.46719e-17       40.6494     0.0366701\n",
      "119.174      0.932096     -3   3.46719e-17       41.0210     0.0376682\n",
      "119.173      0.568734     -3   3.46719e-17       41.4319     0.0387842\n",
      "119.173      0.6151       -3   3.46719e-17       41.6898     0.0395036\n",
      "119.173      0.264098     -3   3.46719e-17       41.9421     0.0402096\n",
      "119.172      0.226757     -3   3.46719e-17       42.3517     0.0413652\n",
      "119.172      0.56111      -3   3.46719e-17       42.7927     0.0426403\n",
      "119.171      0.631127     -3   3.46719e-17       43.1421     0.0436762\n",
      "119.171      0.376526     -3   3.46719e-17       43.3804     0.0443931\n",
      "119.171      0.178849     -4   3.46719e-17       44.5404     0.0478825\n",
      "119.17       3.13122      -3   3.46719e-17       44.7462     0.0486248\n",
      "119.17       0.163187     -3   3.46719e-17       44.9992     0.0494367\n",
      "119.17       0.169722     -3   3.46719e-17       45.1693     0.0499909\n",
      "119.17       0.0922375     0   8.82875e-18       45.1694     0.0499905\n",
      "========================================\n",
      " Variances and Principal Axes\n",
      "                 1        2        3  \n",
      " 1.6144E-05| -0.0000  -0.0033   1.0000  \n",
      " 3.5591E+02|  1.0000   0.0012   0.0000  \n",
      " 1.3122E+04|  0.0012  -1.0000  -0.0033  \n",
      "----------------------------------------\n",
      "\n",
      "====================================\n",
      "  Covariance Matrix\n",
      "        1           2           3   \n",
      "   3.559e+02  -1.591e+01  -5.138e-02\n",
      "  -1.591e+01   1.312e+04   4.266e+01\n",
      "  -5.138e-02   4.266e+01   1.387e-01\n",
      "------------------------------------\n",
      "\n",
      "========================================================================\n",
      "Model TBabs<1>*bbody<2> Source No.: 1   Active/On\n",
      "Model Model Component  Parameter  Unit     Value\n",
      " par  comp\n",
      "   1    1   TBabs      nH         10^22    8.82875E-18  +/-  18.8661      \n",
      "   2    2   bbody      kT         keV      45.1694      +/-  114.549      \n",
      "   3    2   bbody      norm                4.99905E-02  +/-  0.372470     \n",
      "________________________________________________________________________\n",
      "\n",
      "\n",
      "Fit statistic  : Chi-Squared                119.1701     using 17 bins.\n",
      "\n",
      "Test statistic : Chi-Squared                119.1701     using 17 bins.\n",
      " Null hypothesis probability of 9.1463e-19 with 14 degrees of freedom\n"
     ]
    }
   ],
   "source": [
    "AllModels.clear()\n",
    "mo = Model(\"tbabs*bbody\")\n",
    "Fit.perform()\n",
    "Plot.device = \"/xs\"\n",
    "Plot(\"data resid\")\n",
    "plt.show()"
   ]
  },
  {
   "cell_type": "code",
   "execution_count": 7,
   "id": "f2d55c50-94dd-468d-bf08-69bca0b63260",
   "metadata": {},
   "outputs": [
    {
     "data": {
      "text/plain": [
       "(-0.5, 856.5, 664.5, -0.5)"
      ]
     },
     "execution_count": 7,
     "metadata": {},
     "output_type": "execute_result"
    },
    {
     "data": {
      "image/png": "[encoded data removed]",
      "text/plain": [
       "<Figure size 1200x700 with 1 Axes>"
      ]
     },
     "metadata": {},
     "output_type": "display_data"
    }
   ],
   "source": [
    "img = plt.imread(glob.glob('ObsID*_SRCNUM*_E*_Spectrum_bbody.png')[0])\n",
    "plt.imshow(img)\n",
    "plt.axis('off')"
   ]
  },
  {
   "cell_type": "markdown",
   "id": "b77a2e66-8412-4d85-a277-10782493ea2e",
   "metadata": {},
   "source": [
    "### Bremsstrahlung model"
   ]
  },
  {
   "cell_type": "code",
   "execution_count": 8,
   "id": "3ed606fb-6f75-4369-b9c8-b5c95a0a9577",
   "metadata": {},
   "outputs": [
    {
     "name": "stdout",
     "output_type": "stream",
     "text": [
      "\n",
      "========================================================================\n",
      "Model TBabs<1>*bremss<2> Source No.: 1   Active/On\n",
      "Model Model Component  Parameter  Unit     Value\n",
      " par  comp\n",
      "   1    1   TBabs      nH         10^22    1.00000      +/-  0.0          \n",
      "   2    2   bremss     kT         keV      7.00000      +/-  0.0          \n",
      "   3    2   bremss     norm                1.00000      +/-  0.0          \n",
      "________________________________________________________________________\n",
      "\n",
      "\n",
      "Fit statistic  : Chi-Squared              1.154490e+10     using 17 bins.\n",
      "\n",
      "Test statistic : Chi-Squared              1.154490e+10     using 17 bins.\n",
      " Null hypothesis probability of 0.000000e+00 with 14 degrees of freedom\n",
      " Current data and model not fit yet.\n",
      "                                   Parameters\n",
      "Chi-Squared  |beta|/N    Lvl          1:nH          2:kT        3:norm\n",
      "193.445      0.352059     -1     0.0283280       55.3774   2.87158e-05\n",
      "185.279      305102       -1     0.0132901       199.119   4.53613e-05\n",
      "171.206      198223       -1    0.00153982       199.358   5.63843e-05\n",
      "166.715      138057       -1   0.000506879       199.361   6.21847e-05\n",
      "164.875      103973       -1   4.57557e-05       199.363   6.51904e-05\n",
      "164.093      86206.3      -1   1.84586e-05       199.363   6.67726e-05\n",
      "163.716      76848.1      -1   5.14985e-06       199.363   6.76088e-05\n",
      "163.532      71901.6      -1   1.86600e-06       199.363   6.80422e-05\n",
      "163.456      69338        -1   2.35258e-07       199.363   6.82253e-05\n",
      "163.408      68254.9      -1   3.19690e-08       199.363   6.83419e-05\n",
      "163.384      67565.3      -1   6.60297e-09       199.363   6.84027e-05\n",
      "163.371      67205.4      -1   2.67327e-10       199.363   6.84345e-05\n",
      "163.364      67017.6      -1   6.94396e-11       199.363   6.84507e-05\n",
      "163.361      66921.4      -1   1.99743e-11       199.363   6.84603e-05\n",
      "163.329      66864.6       0   9.47130e-12       199.363   6.85381e-05\n",
      "163.308      66404.6       0   4.22907e-12       199.363   6.85922e-05\n",
      "163.295      66084.6       0   1.60073e-12       199.363   6.86242e-05\n",
      "163.295      65895.5      -1   5.33806e-14       199.363   6.86243e-05\n",
      "========================================\n",
      " Variances and Principal Axes\n",
      "                 1        2        3  \n",
      " 5.6361E-11| -0.0001  -0.0000   1.0000  \n",
      " 2.2618E-03|  1.0000   0.0000   0.0001  \n",
      " 4.4207E+06| -0.0000   1.0000   0.0000  \n",
      "----------------------------------------\n",
      "\n",
      "====================================\n",
      "  Covariance Matrix\n",
      "        1           2           3   \n",
      "   5.579e-03  -1.211e+02  -1.267e-05\n",
      "  -1.211e+02   4.421e+06   4.737e-01\n",
      "  -1.267e-05   4.737e-01   5.085e-08\n",
      "------------------------------------\n",
      "\n",
      "========================================================================\n",
      "Model TBabs<1>*bremss<2> Source No.: 1   Active/On\n",
      "Model Model Component  Parameter  Unit     Value\n",
      " par  comp\n",
      "   1    1   TBabs      nH         10^22    5.33806E-14  +/-  7.46900E-02  \n",
      "   2    2   bremss     kT         keV      199.363      +/-  2102.54      \n",
      "   3    2   bremss     norm                6.86243E-05  +/-  2.25495E-04  \n",
      "________________________________________________________________________\n",
      "\n",
      "\n",
      "Fit statistic  : Chi-Squared                163.2953     using 17 bins.\n",
      "\n",
      "Test statistic : Chi-Squared                163.2953     using 17 bins.\n",
      " Null hypothesis probability of 1.5414e-27 with 14 degrees of freedom\n"
     ]
    }
   ],
   "source": [
    "AllModels.clear()\n",
    "mo = Model(\"tbabs*bremss\")\n",
    "Fit.perform()\n",
    "Plot.device = \"/xs\"\n",
    "Plot(\"data resid\")"
   ]
  },
  {
   "cell_type": "code",
   "execution_count": 9,
   "id": "4f360356-063b-4c14-8ea4-029f8abb6085",
   "metadata": {},
   "outputs": [
    {
     "data": {
      "text/plain": [
       "(-0.5, 856.5, 661.5, -0.5)"
      ]
     },
     "execution_count": 9,
     "metadata": {},
     "output_type": "execute_result"
    },
    {
     "data": {
      "image/png": "[encoded data removed]",
      "text/plain": [
       "<Figure size 1200x700 with 1 Axes>"
      ]
     },
     "metadata": {},
     "output_type": "display_data"
    }
   ],
   "source": [
    "img = plt.imread(glob.glob('ObsID*_SRCNUM*_E*_Spectrum_bremss.png')[0])\n",
    "plt.imshow(img)\n",
    "plt.axis('off')"
   ]
  },
  {
   "cell_type": "markdown",
   "id": "4d8ea665-d6a1-4113-beaf-fad108850b18",
   "metadata": {},
   "source": [
    "### Apec model"
   ]
  },
  {
   "cell_type": "code",
   "execution_count": 10,
   "id": "4bd12dd8-e0eb-46e8-a057-f7eb723b3a94",
   "metadata": {},
   "outputs": [
    {
     "name": "stdout",
     "output_type": "stream",
     "text": [
      "\n",
      "========================================================================\n",
      "Model TBabs<1>*apec<2> Source No.: 1   Active/On\n",
      "Model Model Component  Parameter  Unit     Value\n",
      " par  comp\n",
      "   1    1   TBabs      nH         10^22    1.00000      +/-  0.0          \n",
      "   2    2   apec       kT         keV      1.00000      +/-  0.0          \n",
      "   3    2   apec       Abundanc            1.00000      frozen\n",
      "   4    2   apec       Redshift            0.0          frozen\n",
      "   5    2   apec       norm                1.00000      +/-  0.0          \n",
      "________________________________________________________________________\n",
      "\n",
      "Reading APEC data from 3.0.9\n",
      "\n",
      "\n",
      "Fit statistic  : Chi-Squared              2.848353e+09     using 17 bins.\n",
      "\n",
      "Test statistic : Chi-Squared              2.848353e+09     using 17 bins.\n",
      " Null hypothesis probability of 0.000000e+00 with 14 degrees of freedom\n",
      " Current data and model not fit yet.\n",
      "                                   Parameters\n",
      "Chi-Squared  |beta|/N    Lvl          1:nH          2:kT        5:norm\n",
      "228.776      2.38516       0      0.989199      0.849153   0.000125184\n",
      "228.419      8024.61      -1      0.907918      0.506999   0.000154348\n",
      "227.67       21258.4      -2      0.405708      0.843952   3.34063e-05\n",
      "222.428      49939.7       0      0.394905      0.635422   3.58187e-05\n",
      "217.622      86344.2      -1      0.366883      0.425234   5.08742e-05\n",
      "211.926      65216.1      -1      0.308657      0.352329   6.33973e-05\n",
      "204.189      22029.1      -1      0.256810      0.267123   7.59382e-05\n",
      "197.056      43394.7      -2      0.216555      0.215344   0.000101199\n",
      "195.878      22517.7      -2      0.179292      0.218260   8.80428e-05\n",
      "195.641      1687.95      -1      0.167244      0.221777   8.08473e-05\n",
      "195.392      806.863      -1      0.154166      0.223919   7.39756e-05\n",
      "195.082      1032.66      -1      0.139600      0.226000   6.71225e-05\n",
      "194.685      1039.3       -1      0.123268      0.228310   6.02068e-05\n",
      "194.113      900.799      -1      0.104799      0.230979   5.32304e-05\n",
      "193.118      339.232      -1     0.0802650      0.238353   4.45054e-05\n",
      "191.809      3952.85      -1     0.0514572      0.243487   3.69101e-05\n",
      "0.0162472      0.252746   2.90159e-05\n",
      "189.322      17442.2       0    0.00961166      0.252967   2.86784e-05\n",
      "189.016      9417.47       0    0.00452681      0.253137   2.80781e-05\n",
      "188.841      19664         0    0.00225655      0.253482   2.73986e-05\n",
      "188.75       9190.06       0   0.000992380      0.254019   2.68216e-05\n",
      "188.72       4061.31       0   0.000275468      0.254616   2.63657e-05\n",
      "188.697      16319.8       0   2.89827e-05      0.254698   2.63876e-05\n",
      "188.694      13754.7       0   1.40582e-05      0.254765   2.64041e-05\n",
      "188.692      12864.2       0   6.67074e-06      0.254824   2.64187e-05\n",
      "188.691      12112.9       0   3.00831e-06      0.254874   2.64317e-05\n",
      "188.69       11463.4       0   1.19058e-06      0.254918   2.64434e-05\n",
      "188.689      10893.4       0   2.87625e-07      0.254956   2.64539e-05\n",
      "188.688      10388.8       0   6.31971e-08      0.254988   2.64633e-05\n",
      "188.688      9941.22       0   7.38135e-09      0.255017   2.64719e-05\n",
      "188.687      9541.38       0   4.37123e-10      0.255041   2.64795e-05\n",
      "188.687      9183.41       0   4.98654e-12      0.255061   2.64865e-05\n",
      "188.687      8862.51       0   1.62445e-12      0.255079   2.64927e-05\n",
      "188.686      8575.49       0   3.34713e-14      0.255094   2.64990e-05\n",
      "188.686      8295.53       1   1.09568e-14      0.255095   2.65007e-05\n",
      "========================================\n",
      " Variances and Principal Axes\n",
      "                 1        2        5  \n",
      " 8.3617E-12| -0.0002   0.0001   1.0000  \n",
      " 2.9219E-04|  0.4412  -0.8974   0.0001  \n",
      " 2.5016E-03|  0.8974   0.4412   0.0001  \n",
      "----------------------------------------\n",
      "\n",
      "====================================\n",
      "  Covariance Matrix\n",
      "        1           2           3   \n",
      "   2.072e-03   8.747e-04   2.896e-07\n",
      "   8.747e-04   7.222e-04   1.031e-07\n",
      "   2.896e-07   1.031e-07   4.990e-11\n",
      "------------------------------------\n",
      "\n",
      "========================================================================\n",
      "Model TBabs<1>*apec<2> Source No.: 1   Active/On\n",
      "Model Model Component  Parameter  Unit     Value\n",
      " par  comp\n",
      "   1    1   TBabs      nH         10^22    1.09568E-14  +/-  4.55144E-02  \n",
      "   2    2   apec       kT         keV      0.255095     +/-  2.68741E-02  \n",
      "   3    2   apec       Abundanc            1.00000      frozen\n",
      "   4    2   apec       Redshift            0.0          frozen\n",
      "   5    2   apec       norm                2.65007E-05  +/-  7.06377E-06  \n",
      "________________________________________________________________________\n",
      "\n",
      "\n",
      "Fit statistic  : Chi-Squared                188.6862     using 17 bins.\n",
      "\n",
      "Test statistic : Chi-Squared                188.6862     using 17 bins.\n",
      " Null hypothesis probability of 1.1129e-32 with 14 degrees of freedom\n"
     ]
    }
   ],
   "source": [
    "AllModels.clear()\n",
    "mo = Model(\"tbabs*apec\")\n",
    "Fit.perform()\n",
    "Plot.device = \"/xs\"\n",
    "Plot(\"data resid\")"
   ]
  },
  {
   "cell_type": "code",
   "execution_count": 11,
   "id": "e3c38dd4-72e7-44cd-b2db-963368ff15b2",
   "metadata": {},
   "outputs": [
    {
     "data": {
      "text/plain": [
       "(-0.5, 860.5, 660.5, -0.5)"
      ]
     },
     "execution_count": 11,
     "metadata": {},
     "output_type": "execute_result"
    },
    {
     "data": {
      "image/png": "[encoded data removed]",
      "text/plain": [
       "<Figure size 1200x700 with 1 Axes>"
      ]
     },
     "metadata": {},
     "output_type": "display_data"
    }
   ],
   "source": [
    "img = plt.imread(glob.glob('ObsID*_SRCNUM*_E*_Spectrum_apec.png')[0])\n",
    "plt.imshow(img)\n",
    "plt.axis('off')"
   ]
  },
  {
   "cell_type": "markdown",
   "id": "746ccf61-8e54-4726-b463-b6a3d137905c",
   "metadata": {},
   "source": [
    "### Powerlaw model"
   ]
  },
  {
   "cell_type": "code",
   "execution_count": 12,
   "id": "ecf8f29f-a8fc-4efc-9ce0-7059d934b811",
   "metadata": {},
   "outputs": [
    {
     "name": "stdout",
     "output_type": "stream",
     "text": [
      "\n",
      "========================================================================\n",
      "Model TBabs<1>*powerlaw<2> Source No.: 1   Active/On\n",
      "Model Model Component  Parameter  Unit     Value\n",
      " par  comp\n",
      "   1    1   TBabs      nH         10^22    1.00000      +/-  0.0          \n",
      "   2    2   powerlaw   PhoIndex            1.00000      +/-  0.0          \n",
      "   3    2   powerlaw   norm                1.00000      +/-  0.0          \n",
      "________________________________________________________________________\n",
      "\n",
      "\n",
      "Fit statistic  : Chi-Squared              4.944905e+10     using 17 bins.\n",
      "\n",
      "Test statistic : Chi-Squared              4.944905e+10     using 17 bins.\n",
      " Null hypothesis probability of 0.000000e+00 with 14 degrees of freedom\n",
      " Current data and model not fit yet.\n",
      "                                   Parameters\n",
      "Chi-Squared  |beta|/N    Lvl          1:nH    2:PhoIndex        3:norm\n",
      "177.655      6.07543      -1      0.906356      0.196857   1.27879e-05\n",
      "128.308      695408       -1      0.554346     -0.729915   6.72131e-06\n",
      "121.741      248833       -1     0.0816526     -0.823523   5.29360e-06\n",
      "120.117      191100        0     0.0256684     -0.832977   5.12041e-06\n",
      "6     -0.844159   4.95192e-06   0.0097959\n",
      "119.482      505452        0    0.00134458     -0.857508   4.80831e-06\n",
      "119.307      606179        0   0.000561953     -0.860555   4.82684e-06\n",
      "119.186      528640        0   0.000175217     -0.863135   4.84195e-06\n",
      "119.105      463140        0   7.94986e-05     -0.865331   4.85423e-06\n",
      "119.045      407857        0   3.20482e-05     -0.867213   4.86416e-06\n",
      "119.002      361177        0   8.49241e-06     -0.868832   4.87213e-06\n",
      "118.969      321793        0   2.63852e-06     -0.870234   4.87845e-06\n",
      "118.945      288592        0   1.18229e-06     -0.871454   4.88341e-06\n",
      "118.926      260623        0   4.57149e-07     -0.872522   4.88722e-06\n",
      "118.912      237078        0   9.58016e-08     -0.873462   4.89007e-06\n",
      "118.9        217270        0   5.71421e-09     -0.874296   4.89212e-06\n",
      "118.892      200621        0   9.64244e-11     -0.875040   4.89350e-06\n",
      "118.885      186635        0   8.86503e-12     -0.875709   4.89431e-06\n",
      "118.88       174912        0   3.39853e-12     -0.876312   4.89465e-06\n",
      "118.875      165125        0   6.24176e-13     -0.876874   4.89465e-06\n",
      "118.872      156651        0   2.53803e-13     -0.877389   4.89424e-06\n",
      "118.868      149711        0   5.47794e-14     -0.877828   4.89446e-06\n",
      "118.863      142588        0   1.88911e-14     -0.878476   4.89493e-06\n",
      "118.859      131741        0   4.45576e-15     -0.879090   4.89625e-06\n",
      "118.853      119582        0   1.50682e-16     -0.879738   4.89871e-06\n",
      "118.838      104450        0   2.11896e-17     -0.882981   4.90452e-06\n",
      "***Warning: Zero alpha-matrix diagonal element for parameter 1\n",
      " Parameter 1 is pegged at 2.11896e-17 due to zero or negative pivot element, likely\n",
      " caused by the fit being insensitive to the parameter.\n",
      "118.835      62674.3      -1   2.11896e-17     -0.885345   4.90647e-06\n",
      "118.835      511.492      -2   2.11896e-17     -0.887312   4.89224e-06\n",
      "118.835      398.099      -3   2.11896e-17     -0.888041   4.88674e-06\n",
      "***Warning: Zero alpha-matrix diagonal element for parameter 1\n",
      " Parameter 1 is pegged at 2.11896e-17 due to zero or negative pivot element, likely\n",
      " caused by the fit being insensitive to the parameter.\n",
      "118.835      8.85608      -3   2.11896e-17     -0.888212   4.88548e-06\n",
      "==============================\n",
      " Variances and Principal Axes\n",
      "                 2        3  \n",
      " 1.5392E-13| -0.0000   1.0000  \n",
      " 2.0588E-02|  1.0000   0.0000  \n",
      "------------------------------\n",
      "\n",
      "========================\n",
      "  Covariance Matrix\n",
      "        1           2   \n",
      "   2.059e-02   1.517e-07\n",
      "   1.517e-07   1.272e-12\n",
      "------------------------\n",
      "\n",
      "========================================================================\n",
      "Model TBabs<1>*powerlaw<2> Source No.: 1   Active/On\n",
      "Model Model Component  Parameter  Unit     Value\n",
      " par  comp\n",
      "   1    1   TBabs      nH         10^22    2.11896E-17  +/-  -1.00000     \n",
      "   2    2   powerlaw   PhoIndex            -0.888212    +/-  0.143487     \n",
      "   3    2   powerlaw   norm                4.88548E-06  +/-  1.12786E-06  \n",
      "________________________________________________________________________\n",
      "\n",
      "\n",
      "Fit statistic  : Chi-Squared                118.8350     using 17 bins.\n",
      "\n",
      "Test statistic : Chi-Squared                118.8350     using 17 bins.\n",
      " Null hypothesis probability of 1.0637e-18 with 14 degrees of freedom\n"
     ]
    }
   ],
   "source": [
    "AllModels.clear()\n",
    "mo = Model(\"tbabs*powerlaw\")\n",
    "Fit.perform()\n",
    "Plot.device = \"/xs\"\n",
    "Plot(\"data resid\")"
   ]
  },
  {
   "cell_type": "code",
   "execution_count": 13,
   "id": "4f917501-7614-449b-b313-4ab6c7dd2aee",
   "metadata": {},
   "outputs": [
    {
     "data": {
      "text/plain": [
       "(-0.5, 854.5, 659.5, -0.5)"
      ]
     },
     "execution_count": 13,
     "metadata": {},
     "output_type": "execute_result"
    },
    {
     "data": {
      "image/png": "[encoded data removed]",
      "text/plain": [
       "<Figure size 1200x700 with 1 Axes>"
      ]
     },
     "metadata": {},
     "output_type": "display_data"
    }
   ],
   "source": [
    "img = plt.imread(glob.glob('ObsID*_SRCNUM*_E*_Spectrum_powerlaw.png')[0])\n",
    "plt.imshow(img)\n",
    "plt.axis('off')"
   ]
  },
  {
   "cell_type": "markdown",
   "id": "1973f13c-7580-446c-b7fe-bf273fd37c5d",
   "metadata": {},
   "source": [
    "## Flux"
   ]
  },
  {
   "cell_type": "code",
   "execution_count": 14,
   "id": "f6ba1ee6-8282-4c45-8230-6603f9bfbae8",
   "metadata": {},
   "outputs": [
    {
     "name": "stdout",
     "output_type": "stream",
     "text": [
      " Model Flux 0.00028209 photons (3.5473e-12 ergs/cm^2/s) range (0.20000 - 12.000 keV)\n"
     ]
    }
   ],
   "source": [
    "AllModels.calcFlux(\".2 12.0\")"
   ]
  },
  {
   "cell_type": "code",
   "execution_count": 15,
   "id": "4e93ef39-9046-44fe-a12f-a84de18a36e6",
   "metadata": {},
   "outputs": [],
   "source": [
    "Flux = 3.5473e-12 # ergs/cm^2/s"
   ]
  },
  {
   "cell_type": "markdown",
   "id": "ccedc18b-2d1e-4c77-ab21-4a83b5e6846c",
   "metadata": {},
   "source": [
    "### ESASky\n",
    "\n",
    "``EPIC Stack``\n",
    "\n",
    "- Stack Catalogue name : 4XMMs J033331.9-270916\n",
    "- IAU name : 4XMM J033331.9-270916\n",
    "- RA : 03h 33m 31.917s\n",
    "- DEC : -27° 09' 16.80\"\n",
    "\n",
    "``GAIA``\n",
    "\n",
    "- Designation : Gaia DR3 5084568549147089792\n",
    "- RA : 03h 33m 31.933s\n",
    "- DEC : -27° 09' 16.53\"\n",
    "- Parallax : 0.1954 mas\n",
    "\n",
    "``eROSITA``\n",
    "\n",
    "- IAUNAME : 1eRASS J033331.8-270916\n",
    "- RA : 03h 33m 31.807s\n",
    "- DEC : -27° 09' 16.29\"\n",
    "- DEC : -28° 41' 55.05\""
   ]
  },
  {
   "cell_type": "markdown",
   "id": "c8c6cc3c-5807-4c13-a57f-a4ce5da37435",
   "metadata": {},
   "source": [
    "### Luminosity"
   ]
  },
  {
   "cell_type": "code",
   "execution_count": 6,
   "id": "d586c000-4d0d-466d-b61a-9dae79785426",
   "metadata": {},
   "outputs": [
    {
     "ename": "NameError",
     "evalue": "name 'Flux' is not defined",
     "output_type": "error",
     "traceback": [
      "\u001b[0;31m---------------------------------------------------------------------------\u001b[0m",
      "\u001b[0;31mNameError\u001b[0m                                 Traceback (most recent call last)",
      "Cell \u001b[0;32mIn[6], line 8\u001b[0m\n\u001b[1;32m      5\u001b[0m d_cm \u001b[38;5;241m=\u001b[39m d_kpc\u001b[38;5;241m*\u001b[39m\u001b[38;5;241m3.0857\u001b[39m\u001b[38;5;241m*\u001b[39m\u001b[38;5;241m10\u001b[39m\u001b[38;5;241m*\u001b[39m\u001b[38;5;241m*\u001b[39m\u001b[38;5;241m21\u001b[39m \u001b[38;5;66;03m# Distance en cm, avec 1 pc = 3.0857*10^18 cm\u001b[39;00m\n\u001b[1;32m      7\u001b[0m \u001b[38;5;66;03m# La source est supposée sphérique pour le calcul de la luminosité : L = 4*pi*F*D^2\u001b[39;00m\n\u001b[0;32m----> 8\u001b[0m Luminosity \u001b[38;5;241m=\u001b[39m \u001b[38;5;241m4\u001b[39m\u001b[38;5;241m*\u001b[39mnp\u001b[38;5;241m.\u001b[39mpi\u001b[38;5;241m*\u001b[39m\u001b[43mFlux\u001b[49m\u001b[38;5;241m*\u001b[39m(d_cm)\u001b[38;5;241m*\u001b[39m\u001b[38;5;241m*\u001b[39m\u001b[38;5;241m2\u001b[39m \u001b[38;5;66;03m# erg/s\u001b[39;00m\n\u001b[1;32m     10\u001b[0m \u001b[38;5;28mprint\u001b[39m(color\u001b[38;5;241m.\u001b[39mBOLD\u001b[38;5;241m+\u001b[39m\u001b[38;5;124m\"\u001b[39m\u001b[38;5;124m(GAIA)\u001b[39m\u001b[38;5;124m\"\u001b[39m\u001b[38;5;241m+\u001b[39mcolor\u001b[38;5;241m.\u001b[39mEND)\n\u001b[1;32m     11\u001b[0m \u001b[38;5;28mprint\u001b[39m(\u001b[38;5;124mf\u001b[39m\u001b[38;5;124m\"\u001b[39m\u001b[38;5;124mDistance : \u001b[39m\u001b[38;5;132;01m{\u001b[39;00md_cm\u001b[38;5;132;01m}\u001b[39;00m\u001b[38;5;124m cm\u001b[39m\u001b[38;5;124m\"\u001b[39m)\n",
      "\u001b[0;31mNameError\u001b[0m: name 'Flux' is not defined"
     ]
    }
   ],
   "source": [
    "\"\"\"GAIA\"\"\"\n",
    "\n",
    "P_mas = 0.1954\n",
    "d_kpc = 1/P_mas # Distance en kpc\n",
    "d_cm = d_kpc*3.0857*10**21 # Distance en cm, avec 1 pc = 3.0857*10^18 cm\n",
    "\n",
    "# La source est supposée sphérique pour le calcul de la luminosité : L = 4*pi*F*D^2\n",
    "Luminosity = 4*np.pi*Flux*(d_cm)**2 # erg/s\n",
    "\n",
    "print(color.BOLD+\"(GAIA)\"+color.END)\n",
    "print(f\"Distance : {d_cm} cm\")\n",
    "print(f\"Luminosité : {Luminosity} erg/s\")"
   ]
  }
 ],
 "metadata": {
  "kernelspec": {
   "display_name": "Python 3 (ipykernel)",
   "language": "python",
   "name": "python3"
  },
  "language_info": {
   "codemirror_mode": {
    "name": "ipython",
    "version": 3
   },
   "file_extension": ".py",
   "mimetype": "text/x-python",
   "name": "python",
   "nbconvert_exporter": "python",
   "pygments_lexer": "ipython3",
   "version": "3.10.12"
  }
 },
 "nbformat": 4,
 "nbformat_minor": 5
}
