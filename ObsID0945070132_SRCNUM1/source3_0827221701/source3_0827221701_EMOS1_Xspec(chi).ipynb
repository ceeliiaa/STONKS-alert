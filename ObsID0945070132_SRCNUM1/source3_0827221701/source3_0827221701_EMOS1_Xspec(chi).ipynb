{
 "cells": [
  {
   "cell_type": "markdown",
   "id": "a09472f9-b7b4-4047-9978-0b5adf3b464f",
   "metadata": {},
   "source": [
    "# ObsID : 0827221701, SRCNUM : 1, Instru : EMOS1\n",
    "\n",
    "Third previous observation of the source **0945070132 - 1**."
   ]
  },
  {
   "cell_type": "markdown",
   "id": "1aad8c20-0602-4c5d-8370-d53b00a834bc",
   "metadata": {},
   "source": [
    "## ESASky\n",
    "\n",
    "https://sky.esa.int/esasky/?target=53.383375%20-27.15480555555556&hips=XMM-Newton+EPIC+color&fov=1&projection=SIN&cooframe=J2000&sci=true&lang=fr\n",
    "\n",
    "``GAIA``\n",
    "\n",
    "- Designation : Gaia DR3 5084568549147089792\n",
    "- RA : 03h 33m 31.933s\n",
    "- DEC : -27° 09' 16.53\"\n",
    "- Parallax : 0.1954 mas\n",
    "- G : 19.7505\n",
    "- BP-RP = 0.8773"
   ]
  },
  {
   "cell_type": "code",
   "execution_count": 1,
   "id": "311ae079-ccd8-41c3-aac4-08c99f67b431",
   "metadata": {},
   "outputs": [],
   "source": [
    "from xspec import *\n",
    "from stingray import Lightcurve\n",
    "from astropy.io import fits\n",
    "import matplotlib.pyplot as plt\n",
    "import matplotlib.image as mpimg\n",
    "import glob\n",
    "import numpy as np\n",
    "\n",
    "class color:\n",
    "   PURPLE = '\\033[95m'\n",
    "   CYAN = '\\033[96m'\n",
    "   DARKCYAN = '\\033[36m'\n",
    "   BLUE = '\\033[94m'\n",
    "   GREEN = '\\033[92m'\n",
    "   YELLOW = '\\033[93m'\n",
    "   RED = '\\033[91m'\n",
    "   BOLD = '\\033[1m'\n",
    "   UNDERLINE = '\\033[4m'\n",
    "   END = '\\033[0m'\n",
    "\n",
    "plt.rcParams['figure.figsize'] = [12,7]"
   ]
  },
  {
   "cell_type": "markdown",
   "id": "96cfe5dc-5b28-4c91-b7ce-94bd8abb9da4",
   "metadata": {},
   "source": [
    "## Fit statistic"
   ]
  },
  {
   "cell_type": "code",
   "execution_count": 2,
   "id": "b5222fe6-7abf-47d8-a19a-17038082541b",
   "metadata": {},
   "outputs": [
    {
     "name": "stdout",
     "output_type": "stream",
     "text": [
      "Default fit statistic is set to: Chi-Squared\n",
      "   This will apply to all current and newly loaded spectra.\n",
      "Parameter delta values for fits will now be 0.0001 * parValue\n"
     ]
    }
   ],
   "source": [
    "Fit.statMethod = \"chi\"\n",
    "Fit.nIterations = 100000\n",
    "Fit.delta = 1e-4\n",
    "Fit.criticalDelta = 1e-4"
   ]
  },
  {
   "cell_type": "markdown",
   "id": "13eeb099-59bd-4dee-935a-a2a07cf14d0c",
   "metadata": {},
   "source": [
    "The expected reduce Chi-squared value of a perfect fit is **≈ 1** with: ``reduce Chi-squared = Chi-squared/(n_bins-n_parameters)``"
   ]
  },
  {
   "cell_type": "markdown",
   "id": "39b7d9d2-7930-4892-81ba-8bd2db47e610",
   "metadata": {},
   "source": [
    "## Load files"
   ]
  },
  {
   "cell_type": "code",
   "execution_count": 3,
   "id": "cd0bcd6f-9565-4899-90b7-1e5d87e7050a",
   "metadata": {},
   "outputs": [
    {
     "name": "stdout",
     "output_type": "stream",
     "text": [
      "***Warning: Detected response matrix energy bin value = 0 (or neg).\n",
      "     XSPEC will instead use small finite value (response file will not be altered).\n",
      "Warning: RMF FILTER keyword (Medium) is not consistent with that in spectrum (Thin1)\n",
      "\n",
      "1 spectrum  in use\n",
      " \n",
      "Spectral Data File: P0827221701M1S001SRSPEC0001.FTZ  Spectrum 1\n",
      "Net count rate (cts/s) for Spectrum:1  9.812e-02 +/- 2.595e-03 (95.0 % total)\n",
      " Assigned to Data Group 1 and Plot Group 1\n",
      "  Noticed Channels:  1-47\n",
      "  Telescope: XMM Instrument: EMOS1  Channel Type: PI\n",
      "  Exposure Time: 1.539e+04 sec\n",
      " Using fit statistic: chi\n",
      " Using Background File                P0827221701M1S001BGSPEC0001.FTZ\n",
      "  Background Exposure Time: 1.539e+04 sec\n",
      " Using Response (RMF) File            m1_e13_im_pall_o.rmf for Source 1\n",
      " Using Auxiliary Response (ARF) File  P0827221701M1S001SRCARF0001.FTZ\n",
      "\n"
     ]
    }
   ],
   "source": [
    "AllData.clear()\n",
    "spec = Spectrum(glob.glob(\"P*M1*SRSPEC0001.FTZ\")[0])"
   ]
  },
  {
   "cell_type": "code",
   "execution_count": 4,
   "id": "d2162e29-f021-491d-97ae-2798a012e3cd",
   "metadata": {},
   "outputs": [
    {
     "name": "stdout",
     "output_type": "stream",
     "text": [
      "Number of counts = 1510.0668 cts\n"
     ]
    }
   ],
   "source": [
    "print(f\"Number of counts = {9.812e-02*1.539e+04} cts\")"
   ]
  },
  {
   "cell_type": "markdown",
   "id": "e33a3a79-2d25-4f9c-98cb-a06781c8296d",
   "metadata": {},
   "source": [
    "The number of counts exceeds 100 cts, indicating that the chi-squared test should be a good choice for a goodness-of-fit statistic."
   ]
  },
  {
   "cell_type": "markdown",
   "id": "870eec10-27a5-4341-a01c-4a98ac400133",
   "metadata": {},
   "source": [
    "## Plot spectrum"
   ]
  },
  {
   "cell_type": "code",
   "execution_count": 5,
   "id": "37f98bf3-3d31-4c65-891f-3ea006da7786",
   "metadata": {},
   "outputs": [
    {
     "name": "stdout",
     "output_type": "stream",
     "text": [
      "      No channels ignored (no channels in specified range)\n",
      "     1 channels (47) ignored in spectrum #     1\n",
      "\n"
     ]
    }
   ],
   "source": [
    "Plot.xAxis=\"keV\"\n",
    "Plot.device = \"/xs\"\n",
    "Plot.xLog=True\n",
    "Plot.yLog=True\n",
    "#Plot.addCommand(\"Rescale Y 0.00001 0.005\")\n",
    "Plot(\"data\")\n",
    "spec.ignore(\"**-0.2 12.0-**\")"
   ]
  },
  {
   "cell_type": "code",
   "execution_count": 6,
   "id": "27bf0415-368d-4476-8ef7-29af925b48ee",
   "metadata": {},
   "outputs": [
    {
     "data": {
      "text/plain": [
       "(-0.5, 851.5, 657.5, -0.5)"
      ]
     },
     "execution_count": 6,
     "metadata": {},
     "output_type": "execute_result"
    },
    {
     "data": {
      "image/png": "[encoded data removed]",
      "text/plain": [
       "<Figure size 1200x700 with 1 Axes>"
      ]
     },
     "metadata": {},
     "output_type": "display_data"
    }
   ],
   "source": [
    "img = plt.imread(glob.glob('*_Spectrum.png')[0])\n",
    "plt.imshow(img)\n",
    "plt.axis('off')"
   ]
  },
  {
   "cell_type": "markdown",
   "id": "7eb1edda-21f0-4876-bdbc-8cb3e4a347dc",
   "metadata": {},
   "source": [
    "### Black body model"
   ]
  },
  {
   "cell_type": "code",
   "execution_count": 7,
   "id": "25e94b4e-0bb6-439e-af07-e82ebf0faa48",
   "metadata": {
    "scrolled": true
   },
   "outputs": [
    {
     "name": "stdout",
     "output_type": "stream",
     "text": [
      "\n",
      "========================================================================\n",
      "Model TBabs<1>*bbody<2> Source No.: 1   Active/On\n",
      "Model Model Component  Parameter  Unit     Value\n",
      " par  comp\n",
      "   1    1   TBabs      nH         10^22    1.00000      +/-  0.0          \n",
      "   2    2   bbody      kT         keV      3.00000      +/-  0.0          \n",
      "   3    2   bbody      norm                1.00000      +/-  0.0          \n",
      "________________________________________________________________________\n",
      "\n",
      "tbvabs Version 2.3\n",
      "Cosmic absorption with grains and H2, modified from\n",
      "Wilms, Allen, & McCray, 2000, ApJ 542, 914-924\n",
      "Questions: Joern Wilms\n",
      "joern.wilms@sternwarte.uni-erlangen.de\n",
      "joern.wilms@fau.de\n",
      "\n",
      "http://pulsar.sternwarte.uni-erlangen.de/wilms/research/tbabs/\n",
      "\n",
      "PLEASE NOTICE:\n",
      "To get the model described by the above paper\n",
      "you will also have to set the abundances:\n",
      "   abund wilm\n",
      "\n",
      "Note that this routine ignores the current cross section setting\n",
      "as it always HAS to use the Verner cross sections as a baseline.\n",
      "\n",
      "Fit statistic  : Chi-Squared              4.454870e+11     using 46 bins.\n",
      "\n",
      "Test statistic : Chi-Squared              4.454870e+11     using 46 bins.\n",
      " Null hypothesis probability of 0.000000e+00 with 43 degrees of freedom\n",
      " Current data and model not fit yet.\n",
      "                                   Parameters\n",
      "Chi-Squared  |beta|/N    Lvl          1:nH          2:kT        3:norm\n",
      "1341.41      4.47316       0      0.484748       3.22426   1.21950e-05\n",
      "1327.11      702047        0      0.203980       3.16825   1.25193e-05\n",
      "1315.94      745733        0     0.0693653       3.11689   1.28065e-05\n",
      "1307.83      756527        0    0.00606515       3.07017   1.30568e-05\n",
      "1304.33      736802        0    0.00238323       3.02830   1.32684e-05\n",
      "1301.63      673975        0   0.000647183       2.99257   1.34318e-05\n",
      "1299.54      615523        0   0.000233772       2.96170   1.35553e-05\n",
      "1297.85      562139        0   3.52771e-05       2.93474   1.36459e-05\n",
      "1296.48      514659        0   1.12982e-05       2.91088   1.37095e-05\n",
      "1295.33      472701        0   5.47466e-06       2.88952   1.37505e-05\n",
      "1294.36      435901        0   2.63417e-06       2.87019   1.37730e-05\n",
      "1293.52      403783        0   1.24389e-06       2.85254   1.37799e-05\n",
      "1292.8       375847        0   5.61461e-07       2.83624   1.37739e-05\n",
      "1292.15      351600        0   2.25686e-07       2.82108   1.37570e-05\n",
      "1291.57      330597        0   6.01475e-08       2.80684   1.37311e-05\n",
      "1291.05      312433        0   1.92745e-08       2.79337   1.36976e-05\n",
      "1290.56      296747        0   9.16853e-09       2.78054   1.36576e-05\n",
      "1290.11      283210        0   4.16543e-09       2.76822   1.36123e-05\n",
      "1289.68      271529        0   1.68602e-09       2.75636   1.35624e-05\n",
      "1289.27      261477        0   4.56319e-10       2.74486   1.35087e-05\n",
      "1288.88      252826        0   1.51220e-10       2.73365   1.34518e-05\n",
      "1288.5       245371        0   7.54159e-11       2.72268   1.33923e-05\n",
      "1288.14      238902        0   2.42145e-13       2.71194   1.33301e-05\n",
      "1287.78      233490        0   1.11487e-13       2.70131   1.32637e-05\n",
      "1287.33      229350        0   3.28263e-14       2.68912   1.32145e-05\n",
      "1286.52      217336        0   1.42872e-14       2.66986   1.32251e-05\n",
      "1284.64      173311        0   2.96417e-15       2.60476   1.24741e-05\n",
      "1260.45      247508       -1   1.23268e-15       1.69099   4.49498e-06\n",
      "1194.95      3.93832e+06  -2   5.66342e-16      0.574092   1.13838e-06\n",
      "1070.65      3.31801e+07  -1   2.10035e-16     0.0855697   5.38813e-06\n",
      "903.587      8.27851e+06  -2   9.99183e-17      0.204798   2.14438e-06\n",
      "269.266      3.56327e+07  -3   4.24916e-17      0.273475   7.56864e-06\n",
      "***Warning: Zero alpha-matrix diagonal element for parameter 1\n",
      " Parameter 1 is pegged at 4.24916e-17 due to zero or negative pivot element, likely\n",
      " caused by the fit being insensitive to the parameter.\n",
      "258.217      2.53256e+06  -4   4.24916e-17      0.257348   7.42515e-06\n",
      "254.878      472400       -5   4.24916e-17      0.248447   7.53466e-06\n",
      "253.863      172902       -6   4.24916e-17      0.243725   7.59209e-06\n",
      "253.55       52505.1      -7   4.24916e-17      0.241157   7.62145e-06\n",
      "253.453      15514        -8   4.24916e-17      0.239741   7.63693e-06\n",
      "253.422      4956.27      -9   4.24916e-17      0.238953   7.64539e-06\n",
      "253.413      1554.49     -10   4.24916e-17      0.238512   7.65004e-06\n",
      "253.41       564.143     -11   4.24916e-17      0.238266   7.65264e-06\n",
      "253.409      154.301     -12   4.24916e-17      0.238130   7.65407e-06\n",
      "253.408      27.2017     -13   4.24916e-17      0.238055   7.65485e-06\n",
      "253.408      40.2298     -14   4.24916e-17      0.238012   7.65530e-06\n",
      "***Warning: Zero alpha-matrix diagonal element for parameter 1\n",
      " Parameter 1 is pegged at 4.24916e-17 due to zero or negative pivot element, likely\n",
      " caused by the fit being insensitive to the parameter.\n",
      "253.408      12.1868      -3   4.24916e-17      0.237988   7.65555e-06\n",
      "==============================\n",
      " Variances and Principal Axes\n",
      "                 2        3  \n",
      " 4.9170E-14|  0.0000   1.0000  \n",
      " 3.1211E-05|  1.0000  -0.0000  \n",
      "------------------------------\n",
      "\n",
      "========================\n",
      "Matrixriance \n",
      "        1           2   \n",
      "   3.121e-05  -3.250e-10\n",
      "  -3.250e-10   5.255e-14\n",
      "------------------------\n",
      "\n",
      "========================================================================\n",
      "Model TBabs<1>*bbody<2> Source No.: 1   Active/On\n",
      "Model Model Component  Parameter  Unit     Value\n",
      " par  comp\n",
      "   1    1   TBabs      nH         10^22    4.24916E-17  +/-  -1.00000     \n",
      "   2    2   bbody      kT         keV      0.237988     +/-  5.58671E-03  \n",
      "   3    2   bbody      norm                7.65555E-06  +/-  2.29247E-07  \n",
      "________________________________________________________________________\n",
      "\n",
      "\n",
      "Fit statistic  : Chi-Squared                253.4082     using 46 bins.\n",
      "\n",
      "Test statistic : Chi-Squared                253.4082     using 46 bins.\n",
      " Null hypothesis probability of 1.2928e-31 with 43 degrees of freedom\n",
      " Model Flux 0.00055422 photons (6.2734e-13 ergs/cm^2/s) range (0.20000 - 12.000 keV)\n"
     ]
    }
   ],
   "source": [
    "AllModels.clear()\n",
    "mo = Model(\"tbabs*bbody\")\n",
    "Fit.perform()\n",
    "Plot.device = \"/xs\"\n",
    "Plot(\"data resid\")\n",
    "plt.show()\n",
    "nH_bbody = mo.TBabs.nH.values[0]\n",
    "AllModels.calcFlux(\".2 12.0\")"
   ]
  },
  {
   "cell_type": "markdown",
   "id": "b77a2e66-8412-4d85-a277-10782493ea2e",
   "metadata": {},
   "source": [
    "### Bremsstrahlung model"
   ]
  },
  {
   "cell_type": "code",
   "execution_count": 8,
   "id": "3ed606fb-6f75-4369-b9c8-b5c95a0a9577",
   "metadata": {
    "scrolled": true
   },
   "outputs": [
    {
     "name": "stdout",
     "output_type": "stream",
     "text": [
      "\n",
      "========================================================================\n",
      "Model TBabs<1>*bremss<2> Source No.: 1   Active/On\n",
      "Model Model Component  Parameter  Unit     Value\n",
      " par  comp\n",
      "   1    1   TBabs      nH         10^22    1.00000      +/-  0.0          \n",
      "   2    2   bremss     kT         keV      7.00000      +/-  0.0          \n",
      "   3    2   bremss     norm                1.00000      +/-  0.0          \n",
      "________________________________________________________________________\n",
      "\n",
      "\n",
      "Fit statistic  : Chi-Squared              1.113139e+10     using 46 bins.\n",
      "\n",
      "Test statistic : Chi-Squared              1.113139e+10     using 46 bins.\n",
      " Null hypothesis probability of 0.000000e+00 with 43 degrees of freedom\n",
      " Current data and model not fit yet.\n",
      "                                   Parameters\n",
      "Chi-Squared  |beta|/N    Lvl          1:nH          2:kT        3:norm\n",
      "1103.1       32.6171      -3      0.285162       30.9578   7.57853e-05\n",
      "1046.02      536227       -4      0.102246       199.183   0.000114587\n",
      "946.197      420746       -2    0.00167671       49.8115   7.98392e-05\n",
      "755.368      787283        0   0.000375343       20.0163   0.000101138\n",
      "599.095      705793        0   5.21371e-05       4.03355   0.000111471\n",
      "444.866      857110       -1   1.00093e-05       1.62175   0.000177572\n",
      "199.101      632356       -2   4.74973e-06       2.09337   0.000244322\n",
      "182.83       298313       -1   1.51014e-06       1.92242   0.000256819\n",
      "168.576      285740       -1   4.29387e-08       1.84763   0.000267476\n",
      "160.271      261899       -1   3.56159e-10       1.80157   0.000274301\n",
      "155.155      247839       -1   3.87264e-11       1.77239   0.000278809\n",
      "151.926      239068       -1   2.40481e-13       1.75328   0.000281782\n",
      "151.139      233537       -1   9.89524e-14       1.74556   0.000282635\n",
      "141.437      232675       -1   3.24330e-14       1.70330   0.000291558\n",
      "134.492      212872       -1   1.86259e-15       1.68873   0.000297813\n",
      "87.8947      194920       -2   8.17053e-16       1.26792   0.000385748\n",
      "77.2541      98376.4      -3   3.58451e-16       1.26215   0.000414473\n",
      "***Warning: Zero alpha-matrix diagonal element for parameter 1\n",
      " Parameter 1 is pegged at 3.58451e-16 due to zero or negative pivot element, likely\n",
      " caused by the fit being insensitive to the parameter.\n",
      "74.8393      43479.6      -4   3.58451e-16       1.18492   0.000443678\n",
      "74.7185      7301.91      -5   3.58451e-16       1.16664   0.000450791\n",
      "74.7126      312.848      -6   3.58451e-16       1.16225   0.000452124\n",
      "74.7122      23.7152      -7   3.58451e-16       1.16105   0.000452474\n",
      "74.7121      1.33248      -8   3.58451e-16       1.16063   0.000452594\n",
      "***Warning: Zero alpha-matrix diagonal element for parameter 1\n",
      " Parameter 1 is pegged at 3.58451e-16 due to zero or negative pivot element, likely\n",
      " caused by the fit being insensitive to the parameter.\n",
      "74.7121      0.0273548     0   3.58451e-16       1.16063   0.000452594\n",
      "==============================\n",
      " Variances and Principal Axes\n",
      "                 2        3  \n",
      " 1.4946E-10|  0.0003   1.0000  \n",
      " 4.2466E-03|  1.0000  -0.0003  \n",
      "------------------------------\n",
      "\n",
      "========================\n",
      "  Covariance Matrix\n",
      "        1           2   \n",
      "   4.247e-03  -1.214e-06\n",
      "14e-06   4.963e-10\n",
      "------------------------\n",
      "\n",
      "========================================================================\n",
      "Model TBabs<1>*bremss<2> Source No.: 1   Active/On\n",
      "Model Model Component  Parameter  Unit     Value\n",
      " par  comp\n",
      "   1    1   TBabs      nH         10^22    3.58451E-16  +/-  -1.00000     \n",
      "   2    2   bremss     kT         keV      1.16063      +/-  6.51656E-02  \n",
      "   3    2   bremss     norm                4.52594E-04  +/-  2.22769E-05  \n",
      "________________________________________________________________________\n",
      "\n",
      "\n",
      "Fit statistic  : Chi-Squared                 74.7121     using 46 bins.\n",
      "\n",
      "Test statistic : Chi-Squared                 74.7121     using 46 bins.\n",
      " Null hypothesis probability of 1.9313e-03 with 43 degrees of freedom\n",
      " Model Flux 0.00097152 photons (9.4746e-13 ergs/cm^2/s) range (0.20000 - 12.000 keV)\n"
     ]
    }
   ],
   "source": [
    "AllModels.clear()\n",
    "mo = Model(\"tbabs*bremss\")\n",
    "Fit.perform()\n",
    "Plot.device = \"/xs\"\n",
    "Plot(\"data resid\")\n",
    "nH_bremss = mo.TBabs.nH.values[0]\n",
    "AllModels.calcFlux(\".2 12.0\")"
   ]
  },
  {
   "cell_type": "markdown",
   "id": "4d8ea665-d6a1-4113-beaf-fad108850b18",
   "metadata": {},
   "source": [
    "### Apec model"
   ]
  },
  {
   "cell_type": "code",
   "execution_count": 9,
   "id": "4bd12dd8-e0eb-46e8-a057-f7eb723b3a94",
   "metadata": {
    "scrolled": true
   },
   "outputs": [
    {
     "name": "stdout",
     "output_type": "stream",
     "text": [
      "\n",
      "========================================================================\n",
      "Model TBabs<1>*apec<2> Source No.: 1   Active/On\n",
      "Model Model Component  Parameter  Unit     Value\n",
      " par  comp\n",
      "   1    1   TBabs      nH         10^22    1.00000      +/-  0.0          \n",
      "   2    2   apec       kT         keV      1.00000      +/-  0.0          \n",
      "   3    2   apec       Abundanc            1.00000      frozen\n",
      "   4    2   apec       Redshift            0.0          frozen\n",
      "   5    2   apec       norm                1.00000      +/-  0.0          \n",
      "________________________________________________________________________\n",
      "\n",
      "Reading APEC data from 3.0.9\n",
      "\n",
      "\n",
      "Fit statistic  : Chi-Squared              7.988474e+08     using 46 bins.\n",
      "\n",
      "Test statistic : Chi-Squared              7.988474e+08     using 46 bins.\n",
      " Null hypothesis probability of 0.000000e+00 with 43 degrees of freedom\n",
      " Current data and model not fit yet.\n",
      "                                   Parameters\n",
      "Chi-Squared  |beta|/N    Lvl          1:nH          2:kT        5:norm\n",
      "645.867      58.4112      -3      0.828221      0.894758   0.000809217\n",
      "620.771      10027.5      -4      0.807170      0.778025   0.000883291\n",
      "613.807      10629.6      -5      0.764162      0.747647   0.000877203\n",
      "612.35       784.39       -6      0.758674      0.719949   0.000899862\n",
      "611.808      535.161      -7      0.756094      0.699744   0.000921780\n",
      "611.747      195.786      -8      0.747356      0.702987   0.000902021\n",
      "611.739      63.8145      -9      0.748146      0.700027   0.000907309\n",
      "611.738      7.79815     -10      0.746913      0.700754   0.000904152\n",
      "611.738      1.83044     -11      0.747140      0.700295   0.000905144\n",
      "611.738      0.248979    -12      0.746956      0.700435   0.000904631\n",
      "========================================\n",
      " Variances and Principal Axes\n",
      "                 1        2        5  \n",
      " 9.8291E-10| -0.0018   0.0012   1.0000  \n",
      " 6.0464E-04| -0.6313  -0.7755  -0.0002  \n",
      " 1.5236E-03|  0.7755  -0.6313   0.0022  \n",
      "----------------------------------------\n",
      "\n",
      "====================================\n",
      "  Covariance Matrix\n",
      "        1           2           3   \n",
      "   1.157e-03  -4.499e-04   2.692e-06\n",
      "  -4.499e-04   9.709e-04  -2.033e-06\n",
      "   2.692e-06  -2.033e-06   8.467e-09\n",
      "------------------------------------\n",
      "\n",
      "========================================================================\n",
      "Model TBabs<1>*apec<2> Source No.: 1   Active/On\n",
      "Model Model Component  Parameter  Unit     Value\n",
      " par  comp\n",
      "   1    1   TBabs      nH         10^22    0.746956     +/-  3.40203E-02  \n",
      "   2    2   apec       kT         keV      0.700435     +/-  3.11591E-02  \n",
      "   3    2   apec       Abundanc            1.00000      frozen\n",
      "   4    2   apec       Redshift            0.0          frozen\n",
      "   5    2   apec       norm                9.04631E-04  +/-  9.20171E-05  \n",
      "________________________________________________________________________\n",
      "\n",
      "\n",
      "Fit statistic  : Chi-Squared                611.7380     using 46 bins.\n",
      "\n",
      "Test statistic : Chi-Squared                611.7380     using 46 bins.\n",
      " Null hypothesis probability of 1.2637e-101 with 43 degrees of freedom\n",
      " Model Flux 0.00020594 photons (4.0534e-13 ergs/cm^2/s) range (0.20000 - 12.000 keV)\n"
     ]
    }
   ],
   "source": [
    "AllModels.clear()\n",
    "mo = Model(\"tbabs*apec\")\n",
    "Fit.perform()\n",
    "Plot.device = \"/xs\"\n",
    "Plot(\"data resid\")\n",
    "nH_apec = mo.TBabs.nH.values[0]\n",
    "AllModels.calcFlux(\".2 12.0\")"
   ]
  },
  {
   "cell_type": "markdown",
   "id": "746ccf61-8e54-4726-b463-b6a3d137905c",
   "metadata": {},
   "source": [
    "### Powerlaw model"
   ]
  },
  {
   "cell_type": "code",
   "execution_count": 10,
   "id": "ecf8f29f-a8fc-4efc-9ce0-7059d934b811",
   "metadata": {
    "scrolled": true
   },
   "outputs": [
    {
     "name": "stdout",
     "output_type": "stream",
     "text": [
      "\n",
      "========================================================================\n",
      "Model TBabs<1>*powerlaw<2> Source No.: 1   Active/On\n",
      "Model Model Component  Parameter  Unit     Value\n",
      " par  comp\n",
      "   1    1   TBabs      nH         10^22    1.00000      +/-  0.0          \n",
      "   2    2   powerlaw   PhoIndex            1.00000      +/-  0.0          \n",
      "   3    2   powerlaw   norm                1.00000      +/-  0.0          \n",
      "________________________________________________________________________\n",
      "\n",
      "\n",
      "Fit statistic  : Chi-Squared              8.768922e+10     using 46 bins.\n",
      "\n",
      "Test statistic : Chi-Squared              8.768922e+10     using 46 bins.\n",
      " Null hypothesis probability of 0.000000e+00 with 43 degrees of freedom\n",
      " Current data and model not fit yet.\n",
      "                                   Parameters\n",
      "Chi-Squared  |beta|/N    Lvl          1:nH    2:PhoIndex        3:norm\n",
      "1195.72      29.7305      -1      0.183511       1.23545   2.36716e-05\n",
      "1060.41      1.48076e+06  -1     0.0891488       1.41165   3.60309e-05\n",
      "613.995      1.45501e+06  -2     0.0133049       2.14556   8.36216e-05\n",
      "236.183      1.26507e+06  -3    0.00226615       2.98330   0.000231873\n",
      "45.6131      517004       -4   0.000339011       2.37783   0.000226642\n",
      "40.8759      70717        -5     0.0254691       2.54993   0.000242291\n",
      "40.8585      1160.78      -6     0.0275774       2.56407   0.000244405\n",
      "40.8585      57.2391      -7     0.0275797       2.56407   0.000244414\n",
      "========================================\n",
      " Variances and Principal Axes\n",
      "                 1        2        3  \n",
      " 4.2535E-11| -0.0010   0.0000   1.0000  \n",
      " 5.8812E-05|  0.9892  -0.1469   0.0010  \n",
      " 1.2187E-02|  0.1469   0.9892   0.0001  \n",
      "----------------------------------------\n",
      "\n",
      "====================================\n",
      "  Covariance Matrix\n",
      "        1           2           3   \n",
      "   3.204e-04   1.762e-03   3.029e-07\n",
      "   1.762e-03   1.193e-02   1.653e-06\n",
      "   3.029e-07   1.653e-06   3.290e-10\n",
      "------------------------------------\n",
      "\n",
      "========================================================================\n",
      "Model TBabs<1>*powerlaw<2> Source No.: 1   Active/On\n",
      "Model Model Component  Parameter  Unit     Value\n",
      " par  comp\n",
      "   1    1   TBabs      nH         10^22    2.75797E-02  +/-  1.78995E-02  \n",
      "   2    2   powerlaw   PhoIndex            2.56407      +/-  0.109203     \n",
      "   3    2   powerlaw   norm                2.44414E-04  +/-  1.81396E-05  \n",
      "________________________________________________________________________\n",
      "\n",
      "\n",
      "Fit statistic  : Chi-Squared                 40.8585     using 46 bins.\n",
      "\n",
      "Test statistic : Chi-Squared                 40.8585     using 46 bins.\n",
      " Null hypothesis probability of 5.6459e-01 with 43 degrees of freedom\n",
      " Model Flux 0.00098934 photons (1.1128e-12 ergs/cm^2/s) range (0.20000 - 12.000 keV)\n"
     ]
    }
   ],
   "source": [
    "AllModels.clear()\n",
    "mo = Model(\"tbabs*powerlaw\")\n",
    "Fit.perform()\n",
    "Plot.device = \"/xs\"\n",
    "Plot(\"data resid\")\n",
    "nH_powerlaw = mo.TBabs.nH.values[0]\n",
    "AllModels.calcFlux(\".2 12.0\")"
   ]
  },
  {
   "cell_type": "markdown",
   "id": "2d78fc91-29e4-4a06-abaa-0f25d0f1a38f",
   "metadata": {},
   "source": [
    "### Black body + Powerlaw model"
   ]
  },
  {
   "cell_type": "code",
   "execution_count": 11,
   "id": "2ba080c4-5a8b-449f-a8e1-53108d6217ff",
   "metadata": {
    "scrolled": true
   },
   "outputs": [
    {
     "name": "stdout",
     "output_type": "stream",
     "text": [
      "\n",
      "========================================================================\n",
      "Model TBabs<1>(bbody<2> + powerlaw<3>) Source No.: 1   Active/On\n",
      "Model Model Component  Parameter  Unit     Value\n",
      " par  comp\n",
      "   1    1   TBabs      nH         10^22    1.00000      +/-  0.0          \n",
      "   2    2   bbody      kT         keV      3.00000      +/-  0.0          \n",
      "   3    2   bbody      norm                1.00000      +/-  0.0          \n",
      "   4    3   powerlaw   PhoIndex            1.00000      +/-  0.0          \n",
      "   5    3   powerlaw   norm                1.00000      +/-  0.0          \n",
      "________________________________________________________________________\n",
      "\n",
      "\n",
      "Fit statistic  : Chi-Squared              9.083900e+11     using 46 bins.\n",
      "\n",
      "Test statistic : Chi-Squared              9.083900e+11     using 46 bins.\n",
      " Null hypothesis probability of 0.000000e+00 with 41 degrees of freedom\n",
      " Current data and model not fit yet.\n",
      "                                   Parameters\n",
      "Chi-Squared  |beta|/N    Lvl          1:nH          2:kT        3:norm    4:PhoIndex        5:norm\n",
      "1233.46      288072        0      0.198421       3.31474   9.24459e-06       1.36066   1.44403e-05\n",
      "1145.56      842029       -1     0.0531787       3.74378   7.18545e-06       2.24670   2.43537e-05\n",
      "450.644      1.09597e+06  -2    0.00714359       6.41184   1.03476e-05       3.38707   0.000209126\n",
      "73.6137      541733       -3    0.00326501       9.23872   3.29894e-05       2.24181   0.000222651\n",
      "41.0187      58031.8      -4     0.0255462       196.265    0.00106238       2.53960   0.000244238\n",
      "41.0152      8101.43       1     0.0255492       188.600    0.00124955       2.53973   0.000244221\n",
      "41.0026      8025.64       1     0.0255522       97.2447    0.00141574       2.53986   0.000244204\n",
      "40.9702      8422.68       0     0.0255792       94.4381    0.00154166       2.54122   0.000244044\n",
      "0281406       2.55034   0.0002432070257754       69.0448    0.0\n",
      "40.6238      5293.56      -1     0.0277414       64.0401    0.00357886       2.57663   0.000243528\n",
      "40.499       181.753      -2     0.0336830       63.4860    0.00500995       2.61912   0.000248540\n",
      "40.49        364.291      -2     0.0352663       65.0318    0.00566722       2.62944   0.000250019\n",
      "40.489       118.359      -2     0.0356858       67.1616    0.00634779       2.63217   0.000250406\n",
      "40.4886      50.9686      -2     0.0357969       69.6292    0.00710067       2.63290   0.000250508\n",
      "40.4883      35.0051      -2     0.0358320       71.5931    0.00774211       2.63314   0.000250539\n",
      "40.488       19.322       -2     0.0358415       73.7878    0.00847029       2.63320   0.000250548\n",
      "40.4877      19.6805      -2     0.0358457       75.9795    0.00924481       2.63323   0.000250551\n",
      "40.4874      18.0415      -2     0.0358479       78.2388     0.0100875       2.63324   0.000250553\n",
      "40.4872      18.2267      -2     0.0358495       80.5996     0.0110208       2.63325   0.000250555\n",
      "40.4869      18.3152      -2     0.0358512       82.9906     0.0120248       2.63327   0.000250556\n",
      "40.4867      17.7451      -2     0.0358534       85.3371     0.0130703       2.63328   0.000250558\n",
      "40.4864      16.405       -2     0.0358537       87.9820     0.0143065       2.63328   0.000250559\n",
      "40.4862      19.1517      -2     0.0358588       89.9244     0.0152967       2.63333   0.000250563\n",
      "40.486       10.8835      -2     0.0358575       92.6004     0.0166707       2.63331   0.000250562\n",
      "40.4858      16.7955      -2     0.0358574       95.4676     0.0182488       2.63331   0.000250562\n",
      "40.4856      19.0778      -2     0.0358633       97.3643     0.0193955       2.63336   0.000250567\n",
      "40.4855      9.01619      -2     0.0358650       99.4454     0.0206565       2.63337   0.000250568\n",
      "40.4854      9.35942      -1     0.0358654       99.6201     0.0207951       2.63338   0.000250568\n",
      "============================================================\n",
      " Variances and Principal Axes\n",
      "                 1        2        3        4        5  \n",
      " 4.5269E-11| -0.0010  -0.0000   0.0001   0.0000   1.0000  \n",
      " 6.0297E-05|  0.9835  -0.0001   0.1060  -0.1467   0.0010  \n",
      " 5.5694E-04|  0.1258   0.0006  -0.9831   0.1328   0.0002  \n",
      " 2.7940E-02|  0.1301  -0.0001   0.1491   0.9802   0.0001  \n",
      " 1.8200E+09| -0.0000   1.0000   0.0006  -0.0000  -0.0000  \n",
      "------------------------------------------------------------\n",
      "\n",
      "============================================================\n",
      "  Covariance Matrix\n",
      "        1           2           3           4           5   \n",
      "   8.680e-04  -7.725e+02  -4.764e-01   6.661e-03   6.703e-07\n",
      "  -7.725e+02   1.820e+09   1.124e+06  -7.295e+03  -4.556e-01\n",
      "  -4.764e-01   1.124e+06   6.936e+02  -4.500e+00  -2.809e-04\n",
      "   6.661e-03  -7.295e+03  -4.500e+00   5.610e-02   4.878e-06\n",
      "   6.703e-07  -4.556e-01  -2.809e-04   4.878e-06   5.860e-10\n",
      "------------------------------------------------------------\n",
      "\n",
      "========================================================================\n",
      "Model TBabs<1>(bbody<2> + powerlaw<3>) Source No.: 1   Active/On\n",
      "Model Model Component  Parameter  Unit     Value\n",
      " par  comp\n",
      "   1    1   TBabs      nH         10^22    3.58654E-02  +/-  2.94626E-02  \n",
      "   2    2   bbody      kT         keV      99.6201      +/-  4.26610E+04  \n",
      "   3    2   bbody      norm                2.07951E-02  +/-  26.3370      \n",
      "   4    3   powerlaw   PhoIndex            2.63338      +/-  0.236850     \n",
      "   5    3   powerlaw   norm                2.50568E-04  +/-  2.42074E-05  \n",
      "________________________________________________________________________\n",
      "\n",
      "\n",
      "Fit statistic  : Chi-Squared                 40.4854     using 46 bins.\n",
      "\n",
      "Test statistic : Chi-Squared                 40.4854     using 46 bins.\n",
      " Null hypothesis probability of 4.9333e-01 with 41 degrees of freedom\n",
      " Model Flux 0.00093247 photons (1.212e-12 ergs/cm^2/s) range (0.20000 - 12.000 keV)\n"
     ]
    }
   ],
   "source": [
    "AllModels.clear()\n",
    "mo = Model(\"tbabs*(bbody+powerlaw)\")\n",
    "Fit.perform()\n",
    "Plot.device = \"/xs\"\n",
    "Plot(\"data resid\")\n",
    "nH_bbodypowerlaw = mo.TBabs.nH.values[0]\n",
    "AllModels.calcFlux(\".2 12.0\")"
   ]
  },
  {
   "cell_type": "markdown",
   "id": "40fc8d3c-4c79-45ff-bb8e-39a42d023c9a",
   "metadata": {},
   "source": [
    "### Bremss + Powerlaw model"
   ]
  },
  {
   "cell_type": "code",
   "execution_count": 12,
   "id": "896b6d0b-6feb-400b-ac96-4e8791e95030",
   "metadata": {
    "scrolled": true
   },
   "outputs": [
    {
     "name": "stdout",
     "output_type": "stream",
     "text": [
      "\n",
      "========================================================================\n",
      "Model TBabs<1>(bremss<2> + powerlaw<3>) Source No.: 1   Active/On\n",
      "Model Model Component  Parameter  Unit     Value\n",
      " par  comp\n",
      "   1    1   TBabs      nH         10^22    1.00000      +/-  0.0          \n",
      "   2    2   bremss     kT         keV      7.00000      +/-  0.0          \n",
      "   3    2   bremss     norm                1.00000      +/-  0.0          \n",
      "   4    3   powerlaw   PhoIndex            1.00000      +/-  0.0          \n",
      "   5    3   powerlaw   norm                1.00000      +/-  0.0          \n",
      "________________________________________________________________________\n",
      "\n",
      "\n",
      "Fit statistic  : Chi-Squared              1.591312e+11     using 46 bins.\n",
      "\n",
      "Test statistic : Chi-Squared              1.591312e+11     using 46 bins.\n",
      " Null hypothesis probability of 0.000000e+00 with 41 degrees of freedom\n",
      " Current data and model not fit yet.\n",
      "                                   Parameters\n",
      "Chi-Squared  |beta|/N    Lvl          1:nH          2:kT        3:norm    4:PhoIndex        5:norm\n",
      "1176.43      80948.8      -1      0.309257      0.724618   7.39978e-06       1.04957   2.68521e-05\n",
      "1106.74      706939       -2      0.128086      0.328796   3.62447e-06       1.44846   3.35747e-05\n",
      "763.482      841507       -3     0.0300551     0.0535614   1.53768e-06       2.12366   6.91487e-05\n",
      "133.776      805998       -4   0.000901922     0.0185494      0.358213       2.86906   0.000206041\n",
      "50.199       60933.6      -5   0.000420268    0.00905762       429681.       2.30167   0.000218212\n",
      "41.3157      1388.31      -2     0.0158877   0.000924493       79358.4       2.50299   0.000234067\n",
      "***Warning: Zero alpha-matrix diagonal element for parameter 2\n",
      "***Warning: Zero alpha-matrix diagonal element for parameter 3\n",
      " Parameter 2 is pegged at 0.000924493 due to zero or negative pivot element, likely\n",
      " caused by the fit being insensitive to the parameter.\n",
      " Parameter 3 is pegged at 79358.4 due to zero or negative pivot element, likely\n",
      " caused by the fit being insensitive to the parameter.\n",
      "40.8598      5189.56      -3     0.0271256   0.000924493       79358.4       2.56160   0.000243817\n",
      "93       79358.4       2.56407   0.000244413 0.0009244\n",
      "40.8585      5.12503      -5     0.0275797   0.000924493       79358.4       2.56407   0.000244414\n",
      "***Warning: Zero alpha-matrix diagonal element for parameter 2\n",
      "***Warning: Zero alpha-matrix diagonal element for parameter 3\n",
      " Parameter 2 is pegged at 0.000924493 due to zero or negative pivot element, likely\n",
      " caused by the fit being insensitive to the parameter.\n",
      " Parameter 3 is pegged at 79358.4 due to zero or negative pivot element, likely\n",
      " caused by the fit being insensitive to the parameter.\n",
      "40.8585      5.4086e-05   -1     0.0275797   0.000924493       79358.4       2.56407   0.000244414\n",
      "========================================\n",
      " Variances and Principal Axes\n",
      "                 1        4        5  \n",
      " 4.2536E-11| -0.0010   0.0000   1.0000  \n",
      " 5.8810E-05|  0.9892  -0.1469   0.0010  \n",
      " 1.2186E-02|  0.1469   0.9892   0.0001  \n",
      "----------------------------------------\n",
      "\n",
      "====================================\n",
      "  Covariance Matrix\n",
      "        1           2           3   \n",
      "   3.204e-04   1.762e-03   3.029e-07\n",
      "   1.762e-03   1.192e-02   1.653e-06\n",
      "   3.029e-07   1.653e-06   3.291e-10\n",
      "------------------------------------\n",
      "\n",
      "========================================================================\n",
      "Model TBabs<1>(bremss<2> + powerlaw<3>) Source No.: 1   Active/On\n",
      "Model Model Component  Parameter  Unit     Value\n",
      " par  comp\n",
      "   1    1   TBabs      nH         10^22    2.75797E-02  +/-  1.78990E-02  \n",
      "   2    2   bremss     kT         keV      9.24493E-04  +/-  -1.00000     \n",
      "   3    2   bremss     norm                7.93584E+04  +/-  -1.00000     \n",
      "   4    3   powerlaw   PhoIndex            2.56407      +/-  0.109200     \n",
      "   5    3   powerlaw   norm                2.44414E-04  +/-  1.81398E-05  \n",
      "________________________________________________________________________\n",
      "\n",
      "\n",
      "Fit statistic  : Chi-Squared                 40.8585     using 46 bins.\n",
      "\n",
      "Test statistic : Chi-Squared                 40.8585     using 46 bins.\n",
      " Null hypothesis probability of 4.7684e-01 with 41 degrees of freedom\n",
      " Model Flux 0.00098934 photons (1.1128e-12 ergs/cm^2/s) range (0.20000 - 12.000 keV)\n"
     ]
    }
   ],
   "source": [
    "AllModels.clear()\n",
    "mo = Model(\"tbabs*(bremss+powerlaw)\")\n",
    "Fit.perform()\n",
    "Plot.device = \"/xs\"\n",
    "Plot(\"data resid\")\n",
    "nH_bremsspowerlaw = mo.TBabs.nH.values[0]\n",
    "AllModels.calcFlux(\".2 12.0\")"
   ]
  },
  {
   "cell_type": "markdown",
   "id": "1973f13c-7580-446c-b7fe-bf273fd37c5d",
   "metadata": {},
   "source": [
    "## Flux\n",
    "### X-ray flux\n",
    "- X-ray flux of the best-fitting model ``Black body + Powerlaw``: **1.212e-12 ergs/cm^2/s**."
   ]
  },
  {
   "cell_type": "code",
   "execution_count": 17,
   "id": "4e93ef39-9046-44fe-a12f-a84de18a36e6",
   "metadata": {},
   "outputs": [
    {
     "name": "stdout",
     "output_type": "stream",
     "text": [
      "\u001b[1mX-ray flux : \u001b[0m\n",
      "Black body + Powerlaw : F_x-ray = 1.212e-12 ergs/cm^2/s\n"
     ]
    }
   ],
   "source": [
    "Flux_bp = 1.212e-12 # ergs/cm^2/s\n",
    "print(color.BOLD+\"X-ray flux : \"+color.END)\n",
    "print(f\"Black body + Powerlaw : F_x-ray = {Flux_bp} ergs/cm^2/s\")"
   ]
  },
  {
   "cell_type": "markdown",
   "id": "fe266bf5-9f56-4af2-9534-b8c77297ac0c",
   "metadata": {},
   "source": [
    "### Optical flux"
   ]
  },
  {
   "cell_type": "code",
   "execution_count": 18,
   "id": "452ae5c0-6b92-4b25-8549-2193be5af359",
   "metadata": {},
   "outputs": [
    {
     "name": "stdout",
     "output_type": "stream",
     "text": [
      "\u001b[1mOptical flux : \u001b[0mF_optical = 1.3212630781247998e-13 ergs/cm^2/s\n"
     ]
    }
   ],
   "source": [
    "def F_optical(mag):\n",
    "    F0 = 1.05*10**(-5) # GAIA zero point magnitude\n",
    "    return F0*10**(-0.4*mag)\n",
    "\n",
    "G = 19.7505\n",
    "\n",
    "F = F_optical(G)\n",
    "\n",
    "print(color.BOLD+\"Optical flux : \"+color.END+f\"F_optical = {F} ergs/cm^2/s\")"
   ]
  },
  {
   "cell_type": "markdown",
   "id": "818c6914-8d46-4c44-ac33-4e0f66384802",
   "metadata": {},
   "source": [
    "### X-ray flux / Optical flux ratio"
   ]
  },
  {
   "cell_type": "code",
   "execution_count": 19,
   "id": "ded243ec-14c3-4ddd-9a10-d156f3ee3ba0",
   "metadata": {},
   "outputs": [
    {
     "name": "stdout",
     "output_type": "stream",
     "text": [
      "\u001b[1mX-ray Flux / Optical Flux ratio : \u001b[0m\n",
      "Black body + Powerlaw : F_x-ray/F_optical = 9.173040706776797\n"
     ]
    }
   ],
   "source": [
    "print(color.BOLD+\"X-ray Flux / Optical Flux ratio : \"+color.END)\n",
    "print(f\"Black body + Powerlaw : F_x-ray/F_optical = {Flux_bp/F}\")"
   ]
  },
  {
   "cell_type": "markdown",
   "id": "c8c6cc3c-5807-4c13-a57f-a4ce5da37435",
   "metadata": {},
   "source": [
    "## Luminosity"
   ]
  },
  {
   "cell_type": "code",
   "execution_count": 20,
   "id": "d586c000-4d0d-466d-b61a-9dae79785426",
   "metadata": {},
   "outputs": [
    {
     "name": "stdout",
     "output_type": "stream",
     "text": [
      "\u001b[1m(GAIA)\u001b[0m\n",
      "Distance : d = 1.5791709314227227e+22 cm\n",
      "\u001b[1mLuminosity :\u001b[0m\n",
      "Black body + Powerlaw : L_x-ray = 3.798138226851379e+33 erg/s\n"
     ]
    }
   ],
   "source": [
    "\"\"\"GAIA\"\"\"\n",
    "\n",
    "P_mas = 0.1954\n",
    "d_kpc = 1/P_mas # Distance en kpc\n",
    "d_cm = d_kpc*3.0857*10**21 # Distance en cm, avec 1 pc = 3.0857*10^18 cm\n",
    "\n",
    "# La source est supposée sphérique pour le calcul de la luminosité : L = 4*pi*F*D^2\n",
    "Luminosity_bp = 4*np.pi*Flux_bp*(d_cm)**2 # erg/s\n",
    "\n",
    "print(color.BOLD+\"(GAIA)\"+color.END)\n",
    "print(f\"Distance : d = {d_cm} cm\")\n",
    "print(color.BOLD+\"Luminosity :\"+color.END)\n",
    "print(f\"Black body + Powerlaw : L_x-ray = {Luminosity_bp} erg/s\")"
   ]
  }
 ],
 "metadata": {
  "kernelspec": {
   "display_name": "Python 3 (ipykernel)",
   "language": "python",
   "name": "python3"
  },
  "language_info": {
   "codemirror_mode": {
    "name": "ipython",
    "version": 3
   },
   "file_extension": ".py",
   "mimetype": "text/x-python",
   "name": "python",
   "nbconvert_exporter": "python",
   "pygments_lexer": "ipython3",
   "version": "3.10.12"
  }
 },
 "nbformat": 4,
 "nbformat_minor": 5
}
