{
 "cells": [
  {
   "cell_type": "markdown",
   "id": "a09472f9-b7b4-4047-9978-0b5adf3b464f",
   "metadata": {},
   "source": [
    "# ObsID : 0827221701, SRCNUM : 1, Instru : EMOS2\n",
    "\n",
    "Third previous observation of the source **0945070132 - 1**."
   ]
  },
  {
   "cell_type": "markdown",
   "id": "1aad8c20-0602-4c5d-8370-d53b00a834bc",
   "metadata": {},
   "source": [
    "## ESASky\n",
    "\n",
    "https://sky.esa.int/esasky/?target=53.383375%20-27.15480555555556&hips=XMM-Newton+EPIC+color&fov=1&projection=SIN&cooframe=J2000&sci=true&lang=fr\n",
    "\n",
    "``GAIA``\n",
    "\n",
    "- Designation : Gaia DR3 5084568549147089792\n",
    "- RA : 03h 33m 31.933s\n",
    "- DEC : -27° 09' 16.53\"\n",
    "- Parallax : 0.1954 mas\n",
    "- G : 19.7505\n",
    "- BP-RP = 0.8773"
   ]
  },
  {
   "cell_type": "code",
   "execution_count": 1,
   "id": "311ae079-ccd8-41c3-aac4-08c99f67b431",
   "metadata": {},
   "outputs": [],
   "source": [
    "from xspec import *\n",
    "from stingray import Lightcurve\n",
    "from astropy.io import fits\n",
    "import matplotlib.pyplot as plt\n",
    "import matplotlib.image as mpimg\n",
    "import glob\n",
    "import numpy as np\n",
    "\n",
    "class color:\n",
    "   PURPLE = '\\033[95m'\n",
    "   CYAN = '\\033[96m'\n",
    "   DARKCYAN = '\\033[36m'\n",
    "   BLUE = '\\033[94m'\n",
    "   GREEN = '\\033[92m'\n",
    "   YELLOW = '\\033[93m'\n",
    "   RED = '\\033[91m'\n",
    "   BOLD = '\\033[1m'\n",
    "   UNDERLINE = '\\033[4m'\n",
    "   END = '\\033[0m'\n",
    "\n",
    "plt.rcParams['figure.figsize'] = [12,7]"
   ]
  },
  {
   "cell_type": "markdown",
   "id": "96cfe5dc-5b28-4c91-b7ce-94bd8abb9da4",
   "metadata": {},
   "source": [
    "## Fit statistic"
   ]
  },
  {
   "cell_type": "code",
   "execution_count": 2,
   "id": "b5222fe6-7abf-47d8-a19a-17038082541b",
   "metadata": {},
   "outputs": [
    {
     "name": "stdout",
     "output_type": "stream",
     "text": [
      "Default fit statistic is set to: Chi-Squared\n",
      "   This will apply to all current and newly loaded spectra.\n",
      "Parameter delta values for fits will now be 0.0001 * parValue\n"
     ]
    }
   ],
   "source": [
    "Fit.statMethod = \"chi\"\n",
    "Fit.nIterations = 100000\n",
    "Fit.delta = 1e-4\n",
    "Fit.criticalDelta = 1e-4"
   ]
  },
  {
   "cell_type": "markdown",
   "id": "13eeb099-59bd-4dee-935a-a2a07cf14d0c",
   "metadata": {},
   "source": [
    "The expected reduce Chi-squared value of a perfect fit is **≈ 1** with: ``reduce Chi-squared = Chi-squared/(n_bins-n_parameters)``"
   ]
  },
  {
   "cell_type": "markdown",
   "id": "39b7d9d2-7930-4892-81ba-8bd2db47e610",
   "metadata": {},
   "source": [
    "## Load files"
   ]
  },
  {
   "cell_type": "code",
   "execution_count": 3,
   "id": "cd0bcd6f-9565-4899-90b7-1e5d87e7050a",
   "metadata": {},
   "outputs": [
    {
     "name": "stdout",
     "output_type": "stream",
     "text": [
      "***Warning: Detected response matrix energy bin value = 0 (or neg).\n",
      "     XSPEC will instead use small finite value (response file will not be altered).\n",
      "Warning: RMF FILTER keyword (Medium) is not consistent with that in spectrum (Thin1)\n",
      "\n",
      "1 spectrum  in use\n",
      " \n",
      "Spectral Data File: P0827221701M2S002SRSPEC0001.FTZ  Spectrum 1\n",
      "Net count rate (cts/s) for Spectrum:1  9.036e-02 +/- 2.498e-03 (94.8 % total)\n",
      " Assigned to Data Group 1 and Plot Group 1\n",
      "  Noticed Channels:  1-48\n",
      "  Telescope: XMM Instrument: EMOS2  Channel Type: PI\n",
      "  Exposure Time: 1.533e+04 sec\n",
      " Using fit statistic: chi\n",
      " Using Background File                P0827221701M2S002BGSPEC0001.FTZ\n",
      "  Background Exposure Time: 1.533e+04 sec\n",
      " Using Response (RMF) File            m2_e13_im_pall_o.rmf for Source 1\n",
      " Using Auxiliary Response (ARF) File  P0827221701M2S002SRCARF0001.FTZ\n",
      "\n"
     ]
    }
   ],
   "source": [
    "AllData.clear()\n",
    "spec = Spectrum(glob.glob(\"P*M2*SRSPEC0001.FTZ\")[0])"
   ]
  },
  {
   "cell_type": "code",
   "execution_count": 4,
   "id": "d2162e29-f021-491d-97ae-2798a012e3cd",
   "metadata": {},
   "outputs": [
    {
     "name": "stdout",
     "output_type": "stream",
     "text": [
      "Number of counts = 6097.212 cts\n"
     ]
    }
   ],
   "source": [
    "print(f\"Number of counts = {1.958e-01*3.114e+04} cts\")"
   ]
  },
  {
   "cell_type": "markdown",
   "id": "e33a3a79-2d25-4f9c-98cb-a06781c8296d",
   "metadata": {},
   "source": [
    "The number of counts exceeds 100 cts, indicating that the chi-squared test should be a good choice for a goodness-of-fit statistic."
   ]
  },
  {
   "cell_type": "markdown",
   "id": "870eec10-27a5-4341-a01c-4a98ac400133",
   "metadata": {},
   "source": [
    "## Plot spectrum"
   ]
  },
  {
   "cell_type": "code",
   "execution_count": 5,
   "id": "37f98bf3-3d31-4c65-891f-3ea006da7786",
   "metadata": {},
   "outputs": [
    {
     "name": "stdout",
     "output_type": "stream",
     "text": [
      "      No channels ignored (no channels in specified range)\n",
      "     1 channels (48) ignored in spectrum #     1\n",
      "\n"
     ]
    }
   ],
   "source": [
    "Plot.xAxis=\"keV\"\n",
    "Plot.device = \"/xs\"\n",
    "Plot.xLog=True\n",
    "Plot.yLog=True\n",
    "#Plot.addCommand(\"Rescale Y 0.00001 0.005\")\n",
    "Plot(\"data\")\n",
    "spec.ignore(\"**-0.2 12.0-**\")"
   ]
  },
  {
   "cell_type": "code",
   "execution_count": 6,
   "id": "27bf0415-368d-4476-8ef7-29af925b48ee",
   "metadata": {},
   "outputs": [
    {
     "data": {
      "text/plain": [
       "(-0.5, 851.5, 657.5, -0.5)"
      ]
     },
     "execution_count": 6,
     "metadata": {},
     "output_type": "execute_result"
    },
    {
     "data": {
      "image/png": "[encoded data removed]",
      "text/plain": [
       "<Figure size 1200x700 with 1 Axes>"
      ]
     },
     "metadata": {},
     "output_type": "display_data"
    }
   ],
   "source": [
    "img = plt.imread(glob.glob('*_Spectrum.png')[0])\n",
    "plt.imshow(img)\n",
    "plt.axis('off')"
   ]
  },
  {
   "cell_type": "markdown",
   "id": "7eb1edda-21f0-4876-bdbc-8cb3e4a347dc",
   "metadata": {},
   "source": [
    "### Black body model"
   ]
  },
  {
   "cell_type": "code",
   "execution_count": 7,
   "id": "25e94b4e-0bb6-439e-af07-e82ebf0faa48",
   "metadata": {
    "scrolled": true
   },
   "outputs": [
    {
     "name": "stdout",
     "output_type": "stream",
     "text": [
      "\n",
      "========================================================================\n",
      "Model TBabs<1>*bbody<2> Source No.: 1   Active/On\n",
      "Model Model Component  Parameter  Unit     Value\n",
      " par  comp\n",
      "   1    1   TBabs      nH         10^22    1.00000      +/-  0.0          \n",
      "   2    2   bbody      kT         keV      3.00000      +/-  0.0          \n",
      "   3    2   bbody      norm                1.00000      +/-  0.0          \n",
      "________________________________________________________________________\n",
      "\n",
      "tbvabs Version 2.3\n",
      "Cosmic absorption with grains and H2, modified from\n",
      "Wilms, Allen, & McCray, 2000, ApJ 542, 914-924\n",
      "Questions: Joern Wilms\n",
      "joern.wilms@sternwarte.uni-erlangen.de\n",
      "joern.wilms@fau.de\n",
      "\n",
      "http://pulsar.sternwarte.uni-erlangen.de/wilms/research/tbabs/\n",
      "\n",
      "PLEASE NOTICE:\n",
      "To get the model described by the above paper\n",
      "you will also have to set the abundances:\n",
      "   abund wilm\n",
      "\n",
      "Note that this routine ignores the current cross section setting\n",
      "as it always HAS to use the Verner cross sections as a baseline.\n",
      "\n",
      "Fit statistic  : Chi-Squared              5.013170e+11     using 47 bins.\n",
      "\n",
      "Test statistic : Chi-Squared              5.013170e+11     using 47 bins.\n",
      " Null hypothesis probability of 0.000000e+00 with 44 degrees of freedom\n",
      " Current data and model not fit yet.\n",
      "                                   Parameters\n",
      "Chi-Squared  |beta|/N    Lvl          1:nH          2:kT        3:norm\n",
      "1231.72      4.42318       0      0.404880       3.21957   1.09959e-05\n",
      "1214.93      751937        0     0.0811731       3.15530   1.12978e-05\n",
      "1205.91      836476        0    0.00601812       3.09327   1.15814e-05\n",
      "1201.52      816991        0    0.00176362       3.03825   1.18199e-05\n",
      "1198.17      746415        0   0.000777403       2.99171   1.20033e-05\n",
      "1195.5       678184        0   0.000313863       2.95172   1.21415e-05\n",
      "1193.33      615438        0   9.37649e-05       2.91684   1.22429e-05\n",
      "1191.54      558622        0   4.10889e-05       2.88601   1.23141e-05\n",
      "1190.03      507664        0   1.57112e-05       2.85838   1.23605e-05\n",
      "1188.75      462323        0   3.42114e-06       2.83334   1.23862e-05\n",
      "1187.63      422190        0   4.32442e-07       2.81042   1.23948e-05\n",
      "1186.65      386792        0   6.77656e-08       2.78919   1.23891e-05\n",
      "1185.76      355631        0   2.31392e-08       2.76937   1.23713e-05\n",
      "1184.96      328270        0   1.24206e-09       2.75071   1.23436e-05\n",
      "1184.21      304260        0   5.69236e-10       2.73301   1.23074e-05\n",
      "1183.52      283219        0   2.37833e-10       2.71609   1.22641e-05\n",
      "1182.86      264769        0   7.43918e-11       2.69981   1.22148e-05\n",
      "1182.23      248590        0   3.40457e-11       2.68408   1.21603e-05\n",
      "1181.62      234453        0   1.41491e-11       2.66879   1.21016e-05\n",
      "1181.02      222039        0   4.21092e-12       2.65373   1.20406e-05\n",
      "1180.44      210483        0   1.77581e-12       2.63900   1.19759e-05\n",
      "1179.84      200468        0   5.27226e-13       2.62420   1.19116e-05\n",
      "1179.25      189960        0   2.42556e-13       2.60955   1.18449e-05\n",
      "1178.66      180358        0   8.71166e-14       2.59493   1.17740e-05\n",
      "1178.05      172043        0   3.49715e-15       2.57993   1.17016e-05\n",
      "1171.22      163324        0   1.58147e-15       2.42553   1.10905e-05\n",
      "1146.27      9944.16      -1   4.49214e-16       1.24813   2.32496e-06\n",
      "1028.33      1.02624e+07  -2   5.24252e-17      0.458386   1.24613e-06\n",
      "***Warning: Zero alpha-matrix diagonal element for parameter 1\n",
      " Parameter 1 is pegged at 5.24252e-17 due to zero or negative pivot element, likely\n",
      " caused by the fit being insensitive to the parameter.\n",
      "350.929      5.4245e+07   -3   5.24252e-17      0.191025   6.22360e-06\n",
      "268.675      1.44848e+07  -4   5.24252e-17      0.215380   7.59375e-06\n",
      "262.022      731638       -5   5.24252e-17      0.226329   7.50273e-06\n",
      "259.611      341699       -6   5.24252e-17      0.233268   7.44765e-06\n",
      "258.739      125322       -7   5.24252e-17      0.237587   7.40987e-06\n",
      "258.423      46842.3      -8   5.24252e-17      0.240240   7.38570e-06\n",
      "258.308      17123.6      -9   5.24252e-17      0.241859   7.37054e-06\n",
      "258.267      6494.75     -10   5.24252e-17      0.242838   7.36129e-06\n",
      "258.252      2141.92     -11   5.24252e-17      0.243431   7.35561e-06\n",
      "258.246      783.13      -12   5.24252e-17      0.243789   7.35216e-06\n",
      "258.244      311.583     -13   5.24252e-17      0.244004   7.35008e-06\n",
      "258.244      128.205     -14   5.24252e-17      0.244139   7.34878e-06\n",
      "258.243      71.3472     -15   5.24252e-17      0.244215   7.34805e-06\n",
      "258.243      8.58993     -16   5.24252e-17      0.244259   7.34762e-06\n",
      "***Warning: Zero alpha-matrix diagonal element for parameter 1\n",
      " Parameter 1 is pegged at 5.24252e-17 due to zero or negative pivot element, likely\n",
      " caused by the fit being insensitive to the parameter.\n",
      "258.243      15.7094      -3   5.24252e-17      0.244284   7.34738e-06\n",
      "==============================\n",
      " Variances and Principal Axes\n",
      "                 2        3  \n",
      " 5.0366E-14|  0.0000   1.0000  \n",
      " 3.7865E-05|  1.0000  -0.0000  \n",
      "------------------------------\n",
      "\n",
      "========================\n",
      "  Covariance Matrix\n",
      "        1           2   \n",
      "   3.787e-05  -3.675e-10\n",
      "  -3.675e-10   5.393e-14\n",
      "------------------------\n",
      "\n",
      "=================================================\n",
      "Model TBabs<1>*bbody<2> Source No.: 1   Active/On\n",
      "Model Model Component  Parameter  Unit     Value\n",
      " par  comp\n",
      "   1    1   TBabs      nH         10^22    5.24252E-17  +/-  -1.00000     \n",
      "   2    2   bbody      kT         keV      0.244284     +/-  6.15346E-03  \n",
      "   3    2   bbody      norm                7.34738E-06  +/-  2.32232E-07  \n",
      "________________________________________________________________________\n",
      "\n",
      "\n",
      "Fit statistic  : Chi-Squared                258.2432     using 47 bins.\n",
      "\n",
      "Test statistic : Chi-Squared                258.2432     using 47 bins.\n",
      " Null hypothesis probability of 4.1894e-32 with 44 degrees of freedom\n",
      " Model Flux  0.000521 photons (6.0299e-13 ergs/cm^2/s) range (0.20000 - 12.000 keV)\n"
     ]
    }
   ],
   "source": [
    "AllModels.clear()\n",
    "mo = Model(\"tbabs*bbody\")\n",
    "Fit.perform()\n",
    "Plot.device = \"/xs\"\n",
    "Plot(\"data resid\")\n",
    "plt.show()\n",
    "nH_bbody = mo.TBabs.nH.values[0]\n",
    "AllModels.calcFlux(\".2 12.0\")"
   ]
  },
  {
   "cell_type": "markdown",
   "id": "b77a2e66-8412-4d85-a277-10782493ea2e",
   "metadata": {},
   "source": [
    "### Bremsstrahlung model"
   ]
  },
  {
   "cell_type": "code",
   "execution_count": 8,
   "id": "3ed606fb-6f75-4369-b9c8-b5c95a0a9577",
   "metadata": {
    "scrolled": true
   },
   "outputs": [
    {
     "name": "stdout",
     "output_type": "stream",
     "text": [
      "\n",
      "========================================================================\n",
      "Model TBabs<1>*bremss<2> Source No.: 1   Active/On\n",
      "Model Model Component  Parameter  Unit     Value\n",
      " par  comp\n",
      "   1    1   TBabs      nH         10^22    1.00000      +/-  0.0          \n",
      "   2    2   bremss     kT         keV      7.00000      +/-  0.0          \n",
      "   3    2   bremss     norm                1.00000      +/-  0.0          \n",
      "________________________________________________________________________\n",
      "\n",
      "\n",
      "Fit statistic  : Chi-Squared              1.073746e+10     using 47 bins.\n",
      "\n",
      "Test statistic : Chi-Squared              1.073746e+10     using 47 bins.\n",
      " Null hypothesis probability of 0.000000e+00 with 44 degrees of freedom\n",
      " Current data and model not fit yet.\n",
      "                                   Parameters\n",
      "Chi-Squared  |beta|/N    Lvl          1:nH          2:kT        3:norm\n",
      "923.365      31.4138      -1      0.258873       4.99226   7.93760e-05\n",
      "792.917      658575       -1     0.0925691       6.29353   8.20247e-05\n",
      "576.442      807393       -2    0.00102300       5.02046   0.000101847\n",
      "539.699      840030       -1   0.000195331       1.31817   0.000159767\n",
      "279.059      623333       -2   7.89050e-05       2.55365   0.000186927\n",
      "252.52       458647       -3   2.85153e-05       2.59683   0.000196719\n",
      "246.086      402438       -2   5.15309e-06       2.54871   0.000199814\n",
      "244.023      393370       -2   2.29228e-06       2.53582   0.000200807\n",
      "243.465      390182       -2   8.70816e-07       2.53208   0.000201079\n",
      "243.301      389346       -2   1.61323e-07       2.53096   0.000201159\n",
      "243.243      389104       -2   7.26850e-08       2.53051   0.000201188\n",
      "243.225      389020       -2   2.83740e-08       2.53040   0.000201197\n",
      "243.209      388994       -2   6.22028e-09       2.53025   0.000201205\n",
      "243.187      388975       -2   6.82363e-10       2.53003   0.000201217\n",
      "243.159      388948       -2   3.36288e-10       2.52974   0.000201232\n",
      "210.75       388915       -1   4.55327e-11       2.32239   0.000218484\n",
      "193.876      337819       -1   1.36229e-11       2.22165   0.000228688\n",
      "185.031      309204       -1   6.21078e-12       2.16196   0.000234586\n",
      "179.96       294595       -1   2.65748e-12       2.12513   0.000238179\n",
      "176.065      286399       -1   9.32321e-13       2.09429   0.000241084\n",
      "174.251      280348       -1   7.67383e-14       2.08661   0.000242327\n",
      "164.276      276665       -1   2.40703e-14       2.06452   0.000249049\n",
      "148.859      252950       -2   5.25529e-15       1.86333   0.000264837\n",
      "111.773      237486       -3    0.00620562       1.17156   0.000380076\n",
      "107.399      145395       -1    0.00281884       1.36098   0.000342409\n",
      "91.1884      151636        0    0.00116951       1.40630   0.000354539\n",
      "86.6252      98486.9       0   0.000465502       1.42050   0.000359746\n",
      "84.9311      76653.6       0   0.000137669       1.42323   0.000362320\n",
      "84.2628      67568.8       0   5.85168e-05       1.42183   0.000363834\n",
      "83.8766      63781.1       0   1.96083e-05       1.41905   0.000364916\n",
      "83.6122      61908.1       0   3.74110e-07       1.41593   0.000365790\n",
      "83.4199      60820.3       0   7.61764e-08       1.41281   0.000366550\n",
      "987   0.0003672356.2       0   2.21460e-09       1.40\n",
      "83.1025      59529.5       0   1.06621e-09       1.40661   0.000367908\n",
      "82.9599      59138.7       0   4.95521e-10       1.40418   0.000368500\n",
      "82.8349      58605.2       0   2.11728e-10       1.40188   0.000369036\n",
      "82.7227      58165.8       0   7.05368e-11       1.39975   0.000369527\n",
      "82.6206      57786.4       0   2.63456e-13       1.39775   0.000369983\n",
      "82.474       57445.4       0   1.28867e-13       1.39578   0.000370569\n",
      "82.4426      56737         0   1.12291e-15       1.39279   0.000370905\n",
      "77.1332      57177        -1   7.90768e-06       1.32233   0.000401051\n",
      "77.1065      12743.2       0   3.52205e-06       1.32133   0.000401277\n",
      "77.0824      12689.3       0   1.33473e-06       1.32035   0.000401501\n",
      "77.0598      12635.7       0   2.43695e-07       1.31939   0.000401724\n",
      "77.0386      12583.5       0   1.07637e-07       1.31844   0.000401945\n",
      "77.0179      12528.9       0   3.97669e-08       1.31751   0.000402165\n",
      "76.9974      12469.7       0   5.91050e-09       1.31659   0.000402383\n",
      "76.9773      12409.2       0   1.68806e-09       1.31566   0.000402600\n",
      "76.9576      12359.8       0   6.34883e-10       1.31476   0.000402815\n",
      "76.9383      12296.3       0   1.09497e-10       1.31388   0.000403029\n",
      "76.9193      12231.4       0   4.39737e-11       1.31301   0.000403241\n",
      "76.9007      12164.6       0   1.12764e-11       1.31215   0.000403451\n",
      "76.8825      12097         0   3.13584e-12       1.31130   0.000403659\n",
      "76.8645      12027         0   1.11198e-12       1.31046   0.000403866\n",
      "76.8469      11958.8       0   9.44956e-14       1.30963   0.000404069\n",
      "76.8295      11895         0   3.84058e-14       1.30880   0.000404272\n",
      "76.8112      11831.9       0   6.62931e-15       1.30800   0.000404493\n",
      "76.7743      11711.9       0   2.48889e-15       1.29985   0.000404909\n",
      "76.6614      15041.6       0   1.13889e-15       1.29671   0.000406305\n",
      "76.5793      13276         0   5.20130e-16       1.29449   0.000407405\n",
      "76.559       11828.4       0   1.41867e-16       1.29424   0.000407696\n",
      "76.5378      11632.9       0   2.48680e-17       1.29397   0.000408016\n",
      "***Warning: Zero alpha-matrix diagonal element for parameter 1\n",
      " Parameter 1 is pegged at 2.4868e-17 due to zero or negative pivot element, likely\n",
      " caused by the fit being insensitive to the parameter.\n",
      "76.3757      15814.8       0   2.48680e-17       1.28869   0.000410740\n",
      "75.9785      10105        -1   2.48680e-17       1.25995   0.000419062\n",
      "75.8025      3950.09      -2   2.48680e-17       1.23400   0.000426266\n",
      "75.7777      776.402      -3   2.48680e-17       1.22414   0.000428936\n",
      "75.7746      106.126      -4   2.48680e-17       1.22069   0.000429840\n",
      "75.7739      10.4214      -5   2.48680e-17       1.21946   0.000430155\n",
      "75.7739      2.88708      -6   2.48680e-17       1.21894   0.000430290\n",
      "***Warning: Zero alpha-matrix diagonal element for parameter 1\n",
      " Parameter 1 is pegged at 2.4868e-17 due to zero or negative pivot element, likely\n",
      " caused by the fit being insensitive to the parameter.\n",
      "75.7739      0.0709996    -3   2.48680e-17       1.21867   0.000430360\n",
      "==============================\n",
      " Variances and Principal Axes\n",
      "                 2        3  \n",
      " 1.4760E-10|  0.0003   1.0000  \n",
      " 5.3661E-03|  1.0000  -0.0003  \n",
      "------------------------------\n",
      "\n",
      "========================\n",
      "  Covariance Matrix\n",
      "        1           2   \n",
      "   5.366e-03  -1.370e-06\n",
      "  -1.370e-06   4.974e-10\n",
      "------------------------\n",
      "\n",
      "========================================================================\n",
      "Model TBabs<1>*bremss<2> Source No.: 1   Active/On\n",
      "Model Model Component  Parameter  Unit     Value\n",
      " par  comp\n",
      "   1    1   TBabs      nH         10^22    2.48680E-17  +/-  -1.00000     \n",
      "   2    2   bremss     kT         keV      1.21867      +/-  7.32535E-02  \n",
      "   3    2   bremss     norm                4.30360E-04  +/-  2.23021E-05  \n",
      "________________________________________________________________________\n",
      "\n",
      "\n",
      "Fit statistic  : Chi-Squared                 75.7739     using 47 bins.\n",
      "\n",
      "Test statistic : Chi-Squared                 75.7739     using 47 bins.\n",
      " Null hypothesis probability of 2.0481e-03 with 44 degrees of freedom\n",
      " Model Flux 0.0009362 photons (9.3292e-13 ergs/cm^2/s) range (0.20000 - 12.000 keV)\n"
     ]
    }
   ],
   "source": [
    "AllModels.clear()\n",
    "mo = Model(\"tbabs*bremss\")\n",
    "Fit.perform()\n",
    "Plot.device = \"/xs\"\n",
    "Plot(\"data resid\")\n",
    "nH_bremss = mo.TBabs.nH.values[0]\n",
    "AllModels.calcFlux(\".2 12.0\")"
   ]
  },
  {
   "cell_type": "markdown",
   "id": "4d8ea665-d6a1-4113-beaf-fad108850b18",
   "metadata": {},
   "source": [
    "### Apec model"
   ]
  },
  {
   "cell_type": "code",
   "execution_count": 9,
   "id": "4bd12dd8-e0eb-46e8-a057-f7eb723b3a94",
   "metadata": {
    "scrolled": true
   },
   "outputs": [
    {
     "name": "stdout",
     "output_type": "stream",
     "text": [
      "\n",
      "========================================================================\n",
      "Model TBabs<1>*apec<2> Source No.: 1   Active/On\n",
      "Model Model Component  Parameter  Unit     Value\n",
      " par  comp\n",
      "   1    1   TBabs      nH         10^22    1.00000      +/-  0.0          \n",
      "   2    2   apec       kT         keV      1.00000      +/-  0.0          \n",
      "   3    2   apec       Abundanc            1.00000      frozen\n",
      "   4    2   apec       Redshift            0.0          frozen\n",
      "   5    2   apec       norm                1.00000      +/-  0.0          \n",
      "________________________________________________________________________\n",
      "\n",
      "Reading APEC data from 3.0.9\n",
      "\n",
      "\n",
      "Fit statistic  : Chi-Squared              7.599026e+08     using 47 bins.\n",
      "\n",
      "Test statistic : Chi-Squared              7.599026e+08     using 47 bins.\n",
      " Null hypothesis probability of 0.000000e+00 with 44 degrees of freedom\n",
      " Current data and model not fit yet.\n",
      "                                   Parameters\n",
      "Chi-Squared  |beta|/N    Lvl          1:nH          2:kT        5:norm\n",
      "581.182      47.4418      -3      0.908981      0.882742   0.000913924\n",
      "561.085      9239.82      -4      0.869350      0.789359   0.000966152\n",
      "551.707      6905.96      -5      0.834537      0.730736    0.00100416\n",
      "548.991      2312.19      -6      0.812311      0.707289    0.00100437\n",
      "547.85       827.889      -7      0.807859      0.680103    0.00103956\n",
      "547.459      492.002      -8      0.801696      0.665475    0.00105378\n",
      "547.408      84.099       -9      0.794662      0.666236    0.00103826\n",
      "547.401      21.525      -10      0.794159      0.664114    0.00104088\n",
      "547.4        2.24274     -11      0.793153      0.664293    0.00103851\n",
      "547.4        0.556794    -12      0.793109      0.663982    0.00103895\n",
      "547.4        0.0682921   -13      0.792965      0.664016    0.00103859\n",
      "========================================\n",
      " Variances and Principal Axes\n",
      "                 1        2        5  \n",
      " 1.3790E-09| -0.0021   0.0017   1.0000  \n",
      " 6.8784E-04| -0.6146  -0.7888   0.0001  \n",
      " 1.5069E-03|  0.7888  -0.6146   0.0027  \n",
      "----------------------------------------\n",
      "\n",
      "====================================\n",
      "  Covariance Matrix\n",
      "        1           2           3   \n",
      "   1.197e-03  -3.971e-04   3.142e-06\n",
      "  -3.971e-04   9.972e-04  -2.500e-06\n",
      "   3.142e-06  -2.500e-06   1.208e-08\n",
      "------------------------------------\n",
      "\n",
      "========================================================================\n",
      "Model TBabs<1>*apec<2> Source No.: 1   Active/On\n",
      "Model Model Component  Parameter  Unit     Value\n",
      " par  comp\n",
      "   1    1   TBabs      nH         10^22    0.792965     +/-  3.46048E-02  \n",
      "   2    2   apec       kT         keV      0.664016     +/-  3.15790E-02  \n",
      "   3    2   apec       Abundanc            1.00000      frozen\n",
      "   4    2   apec       Redshift            0.0          frozen\n",
      "   5    2   apec       norm                1.03859E-03  +/-  1.09908E-04  \n",
      "________________________________________________________________________\n",
      "\n",
      "\n",
      "Fit statistic  : Chi-Squared                547.3996     using 47 bins.\n",
      "\n",
      "Test statistic : Chi-Squared                547.3996     using 47 bins.\n",
      " Null hypothesis probability of 4.3918e-88 with 44 degrees of freedom\n",
      " Model Flux 0.00020289 photons (4.0186e-13 ergs/cm^2/s) range (0.20000 - 12.000 keV)\n"
     ]
    }
   ],
   "source": [
    "AllModels.clear()\n",
    "mo = Model(\"tbabs*apec\")\n",
    "Fit.perform()\n",
    "Plot.device = \"/xs\"\n",
    "Plot(\"data resid\")\n",
    "nH_apec = mo.TBabs.nH.values[0]\n",
    "AllModels.calcFlux(\".2 12.0\")"
   ]
  },
  {
   "cell_type": "markdown",
   "id": "746ccf61-8e54-4726-b463-b6a3d137905c",
   "metadata": {},
   "source": [
    "### Powerlaw model"
   ]
  },
  {
   "cell_type": "code",
   "execution_count": 10,
   "id": "ecf8f29f-a8fc-4efc-9ce0-7059d934b811",
   "metadata": {
    "scrolled": true
   },
   "outputs": [
    {
     "name": "stdout",
     "output_type": "stream",
     "text": [
      "\n",
      "========================================================================\n",
      "Model TBabs<1>*powerlaw<2> Source No.: 1   Active/On\n",
      "Model Model Component  Parameter  Unit     Value\n",
      " par  comp\n",
      "   1    1   TBabs      nH         10^22    1.00000      +/-  0.0          \n",
      "   2    2   powerlaw   PhoIndex            1.00000      +/-  0.0          \n",
      "   3    2   powerlaw   norm                1.00000      +/-  0.0          \n",
      "________________________________________________________________________\n",
      "\n",
      "\n",
      "Fit statistic  : Chi-Squared              8.922899e+10     using 47 bins.\n",
      "\n",
      "Test statistic : Chi-Squared              8.922899e+10     using 47 bins.\n",
      " Null hypothesis probability of 0.000000e+00 with 44 degrees of freedom\n",
      " Current data and model not fit yet.\n",
      "                                   Parameters\n",
      "Chi-Squared  |beta|/N    Lvl          1:nH    2:PhoIndex        3:norm\n",
      "1069.65      30.0422      -1      0.182534       1.22880   2.56532e-05\n",
      "873.469      1.3925e+06   -1     0.0164774       1.43550   3.96332e-05\n",
      "253.311      1.54677e+06  -2    0.00147228       2.79263   0.000130027\n",
      "101.422      752285       -3   0.000313444       2.04753   0.000216383\n",
      "32.1687      132654       -4   8.81668e-05       2.33476   0.000212843\n",
      "27.4876      54069.7      -5    0.00422356       2.44665   0.000223509\n",
      "27.4844      1367.91      -6    0.00508502       2.45057   0.000224107\n",
      "27.4844      3.90631      -7    0.00508356       2.45055   0.000224106\n",
      "========================================\n",
      " Variances and Principal Axes\n",
      "                 1        2        3  \n",
      " 3.8555E-11| -0.0009  -0.0000   1.0000  \n",
      " 6.3281E-05|  0.9889  -0.1488   0.0009  \n",
      " 1.1684E-02|  0.1488   0.9889   0.0001  \n",
      "----------------------------------------\n",
      "\n",
      "====================================\n",
      "  Covariance Matrix\n",
      "        1           2           3   \n",
      "   3.206e-04   1.710e-03   2.813e-07\n",
      "   1.710e-03   1.143e-02   1.500e-06\n",
      "   2.813e-07   1.500e-06   2.853e-10\n",
      "------------------------------------\n",
      "\n",
      "========================================================================\n",
      "Model TBabs<1>*powerlaw<2> Source No.: 1   Active/On\n",
      "Model Model Component  Parameter  Unit     Value\n",
      " par  comp\n",
      "   1    1   TBabs      nH         10^22    5.08356E-03  +/-  1.79057E-02  \n",
      "   2    2   powerlaw   PhoIndex            2.45055      +/-  0.106898     \n",
      "   3    2   powerlaw   norm                2.24106E-04  +/-  1.68912E-05  \n",
      "________________________________________________________________________\n",
      "\n",
      "\n",
      "Fit statistic  : Chi-Squared                 27.4844     using 47 bins.\n",
      "\n",
      "Test statistic : Chi-Squared                 27.4844     using 47 bins.\n",
      " Null hypothesis probability of 9.7576e-01 with 44 degrees of freedom\n",
      " Model Flux 0.0013737 photons (1.29e-12 ergs/cm^2/s) range (0.20000 - 12.000 keV)\n"
     ]
    }
   ],
   "source": [
    "AllModels.clear()\n",
    "mo = Model(\"tbabs*powerlaw\")\n",
    "Fit.perform()\n",
    "Plot.device = \"/xs\"\n",
    "Plot(\"data resid\")\n",
    "nH_powerlaw = mo.TBabs.nH.values[0]\n",
    "AllModels.calcFlux(\".2 12.0\")"
   ]
  },
  {
   "cell_type": "markdown",
   "id": "2d78fc91-29e4-4a06-abaa-0f25d0f1a38f",
   "metadata": {},
   "source": [
    "### Black body + Powerlaw model"
   ]
  },
  {
   "cell_type": "code",
   "execution_count": 11,
   "id": "2ba080c4-5a8b-449f-a8e1-53108d6217ff",
   "metadata": {
    "scrolled": true
   },
   "outputs": [
    {
     "name": "stdout",
     "output_type": "stream",
     "text": [
      "\n",
      "========================================================================\n",
      "Model TBabs<1>(bbody<2> + powerlaw<3>) Source No.: 1   Active/On\n",
      "Model Model Component  Parameter  Unit     Value\n",
      " par  comp\n",
      "   1    1   TBabs      nH         10^22    1.00000      +/-  0.0          \n",
      "   2    2   bbody      kT         keV      3.00000      +/-  0.0          \n",
      "   3    2   bbody      norm                1.00000      +/-  0.0          \n",
      "   4    3   powerlaw   PhoIndex            1.00000      +/-  0.0          \n",
      "   5    3   powerlaw   norm                1.00000      +/-  0.0          \n",
      "________________________________________________________________________\n",
      "\n",
      "\n",
      "Fit statistic  : Chi-Squared              9.907004e+11     using 47 bins.\n",
      "\n",
      "Test statistic : Chi-Squared              9.907004e+11     using 47 bins.\n",
      " Null hypothesis probability of 0.000000e+00 with 42 degrees of freedom\n",
      " Current data and model not fit yet.\n",
      "                                   Parameters\n",
      "Chi-Squared  |beta|/N    Lvl          1:nH          2:kT        3:norm    4:PhoIndex        5:norm\n",
      "1113.63      308343        0      0.119631       3.30297   8.56732e-06       1.35737   1.38799e-05\n",
      "845.004      926040       -1     0.0123563       3.93785   3.51961e-06       1.95000   4.41311e-05\n",
      "108.999      1.01314e+06  -2    0.00222131       6.75312   2.77140e-06       2.89598   0.000185830\n",
      "45.5332      140536       -3   0.000467695       1.79482   6.59173e-07       2.27237   0.000217060\n",
      "27.9672      1.29005e+06  -4   0.000662351       2.51086   1.95816e-07       2.41319   0.000222295\n",
      "27.6412      135372       -5    0.00250825       12.0173   1.05948e-06       2.42342   0.000223099\n",
      "27.5408      7075.32      -6    0.00334338       199.063   0.000604660       2.43287   0.000223318\n",
      "27.501       3948.17      -3    0.00556586       199.259     0.0306605       2.45465   0.000224433\n",
      "27.4881      1109.14      -3    0.00562755       199.353     0.0214147       2.45510   0.000224483\n",
      "27.4836      599.491      -4    0.00562971       198.100    0.00526972       2.45512   0.000224484\n",
      "27.4828      240.524      -2    0.00562662       179.743    0.00729009       2.45509   0.000224482\n",
      "27.4828      2.16386       0    0.00562662       179.915    0.00728910       2.45509   0.000224482\n",
      "============================================================\n",
      " Variances and Principal Axes\n",
      "                 1        2        3        4        5  \n",
      " 3.8718E-11| -0.0009  -0.0000   0.0000   0.0000   1.0000  \n",
      " 6.3410E-05|  0.9887  -0.0000   0.0190  -0.1488   0.0009  \n",
      " 7.7243E-03|  0.1268   0.0001  -0.6358   0.7614   0.0001  \n",
      " 5.0728E-02|  0.0801  -0.0001   0.7716   0.6310   0.0001  \n",
      " 3.8952E+12| -0.0000   1.0000   0.0001  -0.0000  -0.0000  \n",
      "------------------------------------------------------------\n",
      "\n",
      "============================================================\n",
      "  Covariance Matrix\n",
      "        1           2           3           4           5   \n",
      "   7.685e-04  -3.164e+04  -3.828e+00   5.771e-03   5.536e-07\n",
      "  -3.164e+04   3.895e+12   4.716e+08  -3.042e+05  -1.713e+01\n",
      "  -3.828e+00   4.716e+08   5.710e+04  -3.682e+01  -2.073e-03\n",
      "   5.771e-03  -3.042e+05  -3.682e+01   4.844e-02   3.946e-06\n",
      "   5.536e-07  -1.713e+01  -2.073e-03   3.946e-06   4.539e-10\n",
      "------------------------------------------------------------\n",
      "\n",
      "========================================================================\n",
      "Model TBabs<1>(bbody<2> + powerlaw<3>) Source No.: 1   Active/On\n",
      "Model Model Component  Parameter  Unit     Value\n",
      " par  comp\n",
      "   1    1   TBabs      nH         10^22    5.62662E-03  +/-  2.77217E-02  \n",
      "   2    2   bbody      kT         keV      179.915      +/-  1.97361E+06  \n",
      "   3    2   bbody      norm                7.28910E-03  +/-  238.956      \n",
      "   4    3   powerlaw   PhoIndex            2.45509      +/-  0.220097     \n",
      "   5    3   powerlaw   norm                2.24482E-04  +/-  2.13055E-05  \n",
      "________________________________________________________________________\n",
      "\n",
      "\n",
      "Fit statistic  : Chi-Squared                 27.4828     using 47 bins.\n",
      "\n",
      "Test statistic : Chi-Squared                 27.4828     using 47 bins.\n",
      " Null hypothesis probability of 9.5908e-01 with 42 degrees of freedom\n",
      " Model Flux 0.0013619 photons (1.2926e-12 ergs/cm^2/s) range (0.20000 - 12.000 keV)\n"
     ]
    }
   ],
   "source": [
    "AllModels.clear()\n",
    "mo = Model(\"tbabs*(bbody+powerlaw)\")\n",
    "Fit.perform()\n",
    "Plot.device = \"/xs\"\n",
    "Plot(\"data resid\")\n",
    "nH_bbodypowerlaw = mo.TBabs.nH.values[0]\n",
    "AllModels.calcFlux(\".2 12.0\")"
   ]
  },
  {
   "cell_type": "markdown",
   "id": "40fc8d3c-4c79-45ff-bb8e-39a42d023c9a",
   "metadata": {},
   "source": [
    "### Bremss + Powerlaw model"
   ]
  },
  {
   "cell_type": "code",
   "execution_count": 12,
   "id": "896b6d0b-6feb-400b-ac96-4e8791e95030",
   "metadata": {
    "scrolled": true
   },
   "outputs": [
    {
     "name": "stdout",
     "output_type": "stream",
     "text": [
      "\n",
      "========================================================================\n",
      "Model TBabs<1>(bremss<2> + powerlaw<3>) Source No.: 1   Active/On\n",
      "Model Model Component  Parameter  Unit     Value\n",
      " par  comp\n",
      "   1    1   TBabs      nH         10^22    1.00000      +/-  0.0          \n",
      "   2    2   bremss     kT         keV      7.00000      +/-  0.0          \n",
      "   3    2   bremss     norm                1.00000      +/-  0.0          \n",
      "   4    3   powerlaw   PhoIndex            1.00000      +/-  0.0          \n",
      "   5    3   powerlaw   norm                1.00000      +/-  0.0          \n",
      "________________________________________________________________________\n",
      "\n",
      "\n",
      "Fit statistic  : Chi-Squared              1.593416e+11     using 47 bins.\n",
      "\n",
      "Test statistic : Chi-Squared              1.593416e+11     using 47 bins.\n",
      " Null hypothesis probability of 0.000000e+00 with 42 degrees of freedom\n",
      " Current data and model not fit yet.\n",
      "                                   Parameters\n",
      "Chi-Squared  |beta|/N    Lvl          1:nH          2:kT        3:norm    4:PhoIndex        5:norm\n",
      "1060.02      85646.5      -1      0.326358      0.745405   1.16439e-05       1.07275   2.80110e-05\n",
      "965.511      657154       -2      0.158896     0.0947998   1.78297e-06       1.64287   4.39315e-05\n",
      "347.616      690045       -3     0.0453978     0.0418733     0.0748562       2.66980   0.000131721\n",
      "42.2927      491104       -2    0.00748732     0.0643289     0.0306357       2.24130   0.000221874\n",
      "40.2783      41221.7      -3    0.00865510     0.0793057     0.0146403       2.43362   0.000225392\n",
      "28.626       53933.5      -4     0.0179236     0.0915460    0.00489200       2.47190   0.000230126\n",
      "27.5029      13345.7      -5     0.0221581      0.119886    0.00104628       2.47747   0.000231753\n",
      "27.3211      7941.64      -6     0.0267137      0.151274   0.000826507       2.48196   0.000233107\n",
      "27.2926      266.016      -2     0.0256627      0.140210   0.000995726       2.48029   0.000232588\n",
      "27.285       1319.67      -3     0.0264174      0.136298    0.00114398       2.48254   0.000233137\n",
      "27.2841      473.708      -4     0.0266908      0.137668    0.00114337       2.48248   0.000233164\n",
      "27.2841      10.6358      -5     0.0266622      0.137093    0.00115317       2.48269   0.000233198\n",
      "============================================================\n",
      " Variances and Principal Axes\n",
      "                 1        2        3        4        5  \n",
      " 4.5335E-11| -0.0009   0.0002   0.0083  -0.0000   1.0000  \n",
      " 3.0365E-07| -0.0706   0.0237   0.9972   0.0084  -0.0083  \n",
      " 9.9180E-04|  0.9298  -0.1746   0.0726  -0.3159   0.0003  \n",
      " 1.2949E-02| -0.3509  -0.6487  -0.0037  -0.6753  -0.0001  \n",
      " 2.9192E-02|  0.0860  -0.7403   0.0180   0.6665   0.0001  \n",
      "------------------------------------------------------------\n",
      "\n",
      "============================================================\n",
      "  Covariance Matrix\n",
      "        1           2           3           4           5   \n",
      "   2.668e-03   9.280e-04   1.291e-04   4.451e-03   1.160e-06\n",
      "   9.280e-04   2.148e-02  -3.706e-04  -8.676e-03  -1.478e-06\n",
      "   1.291e-04  -3.706e-04   1.519e-05   3.603e-04   8.594e-08\n",
      "   4.451e-03  -8.676e-03   3.603e-04   1.897e-02   3.392e-06\n",
      "   1.160e-06  -1.478e-06   8.594e-08   3.392e-06   7.836e-10\n",
      "------------------------------------------------------------\n",
      "\n",
      "========================================================================\n",
      "Model TBabs<1>(bremss<2> + powerlaw<3>) Source No.: 1   Active/On\n",
      "Model Model Component  Parameter  Unit     Value\n",
      " par  comp\n",
      "   1    1   TBabs      nH         10^22    2.66622E-02  +/-  5.16527E-02  \n",
      "   2    2   bremss     kT         keV      0.137093     +/-  0.146562     \n",
      "   3    2   bremss     norm                1.15317E-03  +/-  3.89688E-03  \n",
      "   4    3   powerlaw   PhoIndex            2.48269      +/-  0.137730     \n",
      "   5    3   powerlaw   norm                2.33198E-04  +/-  2.79924E-05  \n",
      "________________________________________________________________________\n",
      "\n",
      "\n",
      "Fit statistic  : Chi-Squared                 27.2841     using 47 bins.\n",
      "\n",
      "Test statistic : Chi-Squared                 27.2841     using 47 bins.\n",
      " Null hypothesis probability of 9.6156e-01 with 42 degrees of freedom\n",
      "V)odel Flux 0.0010798 photons (1.1721e-12 ergs/cm^2/s) range (0.20000 - 12.000 ke\n"
     ]
    }
   ],
   "source": [
    "AllModels.clear()\n",
    "mo = Model(\"tbabs*(bremss+powerlaw)\")\n",
    "Fit.perform()\n",
    "Plot.device = \"/xs\"\n",
    "Plot(\"data resid\")\n",
    "nH_bremsspowerlaw = mo.TBabs.nH.values[0]\n",
    "AllModels.calcFlux(\".2 12.0\")"
   ]
  },
  {
   "cell_type": "markdown",
   "id": "1973f13c-7580-446c-b7fe-bf273fd37c5d",
   "metadata": {},
   "source": [
    "## Flux\n",
    "### X-ray flux\n",
    "- X-ray flux of the best-fitting model ``Black body + Powerlaw``: **1.2926e-12 ergs/cm^2/s**."
   ]
  },
  {
   "cell_type": "code",
   "execution_count": 17,
   "id": "4e93ef39-9046-44fe-a12f-a84de18a36e6",
   "metadata": {},
   "outputs": [
    {
     "name": "stdout",
     "output_type": "stream",
     "text": [
      "\u001b[1mX-ray flux : \u001b[0m\n",
      "Black body + Powerlaw : F_x-ray = 1.2926e-12 ergs/cm^2/s\n"
     ]
    }
   ],
   "source": [
    "Flux_bp = 1.2926e-12 # ergs/cm^2/s\n",
    "print(color.BOLD+\"X-ray flux : \"+color.END)\n",
    "print(f\"Black body + Powerlaw : F_x-ray = {Flux_bp} ergs/cm^2/s\")"
   ]
  },
  {
   "cell_type": "markdown",
   "id": "fe266bf5-9f56-4af2-9534-b8c77297ac0c",
   "metadata": {},
   "source": [
    "### Optical flux"
   ]
  },
  {
   "cell_type": "code",
   "execution_count": 18,
   "id": "452ae5c0-6b92-4b25-8549-2193be5af359",
   "metadata": {},
   "outputs": [
    {
     "name": "stdout",
     "output_type": "stream",
     "text": [
      "\u001b[1mOptical flux : \u001b[0mF_optical = 1.3212630781247998e-13 ergs/cm^2/s\n"
     ]
    }
   ],
   "source": [
    "def F_optical(mag):\n",
    "    F0 = 1.05*10**(-5) # GAIA zero point magnitude\n",
    "    return F0*10**(-0.4*mag)\n",
    "\n",
    "G = 19.7505\n",
    "\n",
    "F = F_optical(G)\n",
    "\n",
    "print(color.BOLD+\"Optical flux : \"+color.END+f\"F_optical = {F} ergs/cm^2/s\")"
   ]
  },
  {
   "cell_type": "markdown",
   "id": "818c6914-8d46-4c44-ac33-4e0f66384802",
   "metadata": {},
   "source": [
    "### X-ray flux / Optical flux ratio"
   ]
  },
  {
   "cell_type": "code",
   "execution_count": 19,
   "id": "ded243ec-14c3-4ddd-9a10-d156f3ee3ba0",
   "metadata": {},
   "outputs": [
    {
     "name": "stdout",
     "output_type": "stream",
     "text": [
      "\u001b[1mX-ray Flux / Optical Flux ratio : \u001b[0m\n",
      "Black body + Powerlaw : F_x-ray/F_optical = 9.783063050808323\n"
     ]
    }
   ],
   "source": [
    "print(color.BOLD+\"X-ray Flux / Optical Flux ratio : \"+color.END)\n",
    "print(f\"Black body + Powerlaw : F_x-ray/F_optical = {Flux_bp/F}\")"
   ]
  },
  {
   "cell_type": "markdown",
   "id": "c8c6cc3c-5807-4c13-a57f-a4ce5da37435",
   "metadata": {},
   "source": [
    "## Luminosity"
   ]
  },
  {
   "cell_type": "code",
   "execution_count": 20,
   "id": "d586c000-4d0d-466d-b61a-9dae79785426",
   "metadata": {},
   "outputs": [
    {
     "name": "stdout",
     "output_type": "stream",
     "text": [
      "\u001b[1m(GAIA)\u001b[0m\n",
      "Distance : d = 1.5791709314227227e+22 cm\n",
      "\u001b[1mLuminosity :\u001b[0m\n",
      "Black body + Powerlaw : L_x-ray = 4.0507206864918256e+33 erg/s\n"
     ]
    }
   ],
   "source": [
    "\"\"\"GAIA\"\"\"\n",
    "\n",
    "P_mas = 0.1954\n",
    "d_kpc = 1/P_mas # Distance en kpc\n",
    "d_cm = d_kpc*3.0857*10**21 # Distance en cm, avec 1 pc = 3.0857*10^18 cm\n",
    "\n",
    "# La source est supposée sphérique pour le calcul de la luminosité : L = 4*pi*F*D^2\n",
    "Luminosity_bp = 4*np.pi*Flux_bp*(d_cm)**2 # erg/s\n",
    "\n",
    "print(color.BOLD+\"(GAIA)\"+color.END)\n",
    "print(f\"Distance : d = {d_cm} cm\")\n",
    "print(color.BOLD+\"Luminosity :\"+color.END)\n",
    "print(f\"Black body + Powerlaw : L_x-ray = {Luminosity_bp} erg/s\")"
   ]
  }
 ],
 "metadata": {
  "kernelspec": {
   "display_name": "Python 3 (ipykernel)",
   "language": "python",
   "name": "python3"
  },
  "language_info": {
   "codemirror_mode": {
    "name": "ipython",
    "version": 3
   },
   "file_extension": ".py",
   "mimetype": "text/x-python",
   "name": "python",
   "nbconvert_exporter": "python",
   "pygments_lexer": "ipython3",
   "version": "3.10.12"
  }
 },
 "nbformat": 4,
 "nbformat_minor": 5
}
