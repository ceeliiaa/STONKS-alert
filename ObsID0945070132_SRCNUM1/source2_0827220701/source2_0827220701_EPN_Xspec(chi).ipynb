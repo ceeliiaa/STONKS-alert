{
 "cells": [
  {
   "cell_type": "markdown",
   "id": "a09472f9-b7b4-4047-9978-0b5adf3b464f",
   "metadata": {},
   "source": [
    "# ObsID : 0827220601, Instru : EPN\n",
    "First detection of the source **0945070132 - 1**."
   ]
  },
  {
   "cell_type": "code",
   "execution_count": 1,
   "id": "311ae079-ccd8-41c3-aac4-08c99f67b431",
   "metadata": {},
   "outputs": [],
   "source": [
    "from xspec import *\n",
    "from stingray import Lightcurve\n",
    "from astropy.io import fits\n",
    "import matplotlib.pyplot as plt\n",
    "import matplotlib.image as mpimg\n",
    "import glob\n",
    "import numpy as np\n",
    "\n",
    "class color:\n",
    "   PURPLE = '\\033[95m'\n",
    "   CYAN = '\\033[96m'\n",
    "   DARKCYAN = '\\033[36m'\n",
    "   BLUE = '\\033[94m'\n",
    "   GREEN = '\\033[92m'\n",
    "   YELLOW = '\\033[93m'\n",
    "   RED = '\\033[91m'\n",
    "   BOLD = '\\033[1m'\n",
    "   UNDERLINE = '\\033[4m'\n",
    "   END = '\\033[0m'\n",
    "\n",
    "plt.rcParams['figure.figsize'] = [12,7]"
   ]
  },
  {
   "cell_type": "markdown",
   "id": "96cfe5dc-5b28-4c91-b7ce-94bd8abb9da4",
   "metadata": {},
   "source": [
    "## Fit statistic"
   ]
  },
  {
   "cell_type": "code",
   "execution_count": 2,
   "id": "b5222fe6-7abf-47d8-a19a-17038082541b",
   "metadata": {},
   "outputs": [
    {
     "name": "stdout",
     "output_type": "stream",
     "text": [
      "Default fit statistic is set to: Chi-Squared\n",
      "   This will apply to all current and newly loaded spectra.\n",
      "Parameter delta values for fits will now be 0.0001 * parValue\n"
     ]
    }
   ],
   "source": [
    "Fit.statMethod = \"chi\"\n",
    "Fit.nIterations = 100000\n",
    "Fit.delta = 1e-4\n",
    "Fit.criticalDelta = 1e-4"
   ]
  },
  {
   "cell_type": "markdown",
   "id": "39b7d9d2-7930-4892-81ba-8bd2db47e610",
   "metadata": {},
   "source": [
    "## Load files"
   ]
  },
  {
   "cell_type": "code",
   "execution_count": 3,
   "id": "cd0bcd6f-9565-4899-90b7-1e5d87e7050a",
   "metadata": {},
   "outputs": [
    {
     "name": "stdout",
     "output_type": "stream",
     "text": [
      "\n",
      "1 spectrum  in use\n",
      " \n",
      "Spectral Data File: source2_0827220701_EPN_spectrum_grp.fits  Spectrum 1\n",
      "Net count rate (cts/s) for Spectrum:1  7.999e-03 +/- 1.414e-03 (18.7 % total)\n",
      " Assigned to Data Group 1 and Plot Group 1\n",
      "  Noticed Channels:  1-42\n",
      "  Telescope: XMM Instrument: EPN  Channel Type: PI\n",
      "  Exposure Time: 2.569e+04 sec\n",
      " Using fit statistic: chi\n",
      " Using Background File                source2_0827220701_EPN_background_spectrum.fits\n",
      "  Background Exposure Time: 2.569e+04 sec\n",
      " Using Response (RMF) File            source2_0827220701_EPN.rmf for Source 1\n",
      " Using Auxiliary Response (ARF) File  source2_0827220701_EPN.arf\n",
      "\n"
     ]
    }
   ],
   "source": [
    "AllData.clear()\n",
    "spec = Spectrum(glob.glob(\"*EPN_spectrum_grp.fits\")[0])"
   ]
  },
  {
   "cell_type": "code",
   "execution_count": 4,
   "id": "d2162e29-f021-491d-97ae-2798a012e3cd",
   "metadata": {},
   "outputs": [
    {
     "name": "stdout",
     "output_type": "stream",
     "text": [
      "Number of counts = 205.49430999999998 cts\n"
     ]
    }
   ],
   "source": [
    "print(f\"Number of counts = {7.999e-03*2.569e+04} cts\")"
   ]
  },
  {
   "cell_type": "markdown",
   "id": "e33a3a79-2d25-4f9c-98cb-a06781c8296d",
   "metadata": {},
   "source": [
    "The number of counts exeeds 100 cts, indicating that the Chi-squared test is a good choice for a goodness-of-fit statistic."
   ]
  },
  {
   "cell_type": "markdown",
   "id": "870eec10-27a5-4341-a01c-4a98ac400133",
   "metadata": {},
   "source": [
    "## Plot spectrum"
   ]
  },
  {
   "cell_type": "code",
   "execution_count": 5,
   "id": "37f98bf3-3d31-4c65-891f-3ea006da7786",
   "metadata": {},
   "outputs": [
    {
     "name": "stdout",
     "output_type": "stream",
     "text": [
      "     2 channels (1-2) ignored in spectrum #     1\n",
      "     2 channels (41-42) ignored in spectrum #     1\n",
      "\n"
     ]
    }
   ],
   "source": [
    "Plot.xAxis=\"keV\"\n",
    "Plot.device = \"/xs\"\n",
    "Plot.xLog=True\n",
    "Plot.yLog=True\n",
    "#Plot.addCommand(\"Rescale Y 0.00001 0.005\")\n",
    "Plot(\"data\")\n",
    "spec.ignore(\"**-0.2 12.0-**\")"
   ]
  },
  {
   "cell_type": "code",
   "execution_count": 6,
   "id": "27bf0415-368d-4476-8ef7-29af925b48ee",
   "metadata": {},
   "outputs": [
    {
     "data": {
      "text/plain": [
       "(-0.5, 854.5, 656.5, -0.5)"
      ]
     },
     "execution_count": 6,
     "metadata": {},
     "output_type": "execute_result"
    },
    {
     "data": {
      "image/png": "[encoded data removed]",
      "text/plain": [
       "<Figure size 1200x700 with 1 Axes>"
      ]
     },
     "metadata": {},
     "output_type": "display_data"
    }
   ],
   "source": [
    "img = plt.imread(glob.glob('*_Spectrum.png')[0])\n",
    "plt.imshow(img)\n",
    "plt.axis('off')"
   ]
  },
  {
   "cell_type": "markdown",
   "id": "7eb1edda-21f0-4876-bdbc-8cb3e4a347dc",
   "metadata": {},
   "source": [
    "### Black body model"
   ]
  },
  {
   "cell_type": "code",
   "execution_count": 7,
   "id": "25e94b4e-0bb6-439e-af07-e82ebf0faa48",
   "metadata": {
    "scrolled": true
   },
   "outputs": [
    {
     "name": "stdout",
     "output_type": "stream",
     "text": [
      "\n",
      "========================================================================\n",
      "Model TBabs<1>*bbody<2> Source No.: 1   Active/On\n",
      "Model Model Component  Parameter  Unit     Value\n",
      " par  comp\n",
      "   1    1   TBabs      nH         10^22    1.00000      +/-  0.0          \n",
      "   2    2   bbody      kT         keV      3.00000      +/-  0.0          \n",
      "   3    2   bbody      norm                1.00000      +/-  0.0          \n",
      "________________________________________________________________________\n",
      "\n",
      "tbvabs Version 2.3\n",
      "Cosmic absorption with grains and H2, modified from\n",
      "Wilms, Allen, & McCray, 2000, ApJ 542, 914-924\n",
      "Questions: Joern Wilms\n",
      "joern.wilms@sternwarte.uni-erlangen.de\n",
      "joern.wilms@fau.de\n",
      "\n",
      "http://pulsar.sternwarte.uni-erlangen.de/wilms/research/tbabs/\n",
      "\n",
      "PLEASE NOTICE:\n",
      "To get the model described by the above paper\n",
      "you will also have to set the abundances:\n",
      "   abund wilm\n",
      "\n",
      "Note that this routine ignores the current cross section setting\n",
      "as it always HAS to use the Verner cross sections as a baseline.\n",
      "\n",
      "Fit statistic  : Chi-Squared              6.751886e+12     using 38 bins.\n",
      "\n",
      "Test statistic : Chi-Squared              6.751886e+12     using 38 bins.\n",
      " Null hypothesis probability of 0.000000e+00 with 35 degrees of freedom\n",
      " Current data and model not fit yet.\n",
      "                                   Parameters\n",
      "Chi-Squared  |beta|/N    Lvl          1:nH          2:kT        3:norm\n",
      "66.8555      0.508707     -1     0.0493209       1.70161   2.31610e-07\n",
      "61.7335      5.59221e+06  -2     0.0199752       1.74803   4.89472e-07\n",
      "61.6435      1.34505e+06  -3    0.00420923       1.75570   4.92484e-07\n",
      "61.5558      1.32897e+06  -1   0.000665271       1.74078   4.90248e-07\n",
      "61.2981      1.28494e+06   0   0.000228776       1.69816   4.99808e-07\n",
      "61.2343      854979        0   3.50948e-05       1.68281   5.01499e-07\n",
      "61.214       714230        0   1.18075e-05       1.67582   5.00973e-07\n",
      "61.2062      671745        0   3.28742e-07       1.67193   4.99927e-07\n",
      "61.2028      661924        0   1.50434e-07       1.66938   4.98870e-07\n",
      "61.2009      662449        0   6.15304e-08       1.66752   4.97944e-07\n",
      "61.1998      665790        0   1.71497e-08       1.66610   4.97174e-07\n",
      "61.1991      669550        0   6.06585e-09       1.66500   4.96550e-07\n",
      "61.1985      673015        0   5.27938e-10       1.66413   4.96046e-07\n",
      "61.198       675909        0   1.82067e-10       1.66341   4.95640e-07\n",
      "61.1976      678153        0   9.23035e-12       1.66282   4.95309e-07\n",
      "61.1706      679931        0   1.45736e-12       1.65628   4.97655e-07\n",
      "61.1507      582558        0   5.27984e-13       1.65075   4.99576e-07\n",
      "61.1362      499508        0   6.94245e-14       1.64613   5.01110e-07\n",
      "61.1253      430144        0   8.78648e-15       1.64212   5.02380e-07\n",
      "61.1161      370155        0   4.33374e-15       1.63832   5.03559e-07\n",
      "61.0977      312954        0   6.34161e-16       1.62628   5.04633e-07\n",
      "61.083       181091       -1   2.53424e-16       1.59759   4.95333e-07\n",
      "61.0826      99127.4       0   1.15843e-16       1.59729   4.95760e-07\n",
      "61.0811      86815.3      -1   4.12297e-17       1.59180   4.95621e-07\n",
      "61.081       33637.9       0   1.53871e-17       1.59119   4.95813e-07\n",
      "***Warning: Zero alpha-matrix diagonal element for parameter 1\n",
      " Parameter 1 is pegged at 1.53871e-17 due to zero or negative pivot element, likely\n",
      " caused by the fit being insensitive to the parameter.\n",
      "61.0808      34505.6      -1   1.53871e-17       1.58781   4.95309e-07\n",
      "61.0808      1707.19      -2   1.53871e-17       1.58847   4.95567e-07\n",
      "***Warning: Zero alpha-matrix diagonal element for parameter 1\n",
      " Parameter 1 is pegged at 1.53871e-17 due to zero or negative pivot element, likely\n",
      " caused by the fit being insensitive to the parameter.\n",
      "61.0808      88.5525      -3   1.53871e-17       1.58795   4.95325e-07\n",
      "==============================\n",
      " Variances and Principal Axes\n",
      "                 2        3  \n",
      " 1.5027E-14| -0.0000   1.0000  \n",
      " 1.9289E-01|  1.0000   0.0000  \n",
      "------------------------------\n",
      "\n",
      "========================\n",
      "  Covariance Matrix\n",
      "        1           2   \n",
      "   1.929e-01   9.119e-08\n",
      "   9.119e-08   5.814e-14\n",
      "------------------------\n",
      "\n",
      "========================================================================\n",
      "Model TBabs<1>*bbody<2> Source No.: 1   Active/On\n",
      "Model Model Component  Parameter  Unit     Value\n",
      " par  comp\n",
      "   1    1   TBabs      nH         10^22    1.53871E-17  +/-  -1.00000     \n",
      "   2    2   bbody      kT         keV      1.58795      +/-  0.439189     \n",
      "   3    2   bbody      norm                4.95325E-07  +/-  2.41127E-07  \n",
      "________________________________________________________________________\n",
      "\n",
      "\n",
      "Fit statistic  : Chi-Squared                 61.0808     using 38 bins.\n",
      "\n",
      "Test statistic : Chi-Squared                 61.0808     using 38 bins.\n",
      " Null hypothesis probability of 4.1083e-03 with 35 degrees of freedom\n",
      " Model Flux 5.9221e-06 photons (3.9311e-14 ergs/cm^2/s) range (0.20000 - 12.000 keV)\n"
     ]
    }
   ],
   "source": [
    "AllModels.clear()\n",
    "mo = Model(\"tbabs*bbody\")\n",
    "Fit.perform()\n",
    "Plot.device = \"/xs\"\n",
    "Plot(\"data resid\")\n",
    "plt.show()\n",
    "nH_bbody = mo.TBabs.nH.values[0]\n",
    "AllModels.calcFlux(\".2 12.0\")"
   ]
  },
  {
   "cell_type": "markdown",
   "id": "b77a2e66-8412-4d85-a277-10782493ea2e",
   "metadata": {},
   "source": [
    "### Bremsstrahlung model"
   ]
  },
  {
   "cell_type": "code",
   "execution_count": 8,
   "id": "3ed606fb-6f75-4369-b9c8-b5c95a0a9577",
   "metadata": {
    "scrolled": true
   },
   "outputs": [
    {
     "name": "stdout",
     "output_type": "stream",
     "text": [
      "\n",
      "========================================================================\n",
      "Model TBabs<1>*bremss<2> Source No.: 1   Active/On\n",
      "Model Model Component  Parameter  Unit     Value\n",
      " par  comp\n",
      "   1    1   TBabs      nH         10^22    1.00000      +/-  0.0          \n",
      "   2    2   bremss     kT         keV      7.00000      +/-  0.0          \n",
      "   3    2   bremss     norm                1.00000      +/-  0.0          \n",
      "________________________________________________________________________\n",
      "\n",
      "\n",
      "Fit statistic  : Chi-Squared              2.489864e+11     using 38 bins.\n",
      "\n",
      "Test statistic : Chi-Squared              2.489864e+11     using 38 bins.\n",
      " Null hypothesis probability of 0.000000e+00 with 35 degrees of freedom\n",
      " Current data and model not fit yet.\n",
      "                                   Parameters\n",
      "Chi-Squared  |beta|/N    Lvl          1:nH          2:kT        3:norm\n",
      "66.2068      0.235944     -2     0.0873511       36.9309   2.85457e-06\n",
      "64.3228      232333       -1     0.0180753       198.619   4.54246e-06\n",
      "63.6818      110543       -1   0.000637779       199.210   5.16249e-06\n",
      "63.6538      31163.2       0   0.000137944       199.329   5.03926e-06\n",
      "63.6494      9679.23       0   7.72274e-06       199.351   4.95257e-06\n",
      "63.6492      6011.76       0   2.54384e-06       199.360   4.95189e-06\n",
      "63.6492      6138.2        0   1.24858e-06       199.362   4.95125e-06\n",
      "========================================\n",
      " Variances and Principal Axes\n",
      "                 1        2        3  \n",
      " 1.8040E-12| -0.0000  -0.0000   1.0000  \n",
      " 3.6920E-03|  1.0000   0.0000   0.0000  \n",
      " 9.8324E+06| -0.0000   1.0000   0.0000  \n",
      "----------------------------------------\n",
      "\n",
      "====================================\n",
      "  Covariance Matrix\n",
      "        1           2           3   \n",
      "   6.928e-03  -1.784e+02  -1.315e-06\n",
      "  -1.784e+02   9.832e+06   7.641e-02\n",
      "  -1.315e-06   7.641e-02   5.970e-10\n",
      "------------------------------------\n",
      "\n",
      "========================================================================\n",
      "Model TBabs<1>*bremss<2> Source No.: 1   Active/On\n",
      "Model Model Component  Parameter  Unit     Value\n",
      " par  comp\n",
      "   1    1   TBabs      nH         10^22    1.24858E-06  +/-  8.32331E-02  \n",
      "   2    2   bremss     kT         keV      199.362      +/-  3135.66      \n",
      "   3    2   bremss     norm                4.95125E-06  +/-  2.44344E-05  \n",
      "________________________________________________________________________\n",
      "\n",
      "\n",
      "Fit statistic  : Chi-Squared                 63.6492     using 38 bins.\n",
      "\n",
      "Test statistic : Chi-Squared                 63.6492     using 38 bins.\n",
      " Null hypothesis probability of 2.1620e-03 with 35 degrees of freedom\n",
      " Model Flux 5.9756e-06 photons (2.198e-14 ergs/cm^2/s) range (0.20000 - 12.000 keV)\n"
     ]
    }
   ],
   "source": [
    "AllModels.clear()\n",
    "mo = Model(\"tbabs*bremss\")\n",
    "Fit.perform()\n",
    "Plot.device = \"/xs\"\n",
    "Plot(\"data resid\")\n",
    "nH_bremss = mo.TBabs.nH.values[0]\n",
    "AllModels.calcFlux(\".2 12.0\")"
   ]
  },
  {
   "cell_type": "markdown",
   "id": "4d8ea665-d6a1-4113-beaf-fad108850b18",
   "metadata": {},
   "source": [
    "### Apec model"
   ]
  },
  {
   "cell_type": "code",
   "execution_count": 9,
   "id": "4bd12dd8-e0eb-46e8-a057-f7eb723b3a94",
   "metadata": {
    "scrolled": true
   },
   "outputs": [
    {
     "name": "stdout",
     "output_type": "stream",
     "text": [
      "\n",
      "========================================================================\n",
      "Model TBabs<1>*apec<2> Source No.: 1   Active/On\n",
      "Model Model Component  Parameter  Unit     Value\n",
      " par  comp\n",
      "   1    1   TBabs      nH         10^22    1.00000      +/-  0.0          \n",
      "   2    2   apec       kT         keV      1.00000      +/-  0.0          \n",
      "   3    2   apec       Abundanc            1.00000      frozen\n",
      "   4    2   apec       Redshift            0.0          frozen\n",
      "   5    2   apec       norm                1.00000      +/-  0.0          \n",
      "________________________________________________________________________\n",
      "\n",
      "Reading APEC data from 3.0.9\n",
      "\n",
      "\n",
      "Fit statistic  : Chi-Squared              7.411631e+10     using 38 bins.\n",
      "\n",
      "Test statistic : Chi-Squared              7.411631e+10     using 38 bins.\n",
      " Null hypothesis probability of 0.000000e+00 with 35 degrees of freedom\n",
      " Current data and model not fit yet.\n",
      "                                   Parameters\n",
      "Chi-Squared  |beta|/N    Lvl          1:nH          2:kT        5:norm\n",
      "73.8445      0.458041     -3       1.39316       1.12022   1.04063e-05\n",
      "72.9915      14323.2      -4      0.956727       2.11114   6.44364e-06\n",
      "2      0.251950       18.9424   2.97490e-06\n",
      "67.6207      231687       -1     0.0174132       59.3854   1.53038e-05\n",
      "67.2077      208919       -1    0.00594335       62.4318   1.49154e-05\n",
      "66.6597      210853       -1    0.00113202       63.9440   1.44547e-05\n",
      "66.3566      198557       -1   1.24344e-05       63.9900   1.41694e-05\n",
      "66.1724      188892       -1   3.76365e-06       63.9958   1.40038e-05\n",
      "66.0854      181438       -1   1.56941e-06       63.9992   1.39233e-05\n",
      "66.0439      177804       -1   4.65658e-07       63.9998   1.38842e-05\n",
      "66.0238      176044       -1   1.88909e-07       63.9999   1.38652e-05\n",
      "66.0141      175188       -1   5.03360e-08       64.0000   1.38559e-05\n",
      "66.0094      174772       -1   1.56686e-08       64.0000   1.38514e-05\n",
      "66.0071      174569       -1   6.99878e-09       64.0000   1.38492e-05\n",
      "66.006       174470       -1   2.66315e-09       64.0000   1.38482e-05\n",
      "66.0054      174422       -1   4.95165e-10       64.0000   1.38476e-05\n",
      "66.0052      174399       -1   2.24163e-10       64.0000   1.38474e-05\n",
      "66.005       174388       -1   8.86542e-11       64.0000   1.38472e-05\n",
      "66.005       174381       -1   2.08970e-11       64.0000   1.38472e-05\n",
      "========================================\n",
      " Variances and Principal Axes\n",
      "                 1        2        5  \n",
      " 7.4012E-12| -0.0001  -0.0000   1.0000  \n",
      " 1.8509E-03|  1.0000   0.0000   0.0001  \n",
      " 7.6311E+05| -0.0000   1.0000   0.0000  \n",
      "----------------------------------------\n",
      "\n",
      "====================================\n",
      "  Covariance Matrix\n",
      "        1           2           3   \n",
      "   3.220e-03  -3.232e+01  -8.416e-07\n",
      "  -3.232e+01   7.631e+05   2.236e-02\n",
      "  -8.416e-07   2.236e-02   6.683e-10\n",
      "------------------------------------\n",
      "\n",
      "========================================================================\n",
      "Model TBabs<1>*apec<2> Source No.: 1   Active/On\n",
      "Model Model Component  Parameter  Unit     Value\n",
      " par  comp\n",
      "   1    1   TBabs      nH         10^22    2.08970E-11  +/-  5.67428E-02  \n",
      "   2    2   apec       kT         keV      64.0000      +/-  873.564      \n",
      "   3    2   apec       Abundanc            1.00000      frozen\n",
      "   4    2   apec       Redshift            0.0          frozen\n",
      "   5    2   apec       norm                1.38472E-05  +/-  2.58515E-05  \n",
      "________________________________________________________________________\n",
      "\n",
      "\n",
      "Fit statistic  : Chi-Squared                 66.0050     using 38 bins.\n",
      "\n",
      "Test statistic : Chi-Squared                 66.0050     using 38 bins.\n",
      " Null hypothesis probability of 1.1756e-03 with 35 degrees of freedom\n",
      " Model Flux 8.1459e-06 photons (2.7926e-14 ergs/cm^2/s) range (0.20000 - 12.000 keV)\n"
     ]
    }
   ],
   "source": [
    "AllModels.clear()\n",
    "mo = Model(\"tbabs*apec\")\n",
    "Fit.perform()\n",
    "Plot.device = \"/xs\"\n",
    "Plot(\"data resid\")\n",
    "nH_apec = mo.TBabs.nH.values[0]\n",
    "AllModels.calcFlux(\".2 12.0\")"
   ]
  },
  {
   "cell_type": "markdown",
   "id": "746ccf61-8e54-4726-b463-b6a3d137905c",
   "metadata": {},
   "source": [
    "### Powerlaw model"
   ]
  },
  {
   "cell_type": "code",
   "execution_count": 10,
   "id": "ecf8f29f-a8fc-4efc-9ce0-7059d934b811",
   "metadata": {
    "scrolled": true
   },
   "outputs": [
    {
     "name": "stdout",
     "output_type": "stream",
     "text": [
      "\n",
      "========================================================================\n",
      "Model TBabs<1>*powerlaw<2> Source No.: 1   Active/On\n",
      "Model Model Component  Parameter  Unit     Value\n",
      " par  comp\n",
      "   1    1   TBabs      nH         10^22    1.00000      +/-  0.0          \n",
      "   2    2   powerlaw   PhoIndex            1.00000      +/-  0.0          \n",
      "   3    2   powerlaw   norm                1.00000      +/-  0.0          \n",
      "________________________________________________________________________\n",
      "\n",
      "\n",
      "Fit statistic  : Chi-Squared              1.420951e+12     using 38 bins.\n",
      "\n",
      "Test statistic : Chi-Squared              1.420951e+12     using 38 bins.\n",
      " Null hypothesis probability of 0.000000e+00 with 35 degrees of freedom\n",
      " Current data and model not fit yet.\n",
      "                                   Parameters\n",
      "Chi-Squared  |beta|/N    Lvl          1:nH    2:PhoIndex        3:norm\n",
      "65.3378      0.102398     -3      0.881388      0.853060   2.31989e-06\n",
      "65.3266      36658.3      -4      0.917352      0.946808   2.65728e-06\n",
      "65.3164      11995.1      -5      0.781715      0.830887   2.21508e-06\n",
      "65.2751      26227.3      -6      0.690048      0.846339   2.23114e-06\n",
      "65.1424      641.156      -7      0.443870      0.706630   1.69537e-06\n",
      "64.3438      81311.2      -8      0.142619      0.588083   1.33673e-06\n",
      "63.5238      97915.7      -1     0.0390538      0.516000   1.12145e-06\n",
      "63.0741      323809        0     0.0158441      0.520123   1.12589e-06\n",
      "62.8415      302316        0    0.00566467      0.524419   1.12244e-06\n",
      "62.7257      318033        0   0.000958504      0.527122   1.11901e-06\n",
      "62.7143      333636        0   0.000395708      0.528597   1.11683e-06\n",
      "62.7086      345033        0   0.000115349      0.529116   1.11581e-06\n",
      "62.7078      349795        0   4.53901e-05      0.529263   1.11529e-06\n",
      "62.7074      351938        0   1.04124e-05      0.529261   1.11499e-06\n",
      "62.69        352875        0   4.11230e-06      0.530753   1.12305e-06\n",
      "62.6743      330913        0   1.01319e-06      0.532497   1.13056e-06\n",
      "62.6602      311659        0   2.50216e-07      0.534442   1.13760e-06\n",
      "62.6472      294722        0   6.22176e-08      0.536548   1.14421e-06\n",
      "62.6351      279768        0   1.58611e-08      0.538781   1.15045e-06\n",
      "62.6239      266512        0   4.42318e-09      0.541112   1.15637e-06\n",
      "62.6134      254710        0   1.59940e-09      0.543519   1.16200e-06\n",
      "62.6034      244157        0   2.04424e-10      0.545980   1.16736e-06\n",
      "62.594       234675        0   3.20661e-11      0.548480   1.17250e-06\n",
      "62.5851      226114        0   1.07602e-11      0.551005   1.17742e-06\n",
      "62.5766      218350        0   2.11316e-13      0.553541   1.18215e-06\n",
      "62.5684      211271        0   5.57721e-14      0.556081   1.18682e-06\n",
      "62.5605      204434        0   1.92296e-14      0.558779   1.19124e-06\n",
      "62.5538      198904        0   5.21585e-15      0.561251   1.19495e-06\n",
      "62.5473      194912        0   1.83580e-15      0.570046   1.19463e-06\n",
      "62.5473      222717       14   1.84265e-15      0.570046   1.19463e-06\n",
      "========================================\n",
      " Variances and Principal Axes\n",
      "                 1        2        3  \n",
      " 1.0746E-13| -0.0000  -0.0000   1.0000  \n",
      " 5.7848E-03|  0.9892  -0.1464   0.0000  \n",
      " 2.2065E-01|  0.1464   0.9892   0.0000  \n",
      "----------------------------------------\n",
      "\n",
      "====================================\n",
      "  Covariance Matrix\n",
      "        1           2           3   \n",
      "   1.039e-02   3.112e-02   5.285e-08\n",
      "   3.112e-02   2.160e-01   2.731e-07\n",
      "   5.285e-08   2.731e-07   4.836e-13\n",
      "----------------------\n",
      "\n",
      "========================================================================\n",
      "Model TBabs<1>*powerlaw<2> Source No.: 1   Active/On\n",
      "Model Model Component  Parameter  Unit     Value\n",
      " par  comp\n",
      "   1    1   TBabs      nH         10^22    1.84265E-15  +/-  0.101935     \n",
      "   2    2   powerlaw   PhoIndex            0.570046     +/-  0.464809     \n",
      "   3    2   powerlaw   norm                1.19463E-06  +/-  6.95391E-07  \n",
      "________________________________________________________________________\n",
      "\n",
      "\n",
      "Fit statistic  : Chi-Squared                 62.5473     using 38 bins.\n",
      "\n",
      "Test statistic : Chi-Squared                 62.5473     using 38 bins.\n",
      " Null hypothesis probability of 2.8559e-03 with 35 degrees of freedom\n",
      " Model Flux 6.6966e-06 photons (4.6619e-14 ergs/cm^2/s) range (0.20000 - 12.000 keV)\n"
     ]
    }
   ],
   "source": [
    "AllModels.clear()\n",
    "mo = Model(\"tbabs*powerlaw\")\n",
    "Fit.perform()\n",
    "Plot.device = \"/xs\"\n",
    "Plot(\"data resid\")\n",
    "nH_powerlaw = mo.TBabs.nH.values[0]\n",
    "AllModels.calcFlux(\".2 12.0\")"
   ]
  },
  {
   "cell_type": "markdown",
   "id": "eca29560-55e5-4e1c-aa60-798af0994ce0",
   "metadata": {},
   "source": [
    "### Black body + Powerlaw model"
   ]
  },
  {
   "cell_type": "code",
   "execution_count": 11,
   "id": "6d258561-5082-4543-a606-e5e6df97a41a",
   "metadata": {
    "scrolled": true
   },
   "outputs": [
    {
     "name": "stdout",
     "output_type": "stream",
     "text": [
      "\n",
      "========================================================================\n",
      "Model TBabs<1>(bbody<2> + powerlaw<3>) Source No.: 1   Active/On\n",
      "Model Model Component  Parameter  Unit     Value\n",
      " par  comp\n",
      "   1    1   TBabs      nH         10^22    1.00000      +/-  0.0          \n",
      "   2    2   bbody      kT         keV      3.00000      +/-  0.0          \n",
      "   3    2   bbody      norm                1.00000      +/-  0.0          \n",
      "   4    3   powerlaw   PhoIndex            1.00000      +/-  0.0          \n",
      "   5    3   powerlaw   norm                1.00000      +/-  0.0          \n",
      "________________________________________________________________________\n",
      "\n",
      "\n",
      "Fit statistic  : Chi-Squared              1.352482e+13     using 38 bins.\n",
      "\n",
      "Test statistic : Chi-Squared              1.352482e+13     using 38 bins.\n",
      " Null hypothesis probability of 0.000000e+00 with 33 degrees of freedom\n",
      " Current data and model not fit yet.\n",
      "                                   Parameters\n",
      "Chi-Squared  |beta|/N    Lvl          1:nH          2:kT        3:norm    4:PhoIndex        5:norm\n",
      "65.0422      122302        0      0.528087       2.75372   8.08119e-07       1.15151   9.81075e-07\n",
      "63.7382      110121        0      0.279003       2.51922   7.46511e-07       1.34311   9.68415e-07\n",
      "61.7833      112229        0      0.120649       2.31134   7.13242e-07       1.68234   8.97802e-07\n",
      "57.5787      156183        0     0.0359429       2.13600   7.01984e-07       2.50315   8.06057e-07\n",
      "55.2317      291906       -1     0.0131677       1.48100   4.61504e-07       4.00751   3.85575e-07\n",
      "54.057       2.37535e+06  -2     0.0631734       1.69681   5.37622e-07       5.57590   9.81317e-08\n",
      "51.8415      4.59938e+06  -2      0.152725       1.51950   4.70090e-07       8.85938   2.70132e-08\n",
      "50.8902      1.57722e+07  -1      0.147093       1.60369   5.04853e-07       9.09474   2.80303e-08\n",
      "50.8786      450348       -1      0.151535       1.59167   5.05133e-07       9.15683   2.72361e-08\n",
      "50.8663      2.58364e+06  -1      0.154277       1.59387   5.06492e-07       9.22588   2.64353e-08\n",
      "50.8533      3.32697e+06  -1      0.156396       1.59285   5.06548e-07       9.29125   2.55931e-08\n",
      "50.8429      3.83484e+06  -1      0.158180       1.59232   5.06637e-07       9.35118   2.47643e-08\n",
      "50.8353      4.39537e+06  -1      0.159726       1.59168   5.06648e-07       9.40554   2.39842e-08\n",
      "50.8303      5.01487e+06  -1      0.161079       1.59131   5.06732e-07       9.45452   2.32696e-08\n",
      "50.8272      5.66501e+06  -1      0.162269       1.59082   5.06746e-07       9.49843   2.26260e-08\n",
      "50.7896      6.31969e+06   0      0.161240       1.59088   5.06746e-07       9.49974   2.29725e-08\n",
      "50.7793      3.69339e+06   0      0.160784       1.59106   5.06715e-07       9.49997   2.31385e-08\n",
      "50.7759      2.45692e+06   0      0.160576       1.59120   5.06698e-07       9.49999   2.32233e-08\n",
      "50.7745      1.85354e+06   0      0.160484       1.59128   5.06693e-07       9.49999   2.32691e-08\n",
      "50.7739      1.55235e+06   0      0.160447       1.59135   5.06698e-07       9.50000   2.32954e-08\n",
      "50.7737      1.40084e+06   0      0.160438       1.59139   5.06708e-07       9.50000   2.33119e-08\n",
      "50.7735      1.32446e+06   0      0.160442       1.59144   5.06723e-07       9.50000   2.33233e-08\n",
      "50.7735      1.28531e+06   0      0.160452       1.59144   5.06730e-07       9.50000   2.33319e-08\n",
      "============================================================\n",
      " Variances and Principal Axes\n",
      "                 1        2        3        4        5  \n",
      " 5.1404E-17| -0.0000  -0.0000   0.0012   0.0000   1.0000  \n",
      " 1.6895E-14|  0.0000   0.0000  -1.0000   0.0000   0.0012  \n",
      " 5.3561E-03|  0.9996   0.0078   0.0000  -0.0256   0.0000  \n",
      " 2.1243E-01|  0.0074  -0.9998  -0.0000  -0.0159   0.0000  \n",
      " 7.3152E+01| -0.0258   0.0157   0.0000  -0.9995   0.0000  \n",
      "------------------------------------------------------------\n",
      "\n",
      "============================================================\n",
      "  Covariance Matrix\n",
      "        1           2           3           4           5   \n",
      "   5.389e-02  -3.107e-02  -5.007e-09   1.883e+00  -2.125e-08\n",
      "  -3.107e-02   2.303e-01   9.895e-08  -1.143e+00   1.357e-08\n",
      "  -5.007e-09   9.895e-08   6.082e-14  -1.893e-07   2.305e-15\n",
      "   1.883e+00  -1.143e+00  -1.893e-07   7.309e+01  -8.985e-07\n",
      "  -2.125e-08   1.357e-08   2.305e-15  -8.985e-07   1.177e-14\n",
      "------------------------------------------------------------\n",
      "\n",
      "========================================================================\n",
      "Model TBabs<1>(bbody<2> + powerlaw<3>) Source No.: 1   Active/On\n",
      "Model Model Component  Parameter  Unit     Value\n",
      " par  comp\n",
      "   1    1   TBabs      nH         10^22    0.160452     +/-  0.232138     \n",
      "   2    2   bbody      kT         keV      1.59144      +/-  0.479939     \n",
      "   3    2   bbody      norm                5.06730E-07  +/-  2.46611E-07  \n",
      "   4    3   powerlaw   PhoIndex            9.50000      +/-  8.54900      \n",
      "   5    3   powerlaw   norm                2.33319E-08  +/-  1.08491E-07  \n",
      "________________________________________________________________________\n",
      "\n",
      "\n",
      "Fit statistic  : Chi-Squared                 50.7735     using 38 bins.\n",
      "\n",
      "Test statistic : Chi-Squared                 50.7735     using 38 bins.\n",
      " Null hypothesis probability of 2.4739e-02 with 33 degrees of freedom\n",
      " Model Flux 1.004e-05 photons (4.1921e-14 ergs/cm^2/s) range (0.20000 - 12.000 keV)\n"
     ]
    }
   ],
   "source": [
    "AllModels.clear()\n",
    "mo = Model(\"tbabs*(bbody+powerlaw)\")\n",
    "Fit.perform()\n",
    "Plot.device = \"/xs\"\n",
    "Plot(\"data resid\")\n",
    "AllModels.calcFlux(\".2 12.0\")"
   ]
  },
  {
   "cell_type": "markdown",
   "id": "1973f13c-7580-446c-b7fe-bf273fd37c5d",
   "metadata": {},
   "source": [
    "## Flux\n",
    "### X-ray flux\n",
    "- X-ray flux of the best-fitting model ``Black body + Powerlaw`` : **4.1921e-14 ergs/cm^2/s**."
   ]
  },
  {
   "cell_type": "code",
   "execution_count": 12,
   "id": "4e93ef39-9046-44fe-a12f-a84de18a36e6",
   "metadata": {},
   "outputs": [
    {
     "name": "stdout",
     "output_type": "stream",
     "text": [
      "\u001b[1mX-ray flux : \u001b[0m\n",
      "Black body + Powerlaw : F_x-ray = 4.1921e-14 ergs/cm^2/s\n"
     ]
    }
   ],
   "source": [
    "Flux_pow = 4.1921e-14 # ergs/cm^2/s\n",
    "print(color.BOLD+\"X-ray flux : \"+color.END)\n",
    "print(f\"Black body + Powerlaw : F_x-ray = {Flux_pow} ergs/cm^2/s\")"
   ]
  },
  {
   "cell_type": "markdown",
   "id": "fe266bf5-9f56-4af2-9534-b8c77297ac0c",
   "metadata": {},
   "source": [
    "### Optical flux"
   ]
  },
  {
   "cell_type": "code",
   "execution_count": 13,
   "id": "452ae5c0-6b92-4b25-8549-2193be5af359",
   "metadata": {},
   "outputs": [
    {
     "name": "stdout",
     "output_type": "stream",
     "text": [
      "\u001b[1mOptical flux : \u001b[0mF_optical = 1.3212630781247998e-13 ergs/cm^2/s\n"
     ]
    }
   ],
   "source": [
    "def F_optical(mag):\n",
    "    F0 = 1.05*10**(-5) # GAIA zero point magnitude\n",
    "    return F0*10**(-0.4*mag)\n",
    "\n",
    "G = 19.7505\n",
    "\n",
    "F = F_optical(G)\n",
    "\n",
    "print(color.BOLD+\"Optical flux : \"+color.END+f\"F_optical = {F} ergs/cm^2/s\")"
   ]
  },
  {
   "cell_type": "markdown",
   "id": "818c6914-8d46-4c44-ac33-4e0f66384802",
   "metadata": {},
   "source": [
    "### X-ray flux / Optical flux ratio"
   ]
  },
  {
   "cell_type": "code",
   "execution_count": 14,
   "id": "ded243ec-14c3-4ddd-9a10-d156f3ee3ba0",
   "metadata": {},
   "outputs": [
    {
     "name": "stdout",
     "output_type": "stream",
     "text": [
      "\u001b[1mX-ray Flux / Optical Flux ratio : \u001b[0m\n",
      "Black body + Powerlaw : F_x-ray/F_optical = 0.31727973553530536\n"
     ]
    }
   ],
   "source": [
    "print(color.BOLD+\"X-ray Flux / Optical Flux ratio : \"+color.END)\n",
    "print(f\"Black body + Powerlaw : F_x-ray/F_optical = {Flux_pow/F}\")"
   ]
  },
  {
   "cell_type": "markdown",
   "id": "c8c6cc3c-5807-4c13-a57f-a4ce5da37435",
   "metadata": {},
   "source": [
    "## Luminosity"
   ]
  },
  {
   "cell_type": "code",
   "execution_count": 15,
   "id": "d586c000-4d0d-466d-b61a-9dae79785426",
   "metadata": {},
   "outputs": [
    {
     "name": "stdout",
     "output_type": "stream",
     "text": [
      "\u001b[1m(GAIA)\u001b[0m\n",
      "Distance : d = 1.5791709314227227e+22 cm\n",
      "\u001b[1mLuminosity :\u001b[0m\n",
      "Black body + Powerlaw : L_x-ray = 1.3137108300976625e+32 erg/s\n",
      "Alert file : L_x = 7.207688054255917e+33 erg/s\n"
     ]
    }
   ],
   "source": [
    "\"\"\"GAIA\"\"\"\n",
    "\n",
    "P_mas = 0.1954\n",
    "d_kpc = 1/P_mas # Distance en kpc\n",
    "d_cm = d_kpc*3.0857*10**21 # Distance en cm, avec 1 pc = 3.0857*10^18 cm\n",
    "\n",
    "# La source est supposée sphérique pour le calcul de la luminosité : L = 4*pi*F*D^2\n",
    "Luminosity_pow = 4*np.pi*Flux_pow*(d_cm)**2 # erg/s\n",
    "\n",
    "print(color.BOLD+\"(GAIA)\"+color.END)\n",
    "print(f\"Distance : d = {d_cm} cm\")\n",
    "print(color.BOLD+\"Luminosity :\"+color.END)\n",
    "print(f\"Black body + Powerlaw : L_x-ray = {Luminosity_pow} erg/s\")\n",
    "\n",
    "\"\"\"Alert file\"\"\"\n",
    "Fx = 2.3*10**(-12)\n",
    "Lx = 4*np.pi*Fx*(d_cm)**2 # erg/s\n",
    "print(f\"Alert file : L_x = {Lx} erg/s\")"
   ]
  }
 ],
 "metadata": {
  "kernelspec": {
   "display_name": "Python 3 (ipykernel)",
   "language": "python",
   "name": "python3"
  },
  "language_info": {
   "codemirror_mode": {
    "name": "ipython",
    "version": 3
   },
   "file_extension": ".py",
   "mimetype": "text/x-python",
   "name": "python",
   "nbconvert_exporter": "python",
   "pygments_lexer": "ipython3",
   "version": "3.10.12"
  }
 },
 "nbformat": 4,
 "nbformat_minor": 5
}
